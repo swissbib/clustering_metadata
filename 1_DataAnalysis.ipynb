{
 "cells": [
  {
   "cell_type": "markdown",
   "metadata": {},
   "source": [
    "# Data Analysis"
   ]
  },
  {
   "cell_type": "markdown",
   "metadata": {},
   "source": [
    "For understanding the bibliographic catalogue data of the Swissbib platform, the project team has generated a sample .json file with a big amount of representative records. This chapter shows the analysis of this data delivery."
   ]
  },
  {
   "cell_type": "markdown",
   "metadata": {},
   "source": [
    "## Table of Contents\n",
    "\n",
    "- [Sample Records Analysis](#Sample-Records-Analysis)\n",
    "    - [Book](#Book)\n",
    "    - [Music](#Music)\n",
    "    - [Video Material](#Video-Material)\n",
    "    - [Map](#Map)\n",
    "    - [Periodical](#Periodical)\n",
    "    - [Collection](#Collection)\n",
    "    - [Computer File](#Computer-File)\n",
    "- [General Observation](#General-Observation)\n",
    "- [Attribute Analysis](#Attribute-Analysis)\n",
    "    - [Table of Contents of Attribute Analysis](#Table-of-Contents-of-Attribute-Analysis)\n",
    "- [Metadata Handover](#Metadata-Handover)\n",
    "- [Summary](#Summary)"
   ]
  },
  {
   "cell_type": "markdown",
   "metadata": {},
   "source": [
    "## Sample Records Analysis"
   ]
  },
  {
   "cell_type": "markdown",
   "metadata": {},
   "source": [
    "In this section, the data file is loaded and some sample data records are shown."
   ]
  },
  {
   "cell_type": "code",
   "execution_count": 1,
   "metadata": {},
   "outputs": [
    {
     "name": "stdout",
     "output_type": "stream",
     "text": [
      "Number of data records loaded 183407\n"
     ]
    }
   ],
   "source": [
    "import os\n",
    "import json\n",
    "\n",
    "records = []\n",
    "path_data = './data'\n",
    "path_goldstandard = './daten_goldstandard'\n",
    "\n",
    "for line in open(os.path.join(path_data, 'job7r4A1.json'), 'r'):\n",
    "    records.append(json.loads(line))\n",
    "\n",
    "print('Number of data records loaded', len(records))"
   ]
  },
  {
   "cell_type": "code",
   "execution_count": 2,
   "metadata": {},
   "outputs": [
    {
     "data": {
      "text/html": [
       "<div>\n",
       "<style scoped>\n",
       "    .dataframe tbody tr th:only-of-type {\n",
       "        vertical-align: middle;\n",
       "    }\n",
       "\n",
       "    .dataframe tbody tr th {\n",
       "        vertical-align: top;\n",
       "    }\n",
       "\n",
       "    .dataframe thead th {\n",
       "        text-align: right;\n",
       "    }\n",
       "</style>\n",
       "<table border=\"1\" class=\"dataframe\">\n",
       "  <thead>\n",
       "    <tr style=\"text-align: right;\">\n",
       "      <th></th>\n",
       "      <th>docid</th>\n",
       "      <th>035liste</th>\n",
       "      <th>isbn</th>\n",
       "      <th>ttlfull</th>\n",
       "      <th>ttlpart</th>\n",
       "      <th>person</th>\n",
       "      <th>corporate</th>\n",
       "      <th>pubyear</th>\n",
       "      <th>decade</th>\n",
       "      <th>century</th>\n",
       "      <th>exactDate</th>\n",
       "      <th>edition</th>\n",
       "      <th>part</th>\n",
       "      <th>pages</th>\n",
       "      <th>volumes</th>\n",
       "      <th>pubinit</th>\n",
       "      <th>pubword</th>\n",
       "      <th>scale</th>\n",
       "      <th>coordinate</th>\n",
       "      <th>doi</th>\n",
       "      <th>ismn</th>\n",
       "      <th>musicid</th>\n",
       "      <th>format</th>\n",
       "    </tr>\n",
       "  </thead>\n",
       "  <tbody>\n",
       "    <tr>\n",
       "      <th>0</th>\n",
       "      <td>554061449</td>\n",
       "      <td>[(OCoLC)1085491204, (IDSBB)006899773]</td>\n",
       "      <td>[]</td>\n",
       "      <td>{'245': ['Die Feist von Kienberg', 'eine Wasen...</td>\n",
       "      <td>{'245': ['Die Feist von Kienberg', 'eine Wasen...</td>\n",
       "      <td>{'100': ['SchluchterAndré'], '245c': ['André S...</td>\n",
       "      <td>{}</td>\n",
       "      <td>1992</td>\n",
       "      <td>1992</td>\n",
       "      <td>1992</td>\n",
       "      <td>1992</td>\n",
       "      <td></td>\n",
       "      <td>[]</td>\n",
       "      <td>[S. 102-114]</td>\n",
       "      <td>[S. 102-114]</td>\n",
       "      <td>[]</td>\n",
       "      <td>[]</td>\n",
       "      <td></td>\n",
       "      <td>[]</td>\n",
       "      <td>[]</td>\n",
       "      <td>[]</td>\n",
       "      <td></td>\n",
       "      <td>[BK020000]</td>\n",
       "    </tr>\n",
       "    <tr>\n",
       "      <th>1</th>\n",
       "      <td>554061481</td>\n",
       "      <td>[(OCoLC)1085491341, (IDSBB)006899983]</td>\n",
       "      <td>[]</td>\n",
       "      <td>{'245': ['Reimereien']}</td>\n",
       "      <td>{'245': ['Reimereien']}</td>\n",
       "      <td>{'100': ['NaegeliWerner'], '245c': ['von Werne...</td>\n",
       "      <td>{}</td>\n",
       "      <td>1986</td>\n",
       "      <td>1986</td>\n",
       "      <td>1986</td>\n",
       "      <td>1986</td>\n",
       "      <td></td>\n",
       "      <td>[]</td>\n",
       "      <td>[43 S.]</td>\n",
       "      <td>[43 S.]</td>\n",
       "      <td>[]</td>\n",
       "      <td>[]</td>\n",
       "      <td></td>\n",
       "      <td>[]</td>\n",
       "      <td>[]</td>\n",
       "      <td>[]</td>\n",
       "      <td></td>\n",
       "      <td>[BK020000]</td>\n",
       "    </tr>\n",
       "    <tr>\n",
       "      <th>2</th>\n",
       "      <td>554061503</td>\n",
       "      <td>[(OCoLC)1085491299, (IDSBB)006899959]</td>\n",
       "      <td>[]</td>\n",
       "      <td>{'245': ['Efficax antidotum ad matrimonia mixt...</td>\n",
       "      <td>{'245': ['Efficax antidotum ad matrimonia mixt...</td>\n",
       "      <td>{'100': ['KellyM.V.'], '700': ['GeniesseJ.B.']...</td>\n",
       "      <td>{}</td>\n",
       "      <td>1923</td>\n",
       "      <td>1923</td>\n",
       "      <td>1923</td>\n",
       "      <td>1923</td>\n",
       "      <td></td>\n",
       "      <td>[]</td>\n",
       "      <td>[75 p.]</td>\n",
       "      <td>[75 p.]</td>\n",
       "      <td>[]</td>\n",
       "      <td>[]</td>\n",
       "      <td></td>\n",
       "      <td>[]</td>\n",
       "      <td>[]</td>\n",
       "      <td>[]</td>\n",
       "      <td></td>\n",
       "      <td>[BK020000]</td>\n",
       "    </tr>\n",
       "    <tr>\n",
       "      <th>3</th>\n",
       "      <td>554061511</td>\n",
       "      <td>[(OCoLC)1085491268, (IDSBB)006896614]</td>\n",
       "      <td>[]</td>\n",
       "      <td>{'245': ['Probleme der Inflationsbekämpfung', ...</td>\n",
       "      <td>{'245': ['Probleme der Inflationsbekämpfung', ...</td>\n",
       "      <td>{'100': ['WegelinWalter'], '245c': ['']}</td>\n",
       "      <td>{}</td>\n",
       "      <td>1947</td>\n",
       "      <td>1947</td>\n",
       "      <td>1947</td>\n",
       "      <td>1947</td>\n",
       "      <td></td>\n",
       "      <td>[]</td>\n",
       "      <td>[24 S.]</td>\n",
       "      <td>[24 S.]</td>\n",
       "      <td>[]</td>\n",
       "      <td>[]</td>\n",
       "      <td></td>\n",
       "      <td>[]</td>\n",
       "      <td>[]</td>\n",
       "      <td>[]</td>\n",
       "      <td></td>\n",
       "      <td>[BK020000]</td>\n",
       "    </tr>\n",
       "    <tr>\n",
       "      <th>4</th>\n",
       "      <td>55406152X</td>\n",
       "      <td>[(OCoLC)1085491079, (IDSBB)006896866]</td>\n",
       "      <td>[]</td>\n",
       "      <td>{'245': ['[Poems]']}</td>\n",
       "      <td>{'245': ['[Poems]']}</td>\n",
       "      <td>{'100': ['OberlinUrs'], '245c': ['Urs Oberlin ...</td>\n",
       "      <td>{}</td>\n",
       "      <td>1991</td>\n",
       "      <td>1991</td>\n",
       "      <td>1991</td>\n",
       "      <td>1991</td>\n",
       "      <td></td>\n",
       "      <td>[]</td>\n",
       "      <td>[p. 14-15]</td>\n",
       "      <td>[p. 14-15]</td>\n",
       "      <td>[]</td>\n",
       "      <td>[]</td>\n",
       "      <td></td>\n",
       "      <td>[]</td>\n",
       "      <td>[]</td>\n",
       "      <td>[]</td>\n",
       "      <td></td>\n",
       "      <td>[BK020000]</td>\n",
       "    </tr>\n",
       "  </tbody>\n",
       "</table>\n",
       "</div>"
      ],
      "text/plain": [
       "       docid                               035liste isbn  \\\n",
       "0  554061449  [(OCoLC)1085491204, (IDSBB)006899773]   []   \n",
       "1  554061481  [(OCoLC)1085491341, (IDSBB)006899983]   []   \n",
       "2  554061503  [(OCoLC)1085491299, (IDSBB)006899959]   []   \n",
       "3  554061511  [(OCoLC)1085491268, (IDSBB)006896614]   []   \n",
       "4  55406152X  [(OCoLC)1085491079, (IDSBB)006896866]   []   \n",
       "\n",
       "                                             ttlfull  \\\n",
       "0  {'245': ['Die Feist von Kienberg', 'eine Wasen...   \n",
       "1                            {'245': ['Reimereien']}   \n",
       "2  {'245': ['Efficax antidotum ad matrimonia mixt...   \n",
       "3  {'245': ['Probleme der Inflationsbekämpfung', ...   \n",
       "4                               {'245': ['[Poems]']}   \n",
       "\n",
       "                                             ttlpart  \\\n",
       "0  {'245': ['Die Feist von Kienberg', 'eine Wasen...   \n",
       "1                            {'245': ['Reimereien']}   \n",
       "2  {'245': ['Efficax antidotum ad matrimonia mixt...   \n",
       "3  {'245': ['Probleme der Inflationsbekämpfung', ...   \n",
       "4                               {'245': ['[Poems]']}   \n",
       "\n",
       "                                              person corporate   pubyear  \\\n",
       "0  {'100': ['SchluchterAndré'], '245c': ['André S...        {}  1992       \n",
       "1  {'100': ['NaegeliWerner'], '245c': ['von Werne...        {}  1986       \n",
       "2  {'100': ['KellyM.V.'], '700': ['GeniesseJ.B.']...        {}  1923       \n",
       "3           {'100': ['WegelinWalter'], '245c': ['']}        {}  1947       \n",
       "4  {'100': ['OberlinUrs'], '245c': ['Urs Oberlin ...        {}  1991       \n",
       "\n",
       "  decade century exactDate edition part         pages       volumes pubinit  \\\n",
       "0   1992    1992  1992               []  [S. 102-114]  [S. 102-114]      []   \n",
       "1   1986    1986  1986               []       [43 S.]       [43 S.]      []   \n",
       "2   1923    1923  1923               []       [75 p.]       [75 p.]      []   \n",
       "3   1947    1947  1947               []       [24 S.]       [24 S.]      []   \n",
       "4   1991    1991  1991               []    [p. 14-15]    [p. 14-15]      []   \n",
       "\n",
       "  pubword scale coordinate doi ismn musicid      format  \n",
       "0      []               []  []   []          [BK020000]  \n",
       "1      []               []  []   []          [BK020000]  \n",
       "2      []               []  []   []          [BK020000]  \n",
       "3      []               []  []   []          [BK020000]  \n",
       "4      []               []  []   []          [BK020000]  "
      ]
     },
     "execution_count": 2,
     "metadata": {},
     "output_type": "execute_result"
    }
   ],
   "source": [
    "import pandas as pd\n",
    "\n",
    "# Generate Pandas DataFrame object out of the raw data\n",
    "df = pd.DataFrame(records)\n",
    "\n",
    "# Extend display to number of columns of DataFrame\n",
    "pd.options.display.max_columns = len(df.columns)\n",
    "\n",
    "df.head()"
   ]
  },
  {
   "cell_type": "code",
   "execution_count": 3,
   "metadata": {},
   "outputs": [
    {
     "name": "stdout",
     "output_type": "stream",
     "text": [
      "Number of records 183407, number of attributes per record 23.\n",
      "\n",
      "<class 'pandas.core.frame.DataFrame'>\n",
      "RangeIndex: 183407 entries, 0 to 183406\n",
      "Data columns (total 23 columns):\n",
      "docid         183407 non-null object\n",
      "035liste      183407 non-null object\n",
      "isbn          183407 non-null object\n",
      "ttlfull       183407 non-null object\n",
      "ttlpart       183407 non-null object\n",
      "person        183407 non-null object\n",
      "corporate     183407 non-null object\n",
      "pubyear       183407 non-null object\n",
      "decade        183407 non-null object\n",
      "century       183407 non-null object\n",
      "exactDate     183407 non-null object\n",
      "edition       183407 non-null object\n",
      "part          183407 non-null object\n",
      "pages         183407 non-null object\n",
      "volumes       183407 non-null object\n",
      "pubinit       183407 non-null object\n",
      "pubword       183407 non-null object\n",
      "scale         183407 non-null object\n",
      "coordinate    183407 non-null object\n",
      "doi           183407 non-null object\n",
      "ismn          183407 non-null object\n",
      "musicid       183407 non-null object\n",
      "format        183407 non-null object\n",
      "dtypes: object(23)\n",
      "memory usage: 32.2+ MB\n"
     ]
    }
   ],
   "source": [
    "print('Number of records {:d}, number of attributes per record {:d}.\\n'.format(\n",
    "    len(df), len(df.columns)))\n",
    "\n",
    "df.info()"
   ]
  },
  {
   "cell_type": "markdown",
   "metadata": {},
   "source": [
    "Swissbib data describes different kinds of bibliographic units, see [format](#format). The following subsections show some sample data for such units. The format is interpreted roughly in these subsections, compare Swissbib's [format codes](http://www.swissbib.org/wiki/index.php?title=Filtering#format_codes) [[FeatWiki](./A_References.ipynb#feature_deduplication_wiki)]."
   ]
  },
  {
   "cell_type": "code",
   "execution_count": 4,
   "metadata": {},
   "outputs": [
    {
     "data": {
      "text/plain": [
       "array(['BK', 'MU', 'VM', 'MP', 'CR', 'CL', 'CF', nan], dtype=object)"
      ]
     },
     "execution_count": 4,
     "metadata": {},
     "output_type": "execute_result"
    }
   ],
   "source": [
    "df.format.str[0].str[:2].unique()"
   ]
  },
  {
   "cell_type": "markdown",
   "metadata": {},
   "source": [
    "### Book"
   ]
  },
  {
   "cell_type": "markdown",
   "metadata": {},
   "source": [
    "A format code starting with $\\texttt{BK}$ stands for a bibliographic unit of a book or an article. A sample record is shown below."
   ]
  },
  {
   "cell_type": "code",
   "execution_count": 5,
   "metadata": {},
   "outputs": [
    {
     "data": {
      "text/plain": [
       "docid                                                 554061449\n",
       "035liste                  [(OCoLC)1085491204, (IDSBB)006899773]\n",
       "isbn                                                         []\n",
       "ttlfull       {'245': ['Die Feist von Kienberg', 'eine Wasen...\n",
       "ttlpart       {'245': ['Die Feist von Kienberg', 'eine Wasen...\n",
       "person        {'100': ['SchluchterAndré'], '245c': ['André S...\n",
       "corporate                                                    {}\n",
       "pubyear                                                1992    \n",
       "decade                                                     1992\n",
       "century                                                    1992\n",
       "exactDate                                              1992    \n",
       "edition                                                        \n",
       "part                                                         []\n",
       "pages                                              [S. 102-114]\n",
       "volumes                                            [S. 102-114]\n",
       "pubinit                                                      []\n",
       "pubword                                                      []\n",
       "scale                                                          \n",
       "coordinate                                                   []\n",
       "doi                                                          []\n",
       "ismn                                                         []\n",
       "musicid                                                        \n",
       "format                                               [BK020000]\n",
       "Name: 0, dtype: object"
      ]
     },
     "execution_count": 5,
     "metadata": {},
     "output_type": "execute_result"
    }
   ],
   "source": [
    "df.loc[df[df.format.str[0].str[:2]=='BK'].index[0]]"
   ]
  },
  {
   "cell_type": "markdown",
   "metadata": {},
   "source": [
    "### Music"
   ]
  },
  {
   "cell_type": "markdown",
   "metadata": {},
   "source": [
    "A format code starting with $\\texttt{MU}$ stands for a bibliographic unit that is related to music. A sample record is shown below."
   ]
  },
  {
   "cell_type": "code",
   "execution_count": 6,
   "metadata": {},
   "outputs": [
    {
     "data": {
      "text/plain": [
       "docid                                                 554098806\n",
       "035liste                  [(OCoLC)1085495414, (IDSBB)007052696]\n",
       "isbn                                                         []\n",
       "ttlfull                             {'245': ['Violin sonatas']}\n",
       "ttlpart                             {'245': ['Violin sonatas']}\n",
       "person        {'100': ['BrahmsJohannes1833-1897(DE-588)11851...\n",
       "corporate                                                    {}\n",
       "pubyear                                                20182018\n",
       "decade                                                     2018\n",
       "century                                                    2018\n",
       "exactDate                                              20182018\n",
       "edition                                                        \n",
       "part                                                         []\n",
       "pages                                            [1 CD (69:42)]\n",
       "volumes                                          [1 CD (69:42)]\n",
       "pubinit                                                      []\n",
       "pubword                                                      []\n",
       "scale                                                          \n",
       "coordinate                                                   []\n",
       "doi                                                          []\n",
       "ismn                                                         []\n",
       "musicid                                              GCD 924201\n",
       "format                                               [MU040100]\n",
       "Name: 1788, dtype: object"
      ]
     },
     "execution_count": 6,
     "metadata": {},
     "output_type": "execute_result"
    }
   ],
   "source": [
    "df.loc[df[df.format.str[0].str[:2]=='MU'].index[0]]"
   ]
  },
  {
   "cell_type": "markdown",
   "metadata": {},
   "source": [
    "### Video Material"
   ]
  },
  {
   "cell_type": "markdown",
   "metadata": {},
   "source": [
    "A format code starting with $\\texttt{VM}$ represents some film material. A sample record is shown below."
   ]
  },
  {
   "cell_type": "code",
   "execution_count": 7,
   "metadata": {},
   "outputs": [
    {
     "data": {
      "text/plain": [
       "docid                                                 554098911\n",
       "035liste      [(OCoLC)1065768412, (IDSBB)007052702, (OCoLC)1...\n",
       "isbn                         [978-3-946274-20-9, 3-946274-20-X]\n",
       "ttlfull       {'245': ['Kunst und Gemüse, A. Hipler', 'Art a...\n",
       "ttlpart       {'245': ['Kunst und Gemüse, A. Hipler', 'Art a...\n",
       "person        {'100': [], '700': ['SchlingensiefChristoph196...\n",
       "corporate                                                    {}\n",
       "pubyear                                                20182008\n",
       "decade                                                     2018\n",
       "century                                                    2018\n",
       "exactDate                                              20182008\n",
       "edition                                                        \n",
       "part                                                     [2004]\n",
       "pages                                  [2 DVD-Videos (283 min)]\n",
       "volumes                                [2 DVD-Videos (283 min)]\n",
       "pubinit                                                      []\n",
       "pubword                                                      []\n",
       "scale                                                          \n",
       "coordinate                                                   []\n",
       "doi                                                          []\n",
       "ismn                                                         []\n",
       "musicid                                                        \n",
       "format                                               [VM010000]\n",
       "Name: 1795, dtype: object"
      ]
     },
     "execution_count": 7,
     "metadata": {},
     "output_type": "execute_result"
    }
   ],
   "source": [
    "df.loc[df[df.format.str[0].str[:2]=='VM'].index[0]]"
   ]
  },
  {
   "cell_type": "markdown",
   "metadata": {},
   "source": [
    "### Map"
   ]
  },
  {
   "cell_type": "markdown",
   "metadata": {},
   "source": [
    "A format code starting with $\\texttt{MP}$ is a map. A sample record is shown below."
   ]
  },
  {
   "cell_type": "code",
   "execution_count": 8,
   "metadata": {},
   "outputs": [
    {
     "data": {
      "text/plain": [
       "docid                                                 554099039\n",
       "035liste                  [(OCoLC)1085495396, (IDSBB)007052708]\n",
       "isbn                                                         []\n",
       "ttlfull       {'245': ['Nova descriptio Comitatus Hollandiæ'...\n",
       "ttlpart       {'245': ['Nova descriptio Comitatus Hollandiæ'...\n",
       "person        {'100': ['BlaeuWillem Janszoon1571-1638(DE-588...\n",
       "corporate                                                    {}\n",
       "pubyear                                                19931604\n",
       "decade                                                     1993\n",
       "century                                                    1993\n",
       "exactDate                                              19931604\n",
       "edition                                               Facsimile\n",
       "part                                                         []\n",
       "pages                                                 [1 Karte]\n",
       "volumes                                               [1 Karte]\n",
       "pubinit                                                      []\n",
       "pubword                                                      []\n",
       "scale                                                    400000\n",
       "coordinate                                 [E0035400, N0532700]\n",
       "doi                                                          []\n",
       "ismn                                                         []\n",
       "musicid                                                        \n",
       "format                                               [MP010300]\n",
       "Name: 1801, dtype: object"
      ]
     },
     "execution_count": 8,
     "metadata": {},
     "output_type": "execute_result"
    }
   ],
   "source": [
    "df.loc[df[df.format.str[0].str[:2]=='MP'].index[0]]"
   ]
  },
  {
   "cell_type": "markdown",
   "metadata": {},
   "source": [
    "### Periodical"
   ]
  },
  {
   "cell_type": "markdown",
   "metadata": {},
   "source": [
    "A format code starting with $\\texttt{CR}$ is a bibliographic unit of a periodical. A sample record is shown below."
   ]
  },
  {
   "cell_type": "code",
   "execution_count": 9,
   "metadata": {},
   "outputs": [
    {
     "data": {
      "text/plain": [
       "docid                                                 55409939X\n",
       "035liste                   [(OCoLC)699516877, (IDSBB)007052728]\n",
       "isbn                                                [1533-4406]\n",
       "ttlfull       {'245': ['The new England journal of medicine ...\n",
       "ttlpart       {'245': ['The new England journal of medicine ...\n",
       "person                                {'100': [], '245c': ['']}\n",
       "corporate                                                    {}\n",
       "pubyear                                                18121826\n",
       "decade                                                     1812\n",
       "century                                                    1812\n",
       "exactDate                                              18121826\n",
       "edition                                                        \n",
       "part                                                         []\n",
       "pages                                        [Online-Ressource]\n",
       "volumes                                      [Online-Ressource]\n",
       "pubinit                                                      []\n",
       "pubword                                                      []\n",
       "scale                                                          \n",
       "coordinate                                                   []\n",
       "doi                                                          []\n",
       "ismn                                                         []\n",
       "musicid                                                        \n",
       "format                                               [CR030653]\n",
       "Name: 1825, dtype: object"
      ]
     },
     "execution_count": 9,
     "metadata": {},
     "output_type": "execute_result"
    }
   ],
   "source": [
    "df.loc[df[df.format.str[0].str[:2]=='CR'].index[0]]"
   ]
  },
  {
   "cell_type": "markdown",
   "metadata": {},
   "source": [
    "### Collection"
   ]
  },
  {
   "cell_type": "markdown",
   "metadata": {},
   "source": [
    "A format code starting with $\\texttt{CL}$ is a collection. A sample record is shown below."
   ]
  },
  {
   "cell_type": "code",
   "execution_count": 10,
   "metadata": {},
   "outputs": [
    {
     "data": {
      "text/plain": [
       "docid                                                 554101610\n",
       "035liste                  [(OCoLC)1085510940, (IDSBB)007052979]\n",
       "isbn                                                         []\n",
       "ttlfull       {'245': ['[St. Gallischer Hilfsverein - Sankt ...\n",
       "ttlpart       {'245': ['[St. Gallischer Hilfsverein - Sankt ...\n",
       "person                                {'100': [], '245c': ['']}\n",
       "corporate               {'110': ['St. Gallischer Hilfsverein']}\n",
       "pubyear                                                20179999\n",
       "decade                                                     2017\n",
       "century                                                    2017\n",
       "exactDate                                              20179999\n",
       "edition                                                        \n",
       "part                                                         []\n",
       "pages                                                 [1 Mappe]\n",
       "volumes                                               [1 Mappe]\n",
       "pubinit                                                      []\n",
       "pubword                                                      []\n",
       "scale                                                          \n",
       "coordinate                                                   []\n",
       "doi                                                          []\n",
       "ismn                                                         []\n",
       "musicid                                                        \n",
       "format                                               [CL010000]\n",
       "Name: 1955, dtype: object"
      ]
     },
     "execution_count": 10,
     "metadata": {},
     "output_type": "execute_result"
    }
   ],
   "source": [
    "df.loc[df[df.format.str[0].str[:2]=='CL'].index[0]]"
   ]
  },
  {
   "cell_type": "markdown",
   "metadata": {},
   "source": [
    "### Computer File"
   ]
  },
  {
   "cell_type": "markdown",
   "metadata": {},
   "source": [
    "A format code starting with $\\texttt{CF}$ is a placeholder for a computer file on any kind of storage. A sample record is shown below."
   ]
  },
  {
   "cell_type": "code",
   "execution_count": 11,
   "metadata": {},
   "outputs": [
    {
     "data": {
      "text/plain": [
       "docid                                                 554144301\n",
       "035liste                   [(IDSBB)007008154, (RERO)R007245313]\n",
       "isbn                                                         []\n",
       "ttlfull       {'245': ['Ice Age 4', 'voll verschoben : die a...\n",
       "ttlpart       {'245': ['Ice Age 4', 'voll verschoben : die a...\n",
       "person                                {'100': [], '245c': ['']}\n",
       "corporate                                                    {}\n",
       "pubyear                                                2012    \n",
       "decade                                                     2012\n",
       "century                                                    2012\n",
       "exactDate                                              2012    \n",
       "edition                                                        \n",
       "part                                                         []\n",
       "pages                                         [1 Speicherkarte]\n",
       "volumes                                       [1 Speicherkarte]\n",
       "pubinit                                                      []\n",
       "pubword                                                      []\n",
       "scale                                                          \n",
       "coordinate                                                   []\n",
       "doi                                                          []\n",
       "ismn                                                         []\n",
       "musicid                                                        \n",
       "format                                               [CF010000]\n",
       "Name: 5947, dtype: object"
      ]
     },
     "execution_count": 11,
     "metadata": {},
     "output_type": "execute_result"
    }
   ],
   "source": [
    "df.loc[df[df.format.str[0].str[:2]=='CF'].index[0]]"
   ]
  },
  {
   "cell_type": "markdown",
   "metadata": {},
   "source": [
    "## General Observation"
   ]
  },
  {
   "cell_type": "markdown",
   "metadata": {},
   "source": [
    "As can be observed in the sample records displayed above, the attributes of the records are stored in basic Python datatypes like strings, lists (of strings), and dictionaries. A look into the raw data file confirms this observation."
   ]
  },
  {
   "cell_type": "code",
   "execution_count": 12,
   "metadata": {},
   "outputs": [
    {
     "name": "stdout",
     "output_type": "stream",
     "text": [
      "{\"docid\":\"554061449\",\"035liste\":[\"(OCoLC)1085491204\",\"(IDSBB)006899773\"],\"isbn\":[],\"ttlfull\":{\"245\":[\"Die Feist von Kienberg\",\"eine Wasenmeisterfamilie im Ancien Régime zwischen Ehrbarkeit und Delinquenz\"]},\"ttlpart\":{\"245\":[\"Die Feist von Kienberg\",\"eine Wasenmeisterfamilie im Ancien Régime zwischen Ehrbarkeit und Delinquenz\"]},\"person\":{\"100\":[\"SchluchterAndré\"],\"245c\":[\"André Schluchter\"]},\"corporate\":{},\"pubyear\":\"1992    \",\"decade\":\"1992\",\"century\":\"1992\",\"exactDate\":\"1992    \",\"edition\":\"\",\"part\":[],\"pages\":[\"S. 102-114\"],\"volumes\":[\"S. 102-114\"],\"pubinit\":[],\"pubword\":[],\"scale\":\"\",\"coordinate\":[],\"doi\":[],\"ismn\":[],\"musicid\":\"\",\"format\":[\"BK020000\"]}\r\n",
      "{\"docid\":\"554061481\",\"035liste\":[\"(OCoLC)1085491341\",\"(IDSBB)006899983\"],\"isbn\":[],\"ttlfull\":{\"245\":[\"Reimereien\"]},\"ttlpart\":{\"245\":[\"Reimereien\"]},\"person\":{\"100\":[\"NaegeliWerner\"],\"245c\":[\"von Werner Naegeli\"]},\"corporate\":{},\"pubyear\":\"1986    \",\"decade\":\"1986\",\"century\":\"1986\",\"exactDate\":\"1986    \",\"edition\":\"\",\"part\":[],\"pages\":[\"43 S.\"],\"volumes\":[\"43 S.\"],\"pubinit\":[],\"pubword\":[],\"scale\":\"\",\"coordinate\":[],\"doi\":[],\"ismn\":[],\"musicid\":\"\",\"format\":[\"BK020000\"]}\r\n"
     ]
    }
   ],
   "source": [
    "! head -n 2 ./data/job7r4A1.json"
   ]
  },
  {
   "cell_type": "markdown",
   "metadata": {},
   "source": [
    "A specific analysis on each attribute, its meaning and contents will be done as a next step. For the upcoming analysis, each attribute of the data records is assigned to its specific group type. This is done with the help of a global dictionary variable $\\texttt{columns}\\_\\texttt{metadata}\\_\\texttt{dict}$."
   ]
  },
  {
   "cell_type": "code",
   "execution_count": 13,
   "metadata": {},
   "outputs": [],
   "source": [
    "columns_metadata_dict = {}"
   ]
  },
  {
   "cell_type": "markdown",
   "metadata": {},
   "source": [
    "## Attribute Analysis"
   ]
  },
  {
   "cell_type": "markdown",
   "metadata": {},
   "source": [
    "This section analyses the attributes provided by the Swissbib data extracts. The extracted data is used as a basis for the machine learning models in the capstone project. The attributes are based on the MARC 21 Format for Bibliographic Data [[MARC](./A_References.ipynb#marc21)] and are documented on a Swissbib wikipedia page [[FeatWiki](./A_References.ipynb#feature_deduplication_wiki)]."
   ]
  },
  {
   "cell_type": "code",
   "execution_count": 14,
   "metadata": {},
   "outputs": [
    {
     "data": {
      "text/plain": [
       "Index(['docid', '035liste', 'isbn', 'ttlfull', 'ttlpart', 'person',\n",
       "       'corporate', 'pubyear', 'decade', 'century', 'exactDate', 'edition',\n",
       "       'part', 'pages', 'volumes', 'pubinit', 'pubword', 'scale', 'coordinate',\n",
       "       'doi', 'ismn', 'musicid', 'format'],\n",
       "      dtype='object')"
      ]
     },
     "execution_count": 14,
     "metadata": {},
     "output_type": "execute_result"
    }
   ],
   "source": [
    "df.columns"
   ]
  },
  {
   "cell_type": "markdown",
   "metadata": {},
   "source": [
    "This section provides and uses some functions that have been written for supporting the analysis of the attributes as well as for data preprocessing in the upcoming chapters. These functions have been defined in separate code files.\n",
    "\n",
    "- [data_analysis_funcs.py](./data_analysis_funcs.py)\n",
    "- [data_preparation_funcs.py](./data_preparation_funcs.py)"
   ]
  },
  {
   "cell_type": "code",
   "execution_count": 15,
   "metadata": {},
   "outputs": [],
   "source": [
    "import data_analysis_funcs as daf\n",
    "import data_preparation_funcs as dpf"
   ]
  },
  {
   "cell_type": "markdown",
   "metadata": {},
   "source": [
    "### Table of Contents of Attribute Analysis\n",
    "\n",
    "- [035liste](#035liste)\n",
    "- [century](#century)\n",
    "- [coordinate](#coordinate)\n",
    "- [corporate](#corporate)\n",
    "- [decade](#decade)\n",
    "- [docid](#docid)\n",
    "- [doi](#doi)\n",
    "- [edition](#edition)\n",
    "- [exactDate](#exactDate)\n",
    "- [format](#format)\n",
    "- [isbn](#isbn)\n",
    "- [ismn](#ismn)\n",
    "- [musicid](#musicid)\n",
    "- [pages](#pages)\n",
    "- [part](#part)\n",
    "- [person](#person)\n",
    "- [pubinit](#pubinit)\n",
    "- [pubword](#pubword)\n",
    "- [pubyear](#pubyear)\n",
    "- [scale](#scale)\n",
    "- [ttlfull](#ttlfull)\n",
    "- [ttlpart](#ttlpart)\n",
    "- [volumes](#volumes)"
   ]
  },
  {
   "cell_type": "markdown",
   "metadata": {},
   "source": [
    "### 035liste"
   ]
  },
  {
   "cell_type": "code",
   "execution_count": 16,
   "metadata": {},
   "outputs": [],
   "source": [
    "columns_metadata_dict['list_columns'] = ['035liste']"
   ]
  },
  {
   "cell_type": "markdown",
   "metadata": {},
   "source": [
    "Attribute $\\texttt{035liste}$ holds a list of identifiers from the originating library of a bibliographic unit, see [[FeatWiki](./A_References.ipynb/#feature_deduplication_wiki)]. Each record of the Swissbib data holds at least one identifier. Some examples are shown below."
   ]
  },
  {
   "cell_type": "code",
   "execution_count": 17,
   "metadata": {},
   "outputs": [
    {
     "name": "stdout",
     "output_type": "stream",
     "text": [
      "Number of records with filled 035liste 183407, with missing 035liste 0 => 100.0%\n"
     ]
    }
   ],
   "source": [
    "_, _ = daf.find_empty_in_column(df, columns_metadata_dict, '035liste')"
   ]
  },
  {
   "cell_type": "code",
   "execution_count": 18,
   "metadata": {},
   "outputs": [
    {
     "data": {
      "text/plain": [
       "83463     1\n",
       "150669    1\n",
       "150668    1\n",
       "150667    1\n",
       "150666    1\n",
       "Name: 035liste, dtype: int64"
      ]
     },
     "execution_count": 18,
     "metadata": {},
     "output_type": "execute_result"
    }
   ],
   "source": [
    "df['035liste'].apply(lambda x : len(x)).sort_values().head(5)"
   ]
  },
  {
   "cell_type": "code",
   "execution_count": 19,
   "metadata": {},
   "outputs": [
    {
     "data": {
      "text/plain": [
       "144185    20\n",
       "54084     21\n",
       "30793     21\n",
       "136608    21\n",
       "61603     21\n",
       "14755     21\n",
       "49974     22\n",
       "139972    22\n",
       "139191    23\n",
       "124359    23\n",
       "Name: 035liste, dtype: int64"
      ]
     },
     "execution_count": 19,
     "metadata": {},
     "output_type": "execute_result"
    }
   ],
   "source": [
    "df['035liste'].apply(lambda x : len(x)).sort_values().tail(10)"
   ]
  },
  {
   "cell_type": "code",
   "execution_count": 20,
   "metadata": {},
   "outputs": [
    {
     "name": "stdout",
     "output_type": "stream",
     "text": [
      "Some sample identifiers:\n"
     ]
    },
    {
     "data": {
      "text/plain": [
       "161074                                         [(CEO)72224]\n",
       "114736    [(OCoLC)1083702592, (IDSBB)007067562, (OCoLC)1...\n",
       "144578    [(VAUDS)991002865954102853, (RERO)R008767484, ...\n",
       "136713    [(SERSOL)ssib007875833, (VAUD)9910212175197028...\n",
       "106194    [(SNL)991017950417703976, (Sz)991017950417703976]\n",
       "30278     [(VAUDS)991002861957802853, (EXLNZ-41BCULAUSA_...\n",
       "175433                    [(ALEX)9933034101791, (CEO)79000]\n",
       "71096                                    [(IDSBB)004867240]\n",
       "26250                  [(IDSLU)000007453, (IDSBB)004593830]\n",
       "153596                                         [(CEO)45231]\n",
       "Name: 035liste, dtype: object"
      ]
     },
     "execution_count": 20,
     "metadata": {},
     "output_type": "execute_result"
    }
   ],
   "source": [
    "print('Some sample identifiers:')\n",
    "df['035liste'].sample(n=10)"
   ]
  },
  {
   "cell_type": "markdown",
   "metadata": {},
   "source": [
    "Attribute $\\texttt{035liste}$ is the central attribute for finding duplicates in the training data of the Swissbib's goldstandard. This process will be explained and implemented in chapter [Goldstandard and Data Preparation](./2_GoldstandardDataPreparation.ipynb)."
   ]
  },
  {
   "cell_type": "markdown",
   "metadata": {},
   "source": [
    "### century"
   ]
  },
  {
   "cell_type": "code",
   "execution_count": 21,
   "metadata": {},
   "outputs": [],
   "source": [
    "columns_metadata_dict['strings_columns'] = ['century']"
   ]
  },
  {
   "cell_type": "code",
   "execution_count": 22,
   "metadata": {},
   "outputs": [
    {
     "name": "stdout",
     "output_type": "stream",
     "text": [
      "Number of records with filled century 183407, with missing century 0 => 100.0%\n",
      "\n",
      "EMPTY - None\n",
      "\n",
      "FILLED - index 0 \n",
      "\n",
      "docid                                                 554061449\n",
      "035liste                  [(OCoLC)1085491204, (IDSBB)006899773]\n",
      "isbn                                                         []\n",
      "ttlfull       {'245': ['Die Feist von Kienberg', 'eine Wasen...\n",
      "ttlpart       {'245': ['Die Feist von Kienberg', 'eine Wasen...\n",
      "person        {'100': ['SchluchterAndré'], '245c': ['André S...\n",
      "corporate                                                    {}\n",
      "pubyear                                                1992    \n",
      "decade                                                     1992\n",
      "century                                                    1992\n",
      "exactDate                                              1992    \n",
      "edition                                                        \n",
      "part                                                         []\n",
      "pages                                              [S. 102-114]\n",
      "volumes                                            [S. 102-114]\n",
      "pubinit                                                      []\n",
      "pubword                                                      []\n",
      "scale                                                          \n",
      "coordinate                                                   []\n",
      "doi                                                          []\n",
      "ismn                                                         []\n",
      "musicid                                                        \n",
      "format                                               [BK020000]\n",
      "Name: 0, dtype: object\n"
     ]
    }
   ],
   "source": [
    "idx_century_filled, idx_century_empty = daf.find_empty_in_column(df, columns_metadata_dict, 'century')\n",
    "\n",
    "daf.two_examples(df, idx_century_filled, idx_century_empty)"
   ]
  },
  {
   "cell_type": "markdown",
   "metadata": {},
   "source": [
    "Attribute $\\texttt{century}$ holds information on the year of origin of the bibliographic unit [[FeatWiki](./A_References.ipynb/#feature_deduplication_wiki)]. The attribute holds strings of length 4 that can predominantly be interpreted as year-dates. Some examples and the top-most quantity distribution are shown below."
   ]
  },
  {
   "cell_type": "code",
   "execution_count": 23,
   "metadata": {},
   "outputs": [
    {
     "data": {
      "text/plain": [
       "169744    2002\n",
       "176696    1960\n",
       "165891    1983\n",
       "96247     1982\n",
       "27707     1978\n",
       "99945     2019\n",
       "119723    uuuu\n",
       "169490    2016\n",
       "113914    2018\n",
       "91289     1998\n",
       "19547     1965\n",
       "55997     2005\n",
       "8816      1937\n",
       "104347    2018\n",
       "176588    1992\n",
       "Name: century, dtype: object"
      ]
     },
     "execution_count": 23,
     "metadata": {},
     "output_type": "execute_result"
    }
   ],
   "source": [
    "df['century'].sample(n=15)"
   ]
  },
  {
   "cell_type": "code",
   "execution_count": 24,
   "metadata": {},
   "outputs": [
    {
     "data": {
      "text/plain": [
       "2018    0.208389\n",
       "2019    0.086785\n",
       "2017    0.046350\n",
       "uuuu    0.036236\n",
       "2016    0.025223\n",
       "1999    0.020201\n",
       "2015    0.019879\n",
       "2014    0.018156\n",
       "2012    0.016286\n",
       "2013    0.015616\n",
       "Name: century, dtype: float64"
      ]
     },
     "execution_count": 24,
     "metadata": {},
     "output_type": "execute_result"
    }
   ],
   "source": [
    "df.century.value_counts(normalize=True).head(10)"
   ]
  },
  {
   "cell_type": "markdown",
   "metadata": {},
   "source": [
    "If the year-date is unclear to some extent or no year-date of the unit is registered, letter 'u' is used as a placeholder of the unknown digit."
   ]
  },
  {
   "cell_type": "code",
   "execution_count": 25,
   "metadata": {},
   "outputs": [
    {
     "data": {
      "text/plain": [
       "array(['uuuu', 'u826', '193u', '197u', '192u', '19uu', '200u', '198u',\n",
       "       '189u', '188u', '18uu', '201u', '20uu', 'u829', '195u', '218u',\n",
       "       '196u', '17uu', '1uuu', '199u', 'u611', '191u', '190u', 'u713',\n",
       "       'u999', '194u', 'u693', '186u', '184u', '15uu', 'uuu1'],\n",
       "      dtype=object)"
      ]
     },
     "execution_count": 25,
     "metadata": {},
     "output_type": "execute_result"
    }
   ],
   "source": [
    "df.century[df.century.str.contains('u')].unique()"
   ]
  },
  {
   "cell_type": "markdown",
   "metadata": {},
   "source": [
    "The above statement results in the same array like the following regular expression."
   ]
  },
  {
   "cell_type": "code",
   "execution_count": 26,
   "metadata": {},
   "outputs": [
    {
     "data": {
      "text/plain": [
       "array(['uuuu', 'u826', '193u', '197u', '192u', '19uu', '200u', '198u',\n",
       "       '189u', '188u', '18uu', '201u', '20uu', 'u829', '195u', '218u',\n",
       "       '196u', '17uu', '1uuu', '199u', 'u611', '191u', '190u', 'u713',\n",
       "       'u999', '194u', 'u693', '186u', '184u', '15uu', 'uuu1'],\n",
       "      dtype=object)"
      ]
     },
     "execution_count": 26,
     "metadata": {},
     "output_type": "execute_result"
    }
   ],
   "source": [
    "df.century[df.century.str.contains('[^0-9]')].unique()"
   ]
  },
  {
   "cell_type": "code",
   "execution_count": 27,
   "metadata": {},
   "outputs": [
    {
     "data": {
      "text/plain": [
       "array(['1992', '1986', '1923', '1947', '1991', '1967', '1950', '1985',\n",
       "       '1983', '1942', '1883', '1990', '1984', '1989', '1993', '1961',\n",
       "       '1940', '1981', '1988', '1858', '1978', '1977', '1880', '1945',\n",
       "       '1963', '1912', '1884', '1937', '1956', '1943', '1916', '1960',\n",
       "       '1980', '1936', '1906', '1987', '1955', '1944', '1953', '1930',\n",
       "       '1903', '1913', '1938', '1895', '1905', '1920', '1918', '1857',\n",
       "       '1928', '1881', '1932', '1900', '1924', '1915', '1931', '1927',\n",
       "       '1919', '1896', '1922', '1871', '1926', '1939', '1907', '1776',\n",
       "       '1873', '1893', '1968', '1975', '1946', '1833', '1855', '1949',\n",
       "       '1962', '1971', '1959', '1966', '1862', '1898', '1901', '1904',\n",
       "       '1902', '1951', '1909', '1929', '1921', '1882', '1964', '1911',\n",
       "       '1957', '1897', '1910', '1867', '1914', '1908', '1958', '1934',\n",
       "       '1933', '1872', '1845', '1979', '1954', '1885', '1810', '1891',\n",
       "       '1869', '1876', '1889', '1836', '1952', '1935', '1948', '1917',\n",
       "       '1879', '1887', '1865', '1899', '1892', '1861', '1870', '1894',\n",
       "       '1941', '1925', '1837', '1864', '1846', '1848', '1691', '1657',\n",
       "       '1623', '1590', '1538', '1686', '1544', '1596', '1631', '1580',\n",
       "       '1628', '1793', '1823', '1802', '1831', '1816', '1838', '1825',\n",
       "       '1826', '1839', '1852', '1890', '1820', '1863', '1856', '1683',\n",
       "       '1877', '1835', '1827', '1850', '1841', '1822', '1847', '1834',\n",
       "       '1824', '1840', '1875', '1756', '1752', '1650', '1573', '1528',\n",
       "       '1554', '1552', '1751', '1653', '1798', '1791', '1645', '1814',\n",
       "       '1763', '1695', '1512', '1807', '1698', '1589', '1796', '1712',\n",
       "       '1818', '1773', '1803', '1828', '1806', '1853', '1785', '1744',\n",
       "       '1525', '1779', '1809', '1811', '1714', '1705', '1787', '1874',\n",
       "       '1781', '1888', '1859', '1772', '1771', '1602', '1851', '1784',\n",
       "       '1886', '1774', '1620', '1804', '1582', '1732', '1829', '1800',\n",
       "       '1789', '1842', '1764', '1797', '1805', '1795', '1868', '1758',\n",
       "       '1713', '1741', '1830', '1821', '1670', '1777', '1770', '1711',\n",
       "       '1762', '1768', '1813', '1761', '1819', '1769', '1801', '1832',\n",
       "       '1555', '1532', '1767', '1815', '1812', '1700', '1757', '1799',\n",
       "       '1710', '1843', '1722', '1760', '1701', '1574', '1651', '1733',\n",
       "       '1786', '1665', '1790', '1723', '1860', '1659', '1737', '1750',\n",
       "       '1716', '1739', '1759', '1808', '1728', '1748', '1577', '1706',\n",
       "       '1724', '1604', '1745', '1753', '1766', '1780', '1878', '1788',\n",
       "       '1673', '1735', '1778', '1715', '1782', '1671', '1702', '1731',\n",
       "       '1639', '1982', '1743', '1866', '1676', '1694', '1584', '1854',\n",
       "       '1969', '1690', '1708', '1688', '1565', '1754', '1638', '1755',\n",
       "       '1624', '1674', '1550', '1629', '1747', '1727', '1749', '1562',\n",
       "       '1641', '1617', '1794', '1844', '1783', '1817', '1849', '1792',\n",
       "       '1730', '1687', '1649', '1541', '1696', '1707', '2018', '2013',\n",
       "       '2009', '2011', '2006', '2014', '2019', '2015', '1997', '2020',\n",
       "       '1746', '2017', '2000', '1996', '1999', '2016', '1765', '1995',\n",
       "       '1972', '1974', '1738', '1965', '2001', '2004', '2010', '2002',\n",
       "       '2008', '2003', '1661', '1664', '1970', '1998', '2012', '1973',\n",
       "       '1994', '2005', '1729', '1634', '2007', '1976', '1658', '1775',\n",
       "       '1537', '1594', '1607', '1682', '1692', '1685', '1526', '1720',\n",
       "       '1564', '1561', '1734', '1543', '1679', '1697', '1591', '1655',\n",
       "       '1643', '1660', '1563', '1569', '1576', '1619', '1668', '1556',\n",
       "       '1736', '1675', '1600', '1542', '1557', '1539', '1540', '1699',\n",
       "       '1721', '1566', '1717', '1535', '1616', '1626', '1507', '1637',\n",
       "       '1548', '1640', '1681', '1672', '1559', '1689', '1644', '1703',\n",
       "       '1588', '1680', '1578', '1618', '1611', '1553', '1551', '1627',\n",
       "       '1630', '1606', '1608', '1560', '1572', '1579', '1593', '1718',\n",
       "       '1740', '1575', '1570', '1587', '1666', '1669', '1704', '1663',\n",
       "       '1595', '1515', '1615', '1585', '1527', '1601', '1523', '1633',\n",
       "       '1678', '1635', '1667', '1598', '1622', '1656', '1684', '1719',\n",
       "       '1648', '1652', '1499', '1530', '1489', '1480', '1642', '1547',\n",
       "       '1592', '1546', '1545', '1583', '1599', '1549', '1610', '1614',\n",
       "       '1508', '1531', '1497', '1613', '1693', '1498', '1742', '1603',\n",
       "       '1514', '1625', '1654', '1534', '1621', '1558', '1636', '1522',\n",
       "       '1521', '1482', '1725', '2021', '1472', '1605', '1597', '1567',\n",
       "       '1568', '1709', '1509', '1662', '1609', '1612', '1010', '1100',\n",
       "       '1455', '1400', '1647', '1490', '1300', '1401', '1430', '1301',\n",
       "       '1201', '1101', '1425', '1001', '1000', '1200', '1501', '1500',\n",
       "       '1504', '1581', '1465', '1503', '1474', '1444', '1418', '1478',\n",
       "       '1632', '1510', '1363', '1250', '1325', '1350', '1502', '1327',\n",
       "       '1450', '1520', '1150', '1389', '1518', '1185', '1677', '1571',\n",
       "       '1646', '1726', '1586', '1495'], dtype=object)"
      ]
     },
     "execution_count": 27,
     "metadata": {},
     "output_type": "execute_result"
    }
   ],
   "source": [
    "df.century[~df.century.str.contains('[u]')].unique()"
   ]
  },
  {
   "cell_type": "markdown",
   "metadata": {},
   "source": [
    "The following graph shows the publishing activity of Western European literature. Be aware that the displayed data is only an extract of the full Swissbib data, though."
   ]
  },
  {
   "cell_type": "code",
   "execution_count": 28,
   "metadata": {},
   "outputs": [
    {
     "data": {
      "image/png": "[encoded data removed]",
      "text/plain": [
       "<Figure size 864x288 with 1 Axes>"
      ]
     },
     "metadata": {
      "needs_background": "light"
     },
     "output_type": "display_data"
    }
   ],
   "source": [
    "%matplotlib inline\n",
    "import matplotlib.pyplot as plt\n",
    "import numpy as np\n",
    "\n",
    "fig, ax = plt.subplots(nrows=1, ncols=1, figsize=(12, 4))\n",
    "\n",
    "plt.hist(df.century[~df.century.str.contains('[u]')].astype(int), bins=60, log=True)\n",
    "plt.xticks(rotation='vertical')\n",
    "plt.title('Stock of bibliographic units per pubication year')\n",
    "plt.xlabel('year of publication')\n",
    "plt.ylabel('log(amount of bibliographical units)')\n",
    "plt.show()"
   ]
  },
  {
   "cell_type": "markdown",
   "metadata": {},
   "source": [
    "The attribute is taken over to the feature matrix without an extra processing in [Goldstandard and Data Preparation](./2_GoldstandardDataPreparation.ipynb)."
   ]
  },
  {
   "cell_type": "code",
   "execution_count": 29,
   "metadata": {},
   "outputs": [],
   "source": [
    "columns_metadata_dict['data_analysis_columns'] = ['century']"
   ]
  },
  {
   "cell_type": "markdown",
   "metadata": {},
   "source": [
    "### coordinate"
   ]
  },
  {
   "cell_type": "code",
   "execution_count": 30,
   "metadata": {},
   "outputs": [],
   "source": [
    "columns_metadata_dict['list_columns'] = ['coordinate']"
   ]
  },
  {
   "cell_type": "markdown",
   "metadata": {},
   "source": [
    "Attribute $\\texttt{coordinate}$ holds geographical coordinate information on the related bibliographical unit of format map."
   ]
  },
  {
   "cell_type": "code",
   "execution_count": 31,
   "metadata": {},
   "outputs": [
    {
     "name": "stdout",
     "output_type": "stream",
     "text": [
      "Number of records with filled coordinate 730, with missing coordinate 182677 => 0.4%\n"
     ]
    }
   ],
   "source": [
    "_, _ = daf.find_empty_in_column(df, columns_metadata_dict, 'coordinate')"
   ]
  },
  {
   "cell_type": "code",
   "execution_count": 32,
   "metadata": {},
   "outputs": [
    {
     "name": "stdout",
     "output_type": "stream",
     "text": [
      "Number of records with filled coordinate 729, with missing coordinate 183 => 79.9%\n"
     ]
    }
   ],
   "source": [
    "_, _ = daf.find_empty_in_column(df[df.format.str[0].str[:2]=='MP'], columns_metadata_dict, 'coordinate')"
   ]
  },
  {
   "cell_type": "code",
   "execution_count": 33,
   "metadata": {},
   "outputs": [
    {
     "data": {
      "text/plain": [
       "5031      [W0102900, N0552900]\n",
       "105433    [E0091511, N0465150]\n",
       "112470                      []\n",
       "48697                       []\n",
       "126822    [E0071429, N0470018]\n",
       "113699    [E0084423, N0470935]\n",
       "35995     [E0060450, N0464800]\n",
       "114771    [E0063958, N0470012]\n",
       "48065     [E0083000, N0463400]\n",
       "147071    [W0050800, N0484500]\n",
       "Name: coordinate, dtype: object"
      ]
     },
     "execution_count": 33,
     "metadata": {},
     "output_type": "execute_result"
    }
   ],
   "source": [
    "df['coordinate'][df.format.str[0].str[:2]=='MP'].sample(n=10)"
   ]
  },
  {
   "cell_type": "markdown",
   "metadata": {},
   "source": [
    "The attribute stores its values in the form of a list. The list may hold more than two specific coordinate values. A specific coordinate value is mostly of length 8 characters."
   ]
  },
  {
   "cell_type": "code",
   "execution_count": 34,
   "metadata": {},
   "outputs": [
    {
     "data": {
      "text/plain": [
       "53969              [E0080312, E0080322, N0475934, N0475924]\n",
       "57054              [E0203500, E0201900, N0383100, N0383100]\n",
       "145721             [E0053832, E0053842, N0465129, N0465123]\n",
       "137878             [E0102620, E0102615, N0463834, N0463830]\n",
       "102577    [E 009 05 00, E009.083333, N 047 15 00, N047.2...\n",
       "137875             [E0074200, E0074200, N0463427, N0463400]\n",
       "104201    [W1244400, E1722600, W1603200, N0492400, N0712...\n",
       "136954    [E0083620, E0083624, E0083624, N0462105, N0462...\n",
       "137877             [E0102620, E0102615, N0463834, N0463830]\n",
       "143472             [E0064728, E0064725, N0461460, N0461455]\n",
       "Name: coordinate, dtype: object"
      ]
     },
     "execution_count": 34,
     "metadata": {},
     "output_type": "execute_result"
    }
   ],
   "source": [
    "df_maps = df.loc[df.coordinate.apply(lambda x : len(x))[df.format.str[0].str[:2]=='MP'].index]\n",
    "df_maps.coordinate[df_maps.coordinate.apply(lambda x : len(x)) > 2].sample(n=10)"
   ]
  },
  {
   "cell_type": "code",
   "execution_count": 35,
   "metadata": {},
   "outputs": [
    {
     "data": {
      "text/plain": [
       "'E012.500000 transforms to E0125000'"
      ]
     },
     "execution_count": 35,
     "metadata": {},
     "output_type": "execute_result"
    }
   ],
   "source": [
    "df.coordinate.loc[15139][0] + ' transforms to ' + df.coordinate.loc[15139][0].replace('.', '')[:8].upper()"
   ]
  },
  {
   "cell_type": "code",
   "execution_count": 36,
   "metadata": {},
   "outputs": [
    {
     "data": {
      "text/plain": [
       "'E0125000'"
      ]
     },
     "execution_count": 36,
     "metadata": {},
     "output_type": "execute_result"
    }
   ],
   "source": [
    "df.coordinate.loc[15139][0].replace('.', '')[:8].upper()"
   ]
  },
  {
   "cell_type": "markdown",
   "metadata": {},
   "source": [
    "Attribute $\\texttt{coordinate}$ is a relevant identifying attribute for duplicates of maps. The attribute will be used for pair comparison in the feature matrix. The format of its filled list is slightly complicated, though. The contents of the field will be transformed with the help of a function $\\texttt{split}\\_\\texttt{coordinate()}$, [[WiCo2001](./A_References.ipynb#wico2001)]."
   ]
  },
  {
   "cell_type": "code",
   "execution_count": 37,
   "metadata": {},
   "outputs": [],
   "source": [
    "df = dpf.split_coordinate(df)"
   ]
  },
  {
   "cell_type": "markdown",
   "metadata": {},
   "source": [
    "The function extracts the first element of the list starting with letter 'E' for East or 'W' for West. It then normalizes the string to a string of length 8, removing all '.' and ' ' characters beforehand. The resulting string element is stored in a new attribute $\\texttt{coordinate_E}$."
   ]
  },
  {
   "cell_type": "code",
   "execution_count": 38,
   "metadata": {},
   "outputs": [
    {
     "data": {
      "text/plain": [
       "26927     e0081700\n",
       "109247    e0064929\n",
       "110568    w1253000\n",
       "23619     e0084346\n",
       "27755     e0095238\n",
       "114840    e0062628\n",
       "23975     e0194200\n",
       "144918    e1003000\n",
       "126785    e0063326\n",
       "18769     e0065100\n",
       "111776    e0095930\n",
       "27783     e0091310\n",
       "76809     e0185900\n",
       "114715    e0093325\n",
       "47262     e0065900\n",
       "20644     e0054415\n",
       "110585    e0055427\n",
       "106163    e0132922\n",
       "83161     e0073547\n",
       "113740    e0085123\n",
       "Name: coordinate_E, dtype: object"
      ]
     },
     "execution_count": 38,
     "metadata": {},
     "output_type": "execute_result"
    }
   ],
   "source": [
    "df.coordinate_E[df.coordinate_E.apply(lambda x : x!='')].sample(n=20)"
   ]
  },
  {
   "cell_type": "markdown",
   "metadata": {},
   "source": [
    "As a next step, the same procedure is done with the first list element starting with letter 'N' for North or 'S' for South. The resulting string element is stored in a new attribute $\\texttt{coordinate_N}$."
   ]
  },
  {
   "cell_type": "code",
   "execution_count": 39,
   "metadata": {},
   "outputs": [
    {
     "data": {
      "text/plain": [
       "114812    n0465029\n",
       "77019     n0043500\n",
       "110018    n0630000\n",
       "126809    n0470018\n",
       "104545    n0463833\n",
       "114688    n0470615\n",
       "122859    n0561900\n",
       "28351     n0472302\n",
       "86085     n0475407\n",
       "182751    n0465035\n",
       "114703    n0470552\n",
       "27618     n0513600\n",
       "103980    n0471841\n",
       "23623     n0464010\n",
       "35992     n0440947\n",
       "36020     n0742129\n",
       "110568    n0490000\n",
       "12971     n0472021\n",
       "86065     n0473346\n",
       "126851    n0470018\n",
       "Name: coordinate_N, dtype: object"
      ]
     },
     "execution_count": 39,
     "metadata": {},
     "output_type": "execute_result"
    }
   ],
   "source": [
    "df.coordinate_N[df.coordinate_N.apply(lambda x : x!='')].sample(n=20)"
   ]
  },
  {
   "cell_type": "code",
   "execution_count": 40,
   "metadata": {},
   "outputs": [
    {
     "name": "stdout",
     "output_type": "stream",
     "text": [
      "East / west coordinates?  [nan 'e' 'w']\n",
      "North / south coordinates?  [nan 'n' 's']\n"
     ]
    }
   ],
   "source": [
    "print('East / west coordinates? ', df.coordinate_E.str[0].unique())\n",
    "print('North / south coordinates? ', df.coordinate_N.str[0].unique())"
   ]
  },
  {
   "cell_type": "markdown",
   "metadata": {},
   "source": [
    "Both new attributes are used for further processing, while the original attriubte $\\texttt{coordinate}$ is dropped."
   ]
  },
  {
   "cell_type": "code",
   "execution_count": 41,
   "metadata": {},
   "outputs": [],
   "source": [
    "columns_metadata_dict['data_analysis_columns'].append('coordinate_E')\n",
    "columns_metadata_dict['data_analysis_columns'].append('coordinate_N')"
   ]
  },
  {
   "cell_type": "markdown",
   "metadata": {},
   "source": [
    "### corporate"
   ]
  },
  {
   "cell_type": "code",
   "execution_count": 42,
   "metadata": {},
   "outputs": [],
   "source": [
    "columns_metadata_dict['strings_columns'].append('corporate')"
   ]
  },
  {
   "cell_type": "markdown",
   "metadata": {},
   "source": [
    "Attribute $\\texttt{corporate}$ is a collection of corporate names of the bibliographical unit, see [[FeatWiki](./A_References.ipynb/#feature_deduplication_wiki)]. The attribute out of the raw data comes along as a dictionary column in the DataFrame with three possible key value pairs. For reasons of easier processing, attribute $\\texttt{corporate}$ will be split into a separate attribute for each key of the dictionary. The values come along as lists and the implemented function $\\texttt{.transform}\\_\\texttt{list}\\_\\texttt{to}\\_\\texttt{string()}$ will be used to process its elements into one single string of the new column."
   ]
  },
  {
   "cell_type": "code",
   "execution_count": 43,
   "metadata": {},
   "outputs": [
    {
     "data": {
      "text/plain": [
       "69711                                                    {}\n",
       "39930                                                    {}\n",
       "99442                                                    {}\n",
       "29020        {'710': ['Haus der Kulturen der Welt Berlin']}\n",
       "67740                                                    {}\n",
       "170348                 {'110': ['Comitetul olimpic român']}\n",
       "182746                                                   {}\n",
       "29359     {'110': ['Schweiz', 'Bundesamt für Landestopog...\n",
       "124039                                                   {}\n",
       "132471                                                   {}\n",
       "84370                                                    {}\n",
       "149130                                                   {}\n",
       "33209                                                    {}\n",
       "175931                                                   {}\n",
       "97104                                                    {}\n",
       "40305                                                    {}\n",
       "55066                                                    {}\n",
       "147962                                                   {}\n",
       "53538                                                    {}\n",
       "29207                                                    {}\n",
       "Name: corporate, dtype: object"
      ]
     },
     "execution_count": 43,
     "metadata": {},
     "output_type": "execute_result"
    }
   ],
   "source": [
    "df.corporate.sample(n=20)"
   ]
  },
  {
   "cell_type": "code",
   "execution_count": 44,
   "metadata": {},
   "outputs": [
    {
     "name": "stdout",
     "output_type": "stream",
     "text": [
      "Number of records with filled corporate_110 11370, with missing corporate_110 172037 => 6.2%\n",
      "Number of records with filled corporate_710 23123, with missing corporate_710 160284 => 12.6%\n",
      "Number of records with filled corporate_810 57, with missing corporate_810 183350 => 0.0%\n"
     ]
    }
   ],
   "source": [
    "for ending in ['110', '710', '810']:\n",
    "    df = dpf.transform_dictionary_to_list(df, 'corporate', ending)\n",
    "    df = dpf.transform_list_to_string(df, 'corporate_'+ending)\n",
    "\n",
    "    columns_metadata_dict['strings_columns'].append('corporate_'+ending)\n",
    "    _, _ = daf.find_empty_in_column(df, columns_metadata_dict, 'corporate_'+ending)"
   ]
  },
  {
   "cell_type": "markdown",
   "metadata": {},
   "source": [
    "The attribute is sparsely filled. This is due to the fact that most of Swissbib's bibliographical units are units produced by persons, not corporates."
   ]
  },
  {
   "cell_type": "code",
   "execution_count": 45,
   "metadata": {},
   "outputs": [
    {
     "data": {
      "text/plain": [
       "corporate_110    11349\n",
       "corporate_710    11349\n",
       "dtype: int64"
      ]
     },
     "execution_count": 45,
     "metadata": {},
     "output_type": "execute_result"
    }
   ],
   "source": [
    "df[['corporate_110', 'corporate_710']][\n",
    "    (df.corporate_110!=df.corporate_710) &\n",
    "    (df.corporate_110.apply(lambda x : len(x))!=0)].count()"
   ]
  },
  {
   "cell_type": "code",
   "execution_count": 46,
   "metadata": {},
   "outputs": [
    {
     "data": {
      "text/plain": [
       "corporate_110    21\n",
       "corporate_710    21\n",
       "dtype: int64"
      ]
     },
     "execution_count": 46,
     "metadata": {},
     "output_type": "execute_result"
    }
   ],
   "source": [
    "df[['corporate_110', 'corporate_710']][\n",
    "    (df.corporate_110==df.corporate_710) &\n",
    "    (df.corporate_110.apply(lambda x : len(x))!=0)].count()"
   ]
  },
  {
   "cell_type": "code",
   "execution_count": 47,
   "metadata": {},
   "outputs": [
    {
     "data": {
      "text/html": [
       "<div>\n",
       "<style scoped>\n",
       "    .dataframe tbody tr th:only-of-type {\n",
       "        vertical-align: middle;\n",
       "    }\n",
       "\n",
       "    .dataframe tbody tr th {\n",
       "        vertical-align: top;\n",
       "    }\n",
       "\n",
       "    .dataframe thead th {\n",
       "        text-align: right;\n",
       "    }\n",
       "</style>\n",
       "<table border=\"1\" class=\"dataframe\">\n",
       "  <thead>\n",
       "    <tr style=\"text-align: right;\">\n",
       "      <th></th>\n",
       "      <th>corporate_110</th>\n",
       "      <th>corporate_710</th>\n",
       "    </tr>\n",
       "  </thead>\n",
       "  <tbody>\n",
       "    <tr>\n",
       "      <th>10383</th>\n",
       "      <td>verein deutscher bibliothekare, regionalverban...</td>\n",
       "      <td>verein deutscher bibliothekare, zentral- und l...</td>\n",
       "    </tr>\n",
       "    <tr>\n",
       "      <th>14064</th>\n",
       "      <td>slavs and tatars</td>\n",
       "      <td>kunsthalle im lipsiusbau, kunstverein hannover</td>\n",
       "    </tr>\n",
       "    <tr>\n",
       "      <th>14918</th>\n",
       "      <td>heilsarmee, nationales hauptquartier bern</td>\n",
       "      <td>salvation army, nationales hauptquartier</td>\n",
       "    </tr>\n",
       "    <tr>\n",
       "      <th>15687</th>\n",
       "      <td>berner alpenbahn-gesellschaft bern-lötschberg-...</td>\n",
       "      <td>lötschbergbahn</td>\n",
       "    </tr>\n",
       "    <tr>\n",
       "      <th>16185</th>\n",
       "      <td>jordan schnitzer family foundation</td>\n",
       "      <td>hallie ford museum of art</td>\n",
       "    </tr>\n",
       "  </tbody>\n",
       "</table>\n",
       "</div>"
      ],
      "text/plain": [
       "                                           corporate_110  \\\n",
       "10383  verein deutscher bibliothekare, regionalverban...   \n",
       "14064                                   slavs and tatars   \n",
       "14918          heilsarmee, nationales hauptquartier bern   \n",
       "15687  berner alpenbahn-gesellschaft bern-lötschberg-...   \n",
       "16185                 jordan schnitzer family foundation   \n",
       "\n",
       "                                           corporate_710  \n",
       "10383  verein deutscher bibliothekare, zentral- und l...  \n",
       "14064     kunsthalle im lipsiusbau, kunstverein hannover  \n",
       "14918           salvation army, nationales hauptquartier  \n",
       "15687                                     lötschbergbahn  \n",
       "16185                          hallie ford museum of art  "
      ]
     },
     "execution_count": 47,
     "metadata": {},
     "output_type": "execute_result"
    }
   ],
   "source": [
    "df[['corporate_110', 'corporate_710']][\n",
    "    (df.corporate_110!=df.corporate_710) &\n",
    "    (df.corporate_110.apply(lambda x : len(x))!=0) &\n",
    "    (df.corporate_710.apply(lambda x : len(x))!=0)\n",
    "].head()"
   ]
  },
  {
   "cell_type": "markdown",
   "metadata": {},
   "source": [
    "The attribute holds different data in its dictionary key 110 compared to its dictionary key 710. Both key values of $\\texttt{corporate}$ seem to be relevant for the model. Some examples are shown below."
   ]
  },
  {
   "cell_type": "code",
   "execution_count": 48,
   "metadata": {},
   "outputs": [
    {
     "data": {
      "text/plain": [
       "162185    international association of athletics federat...\n",
       "163745    olympic winter games. organizing committee . 2...\n",
       "161251    summer olympic games. organizing committee. 28...\n",
       "155724                 comitato olimpico nazionale italiano\n",
       "92482                                      montres rolex sa\n",
       "165764    olympic winter games. organizing committee . 2...\n",
       "164356    national olympic committee of the republic of ...\n",
       "152217    summer olympic games. organizing committee. 26...\n",
       "151480    olympic winter games. organizing committee. 4,...\n",
       "170337                           guilde du livre (lausanne)\n",
       "154952    olympic winter games. organizing committee. 5,...\n",
       "151192        comité national olympique et sportif français\n",
       "149872    national olympic committee of the azerbaijani ...\n",
       "157088    summer olympic games. organizing committee. 28...\n",
       "160710                      united states olympic committee\n",
       "168999    summer youth olympic games. organizing committ...\n",
       "167267                 comitato olimpico nazionale italiano\n",
       "161659        universiade. comité d'organisation. 22, daegu\n",
       "154645                      international olympic committee\n",
       "171072    summer olympic games. organizing committee. 30...\n",
       "Name: corporate_110, dtype: object"
      ]
     },
     "execution_count": 48,
     "metadata": {},
     "output_type": "execute_result"
    }
   ],
   "source": [
    "df.corporate_110[df.corporate_110.apply(lambda x : len(x))!=0].sample(n=20)"
   ]
  },
  {
   "cell_type": "code",
   "execution_count": 49,
   "metadata": {},
   "outputs": [
    {
     "data": {
      "text/plain": [
       "14460                                            underworld\n",
       "149128                        great britain. sports council\n",
       "169331                           sasakawa sports foundation\n",
       "161881       great britain. foreign and commonwealth office\n",
       "76694                    gesellschaft winterthurer jahrbuch\n",
       "14300                                   marcos jimenez trio\n",
       "74988                                        riedtli verein\n",
       "175384    congrès international équipement de sport et p...\n",
       "164062      fédération internationale des sociétés d'aviron\n",
       "10318                               zürcher kammerorchester\n",
       "73656           eidgenössische technische hochschule zürich\n",
       "53881     slovenska akademija znanosti in umetnosti, uni...\n",
       "101989                    archives départementales (loiret)\n",
       "111917                         fiera artecasa (ponte tresa)\n",
       "45432     ligue suisse contre le rhumatisme, association...\n",
       "133927    martin-luther-universität halle-wittenberg, in...\n",
       "76791                      kanton bern, erziehungsdirektion\n",
       "163600           workshop sport und informatik. 6, konstanz\n",
       "168124        comité national olympique et sportif français\n",
       "19842                                    universität zürich\n",
       "Name: corporate_710, dtype: object"
      ]
     },
     "execution_count": 49,
     "metadata": {},
     "output_type": "execute_result"
    }
   ],
   "source": [
    "df.corporate_710[df.corporate_710.apply(lambda x : len(x))!=0].sample(n=20)"
   ]
  },
  {
   "cell_type": "code",
   "execution_count": 50,
   "metadata": {},
   "outputs": [
    {
     "data": {
      "text/plain": [
       "104811                                 usa, war department\n",
       "94673                                            hécatombe\n",
       "72562                                        werbung kiser\n",
       "72556                                        werbung kiser\n",
       "110589                             hallwag kümmerly + frey\n",
       "25264              schweiz, bundesamt für landestopografie\n",
       "94674                                            hécatombe\n",
       "30888              schweiz, bundesamt für landestopografie\n",
       "113870                             peter-ochs-gesellschaft\n",
       "61510                              hallwag kümmerly + frey\n",
       "25406              schweiz, bundesamt für landestopografie\n",
       "110572                             hallwag kümmerly + frey\n",
       "110593                                           hema maps\n",
       "110569                             hallwag kümmerly + frey\n",
       "53969              schweiz, bundesamt für landestopografie\n",
       "47145     biochemical society (great britain)., symposium.\n",
       "28259              schweiz, bundesamt für landestopografie\n",
       "104826                         usa, department of the army\n",
       "15102              schweiz, bundesamt für landestopografie\n",
       "72532                                        werbung kiser\n",
       "Name: corporate_810, dtype: object"
      ]
     },
     "execution_count": 50,
     "metadata": {},
     "output_type": "execute_result"
    }
   ],
   "source": [
    "df.corporate_810[df.corporate_810.apply(lambda x : len(x))!=0].sample(n=20)"
   ]
  },
  {
   "cell_type": "code",
   "execution_count": 51,
   "metadata": {},
   "outputs": [
    {
     "data": {
      "text/plain": [
       "45080              {'810': ['Wirtschaftsuniversität Wien']}\n",
       "47145     {'110': ['Biochemical Society (Great Britain)'...\n",
       "52134     {'710': ['Kunsthandlung Helmut H. Rumbler'], '...\n",
       "94673     {'710': ['Ensemble Batida', 'Hécatombe'], '810...\n",
       "94674     {'710': ['Ensemble Batida', 'Hécatombe'], '810...\n",
       "94678     {'710': ['Ensemble Batida', 'Hécatombe'], '810...\n",
       "94679     {'710': ['Ensemble Batida', 'Hécatombe'], '810...\n",
       "94680     {'710': ['Ensemble Batida', 'Hécatombe'], '810...\n",
       "113869                 {'810': ['Peter-Ochs-Gesellschaft']}\n",
       "113870                 {'810': ['Peter-Ochs-Gesellschaft']}\n",
       "133706    {'110': ['Carnegie Endowment for International...\n",
       "133739    {'810': ['Deutschland', 'Verteidigungsminister...\n",
       "143892    {'110': ['Judge Advocate General's School (Uni...\n",
       "Name: corporate, dtype: object"
      ]
     },
     "execution_count": 51,
     "metadata": {},
     "output_type": "execute_result"
    }
   ],
   "source": [
    "df.corporate[(df.corporate_110 != df.corporate_810) &\n",
    "             (df.corporate_810.apply(lambda x : len(x))!=0)]"
   ]
  },
  {
   "cell_type": "markdown",
   "metadata": {},
   "source": [
    "Only a few records hold data in attribute $\\texttt{corporate}$ with key value 810. Furthermore, attribute $\\texttt{corporate}$ at key 810 stores strongly redundant data to $\\texttt{corporate}$ at key value 110. Therefore, attribute $\\texttt{corporate}$ with key 810 will be dropped [[WiCo2001](./A_References.ipynb#wico2001)]."
   ]
  },
  {
   "cell_type": "code",
   "execution_count": 52,
   "metadata": {},
   "outputs": [],
   "source": [
    "columns_metadata_dict['data_analysis_columns'].append('corporate_110')\n",
    "columns_metadata_dict['data_analysis_columns'].append('corporate_710')"
   ]
  },
  {
   "cell_type": "markdown",
   "metadata": {},
   "source": [
    "### decade"
   ]
  },
  {
   "cell_type": "code",
   "execution_count": 53,
   "metadata": {},
   "outputs": [],
   "source": [
    "columns_metadata_dict['strings_columns'].append('decade')"
   ]
  },
  {
   "cell_type": "code",
   "execution_count": 54,
   "metadata": {},
   "outputs": [
    {
     "data": {
      "text/html": [
       "<div>\n",
       "<style scoped>\n",
       "    .dataframe tbody tr th:only-of-type {\n",
       "        vertical-align: middle;\n",
       "    }\n",
       "\n",
       "    .dataframe tbody tr th {\n",
       "        vertical-align: top;\n",
       "    }\n",
       "\n",
       "    .dataframe thead th {\n",
       "        text-align: right;\n",
       "    }\n",
       "</style>\n",
       "<table border=\"1\" class=\"dataframe\">\n",
       "  <thead>\n",
       "    <tr style=\"text-align: right;\">\n",
       "      <th></th>\n",
       "      <th>docid</th>\n",
       "      <th>035liste</th>\n",
       "      <th>isbn</th>\n",
       "      <th>ttlfull</th>\n",
       "      <th>ttlpart</th>\n",
       "      <th>person</th>\n",
       "      <th>corporate</th>\n",
       "      <th>pubyear</th>\n",
       "      <th>decade</th>\n",
       "      <th>century</th>\n",
       "      <th>exactDate</th>\n",
       "      <th>...</th>\n",
       "      <th>scale</th>\n",
       "      <th>coordinate</th>\n",
       "      <th>doi</th>\n",
       "      <th>ismn</th>\n",
       "      <th>musicid</th>\n",
       "      <th>format</th>\n",
       "      <th>coordinate_E</th>\n",
       "      <th>coordinate_N</th>\n",
       "      <th>corporate_110</th>\n",
       "      <th>corporate_710</th>\n",
       "      <th>corporate_810</th>\n",
       "    </tr>\n",
       "  </thead>\n",
       "  <tbody>\n",
       "  </tbody>\n",
       "</table>\n",
       "<p>0 rows × 28 columns</p>\n",
       "</div>"
      ],
      "text/plain": [
       "Empty DataFrame\n",
       "Columns: [docid, 035liste, isbn, ttlfull, ttlpart, person, corporate, pubyear, decade, century, exactDate, edition, part, pages, volumes, pubinit, pubword, scale, coordinate, doi, ismn, musicid, format, coordinate_E, coordinate_N, corporate_110, corporate_710, corporate_810]\n",
       "Index: []\n",
       "\n",
       "[0 rows x 28 columns]"
      ]
     },
     "execution_count": 54,
     "metadata": {},
     "output_type": "execute_result"
    }
   ],
   "source": [
    "df[df.decade != df.century]"
   ]
  },
  {
   "cell_type": "markdown",
   "metadata": {},
   "source": [
    "The attribute holds identical data to attribute $\\texttt{century}$. Its MARC 21 definition is the same, too. The purpose of the field is to derive the decade of the year of origin of a bibliographic unit and store it for comparison. This is done in Swissbib's conventional deduplication implementation [[WiCo2001](./A_References.ipynb#wico2001)]. Chapter [Feature Matrix Generation](./3_FeatureMatrixGeneration.ipynb) will apply a similarity metric for $\\texttt{century}$ that takes the decade into specific consideration for attribute $\\texttt{century}$. Therefore, attribute $\\texttt{decade}$ will be dropped."
   ]
  },
  {
   "cell_type": "markdown",
   "metadata": {},
   "source": [
    "### docid"
   ]
  },
  {
   "cell_type": "code",
   "execution_count": 55,
   "metadata": {},
   "outputs": [],
   "source": [
    "columns_metadata_dict['strings_columns'].append('docid')"
   ]
  },
  {
   "cell_type": "code",
   "execution_count": 56,
   "metadata": {},
   "outputs": [
    {
     "name": "stdout",
     "output_type": "stream",
     "text": [
      "Number of records with filled docid 183407, with missing docid 0 => 100.0%\n"
     ]
    }
   ],
   "source": [
    "idx_docid_filled, idx_docid_empty = daf.find_empty_in_column(df, columns_metadata_dict, 'docid')"
   ]
  },
  {
   "cell_type": "code",
   "execution_count": 57,
   "metadata": {},
   "outputs": [
    {
     "data": {
      "text/plain": [
       "'554061449'"
      ]
     },
     "execution_count": 57,
     "metadata": {},
     "output_type": "execute_result"
    }
   ],
   "source": [
    "df.docid[0]"
   ]
  },
  {
   "cell_type": "markdown",
   "metadata": {},
   "source": [
    "The $\\texttt{docid}$ is a unique identifier for a record of the data set. The attribute will become important for identifying master records for their associated slave records, see chapter [Goldstandard and Data Preparation](./2_GoldstandardDataPreparation.ipynb). It will not be used directly for the training of the model."
   ]
  },
  {
   "cell_type": "markdown",
   "metadata": {},
   "source": [
    "### doi"
   ]
  },
  {
   "cell_type": "code",
   "execution_count": 58,
   "metadata": {},
   "outputs": [],
   "source": [
    "columns_metadata_dict['list_columns'].append('doi')"
   ]
  },
  {
   "cell_type": "code",
   "execution_count": 59,
   "metadata": {},
   "outputs": [
    {
     "name": "stdout",
     "output_type": "stream",
     "text": [
      "Number of records with filled doi 10114, with missing doi 173293 => 5.5%\n"
     ]
    }
   ],
   "source": [
    "_, _ = daf.find_empty_in_column(df, columns_metadata_dict, 'doi')"
   ]
  },
  {
   "cell_type": "code",
   "execution_count": 60,
   "metadata": {},
   "outputs": [
    {
     "data": {
      "text/plain": [
       "1854                                     [00028947575214]\n",
       "1899    [10.5451/unibas-007052902, urn:nbn:ch:bel-bau-...\n",
       "1937    [10.5451/unibas-007052953, urn:nbn:ch:bel-bau-...\n",
       "2046                                     [04600317120499]\n",
       "2063                                     [00602567484134]\n",
       "2207                                     [00039841539226]\n",
       "2245                                     [00096802280399]\n",
       "2286                                     [00761195120422]\n",
       "2494                                     [04250095800740]\n",
       "2779                                     [00888837038720]\n",
       "2996                     [urn:nbn:de:101:1-2016111912809]\n",
       "3087                                     [00605633131628]\n",
       "3385                     [urn:nbn:de:101:1-2017040728657]\n",
       "4094                                     [00602547324375]\n",
       "4504                                     [00656605612812]\n",
       "4710                             [10.14361/9783839445334]\n",
       "6579                                     [00887254706021]\n",
       "7624                                     [00075597959413]\n",
       "8125                                     [03770001901282]\n",
       "9663                      [urn:nbn:de:101:1-201706101980]\n",
       "Name: doi, dtype: object"
      ]
     },
     "execution_count": 60,
     "metadata": {},
     "output_type": "execute_result"
    }
   ],
   "source": [
    "df.doi[df.doi.apply(lambda x : len(x))>0].head(20)"
   ]
  },
  {
   "cell_type": "code",
   "execution_count": 61,
   "metadata": {},
   "outputs": [
    {
     "data": {
      "text/plain": [
       "97607                                [10.5169/seals-791086]\n",
       "96747                                [10.5169/seals-789971]\n",
       "4504                                       [00656605612812]\n",
       "97399                                [10.5169/seals-790788]\n",
       "84896         [10.3929/ethz-b-000323376, 10.1093/ve/vey037]\n",
       "77164                                [10.5169/seals-789714]\n",
       "114215          [10.5167/uzh-165515, 10.3390/sports6040136]\n",
       "46596                       [10.4159/harvard.9780674432215]\n",
       "68647                        [10.1016/j.ijrobp.2018.09.023]\n",
       "45534        [10.5167/uzh-164799, 10.1177/0300985818789466]\n",
       "92404                              [urn:nbn:ch:bel-1288621]\n",
       "109304    [10.3929/ethz-b-000325573, 10.1038/s41598-018-...\n",
       "128538           [10.5167/uzh-166724, 10.1093/mnras/sty367]\n",
       "112144             [10.5167/uzh-167385, 1932-8036/20180005]\n",
       "89689                               [10.7591/9781501735981]\n",
       "85346                          [10.1038/s41598-018-33763-7]\n",
       "19538                                [10.3931/e-rara-75959]\n",
       "88590                               [10.3138/9781487586256]\n",
       "81461     [10.3929/ethz-b-000315291, 10.1016/j.apenergy....\n",
       "53498                                  [10.5167/uzh-161860]\n",
       "Name: doi, dtype: object"
      ]
     },
     "execution_count": 61,
     "metadata": {},
     "output_type": "execute_result"
    }
   ],
   "source": [
    "df.doi[df.doi.apply(lambda x : len(x))>0].sample(n=20)"
   ]
  },
  {
   "cell_type": "code",
   "execution_count": 62,
   "metadata": {},
   "outputs": [
    {
     "data": {
      "text/plain": [
       "docid                                                    554099918\n",
       "035liste         [(OCoLC)71126385, (IDSBB)007052820, (OCoLC)711...\n",
       "isbn                                                            []\n",
       "ttlfull          {'245': ['Symphony no. 8'], '246': ['Symphony ...\n",
       "ttlpart                                {'245': ['Symphony no. 8']}\n",
       "person           {'100': ['MahlerGustav1860-1911(DE-588)1185762...\n",
       "corporate        {'710': ['Konzertvereinigung Wiener Staatsoper...\n",
       "pubyear                                                   20062006\n",
       "decade                                                        2006\n",
       "century                                                       2006\n",
       "exactDate                                                 20062006\n",
       "edition                                                           \n",
       "part                                                            []\n",
       "pages                                               [1 Cd (79:48)]\n",
       "volumes                                             [1 Cd (79:48)]\n",
       "pubinit                                                         []\n",
       "pubword                                                         []\n",
       "scale                                                             \n",
       "coordinate                                                      []\n",
       "doi                                               [00028947575214]\n",
       "ismn                                              [00028947575214]\n",
       "musicid                                                   475 7521\n",
       "format                                                  [MU040100]\n",
       "coordinate_E                                                      \n",
       "coordinate_N                                                      \n",
       "corporate_110                                                     \n",
       "corporate_710    konzertvereinigung wiener staatsopernchor, ges...\n",
       "corporate_810                                                     \n",
       "Name: 1854, dtype: object"
      ]
     },
     "execution_count": 62,
     "metadata": {},
     "output_type": "execute_result"
    }
   ],
   "source": [
    "df.loc[1854]"
   ]
  },
  {
   "cell_type": "code",
   "execution_count": 63,
   "metadata": {},
   "outputs": [
    {
     "name": "stdout",
     "output_type": "stream",
     "text": [
      "2,312 records hold 1 list element(s).\n",
      "13 records hold 2 list element(s).\n",
      "11 records hold 3 list element(s).\n",
      "1 records hold 4 list element(s).\n",
      "0 records hold 5 list element(s).\n",
      "=> Maximum number of list elements 4\n"
     ]
    }
   ],
   "source": [
    "i = 0\n",
    "while len(df.doi[df.doi.apply(lambda x : len(x))>i]) > 0 :\n",
    "    i = i+1\n",
    "    print('{:,d} records hold {:d} list element(s).'.format(len(df.doi[df.doi.apply(lambda x : len(x))>i]), i))\n",
    "        \n",
    "print('=> Maximum number of list elements', i-1)"
   ]
  },
  {
   "cell_type": "markdown",
   "metadata": {},
   "source": [
    "Attribute $\\texttt{doi}$ is a digital object identifier. It will be taken to the feature matrix without modification."
   ]
  },
  {
   "cell_type": "code",
   "execution_count": 64,
   "metadata": {},
   "outputs": [],
   "source": [
    "columns_metadata_dict['data_analysis_columns'].append('doi')"
   ]
  },
  {
   "cell_type": "markdown",
   "metadata": {},
   "source": [
    "### edition"
   ]
  },
  {
   "cell_type": "code",
   "execution_count": 65,
   "metadata": {},
   "outputs": [],
   "source": [
    "columns_metadata_dict['strings_columns'].append('edition')"
   ]
  },
  {
   "cell_type": "code",
   "execution_count": 66,
   "metadata": {},
   "outputs": [
    {
     "name": "stdout",
     "output_type": "stream",
     "text": [
      "Number of records with filled edition 25352, with missing edition 158055 => 13.8%\n"
     ]
    }
   ],
   "source": [
    "_, _ = daf.find_empty_in_column(df, columns_metadata_dict, 'edition')"
   ]
  },
  {
   "cell_type": "markdown",
   "metadata": {},
   "source": [
    "Attribute $\\texttt{edition}$ holds the edition statement [[FeatWiki](./A_References.ipynb/#feature_deduplication_wiki)]. The data type of the attribute is a string value."
   ]
  },
  {
   "cell_type": "code",
   "execution_count": 67,
   "metadata": {},
   "outputs": [
    {
     "data": {
      "text/plain": [
       "1125      17., vermehrte, neu bearb. und verbesserte Aufl\n",
       "62604                                     2., verb. Aufl.\n",
       "145361                                      Erste Auflage\n",
       "137173                            PS4 [English, français]\n",
       "113839                                         1. Auflage\n",
       "112246                              Verschiedene Auflagen\n",
       "110566                 10. [Auflage], [Laufzeit bis] 2022\n",
       "139802                          3., überarbeitete Auflage\n",
       "139641                             Neuausgabe, 1. Auflage\n",
       "3389                       Leicht gekürzte Hörbuchfassung\n",
       "Name: edition, dtype: object"
      ]
     },
     "execution_count": 67,
     "metadata": {},
     "output_type": "execute_result"
    }
   ],
   "source": [
    "df.edition[df.edition.apply(lambda x : len(x)>0)].sample(n=10)"
   ]
  },
  {
   "cell_type": "markdown",
   "metadata": {},
   "source": [
    "The attribute is taken to the feature matrix without an extra processing in [Goldstandard and Data Preparation](./2_GoldstandardDataPreparation.ipynb)."
   ]
  },
  {
   "cell_type": "code",
   "execution_count": 68,
   "metadata": {},
   "outputs": [],
   "source": [
    "columns_metadata_dict['data_analysis_columns'].append('edition')"
   ]
  },
  {
   "cell_type": "markdown",
   "metadata": {},
   "source": [
    "### exactDate"
   ]
  },
  {
   "cell_type": "code",
   "execution_count": 69,
   "metadata": {},
   "outputs": [],
   "source": [
    "columns_metadata_dict['strings_columns'].append('exactDate')"
   ]
  },
  {
   "cell_type": "code",
   "execution_count": 70,
   "metadata": {},
   "outputs": [
    {
     "name": "stdout",
     "output_type": "stream",
     "text": [
      "Number of records with filled exactDate 183407, with missing exactDate 0 => 100.0%\n"
     ]
    }
   ],
   "source": [
    "_, _ = daf.find_empty_in_column(df, columns_metadata_dict, 'exactDate')"
   ]
  },
  {
   "cell_type": "code",
   "execution_count": 71,
   "metadata": {},
   "outputs": [
    {
     "data": {
      "text/html": [
       "<div>\n",
       "<style scoped>\n",
       "    .dataframe tbody tr th:only-of-type {\n",
       "        vertical-align: middle;\n",
       "    }\n",
       "\n",
       "    .dataframe tbody tr th {\n",
       "        vertical-align: top;\n",
       "    }\n",
       "\n",
       "    .dataframe thead th {\n",
       "        text-align: right;\n",
       "    }\n",
       "</style>\n",
       "<table border=\"1\" class=\"dataframe\">\n",
       "  <thead>\n",
       "    <tr style=\"text-align: right;\">\n",
       "      <th></th>\n",
       "      <th>docid</th>\n",
       "      <th>035liste</th>\n",
       "      <th>isbn</th>\n",
       "      <th>ttlfull</th>\n",
       "      <th>ttlpart</th>\n",
       "      <th>person</th>\n",
       "      <th>corporate</th>\n",
       "      <th>pubyear</th>\n",
       "      <th>decade</th>\n",
       "      <th>century</th>\n",
       "      <th>exactDate</th>\n",
       "      <th>...</th>\n",
       "      <th>scale</th>\n",
       "      <th>coordinate</th>\n",
       "      <th>doi</th>\n",
       "      <th>ismn</th>\n",
       "      <th>musicid</th>\n",
       "      <th>format</th>\n",
       "      <th>coordinate_E</th>\n",
       "      <th>coordinate_N</th>\n",
       "      <th>corporate_110</th>\n",
       "      <th>corporate_710</th>\n",
       "      <th>corporate_810</th>\n",
       "    </tr>\n",
       "  </thead>\n",
       "  <tbody>\n",
       "  </tbody>\n",
       "</table>\n",
       "<p>0 rows × 28 columns</p>\n",
       "</div>"
      ],
      "text/plain": [
       "Empty DataFrame\n",
       "Columns: [docid, 035liste, isbn, ttlfull, ttlpart, person, corporate, pubyear, decade, century, exactDate, edition, part, pages, volumes, pubinit, pubword, scale, coordinate, doi, ismn, musicid, format, coordinate_E, coordinate_N, corporate_110, corporate_710, corporate_810]\n",
       "Index: []\n",
       "\n",
       "[0 rows x 28 columns]"
      ]
     },
     "execution_count": 71,
     "metadata": {},
     "output_type": "execute_result"
    }
   ],
   "source": [
    "df[df.exactDate.str[0:4] != df.century]"
   ]
  },
  {
   "cell_type": "markdown",
   "metadata": {},
   "source": [
    "Conforming the MARC 21 description, see [[MARC](./A_References.ipynb#marc21)], the first 4 digits of $\\texttt{exactDate}$ hold identical data as field $\\texttt{century}$. The last 4 digits hold additional information on the exact date of origin of the bibliographical unit."
   ]
  },
  {
   "cell_type": "code",
   "execution_count": 72,
   "metadata": {
    "scrolled": false
   },
   "outputs": [
    {
     "data": {
      "text/plain": [
       "array(['1992    ', '1986    ', '1923    ', ..., '1966-196', 'uuu1    ',\n",
       "       '201007  '], dtype=object)"
      ]
     },
     "execution_count": 72,
     "metadata": {},
     "output_type": "execute_result"
    }
   ],
   "source": [
    "df.exactDate[df.exactDate.str[4:].str.contains('\\D')].unique()"
   ]
  },
  {
   "cell_type": "markdown",
   "metadata": {},
   "source": [
    "Missing information is not only added with the help of character 'u', but with ' ' (space character) and even '-' characters, unfortunately. For data cleaning resons, any character that is not a number digit will be replaced by 'u'."
   ]
  },
  {
   "cell_type": "code",
   "execution_count": 73,
   "metadata": {},
   "outputs": [
    {
     "name": "stdout",
     "output_type": "stream",
     "text": [
      "Non-digit characters are {'-', ' ', 'u'}\n"
     ]
    }
   ],
   "source": [
    "def determine_uniques_non_numbers(exact_date):\n",
    "    unique_non_numbers = set()\n",
    "\n",
    "    for i in range(4, 8):\n",
    "        unique_non_numbers = unique_non_numbers.union(set(exact_date.str[i:i+1][\n",
    "            exact_date.str[i:i+1].str.contains('\\D')].unique()))\n",
    "\n",
    "    print('Non-digit characters are', unique_non_numbers)\n",
    "\n",
    "    return\n",
    "\n",
    "determine_uniques_non_numbers(df.exactDate)"
   ]
  },
  {
   "cell_type": "code",
   "execution_count": 74,
   "metadata": {
    "scrolled": true
   },
   "outputs": [
    {
     "name": "stdout",
     "output_type": "stream",
     "text": [
      "Degree of non-number filling of last 4 digits 87.4%\n",
      "Degree of full and exclusively number filling of last 4 digits 12.6%\n"
     ]
    }
   ],
   "source": [
    "def print_degree_of_filling(exact_date):\n",
    "    print('Degree of non-number filling of last 4 digits {:.1f}%'.format(\n",
    "        exact_date[exact_date.str[4:].str.contains('\\D')].count()/len(df)*100))\n",
    "    print('Degree of full and exclusively number filling of last 4 digits {:.1f}%'.format(\n",
    "        exact_date[exact_date.str[4:].str.contains('[0-9]{4}')].count()/len(df)*100))\n",
    "    return\n",
    "\n",
    "print_degree_of_filling(df.exactDate)"
   ]
  },
  {
   "cell_type": "code",
   "execution_count": 75,
   "metadata": {},
   "outputs": [
    {
     "name": "stdout",
     "output_type": "stream",
     "text": [
      "Degree of non-number filling of last 4 digits 87.4%\n",
      "Degree of full and exclusively number filling of last 4 digits 12.6%\n",
      "Non-digit characters are {'u'}\n"
     ]
    }
   ],
   "source": [
    "df = dpf.clean_exactDate_string(df)\n",
    "\n",
    "print_degree_of_filling(df.exactDate)\n",
    "determine_uniques_non_numbers(df.exactDate)"
   ]
  },
  {
   "cell_type": "code",
   "execution_count": 76,
   "metadata": {},
   "outputs": [
    {
     "data": {
      "text/plain": [
       "docid                                                    556987284\n",
       "035liste                        [(ZORA)oai:www.zora.uzh.ch:169340]\n",
       "isbn                                                            []\n",
       "ttlfull          {'245': ['Altered limbic and autonomic process...\n",
       "ttlpart          {'245': ['Altered limbic and autonomic process...\n",
       "person           {'100': [], '700': ['TemplinChristianjoint aut...\n",
       "corporate                                                       {}\n",
       "pubyear                                                   20190414\n",
       "decade                                                        2019\n",
       "century                                                       2019\n",
       "exactDate                                                 20190414\n",
       "edition                                                           \n",
       "part                                            [40(15):1183-1187]\n",
       "pages                                                           []\n",
       "volumes                                                         []\n",
       "pubinit                                                         []\n",
       "pubword                                                         []\n",
       "scale                                                             \n",
       "coordinate                                                      []\n",
       "doi                                     [10.1093/eurheartj/ehz068]\n",
       "ismn                                    [10.1093/eurheartj/ehz068]\n",
       "musicid                                                           \n",
       "format                                                  [BK010053]\n",
       "coordinate_E                                                      \n",
       "coordinate_N                                                      \n",
       "corporate_110                                                     \n",
       "corporate_710                                                     \n",
       "corporate_810                                                     \n",
       "Name: 183319, dtype: object"
      ]
     },
     "execution_count": 76,
     "metadata": {},
     "output_type": "execute_result"
    }
   ],
   "source": [
    "df.loc[183319]"
   ]
  },
  {
   "cell_type": "markdown",
   "metadata": {},
   "source": [
    "Due to its added information supply to attribute $\\texttt{century}$, the attribute is taken to the feature matrix."
   ]
  },
  {
   "cell_type": "code",
   "execution_count": 77,
   "metadata": {},
   "outputs": [],
   "source": [
    "columns_metadata_dict['data_analysis_columns'].append('exactDate')"
   ]
  },
  {
   "cell_type": "markdown",
   "metadata": {},
   "source": [
    "### format"
   ]
  },
  {
   "cell_type": "code",
   "execution_count": 78,
   "metadata": {},
   "outputs": [],
   "source": [
    "columns_metadata_dict['list_columns'].append('format')"
   ]
  },
  {
   "cell_type": "markdown",
   "metadata": {},
   "source": [
    "Attribute $\\texttt{format}$ describes the format of a bibliographic unit, see examples under section [Sample Records Analysis](#Sample-Records-Analysis)."
   ]
  },
  {
   "cell_type": "code",
   "execution_count": 79,
   "metadata": {},
   "outputs": [
    {
     "name": "stdout",
     "output_type": "stream",
     "text": [
      "Number of records with filled format 179688, with missing format 3719 => 98.0%\n"
     ]
    }
   ],
   "source": [
    "_, _ = daf.find_empty_in_column(df, columns_metadata_dict, 'format')"
   ]
  },
  {
   "cell_type": "code",
   "execution_count": 80,
   "metadata": {},
   "outputs": [
    {
     "data": {
      "text/plain": [
       "68388     bk020000\n",
       "69881     bk020000\n",
       "32249     bk020000\n",
       "140748    bk020053\n",
       "150516    bk020000\n",
       "114922    bk020000\n",
       "181690    bk020053\n",
       "150515    bk020000\n",
       "120306    bk020053\n",
       "1523      bk020000\n",
       "Name: format, dtype: object"
      ]
     },
     "execution_count": 80,
     "metadata": {},
     "output_type": "execute_result"
    }
   ],
   "source": [
    "df = dpf.transform_list_to_string(df, 'format')\n",
    "\n",
    "df['format'][df.format.apply(lambda x : len(x))==8].sample(n=10)"
   ]
  },
  {
   "cell_type": "code",
   "execution_count": 81,
   "metadata": {},
   "outputs": [
    {
     "name": "stdout",
     "output_type": "stream",
     "text": [
      "96.4% of the records hold one single format.\n",
      "1.6% of the records hold more than one format.\n"
     ]
    }
   ],
   "source": [
    "print('{:.1f}% of the records hold one single format.'.format(\n",
    "    df['format'][df.format.apply(lambda x : len(x))==8].count()/len(df)*100))\n",
    "print('{:.1f}% of the records hold more than one format.'.format(\n",
    "    df['format'][df.format.apply(lambda x : len(x))>8].count()/len(df)*100))"
   ]
  },
  {
   "cell_type": "code",
   "execution_count": 82,
   "metadata": {},
   "outputs": [
    {
     "data": {
      "text/plain": [
       "154419    \n",
       "167699    \n",
       "161954    \n",
       "171189    \n",
       "150562    \n",
       "168750    \n",
       "151230    \n",
       "168998    \n",
       "149930    \n",
       "164287    \n",
       "Name: format, dtype: object"
      ]
     },
     "execution_count": 82,
     "metadata": {},
     "output_type": "execute_result"
    }
   ],
   "source": [
    "df['format'][df.format.apply(lambda x : len(x))<8].sample(n=10)"
   ]
  },
  {
   "cell_type": "code",
   "execution_count": 83,
   "metadata": {},
   "outputs": [
    {
     "data": {
      "text/plain": [
       "1981    mu010100, mu010000\n",
       "2000    mu010000, mu010100\n",
       "2001    mu010100, mu010000\n",
       "2003    mu010100, mu010000\n",
       "2004    mu010200, mu010000\n",
       "Name: format, dtype: object"
      ]
     },
     "execution_count": 83,
     "metadata": {},
     "output_type": "execute_result"
    }
   ],
   "source": [
    "df['format'][df.format.apply(lambda x : len(x))>8].head()"
   ]
  },
  {
   "cell_type": "code",
   "execution_count": 84,
   "metadata": {},
   "outputs": [
    {
     "data": {
      "text/plain": [
       "17607     bk020300, bk020000, bk020500\n",
       "83055     bk020300, bk020800, bk020000\n",
       "181090    cr030700, cr030600, cr030300\n",
       "181376    bk020800, bk020400, bk020000\n",
       "Name: format, dtype: object"
      ]
     },
     "execution_count": 84,
     "metadata": {},
     "output_type": "execute_result"
    }
   ],
   "source": [
    "df['format'][df.format.apply(lambda x : len(x))>18].head()"
   ]
  },
  {
   "cell_type": "markdown",
   "metadata": {},
   "source": [
    "The attribute seems to be very relevant for a basic identification of the bibliographical unit. Mainly the first two digits seem to be a reliable rough classification indicator. The remaining digits may have an inferior importance and and an inferior reliability due to freedom of interpretation. For this reason, the attribute is divided into 2 new attributes.\n",
    "\n",
    "- New attribute $\\texttt{format_prefix}$ will hold the first two digits of the first $\\texttt{format}$ element.\n",
    "- New attribute $\\texttt{format_number}$ will hold the 6 subsequent digits of the first $\\texttt{format}$ element.\n",
    "\n",
    "The $\\texttt{format}$ attribute will be dropped after this preprocessing step."
   ]
  },
  {
   "cell_type": "code",
   "execution_count": 85,
   "metadata": {},
   "outputs": [
    {
     "data": {
      "text/html": [
       "<div>\n",
       "<style scoped>\n",
       "    .dataframe tbody tr th:only-of-type {\n",
       "        vertical-align: middle;\n",
       "    }\n",
       "\n",
       "    .dataframe tbody tr th {\n",
       "        vertical-align: top;\n",
       "    }\n",
       "\n",
       "    .dataframe thead th {\n",
       "        text-align: right;\n",
       "    }\n",
       "</style>\n",
       "<table border=\"1\" class=\"dataframe\">\n",
       "  <thead>\n",
       "    <tr style=\"text-align: right;\">\n",
       "      <th></th>\n",
       "      <th>format</th>\n",
       "      <th>format_prefix</th>\n",
       "      <th>format_postfix</th>\n",
       "    </tr>\n",
       "  </thead>\n",
       "  <tbody>\n",
       "    <tr>\n",
       "      <th>127815</th>\n",
       "      <td>bk020000</td>\n",
       "      <td>bk</td>\n",
       "      <td>020000</td>\n",
       "    </tr>\n",
       "    <tr>\n",
       "      <th>66851</th>\n",
       "      <td>bk020000</td>\n",
       "      <td>bk</td>\n",
       "      <td>020000</td>\n",
       "    </tr>\n",
       "    <tr>\n",
       "      <th>94500</th>\n",
       "      <td>bk020000</td>\n",
       "      <td>bk</td>\n",
       "      <td>020000</td>\n",
       "    </tr>\n",
       "    <tr>\n",
       "      <th>174175</th>\n",
       "      <td>bk020000</td>\n",
       "      <td>bk</td>\n",
       "      <td>020000</td>\n",
       "    </tr>\n",
       "    <tr>\n",
       "      <th>56173</th>\n",
       "      <td>bk010053</td>\n",
       "      <td>bk</td>\n",
       "      <td>010053</td>\n",
       "    </tr>\n",
       "    <tr>\n",
       "      <th>1608</th>\n",
       "      <td>bk020000</td>\n",
       "      <td>bk</td>\n",
       "      <td>020000</td>\n",
       "    </tr>\n",
       "    <tr>\n",
       "      <th>70628</th>\n",
       "      <td>bk020000</td>\n",
       "      <td>bk</td>\n",
       "      <td>020000</td>\n",
       "    </tr>\n",
       "    <tr>\n",
       "      <th>139084</th>\n",
       "      <td>bk020053</td>\n",
       "      <td>bk</td>\n",
       "      <td>020053</td>\n",
       "    </tr>\n",
       "    <tr>\n",
       "      <th>38556</th>\n",
       "      <td>bk020053</td>\n",
       "      <td>bk</td>\n",
       "      <td>020053</td>\n",
       "    </tr>\n",
       "    <tr>\n",
       "      <th>84826</th>\n",
       "      <td>bk010000</td>\n",
       "      <td>bk</td>\n",
       "      <td>010000</td>\n",
       "    </tr>\n",
       "    <tr>\n",
       "      <th>142551</th>\n",
       "      <td>bk020000</td>\n",
       "      <td>bk</td>\n",
       "      <td>020000</td>\n",
       "    </tr>\n",
       "    <tr>\n",
       "      <th>17297</th>\n",
       "      <td>bk020300</td>\n",
       "      <td>bk</td>\n",
       "      <td>020300</td>\n",
       "    </tr>\n",
       "    <tr>\n",
       "      <th>144956</th>\n",
       "      <td>bk020300</td>\n",
       "      <td>bk</td>\n",
       "      <td>020300</td>\n",
       "    </tr>\n",
       "    <tr>\n",
       "      <th>27107</th>\n",
       "      <td>bk020000</td>\n",
       "      <td>bk</td>\n",
       "      <td>020000</td>\n",
       "    </tr>\n",
       "    <tr>\n",
       "      <th>17895</th>\n",
       "      <td>bk020000</td>\n",
       "      <td>bk</td>\n",
       "      <td>020000</td>\n",
       "    </tr>\n",
       "  </tbody>\n",
       "</table>\n",
       "</div>"
      ],
      "text/plain": [
       "          format format_prefix format_postfix\n",
       "127815  bk020000            bk         020000\n",
       "66851   bk020000            bk         020000\n",
       "94500   bk020000            bk         020000\n",
       "174175  bk020000            bk         020000\n",
       "56173   bk010053            bk         010053\n",
       "1608    bk020000            bk         020000\n",
       "70628   bk020000            bk         020000\n",
       "139084  bk020053            bk         020053\n",
       "38556   bk020053            bk         020053\n",
       "84826   bk010000            bk         010000\n",
       "142551  bk020000            bk         020000\n",
       "17297   bk020300            bk         020300\n",
       "144956  bk020300            bk         020300\n",
       "27107   bk020000            bk         020000\n",
       "17895   bk020000            bk         020000"
      ]
     },
     "execution_count": 85,
     "metadata": {},
     "output_type": "execute_result"
    }
   ],
   "source": [
    "df['format_prefix'] = df.format.str[:2]\n",
    "df.format_prefix[df['format_prefix']==''] = '  '\n",
    "df['format_postfix'] = df.format.str[2:8]\n",
    "df.format_postfix[df['format_postfix']==''] = '      '\n",
    "df[['format', 'format_prefix', 'format_postfix']].sample(n=15)"
   ]
  },
  {
   "cell_type": "markdown",
   "metadata": {},
   "source": [
    "This preprocessing step has been implemented in a separate function $\\texttt{.split}\\_\\texttt{format()}$ which can be found in code file [data_preparation_funcs.py](./data_preparation_funcs.py)"
   ]
  },
  {
   "cell_type": "code",
   "execution_count": 86,
   "metadata": {},
   "outputs": [],
   "source": [
    "columns_metadata_dict['data_analysis_columns'].append('format_prefix')\n",
    "columns_metadata_dict['data_analysis_columns'].append('format_postfix')"
   ]
  },
  {
   "cell_type": "markdown",
   "metadata": {},
   "source": [
    "### isbn"
   ]
  },
  {
   "cell_type": "code",
   "execution_count": 87,
   "metadata": {},
   "outputs": [],
   "source": [
    "columns_metadata_dict['list_columns'].append('isbn')"
   ]
  },
  {
   "cell_type": "code",
   "execution_count": 88,
   "metadata": {},
   "outputs": [
    {
     "name": "stdout",
     "output_type": "stream",
     "text": [
      "Number of records with filled isbn 80688, with missing isbn 102719 => 44.0%\n"
     ]
    }
   ],
   "source": [
    "_, _ = daf.find_empty_in_column(df, columns_metadata_dict, 'isbn')"
   ]
  },
  {
   "cell_type": "markdown",
   "metadata": {},
   "source": [
    "Attribute $\\texttt{isbn}$ holds two different kinds of information, the ISBN or the ISSN of a bibliographic unit. The ISBN is the identifier for monographs, while the ISSN identifies periodicals. An ISBN is either of length 10 or of length 13, an ISSN is of length 8. Due to this length attribution, it is not relevant whether the field holds an ISBN or an ISSN."
   ]
  },
  {
   "cell_type": "code",
   "execution_count": 89,
   "metadata": {},
   "outputs": [
    {
     "data": {
      "text/plain": [
       "20199            [978-2-7089-5973-6]\n",
       "43442     [978-0-19-969299-6 (hbk.)]\n",
       "61667                [3-465-02605-5]\n",
       "48304                [3-407-80061-4]\n",
       "151427               [3-402-06373-5]\n",
       "101562           [978-1-108-18550-9]\n",
       "52125            [978-2-240-04463-1]\n",
       "69977                [3-88979-027-5]\n",
       "48530                [3-551-73335-X]\n",
       "5674             [978-0-571-52861-5]\n",
       "89891            [978-1-5017-1812-0]\n",
       "183213           [978-3-319-94655-9]\n",
       "2741                 [3-930710-76-5]\n",
       "86964            [978-2-7381-0382-6]\n",
       "158828               [1-4120-4659-9]\n",
       "29002            [978-3-518-10743-0]\n",
       "83405            [978-2-87854-972-0]\n",
       "160967               [1-59197-728-2]\n",
       "100686           [978-0-429-46757-8]\n",
       "86866            [978-1-78643-116-5]\n",
       "Name: isbn, dtype: object"
      ]
     },
     "execution_count": 89,
     "metadata": {},
     "output_type": "execute_result"
    }
   ],
   "source": [
    "df.isbn[df.isbn.apply(lambda x : len(x)==1 )].sample(n=20)"
   ]
  },
  {
   "cell_type": "markdown",
   "metadata": {},
   "source": [
    "The attribute is a list of string elements. Some samples with exactly one string element are shown above, some samples with more than one string element are shown below."
   ]
  },
  {
   "cell_type": "code",
   "execution_count": 90,
   "metadata": {},
   "outputs": [
    {
     "data": {
      "text/plain": [
       "61928                    [978-3-03810-218-2, 3-03810-218-0]\n",
       "17627                    [978-88-8281-480-9, 88-8281-480-7]\n",
       "16282                    [978-0-9947104-1-3, 0-9947104-1-0]\n",
       "22692                    [978-3-7749-4119-9, 3-7749-4119-X]\n",
       "98981     [978-0-7354-1752-6, 978-0-7354-1753-3, 978-0-7...\n",
       "123200                   [978-3-8317-3169-5, 3-8317-3169-1]\n",
       "114707    [978-1-4968-2159-1, 1-4968-2159-9, 978-1-4968-...\n",
       "121129                   [978-3-319-98412-4, 3-319-98412-8]\n",
       "142780                   [978-3-8440-6340-0, 3-8440-6340-4]\n",
       "26354                    [978-3-589-24560-4, 3-589-24560-3]\n",
       "135793    [978-3-8394-4202-9, 3-8394-4202-8 (EBook) : US...\n",
       "5428                     [3-421-06246-3, 978-3-421-06246-8]\n",
       "31867                    [978-3-8068-4476-4, 3-8068-4476-3]\n",
       "127190    [978-3-8394-2219-9, 3-8394-2219-1, 978-3-8376-...\n",
       "31050                    [978-3-905752-67-0, 3-905752-67-0]\n",
       "54673                    [978-1-78698-004-5, 1-78698-004-5]\n",
       "44316     [978-0-674-72969-8 (hbk. : alk. paper), 0-674-...\n",
       "21871                    [978-2-84287-783-5, 2-84287-783-7]\n",
       "18011                    [0-385-27962-0, 978-0-385-27962-8]\n",
       "20914                    [967-440-314-0, 978-967-440-314-0]\n",
       "Name: isbn, dtype: object"
      ]
     },
     "execution_count": 90,
     "metadata": {},
     "output_type": "execute_result"
    }
   ],
   "source": [
    "df.isbn[df.isbn.apply(lambda x : len(x)>1 )].sample(n=20)"
   ]
  },
  {
   "cell_type": "code",
   "execution_count": 91,
   "metadata": {},
   "outputs": [
    {
     "name": "stdout",
     "output_type": "stream",
     "text": [
      "29,073 records hold 1 list element(s).\n",
      "3,762 records hold 2 list element(s).\n",
      "2,331 records hold 3 list element(s).\n",
      "519 records hold 4 list element(s).\n",
      "398 records hold 5 list element(s).\n",
      "173 records hold 6 list element(s).\n",
      "156 records hold 7 list element(s).\n",
      "84 records hold 8 list element(s).\n",
      "76 records hold 9 list element(s).\n",
      "51 records hold 10 list element(s).\n",
      "43 records hold 11 list element(s).\n",
      "29 records hold 12 list element(s).\n",
      "26 records hold 13 list element(s).\n",
      "19 records hold 14 list element(s).\n",
      "18 records hold 15 list element(s).\n",
      "10 records hold 16 list element(s).\n",
      "9 records hold 17 list element(s).\n",
      "8 records hold 18 list element(s).\n",
      "7 records hold 19 list element(s).\n",
      "7 records hold 20 list element(s).\n",
      "7 records hold 21 list element(s).\n",
      "7 records hold 22 list element(s).\n",
      "7 records hold 23 list element(s).\n",
      "5 records hold 24 list element(s).\n",
      "4 records hold 25 list element(s).\n",
      "3 records hold 26 list element(s).\n",
      "3 records hold 27 list element(s).\n",
      "3 records hold 28 list element(s).\n",
      "3 records hold 29 list element(s).\n",
      "1 records hold 30 list element(s).\n",
      "1 records hold 31 list element(s).\n",
      "1 records hold 32 list element(s).\n",
      "1 records hold 33 list element(s).\n",
      "1 records hold 34 list element(s).\n",
      "1 records hold 35 list element(s).\n",
      "1 records hold 36 list element(s).\n",
      "1 records hold 37 list element(s).\n",
      "1 records hold 38 list element(s).\n",
      "1 records hold 39 list element(s).\n",
      "1 records hold 40 list element(s).\n",
      "1 records hold 41 list element(s).\n",
      "0 records hold 42 list element(s).\n",
      "=> Maximum number of list elements 41\n"
     ]
    }
   ],
   "source": [
    "i = 0\n",
    "while len(df.isbn[df.isbn.apply(lambda x : len(x))>i]) > 0 :\n",
    "    i = i+1\n",
    "    print('{:,d} records hold {:d} list element(s).'.format(\n",
    "        len(df.isbn[df.isbn.apply(lambda x : len(x))>i]), i))\n",
    "        \n",
    "print('=> Maximum number of list elements', i-1)"
   ]
  },
  {
   "cell_type": "code",
   "execution_count": 92,
   "metadata": {},
   "outputs": [
    {
     "data": {
      "text/plain": [
       "56053     [978-2-7560-2238-3, 978-2-7560-2239-0, 978-2-7...\n",
       "11393     [3-551-74191-3, 3-551-74192-1, 3-551-74193-X, ...\n",
       "116242    [978-7-107-30418-7, 7-107-30418-6, 978-7-107-3...\n",
       "20851     [4-89434-420-3, 4-89434-421-1, 4-89434-435-1, ...\n",
       "31742     [978-7-5675-2659-4, 7-5675-2659-X, 978-7-5675-...\n",
       "148140    [978-1-4742-3212-8, 1-4742-3212-4, 978-1-4742-...\n",
       "126999    [978-1-315-60322-3, 1-315-60322-5, 0-7546-7843...\n",
       "113064    [978-4-469-22249-4, 4-469-22249-6, 978-4-469-2...\n",
       "39158     [978-3-11-044748-4, 3-11-044748-7, 978-3-11-04...\n",
       "116180    [978-7-5619-3903-1, 7-5619-3903-5, 978-7-5619-...\n",
       "Name: isbn, dtype: object"
      ]
     },
     "execution_count": 92,
     "metadata": {},
     "output_type": "execute_result"
    }
   ],
   "source": [
    "df.isbn[df.isbn.apply(lambda x : len(x))>10].sample(n=10)"
   ]
  },
  {
   "cell_type": "markdown",
   "metadata": {},
   "source": [
    "Attribute $\\texttt{isbn}$ is taken to further processing as the list of string elements with their values as they are."
   ]
  },
  {
   "cell_type": "code",
   "execution_count": 93,
   "metadata": {},
   "outputs": [],
   "source": [
    "columns_metadata_dict['data_analysis_columns'].append('isbn')"
   ]
  },
  {
   "cell_type": "markdown",
   "metadata": {},
   "source": [
    "### ismn"
   ]
  },
  {
   "cell_type": "code",
   "execution_count": 94,
   "metadata": {},
   "outputs": [],
   "source": [
    "columns_metadata_dict['list_columns'].append('ismn')"
   ]
  },
  {
   "cell_type": "code",
   "execution_count": 95,
   "metadata": {},
   "outputs": [
    {
     "name": "stdout",
     "output_type": "stream",
     "text": [
      "Number of records with filled ismn 10114, with missing ismn 173293 => 5.5%\n"
     ]
    }
   ],
   "source": [
    "_, _ = daf.find_empty_in_column(df, columns_metadata_dict, 'ismn')"
   ]
  },
  {
   "cell_type": "code",
   "execution_count": 96,
   "metadata": {},
   "outputs": [
    {
     "name": "stdout",
     "output_type": "stream",
     "text": [
      "2,312 records hold 1 list element(s).\n",
      "13 records hold 2 list element(s).\n",
      "11 records hold 3 list element(s).\n",
      "1 records hold 4 list element(s).\n",
      "0 records hold 5 list element(s).\n",
      "=> Maximum number of list elements 4\n"
     ]
    }
   ],
   "source": [
    "i = 0\n",
    "while len(df.isbn[df.ismn.apply(lambda x : len(x))>i]) > 0 :\n",
    "    i = i+1\n",
    "    print('{:,d} records hold {:d} list element(s).'.format(\n",
    "        len(df.ismn[df.ismn.apply(lambda x : len(x))>i]), i))\n",
    "        \n",
    "print('=> Maximum number of list elements', i-1)"
   ]
  },
  {
   "cell_type": "code",
   "execution_count": 97,
   "metadata": {},
   "outputs": [
    {
     "data": {
      "text/plain": [
       "24866    [oai:serval.unil.ch:BIB_48517DE762D2, urn:nbn:...\n",
       "34755    [10.5451/unibas-006838498, urn:nbn:ch:bel-bau-...\n",
       "34758    [10.5451/unibas-006836804, urn:nbn:ch:bel-bau-...\n",
       "34814    [10.5451/unibas-006837535, urn:nbn:ch:bel-bau-...\n",
       "34833    [10.5451/unibas-006844191, urn:nbn:ch:bel-bau-...\n",
       "Name: ismn, dtype: object"
      ]
     },
     "execution_count": 97,
     "metadata": {},
     "output_type": "execute_result"
    }
   ],
   "source": [
    "df.ismn[df.ismn.apply(lambda x : len(x))>2].head()"
   ]
  },
  {
   "cell_type": "code",
   "execution_count": 98,
   "metadata": {},
   "outputs": [],
   "source": [
    "columns_metadata_dict['data_analysis_columns'].append('ismn')"
   ]
  },
  {
   "cell_type": "markdown",
   "metadata": {},
   "source": [
    "### musicid"
   ]
  },
  {
   "cell_type": "code",
   "execution_count": 99,
   "metadata": {},
   "outputs": [],
   "source": [
    "columns_metadata_dict['strings_columns'].append('musicid')"
   ]
  },
  {
   "cell_type": "code",
   "execution_count": 100,
   "metadata": {},
   "outputs": [
    {
     "name": "stdout",
     "output_type": "stream",
     "text": [
      "Number of records with filled musicid 13502, with missing musicid 169905 => 7.4%\n"
     ]
    }
   ],
   "source": [
    "_, _ = daf.find_empty_in_column(df, columns_metadata_dict, 'musicid')"
   ]
  },
  {
   "cell_type": "markdown",
   "metadata": {},
   "source": [
    "Attribute $\\texttt{musicid}$ is a publisher's number identifying sound carriers, books with music notes, and movies of a music record [[WiCo2001](./A_References.ipynb#wico2001)]. Some sample records are shown below."
   ]
  },
  {
   "cell_type": "code",
   "execution_count": 101,
   "metadata": {},
   "outputs": [
    {
     "name": "stdout",
     "output_type": "stream",
     "text": [
      "Number of records with ...\n",
      "... format 'mu' and with musicid : 10742\n",
      "... format 'mu' and without musicid : 3905\n",
      "... format unequal 'mu' and with musicid : 2760\n",
      "... format unequal 'mu' and without musicid : 166000\n"
     ]
    }
   ],
   "source": [
    "print('Number of records with ...')\n",
    "\n",
    "print('... format \\'mu\\' and with musicid :', \n",
    "len(df.musicid[df.format_prefix == 'mu'][\n",
    "    df.musicid[df.format_prefix == 'mu'].apply(lambda x : len(x)>0) ])\n",
    ")\n",
    "print('... format \\'mu\\' and without musicid :', \n",
    "len(df.musicid[df.format_prefix == 'mu'][\n",
    "    df.musicid[df.format_prefix == 'mu'].apply(lambda x : len(x)==0) ])\n",
    ")\n",
    "print('... format unequal \\'mu\\' and with musicid :', \n",
    "len(df.musicid[df.format_prefix != 'mu'][\n",
    "    df.musicid[df.format_prefix != 'mu'].apply(lambda x : len(x)>0) ])\n",
    ")\n",
    "print('... format unequal \\'mu\\' and without musicid :', \n",
    "len(df.musicid[df.format_prefix != 'mu'][\n",
    "    df.musicid[df.format_prefix != 'mu'].apply(lambda x : len(x)==0) ])\n",
    ")"
   ]
  },
  {
   "cell_type": "code",
   "execution_count": 102,
   "metadata": {},
   "outputs": [
    {
     "data": {
      "text/plain": [
       "vm    1432\n",
       "bk    1287\n",
       "cf      39\n",
       "cr       1\n",
       "mp       1\n",
       "Name: format_prefix, dtype: int64"
      ]
     },
     "execution_count": 102,
     "metadata": {},
     "output_type": "execute_result"
    }
   ],
   "source": [
    "df.format_prefix[df.format_prefix != 'mu'][\n",
    "    df.musicid[df.format_prefix != 'mu'].apply(lambda x : len(x)>0) ].value_counts()"
   ]
  },
  {
   "cell_type": "code",
   "execution_count": 103,
   "metadata": {},
   "outputs": [
    {
     "data": {
      "text/plain": [
       "12609            Schnoutz Records SCD 7\n",
       "4373                      DG 459  557-2\n",
       "75641                             om241\n",
       "122962                          TZ 3011\n",
       "7257                        CD SF 40010\n",
       "3593      Deutsche Grammophon 457 631-2\n",
       "46620        Bestellnummer: 1171393 000\n",
       "9958                       0927-49173-2\n",
       "14102                  Mercury 985828-5\n",
       "15538                  Eye Q 4509939892\n",
       "4333                      4029759065517\n",
       "9663                        88985386632\n",
       "23889                       DE131152SC2\n",
       "134882                       K 2014 012\n",
       "8506                  Mantra MNTCD 1038\n",
       "47663                        HL00232485\n",
       "96168                       RPL 2473/74\n",
       "92550                             13941\n",
       "14141             Atlantic 7567-82099-2\n",
       "46254               Bestellnummer: 9991\n",
       "Name: musicid, dtype: object"
      ]
     },
     "execution_count": 103,
     "metadata": {},
     "output_type": "execute_result"
    }
   ],
   "source": [
    "df.musicid[df.musicid.apply(lambda x : len(x)>0)].sample(n=20)"
   ]
  },
  {
   "cell_type": "markdown",
   "metadata": {},
   "source": [
    "The attribute is taken to further processing steps as is."
   ]
  },
  {
   "cell_type": "code",
   "execution_count": 104,
   "metadata": {},
   "outputs": [],
   "source": [
    "columns_metadata_dict['data_analysis_columns'].append('musicid')"
   ]
  },
  {
   "cell_type": "markdown",
   "metadata": {},
   "source": [
    "### pages"
   ]
  },
  {
   "cell_type": "code",
   "execution_count": 105,
   "metadata": {},
   "outputs": [],
   "source": [
    "columns_metadata_dict['list_columns'].append('pages')"
   ]
  },
  {
   "cell_type": "code",
   "execution_count": 106,
   "metadata": {},
   "outputs": [
    {
     "name": "stdout",
     "output_type": "stream",
     "text": [
      "Number of records with filled pages 161471, with missing pages 21936 => 88.0%\n"
     ]
    }
   ],
   "source": [
    "_, _ = daf.find_empty_in_column(df, columns_metadata_dict, 'pages')"
   ]
  },
  {
   "cell_type": "markdown",
   "metadata": {},
   "source": [
    "Attribute $\\texttt{pages}$ has the same MARC 21 basis as attribute $\\texttt{volumes}$. In Swissbib's processing, it is used for extracting pages information out of the MARC 21 data. This information is part of $\\texttt{volumes}$ and will therefore be dropped due to redundancy."
   ]
  },
  {
   "cell_type": "markdown",
   "metadata": {},
   "source": [
    "### part"
   ]
  },
  {
   "cell_type": "code",
   "execution_count": 107,
   "metadata": {},
   "outputs": [],
   "source": [
    "columns_metadata_dict['list_columns'] = ['part']"
   ]
  },
  {
   "cell_type": "code",
   "execution_count": 108,
   "metadata": {},
   "outputs": [
    {
     "name": "stdout",
     "output_type": "stream",
     "text": [
      "Number of records with filled part 43116, with missing part 140291 => 23.5%\n"
     ]
    }
   ],
   "source": [
    "_, _ = daf.find_empty_in_column(df, columns_metadata_dict, 'part')"
   ]
  },
  {
   "cell_type": "markdown",
   "metadata": {},
   "source": [
    "Attribute $\\texttt{part}$ is a list of collected part descriptions of the MARC 21 data. In the Swissbib implementation, the attribute is normalised strongly with the goal to identify the information of a volume as a unique number."
   ]
  },
  {
   "cell_type": "code",
   "execution_count": 109,
   "metadata": {},
   "outputs": [
    {
     "data": {
      "text/plain": [
       "110830                         [2:115-137]\n",
       "75273                [Heft 2, Seite 55-62]\n",
       "93397                             [Band 8]\n",
       "20964           [dai 127-kan, dai 127-kan]\n",
       "110050                             [72-1A]\n",
       "75661                            [Bd 3, 3]\n",
       "147968                                 [9]\n",
       "95602                             [Band 4]\n",
       "87208                       [volume 10780]\n",
       "29480                     [Seiten 188-212]\n",
       "125523                               [144]\n",
       "61230                           [1):46-47]\n",
       "172033          [2006, Vol. 2, S. 384-391]\n",
       "104102                              [2012]\n",
       "81081     [Jg. 30 (2000),Nr. 10, S. 27-31]\n",
       "79756                [Band-Nr. 8217, 8217]\n",
       "59215                             [Nr. 15]\n",
       "54366               [Jg. 70, Heft 6(2018)]\n",
       "112573                         [no. 13522]\n",
       "69423                     [1990/1, 1990-1]\n",
       "Name: part, dtype: object"
      ]
     },
     "execution_count": 109,
     "metadata": {},
     "output_type": "execute_result"
    }
   ],
   "source": [
    "df.part[df.part.apply(lambda x : len(x)>0)].sample(n=20)"
   ]
  },
  {
   "cell_type": "code",
   "execution_count": 110,
   "metadata": {},
   "outputs": [
    {
     "data": {
      "text/plain": [
       "part                 [volume 7]\n",
       "volumes    [1 Online-Ressource]\n",
       "Name: 85733, dtype: object"
      ]
     },
     "execution_count": 110,
     "metadata": {},
     "output_type": "execute_result"
    }
   ],
   "source": [
    "df[['part', 'volumes']].loc[85733]"
   ]
  },
  {
   "cell_type": "code",
   "execution_count": 111,
   "metadata": {},
   "outputs": [
    {
     "data": {
      "text/plain": [
       "['2000', 'S. 261-281', 'Band 37']"
      ]
     },
     "execution_count": 111,
     "metadata": {},
     "output_type": "execute_result"
    }
   ],
   "source": [
    "df.part.loc[81304]"
   ]
  },
  {
   "cell_type": "code",
   "execution_count": 112,
   "metadata": {},
   "outputs": [],
   "source": [
    "df = dpf.transform_list_to_string(df, 'part')"
   ]
  },
  {
   "cell_type": "markdown",
   "metadata": {},
   "source": [
    "The list of strings will be transformed to a singular string with the help of function $\\texttt{.transform}\\_\\texttt{list}\\_\\texttt{to}\\_\\texttt{string}()$."
   ]
  },
  {
   "cell_type": "code",
   "execution_count": 113,
   "metadata": {},
   "outputs": [],
   "source": [
    "columns_metadata_dict['data_analysis_columns'].append('part')"
   ]
  },
  {
   "cell_type": "markdown",
   "metadata": {},
   "source": [
    "### person"
   ]
  },
  {
   "cell_type": "code",
   "execution_count": 114,
   "metadata": {},
   "outputs": [],
   "source": [
    "columns_metadata_dict['strings_columns'].append('person')"
   ]
  },
  {
   "cell_type": "markdown",
   "metadata": {},
   "source": [
    "Attribute $\\texttt{person}$ is a collection of personal names statements of the bibliographic unit, see [[FeatWiki](./A_References.ipynb/#feature_deduplication_wiki)]. The attribute out of the raw data is a dictionary column in the DataFrame with four possible key value pairs. Attribute $\\texttt{person}$ is split for processing reasons into a singular attribute for each key of the dictionary. The values come along as lists and the implemented function $\\texttt{.transform}\\_\\texttt{list}\\_\\texttt{to}\\_\\texttt{string()}$ will be used to process its elements into one single string of the new column."
   ]
  },
  {
   "cell_type": "code",
   "execution_count": 115,
   "metadata": {},
   "outputs": [
    {
     "data": {
      "text/plain": [
       "95026     {'100': [], '700': ['EdmundsLaurel D.joint aut...\n",
       "62369     {'100': ['StudniczkaFranz1860-1929(DE-588)1173...\n",
       "10408                      {'100': [], '245c': ['Reamonn']}\n",
       "40811     {'100': [], '700': ['KleifgenJo Anne', 'BondGe...\n",
       "149949    {'100': ['BlümelCarl'], '245c': ['Beschreibung...\n",
       "129863    {'100': [], '700': ['YbarraDaniel(RERO)A027571...\n",
       "135514    {'100': ['BalogYeshaya P.1976-(DE-588)11672515...\n",
       "37124                             {'100': [], '245c': ['']}\n",
       "67379          {'100': ['AdamPaul'], '245c': ['Paul Adam']}\n",
       "40913     {'100': ['RieckeE.Eduardb. 1845'], '700': ['Le...\n",
       "86512     {'100': ['TsuchidaRyūtarō(DE-588)1159321671Ver...\n",
       "46860     {'100': ['EggersglüssStephanauthor'], '700': [...\n",
       "38772     {'100': ['AumannGeorgauthor'], '700': ['HauptO...\n",
       "126544    {'100': [], '700': ['AkhmedovAlexanderjoint au...\n",
       "53481     {'100': [], '700': ['LiuShide1932-(DE-588)1069...\n",
       "88961                             {'100': [], '245c': ['']}\n",
       "133950    {'100': ['WagnerE.'], '700': ['WeberHans-Heinr...\n",
       "28745     {'100': ['Chichester ClarkEmma(RERO)A019165414...\n",
       "173198    {'100': ['MeylanCésarVerfasseraut'], '245c': [...\n",
       "126056    {'100': ['AuredenLiloVerfasseraut'], '700': ['...\n",
       "Name: person, dtype: object"
      ]
     },
     "execution_count": 115,
     "metadata": {},
     "output_type": "execute_result"
    }
   ],
   "source": [
    "df.person.sample(n=20)"
   ]
  },
  {
   "cell_type": "code",
   "execution_count": 116,
   "metadata": {},
   "outputs": [
    {
     "name": "stdout",
     "output_type": "stream",
     "text": [
      "Number of records with filled person_100 115396, with missing person_100 68011 => 62.9%\n",
      "Number of records with filled person_700 73254, with missing person_700 110153 => 39.9%\n",
      "Number of records with filled person_800 1137, with missing person_800 182270 => 0.6%\n",
      "Number of records with filled person_245c 158011, with missing person_245c 25396 => 86.2%\n"
     ]
    }
   ],
   "source": [
    "for ending in ['100', '700', '800', '245c']:\n",
    "    df = dpf.transform_dictionary_to_list(df, 'person', ending)\n",
    "    df = dpf.transform_list_to_string(df, 'person_'+ending)\n",
    "\n",
    "    columns_metadata_dict['strings_columns'].append('person_'+ending)\n",
    "    _, _ = daf.find_empty_in_column(df, columns_metadata_dict, 'person_'+ending)"
   ]
  },
  {
   "cell_type": "code",
   "execution_count": 117,
   "metadata": {},
   "outputs": [
    {
     "data": {
      "text/plain": [
       "6521                                      von robert wetzel\n",
       "98124                      [eva bergstraesser, maria flury]\n",
       "59779                                           georg hajdu\n",
       "24037     edited by claude ménard (professor (emeritus) ...\n",
       "116950                                       poluse, martin\n",
       "76731     [caroline j. falconer, janek s. lobmaier, mari...\n",
       "94277     ole könnecke ; traduzione dal tedesco di chiar...\n",
       "7822                                        orquesta aragon\n",
       "166209    organōtikē epitropē olympiakōn agōnōn athēna 2004\n",
       "1615           e. mörike ; mit 14 zeichnungen von hans meid\n",
       "155315                       salt lake organizing committee\n",
       "26422                      gabi elverich ... [et al.] (hg.)\n",
       "125128                                    poppy j. anderson\n",
       "163918                       ed. hellenic olympic committee\n",
       "39562                               edited by carlo rovelli\n",
       "37720                                         amanda shaver\n",
       "146248    éditeur: office fédéral de la statistique (ofs...\n",
       "120624                                                 tull\n",
       "176991    edited by michael stausberg and yuhan sohrab-d...\n",
       "118743                                     reinhold niebuhr\n",
       "Name: person_245c, dtype: object"
      ]
     },
     "execution_count": 117,
     "metadata": {},
     "output_type": "execute_result"
    }
   ],
   "source": [
    "df.person_245c[df.person_245c.apply(lambda x : len(x)>0)].sample(n=20)"
   ]
  },
  {
   "cell_type": "code",
   "execution_count": 118,
   "metadata": {},
   "outputs": [
    {
     "data": {
      "text/plain": [
       "46885                                 windischherbertauthor\n",
       "11931                                            lorentziny\n",
       "99368     schlingloffdieter1928-(de-588)105209597verfass...\n",
       "127850                                            schererm.\n",
       "14914                                            larssonåsa\n",
       "12006                                           niemackjudy\n",
       "75837                                 allenmikeverfasseraut\n",
       "121676                                         linderaudrey\n",
       "61819                     brugièrefabien(rero)a027188731cre\n",
       "78620                              sommermartinverfasseraut\n",
       "149636                                         seyboldeugen\n",
       "113608                               clarckkarlverfasseraut\n",
       "99536                                     del franciasilvia\n",
       "26152                      lundkvistsven(rero)a003536559cre\n",
       "91948                            kilianisabelleverfasseraut\n",
       "69476                   gionojean1895-1970(de-588)118717545\n",
       "120695                                               bishop\n",
       "53140                                        driestenj. van\n",
       "153281                                   coubertinpierre de\n",
       "77642        beeliursula1965-(de-588)1177149575verfasseraut\n",
       "Name: person_100, dtype: object"
      ]
     },
     "execution_count": 118,
     "metadata": {},
     "output_type": "execute_result"
    }
   ],
   "source": [
    "df.person_100[df.person_100.apply(lambda x : len(x)>0)].sample(n=20)"
   ]
  },
  {
   "cell_type": "code",
   "execution_count": 119,
   "metadata": {},
   "outputs": [
    {
     "data": {
      "text/plain": [
       "147634    ramakrishna1836-1886(de-588)11859799xgefeierte...\n",
       "42910     janiakchristophauthor, meyerhans-jürgen1958-ed...\n",
       "75061                                       amreinursulactb\n",
       "133963             herreweghephilippe1947-(de-588)12306385x\n",
       "142708        rosendahltobias(de-588)1162861525verfasseraut\n",
       "121000                                           pintocosta\n",
       "137308    cathomasrico1967-(de-588)12411850xherausgebere...\n",
       "14221     laubrockingrid1970-(de-588)1019431067instrumen...\n",
       "8141                                            hillierpaul\n",
       "132125          michaelsenkatherine jánszky(rero)a003591248\n",
       "47099     gaiserbirgiteditor, hessefriedrich w.editor, l...\n",
       "5358                                             marcusemax\n",
       "27126                                            peppéroger\n",
       "163226                                          lauermartin\n",
       "1897              meierjost1939-grockiana(de-588)1175433217\n",
       "36265     bhatesaroja1942-(de-588)11802907xherausgebered...\n",
       "73857     ambrusgauthier, jacobfrançois1963-(de-588)1330...\n",
       "95942     böhmehorst wolfgang1940-(de-588)107314886herau...\n",
       "149919                                          ichahrobert\n",
       "89060                                    garipzanovildar h.\n",
       "Name: person_700, dtype: object"
      ]
     },
     "execution_count": 119,
     "metadata": {},
     "output_type": "execute_result"
    }
   ],
   "source": [
    "df.person_700[df.person_700.apply(lambda x : len(x)>0)].sample(n=20)"
   ]
  },
  {
   "cell_type": "code",
   "execution_count": 120,
   "metadata": {},
   "outputs": [
    {
     "data": {
      "text/plain": [
       "77856                                  legrainthomassisco10\n",
       "45463                                       midamgame over3\n",
       "60938                            ceppidaniel1951-unterwegs4\n",
       "19777                         pinardphilippeciel de guerre2\n",
       "109236                        rutishauserwalter1940-2017fdp\n",
       "85268                                ohbatsugumideath note8\n",
       "124401    lonerganbernard j. f.works19882., lonerganbern...\n",
       "25423                       marxkarlbriefe, marxkarlwerke34\n",
       "180017                                              nobdad3\n",
       "49685                               cuvelliervincentemile11\n",
       "76103                               mittonjean-yvesalwilda1\n",
       "47174       goethejohann wolfgang von1749-1832werke goethes\n",
       "78359         prigovdmitriĭ aleksandrovichsobranie stikhov1\n",
       "92677                         gillotlaurencelulu-grenadine9\n",
       "138566             thurstonbryan cyrilbryan cyril thurston1\n",
       "70501                       corneillepierrethéâtre complet1\n",
       "177637                        rutishauserwalter1940-2017fdp\n",
       "124388    jungc. g.carl gustav1875-1961.worksenglish.195...\n",
       "30721                         gillotlaurencelulu-grenadine3\n",
       "140990    henscheideckhardgesammelte werke in einzelausg...\n",
       "Name: person_800, dtype: object"
      ]
     },
     "execution_count": 120,
     "metadata": {},
     "output_type": "execute_result"
    }
   ],
   "source": [
    "df.person_800[df.person_800.apply(lambda x : len(x)>0)].sample(n=20)"
   ]
  },
  {
   "attachments": {},
   "cell_type": "markdown",
   "metadata": {},
   "source": [
    "According to [[WiCo2001](./A_References.ipynb#wico2001)], attributes $\\texttt{person}\\_\\texttt{100}$ and $\\texttt{person}\\_\\texttt{700}$ hold standardized author information. Swissbib uses $\\texttt{person}\\_\\texttt{245c}$ as a fallback only, in case of missing $\\texttt{person}\\_\\texttt{100}$ and $\\texttt{person}\\_\\texttt{700}$."
   ]
  },
  {
   "cell_type": "code",
   "execution_count": 121,
   "metadata": {},
   "outputs": [
    {
     "data": {
      "text/html": [
       "<div>\n",
       "<style scoped>\n",
       "    .dataframe tbody tr th:only-of-type {\n",
       "        vertical-align: middle;\n",
       "    }\n",
       "\n",
       "    .dataframe tbody tr th {\n",
       "        vertical-align: top;\n",
       "    }\n",
       "\n",
       "    .dataframe thead th {\n",
       "        text-align: right;\n",
       "    }\n",
       "</style>\n",
       "<table border=\"1\" class=\"dataframe\">\n",
       "  <thead>\n",
       "    <tr style=\"text-align: right;\">\n",
       "      <th></th>\n",
       "      <th>person_245c</th>\n",
       "      <th>person_100</th>\n",
       "      <th>person_700</th>\n",
       "      <th>person_800</th>\n",
       "    </tr>\n",
       "  </thead>\n",
       "  <tbody>\n",
       "    <tr>\n",
       "      <th>145865</th>\n",
       "      <td>n.k. jemisin</td>\n",
       "      <td>jemisinn. k.1972-(de-588)141498587verfasseraut</td>\n",
       "      <td></td>\n",
       "      <td>jemisinn.k.1972-the broken earth1</td>\n",
       "    </tr>\n",
       "    <tr>\n",
       "      <th>46825</th>\n",
       "      <td>jean-marie agier, philippe graf</td>\n",
       "      <td>agierjean-marie</td>\n",
       "      <td>grafphilippe</td>\n",
       "      <td></td>\n",
       "    </tr>\n",
       "  </tbody>\n",
       "</table>\n",
       "</div>"
      ],
      "text/plain": [
       "                            person_245c  \\\n",
       "145865                     n.k. jemisin   \n",
       "46825   jean-marie agier, philippe graf   \n",
       "\n",
       "                                            person_100    person_700  \\\n",
       "145865  jemisinn. k.1972-(de-588)141498587verfasseraut                 \n",
       "46825                                  agierjean-marie  grafphilippe   \n",
       "\n",
       "                               person_800  \n",
       "145865  jemisinn.k.1972-the broken earth1  \n",
       "46825                                      "
      ]
     },
     "execution_count": 121,
     "metadata": {},
     "output_type": "execute_result"
    }
   ],
   "source": [
    "df[['person_245c', 'person_100', 'person_700', 'person_800']].loc[[145865, 46825]]"
   ]
  },
  {
   "cell_type": "markdown",
   "metadata": {},
   "source": [
    "Column $\\texttt{person}\\_\\texttt{245c}$ is identified as the most complete and usefull author indication attribute and will be used as a basis for the data of the feature matrix. Attributes $\\texttt{person}\\_\\texttt{100}$ and $\\texttt{person}\\_\\texttt{700}$ will also be added to the feature matrix, though."
   ]
  },
  {
   "cell_type": "code",
   "execution_count": 122,
   "metadata": {},
   "outputs": [],
   "source": [
    "columns_metadata_dict['data_analysis_columns'].append('person_100')\n",
    "columns_metadata_dict['data_analysis_columns'].append('person_700')\n",
    "#columns_metadata_dict['data_analysis_columns'].append('person_800')\n",
    "columns_metadata_dict['data_analysis_columns'].append('person_245c')"
   ]
  },
  {
   "cell_type": "code",
   "execution_count": 123,
   "metadata": {},
   "outputs": [
    {
     "name": "stdout",
     "output_type": "stream",
     "text": [
      "Ratio of records with missing person and corporate information 7.9%\n"
     ]
    }
   ],
   "source": [
    "df_no_person_no_corporate = df[['person', 'corporate', 'format_prefix']][\n",
    "    df.person_100.apply(lambda x : len(x)==0) &\n",
    "    df.person_700.apply(lambda x : len(x)==0) &\n",
    "    df.person_800.apply(lambda x : len(x)==0) &\n",
    "    df.person_245c.apply(lambda x : len(x)==0) &\n",
    "    df.corporate_110.apply(lambda x : len(x)==0) &\n",
    "    df.corporate_710.apply(lambda x : len(x)==0)\n",
    "]\n",
    "\n",
    "print('Ratio of records with missing person and corporate information {:.1f}%'.format(\n",
    "    len(df_no_person_no_corporate)/len(df)*100))"
   ]
  },
  {
   "cell_type": "code",
   "execution_count": 124,
   "metadata": {},
   "outputs": [
    {
     "data": {
      "text/plain": [
       "bk    11352\n",
       "cr     1571\n",
       "vm      863\n",
       "mu      254\n",
       "        154\n",
       "mp       98\n",
       "cf       78\n",
       "cl       76\n",
       "Name: format_prefix, dtype: int64"
      ]
     },
     "execution_count": 124,
     "metadata": {},
     "output_type": "execute_result"
    }
   ],
   "source": [
    "df_no_person_no_corporate.format_prefix.value_counts()"
   ]
  },
  {
   "cell_type": "markdown",
   "metadata": {},
   "source": [
    "A comparison between $\\texttt{person}$ and $\\texttt{corporate}$ shows that about 8% of the records have no information in neither of the two attributes. These records are distributed over all formats of the bibliographical unit."
   ]
  },
  {
   "cell_type": "markdown",
   "metadata": {},
   "source": [
    "### pubinit"
   ]
  },
  {
   "cell_type": "code",
   "execution_count": 125,
   "metadata": {},
   "outputs": [],
   "source": [
    "columns_metadata_dict['list_columns'] = ['pubinit']"
   ]
  },
  {
   "cell_type": "code",
   "execution_count": 126,
   "metadata": {},
   "outputs": [
    {
     "name": "stdout",
     "output_type": "stream",
     "text": [
      "Number of records with filled pubinit 61462, with missing pubinit 121945 => 33.5%\n"
     ]
    }
   ],
   "source": [
    "_, _ = daf.find_empty_in_column(df, columns_metadata_dict, 'pubinit')"
   ]
  },
  {
   "cell_type": "markdown",
   "metadata": {},
   "source": [
    "The attribute holds the information on the publisher of the bibliographical unit. Some sample data is shown below."
   ]
  },
  {
   "cell_type": "code",
   "execution_count": 127,
   "metadata": {},
   "outputs": [
    {
     "data": {
      "text/plain": [
       "118519                           [publisher not identified]\n",
       "153841                                             [Pelham]\n",
       "119104                           [publisher not identified]\n",
       "138821                [New York: Columbia University Press]\n",
       "120089                           [publisher not identified]\n",
       "162385                                   [China Post Group]\n",
       "133344                                             [[s.n.]]\n",
       "168070    [The PyeongChang Organizing Committee for the ...\n",
       "165499                              [Comissão Organizadora]\n",
       "37242                    [Lincoln Institute of Land Policy]\n",
       "119408                           [publisher not identified]\n",
       "153400                                             [[s.n.]]\n",
       "153705                                              [LOCOG]\n",
       "16522                                    [SCM R. Brockhaus]\n",
       "9511                                [(R. Schweizer-Gruner)]\n",
       "23100                              [Transaction Publishers]\n",
       "116907                    [Evangelical Theological Society]\n",
       "169658                                             [[s.n.]]\n",
       "44273                            [Harvard University Press]\n",
       "158851                                              [VANOC]\n",
       "Name: pubinit, dtype: object"
      ]
     },
     "execution_count": 127,
     "metadata": {},
     "output_type": "execute_result"
    }
   ],
   "source": [
    "df.pubinit[df.pubinit.apply(lambda x : len(x)>0)].sample(n=20)"
   ]
  },
  {
   "cell_type": "markdown",
   "metadata": {},
   "source": [
    "Two kinds of entries stand out as special in the sample data."
   ]
  },
  {
   "cell_type": "code",
   "execution_count": 128,
   "metadata": {},
   "outputs": [
    {
     "data": {
      "text/plain": [
       "117866    [publisher not identified]\n",
       "3185                        [[s.n.]]\n",
       "Name: pubinit, dtype: object"
      ]
     },
     "execution_count": 128,
     "metadata": {},
     "output_type": "execute_result"
    }
   ],
   "source": [
    "df.pubinit.loc[[117866, 3185]]"
   ]
  },
  {
   "cell_type": "code",
   "execution_count": 129,
   "metadata": {},
   "outputs": [
    {
     "name": "stdout",
     "output_type": "stream",
     "text": [
      "Number of records with pubinit = 'publisher not identified' : 2795    \n",
      "Number of records with pubinit = '[s.n.]' : 4259\n"
     ]
    }
   ],
   "source": [
    "cnt_pni, cnt_sn = 0, 0\n",
    "\n",
    "for i in range(len(df)):\n",
    "    if len(df.pubinit.loc[i]) > 0:\n",
    "        if df.pubinit.loc[i][0] == 'publisher not identified':\n",
    "            cnt_pni = cnt_pni+1\n",
    "        if df.pubinit.loc[i][0] == '[s.n.]':\n",
    "            cnt_sn = cnt_sn+1\n",
    "\n",
    "print('Number of records with pubinit = \\'publisher not identified\\' : {:d}\\\n",
    "    \\nNumber of records with pubinit = \\'[s.n.]\\' : {:d}'.format(cnt_pni, cnt_sn))"
   ]
  },
  {
   "attachments": {},
   "cell_type": "markdown",
   "metadata": {},
   "source": [
    "According to [[WiCo2001](./A_References.ipynb#wico2001)], this attribute holds the initial characters that do not correspond to anyone of word strings like ...\n",
    "- Verl., Verlag, Verlagsgesellschaft,\n",
    "- publ., publisher,\n",
    "- ed., editor, edition,\n",
    "- ...\n",
    "\n",
    "Swissbib's deduplication logic uses the such abbreviated values of this attribute. For the capstone project, the attribute is taken to further processing as one single concatenated string. The special entries shown above will be handled as regular publisher's description, too."
   ]
  },
  {
   "cell_type": "code",
   "execution_count": 130,
   "metadata": {},
   "outputs": [],
   "source": [
    "columns_metadata_dict['data_analysis_columns'].append('pubinit')"
   ]
  },
  {
   "cell_type": "markdown",
   "metadata": {},
   "source": [
    "### pubword"
   ]
  },
  {
   "cell_type": "code",
   "execution_count": 131,
   "metadata": {},
   "outputs": [],
   "source": [
    "columns_metadata_dict['list_columns'] = ['pubword']"
   ]
  },
  {
   "cell_type": "code",
   "execution_count": 132,
   "metadata": {},
   "outputs": [
    {
     "name": "stdout",
     "output_type": "stream",
     "text": [
      "Number of records with filled pubword 61462, with missing pubword 121945 => 33.5%\n"
     ]
    }
   ],
   "source": [
    "_, _ = daf.find_empty_in_column(df, columns_metadata_dict, 'pubword')"
   ]
  },
  {
   "cell_type": "markdown",
   "metadata": {},
   "source": [
    "Attribute $\\texttt{pubword}$ has the same MARC 21 basis as $\\texttt{pubinit}$. The attribute will be dropped due to redundancy."
   ]
  },
  {
   "cell_type": "markdown",
   "metadata": {},
   "source": [
    "### pubyear"
   ]
  },
  {
   "cell_type": "code",
   "execution_count": 133,
   "metadata": {},
   "outputs": [],
   "source": [
    "columns_metadata_dict['strings_columns'].append('pubyear')"
   ]
  },
  {
   "cell_type": "code",
   "execution_count": 134,
   "metadata": {},
   "outputs": [
    {
     "name": "stdout",
     "output_type": "stream",
     "text": [
      "Number of records with filled pubyear 183407, with missing pubyear 0 => 100.0%\n"
     ]
    }
   ],
   "source": [
    "_, _ = daf.find_empty_in_column(df, columns_metadata_dict, 'pubyear')"
   ]
  },
  {
   "cell_type": "code",
   "execution_count": 135,
   "metadata": {},
   "outputs": [
    {
     "data": {
      "text/html": [
       "<div>\n",
       "<style scoped>\n",
       "    .dataframe tbody tr th:only-of-type {\n",
       "        vertical-align: middle;\n",
       "    }\n",
       "\n",
       "    .dataframe tbody tr th {\n",
       "        vertical-align: top;\n",
       "    }\n",
       "\n",
       "    .dataframe thead th {\n",
       "        text-align: right;\n",
       "    }\n",
       "</style>\n",
       "<table border=\"1\" class=\"dataframe\">\n",
       "  <thead>\n",
       "    <tr style=\"text-align: right;\">\n",
       "      <th></th>\n",
       "      <th>docid</th>\n",
       "      <th>035liste</th>\n",
       "      <th>isbn</th>\n",
       "      <th>ttlfull</th>\n",
       "      <th>ttlpart</th>\n",
       "      <th>person</th>\n",
       "      <th>corporate</th>\n",
       "      <th>pubyear</th>\n",
       "      <th>decade</th>\n",
       "      <th>century</th>\n",
       "      <th>exactDate</th>\n",
       "      <th>...</th>\n",
       "      <th>coordinate_E</th>\n",
       "      <th>coordinate_N</th>\n",
       "      <th>corporate_110</th>\n",
       "      <th>corporate_710</th>\n",
       "      <th>corporate_810</th>\n",
       "      <th>format_prefix</th>\n",
       "      <th>format_postfix</th>\n",
       "      <th>person_100</th>\n",
       "      <th>person_700</th>\n",
       "      <th>person_800</th>\n",
       "      <th>person_245c</th>\n",
       "    </tr>\n",
       "  </thead>\n",
       "  <tbody>\n",
       "    <tr>\n",
       "      <th>0</th>\n",
       "      <td>554061449</td>\n",
       "      <td>[(OCoLC)1085491204, (IDSBB)006899773]</td>\n",
       "      <td>[]</td>\n",
       "      <td>{'245': ['Die Feist von Kienberg', 'eine Wasen...</td>\n",
       "      <td>{'245': ['Die Feist von Kienberg', 'eine Wasen...</td>\n",
       "      <td>{'100': ['SchluchterAndré'], '245c': ['André S...</td>\n",
       "      <td>{}</td>\n",
       "      <td>1992</td>\n",
       "      <td>1992</td>\n",
       "      <td>1992</td>\n",
       "      <td>1992uuuu</td>\n",
       "      <td>...</td>\n",
       "      <td></td>\n",
       "      <td></td>\n",
       "      <td></td>\n",
       "      <td></td>\n",
       "      <td></td>\n",
       "      <td>bk</td>\n",
       "      <td>020000</td>\n",
       "      <td>schluchterandré</td>\n",
       "      <td></td>\n",
       "      <td></td>\n",
       "      <td>andré schluchter</td>\n",
       "    </tr>\n",
       "    <tr>\n",
       "      <th>1</th>\n",
       "      <td>554061481</td>\n",
       "      <td>[(OCoLC)1085491341, (IDSBB)006899983]</td>\n",
       "      <td>[]</td>\n",
       "      <td>{'245': ['Reimereien']}</td>\n",
       "      <td>{'245': ['Reimereien']}</td>\n",
       "      <td>{'100': ['NaegeliWerner'], '245c': ['von Werne...</td>\n",
       "      <td>{}</td>\n",
       "      <td>1986</td>\n",
       "      <td>1986</td>\n",
       "      <td>1986</td>\n",
       "      <td>1986uuuu</td>\n",
       "      <td>...</td>\n",
       "      <td></td>\n",
       "      <td></td>\n",
       "      <td></td>\n",
       "      <td></td>\n",
       "      <td></td>\n",
       "      <td>bk</td>\n",
       "      <td>020000</td>\n",
       "      <td>naegeliwerner</td>\n",
       "      <td></td>\n",
       "      <td></td>\n",
       "      <td>von werner naegeli</td>\n",
       "    </tr>\n",
       "    <tr>\n",
       "      <th>2</th>\n",
       "      <td>554061503</td>\n",
       "      <td>[(OCoLC)1085491299, (IDSBB)006899959]</td>\n",
       "      <td>[]</td>\n",
       "      <td>{'245': ['Efficax antidotum ad matrimonia mixt...</td>\n",
       "      <td>{'245': ['Efficax antidotum ad matrimonia mixt...</td>\n",
       "      <td>{'100': ['KellyM.V.'], '700': ['GeniesseJ.B.']...</td>\n",
       "      <td>{}</td>\n",
       "      <td>1923</td>\n",
       "      <td>1923</td>\n",
       "      <td>1923</td>\n",
       "      <td>1923uuuu</td>\n",
       "      <td>...</td>\n",
       "      <td></td>\n",
       "      <td></td>\n",
       "      <td></td>\n",
       "      <td></td>\n",
       "      <td></td>\n",
       "      <td>bk</td>\n",
       "      <td>020000</td>\n",
       "      <td>kellym.v.</td>\n",
       "      <td>geniessej.b.</td>\n",
       "      <td></td>\n",
       "      <td>m.v. kelly et j.b. geniesse</td>\n",
       "    </tr>\n",
       "    <tr>\n",
       "      <th>3</th>\n",
       "      <td>554061511</td>\n",
       "      <td>[(OCoLC)1085491268, (IDSBB)006896614]</td>\n",
       "      <td>[]</td>\n",
       "      <td>{'245': ['Probleme der Inflationsbekämpfung', ...</td>\n",
       "      <td>{'245': ['Probleme der Inflationsbekämpfung', ...</td>\n",
       "      <td>{'100': ['WegelinWalter'], '245c': ['']}</td>\n",
       "      <td>{}</td>\n",
       "      <td>1947</td>\n",
       "      <td>1947</td>\n",
       "      <td>1947</td>\n",
       "      <td>1947uuuu</td>\n",
       "      <td>...</td>\n",
       "      <td></td>\n",
       "      <td></td>\n",
       "      <td></td>\n",
       "      <td></td>\n",
       "      <td></td>\n",
       "      <td>bk</td>\n",
       "      <td>020000</td>\n",
       "      <td>wegelinwalter</td>\n",
       "      <td></td>\n",
       "      <td></td>\n",
       "      <td></td>\n",
       "    </tr>\n",
       "    <tr>\n",
       "      <th>4</th>\n",
       "      <td>55406152X</td>\n",
       "      <td>[(OCoLC)1085491079, (IDSBB)006896866]</td>\n",
       "      <td>[]</td>\n",
       "      <td>{'245': ['[Poems]']}</td>\n",
       "      <td>{'245': ['[Poems]']}</td>\n",
       "      <td>{'100': ['OberlinUrs'], '245c': ['Urs Oberlin ...</td>\n",
       "      <td>{}</td>\n",
       "      <td>1991</td>\n",
       "      <td>1991</td>\n",
       "      <td>1991</td>\n",
       "      <td>1991uuuu</td>\n",
       "      <td>...</td>\n",
       "      <td></td>\n",
       "      <td></td>\n",
       "      <td></td>\n",
       "      <td></td>\n",
       "      <td></td>\n",
       "      <td>bk</td>\n",
       "      <td>020000</td>\n",
       "      <td>oberlinurs</td>\n",
       "      <td></td>\n",
       "      <td></td>\n",
       "      <td>urs oberlin ; translated from the german by ru...</td>\n",
       "    </tr>\n",
       "    <tr>\n",
       "      <th>...</th>\n",
       "      <td>...</td>\n",
       "      <td>...</td>\n",
       "      <td>...</td>\n",
       "      <td>...</td>\n",
       "      <td>...</td>\n",
       "      <td>...</td>\n",
       "      <td>...</td>\n",
       "      <td>...</td>\n",
       "      <td>...</td>\n",
       "      <td>...</td>\n",
       "      <td>...</td>\n",
       "      <td>...</td>\n",
       "      <td>...</td>\n",
       "      <td>...</td>\n",
       "      <td>...</td>\n",
       "      <td>...</td>\n",
       "      <td>...</td>\n",
       "      <td>...</td>\n",
       "      <td>...</td>\n",
       "      <td>...</td>\n",
       "      <td>...</td>\n",
       "      <td>...</td>\n",
       "      <td>...</td>\n",
       "    </tr>\n",
       "    <tr>\n",
       "      <th>183402</th>\n",
       "      <td>556988922</td>\n",
       "      <td>[(OCoLC)1083973002, (NEBIS)011374206]</td>\n",
       "      <td>[978-3-319-99217-4]</td>\n",
       "      <td>{'245': ['Great Moments in the History of Life']}</td>\n",
       "      <td>{'245': ['Great Moments in the History of Life']}</td>\n",
       "      <td>{'100': ['ShawGeorge H.Verfasserautauthttp://i...</td>\n",
       "      <td>{}</td>\n",
       "      <td>2018</td>\n",
       "      <td>2018</td>\n",
       "      <td>2018</td>\n",
       "      <td>2018uuuu</td>\n",
       "      <td>...</td>\n",
       "      <td></td>\n",
       "      <td></td>\n",
       "      <td></td>\n",
       "      <td></td>\n",
       "      <td></td>\n",
       "      <td>bk</td>\n",
       "      <td>020053</td>\n",
       "      <td>shawgeorge h.verfasserautauthttp://id</td>\n",
       "      <td></td>\n",
       "      <td></td>\n",
       "      <td>by george h. shaw</td>\n",
       "    </tr>\n",
       "    <tr>\n",
       "      <th>183403</th>\n",
       "      <td>556988930</td>\n",
       "      <td>[(OCoLC)1081363098, (NEBIS)011374477]</td>\n",
       "      <td>[978-3-662-58485-9]</td>\n",
       "      <td>{'245': ['Machine Learning for Cyber Physical ...</td>\n",
       "      <td>{'245': ['Machine Learning for Cyber Physical ...</td>\n",
       "      <td>{'100': [], '700': ['BeyererJürgenHerausgebere...</td>\n",
       "      <td>{}</td>\n",
       "      <td>2019</td>\n",
       "      <td>2019</td>\n",
       "      <td>2019</td>\n",
       "      <td>2019uuuu</td>\n",
       "      <td>...</td>\n",
       "      <td></td>\n",
       "      <td></td>\n",
       "      <td></td>\n",
       "      <td></td>\n",
       "      <td></td>\n",
       "      <td>bk</td>\n",
       "      <td>020053</td>\n",
       "      <td></td>\n",
       "      <td>beyererjürgenherausgeberedtedthttp://id, kühne...</td>\n",
       "      <td></td>\n",
       "      <td>edited by jürgen beyerer, christian kühnert, o...</td>\n",
       "    </tr>\n",
       "    <tr>\n",
       "      <th>183404</th>\n",
       "      <td>556988949</td>\n",
       "      <td>[(OCoLC)1089721912, (NEBIS)011374010]</td>\n",
       "      <td>[]</td>\n",
       "      <td>{'245': ['Die neolithische Höhensiedlung \"Abri...</td>\n",
       "      <td>{'245': ['Die neolithische Höhensiedlung \"Abri...</td>\n",
       "      <td>{'100': ['AmreinWilhelm1872-1946(DE-588)116302...</td>\n",
       "      <td>{}</td>\n",
       "      <td>1930</td>\n",
       "      <td>1930</td>\n",
       "      <td>1930</td>\n",
       "      <td>1930uuuu</td>\n",
       "      <td>...</td>\n",
       "      <td></td>\n",
       "      <td></td>\n",
       "      <td></td>\n",
       "      <td></td>\n",
       "      <td></td>\n",
       "      <td>bk</td>\n",
       "      <td>010000</td>\n",
       "      <td>amreinwilhelm1872-1946(de-588)116302429verfass...</td>\n",
       "      <td></td>\n",
       "      <td></td>\n",
       "      <td></td>\n",
       "    </tr>\n",
       "    <tr>\n",
       "      <th>183405</th>\n",
       "      <td>556988965</td>\n",
       "      <td>[(OCoLC)883819333, (NEBIS)008354642]</td>\n",
       "      <td>[3-931793-24-9]</td>\n",
       "      <td>{'245': ['Igel Total']}</td>\n",
       "      <td>{'245': ['Igel Total']}</td>\n",
       "      <td>{'100': ['BachMeike'], '245c': ['Idee &amp; Ill. M...</td>\n",
       "      <td>{}</td>\n",
       "      <td>2000</td>\n",
       "      <td>2000</td>\n",
       "      <td>2000</td>\n",
       "      <td>2000uuuu</td>\n",
       "      <td>...</td>\n",
       "      <td></td>\n",
       "      <td></td>\n",
       "      <td></td>\n",
       "      <td></td>\n",
       "      <td></td>\n",
       "      <td>bk</td>\n",
       "      <td>020000</td>\n",
       "      <td>bachmeike</td>\n",
       "      <td></td>\n",
       "      <td></td>\n",
       "      <td>idee &amp; ill. meike bach</td>\n",
       "    </tr>\n",
       "    <tr>\n",
       "      <th>183406</th>\n",
       "      <td>556988973</td>\n",
       "      <td>[(OCoLC)1083948806, (NEBIS)011374205]</td>\n",
       "      <td>[978-3-319-97553-5]</td>\n",
       "      <td>{'245': ['Proceeding of the 2nd International ...</td>\n",
       "      <td>{'245': ['Proceeding of the 2nd International ...</td>\n",
       "      <td>{'100': [], '700': ['SukartikoAnggoro CahyoHer...</td>\n",
       "      <td>{}</td>\n",
       "      <td>2018</td>\n",
       "      <td>2018</td>\n",
       "      <td>2018</td>\n",
       "      <td>2018uuuu</td>\n",
       "      <td>...</td>\n",
       "      <td></td>\n",
       "      <td></td>\n",
       "      <td></td>\n",
       "      <td></td>\n",
       "      <td></td>\n",
       "      <td>bk</td>\n",
       "      <td>020053</td>\n",
       "      <td></td>\n",
       "      <td>sukartikoanggoro cahyoherausgeberedtedthttp://...</td>\n",
       "      <td></td>\n",
       "      <td>edited by anggoro cahyo sukartiko, tri rini nu...</td>\n",
       "    </tr>\n",
       "  </tbody>\n",
       "</table>\n",
       "<p>148968 rows × 34 columns</p>\n",
       "</div>"
      ],
      "text/plain": [
       "            docid                               035liste                 isbn  \\\n",
       "0       554061449  [(OCoLC)1085491204, (IDSBB)006899773]                   []   \n",
       "1       554061481  [(OCoLC)1085491341, (IDSBB)006899983]                   []   \n",
       "2       554061503  [(OCoLC)1085491299, (IDSBB)006899959]                   []   \n",
       "3       554061511  [(OCoLC)1085491268, (IDSBB)006896614]                   []   \n",
       "4       55406152X  [(OCoLC)1085491079, (IDSBB)006896866]                   []   \n",
       "...           ...                                    ...                  ...   \n",
       "183402  556988922  [(OCoLC)1083973002, (NEBIS)011374206]  [978-3-319-99217-4]   \n",
       "183403  556988930  [(OCoLC)1081363098, (NEBIS)011374477]  [978-3-662-58485-9]   \n",
       "183404  556988949  [(OCoLC)1089721912, (NEBIS)011374010]                   []   \n",
       "183405  556988965   [(OCoLC)883819333, (NEBIS)008354642]      [3-931793-24-9]   \n",
       "183406  556988973  [(OCoLC)1083948806, (NEBIS)011374205]  [978-3-319-97553-5]   \n",
       "\n",
       "                                                  ttlfull  \\\n",
       "0       {'245': ['Die Feist von Kienberg', 'eine Wasen...   \n",
       "1                                 {'245': ['Reimereien']}   \n",
       "2       {'245': ['Efficax antidotum ad matrimonia mixt...   \n",
       "3       {'245': ['Probleme der Inflationsbekämpfung', ...   \n",
       "4                                    {'245': ['[Poems]']}   \n",
       "...                                                   ...   \n",
       "183402  {'245': ['Great Moments in the History of Life']}   \n",
       "183403  {'245': ['Machine Learning for Cyber Physical ...   \n",
       "183404  {'245': ['Die neolithische Höhensiedlung \"Abri...   \n",
       "183405                            {'245': ['Igel Total']}   \n",
       "183406  {'245': ['Proceeding of the 2nd International ...   \n",
       "\n",
       "                                                  ttlpart  \\\n",
       "0       {'245': ['Die Feist von Kienberg', 'eine Wasen...   \n",
       "1                                 {'245': ['Reimereien']}   \n",
       "2       {'245': ['Efficax antidotum ad matrimonia mixt...   \n",
       "3       {'245': ['Probleme der Inflationsbekämpfung', ...   \n",
       "4                                    {'245': ['[Poems]']}   \n",
       "...                                                   ...   \n",
       "183402  {'245': ['Great Moments in the History of Life']}   \n",
       "183403  {'245': ['Machine Learning for Cyber Physical ...   \n",
       "183404  {'245': ['Die neolithische Höhensiedlung \"Abri...   \n",
       "183405                            {'245': ['Igel Total']}   \n",
       "183406  {'245': ['Proceeding of the 2nd International ...   \n",
       "\n",
       "                                                   person corporate   pubyear  \\\n",
       "0       {'100': ['SchluchterAndré'], '245c': ['André S...        {}  1992       \n",
       "1       {'100': ['NaegeliWerner'], '245c': ['von Werne...        {}  1986       \n",
       "2       {'100': ['KellyM.V.'], '700': ['GeniesseJ.B.']...        {}  1923       \n",
       "3                {'100': ['WegelinWalter'], '245c': ['']}        {}  1947       \n",
       "4       {'100': ['OberlinUrs'], '245c': ['Urs Oberlin ...        {}  1991       \n",
       "...                                                   ...       ...       ...   \n",
       "183402  {'100': ['ShawGeorge H.Verfasserautauthttp://i...        {}  2018       \n",
       "183403  {'100': [], '700': ['BeyererJürgenHerausgebere...        {}  2019       \n",
       "183404  {'100': ['AmreinWilhelm1872-1946(DE-588)116302...        {}  1930       \n",
       "183405  {'100': ['BachMeike'], '245c': ['Idee & Ill. M...        {}  2000       \n",
       "183406  {'100': [], '700': ['SukartikoAnggoro CahyoHer...        {}  2018       \n",
       "\n",
       "       decade century exactDate  ... coordinate_E coordinate_N corporate_110  \\\n",
       "0        1992    1992  1992uuuu  ...                                           \n",
       "1        1986    1986  1986uuuu  ...                                           \n",
       "2        1923    1923  1923uuuu  ...                                           \n",
       "3        1947    1947  1947uuuu  ...                                           \n",
       "4        1991    1991  1991uuuu  ...                                           \n",
       "...       ...     ...       ...  ...          ...          ...           ...   \n",
       "183402   2018    2018  2018uuuu  ...                                           \n",
       "183403   2019    2019  2019uuuu  ...                                           \n",
       "183404   1930    1930  1930uuuu  ...                                           \n",
       "183405   2000    2000  2000uuuu  ...                                           \n",
       "183406   2018    2018  2018uuuu  ...                                           \n",
       "\n",
       "       corporate_710 corporate_810 format_prefix format_postfix  \\\n",
       "0                                             bk         020000   \n",
       "1                                             bk         020000   \n",
       "2                                             bk         020000   \n",
       "3                                             bk         020000   \n",
       "4                                             bk         020000   \n",
       "...              ...           ...           ...            ...   \n",
       "183402                                        bk         020053   \n",
       "183403                                        bk         020053   \n",
       "183404                                        bk         010000   \n",
       "183405                                        bk         020000   \n",
       "183406                                        bk         020053   \n",
       "\n",
       "                                               person_100  \\\n",
       "0                                         schluchterandré   \n",
       "1                                           naegeliwerner   \n",
       "2                                               kellym.v.   \n",
       "3                                           wegelinwalter   \n",
       "4                                              oberlinurs   \n",
       "...                                                   ...   \n",
       "183402              shawgeorge h.verfasserautauthttp://id   \n",
       "183403                                                      \n",
       "183404  amreinwilhelm1872-1946(de-588)116302429verfass...   \n",
       "183405                                          bachmeike   \n",
       "183406                                                      \n",
       "\n",
       "                                               person_700 person_800  \\\n",
       "0                                                                      \n",
       "1                                                                      \n",
       "2                                            geniessej.b.              \n",
       "3                                                                      \n",
       "4                                                                      \n",
       "...                                                   ...        ...   \n",
       "183402                                                                 \n",
       "183403  beyererjürgenherausgeberedtedthttp://id, kühne...              \n",
       "183404                                                                 \n",
       "183405                                                                 \n",
       "183406  sukartikoanggoro cahyoherausgeberedtedthttp://...              \n",
       "\n",
       "                                              person_245c  \n",
       "0                                        andré schluchter  \n",
       "1                                      von werner naegeli  \n",
       "2                             m.v. kelly et j.b. geniesse  \n",
       "3                                                          \n",
       "4       urs oberlin ; translated from the german by ru...  \n",
       "...                                                   ...  \n",
       "183402                                  by george h. shaw  \n",
       "183403  edited by jürgen beyerer, christian kühnert, o...  \n",
       "183404                                                     \n",
       "183405                             idee & ill. meike bach  \n",
       "183406  edited by anggoro cahyo sukartiko, tri rini nu...  \n",
       "\n",
       "[148968 rows x 34 columns]"
      ]
     },
     "execution_count": 135,
     "metadata": {},
     "output_type": "execute_result"
    }
   ],
   "source": [
    "df[df.exactDate != df.pubyear]"
   ]
  },
  {
   "cell_type": "markdown",
   "metadata": {},
   "source": [
    "All 8 digits of $\\texttt{pubyear}$ hold identical data compared to field $\\texttt{exactDate}$. This observation corresponds to the expectation from the MARC 21 description of the attribute. The purpose of the attribute is to identify the year of publication of a bibliographic unit and store it for comparison in Swissbib's conventional deduplication implementation [[WiCo2001](./A_References.ipynb#wico2001)]. Chapter [Feature Matrix Generation](./3_FeatureMatrixGeneration.ipynb) will apply a similarity metric for $\\texttt{exactDate}$ that takes the full date of publication into specific consideration. Attribute $\\texttt{pubyear}$ will be dropped as redundant."
   ]
  },
  {
   "cell_type": "markdown",
   "metadata": {},
   "source": [
    "### scale"
   ]
  },
  {
   "cell_type": "code",
   "execution_count": 136,
   "metadata": {},
   "outputs": [],
   "source": [
    "columns_metadata_dict['strings_columns'].append('scale')"
   ]
  },
  {
   "cell_type": "code",
   "execution_count": 137,
   "metadata": {},
   "outputs": [
    {
     "name": "stdout",
     "output_type": "stream",
     "text": [
      "Number of records with filled scale 793, with missing scale 182614 => 0.4%\n"
     ]
    }
   ],
   "source": [
    "_, _ = daf.find_empty_in_column(df, columns_metadata_dict, 'scale')"
   ]
  },
  {
   "cell_type": "code",
   "execution_count": 138,
   "metadata": {},
   "outputs": [
    {
     "data": {
      "text/plain": [
       "array(['400000', '3000000', '50000', '75000', '300000', '800000', '10000',\n",
       "       '5650', '1:400,000', '700000', '100000', '25000', '275000',\n",
       "       '500000500000', '301000', '15000', '16667', 'Echelle : 1:50 000',\n",
       "       '1000000', '250000', '150000', 'Verschiedene Massstäbe',\n",
       "       'Echelle [ca. 1:440 000]', '5000050000',\n",
       "       '[Echelle non déterminée]', '200000', '118000', '1000010000',\n",
       "       '12500', 'Echelle 1:50.000', '5000', '500', 'Echelles diverses',\n",
       "       'Echelle 1:50 000', '1400000', '1600000', '550000', '1:50 000',\n",
       "       '1:60 000', '9117', '2000000', '20000100000', '1156015625', '8100',\n",
       "       '15700', '17400', '810011600', '16666', '500000', '70000',\n",
       "       'Echelle: 1:25.000', '1:25 000', '125000', '46000',\n",
       "       'Echelle 1:25.000 ; projection conforme cylindrique à axe oblique',\n",
       "       'Echelle 1:25.000', '300000700000', '850000', '2750', '1250000',\n",
       "       '1700000', '750000', '11000000', '17500', '250000250000',\n",
       "       '24000000', '3500000', '2500000', '240000', '60000', '650000',\n",
       "       '600000', '16000', '27000', '28000', '200000200000', '172000',\n",
       "       '24000', '2500065000', '56000', '40000', '35000', '1:18000',\n",
       "       '260000', '22500', '17000', '2600032000', '36000', '45000',\n",
       "       '2500040000', '20000', '30000', '275000275000', '15000000',\n",
       "       '2500033000', '490000', '1: 5 000 000', '120000', '37005000',\n",
       "       '56600', '16130', '1110023250', '126720', '2200000', '33000',\n",
       "       '7500', '6000060000', '11000', '10560', '13000', '160000', '18700',\n",
       "       '11450', '27600', '15500', '100', '10500', '1:35 000', '18500',\n",
       "       '2770000', '4000000', '150', '2000', '50000012500002000000200000',\n",
       "       '1100020000', '12000', 'Echelle : 1:100.000', '14000', '320000',\n",
       "       '9500000', '1:200 000', '5700000', '175000', '2700000', '3700000',\n",
       "       '4500000', '8000', '7700',\n",
       "       '850025 00010000 $d E0073010 $e E0073635 $f N0464638 $g N0464333',\n",
       "       '160009000', '5000000', '1875000', '2800000', '4000',\n",
       "       '1:8 000 000', '1:3 000 000', '38000', '1750049000',\n",
       "       '500000250000', '2670000', '2400000', '1960000', '2500025000',\n",
       "       '8500', '100000100000', '380000', '250002500025000', '13500',\n",
       "       '5500', '4500', '90000', 'Echelle 1:250 000'], dtype=object)"
      ]
     },
     "execution_count": 138,
     "metadata": {},
     "output_type": "execute_result"
    }
   ],
   "source": [
    "df.scale[df.scale.apply(lambda x : len(x)>0)].unique()"
   ]
  },
  {
   "cell_type": "markdown",
   "metadata": {},
   "source": [
    "Attribute $\\texttt{scale}$ holds scaling information on map units. The degree of filling in attribute $\\texttt{coordinate}$ is correlated with the degree of filling in attribute $\\texttt{scale}$."
   ]
  },
  {
   "cell_type": "code",
   "execution_count": 139,
   "metadata": {},
   "outputs": [
    {
     "name": "stdout",
     "output_type": "stream",
     "text": [
      "Number of records with either 'coordinate' or 'scale' not filled : 141\n"
     ]
    }
   ],
   "source": [
    "print('Number of records with either \\'coordinate\\' or \\'scale\\' not filled :', len(\n",
    "    df[['coordinate', 'scale']][\n",
    "        (df.scale.apply(lambda x : len(x)>0) & df.coordinate.apply(lambda x : len(x)==0)) |\n",
    "        (df.scale.apply(lambda x : len(x)==0) & df.coordinate.apply(lambda x : len(x)>0))\n",
    "    ]))"
   ]
  },
  {
   "cell_type": "markdown",
   "metadata": {},
   "source": [
    "The attribute will be taken over to further processing as is [[WiCo2001](./A_References.ipynb#wico2001)]."
   ]
  },
  {
   "cell_type": "code",
   "execution_count": 140,
   "metadata": {},
   "outputs": [],
   "source": [
    "columns_metadata_dict['data_analysis_columns'].append('scale')"
   ]
  },
  {
   "cell_type": "markdown",
   "metadata": {},
   "source": [
    "### ttlfull"
   ]
  },
  {
   "cell_type": "code",
   "execution_count": 141,
   "metadata": {},
   "outputs": [],
   "source": [
    "columns_metadata_dict['strings_columns'].append('ttlfull')"
   ]
  },
  {
   "cell_type": "markdown",
   "metadata": {},
   "source": [
    "Attribute $\\texttt{ttlfull}$ holds the full title of the bibliographical unit, see [[FeatWiki](./A_References.ipynb/#feature_deduplication_wiki)]. Some examples are shown below."
   ]
  },
  {
   "cell_type": "code",
   "execution_count": 142,
   "metadata": {},
   "outputs": [
    {
     "data": {
      "text/plain": [
       "157562    {'245': ['Jeux olympiques à Anvers (Belgique) ...\n",
       "92534     {'245': ['Reorienting the nations', 'perspecti...\n",
       "78437     {'245': ['Mourir', 'un défi relationnel pour l...\n",
       "167281                          {'245': ['Supplier guide']}\n",
       "58155     {'245': ['Kübelmarkt mit Bindhausschopf', 'Blu...\n",
       "12795     {'245': ['Traumvorstellung Liebe', 'der Irrtum...\n",
       "119022    {'245': ['Reinhold Niebuhr to William L. Savag...\n",
       "52065     {'245': ['Conventional Water Resources and Agr...\n",
       "166493    {'245': ['Collision course', 'the Olympic trag...\n",
       "5723                            {'245': ['American dream']}\n",
       "128462            {'245': ['Auch Monster müssen schlafen']}\n",
       "131675                                   {'245': ['Ethik']}\n",
       "154349    {'245': ['XIV Olympiad London 1948', 'official...\n",
       "11962     {'245': ['Der stille Krieg der Freimaurerei ge...\n",
       "170632      {'245': ['La régate', 'tactique et stratégie']}\n",
       "170661    {'245': ['All the moves', 'a history of colleg...\n",
       "150272    {'245': ['Tennis', 'brochure explicative = Ten...\n",
       "37932     {'245': ['Climate Change Meets Trade in Promot...\n",
       "178712    {'245': ['Tableau synoptique des autorités com...\n",
       "45716     {'245': ['Dirichlet forms and analysis on Wien...\n",
       "Name: ttlfull, dtype: object"
      ]
     },
     "execution_count": 142,
     "metadata": {},
     "output_type": "execute_result"
    }
   ],
   "source": [
    "df.ttlfull.sample(n=20)"
   ]
  },
  {
   "cell_type": "markdown",
   "metadata": {},
   "source": [
    "The attribute is a dictionary column in the DataFrame. There are two key value pairs possible in this attribute. For their processing, two new attributes will be added to the DataFrame, one for each key value pair. The values come along as lists. The implemented function $\\texttt{.transform}\\_\\texttt{list}\\_\\texttt{to}\\_\\texttt{string()}$ will be used to process the list elements into one single string of the column."
   ]
  },
  {
   "cell_type": "code",
   "execution_count": 143,
   "metadata": {},
   "outputs": [
    {
     "name": "stdout",
     "output_type": "stream",
     "text": [
      "Number of records with filled ttlfull_245 183407, with missing ttlfull_245 0 => 100.0%\n",
      "Number of records with filled ttlfull_246 15897, with missing ttlfull_246 167510 => 8.7%\n"
     ]
    }
   ],
   "source": [
    "for ending in ['245', '246']:\n",
    "    df = dpf.transform_dictionary_to_list(df, 'ttlfull', ending)\n",
    "    df = dpf.transform_list_to_string(df, 'ttlfull_'+ending)\n",
    "\n",
    "    columns_metadata_dict['strings_columns'].append('ttlfull_'+ending)\n",
    "    _, _ = daf.find_empty_in_column(df, columns_metadata_dict, 'ttlfull_'+ending)"
   ]
  },
  {
   "cell_type": "markdown",
   "metadata": {},
   "source": [
    "The title statement, attribute $\\texttt{ttlfull_245}$, is filled for every record in the data set. This makes the attribute a central attribute for records pair comparison. Attribute $\\texttt{ttlfull_246}$ on the other hand is sparsely filled. Some samples are shown below."
   ]
  },
  {
   "cell_type": "code",
   "execution_count": 144,
   "metadata": {},
   "outputs": [
    {
     "data": {
      "text/plain": [
       "83339     divercities, understanding super-diversity in ...\n",
       "11734     sonnenwege, sonnenuhren, elementar-geometrisch...\n",
       "160696    jeux de la xxiie olympiade moscou 1980, résult...\n",
       "159708                                                sport\n",
       "51885     dynamic soil-structure interaction for sustain...\n",
       "60623                                             überleben\n",
       "170959    jeux de la xxvie olympiade, atlanta 1996, broc...\n",
       "122693              the devī bhāgavata and the devī legends\n",
       "112995    buchstabenkarten deutschschweizer basisschrift...\n",
       "116184    ressources végétales et écoomie de subsistance...\n",
       "160824    l'équipe de france olympique, xixe jeux olympi...\n",
       "83932                              a karma megnyilvánulásai\n",
       "173069                                        styrsky - zyw\n",
       "120824    konstruktion von männlichkeit in kindheitspäda...\n",
       "175447                                            the arrow\n",
       "131034    einführung in die moderne phänomenologie, phän...\n",
       "105389    lexikon für das it-recht 2019, die 150 wichtig...\n",
       "121775    theoretical characterization of organic molecu...\n",
       "66794     le théâtre en france, histoire de la littératu...\n",
       "181263                               the tragedy of macbeth\n",
       "Name: ttlfull_245, dtype: object"
      ]
     },
     "execution_count": 144,
     "metadata": {},
     "output_type": "execute_result"
    }
   ],
   "source": [
    "df.ttlfull_245.sample(20)"
   ]
  },
  {
   "cell_type": "code",
   "execution_count": 145,
   "metadata": {},
   "outputs": [
    {
     "data": {
      "text/plain": [
       "56963      selbstreferenz und selbstreflexion in a/v-medien\n",
       "83792                 aṯ-ṯawra al-ʿurubiyya, الثورة العربية\n",
       "64180     articles to be inquired of in the visitation o...\n",
       "109046    impact of the supreme court's garcia decision ...\n",
       "145989                                    charles james fox\n",
       "89081     political representation and policy congruence...\n",
       "54096                                    key moments in art\n",
       "50889                            ieee trans. automat. contr\n",
       "135342                                handbook of midwifery\n",
       "64412                      exposition with notes on iohn 17\n",
       "33988                              l'omnisports, omnisports\n",
       "143049    treatise on the law of taxation, including the...\n",
       "35801                                        nacktschnecken\n",
       "52115                          essential american tradition\n",
       "90484                                      vals - valsertal\n",
       "129071                                  compleat arbitrator\n",
       "58518               lernwerkstatt diktatoren der geschichte\n",
       "21781                             nationalhymne der schweiz\n",
       "144744    modellvorhaben nachhaltige raumentwicklung 201...\n",
       "64391                                              syntaxis\n",
       "Name: ttlfull_246, dtype: object"
      ]
     },
     "execution_count": 145,
     "metadata": {},
     "output_type": "execute_result"
    }
   ],
   "source": [
    "df.ttlfull_246[df.ttlfull_246.apply(lambda x : len(x)>0)].sample(20)"
   ]
  },
  {
   "cell_type": "code",
   "execution_count": 146,
   "metadata": {},
   "outputs": [
    {
     "data": {
      "text/html": [
       "<div>\n",
       "<style scoped>\n",
       "    .dataframe tbody tr th:only-of-type {\n",
       "        vertical-align: middle;\n",
       "    }\n",
       "\n",
       "    .dataframe tbody tr th {\n",
       "        vertical-align: top;\n",
       "    }\n",
       "\n",
       "    .dataframe thead th {\n",
       "        text-align: right;\n",
       "    }\n",
       "</style>\n",
       "<table border=\"1\" class=\"dataframe\">\n",
       "  <thead>\n",
       "    <tr style=\"text-align: right;\">\n",
       "      <th></th>\n",
       "      <th>ttlfull_245</th>\n",
       "      <th>ttlfull_246</th>\n",
       "    </tr>\n",
       "  </thead>\n",
       "  <tbody>\n",
       "    <tr>\n",
       "      <th>106789</th>\n",
       "      <td>principles of the english law of contract and ...</td>\n",
       "      <td>principles of the english law of contract and ...</td>\n",
       "    </tr>\n",
       "    <tr>\n",
       "      <th>147883</th>\n",
       "      <td>smallfoot, ein eisigartiges abenteuer</td>\n",
       "      <td>small foot</td>\n",
       "    </tr>\n",
       "    <tr>\n",
       "      <th>177020</th>\n",
       "      <td>dsm-5 pocket guide for elder mental health</td>\n",
       "      <td>elder mental health</td>\n",
       "    </tr>\n",
       "  </tbody>\n",
       "</table>\n",
       "</div>"
      ],
      "text/plain": [
       "                                              ttlfull_245  \\\n",
       "106789  principles of the english law of contract and ...   \n",
       "147883              smallfoot, ein eisigartiges abenteuer   \n",
       "177020         dsm-5 pocket guide for elder mental health   \n",
       "\n",
       "                                              ttlfull_246  \n",
       "106789  principles of the english law of contract and ...  \n",
       "147883                                         small foot  \n",
       "177020                                elder mental health  "
      ]
     },
     "execution_count": 146,
     "metadata": {},
     "output_type": "execute_result"
    }
   ],
   "source": [
    "df[['ttlfull_245', 'ttlfull_246']].loc[[106789, 147883, 177020]]"
   ]
  },
  {
   "cell_type": "markdown",
   "metadata": {},
   "source": [
    "The two new columns will be used as a basis for the data of the feature matrix."
   ]
  },
  {
   "cell_type": "code",
   "execution_count": 147,
   "metadata": {},
   "outputs": [],
   "source": [
    "columns_metadata_dict['data_analysis_columns'].append('ttlfull_245')\n",
    "columns_metadata_dict['data_analysis_columns'].append('ttlfull_246')"
   ]
  },
  {
   "cell_type": "markdown",
   "metadata": {},
   "source": [
    "### ttlpart"
   ]
  },
  {
   "cell_type": "code",
   "execution_count": 148,
   "metadata": {},
   "outputs": [],
   "source": [
    "columns_metadata_dict['strings_columns'].append('ttlpart')"
   ]
  },
  {
   "cell_type": "code",
   "execution_count": 149,
   "metadata": {},
   "outputs": [
    {
     "name": "stdout",
     "output_type": "stream",
     "text": [
      "Number of records with filled ttlpart 183407, with missing ttlpart 0 => 100.0%\n"
     ]
    }
   ],
   "source": [
    "_, _ = daf.find_empty_in_column(df, columns_metadata_dict, 'ttlpart')"
   ]
  },
  {
   "cell_type": "code",
   "execution_count": 150,
   "metadata": {},
   "outputs": [
    {
     "data": {
      "text/plain": [
       "163252    {'245': ['Des femmes au monde des hommes', 'la...\n",
       "164205             {'245': ['The Olympic games and music']}\n",
       "29484     {'245': ['Stille.Nacht - was wir hören können,...\n",
       "54724                     {'245': ['Cat Person', 'Storys']}\n",
       "155398    {'245': ['Manuel du centre d'information sport...\n",
       "147864                     {'245': ['L'amore a due passi']}\n",
       "53638     {'245': ['Prophet or traitor?', 'the Jimmy Hog...\n",
       "93398     {'245': ['Energieeffiziente Baustandards für N...\n",
       "99094     {'245': ['Impact of cardio-renal syndrome on a...\n",
       "86776                              {'245': ['Los logos 2']}\n",
       "153652    {'245': ['Sports finance and management', 'rea...\n",
       "158871    {'245': ['Le Canada aux Jeux', 'statistiques s...\n",
       "160631    {'245': ['Olimpic Games 2004', 'Athens Olympic...\n",
       "62165     {'245': ['Zhongguo chuantong xiaoshuo xushi mo...\n",
       "134105                        {'245': ['American dervish']}\n",
       "101143    {'245': ['The Excerpta Constantiniana and the ...\n",
       "139225    {'245': ['Le perturbateur d'Israël', 'étude de...\n",
       "103754    {'245': ['Les abeilles sauvages', 'évaluation ...\n",
       "160927    {'245': ['Olympia Pressedienst. Kunst - Sonder...\n",
       "95803                             {'245': ['Fremdschämen']}\n",
       "Name: ttlpart, dtype: object"
      ]
     },
     "execution_count": 150,
     "metadata": {},
     "output_type": "execute_result"
    }
   ],
   "source": [
    "df.ttlpart.sample(n=20)"
   ]
  },
  {
   "cell_type": "markdown",
   "metadata": {},
   "source": [
    "The attribute is described to be the same like $\\texttt{ttlfull_245}$, [[FeatWiki](./A_References.ipynb/#feature_deduplication_wiki)]. The comparison of the two attributes after the basic transformation of $\\texttt{ttlpart}$ shows that this expectation is valid for all records."
   ]
  },
  {
   "cell_type": "code",
   "execution_count": 151,
   "metadata": {},
   "outputs": [],
   "source": [
    "df = dpf.transform_dictionary_to_list(df, 'ttlpart', '245')\n",
    "df = dpf.transform_list_to_string(df, 'ttlpart_245')"
   ]
  },
  {
   "cell_type": "code",
   "execution_count": 152,
   "metadata": {},
   "outputs": [
    {
     "data": {
      "text/html": [
       "<div>\n",
       "<style scoped>\n",
       "    .dataframe tbody tr th:only-of-type {\n",
       "        vertical-align: middle;\n",
       "    }\n",
       "\n",
       "    .dataframe tbody tr th {\n",
       "        vertical-align: top;\n",
       "    }\n",
       "\n",
       "    .dataframe thead th {\n",
       "        text-align: right;\n",
       "    }\n",
       "</style>\n",
       "<table border=\"1\" class=\"dataframe\">\n",
       "  <thead>\n",
       "    <tr style=\"text-align: right;\">\n",
       "      <th></th>\n",
       "      <th>docid</th>\n",
       "      <th>035liste</th>\n",
       "      <th>isbn</th>\n",
       "      <th>ttlfull</th>\n",
       "      <th>ttlpart</th>\n",
       "      <th>person</th>\n",
       "      <th>corporate</th>\n",
       "      <th>pubyear</th>\n",
       "      <th>decade</th>\n",
       "      <th>century</th>\n",
       "      <th>exactDate</th>\n",
       "      <th>...</th>\n",
       "      <th>corporate_710</th>\n",
       "      <th>corporate_810</th>\n",
       "      <th>format_prefix</th>\n",
       "      <th>format_postfix</th>\n",
       "      <th>person_100</th>\n",
       "      <th>person_700</th>\n",
       "      <th>person_800</th>\n",
       "      <th>person_245c</th>\n",
       "      <th>ttlfull_245</th>\n",
       "      <th>ttlfull_246</th>\n",
       "      <th>ttlpart_245</th>\n",
       "    </tr>\n",
       "  </thead>\n",
       "  <tbody>\n",
       "  </tbody>\n",
       "</table>\n",
       "<p>0 rows × 37 columns</p>\n",
       "</div>"
      ],
      "text/plain": [
       "Empty DataFrame\n",
       "Columns: [docid, 035liste, isbn, ttlfull, ttlpart, person, corporate, pubyear, decade, century, exactDate, edition, part, pages, volumes, pubinit, pubword, scale, coordinate, doi, ismn, musicid, format, coordinate_E, coordinate_N, corporate_110, corporate_710, corporate_810, format_prefix, format_postfix, person_100, person_700, person_800, person_245c, ttlfull_245, ttlfull_246, ttlpart_245]\n",
       "Index: []\n",
       "\n",
       "[0 rows x 37 columns]"
      ]
     },
     "execution_count": 152,
     "metadata": {},
     "output_type": "execute_result"
    }
   ],
   "source": [
    "df[df.ttlpart_245!=df.ttlfull_245]"
   ]
  },
  {
   "cell_type": "markdown",
   "metadata": {},
   "source": [
    "Due to its redandancy, the attribute will be dropped and will not be processed further in the model."
   ]
  },
  {
   "cell_type": "markdown",
   "metadata": {},
   "source": [
    "### volumes"
   ]
  },
  {
   "cell_type": "code",
   "execution_count": 153,
   "metadata": {},
   "outputs": [],
   "source": [
    "columns_metadata_dict['list_columns'].append('volumes')"
   ]
  },
  {
   "cell_type": "code",
   "execution_count": 154,
   "metadata": {},
   "outputs": [
    {
     "name": "stdout",
     "output_type": "stream",
     "text": [
      "Number of records with filled volumes 161471, with missing volumes 21936 => 88.0%\n"
     ]
    }
   ],
   "source": [
    "_, _ = daf.find_empty_in_column(df, columns_metadata_dict, 'volumes')"
   ]
  },
  {
   "cell_type": "markdown",
   "metadata": {},
   "source": [
    "This attribute holds information on the number of physical pages, volumes, total playing time etc. of the bibliographic unit [[FeatWiki](./A_References.ipynb/#feature_deduplication_wiki)] depending on its format. Some examples are shown below."
   ]
  },
  {
   "cell_type": "code",
   "execution_count": 155,
   "metadata": {},
   "outputs": [
    {
     "data": {
      "text/plain": [
       "104007                        []\n",
       "3151                    [412 S.]\n",
       "18836          [xii, 236 Seiten]\n",
       "55187                   [116 p.]\n",
       "122077      [1 Online-Ressource]\n",
       "150527                  [117 p.]\n",
       "80511                     [4 p.]\n",
       "110015                        []\n",
       "26669                [55 Seiten]\n",
       "33175                         []\n",
       "180857    [365 p., [16] S. Taf.]\n",
       "109138                        []\n",
       "26130                  [2 Teile]\n",
       "41087        [1 online resource]\n",
       "136184       [1 online resource]\n",
       "Name: volumes, dtype: object"
      ]
     },
     "execution_count": 155,
     "metadata": {},
     "output_type": "execute_result"
    }
   ],
   "source": [
    "df['volumes'].sample(n=15)"
   ]
  },
  {
   "cell_type": "markdown",
   "metadata": {},
   "source": [
    "The attribute comes along as a list of one string element. A function for data preparation has been written to extract the element out of the list and store it as a single string of lowercase characters. This function will be used for preparing the data of the goldstandard in chapter [Goldstandard and Data Preparation](./2_GoldstandardDataPreparation.ipynb)."
   ]
  },
  {
   "cell_type": "code",
   "execution_count": 156,
   "metadata": {},
   "outputs": [],
   "source": [
    "df = dpf.transform_list_to_string(df, 'volumes')"
   ]
  },
  {
   "cell_type": "code",
   "execution_count": 157,
   "metadata": {},
   "outputs": [
    {
     "data": {
      "text/plain": [
       "8873                                        1 compact disc\n",
       "43547    1 online resource (online-ressource (vii, 131 ...\n",
       "23252                                                     \n",
       "32048                                               1 band\n",
       "71371                                            p. 49-273\n",
       "12359                                       1 schallplatte\n",
       "28959                                         xviii, pages\n",
       "89798                                    1 online resource\n",
       "38709                                    1 online resource\n",
       "25916                                               616 p.\n",
       "75138                                               1 band\n",
       "8912                                            1 partitur\n",
       "24667                                               2 tle.\n",
       "22063                                                     \n",
       "34098                                                     \n",
       "Name: volumes, dtype: object"
      ]
     },
     "execution_count": 157,
     "metadata": {},
     "output_type": "execute_result"
    }
   ],
   "source": [
    "df['volumes'].sample(n=15)"
   ]
  },
  {
   "cell_type": "code",
   "execution_count": 158,
   "metadata": {},
   "outputs": [
    {
     "name": "stdout",
     "output_type": "stream",
     "text": [
      "Array of unique attribute values\n",
      " ['s. 102-114' '43 s.' '75 p.' ... '232 s., 2 bl. taf.'\n",
      " '26 seiten, 7 ungezählte blätter bildtafeln' 'xli, 282 seiten']\n",
      "\n",
      "Total number of unique values 36,466\n"
     ]
    }
   ],
   "source": [
    "print('Array of unique attribute values\\n', df.volumes.unique())\n",
    "print('\\nTotal number of unique values {:,d}'.format(len(df.volumes.unique())))"
   ]
  },
  {
   "cell_type": "code",
   "execution_count": 159,
   "metadata": {},
   "outputs": [],
   "source": [
    "columns_metadata_dict['data_analysis_columns'].append('volumes')"
   ]
  },
  {
   "cell_type": "markdown",
   "metadata": {},
   "source": [
    "## Metadata Handover"
   ]
  },
  {
   "cell_type": "markdown",
   "metadata": {},
   "source": [
    "Dictionary $\\texttt{columns}\\_\\texttt{metadata}\\_\\texttt{dict}$ plays the role of a metadata global variable to be handed over to subsequent chapters of this capstone project. Only the values of key $\\texttt{data}\\_\\texttt{analysis}\\_\\texttt{columns}$ will be needed as metadata in the next chapter. The values of keys $\\texttt{list}\\_\\texttt{columns}$ and $\\texttt{string}\\_\\texttt{columns}$ can be dropped."
   ]
  },
  {
   "cell_type": "code",
   "execution_count": 160,
   "metadata": {},
   "outputs": [],
   "source": [
    "del columns_metadata_dict['list_columns']\n",
    "del columns_metadata_dict['strings_columns']"
   ]
  },
  {
   "cell_type": "markdown",
   "metadata": {},
   "source": [
    "To hand over the attributes dictionary of this chapter in their role of metadata, the dictionary is saved into a pickle file that will be read in the next chapter [Goldstandard and Data Preparation](./2_GoldstandardDataPreparation.ipynb) as input file. "
   ]
  },
  {
   "cell_type": "code",
   "execution_count": 161,
   "metadata": {},
   "outputs": [],
   "source": [
    "import pickle as pk\n",
    "\n",
    "# Binary intermediary metadata file\n",
    "with open(os.path.join(path_goldstandard,\n",
    "                       'columns_metadata.pkl'), 'wb') as df_output_file:\n",
    "    pk.dump(columns_metadata_dict, df_output_file)"
   ]
  },
  {
   "cell_type": "markdown",
   "metadata": {},
   "source": [
    "## Summary"
   ]
  },
  {
   "cell_type": "markdown",
   "metadata": {},
   "source": [
    "The result of this chapter is an analysis of the attributes of the raw data [[FeatWiki](./A_References.ipynb/#feature_deduplication_wiki)] for the capstone project. During the analysis and discussion of the attributes, some functions have been written, that will be used in the upcoming chapters for data preprocessing. As the next step, Swissbib's training and testing data will be analysed and processed in chapter [Goldstandard and Data Preparation](./2_GoldstandardDataPreparation.ipynb)."
   ]
  },
  {
   "cell_type": "code",
   "execution_count": null,
   "metadata": {},
   "outputs": [],
   "source": []
  }
 ],
 "metadata": {
  "kernelspec": {
   "display_name": "Python 3",
   "language": "python",
   "name": "python3"
  },
  "language_info": {
   "codemirror_mode": {
    "name": "ipython",
    "version": 3
   },
   "file_extension": ".py",
   "mimetype": "text/x-python",
   "name": "python",
   "nbconvert_exporter": "python",
   "pygments_lexer": "ipython3",
   "version": "3.7.1"
  }
 },
 "nbformat": 4,
 "nbformat_minor": 2
}
