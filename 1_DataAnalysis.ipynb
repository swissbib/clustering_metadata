{
 "cells": [
  {
   "cell_type": "markdown",
   "metadata": {},
   "source": [
    "# Data Analysis"
   ]
  },
  {
   "cell_type": "markdown",
   "metadata": {},
   "source": [
    "For understanding the bibliographic catalogue data of the Swissbib platform, the project team has generated a sample .json file with a big amount of representative records. This chapter shows the analysis of this data delivery."
   ]
  },
  {
   "cell_type": "markdown",
   "metadata": {},
   "source": [
    "## Table of Contents\n",
    "\n",
    "- [Sample Records Analysis](#Sample-Records-Analysis)\n",
    "    - [Book](#Book)\n",
    "    - [Music](#Music)\n",
    "    - [Video Material](#Video-Material)\n",
    "    - [Map](#Map)\n",
    "    - [Periodical](#Periodical)\n",
    "    - [Collection](#Collection)\n",
    "    - [Computer File](#Computer-File)\n",
    "- [General Observation](#General-Observation)\n",
    "- [Attribute Analysis](#Attribute-Analysis)\n",
    "- [Metadata Handover](#Metadata-Handover)\n",
    "- [Summary](#Summary)"
   ]
  },
  {
   "cell_type": "markdown",
   "metadata": {},
   "source": [
    "## Sample Records Analysis"
   ]
  },
  {
   "cell_type": "markdown",
   "metadata": {},
   "source": [
    "In this section, the data file is loaded and some sample data records are shown."
   ]
  },
  {
   "cell_type": "code",
   "execution_count": 1,
   "metadata": {},
   "outputs": [
    {
     "name": "stdout",
     "output_type": "stream",
     "text": [
      "Number of data records loaded 183407\n"
     ]
    }
   ],
   "source": [
    "import os\n",
    "import json\n",
    "\n",
    "records = []\n",
    "path_data = './data'\n",
    "path_goldstandard = './daten_goldstandard'\n",
    "\n",
    "for line in open(os.path.join(path_data, 'job7r4A1.json'), 'r'):\n",
    "    records.append(json.loads(line))\n",
    "\n",
    "print('Number of data records loaded', len(records))"
   ]
  },
  {
   "cell_type": "code",
   "execution_count": 2,
   "metadata": {},
   "outputs": [
    {
     "data": {
      "text/html": [
       "<div>\n",
       "<style scoped>\n",
       "    .dataframe tbody tr th:only-of-type {\n",
       "        vertical-align: middle;\n",
       "    }\n",
       "\n",
       "    .dataframe tbody tr th {\n",
       "        vertical-align: top;\n",
       "    }\n",
       "\n",
       "    .dataframe thead th {\n",
       "        text-align: right;\n",
       "    }\n",
       "</style>\n",
       "<table border=\"1\" class=\"dataframe\">\n",
       "  <thead>\n",
       "    <tr style=\"text-align: right;\">\n",
       "      <th></th>\n",
       "      <th>docid</th>\n",
       "      <th>035liste</th>\n",
       "      <th>isbn</th>\n",
       "      <th>ttlfull</th>\n",
       "      <th>ttlpart</th>\n",
       "      <th>person</th>\n",
       "      <th>corporate</th>\n",
       "      <th>pubyear</th>\n",
       "      <th>decade</th>\n",
       "      <th>century</th>\n",
       "      <th>exactDate</th>\n",
       "      <th>edition</th>\n",
       "      <th>part</th>\n",
       "      <th>pages</th>\n",
       "      <th>volumes</th>\n",
       "      <th>pubinit</th>\n",
       "      <th>pubword</th>\n",
       "      <th>scale</th>\n",
       "      <th>coordinate</th>\n",
       "      <th>doi</th>\n",
       "      <th>ismn</th>\n",
       "      <th>musicid</th>\n",
       "      <th>format</th>\n",
       "    </tr>\n",
       "  </thead>\n",
       "  <tbody>\n",
       "    <tr>\n",
       "      <th>0</th>\n",
       "      <td>554061449</td>\n",
       "      <td>[(OCoLC)1085491204, (IDSBB)006899773]</td>\n",
       "      <td>[]</td>\n",
       "      <td>{'245': ['Die Feist von Kienberg', 'eine Wasen...</td>\n",
       "      <td>{'245': ['Die Feist von Kienberg', 'eine Wasen...</td>\n",
       "      <td>{'100': ['SchluchterAndré'], '245c': ['André S...</td>\n",
       "      <td>{}</td>\n",
       "      <td>1992</td>\n",
       "      <td>1992</td>\n",
       "      <td>1992</td>\n",
       "      <td>1992</td>\n",
       "      <td></td>\n",
       "      <td>[]</td>\n",
       "      <td>[S. 102-114]</td>\n",
       "      <td>[S. 102-114]</td>\n",
       "      <td>[]</td>\n",
       "      <td>[]</td>\n",
       "      <td></td>\n",
       "      <td>[]</td>\n",
       "      <td>[]</td>\n",
       "      <td>[]</td>\n",
       "      <td></td>\n",
       "      <td>[BK020000]</td>\n",
       "    </tr>\n",
       "    <tr>\n",
       "      <th>1</th>\n",
       "      <td>554061481</td>\n",
       "      <td>[(OCoLC)1085491341, (IDSBB)006899983]</td>\n",
       "      <td>[]</td>\n",
       "      <td>{'245': ['Reimereien']}</td>\n",
       "      <td>{'245': ['Reimereien']}</td>\n",
       "      <td>{'100': ['NaegeliWerner'], '245c': ['von Werne...</td>\n",
       "      <td>{}</td>\n",
       "      <td>1986</td>\n",
       "      <td>1986</td>\n",
       "      <td>1986</td>\n",
       "      <td>1986</td>\n",
       "      <td></td>\n",
       "      <td>[]</td>\n",
       "      <td>[43 S.]</td>\n",
       "      <td>[43 S.]</td>\n",
       "      <td>[]</td>\n",
       "      <td>[]</td>\n",
       "      <td></td>\n",
       "      <td>[]</td>\n",
       "      <td>[]</td>\n",
       "      <td>[]</td>\n",
       "      <td></td>\n",
       "      <td>[BK020000]</td>\n",
       "    </tr>\n",
       "    <tr>\n",
       "      <th>2</th>\n",
       "      <td>554061503</td>\n",
       "      <td>[(OCoLC)1085491299, (IDSBB)006899959]</td>\n",
       "      <td>[]</td>\n",
       "      <td>{'245': ['Efficax antidotum ad matrimonia mixt...</td>\n",
       "      <td>{'245': ['Efficax antidotum ad matrimonia mixt...</td>\n",
       "      <td>{'100': ['KellyM.V.'], '700': ['GeniesseJ.B.']...</td>\n",
       "      <td>{}</td>\n",
       "      <td>1923</td>\n",
       "      <td>1923</td>\n",
       "      <td>1923</td>\n",
       "      <td>1923</td>\n",
       "      <td></td>\n",
       "      <td>[]</td>\n",
       "      <td>[75 p.]</td>\n",
       "      <td>[75 p.]</td>\n",
       "      <td>[]</td>\n",
       "      <td>[]</td>\n",
       "      <td></td>\n",
       "      <td>[]</td>\n",
       "      <td>[]</td>\n",
       "      <td>[]</td>\n",
       "      <td></td>\n",
       "      <td>[BK020000]</td>\n",
       "    </tr>\n",
       "    <tr>\n",
       "      <th>3</th>\n",
       "      <td>554061511</td>\n",
       "      <td>[(OCoLC)1085491268, (IDSBB)006896614]</td>\n",
       "      <td>[]</td>\n",
       "      <td>{'245': ['Probleme der Inflationsbekämpfung', ...</td>\n",
       "      <td>{'245': ['Probleme der Inflationsbekämpfung', ...</td>\n",
       "      <td>{'100': ['WegelinWalter'], '245c': ['']}</td>\n",
       "      <td>{}</td>\n",
       "      <td>1947</td>\n",
       "      <td>1947</td>\n",
       "      <td>1947</td>\n",
       "      <td>1947</td>\n",
       "      <td></td>\n",
       "      <td>[]</td>\n",
       "      <td>[24 S.]</td>\n",
       "      <td>[24 S.]</td>\n",
       "      <td>[]</td>\n",
       "      <td>[]</td>\n",
       "      <td></td>\n",
       "      <td>[]</td>\n",
       "      <td>[]</td>\n",
       "      <td>[]</td>\n",
       "      <td></td>\n",
       "      <td>[BK020000]</td>\n",
       "    </tr>\n",
       "    <tr>\n",
       "      <th>4</th>\n",
       "      <td>55406152X</td>\n",
       "      <td>[(OCoLC)1085491079, (IDSBB)006896866]</td>\n",
       "      <td>[]</td>\n",
       "      <td>{'245': ['[Poems]']}</td>\n",
       "      <td>{'245': ['[Poems]']}</td>\n",
       "      <td>{'100': ['OberlinUrs'], '245c': ['Urs Oberlin ...</td>\n",
       "      <td>{}</td>\n",
       "      <td>1991</td>\n",
       "      <td>1991</td>\n",
       "      <td>1991</td>\n",
       "      <td>1991</td>\n",
       "      <td></td>\n",
       "      <td>[]</td>\n",
       "      <td>[p. 14-15]</td>\n",
       "      <td>[p. 14-15]</td>\n",
       "      <td>[]</td>\n",
       "      <td>[]</td>\n",
       "      <td></td>\n",
       "      <td>[]</td>\n",
       "      <td>[]</td>\n",
       "      <td>[]</td>\n",
       "      <td></td>\n",
       "      <td>[BK020000]</td>\n",
       "    </tr>\n",
       "  </tbody>\n",
       "</table>\n",
       "</div>"
      ],
      "text/plain": [
       "       docid                               035liste isbn  \\\n",
       "0  554061449  [(OCoLC)1085491204, (IDSBB)006899773]   []   \n",
       "1  554061481  [(OCoLC)1085491341, (IDSBB)006899983]   []   \n",
       "2  554061503  [(OCoLC)1085491299, (IDSBB)006899959]   []   \n",
       "3  554061511  [(OCoLC)1085491268, (IDSBB)006896614]   []   \n",
       "4  55406152X  [(OCoLC)1085491079, (IDSBB)006896866]   []   \n",
       "\n",
       "                                             ttlfull  \\\n",
       "0  {'245': ['Die Feist von Kienberg', 'eine Wasen...   \n",
       "1                            {'245': ['Reimereien']}   \n",
       "2  {'245': ['Efficax antidotum ad matrimonia mixt...   \n",
       "3  {'245': ['Probleme der Inflationsbekämpfung', ...   \n",
       "4                               {'245': ['[Poems]']}   \n",
       "\n",
       "                                             ttlpart  \\\n",
       "0  {'245': ['Die Feist von Kienberg', 'eine Wasen...   \n",
       "1                            {'245': ['Reimereien']}   \n",
       "2  {'245': ['Efficax antidotum ad matrimonia mixt...   \n",
       "3  {'245': ['Probleme der Inflationsbekämpfung', ...   \n",
       "4                               {'245': ['[Poems]']}   \n",
       "\n",
       "                                              person corporate   pubyear  \\\n",
       "0  {'100': ['SchluchterAndré'], '245c': ['André S...        {}  1992       \n",
       "1  {'100': ['NaegeliWerner'], '245c': ['von Werne...        {}  1986       \n",
       "2  {'100': ['KellyM.V.'], '700': ['GeniesseJ.B.']...        {}  1923       \n",
       "3           {'100': ['WegelinWalter'], '245c': ['']}        {}  1947       \n",
       "4  {'100': ['OberlinUrs'], '245c': ['Urs Oberlin ...        {}  1991       \n",
       "\n",
       "  decade century exactDate edition part         pages       volumes pubinit  \\\n",
       "0   1992    1992  1992               []  [S. 102-114]  [S. 102-114]      []   \n",
       "1   1986    1986  1986               []       [43 S.]       [43 S.]      []   \n",
       "2   1923    1923  1923               []       [75 p.]       [75 p.]      []   \n",
       "3   1947    1947  1947               []       [24 S.]       [24 S.]      []   \n",
       "4   1991    1991  1991               []    [p. 14-15]    [p. 14-15]      []   \n",
       "\n",
       "  pubword scale coordinate doi ismn musicid      format  \n",
       "0      []               []  []   []          [BK020000]  \n",
       "1      []               []  []   []          [BK020000]  \n",
       "2      []               []  []   []          [BK020000]  \n",
       "3      []               []  []   []          [BK020000]  \n",
       "4      []               []  []   []          [BK020000]  "
      ]
     },
     "execution_count": 2,
     "metadata": {},
     "output_type": "execute_result"
    }
   ],
   "source": [
    "import pandas as pd\n",
    "\n",
    "# Generate Pandas DataFrame object out of the raw data\n",
    "df = pd.DataFrame(records)\n",
    "\n",
    "# Extend display to number of columns of DataFrame\n",
    "pd.options.display.max_columns = len(df.columns)\n",
    "\n",
    "df.head()"
   ]
  },
  {
   "cell_type": "code",
   "execution_count": 3,
   "metadata": {},
   "outputs": [
    {
     "name": "stdout",
     "output_type": "stream",
     "text": [
      "Number of records 183407, number of attributes per record 23.\n",
      "\n",
      "<class 'pandas.core.frame.DataFrame'>\n",
      "RangeIndex: 183407 entries, 0 to 183406\n",
      "Data columns (total 23 columns):\n",
      "docid         183407 non-null object\n",
      "035liste      183407 non-null object\n",
      "isbn          183407 non-null object\n",
      "ttlfull       183407 non-null object\n",
      "ttlpart       183407 non-null object\n",
      "person        183407 non-null object\n",
      "corporate     183407 non-null object\n",
      "pubyear       183407 non-null object\n",
      "decade        183407 non-null object\n",
      "century       183407 non-null object\n",
      "exactDate     183407 non-null object\n",
      "edition       183407 non-null object\n",
      "part          183407 non-null object\n",
      "pages         183407 non-null object\n",
      "volumes       183407 non-null object\n",
      "pubinit       183407 non-null object\n",
      "pubword       183407 non-null object\n",
      "scale         183407 non-null object\n",
      "coordinate    183407 non-null object\n",
      "doi           183407 non-null object\n",
      "ismn          183407 non-null object\n",
      "musicid       183407 non-null object\n",
      "format        183407 non-null object\n",
      "dtypes: object(23)\n",
      "memory usage: 32.2+ MB\n"
     ]
    }
   ],
   "source": [
    "print('Number of records {:d}, number of attributes per record {:d}.\\n'.format(\n",
    "    len(df), len(df.columns)))\n",
    "\n",
    "df.info()"
   ]
  },
  {
   "cell_type": "markdown",
   "metadata": {},
   "source": [
    "Swissbib data describes different kinds of bibliographic units, see [format](#format). The following subsections show some sample data for such units. The format is interpreted roughly in these subsections, compare Swissbib's [format codes](http://www.swissbib.org/wiki/index.php?title=Filtering#format_codes) [[FeatWiki](./A_References.ipynb#feature_deduplication_wiki)]."
   ]
  },
  {
   "cell_type": "code",
   "execution_count": 4,
   "metadata": {},
   "outputs": [
    {
     "data": {
      "text/plain": [
       "array(['BK', 'MU', 'VM', 'MP', 'CR', 'CL', 'CF', nan], dtype=object)"
      ]
     },
     "execution_count": 4,
     "metadata": {},
     "output_type": "execute_result"
    }
   ],
   "source": [
    "df.format.str[0].str[:2].unique()"
   ]
  },
  {
   "cell_type": "markdown",
   "metadata": {},
   "source": [
    "### Book"
   ]
  },
  {
   "cell_type": "markdown",
   "metadata": {},
   "source": [
    "A format code starting with $\\texttt{BK}$ stands for a bibliographic unit of a book or an article. A sample record is shown below."
   ]
  },
  {
   "cell_type": "code",
   "execution_count": 5,
   "metadata": {},
   "outputs": [
    {
     "data": {
      "text/plain": [
       "docid                                                 554061449\n",
       "035liste                  [(OCoLC)1085491204, (IDSBB)006899773]\n",
       "isbn                                                         []\n",
       "ttlfull       {'245': ['Die Feist von Kienberg', 'eine Wasen...\n",
       "ttlpart       {'245': ['Die Feist von Kienberg', 'eine Wasen...\n",
       "person        {'100': ['SchluchterAndré'], '245c': ['André S...\n",
       "corporate                                                    {}\n",
       "pubyear                                                1992    \n",
       "decade                                                     1992\n",
       "century                                                    1992\n",
       "exactDate                                              1992    \n",
       "edition                                                        \n",
       "part                                                         []\n",
       "pages                                              [S. 102-114]\n",
       "volumes                                            [S. 102-114]\n",
       "pubinit                                                      []\n",
       "pubword                                                      []\n",
       "scale                                                          \n",
       "coordinate                                                   []\n",
       "doi                                                          []\n",
       "ismn                                                         []\n",
       "musicid                                                        \n",
       "format                                               [BK020000]\n",
       "Name: 0, dtype: object"
      ]
     },
     "execution_count": 5,
     "metadata": {},
     "output_type": "execute_result"
    }
   ],
   "source": [
    "df.loc[df[df.format.str[0].str[:2]=='BK'].index[0]]"
   ]
  },
  {
   "cell_type": "markdown",
   "metadata": {},
   "source": [
    "### Music"
   ]
  },
  {
   "cell_type": "markdown",
   "metadata": {},
   "source": [
    "A format code starting with $\\texttt{MU}$ stands for a bibliographic unit that is related to music. A sample record is shown below."
   ]
  },
  {
   "cell_type": "code",
   "execution_count": 6,
   "metadata": {},
   "outputs": [
    {
     "data": {
      "text/plain": [
       "docid                                                 554098806\n",
       "035liste                  [(OCoLC)1085495414, (IDSBB)007052696]\n",
       "isbn                                                         []\n",
       "ttlfull                             {'245': ['Violin sonatas']}\n",
       "ttlpart                             {'245': ['Violin sonatas']}\n",
       "person        {'100': ['BrahmsJohannes1833-1897(DE-588)11851...\n",
       "corporate                                                    {}\n",
       "pubyear                                                20182018\n",
       "decade                                                     2018\n",
       "century                                                    2018\n",
       "exactDate                                              20182018\n",
       "edition                                                        \n",
       "part                                                         []\n",
       "pages                                            [1 CD (69:42)]\n",
       "volumes                                          [1 CD (69:42)]\n",
       "pubinit                                                      []\n",
       "pubword                                                      []\n",
       "scale                                                          \n",
       "coordinate                                                   []\n",
       "doi                                                          []\n",
       "ismn                                                         []\n",
       "musicid                                              GCD 924201\n",
       "format                                               [MU040100]\n",
       "Name: 1788, dtype: object"
      ]
     },
     "execution_count": 6,
     "metadata": {},
     "output_type": "execute_result"
    }
   ],
   "source": [
    "df.loc[df[df.format.str[0].str[:2]=='MU'].index[0]]"
   ]
  },
  {
   "cell_type": "markdown",
   "metadata": {},
   "source": [
    "### Video Material"
   ]
  },
  {
   "cell_type": "markdown",
   "metadata": {},
   "source": [
    "A format code starting with $\\texttt{VM}$ represents some film material. A sample record is shown below."
   ]
  },
  {
   "cell_type": "code",
   "execution_count": 7,
   "metadata": {},
   "outputs": [
    {
     "data": {
      "text/plain": [
       "docid                                                 554098911\n",
       "035liste      [(OCoLC)1065768412, (IDSBB)007052702, (OCoLC)1...\n",
       "isbn                         [978-3-946274-20-9, 3-946274-20-X]\n",
       "ttlfull       {'245': ['Kunst und Gemüse, A. Hipler', 'Art a...\n",
       "ttlpart       {'245': ['Kunst und Gemüse, A. Hipler', 'Art a...\n",
       "person        {'100': [], '700': ['SchlingensiefChristoph196...\n",
       "corporate                                                    {}\n",
       "pubyear                                                20182008\n",
       "decade                                                     2018\n",
       "century                                                    2018\n",
       "exactDate                                              20182008\n",
       "edition                                                        \n",
       "part                                                     [2004]\n",
       "pages                                  [2 DVD-Videos (283 min)]\n",
       "volumes                                [2 DVD-Videos (283 min)]\n",
       "pubinit                                                      []\n",
       "pubword                                                      []\n",
       "scale                                                          \n",
       "coordinate                                                   []\n",
       "doi                                                          []\n",
       "ismn                                                         []\n",
       "musicid                                                        \n",
       "format                                               [VM010000]\n",
       "Name: 1795, dtype: object"
      ]
     },
     "execution_count": 7,
     "metadata": {},
     "output_type": "execute_result"
    }
   ],
   "source": [
    "df.loc[df[df.format.str[0].str[:2]=='VM'].index[0]]"
   ]
  },
  {
   "cell_type": "markdown",
   "metadata": {},
   "source": [
    "### Map"
   ]
  },
  {
   "cell_type": "markdown",
   "metadata": {},
   "source": [
    "A format code starting with $\\texttt{MP}$ is a map. A sample record is shown below."
   ]
  },
  {
   "cell_type": "code",
   "execution_count": 8,
   "metadata": {},
   "outputs": [
    {
     "data": {
      "text/plain": [
       "docid                                                 554099039\n",
       "035liste                  [(OCoLC)1085495396, (IDSBB)007052708]\n",
       "isbn                                                         []\n",
       "ttlfull       {'245': ['Nova descriptio Comitatus Hollandiæ'...\n",
       "ttlpart       {'245': ['Nova descriptio Comitatus Hollandiæ'...\n",
       "person        {'100': ['BlaeuWillem Janszoon1571-1638(DE-588...\n",
       "corporate                                                    {}\n",
       "pubyear                                                19931604\n",
       "decade                                                     1993\n",
       "century                                                    1993\n",
       "exactDate                                              19931604\n",
       "edition                                               Facsimile\n",
       "part                                                         []\n",
       "pages                                                 [1 Karte]\n",
       "volumes                                               [1 Karte]\n",
       "pubinit                                                      []\n",
       "pubword                                                      []\n",
       "scale                                                    400000\n",
       "coordinate                                 [E0035400, N0532700]\n",
       "doi                                                          []\n",
       "ismn                                                         []\n",
       "musicid                                                        \n",
       "format                                               [MP010300]\n",
       "Name: 1801, dtype: object"
      ]
     },
     "execution_count": 8,
     "metadata": {},
     "output_type": "execute_result"
    }
   ],
   "source": [
    "df.loc[df[df.format.str[0].str[:2]=='MP'].index[0]]"
   ]
  },
  {
   "cell_type": "markdown",
   "metadata": {},
   "source": [
    "### Periodical"
   ]
  },
  {
   "cell_type": "markdown",
   "metadata": {},
   "source": [
    "A format code starting with $\\texttt{CR}$ is a bibliographic unit of a periodical. A sample record is shown below."
   ]
  },
  {
   "cell_type": "code",
   "execution_count": 9,
   "metadata": {},
   "outputs": [
    {
     "data": {
      "text/plain": [
       "docid                                                 55409939X\n",
       "035liste                   [(OCoLC)699516877, (IDSBB)007052728]\n",
       "isbn                                                [1533-4406]\n",
       "ttlfull       {'245': ['The new England journal of medicine ...\n",
       "ttlpart       {'245': ['The new England journal of medicine ...\n",
       "person                                {'100': [], '245c': ['']}\n",
       "corporate                                                    {}\n",
       "pubyear                                                18121826\n",
       "decade                                                     1812\n",
       "century                                                    1812\n",
       "exactDate                                              18121826\n",
       "edition                                                        \n",
       "part                                                         []\n",
       "pages                                        [Online-Ressource]\n",
       "volumes                                      [Online-Ressource]\n",
       "pubinit                                                      []\n",
       "pubword                                                      []\n",
       "scale                                                          \n",
       "coordinate                                                   []\n",
       "doi                                                          []\n",
       "ismn                                                         []\n",
       "musicid                                                        \n",
       "format                                               [CR030653]\n",
       "Name: 1825, dtype: object"
      ]
     },
     "execution_count": 9,
     "metadata": {},
     "output_type": "execute_result"
    }
   ],
   "source": [
    "df.loc[df[df.format.str[0].str[:2]=='CR'].index[0]]"
   ]
  },
  {
   "cell_type": "markdown",
   "metadata": {},
   "source": [
    "### Collection"
   ]
  },
  {
   "cell_type": "markdown",
   "metadata": {},
   "source": [
    "A format code starting with $\\texttt{CL}$ is a collection. A sample record is shown below."
   ]
  },
  {
   "cell_type": "code",
   "execution_count": 10,
   "metadata": {},
   "outputs": [
    {
     "data": {
      "text/plain": [
       "docid                                                 554101610\n",
       "035liste                  [(OCoLC)1085510940, (IDSBB)007052979]\n",
       "isbn                                                         []\n",
       "ttlfull       {'245': ['[St. Gallischer Hilfsverein - Sankt ...\n",
       "ttlpart       {'245': ['[St. Gallischer Hilfsverein - Sankt ...\n",
       "person                                {'100': [], '245c': ['']}\n",
       "corporate               {'110': ['St. Gallischer Hilfsverein']}\n",
       "pubyear                                                20179999\n",
       "decade                                                     2017\n",
       "century                                                    2017\n",
       "exactDate                                              20179999\n",
       "edition                                                        \n",
       "part                                                         []\n",
       "pages                                                 [1 Mappe]\n",
       "volumes                                               [1 Mappe]\n",
       "pubinit                                                      []\n",
       "pubword                                                      []\n",
       "scale                                                          \n",
       "coordinate                                                   []\n",
       "doi                                                          []\n",
       "ismn                                                         []\n",
       "musicid                                                        \n",
       "format                                               [CL010000]\n",
       "Name: 1955, dtype: object"
      ]
     },
     "execution_count": 10,
     "metadata": {},
     "output_type": "execute_result"
    }
   ],
   "source": [
    "df.loc[df[df.format.str[0].str[:2]=='CL'].index[0]]"
   ]
  },
  {
   "cell_type": "markdown",
   "metadata": {},
   "source": [
    "### Computer File"
   ]
  },
  {
   "cell_type": "markdown",
   "metadata": {},
   "source": [
    "A format code starting with $\\texttt{CF}$ is a placeholder for a computer file on any kind of storage. A sample record is shown below."
   ]
  },
  {
   "cell_type": "code",
   "execution_count": 11,
   "metadata": {},
   "outputs": [
    {
     "data": {
      "text/plain": [
       "docid                                                 554144301\n",
       "035liste                   [(IDSBB)007008154, (RERO)R007245313]\n",
       "isbn                                                         []\n",
       "ttlfull       {'245': ['Ice Age 4', 'voll verschoben : die a...\n",
       "ttlpart       {'245': ['Ice Age 4', 'voll verschoben : die a...\n",
       "person                                {'100': [], '245c': ['']}\n",
       "corporate                                                    {}\n",
       "pubyear                                                2012    \n",
       "decade                                                     2012\n",
       "century                                                    2012\n",
       "exactDate                                              2012    \n",
       "edition                                                        \n",
       "part                                                         []\n",
       "pages                                         [1 Speicherkarte]\n",
       "volumes                                       [1 Speicherkarte]\n",
       "pubinit                                                      []\n",
       "pubword                                                      []\n",
       "scale                                                          \n",
       "coordinate                                                   []\n",
       "doi                                                          []\n",
       "ismn                                                         []\n",
       "musicid                                                        \n",
       "format                                               [CF010000]\n",
       "Name: 5947, dtype: object"
      ]
     },
     "execution_count": 11,
     "metadata": {},
     "output_type": "execute_result"
    }
   ],
   "source": [
    "df.loc[df[df.format.str[0].str[:2]=='CF'].index[0]]"
   ]
  },
  {
   "cell_type": "markdown",
   "metadata": {},
   "source": [
    "## General Observation"
   ]
  },
  {
   "cell_type": "markdown",
   "metadata": {},
   "source": [
    "As can be observed in the sample records displayed above, the attributes of the records are stored in basic Python datatypes like strings, lists (of strings), and dictionaries. A look into the raw data file confirms this observation."
   ]
  },
  {
   "cell_type": "code",
   "execution_count": 12,
   "metadata": {},
   "outputs": [
    {
     "name": "stdout",
     "output_type": "stream",
     "text": [
      "{\"docid\":\"554061449\",\"035liste\":[\"(OCoLC)1085491204\",\"(IDSBB)006899773\"],\"isbn\":[],\"ttlfull\":{\"245\":[\"Die Feist von Kienberg\",\"eine Wasenmeisterfamilie im Ancien Régime zwischen Ehrbarkeit und Delinquenz\"]},\"ttlpart\":{\"245\":[\"Die Feist von Kienberg\",\"eine Wasenmeisterfamilie im Ancien Régime zwischen Ehrbarkeit und Delinquenz\"]},\"person\":{\"100\":[\"SchluchterAndré\"],\"245c\":[\"André Schluchter\"]},\"corporate\":{},\"pubyear\":\"1992    \",\"decade\":\"1992\",\"century\":\"1992\",\"exactDate\":\"1992    \",\"edition\":\"\",\"part\":[],\"pages\":[\"S. 102-114\"],\"volumes\":[\"S. 102-114\"],\"pubinit\":[],\"pubword\":[],\"scale\":\"\",\"coordinate\":[],\"doi\":[],\"ismn\":[],\"musicid\":\"\",\"format\":[\"BK020000\"]}\r\n",
      "{\"docid\":\"554061481\",\"035liste\":[\"(OCoLC)1085491341\",\"(IDSBB)006899983\"],\"isbn\":[],\"ttlfull\":{\"245\":[\"Reimereien\"]},\"ttlpart\":{\"245\":[\"Reimereien\"]},\"person\":{\"100\":[\"NaegeliWerner\"],\"245c\":[\"von Werner Naegeli\"]},\"corporate\":{},\"pubyear\":\"1986    \",\"decade\":\"1986\",\"century\":\"1986\",\"exactDate\":\"1986    \",\"edition\":\"\",\"part\":[],\"pages\":[\"43 S.\"],\"volumes\":[\"43 S.\"],\"pubinit\":[],\"pubword\":[],\"scale\":\"\",\"coordinate\":[],\"doi\":[],\"ismn\":[],\"musicid\":\"\",\"format\":[\"BK020000\"]}\r\n"
     ]
    }
   ],
   "source": [
    "! head -n 2 ./data/job7r4A1.json"
   ]
  },
  {
   "cell_type": "markdown",
   "metadata": {},
   "source": [
    "A specific analysis on each attribute, its meaning and contents will be done as a next step. For the upcoming analysis, each attribute of the data records is assigned to its specific group type. This is done with the help of a global dictionary variable $\\texttt{columns}\\_\\texttt{metadata}\\_\\texttt{dict}$."
   ]
  },
  {
   "cell_type": "code",
   "execution_count": 13,
   "metadata": {},
   "outputs": [],
   "source": [
    "columns_metadata_dict = {}"
   ]
  },
  {
   "cell_type": "markdown",
   "metadata": {},
   "source": [
    "## Attribute Analysis"
   ]
  },
  {
   "cell_type": "markdown",
   "metadata": {},
   "source": [
    "This section analyses the attributes provided by the Swissbib data extracts. The extracted data is used as a basis for the machine learning models in the capstone project. The attributes are based on the MARC 21 Format for Bibliographic Data [[MARC](./A_References.ipynb#marc21)] and are documented on a Swissbib wikipedia page [[FeatWiki](./A_References.ipynb#feature_deduplication_wiki)]."
   ]
  },
  {
   "cell_type": "code",
   "execution_count": 14,
   "metadata": {},
   "outputs": [
    {
     "data": {
      "text/plain": [
       "Index(['docid', '035liste', 'isbn', 'ttlfull', 'ttlpart', 'person',\n",
       "       'corporate', 'pubyear', 'decade', 'century', 'exactDate', 'edition',\n",
       "       'part', 'pages', 'volumes', 'pubinit', 'pubword', 'scale', 'coordinate',\n",
       "       'doi', 'ismn', 'musicid', 'format'],\n",
       "      dtype='object')"
      ]
     },
     "execution_count": 14,
     "metadata": {},
     "output_type": "execute_result"
    }
   ],
   "source": [
    "df.columns"
   ]
  },
  {
   "cell_type": "markdown",
   "metadata": {},
   "source": [
    "This section provides and uses some functions that have been written for supporting the analysis of the attributes as well as for data preprocessing in the upcoming chapters. These functions have been defined in separate code files.\n",
    "\n",
    "- [data_analysis_funcs.py](./data_analysis_funcs.py)\n",
    "- [data_preparation_funcs.py](./data_preparation_funcs.py)"
   ]
  },
  {
   "cell_type": "code",
   "execution_count": 15,
   "metadata": {},
   "outputs": [],
   "source": [
    "import data_analysis_funcs as daf\n",
    "import data_preparation_funcs as dpf"
   ]
  },
  {
   "cell_type": "markdown",
   "metadata": {},
   "source": [
    "### Table of Contents of Attribute Analysis\n",
    "\n",
    "- [035liste](#035liste)\n",
    "- [century](#century)\n",
    "- coordinate\n",
    "- [corporate](#corporate)\n",
    "- [decade](#decade)\n",
    "- [docid](#docid)\n",
    "- [doi](#doi)\n",
    "- [edition](#edition)\n",
    "- [exactDate](#exactDate)\n",
    "- [format](#format)\n",
    "- isbn\n",
    "- ismn\n",
    "- musicid\n",
    "- [pages](#pages)\n",
    "- part\n",
    "- [person](#person)\n",
    "- pubinit\n",
    "- pubword\n",
    "- [pubyear](#pubyear)\n",
    "- scale\n",
    "- [ttlfull](#ttlfull)\n",
    "- ttlpart\n",
    "- [volumes](#volumes)"
   ]
  },
  {
   "cell_type": "markdown",
   "metadata": {},
   "source": [
    "### 035liste"
   ]
  },
  {
   "cell_type": "code",
   "execution_count": 16,
   "metadata": {},
   "outputs": [],
   "source": [
    "columns_metadata_dict['list_columns'] = ['035liste']"
   ]
  },
  {
   "cell_type": "markdown",
   "metadata": {},
   "source": [
    "Attribute $\\texttt{035liste}$ holds a list of identifiers from the originating library of a bibliographic unit, see [[FeatWiki](./A_References.ipynb/#feature_deduplication_wiki)]. Each record of the Swissbib data holds at least one identifier. Some examples are shown below."
   ]
  },
  {
   "cell_type": "code",
   "execution_count": 17,
   "metadata": {},
   "outputs": [
    {
     "name": "stdout",
     "output_type": "stream",
     "text": [
      "Number of records with filled 035liste 183407, with missing 035liste 0 => 100.0%\n"
     ]
    }
   ],
   "source": [
    "_, _ = daf.find_empty_in_column(df, columns_metadata_dict, '035liste')"
   ]
  },
  {
   "cell_type": "code",
   "execution_count": 18,
   "metadata": {},
   "outputs": [
    {
     "data": {
      "text/plain": [
       "83463     1\n",
       "150669    1\n",
       "150668    1\n",
       "150667    1\n",
       "150666    1\n",
       "Name: 035liste, dtype: int64"
      ]
     },
     "execution_count": 18,
     "metadata": {},
     "output_type": "execute_result"
    }
   ],
   "source": [
    "df['035liste'].apply(lambda x : len(x)).sort_values().head(5)"
   ]
  },
  {
   "cell_type": "code",
   "execution_count": 19,
   "metadata": {},
   "outputs": [
    {
     "data": {
      "text/plain": [
       "144185    20\n",
       "54084     21\n",
       "30793     21\n",
       "136608    21\n",
       "61603     21\n",
       "14755     21\n",
       "49974     22\n",
       "139972    22\n",
       "139191    23\n",
       "124359    23\n",
       "Name: 035liste, dtype: int64"
      ]
     },
     "execution_count": 19,
     "metadata": {},
     "output_type": "execute_result"
    }
   ],
   "source": [
    "df['035liste'].apply(lambda x : len(x)).sort_values().tail(10)"
   ]
  },
  {
   "cell_type": "code",
   "execution_count": 20,
   "metadata": {},
   "outputs": [
    {
     "name": "stdout",
     "output_type": "stream",
     "text": [
      "Some sample identifiers:\n"
     ]
    },
    {
     "data": {
      "text/plain": [
       "37282        [(SERSOL)ssib033998482, (WaSeSS)ssib033998482]\n",
       "140188    [(IDSBB)006836984, (NEBIS)011367367, (IDSLU)00...\n",
       "66239                  [(OCoLC)603924741, (IDSBB)004803708]\n",
       "118148       [(SERSOL)ssib013430430, (WaSeSS)ssib013430430]\n",
       "157305                                         [(CEO)39577]\n",
       "98815                 [(OCoLC)1086293570, (IDSBB)007064833]\n",
       "46489                  [(NEBIS)010607095, (RERO)R008888519]\n",
       "149923                                         [(CEO)67316]\n",
       "155271                                         [(CEO)37207]\n",
       "18011     [(NEBIS)011268958, (IDSBB)001177732, (OCoLC)10...\n",
       "Name: 035liste, dtype: object"
      ]
     },
     "execution_count": 20,
     "metadata": {},
     "output_type": "execute_result"
    }
   ],
   "source": [
    "print('Some sample identifiers:')\n",
    "df['035liste'].sample(n=10)"
   ]
  },
  {
   "cell_type": "markdown",
   "metadata": {},
   "source": [
    "Attribute $\\texttt{035liste}$ is the central attribute for finding duplicates in the training data of the Swissbib's goldstandard. This process will be explained and implemented in chapter [Goldstandard and Data Preparation](./2_GoldstandardDataPreparation.ipynb)."
   ]
  },
  {
   "cell_type": "markdown",
   "metadata": {},
   "source": [
    "### century"
   ]
  },
  {
   "cell_type": "code",
   "execution_count": 21,
   "metadata": {},
   "outputs": [],
   "source": [
    "columns_metadata_dict['strings_columns'] = ['century']"
   ]
  },
  {
   "cell_type": "code",
   "execution_count": 22,
   "metadata": {},
   "outputs": [
    {
     "name": "stdout",
     "output_type": "stream",
     "text": [
      "Number of records with filled century 183407, with missing century 0 => 100.0%\n",
      "\n",
      "EMPTY - None\n",
      "\n",
      "FILLED - index 0 \n",
      "\n",
      "docid                                                 554061449\n",
      "035liste                  [(OCoLC)1085491204, (IDSBB)006899773]\n",
      "isbn                                                         []\n",
      "ttlfull       {'245': ['Die Feist von Kienberg', 'eine Wasen...\n",
      "ttlpart       {'245': ['Die Feist von Kienberg', 'eine Wasen...\n",
      "person        {'100': ['SchluchterAndré'], '245c': ['André S...\n",
      "corporate                                                    {}\n",
      "pubyear                                                1992    \n",
      "decade                                                     1992\n",
      "century                                                    1992\n",
      "exactDate                                              1992    \n",
      "edition                                                        \n",
      "part                                                         []\n",
      "pages                                              [S. 102-114]\n",
      "volumes                                            [S. 102-114]\n",
      "pubinit                                                      []\n",
      "pubword                                                      []\n",
      "scale                                                          \n",
      "coordinate                                                   []\n",
      "doi                                                          []\n",
      "ismn                                                         []\n",
      "musicid                                                        \n",
      "format                                               [BK020000]\n",
      "Name: 0, dtype: object\n"
     ]
    }
   ],
   "source": [
    "idx_century_filled, idx_century_empty = daf.find_empty_in_column(df, columns_metadata_dict, 'century')\n",
    "\n",
    "daf.two_examples(df, idx_century_filled, idx_century_empty)"
   ]
  },
  {
   "cell_type": "markdown",
   "metadata": {},
   "source": [
    "Attribute $\\texttt{century}$ holds information on the year of origin of the bibliographic unit [[FeatWiki](./A_References.ipynb/#feature_deduplication_wiki)]. The attribute holds strings of length 4 that can predominantly be interpreted as year-dates. Some examples and the top-most quantity distribution are shown below."
   ]
  },
  {
   "cell_type": "code",
   "execution_count": 23,
   "metadata": {},
   "outputs": [
    {
     "data": {
      "text/plain": [
       "155340    1950\n",
       "7518      1990\n",
       "159744    1988\n",
       "142293    2016\n",
       "127991    1984\n",
       "118813    1953\n",
       "74054     2017\n",
       "80111     2018\n",
       "110728    2018\n",
       "7837      2017\n",
       "175676    1988\n",
       "90942     1964\n",
       "150645    1948\n",
       "156465    1979\n",
       "106292    1979\n",
       "Name: century, dtype: object"
      ]
     },
     "execution_count": 23,
     "metadata": {},
     "output_type": "execute_result"
    }
   ],
   "source": [
    "df['century'].sample(n=15)"
   ]
  },
  {
   "cell_type": "code",
   "execution_count": 24,
   "metadata": {},
   "outputs": [
    {
     "data": {
      "text/plain": [
       "2018    0.208389\n",
       "2019    0.086785\n",
       "2017    0.046350\n",
       "uuuu    0.036236\n",
       "2016    0.025223\n",
       "1999    0.020201\n",
       "2015    0.019879\n",
       "2014    0.018156\n",
       "2012    0.016286\n",
       "2013    0.015616\n",
       "Name: century, dtype: float64"
      ]
     },
     "execution_count": 24,
     "metadata": {},
     "output_type": "execute_result"
    }
   ],
   "source": [
    "df.century.value_counts(normalize=True).head(10)"
   ]
  },
  {
   "cell_type": "markdown",
   "metadata": {},
   "source": [
    "If the year-date is unclear to some extent or no year-date of the unit is registered, letter 'u' is used as a placeholder of the unknown digit."
   ]
  },
  {
   "cell_type": "code",
   "execution_count": 25,
   "metadata": {},
   "outputs": [
    {
     "data": {
      "text/plain": [
       "array(['uuuu', 'u826', '193u', '197u', '192u', '19uu', '200u', '198u',\n",
       "       '189u', '188u', '18uu', '201u', '20uu', 'u829', '195u', '218u',\n",
       "       '196u', '17uu', '1uuu', '199u', 'u611', '191u', '190u', 'u713',\n",
       "       'u999', '194u', 'u693', '186u', '184u', '15uu', 'uuu1'],\n",
       "      dtype=object)"
      ]
     },
     "execution_count": 25,
     "metadata": {},
     "output_type": "execute_result"
    }
   ],
   "source": [
    "df.century[df.century.str.contains('u')].unique()"
   ]
  },
  {
   "cell_type": "markdown",
   "metadata": {},
   "source": [
    "The above statement results in the same array like the following regular expression."
   ]
  },
  {
   "cell_type": "code",
   "execution_count": 26,
   "metadata": {},
   "outputs": [
    {
     "data": {
      "text/plain": [
       "array(['uuuu', 'u826', '193u', '197u', '192u', '19uu', '200u', '198u',\n",
       "       '189u', '188u', '18uu', '201u', '20uu', 'u829', '195u', '218u',\n",
       "       '196u', '17uu', '1uuu', '199u', 'u611', '191u', '190u', 'u713',\n",
       "       'u999', '194u', 'u693', '186u', '184u', '15uu', 'uuu1'],\n",
       "      dtype=object)"
      ]
     },
     "execution_count": 26,
     "metadata": {},
     "output_type": "execute_result"
    }
   ],
   "source": [
    "df.century[df.century.str.contains('[^0-9]')].unique()"
   ]
  },
  {
   "cell_type": "code",
   "execution_count": 27,
   "metadata": {},
   "outputs": [
    {
     "data": {
      "text/plain": [
       "array(['1992', '1986', '1923', '1947', '1991', '1967', '1950', '1985',\n",
       "       '1983', '1942', '1883', '1990', '1984', '1989', '1993', '1961',\n",
       "       '1940', '1981', '1988', '1858', '1978', '1977', '1880', '1945',\n",
       "       '1963', '1912', '1884', '1937', '1956', '1943', '1916', '1960',\n",
       "       '1980', '1936', '1906', '1987', '1955', '1944', '1953', '1930',\n",
       "       '1903', '1913', '1938', '1895', '1905', '1920', '1918', '1857',\n",
       "       '1928', '1881', '1932', '1900', '1924', '1915', '1931', '1927',\n",
       "       '1919', '1896', '1922', '1871', '1926', '1939', '1907', '1776',\n",
       "       '1873', '1893', '1968', '1975', '1946', '1833', '1855', '1949',\n",
       "       '1962', '1971', '1959', '1966', '1862', '1898', '1901', '1904',\n",
       "       '1902', '1951', '1909', '1929', '1921', '1882', '1964', '1911',\n",
       "       '1957', '1897', '1910', '1867', '1914', '1908', '1958', '1934',\n",
       "       '1933', '1872', '1845', '1979', '1954', '1885', '1810', '1891',\n",
       "       '1869', '1876', '1889', '1836', '1952', '1935', '1948', '1917',\n",
       "       '1879', '1887', '1865', '1899', '1892', '1861', '1870', '1894',\n",
       "       '1941', '1925', '1837', '1864', '1846', '1848', '1691', '1657',\n",
       "       '1623', '1590', '1538', '1686', '1544', '1596', '1631', '1580',\n",
       "       '1628', '1793', '1823', '1802', '1831', '1816', '1838', '1825',\n",
       "       '1826', '1839', '1852', '1890', '1820', '1863', '1856', '1683',\n",
       "       '1877', '1835', '1827', '1850', '1841', '1822', '1847', '1834',\n",
       "       '1824', '1840', '1875', '1756', '1752', '1650', '1573', '1528',\n",
       "       '1554', '1552', '1751', '1653', '1798', '1791', '1645', '1814',\n",
       "       '1763', '1695', '1512', '1807', '1698', '1589', '1796', '1712',\n",
       "       '1818', '1773', '1803', '1828', '1806', '1853', '1785', '1744',\n",
       "       '1525', '1779', '1809', '1811', '1714', '1705', '1787', '1874',\n",
       "       '1781', '1888', '1859', '1772', '1771', '1602', '1851', '1784',\n",
       "       '1886', '1774', '1620', '1804', '1582', '1732', '1829', '1800',\n",
       "       '1789', '1842', '1764', '1797', '1805', '1795', '1868', '1758',\n",
       "       '1713', '1741', '1830', '1821', '1670', '1777', '1770', '1711',\n",
       "       '1762', '1768', '1813', '1761', '1819', '1769', '1801', '1832',\n",
       "       '1555', '1532', '1767', '1815', '1812', '1700', '1757', '1799',\n",
       "       '1710', '1843', '1722', '1760', '1701', '1574', '1651', '1733',\n",
       "       '1786', '1665', '1790', '1723', '1860', '1659', '1737', '1750',\n",
       "       '1716', '1739', '1759', '1808', '1728', '1748', '1577', '1706',\n",
       "       '1724', '1604', '1745', '1753', '1766', '1780', '1878', '1788',\n",
       "       '1673', '1735', '1778', '1715', '1782', '1671', '1702', '1731',\n",
       "       '1639', '1982', '1743', '1866', '1676', '1694', '1584', '1854',\n",
       "       '1969', '1690', '1708', '1688', '1565', '1754', '1638', '1755',\n",
       "       '1624', '1674', '1550', '1629', '1747', '1727', '1749', '1562',\n",
       "       '1641', '1617', '1794', '1844', '1783', '1817', '1849', '1792',\n",
       "       '1730', '1687', '1649', '1541', '1696', '1707', '2018', '2013',\n",
       "       '2009', '2011', '2006', '2014', '2019', '2015', '1997', '2020',\n",
       "       '1746', '2017', '2000', '1996', '1999', '2016', '1765', '1995',\n",
       "       '1972', '1974', '1738', '1965', '2001', '2004', '2010', '2002',\n",
       "       '2008', '2003', '1661', '1664', '1970', '1998', '2012', '1973',\n",
       "       '1994', '2005', '1729', '1634', '2007', '1976', '1658', '1775',\n",
       "       '1537', '1594', '1607', '1682', '1692', '1685', '1526', '1720',\n",
       "       '1564', '1561', '1734', '1543', '1679', '1697', '1591', '1655',\n",
       "       '1643', '1660', '1563', '1569', '1576', '1619', '1668', '1556',\n",
       "       '1736', '1675', '1600', '1542', '1557', '1539', '1540', '1699',\n",
       "       '1721', '1566', '1717', '1535', '1616', '1626', '1507', '1637',\n",
       "       '1548', '1640', '1681', '1672', '1559', '1689', '1644', '1703',\n",
       "       '1588', '1680', '1578', '1618', '1611', '1553', '1551', '1627',\n",
       "       '1630', '1606', '1608', '1560', '1572', '1579', '1593', '1718',\n",
       "       '1740', '1575', '1570', '1587', '1666', '1669', '1704', '1663',\n",
       "       '1595', '1515', '1615', '1585', '1527', '1601', '1523', '1633',\n",
       "       '1678', '1635', '1667', '1598', '1622', '1656', '1684', '1719',\n",
       "       '1648', '1652', '1499', '1530', '1489', '1480', '1642', '1547',\n",
       "       '1592', '1546', '1545', '1583', '1599', '1549', '1610', '1614',\n",
       "       '1508', '1531', '1497', '1613', '1693', '1498', '1742', '1603',\n",
       "       '1514', '1625', '1654', '1534', '1621', '1558', '1636', '1522',\n",
       "       '1521', '1482', '1725', '2021', '1472', '1605', '1597', '1567',\n",
       "       '1568', '1709', '1509', '1662', '1609', '1612', '1010', '1100',\n",
       "       '1455', '1400', '1647', '1490', '1300', '1401', '1430', '1301',\n",
       "       '1201', '1101', '1425', '1001', '1000', '1200', '1501', '1500',\n",
       "       '1504', '1581', '1465', '1503', '1474', '1444', '1418', '1478',\n",
       "       '1632', '1510', '1363', '1250', '1325', '1350', '1502', '1327',\n",
       "       '1450', '1520', '1150', '1389', '1518', '1185', '1677', '1571',\n",
       "       '1646', '1726', '1586', '1495'], dtype=object)"
      ]
     },
     "execution_count": 27,
     "metadata": {},
     "output_type": "execute_result"
    }
   ],
   "source": [
    "df.century[~df.century.str.contains('[u]')].unique()"
   ]
  },
  {
   "cell_type": "markdown",
   "metadata": {},
   "source": [
    "The attribute is taken over to the feature matrix without an extra processing in [Goldstandard and Data Preparation](./2_GoldstandardDataPreparation.ipynb)."
   ]
  },
  {
   "cell_type": "code",
   "execution_count": 28,
   "metadata": {},
   "outputs": [],
   "source": [
    "columns_metadata_dict['data_analysis_columns'] = ['century']"
   ]
  },
  {
   "cell_type": "markdown",
   "metadata": {},
   "source": [
    "### corporate"
   ]
  },
  {
   "cell_type": "code",
   "execution_count": 29,
   "metadata": {},
   "outputs": [],
   "source": [
    "columns_metadata_dict['strings_columns'].append('corporate')"
   ]
  },
  {
   "cell_type": "markdown",
   "metadata": {},
   "source": [
    "Attribute $\\texttt{corporate}$ is a collection of corporate names of the bibliographical unit, see [[FeatWiki](./A_References.ipynb/#feature_deduplication_wiki)]. The attribute out of the raw data comes along as a dictionary column in the DataFrame with three possible key value pairs. For reasons of easier processing, attribute $\\texttt{corporate}$ will be split for into a singular attribute for each key of the dictionary. The values come along as lists and the implemented function $\\texttt{.transform}\\_\\texttt{list}\\_\\texttt{to}\\_\\texttt{string()}$ will be used to process its elements into one single string of the new column."
   ]
  },
  {
   "cell_type": "code",
   "execution_count": 30,
   "metadata": {},
   "outputs": [
    {
     "data": {
      "text/plain": [
       "138951                                                   {}\n",
       "69906                                                    {}\n",
       "162389                                                   {}\n",
       "171882                                                   {}\n",
       "158747    {'110': ['North Elba Park (District)'], '710':...\n",
       "85432                                                    {}\n",
       "174778                                                   {}\n",
       "6369                                                     {}\n",
       "33873                                                    {}\n",
       "96646                                                    {}\n",
       "108523                                                   {}\n",
       "147998                                                   {}\n",
       "14512                                                    {}\n",
       "150218    {'110': ['Liechtensteinischer Olympischer Spor...\n",
       "15859                                                    {}\n",
       "131543                                                   {}\n",
       "39625                                                    {}\n",
       "65311                                                    {}\n",
       "17917                                                    {}\n",
       "32314                                                    {}\n",
       "Name: corporate, dtype: object"
      ]
     },
     "execution_count": 30,
     "metadata": {},
     "output_type": "execute_result"
    }
   ],
   "source": [
    "df.corporate.sample(n=20)"
   ]
  },
  {
   "cell_type": "code",
   "execution_count": 31,
   "metadata": {},
   "outputs": [
    {
     "name": "stdout",
     "output_type": "stream",
     "text": [
      "Number of records with filled corporate_110 11370, with missing corporate_110 172037 => 6.2%\n",
      "Number of records with filled corporate_710 23123, with missing corporate_710 160284 => 12.6%\n",
      "Number of records with filled corporate_810 57, with missing corporate_810 183350 => 0.0%\n"
     ]
    }
   ],
   "source": [
    "for ending in ['110', '710', '810']:\n",
    "    df = dpf.transform_dictionary_to_list(df, 'corporate', ending)\n",
    "    df = dpf.transform_list_to_string(df, 'corporate_'+ending)\n",
    "\n",
    "    columns_metadata_dict['strings_columns'].append('corporate_'+ending)\n",
    "    _, _ = daf.find_empty_in_column(df, columns_metadata_dict, 'corporate_'+ending)"
   ]
  },
  {
   "cell_type": "markdown",
   "metadata": {},
   "source": [
    "The attribute is sparsely filled. This is due to the fact that most of Swissbib's bibliographical units are units produced by persons, not corporates."
   ]
  },
  {
   "cell_type": "code",
   "execution_count": 32,
   "metadata": {},
   "outputs": [
    {
     "data": {
      "text/plain": [
       "corporate_110    11349\n",
       "corporate_710    11349\n",
       "dtype: int64"
      ]
     },
     "execution_count": 32,
     "metadata": {},
     "output_type": "execute_result"
    }
   ],
   "source": [
    "df[['corporate_110', 'corporate_710']][\n",
    "    (df.corporate_110!=df.corporate_710) &\n",
    "    (df.corporate_110.apply(lambda x : len(x))!=0)].count()"
   ]
  },
  {
   "cell_type": "code",
   "execution_count": 33,
   "metadata": {},
   "outputs": [
    {
     "data": {
      "text/plain": [
       "corporate_110    21\n",
       "corporate_710    21\n",
       "dtype: int64"
      ]
     },
     "execution_count": 33,
     "metadata": {},
     "output_type": "execute_result"
    }
   ],
   "source": [
    "df[['corporate_110', 'corporate_710']][\n",
    "    (df.corporate_110==df.corporate_710) &\n",
    "    (df.corporate_110.apply(lambda x : len(x))!=0)].count()"
   ]
  },
  {
   "cell_type": "markdown",
   "metadata": {},
   "source": [
    "The attribute holds different data in its dictionary key 110 compared to its dictionary key 710. Both key values of $\\texttt{corporate}$ seem to be relevant for the model. Some examples are shown below."
   ]
  },
  {
   "cell_type": "code",
   "execution_count": 34,
   "metadata": {},
   "outputs": [
    {
     "data": {
      "text/plain": [
       "157596    summer olympic games. organizing committee. 21...\n",
       "150500                                  conseil de l'europe\n",
       "160658    summer youth olympic games. organizing committ...\n",
       "165106                          bulgarian olympic committee\n",
       "152146                           japanese olympic committee\n",
       "165453                      united states olympic committee\n",
       "163221                     union internationale de patinage\n",
       "27758     schweizerischer verein der freundinnen junger ...\n",
       "141572     united nations, department of public information\n",
       "161035                              comité olympique suisse\n",
       "162839    olympic winter games. organizing committee. 15...\n",
       "86087                                aktion saubere schweiz\n",
       "158461    international olympic committee. session. 1982...\n",
       "94184                                   map productions ltd\n",
       "163366                  republic of china olympic committee\n",
       "159593                          british olympic association\n",
       "168600    international olympic committee. session. 1989...\n",
       "166013    académie internationale olympique. session. 39...\n",
       "74950     schweizerischer centralverein vom roten kreuz,...\n",
       "160578    summer olympic games. organizing committee. 25...\n",
       "Name: corporate_110, dtype: object"
      ]
     },
     "execution_count": 34,
     "metadata": {},
     "output_type": "execute_result"
    }
   ],
   "source": [
    "df.corporate_110[df.corporate_110.apply(lambda x : len(x))!=0].sample(n=20)"
   ]
  },
  {
   "cell_type": "code",
   "execution_count": 35,
   "metadata": {},
   "outputs": [
    {
     "data": {
      "text/plain": [
       "148640                tartuskij gosudarstvennyj universitet\n",
       "17064                          malta philharmonic orchestra\n",
       "175964    union nationale des clubs universitaires (fran...\n",
       "170828                  deutsches olympia zentrum (münchen)\n",
       "55753     österreichische akademie der wissenschaften, c...\n",
       "37498                         springerlink (online service)\n",
       "135042             state university of iowa, college of law\n",
       "115304                                   aeschbach-stiftung\n",
       "163851    international olympic committee. olympic solid...\n",
       "102216                                   frauenmuseum meran\n",
       "128137                                atelier otto rietmann\n",
       "58888                               palace (groupe musical)\n",
       "177094                                             mastodon\n",
       "79739     vereinte nationen, vereinte nationen, vereinte...\n",
       "175789    société internationale d'histoire de l'éducati...\n",
       "50567     schweiz, ipso-sozial- und umfrageforschung, bu...\n",
       "92070     museum brandhorst, museo d'arte contemporanea ...\n",
       "43450                         springerlink (online service)\n",
       "80525                                     arkstée et merkus\n",
       "129497                         museum für gestaltung zürich\n",
       "Name: corporate_710, dtype: object"
      ]
     },
     "execution_count": 35,
     "metadata": {},
     "output_type": "execute_result"
    }
   ],
   "source": [
    "df.corporate_710[df.corporate_710.apply(lambda x : len(x))!=0].sample(n=20)"
   ]
  },
  {
   "cell_type": "code",
   "execution_count": 36,
   "metadata": {},
   "outputs": [
    {
     "data": {
      "text/plain": [
       "113869                              peter-ochs-gesellschaft\n",
       "15102               schweiz, bundesamt für landestopografie\n",
       "86065                               hallwag kümmerly + frey\n",
       "106150                              hallwag kümmerly + frey\n",
       "106189                              hallwag kümmerly + frey\n",
       "113870                              peter-ochs-gesellschaft\n",
       "25428               schweiz, bundesamt für landestopografie\n",
       "25264               schweiz, bundesamt für landestopografie\n",
       "133739                deutschland, verteidigungsministerium\n",
       "133706    carnegie endowment for international peace., d...\n",
       "17859               schweiz, bundesamt für landestopografie\n",
       "94674                                             hécatombe\n",
       "110572                              hallwag kümmerly + frey\n",
       "106173                              hallwag kümmerly + frey\n",
       "61902                               hallwag kümmerly + frey\n",
       "94680                                             hécatombe\n",
       "110597                              hallwag kümmerly + frey\n",
       "115817                deutschland, verteidigungsministerium\n",
       "110576                                            hema maps\n",
       "110593                                            hema maps\n",
       "Name: corporate_810, dtype: object"
      ]
     },
     "execution_count": 36,
     "metadata": {},
     "output_type": "execute_result"
    }
   ],
   "source": [
    "df.corporate_810[df.corporate_810.apply(lambda x : len(x))!=0].sample(n=20)"
   ]
  },
  {
   "cell_type": "code",
   "execution_count": 37,
   "metadata": {},
   "outputs": [
    {
     "data": {
      "text/plain": [
       "45080              {'810': ['Wirtschaftsuniversität Wien']}\n",
       "47145     {'110': ['Biochemical Society (Great Britain)'...\n",
       "52134     {'710': ['Kunsthandlung Helmut H. Rumbler'], '...\n",
       "94673     {'710': ['Ensemble Batida', 'Hécatombe'], '810...\n",
       "94674     {'710': ['Ensemble Batida', 'Hécatombe'], '810...\n",
       "94678     {'710': ['Ensemble Batida', 'Hécatombe'], '810...\n",
       "94679     {'710': ['Ensemble Batida', 'Hécatombe'], '810...\n",
       "94680     {'710': ['Ensemble Batida', 'Hécatombe'], '810...\n",
       "113869                 {'810': ['Peter-Ochs-Gesellschaft']}\n",
       "113870                 {'810': ['Peter-Ochs-Gesellschaft']}\n",
       "133706    {'110': ['Carnegie Endowment for International...\n",
       "133739    {'810': ['Deutschland', 'Verteidigungsminister...\n",
       "143892    {'110': ['Judge Advocate General's School (Uni...\n",
       "Name: corporate, dtype: object"
      ]
     },
     "execution_count": 37,
     "metadata": {},
     "output_type": "execute_result"
    }
   ],
   "source": [
    "df.corporate[(df.corporate_110 != df.corporate_810) &\n",
    "             (df.corporate_810.apply(lambda x : len(x))!=0)]"
   ]
  },
  {
   "cell_type": "markdown",
   "metadata": {},
   "source": [
    "Only a few records hold data in attribute $\\texttt{corporate}$ with key value 810. Furthermore, attribute $\\texttt{corporate}$ and key 810 seems to store redundant data with $\\texttt{corporate}$ and key value 110. Therefore, attribute $\\texttt{corporate}$ with key 810 will be ommitted."
   ]
  },
  {
   "cell_type": "code",
   "execution_count": 38,
   "metadata": {},
   "outputs": [],
   "source": [
    "columns_metadata_dict['data_analysis_columns'].append('corporate_110')\n",
    "columns_metadata_dict['data_analysis_columns'].append('corporate_710')"
   ]
  },
  {
   "cell_type": "markdown",
   "metadata": {},
   "source": [
    "### decade"
   ]
  },
  {
   "cell_type": "code",
   "execution_count": 39,
   "metadata": {},
   "outputs": [],
   "source": [
    "columns_metadata_dict['strings_columns'].append('decade')"
   ]
  },
  {
   "cell_type": "code",
   "execution_count": 40,
   "metadata": {},
   "outputs": [
    {
     "name": "stdout",
     "output_type": "stream",
     "text": [
      "Number of records with filled decade 183407, with missing decade 0 => 100.0%\n"
     ]
    }
   ],
   "source": [
    "idx_decade_filled, idx_decade_empty = daf.find_empty_in_column(df, columns_metadata_dict, 'decade')"
   ]
  },
  {
   "cell_type": "code",
   "execution_count": 41,
   "metadata": {},
   "outputs": [
    {
     "data": {
      "text/html": [
       "<div>\n",
       "<style scoped>\n",
       "    .dataframe tbody tr th:only-of-type {\n",
       "        vertical-align: middle;\n",
       "    }\n",
       "\n",
       "    .dataframe tbody tr th {\n",
       "        vertical-align: top;\n",
       "    }\n",
       "\n",
       "    .dataframe thead th {\n",
       "        text-align: right;\n",
       "    }\n",
       "</style>\n",
       "<table border=\"1\" class=\"dataframe\">\n",
       "  <thead>\n",
       "    <tr style=\"text-align: right;\">\n",
       "      <th></th>\n",
       "      <th>docid</th>\n",
       "      <th>035liste</th>\n",
       "      <th>isbn</th>\n",
       "      <th>ttlfull</th>\n",
       "      <th>ttlpart</th>\n",
       "      <th>person</th>\n",
       "      <th>corporate</th>\n",
       "      <th>pubyear</th>\n",
       "      <th>decade</th>\n",
       "      <th>century</th>\n",
       "      <th>exactDate</th>\n",
       "      <th>...</th>\n",
       "      <th>pubinit</th>\n",
       "      <th>pubword</th>\n",
       "      <th>scale</th>\n",
       "      <th>coordinate</th>\n",
       "      <th>doi</th>\n",
       "      <th>ismn</th>\n",
       "      <th>musicid</th>\n",
       "      <th>format</th>\n",
       "      <th>corporate_110</th>\n",
       "      <th>corporate_710</th>\n",
       "      <th>corporate_810</th>\n",
       "    </tr>\n",
       "  </thead>\n",
       "  <tbody>\n",
       "  </tbody>\n",
       "</table>\n",
       "<p>0 rows × 26 columns</p>\n",
       "</div>"
      ],
      "text/plain": [
       "Empty DataFrame\n",
       "Columns: [docid, 035liste, isbn, ttlfull, ttlpart, person, corporate, pubyear, decade, century, exactDate, edition, part, pages, volumes, pubinit, pubword, scale, coordinate, doi, ismn, musicid, format, corporate_110, corporate_710, corporate_810]\n",
       "Index: []\n",
       "\n",
       "[0 rows x 26 columns]"
      ]
     },
     "execution_count": 41,
     "metadata": {},
     "output_type": "execute_result"
    }
   ],
   "source": [
    "df[df.decade != df.century]"
   ]
  },
  {
   "cell_type": "markdown",
   "metadata": {},
   "source": [
    "The attribute holds identical data to field [century](#century). Its MARC definition is the same, too."
   ]
  },
  {
   "cell_type": "markdown",
   "metadata": {},
   "source": [
    "### docid"
   ]
  },
  {
   "cell_type": "code",
   "execution_count": 42,
   "metadata": {},
   "outputs": [],
   "source": [
    "columns_metadata_dict['strings_columns'].append('docid')"
   ]
  },
  {
   "cell_type": "code",
   "execution_count": 43,
   "metadata": {},
   "outputs": [
    {
     "name": "stdout",
     "output_type": "stream",
     "text": [
      "Number of records with filled docid 183407, with missing docid 0 => 100.0%\n"
     ]
    }
   ],
   "source": [
    "idx_docid_filled, idx_docid_empty = daf.find_empty_in_column(df, columns_metadata_dict, 'docid')"
   ]
  },
  {
   "cell_type": "code",
   "execution_count": 44,
   "metadata": {},
   "outputs": [
    {
     "data": {
      "text/plain": [
       "'554061449'"
      ]
     },
     "execution_count": 44,
     "metadata": {},
     "output_type": "execute_result"
    }
   ],
   "source": [
    "df.docid[0]"
   ]
  },
  {
   "cell_type": "markdown",
   "metadata": {},
   "source": [
    "### doi"
   ]
  },
  {
   "cell_type": "code",
   "execution_count": 45,
   "metadata": {},
   "outputs": [],
   "source": [
    "columns_metadata_dict['list_columns'].append('doi')"
   ]
  },
  {
   "cell_type": "code",
   "execution_count": 46,
   "metadata": {},
   "outputs": [
    {
     "name": "stdout",
     "output_type": "stream",
     "text": [
      "Number of records with filled doi 10114, with missing doi 173293 => 5.5%\n"
     ]
    }
   ],
   "source": [
    "idx_doi_filled, idx_doi_empty = daf.find_empty_in_column(df, columns_metadata_dict, 'doi')"
   ]
  },
  {
   "cell_type": "code",
   "execution_count": 47,
   "metadata": {},
   "outputs": [
    {
     "data": {
      "text/plain": [
       "1854                                     [00028947575214]\n",
       "1899    [10.5451/unibas-007052902, urn:nbn:ch:bel-bau-...\n",
       "1937    [10.5451/unibas-007052953, urn:nbn:ch:bel-bau-...\n",
       "2046                                     [04600317120499]\n",
       "2063                                     [00602567484134]\n",
       "2207                                     [00039841539226]\n",
       "2245                                     [00096802280399]\n",
       "2286                                     [00761195120422]\n",
       "2494                                     [04250095800740]\n",
       "2779                                     [00888837038720]\n",
       "2996                     [urn:nbn:de:101:1-2016111912809]\n",
       "3087                                     [00605633131628]\n",
       "3385                     [urn:nbn:de:101:1-2017040728657]\n",
       "4094                                     [00602547324375]\n",
       "4504                                     [00656605612812]\n",
       "4710                             [10.14361/9783839445334]\n",
       "6579                                     [00887254706021]\n",
       "7624                                     [00075597959413]\n",
       "8125                                     [03770001901282]\n",
       "9663                      [urn:nbn:de:101:1-201706101980]\n",
       "Name: doi, dtype: object"
      ]
     },
     "execution_count": 47,
     "metadata": {},
     "output_type": "execute_result"
    }
   ],
   "source": [
    "df.doi[df.doi.apply(lambda x : len(x))>0].head(20)"
   ]
  },
  {
   "cell_type": "code",
   "execution_count": 48,
   "metadata": {},
   "outputs": [
    {
     "data": {
      "text/plain": [
       "docid                                                    554099918\n",
       "035liste         [(OCoLC)71126385, (IDSBB)007052820, (OCoLC)711...\n",
       "isbn                                                            []\n",
       "ttlfull          {'245': ['Symphony no. 8'], '246': ['Symphony ...\n",
       "ttlpart                                {'245': ['Symphony no. 8']}\n",
       "person           {'100': ['MahlerGustav1860-1911(DE-588)1185762...\n",
       "corporate        {'710': ['Konzertvereinigung Wiener Staatsoper...\n",
       "pubyear                                                   20062006\n",
       "decade                                                        2006\n",
       "century                                                       2006\n",
       "exactDate                                                 20062006\n",
       "edition                                                           \n",
       "part                                                            []\n",
       "pages                                               [1 Cd (79:48)]\n",
       "volumes                                             [1 Cd (79:48)]\n",
       "pubinit                                                         []\n",
       "pubword                                                         []\n",
       "scale                                                             \n",
       "coordinate                                                      []\n",
       "doi                                               [00028947575214]\n",
       "ismn                                              [00028947575214]\n",
       "musicid                                                   475 7521\n",
       "format                                                  [MU040100]\n",
       "corporate_110                                                     \n",
       "corporate_710    konzertvereinigung wiener staatsopernchor, ges...\n",
       "corporate_810                                                     \n",
       "Name: 1854, dtype: object"
      ]
     },
     "execution_count": 48,
     "metadata": {},
     "output_type": "execute_result"
    }
   ],
   "source": [
    "df.loc[1854]"
   ]
  },
  {
   "cell_type": "code",
   "execution_count": 49,
   "metadata": {},
   "outputs": [],
   "source": [
    "#columns_metadata_dict['data_analysis_columns'].append('doi')"
   ]
  },
  {
   "cell_type": "markdown",
   "metadata": {},
   "source": [
    "### edition"
   ]
  },
  {
   "cell_type": "code",
   "execution_count": 50,
   "metadata": {},
   "outputs": [],
   "source": [
    "columns_metadata_dict['strings_columns'].append('edition')"
   ]
  },
  {
   "cell_type": "code",
   "execution_count": 51,
   "metadata": {},
   "outputs": [
    {
     "name": "stdout",
     "output_type": "stream",
     "text": [
      "Number of records with filled edition 25352, with missing edition 158055 => 13.8%\n"
     ]
    }
   ],
   "source": [
    "_, _ = daf.find_empty_in_column(df, columns_metadata_dict, 'edition')"
   ]
  },
  {
   "cell_type": "markdown",
   "metadata": {},
   "source": [
    "Attribute $\\texttt{edition}$ holds the edition statement [[FeatWiki](./A_References.ipynb/#feature_deduplication_wiki)]. The data type of the attribute is a string value."
   ]
  },
  {
   "cell_type": "code",
   "execution_count": 52,
   "metadata": {},
   "outputs": [
    {
     "data": {
      "text/plain": [
       "1359      2. vermehrte und verb. Aufl\n",
       "104469                     1. Auflage\n",
       "29366                  [Ausgabe] 2018\n",
       "111892                     3. Auflage\n",
       "121516                         1st ed\n",
       "21150        First issued in hardback\n",
       "50978                         12e éd.\n",
       "31841                      2. Auflage\n",
       "44916                 Second edition.\n",
       "85597                      6. Auflage\n",
       "Name: edition, dtype: object"
      ]
     },
     "execution_count": 52,
     "metadata": {},
     "output_type": "execute_result"
    }
   ],
   "source": [
    "df.edition[df.edition.apply(lambda x : len(x)>0)].sample(n=10)"
   ]
  },
  {
   "cell_type": "markdown",
   "metadata": {},
   "source": [
    "The attribute is taken over to the feature matrix without an extra processing in [Goldstandard and Data Preparation](./2_GoldstandardDataPreparation.ipynb)."
   ]
  },
  {
   "cell_type": "code",
   "execution_count": 53,
   "metadata": {},
   "outputs": [],
   "source": [
    "columns_metadata_dict['data_analysis_columns'].append('edition')"
   ]
  },
  {
   "cell_type": "markdown",
   "metadata": {},
   "source": [
    "### exactDate"
   ]
  },
  {
   "cell_type": "code",
   "execution_count": 54,
   "metadata": {},
   "outputs": [],
   "source": [
    "columns_metadata_dict['strings_columns'].append('exactDate')"
   ]
  },
  {
   "cell_type": "code",
   "execution_count": 55,
   "metadata": {},
   "outputs": [
    {
     "name": "stdout",
     "output_type": "stream",
     "text": [
      "Number of records with filled exactDate 183407, with missing exactDate 0 => 100.0%\n"
     ]
    }
   ],
   "source": [
    "_, _ = daf.find_empty_in_column(df, columns_metadata_dict, 'exactDate')"
   ]
  },
  {
   "cell_type": "code",
   "execution_count": 56,
   "metadata": {},
   "outputs": [
    {
     "data": {
      "text/html": [
       "<div>\n",
       "<style scoped>\n",
       "    .dataframe tbody tr th:only-of-type {\n",
       "        vertical-align: middle;\n",
       "    }\n",
       "\n",
       "    .dataframe tbody tr th {\n",
       "        vertical-align: top;\n",
       "    }\n",
       "\n",
       "    .dataframe thead th {\n",
       "        text-align: right;\n",
       "    }\n",
       "</style>\n",
       "<table border=\"1\" class=\"dataframe\">\n",
       "  <thead>\n",
       "    <tr style=\"text-align: right;\">\n",
       "      <th></th>\n",
       "      <th>docid</th>\n",
       "      <th>035liste</th>\n",
       "      <th>isbn</th>\n",
       "      <th>ttlfull</th>\n",
       "      <th>ttlpart</th>\n",
       "      <th>person</th>\n",
       "      <th>corporate</th>\n",
       "      <th>pubyear</th>\n",
       "      <th>decade</th>\n",
       "      <th>century</th>\n",
       "      <th>exactDate</th>\n",
       "      <th>...</th>\n",
       "      <th>pubinit</th>\n",
       "      <th>pubword</th>\n",
       "      <th>scale</th>\n",
       "      <th>coordinate</th>\n",
       "      <th>doi</th>\n",
       "      <th>ismn</th>\n",
       "      <th>musicid</th>\n",
       "      <th>format</th>\n",
       "      <th>corporate_110</th>\n",
       "      <th>corporate_710</th>\n",
       "      <th>corporate_810</th>\n",
       "    </tr>\n",
       "  </thead>\n",
       "  <tbody>\n",
       "  </tbody>\n",
       "</table>\n",
       "<p>0 rows × 26 columns</p>\n",
       "</div>"
      ],
      "text/plain": [
       "Empty DataFrame\n",
       "Columns: [docid, 035liste, isbn, ttlfull, ttlpart, person, corporate, pubyear, decade, century, exactDate, edition, part, pages, volumes, pubinit, pubword, scale, coordinate, doi, ismn, musicid, format, corporate_110, corporate_710, corporate_810]\n",
       "Index: []\n",
       "\n",
       "[0 rows x 26 columns]"
      ]
     },
     "execution_count": 56,
     "metadata": {},
     "output_type": "execute_result"
    }
   ],
   "source": [
    "df[df.exactDate.str[0:4] != df.century]"
   ]
  },
  {
   "cell_type": "markdown",
   "metadata": {},
   "source": [
    "Conforming the MARC description, the first 4 digits of $\\texttt{exactDate}$ hold identical data to field [century](#century)."
   ]
  },
  {
   "cell_type": "code",
   "execution_count": 57,
   "metadata": {
    "scrolled": true
   },
   "outputs": [
    {
     "name": "stdout",
     "output_type": "stream",
     "text": [
      "Degree of non-blank filling of last 4 digits 19.4%\n",
      "Degree of numerical filling of last 4 digits 13.3%\n"
     ]
    }
   ],
   "source": [
    "print('Degree of non-blank filling of last 4 digits {:.1f}%'.format(\n",
    "    df.exactDate[df.exactDate.str[4:] != '    '].count()/len(df)*100))\n",
    "print('Degree of numerical filling of last 4 digits {:.1f}%'.format(\n",
    "    df.exactDate[~df.exactDate.str[4:].isin(['    ', 'uuuu'])].count()/len(df)*100))"
   ]
  },
  {
   "cell_type": "code",
   "execution_count": 58,
   "metadata": {},
   "outputs": [
    {
     "data": {
      "text/plain": [
       "12     uuuuuuuu\n",
       "61     uuuuuuuu\n",
       "62     uuuuuuuu\n",
       "117    19241925\n",
       "257    uuuuuuuu\n",
       "Name: exactDate, dtype: object"
      ]
     },
     "execution_count": 58,
     "metadata": {},
     "output_type": "execute_result"
    }
   ],
   "source": [
    "df.exactDate[df.exactDate.str[4:] != '    '].head()"
   ]
  },
  {
   "cell_type": "code",
   "execution_count": 59,
   "metadata": {},
   "outputs": [
    {
     "data": {
      "text/plain": [
       "docid                                                    556987284\n",
       "035liste                        [(ZORA)oai:www.zora.uzh.ch:169340]\n",
       "isbn                                                            []\n",
       "ttlfull          {'245': ['Altered limbic and autonomic process...\n",
       "ttlpart          {'245': ['Altered limbic and autonomic process...\n",
       "person           {'100': [], '700': ['TemplinChristianjoint aut...\n",
       "corporate                                                       {}\n",
       "pubyear                                                   20190414\n",
       "decade                                                        2019\n",
       "century                                                       2019\n",
       "exactDate                                                 20190414\n",
       "edition                                                           \n",
       "part                                            [40(15):1183-1187]\n",
       "pages                                                           []\n",
       "volumes                                                         []\n",
       "pubinit                                                         []\n",
       "pubword                                                         []\n",
       "scale                                                             \n",
       "coordinate                                                      []\n",
       "doi                                     [10.1093/eurheartj/ehz068]\n",
       "ismn                                    [10.1093/eurheartj/ehz068]\n",
       "musicid                                                           \n",
       "format                                                  [BK010053]\n",
       "corporate_110                                                     \n",
       "corporate_710                                                     \n",
       "corporate_810                                                     \n",
       "Name: 183319, dtype: object"
      ]
     },
     "execution_count": 59,
     "metadata": {},
     "output_type": "execute_result"
    }
   ],
   "source": [
    "df.loc[183319]"
   ]
  },
  {
   "cell_type": "markdown",
   "metadata": {},
   "source": [
    "### format"
   ]
  },
  {
   "cell_type": "code",
   "execution_count": 60,
   "metadata": {},
   "outputs": [],
   "source": [
    "columns_metadata_dict['list_columns'].append('format')"
   ]
  },
  {
   "cell_type": "markdown",
   "metadata": {},
   "source": [
    "Attribute $\\texttt{format}$ describes the format of a bibliographic unit, see examples under section [Sample Records Analysis](#Sample-Records-Analysis)."
   ]
  },
  {
   "cell_type": "code",
   "execution_count": 61,
   "metadata": {},
   "outputs": [
    {
     "name": "stdout",
     "output_type": "stream",
     "text": [
      "Number of records with filled format 179688, with missing format 3719 => 98.0%\n"
     ]
    }
   ],
   "source": [
    "_, _ = daf.find_empty_in_column(df, columns_metadata_dict, 'format')"
   ]
  },
  {
   "cell_type": "code",
   "execution_count": 62,
   "metadata": {},
   "outputs": [
    {
     "data": {
      "text/plain": [
       "175453    bk020000\n",
       "13308     bk020000\n",
       "147295    mu040100\n",
       "105662    bk010000\n",
       "102281    bk020300\n",
       "176825    cr030600\n",
       "102988    bk010053\n",
       "50677     bk020000\n",
       "139517    vm010300\n",
       "67674     bk020000\n",
       "Name: format, dtype: object"
      ]
     },
     "execution_count": 62,
     "metadata": {},
     "output_type": "execute_result"
    }
   ],
   "source": [
    "df = dpf.transform_list_to_string(df, 'format')\n",
    "\n",
    "df['format'][df.format.apply(lambda x : len(x))==8].sample(n=10)"
   ]
  },
  {
   "cell_type": "code",
   "execution_count": 63,
   "metadata": {},
   "outputs": [
    {
     "name": "stdout",
     "output_type": "stream",
     "text": [
      "96.4% of the records hold one single format.\n",
      "1.6% of the records hold more than one format.\n"
     ]
    }
   ],
   "source": [
    "print('{:.1f}% of the records hold one single format.'.format(\n",
    "    df['format'][df.format.apply(lambda x : len(x))==8].count()/len(df)*100))\n",
    "print('{:.1f}% of the records hold more than one format.'.format(\n",
    "    df['format'][df.format.apply(lambda x : len(x))>8].count()/len(df)*100))"
   ]
  },
  {
   "cell_type": "code",
   "execution_count": 64,
   "metadata": {},
   "outputs": [
    {
     "data": {
      "text/plain": [
       "150769    \n",
       "150640    \n",
       "154170    \n",
       "149221    \n",
       "155629    \n",
       "158091    \n",
       "171153    \n",
       "167794    \n",
       "169172    \n",
       "153190    \n",
       "Name: format, dtype: object"
      ]
     },
     "execution_count": 64,
     "metadata": {},
     "output_type": "execute_result"
    }
   ],
   "source": [
    "df['format'][df.format.apply(lambda x : len(x))<8].sample(n=10)"
   ]
  },
  {
   "cell_type": "code",
   "execution_count": 65,
   "metadata": {},
   "outputs": [
    {
     "data": {
      "text/plain": [
       "1981    mu010100, mu010000\n",
       "2000    mu010000, mu010100\n",
       "2001    mu010100, mu010000\n",
       "2003    mu010100, mu010000\n",
       "2004    mu010200, mu010000\n",
       "Name: format, dtype: object"
      ]
     },
     "execution_count": 65,
     "metadata": {},
     "output_type": "execute_result"
    }
   ],
   "source": [
    "df['format'][df.format.apply(lambda x : len(x))>8].head()"
   ]
  },
  {
   "cell_type": "code",
   "execution_count": 66,
   "metadata": {},
   "outputs": [
    {
     "data": {
      "text/plain": [
       "17607     bk020300, bk020000, bk020500\n",
       "83055     bk020300, bk020800, bk020000\n",
       "181090    cr030700, cr030600, cr030300\n",
       "181376    bk020800, bk020400, bk020000\n",
       "Name: format, dtype: object"
      ]
     },
     "execution_count": 66,
     "metadata": {},
     "output_type": "execute_result"
    }
   ],
   "source": [
    "df['format'][df.format.apply(lambda x : len(x))>18].head()"
   ]
  },
  {
   "cell_type": "markdown",
   "metadata": {},
   "source": [
    "The attribute seems to be very relevant for a basic identification of the bibliographical unit. Mainly the first two digits seem to be a reliable rough classification indicator. The remaining digits may have an inferior importance and and an inferior reliability due to freedom of interpretation. For this reason, the attribute is divided into 2 new attributes.\n",
    "\n",
    "- New attribute $\\texttt{format_prefix}$ will hold the first two digits of the first $\\texttt{format}$ element.\n",
    "- New attribute $\\texttt{format_number}$ will hold the 6 subsequent digits of the first $\\texttt{format}$ element.\n",
    "\n",
    "The $\\texttt{format}$ attribute will be dropped after this preprocessing step."
   ]
  },
  {
   "cell_type": "code",
   "execution_count": 67,
   "metadata": {},
   "outputs": [
    {
     "data": {
      "text/html": [
       "<div>\n",
       "<style scoped>\n",
       "    .dataframe tbody tr th:only-of-type {\n",
       "        vertical-align: middle;\n",
       "    }\n",
       "\n",
       "    .dataframe tbody tr th {\n",
       "        vertical-align: top;\n",
       "    }\n",
       "\n",
       "    .dataframe thead th {\n",
       "        text-align: right;\n",
       "    }\n",
       "</style>\n",
       "<table border=\"1\" class=\"dataframe\">\n",
       "  <thead>\n",
       "    <tr style=\"text-align: right;\">\n",
       "      <th></th>\n",
       "      <th>format</th>\n",
       "      <th>format_prefix</th>\n",
       "      <th>format_postfix</th>\n",
       "    </tr>\n",
       "  </thead>\n",
       "  <tbody>\n",
       "    <tr>\n",
       "      <th>119024</th>\n",
       "      <td>bk020053</td>\n",
       "      <td>bk</td>\n",
       "      <td>020053</td>\n",
       "    </tr>\n",
       "    <tr>\n",
       "      <th>140221</th>\n",
       "      <td>bk020000</td>\n",
       "      <td>bk</td>\n",
       "      <td>020000</td>\n",
       "    </tr>\n",
       "    <tr>\n",
       "      <th>25274</th>\n",
       "      <td>bk020000</td>\n",
       "      <td>bk</td>\n",
       "      <td>020000</td>\n",
       "    </tr>\n",
       "    <tr>\n",
       "      <th>59756</th>\n",
       "      <td>mu010100</td>\n",
       "      <td>mu</td>\n",
       "      <td>010100</td>\n",
       "    </tr>\n",
       "    <tr>\n",
       "      <th>10939</th>\n",
       "      <td>bk020000</td>\n",
       "      <td>bk</td>\n",
       "      <td>020000</td>\n",
       "    </tr>\n",
       "    <tr>\n",
       "      <th>166920</th>\n",
       "      <td>bk020000</td>\n",
       "      <td>bk</td>\n",
       "      <td>020000</td>\n",
       "    </tr>\n",
       "    <tr>\n",
       "      <th>144938</th>\n",
       "      <td>bk020300</td>\n",
       "      <td>bk</td>\n",
       "      <td>020300</td>\n",
       "    </tr>\n",
       "    <tr>\n",
       "      <th>6030</th>\n",
       "      <td>mu040100</td>\n",
       "      <td>mu</td>\n",
       "      <td>040100</td>\n",
       "    </tr>\n",
       "    <tr>\n",
       "      <th>174987</th>\n",
       "      <td>bk020000</td>\n",
       "      <td>bk</td>\n",
       "      <td>020000</td>\n",
       "    </tr>\n",
       "    <tr>\n",
       "      <th>178726</th>\n",
       "      <td>bk020000</td>\n",
       "      <td>bk</td>\n",
       "      <td>020000</td>\n",
       "    </tr>\n",
       "    <tr>\n",
       "      <th>83405</th>\n",
       "      <td>bk020000</td>\n",
       "      <td>bk</td>\n",
       "      <td>020000</td>\n",
       "    </tr>\n",
       "    <tr>\n",
       "      <th>65432</th>\n",
       "      <td>bk020000</td>\n",
       "      <td>bk</td>\n",
       "      <td>020000</td>\n",
       "    </tr>\n",
       "    <tr>\n",
       "      <th>15979</th>\n",
       "      <td>bk020000</td>\n",
       "      <td>bk</td>\n",
       "      <td>020000</td>\n",
       "    </tr>\n",
       "    <tr>\n",
       "      <th>164483</th>\n",
       "      <td>cr030600</td>\n",
       "      <td>cr</td>\n",
       "      <td>030600</td>\n",
       "    </tr>\n",
       "    <tr>\n",
       "      <th>9780</th>\n",
       "      <td>mu040100</td>\n",
       "      <td>mu</td>\n",
       "      <td>040100</td>\n",
       "    </tr>\n",
       "  </tbody>\n",
       "</table>\n",
       "</div>"
      ],
      "text/plain": [
       "          format format_prefix format_postfix\n",
       "119024  bk020053            bk         020053\n",
       "140221  bk020000            bk         020000\n",
       "25274   bk020000            bk         020000\n",
       "59756   mu010100            mu         010100\n",
       "10939   bk020000            bk         020000\n",
       "166920  bk020000            bk         020000\n",
       "144938  bk020300            bk         020300\n",
       "6030    mu040100            mu         040100\n",
       "174987  bk020000            bk         020000\n",
       "178726  bk020000            bk         020000\n",
       "83405   bk020000            bk         020000\n",
       "65432   bk020000            bk         020000\n",
       "15979   bk020000            bk         020000\n",
       "164483  cr030600            cr         030600\n",
       "9780    mu040100            mu         040100"
      ]
     },
     "execution_count": 67,
     "metadata": {},
     "output_type": "execute_result"
    }
   ],
   "source": [
    "df['format_prefix'] = df.format.str[:2]\n",
    "df.format_prefix[df['format_prefix']==''] = '  '\n",
    "df['format_postfix'] = df.format.str[2:8]\n",
    "df.format_postfix[df['format_postfix']==''] = '      '\n",
    "df[['format', 'format_prefix', 'format_postfix']].sample(n=15)"
   ]
  },
  {
   "cell_type": "markdown",
   "metadata": {},
   "source": [
    "This preprocessing step has been implemented in a separate function $\\texttt{.split}\\_\\texttt{format()}$ which can be found in code file [data_preparation_funcs.py](./data_preparation_funcs.py)"
   ]
  },
  {
   "cell_type": "code",
   "execution_count": 68,
   "metadata": {},
   "outputs": [],
   "source": [
    "columns_metadata_dict['data_analysis_columns'].append('format_prefix')\n",
    "columns_metadata_dict['data_analysis_columns'].append('format_postfix')"
   ]
  },
  {
   "cell_type": "markdown",
   "metadata": {},
   "source": [
    "### pages"
   ]
  },
  {
   "cell_type": "code",
   "execution_count": 69,
   "metadata": {},
   "outputs": [],
   "source": [
    "columns_metadata_dict['list_columns'].append('pages')"
   ]
  },
  {
   "cell_type": "code",
   "execution_count": 70,
   "metadata": {},
   "outputs": [
    {
     "name": "stdout",
     "output_type": "stream",
     "text": [
      "Number of records with filled pages 161471, with missing pages 21936 => 88.0%\n"
     ]
    }
   ],
   "source": [
    "idx_pages_filled, idx_pages_empty = daf.find_empty_in_column(df, columns_metadata_dict, 'pages')"
   ]
  },
  {
   "cell_type": "code",
   "execution_count": 71,
   "metadata": {},
   "outputs": [],
   "source": [
    "# Identical to volumes\n",
    "#columns_metadata_dict['data_analysis_columns'].append('pages')"
   ]
  },
  {
   "cell_type": "markdown",
   "metadata": {},
   "source": [
    "### person"
   ]
  },
  {
   "cell_type": "code",
   "execution_count": 72,
   "metadata": {},
   "outputs": [],
   "source": [
    "columns_metadata_dict['strings_columns'].append('person')"
   ]
  },
  {
   "cell_type": "markdown",
   "metadata": {},
   "source": [
    "Attribute $\\texttt{person}$ is a collection of personal names statements of the bibliographical unit, see [[FeatWiki](./A_References.ipynb/#feature_deduplication_wiki)]. The attribute out of the raw data is a dictionary column in the DataFrame with four possible key value pairs. Attribute $\\texttt{person}$ is split for processing reasons into a singular attribute for each key of the dictionary. The values come along as lists and the implemented function $\\texttt{.transform}\\_\\texttt{list}\\_\\texttt{to}\\_\\texttt{string()}$ will be used to process its elements into one single string of the new column."
   ]
  },
  {
   "cell_type": "code",
   "execution_count": 73,
   "metadata": {},
   "outputs": [
    {
     "data": {
      "text/plain": [
       "104084    {'100': ['PauliGerhard1648-1715(DE-588)1329274...\n",
       "98242     {'100': ['VandersteenWilly1913-1990(DE-588)128...\n",
       "27494     {'100': ['SchmidtH.Verfasseraut'], '245c': ['H...\n",
       "77286     {'100': ['FeuchtmayerJoseph Anton1696-1770(DE-...\n",
       "100725    {'100': ['YosifonDavid G.1973-(DE-588)11631254...\n",
       "70516        {'100': ['ZakimEric'], '245c': ['Eric Zakim']}\n",
       "73023     {'100': [], '700': ['LantolfJames P.'], '245c'...\n",
       "79212     {'100': ['MachoThomas'], '245c': ['Thomas Mach...\n",
       "174648    {'100': ['LévyDidier(RERO)A003540910cre'], '70...\n",
       "179183    {'100': ['AustruyAnna(RERO)A021930073aut'], '2...\n",
       "100241    {'100': [], '700': ['HaldonJohn F.(DE-588)1044...\n",
       "92340     {'100': ['TuorLeo1959-(DE-588)128982101Verfass...\n",
       "66262     {'100': ['JouvePierre Jean'], '245c': ['Pierre...\n",
       "108490                            {'100': [], '245c': ['']}\n",
       "112373    {'100': ['RaoM. K. SuryanarayanaVerfasseraut']...\n",
       "36643                             {'100': [], '245c': ['']}\n",
       "36476     {'100': ['DevosRaymond'], '245c': ['Raymond De...\n",
       "89024                             {'100': [], '245c': ['']}\n",
       "160268    {'100': [], '245c': ['Salt Lake Organizing Com...\n",
       "44203     {'100': ['MowoJeremias G.'], '245c': ['Jeremia...\n",
       "Name: person, dtype: object"
      ]
     },
     "execution_count": 73,
     "metadata": {},
     "output_type": "execute_result"
    }
   ],
   "source": [
    "df.person.sample(20)"
   ]
  },
  {
   "cell_type": "code",
   "execution_count": 74,
   "metadata": {},
   "outputs": [
    {
     "name": "stdout",
     "output_type": "stream",
     "text": [
      "Number of records with filled person_100 115396, with missing person_100 68011 => 62.9%\n",
      "Number of records with filled person_700 73254, with missing person_700 110153 => 39.9%\n",
      "Number of records with filled person_800 1137, with missing person_800 182270 => 0.6%\n",
      "Number of records with filled person_245c 158011, with missing person_245c 25396 => 86.2%\n"
     ]
    }
   ],
   "source": [
    "for ending in ['100', '700', '800', '245c']:\n",
    "    df = dpf.transform_dictionary_to_list(df, 'person', ending)\n",
    "    df = dpf.transform_list_to_string(df, 'person_'+ending)\n",
    "\n",
    "    columns_metadata_dict['strings_columns'].append('person_'+ending)\n",
    "    _, _ = daf.find_empty_in_column(df, columns_metadata_dict, 'person_'+ending)"
   ]
  },
  {
   "cell_type": "code",
   "execution_count": 75,
   "metadata": {},
   "outputs": [
    {
     "data": {
      "text/plain": [
       "63024                                                      \n",
       "176608       vuillardéric1968-(de-588)142262846verfasseraut\n",
       "34900                      martinmélanie(rero)a024814137cre\n",
       "97707                                        mayerhöffereva\n",
       "89560                                   waltstephen m.1955-\n",
       "87228       roseroevelio1958-(de-588)1025870123verfasseraut\n",
       "25896                                                      \n",
       "40957                                     russellaaron j.m.\n",
       "97787                                         cencilodovico\n",
       "152308                                            yuandaren\n",
       "156841                                            mercerbob\n",
       "78058                      rodolphe1948-(rero)a021636611aut\n",
       "116551                            gleasonrobertverfasseraut\n",
       "82487      lamunièresimon1961-(de-588)121752356verfasseraut\n",
       "87895                                                      \n",
       "51791                                       steinerphilippe\n",
       "157261                                    kasimatievangelia\n",
       "95910     kashikarchintaman ganesh1910-2003(de-588)11541...\n",
       "142477                                           montefiore\n",
       "31532        colemaneliot1938-(de-588)141512423verfasseraut\n",
       "Name: person_100, dtype: object"
      ]
     },
     "execution_count": 75,
     "metadata": {},
     "output_type": "execute_result"
    }
   ],
   "source": [
    "df.person_100.sample(20)"
   ]
  },
  {
   "cell_type": "code",
   "execution_count": 76,
   "metadata": {},
   "outputs": [
    {
     "data": {
      "text/plain": [
       "143434                                     marksedward1934-\n",
       "6331                             josefbernhardübersetzertrl\n",
       "134240                                                     \n",
       "173405                                                     \n",
       "167920                                                     \n",
       "145413     congdonlisa1968-(de-588)1084606542illustratorill\n",
       "57427                                 letao(rero)a005674005\n",
       "85799                                                      \n",
       "134955                                                     \n",
       "95227               ducurtiladèleaut, brasier de thuyléaaut\n",
       "4925      sterlingaaron, ahrensjonathan, polonskyjonny, ...\n",
       "80085     messiaenolivier1908-1992réveil des oiseaux(de-...\n",
       "94783                         cossettesylvie, aldersonmarie\n",
       "131227    lécossaissarah1981-herausgeberedt, quemenernel...\n",
       "24245                                                      \n",
       "120862                              eliasfriederike, eggert\n",
       "131116                                                     \n",
       "97710                                                      \n",
       "125248          bauernfeindingoübersetzermitwirkendertrlctb\n",
       "171979    bilimoriapuruṣottama(de-588)118181920herausgeb...\n",
       "Name: person_700, dtype: object"
      ]
     },
     "execution_count": 76,
     "metadata": {},
     "output_type": "execute_result"
    }
   ],
   "source": [
    "df.person_700.sample(20)"
   ]
  },
  {
   "cell_type": "code",
   "execution_count": 77,
   "metadata": {},
   "outputs": [
    {
     "data": {
      "text/plain": [
       "56820     \n",
       "12843     \n",
       "4485      \n",
       "119605    \n",
       "33717     \n",
       "96871     \n",
       "1993      \n",
       "93746     \n",
       "157118    \n",
       "168501    \n",
       "1277      \n",
       "99336     \n",
       "75434     \n",
       "7691      \n",
       "31272     \n",
       "112497    \n",
       "151870    \n",
       "18151     \n",
       "114211    \n",
       "16489     \n",
       "Name: person_800, dtype: object"
      ]
     },
     "execution_count": 77,
     "metadata": {},
     "output_type": "execute_result"
    }
   ],
   "source": [
    "df.person_800.sample(20)"
   ]
  },
  {
   "cell_type": "code",
   "execution_count": 78,
   "metadata": {},
   "outputs": [
    {
     "data": {
      "text/plain": [
       "41964     herausgegeben von robert pfitzmann, peter neuh...\n",
       "169337                      conseil de la ville de brisbane\n",
       "36463                                     giampiero maspero\n",
       "113549                           haydn ; sviatoslav richter\n",
       "60601                           redaktion: claudia dziallas\n",
       "115890                                        ogawa, ichijo\n",
       "121599                                        schoder, jörg\n",
       "86764                                               canal 9\n",
       "67770                                               vercors\n",
       "152350    org. by sasakawa sports foundation ; ed. kazun...\n",
       "153543                                        gigliola gori\n",
       "109356                                         anne gorrick\n",
       "33964                                                      \n",
       "44874                  herausgeberin, anita riecher-rössler\n",
       "112478       diego caballero ... [und drei weitere autoren]\n",
       "117161                                     reinhold niebuhr\n",
       "116442                                        zeiler, xenia\n",
       "125969    helen spencer-oatey (university of warwick) an...\n",
       "15887                                        jean castarède\n",
       "122981                              bernd r. müller (hrsg.)\n",
       "Name: person_245c, dtype: object"
      ]
     },
     "execution_count": 78,
     "metadata": {},
     "output_type": "execute_result"
    }
   ],
   "source": [
    "df.person_245c.sample(20)"
   ]
  },
  {
   "cell_type": "markdown",
   "metadata": {},
   "source": [
    "Column $\\texttt{person_245c}$ is identified as the most complete and usefull personal name attribute and will be used as a basis for the data of the feature matrix."
   ]
  },
  {
   "cell_type": "code",
   "execution_count": 79,
   "metadata": {},
   "outputs": [],
   "source": [
    "#columns_metadata_dict['data_analysis_columns'].append('person_100')\n",
    "#columns_metadata_dict['data_analysis_columns'].append('person_700')\n",
    "#columns_metadata_dict['data_analysis_columns'].append('person_800')\n",
    "columns_metadata_dict['data_analysis_columns'].append('person_245c')"
   ]
  },
  {
   "cell_type": "markdown",
   "metadata": {},
   "source": [
    "### pubyear"
   ]
  },
  {
   "cell_type": "code",
   "execution_count": 80,
   "metadata": {},
   "outputs": [],
   "source": [
    "columns_metadata_dict['strings_columns'].append('pubyear')"
   ]
  },
  {
   "cell_type": "code",
   "execution_count": 81,
   "metadata": {},
   "outputs": [
    {
     "name": "stdout",
     "output_type": "stream",
     "text": [
      "Number of records with filled pubyear 183407, with missing pubyear 0 => 100.0%\n"
     ]
    }
   ],
   "source": [
    "_, _ = daf.find_empty_in_column(df, columns_metadata_dict, 'pubyear')"
   ]
  },
  {
   "cell_type": "code",
   "execution_count": 82,
   "metadata": {},
   "outputs": [
    {
     "data": {
      "text/html": [
       "<div>\n",
       "<style scoped>\n",
       "    .dataframe tbody tr th:only-of-type {\n",
       "        vertical-align: middle;\n",
       "    }\n",
       "\n",
       "    .dataframe tbody tr th {\n",
       "        vertical-align: top;\n",
       "    }\n",
       "\n",
       "    .dataframe thead th {\n",
       "        text-align: right;\n",
       "    }\n",
       "</style>\n",
       "<table border=\"1\" class=\"dataframe\">\n",
       "  <thead>\n",
       "    <tr style=\"text-align: right;\">\n",
       "      <th></th>\n",
       "      <th>docid</th>\n",
       "      <th>035liste</th>\n",
       "      <th>isbn</th>\n",
       "      <th>ttlfull</th>\n",
       "      <th>ttlpart</th>\n",
       "      <th>person</th>\n",
       "      <th>corporate</th>\n",
       "      <th>pubyear</th>\n",
       "      <th>decade</th>\n",
       "      <th>century</th>\n",
       "      <th>exactDate</th>\n",
       "      <th>...</th>\n",
       "      <th>musicid</th>\n",
       "      <th>format</th>\n",
       "      <th>corporate_110</th>\n",
       "      <th>corporate_710</th>\n",
       "      <th>corporate_810</th>\n",
       "      <th>format_prefix</th>\n",
       "      <th>format_postfix</th>\n",
       "      <th>person_100</th>\n",
       "      <th>person_700</th>\n",
       "      <th>person_800</th>\n",
       "      <th>person_245c</th>\n",
       "    </tr>\n",
       "  </thead>\n",
       "  <tbody>\n",
       "  </tbody>\n",
       "</table>\n",
       "<p>0 rows × 32 columns</p>\n",
       "</div>"
      ],
      "text/plain": [
       "Empty DataFrame\n",
       "Columns: [docid, 035liste, isbn, ttlfull, ttlpart, person, corporate, pubyear, decade, century, exactDate, edition, part, pages, volumes, pubinit, pubword, scale, coordinate, doi, ismn, musicid, format, corporate_110, corporate_710, corporate_810, format_prefix, format_postfix, person_100, person_700, person_800, person_245c]\n",
       "Index: []\n",
       "\n",
       "[0 rows x 32 columns]"
      ]
     },
     "execution_count": 82,
     "metadata": {},
     "output_type": "execute_result"
    }
   ],
   "source": [
    "df[df.exactDate != df.pubyear]"
   ]
  },
  {
   "cell_type": "markdown",
   "metadata": {},
   "source": [
    "All 8 digits of $\\texttt{pubyear}$ hold identical data to field [exactDate](#exactDate). This observation corresponds to the expectation from the MARC description of the attribute."
   ]
  },
  {
   "cell_type": "markdown",
   "metadata": {},
   "source": [
    "### ttlfull"
   ]
  },
  {
   "cell_type": "code",
   "execution_count": 83,
   "metadata": {},
   "outputs": [],
   "source": [
    "columns_metadata_dict['strings_columns'].append('ttlfull')"
   ]
  },
  {
   "cell_type": "markdown",
   "metadata": {},
   "source": [
    "Attribute $\\texttt{ttlfull}$ holds the full title of the bibliographical unit, see [[FeatWiki](./A_References.ipynb/#feature_deduplication_wiki)]. Some examples are shown below."
   ]
  },
  {
   "cell_type": "code",
   "execution_count": 84,
   "metadata": {},
   "outputs": [
    {
     "data": {
      "text/plain": [
       "82535      {'245': ['Petite philosophie de la dépression']}\n",
       "181587    {'245': ['Praxisbuch Kinderschutz interdiszipl...\n",
       "134679            {'245': ['Indiana Corporate Procedures']}\n",
       "85709     {'245': ['Ultrafast Bandgap Photonics III', '1...\n",
       "179622    {'245': ['Why some things should not be for sa...\n",
       "132460    {'245': ['Alienated wisdom', 'enquiry into Jew...\n",
       "102857    {'245': ['Savage Kin', 'Indigenous Informants ...\n",
       "154360    {'245': ['Jeux de la XXe Olympiade Munich 1972...\n",
       "116101                            {'245': ['[Ordinarium]']}\n",
       "39045     {'245': ['Erste, zweite und dritte Berathung d...\n",
       "173382           {'245': ['The ethics of sports medicine']}\n",
       "74075                        {'245': ['Les fleurs du mal']}\n",
       "119201    {'245': ['Reinhold Niebuhr to William Scarlett...\n",
       "79424                    {'245': ['The rector's daughter']}\n",
       "78163     {'245': ['Checklisten Krankheiten im Alter', '...\n",
       "53918     {'245': ['A literature of questions', 'nonfict...\n",
       "41383     {'245': ['Mesozoic/Cenozoic vertebrate paleont...\n",
       "392              {'245': ['Compendium theologiae moralis']}\n",
       "170900                   {'245': ['The USSR Olympic team']}\n",
       "12520                                {'245': ['This time']}\n",
       "Name: ttlfull, dtype: object"
      ]
     },
     "execution_count": 84,
     "metadata": {},
     "output_type": "execute_result"
    }
   ],
   "source": [
    "df.ttlfull.sample(20)"
   ]
  },
  {
   "cell_type": "markdown",
   "metadata": {},
   "source": [
    "The attribute is a dictionary column in the DataFrame. There are two key value pairs possible in this attribute. For their processing, two new attributes will be added to the DataFrame, one for each key value pair. The values come along as lists. The implemented function $\\texttt{.transform}\\_\\texttt{list}\\_\\texttt{to}\\_\\texttt{string()}$ will be used to process the list elements into one single string of the column."
   ]
  },
  {
   "cell_type": "code",
   "execution_count": 85,
   "metadata": {},
   "outputs": [
    {
     "name": "stdout",
     "output_type": "stream",
     "text": [
      "Number of records with filled ttlfull_245 183407, with missing ttlfull_245 0 => 100.0%\n",
      "Number of records with filled ttlfull_246 15897, with missing ttlfull_246 167510 => 8.7%\n"
     ]
    }
   ],
   "source": [
    "for ending in ['245', '246']:\n",
    "    df = dpf.transform_dictionary_to_list(df, 'ttlfull', ending)\n",
    "    df = dpf.transform_list_to_string(df, 'ttlfull_'+ending)\n",
    "\n",
    "    columns_metadata_dict['strings_columns'].append('ttlfull_'+ending)\n",
    "    _, _ = daf.find_empty_in_column(df, columns_metadata_dict, 'ttlfull_'+ending)"
   ]
  },
  {
   "cell_type": "code",
   "execution_count": 86,
   "metadata": {},
   "outputs": [
    {
     "data": {
      "text/plain": [
       "122358    validity and usability testing of a health sys...\n",
       "87111     instrumentelle lackanalytik, das lehrbuch für ...\n",
       "148136    corpus linguistics for pragmatics, a guide for...\n",
       "49536     interprète grec - les mémoires de sherlock holmes\n",
       "41242     mathematik 1 für nichtmathematiker, grundbegri...\n",
       "125285    following, challenging, or shaping: can third ...\n",
       "155626    mach mit bei der schülerolympiade, unterrichts...\n",
       "28760     la maréchalerie, le ferrage est-il la meilleur...\n",
       "81225                         bevölkerungstrends in hamburg\n",
       "69272     essai sur les préjugés ; ou de l'influence de ...\n",
       "177712      la recherche au musée du quai branly, 2012-2013\n",
       "28844     plan directeur 1990-94, rapport des transports...\n",
       "113076                                               slayer\n",
       "135497    justice holmes to doctor wu, an intimate corre...\n",
       "114410    suite orientale, pour flûte, violoncelle et piano\n",
       "135782                     schiller-bibliographie 1959-1963\n",
       "143317    union of the british provinces. a brief accoun...\n",
       "158386    the primacy of ethics, also in sports ? : proc...\n",
       "123519    the business of maternity care, a guide for mi...\n",
       "9154                                                  noise\n",
       "Name: ttlfull_245, dtype: object"
      ]
     },
     "execution_count": 86,
     "metadata": {},
     "output_type": "execute_result"
    }
   ],
   "source": [
    "df.ttlfull_245.sample(20)"
   ]
  },
  {
   "cell_type": "code",
   "execution_count": 87,
   "metadata": {},
   "outputs": [
    {
     "data": {
      "text/plain": [
       "122738                                                     \n",
       "82375     gurmad, diiwaanka gabayada soomaaliyeed, colle...\n",
       "20608                                                      \n",
       "153448                                                     \n",
       "124817                                                     \n",
       "46393                                                      \n",
       "44848                                                      \n",
       "144293                                                     \n",
       "111953                                                     \n",
       "142751                                                     \n",
       "10231                                                      \n",
       "146268                                                     \n",
       "96301                                                      \n",
       "135372                                                     \n",
       "47079                                                      \n",
       "87766                                                      \n",
       "1871                                                       \n",
       "116868                                                     \n",
       "64477                                                      \n",
       "60404                                                      \n",
       "Name: ttlfull_246, dtype: object"
      ]
     },
     "execution_count": 87,
     "metadata": {},
     "output_type": "execute_result"
    }
   ],
   "source": [
    "df.ttlfull_246.sample(20)"
   ]
  },
  {
   "cell_type": "markdown",
   "metadata": {},
   "source": [
    "The two new columns will be used as a basis for the data of the feature matrix."
   ]
  },
  {
   "cell_type": "code",
   "execution_count": 88,
   "metadata": {},
   "outputs": [],
   "source": [
    "columns_metadata_dict['data_analysis_columns'].append('ttlfull_245')\n",
    "columns_metadata_dict['data_analysis_columns'].append('ttlfull_246')"
   ]
  },
  {
   "cell_type": "markdown",
   "metadata": {},
   "source": [
    "### volumes"
   ]
  },
  {
   "cell_type": "code",
   "execution_count": 89,
   "metadata": {},
   "outputs": [],
   "source": [
    "columns_metadata_dict['list_columns'].append('volumes')"
   ]
  },
  {
   "cell_type": "code",
   "execution_count": 90,
   "metadata": {},
   "outputs": [
    {
     "name": "stdout",
     "output_type": "stream",
     "text": [
      "Number of records with filled volumes 161471, with missing volumes 21936 => 88.0%\n"
     ]
    }
   ],
   "source": [
    "_, _ = daf.find_empty_in_column(df, columns_metadata_dict, 'volumes')"
   ]
  },
  {
   "cell_type": "markdown",
   "metadata": {},
   "source": [
    "This attribute holds information on the number of physical pages, volumes, total playing time etc. of the bibliographic unit [[FeatWiki](./A_References.ipynb/#feature_deduplication_wiki)] depending on its format. Some examples are shown below."
   ]
  },
  {
   "cell_type": "code",
   "execution_count": 91,
   "metadata": {},
   "outputs": [
    {
     "data": {
      "text/plain": [
       "22594                                [462 p.]\n",
       "72350                                [325 p.]\n",
       "5366                         [1 Compact Disc]\n",
       "129653                    [1 online resource]\n",
       "70288                                 [58 p.]\n",
       "148806                               [390 S.]\n",
       "38090      [1 online resource (x, 200 pages)]\n",
       "32480                      [Online-Ressource]\n",
       "22631                             [21 Seiten]\n",
       "145382                               [403 S.]\n",
       "102526                       [xi, 309 Seiten]\n",
       "11120                                 [52 S.]\n",
       "166390                                     []\n",
       "45047     [1 online resource (xxvii, 323 p.)]\n",
       "150027                  [1 vol. (non paginé)]\n",
       "Name: volumes, dtype: object"
      ]
     },
     "execution_count": 91,
     "metadata": {},
     "output_type": "execute_result"
    }
   ],
   "source": [
    "df['volumes'].sample(n=15)"
   ]
  },
  {
   "cell_type": "markdown",
   "metadata": {},
   "source": [
    "The attribute comes along as a list of one string element. A function for data preparation has been written to extract the element out of the list and store it as a single string of lowercase characters. This function will be used for preparing the data of the goldstandard in chapter [Goldstandard and Data Preparation](./2_GoldstandardDataPreparation.ipynb)."
   ]
  },
  {
   "cell_type": "code",
   "execution_count": 92,
   "metadata": {},
   "outputs": [],
   "source": [
    "df = dpf.transform_list_to_string(df, 'volumes')"
   ]
  },
  {
   "cell_type": "code",
   "execution_count": 93,
   "metadata": {},
   "outputs": [
    {
     "data": {
      "text/plain": [
       "1168      255 s., frontispiz, + 3 angebunden.\n",
       "86168                         xiv, 626 seiten\n",
       "179513                                       \n",
       "116002                                2 teile\n",
       "17910                                  352 s.\n",
       "7692                                  [28] s.\n",
       "100007                1 compact disc (57 min)\n",
       "112237                             16, 168 s.\n",
       "31445                                        \n",
       "154967                                 258 p.\n",
       "145123                      1 online resource\n",
       "108441                                       \n",
       "42222                       1 online resource\n",
       "100581                     1 online-ressource\n",
       "38083        1 online resource (xvii, 294 p.)\n",
       "Name: volumes, dtype: object"
      ]
     },
     "execution_count": 93,
     "metadata": {},
     "output_type": "execute_result"
    }
   ],
   "source": [
    "df['volumes'].sample(n=15)"
   ]
  },
  {
   "cell_type": "code",
   "execution_count": 94,
   "metadata": {},
   "outputs": [
    {
     "name": "stdout",
     "output_type": "stream",
     "text": [
      "Array of unique attribute values\n",
      " ['s. 102-114' '43 s.' '75 p.' ... '232 s., 2 bl. taf.'\n",
      " '26 seiten, 7 ungezählte blätter bildtafeln' 'xli, 282 seiten']\n",
      "\n",
      "Total number of unique values 36,466\n"
     ]
    }
   ],
   "source": [
    "print('Array of unique attribute values\\n', df.volumes.unique())\n",
    "print('\\nTotal number of unique values {:,d}'.format(len(df.volumes.unique())))"
   ]
  },
  {
   "cell_type": "code",
   "execution_count": 95,
   "metadata": {},
   "outputs": [],
   "source": [
    "columns_metadata_dict['data_analysis_columns'].append('volumes')"
   ]
  },
  {
   "cell_type": "markdown",
   "metadata": {},
   "source": [
    "## Metadata Handover"
   ]
  },
  {
   "cell_type": "markdown",
   "metadata": {},
   "source": [
    "To hand over the attributes dictionary of this chapter as metadata, the dictionary is saved into a pickle file that will be read in the next chapter [Goldstandard and Data Preparation](./2_GoldstandardDataPreparation.ipynb) as input file."
   ]
  },
  {
   "cell_type": "code",
   "execution_count": 96,
   "metadata": {},
   "outputs": [],
   "source": [
    "import pickle as pk\n",
    "\n",
    "# Binary intermediary metadata file\n",
    "with open(os.path.join(path_goldstandard,\n",
    "                       'culomns_metadata.pkl'), 'wb') as df_output_file:\n",
    "    pk.dump(columns_metadata_dict, df_output_file)"
   ]
  },
  {
   "cell_type": "markdown",
   "metadata": {},
   "source": [
    "## Summary"
   ]
  },
  {
   "cell_type": "markdown",
   "metadata": {},
   "source": [
    "The result of this chapter is an analysis of the attributes of the raw data [[FeatWiki](./A_References.ipynb/#feature_deduplication_wiki)] for the capstone project. During the analysis and discussion of the attributes, some functions have been written, that will be used in the upcoming chapters for data preprocessing. As the next step, Swissbib's training and testing data will be analysed and processed in chapter [Goldstandard and Data Preparation](./2_GoldstandardDataPreparation.ipynb)."
   ]
  },
  {
   "cell_type": "code",
   "execution_count": null,
   "metadata": {},
   "outputs": [],
   "source": []
  }
 ],
 "metadata": {
  "kernelspec": {
   "display_name": "Python 3",
   "language": "python",
   "name": "python3"
  },
  "language_info": {
   "codemirror_mode": {
    "name": "ipython",
    "version": 3
   },
   "file_extension": ".py",
   "mimetype": "text/x-python",
   "name": "python",
   "nbconvert_exporter": "python",
   "pygments_lexer": "ipython3",
   "version": "3.7.1"
  }
 },
 "nbformat": 4,
 "nbformat_minor": 2
}
