{
 "cells": [
  {
   "cell_type": "markdown",
   "metadata": {},
   "source": [
    "# Data Analysis"
   ]
  },
  {
   "cell_type": "markdown",
   "metadata": {},
   "source": [
    "For understanding the bibliographic catalogue data of the Swissbib platform, the project team has generated a sample .json file with a big amount of representative records. This chapter shows the analysis of this data delivery."
   ]
  },
  {
   "cell_type": "markdown",
   "metadata": {},
   "source": [
    "## Table of Contents\n",
    "\n",
    "- [Sample Records Analysis](#Sample-Records-Analysis)\n",
    "    - [Book](#Book)\n",
    "    - [Music](#Music)\n",
    "    - [Video Material](#Video-Material)\n",
    "    - [Map](#Map)\n",
    "    - [Periodical](#Periodical)\n",
    "    - [Collection](#Collection)\n",
    "    - [Computer File](#Computer-File)\n",
    "- [General Observation](#General-Observation)\n",
    "- [Attribute Analysis](#Attribute-Analysis)\n",
    "    - [Table of Contents of Attribute Analysis](#Table-of-Contents-of-Attribute-Analysis)\n",
    "- [Metadata Handover](#Metadata-Handover)\n",
    "- [Summary](#Summary)"
   ]
  },
  {
   "cell_type": "markdown",
   "metadata": {},
   "source": [
    "## Sample Records Analysis"
   ]
  },
  {
   "cell_type": "markdown",
   "metadata": {},
   "source": [
    "In this section, the data file is loaded and some sample data records are shown."
   ]
  },
  {
   "cell_type": "code",
   "execution_count": 1,
   "metadata": {},
   "outputs": [
    {
     "name": "stdout",
     "output_type": "stream",
     "text": [
      "Number of data records loaded 183407\n"
     ]
    }
   ],
   "source": [
    "import os\n",
    "import json\n",
    "\n",
    "records = []\n",
    "path_data = './data'\n",
    "path_goldstandard = './daten_goldstandard'\n",
    "\n",
    "for line in open(os.path.join(path_data, 'job7r4A1.json'), 'r'):\n",
    "    records.append(json.loads(line))\n",
    "\n",
    "print('Number of data records loaded', len(records))"
   ]
  },
  {
   "cell_type": "code",
   "execution_count": 2,
   "metadata": {},
   "outputs": [
    {
     "data": {
      "text/html": [
       "<div>\n",
       "<style scoped>\n",
       "    .dataframe tbody tr th:only-of-type {\n",
       "        vertical-align: middle;\n",
       "    }\n",
       "\n",
       "    .dataframe tbody tr th {\n",
       "        vertical-align: top;\n",
       "    }\n",
       "\n",
       "    .dataframe thead th {\n",
       "        text-align: right;\n",
       "    }\n",
       "</style>\n",
       "<table border=\"1\" class=\"dataframe\">\n",
       "  <thead>\n",
       "    <tr style=\"text-align: right;\">\n",
       "      <th></th>\n",
       "      <th>docid</th>\n",
       "      <th>035liste</th>\n",
       "      <th>isbn</th>\n",
       "      <th>ttlfull</th>\n",
       "      <th>ttlpart</th>\n",
       "      <th>person</th>\n",
       "      <th>corporate</th>\n",
       "      <th>pubyear</th>\n",
       "      <th>decade</th>\n",
       "      <th>century</th>\n",
       "      <th>exactDate</th>\n",
       "      <th>edition</th>\n",
       "      <th>part</th>\n",
       "      <th>pages</th>\n",
       "      <th>volumes</th>\n",
       "      <th>pubinit</th>\n",
       "      <th>pubword</th>\n",
       "      <th>scale</th>\n",
       "      <th>coordinate</th>\n",
       "      <th>doi</th>\n",
       "      <th>ismn</th>\n",
       "      <th>musicid</th>\n",
       "      <th>format</th>\n",
       "    </tr>\n",
       "  </thead>\n",
       "  <tbody>\n",
       "    <tr>\n",
       "      <th>0</th>\n",
       "      <td>554061449</td>\n",
       "      <td>[(OCoLC)1085491204, (IDSBB)006899773]</td>\n",
       "      <td>[]</td>\n",
       "      <td>{'245': ['Die Feist von Kienberg', 'eine Wasen...</td>\n",
       "      <td>{'245': ['Die Feist von Kienberg', 'eine Wasen...</td>\n",
       "      <td>{'100': ['SchluchterAndré'], '245c': ['André S...</td>\n",
       "      <td>{}</td>\n",
       "      <td>1992</td>\n",
       "      <td>1992</td>\n",
       "      <td>1992</td>\n",
       "      <td>1992</td>\n",
       "      <td></td>\n",
       "      <td>[]</td>\n",
       "      <td>[S. 102-114]</td>\n",
       "      <td>[S. 102-114]</td>\n",
       "      <td>[]</td>\n",
       "      <td>[]</td>\n",
       "      <td></td>\n",
       "      <td>[]</td>\n",
       "      <td>[]</td>\n",
       "      <td>[]</td>\n",
       "      <td></td>\n",
       "      <td>[BK020000]</td>\n",
       "    </tr>\n",
       "    <tr>\n",
       "      <th>1</th>\n",
       "      <td>554061481</td>\n",
       "      <td>[(OCoLC)1085491341, (IDSBB)006899983]</td>\n",
       "      <td>[]</td>\n",
       "      <td>{'245': ['Reimereien']}</td>\n",
       "      <td>{'245': ['Reimereien']}</td>\n",
       "      <td>{'100': ['NaegeliWerner'], '245c': ['von Werne...</td>\n",
       "      <td>{}</td>\n",
       "      <td>1986</td>\n",
       "      <td>1986</td>\n",
       "      <td>1986</td>\n",
       "      <td>1986</td>\n",
       "      <td></td>\n",
       "      <td>[]</td>\n",
       "      <td>[43 S.]</td>\n",
       "      <td>[43 S.]</td>\n",
       "      <td>[]</td>\n",
       "      <td>[]</td>\n",
       "      <td></td>\n",
       "      <td>[]</td>\n",
       "      <td>[]</td>\n",
       "      <td>[]</td>\n",
       "      <td></td>\n",
       "      <td>[BK020000]</td>\n",
       "    </tr>\n",
       "    <tr>\n",
       "      <th>2</th>\n",
       "      <td>554061503</td>\n",
       "      <td>[(OCoLC)1085491299, (IDSBB)006899959]</td>\n",
       "      <td>[]</td>\n",
       "      <td>{'245': ['Efficax antidotum ad matrimonia mixt...</td>\n",
       "      <td>{'245': ['Efficax antidotum ad matrimonia mixt...</td>\n",
       "      <td>{'100': ['KellyM.V.'], '700': ['GeniesseJ.B.']...</td>\n",
       "      <td>{}</td>\n",
       "      <td>1923</td>\n",
       "      <td>1923</td>\n",
       "      <td>1923</td>\n",
       "      <td>1923</td>\n",
       "      <td></td>\n",
       "      <td>[]</td>\n",
       "      <td>[75 p.]</td>\n",
       "      <td>[75 p.]</td>\n",
       "      <td>[]</td>\n",
       "      <td>[]</td>\n",
       "      <td></td>\n",
       "      <td>[]</td>\n",
       "      <td>[]</td>\n",
       "      <td>[]</td>\n",
       "      <td></td>\n",
       "      <td>[BK020000]</td>\n",
       "    </tr>\n",
       "    <tr>\n",
       "      <th>3</th>\n",
       "      <td>554061511</td>\n",
       "      <td>[(OCoLC)1085491268, (IDSBB)006896614]</td>\n",
       "      <td>[]</td>\n",
       "      <td>{'245': ['Probleme der Inflationsbekämpfung', ...</td>\n",
       "      <td>{'245': ['Probleme der Inflationsbekämpfung', ...</td>\n",
       "      <td>{'100': ['WegelinWalter'], '245c': ['']}</td>\n",
       "      <td>{}</td>\n",
       "      <td>1947</td>\n",
       "      <td>1947</td>\n",
       "      <td>1947</td>\n",
       "      <td>1947</td>\n",
       "      <td></td>\n",
       "      <td>[]</td>\n",
       "      <td>[24 S.]</td>\n",
       "      <td>[24 S.]</td>\n",
       "      <td>[]</td>\n",
       "      <td>[]</td>\n",
       "      <td></td>\n",
       "      <td>[]</td>\n",
       "      <td>[]</td>\n",
       "      <td>[]</td>\n",
       "      <td></td>\n",
       "      <td>[BK020000]</td>\n",
       "    </tr>\n",
       "    <tr>\n",
       "      <th>4</th>\n",
       "      <td>55406152X</td>\n",
       "      <td>[(OCoLC)1085491079, (IDSBB)006896866]</td>\n",
       "      <td>[]</td>\n",
       "      <td>{'245': ['[Poems]']}</td>\n",
       "      <td>{'245': ['[Poems]']}</td>\n",
       "      <td>{'100': ['OberlinUrs'], '245c': ['Urs Oberlin ...</td>\n",
       "      <td>{}</td>\n",
       "      <td>1991</td>\n",
       "      <td>1991</td>\n",
       "      <td>1991</td>\n",
       "      <td>1991</td>\n",
       "      <td></td>\n",
       "      <td>[]</td>\n",
       "      <td>[p. 14-15]</td>\n",
       "      <td>[p. 14-15]</td>\n",
       "      <td>[]</td>\n",
       "      <td>[]</td>\n",
       "      <td></td>\n",
       "      <td>[]</td>\n",
       "      <td>[]</td>\n",
       "      <td>[]</td>\n",
       "      <td></td>\n",
       "      <td>[BK020000]</td>\n",
       "    </tr>\n",
       "  </tbody>\n",
       "</table>\n",
       "</div>"
      ],
      "text/plain": [
       "       docid                               035liste isbn  \\\n",
       "0  554061449  [(OCoLC)1085491204, (IDSBB)006899773]   []   \n",
       "1  554061481  [(OCoLC)1085491341, (IDSBB)006899983]   []   \n",
       "2  554061503  [(OCoLC)1085491299, (IDSBB)006899959]   []   \n",
       "3  554061511  [(OCoLC)1085491268, (IDSBB)006896614]   []   \n",
       "4  55406152X  [(OCoLC)1085491079, (IDSBB)006896866]   []   \n",
       "\n",
       "                                             ttlfull  \\\n",
       "0  {'245': ['Die Feist von Kienberg', 'eine Wasen...   \n",
       "1                            {'245': ['Reimereien']}   \n",
       "2  {'245': ['Efficax antidotum ad matrimonia mixt...   \n",
       "3  {'245': ['Probleme der Inflationsbekämpfung', ...   \n",
       "4                               {'245': ['[Poems]']}   \n",
       "\n",
       "                                             ttlpart  \\\n",
       "0  {'245': ['Die Feist von Kienberg', 'eine Wasen...   \n",
       "1                            {'245': ['Reimereien']}   \n",
       "2  {'245': ['Efficax antidotum ad matrimonia mixt...   \n",
       "3  {'245': ['Probleme der Inflationsbekämpfung', ...   \n",
       "4                               {'245': ['[Poems]']}   \n",
       "\n",
       "                                              person corporate   pubyear  \\\n",
       "0  {'100': ['SchluchterAndré'], '245c': ['André S...        {}  1992       \n",
       "1  {'100': ['NaegeliWerner'], '245c': ['von Werne...        {}  1986       \n",
       "2  {'100': ['KellyM.V.'], '700': ['GeniesseJ.B.']...        {}  1923       \n",
       "3           {'100': ['WegelinWalter'], '245c': ['']}        {}  1947       \n",
       "4  {'100': ['OberlinUrs'], '245c': ['Urs Oberlin ...        {}  1991       \n",
       "\n",
       "  decade century exactDate edition part         pages       volumes pubinit  \\\n",
       "0   1992    1992  1992               []  [S. 102-114]  [S. 102-114]      []   \n",
       "1   1986    1986  1986               []       [43 S.]       [43 S.]      []   \n",
       "2   1923    1923  1923               []       [75 p.]       [75 p.]      []   \n",
       "3   1947    1947  1947               []       [24 S.]       [24 S.]      []   \n",
       "4   1991    1991  1991               []    [p. 14-15]    [p. 14-15]      []   \n",
       "\n",
       "  pubword scale coordinate doi ismn musicid      format  \n",
       "0      []               []  []   []          [BK020000]  \n",
       "1      []               []  []   []          [BK020000]  \n",
       "2      []               []  []   []          [BK020000]  \n",
       "3      []               []  []   []          [BK020000]  \n",
       "4      []               []  []   []          [BK020000]  "
      ]
     },
     "execution_count": 2,
     "metadata": {},
     "output_type": "execute_result"
    }
   ],
   "source": [
    "import pandas as pd\n",
    "\n",
    "# Generate Pandas DataFrame object out of the raw data\n",
    "df = pd.DataFrame(records)\n",
    "\n",
    "# Extend display to number of columns of DataFrame\n",
    "pd.options.display.max_columns = len(df.columns)\n",
    "\n",
    "df.head()"
   ]
  },
  {
   "cell_type": "code",
   "execution_count": 3,
   "metadata": {},
   "outputs": [
    {
     "name": "stdout",
     "output_type": "stream",
     "text": [
      "Number of records 183407, number of attributes per record 23.\n",
      "\n",
      "<class 'pandas.core.frame.DataFrame'>\n",
      "RangeIndex: 183407 entries, 0 to 183406\n",
      "Data columns (total 23 columns):\n",
      "docid         183407 non-null object\n",
      "035liste      183407 non-null object\n",
      "isbn          183407 non-null object\n",
      "ttlfull       183407 non-null object\n",
      "ttlpart       183407 non-null object\n",
      "person        183407 non-null object\n",
      "corporate     183407 non-null object\n",
      "pubyear       183407 non-null object\n",
      "decade        183407 non-null object\n",
      "century       183407 non-null object\n",
      "exactDate     183407 non-null object\n",
      "edition       183407 non-null object\n",
      "part          183407 non-null object\n",
      "pages         183407 non-null object\n",
      "volumes       183407 non-null object\n",
      "pubinit       183407 non-null object\n",
      "pubword       183407 non-null object\n",
      "scale         183407 non-null object\n",
      "coordinate    183407 non-null object\n",
      "doi           183407 non-null object\n",
      "ismn          183407 non-null object\n",
      "musicid       183407 non-null object\n",
      "format        183407 non-null object\n",
      "dtypes: object(23)\n",
      "memory usage: 32.2+ MB\n"
     ]
    }
   ],
   "source": [
    "print('Number of records {:d}, number of attributes per record {:d}.\\n'.format(\n",
    "    len(df), len(df.columns)))\n",
    "\n",
    "df.info()"
   ]
  },
  {
   "cell_type": "markdown",
   "metadata": {},
   "source": [
    "Swissbib data describes different kinds of bibliographic units, see [format](#format). The following subsections show some sample data for such units. The format is interpreted roughly in these subsections, compare Swissbib's [format codes](http://www.swissbib.org/wiki/index.php?title=Filtering#format_codes) [[FeatWiki](./A_References.ipynb#feature_deduplication_wiki)]."
   ]
  },
  {
   "cell_type": "code",
   "execution_count": 4,
   "metadata": {},
   "outputs": [
    {
     "data": {
      "text/plain": [
       "array(['BK', 'MU', 'VM', 'MP', 'CR', 'CL', 'CF', nan], dtype=object)"
      ]
     },
     "execution_count": 4,
     "metadata": {},
     "output_type": "execute_result"
    }
   ],
   "source": [
    "df.format.str[0].str[:2].unique()"
   ]
  },
  {
   "cell_type": "markdown",
   "metadata": {},
   "source": [
    "### Book"
   ]
  },
  {
   "cell_type": "markdown",
   "metadata": {},
   "source": [
    "A format code starting with $\\texttt{BK}$ stands for a bibliographic unit of a book or an article. A sample record is shown below."
   ]
  },
  {
   "cell_type": "code",
   "execution_count": 5,
   "metadata": {},
   "outputs": [
    {
     "data": {
      "text/plain": [
       "docid                                                 554061449\n",
       "035liste                  [(OCoLC)1085491204, (IDSBB)006899773]\n",
       "isbn                                                         []\n",
       "ttlfull       {'245': ['Die Feist von Kienberg', 'eine Wasen...\n",
       "ttlpart       {'245': ['Die Feist von Kienberg', 'eine Wasen...\n",
       "person        {'100': ['SchluchterAndré'], '245c': ['André S...\n",
       "corporate                                                    {}\n",
       "pubyear                                                1992    \n",
       "decade                                                     1992\n",
       "century                                                    1992\n",
       "exactDate                                              1992    \n",
       "edition                                                        \n",
       "part                                                         []\n",
       "pages                                              [S. 102-114]\n",
       "volumes                                            [S. 102-114]\n",
       "pubinit                                                      []\n",
       "pubword                                                      []\n",
       "scale                                                          \n",
       "coordinate                                                   []\n",
       "doi                                                          []\n",
       "ismn                                                         []\n",
       "musicid                                                        \n",
       "format                                               [BK020000]\n",
       "Name: 0, dtype: object"
      ]
     },
     "execution_count": 5,
     "metadata": {},
     "output_type": "execute_result"
    }
   ],
   "source": [
    "df.loc[df[df.format.str[0].str[:2]=='BK'].index[0]]"
   ]
  },
  {
   "cell_type": "markdown",
   "metadata": {},
   "source": [
    "### Music"
   ]
  },
  {
   "cell_type": "markdown",
   "metadata": {},
   "source": [
    "A format code starting with $\\texttt{MU}$ stands for a bibliographic unit that is related to music. A sample record is shown below."
   ]
  },
  {
   "cell_type": "code",
   "execution_count": 6,
   "metadata": {},
   "outputs": [
    {
     "data": {
      "text/plain": [
       "docid                                                 554098806\n",
       "035liste                  [(OCoLC)1085495414, (IDSBB)007052696]\n",
       "isbn                                                         []\n",
       "ttlfull                             {'245': ['Violin sonatas']}\n",
       "ttlpart                             {'245': ['Violin sonatas']}\n",
       "person        {'100': ['BrahmsJohannes1833-1897(DE-588)11851...\n",
       "corporate                                                    {}\n",
       "pubyear                                                20182018\n",
       "decade                                                     2018\n",
       "century                                                    2018\n",
       "exactDate                                              20182018\n",
       "edition                                                        \n",
       "part                                                         []\n",
       "pages                                            [1 CD (69:42)]\n",
       "volumes                                          [1 CD (69:42)]\n",
       "pubinit                                                      []\n",
       "pubword                                                      []\n",
       "scale                                                          \n",
       "coordinate                                                   []\n",
       "doi                                                          []\n",
       "ismn                                                         []\n",
       "musicid                                              GCD 924201\n",
       "format                                               [MU040100]\n",
       "Name: 1788, dtype: object"
      ]
     },
     "execution_count": 6,
     "metadata": {},
     "output_type": "execute_result"
    }
   ],
   "source": [
    "df.loc[df[df.format.str[0].str[:2]=='MU'].index[0]]"
   ]
  },
  {
   "cell_type": "markdown",
   "metadata": {},
   "source": [
    "### Video Material"
   ]
  },
  {
   "cell_type": "markdown",
   "metadata": {},
   "source": [
    "A format code starting with $\\texttt{VM}$ represents some film material. A sample record is shown below."
   ]
  },
  {
   "cell_type": "code",
   "execution_count": 7,
   "metadata": {},
   "outputs": [
    {
     "data": {
      "text/plain": [
       "docid                                                 554098911\n",
       "035liste      [(OCoLC)1065768412, (IDSBB)007052702, (OCoLC)1...\n",
       "isbn                         [978-3-946274-20-9, 3-946274-20-X]\n",
       "ttlfull       {'245': ['Kunst und Gemüse, A. Hipler', 'Art a...\n",
       "ttlpart       {'245': ['Kunst und Gemüse, A. Hipler', 'Art a...\n",
       "person        {'100': [], '700': ['SchlingensiefChristoph196...\n",
       "corporate                                                    {}\n",
       "pubyear                                                20182008\n",
       "decade                                                     2018\n",
       "century                                                    2018\n",
       "exactDate                                              20182008\n",
       "edition                                                        \n",
       "part                                                     [2004]\n",
       "pages                                  [2 DVD-Videos (283 min)]\n",
       "volumes                                [2 DVD-Videos (283 min)]\n",
       "pubinit                                                      []\n",
       "pubword                                                      []\n",
       "scale                                                          \n",
       "coordinate                                                   []\n",
       "doi                                                          []\n",
       "ismn                                                         []\n",
       "musicid                                                        \n",
       "format                                               [VM010000]\n",
       "Name: 1795, dtype: object"
      ]
     },
     "execution_count": 7,
     "metadata": {},
     "output_type": "execute_result"
    }
   ],
   "source": [
    "df.loc[df[df.format.str[0].str[:2]=='VM'].index[0]]"
   ]
  },
  {
   "cell_type": "markdown",
   "metadata": {},
   "source": [
    "### Map"
   ]
  },
  {
   "cell_type": "markdown",
   "metadata": {},
   "source": [
    "A format code starting with $\\texttt{MP}$ is a map. A sample record is shown below."
   ]
  },
  {
   "cell_type": "code",
   "execution_count": 8,
   "metadata": {},
   "outputs": [
    {
     "data": {
      "text/plain": [
       "docid                                                 554099039\n",
       "035liste                  [(OCoLC)1085495396, (IDSBB)007052708]\n",
       "isbn                                                         []\n",
       "ttlfull       {'245': ['Nova descriptio Comitatus Hollandiæ'...\n",
       "ttlpart       {'245': ['Nova descriptio Comitatus Hollandiæ'...\n",
       "person        {'100': ['BlaeuWillem Janszoon1571-1638(DE-588...\n",
       "corporate                                                    {}\n",
       "pubyear                                                19931604\n",
       "decade                                                     1993\n",
       "century                                                    1993\n",
       "exactDate                                              19931604\n",
       "edition                                               Facsimile\n",
       "part                                                         []\n",
       "pages                                                 [1 Karte]\n",
       "volumes                                               [1 Karte]\n",
       "pubinit                                                      []\n",
       "pubword                                                      []\n",
       "scale                                                    400000\n",
       "coordinate                                 [E0035400, N0532700]\n",
       "doi                                                          []\n",
       "ismn                                                         []\n",
       "musicid                                                        \n",
       "format                                               [MP010300]\n",
       "Name: 1801, dtype: object"
      ]
     },
     "execution_count": 8,
     "metadata": {},
     "output_type": "execute_result"
    }
   ],
   "source": [
    "df.loc[df[df.format.str[0].str[:2]=='MP'].index[0]]"
   ]
  },
  {
   "cell_type": "markdown",
   "metadata": {},
   "source": [
    "### Periodical"
   ]
  },
  {
   "cell_type": "markdown",
   "metadata": {},
   "source": [
    "A format code starting with $\\texttt{CR}$ is a bibliographic unit of a periodical. A sample record is shown below."
   ]
  },
  {
   "cell_type": "code",
   "execution_count": 9,
   "metadata": {},
   "outputs": [
    {
     "data": {
      "text/plain": [
       "docid                                                 55409939X\n",
       "035liste                   [(OCoLC)699516877, (IDSBB)007052728]\n",
       "isbn                                                [1533-4406]\n",
       "ttlfull       {'245': ['The new England journal of medicine ...\n",
       "ttlpart       {'245': ['The new England journal of medicine ...\n",
       "person                                {'100': [], '245c': ['']}\n",
       "corporate                                                    {}\n",
       "pubyear                                                18121826\n",
       "decade                                                     1812\n",
       "century                                                    1812\n",
       "exactDate                                              18121826\n",
       "edition                                                        \n",
       "part                                                         []\n",
       "pages                                        [Online-Ressource]\n",
       "volumes                                      [Online-Ressource]\n",
       "pubinit                                                      []\n",
       "pubword                                                      []\n",
       "scale                                                          \n",
       "coordinate                                                   []\n",
       "doi                                                          []\n",
       "ismn                                                         []\n",
       "musicid                                                        \n",
       "format                                               [CR030653]\n",
       "Name: 1825, dtype: object"
      ]
     },
     "execution_count": 9,
     "metadata": {},
     "output_type": "execute_result"
    }
   ],
   "source": [
    "df.loc[df[df.format.str[0].str[:2]=='CR'].index[0]]"
   ]
  },
  {
   "cell_type": "markdown",
   "metadata": {},
   "source": [
    "### Collection"
   ]
  },
  {
   "cell_type": "markdown",
   "metadata": {},
   "source": [
    "A format code starting with $\\texttt{CL}$ is a collection. A sample record is shown below."
   ]
  },
  {
   "cell_type": "code",
   "execution_count": 10,
   "metadata": {},
   "outputs": [
    {
     "data": {
      "text/plain": [
       "docid                                                 554101610\n",
       "035liste                  [(OCoLC)1085510940, (IDSBB)007052979]\n",
       "isbn                                                         []\n",
       "ttlfull       {'245': ['[St. Gallischer Hilfsverein - Sankt ...\n",
       "ttlpart       {'245': ['[St. Gallischer Hilfsverein - Sankt ...\n",
       "person                                {'100': [], '245c': ['']}\n",
       "corporate               {'110': ['St. Gallischer Hilfsverein']}\n",
       "pubyear                                                20179999\n",
       "decade                                                     2017\n",
       "century                                                    2017\n",
       "exactDate                                              20179999\n",
       "edition                                                        \n",
       "part                                                         []\n",
       "pages                                                 [1 Mappe]\n",
       "volumes                                               [1 Mappe]\n",
       "pubinit                                                      []\n",
       "pubword                                                      []\n",
       "scale                                                          \n",
       "coordinate                                                   []\n",
       "doi                                                          []\n",
       "ismn                                                         []\n",
       "musicid                                                        \n",
       "format                                               [CL010000]\n",
       "Name: 1955, dtype: object"
      ]
     },
     "execution_count": 10,
     "metadata": {},
     "output_type": "execute_result"
    }
   ],
   "source": [
    "df.loc[df[df.format.str[0].str[:2]=='CL'].index[0]]"
   ]
  },
  {
   "cell_type": "markdown",
   "metadata": {},
   "source": [
    "### Computer File"
   ]
  },
  {
   "cell_type": "markdown",
   "metadata": {},
   "source": [
    "A format code starting with $\\texttt{CF}$ is a placeholder for a computer file on any kind of storage. A sample record is shown below."
   ]
  },
  {
   "cell_type": "code",
   "execution_count": 11,
   "metadata": {},
   "outputs": [
    {
     "data": {
      "text/plain": [
       "docid                                                 554144301\n",
       "035liste                   [(IDSBB)007008154, (RERO)R007245313]\n",
       "isbn                                                         []\n",
       "ttlfull       {'245': ['Ice Age 4', 'voll verschoben : die a...\n",
       "ttlpart       {'245': ['Ice Age 4', 'voll verschoben : die a...\n",
       "person                                {'100': [], '245c': ['']}\n",
       "corporate                                                    {}\n",
       "pubyear                                                2012    \n",
       "decade                                                     2012\n",
       "century                                                    2012\n",
       "exactDate                                              2012    \n",
       "edition                                                        \n",
       "part                                                         []\n",
       "pages                                         [1 Speicherkarte]\n",
       "volumes                                       [1 Speicherkarte]\n",
       "pubinit                                                      []\n",
       "pubword                                                      []\n",
       "scale                                                          \n",
       "coordinate                                                   []\n",
       "doi                                                          []\n",
       "ismn                                                         []\n",
       "musicid                                                        \n",
       "format                                               [CF010000]\n",
       "Name: 5947, dtype: object"
      ]
     },
     "execution_count": 11,
     "metadata": {},
     "output_type": "execute_result"
    }
   ],
   "source": [
    "df.loc[df[df.format.str[0].str[:2]=='CF'].index[0]]"
   ]
  },
  {
   "cell_type": "markdown",
   "metadata": {},
   "source": [
    "## General Observation"
   ]
  },
  {
   "cell_type": "markdown",
   "metadata": {},
   "source": [
    "As can be observed in the sample records displayed above, the attributes of the records are stored in basic Python datatypes like strings, lists (of strings), and dictionaries. A look into the raw data file confirms this observation."
   ]
  },
  {
   "cell_type": "code",
   "execution_count": 12,
   "metadata": {},
   "outputs": [
    {
     "name": "stdout",
     "output_type": "stream",
     "text": [
      "{\"docid\":\"554061449\",\"035liste\":[\"(OCoLC)1085491204\",\"(IDSBB)006899773\"],\"isbn\":[],\"ttlfull\":{\"245\":[\"Die Feist von Kienberg\",\"eine Wasenmeisterfamilie im Ancien Régime zwischen Ehrbarkeit und Delinquenz\"]},\"ttlpart\":{\"245\":[\"Die Feist von Kienberg\",\"eine Wasenmeisterfamilie im Ancien Régime zwischen Ehrbarkeit und Delinquenz\"]},\"person\":{\"100\":[\"SchluchterAndré\"],\"245c\":[\"André Schluchter\"]},\"corporate\":{},\"pubyear\":\"1992    \",\"decade\":\"1992\",\"century\":\"1992\",\"exactDate\":\"1992    \",\"edition\":\"\",\"part\":[],\"pages\":[\"S. 102-114\"],\"volumes\":[\"S. 102-114\"],\"pubinit\":[],\"pubword\":[],\"scale\":\"\",\"coordinate\":[],\"doi\":[],\"ismn\":[],\"musicid\":\"\",\"format\":[\"BK020000\"]}\r\n",
      "{\"docid\":\"554061481\",\"035liste\":[\"(OCoLC)1085491341\",\"(IDSBB)006899983\"],\"isbn\":[],\"ttlfull\":{\"245\":[\"Reimereien\"]},\"ttlpart\":{\"245\":[\"Reimereien\"]},\"person\":{\"100\":[\"NaegeliWerner\"],\"245c\":[\"von Werner Naegeli\"]},\"corporate\":{},\"pubyear\":\"1986    \",\"decade\":\"1986\",\"century\":\"1986\",\"exactDate\":\"1986    \",\"edition\":\"\",\"part\":[],\"pages\":[\"43 S.\"],\"volumes\":[\"43 S.\"],\"pubinit\":[],\"pubword\":[],\"scale\":\"\",\"coordinate\":[],\"doi\":[],\"ismn\":[],\"musicid\":\"\",\"format\":[\"BK020000\"]}\r\n"
     ]
    }
   ],
   "source": [
    "! head -n 2 ./data/job7r4A1.json"
   ]
  },
  {
   "cell_type": "markdown",
   "metadata": {},
   "source": [
    "A specific analysis on each attribute, its meaning and contents will be done as a next step. For the upcoming analysis, each attribute of the data records is assigned to its specific group type. This is done with the help of a global dictionary variable $\\texttt{columns}\\_\\texttt{metadata}\\_\\texttt{dict}$."
   ]
  },
  {
   "cell_type": "code",
   "execution_count": 13,
   "metadata": {},
   "outputs": [],
   "source": [
    "columns_metadata_dict = {}"
   ]
  },
  {
   "cell_type": "markdown",
   "metadata": {},
   "source": [
    "## Attribute Analysis"
   ]
  },
  {
   "cell_type": "markdown",
   "metadata": {},
   "source": [
    "This section analyses the attributes provided by the Swissbib data extracts. The extracted data is used as a basis for the machine learning models in the capstone project. The attributes are based on the MARC 21 Format for Bibliographic Data [[MARC](./A_References.ipynb#marc21)] and are documented on a Swissbib wikipedia page [[FeatWiki](./A_References.ipynb#feature_deduplication_wiki)]."
   ]
  },
  {
   "cell_type": "code",
   "execution_count": 14,
   "metadata": {},
   "outputs": [
    {
     "data": {
      "text/plain": [
       "Index(['docid', '035liste', 'isbn', 'ttlfull', 'ttlpart', 'person',\n",
       "       'corporate', 'pubyear', 'decade', 'century', 'exactDate', 'edition',\n",
       "       'part', 'pages', 'volumes', 'pubinit', 'pubword', 'scale', 'coordinate',\n",
       "       'doi', 'ismn', 'musicid', 'format'],\n",
       "      dtype='object')"
      ]
     },
     "execution_count": 14,
     "metadata": {},
     "output_type": "execute_result"
    }
   ],
   "source": [
    "df.columns"
   ]
  },
  {
   "cell_type": "markdown",
   "metadata": {},
   "source": [
    "This section provides and uses some functions that have been written for supporting the analysis of the attributes as well as for data preprocessing in the upcoming chapters. These functions have been defined in separate code files.\n",
    "\n",
    "- [data_analysis_funcs.py](./data_analysis_funcs.py)\n",
    "- [data_preparation_funcs.py](./data_preparation_funcs.py)"
   ]
  },
  {
   "cell_type": "code",
   "execution_count": 15,
   "metadata": {},
   "outputs": [],
   "source": [
    "import data_analysis_funcs as daf\n",
    "import data_preparation_funcs as dpf"
   ]
  },
  {
   "cell_type": "markdown",
   "metadata": {},
   "source": [
    "### Table of Contents of Attribute Analysis\n",
    "\n",
    "- [035liste](#035liste)\n",
    "- [century](#century)\n",
    "- [coordinate](#coordinate)\n",
    "- [corporate](#corporate)\n",
    "- [decade](#decade)\n",
    "- [docid](#docid)\n",
    "- [doi](#doi)\n",
    "- [edition](#edition)\n",
    "- [exactDate](#exactDate)\n",
    "- [format](#format)\n",
    "- [isbn](#isbn)\n",
    "- [ismn](#ismn)\n",
    "- [musicid](#musicid)\n",
    "- [pages](#pages)\n",
    "- [part](#part)\n",
    "- [person](#person)\n",
    "- [pubinit](#pubinit)\n",
    "- [pubword](#pubword)\n",
    "- [pubyear](#pubyear)\n",
    "- [scale](#scale)\n",
    "- [ttlfull](#ttlfull)\n",
    "- [ttlpart](#ttlpart)\n",
    "- [volumes](#volumes)"
   ]
  },
  {
   "cell_type": "code",
   "execution_count": 16,
   "metadata": {},
   "outputs": [],
   "source": [
    "columns_metadata_dict['data_analysis_columns'] = []"
   ]
  },
  {
   "cell_type": "markdown",
   "metadata": {},
   "source": [
    "### 035liste"
   ]
  },
  {
   "cell_type": "code",
   "execution_count": 17,
   "metadata": {},
   "outputs": [],
   "source": [
    "columns_metadata_dict['list_columns'] = ['035liste']"
   ]
  },
  {
   "cell_type": "markdown",
   "metadata": {},
   "source": [
    "Attribute $\\texttt{035liste}$ holds a list of identifiers from the originating library of a bibliographic unit, see [[FeatWiki](./A_References.ipynb/#feature_deduplication_wiki)]. Each record of the Swissbib data holds at least one identifier. Some examples are shown below."
   ]
  },
  {
   "cell_type": "code",
   "execution_count": 18,
   "metadata": {},
   "outputs": [
    {
     "name": "stdout",
     "output_type": "stream",
     "text": [
      "Number of records with filled 035liste 183407, with missing 035liste 0 => 100.0%\n"
     ]
    }
   ],
   "source": [
    "daf.find_empty_in_column(df, columns_metadata_dict, '035liste')"
   ]
  },
  {
   "cell_type": "code",
   "execution_count": 19,
   "metadata": {},
   "outputs": [
    {
     "data": {
      "text/plain": [
       "83463     1\n",
       "150669    1\n",
       "150668    1\n",
       "150667    1\n",
       "150666    1\n",
       "Name: 035liste, dtype: int64"
      ]
     },
     "execution_count": 19,
     "metadata": {},
     "output_type": "execute_result"
    }
   ],
   "source": [
    "df['035liste'].apply(lambda x : len(x)).sort_values().head(5)"
   ]
  },
  {
   "cell_type": "code",
   "execution_count": 20,
   "metadata": {},
   "outputs": [
    {
     "data": {
      "text/plain": [
       "144185    20\n",
       "54084     21\n",
       "30793     21\n",
       "136608    21\n",
       "61603     21\n",
       "14755     21\n",
       "49974     22\n",
       "139972    22\n",
       "139191    23\n",
       "124359    23\n",
       "Name: 035liste, dtype: int64"
      ]
     },
     "execution_count": 20,
     "metadata": {},
     "output_type": "execute_result"
    }
   ],
   "source": [
    "df['035liste'].apply(lambda x : len(x)).sort_values().tail(10)"
   ]
  },
  {
   "cell_type": "code",
   "execution_count": 21,
   "metadata": {},
   "outputs": [
    {
     "name": "stdout",
     "output_type": "stream",
     "text": [
      "Some sample identifiers:\n"
     ]
    },
    {
     "data": {
      "text/plain": [
       "122513                [(OCoLC)1100982879, (NEBIS)011367122]\n",
       "14295     [(SNL)991004022289703976, (IDSBB)006922382, (S...\n",
       "113502    [(ETHRESEARCH)oai:www.research-collection.ethz...\n",
       "33270     [(VAUD)991021213253102852, (CKB)41100000000103...\n",
       "172907                 [(IDSBB)000550001, (NEBIS)000498526]\n",
       "118980       [(SERSOL)ssib013431205, (WaSeSS)ssib013431205]\n",
       "61537     [(IDSBB)007058131, (NEBIS)011350086, (RERO)R00...\n",
       "174856    [(NEBIS)011357983, (IDSBB)007107023, (IDSSG)00...\n",
       "172130                [(OCoLC)1089457771, (NEBIS)011346227]\n",
       "123998    [(OCoLC)1050140553, (IDSBB)007068958, (OCoLC)1...\n",
       "Name: 035liste, dtype: object"
      ]
     },
     "execution_count": 21,
     "metadata": {},
     "output_type": "execute_result"
    }
   ],
   "source": [
    "print('Some sample identifiers:')\n",
    "df['035liste'].sample(n=10)"
   ]
  },
  {
   "cell_type": "markdown",
   "metadata": {},
   "source": [
    "Attribute $\\texttt{035liste}$ is the central attribute for finding duplicates in the training data of the Swissbib's goldstandard. This process will be explained and implemented in chapter [Goldstandard and Data Preparation](./2_GoldstandardDataPreparation.ipynb)."
   ]
  },
  {
   "cell_type": "markdown",
   "metadata": {},
   "source": [
    "### century"
   ]
  },
  {
   "cell_type": "code",
   "execution_count": 22,
   "metadata": {},
   "outputs": [],
   "source": [
    "columns_metadata_dict['strings_columns'] = ['century']"
   ]
  },
  {
   "cell_type": "code",
   "execution_count": 23,
   "metadata": {},
   "outputs": [
    {
     "name": "stdout",
     "output_type": "stream",
     "text": [
      "Number of records with filled century 183407, with missing century 0 => 100.0%\n"
     ]
    }
   ],
   "source": [
    "daf.find_empty_in_column(df, columns_metadata_dict, 'century')"
   ]
  },
  {
   "cell_type": "markdown",
   "metadata": {},
   "source": [
    "Attribute $\\texttt{century}$ holds strings of length 4 that can predominantly be interpreted as year-dates [[FeatWiki](./A_References.ipynb/#feature_deduplication_wiki)]. Some examples and the top-most quantity distribution are shown below."
   ]
  },
  {
   "cell_type": "code",
   "execution_count": 24,
   "metadata": {},
   "outputs": [
    {
     "data": {
      "text/plain": [
       "101593    2019\n",
       "158069    2017\n",
       "83114     2018\n",
       "90043     2002\n",
       "32478     2018\n",
       "54755     2018\n",
       "72153     1970\n",
       "105740    2018\n",
       "157333    1960\n",
       "54709     2019\n",
       "150432    1961\n",
       "161059    uuuu\n",
       "182964    2019\n",
       "27162     2017\n",
       "47475     1971\n",
       "Name: century, dtype: object"
      ]
     },
     "execution_count": 24,
     "metadata": {},
     "output_type": "execute_result"
    }
   ],
   "source": [
    "df['century'].sample(n=15)"
   ]
  },
  {
   "cell_type": "code",
   "execution_count": 25,
   "metadata": {},
   "outputs": [
    {
     "data": {
      "text/plain": [
       "2018    0.208389\n",
       "2019    0.086785\n",
       "2017    0.046350\n",
       "uuuu    0.036236\n",
       "2016    0.025223\n",
       "1999    0.020201\n",
       "2015    0.019879\n",
       "2014    0.018156\n",
       "2012    0.016286\n",
       "2013    0.015616\n",
       "Name: century, dtype: float64"
      ]
     },
     "execution_count": 25,
     "metadata": {},
     "output_type": "execute_result"
    }
   ],
   "source": [
    "df.century.value_counts(normalize=True).head(10)"
   ]
  },
  {
   "cell_type": "markdown",
   "metadata": {},
   "source": [
    "If the year-date is unclear to some extent or no year-date of the unit is registered, letter 'u' is used as a placeholder of the unknown digit."
   ]
  },
  {
   "cell_type": "code",
   "execution_count": 26,
   "metadata": {},
   "outputs": [
    {
     "data": {
      "text/plain": [
       "array(['uuuu', 'u826', '193u', '197u', '192u', '19uu', '200u', '198u',\n",
       "       '189u', '188u', '18uu', '201u', '20uu', 'u829', '195u', '218u',\n",
       "       '196u', '17uu', '1uuu', '199u', 'u611', '191u', '190u', 'u713',\n",
       "       'u999', '194u', 'u693', '186u', '184u', '15uu', 'uuu1'],\n",
       "      dtype=object)"
      ]
     },
     "execution_count": 26,
     "metadata": {},
     "output_type": "execute_result"
    }
   ],
   "source": [
    "df.century[df.century.str.contains('u')].unique()"
   ]
  },
  {
   "cell_type": "markdown",
   "metadata": {},
   "source": [
    "The above statement results in the same array like the following regular expression."
   ]
  },
  {
   "cell_type": "code",
   "execution_count": 27,
   "metadata": {},
   "outputs": [
    {
     "data": {
      "text/plain": [
       "array(['uuuu', 'u826', '193u', '197u', '192u', '19uu', '200u', '198u',\n",
       "       '189u', '188u', '18uu', '201u', '20uu', 'u829', '195u', '218u',\n",
       "       '196u', '17uu', '1uuu', '199u', 'u611', '191u', '190u', 'u713',\n",
       "       'u999', '194u', 'u693', '186u', '184u', '15uu', 'uuu1'],\n",
       "      dtype=object)"
      ]
     },
     "execution_count": 27,
     "metadata": {},
     "output_type": "execute_result"
    }
   ],
   "source": [
    "df.century[df.century.str.contains('[^0-9]')].unique()"
   ]
  },
  {
   "cell_type": "code",
   "execution_count": 28,
   "metadata": {},
   "outputs": [
    {
     "data": {
      "text/plain": [
       "array(['1992', '1986', '1923', '1947', '1991', '1967', '1950', '1985',\n",
       "       '1983', '1942', '1883', '1990', '1984', '1989', '1993', '1961',\n",
       "       '1940', '1981', '1988', '1858', '1978', '1977', '1880', '1945',\n",
       "       '1963', '1912', '1884', '1937', '1956', '1943', '1916', '1960',\n",
       "       '1980', '1936', '1906', '1987', '1955', '1944', '1953', '1930',\n",
       "       '1903', '1913', '1938', '1895', '1905', '1920', '1918', '1857',\n",
       "       '1928', '1881', '1932', '1900', '1924', '1915', '1931', '1927',\n",
       "       '1919', '1896', '1922', '1871', '1926', '1939', '1907', '1776',\n",
       "       '1873', '1893', '1968', '1975', '1946', '1833', '1855', '1949',\n",
       "       '1962', '1971', '1959', '1966', '1862', '1898', '1901', '1904',\n",
       "       '1902', '1951', '1909', '1929', '1921', '1882', '1964', '1911',\n",
       "       '1957', '1897', '1910', '1867', '1914', '1908', '1958', '1934',\n",
       "       '1933', '1872', '1845', '1979', '1954', '1885', '1810', '1891',\n",
       "       '1869', '1876', '1889', '1836', '1952', '1935', '1948', '1917',\n",
       "       '1879', '1887', '1865', '1899', '1892', '1861', '1870', '1894',\n",
       "       '1941', '1925', '1837', '1864', '1846', '1848', '1691', '1657',\n",
       "       '1623', '1590', '1538', '1686', '1544', '1596', '1631', '1580',\n",
       "       '1628', '1793', '1823', '1802', '1831', '1816', '1838', '1825',\n",
       "       '1826', '1839', '1852', '1890', '1820', '1863', '1856', '1683',\n",
       "       '1877', '1835', '1827', '1850', '1841', '1822', '1847', '1834',\n",
       "       '1824', '1840', '1875', '1756', '1752', '1650', '1573', '1528',\n",
       "       '1554', '1552', '1751', '1653', '1798', '1791', '1645', '1814',\n",
       "       '1763', '1695', '1512', '1807', '1698', '1589', '1796', '1712',\n",
       "       '1818', '1773', '1803', '1828', '1806', '1853', '1785', '1744',\n",
       "       '1525', '1779', '1809', '1811', '1714', '1705', '1787', '1874',\n",
       "       '1781', '1888', '1859', '1772', '1771', '1602', '1851', '1784',\n",
       "       '1886', '1774', '1620', '1804', '1582', '1732', '1829', '1800',\n",
       "       '1789', '1842', '1764', '1797', '1805', '1795', '1868', '1758',\n",
       "       '1713', '1741', '1830', '1821', '1670', '1777', '1770', '1711',\n",
       "       '1762', '1768', '1813', '1761', '1819', '1769', '1801', '1832',\n",
       "       '1555', '1532', '1767', '1815', '1812', '1700', '1757', '1799',\n",
       "       '1710', '1843', '1722', '1760', '1701', '1574', '1651', '1733',\n",
       "       '1786', '1665', '1790', '1723', '1860', '1659', '1737', '1750',\n",
       "       '1716', '1739', '1759', '1808', '1728', '1748', '1577', '1706',\n",
       "       '1724', '1604', '1745', '1753', '1766', '1780', '1878', '1788',\n",
       "       '1673', '1735', '1778', '1715', '1782', '1671', '1702', '1731',\n",
       "       '1639', '1982', '1743', '1866', '1676', '1694', '1584', '1854',\n",
       "       '1969', '1690', '1708', '1688', '1565', '1754', '1638', '1755',\n",
       "       '1624', '1674', '1550', '1629', '1747', '1727', '1749', '1562',\n",
       "       '1641', '1617', '1794', '1844', '1783', '1817', '1849', '1792',\n",
       "       '1730', '1687', '1649', '1541', '1696', '1707', '2018', '2013',\n",
       "       '2009', '2011', '2006', '2014', '2019', '2015', '1997', '2020',\n",
       "       '1746', '2017', '2000', '1996', '1999', '2016', '1765', '1995',\n",
       "       '1972', '1974', '1738', '1965', '2001', '2004', '2010', '2002',\n",
       "       '2008', '2003', '1661', '1664', '1970', '1998', '2012', '1973',\n",
       "       '1994', '2005', '1729', '1634', '2007', '1976', '1658', '1775',\n",
       "       '1537', '1594', '1607', '1682', '1692', '1685', '1526', '1720',\n",
       "       '1564', '1561', '1734', '1543', '1679', '1697', '1591', '1655',\n",
       "       '1643', '1660', '1563', '1569', '1576', '1619', '1668', '1556',\n",
       "       '1736', '1675', '1600', '1542', '1557', '1539', '1540', '1699',\n",
       "       '1721', '1566', '1717', '1535', '1616', '1626', '1507', '1637',\n",
       "       '1548', '1640', '1681', '1672', '1559', '1689', '1644', '1703',\n",
       "       '1588', '1680', '1578', '1618', '1611', '1553', '1551', '1627',\n",
       "       '1630', '1606', '1608', '1560', '1572', '1579', '1593', '1718',\n",
       "       '1740', '1575', '1570', '1587', '1666', '1669', '1704', '1663',\n",
       "       '1595', '1515', '1615', '1585', '1527', '1601', '1523', '1633',\n",
       "       '1678', '1635', '1667', '1598', '1622', '1656', '1684', '1719',\n",
       "       '1648', '1652', '1499', '1530', '1489', '1480', '1642', '1547',\n",
       "       '1592', '1546', '1545', '1583', '1599', '1549', '1610', '1614',\n",
       "       '1508', '1531', '1497', '1613', '1693', '1498', '1742', '1603',\n",
       "       '1514', '1625', '1654', '1534', '1621', '1558', '1636', '1522',\n",
       "       '1521', '1482', '1725', '2021', '1472', '1605', '1597', '1567',\n",
       "       '1568', '1709', '1509', '1662', '1609', '1612', '1010', '1100',\n",
       "       '1455', '1400', '1647', '1490', '1300', '1401', '1430', '1301',\n",
       "       '1201', '1101', '1425', '1001', '1000', '1200', '1501', '1500',\n",
       "       '1504', '1581', '1465', '1503', '1474', '1444', '1418', '1478',\n",
       "       '1632', '1510', '1363', '1250', '1325', '1350', '1502', '1327',\n",
       "       '1450', '1520', '1150', '1389', '1518', '1185', '1677', '1571',\n",
       "       '1646', '1726', '1586', '1495'], dtype=object)"
      ]
     },
     "execution_count": 28,
     "metadata": {},
     "output_type": "execute_result"
    }
   ],
   "source": [
    "df.century[~df.century.str.contains('[u]')].unique()"
   ]
  },
  {
   "cell_type": "markdown",
   "metadata": {},
   "source": [
    "The following graph shows the publishing activity of Western European literature. Be aware that the displayed data is only an extract of the full Swissbib data, though."
   ]
  },
  {
   "cell_type": "code",
   "execution_count": 29,
   "metadata": {},
   "outputs": [
    {
     "data": {
      "image/png": "[encoded data removed]",
      "text/plain": [
       "<Figure size 864x288 with 1 Axes>"
      ]
     },
     "metadata": {
      "needs_background": "light"
     },
     "output_type": "display_data"
    }
   ],
   "source": [
    "%matplotlib inline\n",
    "import matplotlib.pyplot as plt\n",
    "import numpy as np\n",
    "\n",
    "fig, ax = plt.subplots(nrows=1, ncols=1, figsize=(12, 4))\n",
    "\n",
    "plt.hist(df.century[~df.century.str.contains('[u]')].astype(int), bins=60, log=True)\n",
    "plt.xticks(rotation='vertical')\n",
    "plt.title('Stock of bibliographic units per pubication year')\n",
    "plt.xlabel('year of publication')\n",
    "plt.ylabel('log(amount of bibliographical units)')\n",
    "plt.show()"
   ]
  },
  {
   "cell_type": "markdown",
   "metadata": {},
   "source": [
    "With its data extract [[SwRe](./A_References.ipynb#swre)], Swissbib forwards the year of publication of a bibliographic unit in attribute $\\texttt{century}$ [[FeatWiki](./A_References.ipynb/#feature_deduplication_wiki)], if the bibliographic unit has been published in a specific year as may be the case for a regular book. If the bibliographic unit has been published during a time period, like for example a periodical, the first year of publication is stored [[WiCo2001](./A_References.ipynb#wico2001)]."
   ]
  },
  {
   "cell_type": "markdown",
   "metadata": {},
   "source": [
    "In Swissbib's deduplication implementation, the attribute has a different meaning, though, holding the century of publication instead of its full year [[WiCo2001](./A_References.ipynb#wico2001)]. The data extract offers with $\\texttt{decade}$ an additional attribute holding the same data as $\\texttt{century}$. Even more, attributes $\\texttt{exactDate}$ and $\\texttt{pubyear}$ offer an extended version of attribute $\\texttt{century}$. Due to these redundancies, the attribute will be dropped for the feature matrix and one of the extended attributes with the same data will be taken into account, see below."
   ]
  },
  {
   "cell_type": "code",
   "execution_count": 30,
   "metadata": {},
   "outputs": [],
   "source": [
    "#columns_metadata_dict['data_analysis_columns'] = ['century']"
   ]
  },
  {
   "cell_type": "markdown",
   "metadata": {},
   "source": [
    "### coordinate"
   ]
  },
  {
   "cell_type": "code",
   "execution_count": 31,
   "metadata": {},
   "outputs": [],
   "source": [
    "columns_metadata_dict['list_columns'] = ['coordinate']"
   ]
  },
  {
   "cell_type": "markdown",
   "metadata": {},
   "source": [
    "Attribute $\\texttt{coordinate}$ holds geographical coordinate information on the related bibliographical unit of format map."
   ]
  },
  {
   "cell_type": "code",
   "execution_count": 32,
   "metadata": {},
   "outputs": [
    {
     "name": "stdout",
     "output_type": "stream",
     "text": [
      "Number of records with filled coordinate 730, with missing coordinate 182677 => 0.4%\n"
     ]
    }
   ],
   "source": [
    "daf.find_empty_in_column(df, columns_metadata_dict, 'coordinate')"
   ]
  },
  {
   "cell_type": "code",
   "execution_count": 33,
   "metadata": {},
   "outputs": [
    {
     "name": "stdout",
     "output_type": "stream",
     "text": [
      "Number of records with filled coordinate 729, with missing coordinate 183 => 79.9%\n"
     ]
    }
   ],
   "source": [
    "daf.find_empty_in_column(df[df.format.str[0].str[:2]=='MP'], columns_metadata_dict, 'coordinate')"
   ]
  },
  {
   "cell_type": "code",
   "execution_count": 34,
   "metadata": {},
   "outputs": [
    {
     "data": {
      "text/plain": [
       "48811                                           []\n",
       "59584                         [E0082331, N0470318]\n",
       "13892                         [E0120000, N0510700]\n",
       "137875    [E0074200, E0074200, N0463427, N0463400]\n",
       "54315                         [E0130500, N0524000]\n",
       "59416                         [E0065600, N0491500]\n",
       "104560                        [E0064311, N0470430]\n",
       "110593                        [W1153000, N0420000]\n",
       "24065                                           []\n",
       "116023                        [E0021500, N0485400]\n",
       "Name: coordinate, dtype: object"
      ]
     },
     "execution_count": 34,
     "metadata": {},
     "output_type": "execute_result"
    }
   ],
   "source": [
    "df['coordinate'][df.format.str[0].str[:2]=='MP'].sample(n=10)"
   ]
  },
  {
   "cell_type": "markdown",
   "metadata": {},
   "source": [
    "The attribute stores its values in the form of a list. The list may hold more than two specific coordinate values. A specific coordinate value is mostly of length 8 characters."
   ]
  },
  {
   "cell_type": "code",
   "execution_count": 35,
   "metadata": {},
   "outputs": [
    {
     "data": {
      "text/plain": [
       "57054              [E0203500, E0201900, N0383100, N0383100]\n",
       "137329             [E0082310, E0082314, N0464707, N0464711]\n",
       "143472             [E0064728, E0064725, N0461460, N0461455]\n",
       "148518             [E0100200, E0100206, N0464600, N0464645]\n",
       "102577    [E 009 05 00, E009.083333, N 047 15 00, N047.2...\n",
       "144673             [E0071030, E0071454, N0472004, N0471948]\n",
       "133537             [E0070205, E0070202, N0463814, N0463809]\n",
       "25264              [E0064742, E0064739, N0455536, N0455532]\n",
       "137877             [E0102620, E0102615, N0463834, N0463830]\n",
       "137875             [E0074200, E0074200, N0463427, N0463400]\n",
       "Name: coordinate, dtype: object"
      ]
     },
     "execution_count": 35,
     "metadata": {},
     "output_type": "execute_result"
    }
   ],
   "source": [
    "df_maps = df.loc[df.coordinate.apply(lambda x : len(x))[df.format.str[0].str[:2]=='MP'].index]\n",
    "df_maps.coordinate[df_maps.coordinate.apply(lambda x : len(x)) > 2].sample(n=10)"
   ]
  },
  {
   "cell_type": "code",
   "execution_count": 36,
   "metadata": {},
   "outputs": [
    {
     "data": {
      "text/plain": [
       "'E012.500000 transforms to E0125000'"
      ]
     },
     "execution_count": 36,
     "metadata": {},
     "output_type": "execute_result"
    }
   ],
   "source": [
    "df.coordinate.loc[15139][0] + ' transforms to ' + df.coordinate.loc[15139][0].replace('.', '')[:8].upper()"
   ]
  },
  {
   "cell_type": "code",
   "execution_count": 37,
   "metadata": {},
   "outputs": [
    {
     "data": {
      "text/plain": [
       "'E0125000'"
      ]
     },
     "execution_count": 37,
     "metadata": {},
     "output_type": "execute_result"
    }
   ],
   "source": [
    "df.coordinate.loc[15139][0].replace('.', '')[:8].upper()"
   ]
  },
  {
   "cell_type": "markdown",
   "metadata": {},
   "source": [
    "Attribute $\\texttt{coordinate}$ is a relevant identifying attribute for duplicates of maps. The attribute will be used for pair comparison in the feature matrix. The format of its filled list is slightly complicated, though. The contents of the field will be transformed with the help of a function $\\texttt{.split}\\_\\texttt{coordinate()}$, [[WiCo2001](./A_References.ipynb#wico2001)]."
   ]
  },
  {
   "cell_type": "code",
   "execution_count": 38,
   "metadata": {},
   "outputs": [],
   "source": [
    "df = dpf.split_coordinate(df)"
   ]
  },
  {
   "cell_type": "markdown",
   "metadata": {},
   "source": [
    "The function extracts the first element of the list starting with letter 'E' for East or 'W' for West. It then normalizes the string to a string of length 8, removing all '.' and ' ' characters beforehand. The resulting string element is stored in a new attribute $\\texttt{coordinate}\\_\\texttt{E}$."
   ]
  },
  {
   "cell_type": "code",
   "execution_count": 39,
   "metadata": {},
   "outputs": [
    {
     "data": {
      "text/plain": [
       "114814    e0061244\n",
       "17859     e0095853\n",
       "132936    e0055230\n",
       "18196     e0083134\n",
       "11084     e0072600\n",
       "114784    e0064001\n",
       "36018     e0054524\n",
       "31863     e0085027\n",
       "110572    e0095900\n",
       "110007    w0063400\n",
       "114808    e0063314\n",
       "126751    e0061940\n",
       "25072     e0224400\n",
       "76809     e0185900\n",
       "114743    e0094619\n",
       "113766    e0091209\n",
       "15763     e0081115\n",
       "25428     e0064633\n",
       "133225    e0085041\n",
       "143523    e0122000\n",
       "Name: coordinate_E, dtype: object"
      ]
     },
     "execution_count": 39,
     "metadata": {},
     "output_type": "execute_result"
    }
   ],
   "source": [
    "df.coordinate_E[df.coordinate_E.apply(lambda x : x!='')].sample(n=20)"
   ]
  },
  {
   "cell_type": "markdown",
   "metadata": {},
   "source": [
    "As a next step, the same procedure is done with the first list element starting with letter 'N' for North or 'S' for South. The resulting string element is stored in a new attribute $\\texttt{coordinate}\\_\\texttt{N}$."
   ]
  },
  {
   "cell_type": "code",
   "execution_count": 40,
   "metadata": {},
   "outputs": [
    {
     "data": {
      "text/plain": [
       "90485     n0470043\n",
       "1846      n0460829\n",
       "134743    n0472616\n",
       "126794    n0463731\n",
       "137877    n0463834\n",
       "182727    n0465034\n",
       "20724     n0470523\n",
       "28404     n0544500\n",
       "146153    n0471001\n",
       "35089     n0471143\n",
       "136968    n0452600\n",
       "54200     n0472507\n",
       "13521     n0470022\n",
       "126748    n0464037\n",
       "35897     n0421000\n",
       "106140    n0474829\n",
       "94304     n0550000\n",
       "114739    n0470537\n",
       "5102      n0471300\n",
       "59291     n0502800\n",
       "Name: coordinate_N, dtype: object"
      ]
     },
     "execution_count": 40,
     "metadata": {},
     "output_type": "execute_result"
    }
   ],
   "source": [
    "df.coordinate_N[df.coordinate_N.apply(lambda x : x!='')].sample(n=20)"
   ]
  },
  {
   "cell_type": "code",
   "execution_count": 41,
   "metadata": {},
   "outputs": [
    {
     "name": "stdout",
     "output_type": "stream",
     "text": [
      "East / west coordinates?  [nan 'e' 'w']\n",
      "North / south coordinates?  [nan 'n' 's']\n"
     ]
    }
   ],
   "source": [
    "print('East / west coordinates? ', df.coordinate_E.str[0].unique())\n",
    "print('North / south coordinates? ', df.coordinate_N.str[0].unique())"
   ]
  },
  {
   "cell_type": "markdown",
   "metadata": {},
   "source": [
    "Both new attributes are used for further processing, while the original attriubte $\\texttt{coordinate}$ is dropped."
   ]
  },
  {
   "cell_type": "code",
   "execution_count": 42,
   "metadata": {},
   "outputs": [],
   "source": [
    "columns_metadata_dict['data_analysis_columns'].append('coordinate_E')\n",
    "columns_metadata_dict['data_analysis_columns'].append('coordinate_N')"
   ]
  },
  {
   "cell_type": "markdown",
   "metadata": {},
   "source": [
    "### corporate"
   ]
  },
  {
   "cell_type": "code",
   "execution_count": 43,
   "metadata": {},
   "outputs": [],
   "source": [
    "columns_metadata_dict['strings_columns'].append('corporate')"
   ]
  },
  {
   "cell_type": "markdown",
   "metadata": {},
   "source": [
    "Attribute $\\texttt{corporate}$ is a collection of corporate names of the bibliographical unit, see [[FeatWiki](./A_References.ipynb/#feature_deduplication_wiki)]. The attribute out of the raw data comes along as a dictionary column in the DataFrame with three different key value pairs. For a first analysis in this subsection, attribute $\\texttt{corporate}$ will be split into a separate attribute for each key of the dictionary using a special function $\\texttt{.transform}\\_\\texttt{dictionary}\\_\\texttt{to}\\_\\texttt{list()}$. The values then come along as lists and the implemented function $\\texttt{.transform}\\_\\texttt{list}\\_\\texttt{to}\\_\\texttt{string()}$ will be used to process its elements into one single string of the new column."
   ]
  },
  {
   "cell_type": "code",
   "execution_count": 44,
   "metadata": {},
   "outputs": [
    {
     "data": {
      "text/plain": [
       "60505     {'710': ['Katholischer Kirchenbauverein (St. G...\n",
       "164595    {'710': ['Comité national olympique et sportif...\n",
       "131863                                                   {}\n",
       "149290    {'110': ['Olympic Winter Games. Organizing Com...\n",
       "108036                                                   {}\n",
       "36366                                                    {}\n",
       "172012                                                   {}\n",
       "114093                                                   {}\n",
       "120212                                                   {}\n",
       "100164                                                   {}\n",
       "4990                                                     {}\n",
       "1437                                                     {}\n",
       "36075                                                    {}\n",
       "19002                                                    {}\n",
       "128497                                                   {}\n",
       "74237                                                    {}\n",
       "96700                                                    {}\n",
       "139509                                                   {}\n",
       "100823                                                   {}\n",
       "31808                                                    {}\n",
       "Name: corporate, dtype: object"
      ]
     },
     "execution_count": 44,
     "metadata": {},
     "output_type": "execute_result"
    }
   ],
   "source": [
    "df.corporate.sample(n=20)"
   ]
  },
  {
   "cell_type": "code",
   "execution_count": 45,
   "metadata": {},
   "outputs": [
    {
     "name": "stdout",
     "output_type": "stream",
     "text": [
      "Number of records with filled corporate_110 11370, with missing corporate_110 172037 => 6.2%\n",
      "Number of records with filled corporate_710 23123, with missing corporate_710 160284 => 12.6%\n",
      "Number of records with filled corporate_810 57, with missing corporate_810 183350 => 0.0%\n"
     ]
    }
   ],
   "source": [
    "for ending in ['110', '710', '810']:\n",
    "    df = dpf.transform_dictionary_to_list(df, 'corporate', ending)\n",
    "    df = dpf.transform_list_to_string(df, 'corporate_'+ending)\n",
    "\n",
    "    columns_metadata_dict['strings_columns'].append('corporate_'+ending)\n",
    "    daf.find_empty_in_column(df, columns_metadata_dict, 'corporate_'+ending)"
   ]
  },
  {
   "cell_type": "markdown",
   "metadata": {},
   "source": [
    "The attribute is sparsely filled. This is due to the fact that most of Swissbib's bibliographical units are units produced by persons, not corporates."
   ]
  },
  {
   "cell_type": "code",
   "execution_count": 46,
   "metadata": {},
   "outputs": [
    {
     "data": {
      "text/plain": [
       "corporate_110    11349\n",
       "corporate_710    11349\n",
       "dtype: int64"
      ]
     },
     "execution_count": 46,
     "metadata": {},
     "output_type": "execute_result"
    }
   ],
   "source": [
    "df[['corporate_110', 'corporate_710']][\n",
    "    (df.corporate_110!=df.corporate_710) &\n",
    "    (df.corporate_110.apply(lambda x : len(x))!=0)].count()"
   ]
  },
  {
   "cell_type": "code",
   "execution_count": 47,
   "metadata": {},
   "outputs": [
    {
     "data": {
      "text/plain": [
       "corporate_110    21\n",
       "corporate_710    21\n",
       "dtype: int64"
      ]
     },
     "execution_count": 47,
     "metadata": {},
     "output_type": "execute_result"
    }
   ],
   "source": [
    "df[['corporate_110', 'corporate_710']][\n",
    "    (df.corporate_110==df.corporate_710) &\n",
    "    (df.corporate_110.apply(lambda x : len(x))!=0)].count()"
   ]
  },
  {
   "cell_type": "code",
   "execution_count": 48,
   "metadata": {},
   "outputs": [
    {
     "data": {
      "text/html": [
       "<div>\n",
       "<style scoped>\n",
       "    .dataframe tbody tr th:only-of-type {\n",
       "        vertical-align: middle;\n",
       "    }\n",
       "\n",
       "    .dataframe tbody tr th {\n",
       "        vertical-align: top;\n",
       "    }\n",
       "\n",
       "    .dataframe thead th {\n",
       "        text-align: right;\n",
       "    }\n",
       "</style>\n",
       "<table border=\"1\" class=\"dataframe\">\n",
       "  <thead>\n",
       "    <tr style=\"text-align: right;\">\n",
       "      <th></th>\n",
       "      <th>corporate_110</th>\n",
       "      <th>corporate_710</th>\n",
       "    </tr>\n",
       "  </thead>\n",
       "  <tbody>\n",
       "    <tr>\n",
       "      <th>10383</th>\n",
       "      <td>verein deutscher bibliothekare, regionalverban...</td>\n",
       "      <td>verein deutscher bibliothekare, zentral- und l...</td>\n",
       "    </tr>\n",
       "    <tr>\n",
       "      <th>14064</th>\n",
       "      <td>slavs and tatars</td>\n",
       "      <td>kunsthalle im lipsiusbau, kunstverein hannover</td>\n",
       "    </tr>\n",
       "    <tr>\n",
       "      <th>14918</th>\n",
       "      <td>heilsarmee, nationales hauptquartier bern</td>\n",
       "      <td>salvation army, nationales hauptquartier</td>\n",
       "    </tr>\n",
       "    <tr>\n",
       "      <th>15687</th>\n",
       "      <td>berner alpenbahn-gesellschaft bern-lötschberg-...</td>\n",
       "      <td>lötschbergbahn</td>\n",
       "    </tr>\n",
       "    <tr>\n",
       "      <th>16185</th>\n",
       "      <td>jordan schnitzer family foundation</td>\n",
       "      <td>hallie ford museum of art</td>\n",
       "    </tr>\n",
       "  </tbody>\n",
       "</table>\n",
       "</div>"
      ],
      "text/plain": [
       "                                           corporate_110  \\\n",
       "10383  verein deutscher bibliothekare, regionalverban...   \n",
       "14064                                   slavs and tatars   \n",
       "14918          heilsarmee, nationales hauptquartier bern   \n",
       "15687  berner alpenbahn-gesellschaft bern-lötschberg-...   \n",
       "16185                 jordan schnitzer family foundation   \n",
       "\n",
       "                                           corporate_710  \n",
       "10383  verein deutscher bibliothekare, zentral- und l...  \n",
       "14064     kunsthalle im lipsiusbau, kunstverein hannover  \n",
       "14918           salvation army, nationales hauptquartier  \n",
       "15687                                     lötschbergbahn  \n",
       "16185                          hallie ford museum of art  "
      ]
     },
     "execution_count": 48,
     "metadata": {},
     "output_type": "execute_result"
    }
   ],
   "source": [
    "df[['corporate_110', 'corporate_710']][\n",
    "    (df.corporate_110!=df.corporate_710) &\n",
    "    (df.corporate_110.apply(lambda x : len(x))!=0) &\n",
    "    (df.corporate_710.apply(lambda x : len(x))!=0)\n",
    "].head()"
   ]
  },
  {
   "cell_type": "markdown",
   "metadata": {},
   "source": [
    "The attribute holds different data in its dictionary key 110 compared to its dictionary key 710. Both key values of $\\texttt{corporate}$ seem to be relevant for the model. Some examples are shown below."
   ]
  },
  {
   "cell_type": "code",
   "execution_count": 49,
   "metadata": {},
   "outputs": [
    {
     "data": {
      "text/plain": [
       "167068    international association of athletics federat...\n",
       "149042                      fabrik lochmannscher musikwerke\n",
       "165082               comité international pour le fair play\n",
       "125745                                            die ärzte\n",
       "154244    korea advanced institute of science and techno...\n",
       "51346           scotland, sovereign (1685-1688 : james vii)\n",
       "158321    winter youth olympic games. organizing committ...\n",
       "153965    summer olympic games. organizing committee. 12...\n",
       "170014                    comité de candidature d'innsbruck\n",
       "150680    olympic winter games. organizing committee. 19...\n",
       "163520             salt lake convention and visitors bureau\n",
       "152885                             club atlético sudamerica\n",
       "165520    united states olympic committee. division of c...\n",
       "154840                     qatar national olympic committee\n",
       "158850    summer olympic games. organizing committee. 24...\n",
       "161876    olympic winter games. organizing committee . 2...\n",
       "94699                              kantonsschule schüpfheim\n",
       "153717                      international olympic committee\n",
       "149944    olympic winter games. organizing committee . 2...\n",
       "161583    summer olympic games. organizing committee. 30...\n",
       "Name: corporate_110, dtype: object"
      ]
     },
     "execution_count": 49,
     "metadata": {},
     "output_type": "execute_result"
    }
   ],
   "source": [
    "df.corporate_110[df.corporate_110.apply(lambda x : len(x))!=0].sample(n=20)"
   ]
  },
  {
   "cell_type": "code",
   "execution_count": 50,
   "metadata": {},
   "outputs": [
    {
     "data": {
      "text/plain": [
       "179639                                     canal 9 (sierre)\n",
       "22243                        bikablo® akademie gmbh & co.kg\n",
       "14044                                              level 42\n",
       "175972             north american society for sport history\n",
       "75258     american society of mechanical engineers, amer...\n",
       "128961    institut international de la communication vis...\n",
       "154923    australian society for sports history. nationa...\n",
       "170099    fédération internationale de football association\n",
       "123250                                    ensemble resonanz\n",
       "112489                                      photomask japan\n",
       "127261             forschungsgruppe \"staatsprojekt europa.\"\n",
       "24241     great britain, great britain, central statisti...\n",
       "132176                      österreichische notariatskammer\n",
       "11998                                           moonraisers\n",
       "163851    international olympic committee. olympic solid...\n",
       "164626    summer olympic games. organizing committee. 30...\n",
       "178684    chambre d'économie publique du jura bernois (t...\n",
       "10759                            collegium vocale (limburg)\n",
       "59086     kaufmännischer verein, schweizerischer kaufmän...\n",
       "17701                                          hof isenbach\n",
       "Name: corporate_710, dtype: object"
      ]
     },
     "execution_count": 50,
     "metadata": {},
     "output_type": "execute_result"
    }
   ],
   "source": [
    "df.corporate_710[df.corporate_710.apply(lambda x : len(x))!=0].sample(n=20)"
   ]
  },
  {
   "cell_type": "code",
   "execution_count": 51,
   "metadata": {},
   "outputs": [
    {
     "data": {
      "text/plain": [
       "47145     biochemical society (great britain)., symposium.\n",
       "15102              schweiz, bundesamt für landestopografie\n",
       "106150                             hallwag kümmerly + frey\n",
       "110572                             hallwag kümmerly + frey\n",
       "61510                              hallwag kümmerly + frey\n",
       "122278               deutschland, verteidigungsministerium\n",
       "110574                                           hema maps\n",
       "94678                                            hécatombe\n",
       "104811                                 usa, war department\n",
       "94673                                            hécatombe\n",
       "138344             schweiz, bundesamt für landestopografie\n",
       "110582                             hallwag kümmerly + frey\n",
       "45080                          wirtschaftsuniversität wien\n",
       "113869                             peter-ochs-gesellschaft\n",
       "110569                             hallwag kümmerly + frey\n",
       "110598                             hallwag kümmerly + frey\n",
       "72562                                        werbung kiser\n",
       "61902                              hallwag kümmerly + frey\n",
       "113870                             peter-ochs-gesellschaft\n",
       "104826                         usa, department of the army\n",
       "Name: corporate_810, dtype: object"
      ]
     },
     "execution_count": 51,
     "metadata": {},
     "output_type": "execute_result"
    }
   ],
   "source": [
    "df.corporate_810[df.corporate_810.apply(lambda x : len(x))!=0].sample(n=20)"
   ]
  },
  {
   "cell_type": "code",
   "execution_count": 52,
   "metadata": {},
   "outputs": [
    {
     "data": {
      "text/plain": [
       "45080              {'810': ['Wirtschaftsuniversität Wien']}\n",
       "47145     {'110': ['Biochemical Society (Great Britain)'...\n",
       "52134     {'710': ['Kunsthandlung Helmut H. Rumbler'], '...\n",
       "94673     {'710': ['Ensemble Batida', 'Hécatombe'], '810...\n",
       "94674     {'710': ['Ensemble Batida', 'Hécatombe'], '810...\n",
       "94678     {'710': ['Ensemble Batida', 'Hécatombe'], '810...\n",
       "94679     {'710': ['Ensemble Batida', 'Hécatombe'], '810...\n",
       "94680     {'710': ['Ensemble Batida', 'Hécatombe'], '810...\n",
       "113869                 {'810': ['Peter-Ochs-Gesellschaft']}\n",
       "113870                 {'810': ['Peter-Ochs-Gesellschaft']}\n",
       "133706    {'110': ['Carnegie Endowment for International...\n",
       "133739    {'810': ['Deutschland', 'Verteidigungsminister...\n",
       "143892    {'110': ['Judge Advocate General's School (Uni...\n",
       "Name: corporate, dtype: object"
      ]
     },
     "execution_count": 52,
     "metadata": {},
     "output_type": "execute_result"
    }
   ],
   "source": [
    "df.corporate[(df.corporate_110 != df.corporate_810) &\n",
    "             (df.corporate_810.apply(lambda x : len(x))!=0)]"
   ]
  },
  {
   "cell_type": "markdown",
   "metadata": {},
   "source": [
    "Only a few records hold data in attribute $\\texttt{corporate}$ with key 810. Furthermore, attribute $\\texttt{corporate}$ at key 810 stores strongly redundant data to $\\texttt{corporate}$ at key value 110. Therefore, attribute $\\texttt{corporate}$ with key 810 will be dropped [[WiCo2001](./A_References.ipynb#wico2001)]."
   ]
  },
  {
   "cell_type": "markdown",
   "metadata": {},
   "source": [
    "The contents of attribute $\\texttt{corporate}$ results from varying interpretation and filling. Some institutions have used key 110 and others 710 as their leading corporate data field. Swissbib's recommendation therefore is to concatenate the two remaining $\\texttt{corporate}$ fields into one single $\\texttt{corporate}$ field [[WiCo2001](./A_References.ipynb#wico2001)]. The two remaining attributes will be taken into one and will be processed as one singe attribute in the feature matrix generation. This will be implemented in a separate function $\\texttt{.concatenate}\\_\\texttt{corporate}\\_\\texttt{keys()}$, the result of which is shown below for some sample cases."
   ]
  },
  {
   "cell_type": "code",
   "execution_count": 53,
   "metadata": {},
   "outputs": [
    {
     "data": {
      "text/html": [
       "<div>\n",
       "<style scoped>\n",
       "    .dataframe tbody tr th:only-of-type {\n",
       "        vertical-align: middle;\n",
       "    }\n",
       "\n",
       "    .dataframe tbody tr th {\n",
       "        vertical-align: top;\n",
       "    }\n",
       "\n",
       "    .dataframe thead th {\n",
       "        text-align: right;\n",
       "    }\n",
       "</style>\n",
       "<table border=\"1\" class=\"dataframe\">\n",
       "  <thead>\n",
       "    <tr style=\"text-align: right;\">\n",
       "      <th></th>\n",
       "      <th>corporate_full</th>\n",
       "      <th>corporate_110</th>\n",
       "      <th>corporate_710</th>\n",
       "    </tr>\n",
       "  </thead>\n",
       "  <tbody>\n",
       "    <tr>\n",
       "      <th>0</th>\n",
       "      <td></td>\n",
       "      <td></td>\n",
       "      <td></td>\n",
       "    </tr>\n",
       "    <tr>\n",
       "      <th>6</th>\n",
       "      <td>christkatholische kirchgemeinde (bern)</td>\n",
       "      <td></td>\n",
       "      <td>christkatholische kirchgemeinde (bern)</td>\n",
       "    </tr>\n",
       "    <tr>\n",
       "      <th>1852</th>\n",
       "      <td>the keywords project</td>\n",
       "      <td>the keywords project</td>\n",
       "      <td></td>\n",
       "    </tr>\n",
       "    <tr>\n",
       "      <th>14405</th>\n",
       "      <td>zéphyr combo</td>\n",
       "      <td>zéphyr combo</td>\n",
       "      <td>zéphyr combo</td>\n",
       "    </tr>\n",
       "    <tr>\n",
       "      <th>183000</th>\n",
       "      <td>fbm communications (zürich) theater 11 (zürich)</td>\n",
       "      <td>fbm communications (zürich)</td>\n",
       "      <td>theater 11 (zürich)</td>\n",
       "    </tr>\n",
       "    <tr>\n",
       "      <th>183009</th>\n",
       "      <td>spinas civil voices (zürich) fairmed (bern)</td>\n",
       "      <td>spinas civil voices (zürich)</td>\n",
       "      <td>fairmed (bern)</td>\n",
       "    </tr>\n",
       "  </tbody>\n",
       "</table>\n",
       "</div>"
      ],
      "text/plain": [
       "                                         corporate_full  \\\n",
       "0                                                         \n",
       "6                christkatholische kirchgemeinde (bern)   \n",
       "1852                               the keywords project   \n",
       "14405                                      zéphyr combo   \n",
       "183000  fbm communications (zürich) theater 11 (zürich)   \n",
       "183009      spinas civil voices (zürich) fairmed (bern)   \n",
       "\n",
       "                       corporate_110                           corporate_710  \n",
       "0                                                                             \n",
       "6                                     christkatholische kirchgemeinde (bern)  \n",
       "1852            the keywords project                                          \n",
       "14405                   zéphyr combo                            zéphyr combo  \n",
       "183000   fbm communications (zürich)                     theater 11 (zürich)  \n",
       "183009  spinas civil voices (zürich)                          fairmed (bern)  "
      ]
     },
     "execution_count": 53,
     "metadata": {},
     "output_type": "execute_result"
    }
   ],
   "source": [
    "df = dpf.concatenate_corporate_keys(df)\n",
    "df[['corporate_full', 'corporate_110', 'corporate_710']].loc[[0, 6, 1852, 14405, 183000, 183009]]"
   ]
  },
  {
   "cell_type": "code",
   "execution_count": 54,
   "metadata": {},
   "outputs": [
    {
     "data": {
      "text/plain": [
       "0"
      ]
     },
     "execution_count": 54,
     "metadata": {},
     "output_type": "execute_result"
    }
   ],
   "source": [
    "len(df['corporate_full'].loc[0])"
   ]
  },
  {
   "cell_type": "code",
   "execution_count": 55,
   "metadata": {},
   "outputs": [
    {
     "data": {
      "text/plain": [
       "164021               ente nazionale italiano per il turismo\n",
       "168895    olympic winter games. organizing committee . 2...\n",
       "166582    association suisse des typographes. groupe de ...\n",
       "149544    summer olympic games. organizing committee. 30...\n",
       "167190    olympic winter games. organizing committee . 2...\n",
       "90298                                 verein langer samstag\n",
       "150813    summer olympic games. organizing committee. 15...\n",
       "169114    olympic winter games. organizing committee. 18...\n",
       "32456     schweizerischer verein der freundinnen junger ...\n",
       "114858               eidgenössisches topographisches bureau\n",
       "165539    general association of international sports fe...\n",
       "153441    summer olympic games. organizing committee. 30...\n",
       "160931    summer olympic games. organizing committee. 21...\n",
       "11302                                         living colour\n",
       "170918    international olympic committee congrès olympi...\n",
       "158490            ski club of great britain alpine ski club\n",
       "110217                                    spanien, souverän\n",
       "21397                                               invoker\n",
       "162515    association des comités nationaux olympiques d...\n",
       "170414                      international olympic committee\n",
       "Name: corporate_full, dtype: object"
      ]
     },
     "metadata": {},
     "output_type": "display_data"
    },
    {
     "data": {
      "text/plain": [
       "145482                                  al- maʿhad al-ʿilmī\n",
       "128326                          ateliers d'ethnomusicologie\n",
       "47269                                 royal academy of arts\n",
       "55165                     musée des arts décoratifs (paris)\n",
       "56239     helvetia, schweizerische feuerversicherungs-ge...\n",
       "60775          groupe de recherches historiques de cartigny\n",
       "132897                               université de lausanne\n",
       "105923                                   rilke-gesellschaft\n",
       "157772                            polski komitet olimpijski\n",
       "17268     schweizerischer verband frauenhilfe, sektion s...\n",
       "174389    société des arts de genève, classe des beaux-arts\n",
       "59810                          museum europäischer kulturen\n",
       "57576                                      bonhams (london)\n",
       "19730     verband deutsch-schweizerischer frauenvereine ...\n",
       "47832     verein zur förderung der gebärdensprache bei k...\n",
       "90274                                 atelier otto rietmann\n",
       "14440                               berliner philharmoniker\n",
       "128008    suomen evankelis-luterilainen kirkko, katholis...\n",
       "46280                         collection lambert en avignon\n",
       "170380    olympic winter games. organizing committee. 20...\n",
       "Name: corporate_full, dtype: object"
      ]
     },
     "metadata": {},
     "output_type": "display_data"
    }
   ],
   "source": [
    "display(df.corporate_full[df.corporate_110.apply(lambda x : len(x))!=0].sample(n=20))\n",
    "display(df.corporate_full[df.corporate_710.apply(lambda x : len(x))!=0].sample(n=20))"
   ]
  },
  {
   "cell_type": "code",
   "execution_count": 56,
   "metadata": {},
   "outputs": [],
   "source": [
    "columns_metadata_dict['data_analysis_columns'].append('corporate_full')"
   ]
  },
  {
   "cell_type": "markdown",
   "metadata": {},
   "source": [
    "### decade"
   ]
  },
  {
   "cell_type": "code",
   "execution_count": 57,
   "metadata": {},
   "outputs": [],
   "source": [
    "columns_metadata_dict['strings_columns'].append('decade')"
   ]
  },
  {
   "cell_type": "code",
   "execution_count": 58,
   "metadata": {},
   "outputs": [
    {
     "data": {
      "text/html": [
       "<div>\n",
       "<style scoped>\n",
       "    .dataframe tbody tr th:only-of-type {\n",
       "        vertical-align: middle;\n",
       "    }\n",
       "\n",
       "    .dataframe tbody tr th {\n",
       "        vertical-align: top;\n",
       "    }\n",
       "\n",
       "    .dataframe thead th {\n",
       "        text-align: right;\n",
       "    }\n",
       "</style>\n",
       "<table border=\"1\" class=\"dataframe\">\n",
       "  <thead>\n",
       "    <tr style=\"text-align: right;\">\n",
       "      <th></th>\n",
       "      <th>docid</th>\n",
       "      <th>035liste</th>\n",
       "      <th>isbn</th>\n",
       "      <th>ttlfull</th>\n",
       "      <th>ttlpart</th>\n",
       "      <th>person</th>\n",
       "      <th>corporate</th>\n",
       "      <th>pubyear</th>\n",
       "      <th>decade</th>\n",
       "      <th>century</th>\n",
       "      <th>exactDate</th>\n",
       "      <th>...</th>\n",
       "      <th>coordinate</th>\n",
       "      <th>doi</th>\n",
       "      <th>ismn</th>\n",
       "      <th>musicid</th>\n",
       "      <th>format</th>\n",
       "      <th>coordinate_E</th>\n",
       "      <th>coordinate_N</th>\n",
       "      <th>corporate_110</th>\n",
       "      <th>corporate_710</th>\n",
       "      <th>corporate_810</th>\n",
       "      <th>corporate_full</th>\n",
       "    </tr>\n",
       "  </thead>\n",
       "  <tbody>\n",
       "  </tbody>\n",
       "</table>\n",
       "<p>0 rows × 29 columns</p>\n",
       "</div>"
      ],
      "text/plain": [
       "Empty DataFrame\n",
       "Columns: [docid, 035liste, isbn, ttlfull, ttlpart, person, corporate, pubyear, decade, century, exactDate, edition, part, pages, volumes, pubinit, pubword, scale, coordinate, doi, ismn, musicid, format, coordinate_E, coordinate_N, corporate_110, corporate_710, corporate_810, corporate_full]\n",
       "Index: []\n",
       "\n",
       "[0 rows x 29 columns]"
      ]
     },
     "execution_count": 58,
     "metadata": {},
     "output_type": "execute_result"
    }
   ],
   "source": [
    "df[df.decade != df.century]"
   ]
  },
  {
   "cell_type": "markdown",
   "metadata": {},
   "source": [
    "Attribute $\\texttt{decade}$ holds identical data to attribute $\\texttt{century}$, out of Swissbib's data extract [[SwRe](./A_References.ipynb#swre)], see above and its identical MARC 21 definition [[FeatWiki](./A_References.ipynb#feature_deduplication_wiki)]. The purpose of the field in Swissbib's conventional deduplication implementation is to hold the decade of the year of origin of a bibliographic unit and store it for comparison [[WiCo2001](./A_References.ipynb#wico2001)]."
   ]
  },
  {
   "cell_type": "markdown",
   "metadata": {},
   "source": [
    "Chapter [Feature Matrix Generation](./3_FeatureMatrixGeneration.ipynb) will apply a similarity metric for $\\texttt{exactDate}$ with an extension of the data of this attribute. Therefore, attribute $\\texttt{decade}$ will be dropped for further processing."
   ]
  },
  {
   "cell_type": "markdown",
   "metadata": {},
   "source": [
    "### docid"
   ]
  },
  {
   "cell_type": "code",
   "execution_count": 59,
   "metadata": {},
   "outputs": [],
   "source": [
    "columns_metadata_dict['strings_columns'].append('docid')"
   ]
  },
  {
   "cell_type": "code",
   "execution_count": 60,
   "metadata": {},
   "outputs": [
    {
     "name": "stdout",
     "output_type": "stream",
     "text": [
      "Number of records with filled docid 183407, with missing docid 0 => 100.0%\n"
     ]
    }
   ],
   "source": [
    "daf.find_empty_in_column(df, columns_metadata_dict, 'docid')"
   ]
  },
  {
   "cell_type": "code",
   "execution_count": 61,
   "metadata": {},
   "outputs": [
    {
     "data": {
      "text/plain": [
       "'554061449'"
      ]
     },
     "execution_count": 61,
     "metadata": {},
     "output_type": "execute_result"
    }
   ],
   "source": [
    "df.docid[0]"
   ]
  },
  {
   "cell_type": "markdown",
   "metadata": {},
   "source": [
    "The $\\texttt{docid}$ is a unique identifier for a record of the data set. The attribute will become important for identifying master records for their associated slave records, see chapter [Goldstandard and Data Preparation](./2_GoldstandardDataPreparation.ipynb). It will not be used directly for the training of the model."
   ]
  },
  {
   "cell_type": "markdown",
   "metadata": {},
   "source": [
    "### doi"
   ]
  },
  {
   "cell_type": "code",
   "execution_count": 62,
   "metadata": {},
   "outputs": [],
   "source": [
    "columns_metadata_dict['list_columns'].append('doi')"
   ]
  },
  {
   "cell_type": "code",
   "execution_count": 63,
   "metadata": {},
   "outputs": [
    {
     "name": "stdout",
     "output_type": "stream",
     "text": [
      "Number of records with filled doi 10114, with missing doi 173293 => 5.5%\n"
     ]
    }
   ],
   "source": [
    "daf.find_empty_in_column(df, columns_metadata_dict, 'doi')"
   ]
  },
  {
   "cell_type": "markdown",
   "metadata": {},
   "source": [
    "Attribute $\\texttt{doi}$ is a digital object identifier. As specified in [[MARC](./A_References.ipynb#marc21)], the field holds several standard numbers [[FeatWiki](./A_References.ipynb#feature_deduplication_wiki)]. The attribute holds a list of string elements. Some samples are shown below."
   ]
  },
  {
   "cell_type": "code",
   "execution_count": 64,
   "metadata": {},
   "outputs": [
    {
     "data": {
      "text/plain": [
       "1854                                     [00028947575214]\n",
       "1899    [10.5451/unibas-007052902, urn:nbn:ch:bel-bau-...\n",
       "1937    [10.5451/unibas-007052953, urn:nbn:ch:bel-bau-...\n",
       "2046                                     [04600317120499]\n",
       "2063                                     [00602567484134]\n",
       "2207                                     [00039841539226]\n",
       "2245                                     [00096802280399]\n",
       "2286                                     [00761195120422]\n",
       "2494                                     [04250095800740]\n",
       "2779                                     [00888837038720]\n",
       "2996                     [urn:nbn:de:101:1-2016111912809]\n",
       "3087                                     [00605633131628]\n",
       "3385                     [urn:nbn:de:101:1-2017040728657]\n",
       "4094                                     [00602547324375]\n",
       "4504                                     [00656605612812]\n",
       "4710                             [10.14361/9783839445334]\n",
       "6579                                     [00887254706021]\n",
       "7624                                     [00075597959413]\n",
       "8125                                     [03770001901282]\n",
       "9663                      [urn:nbn:de:101:1-201706101980]\n",
       "Name: doi, dtype: object"
      ]
     },
     "execution_count": 64,
     "metadata": {},
     "output_type": "execute_result"
    }
   ],
   "source": [
    "df.doi[df.doi.apply(lambda x : len(x))>0].head(20)"
   ]
  },
  {
   "cell_type": "code",
   "execution_count": 65,
   "metadata": {},
   "outputs": [
    {
     "data": {
      "text/plain": [
       "97067                                [10.5169/seals-790612]\n",
       "96666                                [10.5169/seals-790043]\n",
       "56284                              [10.5281/zenodo.1283188]\n",
       "74566                                [10.3931/e-rara-74623]\n",
       "97363                                [10.5169/seals-790645]\n",
       "58632                               [10.4337/9781784716752]\n",
       "46820                           [10.1007/978-3-319-76424-5]\n",
       "92479                              [urn:nbn:ch:bel-1290279]\n",
       "96723                                [10.5169/seals-790167]\n",
       "58414     [10.5167/uzh-165127, 10.1080/17538947.2018.144...\n",
       "39459                           [10.1007/978-981-13-1123-9]\n",
       "90544                            [10.3929/ethz-b-000324636]\n",
       "148130                          [10.1007/978-3-319-77219-6]\n",
       "30427        [10.5167/uzh-162708, 10.2903/j.efsa.2018.5347]\n",
       "96372                                [10.5169/seals-790010]\n",
       "128527        [10.5167/uzh-160268, 10.1007/JHEP06(2018)084]\n",
       "97399                                [10.5169/seals-790788]\n",
       "96935                                [10.5169/seals-789954]\n",
       "19711                              [urn:nbn:ch:bel-1272521]\n",
       "34312                                  [10.5167/uzh-116638]\n",
       "Name: doi, dtype: object"
      ]
     },
     "execution_count": 65,
     "metadata": {},
     "output_type": "execute_result"
    }
   ],
   "source": [
    "df.doi[df.doi.apply(lambda x : len(x))>0].sample(n=20)"
   ]
  },
  {
   "cell_type": "code",
   "execution_count": 66,
   "metadata": {},
   "outputs": [
    {
     "data": {
      "text/plain": [
       "docid                                                     554871254\n",
       "035liste          [(VAUD)991021210193902852, (CKB)41000000059582...\n",
       "isbn                                                [3-319-93133-4]\n",
       "ttlfull           {'245': ['IAEG/AEG Annual Meeting Proceedings,...\n",
       "ttlpart           {'245': ['IAEG/AEG Annual Meeting Proceedings,...\n",
       "person            {'100': [], '700': ['ShakoorAbduleditor.edthtt...\n",
       "corporate                                                        {}\n",
       "pubyear                                                    2019    \n",
       "decade                                                         2019\n",
       "century                                                        2019\n",
       "exactDate                                                  2019    \n",
       "edition                                               1st ed. 2019.\n",
       "part                                                             []\n",
       "pages                               [1 online resource (122 pages)]\n",
       "volumes                             [1 online resource (122 pages)]\n",
       "pubinit                                                          []\n",
       "pubword                                                          []\n",
       "scale                                                              \n",
       "coordinate                                                       []\n",
       "doi                                     [10.1007/978-3-319-93133-3]\n",
       "ismn                                    [10.1007/978-3-319-93133-3]\n",
       "musicid                                                            \n",
       "format                                                   [BK020053]\n",
       "coordinate_E                                                       \n",
       "coordinate_N                                                       \n",
       "corporate_110                                                      \n",
       "corporate_710                                                      \n",
       "corporate_810                                                      \n",
       "corporate_full                                                     \n",
       "Name: 51889, dtype: object"
      ]
     },
     "execution_count": 66,
     "metadata": {},
     "output_type": "execute_result"
    }
   ],
   "source": [
    "df.loc[51889]"
   ]
  },
  {
   "cell_type": "code",
   "execution_count": 67,
   "metadata": {},
   "outputs": [
    {
     "name": "stdout",
     "output_type": "stream",
     "text": [
      "10,114 records hold 1 list element(s).\n",
      "2,312 records hold 2 list element(s).\n",
      "13 records hold 3 list element(s).\n",
      "11 records hold 4 list element(s).\n",
      "1 records hold 5 list element(s).\n",
      "=> Maximum number of list elements 5\n"
     ]
    }
   ],
   "source": [
    "i = 0\n",
    "while len(df.doi[df.doi.apply(lambda x : len(x))>i]) > 0 :\n",
    "    i = i+1\n",
    "    print('{:,d} records hold {:d} list element(s).'.format(len(df.doi[df.doi.apply(lambda x : len(x))>=i]), i))\n",
    "        \n",
    "print('=> Maximum number of list elements', max(df.doi.apply(lambda x : len(x))))"
   ]
  },
  {
   "cell_type": "markdown",
   "metadata": {},
   "source": [
    "Swissbib's deduplication implementation compares only real doi identifiers [[WiCo2001](./A_References.ipynb#wico2001)]. Real doi identifiers can be found with the help of a subfield that is missing in Swissbib's data extract [[SwRe](./A_References.ipynb#swre)]. Alternatively, a doi can be identified as a string starting with '10.'. Furthermore, each row in the data has a maximum of 1 real doi identifier [[WiCo2001](./A_References.ipynb#wico2001)]. This logic will be used to isolate the real doi from all non-doi identifiers in a row. A function $\\texttt{.reduce}\\_\\texttt{to}\\_\\texttt{doi}\\_\\texttt{element()}$ has been implemented that takes care of this isolation and stores only real doi identifiers in attribute $\\texttt{doi}$."
   ]
  },
  {
   "cell_type": "code",
   "execution_count": 68,
   "metadata": {},
   "outputs": [],
   "source": [
    "df = dpf.reduce_to_doi_element(df)"
   ]
  },
  {
   "cell_type": "code",
   "execution_count": 69,
   "metadata": {},
   "outputs": [
    {
     "data": {
      "text/plain": [
       "113473      10.1103/PhysRevD.99.014509\n",
       "172639              10.5167/uzh-168389\n",
       "20789         10.3929/ethz-b-000309556\n",
       "49203        10.1007/s40719-018-0147-x\n",
       "76721     10.1371/journal.pone.0193640\n",
       "45989        10.1007/978-3-319-75115-3\n",
       "94830               10.1039/c8cp05880f\n",
       "77157             10.5169/seals-789707\n",
       "74546             10.3931/e-rara-74619\n",
       "125671            10.3931/e-rara-11298\n",
       "46337            10.1515/9783110208535\n",
       "141359                10.1787/19990618\n",
       "74153        10.1007/s12022-018-9558-z\n",
       "96564             10.5169/seals-790365\n",
       "122378            10.3931/e-rara-76174\n",
       "122205       10.1024/1661-8157/a003075\n",
       "87702        10.1186/s12909-018-1442-5\n",
       "148081              10.5167/uzh-168019\n",
       "94845               10.5167/uzh-162417\n",
       "181272       10.1007/978-94-007-6881-9\n",
       "Name: doi, dtype: object"
      ]
     },
     "execution_count": 69,
     "metadata": {},
     "output_type": "execute_result"
    }
   ],
   "source": [
    "df.doi[df.doi.apply(lambda x : len(x)>0)].sample(n=20)"
   ]
  },
  {
   "cell_type": "code",
   "execution_count": 70,
   "metadata": {},
   "outputs": [],
   "source": [
    "columns_metadata_dict['data_analysis_columns'].append('doi')"
   ]
  },
  {
   "cell_type": "markdown",
   "metadata": {},
   "source": [
    "### edition"
   ]
  },
  {
   "cell_type": "code",
   "execution_count": 71,
   "metadata": {},
   "outputs": [],
   "source": [
    "columns_metadata_dict['strings_columns'].append('edition')"
   ]
  },
  {
   "cell_type": "code",
   "execution_count": 72,
   "metadata": {},
   "outputs": [
    {
     "name": "stdout",
     "output_type": "stream",
     "text": [
      "Number of records with filled edition 25352, with missing edition 158055 => 13.8%\n"
     ]
    }
   ],
   "source": [
    "daf.find_empty_in_column(df, columns_metadata_dict, 'edition')"
   ]
  },
  {
   "cell_type": "markdown",
   "metadata": {},
   "source": [
    "Attribute $\\texttt{edition}$ holds the edition statement [[FeatWiki](./A_References.ipynb/#feature_deduplication_wiki)]. The data type of the attribute is a string value."
   ]
  },
  {
   "cell_type": "code",
   "execution_count": 73,
   "metadata": {},
   "outputs": [
    {
     "data": {
      "text/plain": [
       "52932              1re édition\n",
       "1710              2.verb.Aufl.\n",
       "137221           First edition\n",
       "94691      3ª edizione rivista\n",
       "17011               1. Auflage\n",
       "148400           4. bis 9. Tsd\n",
       "114024              4. Auflage\n",
       "179549           First edition\n",
       "55573      [Paperback edition]\n",
       "83798          1. Auflage 2019\n",
       "3754                  1. Aufl.\n",
       "57888              14. Auflage\n",
       "19763         Première édition\n",
       "66168                 [5e éd.]\n",
       "81401     3ème édition révisée\n",
       "77376             1ère édition\n",
       "59804          Primera edición\n",
       "65122                    Repr.\n",
       "114819            Revisée 1906\n",
       "54178             55a edizione\n",
       "Name: edition, dtype: object"
      ]
     },
     "execution_count": 73,
     "metadata": {},
     "output_type": "execute_result"
    }
   ],
   "source": [
    "edition_sample_index = df.edition[df.edition.apply(lambda x : len(x)>0)].sample(n=20).index\n",
    "df.edition.loc[edition_sample_index]"
   ]
  },
  {
   "cell_type": "markdown",
   "metadata": {},
   "source": [
    "Swissbib's deduplication logic normalizes this attribute strongly [[WiCo2001](./A_References.ipynb#wico2001)]. Goal of their normalization process is to treat different variants of the edition statements in the same way. The normalization comprises mainly extracting and isolating number digits out of the original string of the attribute. But also, they convert words expressing numbers to number digits. The first part of their normalization process, extracting number digits, will be done as well in this capstone project. For this purpose, a special function $\\texttt{.isolate}\\_\\texttt{number}\\_\\texttt{from}\\_\\texttt{string()}$ has been implemented for attribute $\\texttt{edition}$."
   ]
  },
  {
   "cell_type": "code",
   "execution_count": 74,
   "metadata": {},
   "outputs": [
    {
     "data": {
      "text/plain": [
       "52932        1\n",
       "1710         2\n",
       "137221        \n",
       "94691        3\n",
       "17011        1\n",
       "148400       4\n",
       "114024       4\n",
       "179549        \n",
       "55573         \n",
       "83798        1\n",
       "3754         1\n",
       "57888       14\n",
       "19763         \n",
       "66168        5\n",
       "81401        3\n",
       "77376        1\n",
       "59804         \n",
       "65122         \n",
       "114819    1906\n",
       "54178       55\n",
       "Name: edition, dtype: object"
      ]
     },
     "execution_count": 74,
     "metadata": {},
     "output_type": "execute_result"
    }
   ],
   "source": [
    "df = dpf.isolate_number_from_string(df, 'edition')\n",
    "df.edition.loc[edition_sample_index]"
   ]
  },
  {
   "cell_type": "code",
   "execution_count": 75,
   "metadata": {},
   "outputs": [
    {
     "name": "stdout",
     "output_type": "stream",
     "text": [
      "Number of records with filled edition 16390, with missing edition 167017 => 8.9%\n"
     ]
    }
   ],
   "source": [
    "daf.find_empty_in_column(df, columns_metadata_dict, 'edition')"
   ]
  },
  {
   "cell_type": "markdown",
   "metadata": {},
   "source": [
    "As a result of this processing of attribute $\\texttt{edition}$, the numer of filles rows is still reduced."
   ]
  },
  {
   "cell_type": "code",
   "execution_count": 76,
   "metadata": {},
   "outputs": [],
   "source": [
    "columns_metadata_dict['data_analysis_columns'].append('edition')"
   ]
  },
  {
   "cell_type": "markdown",
   "metadata": {},
   "source": [
    "### exactDate"
   ]
  },
  {
   "cell_type": "code",
   "execution_count": 77,
   "metadata": {},
   "outputs": [],
   "source": [
    "columns_metadata_dict['strings_columns'].append('exactDate')"
   ]
  },
  {
   "cell_type": "code",
   "execution_count": 78,
   "metadata": {},
   "outputs": [
    {
     "name": "stdout",
     "output_type": "stream",
     "text": [
      "Number of records with filled exactDate 183407, with missing exactDate 0 => 100.0%\n"
     ]
    }
   ],
   "source": [
    "daf.find_empty_in_column(df, columns_metadata_dict, 'exactDate')"
   ]
  },
  {
   "cell_type": "code",
   "execution_count": 79,
   "metadata": {},
   "outputs": [
    {
     "data": {
      "text/html": [
       "<div>\n",
       "<style scoped>\n",
       "    .dataframe tbody tr th:only-of-type {\n",
       "        vertical-align: middle;\n",
       "    }\n",
       "\n",
       "    .dataframe tbody tr th {\n",
       "        vertical-align: top;\n",
       "    }\n",
       "\n",
       "    .dataframe thead th {\n",
       "        text-align: right;\n",
       "    }\n",
       "</style>\n",
       "<table border=\"1\" class=\"dataframe\">\n",
       "  <thead>\n",
       "    <tr style=\"text-align: right;\">\n",
       "      <th></th>\n",
       "      <th>docid</th>\n",
       "      <th>035liste</th>\n",
       "      <th>isbn</th>\n",
       "      <th>ttlfull</th>\n",
       "      <th>ttlpart</th>\n",
       "      <th>person</th>\n",
       "      <th>corporate</th>\n",
       "      <th>pubyear</th>\n",
       "      <th>decade</th>\n",
       "      <th>century</th>\n",
       "      <th>exactDate</th>\n",
       "      <th>...</th>\n",
       "      <th>coordinate</th>\n",
       "      <th>doi</th>\n",
       "      <th>ismn</th>\n",
       "      <th>musicid</th>\n",
       "      <th>format</th>\n",
       "      <th>coordinate_E</th>\n",
       "      <th>coordinate_N</th>\n",
       "      <th>corporate_110</th>\n",
       "      <th>corporate_710</th>\n",
       "      <th>corporate_810</th>\n",
       "      <th>corporate_full</th>\n",
       "    </tr>\n",
       "  </thead>\n",
       "  <tbody>\n",
       "  </tbody>\n",
       "</table>\n",
       "<p>0 rows × 29 columns</p>\n",
       "</div>"
      ],
      "text/plain": [
       "Empty DataFrame\n",
       "Columns: [docid, 035liste, isbn, ttlfull, ttlpart, person, corporate, pubyear, decade, century, exactDate, edition, part, pages, volumes, pubinit, pubword, scale, coordinate, doi, ismn, musicid, format, coordinate_E, coordinate_N, corporate_110, corporate_710, corporate_810, corporate_full]\n",
       "Index: []\n",
       "\n",
       "[0 rows x 29 columns]"
      ]
     },
     "execution_count": 79,
     "metadata": {},
     "output_type": "execute_result"
    }
   ],
   "source": [
    "df[df.exactDate.str[0:4] != df.century]"
   ]
  },
  {
   "cell_type": "markdown",
   "metadata": {},
   "source": [
    "Conforming the MARC 21 description, see [[MARC](./A_References.ipynb#marc21)], the first 4 digits of $\\texttt{exactDate}$ hold identical data as field $\\texttt{century}$. The last 4 digits hold additional information on the exact date of origin of the bibliographical unit [[FeatWiki](./A_References.ipynb#feature_deduplication_wiki)]."
   ]
  },
  {
   "cell_type": "code",
   "execution_count": 80,
   "metadata": {
    "scrolled": false
   },
   "outputs": [
    {
     "data": {
      "text/plain": [
       "array(['1992    ', '1986    ', '1923    ', ..., '1966-196', 'uuu1    ',\n",
       "       '201007  '], dtype=object)"
      ]
     },
     "execution_count": 80,
     "metadata": {},
     "output_type": "execute_result"
    }
   ],
   "source": [
    "df.exactDate[df.exactDate.str[4:].str.contains('\\D')].unique()"
   ]
  },
  {
   "cell_type": "markdown",
   "metadata": {},
   "source": [
    "Missing information is not only added with the help of character 'u', but with ' ' (space character) and even '-' characters, unfortunately. For data cleaning resons, any character that is not a number digit will be replaced by 'u'."
   ]
  },
  {
   "cell_type": "code",
   "execution_count": 81,
   "metadata": {},
   "outputs": [
    {
     "name": "stdout",
     "output_type": "stream",
     "text": [
      "Non-digit characters are {'u', '-', ' '}\n"
     ]
    }
   ],
   "source": [
    "def determine_uniques_non_numbers(exact_date):\n",
    "    unique_non_numbers = set()\n",
    "\n",
    "    for i in range(4, 8):\n",
    "        unique_non_numbers = unique_non_numbers.union(set(exact_date.str[i:i+1][\n",
    "            exact_date.str[i:i+1].str.contains('\\D')].unique()))\n",
    "\n",
    "    print('Non-digit characters are', unique_non_numbers)\n",
    "\n",
    "    return\n",
    "\n",
    "determine_uniques_non_numbers(df.exactDate)"
   ]
  },
  {
   "cell_type": "code",
   "execution_count": 82,
   "metadata": {
    "scrolled": true
   },
   "outputs": [
    {
     "name": "stdout",
     "output_type": "stream",
     "text": [
      "Degree of non-number filling of last 4 digits 87.4%\n",
      "Degree of full and exclusively number filling of last 4 digits 12.6%\n"
     ]
    }
   ],
   "source": [
    "def print_degree_of_filling(exact_date):\n",
    "    print('Degree of non-number filling of last 4 digits {:.1f}%'.format(\n",
    "        exact_date[exact_date.str[4:].str.contains('\\D')].count()/len(df)*100))\n",
    "    print('Degree of full and exclusively number filling of last 4 digits {:.1f}%'.format(\n",
    "        exact_date[exact_date.str[4:].str.contains('[0-9]{4}')].count()/len(df)*100))\n",
    "    return\n",
    "\n",
    "print_degree_of_filling(df.exactDate)"
   ]
  },
  {
   "cell_type": "code",
   "execution_count": 83,
   "metadata": {},
   "outputs": [
    {
     "name": "stdout",
     "output_type": "stream",
     "text": [
      "Degree of non-number filling of last 4 digits 87.4%\n",
      "Degree of full and exclusively number filling of last 4 digits 12.6%\n",
      "Non-digit characters are {'u'}\n"
     ]
    }
   ],
   "source": [
    "df = dpf.clean_exactDate_string(df)\n",
    "\n",
    "print_degree_of_filling(df.exactDate)\n",
    "determine_uniques_non_numbers(df.exactDate)"
   ]
  },
  {
   "cell_type": "code",
   "execution_count": 84,
   "metadata": {},
   "outputs": [
    {
     "data": {
      "text/plain": [
       "docid                                                     556987284\n",
       "035liste                         [(ZORA)oai:www.zora.uzh.ch:169340]\n",
       "isbn                                                             []\n",
       "ttlfull           {'245': ['Altered limbic and autonomic process...\n",
       "ttlpart           {'245': ['Altered limbic and autonomic process...\n",
       "person            {'100': [], '700': ['TemplinChristianjoint aut...\n",
       "corporate                                                        {}\n",
       "pubyear                                                    20190414\n",
       "decade                                                         2019\n",
       "century                                                        2019\n",
       "exactDate                                                  20190414\n",
       "edition                                                            \n",
       "part                                             [40(15):1183-1187]\n",
       "pages                                                            []\n",
       "volumes                                                          []\n",
       "pubinit                                                          []\n",
       "pubword                                                          []\n",
       "scale                                                              \n",
       "coordinate                                                       []\n",
       "doi                                        10.1093/eurheartj/ehz068\n",
       "ismn                                     [10.1093/eurheartj/ehz068]\n",
       "musicid                                                            \n",
       "format                                                   [BK010053]\n",
       "coordinate_E                                                       \n",
       "coordinate_N                                                       \n",
       "corporate_110                                                      \n",
       "corporate_710                                                      \n",
       "corporate_810                                                      \n",
       "corporate_full                                                     \n",
       "Name: 183319, dtype: object"
      ]
     },
     "execution_count": 84,
     "metadata": {},
     "output_type": "execute_result"
    }
   ],
   "source": [
    "df.loc[183319]"
   ]
  },
  {
   "cell_type": "markdown",
   "metadata": {},
   "source": [
    "Attribute $\\texttt{exactDate}$ holds the same values like attribute $\\texttt{pubyear}$, see below. In comparison with $\\texttt{century}$ and $\\texttt{decade}$, the full years of publication of a bibliographic unit are stored in the first four digits of the attribute [[FeatWiki](./A_References.ipynb#feature_deduplication_wiki)]. For bibliographical units that appear over a time period, the second four digits correspond to the last year of publication. In case of units that appear within one year, the second four digits may hold the copyright date or the original year of publication of a reprint may be stored, instead. For some bibliographical units, it is possible that the attribute holds month and day indication instead of a year in the last four digits [[WiCo2001](./A_References.ipynb#wico2001)]."
   ]
  },
  {
   "cell_type": "markdown",
   "metadata": {},
   "source": [
    "The MARC data declares explicitly the kind of value, the second four digits are about. This specification is missing in Swissbib's data extract [[SwRe](./A_References.ipynb#swre)]. Swissbib treats such differences in a varying way in its deduplication implementation, depending on the specific kind of value. Due to its full information supply, attribute $\\texttt{exactDate}$ is taken as is to the feature matrix. The attribute will be taken as full placeholder for the three attributes $\\texttt{century}$, $\\texttt{decade}$, and $\\texttt{pubyear}$."
   ]
  },
  {
   "cell_type": "code",
   "execution_count": 85,
   "metadata": {},
   "outputs": [],
   "source": [
    "columns_metadata_dict['data_analysis_columns'].append('exactDate')"
   ]
  },
  {
   "cell_type": "markdown",
   "metadata": {},
   "source": [
    "### format"
   ]
  },
  {
   "cell_type": "code",
   "execution_count": 86,
   "metadata": {},
   "outputs": [],
   "source": [
    "columns_metadata_dict['list_columns'].append('format')"
   ]
  },
  {
   "cell_type": "markdown",
   "metadata": {},
   "source": [
    "Attribute $\\texttt{format}$ describes the format of a bibliographic unit, see examples under section [Sample Records Analysis](#Sample-Records-Analysis). Swissbib's deduplication implementation splits this attribute for its comparison logic and uses only parts of it [[WiCo2001](./A_References.ipynb#wico2001)].\n",
    "- The full code is used for values starting with VM01, VM02, MU03, MU04, and CF01.\n",
    "- The first four and last two digits are used fo all other values of the attribute."
   ]
  },
  {
   "cell_type": "code",
   "execution_count": 87,
   "metadata": {},
   "outputs": [
    {
     "name": "stdout",
     "output_type": "stream",
     "text": [
      "Number of records with filled format 179688, with missing format 3719 => 98.0%\n"
     ]
    }
   ],
   "source": [
    "daf.find_empty_in_column(df, columns_metadata_dict, 'format')"
   ]
  },
  {
   "cell_type": "code",
   "execution_count": 88,
   "metadata": {},
   "outputs": [
    {
     "data": {
      "text/plain": [
       "177775    bk020000\n",
       "63615     bk020053\n",
       "65700     bk020000\n",
       "70097     bk020000\n",
       "149894    bk020000\n",
       "110549    bk020000\n",
       "1235      bk020000\n",
       "39210     bk020053\n",
       "91904     bk020053\n",
       "133061    cr030600\n",
       "Name: format, dtype: object"
      ]
     },
     "execution_count": 88,
     "metadata": {},
     "output_type": "execute_result"
    }
   ],
   "source": [
    "df = dpf.transform_list_to_string(df, 'format')\n",
    "\n",
    "df['format'][df.format.apply(lambda x : len(x))==8].sample(n=10)"
   ]
  },
  {
   "cell_type": "code",
   "execution_count": 89,
   "metadata": {},
   "outputs": [
    {
     "name": "stdout",
     "output_type": "stream",
     "text": [
      "96.4% of the records hold one single format.\n",
      "1.6% of the records hold more than one format.\n"
     ]
    }
   ],
   "source": [
    "print('{:.1f}% of the records hold one single format.'.format(\n",
    "    df['format'][df.format.apply(lambda x : len(x))==8].count()/len(df)*100))\n",
    "print('{:.1f}% of the records hold more than one format.'.format(\n",
    "    df['format'][df.format.apply(lambda x : len(x))>8].count()/len(df)*100))"
   ]
  },
  {
   "cell_type": "code",
   "execution_count": 90,
   "metadata": {},
   "outputs": [
    {
     "data": {
      "text/plain": [
       "157169    \n",
       "155349    \n",
       "161455    \n",
       "152421    \n",
       "151152    \n",
       "168125    \n",
       "155976    \n",
       "153550    \n",
       "161264    \n",
       "164668    \n",
       "Name: format, dtype: object"
      ]
     },
     "execution_count": 90,
     "metadata": {},
     "output_type": "execute_result"
    }
   ],
   "source": [
    "df['format'][df.format.apply(lambda x : len(x))<8].sample(n=10)"
   ]
  },
  {
   "cell_type": "code",
   "execution_count": 91,
   "metadata": {},
   "outputs": [
    {
     "data": {
      "text/plain": [
       "1981    mu010100, mu010000\n",
       "2000    mu010000, mu010100\n",
       "2001    mu010100, mu010000\n",
       "2003    mu010100, mu010000\n",
       "2004    mu010200, mu010000\n",
       "Name: format, dtype: object"
      ]
     },
     "execution_count": 91,
     "metadata": {},
     "output_type": "execute_result"
    }
   ],
   "source": [
    "df['format'][df.format.apply(lambda x : len(x))>8].head()"
   ]
  },
  {
   "cell_type": "code",
   "execution_count": 92,
   "metadata": {},
   "outputs": [
    {
     "data": {
      "text/plain": [
       "17607     bk020300, bk020000, bk020500\n",
       "83055     bk020300, bk020800, bk020000\n",
       "181090    cr030700, cr030600, cr030300\n",
       "181376    bk020800, bk020400, bk020000\n",
       "Name: format, dtype: object"
      ]
     },
     "execution_count": 92,
     "metadata": {},
     "output_type": "execute_result"
    }
   ],
   "source": [
    "df['format'][df.format.apply(lambda x : len(x))>18].head()"
   ]
  },
  {
   "cell_type": "markdown",
   "metadata": {},
   "source": [
    "The attribute seems to be very relevant for a basic identification of a bibliographical unit. Mainly the first two digits seem to be a reliable rough classification indicator. The remaining digits may have an inferior importance and and an inferior reliability due to freedom of interpretation. For this capstone project, a different processing of the attribute compared to the Swissbib implementation is tested. The attribute is divided into two new attributes.\n",
    "\n",
    "- New attribute $\\texttt{format_prefix}$ will hold the first two digits of the first $\\texttt{format}$ element.\n",
    "- New attribute $\\texttt{format_number}$ will hold the 6 subsequent digits of the first $\\texttt{format}$ element.\n",
    "\n",
    "The $\\texttt{format}$ attribute will be dropped after this preprocessing step."
   ]
  },
  {
   "cell_type": "code",
   "execution_count": 93,
   "metadata": {},
   "outputs": [
    {
     "data": {
      "text/html": [
       "<div>\n",
       "<style scoped>\n",
       "    .dataframe tbody tr th:only-of-type {\n",
       "        vertical-align: middle;\n",
       "    }\n",
       "\n",
       "    .dataframe tbody tr th {\n",
       "        vertical-align: top;\n",
       "    }\n",
       "\n",
       "    .dataframe thead th {\n",
       "        text-align: right;\n",
       "    }\n",
       "</style>\n",
       "<table border=\"1\" class=\"dataframe\">\n",
       "  <thead>\n",
       "    <tr style=\"text-align: right;\">\n",
       "      <th></th>\n",
       "      <th>format</th>\n",
       "      <th>format_prefix</th>\n",
       "      <th>format_postfix</th>\n",
       "    </tr>\n",
       "  </thead>\n",
       "  <tbody>\n",
       "    <tr>\n",
       "      <th>94048</th>\n",
       "      <td>bk020000</td>\n",
       "      <td>bk</td>\n",
       "      <td>020000</td>\n",
       "    </tr>\n",
       "    <tr>\n",
       "      <th>29348</th>\n",
       "      <td>bk020000</td>\n",
       "      <td>bk</td>\n",
       "      <td>020000</td>\n",
       "    </tr>\n",
       "    <tr>\n",
       "      <th>88511</th>\n",
       "      <td>bk020053</td>\n",
       "      <td>bk</td>\n",
       "      <td>020053</td>\n",
       "    </tr>\n",
       "    <tr>\n",
       "      <th>115049</th>\n",
       "      <td>bk020000</td>\n",
       "      <td>bk</td>\n",
       "      <td>020000</td>\n",
       "    </tr>\n",
       "    <tr>\n",
       "      <th>71836</th>\n",
       "      <td>bk020000</td>\n",
       "      <td>bk</td>\n",
       "      <td>020000</td>\n",
       "    </tr>\n",
       "    <tr>\n",
       "      <th>140912</th>\n",
       "      <td>bk020000</td>\n",
       "      <td>bk</td>\n",
       "      <td>020000</td>\n",
       "    </tr>\n",
       "    <tr>\n",
       "      <th>103216</th>\n",
       "      <td>bk020800</td>\n",
       "      <td>bk</td>\n",
       "      <td>020800</td>\n",
       "    </tr>\n",
       "    <tr>\n",
       "      <th>32947</th>\n",
       "      <td>bk020053</td>\n",
       "      <td>bk</td>\n",
       "      <td>020053</td>\n",
       "    </tr>\n",
       "    <tr>\n",
       "      <th>117038</th>\n",
       "      <td>bk020053</td>\n",
       "      <td>bk</td>\n",
       "      <td>020053</td>\n",
       "    </tr>\n",
       "    <tr>\n",
       "      <th>99691</th>\n",
       "      <td>bk020053</td>\n",
       "      <td>bk</td>\n",
       "      <td>020053</td>\n",
       "    </tr>\n",
       "    <tr>\n",
       "      <th>138152</th>\n",
       "      <td>bk020053</td>\n",
       "      <td>bk</td>\n",
       "      <td>020053</td>\n",
       "    </tr>\n",
       "    <tr>\n",
       "      <th>72871</th>\n",
       "      <td>cl010000</td>\n",
       "      <td>cl</td>\n",
       "      <td>010000</td>\n",
       "    </tr>\n",
       "    <tr>\n",
       "      <th>7078</th>\n",
       "      <td>bk020000</td>\n",
       "      <td>bk</td>\n",
       "      <td>020000</td>\n",
       "    </tr>\n",
       "    <tr>\n",
       "      <th>53704</th>\n",
       "      <td>bk020000</td>\n",
       "      <td>bk</td>\n",
       "      <td>020000</td>\n",
       "    </tr>\n",
       "    <tr>\n",
       "      <th>77355</th>\n",
       "      <td>cl010000</td>\n",
       "      <td>cl</td>\n",
       "      <td>010000</td>\n",
       "    </tr>\n",
       "  </tbody>\n",
       "</table>\n",
       "</div>"
      ],
      "text/plain": [
       "          format format_prefix format_postfix\n",
       "94048   bk020000            bk         020000\n",
       "29348   bk020000            bk         020000\n",
       "88511   bk020053            bk         020053\n",
       "115049  bk020000            bk         020000\n",
       "71836   bk020000            bk         020000\n",
       "140912  bk020000            bk         020000\n",
       "103216  bk020800            bk         020800\n",
       "32947   bk020053            bk         020053\n",
       "117038  bk020053            bk         020053\n",
       "99691   bk020053            bk         020053\n",
       "138152  bk020053            bk         020053\n",
       "72871   cl010000            cl         010000\n",
       "7078    bk020000            bk         020000\n",
       "53704   bk020000            bk         020000\n",
       "77355   cl010000            cl         010000"
      ]
     },
     "execution_count": 93,
     "metadata": {},
     "output_type": "execute_result"
    }
   ],
   "source": [
    "df['format_prefix'] = df.format.str[:2]\n",
    "df.format_prefix[df['format_prefix']==''] = '  '\n",
    "df['format_postfix'] = df.format.str[2:8]\n",
    "df.format_postfix[df['format_postfix']==''] = '      '\n",
    "df[['format', 'format_prefix', 'format_postfix']].sample(n=15)"
   ]
  },
  {
   "cell_type": "markdown",
   "metadata": {},
   "source": [
    "This preprocessing step has been implemented in a separate function $\\texttt{.split}\\_\\texttt{format()}$ which can be found in code file [data_preparation_funcs.py](./data_preparation_funcs.py)"
   ]
  },
  {
   "cell_type": "code",
   "execution_count": 94,
   "metadata": {},
   "outputs": [],
   "source": [
    "columns_metadata_dict['data_analysis_columns'].append('format_prefix')\n",
    "columns_metadata_dict['data_analysis_columns'].append('format_postfix')"
   ]
  },
  {
   "cell_type": "markdown",
   "metadata": {},
   "source": [
    "### isbn"
   ]
  },
  {
   "cell_type": "code",
   "execution_count": 95,
   "metadata": {},
   "outputs": [],
   "source": [
    "columns_metadata_dict['list_columns'].append('isbn')"
   ]
  },
  {
   "cell_type": "code",
   "execution_count": 96,
   "metadata": {},
   "outputs": [
    {
     "name": "stdout",
     "output_type": "stream",
     "text": [
      "Number of records with filled isbn 80688, with missing isbn 102719 => 44.0%\n"
     ]
    }
   ],
   "source": [
    "daf.find_empty_in_column(df, columns_metadata_dict, 'isbn')"
   ]
  },
  {
   "cell_type": "markdown",
   "metadata": {},
   "source": [
    "Attribute $\\texttt{isbn}$ holds two different kinds of information, the ISBN or the ISSN of a bibliographic unit. The ISBN is the identifier for monographs, while the ISSN identifies periodicals. An ISBN is either of length 10 or of length 13, an ISSN is of length 8. Due to this length attribution, it is not relevant whether the field holds an ISBN or an ISSN."
   ]
  },
  {
   "cell_type": "code",
   "execution_count": 97,
   "metadata": {},
   "outputs": [
    {
     "data": {
      "text/plain": [
       "78593     [978-3-319-77472-5]\n",
       "169617        [0-87322-075-7]\n",
       "87520     [978-1-5106-2115-2]\n",
       "24244             [1179-2000]\n",
       "134290    [978-1-78536-986-5]\n",
       "181747    [978-3-319-98243-4]\n",
       "138953        [87-421-0036-4]\n",
       "59827     [978-607-7562-15-3]\n",
       "52142     [978-3-319-89698-4]\n",
       "182666    [978-3-319-95237-6]\n",
       "37703     [978-0-231-54338-5]\n",
       "115998    [978-2-266-25445-8]\n",
       "75625             [2352-619X]\n",
       "65943         [2-07-036672-3]\n",
       "8236      [978-3-8458-2135-1]\n",
       "56677     [978-0-691-15051-2]\n",
       "113945    [978-88-329-6014-3]\n",
       "124172    [978-3-922909-80-4]\n",
       "132850    [978-3-7705-6164-3]\n",
       "99642     [978-3-7373-7073-8]\n",
       "Name: isbn, dtype: object"
      ]
     },
     "execution_count": 97,
     "metadata": {},
     "output_type": "execute_result"
    }
   ],
   "source": [
    "df.isbn[df.isbn.apply(lambda x : len(x)==1 )].sample(n=20)"
   ]
  },
  {
   "cell_type": "markdown",
   "metadata": {},
   "source": [
    "The attribute is a list of string elements. Some samples with exactly one string element are shown above, some samples with more than one string element are shown below."
   ]
  },
  {
   "cell_type": "code",
   "execution_count": 98,
   "metadata": {},
   "outputs": [
    {
     "data": {
      "text/plain": [
       "131388    [978-1-84457-434-6 (pbk.), 1-84457-434-2 (pbk....\n",
       "81733                    [81-7702-005-6, 978-81-7702-005-2]\n",
       "132843                   [978-3-16-156880-0, 3-16-156880-X]\n",
       "40668     [978-3-11-010960-3, 3-11-010960-3 (Trade Cloth...\n",
       "81358                    [81-7702-005-6, 978-81-7702-005-2]\n",
       "124867                   [978-94-92881-27-4, 94-92881-27-6]\n",
       "79399                    [978-3-7639-6015-6, 3-7639-6015-5]\n",
       "146684               [978-1-138-47793-3, 978-1-351-10381-7]\n",
       "40464        [978-0-674-42894-2 (print), 978-0-674-42895-9]\n",
       "105416                   [978-1-5417-7385-1, 1-5417-7385-3]\n",
       "87813                        [0-85303-488-5, 0-85303-489-3]\n",
       "45381                    [978-3-8260-6188-2, 3-8260-6188-8]\n",
       "89584                    [978-3-11-125255-1, 3-11-125255-8]\n",
       "86307                    [978-963-324-598-9, 963-324-598-2]\n",
       "25317                    [978-3-8448-0635-9, 3-8448-0635-0]\n",
       "33638     [1-68325-600-X, 1-68325-601-8, 1-78525-069-8, ...\n",
       "117421       [978-90-8964-781-8, 978-90-485-2582-9 (ebook)]\n",
       "124093                   [978-1-259-59534-9, 1-259-59534-X]\n",
       "82384                    [978-91-7910-666-9, 91-7910-666-8]\n",
       "122520                   [5-7281-0401-0, 978-5-7281-0401-8]\n",
       "Name: isbn, dtype: object"
      ]
     },
     "execution_count": 98,
     "metadata": {},
     "output_type": "execute_result"
    }
   ],
   "source": [
    "df.isbn[df.isbn.apply(lambda x : len(x)>1 )].sample(n=20)"
   ]
  },
  {
   "cell_type": "code",
   "execution_count": 99,
   "metadata": {},
   "outputs": [
    {
     "name": "stdout",
     "output_type": "stream",
     "text": [
      "80,688 records hold 1 list element(s).\n",
      "29,073 records hold 2 list element(s).\n",
      "3,762 records hold 3 list element(s).\n",
      "2,331 records hold 4 list element(s).\n",
      "519 records hold 5 list element(s).\n",
      "398 records hold 6 list element(s).\n",
      "173 records hold 7 list element(s).\n",
      "156 records hold 8 list element(s).\n",
      "84 records hold 9 list element(s).\n",
      "76 records hold 10 list element(s).\n",
      "51 records hold 11 list element(s).\n",
      "43 records hold 12 list element(s).\n",
      "29 records hold 13 list element(s).\n",
      "26 records hold 14 list element(s).\n",
      "19 records hold 15 list element(s).\n",
      "18 records hold 16 list element(s).\n",
      "10 records hold 17 list element(s).\n",
      "9 records hold 18 list element(s).\n",
      "8 records hold 19 list element(s).\n",
      "7 records hold 20 list element(s).\n",
      "7 records hold 21 list element(s).\n",
      "7 records hold 22 list element(s).\n",
      "7 records hold 23 list element(s).\n",
      "7 records hold 24 list element(s).\n",
      "5 records hold 25 list element(s).\n",
      "4 records hold 26 list element(s).\n",
      "3 records hold 27 list element(s).\n",
      "3 records hold 28 list element(s).\n",
      "3 records hold 29 list element(s).\n",
      "3 records hold 30 list element(s).\n",
      "1 records hold 31 list element(s).\n",
      "1 records hold 32 list element(s).\n",
      "1 records hold 33 list element(s).\n",
      "1 records hold 34 list element(s).\n",
      "1 records hold 35 list element(s).\n",
      "1 records hold 36 list element(s).\n",
      "1 records hold 37 list element(s).\n",
      "1 records hold 38 list element(s).\n",
      "1 records hold 39 list element(s).\n",
      "1 records hold 40 list element(s).\n",
      "1 records hold 41 list element(s).\n",
      "1 records hold 42 list element(s).\n",
      "=> Maximum number of list elements 42\n"
     ]
    }
   ],
   "source": [
    "i = 0\n",
    "while len(df.isbn[df.isbn.apply(lambda x : len(x))>i]) > 0 :\n",
    "    i = i+1\n",
    "    print('{:,d} records hold {:d} list element(s).'.format(\n",
    "        len(df.isbn[df.isbn.apply(lambda x : len(x))>=i]), i))\n",
    "        \n",
    "print('=> Maximum number of list elements', max(df.isbn.apply(lambda x : len(x))))"
   ]
  },
  {
   "cell_type": "code",
   "execution_count": 100,
   "metadata": {},
   "outputs": [
    {
     "data": {
      "text/plain": [
       "42"
      ]
     },
     "execution_count": 100,
     "metadata": {},
     "output_type": "execute_result"
    }
   ],
   "source": [
    "max(df.isbn.apply(lambda x : len(x)))"
   ]
  },
  {
   "cell_type": "code",
   "execution_count": 101,
   "metadata": {},
   "outputs": [
    {
     "data": {
      "text/plain": [
       "39158     [978-3-11-044748-4, 3-11-044748-7, 978-3-11-04...\n",
       "171752    [978-1-138-22865-8, 1-138-22865-6, 978-1-138-2...\n",
       "148140    [978-1-4742-3212-8, 1-4742-3212-4, 978-1-4742-...\n",
       "58959     [978-5-4224-1204-4, 5-4224-1204-4, 978-5-4224-...\n",
       "126999    [978-1-315-60322-3, 1-315-60322-5, 0-7546-7843...\n",
       "28221     [978-3-7910-2601-5, 978-3-7910-2602-2, 978-3-7...\n",
       "28023     [3-209-00798-5, 3-209-00858-2, 3-209-02692-0, ...\n",
       "11393     [3-551-74191-3, 3-551-74192-1, 3-551-74193-X, ...\n",
       "30782     [978-0-19-438433-9, 0-19-438433-0, 978-0-19-43...\n",
       "16986     [978-3-7643-5515-9, 3-7643-5515-8, 978-3-7643-...\n",
       "Name: isbn, dtype: object"
      ]
     },
     "execution_count": 101,
     "metadata": {},
     "output_type": "execute_result"
    }
   ],
   "source": [
    "df.isbn[df.isbn.apply(lambda x : len(x))>10].sample(n=10)"
   ]
  },
  {
   "cell_type": "markdown",
   "metadata": {},
   "source": [
    "Attribute $\\texttt{isbn}$ is taken to further processing as the list of string elements with their values as they are."
   ]
  },
  {
   "cell_type": "code",
   "execution_count": 102,
   "metadata": {},
   "outputs": [],
   "source": [
    "columns_metadata_dict['data_analysis_columns'].append('isbn')"
   ]
  },
  {
   "cell_type": "markdown",
   "metadata": {},
   "source": [
    "### ismn"
   ]
  },
  {
   "cell_type": "code",
   "execution_count": 103,
   "metadata": {},
   "outputs": [],
   "source": [
    "columns_metadata_dict['list_columns'].append('ismn')"
   ]
  },
  {
   "cell_type": "code",
   "execution_count": 104,
   "metadata": {},
   "outputs": [
    {
     "name": "stdout",
     "output_type": "stream",
     "text": [
      "Number of records with filled ismn 10114, with missing ismn 173293 => 5.5%\n"
     ]
    }
   ],
   "source": [
    "daf.find_empty_in_column(df, columns_metadata_dict, 'ismn')"
   ]
  },
  {
   "cell_type": "markdown",
   "metadata": {},
   "source": [
    "Attribute $\\texttt{ismn}$ holds the same data like attribute $\\texttt{doi}$ [[FeatWiki](./A_References.ipynb#feature_deduplication_wiki)]."
   ]
  },
  {
   "cell_type": "code",
   "execution_count": 105,
   "metadata": {},
   "outputs": [
    {
     "data": {
      "text/html": [
       "<div>\n",
       "<style scoped>\n",
       "    .dataframe tbody tr th:only-of-type {\n",
       "        vertical-align: middle;\n",
       "    }\n",
       "\n",
       "    .dataframe tbody tr th {\n",
       "        vertical-align: top;\n",
       "    }\n",
       "\n",
       "    .dataframe thead th {\n",
       "        text-align: right;\n",
       "    }\n",
       "</style>\n",
       "<table border=\"1\" class=\"dataframe\">\n",
       "  <thead>\n",
       "    <tr style=\"text-align: right;\">\n",
       "      <th></th>\n",
       "      <th>docid</th>\n",
       "      <th>035liste</th>\n",
       "      <th>isbn</th>\n",
       "      <th>ttlfull</th>\n",
       "      <th>ttlpart</th>\n",
       "      <th>person</th>\n",
       "      <th>corporate</th>\n",
       "      <th>pubyear</th>\n",
       "      <th>decade</th>\n",
       "      <th>century</th>\n",
       "      <th>exactDate</th>\n",
       "      <th>...</th>\n",
       "      <th>ismn</th>\n",
       "      <th>musicid</th>\n",
       "      <th>format</th>\n",
       "      <th>coordinate_E</th>\n",
       "      <th>coordinate_N</th>\n",
       "      <th>corporate_110</th>\n",
       "      <th>corporate_710</th>\n",
       "      <th>corporate_810</th>\n",
       "      <th>corporate_full</th>\n",
       "      <th>format_prefix</th>\n",
       "      <th>format_postfix</th>\n",
       "    </tr>\n",
       "  </thead>\n",
       "  <tbody>\n",
       "    <tr>\n",
       "      <th>0</th>\n",
       "      <td>554061449</td>\n",
       "      <td>[(OCoLC)1085491204, (IDSBB)006899773]</td>\n",
       "      <td>[]</td>\n",
       "      <td>{'245': ['Die Feist von Kienberg', 'eine Wasen...</td>\n",
       "      <td>{'245': ['Die Feist von Kienberg', 'eine Wasen...</td>\n",
       "      <td>{'100': ['SchluchterAndré'], '245c': ['André S...</td>\n",
       "      <td>{}</td>\n",
       "      <td>1992</td>\n",
       "      <td>1992</td>\n",
       "      <td>1992</td>\n",
       "      <td>1992uuuu</td>\n",
       "      <td>...</td>\n",
       "      <td>[]</td>\n",
       "      <td></td>\n",
       "      <td>bk020000</td>\n",
       "      <td></td>\n",
       "      <td></td>\n",
       "      <td></td>\n",
       "      <td></td>\n",
       "      <td></td>\n",
       "      <td></td>\n",
       "      <td>bk</td>\n",
       "      <td>020000</td>\n",
       "    </tr>\n",
       "    <tr>\n",
       "      <th>1</th>\n",
       "      <td>554061481</td>\n",
       "      <td>[(OCoLC)1085491341, (IDSBB)006899983]</td>\n",
       "      <td>[]</td>\n",
       "      <td>{'245': ['Reimereien']}</td>\n",
       "      <td>{'245': ['Reimereien']}</td>\n",
       "      <td>{'100': ['NaegeliWerner'], '245c': ['von Werne...</td>\n",
       "      <td>{}</td>\n",
       "      <td>1986</td>\n",
       "      <td>1986</td>\n",
       "      <td>1986</td>\n",
       "      <td>1986uuuu</td>\n",
       "      <td>...</td>\n",
       "      <td>[]</td>\n",
       "      <td></td>\n",
       "      <td>bk020000</td>\n",
       "      <td></td>\n",
       "      <td></td>\n",
       "      <td></td>\n",
       "      <td></td>\n",
       "      <td></td>\n",
       "      <td></td>\n",
       "      <td>bk</td>\n",
       "      <td>020000</td>\n",
       "    </tr>\n",
       "    <tr>\n",
       "      <th>2</th>\n",
       "      <td>554061503</td>\n",
       "      <td>[(OCoLC)1085491299, (IDSBB)006899959]</td>\n",
       "      <td>[]</td>\n",
       "      <td>{'245': ['Efficax antidotum ad matrimonia mixt...</td>\n",
       "      <td>{'245': ['Efficax antidotum ad matrimonia mixt...</td>\n",
       "      <td>{'100': ['KellyM.V.'], '700': ['GeniesseJ.B.']...</td>\n",
       "      <td>{}</td>\n",
       "      <td>1923</td>\n",
       "      <td>1923</td>\n",
       "      <td>1923</td>\n",
       "      <td>1923uuuu</td>\n",
       "      <td>...</td>\n",
       "      <td>[]</td>\n",
       "      <td></td>\n",
       "      <td>bk020000</td>\n",
       "      <td></td>\n",
       "      <td></td>\n",
       "      <td></td>\n",
       "      <td></td>\n",
       "      <td></td>\n",
       "      <td></td>\n",
       "      <td>bk</td>\n",
       "      <td>020000</td>\n",
       "    </tr>\n",
       "    <tr>\n",
       "      <th>3</th>\n",
       "      <td>554061511</td>\n",
       "      <td>[(OCoLC)1085491268, (IDSBB)006896614]</td>\n",
       "      <td>[]</td>\n",
       "      <td>{'245': ['Probleme der Inflationsbekämpfung', ...</td>\n",
       "      <td>{'245': ['Probleme der Inflationsbekämpfung', ...</td>\n",
       "      <td>{'100': ['WegelinWalter'], '245c': ['']}</td>\n",
       "      <td>{}</td>\n",
       "      <td>1947</td>\n",
       "      <td>1947</td>\n",
       "      <td>1947</td>\n",
       "      <td>1947uuuu</td>\n",
       "      <td>...</td>\n",
       "      <td>[]</td>\n",
       "      <td></td>\n",
       "      <td>bk020000</td>\n",
       "      <td></td>\n",
       "      <td></td>\n",
       "      <td></td>\n",
       "      <td></td>\n",
       "      <td></td>\n",
       "      <td></td>\n",
       "      <td>bk</td>\n",
       "      <td>020000</td>\n",
       "    </tr>\n",
       "    <tr>\n",
       "      <th>4</th>\n",
       "      <td>55406152X</td>\n",
       "      <td>[(OCoLC)1085491079, (IDSBB)006896866]</td>\n",
       "      <td>[]</td>\n",
       "      <td>{'245': ['[Poems]']}</td>\n",
       "      <td>{'245': ['[Poems]']}</td>\n",
       "      <td>{'100': ['OberlinUrs'], '245c': ['Urs Oberlin ...</td>\n",
       "      <td>{}</td>\n",
       "      <td>1991</td>\n",
       "      <td>1991</td>\n",
       "      <td>1991</td>\n",
       "      <td>1991uuuu</td>\n",
       "      <td>...</td>\n",
       "      <td>[]</td>\n",
       "      <td></td>\n",
       "      <td>bk020000</td>\n",
       "      <td></td>\n",
       "      <td></td>\n",
       "      <td></td>\n",
       "      <td></td>\n",
       "      <td></td>\n",
       "      <td></td>\n",
       "      <td>bk</td>\n",
       "      <td>020000</td>\n",
       "    </tr>\n",
       "    <tr>\n",
       "      <th>...</th>\n",
       "      <td>...</td>\n",
       "      <td>...</td>\n",
       "      <td>...</td>\n",
       "      <td>...</td>\n",
       "      <td>...</td>\n",
       "      <td>...</td>\n",
       "      <td>...</td>\n",
       "      <td>...</td>\n",
       "      <td>...</td>\n",
       "      <td>...</td>\n",
       "      <td>...</td>\n",
       "      <td>...</td>\n",
       "      <td>...</td>\n",
       "      <td>...</td>\n",
       "      <td>...</td>\n",
       "      <td>...</td>\n",
       "      <td>...</td>\n",
       "      <td>...</td>\n",
       "      <td>...</td>\n",
       "      <td>...</td>\n",
       "      <td>...</td>\n",
       "      <td>...</td>\n",
       "      <td>...</td>\n",
       "    </tr>\n",
       "    <tr>\n",
       "      <th>183402</th>\n",
       "      <td>556988922</td>\n",
       "      <td>[(OCoLC)1083973002, (NEBIS)011374206]</td>\n",
       "      <td>[978-3-319-99217-4]</td>\n",
       "      <td>{'245': ['Great Moments in the History of Life']}</td>\n",
       "      <td>{'245': ['Great Moments in the History of Life']}</td>\n",
       "      <td>{'100': ['ShawGeorge H.Verfasserautauthttp://i...</td>\n",
       "      <td>{}</td>\n",
       "      <td>2018</td>\n",
       "      <td>2018</td>\n",
       "      <td>2018</td>\n",
       "      <td>2018uuuu</td>\n",
       "      <td>...</td>\n",
       "      <td>[]</td>\n",
       "      <td></td>\n",
       "      <td>bk020053</td>\n",
       "      <td></td>\n",
       "      <td></td>\n",
       "      <td></td>\n",
       "      <td></td>\n",
       "      <td></td>\n",
       "      <td></td>\n",
       "      <td>bk</td>\n",
       "      <td>020053</td>\n",
       "    </tr>\n",
       "    <tr>\n",
       "      <th>183403</th>\n",
       "      <td>556988930</td>\n",
       "      <td>[(OCoLC)1081363098, (NEBIS)011374477]</td>\n",
       "      <td>[978-3-662-58485-9]</td>\n",
       "      <td>{'245': ['Machine Learning for Cyber Physical ...</td>\n",
       "      <td>{'245': ['Machine Learning for Cyber Physical ...</td>\n",
       "      <td>{'100': [], '700': ['BeyererJürgenHerausgebere...</td>\n",
       "      <td>{}</td>\n",
       "      <td>2019</td>\n",
       "      <td>2019</td>\n",
       "      <td>2019</td>\n",
       "      <td>2019uuuu</td>\n",
       "      <td>...</td>\n",
       "      <td>[]</td>\n",
       "      <td></td>\n",
       "      <td>bk020053</td>\n",
       "      <td></td>\n",
       "      <td></td>\n",
       "      <td></td>\n",
       "      <td></td>\n",
       "      <td></td>\n",
       "      <td></td>\n",
       "      <td>bk</td>\n",
       "      <td>020053</td>\n",
       "    </tr>\n",
       "    <tr>\n",
       "      <th>183404</th>\n",
       "      <td>556988949</td>\n",
       "      <td>[(OCoLC)1089721912, (NEBIS)011374010]</td>\n",
       "      <td>[]</td>\n",
       "      <td>{'245': ['Die neolithische Höhensiedlung \"Abri...</td>\n",
       "      <td>{'245': ['Die neolithische Höhensiedlung \"Abri...</td>\n",
       "      <td>{'100': ['AmreinWilhelm1872-1946(DE-588)116302...</td>\n",
       "      <td>{}</td>\n",
       "      <td>1930</td>\n",
       "      <td>1930</td>\n",
       "      <td>1930</td>\n",
       "      <td>1930uuuu</td>\n",
       "      <td>...</td>\n",
       "      <td>[]</td>\n",
       "      <td></td>\n",
       "      <td>bk010000</td>\n",
       "      <td></td>\n",
       "      <td></td>\n",
       "      <td></td>\n",
       "      <td></td>\n",
       "      <td></td>\n",
       "      <td></td>\n",
       "      <td>bk</td>\n",
       "      <td>010000</td>\n",
       "    </tr>\n",
       "    <tr>\n",
       "      <th>183405</th>\n",
       "      <td>556988965</td>\n",
       "      <td>[(OCoLC)883819333, (NEBIS)008354642]</td>\n",
       "      <td>[3-931793-24-9]</td>\n",
       "      <td>{'245': ['Igel Total']}</td>\n",
       "      <td>{'245': ['Igel Total']}</td>\n",
       "      <td>{'100': ['BachMeike'], '245c': ['Idee &amp; Ill. M...</td>\n",
       "      <td>{}</td>\n",
       "      <td>2000</td>\n",
       "      <td>2000</td>\n",
       "      <td>2000</td>\n",
       "      <td>2000uuuu</td>\n",
       "      <td>...</td>\n",
       "      <td>[]</td>\n",
       "      <td></td>\n",
       "      <td>bk020000</td>\n",
       "      <td></td>\n",
       "      <td></td>\n",
       "      <td></td>\n",
       "      <td></td>\n",
       "      <td></td>\n",
       "      <td></td>\n",
       "      <td>bk</td>\n",
       "      <td>020000</td>\n",
       "    </tr>\n",
       "    <tr>\n",
       "      <th>183406</th>\n",
       "      <td>556988973</td>\n",
       "      <td>[(OCoLC)1083948806, (NEBIS)011374205]</td>\n",
       "      <td>[978-3-319-97553-5]</td>\n",
       "      <td>{'245': ['Proceeding of the 2nd International ...</td>\n",
       "      <td>{'245': ['Proceeding of the 2nd International ...</td>\n",
       "      <td>{'100': [], '700': ['SukartikoAnggoro CahyoHer...</td>\n",
       "      <td>{}</td>\n",
       "      <td>2018</td>\n",
       "      <td>2018</td>\n",
       "      <td>2018</td>\n",
       "      <td>2018uuuu</td>\n",
       "      <td>...</td>\n",
       "      <td>[]</td>\n",
       "      <td></td>\n",
       "      <td>bk020053</td>\n",
       "      <td></td>\n",
       "      <td></td>\n",
       "      <td></td>\n",
       "      <td></td>\n",
       "      <td></td>\n",
       "      <td></td>\n",
       "      <td>bk</td>\n",
       "      <td>020053</td>\n",
       "    </tr>\n",
       "  </tbody>\n",
       "</table>\n",
       "<p>183407 rows × 31 columns</p>\n",
       "</div>"
      ],
      "text/plain": [
       "            docid                               035liste                 isbn  \\\n",
       "0       554061449  [(OCoLC)1085491204, (IDSBB)006899773]                   []   \n",
       "1       554061481  [(OCoLC)1085491341, (IDSBB)006899983]                   []   \n",
       "2       554061503  [(OCoLC)1085491299, (IDSBB)006899959]                   []   \n",
       "3       554061511  [(OCoLC)1085491268, (IDSBB)006896614]                   []   \n",
       "4       55406152X  [(OCoLC)1085491079, (IDSBB)006896866]                   []   \n",
       "...           ...                                    ...                  ...   \n",
       "183402  556988922  [(OCoLC)1083973002, (NEBIS)011374206]  [978-3-319-99217-4]   \n",
       "183403  556988930  [(OCoLC)1081363098, (NEBIS)011374477]  [978-3-662-58485-9]   \n",
       "183404  556988949  [(OCoLC)1089721912, (NEBIS)011374010]                   []   \n",
       "183405  556988965   [(OCoLC)883819333, (NEBIS)008354642]      [3-931793-24-9]   \n",
       "183406  556988973  [(OCoLC)1083948806, (NEBIS)011374205]  [978-3-319-97553-5]   \n",
       "\n",
       "                                                  ttlfull  \\\n",
       "0       {'245': ['Die Feist von Kienberg', 'eine Wasen...   \n",
       "1                                 {'245': ['Reimereien']}   \n",
       "2       {'245': ['Efficax antidotum ad matrimonia mixt...   \n",
       "3       {'245': ['Probleme der Inflationsbekämpfung', ...   \n",
       "4                                    {'245': ['[Poems]']}   \n",
       "...                                                   ...   \n",
       "183402  {'245': ['Great Moments in the History of Life']}   \n",
       "183403  {'245': ['Machine Learning for Cyber Physical ...   \n",
       "183404  {'245': ['Die neolithische Höhensiedlung \"Abri...   \n",
       "183405                            {'245': ['Igel Total']}   \n",
       "183406  {'245': ['Proceeding of the 2nd International ...   \n",
       "\n",
       "                                                  ttlpart  \\\n",
       "0       {'245': ['Die Feist von Kienberg', 'eine Wasen...   \n",
       "1                                 {'245': ['Reimereien']}   \n",
       "2       {'245': ['Efficax antidotum ad matrimonia mixt...   \n",
       "3       {'245': ['Probleme der Inflationsbekämpfung', ...   \n",
       "4                                    {'245': ['[Poems]']}   \n",
       "...                                                   ...   \n",
       "183402  {'245': ['Great Moments in the History of Life']}   \n",
       "183403  {'245': ['Machine Learning for Cyber Physical ...   \n",
       "183404  {'245': ['Die neolithische Höhensiedlung \"Abri...   \n",
       "183405                            {'245': ['Igel Total']}   \n",
       "183406  {'245': ['Proceeding of the 2nd International ...   \n",
       "\n",
       "                                                   person corporate   pubyear  \\\n",
       "0       {'100': ['SchluchterAndré'], '245c': ['André S...        {}  1992       \n",
       "1       {'100': ['NaegeliWerner'], '245c': ['von Werne...        {}  1986       \n",
       "2       {'100': ['KellyM.V.'], '700': ['GeniesseJ.B.']...        {}  1923       \n",
       "3                {'100': ['WegelinWalter'], '245c': ['']}        {}  1947       \n",
       "4       {'100': ['OberlinUrs'], '245c': ['Urs Oberlin ...        {}  1991       \n",
       "...                                                   ...       ...       ...   \n",
       "183402  {'100': ['ShawGeorge H.Verfasserautauthttp://i...        {}  2018       \n",
       "183403  {'100': [], '700': ['BeyererJürgenHerausgebere...        {}  2019       \n",
       "183404  {'100': ['AmreinWilhelm1872-1946(DE-588)116302...        {}  1930       \n",
       "183405  {'100': ['BachMeike'], '245c': ['Idee & Ill. M...        {}  2000       \n",
       "183406  {'100': [], '700': ['SukartikoAnggoro CahyoHer...        {}  2018       \n",
       "\n",
       "       decade century exactDate  ... ismn musicid    format coordinate_E  \\\n",
       "0        1992    1992  1992uuuu  ...   []          bk020000                \n",
       "1        1986    1986  1986uuuu  ...   []          bk020000                \n",
       "2        1923    1923  1923uuuu  ...   []          bk020000                \n",
       "3        1947    1947  1947uuuu  ...   []          bk020000                \n",
       "4        1991    1991  1991uuuu  ...   []          bk020000                \n",
       "...       ...     ...       ...  ...  ...     ...       ...          ...   \n",
       "183402   2018    2018  2018uuuu  ...   []          bk020053                \n",
       "183403   2019    2019  2019uuuu  ...   []          bk020053                \n",
       "183404   1930    1930  1930uuuu  ...   []          bk010000                \n",
       "183405   2000    2000  2000uuuu  ...   []          bk020000                \n",
       "183406   2018    2018  2018uuuu  ...   []          bk020053                \n",
       "\n",
       "       coordinate_N corporate_110 corporate_710 corporate_810 corporate_full  \\\n",
       "0                                                                              \n",
       "1                                                                              \n",
       "2                                                                              \n",
       "3                                                                              \n",
       "4                                                                              \n",
       "...             ...           ...           ...           ...            ...   \n",
       "183402                                                                         \n",
       "183403                                                                         \n",
       "183404                                                                         \n",
       "183405                                                                         \n",
       "183406                                                                         \n",
       "\n",
       "       format_prefix format_postfix  \n",
       "0                 bk         020000  \n",
       "1                 bk         020000  \n",
       "2                 bk         020000  \n",
       "3                 bk         020000  \n",
       "4                 bk         020000  \n",
       "...              ...            ...  \n",
       "183402            bk         020053  \n",
       "183403            bk         020053  \n",
       "183404            bk         010000  \n",
       "183405            bk         020000  \n",
       "183406            bk         020053  \n",
       "\n",
       "[183407 rows x 31 columns]"
      ]
     },
     "execution_count": 105,
     "metadata": {},
     "output_type": "execute_result"
    }
   ],
   "source": [
    "df[df.doi != df.ismn]"
   ]
  },
  {
   "cell_type": "code",
   "execution_count": 106,
   "metadata": {
    "scrolled": true
   },
   "outputs": [
    {
     "name": "stdout",
     "output_type": "stream",
     "text": [
      "10,114 records hold 1 list element(s).\n",
      "2,312 records hold 2 list element(s).\n",
      "13 records hold 3 list element(s).\n",
      "11 records hold 4 list element(s).\n",
      "1 records hold 5 list element(s).\n",
      "=> Maximum number of list elements 5\n"
     ]
    }
   ],
   "source": [
    "i = 0\n",
    "while len(df.ismn[df.ismn.apply(lambda x : len(x))>i]) > 0 :\n",
    "    i = i+1\n",
    "    print('{:,d} records hold {:d} list element(s).'.format(\n",
    "        len(df.ismn[df.ismn.apply(lambda x : len(x))>=i]), i))\n",
    "        \n",
    "print('=> Maximum number of list elements', max(df.ismn.apply(lambda x : len(x))))"
   ]
  },
  {
   "cell_type": "code",
   "execution_count": 107,
   "metadata": {},
   "outputs": [
    {
     "data": {
      "text/plain": [
       "24866    [oai:serval.unil.ch:BIB_48517DE762D2, urn:nbn:...\n",
       "34755    [10.5451/unibas-006838498, urn:nbn:ch:bel-bau-...\n",
       "34758    [10.5451/unibas-006836804, urn:nbn:ch:bel-bau-...\n",
       "34814    [10.5451/unibas-006837535, urn:nbn:ch:bel-bau-...\n",
       "34833    [10.5451/unibas-006844191, urn:nbn:ch:bel-bau-...\n",
       "Name: ismn, dtype: object"
      ]
     },
     "execution_count": 107,
     "metadata": {},
     "output_type": "execute_result"
    }
   ],
   "source": [
    "df.ismn[df.ismn.apply(lambda x : len(x))>2].head()"
   ]
  },
  {
   "cell_type": "markdown",
   "metadata": {},
   "source": [
    "Analogous to attribute $\\texttt{doi}$, Swissbib's deduplication implementation compares only real ismn identifiers [[WiCo2001](./A_References.ipynb#wico2001)]. Real ismn numbers can be identified by a subfield that is missing in Swissbib's data extract [[SwRe](./A_References.ipynb#swre)]. Alternatively, a real ismn number can be identified as a number starting with a letter 'm' (or 'M') or with the three number digits '979'. Each row in the data has a maximum of 1 real ismn identifyer [[WiCo2001](./A_References.ipynb#wico2001)]."
   ]
  },
  {
   "cell_type": "code",
   "execution_count": 108,
   "metadata": {},
   "outputs": [
    {
     "data": {
      "text/plain": [
       "24216                                          m205420079\n",
       "24226                                          m205418410\n",
       "123477    10.3929/ethz-b-000327849, 10.3390/polym11020376\n",
       "Name: ismn, dtype: object"
      ]
     },
     "execution_count": 108,
     "metadata": {},
     "output_type": "execute_result"
    }
   ],
   "source": [
    "df_temp = dpf.transform_list_to_string(df.copy(), 'ismn')\n",
    "df_temp.ismn[df_temp.ismn.str.contains('m[0-9]{8}', na=False, regex=True)]"
   ]
  },
  {
   "cell_type": "markdown",
   "metadata": {},
   "source": [
    "Analogous to attribute $\\texttt{doi}$, a function $\\texttt{.reduce}\\_\\texttt{to}\\_\\texttt{ismn}\\_\\texttt{element()}$ has been implemented that takes care of the isolation of the ismn identifier and stores only real ismn identifiers in attribute $\\texttt{ismn}$."
   ]
  },
  {
   "cell_type": "code",
   "execution_count": 109,
   "metadata": {
    "scrolled": false
   },
   "outputs": [
    {
     "data": {
      "text/plain": [
       "19713     9790046306525\n",
       "22734     9790230985758\n",
       "24216        M205420079\n",
       "24226        M205418410\n",
       "24227     9790010402901\n",
       "121796    9790230989862\n",
       "Name: ismn, dtype: object"
      ]
     },
     "execution_count": 109,
     "metadata": {},
     "output_type": "execute_result"
    }
   ],
   "source": [
    "df = dpf.reduce_to_ismn_element(df)\n",
    "df.ismn[df.ismn.apply(lambda x : len(x))>0]"
   ]
  },
  {
   "cell_type": "markdown",
   "metadata": {},
   "source": [
    "Unfortunately, the number of rows with a real ismn identifyer is vanishingly small. Attribute $\\texttt{ismn}$ will be handed over further processing in its preprocessed manner but the occurrence will have to be observed in chapter [Goldstandard and Data Preparation](./2_GoldstandardDataPreparation.ipynb)."
   ]
  },
  {
   "cell_type": "code",
   "execution_count": 110,
   "metadata": {},
   "outputs": [],
   "source": [
    "columns_metadata_dict['data_analysis_columns'].append('ismn')"
   ]
  },
  {
   "cell_type": "markdown",
   "metadata": {},
   "source": [
    "### musicid"
   ]
  },
  {
   "cell_type": "code",
   "execution_count": 111,
   "metadata": {},
   "outputs": [],
   "source": [
    "columns_metadata_dict['strings_columns'].append('musicid')"
   ]
  },
  {
   "cell_type": "code",
   "execution_count": 112,
   "metadata": {},
   "outputs": [
    {
     "name": "stdout",
     "output_type": "stream",
     "text": [
      "Number of records with filled musicid 13502, with missing musicid 169905 => 7.4%\n"
     ]
    }
   ],
   "source": [
    "daf.find_empty_in_column(df, columns_metadata_dict, 'musicid')"
   ]
  },
  {
   "cell_type": "markdown",
   "metadata": {},
   "source": [
    "Attribute $\\texttt{musicid}$ is a publisher's number identifying sound carriers, books with music notes, and movies of a music record [[WiCo2001](./A_References.ipynb#wico2001)]. Some sample records are shown below."
   ]
  },
  {
   "cell_type": "code",
   "execution_count": 113,
   "metadata": {},
   "outputs": [
    {
     "name": "stdout",
     "output_type": "stream",
     "text": [
      "Number of records with ...\n",
      "... format 'mu' and with musicid : 10742\n",
      "... format 'mu' and without musicid : 3905\n",
      "... format unequal 'mu' and with musicid : 2760\n",
      "... format unequal 'mu' and without musicid : 166000\n"
     ]
    }
   ],
   "source": [
    "print('Number of records with ...')\n",
    "\n",
    "print('... format \\'mu\\' and with musicid :', \n",
    "len(df.musicid[df.format_prefix == 'mu'][\n",
    "    df.musicid[df.format_prefix == 'mu'].apply(lambda x : len(x)>0) ])\n",
    ")\n",
    "print('... format \\'mu\\' and without musicid :', \n",
    "len(df.musicid[df.format_prefix == 'mu'][\n",
    "    df.musicid[df.format_prefix == 'mu'].apply(lambda x : len(x)==0) ])\n",
    ")\n",
    "print('... format unequal \\'mu\\' and with musicid :', \n",
    "len(df.musicid[df.format_prefix != 'mu'][\n",
    "    df.musicid[df.format_prefix != 'mu'].apply(lambda x : len(x)>0) ])\n",
    ")\n",
    "print('... format unequal \\'mu\\' and without musicid :', \n",
    "len(df.musicid[df.format_prefix != 'mu'][\n",
    "    df.musicid[df.format_prefix != 'mu'].apply(lambda x : len(x)==0) ])\n",
    ")"
   ]
  },
  {
   "cell_type": "code",
   "execution_count": 114,
   "metadata": {},
   "outputs": [
    {
     "data": {
      "text/plain": [
       "vm    1432\n",
       "bk    1287\n",
       "cf      39\n",
       "mp       1\n",
       "cr       1\n",
       "Name: format_prefix, dtype: int64"
      ]
     },
     "execution_count": 114,
     "metadata": {},
     "output_type": "execute_result"
    }
   ],
   "source": [
    "df.format_prefix[df.format_prefix != 'mu'][\n",
    "    df.musicid[df.format_prefix != 'mu'].apply(lambda x : len(x)>0) ].value_counts()"
   ]
  },
  {
   "cell_type": "code",
   "execution_count": 115,
   "metadata": {},
   "outputs": [
    {
     "data": {
      "text/plain": [
       "4432                   7243 5 56369 2 8\n",
       "130391             Playa Sound PS 65163\n",
       "14380                       FNAC 592086\n",
       "21388                         DVfM 6406\n",
       "14862               LC 0011674321922372\n",
       "8885              Epic/Jive 88691948092\n",
       "105903          Bestellnummer: 70880745\n",
       "7784                         3145234862\n",
       "14832           Domino WIGCD307 LC10192\n",
       "93560                   Chanterelle 430\n",
       "139250                       27969 H.L.\n",
       "15086     EMI Classics 7243 5 56120 2 1\n",
       "74052                       88875061412\n",
       "54690                        XL 171 792\n",
       "50156                       Tudor 76538\n",
       "25828                           5932529\n",
       "8375                            WCD 024\n",
       "116659          Bestellnummer: 86245720\n",
       "14318                  Apache 242 096-2\n",
       "144028          Bestellnummer: Spirit07\n",
       "Name: musicid, dtype: object"
      ]
     },
     "execution_count": 115,
     "metadata": {},
     "output_type": "execute_result"
    }
   ],
   "source": [
    "musicid_sample_index = df.musicid[df.musicid.apply(lambda x : len(x)>0)].sample(n=20).index\n",
    "df.musicid.loc[musicid_sample_index]"
   ]
  },
  {
   "cell_type": "code",
   "execution_count": 116,
   "metadata": {},
   "outputs": [
    {
     "data": {
      "text/plain": [
       "4432                  7243\n",
       "130391               65163\n",
       "14380               592086\n",
       "21388                 6406\n",
       "14862     0011674321922372\n",
       "8885           88691948092\n",
       "105903            70880745\n",
       "7784            3145234862\n",
       "14832                  307\n",
       "93560                  430\n",
       "139250               27969\n",
       "15086                 7243\n",
       "74052          88875061412\n",
       "54690                  171\n",
       "50156                76538\n",
       "25828              5932529\n",
       "8375                   024\n",
       "116659            86245720\n",
       "14318                  242\n",
       "144028                  07\n",
       "Name: musicid, dtype: object"
      ]
     },
     "execution_count": 116,
     "metadata": {},
     "output_type": "execute_result"
    }
   ],
   "source": [
    "df = dpf.isolate_number_from_string(df, 'musicid')\n",
    "df['musicid'].loc[musicid_sample_index]"
   ]
  },
  {
   "cell_type": "markdown",
   "metadata": {},
   "source": [
    "Swissbib's deduplication logic isolates and extracts number digits out of the original string for this attribute [[WiCo2001](./A_References.ipynb#wico2001)]. This extraction of number digits will be done as well in this capstone project. For this purpose function $\\texttt{.isolate}\\_\\texttt{number}\\_\\texttt{from}\\_\\texttt{string()}$ will be used for attribute $\\texttt{musicid}$. The attribute is taken to further processing steps as is."
   ]
  },
  {
   "cell_type": "code",
   "execution_count": 117,
   "metadata": {},
   "outputs": [],
   "source": [
    "columns_metadata_dict['data_analysis_columns'].append('musicid')"
   ]
  },
  {
   "cell_type": "markdown",
   "metadata": {},
   "source": [
    "### pages"
   ]
  },
  {
   "cell_type": "code",
   "execution_count": 118,
   "metadata": {},
   "outputs": [],
   "source": [
    "columns_metadata_dict['list_columns'].append('pages')"
   ]
  },
  {
   "cell_type": "code",
   "execution_count": 119,
   "metadata": {},
   "outputs": [
    {
     "name": "stdout",
     "output_type": "stream",
     "text": [
      "Number of records with filled pages 161471, with missing pages 21936 => 88.0%\n"
     ]
    }
   ],
   "source": [
    "daf.find_empty_in_column(df, columns_metadata_dict, 'pages')"
   ]
  },
  {
   "cell_type": "markdown",
   "metadata": {},
   "source": [
    "Attribute $\\texttt{pages}$ has the same MARC 21 basis as attribute $\\texttt{volumes}$ [[FeatWiki](./A_References.ipynb/#feature_deduplication_wiki)]. In Swissbib's processing, it is used for extracting pages information out of the MARC 21 data. This extraction logic is described to be very sophisticated [[WiCo2001](./A_References.ipynb#wico2001)] and will not be reimplemented for this capstone project. The pages information is part of the information in attribute $\\texttt{volumes}$ and will therefore be dropped due to redundancy."
   ]
  },
  {
   "cell_type": "markdown",
   "metadata": {},
   "source": [
    "### part"
   ]
  },
  {
   "cell_type": "code",
   "execution_count": 120,
   "metadata": {},
   "outputs": [],
   "source": [
    "columns_metadata_dict['list_columns'] = ['part']"
   ]
  },
  {
   "cell_type": "code",
   "execution_count": 121,
   "metadata": {},
   "outputs": [
    {
     "name": "stdout",
     "output_type": "stream",
     "text": [
      "Number of records with filled part 43116, with missing part 140291 => 23.5%\n"
     ]
    }
   ],
   "source": [
    "daf.find_empty_in_column(df, columns_metadata_dict, 'part')"
   ]
  },
  {
   "cell_type": "markdown",
   "metadata": {},
   "source": [
    "Attribute $\\texttt{part}$ is a list of collected part descriptions of the MARC 21 data. In the Swissbib implementation, the attribute is normalised strongly with the goal to identify the information of a part of a bibliographical unit as a unique number."
   ]
  },
  {
   "cell_type": "code",
   "execution_count": 185,
   "metadata": {},
   "outputs": [
    {
     "data": {
      "text/plain": [
       "47813                        number 1220\n",
       "126132                                 1\n",
       "135441                         band 9, 9\n",
       "114312               bd. 1, seite 53-161\n",
       "96553                    -/50(1995-1996)\n",
       "97436                          1/2(2001)\n",
       "60028                                 20\n",
       "61310                              bd. 3\n",
       "48345                                163\n",
       "17208                             teil 1\n",
       "25876                45(2018), 3489-3498\n",
       "47185                         band 10270\n",
       "73246                               9, 9\n",
       "66267                                 34\n",
       "92883                   81(12):1973-1981\n",
       "131977                          603, 603\n",
       "85587                                 16\n",
       "61977                   1998, s. 254-256\n",
       "147213                              1907\n",
       "81134     jg. 31 (2001), nr. 4, s. 26-30\n",
       "Name: part, dtype: object"
      ]
     },
     "execution_count": 185,
     "metadata": {},
     "output_type": "execute_result"
    }
   ],
   "source": [
    "df.part[df.part.apply(lambda x : len(x)>0)].sample(n=20)"
   ]
  },
  {
   "cell_type": "code",
   "execution_count": 123,
   "metadata": {},
   "outputs": [
    {
     "data": {
      "text/plain": [
       "part                 [volume 7]\n",
       "volumes    [1 Online-Ressource]\n",
       "Name: 85733, dtype: object"
      ]
     },
     "execution_count": 123,
     "metadata": {},
     "output_type": "execute_result"
    }
   ],
   "source": [
    "df[['part', 'volumes']].loc[85733]"
   ]
  },
  {
   "cell_type": "code",
   "execution_count": 124,
   "metadata": {},
   "outputs": [
    {
     "data": {
      "text/plain": [
       "['2000', 'S. 261-281', 'Band 37']"
      ]
     },
     "execution_count": 124,
     "metadata": {},
     "output_type": "execute_result"
    }
   ],
   "source": [
    "df.part.loc[81304]"
   ]
  },
  {
   "cell_type": "code",
   "execution_count": 125,
   "metadata": {},
   "outputs": [],
   "source": [
    "df = dpf.transform_list_to_string(df, 'part')"
   ]
  },
  {
   "cell_type": "markdown",
   "metadata": {},
   "source": [
    "The list of strings will be transformed to a singular string with the help of function $\\texttt{.transform}\\_\\texttt{list}\\_\\texttt{to}\\_\\texttt{string}()$."
   ]
  },
  {
   "cell_type": "code",
   "execution_count": 126,
   "metadata": {},
   "outputs": [],
   "source": [
    "columns_metadata_dict['data_analysis_columns'].append('part')"
   ]
  },
  {
   "cell_type": "markdown",
   "metadata": {},
   "source": [
    "### person"
   ]
  },
  {
   "cell_type": "code",
   "execution_count": 127,
   "metadata": {},
   "outputs": [],
   "source": [
    "columns_metadata_dict['strings_columns'].append('person')"
   ]
  },
  {
   "cell_type": "markdown",
   "metadata": {},
   "source": [
    "Attribute $\\texttt{person}$ is a collection of personal names statements of the bibliographic unit, see [[FeatWiki](./A_References.ipynb/#feature_deduplication_wiki)]. The attribute out of the raw data is a dictionary column in the DataFrame with four possible key value pairs. Attribute $\\texttt{person}$ is split for processing reasons into a singular attribute for each key of the dictionary. The values come along as lists and the implemented function $\\texttt{.transform}\\_\\texttt{list}\\_\\texttt{to}\\_\\texttt{string()}$ will be used to process its elements into one single string of the new column."
   ]
  },
  {
   "cell_type": "code",
   "execution_count": 128,
   "metadata": {},
   "outputs": [
    {
     "data": {
      "text/plain": [
       "18998     {'100': ['FrommErich1900-1980(DE-588)118536389...\n",
       "95178     {'100': ['KammacherAlphonsecre'], '245c': ['Al...\n",
       "155806    {'100': ['SeiterWalter H.'], '245c': ['[Red. W...\n",
       "126874    {'100': [], '700': ['SmithL.(DE-588)1077106092...\n",
       "89302     {'100': ['RubinsteinSaul A.author'], '700': ['...\n",
       "179533    {'100': ['PitteloudAntoine(RERO)A009638145'], ...\n",
       "23935     {'100': ['GildemeisterJohann1812-1890(DE-588)1...\n",
       "114744    {'100': ['AbrahamsPeter H.1947-(DE-588)1090240...\n",
       "88662     {'100': [], '700': ['HalpernJennifer J.editor'...\n",
       "42004     {'100': ['RumbleDouglas'], '245c': ['Douglas R...\n",
       "146537    {'100': ['VeringJuttaVerfasseraut'], '245c': [...\n",
       "80241     {'100': ['CassidyCathy(RERO)A020005916aut'], '...\n",
       "23505     {'100': ['ForsythFrederick(RERO)A003254207cre'...\n",
       "150322    {'100': ['GiersbergGünter'], '245c': ['[Red. G...\n",
       "63824                             {'100': [], '245c': ['']}\n",
       "86284     {'100': ['NasitiTiti SurtiVerfasseraut'], '700...\n",
       "50992     {'100': ['MedicusDieter(RERO)A003579133cre'], ...\n",
       "27421     {'100': ['880-01Xunzica. v340/298 - v245/230(D...\n",
       "1545      {'100': ['SchmitzRichard B.'], '245c': ['von R...\n",
       "27485     {'100': ['880-01YaʿariAvraham1899-1966(DE-588)...\n",
       "Name: person, dtype: object"
      ]
     },
     "execution_count": 128,
     "metadata": {},
     "output_type": "execute_result"
    }
   ],
   "source": [
    "df.person.sample(n=20)"
   ]
  },
  {
   "cell_type": "code",
   "execution_count": 129,
   "metadata": {},
   "outputs": [
    {
     "name": "stdout",
     "output_type": "stream",
     "text": [
      "Number of records with filled person_100 115396, with missing person_100 68011 => 62.9%\n",
      "Number of records with filled person_700 73254, with missing person_700 110153 => 39.9%\n",
      "Number of records with filled person_800 1137, with missing person_800 182270 => 0.6%\n",
      "Number of records with filled person_245c 158011, with missing person_245c 25396 => 86.2%\n"
     ]
    }
   ],
   "source": [
    "for ending in ['100', '700', '800', '245c']:\n",
    "    df = dpf.transform_dictionary_to_list(df, 'person', ending)\n",
    "    df = dpf.transform_list_to_string(df, 'person_'+ending)\n",
    "\n",
    "    columns_metadata_dict['strings_columns'].append('person_'+ending)\n",
    "    daf.find_empty_in_column(df, columns_metadata_dict, 'person_'+ending)"
   ]
  },
  {
   "cell_type": "code",
   "execution_count": 130,
   "metadata": {},
   "outputs": [
    {
     "data": {
      "text/plain": [
       "168107                     international boxing association\n",
       "87247                                          martin riker\n",
       "152719    beijing organizing committee for the games of ...\n",
       "59299                                            sonia alba\n",
       "151415    ed. by harold abrahams and jack crump ; with a...\n",
       "130470                                     sotheby's milano\n",
       "156978                     ed. by: erich müller... [et al.]\n",
       "169971           michelle hanna ; foreword by rhoda roberts\n",
       "50163                           amelie funcke, eva havenith\n",
       "151741    cristóbal gabarrón ; textos orlando franco, co...\n",
       "66122                                  von walter böckemann\n",
       "97244                                         [wim bekkers]\n",
       "152663                      michael leeds, peter von allmen\n",
       "129849                                         bruno zeller\n",
       "45646     sandra pisot ; mit einem beitrag von lena bühl...\n",
       "85645                  toni riethmaier mit felicia englmann\n",
       "11292     regie: sergei bodrov ; drehbuch: charles leavi...\n",
       "857                   rédigées & mises au jour par nougaret\n",
       "143471                                        hélène zimmer\n",
       "47281         by albert f. calvert.  with 386 illustrations\n",
       "Name: person_245c, dtype: object"
      ]
     },
     "execution_count": 130,
     "metadata": {},
     "output_type": "execute_result"
    }
   ],
   "source": [
    "df.person_245c[df.person_245c.apply(lambda x : len(x)>0)].sample(n=20)"
   ]
  },
  {
   "cell_type": "code",
   "execution_count": 131,
   "metadata": {},
   "outputs": [
    {
     "data": {
      "text/plain": [
       "115115    sponahelma1968-(verfasser)(de-588)115134956htt...\n",
       "90598                    khannaeem ullah(rero)a027795171cre\n",
       "143025                                                weeks\n",
       "77601                       mouawadwajdi(rero)a005763981cre\n",
       "15885                       høigiltjacob(rero)a027761317cre\n",
       "165345                                           keimmarion\n",
       "179517             baldwinjames1924-1987(rero)a002963229aut\n",
       "57813     steinbeckwolfram1945-(de-588)12119616xverfasse...\n",
       "65142               wahriggerhard1923-1978(de-588)104535164\n",
       "160587                                            holubjiří\n",
       "71758                                           zoruttpieri\n",
       "56852       huhnsiegfried1955-(de-588)113624085verfasseraut\n",
       "129431            tâchepierre-alain1940-(rero)a003917170cre\n",
       "22790             duffieldmark(de-588)170864936verfasseraut\n",
       "103318                        goodmanmartin(rero)a003308378\n",
       "105780                          brunnermichelleverfasseraut\n",
       "26007                                      morgensternsusie\n",
       "111386    galbreathdonald lindsay1884-1949(de-588)126259...\n",
       "131548                   sellfriedrich l.authorauthttp://id\n",
       "116895                                      niebuhrreinhold\n",
       "Name: person_100, dtype: object"
      ]
     },
     "execution_count": 131,
     "metadata": {},
     "output_type": "execute_result"
    }
   ],
   "source": [
    "df.person_100[df.person_100.apply(lambda x : len(x)>0)].sample(n=20)"
   ]
  },
  {
   "cell_type": "code",
   "execution_count": 132,
   "metadata": {},
   "outputs": [
    {
     "data": {
      "text/plain": [
       "46759     hossainzahideditor, zhangjiupengeditor, chenca...\n",
       "86987                  herrmann-nytkoingrid(rero)a016677009\n",
       "27576     paṭelagautama vā1936-(de-588)1030326142herausg...\n",
       "75458     bhandarkarramkrishna gopal1837-1925(de-588)117...\n",
       "10646     verdigiuseppe1813-1901rigoletto(de-588)3001662...\n",
       "181583    boehnkelukasherausgeberedtedthttp://id, thranm...\n",
       "68294              salomonpierre1902-1983(de-588)112274837x\n",
       "105836                            mackayj. rossverfasseraut\n",
       "125288    greendavid gordon1975-(de-588)140341927filmreg...\n",
       "76622     bravo-oviedoandrésherausgeberedt, pretzschhans...\n",
       "177456    hinderermarcel1969-(de-588)1052420893verfasseraut\n",
       "146793                                         brocasalexis\n",
       "16777     scheelen-nováčekkristina(de-588)1167732421verf...\n",
       "182428    bertranm. teresajoint author, mouilleronstépha...\n",
       "34975     illiesflorian1971-(de-588)121846067verfasser v...\n",
       "179213                         costemaurice(rero)a013140933\n",
       "94052     wanishabir hussain(de-588)1162215003herausgebe...\n",
       "30164       holligerheinz1939-(de-588)118553097arrangeurarr\n",
       "7709                                            johnsethans\n",
       "109792                   mouretjean-noël(rero)a003614344aut\n",
       "Name: person_700, dtype: object"
      ]
     },
     "execution_count": 132,
     "metadata": {},
     "output_type": "execute_result"
    }
   ],
   "source": [
    "df.person_700[df.person_700.apply(lambda x : len(x)>0)].sample(n=20)"
   ]
  },
  {
   "cell_type": "code",
   "execution_count": 133,
   "metadata": {},
   "outputs": [
    {
     "data": {
      "text/plain": [
       "179983                                              nobdad2\n",
       "98323     amiotkarine-marierose et titouan sur l'île du ...\n",
       "84674             dugomier<<les >>enfants de la résistance5\n",
       "105219                              yann1954-angel wings1-3\n",
       "21816           speltensolivier1971-<<l'>>armée de l'ombre2\n",
       "98037     sempéjean-jacques<<le >>petit nicolasgallimard...\n",
       "47286                         rutishauserwalter1940-2017fdp\n",
       "130349                           ristjohannsämtliche werke9\n",
       "77458               brisou-pellenevelyne1947-<<le >>manoir3\n",
       "19712                            legendremarc1956-amphoria2\n",
       "19792                            legendremarc1956-amphoria1\n",
       "111318                     guettierbénédictetrotro et zaza5\n",
       "79743                          guardiniromano1885-1968werke\n",
       "149048                        rutishauserwalter1940-2017fdp\n",
       "60109           pietrkiewiczjerzy1916-2007opuscula selecta3\n",
       "144498                    amiotkarine-marieprune & séraphin\n",
       "76009                      scottwaltersir1771-1832oeuvres20\n",
       "69954     niquetgilberte<<le >>monde du langage : gramma...\n",
       "19098     hennenbernhard1966-die phileasson-saga6. romanaut\n",
       "47287                         rutishauserwalter1940-2017fdp\n",
       "Name: person_800, dtype: object"
      ]
     },
     "execution_count": 133,
     "metadata": {},
     "output_type": "execute_result"
    }
   ],
   "source": [
    "df.person_800[df.person_800.apply(lambda x : len(x)>0)].sample(n=20)"
   ]
  },
  {
   "cell_type": "markdown",
   "metadata": {},
   "source": [
    "According to [[WiCo2001](./A_References.ipynb#wico2001)], attributes $\\texttt{person}\\_\\texttt{100}$ and $\\texttt{person}\\_\\texttt{700}$ hold standardized author information. Swissbib uses $\\texttt{person}\\_\\texttt{245c}$ as a fallback only, in case of missing $\\texttt{person}\\_\\texttt{100}$ and $\\texttt{person}\\_\\texttt{700}$."
   ]
  },
  {
   "cell_type": "code",
   "execution_count": 134,
   "metadata": {},
   "outputs": [
    {
     "data": {
      "text/html": [
       "<div>\n",
       "<style scoped>\n",
       "    .dataframe tbody tr th:only-of-type {\n",
       "        vertical-align: middle;\n",
       "    }\n",
       "\n",
       "    .dataframe tbody tr th {\n",
       "        vertical-align: top;\n",
       "    }\n",
       "\n",
       "    .dataframe thead th {\n",
       "        text-align: right;\n",
       "    }\n",
       "</style>\n",
       "<table border=\"1\" class=\"dataframe\">\n",
       "  <thead>\n",
       "    <tr style=\"text-align: right;\">\n",
       "      <th></th>\n",
       "      <th>person_245c</th>\n",
       "      <th>person_100</th>\n",
       "      <th>person_700</th>\n",
       "      <th>person_800</th>\n",
       "    </tr>\n",
       "  </thead>\n",
       "  <tbody>\n",
       "    <tr>\n",
       "      <th>145865</th>\n",
       "      <td>n.k. jemisin</td>\n",
       "      <td>jemisinn. k.1972-(de-588)141498587verfasseraut</td>\n",
       "      <td></td>\n",
       "      <td>jemisinn.k.1972-the broken earth1</td>\n",
       "    </tr>\n",
       "    <tr>\n",
       "      <th>46825</th>\n",
       "      <td>jean-marie agier, philippe graf</td>\n",
       "      <td>agierjean-marie</td>\n",
       "      <td>grafphilippe</td>\n",
       "      <td></td>\n",
       "    </tr>\n",
       "  </tbody>\n",
       "</table>\n",
       "</div>"
      ],
      "text/plain": [
       "                            person_245c  \\\n",
       "145865                     n.k. jemisin   \n",
       "46825   jean-marie agier, philippe graf   \n",
       "\n",
       "                                            person_100    person_700  \\\n",
       "145865  jemisinn. k.1972-(de-588)141498587verfasseraut                 \n",
       "46825                                  agierjean-marie  grafphilippe   \n",
       "\n",
       "                               person_800  \n",
       "145865  jemisinn.k.1972-the broken earth1  \n",
       "46825                                      "
      ]
     },
     "execution_count": 134,
     "metadata": {},
     "output_type": "execute_result"
    }
   ],
   "source": [
    "df[['person_245c', 'person_100', 'person_700', 'person_800']].loc[[145865, 46825]]"
   ]
  },
  {
   "cell_type": "markdown",
   "metadata": {},
   "source": [
    "Column $\\texttt{person}\\_\\texttt{245c}$ is identified as the most complete and usefull author indication attribute and will be used as a basis for the data of the feature matrix. Attributes $\\texttt{person}\\_\\texttt{100}$ and $\\texttt{person}\\_\\texttt{700}$ will also be added to the feature matrix, though."
   ]
  },
  {
   "cell_type": "code",
   "execution_count": 135,
   "metadata": {},
   "outputs": [],
   "source": [
    "columns_metadata_dict['data_analysis_columns'].append('person_100')\n",
    "columns_metadata_dict['data_analysis_columns'].append('person_700')\n",
    "#columns_metadata_dict['data_analysis_columns'].append('person_800')\n",
    "columns_metadata_dict['data_analysis_columns'].append('person_245c')"
   ]
  },
  {
   "cell_type": "code",
   "execution_count": 136,
   "metadata": {},
   "outputs": [
    {
     "name": "stdout",
     "output_type": "stream",
     "text": [
      "Ratio of records with missing person and corporate information 7.9%\n"
     ]
    }
   ],
   "source": [
    "df_no_person_no_corporate = df[['person', 'corporate', 'format_prefix']][\n",
    "    df.person_100.apply(lambda x : len(x)==0) &\n",
    "    df.person_700.apply(lambda x : len(x)==0) &\n",
    "    df.person_800.apply(lambda x : len(x)==0) &\n",
    "    df.person_245c.apply(lambda x : len(x)==0) &\n",
    "    df.corporate_110.apply(lambda x : len(x)==0) &\n",
    "    df.corporate_710.apply(lambda x : len(x)==0)\n",
    "]\n",
    "\n",
    "print('Ratio of records with missing person and corporate information {:.1f}%'.format(\n",
    "    len(df_no_person_no_corporate)/len(df)*100))"
   ]
  },
  {
   "cell_type": "code",
   "execution_count": 137,
   "metadata": {},
   "outputs": [
    {
     "data": {
      "text/plain": [
       "bk    11352\n",
       "cr     1571\n",
       "vm      863\n",
       "mu      254\n",
       "        154\n",
       "mp       98\n",
       "cf       78\n",
       "cl       76\n",
       "Name: format_prefix, dtype: int64"
      ]
     },
     "execution_count": 137,
     "metadata": {},
     "output_type": "execute_result"
    }
   ],
   "source": [
    "df_no_person_no_corporate.format_prefix.value_counts()"
   ]
  },
  {
   "cell_type": "markdown",
   "metadata": {},
   "source": [
    "A comparison between $\\texttt{person}$ and $\\texttt{corporate}$ shows that about 8% of the records have no information in neither of the two attributes. These records are distributed over all formats of the bibliographical unit."
   ]
  },
  {
   "cell_type": "markdown",
   "metadata": {},
   "source": [
    "### pubinit"
   ]
  },
  {
   "cell_type": "code",
   "execution_count": 138,
   "metadata": {},
   "outputs": [],
   "source": [
    "columns_metadata_dict['list_columns'] = ['pubinit']"
   ]
  },
  {
   "cell_type": "code",
   "execution_count": 139,
   "metadata": {},
   "outputs": [
    {
     "name": "stdout",
     "output_type": "stream",
     "text": [
      "Number of records with filled pubinit 61462, with missing pubinit 121945 => 33.5%\n"
     ]
    }
   ],
   "source": [
    "daf.find_empty_in_column(df, columns_metadata_dict, 'pubinit')"
   ]
  },
  {
   "cell_type": "markdown",
   "metadata": {},
   "source": [
    "The attribute holds the information on the publisher of the bibliographical unit. Some sample data is shown below."
   ]
  },
  {
   "cell_type": "code",
   "execution_count": 140,
   "metadata": {},
   "outputs": [
    {
     "data": {
      "text/plain": [
       "136213                         [Naar, Day & Naar, printers]\n",
       "164032                                             [NYOGOC]\n",
       "146086                [Washington: The Library of Congress]\n",
       "25931                                    [Grey Walls Press]\n",
       "152163                                        [Ed. Conseil]\n",
       "114197                                   [Actes Sud Junior]\n",
       "160228                                             [SYOGOC]\n",
       "167686                    [International Olympic Committee]\n",
       "150356                            [Les Ed. Hors-Collection]\n",
       "121532    [Peter Lang GmbH, Internationaler Verlag der W...\n",
       "152500                   [Los Angeles Organizing Committee]\n",
       "163286                                       [H. N. Abrams]\n",
       "156595                                            [[BOCOG]]\n",
       "120239                           [publisher not identified]\n",
       "170015                                      [Meyer & meyer]\n",
       "160963                        [Comité olympique hellénique]\n",
       "82571                                              [Rageot]\n",
       "119695                    [Evangelical Theological Society]\n",
       "151685                                            [[BOCOG]]\n",
       "164618                                [Torino City Council]\n",
       "Name: pubinit, dtype: object"
      ]
     },
     "execution_count": 140,
     "metadata": {},
     "output_type": "execute_result"
    }
   ],
   "source": [
    "df.pubinit[df.pubinit.apply(lambda x : len(x)>0)].sample(n=20)"
   ]
  },
  {
   "cell_type": "markdown",
   "metadata": {},
   "source": [
    "Two kinds of entries stand out as special in the sample data."
   ]
  },
  {
   "cell_type": "code",
   "execution_count": 141,
   "metadata": {},
   "outputs": [
    {
     "data": {
      "text/plain": [
       "117866    [publisher not identified]\n",
       "3185                        [[s.n.]]\n",
       "Name: pubinit, dtype: object"
      ]
     },
     "execution_count": 141,
     "metadata": {},
     "output_type": "execute_result"
    }
   ],
   "source": [
    "df.pubinit.loc[[117866, 3185]]"
   ]
  },
  {
   "cell_type": "code",
   "execution_count": 142,
   "metadata": {},
   "outputs": [
    {
     "name": "stdout",
     "output_type": "stream",
     "text": [
      "Number of records with pubinit = 'publisher not identified' : 2795    \n",
      "Number of records with pubinit = '[s.n.]' : 4259\n"
     ]
    }
   ],
   "source": [
    "cnt_pni, cnt_sn = 0, 0\n",
    "\n",
    "for i in range(len(df)):\n",
    "    if len(df.pubinit.loc[i]) > 0:\n",
    "        if df.pubinit.loc[i][0] == 'publisher not identified':\n",
    "            cnt_pni = cnt_pni+1\n",
    "        if df.pubinit.loc[i][0] == '[s.n.]':\n",
    "            cnt_sn = cnt_sn+1\n",
    "\n",
    "print('Number of records with pubinit = \\'publisher not identified\\' : {:d}\\\n",
    "    \\nNumber of records with pubinit = \\'[s.n.]\\' : {:d}'.format(cnt_pni, cnt_sn))"
   ]
  },
  {
   "cell_type": "markdown",
   "metadata": {},
   "source": [
    "According to [[WiCo2001](./A_References.ipynb#wico2001)], this attribute holds the initial characters that do not correspond to anyone of word strings like ...\n",
    "- Verl., Verlag, Verlagsgesellschaft,\n",
    "- publ., publisher,\n",
    "- ed., editor, edition,\n",
    "- ...\n",
    "\n",
    "Swissbib's deduplication logic uses the such abbreviated values of this attribute. For the capstone project, the attribute is taken to further processing as one single concatenated string. The special entries shown above will be handled as regular publisher's description, too."
   ]
  },
  {
   "cell_type": "code",
   "execution_count": 143,
   "metadata": {},
   "outputs": [],
   "source": [
    "columns_metadata_dict['data_analysis_columns'].append('pubinit')"
   ]
  },
  {
   "cell_type": "markdown",
   "metadata": {},
   "source": [
    "### pubword"
   ]
  },
  {
   "cell_type": "code",
   "execution_count": 144,
   "metadata": {},
   "outputs": [],
   "source": [
    "columns_metadata_dict['list_columns'] = ['pubword']"
   ]
  },
  {
   "cell_type": "code",
   "execution_count": 145,
   "metadata": {},
   "outputs": [
    {
     "name": "stdout",
     "output_type": "stream",
     "text": [
      "Number of records with filled pubword 61462, with missing pubword 121945 => 33.5%\n"
     ]
    }
   ],
   "source": [
    "daf.find_empty_in_column(df, columns_metadata_dict, 'pubword')"
   ]
  },
  {
   "cell_type": "markdown",
   "metadata": {},
   "source": [
    "Attribute $\\texttt{pubword}$ has the same MARC 21 basis as $\\texttt{pubinit}$. The attribute will be dropped due to redundancy."
   ]
  },
  {
   "cell_type": "markdown",
   "metadata": {},
   "source": [
    "### pubyear"
   ]
  },
  {
   "cell_type": "code",
   "execution_count": 146,
   "metadata": {},
   "outputs": [],
   "source": [
    "columns_metadata_dict['strings_columns'].append('pubyear')"
   ]
  },
  {
   "cell_type": "code",
   "execution_count": 147,
   "metadata": {},
   "outputs": [
    {
     "name": "stdout",
     "output_type": "stream",
     "text": [
      "Number of records with filled pubyear 183407, with missing pubyear 0 => 100.0%\n"
     ]
    }
   ],
   "source": [
    "daf.find_empty_in_column(df, columns_metadata_dict, 'pubyear')"
   ]
  },
  {
   "cell_type": "code",
   "execution_count": 148,
   "metadata": {},
   "outputs": [
    {
     "data": {
      "text/html": [
       "<div>\n",
       "<style scoped>\n",
       "    .dataframe tbody tr th:only-of-type {\n",
       "        vertical-align: middle;\n",
       "    }\n",
       "\n",
       "    .dataframe tbody tr th {\n",
       "        vertical-align: top;\n",
       "    }\n",
       "\n",
       "    .dataframe thead th {\n",
       "        text-align: right;\n",
       "    }\n",
       "</style>\n",
       "<table border=\"1\" class=\"dataframe\">\n",
       "  <thead>\n",
       "    <tr style=\"text-align: right;\">\n",
       "      <th></th>\n",
       "      <th>docid</th>\n",
       "      <th>035liste</th>\n",
       "      <th>isbn</th>\n",
       "      <th>ttlfull</th>\n",
       "      <th>ttlpart</th>\n",
       "      <th>person</th>\n",
       "      <th>corporate</th>\n",
       "      <th>pubyear</th>\n",
       "      <th>decade</th>\n",
       "      <th>century</th>\n",
       "      <th>exactDate</th>\n",
       "      <th>...</th>\n",
       "      <th>coordinate_N</th>\n",
       "      <th>corporate_110</th>\n",
       "      <th>corporate_710</th>\n",
       "      <th>corporate_810</th>\n",
       "      <th>corporate_full</th>\n",
       "      <th>format_prefix</th>\n",
       "      <th>format_postfix</th>\n",
       "      <th>person_100</th>\n",
       "      <th>person_700</th>\n",
       "      <th>person_800</th>\n",
       "      <th>person_245c</th>\n",
       "    </tr>\n",
       "  </thead>\n",
       "  <tbody>\n",
       "    <tr>\n",
       "      <th>0</th>\n",
       "      <td>554061449</td>\n",
       "      <td>[(OCoLC)1085491204, (IDSBB)006899773]</td>\n",
       "      <td>[]</td>\n",
       "      <td>{'245': ['Die Feist von Kienberg', 'eine Wasen...</td>\n",
       "      <td>{'245': ['Die Feist von Kienberg', 'eine Wasen...</td>\n",
       "      <td>{'100': ['SchluchterAndré'], '245c': ['André S...</td>\n",
       "      <td>{}</td>\n",
       "      <td>1992</td>\n",
       "      <td>1992</td>\n",
       "      <td>1992</td>\n",
       "      <td>1992uuuu</td>\n",
       "      <td>...</td>\n",
       "      <td></td>\n",
       "      <td></td>\n",
       "      <td></td>\n",
       "      <td></td>\n",
       "      <td></td>\n",
       "      <td>bk</td>\n",
       "      <td>020000</td>\n",
       "      <td>schluchterandré</td>\n",
       "      <td></td>\n",
       "      <td></td>\n",
       "      <td>andré schluchter</td>\n",
       "    </tr>\n",
       "    <tr>\n",
       "      <th>1</th>\n",
       "      <td>554061481</td>\n",
       "      <td>[(OCoLC)1085491341, (IDSBB)006899983]</td>\n",
       "      <td>[]</td>\n",
       "      <td>{'245': ['Reimereien']}</td>\n",
       "      <td>{'245': ['Reimereien']}</td>\n",
       "      <td>{'100': ['NaegeliWerner'], '245c': ['von Werne...</td>\n",
       "      <td>{}</td>\n",
       "      <td>1986</td>\n",
       "      <td>1986</td>\n",
       "      <td>1986</td>\n",
       "      <td>1986uuuu</td>\n",
       "      <td>...</td>\n",
       "      <td></td>\n",
       "      <td></td>\n",
       "      <td></td>\n",
       "      <td></td>\n",
       "      <td></td>\n",
       "      <td>bk</td>\n",
       "      <td>020000</td>\n",
       "      <td>naegeliwerner</td>\n",
       "      <td></td>\n",
       "      <td></td>\n",
       "      <td>von werner naegeli</td>\n",
       "    </tr>\n",
       "    <tr>\n",
       "      <th>2</th>\n",
       "      <td>554061503</td>\n",
       "      <td>[(OCoLC)1085491299, (IDSBB)006899959]</td>\n",
       "      <td>[]</td>\n",
       "      <td>{'245': ['Efficax antidotum ad matrimonia mixt...</td>\n",
       "      <td>{'245': ['Efficax antidotum ad matrimonia mixt...</td>\n",
       "      <td>{'100': ['KellyM.V.'], '700': ['GeniesseJ.B.']...</td>\n",
       "      <td>{}</td>\n",
       "      <td>1923</td>\n",
       "      <td>1923</td>\n",
       "      <td>1923</td>\n",
       "      <td>1923uuuu</td>\n",
       "      <td>...</td>\n",
       "      <td></td>\n",
       "      <td></td>\n",
       "      <td></td>\n",
       "      <td></td>\n",
       "      <td></td>\n",
       "      <td>bk</td>\n",
       "      <td>020000</td>\n",
       "      <td>kellym.v.</td>\n",
       "      <td>geniessej.b.</td>\n",
       "      <td></td>\n",
       "      <td>m.v. kelly et j.b. geniesse</td>\n",
       "    </tr>\n",
       "    <tr>\n",
       "      <th>3</th>\n",
       "      <td>554061511</td>\n",
       "      <td>[(OCoLC)1085491268, (IDSBB)006896614]</td>\n",
       "      <td>[]</td>\n",
       "      <td>{'245': ['Probleme der Inflationsbekämpfung', ...</td>\n",
       "      <td>{'245': ['Probleme der Inflationsbekämpfung', ...</td>\n",
       "      <td>{'100': ['WegelinWalter'], '245c': ['']}</td>\n",
       "      <td>{}</td>\n",
       "      <td>1947</td>\n",
       "      <td>1947</td>\n",
       "      <td>1947</td>\n",
       "      <td>1947uuuu</td>\n",
       "      <td>...</td>\n",
       "      <td></td>\n",
       "      <td></td>\n",
       "      <td></td>\n",
       "      <td></td>\n",
       "      <td></td>\n",
       "      <td>bk</td>\n",
       "      <td>020000</td>\n",
       "      <td>wegelinwalter</td>\n",
       "      <td></td>\n",
       "      <td></td>\n",
       "      <td></td>\n",
       "    </tr>\n",
       "    <tr>\n",
       "      <th>4</th>\n",
       "      <td>55406152X</td>\n",
       "      <td>[(OCoLC)1085491079, (IDSBB)006896866]</td>\n",
       "      <td>[]</td>\n",
       "      <td>{'245': ['[Poems]']}</td>\n",
       "      <td>{'245': ['[Poems]']}</td>\n",
       "      <td>{'100': ['OberlinUrs'], '245c': ['Urs Oberlin ...</td>\n",
       "      <td>{}</td>\n",
       "      <td>1991</td>\n",
       "      <td>1991</td>\n",
       "      <td>1991</td>\n",
       "      <td>1991uuuu</td>\n",
       "      <td>...</td>\n",
       "      <td></td>\n",
       "      <td></td>\n",
       "      <td></td>\n",
       "      <td></td>\n",
       "      <td></td>\n",
       "      <td>bk</td>\n",
       "      <td>020000</td>\n",
       "      <td>oberlinurs</td>\n",
       "      <td></td>\n",
       "      <td></td>\n",
       "      <td>urs oberlin ; translated from the german by ru...</td>\n",
       "    </tr>\n",
       "    <tr>\n",
       "      <th>...</th>\n",
       "      <td>...</td>\n",
       "      <td>...</td>\n",
       "      <td>...</td>\n",
       "      <td>...</td>\n",
       "      <td>...</td>\n",
       "      <td>...</td>\n",
       "      <td>...</td>\n",
       "      <td>...</td>\n",
       "      <td>...</td>\n",
       "      <td>...</td>\n",
       "      <td>...</td>\n",
       "      <td>...</td>\n",
       "      <td>...</td>\n",
       "      <td>...</td>\n",
       "      <td>...</td>\n",
       "      <td>...</td>\n",
       "      <td>...</td>\n",
       "      <td>...</td>\n",
       "      <td>...</td>\n",
       "      <td>...</td>\n",
       "      <td>...</td>\n",
       "      <td>...</td>\n",
       "      <td>...</td>\n",
       "    </tr>\n",
       "    <tr>\n",
       "      <th>183402</th>\n",
       "      <td>556988922</td>\n",
       "      <td>[(OCoLC)1083973002, (NEBIS)011374206]</td>\n",
       "      <td>[978-3-319-99217-4]</td>\n",
       "      <td>{'245': ['Great Moments in the History of Life']}</td>\n",
       "      <td>{'245': ['Great Moments in the History of Life']}</td>\n",
       "      <td>{'100': ['ShawGeorge H.Verfasserautauthttp://i...</td>\n",
       "      <td>{}</td>\n",
       "      <td>2018</td>\n",
       "      <td>2018</td>\n",
       "      <td>2018</td>\n",
       "      <td>2018uuuu</td>\n",
       "      <td>...</td>\n",
       "      <td></td>\n",
       "      <td></td>\n",
       "      <td></td>\n",
       "      <td></td>\n",
       "      <td></td>\n",
       "      <td>bk</td>\n",
       "      <td>020053</td>\n",
       "      <td>shawgeorge h.verfasserautauthttp://id</td>\n",
       "      <td></td>\n",
       "      <td></td>\n",
       "      <td>by george h. shaw</td>\n",
       "    </tr>\n",
       "    <tr>\n",
       "      <th>183403</th>\n",
       "      <td>556988930</td>\n",
       "      <td>[(OCoLC)1081363098, (NEBIS)011374477]</td>\n",
       "      <td>[978-3-662-58485-9]</td>\n",
       "      <td>{'245': ['Machine Learning for Cyber Physical ...</td>\n",
       "      <td>{'245': ['Machine Learning for Cyber Physical ...</td>\n",
       "      <td>{'100': [], '700': ['BeyererJürgenHerausgebere...</td>\n",
       "      <td>{}</td>\n",
       "      <td>2019</td>\n",
       "      <td>2019</td>\n",
       "      <td>2019</td>\n",
       "      <td>2019uuuu</td>\n",
       "      <td>...</td>\n",
       "      <td></td>\n",
       "      <td></td>\n",
       "      <td></td>\n",
       "      <td></td>\n",
       "      <td></td>\n",
       "      <td>bk</td>\n",
       "      <td>020053</td>\n",
       "      <td></td>\n",
       "      <td>beyererjürgenherausgeberedtedthttp://id, kühne...</td>\n",
       "      <td></td>\n",
       "      <td>edited by jürgen beyerer, christian kühnert, o...</td>\n",
       "    </tr>\n",
       "    <tr>\n",
       "      <th>183404</th>\n",
       "      <td>556988949</td>\n",
       "      <td>[(OCoLC)1089721912, (NEBIS)011374010]</td>\n",
       "      <td>[]</td>\n",
       "      <td>{'245': ['Die neolithische Höhensiedlung \"Abri...</td>\n",
       "      <td>{'245': ['Die neolithische Höhensiedlung \"Abri...</td>\n",
       "      <td>{'100': ['AmreinWilhelm1872-1946(DE-588)116302...</td>\n",
       "      <td>{}</td>\n",
       "      <td>1930</td>\n",
       "      <td>1930</td>\n",
       "      <td>1930</td>\n",
       "      <td>1930uuuu</td>\n",
       "      <td>...</td>\n",
       "      <td></td>\n",
       "      <td></td>\n",
       "      <td></td>\n",
       "      <td></td>\n",
       "      <td></td>\n",
       "      <td>bk</td>\n",
       "      <td>010000</td>\n",
       "      <td>amreinwilhelm1872-1946(de-588)116302429verfass...</td>\n",
       "      <td></td>\n",
       "      <td></td>\n",
       "      <td></td>\n",
       "    </tr>\n",
       "    <tr>\n",
       "      <th>183405</th>\n",
       "      <td>556988965</td>\n",
       "      <td>[(OCoLC)883819333, (NEBIS)008354642]</td>\n",
       "      <td>[3-931793-24-9]</td>\n",
       "      <td>{'245': ['Igel Total']}</td>\n",
       "      <td>{'245': ['Igel Total']}</td>\n",
       "      <td>{'100': ['BachMeike'], '245c': ['Idee &amp; Ill. M...</td>\n",
       "      <td>{}</td>\n",
       "      <td>2000</td>\n",
       "      <td>2000</td>\n",
       "      <td>2000</td>\n",
       "      <td>2000uuuu</td>\n",
       "      <td>...</td>\n",
       "      <td></td>\n",
       "      <td></td>\n",
       "      <td></td>\n",
       "      <td></td>\n",
       "      <td></td>\n",
       "      <td>bk</td>\n",
       "      <td>020000</td>\n",
       "      <td>bachmeike</td>\n",
       "      <td></td>\n",
       "      <td></td>\n",
       "      <td>idee &amp; ill. meike bach</td>\n",
       "    </tr>\n",
       "    <tr>\n",
       "      <th>183406</th>\n",
       "      <td>556988973</td>\n",
       "      <td>[(OCoLC)1083948806, (NEBIS)011374205]</td>\n",
       "      <td>[978-3-319-97553-5]</td>\n",
       "      <td>{'245': ['Proceeding of the 2nd International ...</td>\n",
       "      <td>{'245': ['Proceeding of the 2nd International ...</td>\n",
       "      <td>{'100': [], '700': ['SukartikoAnggoro CahyoHer...</td>\n",
       "      <td>{}</td>\n",
       "      <td>2018</td>\n",
       "      <td>2018</td>\n",
       "      <td>2018</td>\n",
       "      <td>2018uuuu</td>\n",
       "      <td>...</td>\n",
       "      <td></td>\n",
       "      <td></td>\n",
       "      <td></td>\n",
       "      <td></td>\n",
       "      <td></td>\n",
       "      <td>bk</td>\n",
       "      <td>020053</td>\n",
       "      <td></td>\n",
       "      <td>sukartikoanggoro cahyoherausgeberedtedthttp://...</td>\n",
       "      <td></td>\n",
       "      <td>edited by anggoro cahyo sukartiko, tri rini nu...</td>\n",
       "    </tr>\n",
       "  </tbody>\n",
       "</table>\n",
       "<p>148968 rows × 35 columns</p>\n",
       "</div>"
      ],
      "text/plain": [
       "            docid                               035liste                 isbn  \\\n",
       "0       554061449  [(OCoLC)1085491204, (IDSBB)006899773]                   []   \n",
       "1       554061481  [(OCoLC)1085491341, (IDSBB)006899983]                   []   \n",
       "2       554061503  [(OCoLC)1085491299, (IDSBB)006899959]                   []   \n",
       "3       554061511  [(OCoLC)1085491268, (IDSBB)006896614]                   []   \n",
       "4       55406152X  [(OCoLC)1085491079, (IDSBB)006896866]                   []   \n",
       "...           ...                                    ...                  ...   \n",
       "183402  556988922  [(OCoLC)1083973002, (NEBIS)011374206]  [978-3-319-99217-4]   \n",
       "183403  556988930  [(OCoLC)1081363098, (NEBIS)011374477]  [978-3-662-58485-9]   \n",
       "183404  556988949  [(OCoLC)1089721912, (NEBIS)011374010]                   []   \n",
       "183405  556988965   [(OCoLC)883819333, (NEBIS)008354642]      [3-931793-24-9]   \n",
       "183406  556988973  [(OCoLC)1083948806, (NEBIS)011374205]  [978-3-319-97553-5]   \n",
       "\n",
       "                                                  ttlfull  \\\n",
       "0       {'245': ['Die Feist von Kienberg', 'eine Wasen...   \n",
       "1                                 {'245': ['Reimereien']}   \n",
       "2       {'245': ['Efficax antidotum ad matrimonia mixt...   \n",
       "3       {'245': ['Probleme der Inflationsbekämpfung', ...   \n",
       "4                                    {'245': ['[Poems]']}   \n",
       "...                                                   ...   \n",
       "183402  {'245': ['Great Moments in the History of Life']}   \n",
       "183403  {'245': ['Machine Learning for Cyber Physical ...   \n",
       "183404  {'245': ['Die neolithische Höhensiedlung \"Abri...   \n",
       "183405                            {'245': ['Igel Total']}   \n",
       "183406  {'245': ['Proceeding of the 2nd International ...   \n",
       "\n",
       "                                                  ttlpart  \\\n",
       "0       {'245': ['Die Feist von Kienberg', 'eine Wasen...   \n",
       "1                                 {'245': ['Reimereien']}   \n",
       "2       {'245': ['Efficax antidotum ad matrimonia mixt...   \n",
       "3       {'245': ['Probleme der Inflationsbekämpfung', ...   \n",
       "4                                    {'245': ['[Poems]']}   \n",
       "...                                                   ...   \n",
       "183402  {'245': ['Great Moments in the History of Life']}   \n",
       "183403  {'245': ['Machine Learning for Cyber Physical ...   \n",
       "183404  {'245': ['Die neolithische Höhensiedlung \"Abri...   \n",
       "183405                            {'245': ['Igel Total']}   \n",
       "183406  {'245': ['Proceeding of the 2nd International ...   \n",
       "\n",
       "                                                   person corporate   pubyear  \\\n",
       "0       {'100': ['SchluchterAndré'], '245c': ['André S...        {}  1992       \n",
       "1       {'100': ['NaegeliWerner'], '245c': ['von Werne...        {}  1986       \n",
       "2       {'100': ['KellyM.V.'], '700': ['GeniesseJ.B.']...        {}  1923       \n",
       "3                {'100': ['WegelinWalter'], '245c': ['']}        {}  1947       \n",
       "4       {'100': ['OberlinUrs'], '245c': ['Urs Oberlin ...        {}  1991       \n",
       "...                                                   ...       ...       ...   \n",
       "183402  {'100': ['ShawGeorge H.Verfasserautauthttp://i...        {}  2018       \n",
       "183403  {'100': [], '700': ['BeyererJürgenHerausgebere...        {}  2019       \n",
       "183404  {'100': ['AmreinWilhelm1872-1946(DE-588)116302...        {}  1930       \n",
       "183405  {'100': ['BachMeike'], '245c': ['Idee & Ill. M...        {}  2000       \n",
       "183406  {'100': [], '700': ['SukartikoAnggoro CahyoHer...        {}  2018       \n",
       "\n",
       "       decade century exactDate  ... coordinate_N corporate_110 corporate_710  \\\n",
       "0        1992    1992  1992uuuu  ...                                            \n",
       "1        1986    1986  1986uuuu  ...                                            \n",
       "2        1923    1923  1923uuuu  ...                                            \n",
       "3        1947    1947  1947uuuu  ...                                            \n",
       "4        1991    1991  1991uuuu  ...                                            \n",
       "...       ...     ...       ...  ...          ...           ...           ...   \n",
       "183402   2018    2018  2018uuuu  ...                                            \n",
       "183403   2019    2019  2019uuuu  ...                                            \n",
       "183404   1930    1930  1930uuuu  ...                                            \n",
       "183405   2000    2000  2000uuuu  ...                                            \n",
       "183406   2018    2018  2018uuuu  ...                                            \n",
       "\n",
       "       corporate_810 corporate_full format_prefix format_postfix  \\\n",
       "0                                              bk         020000   \n",
       "1                                              bk         020000   \n",
       "2                                              bk         020000   \n",
       "3                                              bk         020000   \n",
       "4                                              bk         020000   \n",
       "...              ...            ...           ...            ...   \n",
       "183402                                         bk         020053   \n",
       "183403                                         bk         020053   \n",
       "183404                                         bk         010000   \n",
       "183405                                         bk         020000   \n",
       "183406                                         bk         020053   \n",
       "\n",
       "                                               person_100  \\\n",
       "0                                         schluchterandré   \n",
       "1                                           naegeliwerner   \n",
       "2                                               kellym.v.   \n",
       "3                                           wegelinwalter   \n",
       "4                                              oberlinurs   \n",
       "...                                                   ...   \n",
       "183402              shawgeorge h.verfasserautauthttp://id   \n",
       "183403                                                      \n",
       "183404  amreinwilhelm1872-1946(de-588)116302429verfass...   \n",
       "183405                                          bachmeike   \n",
       "183406                                                      \n",
       "\n",
       "                                               person_700 person_800  \\\n",
       "0                                                                      \n",
       "1                                                                      \n",
       "2                                            geniessej.b.              \n",
       "3                                                                      \n",
       "4                                                                      \n",
       "...                                                   ...        ...   \n",
       "183402                                                                 \n",
       "183403  beyererjürgenherausgeberedtedthttp://id, kühne...              \n",
       "183404                                                                 \n",
       "183405                                                                 \n",
       "183406  sukartikoanggoro cahyoherausgeberedtedthttp://...              \n",
       "\n",
       "                                              person_245c  \n",
       "0                                        andré schluchter  \n",
       "1                                      von werner naegeli  \n",
       "2                             m.v. kelly et j.b. geniesse  \n",
       "3                                                          \n",
       "4       urs oberlin ; translated from the german by ru...  \n",
       "...                                                   ...  \n",
       "183402                                  by george h. shaw  \n",
       "183403  edited by jürgen beyerer, christian kühnert, o...  \n",
       "183404                                                     \n",
       "183405                             idee & ill. meike bach  \n",
       "183406  edited by anggoro cahyo sukartiko, tri rini nu...  \n",
       "\n",
       "[148968 rows x 35 columns]"
      ]
     },
     "execution_count": 148,
     "metadata": {},
     "output_type": "execute_result"
    }
   ],
   "source": [
    "df[df.exactDate != df.pubyear]"
   ]
  },
  {
   "cell_type": "markdown",
   "metadata": {},
   "source": [
    "All 8 digits of $\\texttt{pubyear}$ hold identical data compared to field $\\texttt{exactDate}$. This observation corresponds to the expectation from the MARC 21 description of the attribute. The purpose of the attribute is to identify the year of publication of a bibliographic unit and store it for comparison in Swissbib's conventional deduplication implementation [[WiCo2001](./A_References.ipynb#wico2001)]."
   ]
  },
  {
   "cell_type": "markdown",
   "metadata": {},
   "source": [
    "Chapter [Feature Matrix Generation](./3_FeatureMatrixGeneration.ipynb) will apply a similarity metric for $\\texttt{exactDate}$ that takes the full date of publication into specific consideration. Attribute $\\texttt{pubyear}$ will be dropped as redundant."
   ]
  },
  {
   "cell_type": "markdown",
   "metadata": {},
   "source": [
    "### scale"
   ]
  },
  {
   "cell_type": "code",
   "execution_count": 149,
   "metadata": {},
   "outputs": [],
   "source": [
    "columns_metadata_dict['strings_columns'].append('scale')"
   ]
  },
  {
   "cell_type": "code",
   "execution_count": 150,
   "metadata": {},
   "outputs": [
    {
     "name": "stdout",
     "output_type": "stream",
     "text": [
      "Number of records with filled scale 793, with missing scale 182614 => 0.4%\n"
     ]
    }
   ],
   "source": [
    "daf.find_empty_in_column(df, columns_metadata_dict, 'scale')"
   ]
  },
  {
   "cell_type": "code",
   "execution_count": 151,
   "metadata": {},
   "outputs": [
    {
     "data": {
      "text/plain": [
       "array(['400000', '3000000', '50000', '75000', '300000', '800000', '10000',\n",
       "       '5650', '1:400,000', '700000', '100000', '25000', '275000',\n",
       "       '500000500000', '301000', '15000', '16667', 'Echelle : 1:50 000',\n",
       "       '1000000', '250000', '150000', 'Verschiedene Massstäbe',\n",
       "       'Echelle [ca. 1:440 000]', '5000050000',\n",
       "       '[Echelle non déterminée]', '200000', '118000', '1000010000',\n",
       "       '12500', 'Echelle 1:50.000', '5000', '500', 'Echelles diverses',\n",
       "       'Echelle 1:50 000', '1400000', '1600000', '550000', '1:50 000',\n",
       "       '1:60 000', '9117', '2000000', '20000100000', '1156015625', '8100',\n",
       "       '15700', '17400', '810011600', '16666', '500000', '70000',\n",
       "       'Echelle: 1:25.000', '1:25 000', '125000', '46000',\n",
       "       'Echelle 1:25.000 ; projection conforme cylindrique à axe oblique',\n",
       "       'Echelle 1:25.000', '300000700000', '850000', '2750', '1250000',\n",
       "       '1700000', '750000', '11000000', '17500', '250000250000',\n",
       "       '24000000', '3500000', '2500000', '240000', '60000', '650000',\n",
       "       '600000', '16000', '27000', '28000', '200000200000', '172000',\n",
       "       '24000', '2500065000', '56000', '40000', '35000', '1:18000',\n",
       "       '260000', '22500', '17000', '2600032000', '36000', '45000',\n",
       "       '2500040000', '20000', '30000', '275000275000', '15000000',\n",
       "       '2500033000', '490000', '1: 5 000 000', '120000', '37005000',\n",
       "       '56600', '16130', '1110023250', '126720', '2200000', '33000',\n",
       "       '7500', '6000060000', '11000', '10560', '13000', '160000', '18700',\n",
       "       '11450', '27600', '15500', '100', '10500', '1:35 000', '18500',\n",
       "       '2770000', '4000000', '150', '2000', '50000012500002000000200000',\n",
       "       '1100020000', '12000', 'Echelle : 1:100.000', '14000', '320000',\n",
       "       '9500000', '1:200 000', '5700000', '175000', '2700000', '3700000',\n",
       "       '4500000', '8000', '7700',\n",
       "       '850025 00010000 $d E0073010 $e E0073635 $f N0464638 $g N0464333',\n",
       "       '160009000', '5000000', '1875000', '2800000', '4000',\n",
       "       '1:8 000 000', '1:3 000 000', '38000', '1750049000',\n",
       "       '500000250000', '2670000', '2400000', '1960000', '2500025000',\n",
       "       '8500', '100000100000', '380000', '250002500025000', '13500',\n",
       "       '5500', '4500', '90000', 'Echelle 1:250 000'], dtype=object)"
      ]
     },
     "execution_count": 151,
     "metadata": {},
     "output_type": "execute_result"
    }
   ],
   "source": [
    "df.scale[df.scale.apply(lambda x : len(x)>0)].unique()"
   ]
  },
  {
   "cell_type": "markdown",
   "metadata": {},
   "source": [
    "Attribute $\\texttt{scale}$ holds scaling information on map units. The degree of filling in attribute $\\texttt{coordinate}$ is correlated with the degree of filling in attribute $\\texttt{scale}$."
   ]
  },
  {
   "cell_type": "code",
   "execution_count": 152,
   "metadata": {},
   "outputs": [
    {
     "name": "stdout",
     "output_type": "stream",
     "text": [
      "Number of records with either 'coordinate' or 'scale' not filled : 141\n"
     ]
    }
   ],
   "source": [
    "print('Number of records with either \\'coordinate\\' or \\'scale\\' not filled :', len(\n",
    "    df[['coordinate', 'scale']][\n",
    "        (df.scale.apply(lambda x : len(x)>0) & df.coordinate.apply(lambda x : len(x)==0)) |\n",
    "        (df.scale.apply(lambda x : len(x)==0) & df.coordinate.apply(lambda x : len(x)>0))\n",
    "    ]))"
   ]
  },
  {
   "cell_type": "markdown",
   "metadata": {},
   "source": [
    "The attribute will be taken over to further processing as is [[WiCo2001](./A_References.ipynb#wico2001)]."
   ]
  },
  {
   "cell_type": "code",
   "execution_count": 153,
   "metadata": {},
   "outputs": [],
   "source": [
    "columns_metadata_dict['data_analysis_columns'].append('scale')"
   ]
  },
  {
   "cell_type": "markdown",
   "metadata": {},
   "source": [
    "### ttlfull"
   ]
  },
  {
   "cell_type": "code",
   "execution_count": 154,
   "metadata": {},
   "outputs": [],
   "source": [
    "columns_metadata_dict['strings_columns'].append('ttlfull')"
   ]
  },
  {
   "cell_type": "markdown",
   "metadata": {},
   "source": [
    "Attribute $\\texttt{ttlfull}$ holds the full title of the bibliographical unit, see [[FeatWiki](./A_References.ipynb/#feature_deduplication_wiki)]. Some examples are shown below."
   ]
  },
  {
   "cell_type": "code",
   "execution_count": 155,
   "metadata": {},
   "outputs": [
    {
     "data": {
      "text/plain": [
       "19167     {'245': ['Il Senato costituzionale della Repub...\n",
       "156406    {'245': ['Revue olympique', 'organe officiel d...\n",
       "175301    {'245': ['Polymeric surfaces for sports and re...\n",
       "24452     {'245': ['Neue Perspektiven auf den schweizeri...\n",
       "99717                     {'245': ['Droghe e conseguenze']}\n",
       "164043    {'245': ['Jeux de la XXIIe olympiade', '[rappo...\n",
       "41753     {'245': ['Newton the alchemist', 'science, eni...\n",
       "26186     {'245': ['Je progresse en français', 'Grammair...\n",
       "60350     {'245': ['Come scrivere in cinese', '175 carat...\n",
       "30549                                 {'245': ['L'espace']}\n",
       "138383    {'245': ['Notes from the Seminar, Urban Highwa...\n",
       "11952                      {'245': ['Sticky & sweet tour']}\n",
       "44315     {'245': ['Walking with villagers', 'How Liberi...\n",
       "53048     {'245': ['Three preludes founded on Welsh hymn...\n",
       "20786     {'245': ['Vom Platz der Siege ins Künstlerhaus']}\n",
       "122110    {'245': ['Pour comprendre les maths, CP, cycle...\n",
       "54040     {'245': ['La société fluide', 'une histoire de...\n",
       "87838     {'245': ['Bulletin du Laboratoire de géologie ...\n",
       "57989                             {'245': ['Briefwechsel']}\n",
       "118388    {'245': ['Reinhold Niebuhr to Hans Stroh, Octo...\n",
       "Name: ttlfull, dtype: object"
      ]
     },
     "execution_count": 155,
     "metadata": {},
     "output_type": "execute_result"
    }
   ],
   "source": [
    "df.ttlfull.sample(n=20)"
   ]
  },
  {
   "cell_type": "markdown",
   "metadata": {},
   "source": [
    "The attribute is a dictionary column in the DataFrame. There are two key value pairs possible in this attribute. For their processing, two new attributes will be added to the DataFrame, one for each key value pair. The values come along as lists. The implemented function $\\texttt{.transform}\\_\\texttt{list}\\_\\texttt{to}\\_\\texttt{string()}$ will be used to process the list elements into one single string of the column."
   ]
  },
  {
   "cell_type": "code",
   "execution_count": 156,
   "metadata": {},
   "outputs": [
    {
     "name": "stdout",
     "output_type": "stream",
     "text": [
      "Number of records with filled ttlfull_245 183407, with missing ttlfull_245 0 => 100.0%\n",
      "Number of records with filled ttlfull_246 15897, with missing ttlfull_246 167510 => 8.7%\n"
     ]
    }
   ],
   "source": [
    "for ending in ['245', '246']:\n",
    "    df = dpf.transform_dictionary_to_list(df, 'ttlfull', ending)\n",
    "    df = dpf.transform_list_to_string(df, 'ttlfull_'+ending)\n",
    "\n",
    "    columns_metadata_dict['strings_columns'].append('ttlfull_'+ending)\n",
    "    daf.find_empty_in_column(df, columns_metadata_dict, 'ttlfull_'+ending)"
   ]
  },
  {
   "cell_type": "markdown",
   "metadata": {},
   "source": [
    "The title statement, attribute $\\texttt{ttlfull}\\_\\texttt{245}$, is filled for every record in the data set. This makes the attribute a central attribute for record pair comparisons. Attribute $\\texttt{ttlfull}\\_\\texttt{246}$ on the other hand is sparsely filled. Some samples are shown below."
   ]
  },
  {
   "cell_type": "code",
   "execution_count": 157,
   "metadata": {},
   "outputs": [
    {
     "data": {
      "text/plain": [
       "133830    hashtag islam, how cyber-islamic environments ...\n",
       "176636                     basket, la formation des joueurs\n",
       "148753    ancien service vétérinaire cantonal, 37, rue d...\n",
       "151312                              skiing history magazine\n",
       "114353                  on an age-old anvil, wince and sing\n",
       "155873    odd man out, an autobiography : true stories o...\n",
       "55864     émeutes urbaines et protestations, une singula...\n",
       "172571             zervixkarzinom - diagnostik und therapie\n",
       "85619     die jahre 1912 bis 1917 mit zunftmeister leonh...\n",
       "107002    treatise on the military law of the united sta...\n",
       "131301    english in the law courts, the part that artic...\n",
       "139010                        paris, die kubistischen jahre\n",
       "127889    greta novak, misstrauen ist ihr beruf : treatment\n",
       "10049                                      pour les enfants\n",
       "99250                  open innovation, corporate incubator\n",
       "98022                       andin se fait un nouveau copain\n",
       "164208    spezialkatalog, ganzsachen zu den olympischen ...\n",
       "67331                                   les coeurs nouveaux\n",
       "158394    nagoya, candidate city for the games of the xx...\n",
       "15061                                    blurring the edges\n",
       "Name: ttlfull_245, dtype: object"
      ]
     },
     "execution_count": 157,
     "metadata": {},
     "output_type": "execute_result"
    }
   ],
   "source": [
    "df.ttlfull_245.sample(20)"
   ]
  },
  {
   "cell_type": "code",
   "execution_count": 158,
   "metadata": {},
   "outputs": [
    {
     "data": {
      "text/plain": [
       "107396          legislative history of the buy american act\n",
       "61463     sammler und mäzen in münchen, murnau und weltw...\n",
       "91027     reisverslagen van noord-nederlanders uit de ze...\n",
       "29300                                tausendundeins gemälde\n",
       "132537    a treatise on the conflict of laws, or, privat...\n",
       "8037                                        marc and robert\n",
       "141366                    science fiction film & television\n",
       "32000                                          kunstschätze\n",
       "130990        ehe in ägypten zur ptolemäisch-römischen zeit\n",
       "35216                                    orgnization theory\n",
       "144306                    yale journal of international law\n",
       "1550                               grubers blumensträuschen\n",
       "16559                                        breaking cover\n",
       "108659    law of boundaries and fences in relation to th...\n",
       "177603    častotnyj slovarʹ \"žitija\" protopopa avvakuma,...\n",
       "129652                                 crime and correction\n",
       "148746                                 révélation du sahara\n",
       "34030     attentats du 11 septembre 2001, le traumatisme...\n",
       "106653    treatise on the common and statute law of the ...\n",
       "106652    treatise on the law of tax titles, their creat...\n",
       "Name: ttlfull_246, dtype: object"
      ]
     },
     "execution_count": 158,
     "metadata": {},
     "output_type": "execute_result"
    }
   ],
   "source": [
    "df.ttlfull_246[df.ttlfull_246.apply(lambda x : len(x)>0)].sample(20)"
   ]
  },
  {
   "cell_type": "code",
   "execution_count": 159,
   "metadata": {},
   "outputs": [
    {
     "data": {
      "text/html": [
       "<div>\n",
       "<style scoped>\n",
       "    .dataframe tbody tr th:only-of-type {\n",
       "        vertical-align: middle;\n",
       "    }\n",
       "\n",
       "    .dataframe tbody tr th {\n",
       "        vertical-align: top;\n",
       "    }\n",
       "\n",
       "    .dataframe thead th {\n",
       "        text-align: right;\n",
       "    }\n",
       "</style>\n",
       "<table border=\"1\" class=\"dataframe\">\n",
       "  <thead>\n",
       "    <tr style=\"text-align: right;\">\n",
       "      <th></th>\n",
       "      <th>ttlfull_245</th>\n",
       "      <th>ttlfull_246</th>\n",
       "    </tr>\n",
       "  </thead>\n",
       "  <tbody>\n",
       "    <tr>\n",
       "      <th>106789</th>\n",
       "      <td>principles of the english law of contract and ...</td>\n",
       "      <td>principles of the english law of contract and ...</td>\n",
       "    </tr>\n",
       "    <tr>\n",
       "      <th>147883</th>\n",
       "      <td>smallfoot, ein eisigartiges abenteuer</td>\n",
       "      <td>small foot</td>\n",
       "    </tr>\n",
       "    <tr>\n",
       "      <th>177020</th>\n",
       "      <td>dsm-5 pocket guide for elder mental health</td>\n",
       "      <td>elder mental health</td>\n",
       "    </tr>\n",
       "  </tbody>\n",
       "</table>\n",
       "</div>"
      ],
      "text/plain": [
       "                                              ttlfull_245  \\\n",
       "106789  principles of the english law of contract and ...   \n",
       "147883              smallfoot, ein eisigartiges abenteuer   \n",
       "177020         dsm-5 pocket guide for elder mental health   \n",
       "\n",
       "                                              ttlfull_246  \n",
       "106789  principles of the english law of contract and ...  \n",
       "147883                                         small foot  \n",
       "177020                                elder mental health  "
      ]
     },
     "execution_count": 159,
     "metadata": {},
     "output_type": "execute_result"
    }
   ],
   "source": [
    "df[['ttlfull_245', 'ttlfull_246']].loc[[106789, 147883, 177020]]"
   ]
  },
  {
   "cell_type": "markdown",
   "metadata": {},
   "source": [
    "According to [[WiCo2001](./A_References.ipynb#wico2001)], attribute $\\texttt{ttlfull}\\_\\texttt{245}$ holds the title of a bibliographic unit as it is appears on its publication. Attribute $\\texttt{ttlfull}\\_\\texttt{246}$ holds variations of the title that appear on the back of a unit or on the cover. Alternative diction and even some very special ideas of the people that enter the data can be stored in this field, too."
   ]
  },
  {
   "cell_type": "markdown",
   "metadata": {},
   "source": [
    "As $\\texttt{ttlfull}\\_\\texttt{245}$ can vary from $\\texttt{ttlfull}\\_\\texttt{246}$, the two new columns will be used as a basis for the data of the feature matrix."
   ]
  },
  {
   "cell_type": "code",
   "execution_count": 160,
   "metadata": {},
   "outputs": [],
   "source": [
    "columns_metadata_dict['data_analysis_columns'].append('ttlfull_245')\n",
    "columns_metadata_dict['data_analysis_columns'].append('ttlfull_246')"
   ]
  },
  {
   "cell_type": "markdown",
   "metadata": {},
   "source": [
    "### ttlpart"
   ]
  },
  {
   "cell_type": "code",
   "execution_count": 161,
   "metadata": {},
   "outputs": [],
   "source": [
    "columns_metadata_dict['strings_columns'].append('ttlpart')"
   ]
  },
  {
   "cell_type": "code",
   "execution_count": 162,
   "metadata": {},
   "outputs": [
    {
     "name": "stdout",
     "output_type": "stream",
     "text": [
      "Number of records with filled ttlpart 183407, with missing ttlpart 0 => 100.0%\n"
     ]
    }
   ],
   "source": [
    "daf.find_empty_in_column(df, columns_metadata_dict, 'ttlpart')"
   ]
  },
  {
   "cell_type": "code",
   "execution_count": 163,
   "metadata": {},
   "outputs": [
    {
     "data": {
      "text/plain": [
       "83929     {'245': ['International yearbook of industrial...\n",
       "19058     {'245': ['Senior entrepreneurship', 'a selecti...\n",
       "71118     {'245': ['The grammatical tradition and the ri...\n",
       "139450                              {'245': ['Platonismo']}\n",
       "80840     {'245': ['Binz auf Rügen', 'ein Ostseebad zehn...\n",
       "104900    {'245': ['A novel anti-HER2 anthracycline-base...\n",
       "167362    {'245': ['Recueil TAS 1993', 'CAS compilation ...\n",
       "19012     {'245': ['[Stockalperhaus und -palast in Brig]']}\n",
       "182649    {'245': ['Mathematische Kurzweil oder 333 Aufg...\n",
       "37289     {'245': ['Aufgaben zur höheren Mathematik', 'f...\n",
       "136163    {'245': ['Law of Inheritance in All Forty-Eigh...\n",
       "96223                        {'245': ['Gefährliches Quiz']}\n",
       "100085    {'245': ['Sickert - paintings', 'Royal Academy...\n",
       "18365       {'245': ['Onlinedurchsuchungen in Österreich']}\n",
       "40379          {'245': ['Instruments and the imagination']}\n",
       "89224     {'245': ['Journalism after Snowden', 'the futu...\n",
       "1544      {'245': ['Französische Sprachlehre für Schulen...\n",
       "22074      {'245': ['Sefer Mishle', 'Prouerbia Salomonis']}\n",
       "148404                 {'245': ['Appelle-moi par ton nom']}\n",
       "179748    {'245': ['Le \"Célestina 4ème\"', 'avec descript...\n",
       "Name: ttlpart, dtype: object"
      ]
     },
     "execution_count": 163,
     "metadata": {},
     "output_type": "execute_result"
    }
   ],
   "source": [
    "df.ttlpart.sample(n=20)"
   ]
  },
  {
   "cell_type": "markdown",
   "metadata": {},
   "source": [
    "The attribute is described to be the same like $\\texttt{ttlfull_245}$, [[FeatWiki](./A_References.ipynb/#feature_deduplication_wiki)]. The comparison of the two attributes after the basic transformation of $\\texttt{ttlpart}$ shows that this expectation is valid for all records."
   ]
  },
  {
   "cell_type": "code",
   "execution_count": 164,
   "metadata": {},
   "outputs": [],
   "source": [
    "df = dpf.transform_dictionary_to_list(df, 'ttlpart', '245')\n",
    "df = dpf.transform_list_to_string(df, 'ttlpart_245')"
   ]
  },
  {
   "cell_type": "code",
   "execution_count": 165,
   "metadata": {},
   "outputs": [
    {
     "data": {
      "text/html": [
       "<div>\n",
       "<style scoped>\n",
       "    .dataframe tbody tr th:only-of-type {\n",
       "        vertical-align: middle;\n",
       "    }\n",
       "\n",
       "    .dataframe tbody tr th {\n",
       "        vertical-align: top;\n",
       "    }\n",
       "\n",
       "    .dataframe thead th {\n",
       "        text-align: right;\n",
       "    }\n",
       "</style>\n",
       "<table border=\"1\" class=\"dataframe\">\n",
       "  <thead>\n",
       "    <tr style=\"text-align: right;\">\n",
       "      <th></th>\n",
       "      <th>docid</th>\n",
       "      <th>035liste</th>\n",
       "      <th>isbn</th>\n",
       "      <th>ttlfull</th>\n",
       "      <th>ttlpart</th>\n",
       "      <th>person</th>\n",
       "      <th>corporate</th>\n",
       "      <th>pubyear</th>\n",
       "      <th>decade</th>\n",
       "      <th>century</th>\n",
       "      <th>exactDate</th>\n",
       "      <th>...</th>\n",
       "      <th>corporate_810</th>\n",
       "      <th>corporate_full</th>\n",
       "      <th>format_prefix</th>\n",
       "      <th>format_postfix</th>\n",
       "      <th>person_100</th>\n",
       "      <th>person_700</th>\n",
       "      <th>person_800</th>\n",
       "      <th>person_245c</th>\n",
       "      <th>ttlfull_245</th>\n",
       "      <th>ttlfull_246</th>\n",
       "      <th>ttlpart_245</th>\n",
       "    </tr>\n",
       "  </thead>\n",
       "  <tbody>\n",
       "  </tbody>\n",
       "</table>\n",
       "<p>0 rows × 38 columns</p>\n",
       "</div>"
      ],
      "text/plain": [
       "Empty DataFrame\n",
       "Columns: [docid, 035liste, isbn, ttlfull, ttlpart, person, corporate, pubyear, decade, century, exactDate, edition, part, pages, volumes, pubinit, pubword, scale, coordinate, doi, ismn, musicid, format, coordinate_E, coordinate_N, corporate_110, corporate_710, corporate_810, corporate_full, format_prefix, format_postfix, person_100, person_700, person_800, person_245c, ttlfull_245, ttlfull_246, ttlpart_245]\n",
       "Index: []\n",
       "\n",
       "[0 rows x 38 columns]"
      ]
     },
     "execution_count": 165,
     "metadata": {},
     "output_type": "execute_result"
    }
   ],
   "source": [
    "df[df.ttlpart_245!=df.ttlfull_245]"
   ]
  },
  {
   "cell_type": "markdown",
   "metadata": {},
   "source": [
    "Due to its redandancy, the attribute will be dropped and will not be processed further in the model."
   ]
  },
  {
   "cell_type": "markdown",
   "metadata": {},
   "source": [
    "### volumes"
   ]
  },
  {
   "cell_type": "code",
   "execution_count": 166,
   "metadata": {},
   "outputs": [],
   "source": [
    "columns_metadata_dict['list_columns'].append('volumes')"
   ]
  },
  {
   "cell_type": "code",
   "execution_count": 167,
   "metadata": {},
   "outputs": [
    {
     "name": "stdout",
     "output_type": "stream",
     "text": [
      "Number of records with filled volumes 161471, with missing volumes 21936 => 88.0%\n"
     ]
    }
   ],
   "source": [
    "daf.find_empty_in_column(df, columns_metadata_dict, 'volumes')"
   ]
  },
  {
   "cell_type": "markdown",
   "metadata": {},
   "source": [
    "This attribute holds information on the number of physical pages (see attribute $\\texttt{pages}$ above), volumes, total playing time etc. of the bibliographic unit [[FeatWiki](./A_References.ipynb/#feature_deduplication_wiki)] depending on its format. Swissbib extracts available information on the volume indication of a bibliographical unit out of its MARC data. This data normalization step is very sophisticated, though [[WiCo2001](./A_References.ipynb#wico2001)]. Some examples of the attribute's filling are shown below."
   ]
  },
  {
   "cell_type": "code",
   "execution_count": 168,
   "metadata": {},
   "outputs": [
    {
     "data": {
      "text/plain": [
       "76662                        [448 Seiten]\n",
       "68632                                  []\n",
       "46327     [1 online resource (276 pages)]\n",
       "91702                [1 Online-Ressource]\n",
       "119225                [1 online resource]\n",
       "171603                           [155 S.]\n",
       "4241                             [153 S.]\n",
       "110244                       [295 Seiten]\n",
       "101672                 [1 CD + 1 Booklet]\n",
       "158009             [1 fasc. (non paginé)]\n",
       "112982                                 []\n",
       "127378               [1 Online-Ressource]\n",
       "48235                            [158 S.]\n",
       "178714                                 []\n",
       "14671                           [144 Bl.]\n",
       "Name: volumes, dtype: object"
      ]
     },
     "execution_count": 168,
     "metadata": {},
     "output_type": "execute_result"
    }
   ],
   "source": [
    "df['volumes'].sample(n=15)"
   ]
  },
  {
   "cell_type": "code",
   "execution_count": 169,
   "metadata": {},
   "outputs": [
    {
     "name": "stdout",
     "output_type": "stream",
     "text": [
      "=> Maximum number of list elements 3\n"
     ]
    }
   ],
   "source": [
    "print('=> Maximum number of list elements', max(df.volumes.apply(lambda x : len(x))))"
   ]
  },
  {
   "cell_type": "code",
   "execution_count": 186,
   "metadata": {},
   "outputs": [
    {
     "data": {
      "text/plain": [
       "74951     1\n",
       "60557     1\n",
       "29802     1\n",
       "90295     1\n",
       "60944     1\n",
       "82442     1\n",
       "30148     1\n",
       "86087     1\n",
       "60824     6\n",
       "30177     1\n",
       "92527     4\n",
       "17268     1\n",
       "124141    x\n",
       "114091    1\n",
       "60528     1\n",
       "Name: volumes, dtype: object"
      ]
     },
     "execution_count": 186,
     "metadata": {},
     "output_type": "execute_result"
    }
   ],
   "source": [
    "df.volumes[df.volumes.apply(lambda x : len(x)==1)].sample(n=15)"
   ]
  },
  {
   "cell_type": "code",
   "execution_count": 171,
   "metadata": {},
   "outputs": [
    {
     "data": {
      "text/plain": [
       "11208                [1 Compact Disc, 1 Digital Video Disc]\n",
       "109506    [2 Bänden (verschiedene Seitenzählungen), Illu...\n",
       "60555                   [1 Partitur (7 Seiten), 32 Stimmen]\n",
       "72533                   [1 Partitur (4 Seiten), 27 Stimmen]\n",
       "60689                   [1 Partitur (7 Seiten), 68 Stimmen]\n",
       "32902              [1 online resource., 1 online resource.]\n",
       "24997     [1 DVD-Video (circa 91 Min.), 1 Blu-ray-Disc (...\n",
       "72563                  [1 Partitur (13 Seiten), 65 Stimmen]\n",
       "60556                  [1 Partitur (13 Seiten), 33 Stimmen]\n",
       "63320     [1 Online-Ressource ([3], 2 leaves, 3-4 p., 5-...\n",
       "94710                            [92 Seiten, 42 Tierkarten]\n",
       "5437                                            [24 S., 4']\n",
       "33278              [1 online resource., 1 online resource.]\n",
       "94674          [1 flexi disque, 1 volume (sans pagination)]\n",
       "72520     [58 verschieden gezählte Blätter, 1 DVD-ROM ; ...\n",
       "Name: volumes, dtype: object"
      ]
     },
     "execution_count": 171,
     "metadata": {},
     "output_type": "execute_result"
    }
   ],
   "source": [
    "df.volumes[df.volumes.apply(lambda x : len(x)==2)].sample(n=15)"
   ]
  },
  {
   "cell_type": "code",
   "execution_count": 172,
   "metadata": {
    "scrolled": true
   },
   "outputs": [
    {
     "data": {
      "text/plain": [
       "73897                          [XI, 213 S., Portr., 23 cm]\n",
       "80258    [1 Partitur (5 Seiten), 32 Stimmen, Wiedlisbac...\n",
       "Name: volumes, dtype: object"
      ]
     },
     "execution_count": 172,
     "metadata": {},
     "output_type": "execute_result"
    }
   ],
   "source": [
    "df.volumes[df.volumes.apply(lambda x : len(x)==3)].head()"
   ]
  },
  {
   "cell_type": "code",
   "execution_count": 173,
   "metadata": {},
   "outputs": [
    {
     "data": {
      "text/plain": [
       "['XXII, 205 Seiten, XIX Blätter Tafeln']"
      ]
     },
     "execution_count": 173,
     "metadata": {},
     "output_type": "execute_result"
    }
   ],
   "source": [
    "df.volumes.loc[126736]"
   ]
  },
  {
   "cell_type": "code",
   "execution_count": 174,
   "metadata": {},
   "outputs": [
    {
     "data": {
      "text/plain": [
       "['1 flexi disque', '1 volume (sans pagination)']"
      ]
     },
     "execution_count": 174,
     "metadata": {},
     "output_type": "execute_result"
    }
   ],
   "source": [
    "df.volumes.loc[94679]"
   ]
  },
  {
   "cell_type": "markdown",
   "metadata": {},
   "source": [
    "The sophisticated algorithm to identify and extract either pages of volumes information will not be reimplemented for this capstone project but the data extract offered [[SwRe](./A_References.ipynb#swre)] will be used. Attribute $\\texttt{volumes}$ comes along as a list of string elements. A function for data preparation has been written to extract all elements out of the list and store them as a single string of lowercase characters. This function will be used for preparing the data of the goldstandard in chapter [Goldstandard and Data Preparation](./2_GoldstandardDataPreparation.ipynb)."
   ]
  },
  {
   "cell_type": "code",
   "execution_count": 175,
   "metadata": {},
   "outputs": [],
   "source": [
    "df = dpf.transform_list_to_string(df, 'volumes')"
   ]
  },
  {
   "cell_type": "code",
   "execution_count": 183,
   "metadata": {},
   "outputs": [
    {
     "data": {
      "text/plain": [
       "105642                                            254 pages\n",
       "175703                                               565 s.\n",
       "66719                                                2 vol.\n",
       "31737                                                      \n",
       "44744                                     1 online resource\n",
       "116150                                           306 seiten\n",
       "119345                                    1 online resource\n",
       "51435                                           [8], 120 p.\n",
       "157120                         [11] p. dans un portefeuille\n",
       "4736                                                 256 s.\n",
       "114646                        1 partition de choeur (16 p.)\n",
       "102067                                           316 seiten\n",
       "90619     1 dvd-vidéo (ca. 113 min.), une prod.: pmn edi...\n",
       "131111                                               112 s.\n",
       "130033                                                94 s.\n",
       "127914                      1 online-ressource (1 h 20 min)\n",
       "136539                                            47 pages.\n",
       "84865                                                      \n",
       "124962                                      71, xvii seiten\n",
       "56309                                                587 s.\n",
       "88231                                     1 online resource\n",
       "148069                                                     \n",
       "98524                                                      \n",
       "16699                                         xviii, 303 p.\n",
       "47794                                            11, 217 s.\n",
       "Name: volumes, dtype: object"
      ]
     },
     "execution_count": 183,
     "metadata": {},
     "output_type": "execute_result"
    }
   ],
   "source": [
    "df['volumes'].sample(n=25)"
   ]
  },
  {
   "cell_type": "code",
   "execution_count": 177,
   "metadata": {},
   "outputs": [
    {
     "name": "stdout",
     "output_type": "stream",
     "text": [
      "Array of unique attribute values\n",
      " ['s. 102-114' '43 s.' '75 p.' ... '232 s., 2 bl. taf.'\n",
      " '26 seiten, 7 ungezählte blätter bildtafeln' 'xli, 282 seiten']\n",
      "\n",
      "Total number of unique values 36,466\n"
     ]
    }
   ],
   "source": [
    "print('Array of unique attribute values\\n', df.volumes.unique())\n",
    "print('\\nTotal number of unique values {:,d}'.format(len(df.volumes.unique())))"
   ]
  },
  {
   "cell_type": "markdown",
   "metadata": {},
   "source": [
    "The attribute will be further processed in this way in the upcoming chapters."
   ]
  },
  {
   "cell_type": "code",
   "execution_count": 178,
   "metadata": {},
   "outputs": [],
   "source": [
    "columns_metadata_dict['data_analysis_columns'].append('volumes')"
   ]
  },
  {
   "cell_type": "markdown",
   "metadata": {},
   "source": [
    "## Metadata Handover"
   ]
  },
  {
   "cell_type": "markdown",
   "metadata": {},
   "source": [
    "Dictionary $\\texttt{columns}\\_\\texttt{metadata}\\_\\texttt{dict}$ plays the role of a metadata global variable to be handed over to subsequent chapters of this capstone project. Only the values of key $\\texttt{data}\\_\\texttt{analysis}\\_\\texttt{columns}$ will be needed as metadata in the next chapter. The values of keys $\\texttt{list}\\_\\texttt{columns}$ and $\\texttt{string}\\_\\texttt{columns}$ can be dropped."
   ]
  },
  {
   "cell_type": "code",
   "execution_count": 179,
   "metadata": {},
   "outputs": [],
   "source": [
    "del columns_metadata_dict['list_columns']\n",
    "del columns_metadata_dict['strings_columns']"
   ]
  },
  {
   "cell_type": "markdown",
   "metadata": {},
   "source": [
    "To hand over the attributes dictionary of this chapter in their role of metadata, the dictionary is saved into a pickle file that will be read in the next chapter [Goldstandard and Data Preparation](./2_GoldstandardDataPreparation.ipynb) as input file. "
   ]
  },
  {
   "cell_type": "code",
   "execution_count": 180,
   "metadata": {},
   "outputs": [],
   "source": [
    "import pickle as pk\n",
    "\n",
    "# Binary intermediary metadata file\n",
    "with open(os.path.join(path_goldstandard,\n",
    "                       'columns_metadata.pkl'), 'wb') as df_output_file:\n",
    "    pk.dump(columns_metadata_dict, df_output_file)"
   ]
  },
  {
   "cell_type": "markdown",
   "metadata": {},
   "source": [
    "## Summary"
   ]
  },
  {
   "cell_type": "markdown",
   "metadata": {},
   "source": [
    "The result of this chapter is an analysis of the attributes of the raw data [[FeatWiki](./A_References.ipynb/#feature_deduplication_wiki)] for the capstone project. Out of this analysis, the attributes have been identifyed that are considered to be relevant for comparison. The list of these attributes is shown below."
   ]
  },
  {
   "cell_type": "code",
   "execution_count": 181,
   "metadata": {},
   "outputs": [
    {
     "data": {
      "text/plain": [
       "{'data_analysis_columns': ['coordinate_E',\n",
       "  'coordinate_N',\n",
       "  'corporate_full',\n",
       "  'doi',\n",
       "  'edition',\n",
       "  'exactDate',\n",
       "  'format_prefix',\n",
       "  'format_postfix',\n",
       "  'isbn',\n",
       "  'ismn',\n",
       "  'musicid',\n",
       "  'part',\n",
       "  'person_100',\n",
       "  'person_700',\n",
       "  'person_245c',\n",
       "  'pubinit',\n",
       "  'scale',\n",
       "  'ttlfull_245',\n",
       "  'ttlfull_246',\n",
       "  'volumes']}"
      ]
     },
     "execution_count": 181,
     "metadata": {},
     "output_type": "execute_result"
    }
   ],
   "source": [
    "columns_metadata_dict"
   ]
  },
  {
   "cell_type": "markdown",
   "metadata": {},
   "source": [
    "During the analysis and discussion of the attributes, some functions have been written, that will be used in the upcoming chapters for data preprocessing. As the next step, Swissbib's training and testing data will be analysed and processed in chapter [Goldstandard and Data Preparation](./2_GoldstandardDataPreparation.ipynb)."
   ]
  },
  {
   "cell_type": "code",
   "execution_count": null,
   "metadata": {},
   "outputs": [],
   "source": []
  }
 ],
 "metadata": {
  "kernelspec": {
   "display_name": "Python 3",
   "language": "python",
   "name": "python3"
  },
  "language_info": {
   "codemirror_mode": {
    "name": "ipython",
    "version": 3
   },
   "file_extension": ".py",
   "mimetype": "text/x-python",
   "name": "python",
   "nbconvert_exporter": "python",
   "pygments_lexer": "ipython3",
   "version": "3.7.1"
  }
 },
 "nbformat": 4,
 "nbformat_minor": 2
}
