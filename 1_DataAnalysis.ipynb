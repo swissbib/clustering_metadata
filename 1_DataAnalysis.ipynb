{
 "cells": [
  {
   "cell_type": "markdown",
   "metadata": {},
   "source": [
    "# Data Analysis"
   ]
  },
  {
   "cell_type": "markdown",
   "metadata": {},
   "source": [
    "For understanding the bibliographic catalogue data of the Swissbib platform, the project team has generated a sample .json file with a big amount of representative records. This chapter shows the analysis of this data delivery."
   ]
  },
  {
   "cell_type": "markdown",
   "metadata": {},
   "source": [
    "## Table of Contents\n",
    "\n",
    "- [Sample Records Analysis](#Sample-Records-Analysis)\n",
    "    - [Book](#Book)\n",
    "    - [Music](#Music)\n",
    "    - [Video Material](#Video-Material)\n",
    "    - [Map](#Map)\n",
    "    - [Periodical](#Periodical)\n",
    "    - [Collection](#Collection)\n",
    "    - [Computer File](#Computer-File)\n",
    "- [General Observation](#General-Observation)\n",
    "- [Attribute Analysis](#Attribute-Analysis)\n",
    "    - [Table of Contents of Attribute Analysis](#Table-of-Contents-of-Attribute-Analysis)\n",
    "- [Metadata Handover](#Metadata-Handover)\n",
    "- [Summary](#Summary)"
   ]
  },
  {
   "cell_type": "markdown",
   "metadata": {},
   "source": [
    "## Sample Records Analysis"
   ]
  },
  {
   "cell_type": "markdown",
   "metadata": {},
   "source": [
    "In this section, the data file is loaded and some sample data records are shown."
   ]
  },
  {
   "cell_type": "code",
   "execution_count": 1,
   "metadata": {},
   "outputs": [
    {
     "name": "stdout",
     "output_type": "stream",
     "text": [
      "Number of data records loaded 183407\n"
     ]
    }
   ],
   "source": [
    "import os\n",
    "import json\n",
    "\n",
    "records = []\n",
    "path_data = './data'\n",
    "path_goldstandard = './daten_goldstandard'\n",
    "\n",
    "for line in open(os.path.join(path_data, 'job7r4A1.json'), 'r'):\n",
    "    records.append(json.loads(line))\n",
    "\n",
    "print('Number of data records loaded', len(records))"
   ]
  },
  {
   "cell_type": "code",
   "execution_count": 2,
   "metadata": {},
   "outputs": [
    {
     "data": {
      "text/html": [
       "<div>\n",
       "<style scoped>\n",
       "    .dataframe tbody tr th:only-of-type {\n",
       "        vertical-align: middle;\n",
       "    }\n",
       "\n",
       "    .dataframe tbody tr th {\n",
       "        vertical-align: top;\n",
       "    }\n",
       "\n",
       "    .dataframe thead th {\n",
       "        text-align: right;\n",
       "    }\n",
       "</style>\n",
       "<table border=\"1\" class=\"dataframe\">\n",
       "  <thead>\n",
       "    <tr style=\"text-align: right;\">\n",
       "      <th></th>\n",
       "      <th>docid</th>\n",
       "      <th>035liste</th>\n",
       "      <th>isbn</th>\n",
       "      <th>ttlfull</th>\n",
       "      <th>ttlpart</th>\n",
       "      <th>person</th>\n",
       "      <th>corporate</th>\n",
       "      <th>pubyear</th>\n",
       "      <th>decade</th>\n",
       "      <th>century</th>\n",
       "      <th>exactDate</th>\n",
       "      <th>edition</th>\n",
       "      <th>part</th>\n",
       "      <th>pages</th>\n",
       "      <th>volumes</th>\n",
       "      <th>pubinit</th>\n",
       "      <th>pubword</th>\n",
       "      <th>scale</th>\n",
       "      <th>coordinate</th>\n",
       "      <th>doi</th>\n",
       "      <th>ismn</th>\n",
       "      <th>musicid</th>\n",
       "      <th>format</th>\n",
       "    </tr>\n",
       "  </thead>\n",
       "  <tbody>\n",
       "    <tr>\n",
       "      <th>0</th>\n",
       "      <td>554061449</td>\n",
       "      <td>[(OCoLC)1085491204, (IDSBB)006899773]</td>\n",
       "      <td>[]</td>\n",
       "      <td>{'245': ['Die Feist von Kienberg', 'eine Wasen...</td>\n",
       "      <td>{'245': ['Die Feist von Kienberg', 'eine Wasen...</td>\n",
       "      <td>{'100': ['SchluchterAndré'], '245c': ['André S...</td>\n",
       "      <td>{}</td>\n",
       "      <td>1992</td>\n",
       "      <td>1992</td>\n",
       "      <td>1992</td>\n",
       "      <td>1992</td>\n",
       "      <td></td>\n",
       "      <td>[]</td>\n",
       "      <td>[S. 102-114]</td>\n",
       "      <td>[S. 102-114]</td>\n",
       "      <td>[]</td>\n",
       "      <td>[]</td>\n",
       "      <td></td>\n",
       "      <td>[]</td>\n",
       "      <td>[]</td>\n",
       "      <td>[]</td>\n",
       "      <td></td>\n",
       "      <td>[BK020000]</td>\n",
       "    </tr>\n",
       "    <tr>\n",
       "      <th>1</th>\n",
       "      <td>554061481</td>\n",
       "      <td>[(OCoLC)1085491341, (IDSBB)006899983]</td>\n",
       "      <td>[]</td>\n",
       "      <td>{'245': ['Reimereien']}</td>\n",
       "      <td>{'245': ['Reimereien']}</td>\n",
       "      <td>{'100': ['NaegeliWerner'], '245c': ['von Werne...</td>\n",
       "      <td>{}</td>\n",
       "      <td>1986</td>\n",
       "      <td>1986</td>\n",
       "      <td>1986</td>\n",
       "      <td>1986</td>\n",
       "      <td></td>\n",
       "      <td>[]</td>\n",
       "      <td>[43 S.]</td>\n",
       "      <td>[43 S.]</td>\n",
       "      <td>[]</td>\n",
       "      <td>[]</td>\n",
       "      <td></td>\n",
       "      <td>[]</td>\n",
       "      <td>[]</td>\n",
       "      <td>[]</td>\n",
       "      <td></td>\n",
       "      <td>[BK020000]</td>\n",
       "    </tr>\n",
       "    <tr>\n",
       "      <th>2</th>\n",
       "      <td>554061503</td>\n",
       "      <td>[(OCoLC)1085491299, (IDSBB)006899959]</td>\n",
       "      <td>[]</td>\n",
       "      <td>{'245': ['Efficax antidotum ad matrimonia mixt...</td>\n",
       "      <td>{'245': ['Efficax antidotum ad matrimonia mixt...</td>\n",
       "      <td>{'100': ['KellyM.V.'], '700': ['GeniesseJ.B.']...</td>\n",
       "      <td>{}</td>\n",
       "      <td>1923</td>\n",
       "      <td>1923</td>\n",
       "      <td>1923</td>\n",
       "      <td>1923</td>\n",
       "      <td></td>\n",
       "      <td>[]</td>\n",
       "      <td>[75 p.]</td>\n",
       "      <td>[75 p.]</td>\n",
       "      <td>[]</td>\n",
       "      <td>[]</td>\n",
       "      <td></td>\n",
       "      <td>[]</td>\n",
       "      <td>[]</td>\n",
       "      <td>[]</td>\n",
       "      <td></td>\n",
       "      <td>[BK020000]</td>\n",
       "    </tr>\n",
       "    <tr>\n",
       "      <th>3</th>\n",
       "      <td>554061511</td>\n",
       "      <td>[(OCoLC)1085491268, (IDSBB)006896614]</td>\n",
       "      <td>[]</td>\n",
       "      <td>{'245': ['Probleme der Inflationsbekämpfung', ...</td>\n",
       "      <td>{'245': ['Probleme der Inflationsbekämpfung', ...</td>\n",
       "      <td>{'100': ['WegelinWalter'], '245c': ['']}</td>\n",
       "      <td>{}</td>\n",
       "      <td>1947</td>\n",
       "      <td>1947</td>\n",
       "      <td>1947</td>\n",
       "      <td>1947</td>\n",
       "      <td></td>\n",
       "      <td>[]</td>\n",
       "      <td>[24 S.]</td>\n",
       "      <td>[24 S.]</td>\n",
       "      <td>[]</td>\n",
       "      <td>[]</td>\n",
       "      <td></td>\n",
       "      <td>[]</td>\n",
       "      <td>[]</td>\n",
       "      <td>[]</td>\n",
       "      <td></td>\n",
       "      <td>[BK020000]</td>\n",
       "    </tr>\n",
       "    <tr>\n",
       "      <th>4</th>\n",
       "      <td>55406152X</td>\n",
       "      <td>[(OCoLC)1085491079, (IDSBB)006896866]</td>\n",
       "      <td>[]</td>\n",
       "      <td>{'245': ['[Poems]']}</td>\n",
       "      <td>{'245': ['[Poems]']}</td>\n",
       "      <td>{'100': ['OberlinUrs'], '245c': ['Urs Oberlin ...</td>\n",
       "      <td>{}</td>\n",
       "      <td>1991</td>\n",
       "      <td>1991</td>\n",
       "      <td>1991</td>\n",
       "      <td>1991</td>\n",
       "      <td></td>\n",
       "      <td>[]</td>\n",
       "      <td>[p. 14-15]</td>\n",
       "      <td>[p. 14-15]</td>\n",
       "      <td>[]</td>\n",
       "      <td>[]</td>\n",
       "      <td></td>\n",
       "      <td>[]</td>\n",
       "      <td>[]</td>\n",
       "      <td>[]</td>\n",
       "      <td></td>\n",
       "      <td>[BK020000]</td>\n",
       "    </tr>\n",
       "  </tbody>\n",
       "</table>\n",
       "</div>"
      ],
      "text/plain": [
       "       docid                               035liste isbn  \\\n",
       "0  554061449  [(OCoLC)1085491204, (IDSBB)006899773]   []   \n",
       "1  554061481  [(OCoLC)1085491341, (IDSBB)006899983]   []   \n",
       "2  554061503  [(OCoLC)1085491299, (IDSBB)006899959]   []   \n",
       "3  554061511  [(OCoLC)1085491268, (IDSBB)006896614]   []   \n",
       "4  55406152X  [(OCoLC)1085491079, (IDSBB)006896866]   []   \n",
       "\n",
       "                                             ttlfull  \\\n",
       "0  {'245': ['Die Feist von Kienberg', 'eine Wasen...   \n",
       "1                            {'245': ['Reimereien']}   \n",
       "2  {'245': ['Efficax antidotum ad matrimonia mixt...   \n",
       "3  {'245': ['Probleme der Inflationsbekämpfung', ...   \n",
       "4                               {'245': ['[Poems]']}   \n",
       "\n",
       "                                             ttlpart  \\\n",
       "0  {'245': ['Die Feist von Kienberg', 'eine Wasen...   \n",
       "1                            {'245': ['Reimereien']}   \n",
       "2  {'245': ['Efficax antidotum ad matrimonia mixt...   \n",
       "3  {'245': ['Probleme der Inflationsbekämpfung', ...   \n",
       "4                               {'245': ['[Poems]']}   \n",
       "\n",
       "                                              person corporate   pubyear  \\\n",
       "0  {'100': ['SchluchterAndré'], '245c': ['André S...        {}  1992       \n",
       "1  {'100': ['NaegeliWerner'], '245c': ['von Werne...        {}  1986       \n",
       "2  {'100': ['KellyM.V.'], '700': ['GeniesseJ.B.']...        {}  1923       \n",
       "3           {'100': ['WegelinWalter'], '245c': ['']}        {}  1947       \n",
       "4  {'100': ['OberlinUrs'], '245c': ['Urs Oberlin ...        {}  1991       \n",
       "\n",
       "  decade century exactDate edition part         pages       volumes pubinit  \\\n",
       "0   1992    1992  1992               []  [S. 102-114]  [S. 102-114]      []   \n",
       "1   1986    1986  1986               []       [43 S.]       [43 S.]      []   \n",
       "2   1923    1923  1923               []       [75 p.]       [75 p.]      []   \n",
       "3   1947    1947  1947               []       [24 S.]       [24 S.]      []   \n",
       "4   1991    1991  1991               []    [p. 14-15]    [p. 14-15]      []   \n",
       "\n",
       "  pubword scale coordinate doi ismn musicid      format  \n",
       "0      []               []  []   []          [BK020000]  \n",
       "1      []               []  []   []          [BK020000]  \n",
       "2      []               []  []   []          [BK020000]  \n",
       "3      []               []  []   []          [BK020000]  \n",
       "4      []               []  []   []          [BK020000]  "
      ]
     },
     "execution_count": 2,
     "metadata": {},
     "output_type": "execute_result"
    }
   ],
   "source": [
    "import pandas as pd\n",
    "\n",
    "# Generate Pandas DataFrame object out of the raw data\n",
    "df = pd.DataFrame(records)\n",
    "\n",
    "# Extend display to number of columns of DataFrame\n",
    "pd.options.display.max_columns = len(df.columns)\n",
    "\n",
    "df.head()"
   ]
  },
  {
   "cell_type": "code",
   "execution_count": 3,
   "metadata": {},
   "outputs": [
    {
     "name": "stdout",
     "output_type": "stream",
     "text": [
      "Number of records 183407, number of attributes per record 23.\n",
      "\n",
      "<class 'pandas.core.frame.DataFrame'>\n",
      "RangeIndex: 183407 entries, 0 to 183406\n",
      "Data columns (total 23 columns):\n",
      "docid         183407 non-null object\n",
      "035liste      183407 non-null object\n",
      "isbn          183407 non-null object\n",
      "ttlfull       183407 non-null object\n",
      "ttlpart       183407 non-null object\n",
      "person        183407 non-null object\n",
      "corporate     183407 non-null object\n",
      "pubyear       183407 non-null object\n",
      "decade        183407 non-null object\n",
      "century       183407 non-null object\n",
      "exactDate     183407 non-null object\n",
      "edition       183407 non-null object\n",
      "part          183407 non-null object\n",
      "pages         183407 non-null object\n",
      "volumes       183407 non-null object\n",
      "pubinit       183407 non-null object\n",
      "pubword       183407 non-null object\n",
      "scale         183407 non-null object\n",
      "coordinate    183407 non-null object\n",
      "doi           183407 non-null object\n",
      "ismn          183407 non-null object\n",
      "musicid       183407 non-null object\n",
      "format        183407 non-null object\n",
      "dtypes: object(23)\n",
      "memory usage: 32.2+ MB\n"
     ]
    }
   ],
   "source": [
    "print('Number of records {:d}, number of attributes per record {:d}.\\n'.format(\n",
    "    len(df), len(df.columns)))\n",
    "\n",
    "df.info()"
   ]
  },
  {
   "cell_type": "markdown",
   "metadata": {},
   "source": [
    "Swissbib data describes different kinds of bibliographic units, see [format](#format). The following subsections show some sample data for such units. The format is interpreted roughly in these subsections, compare Swissbib's [format codes](http://www.swissbib.org/wiki/index.php?title=Filtering#format_codes) [[FeatWiki](./A_References.ipynb#feature_deduplication_wiki)]."
   ]
  },
  {
   "cell_type": "code",
   "execution_count": 4,
   "metadata": {},
   "outputs": [
    {
     "data": {
      "text/plain": [
       "array(['BK', 'MU', 'VM', 'MP', 'CR', 'CL', 'CF', nan], dtype=object)"
      ]
     },
     "execution_count": 4,
     "metadata": {},
     "output_type": "execute_result"
    }
   ],
   "source": [
    "df.format.str[0].str[:2].unique()"
   ]
  },
  {
   "cell_type": "markdown",
   "metadata": {},
   "source": [
    "### Book"
   ]
  },
  {
   "cell_type": "markdown",
   "metadata": {},
   "source": [
    "A format code starting with $\\texttt{BK}$ stands for a bibliographic unit of a book or an article. A sample record is shown below."
   ]
  },
  {
   "cell_type": "code",
   "execution_count": 5,
   "metadata": {},
   "outputs": [
    {
     "data": {
      "text/plain": [
       "docid                                                 554061449\n",
       "035liste                  [(OCoLC)1085491204, (IDSBB)006899773]\n",
       "isbn                                                         []\n",
       "ttlfull       {'245': ['Die Feist von Kienberg', 'eine Wasen...\n",
       "ttlpart       {'245': ['Die Feist von Kienberg', 'eine Wasen...\n",
       "person        {'100': ['SchluchterAndré'], '245c': ['André S...\n",
       "corporate                                                    {}\n",
       "pubyear                                                1992    \n",
       "decade                                                     1992\n",
       "century                                                    1992\n",
       "exactDate                                              1992    \n",
       "edition                                                        \n",
       "part                                                         []\n",
       "pages                                              [S. 102-114]\n",
       "volumes                                            [S. 102-114]\n",
       "pubinit                                                      []\n",
       "pubword                                                      []\n",
       "scale                                                          \n",
       "coordinate                                                   []\n",
       "doi                                                          []\n",
       "ismn                                                         []\n",
       "musicid                                                        \n",
       "format                                               [BK020000]\n",
       "Name: 0, dtype: object"
      ]
     },
     "execution_count": 5,
     "metadata": {},
     "output_type": "execute_result"
    }
   ],
   "source": [
    "df.loc[df[df.format.str[0].str[:2]=='BK'].index[0]]"
   ]
  },
  {
   "cell_type": "markdown",
   "metadata": {},
   "source": [
    "### Music"
   ]
  },
  {
   "cell_type": "markdown",
   "metadata": {},
   "source": [
    "A format code starting with $\\texttt{MU}$ stands for a bibliographic unit that is related to music. A sample record is shown below."
   ]
  },
  {
   "cell_type": "code",
   "execution_count": 6,
   "metadata": {},
   "outputs": [
    {
     "data": {
      "text/plain": [
       "docid                                                 554098806\n",
       "035liste                  [(OCoLC)1085495414, (IDSBB)007052696]\n",
       "isbn                                                         []\n",
       "ttlfull                             {'245': ['Violin sonatas']}\n",
       "ttlpart                             {'245': ['Violin sonatas']}\n",
       "person        {'100': ['BrahmsJohannes1833-1897(DE-588)11851...\n",
       "corporate                                                    {}\n",
       "pubyear                                                20182018\n",
       "decade                                                     2018\n",
       "century                                                    2018\n",
       "exactDate                                              20182018\n",
       "edition                                                        \n",
       "part                                                         []\n",
       "pages                                            [1 CD (69:42)]\n",
       "volumes                                          [1 CD (69:42)]\n",
       "pubinit                                                      []\n",
       "pubword                                                      []\n",
       "scale                                                          \n",
       "coordinate                                                   []\n",
       "doi                                                          []\n",
       "ismn                                                         []\n",
       "musicid                                              GCD 924201\n",
       "format                                               [MU040100]\n",
       "Name: 1788, dtype: object"
      ]
     },
     "execution_count": 6,
     "metadata": {},
     "output_type": "execute_result"
    }
   ],
   "source": [
    "df.loc[df[df.format.str[0].str[:2]=='MU'].index[0]]"
   ]
  },
  {
   "cell_type": "markdown",
   "metadata": {},
   "source": [
    "### Video Material"
   ]
  },
  {
   "cell_type": "markdown",
   "metadata": {},
   "source": [
    "A format code starting with $\\texttt{VM}$ represents some film material. A sample record is shown below."
   ]
  },
  {
   "cell_type": "code",
   "execution_count": 7,
   "metadata": {},
   "outputs": [
    {
     "data": {
      "text/plain": [
       "docid                                                 554098911\n",
       "035liste      [(OCoLC)1065768412, (IDSBB)007052702, (OCoLC)1...\n",
       "isbn                         [978-3-946274-20-9, 3-946274-20-X]\n",
       "ttlfull       {'245': ['Kunst und Gemüse, A. Hipler', 'Art a...\n",
       "ttlpart       {'245': ['Kunst und Gemüse, A. Hipler', 'Art a...\n",
       "person        {'100': [], '700': ['SchlingensiefChristoph196...\n",
       "corporate                                                    {}\n",
       "pubyear                                                20182008\n",
       "decade                                                     2018\n",
       "century                                                    2018\n",
       "exactDate                                              20182008\n",
       "edition                                                        \n",
       "part                                                     [2004]\n",
       "pages                                  [2 DVD-Videos (283 min)]\n",
       "volumes                                [2 DVD-Videos (283 min)]\n",
       "pubinit                                                      []\n",
       "pubword                                                      []\n",
       "scale                                                          \n",
       "coordinate                                                   []\n",
       "doi                                                          []\n",
       "ismn                                                         []\n",
       "musicid                                                        \n",
       "format                                               [VM010000]\n",
       "Name: 1795, dtype: object"
      ]
     },
     "execution_count": 7,
     "metadata": {},
     "output_type": "execute_result"
    }
   ],
   "source": [
    "df.loc[df[df.format.str[0].str[:2]=='VM'].index[0]]"
   ]
  },
  {
   "cell_type": "markdown",
   "metadata": {},
   "source": [
    "### Map"
   ]
  },
  {
   "cell_type": "markdown",
   "metadata": {},
   "source": [
    "A format code starting with $\\texttt{MP}$ is a map. A sample record is shown below."
   ]
  },
  {
   "cell_type": "code",
   "execution_count": 8,
   "metadata": {},
   "outputs": [
    {
     "data": {
      "text/plain": [
       "docid                                                 554099039\n",
       "035liste                  [(OCoLC)1085495396, (IDSBB)007052708]\n",
       "isbn                                                         []\n",
       "ttlfull       {'245': ['Nova descriptio Comitatus Hollandiæ'...\n",
       "ttlpart       {'245': ['Nova descriptio Comitatus Hollandiæ'...\n",
       "person        {'100': ['BlaeuWillem Janszoon1571-1638(DE-588...\n",
       "corporate                                                    {}\n",
       "pubyear                                                19931604\n",
       "decade                                                     1993\n",
       "century                                                    1993\n",
       "exactDate                                              19931604\n",
       "edition                                               Facsimile\n",
       "part                                                         []\n",
       "pages                                                 [1 Karte]\n",
       "volumes                                               [1 Karte]\n",
       "pubinit                                                      []\n",
       "pubword                                                      []\n",
       "scale                                                    400000\n",
       "coordinate                                 [E0035400, N0532700]\n",
       "doi                                                          []\n",
       "ismn                                                         []\n",
       "musicid                                                        \n",
       "format                                               [MP010300]\n",
       "Name: 1801, dtype: object"
      ]
     },
     "execution_count": 8,
     "metadata": {},
     "output_type": "execute_result"
    }
   ],
   "source": [
    "df.loc[df[df.format.str[0].str[:2]=='MP'].index[0]]"
   ]
  },
  {
   "cell_type": "markdown",
   "metadata": {},
   "source": [
    "### Periodical"
   ]
  },
  {
   "cell_type": "markdown",
   "metadata": {},
   "source": [
    "A format code starting with $\\texttt{CR}$ is a bibliographic unit of a periodical. A sample record is shown below."
   ]
  },
  {
   "cell_type": "code",
   "execution_count": 9,
   "metadata": {},
   "outputs": [
    {
     "data": {
      "text/plain": [
       "docid                                                 55409939X\n",
       "035liste                   [(OCoLC)699516877, (IDSBB)007052728]\n",
       "isbn                                                [1533-4406]\n",
       "ttlfull       {'245': ['The new England journal of medicine ...\n",
       "ttlpart       {'245': ['The new England journal of medicine ...\n",
       "person                                {'100': [], '245c': ['']}\n",
       "corporate                                                    {}\n",
       "pubyear                                                18121826\n",
       "decade                                                     1812\n",
       "century                                                    1812\n",
       "exactDate                                              18121826\n",
       "edition                                                        \n",
       "part                                                         []\n",
       "pages                                        [Online-Ressource]\n",
       "volumes                                      [Online-Ressource]\n",
       "pubinit                                                      []\n",
       "pubword                                                      []\n",
       "scale                                                          \n",
       "coordinate                                                   []\n",
       "doi                                                          []\n",
       "ismn                                                         []\n",
       "musicid                                                        \n",
       "format                                               [CR030653]\n",
       "Name: 1825, dtype: object"
      ]
     },
     "execution_count": 9,
     "metadata": {},
     "output_type": "execute_result"
    }
   ],
   "source": [
    "df.loc[df[df.format.str[0].str[:2]=='CR'].index[0]]"
   ]
  },
  {
   "cell_type": "markdown",
   "metadata": {},
   "source": [
    "### Collection"
   ]
  },
  {
   "cell_type": "markdown",
   "metadata": {},
   "source": [
    "A format code starting with $\\texttt{CL}$ is a collection. A sample record is shown below."
   ]
  },
  {
   "cell_type": "code",
   "execution_count": 10,
   "metadata": {},
   "outputs": [
    {
     "data": {
      "text/plain": [
       "docid                                                 554101610\n",
       "035liste                  [(OCoLC)1085510940, (IDSBB)007052979]\n",
       "isbn                                                         []\n",
       "ttlfull       {'245': ['[St. Gallischer Hilfsverein - Sankt ...\n",
       "ttlpart       {'245': ['[St. Gallischer Hilfsverein - Sankt ...\n",
       "person                                {'100': [], '245c': ['']}\n",
       "corporate               {'110': ['St. Gallischer Hilfsverein']}\n",
       "pubyear                                                20179999\n",
       "decade                                                     2017\n",
       "century                                                    2017\n",
       "exactDate                                              20179999\n",
       "edition                                                        \n",
       "part                                                         []\n",
       "pages                                                 [1 Mappe]\n",
       "volumes                                               [1 Mappe]\n",
       "pubinit                                                      []\n",
       "pubword                                                      []\n",
       "scale                                                          \n",
       "coordinate                                                   []\n",
       "doi                                                          []\n",
       "ismn                                                         []\n",
       "musicid                                                        \n",
       "format                                               [CL010000]\n",
       "Name: 1955, dtype: object"
      ]
     },
     "execution_count": 10,
     "metadata": {},
     "output_type": "execute_result"
    }
   ],
   "source": [
    "df.loc[df[df.format.str[0].str[:2]=='CL'].index[0]]"
   ]
  },
  {
   "cell_type": "markdown",
   "metadata": {},
   "source": [
    "### Computer File"
   ]
  },
  {
   "cell_type": "markdown",
   "metadata": {},
   "source": [
    "A format code starting with $\\texttt{CF}$ is a placeholder for a computer file on any kind of storage. A sample record is shown below."
   ]
  },
  {
   "cell_type": "code",
   "execution_count": 11,
   "metadata": {},
   "outputs": [
    {
     "data": {
      "text/plain": [
       "docid                                                 554144301\n",
       "035liste                   [(IDSBB)007008154, (RERO)R007245313]\n",
       "isbn                                                         []\n",
       "ttlfull       {'245': ['Ice Age 4', 'voll verschoben : die a...\n",
       "ttlpart       {'245': ['Ice Age 4', 'voll verschoben : die a...\n",
       "person                                {'100': [], '245c': ['']}\n",
       "corporate                                                    {}\n",
       "pubyear                                                2012    \n",
       "decade                                                     2012\n",
       "century                                                    2012\n",
       "exactDate                                              2012    \n",
       "edition                                                        \n",
       "part                                                         []\n",
       "pages                                         [1 Speicherkarte]\n",
       "volumes                                       [1 Speicherkarte]\n",
       "pubinit                                                      []\n",
       "pubword                                                      []\n",
       "scale                                                          \n",
       "coordinate                                                   []\n",
       "doi                                                          []\n",
       "ismn                                                         []\n",
       "musicid                                                        \n",
       "format                                               [CF010000]\n",
       "Name: 5947, dtype: object"
      ]
     },
     "execution_count": 11,
     "metadata": {},
     "output_type": "execute_result"
    }
   ],
   "source": [
    "df.loc[df[df.format.str[0].str[:2]=='CF'].index[0]]"
   ]
  },
  {
   "cell_type": "markdown",
   "metadata": {},
   "source": [
    "## General Observation"
   ]
  },
  {
   "cell_type": "markdown",
   "metadata": {},
   "source": [
    "As can be observed in the sample records displayed above, the attributes of the records are stored in basic Python datatypes like strings, lists (of strings), and dictionaries. A look into the raw data file confirms this observation."
   ]
  },
  {
   "cell_type": "code",
   "execution_count": 12,
   "metadata": {},
   "outputs": [
    {
     "name": "stdout",
     "output_type": "stream",
     "text": [
      "{\"docid\":\"554061449\",\"035liste\":[\"(OCoLC)1085491204\",\"(IDSBB)006899773\"],\"isbn\":[],\"ttlfull\":{\"245\":[\"Die Feist von Kienberg\",\"eine Wasenmeisterfamilie im Ancien Régime zwischen Ehrbarkeit und Delinquenz\"]},\"ttlpart\":{\"245\":[\"Die Feist von Kienberg\",\"eine Wasenmeisterfamilie im Ancien Régime zwischen Ehrbarkeit und Delinquenz\"]},\"person\":{\"100\":[\"SchluchterAndré\"],\"245c\":[\"André Schluchter\"]},\"corporate\":{},\"pubyear\":\"1992    \",\"decade\":\"1992\",\"century\":\"1992\",\"exactDate\":\"1992    \",\"edition\":\"\",\"part\":[],\"pages\":[\"S. 102-114\"],\"volumes\":[\"S. 102-114\"],\"pubinit\":[],\"pubword\":[],\"scale\":\"\",\"coordinate\":[],\"doi\":[],\"ismn\":[],\"musicid\":\"\",\"format\":[\"BK020000\"]}\r\n",
      "{\"docid\":\"554061481\",\"035liste\":[\"(OCoLC)1085491341\",\"(IDSBB)006899983\"],\"isbn\":[],\"ttlfull\":{\"245\":[\"Reimereien\"]},\"ttlpart\":{\"245\":[\"Reimereien\"]},\"person\":{\"100\":[\"NaegeliWerner\"],\"245c\":[\"von Werner Naegeli\"]},\"corporate\":{},\"pubyear\":\"1986    \",\"decade\":\"1986\",\"century\":\"1986\",\"exactDate\":\"1986    \",\"edition\":\"\",\"part\":[],\"pages\":[\"43 S.\"],\"volumes\":[\"43 S.\"],\"pubinit\":[],\"pubword\":[],\"scale\":\"\",\"coordinate\":[],\"doi\":[],\"ismn\":[],\"musicid\":\"\",\"format\":[\"BK020000\"]}\r\n"
     ]
    }
   ],
   "source": [
    "! head -n 2 ./data/job7r4A1.json"
   ]
  },
  {
   "cell_type": "markdown",
   "metadata": {},
   "source": [
    "A specific analysis on each attribute, its meaning and contents will be done as a next step. For the upcoming analysis, each attribute of the data records is assigned to its specific group type. This is done with the help of a global dictionary variable $\\texttt{columns}\\_\\texttt{metadata}\\_\\texttt{dict}$."
   ]
  },
  {
   "cell_type": "code",
   "execution_count": 13,
   "metadata": {},
   "outputs": [],
   "source": [
    "columns_metadata_dict = {}"
   ]
  },
  {
   "cell_type": "markdown",
   "metadata": {},
   "source": [
    "## Attribute Analysis"
   ]
  },
  {
   "cell_type": "markdown",
   "metadata": {},
   "source": [
    "This section analyses the attributes provided by the Swissbib data extracts. The extracted data is used as a basis for the machine learning models in the capstone project. The attributes are based on the MARC 21 Format for Bibliographic Data [[MARC](./A_References.ipynb#marc21)] and are documented on a Swissbib wikipedia page [[FeatWiki](./A_References.ipynb#feature_deduplication_wiki)]."
   ]
  },
  {
   "cell_type": "code",
   "execution_count": 14,
   "metadata": {},
   "outputs": [
    {
     "data": {
      "text/plain": [
       "Index(['docid', '035liste', 'isbn', 'ttlfull', 'ttlpart', 'person',\n",
       "       'corporate', 'pubyear', 'decade', 'century', 'exactDate', 'edition',\n",
       "       'part', 'pages', 'volumes', 'pubinit', 'pubword', 'scale', 'coordinate',\n",
       "       'doi', 'ismn', 'musicid', 'format'],\n",
       "      dtype='object')"
      ]
     },
     "execution_count": 14,
     "metadata": {},
     "output_type": "execute_result"
    }
   ],
   "source": [
    "df.columns"
   ]
  },
  {
   "cell_type": "markdown",
   "metadata": {},
   "source": [
    "This section provides and uses some functions that have been written for supporting the analysis of the attributes as well as for data preprocessing in the upcoming chapters. These functions have been defined in separate code files.\n",
    "\n",
    "- [data_analysis_funcs.py](./data_analysis_funcs.py)\n",
    "- [data_preparation_funcs.py](./data_preparation_funcs.py)"
   ]
  },
  {
   "cell_type": "code",
   "execution_count": 15,
   "metadata": {},
   "outputs": [],
   "source": [
    "import data_analysis_funcs as daf\n",
    "import data_preparation_funcs as dpf"
   ]
  },
  {
   "cell_type": "markdown",
   "metadata": {},
   "source": [
    "### Table of Contents of Attribute Analysis\n",
    "\n",
    "- [035liste](#035liste)\n",
    "- [century](#century)\n",
    "- [coordinate](#coordinate)\n",
    "- [corporate](#corporate)\n",
    "- [decade](#decade)\n",
    "- [docid](#docid)\n",
    "- [doi](#doi)\n",
    "- [edition](#edition)\n",
    "- [exactDate](#exactDate)\n",
    "- [format](#format)\n",
    "- [isbn](#isbn)\n",
    "- [ismn](#ismn)\n",
    "- [musicid](#musicid)\n",
    "- [pages](#pages)\n",
    "- [part](#part)\n",
    "- [person](#person)\n",
    "- [pubinit](#pubinit)\n",
    "- [pubword](#pubword)\n",
    "- [pubyear](#pubyear)\n",
    "- [scale](#scale)\n",
    "- [ttlfull](#ttlfull)\n",
    "- [ttlpart](#ttlpart)\n",
    "- [volumes](#volumes)"
   ]
  },
  {
   "cell_type": "markdown",
   "metadata": {},
   "source": [
    "### 035liste"
   ]
  },
  {
   "cell_type": "code",
   "execution_count": 16,
   "metadata": {},
   "outputs": [],
   "source": [
    "columns_metadata_dict['list_columns'] = ['035liste']"
   ]
  },
  {
   "cell_type": "markdown",
   "metadata": {},
   "source": [
    "Attribute $\\texttt{035liste}$ holds a list of identifiers from the originating library of a bibliographic unit, see [[FeatWiki](./A_References.ipynb/#feature_deduplication_wiki)]. Each record of the Swissbib data holds at least one identifier. Some examples are shown below."
   ]
  },
  {
   "cell_type": "code",
   "execution_count": 17,
   "metadata": {},
   "outputs": [
    {
     "name": "stdout",
     "output_type": "stream",
     "text": [
      "Number of records with filled 035liste 183407, with missing 035liste 0 => 100.0%\n"
     ]
    }
   ],
   "source": [
    "_, _ = daf.find_empty_in_column(df, columns_metadata_dict, '035liste')"
   ]
  },
  {
   "cell_type": "code",
   "execution_count": 18,
   "metadata": {},
   "outputs": [
    {
     "data": {
      "text/plain": [
       "83463     1\n",
       "150669    1\n",
       "150668    1\n",
       "150667    1\n",
       "150666    1\n",
       "Name: 035liste, dtype: int64"
      ]
     },
     "execution_count": 18,
     "metadata": {},
     "output_type": "execute_result"
    }
   ],
   "source": [
    "df['035liste'].apply(lambda x : len(x)).sort_values().head(5)"
   ]
  },
  {
   "cell_type": "code",
   "execution_count": 19,
   "metadata": {},
   "outputs": [
    {
     "data": {
      "text/plain": [
       "144185    20\n",
       "54084     21\n",
       "30793     21\n",
       "136608    21\n",
       "61603     21\n",
       "14755     21\n",
       "49974     22\n",
       "139972    22\n",
       "139191    23\n",
       "124359    23\n",
       "Name: 035liste, dtype: int64"
      ]
     },
     "execution_count": 19,
     "metadata": {},
     "output_type": "execute_result"
    }
   ],
   "source": [
    "df['035liste'].apply(lambda x : len(x)).sort_values().tail(10)"
   ]
  },
  {
   "cell_type": "code",
   "execution_count": 20,
   "metadata": {},
   "outputs": [
    {
     "name": "stdout",
     "output_type": "stream",
     "text": [
      "Some sample identifiers:\n"
     ]
    },
    {
     "data": {
      "text/plain": [
       "63693     [(OCoLC)879331196, (IDSBB)007059510, (OCoLC)87...\n",
       "19250     [(OCoLC)1048383938, (SGBN)001445646, (OCoLC)10...\n",
       "101595                [(OCoLC)1086358535, (NEBIS)011340230]\n",
       "159623                                         [(CEO)22619]\n",
       "18620                                    [(RERO)R008885536]\n",
       "65647                  [(OCoLC)315598042, (IDSBB)004797698]\n",
       "30952     [(IDSBB)003754324, (SNL)991011487699703976, (S...\n",
       "168992                                        [(CEO)165307]\n",
       "88622        [(SERSOL)ssib034519000, (WaSeSS)ssib034519000]\n",
       "37802        [(SERSOL)ssj0002060974, (WaSeSS)ssj0002060974]\n",
       "Name: 035liste, dtype: object"
      ]
     },
     "execution_count": 20,
     "metadata": {},
     "output_type": "execute_result"
    }
   ],
   "source": [
    "print('Some sample identifiers:')\n",
    "df['035liste'].sample(n=10)"
   ]
  },
  {
   "cell_type": "markdown",
   "metadata": {},
   "source": [
    "Attribute $\\texttt{035liste}$ is the central attribute for finding duplicates in the training data of the Swissbib's goldstandard. This process will be explained and implemented in chapter [Goldstandard and Data Preparation](./2_GoldstandardDataPreparation.ipynb)."
   ]
  },
  {
   "cell_type": "markdown",
   "metadata": {},
   "source": [
    "### century"
   ]
  },
  {
   "cell_type": "code",
   "execution_count": 21,
   "metadata": {},
   "outputs": [],
   "source": [
    "columns_metadata_dict['strings_columns'] = ['century']"
   ]
  },
  {
   "cell_type": "code",
   "execution_count": 22,
   "metadata": {},
   "outputs": [
    {
     "name": "stdout",
     "output_type": "stream",
     "text": [
      "Number of records with filled century 183407, with missing century 0 => 100.0%\n",
      "\n",
      "EMPTY - None\n",
      "\n",
      "FILLED - index 0 \n",
      "\n",
      "docid                                                 554061449\n",
      "035liste                  [(OCoLC)1085491204, (IDSBB)006899773]\n",
      "isbn                                                         []\n",
      "ttlfull       {'245': ['Die Feist von Kienberg', 'eine Wasen...\n",
      "ttlpart       {'245': ['Die Feist von Kienberg', 'eine Wasen...\n",
      "person        {'100': ['SchluchterAndré'], '245c': ['André S...\n",
      "corporate                                                    {}\n",
      "pubyear                                                1992    \n",
      "decade                                                     1992\n",
      "century                                                    1992\n",
      "exactDate                                              1992    \n",
      "edition                                                        \n",
      "part                                                         []\n",
      "pages                                              [S. 102-114]\n",
      "volumes                                            [S. 102-114]\n",
      "pubinit                                                      []\n",
      "pubword                                                      []\n",
      "scale                                                          \n",
      "coordinate                                                   []\n",
      "doi                                                          []\n",
      "ismn                                                         []\n",
      "musicid                                                        \n",
      "format                                               [BK020000]\n",
      "Name: 0, dtype: object\n"
     ]
    }
   ],
   "source": [
    "idx_century_filled, idx_century_empty = daf.find_empty_in_column(df, columns_metadata_dict, 'century')\n",
    "\n",
    "daf.two_examples(df, idx_century_filled, idx_century_empty)"
   ]
  },
  {
   "cell_type": "markdown",
   "metadata": {},
   "source": [
    "Attribute $\\texttt{century}$ holds information on the year of origin of the bibliographic unit [[FeatWiki](./A_References.ipynb/#feature_deduplication_wiki)]. The attribute holds strings of length 4 that can predominantly be interpreted as year-dates. Some examples and the top-most quantity distribution are shown below."
   ]
  },
  {
   "cell_type": "code",
   "execution_count": 23,
   "metadata": {},
   "outputs": [
    {
     "data": {
      "text/plain": [
       "128314    2018\n",
       "157016    1928\n",
       "137624    2000\n",
       "118923    uuuu\n",
       "108061    1995\n",
       "49281     2008\n",
       "83323     2018\n",
       "70764     2018\n",
       "74338     1989\n",
       "176942    2011\n",
       "29491     2019\n",
       "89644     2019\n",
       "149818    1993\n",
       "97830     2017\n",
       "110379    2019\n",
       "Name: century, dtype: object"
      ]
     },
     "execution_count": 23,
     "metadata": {},
     "output_type": "execute_result"
    }
   ],
   "source": [
    "df['century'].sample(n=15)"
   ]
  },
  {
   "cell_type": "code",
   "execution_count": 24,
   "metadata": {},
   "outputs": [
    {
     "data": {
      "text/plain": [
       "2018    0.208389\n",
       "2019    0.086785\n",
       "2017    0.046350\n",
       "uuuu    0.036236\n",
       "2016    0.025223\n",
       "1999    0.020201\n",
       "2015    0.019879\n",
       "2014    0.018156\n",
       "2012    0.016286\n",
       "2013    0.015616\n",
       "Name: century, dtype: float64"
      ]
     },
     "execution_count": 24,
     "metadata": {},
     "output_type": "execute_result"
    }
   ],
   "source": [
    "df.century.value_counts(normalize=True).head(10)"
   ]
  },
  {
   "cell_type": "markdown",
   "metadata": {},
   "source": [
    "If the year-date is unclear to some extent or no year-date of the unit is registered, letter 'u' is used as a placeholder of the unknown digit."
   ]
  },
  {
   "cell_type": "code",
   "execution_count": 25,
   "metadata": {},
   "outputs": [
    {
     "data": {
      "text/plain": [
       "array(['uuuu', 'u826', '193u', '197u', '192u', '19uu', '200u', '198u',\n",
       "       '189u', '188u', '18uu', '201u', '20uu', 'u829', '195u', '218u',\n",
       "       '196u', '17uu', '1uuu', '199u', 'u611', '191u', '190u', 'u713',\n",
       "       'u999', '194u', 'u693', '186u', '184u', '15uu', 'uuu1'],\n",
       "      dtype=object)"
      ]
     },
     "execution_count": 25,
     "metadata": {},
     "output_type": "execute_result"
    }
   ],
   "source": [
    "df.century[df.century.str.contains('u')].unique()"
   ]
  },
  {
   "cell_type": "markdown",
   "metadata": {},
   "source": [
    "The above statement results in the same array like the following regular expression."
   ]
  },
  {
   "cell_type": "code",
   "execution_count": 26,
   "metadata": {},
   "outputs": [
    {
     "data": {
      "text/plain": [
       "array(['uuuu', 'u826', '193u', '197u', '192u', '19uu', '200u', '198u',\n",
       "       '189u', '188u', '18uu', '201u', '20uu', 'u829', '195u', '218u',\n",
       "       '196u', '17uu', '1uuu', '199u', 'u611', '191u', '190u', 'u713',\n",
       "       'u999', '194u', 'u693', '186u', '184u', '15uu', 'uuu1'],\n",
       "      dtype=object)"
      ]
     },
     "execution_count": 26,
     "metadata": {},
     "output_type": "execute_result"
    }
   ],
   "source": [
    "df.century[df.century.str.contains('[^0-9]')].unique()"
   ]
  },
  {
   "cell_type": "code",
   "execution_count": 27,
   "metadata": {},
   "outputs": [
    {
     "data": {
      "text/plain": [
       "array(['1992', '1986', '1923', '1947', '1991', '1967', '1950', '1985',\n",
       "       '1983', '1942', '1883', '1990', '1984', '1989', '1993', '1961',\n",
       "       '1940', '1981', '1988', '1858', '1978', '1977', '1880', '1945',\n",
       "       '1963', '1912', '1884', '1937', '1956', '1943', '1916', '1960',\n",
       "       '1980', '1936', '1906', '1987', '1955', '1944', '1953', '1930',\n",
       "       '1903', '1913', '1938', '1895', '1905', '1920', '1918', '1857',\n",
       "       '1928', '1881', '1932', '1900', '1924', '1915', '1931', '1927',\n",
       "       '1919', '1896', '1922', '1871', '1926', '1939', '1907', '1776',\n",
       "       '1873', '1893', '1968', '1975', '1946', '1833', '1855', '1949',\n",
       "       '1962', '1971', '1959', '1966', '1862', '1898', '1901', '1904',\n",
       "       '1902', '1951', '1909', '1929', '1921', '1882', '1964', '1911',\n",
       "       '1957', '1897', '1910', '1867', '1914', '1908', '1958', '1934',\n",
       "       '1933', '1872', '1845', '1979', '1954', '1885', '1810', '1891',\n",
       "       '1869', '1876', '1889', '1836', '1952', '1935', '1948', '1917',\n",
       "       '1879', '1887', '1865', '1899', '1892', '1861', '1870', '1894',\n",
       "       '1941', '1925', '1837', '1864', '1846', '1848', '1691', '1657',\n",
       "       '1623', '1590', '1538', '1686', '1544', '1596', '1631', '1580',\n",
       "       '1628', '1793', '1823', '1802', '1831', '1816', '1838', '1825',\n",
       "       '1826', '1839', '1852', '1890', '1820', '1863', '1856', '1683',\n",
       "       '1877', '1835', '1827', '1850', '1841', '1822', '1847', '1834',\n",
       "       '1824', '1840', '1875', '1756', '1752', '1650', '1573', '1528',\n",
       "       '1554', '1552', '1751', '1653', '1798', '1791', '1645', '1814',\n",
       "       '1763', '1695', '1512', '1807', '1698', '1589', '1796', '1712',\n",
       "       '1818', '1773', '1803', '1828', '1806', '1853', '1785', '1744',\n",
       "       '1525', '1779', '1809', '1811', '1714', '1705', '1787', '1874',\n",
       "       '1781', '1888', '1859', '1772', '1771', '1602', '1851', '1784',\n",
       "       '1886', '1774', '1620', '1804', '1582', '1732', '1829', '1800',\n",
       "       '1789', '1842', '1764', '1797', '1805', '1795', '1868', '1758',\n",
       "       '1713', '1741', '1830', '1821', '1670', '1777', '1770', '1711',\n",
       "       '1762', '1768', '1813', '1761', '1819', '1769', '1801', '1832',\n",
       "       '1555', '1532', '1767', '1815', '1812', '1700', '1757', '1799',\n",
       "       '1710', '1843', '1722', '1760', '1701', '1574', '1651', '1733',\n",
       "       '1786', '1665', '1790', '1723', '1860', '1659', '1737', '1750',\n",
       "       '1716', '1739', '1759', '1808', '1728', '1748', '1577', '1706',\n",
       "       '1724', '1604', '1745', '1753', '1766', '1780', '1878', '1788',\n",
       "       '1673', '1735', '1778', '1715', '1782', '1671', '1702', '1731',\n",
       "       '1639', '1982', '1743', '1866', '1676', '1694', '1584', '1854',\n",
       "       '1969', '1690', '1708', '1688', '1565', '1754', '1638', '1755',\n",
       "       '1624', '1674', '1550', '1629', '1747', '1727', '1749', '1562',\n",
       "       '1641', '1617', '1794', '1844', '1783', '1817', '1849', '1792',\n",
       "       '1730', '1687', '1649', '1541', '1696', '1707', '2018', '2013',\n",
       "       '2009', '2011', '2006', '2014', '2019', '2015', '1997', '2020',\n",
       "       '1746', '2017', '2000', '1996', '1999', '2016', '1765', '1995',\n",
       "       '1972', '1974', '1738', '1965', '2001', '2004', '2010', '2002',\n",
       "       '2008', '2003', '1661', '1664', '1970', '1998', '2012', '1973',\n",
       "       '1994', '2005', '1729', '1634', '2007', '1976', '1658', '1775',\n",
       "       '1537', '1594', '1607', '1682', '1692', '1685', '1526', '1720',\n",
       "       '1564', '1561', '1734', '1543', '1679', '1697', '1591', '1655',\n",
       "       '1643', '1660', '1563', '1569', '1576', '1619', '1668', '1556',\n",
       "       '1736', '1675', '1600', '1542', '1557', '1539', '1540', '1699',\n",
       "       '1721', '1566', '1717', '1535', '1616', '1626', '1507', '1637',\n",
       "       '1548', '1640', '1681', '1672', '1559', '1689', '1644', '1703',\n",
       "       '1588', '1680', '1578', '1618', '1611', '1553', '1551', '1627',\n",
       "       '1630', '1606', '1608', '1560', '1572', '1579', '1593', '1718',\n",
       "       '1740', '1575', '1570', '1587', '1666', '1669', '1704', '1663',\n",
       "       '1595', '1515', '1615', '1585', '1527', '1601', '1523', '1633',\n",
       "       '1678', '1635', '1667', '1598', '1622', '1656', '1684', '1719',\n",
       "       '1648', '1652', '1499', '1530', '1489', '1480', '1642', '1547',\n",
       "       '1592', '1546', '1545', '1583', '1599', '1549', '1610', '1614',\n",
       "       '1508', '1531', '1497', '1613', '1693', '1498', '1742', '1603',\n",
       "       '1514', '1625', '1654', '1534', '1621', '1558', '1636', '1522',\n",
       "       '1521', '1482', '1725', '2021', '1472', '1605', '1597', '1567',\n",
       "       '1568', '1709', '1509', '1662', '1609', '1612', '1010', '1100',\n",
       "       '1455', '1400', '1647', '1490', '1300', '1401', '1430', '1301',\n",
       "       '1201', '1101', '1425', '1001', '1000', '1200', '1501', '1500',\n",
       "       '1504', '1581', '1465', '1503', '1474', '1444', '1418', '1478',\n",
       "       '1632', '1510', '1363', '1250', '1325', '1350', '1502', '1327',\n",
       "       '1450', '1520', '1150', '1389', '1518', '1185', '1677', '1571',\n",
       "       '1646', '1726', '1586', '1495'], dtype=object)"
      ]
     },
     "execution_count": 27,
     "metadata": {},
     "output_type": "execute_result"
    }
   ],
   "source": [
    "df.century[~df.century.str.contains('[u]')].unique()"
   ]
  },
  {
   "cell_type": "markdown",
   "metadata": {},
   "source": [
    "The following graph shows the publishing activity of Western European literature."
   ]
  },
  {
   "cell_type": "code",
   "execution_count": 28,
   "metadata": {},
   "outputs": [
    {
     "data": {
      "image/png": "[encoded data removed]",
      "text/plain": [
       "<Figure size 864x288 with 1 Axes>"
      ]
     },
     "metadata": {
      "needs_background": "light"
     },
     "output_type": "display_data"
    }
   ],
   "source": [
    "%matplotlib inline\n",
    "import matplotlib.pyplot as plt\n",
    "import numpy as np\n",
    "\n",
    "fig, ax = plt.subplots(nrows=1, ncols=1, figsize=(12, 4))\n",
    "\n",
    "plt.hist(df.century[~df.century.str.contains('[u]')].astype(int), bins=60, log=True)\n",
    "plt.xticks(rotation='vertical')\n",
    "plt.title('Stock of bibliographic units per pubication year')\n",
    "plt.xlabel('year of publication')\n",
    "plt.ylabel('log(amount of bibliographical units)')\n",
    "plt.show()"
   ]
  },
  {
   "cell_type": "markdown",
   "metadata": {},
   "source": [
    "The attribute is taken over to the feature matrix without an extra processing in [Goldstandard and Data Preparation](./2_GoldstandardDataPreparation.ipynb)."
   ]
  },
  {
   "cell_type": "code",
   "execution_count": 29,
   "metadata": {},
   "outputs": [],
   "source": [
    "columns_metadata_dict['data_analysis_columns'] = ['century']"
   ]
  },
  {
   "cell_type": "markdown",
   "metadata": {},
   "source": [
    "### coordinate"
   ]
  },
  {
   "cell_type": "code",
   "execution_count": 30,
   "metadata": {},
   "outputs": [],
   "source": [
    "columns_metadata_dict['list_columns'] = ['coordinate']"
   ]
  },
  {
   "cell_type": "markdown",
   "metadata": {},
   "source": [
    "Attribute $\\texttt{coordinate}$ holds geographical coordinate information on the related bibliographical unit of format map."
   ]
  },
  {
   "cell_type": "code",
   "execution_count": 31,
   "metadata": {},
   "outputs": [
    {
     "name": "stdout",
     "output_type": "stream",
     "text": [
      "Number of records with filled coordinate 730, with missing coordinate 182677 => 0.4%\n"
     ]
    }
   ],
   "source": [
    "_, _ = daf.find_empty_in_column(df, columns_metadata_dict, 'coordinate')"
   ]
  },
  {
   "cell_type": "code",
   "execution_count": 32,
   "metadata": {},
   "outputs": [
    {
     "name": "stdout",
     "output_type": "stream",
     "text": [
      "Number of records with filled coordinate 729, with missing coordinate 183 => 79.9%\n"
     ]
    }
   ],
   "source": [
    "_, _ = daf.find_empty_in_column(df[df.format.str[0].str[:2]=='MP'], columns_metadata_dict, 'coordinate')"
   ]
  },
  {
   "cell_type": "code",
   "execution_count": 33,
   "metadata": {},
   "outputs": [
    {
     "data": {
      "text/plain": [
       "114789    [E0062617, N0465337]\n",
       "27734     [E0094805, N0463034]\n",
       "105477    [E0173051, N0511140]\n",
       "113766    [E0091209, N0471227]\n",
       "59699     [E0222400, N0370100]\n",
       "111774    [E0093047, N0463315]\n",
       "114861    [E0060601, N0463715]\n",
       "113767    [E0090507, N0470919]\n",
       "20507     [W1800000, N0900000]\n",
       "23503                       []\n",
       "Name: coordinate, dtype: object"
      ]
     },
     "execution_count": 33,
     "metadata": {},
     "output_type": "execute_result"
    }
   ],
   "source": [
    "df['coordinate'][df.format.str[0].str[:2]=='MP'].sample(n=10)"
   ]
  },
  {
   "cell_type": "markdown",
   "metadata": {},
   "source": [
    "The attribute stores its values in the form of a list. The list may hold more than two specific coordinate values. A specific coordinate value is mostly of length 8 characters."
   ]
  },
  {
   "cell_type": "code",
   "execution_count": 34,
   "metadata": {},
   "outputs": [
    {
     "data": {
      "text/plain": [
       "148518             [E0100200, E0100206, N0464600, N0464645]\n",
       "137329             [E0082310, E0082314, N0464707, N0464711]\n",
       "137875             [E0074200, E0074200, N0463427, N0463400]\n",
       "47291              [E0070144, E0051505, N0475623, N0464822]\n",
       "20694              [E0073306, E0073408, N0471208, N0471158]\n",
       "57054              [E0203500, E0201900, N0383100, N0383100]\n",
       "133537             [E0070205, E0070202, N0463814, N0463809]\n",
       "136954    [E0083620, E0083624, E0083624, N0462105, N0462...\n",
       "144673             [E0071030, E0071454, N0472004, N0471948]\n",
       "83161              [E0073547, E0073544, N0465345, N0465341]\n",
       "Name: coordinate, dtype: object"
      ]
     },
     "execution_count": 34,
     "metadata": {},
     "output_type": "execute_result"
    }
   ],
   "source": [
    "df_maps = df.loc[df.coordinate.apply(lambda x : len(x))[df.format.str[0].str[:2]=='MP'].index]\n",
    "df_maps.coordinate[df_maps.coordinate.apply(lambda x : len(x)) > 2].sample(n=10)"
   ]
  },
  {
   "cell_type": "code",
   "execution_count": 35,
   "metadata": {},
   "outputs": [
    {
     "data": {
      "text/plain": [
       "'E012.500000 transforms to E0125000'"
      ]
     },
     "execution_count": 35,
     "metadata": {},
     "output_type": "execute_result"
    }
   ],
   "source": [
    "df.coordinate.loc[15139][0] + ' transforms to ' + df.coordinate.loc[15139][0].replace('.', '')[:8].upper()"
   ]
  },
  {
   "cell_type": "code",
   "execution_count": 36,
   "metadata": {},
   "outputs": [
    {
     "data": {
      "text/plain": [
       "'E0125000'"
      ]
     },
     "execution_count": 36,
     "metadata": {},
     "output_type": "execute_result"
    }
   ],
   "source": [
    "df.coordinate.loc[15139][0].replace('.', '')[:8].upper()"
   ]
  },
  {
   "cell_type": "markdown",
   "metadata": {},
   "source": [
    "Attribute $\\texttt{coordinate}$ is a relevant identifying attribute for duplicates of maps. The attribute will be used for pair comparison in the feature matrix. The format of its filled list is slightly complicated, though. For this reason, the contents of the field will be transformed."
   ]
  },
  {
   "cell_type": "code",
   "execution_count": 37,
   "metadata": {},
   "outputs": [],
   "source": [
    "df = dpf.split_coordinate(df)"
   ]
  },
  {
   "cell_type": "code",
   "execution_count": 38,
   "metadata": {},
   "outputs": [
    {
     "data": {
      "text/plain": [
       "143472    e0064728\n",
       "83968     e0074200\n",
       "53669     e0241546\n",
       "18181     e0085307\n",
       "126755    e0061944\n",
       "114743    e0094619\n",
       "54198     e0072733\n",
       "132592    e0054801\n",
       "126801    e0070041\n",
       "137457    e0090349\n",
       "105477    e0173051\n",
       "114424    e0092552\n",
       "104538    e0065253\n",
       "59536     e0080958\n",
       "28313     e0065512\n",
       "47921     e0070057\n",
       "1849      e0071440\n",
       "105451    e0211041\n",
       "182727    e0070045\n",
       "29521     e0071400\n",
       "Name: coordinate_E, dtype: object"
      ]
     },
     "execution_count": 38,
     "metadata": {},
     "output_type": "execute_result"
    }
   ],
   "source": [
    "df.coordinate_E[df.coordinate_E.apply(lambda x : x!='')].sample(n=20)"
   ]
  },
  {
   "cell_type": "code",
   "execution_count": 39,
   "metadata": {},
   "outputs": [
    {
     "data": {
      "text/plain": [
       "105433    n0465150\n",
       "146667    n0465936\n",
       "131853    n0464212\n",
       "61409     n0474810\n",
       "16793     n0411900\n",
       "182748    n0465350\n",
       "113680    n0471534\n",
       "113730    n0525100\n",
       "98806     n0465934\n",
       "35086     n0465737\n",
       "54208     n0470702\n",
       "56849     n0470315\n",
       "27785     n0465328\n",
       "56856     n0470048\n",
       "106167    n0470600\n",
       "56874     n0465130\n",
       "25428     n0472612\n",
       "56851     n0465631\n",
       "137458    n0463346\n",
       "139707    n0500500\n",
       "Name: coordinate_N, dtype: object"
      ]
     },
     "execution_count": 39,
     "metadata": {},
     "output_type": "execute_result"
    }
   ],
   "source": [
    "df.coordinate_N[df.coordinate_N.apply(lambda x : x!='')].sample(n=20)"
   ]
  },
  {
   "cell_type": "code",
   "execution_count": 40,
   "metadata": {},
   "outputs": [
    {
     "name": "stdout",
     "output_type": "stream",
     "text": [
      "East / west coordinates?  [nan 'e' 'w']\n",
      "North / south coordinates?  [nan 'n' 's']\n"
     ]
    }
   ],
   "source": [
    "print('East / west coordinates? ', df.coordinate_E.str[0].unique())\n",
    "print('North / south coordinates? ', df.coordinate_N.str[0].unique())"
   ]
  },
  {
   "cell_type": "code",
   "execution_count": 41,
   "metadata": {},
   "outputs": [],
   "source": [
    "columns_metadata_dict['data_analysis_columns'].append('coordinate_E')\n",
    "columns_metadata_dict['data_analysis_columns'].append('coordinate_N')"
   ]
  },
  {
   "cell_type": "markdown",
   "metadata": {},
   "source": [
    "### corporate"
   ]
  },
  {
   "cell_type": "code",
   "execution_count": 42,
   "metadata": {},
   "outputs": [],
   "source": [
    "columns_metadata_dict['strings_columns'].append('corporate')"
   ]
  },
  {
   "cell_type": "markdown",
   "metadata": {},
   "source": [
    "Attribute $\\texttt{corporate}$ is a collection of corporate names of the bibliographical unit, see [[FeatWiki](./A_References.ipynb/#feature_deduplication_wiki)]. The attribute out of the raw data comes along as a dictionary column in the DataFrame with three possible key value pairs. For reasons of easier processing, attribute $\\texttt{corporate}$ will be split into a separate attribute for each key of the dictionary. The values come along as lists and the implemented function $\\texttt{.transform}\\_\\texttt{list}\\_\\texttt{to}\\_\\texttt{string()}$ will be used to process its elements into one single string of the new column."
   ]
  },
  {
   "cell_type": "code",
   "execution_count": 43,
   "metadata": {},
   "outputs": [
    {
     "data": {
      "text/plain": [
       "12425                                                    {}\n",
       "136203                                                   {}\n",
       "140581                                                   {}\n",
       "39260                                                    {}\n",
       "1471                                                     {}\n",
       "3752                             {'710': ['Dry the River']}\n",
       "158972     {'110': ['Československy svaz tělesné výchovy']}\n",
       "120383                                                   {}\n",
       "116857                                                   {}\n",
       "162357                                                   {}\n",
       "149875                                                   {}\n",
       "81815                                                    {}\n",
       "88635                                                    {}\n",
       "69399                                                    {}\n",
       "139139    {'710': ['Groupe d'études des littératures des...\n",
       "166508                                                   {}\n",
       "15511                          {'710': ['Rondo Veneziano']}\n",
       "36626                                                    {}\n",
       "119735                                                   {}\n",
       "161230                                                   {}\n",
       "Name: corporate, dtype: object"
      ]
     },
     "execution_count": 43,
     "metadata": {},
     "output_type": "execute_result"
    }
   ],
   "source": [
    "df.corporate.sample(n=20)"
   ]
  },
  {
   "cell_type": "code",
   "execution_count": 44,
   "metadata": {},
   "outputs": [
    {
     "name": "stdout",
     "output_type": "stream",
     "text": [
      "Number of records with filled corporate_110 11370, with missing corporate_110 172037 => 6.2%\n",
      "Number of records with filled corporate_710 23123, with missing corporate_710 160284 => 12.6%\n",
      "Number of records with filled corporate_810 57, with missing corporate_810 183350 => 0.0%\n"
     ]
    }
   ],
   "source": [
    "for ending in ['110', '710', '810']:\n",
    "    df = dpf.transform_dictionary_to_list(df, 'corporate', ending)\n",
    "    df = dpf.transform_list_to_string(df, 'corporate_'+ending)\n",
    "\n",
    "    columns_metadata_dict['strings_columns'].append('corporate_'+ending)\n",
    "    _, _ = daf.find_empty_in_column(df, columns_metadata_dict, 'corporate_'+ending)"
   ]
  },
  {
   "cell_type": "markdown",
   "metadata": {},
   "source": [
    "The attribute is sparsely filled. This is due to the fact that most of Swissbib's bibliographical units are units produced by persons, not corporates."
   ]
  },
  {
   "cell_type": "code",
   "execution_count": 45,
   "metadata": {},
   "outputs": [
    {
     "data": {
      "text/plain": [
       "corporate_110    11349\n",
       "corporate_710    11349\n",
       "dtype: int64"
      ]
     },
     "execution_count": 45,
     "metadata": {},
     "output_type": "execute_result"
    }
   ],
   "source": [
    "df[['corporate_110', 'corporate_710']][\n",
    "    (df.corporate_110!=df.corporate_710) &\n",
    "    (df.corporate_110.apply(lambda x : len(x))!=0)].count()"
   ]
  },
  {
   "cell_type": "code",
   "execution_count": 46,
   "metadata": {},
   "outputs": [
    {
     "data": {
      "text/plain": [
       "corporate_110    21\n",
       "corporate_710    21\n",
       "dtype: int64"
      ]
     },
     "execution_count": 46,
     "metadata": {},
     "output_type": "execute_result"
    }
   ],
   "source": [
    "df[['corporate_110', 'corporate_710']][\n",
    "    (df.corporate_110==df.corporate_710) &\n",
    "    (df.corporate_110.apply(lambda x : len(x))!=0)].count()"
   ]
  },
  {
   "cell_type": "code",
   "execution_count": 47,
   "metadata": {},
   "outputs": [
    {
     "data": {
      "text/html": [
       "<div>\n",
       "<style scoped>\n",
       "    .dataframe tbody tr th:only-of-type {\n",
       "        vertical-align: middle;\n",
       "    }\n",
       "\n",
       "    .dataframe tbody tr th {\n",
       "        vertical-align: top;\n",
       "    }\n",
       "\n",
       "    .dataframe thead th {\n",
       "        text-align: right;\n",
       "    }\n",
       "</style>\n",
       "<table border=\"1\" class=\"dataframe\">\n",
       "  <thead>\n",
       "    <tr style=\"text-align: right;\">\n",
       "      <th></th>\n",
       "      <th>corporate_110</th>\n",
       "      <th>corporate_710</th>\n",
       "    </tr>\n",
       "  </thead>\n",
       "  <tbody>\n",
       "    <tr>\n",
       "      <th>10383</th>\n",
       "      <td>verein deutscher bibliothekare, regionalverban...</td>\n",
       "      <td>verein deutscher bibliothekare, zentral- und l...</td>\n",
       "    </tr>\n",
       "    <tr>\n",
       "      <th>14064</th>\n",
       "      <td>slavs and tatars</td>\n",
       "      <td>kunsthalle im lipsiusbau, kunstverein hannover</td>\n",
       "    </tr>\n",
       "    <tr>\n",
       "      <th>14918</th>\n",
       "      <td>heilsarmee, nationales hauptquartier bern</td>\n",
       "      <td>salvation army, nationales hauptquartier</td>\n",
       "    </tr>\n",
       "    <tr>\n",
       "      <th>15687</th>\n",
       "      <td>berner alpenbahn-gesellschaft bern-lötschberg-...</td>\n",
       "      <td>lötschbergbahn</td>\n",
       "    </tr>\n",
       "    <tr>\n",
       "      <th>16185</th>\n",
       "      <td>jordan schnitzer family foundation</td>\n",
       "      <td>hallie ford museum of art</td>\n",
       "    </tr>\n",
       "  </tbody>\n",
       "</table>\n",
       "</div>"
      ],
      "text/plain": [
       "                                           corporate_110  \\\n",
       "10383  verein deutscher bibliothekare, regionalverban...   \n",
       "14064                                   slavs and tatars   \n",
       "14918          heilsarmee, nationales hauptquartier bern   \n",
       "15687  berner alpenbahn-gesellschaft bern-lötschberg-...   \n",
       "16185                 jordan schnitzer family foundation   \n",
       "\n",
       "                                           corporate_710  \n",
       "10383  verein deutscher bibliothekare, zentral- und l...  \n",
       "14064     kunsthalle im lipsiusbau, kunstverein hannover  \n",
       "14918           salvation army, nationales hauptquartier  \n",
       "15687                                     lötschbergbahn  \n",
       "16185                          hallie ford museum of art  "
      ]
     },
     "execution_count": 47,
     "metadata": {},
     "output_type": "execute_result"
    }
   ],
   "source": [
    "df[['corporate_110', 'corporate_710']][\n",
    "    (df.corporate_110!=df.corporate_710) &\n",
    "    (df.corporate_110.apply(lambda x : len(x))!=0) &\n",
    "    (df.corporate_710.apply(lambda x : len(x))!=0)\n",
    "].head()"
   ]
  },
  {
   "cell_type": "markdown",
   "metadata": {},
   "source": [
    "The attribute holds different data in its dictionary key 110 compared to its dictionary key 710. Both key values of $\\texttt{corporate}$ seem to be relevant for the model. Some examples are shown below."
   ]
  },
  {
   "cell_type": "code",
   "execution_count": 48,
   "metadata": {},
   "outputs": [
    {
     "data": {
      "text/plain": [
       "152056    international olympic committee. session. 1984...\n",
       "160871                      international olympic committee\n",
       "170928                            magyar olimpiai bizottság\n",
       "153925                            tirol werbung (innsbruck)\n",
       "161031                                            baku 2016\n",
       "160848    universiade d'hiver. comité d'organisation. 17...\n",
       "167494                   istanbul olympic bidding committee\n",
       "150505    summer olympic games. organizing committee. 28...\n",
       "182745                     eidgenössische landestopographie\n",
       "150738    summer olympic games. organizing committee. 16...\n",
       "1849                       eidgenössische landestopographie\n",
       "154274                                               torino\n",
       "154941    fédération internationale de football association\n",
       "157711                     türkiye millî olimpiyat komitesi\n",
       "151944         jordan sports federation for the handicapped\n",
       "155453                       sportcal global communications\n",
       "150293    national olympic committee of the azerbaijani ...\n",
       "160968    académie internationale olympique. session. 10...\n",
       "156360    olympic winter games. organizing committee. 16...\n",
       "167879                      international olympic committee\n",
       "Name: corporate_110, dtype: object"
      ]
     },
     "execution_count": 48,
     "metadata": {},
     "output_type": "execute_result"
    }
   ],
   "source": [
    "df.corporate_110[df.corporate_110.apply(lambda x : len(x))!=0].sample(n=20)"
   ]
  },
  {
   "cell_type": "code",
   "execution_count": 49,
   "metadata": {},
   "outputs": [
    {
     "data": {
      "text/plain": [
       "17039     moléson impressions (meyrin), genève (ville).,...\n",
       "44046                         union of concerned scientists\n",
       "43192                                          project muse\n",
       "130883    international economics study group, annual co...\n",
       "77072     rundfunk-sinfonieorchester berlin, staatsoper ...\n",
       "128604               university of pennsylvania, law school\n",
       "147285    office de propagande pour les produits de l'ag...\n",
       "7216                            orchestra barocca (venezia)\n",
       "112154                                         gospel voice\n",
       "31563     center for advanced studies in language, style...\n",
       "15451                              ensemble gilles binchois\n",
       "30110                                 atelier otto rietmann\n",
       "11706                                                 wheel\n",
       "104090    bulgarien, komisija za razkrivane na dokumenti...\n",
       "19137                           alpengarten schynige platte\n",
       "35267                                aedes architekturforum\n",
       "146031       sapientia hungarian university of transylvania\n",
       "15443                                     ensemble daedalus\n",
       "3097                          dr. feelgood (groupe musical)\n",
       "26956                                uni-taschenbücher gmbh\n",
       "Name: corporate_710, dtype: object"
      ]
     },
     "execution_count": 49,
     "metadata": {},
     "output_type": "execute_result"
    }
   ],
   "source": [
    "df.corporate_710[df.corporate_710.apply(lambda x : len(x))!=0].sample(n=20)"
   ]
  },
  {
   "cell_type": "code",
   "execution_count": 50,
   "metadata": {},
   "outputs": [
    {
     "data": {
      "text/plain": [
       "110582                              hallwag kümmerly + frey\n",
       "106173                              hallwag kümmerly + frey\n",
       "86065                               hallwag kümmerly + frey\n",
       "25264               schweiz, bundesamt für landestopografie\n",
       "115817                deutschland, verteidigungsministerium\n",
       "30888               schweiz, bundesamt für landestopografie\n",
       "110598                              hallwag kümmerly + frey\n",
       "110593                                            hema maps\n",
       "72532                                         werbung kiser\n",
       "25406               schweiz, bundesamt für landestopografie\n",
       "72562                                         werbung kiser\n",
       "106140                              hallwag kümmerly + frey\n",
       "110574                                            hema maps\n",
       "113869                              peter-ochs-gesellschaft\n",
       "25428               schweiz, bundesamt für landestopografie\n",
       "133706    carnegie endowment for international peace., d...\n",
       "25374               schweiz, bundesamt für landestopografie\n",
       "94679                                             hécatombe\n",
       "145721              schweiz, bundesamt für landestopografie\n",
       "94680                                             hécatombe\n",
       "Name: corporate_810, dtype: object"
      ]
     },
     "execution_count": 50,
     "metadata": {},
     "output_type": "execute_result"
    }
   ],
   "source": [
    "df.corporate_810[df.corporate_810.apply(lambda x : len(x))!=0].sample(n=20)"
   ]
  },
  {
   "cell_type": "code",
   "execution_count": 51,
   "metadata": {},
   "outputs": [
    {
     "data": {
      "text/plain": [
       "45080              {'810': ['Wirtschaftsuniversität Wien']}\n",
       "47145     {'110': ['Biochemical Society (Great Britain)'...\n",
       "52134     {'710': ['Kunsthandlung Helmut H. Rumbler'], '...\n",
       "94673     {'710': ['Ensemble Batida', 'Hécatombe'], '810...\n",
       "94674     {'710': ['Ensemble Batida', 'Hécatombe'], '810...\n",
       "94678     {'710': ['Ensemble Batida', 'Hécatombe'], '810...\n",
       "94679     {'710': ['Ensemble Batida', 'Hécatombe'], '810...\n",
       "94680     {'710': ['Ensemble Batida', 'Hécatombe'], '810...\n",
       "113869                 {'810': ['Peter-Ochs-Gesellschaft']}\n",
       "113870                 {'810': ['Peter-Ochs-Gesellschaft']}\n",
       "133706    {'110': ['Carnegie Endowment for International...\n",
       "133739    {'810': ['Deutschland', 'Verteidigungsminister...\n",
       "143892    {'110': ['Judge Advocate General's School (Uni...\n",
       "Name: corporate, dtype: object"
      ]
     },
     "execution_count": 51,
     "metadata": {},
     "output_type": "execute_result"
    }
   ],
   "source": [
    "df.corporate[(df.corporate_110 != df.corporate_810) &\n",
    "             (df.corporate_810.apply(lambda x : len(x))!=0)]"
   ]
  },
  {
   "cell_type": "markdown",
   "metadata": {},
   "source": [
    "Only a few records hold data in attribute $\\texttt{corporate}$ with key value 810. Furthermore, attribute $\\texttt{corporate}$ at key 810 stores strongly redundant data to $\\texttt{corporate}$ at key value 110. Therefore, attribute $\\texttt{corporate}$ with key 810 will be dropped [[WiCo2001](./A_References.ipynb#wico2001)]."
   ]
  },
  {
   "cell_type": "code",
   "execution_count": 52,
   "metadata": {},
   "outputs": [],
   "source": [
    "columns_metadata_dict['data_analysis_columns'].append('corporate_110')\n",
    "columns_metadata_dict['data_analysis_columns'].append('corporate_710')"
   ]
  },
  {
   "cell_type": "markdown",
   "metadata": {},
   "source": [
    "### decade"
   ]
  },
  {
   "cell_type": "code",
   "execution_count": 53,
   "metadata": {},
   "outputs": [],
   "source": [
    "columns_metadata_dict['strings_columns'].append('decade')"
   ]
  },
  {
   "cell_type": "code",
   "execution_count": 54,
   "metadata": {},
   "outputs": [
    {
     "data": {
      "text/html": [
       "<div>\n",
       "<style scoped>\n",
       "    .dataframe tbody tr th:only-of-type {\n",
       "        vertical-align: middle;\n",
       "    }\n",
       "\n",
       "    .dataframe tbody tr th {\n",
       "        vertical-align: top;\n",
       "    }\n",
       "\n",
       "    .dataframe thead th {\n",
       "        text-align: right;\n",
       "    }\n",
       "</style>\n",
       "<table border=\"1\" class=\"dataframe\">\n",
       "  <thead>\n",
       "    <tr style=\"text-align: right;\">\n",
       "      <th></th>\n",
       "      <th>docid</th>\n",
       "      <th>035liste</th>\n",
       "      <th>isbn</th>\n",
       "      <th>ttlfull</th>\n",
       "      <th>ttlpart</th>\n",
       "      <th>person</th>\n",
       "      <th>corporate</th>\n",
       "      <th>pubyear</th>\n",
       "      <th>decade</th>\n",
       "      <th>century</th>\n",
       "      <th>exactDate</th>\n",
       "      <th>...</th>\n",
       "      <th>scale</th>\n",
       "      <th>coordinate</th>\n",
       "      <th>doi</th>\n",
       "      <th>ismn</th>\n",
       "      <th>musicid</th>\n",
       "      <th>format</th>\n",
       "      <th>coordinate_E</th>\n",
       "      <th>coordinate_N</th>\n",
       "      <th>corporate_110</th>\n",
       "      <th>corporate_710</th>\n",
       "      <th>corporate_810</th>\n",
       "    </tr>\n",
       "  </thead>\n",
       "  <tbody>\n",
       "  </tbody>\n",
       "</table>\n",
       "<p>0 rows × 28 columns</p>\n",
       "</div>"
      ],
      "text/plain": [
       "Empty DataFrame\n",
       "Columns: [docid, 035liste, isbn, ttlfull, ttlpart, person, corporate, pubyear, decade, century, exactDate, edition, part, pages, volumes, pubinit, pubword, scale, coordinate, doi, ismn, musicid, format, coordinate_E, coordinate_N, corporate_110, corporate_710, corporate_810]\n",
       "Index: []\n",
       "\n",
       "[0 rows x 28 columns]"
      ]
     },
     "execution_count": 54,
     "metadata": {},
     "output_type": "execute_result"
    }
   ],
   "source": [
    "df[df.decade != df.century]"
   ]
  },
  {
   "cell_type": "markdown",
   "metadata": {},
   "source": [
    "The attribute holds identical data to attribute $\\texttt{century}$. Its MARC 21 definition is the same, too. The purpose of the field is to derive the decade of the year of origin of a bibliographic unit and store it for comparison. This is done in Swissbib's conventional deduplication implementation [[WiCo2001](./A_References.ipynb#wico2001)]. Chapter [Feature Matrix Generation](./3_FeatureMatrixGeneration.ipynb) will apply a similarity metric for $\\texttt{century}$ that takes the decade into specific consideration for attribute $\\texttt{century}$. Therefore, attribute $\\texttt{decade}$ will be dropped."
   ]
  },
  {
   "cell_type": "markdown",
   "metadata": {},
   "source": [
    "### docid"
   ]
  },
  {
   "cell_type": "code",
   "execution_count": 55,
   "metadata": {},
   "outputs": [],
   "source": [
    "columns_metadata_dict['strings_columns'].append('docid')"
   ]
  },
  {
   "cell_type": "code",
   "execution_count": 56,
   "metadata": {},
   "outputs": [
    {
     "name": "stdout",
     "output_type": "stream",
     "text": [
      "Number of records with filled docid 183407, with missing docid 0 => 100.0%\n"
     ]
    }
   ],
   "source": [
    "idx_docid_filled, idx_docid_empty = daf.find_empty_in_column(df, columns_metadata_dict, 'docid')"
   ]
  },
  {
   "cell_type": "code",
   "execution_count": 57,
   "metadata": {},
   "outputs": [
    {
     "data": {
      "text/plain": [
       "'554061449'"
      ]
     },
     "execution_count": 57,
     "metadata": {},
     "output_type": "execute_result"
    }
   ],
   "source": [
    "df.docid[0]"
   ]
  },
  {
   "cell_type": "markdown",
   "metadata": {},
   "source": [
    "The $\\texttt{docid}$ is a unique identifier for a record of the data set. The attribute will become important for identifying master records for their associated slave records, see chapter [Goldstandard and Data Preparation](./2_GoldstandardDataPreparation.ipynb). It will not be used directly for the training of the model."
   ]
  },
  {
   "cell_type": "markdown",
   "metadata": {},
   "source": [
    "### doi"
   ]
  },
  {
   "cell_type": "code",
   "execution_count": 58,
   "metadata": {},
   "outputs": [],
   "source": [
    "columns_metadata_dict['list_columns'].append('doi')"
   ]
  },
  {
   "cell_type": "code",
   "execution_count": 59,
   "metadata": {},
   "outputs": [
    {
     "name": "stdout",
     "output_type": "stream",
     "text": [
      "Number of records with filled doi 10114, with missing doi 173293 => 5.5%\n"
     ]
    }
   ],
   "source": [
    "idx_doi_filled, idx_doi_empty = daf.find_empty_in_column(df, columns_metadata_dict, 'doi')"
   ]
  },
  {
   "cell_type": "code",
   "execution_count": 60,
   "metadata": {},
   "outputs": [
    {
     "data": {
      "text/plain": [
       "1854                                     [00028947575214]\n",
       "1899    [10.5451/unibas-007052902, urn:nbn:ch:bel-bau-...\n",
       "1937    [10.5451/unibas-007052953, urn:nbn:ch:bel-bau-...\n",
       "2046                                     [04600317120499]\n",
       "2063                                     [00602567484134]\n",
       "2207                                     [00039841539226]\n",
       "2245                                     [00096802280399]\n",
       "2286                                     [00761195120422]\n",
       "2494                                     [04250095800740]\n",
       "2779                                     [00888837038720]\n",
       "2996                     [urn:nbn:de:101:1-2016111912809]\n",
       "3087                                     [00605633131628]\n",
       "3385                     [urn:nbn:de:101:1-2017040728657]\n",
       "4094                                     [00602547324375]\n",
       "4504                                     [00656605612812]\n",
       "4710                             [10.14361/9783839445334]\n",
       "6579                                     [00887254706021]\n",
       "7624                                     [00075597959413]\n",
       "8125                                     [03770001901282]\n",
       "9663                      [urn:nbn:de:101:1-201706101980]\n",
       "Name: doi, dtype: object"
      ]
     },
     "execution_count": 60,
     "metadata": {},
     "output_type": "execute_result"
    }
   ],
   "source": [
    "df.doi[df.doi.apply(lambda x : len(x))>0].head(20)"
   ]
  },
  {
   "cell_type": "code",
   "execution_count": 61,
   "metadata": {},
   "outputs": [
    {
     "data": {
      "text/plain": [
       "docid                                                    554099918\n",
       "035liste         [(OCoLC)71126385, (IDSBB)007052820, (OCoLC)711...\n",
       "isbn                                                            []\n",
       "ttlfull          {'245': ['Symphony no. 8'], '246': ['Symphony ...\n",
       "ttlpart                                {'245': ['Symphony no. 8']}\n",
       "person           {'100': ['MahlerGustav1860-1911(DE-588)1185762...\n",
       "corporate        {'710': ['Konzertvereinigung Wiener Staatsoper...\n",
       "pubyear                                                   20062006\n",
       "decade                                                        2006\n",
       "century                                                       2006\n",
       "exactDate                                                 20062006\n",
       "edition                                                           \n",
       "part                                                            []\n",
       "pages                                               [1 Cd (79:48)]\n",
       "volumes                                             [1 Cd (79:48)]\n",
       "pubinit                                                         []\n",
       "pubword                                                         []\n",
       "scale                                                             \n",
       "coordinate                                                      []\n",
       "doi                                               [00028947575214]\n",
       "ismn                                              [00028947575214]\n",
       "musicid                                                   475 7521\n",
       "format                                                  [MU040100]\n",
       "coordinate_E                                                      \n",
       "coordinate_N                                                      \n",
       "corporate_110                                                     \n",
       "corporate_710    konzertvereinigung wiener staatsopernchor, ges...\n",
       "corporate_810                                                     \n",
       "Name: 1854, dtype: object"
      ]
     },
     "execution_count": 61,
     "metadata": {},
     "output_type": "execute_result"
    }
   ],
   "source": [
    "df.loc[1854]"
   ]
  },
  {
   "cell_type": "code",
   "execution_count": 62,
   "metadata": {},
   "outputs": [
    {
     "name": "stdout",
     "output_type": "stream",
     "text": [
      "2,312 records hold 1 list element(s).\n",
      "13 records hold 2 list element(s).\n",
      "11 records hold 3 list element(s).\n",
      "1 records hold 4 list element(s).\n",
      "0 records hold 5 list element(s).\n",
      "=> Maximum number of list elements 4\n"
     ]
    }
   ],
   "source": [
    "i = 0\n",
    "while len(df.doi[df.doi.apply(lambda x : len(x))>i]) > 0 :\n",
    "    i = i+1\n",
    "    print('{:,d} records hold {:d} list element(s).'.format(len(df.doi[df.doi.apply(lambda x : len(x))>i]), i))\n",
    "        \n",
    "print('=> Maximum number of list elements', i-1)"
   ]
  },
  {
   "cell_type": "markdown",
   "metadata": {},
   "source": [
    "Attribute $\\texttt{doi}$ is a digital object identifier. It will be taken to the feature matrix without modification."
   ]
  },
  {
   "cell_type": "code",
   "execution_count": 63,
   "metadata": {},
   "outputs": [],
   "source": [
    "columns_metadata_dict['data_analysis_columns'].append('doi')"
   ]
  },
  {
   "cell_type": "markdown",
   "metadata": {},
   "source": [
    "### edition"
   ]
  },
  {
   "cell_type": "code",
   "execution_count": 64,
   "metadata": {},
   "outputs": [],
   "source": [
    "columns_metadata_dict['strings_columns'].append('edition')"
   ]
  },
  {
   "cell_type": "code",
   "execution_count": 65,
   "metadata": {},
   "outputs": [
    {
     "name": "stdout",
     "output_type": "stream",
     "text": [
      "Number of records with filled edition 25352, with missing edition 158055 => 13.8%\n"
     ]
    }
   ],
   "source": [
    "_, _ = daf.find_empty_in_column(df, columns_metadata_dict, 'edition')"
   ]
  },
  {
   "cell_type": "markdown",
   "metadata": {},
   "source": [
    "Attribute $\\texttt{edition}$ holds the edition statement [[FeatWiki](./A_References.ipynb/#feature_deduplication_wiki)]. The data type of the attribute is a string value."
   ]
  },
  {
   "cell_type": "code",
   "execution_count": 66,
   "metadata": {},
   "outputs": [
    {
     "data": {
      "text/plain": [
       "48696                                          [5. Aufl.]\n",
       "56609     300 Exemplare, ausschliessliche Geschenkausgabe\n",
       "69255                                              6e éd.\n",
       "55434                                      Second edition\n",
       "93960                                      Prima edizione\n",
       "54770                                1. Auflage, 1. Druck\n",
       "131990                                       Originalausg\n",
       "53730                        2., überarbeitete Neuauflage\n",
       "105744                                          Wydanie 1\n",
       "69087                                            8ème éd.\n",
       "Name: edition, dtype: object"
      ]
     },
     "execution_count": 66,
     "metadata": {},
     "output_type": "execute_result"
    }
   ],
   "source": [
    "df.edition[df.edition.apply(lambda x : len(x)>0)].sample(n=10)"
   ]
  },
  {
   "cell_type": "markdown",
   "metadata": {},
   "source": [
    "The attribute is taken to the feature matrix without an extra processing in [Goldstandard and Data Preparation](./2_GoldstandardDataPreparation.ipynb)."
   ]
  },
  {
   "cell_type": "code",
   "execution_count": 67,
   "metadata": {},
   "outputs": [],
   "source": [
    "columns_metadata_dict['data_analysis_columns'].append('edition')"
   ]
  },
  {
   "cell_type": "markdown",
   "metadata": {},
   "source": [
    "### exactDate"
   ]
  },
  {
   "cell_type": "code",
   "execution_count": 68,
   "metadata": {},
   "outputs": [],
   "source": [
    "columns_metadata_dict['strings_columns'].append('exactDate')"
   ]
  },
  {
   "cell_type": "code",
   "execution_count": 69,
   "metadata": {},
   "outputs": [
    {
     "name": "stdout",
     "output_type": "stream",
     "text": [
      "Number of records with filled exactDate 183407, with missing exactDate 0 => 100.0%\n"
     ]
    }
   ],
   "source": [
    "_, _ = daf.find_empty_in_column(df, columns_metadata_dict, 'exactDate')"
   ]
  },
  {
   "cell_type": "code",
   "execution_count": 70,
   "metadata": {},
   "outputs": [
    {
     "data": {
      "text/html": [
       "<div>\n",
       "<style scoped>\n",
       "    .dataframe tbody tr th:only-of-type {\n",
       "        vertical-align: middle;\n",
       "    }\n",
       "\n",
       "    .dataframe tbody tr th {\n",
       "        vertical-align: top;\n",
       "    }\n",
       "\n",
       "    .dataframe thead th {\n",
       "        text-align: right;\n",
       "    }\n",
       "</style>\n",
       "<table border=\"1\" class=\"dataframe\">\n",
       "  <thead>\n",
       "    <tr style=\"text-align: right;\">\n",
       "      <th></th>\n",
       "      <th>docid</th>\n",
       "      <th>035liste</th>\n",
       "      <th>isbn</th>\n",
       "      <th>ttlfull</th>\n",
       "      <th>ttlpart</th>\n",
       "      <th>person</th>\n",
       "      <th>corporate</th>\n",
       "      <th>pubyear</th>\n",
       "      <th>decade</th>\n",
       "      <th>century</th>\n",
       "      <th>exactDate</th>\n",
       "      <th>...</th>\n",
       "      <th>scale</th>\n",
       "      <th>coordinate</th>\n",
       "      <th>doi</th>\n",
       "      <th>ismn</th>\n",
       "      <th>musicid</th>\n",
       "      <th>format</th>\n",
       "      <th>coordinate_E</th>\n",
       "      <th>coordinate_N</th>\n",
       "      <th>corporate_110</th>\n",
       "      <th>corporate_710</th>\n",
       "      <th>corporate_810</th>\n",
       "    </tr>\n",
       "  </thead>\n",
       "  <tbody>\n",
       "  </tbody>\n",
       "</table>\n",
       "<p>0 rows × 28 columns</p>\n",
       "</div>"
      ],
      "text/plain": [
       "Empty DataFrame\n",
       "Columns: [docid, 035liste, isbn, ttlfull, ttlpart, person, corporate, pubyear, decade, century, exactDate, edition, part, pages, volumes, pubinit, pubword, scale, coordinate, doi, ismn, musicid, format, coordinate_E, coordinate_N, corporate_110, corporate_710, corporate_810]\n",
       "Index: []\n",
       "\n",
       "[0 rows x 28 columns]"
      ]
     },
     "execution_count": 70,
     "metadata": {},
     "output_type": "execute_result"
    }
   ],
   "source": [
    "df[df.exactDate.str[0:4] != df.century]"
   ]
  },
  {
   "cell_type": "markdown",
   "metadata": {},
   "source": [
    "Conforming the MARC 21 description, see [[MARC](./A_References.ipynb#marc21)], the first 4 digits of $\\texttt{exactDate}$ hold identical data as field $\\texttt{century}$. The last 4 digits hold additional information on the exact date of origin of the bibliographical unit."
   ]
  },
  {
   "cell_type": "code",
   "execution_count": 71,
   "metadata": {
    "scrolled": false
   },
   "outputs": [
    {
     "data": {
      "text/plain": [
       "array(['1992    ', '1986    ', '1923    ', ..., '1966-196', 'uuu1    ',\n",
       "       '201007  '], dtype=object)"
      ]
     },
     "execution_count": 71,
     "metadata": {},
     "output_type": "execute_result"
    }
   ],
   "source": [
    "df.exactDate[df.exactDate.str[4:].str.contains('\\D')].unique()"
   ]
  },
  {
   "cell_type": "markdown",
   "metadata": {},
   "source": [
    "Missing information is not only added with the help of character 'u', but with ' ' (space character) and even '-' characters, unfortunately. For data cleaning resons, any character that is not a number digit will be replaced by 'u'."
   ]
  },
  {
   "cell_type": "code",
   "execution_count": 72,
   "metadata": {},
   "outputs": [
    {
     "name": "stdout",
     "output_type": "stream",
     "text": [
      "Non-digit characters are {'-', ' ', 'u'}\n"
     ]
    }
   ],
   "source": [
    "def determine_uniques_non_numbers(exact_date):\n",
    "    unique_non_numbers = set()\n",
    "\n",
    "    for i in range(4, 8):\n",
    "        unique_non_numbers = unique_non_numbers.union(set(exact_date.str[i:i+1][\n",
    "            exact_date.str[i:i+1].str.contains('\\D')].unique()))\n",
    "\n",
    "    print('Non-digit characters are', unique_non_numbers)\n",
    "\n",
    "    return\n",
    "\n",
    "determine_uniques_non_numbers(df.exactDate)"
   ]
  },
  {
   "cell_type": "code",
   "execution_count": 73,
   "metadata": {
    "scrolled": true
   },
   "outputs": [
    {
     "name": "stdout",
     "output_type": "stream",
     "text": [
      "Degree of non-number filling of last 4 digits 87.4%\n",
      "Degree of full and exclusively number filling of last 4 digits 12.6%\n"
     ]
    }
   ],
   "source": [
    "def print_degree_of_filling(exact_date):\n",
    "    print('Degree of non-number filling of last 4 digits {:.1f}%'.format(\n",
    "        exact_date[exact_date.str[4:].str.contains('\\D')].count()/len(df)*100))\n",
    "    print('Degree of full and exclusively number filling of last 4 digits {:.1f}%'.format(\n",
    "        exact_date[exact_date.str[4:].str.contains('[0-9]{4}')].count()/len(df)*100))\n",
    "    return\n",
    "\n",
    "print_degree_of_filling(df.exactDate)"
   ]
  },
  {
   "cell_type": "code",
   "execution_count": 74,
   "metadata": {},
   "outputs": [
    {
     "name": "stdout",
     "output_type": "stream",
     "text": [
      "Degree of non-number filling of last 4 digits 87.4%\n",
      "Degree of full and exclusively number filling of last 4 digits 12.6%\n",
      "Non-digit characters are {'u'}\n"
     ]
    }
   ],
   "source": [
    "df = dpf.clean_exactDate_string(df)\n",
    "\n",
    "print_degree_of_filling(df.exactDate)\n",
    "determine_uniques_non_numbers(df.exactDate)"
   ]
  },
  {
   "cell_type": "code",
   "execution_count": 75,
   "metadata": {},
   "outputs": [
    {
     "data": {
      "text/plain": [
       "docid                                                    556987284\n",
       "035liste                        [(ZORA)oai:www.zora.uzh.ch:169340]\n",
       "isbn                                                            []\n",
       "ttlfull          {'245': ['Altered limbic and autonomic process...\n",
       "ttlpart          {'245': ['Altered limbic and autonomic process...\n",
       "person           {'100': [], '700': ['TemplinChristianjoint aut...\n",
       "corporate                                                       {}\n",
       "pubyear                                                   20190414\n",
       "decade                                                        2019\n",
       "century                                                       2019\n",
       "exactDate                                                 20190414\n",
       "edition                                                           \n",
       "part                                            [40(15):1183-1187]\n",
       "pages                                                           []\n",
       "volumes                                                         []\n",
       "pubinit                                                         []\n",
       "pubword                                                         []\n",
       "scale                                                             \n",
       "coordinate                                                      []\n",
       "doi                                     [10.1093/eurheartj/ehz068]\n",
       "ismn                                    [10.1093/eurheartj/ehz068]\n",
       "musicid                                                           \n",
       "format                                                  [BK010053]\n",
       "coordinate_E                                                      \n",
       "coordinate_N                                                      \n",
       "corporate_110                                                     \n",
       "corporate_710                                                     \n",
       "corporate_810                                                     \n",
       "Name: 183319, dtype: object"
      ]
     },
     "execution_count": 75,
     "metadata": {},
     "output_type": "execute_result"
    }
   ],
   "source": [
    "df.loc[183319]"
   ]
  },
  {
   "cell_type": "markdown",
   "metadata": {},
   "source": [
    "Due to its added information supply to attribute $\\texttt{century}$, the attribute is taken to the feature matrix."
   ]
  },
  {
   "cell_type": "code",
   "execution_count": 76,
   "metadata": {},
   "outputs": [],
   "source": [
    "columns_metadata_dict['data_analysis_columns'].append('exactDate')"
   ]
  },
  {
   "cell_type": "markdown",
   "metadata": {},
   "source": [
    "### format"
   ]
  },
  {
   "cell_type": "code",
   "execution_count": 77,
   "metadata": {},
   "outputs": [],
   "source": [
    "columns_metadata_dict['list_columns'].append('format')"
   ]
  },
  {
   "cell_type": "markdown",
   "metadata": {},
   "source": [
    "Attribute $\\texttt{format}$ describes the format of a bibliographic unit, see examples under section [Sample Records Analysis](#Sample-Records-Analysis)."
   ]
  },
  {
   "cell_type": "code",
   "execution_count": 78,
   "metadata": {},
   "outputs": [
    {
     "name": "stdout",
     "output_type": "stream",
     "text": [
      "Number of records with filled format 179688, with missing format 3719 => 98.0%\n"
     ]
    }
   ],
   "source": [
    "_, _ = daf.find_empty_in_column(df, columns_metadata_dict, 'format')"
   ]
  },
  {
   "cell_type": "code",
   "execution_count": 79,
   "metadata": {},
   "outputs": [
    {
     "data": {
      "text/plain": [
       "123965    bk020000\n",
       "151612    bk020000\n",
       "104629    bk010000\n",
       "1829      mp010300\n",
       "21187     mp020300\n",
       "58579     bk020000\n",
       "153173    bk020000\n",
       "128426    vm010253\n",
       "61253     bk020000\n",
       "105115    bk020000\n",
       "Name: format, dtype: object"
      ]
     },
     "execution_count": 79,
     "metadata": {},
     "output_type": "execute_result"
    }
   ],
   "source": [
    "df = dpf.transform_list_to_string(df, 'format')\n",
    "\n",
    "df['format'][df.format.apply(lambda x : len(x))==8].sample(n=10)"
   ]
  },
  {
   "cell_type": "code",
   "execution_count": 80,
   "metadata": {},
   "outputs": [
    {
     "name": "stdout",
     "output_type": "stream",
     "text": [
      "96.4% of the records hold one single format.\n",
      "1.6% of the records hold more than one format.\n"
     ]
    }
   ],
   "source": [
    "print('{:.1f}% of the records hold one single format.'.format(\n",
    "    df['format'][df.format.apply(lambda x : len(x))==8].count()/len(df)*100))\n",
    "print('{:.1f}% of the records hold more than one format.'.format(\n",
    "    df['format'][df.format.apply(lambda x : len(x))>8].count()/len(df)*100))"
   ]
  },
  {
   "cell_type": "code",
   "execution_count": 81,
   "metadata": {},
   "outputs": [
    {
     "data": {
      "text/plain": [
       "156438    \n",
       "159363    \n",
       "156056    \n",
       "150652    \n",
       "171187    \n",
       "167577    \n",
       "164112    \n",
       "169093    \n",
       "168670    \n",
       "158413    \n",
       "Name: format, dtype: object"
      ]
     },
     "execution_count": 81,
     "metadata": {},
     "output_type": "execute_result"
    }
   ],
   "source": [
    "df['format'][df.format.apply(lambda x : len(x))<8].sample(n=10)"
   ]
  },
  {
   "cell_type": "code",
   "execution_count": 82,
   "metadata": {},
   "outputs": [
    {
     "data": {
      "text/plain": [
       "1981    mu010100, mu010000\n",
       "2000    mu010000, mu010100\n",
       "2001    mu010100, mu010000\n",
       "2003    mu010100, mu010000\n",
       "2004    mu010200, mu010000\n",
       "Name: format, dtype: object"
      ]
     },
     "execution_count": 82,
     "metadata": {},
     "output_type": "execute_result"
    }
   ],
   "source": [
    "df['format'][df.format.apply(lambda x : len(x))>8].head()"
   ]
  },
  {
   "cell_type": "code",
   "execution_count": 83,
   "metadata": {},
   "outputs": [
    {
     "data": {
      "text/plain": [
       "17607     bk020300, bk020000, bk020500\n",
       "83055     bk020300, bk020800, bk020000\n",
       "181090    cr030700, cr030600, cr030300\n",
       "181376    bk020800, bk020400, bk020000\n",
       "Name: format, dtype: object"
      ]
     },
     "execution_count": 83,
     "metadata": {},
     "output_type": "execute_result"
    }
   ],
   "source": [
    "df['format'][df.format.apply(lambda x : len(x))>18].head()"
   ]
  },
  {
   "cell_type": "markdown",
   "metadata": {},
   "source": [
    "The attribute seems to be very relevant for a basic identification of the bibliographical unit. Mainly the first two digits seem to be a reliable rough classification indicator. The remaining digits may have an inferior importance and and an inferior reliability due to freedom of interpretation. For this reason, the attribute is divided into 2 new attributes.\n",
    "\n",
    "- New attribute $\\texttt{format_prefix}$ will hold the first two digits of the first $\\texttt{format}$ element.\n",
    "- New attribute $\\texttt{format_number}$ will hold the 6 subsequent digits of the first $\\texttt{format}$ element.\n",
    "\n",
    "The $\\texttt{format}$ attribute will be dropped after this preprocessing step."
   ]
  },
  {
   "cell_type": "code",
   "execution_count": 84,
   "metadata": {},
   "outputs": [
    {
     "data": {
      "text/html": [
       "<div>\n",
       "<style scoped>\n",
       "    .dataframe tbody tr th:only-of-type {\n",
       "        vertical-align: middle;\n",
       "    }\n",
       "\n",
       "    .dataframe tbody tr th {\n",
       "        vertical-align: top;\n",
       "    }\n",
       "\n",
       "    .dataframe thead th {\n",
       "        text-align: right;\n",
       "    }\n",
       "</style>\n",
       "<table border=\"1\" class=\"dataframe\">\n",
       "  <thead>\n",
       "    <tr style=\"text-align: right;\">\n",
       "      <th></th>\n",
       "      <th>format</th>\n",
       "      <th>format_prefix</th>\n",
       "      <th>format_postfix</th>\n",
       "    </tr>\n",
       "  </thead>\n",
       "  <tbody>\n",
       "    <tr>\n",
       "      <th>126209</th>\n",
       "      <td>bk020000</td>\n",
       "      <td>bk</td>\n",
       "      <td>020000</td>\n",
       "    </tr>\n",
       "    <tr>\n",
       "      <th>137963</th>\n",
       "      <td>bk020000</td>\n",
       "      <td>bk</td>\n",
       "      <td>020000</td>\n",
       "    </tr>\n",
       "    <tr>\n",
       "      <th>172908</th>\n",
       "      <td>bk020000</td>\n",
       "      <td>bk</td>\n",
       "      <td>020000</td>\n",
       "    </tr>\n",
       "    <tr>\n",
       "      <th>122593</th>\n",
       "      <td>bk020000</td>\n",
       "      <td>bk</td>\n",
       "      <td>020000</td>\n",
       "    </tr>\n",
       "    <tr>\n",
       "      <th>173242</th>\n",
       "      <td>bk020000</td>\n",
       "      <td>bk</td>\n",
       "      <td>020000</td>\n",
       "    </tr>\n",
       "    <tr>\n",
       "      <th>180245</th>\n",
       "      <td>bk020000</td>\n",
       "      <td>bk</td>\n",
       "      <td>020000</td>\n",
       "    </tr>\n",
       "    <tr>\n",
       "      <th>3615</th>\n",
       "      <td>bk020000</td>\n",
       "      <td>bk</td>\n",
       "      <td>020000</td>\n",
       "    </tr>\n",
       "    <tr>\n",
       "      <th>166461</th>\n",
       "      <td>bk020000</td>\n",
       "      <td>bk</td>\n",
       "      <td>020000</td>\n",
       "    </tr>\n",
       "    <tr>\n",
       "      <th>83907</th>\n",
       "      <td>bk010400</td>\n",
       "      <td>bk</td>\n",
       "      <td>010400</td>\n",
       "    </tr>\n",
       "    <tr>\n",
       "      <th>43007</th>\n",
       "      <td>bk020053</td>\n",
       "      <td>bk</td>\n",
       "      <td>020053</td>\n",
       "    </tr>\n",
       "    <tr>\n",
       "      <th>43827</th>\n",
       "      <td>bk020053</td>\n",
       "      <td>bk</td>\n",
       "      <td>020053</td>\n",
       "    </tr>\n",
       "    <tr>\n",
       "      <th>49752</th>\n",
       "      <td>bk010053</td>\n",
       "      <td>bk</td>\n",
       "      <td>010053</td>\n",
       "    </tr>\n",
       "    <tr>\n",
       "      <th>153789</th>\n",
       "      <td>bk020000</td>\n",
       "      <td>bk</td>\n",
       "      <td>020000</td>\n",
       "    </tr>\n",
       "    <tr>\n",
       "      <th>134885</th>\n",
       "      <td>bk020053</td>\n",
       "      <td>bk</td>\n",
       "      <td>020053</td>\n",
       "    </tr>\n",
       "    <tr>\n",
       "      <th>68824</th>\n",
       "      <td>bk010053</td>\n",
       "      <td>bk</td>\n",
       "      <td>010053</td>\n",
       "    </tr>\n",
       "  </tbody>\n",
       "</table>\n",
       "</div>"
      ],
      "text/plain": [
       "          format format_prefix format_postfix\n",
       "126209  bk020000            bk         020000\n",
       "137963  bk020000            bk         020000\n",
       "172908  bk020000            bk         020000\n",
       "122593  bk020000            bk         020000\n",
       "173242  bk020000            bk         020000\n",
       "180245  bk020000            bk         020000\n",
       "3615    bk020000            bk         020000\n",
       "166461  bk020000            bk         020000\n",
       "83907   bk010400            bk         010400\n",
       "43007   bk020053            bk         020053\n",
       "43827   bk020053            bk         020053\n",
       "49752   bk010053            bk         010053\n",
       "153789  bk020000            bk         020000\n",
       "134885  bk020053            bk         020053\n",
       "68824   bk010053            bk         010053"
      ]
     },
     "execution_count": 84,
     "metadata": {},
     "output_type": "execute_result"
    }
   ],
   "source": [
    "df['format_prefix'] = df.format.str[:2]\n",
    "df.format_prefix[df['format_prefix']==''] = '  '\n",
    "df['format_postfix'] = df.format.str[2:8]\n",
    "df.format_postfix[df['format_postfix']==''] = '      '\n",
    "df[['format', 'format_prefix', 'format_postfix']].sample(n=15)"
   ]
  },
  {
   "cell_type": "markdown",
   "metadata": {},
   "source": [
    "This preprocessing step has been implemented in a separate function $\\texttt{.split}\\_\\texttt{format()}$ which can be found in code file [data_preparation_funcs.py](./data_preparation_funcs.py)"
   ]
  },
  {
   "cell_type": "code",
   "execution_count": 85,
   "metadata": {},
   "outputs": [],
   "source": [
    "columns_metadata_dict['data_analysis_columns'].append('format_prefix')\n",
    "columns_metadata_dict['data_analysis_columns'].append('format_postfix')"
   ]
  },
  {
   "cell_type": "markdown",
   "metadata": {},
   "source": [
    "### isbn"
   ]
  },
  {
   "cell_type": "code",
   "execution_count": 86,
   "metadata": {},
   "outputs": [],
   "source": [
    "columns_metadata_dict['list_columns'].append('isbn')"
   ]
  },
  {
   "cell_type": "code",
   "execution_count": 87,
   "metadata": {},
   "outputs": [
    {
     "name": "stdout",
     "output_type": "stream",
     "text": [
      "Number of records with filled isbn 80688, with missing isbn 102719 => 44.0%\n"
     ]
    }
   ],
   "source": [
    "_, _ = daf.find_empty_in_column(df, columns_metadata_dict, 'isbn')"
   ]
  },
  {
   "cell_type": "code",
   "execution_count": 88,
   "metadata": {},
   "outputs": [
    {
     "data": {
      "text/plain": [
       "56760                                   [978-3-11-053120-6]\n",
       "15436                                                    []\n",
       "121730                                  [978-1-108-55319-3]\n",
       "174627                                      [3-328-00178-6]\n",
       "99023                                   [978-1-119-41621-0]\n",
       "36859     [978-0-674-05088-4 (alk. paper), 0-674-05088-6...\n",
       "119966                                                   []\n",
       "177961                                                   []\n",
       "135162                                                   []\n",
       "65580                                                    []\n",
       "47570                                   [978-2-01-118287-6]\n",
       "60434                                   [978-88-7106-669-1]\n",
       "124878                                  [978-2-10-078929-0]\n",
       "173518                                                   []\n",
       "41744                                                    []\n",
       "177132                                                   []\n",
       "17733                [978-2-7084-1040-4, 978-2-35031-623-9]\n",
       "41879                                                    []\n",
       "121805                                                   []\n",
       "165935                                                   []\n",
       "Name: isbn, dtype: object"
      ]
     },
     "execution_count": 88,
     "metadata": {},
     "output_type": "execute_result"
    }
   ],
   "source": [
    "df.isbn.sample(n=20)"
   ]
  },
  {
   "cell_type": "code",
   "execution_count": 89,
   "metadata": {},
   "outputs": [
    {
     "name": "stdout",
     "output_type": "stream",
     "text": [
      "29,073 records hold 1 list element(s).\n",
      "3,762 records hold 2 list element(s).\n",
      "2,331 records hold 3 list element(s).\n",
      "519 records hold 4 list element(s).\n",
      "398 records hold 5 list element(s).\n",
      "173 records hold 6 list element(s).\n",
      "156 records hold 7 list element(s).\n",
      "84 records hold 8 list element(s).\n",
      "76 records hold 9 list element(s).\n",
      "51 records hold 10 list element(s).\n",
      "43 records hold 11 list element(s).\n",
      "29 records hold 12 list element(s).\n",
      "26 records hold 13 list element(s).\n",
      "19 records hold 14 list element(s).\n",
      "18 records hold 15 list element(s).\n",
      "10 records hold 16 list element(s).\n",
      "9 records hold 17 list element(s).\n",
      "8 records hold 18 list element(s).\n",
      "7 records hold 19 list element(s).\n",
      "7 records hold 20 list element(s).\n",
      "7 records hold 21 list element(s).\n",
      "7 records hold 22 list element(s).\n",
      "7 records hold 23 list element(s).\n",
      "5 records hold 24 list element(s).\n",
      "4 records hold 25 list element(s).\n",
      "3 records hold 26 list element(s).\n",
      "3 records hold 27 list element(s).\n",
      "3 records hold 28 list element(s).\n",
      "3 records hold 29 list element(s).\n",
      "1 records hold 30 list element(s).\n",
      "1 records hold 31 list element(s).\n",
      "1 records hold 32 list element(s).\n",
      "1 records hold 33 list element(s).\n",
      "1 records hold 34 list element(s).\n",
      "1 records hold 35 list element(s).\n",
      "1 records hold 36 list element(s).\n",
      "1 records hold 37 list element(s).\n",
      "1 records hold 38 list element(s).\n",
      "1 records hold 39 list element(s).\n",
      "1 records hold 40 list element(s).\n",
      "1 records hold 41 list element(s).\n",
      "0 records hold 42 list element(s).\n",
      "=> Maximum number of list elements 41\n"
     ]
    }
   ],
   "source": [
    "i = 0\n",
    "while len(df.isbn[df.isbn.apply(lambda x : len(x))>i]) > 0 :\n",
    "    i = i+1\n",
    "    print('{:,d} records hold {:d} list element(s).'.format(\n",
    "        len(df.isbn[df.isbn.apply(lambda x : len(x))>i]), i))\n",
    "        \n",
    "print('=> Maximum number of list elements', i-1)"
   ]
  },
  {
   "cell_type": "markdown",
   "metadata": {},
   "source": [
    "This attribute holds two different kinds of information, namely the ISBN and the ISSN of a bibliographic unit. Attribute $\\texttt{isbn}$ is a list of string elements. Some samples with more than one string element are shown below."
   ]
  },
  {
   "cell_type": "code",
   "execution_count": 90,
   "metadata": {},
   "outputs": [
    {
     "data": {
      "text/plain": [
       "59865     [978-88-88001-42-5, 88-88001-42-5, 978-88-8800...\n",
       "138458    [978-3-945893-05-0, 978-3-86281-062-8, 978-3-9...\n",
       "45618     [1-85312-142-8 (set : Computational Mechanics ...\n",
       "84105     [978-3-12-607026-3, 3-12-607026-4, 978-3-12-60...\n",
       "30782     [978-0-19-438433-9, 0-19-438433-0, 978-0-19-43...\n",
       "127001    [978-1-315-76651-5, 1-315-76651-5, 1-317-66066...\n",
       "93578     [84-473-5019-3, 84-473-5020-7, 84-473-5021-5, ...\n",
       "148140    [978-1-4742-3212-8, 1-4742-3212-4, 978-1-4742-...\n",
       "115721    [7-5633-1178-5, 7-5633-1323-0, 7-5633-1699-X, ...\n",
       "18870     [978-84-259-1598-7, 84-259-1598-8, 978-84-259-...\n",
       "Name: isbn, dtype: object"
      ]
     },
     "execution_count": 90,
     "metadata": {},
     "output_type": "execute_result"
    }
   ],
   "source": [
    "df.isbn[df.isbn.apply(lambda x : len(x))>10].sample(n=10)"
   ]
  },
  {
   "cell_type": "code",
   "execution_count": 91,
   "metadata": {},
   "outputs": [],
   "source": [
    "columns_metadata_dict['data_analysis_columns'].append('isbn')"
   ]
  },
  {
   "cell_type": "markdown",
   "metadata": {},
   "source": [
    "### ismn"
   ]
  },
  {
   "cell_type": "code",
   "execution_count": 92,
   "metadata": {},
   "outputs": [],
   "source": [
    "columns_metadata_dict['list_columns'].append('ismn')"
   ]
  },
  {
   "cell_type": "code",
   "execution_count": 93,
   "metadata": {},
   "outputs": [
    {
     "name": "stdout",
     "output_type": "stream",
     "text": [
      "Number of records with filled ismn 10114, with missing ismn 173293 => 5.5%\n"
     ]
    }
   ],
   "source": [
    "_, _ = daf.find_empty_in_column(df, columns_metadata_dict, 'ismn')"
   ]
  },
  {
   "cell_type": "code",
   "execution_count": 94,
   "metadata": {},
   "outputs": [
    {
     "name": "stdout",
     "output_type": "stream",
     "text": [
      "2,312 records hold 1 list element(s).\n",
      "13 records hold 2 list element(s).\n",
      "11 records hold 3 list element(s).\n",
      "1 records hold 4 list element(s).\n",
      "0 records hold 5 list element(s).\n",
      "=> Maximum number of list elements 4\n"
     ]
    }
   ],
   "source": [
    "i = 0\n",
    "while len(df.isbn[df.ismn.apply(lambda x : len(x))>i]) > 0 :\n",
    "    i = i+1\n",
    "    print('{:,d} records hold {:d} list element(s).'.format(\n",
    "        len(df.ismn[df.ismn.apply(lambda x : len(x))>i]), i))\n",
    "        \n",
    "print('=> Maximum number of list elements', i-1)"
   ]
  },
  {
   "cell_type": "code",
   "execution_count": 95,
   "metadata": {},
   "outputs": [
    {
     "data": {
      "text/plain": [
       "24866    [oai:serval.unil.ch:BIB_48517DE762D2, urn:nbn:...\n",
       "34755    [10.5451/unibas-006838498, urn:nbn:ch:bel-bau-...\n",
       "34758    [10.5451/unibas-006836804, urn:nbn:ch:bel-bau-...\n",
       "34814    [10.5451/unibas-006837535, urn:nbn:ch:bel-bau-...\n",
       "34833    [10.5451/unibas-006844191, urn:nbn:ch:bel-bau-...\n",
       "Name: ismn, dtype: object"
      ]
     },
     "execution_count": 95,
     "metadata": {},
     "output_type": "execute_result"
    }
   ],
   "source": [
    "df.ismn[df.ismn.apply(lambda x : len(x))>2].head()"
   ]
  },
  {
   "cell_type": "code",
   "execution_count": 96,
   "metadata": {},
   "outputs": [],
   "source": [
    "columns_metadata_dict['data_analysis_columns'].append('ismn')"
   ]
  },
  {
   "cell_type": "markdown",
   "metadata": {},
   "source": [
    "### musicid"
   ]
  },
  {
   "cell_type": "code",
   "execution_count": 97,
   "metadata": {},
   "outputs": [],
   "source": [
    "columns_metadata_dict['strings_columns'].append('musicid')"
   ]
  },
  {
   "cell_type": "code",
   "execution_count": 98,
   "metadata": {},
   "outputs": [
    {
     "name": "stdout",
     "output_type": "stream",
     "text": [
      "Number of records with filled musicid 13502, with missing musicid 169905 => 7.4%\n"
     ]
    }
   ],
   "source": [
    "_, _ = daf.find_empty_in_column(df, columns_metadata_dict, 'musicid')"
   ]
  },
  {
   "cell_type": "markdown",
   "metadata": {},
   "source": [
    "Attribute $\\texttt{musicid}$ is a number identifying the publisher of a music record. Some sample records are shown below."
   ]
  },
  {
   "cell_type": "code",
   "execution_count": 99,
   "metadata": {},
   "outputs": [
    {
     "name": "stdout",
     "output_type": "stream",
     "text": [
      "Number of records with ...\n",
      "... format 'mu' and with musicid : 10742\n",
      "... format 'mu' and without musicid : 3905\n",
      "... format unequal 'mu' and with musicid : 2760\n",
      "... format unequal 'mu' and without musicid : 166000\n"
     ]
    }
   ],
   "source": [
    "print('Number of records with ...')\n",
    "\n",
    "print('... format \\'mu\\' and with musicid :', \n",
    "len(df.musicid[df.format_prefix == 'mu'][\n",
    "    df.musicid[df.format_prefix == 'mu'].apply(lambda x : len(x)>0) ])\n",
    ")\n",
    "print('... format \\'mu\\' and without musicid :', \n",
    "len(df.musicid[df.format_prefix == 'mu'][\n",
    "    df.musicid[df.format_prefix == 'mu'].apply(lambda x : len(x)==0) ])\n",
    ")\n",
    "print('... format unequal \\'mu\\' and with musicid :', \n",
    "len(df.musicid[df.format_prefix != 'mu'][\n",
    "    df.musicid[df.format_prefix != 'mu'].apply(lambda x : len(x)>0) ])\n",
    ")\n",
    "print('... format unequal \\'mu\\' and without musicid :', \n",
    "len(df.musicid[df.format_prefix != 'mu'][\n",
    "    df.musicid[df.format_prefix != 'mu'].apply(lambda x : len(x)==0) ])\n",
    ")"
   ]
  },
  {
   "cell_type": "code",
   "execution_count": 100,
   "metadata": {},
   "outputs": [
    {
     "data": {
      "text/plain": [
       "vm    1432\n",
       "bk    1287\n",
       "cf      39\n",
       "cr       1\n",
       "mp       1\n",
       "Name: format_prefix, dtype: int64"
      ]
     },
     "execution_count": 100,
     "metadata": {},
     "output_type": "execute_result"
    }
   ],
   "source": [
    "df.format_prefix[df.format_prefix != 'mu'][\n",
    "    df.musicid[df.format_prefix != 'mu'].apply(lambda x : len(x)>0) ].value_counts()"
   ]
  },
  {
   "cell_type": "code",
   "execution_count": 101,
   "metadata": {},
   "outputs": [
    {
     "data": {
      "text/plain": [
       "83782           31.069/5031.069/57\n",
       "4376            Accent ACC 67909 D\n",
       "15672             Accord 465 493-2\n",
       "20832                      N° 5004\n",
       "11325                7611719443694\n",
       "73577         EMI 50999 511090 2 8\n",
       "2276                    38C37-7024\n",
       "6790                      LC 06759\n",
       "19698                       54 583\n",
       "134605        Bestellnummer: 08173\n",
       "9975                        MF 902\n",
       "14025     A&M 395165-2082839516525\n",
       "93178                         7009\n",
       "12610                0602498323763\n",
       "90673                   BA 5315-90\n",
       "144079          643517611372643516\n",
       "124645                      116368\n",
       "111154                   B.A. 8991\n",
       "133663        Bestellnummer: 90547\n",
       "50235                CD 310 004 H1\n",
       "Name: musicid, dtype: object"
      ]
     },
     "execution_count": 101,
     "metadata": {},
     "output_type": "execute_result"
    }
   ],
   "source": [
    "df.musicid[df.musicid.apply(lambda x : len(x)>0)].sample(n=20)"
   ]
  },
  {
   "cell_type": "markdown",
   "metadata": {},
   "source": [
    "The attribute is taken to further processing steps as is."
   ]
  },
  {
   "cell_type": "code",
   "execution_count": 102,
   "metadata": {},
   "outputs": [],
   "source": [
    "columns_metadata_dict['data_analysis_columns'].append('musicid')"
   ]
  },
  {
   "cell_type": "markdown",
   "metadata": {},
   "source": [
    "### pages"
   ]
  },
  {
   "cell_type": "code",
   "execution_count": 103,
   "metadata": {},
   "outputs": [],
   "source": [
    "columns_metadata_dict['list_columns'].append('pages')"
   ]
  },
  {
   "cell_type": "code",
   "execution_count": 104,
   "metadata": {},
   "outputs": [
    {
     "name": "stdout",
     "output_type": "stream",
     "text": [
      "Number of records with filled pages 161471, with missing pages 21936 => 88.0%\n"
     ]
    }
   ],
   "source": [
    "_, _ = daf.find_empty_in_column(df, columns_metadata_dict, 'pages')"
   ]
  },
  {
   "cell_type": "markdown",
   "metadata": {},
   "source": [
    "Attribute $\\texttt{pages}$ has the same MARC 21 basis as attribute $\\texttt{volumes}$. In Swissbib's processing, it is used for extracting pages information out of the MARC 21 data. This information is part of $\\texttt{volumes}$ and will therefore be dropped due to redundancy."
   ]
  },
  {
   "cell_type": "markdown",
   "metadata": {},
   "source": [
    "### part"
   ]
  },
  {
   "cell_type": "code",
   "execution_count": 105,
   "metadata": {},
   "outputs": [],
   "source": [
    "columns_metadata_dict['list_columns'] = ['part']"
   ]
  },
  {
   "cell_type": "code",
   "execution_count": 106,
   "metadata": {},
   "outputs": [
    {
     "name": "stdout",
     "output_type": "stream",
     "text": [
      "Number of records with filled part 43116, with missing part 140291 => 23.5%\n"
     ]
    }
   ],
   "source": [
    "_, _ = daf.find_empty_in_column(df, columns_metadata_dict, 'part')"
   ]
  },
  {
   "cell_type": "code",
   "execution_count": 107,
   "metadata": {},
   "outputs": [
    {
     "data": {
      "text/plain": [
       "174655                              [Volume 18]\n",
       "104748                                [341-365]\n",
       "53237                                 [1(1887)]\n",
       "59730                      [80(2), pp. 205-213]\n",
       "138994                          [Volume 21, 21]\n",
       "97128                               [-/2(1990)]\n",
       "31646                                       [5]\n",
       "176831                            [vol. 16, 16]\n",
       "105407                       [2002, S. 128-160]\n",
       "53347                                   [[2-3]]\n",
       "99368     [1981, S. 181-198, 3 fig., 8 pl., 23]\n",
       "125523                                    [144]\n",
       "96449                              [-/32(1990)]\n",
       "80866           [Jg. 33 (2003), Nr. 6, S. 4-10]\n",
       "156904                      [no 4, p. 123-124.]\n",
       "20289                                    [2, 2]\n",
       "115412     [yr: 2019, no: 639, iss: 15, p: 439]\n",
       "99056                              [volume 131]\n",
       "19630                                  [60, 60]\n",
       "93509                  [2018, no 151, 2018,151]\n",
       "Name: part, dtype: object"
      ]
     },
     "execution_count": 107,
     "metadata": {},
     "output_type": "execute_result"
    }
   ],
   "source": [
    "df.part[df.part.apply(lambda x : len(x)>0)].sample(n=20)"
   ]
  },
  {
   "cell_type": "code",
   "execution_count": 108,
   "metadata": {},
   "outputs": [
    {
     "data": {
      "text/plain": [
       "part                 [volume 7]\n",
       "volumes    [1 Online-Ressource]\n",
       "Name: 85733, dtype: object"
      ]
     },
     "execution_count": 108,
     "metadata": {},
     "output_type": "execute_result"
    }
   ],
   "source": [
    "df[['part', 'volumes']].loc[85733]"
   ]
  },
  {
   "cell_type": "code",
   "execution_count": 109,
   "metadata": {},
   "outputs": [
    {
     "data": {
      "text/plain": [
       "['2000', 'S. 261-281', 'Band 37']"
      ]
     },
     "execution_count": 109,
     "metadata": {},
     "output_type": "execute_result"
    }
   ],
   "source": [
    "df.part.loc[81304]"
   ]
  },
  {
   "cell_type": "markdown",
   "metadata": {},
   "source": [
    "Attribute $\\texttt{part}$ is a list of collected part descriptions of the MARC 21 data. The list will be transformed to a singular string with the help of function $\\texttt{.transform}\\_\\texttt{list}\\_\\texttt{to}\\_\\texttt{string}()$."
   ]
  },
  {
   "cell_type": "code",
   "execution_count": 110,
   "metadata": {},
   "outputs": [],
   "source": [
    "df = dpf.transform_list_to_string(df, 'part')"
   ]
  },
  {
   "cell_type": "code",
   "execution_count": 111,
   "metadata": {},
   "outputs": [],
   "source": [
    "columns_metadata_dict['data_analysis_columns'].append('part')"
   ]
  },
  {
   "cell_type": "markdown",
   "metadata": {},
   "source": [
    "### person"
   ]
  },
  {
   "cell_type": "code",
   "execution_count": 112,
   "metadata": {},
   "outputs": [],
   "source": [
    "columns_metadata_dict['strings_columns'].append('person')"
   ]
  },
  {
   "cell_type": "markdown",
   "metadata": {},
   "source": [
    "Attribute $\\texttt{person}$ is a collection of personal names statements of the bibliographic unit, see [[FeatWiki](./A_References.ipynb/#feature_deduplication_wiki)]. The attribute out of the raw data is a dictionary column in the DataFrame with four possible key value pairs. Attribute $\\texttt{person}$ is split for processing reasons into a singular attribute for each key of the dictionary. The values come along as lists and the implemented function $\\texttt{.transform}\\_\\texttt{list}\\_\\texttt{to}\\_\\texttt{string()}$ will be used to process its elements into one single string of the new column."
   ]
  },
  {
   "cell_type": "code",
   "execution_count": 113,
   "metadata": {},
   "outputs": [
    {
     "data": {
      "text/plain": [
       "99519     {'100': ['PaulusVIpapa'], '700': ['ColomboCarl...\n",
       "155916    {'100': ['BoinRoger'], '700': ['RoosensMichel'...\n",
       "135078                 {'100': [], '245c': ['The Strokes']}\n",
       "93049                             {'100': [], '245c': ['']}\n",
       "62682     {'100': ['JanssensIves(RERO)A027480640cre'], '...\n",
       "100925    {'100': ['CourchampFranckauteuraut'], '700': [...\n",
       "162035    {'100': [], '700': ['LoustalotGhislain'], '245...\n",
       "54242     {'100': [], '700': ['BouriauChristophe1966-(DE...\n",
       "36651                             {'100': [], '245c': ['']}\n",
       "7392      {'100': ['BirnstielSalome'], '700': ['BrunnerE...\n",
       "80853     {'100': ['VenzkeJörg-Friedhelm'], '245c': ['Jö...\n",
       "126640    {'100': [], '700': ['PetrelliFrancescojoint au...\n",
       "93380     {'100': ['StevensWendy'], '245c': ['Wendy Stev...\n",
       "60385     {'100': [], '700': ['CiuffolettiZeffiro', 'Pic...\n",
       "82528     {'100': ['GlinesAbbi'], '700': ['VidalPauline'...\n",
       "151569    {'100': [], '245c': ['Comité Olímpico Guatemal...\n",
       "8804      {'100': ['TelemannGeorg Philipp1681-1767(DE-58...\n",
       "167181    {'100': [], '245c': ['[éd.: Comité Internation...\n",
       "147428    {'100': ['LitmatheJens(DE-588)1121246982Verfas...\n",
       "111058    {'100': ['SalibiKamal Suleiman(RERO)A000143330...\n",
       "Name: person, dtype: object"
      ]
     },
     "execution_count": 113,
     "metadata": {},
     "output_type": "execute_result"
    }
   ],
   "source": [
    "df.person.sample(n=20)"
   ]
  },
  {
   "cell_type": "code",
   "execution_count": 114,
   "metadata": {},
   "outputs": [
    {
     "name": "stdout",
     "output_type": "stream",
     "text": [
      "Number of records with filled person_100 115396, with missing person_100 68011 => 62.9%\n",
      "Number of records with filled person_700 73254, with missing person_700 110153 => 39.9%\n",
      "Number of records with filled person_800 1137, with missing person_800 182270 => 0.6%\n",
      "Number of records with filled person_245c 158011, with missing person_245c 25396 => 86.2%\n"
     ]
    }
   ],
   "source": [
    "for ending in ['100', '700', '800', '245c']:\n",
    "    df = dpf.transform_dictionary_to_list(df, 'person', ending)\n",
    "    df = dpf.transform_list_to_string(df, 'person_'+ending)\n",
    "\n",
    "    columns_metadata_dict['strings_columns'].append('person_'+ending)\n",
    "    _, _ = daf.find_empty_in_column(df, columns_metadata_dict, 'person_'+ending)"
   ]
  },
  {
   "cell_type": "code",
   "execution_count": 115,
   "metadata": {},
   "outputs": [
    {
     "data": {
      "text/plain": [
       "170595                                  by hans egon vesper\n",
       "171667    international union of pure and applied chemis...\n",
       "71550                                         oreste fasolo\n",
       "137319                                 by susan j. feinglos\n",
       "141536                                             williams\n",
       "131789                                       lama surya das\n",
       "130165    [frida a.a. feijen, rutger a. vos, jorinde nuy...\n",
       "13465                                         erich dolezal\n",
       "74659                                 par m. h. de saussure\n",
       "141258                oleg nikiforov, gunter-e. hackemesser\n",
       "15984     [commissariat d'exposition: antonia nessi, chr...\n",
       "37441                                            sally kwak\n",
       "43918                                        alissa cordner\n",
       "151617                                  pierre de coubertin\n",
       "15780                                      federico zuliani\n",
       "167039                      bill gutman and shawn frederick\n",
       "131690         textes dylan pelot ; dessin & couleur mathis\n",
       "70511     théophile de viau ; introd. et notes par rober...\n",
       "109134                                [lilly stamp bahadur]\n",
       "22719                                             joel neto\n",
       "Name: person_245c, dtype: object"
      ]
     },
     "execution_count": 115,
     "metadata": {},
     "output_type": "execute_result"
    }
   ],
   "source": [
    "df.person_245c[df.person_245c.apply(lambda x : len(x)>0)].sample(n=20)"
   ]
  },
  {
   "cell_type": "code",
   "execution_count": 116,
   "metadata": {},
   "outputs": [
    {
     "data": {
      "text/plain": [
       "59885       mavrotcéline1983-(de-588)1170815634verfasseraut\n",
       "152248                                        brügelwilhelm\n",
       "182722      millonesluis1939-(de-588)1056544872verfasseraut\n",
       "24338                                       loupychristophe\n",
       "34711                    gregorigiuliana(rero)a027722503cre\n",
       "133769                                  richardjean-tristan\n",
       "101525     stewartgarrett1945-(de-588)132500663verfasseraut\n",
       "118508                                      niebuhrreinhold\n",
       "44142                                          taborgary m.\n",
       "109310                     mechtcheriakovsergeiverfasseraut\n",
       "182933    pecqueurdaniel1948-(verfasser)(de-588)13007701...\n",
       "160608                                   maierbernhard1950-\n",
       "160869                                        hannulariitta\n",
       "13387                          youngneil(rero)a003992645cre\n",
       "156964                                           cootejames\n",
       "2600             jacksonmichael1958-2009(rero)a012322955cre\n",
       "47571                    schaerjean-paul(rero)a003791852cre\n",
       "123739                                      figuerasmarcelo\n",
       "58104                                     politkovskaiaanna\n",
       "10028                    jonesrickie lee(rero)a005754704cre\n",
       "Name: person_100, dtype: object"
      ]
     },
     "execution_count": 116,
     "metadata": {},
     "output_type": "execute_result"
    }
   ],
   "source": [
    "df.person_100[df.person_100.apply(lambda x : len(x)>0)].sample(n=20)"
   ]
  },
  {
   "cell_type": "code",
   "execution_count": 117,
   "metadata": {},
   "outputs": [
    {
     "data": {
      "text/plain": [
       "29609        noletguust1945-(de-588)137387741herausgeberedt\n",
       "129084    behringerstefan1969-(de-588)13902168xherausgeb...\n",
       "62316                          muttinfrédéricherausgeberedt\n",
       "175944                                           steinsgerd\n",
       "24902                        ogiadolf1942-(de-588)121810968\n",
       "145134                        süssmichael(de-588)1177830507\n",
       "23300                          bracherjulia(rero)a020394390\n",
       "83745                      pakowandagi h., alpersmichael p.\n",
       "148157                     farzanehhoomaneditoredthttp://id\n",
       "24194            beckrufus1957-(de-588)121381528erzählernrt\n",
       "20042     staubligeorgjoint author, landoltmarkus a.join...\n",
       "11826                                        asperhelmut g.\n",
       "15842                         siddonslouise(rero)a027761685\n",
       "26081                                          cabyfrançois\n",
       "61528                                       dupuisjean-marc\n",
       "57336     lokkaismini e.joint author, çöltekinarzujoint ...\n",
       "110185    frischknechthans eugen1939-kompositionenviolon...\n",
       "134517    garrelphilippe1948-(de-588)122377966filmregiss...\n",
       "31026     schochfriedrich1952-(de-588)132935538herausgeb...\n",
       "86359     880-09huangjianübersetzerku wen chen paojapane...\n",
       "Name: person_700, dtype: object"
      ]
     },
     "execution_count": 117,
     "metadata": {},
     "output_type": "execute_result"
    }
   ],
   "source": [
    "df.person_700[df.person_700.apply(lambda x : len(x)>0)].sample(n=20)"
   ]
  },
  {
   "cell_type": "code",
   "execution_count": 118,
   "metadata": {},
   "outputs": [
    {
     "data": {
      "text/plain": [
       "72667                     delaneyjoseph<<[l'>>épouvanteur]3\n",
       "77627                               pecqueurdanielcyberwar1\n",
       "99306                      pichonliz1963-tom gatesband 1aut\n",
       "178742    binniwalter1913-1997opere complete di walter b...\n",
       "130349                           ristjohannsämtliche werke9\n",
       "77442                    tessiergregmistinguette & cartoon2\n",
       "109243                        rutishauserwalter1940-2017fdp\n",
       "123720    telemanngeorg philippmusikalische werkemusique...\n",
       "180595                        jaouisylvainerue des copains4\n",
       "76016                      scottwaltersir1771-1832oeuvres24\n",
       "109940                                   laudectonycédric10\n",
       "82847               kishiroyukitogunnm : édition originale4\n",
       "21848                    shimabukuromitsutoshi1975-toriko35\n",
       "77675     schleiermacherfriedrich ernst danielkritische ...\n",
       "139992                              cusslerclive.-.oregon10\n",
       "53969     schweizbundesamt für landestopografielandeskar...\n",
       "78362         prigovdmitriĭ aleksandrovichsobranie stikhov2\n",
       "23521                  baldaccidavid1960-atlee pine series1\n",
       "47272                         rutishauserwalter1940-2017fdp\n",
       "131614                       badioualain1937-le séminaire12\n",
       "Name: person_800, dtype: object"
      ]
     },
     "execution_count": 118,
     "metadata": {},
     "output_type": "execute_result"
    }
   ],
   "source": [
    "df.person_800[df.person_800.apply(lambda x : len(x)>0)].sample(n=20)"
   ]
  },
  {
   "cell_type": "code",
   "execution_count": 119,
   "metadata": {},
   "outputs": [
    {
     "data": {
      "text/html": [
       "<div>\n",
       "<style scoped>\n",
       "    .dataframe tbody tr th:only-of-type {\n",
       "        vertical-align: middle;\n",
       "    }\n",
       "\n",
       "    .dataframe tbody tr th {\n",
       "        vertical-align: top;\n",
       "    }\n",
       "\n",
       "    .dataframe thead th {\n",
       "        text-align: right;\n",
       "    }\n",
       "</style>\n",
       "<table border=\"1\" class=\"dataframe\">\n",
       "  <thead>\n",
       "    <tr style=\"text-align: right;\">\n",
       "      <th></th>\n",
       "      <th>person_245c</th>\n",
       "      <th>person_100</th>\n",
       "      <th>person_700</th>\n",
       "      <th>person_800</th>\n",
       "    </tr>\n",
       "  </thead>\n",
       "  <tbody>\n",
       "    <tr>\n",
       "      <th>145865</th>\n",
       "      <td>n.k. jemisin</td>\n",
       "      <td>jemisinn. k.1972-(de-588)141498587verfasseraut</td>\n",
       "      <td></td>\n",
       "      <td>jemisinn.k.1972-the broken earth1</td>\n",
       "    </tr>\n",
       "    <tr>\n",
       "      <th>46825</th>\n",
       "      <td>jean-marie agier, philippe graf</td>\n",
       "      <td>agierjean-marie</td>\n",
       "      <td>grafphilippe</td>\n",
       "      <td></td>\n",
       "    </tr>\n",
       "  </tbody>\n",
       "</table>\n",
       "</div>"
      ],
      "text/plain": [
       "                            person_245c  \\\n",
       "145865                     n.k. jemisin   \n",
       "46825   jean-marie agier, philippe graf   \n",
       "\n",
       "                                            person_100    person_700  \\\n",
       "145865  jemisinn. k.1972-(de-588)141498587verfasseraut                 \n",
       "46825                                  agierjean-marie  grafphilippe   \n",
       "\n",
       "                               person_800  \n",
       "145865  jemisinn.k.1972-the broken earth1  \n",
       "46825                                      "
      ]
     },
     "execution_count": 119,
     "metadata": {},
     "output_type": "execute_result"
    }
   ],
   "source": [
    "df[['person_245c', 'person_100', 'person_700', 'person_800']].loc[[145865, 46825]]"
   ]
  },
  {
   "cell_type": "markdown",
   "metadata": {},
   "source": [
    "Column $\\texttt{person_245c}$ is identified as the most complete and usefull personal name attribute and will be used as a basis for the data of the feature matrix."
   ]
  },
  {
   "cell_type": "code",
   "execution_count": 120,
   "metadata": {},
   "outputs": [],
   "source": [
    "#columns_metadata_dict['data_analysis_columns'].append('person_100')\n",
    "#columns_metadata_dict['data_analysis_columns'].append('person_700')\n",
    "#columns_metadata_dict['data_analysis_columns'].append('person_800')\n",
    "columns_metadata_dict['data_analysis_columns'].append('person_245c')"
   ]
  },
  {
   "cell_type": "code",
   "execution_count": 121,
   "metadata": {},
   "outputs": [
    {
     "name": "stdout",
     "output_type": "stream",
     "text": [
      "Ratio of records with missing person and corporate information 7.9%\n"
     ]
    }
   ],
   "source": [
    "df_no_person_no_corporate = df[['person', 'corporate', 'format_prefix']][\n",
    "    df.person_100.apply(lambda x : len(x)==0) &\n",
    "    df.person_700.apply(lambda x : len(x)==0) &\n",
    "    df.person_800.apply(lambda x : len(x)==0) &\n",
    "    df.person_245c.apply(lambda x : len(x)==0) &\n",
    "    df.corporate_110.apply(lambda x : len(x)==0) &\n",
    "    df.corporate_710.apply(lambda x : len(x)==0)\n",
    "]\n",
    "\n",
    "print('Ratio of records with missing person and corporate information {:.1f}%'.format(\n",
    "    len(df_no_person_no_corporate)/len(df)*100))"
   ]
  },
  {
   "cell_type": "code",
   "execution_count": 122,
   "metadata": {},
   "outputs": [
    {
     "data": {
      "text/plain": [
       "bk    11352\n",
       "cr     1571\n",
       "vm      863\n",
       "mu      254\n",
       "        154\n",
       "mp       98\n",
       "cf       78\n",
       "cl       76\n",
       "Name: format_prefix, dtype: int64"
      ]
     },
     "execution_count": 122,
     "metadata": {},
     "output_type": "execute_result"
    }
   ],
   "source": [
    "df_no_person_no_corporate.format_prefix.value_counts()"
   ]
  },
  {
   "cell_type": "markdown",
   "metadata": {},
   "source": [
    "A comparison between $\\texttt{person}$ and $\\texttt{corporate}$ shows that about 8% of the records have no information in neither of the two attributes. These records are distributed over all formats of the bibliographical unit."
   ]
  },
  {
   "cell_type": "markdown",
   "metadata": {},
   "source": [
    "### pubinit"
   ]
  },
  {
   "cell_type": "code",
   "execution_count": 123,
   "metadata": {},
   "outputs": [],
   "source": [
    "columns_metadata_dict['list_columns'] = ['pubinit']"
   ]
  },
  {
   "cell_type": "code",
   "execution_count": 124,
   "metadata": {},
   "outputs": [
    {
     "name": "stdout",
     "output_type": "stream",
     "text": [
      "Number of records with filled pubinit 61462, with missing pubinit 121945 => 33.5%\n"
     ]
    }
   ],
   "source": [
    "_, _ = daf.find_empty_in_column(df, columns_metadata_dict, 'pubinit')"
   ]
  },
  {
   "cell_type": "markdown",
   "metadata": {},
   "source": [
    "The attribute holds the information on the publisher of the bibliographical unit. Some sample data is shown below."
   ]
  },
  {
   "cell_type": "code",
   "execution_count": 125,
   "metadata": {},
   "outputs": [
    {
     "data": {
      "text/plain": [
       "2829                                     [Schwab]\n",
       "165030                         [Exposition Press]\n",
       "46716                [Princeton University Press]\n",
       "44343                          [Atlantic Council]\n",
       "117460                 [publisher not identified]\n",
       "119723                 [publisher not identified]\n",
       "121100            [Springer Fachmedien Wiesbaden]\n",
       "178595                                 [Espace 2]\n",
       "30519                                  [Hachette]\n",
       "42293                        [Climate Strategies]\n",
       "150780                      [Comité organisateur]\n",
       "144589      [Institució de les Lletres Catalanes]\n",
       "33502                            [Domaine public]\n",
       "89834                                   [Brepols]\n",
       "167961          [PyeongChang 2014 Candidate City]\n",
       "166794                                   [[s.n.]]\n",
       "142043    [Bund tschechoslowakischer Architekten]\n",
       "8655                                   [Springer]\n",
       "180700                               [Wiley-Liss]\n",
       "155485                                  [Pandora]\n",
       "Name: pubinit, dtype: object"
      ]
     },
     "execution_count": 125,
     "metadata": {},
     "output_type": "execute_result"
    }
   ],
   "source": [
    "df.pubinit[df.pubinit.apply(lambda x : len(x)>0)].sample(n=20)"
   ]
  },
  {
   "cell_type": "markdown",
   "metadata": {},
   "source": [
    "Two kinds of entries stand out as special in the sample data."
   ]
  },
  {
   "cell_type": "code",
   "execution_count": 126,
   "metadata": {},
   "outputs": [
    {
     "data": {
      "text/plain": [
       "117866    [publisher not identified]\n",
       "3185                        [[s.n.]]\n",
       "Name: pubinit, dtype: object"
      ]
     },
     "execution_count": 126,
     "metadata": {},
     "output_type": "execute_result"
    }
   ],
   "source": [
    "df.pubinit.loc[[117866, 3185]]"
   ]
  },
  {
   "cell_type": "code",
   "execution_count": 127,
   "metadata": {},
   "outputs": [
    {
     "name": "stdout",
     "output_type": "stream",
     "text": [
      "Number of records with pubinit = 'publisher not identified' : 2795    \n",
      "Number of records with pubinit = '[s.n.]' : 4259\n"
     ]
    }
   ],
   "source": [
    "cnt_pni, cnt_sn = 0, 0\n",
    "\n",
    "for i in range(len(df)):\n",
    "    if len(df.pubinit.loc[i]) > 0:\n",
    "        if df.pubinit.loc[i][0] == 'publisher not identified':\n",
    "            cnt_pni = cnt_pni+1\n",
    "        if df.pubinit.loc[i][0] == '[s.n.]':\n",
    "            cnt_sn = cnt_sn+1\n",
    "\n",
    "print('Number of records with pubinit = \\'publisher not identified\\' : {:d}\\\n",
    "    \\nNumber of records with pubinit = \\'[s.n.]\\' : {:d}'.format(cnt_pni, cnt_sn))"
   ]
  },
  {
   "cell_type": "markdown",
   "metadata": {},
   "source": [
    "These special entries will be handled as regular publisher's description and the attribute will be taken to further processing as is."
   ]
  },
  {
   "cell_type": "code",
   "execution_count": 128,
   "metadata": {},
   "outputs": [],
   "source": [
    "columns_metadata_dict['data_analysis_columns'].append('pubinit')"
   ]
  },
  {
   "cell_type": "markdown",
   "metadata": {},
   "source": [
    "### pubword"
   ]
  },
  {
   "cell_type": "code",
   "execution_count": 129,
   "metadata": {},
   "outputs": [],
   "source": [
    "columns_metadata_dict['list_columns'] = ['pubword']"
   ]
  },
  {
   "cell_type": "code",
   "execution_count": 130,
   "metadata": {},
   "outputs": [
    {
     "name": "stdout",
     "output_type": "stream",
     "text": [
      "Number of records with filled pubword 61462, with missing pubword 121945 => 33.5%\n"
     ]
    }
   ],
   "source": [
    "_, _ = daf.find_empty_in_column(df, columns_metadata_dict, 'pubword')"
   ]
  },
  {
   "cell_type": "markdown",
   "metadata": {},
   "source": [
    "Attribute $\\texttt{pubword}$ has the same MARC 21 basis as $\\texttt{pubinit}$. The attribute will be dropped due to redundancy."
   ]
  },
  {
   "cell_type": "markdown",
   "metadata": {},
   "source": [
    "### pubyear"
   ]
  },
  {
   "cell_type": "code",
   "execution_count": 131,
   "metadata": {},
   "outputs": [],
   "source": [
    "columns_metadata_dict['strings_columns'].append('pubyear')"
   ]
  },
  {
   "cell_type": "code",
   "execution_count": 132,
   "metadata": {},
   "outputs": [
    {
     "name": "stdout",
     "output_type": "stream",
     "text": [
      "Number of records with filled pubyear 183407, with missing pubyear 0 => 100.0%\n"
     ]
    }
   ],
   "source": [
    "_, _ = daf.find_empty_in_column(df, columns_metadata_dict, 'pubyear')"
   ]
  },
  {
   "cell_type": "code",
   "execution_count": 133,
   "metadata": {},
   "outputs": [
    {
     "data": {
      "text/html": [
       "<div>\n",
       "<style scoped>\n",
       "    .dataframe tbody tr th:only-of-type {\n",
       "        vertical-align: middle;\n",
       "    }\n",
       "\n",
       "    .dataframe tbody tr th {\n",
       "        vertical-align: top;\n",
       "    }\n",
       "\n",
       "    .dataframe thead th {\n",
       "        text-align: right;\n",
       "    }\n",
       "</style>\n",
       "<table border=\"1\" class=\"dataframe\">\n",
       "  <thead>\n",
       "    <tr style=\"text-align: right;\">\n",
       "      <th></th>\n",
       "      <th>docid</th>\n",
       "      <th>035liste</th>\n",
       "      <th>isbn</th>\n",
       "      <th>ttlfull</th>\n",
       "      <th>ttlpart</th>\n",
       "      <th>person</th>\n",
       "      <th>corporate</th>\n",
       "      <th>pubyear</th>\n",
       "      <th>decade</th>\n",
       "      <th>century</th>\n",
       "      <th>exactDate</th>\n",
       "      <th>...</th>\n",
       "      <th>coordinate_E</th>\n",
       "      <th>coordinate_N</th>\n",
       "      <th>corporate_110</th>\n",
       "      <th>corporate_710</th>\n",
       "      <th>corporate_810</th>\n",
       "      <th>format_prefix</th>\n",
       "      <th>format_postfix</th>\n",
       "      <th>person_100</th>\n",
       "      <th>person_700</th>\n",
       "      <th>person_800</th>\n",
       "      <th>person_245c</th>\n",
       "    </tr>\n",
       "  </thead>\n",
       "  <tbody>\n",
       "    <tr>\n",
       "      <th>0</th>\n",
       "      <td>554061449</td>\n",
       "      <td>[(OCoLC)1085491204, (IDSBB)006899773]</td>\n",
       "      <td>[]</td>\n",
       "      <td>{'245': ['Die Feist von Kienberg', 'eine Wasen...</td>\n",
       "      <td>{'245': ['Die Feist von Kienberg', 'eine Wasen...</td>\n",
       "      <td>{'100': ['SchluchterAndré'], '245c': ['André S...</td>\n",
       "      <td>{}</td>\n",
       "      <td>1992</td>\n",
       "      <td>1992</td>\n",
       "      <td>1992</td>\n",
       "      <td>1992uuuu</td>\n",
       "      <td>...</td>\n",
       "      <td></td>\n",
       "      <td></td>\n",
       "      <td></td>\n",
       "      <td></td>\n",
       "      <td></td>\n",
       "      <td>bk</td>\n",
       "      <td>020000</td>\n",
       "      <td>schluchterandré</td>\n",
       "      <td></td>\n",
       "      <td></td>\n",
       "      <td>andré schluchter</td>\n",
       "    </tr>\n",
       "    <tr>\n",
       "      <th>1</th>\n",
       "      <td>554061481</td>\n",
       "      <td>[(OCoLC)1085491341, (IDSBB)006899983]</td>\n",
       "      <td>[]</td>\n",
       "      <td>{'245': ['Reimereien']}</td>\n",
       "      <td>{'245': ['Reimereien']}</td>\n",
       "      <td>{'100': ['NaegeliWerner'], '245c': ['von Werne...</td>\n",
       "      <td>{}</td>\n",
       "      <td>1986</td>\n",
       "      <td>1986</td>\n",
       "      <td>1986</td>\n",
       "      <td>1986uuuu</td>\n",
       "      <td>...</td>\n",
       "      <td></td>\n",
       "      <td></td>\n",
       "      <td></td>\n",
       "      <td></td>\n",
       "      <td></td>\n",
       "      <td>bk</td>\n",
       "      <td>020000</td>\n",
       "      <td>naegeliwerner</td>\n",
       "      <td></td>\n",
       "      <td></td>\n",
       "      <td>von werner naegeli</td>\n",
       "    </tr>\n",
       "    <tr>\n",
       "      <th>2</th>\n",
       "      <td>554061503</td>\n",
       "      <td>[(OCoLC)1085491299, (IDSBB)006899959]</td>\n",
       "      <td>[]</td>\n",
       "      <td>{'245': ['Efficax antidotum ad matrimonia mixt...</td>\n",
       "      <td>{'245': ['Efficax antidotum ad matrimonia mixt...</td>\n",
       "      <td>{'100': ['KellyM.V.'], '700': ['GeniesseJ.B.']...</td>\n",
       "      <td>{}</td>\n",
       "      <td>1923</td>\n",
       "      <td>1923</td>\n",
       "      <td>1923</td>\n",
       "      <td>1923uuuu</td>\n",
       "      <td>...</td>\n",
       "      <td></td>\n",
       "      <td></td>\n",
       "      <td></td>\n",
       "      <td></td>\n",
       "      <td></td>\n",
       "      <td>bk</td>\n",
       "      <td>020000</td>\n",
       "      <td>kellym.v.</td>\n",
       "      <td>geniessej.b.</td>\n",
       "      <td></td>\n",
       "      <td>m.v. kelly et j.b. geniesse</td>\n",
       "    </tr>\n",
       "    <tr>\n",
       "      <th>3</th>\n",
       "      <td>554061511</td>\n",
       "      <td>[(OCoLC)1085491268, (IDSBB)006896614]</td>\n",
       "      <td>[]</td>\n",
       "      <td>{'245': ['Probleme der Inflationsbekämpfung', ...</td>\n",
       "      <td>{'245': ['Probleme der Inflationsbekämpfung', ...</td>\n",
       "      <td>{'100': ['WegelinWalter'], '245c': ['']}</td>\n",
       "      <td>{}</td>\n",
       "      <td>1947</td>\n",
       "      <td>1947</td>\n",
       "      <td>1947</td>\n",
       "      <td>1947uuuu</td>\n",
       "      <td>...</td>\n",
       "      <td></td>\n",
       "      <td></td>\n",
       "      <td></td>\n",
       "      <td></td>\n",
       "      <td></td>\n",
       "      <td>bk</td>\n",
       "      <td>020000</td>\n",
       "      <td>wegelinwalter</td>\n",
       "      <td></td>\n",
       "      <td></td>\n",
       "      <td></td>\n",
       "    </tr>\n",
       "    <tr>\n",
       "      <th>4</th>\n",
       "      <td>55406152X</td>\n",
       "      <td>[(OCoLC)1085491079, (IDSBB)006896866]</td>\n",
       "      <td>[]</td>\n",
       "      <td>{'245': ['[Poems]']}</td>\n",
       "      <td>{'245': ['[Poems]']}</td>\n",
       "      <td>{'100': ['OberlinUrs'], '245c': ['Urs Oberlin ...</td>\n",
       "      <td>{}</td>\n",
       "      <td>1991</td>\n",
       "      <td>1991</td>\n",
       "      <td>1991</td>\n",
       "      <td>1991uuuu</td>\n",
       "      <td>...</td>\n",
       "      <td></td>\n",
       "      <td></td>\n",
       "      <td></td>\n",
       "      <td></td>\n",
       "      <td></td>\n",
       "      <td>bk</td>\n",
       "      <td>020000</td>\n",
       "      <td>oberlinurs</td>\n",
       "      <td></td>\n",
       "      <td></td>\n",
       "      <td>urs oberlin ; translated from the german by ru...</td>\n",
       "    </tr>\n",
       "    <tr>\n",
       "      <th>...</th>\n",
       "      <td>...</td>\n",
       "      <td>...</td>\n",
       "      <td>...</td>\n",
       "      <td>...</td>\n",
       "      <td>...</td>\n",
       "      <td>...</td>\n",
       "      <td>...</td>\n",
       "      <td>...</td>\n",
       "      <td>...</td>\n",
       "      <td>...</td>\n",
       "      <td>...</td>\n",
       "      <td>...</td>\n",
       "      <td>...</td>\n",
       "      <td>...</td>\n",
       "      <td>...</td>\n",
       "      <td>...</td>\n",
       "      <td>...</td>\n",
       "      <td>...</td>\n",
       "      <td>...</td>\n",
       "      <td>...</td>\n",
       "      <td>...</td>\n",
       "      <td>...</td>\n",
       "      <td>...</td>\n",
       "    </tr>\n",
       "    <tr>\n",
       "      <th>183402</th>\n",
       "      <td>556988922</td>\n",
       "      <td>[(OCoLC)1083973002, (NEBIS)011374206]</td>\n",
       "      <td>[978-3-319-99217-4]</td>\n",
       "      <td>{'245': ['Great Moments in the History of Life']}</td>\n",
       "      <td>{'245': ['Great Moments in the History of Life']}</td>\n",
       "      <td>{'100': ['ShawGeorge H.Verfasserautauthttp://i...</td>\n",
       "      <td>{}</td>\n",
       "      <td>2018</td>\n",
       "      <td>2018</td>\n",
       "      <td>2018</td>\n",
       "      <td>2018uuuu</td>\n",
       "      <td>...</td>\n",
       "      <td></td>\n",
       "      <td></td>\n",
       "      <td></td>\n",
       "      <td></td>\n",
       "      <td></td>\n",
       "      <td>bk</td>\n",
       "      <td>020053</td>\n",
       "      <td>shawgeorge h.verfasserautauthttp://id</td>\n",
       "      <td></td>\n",
       "      <td></td>\n",
       "      <td>by george h. shaw</td>\n",
       "    </tr>\n",
       "    <tr>\n",
       "      <th>183403</th>\n",
       "      <td>556988930</td>\n",
       "      <td>[(OCoLC)1081363098, (NEBIS)011374477]</td>\n",
       "      <td>[978-3-662-58485-9]</td>\n",
       "      <td>{'245': ['Machine Learning for Cyber Physical ...</td>\n",
       "      <td>{'245': ['Machine Learning for Cyber Physical ...</td>\n",
       "      <td>{'100': [], '700': ['BeyererJürgenHerausgebere...</td>\n",
       "      <td>{}</td>\n",
       "      <td>2019</td>\n",
       "      <td>2019</td>\n",
       "      <td>2019</td>\n",
       "      <td>2019uuuu</td>\n",
       "      <td>...</td>\n",
       "      <td></td>\n",
       "      <td></td>\n",
       "      <td></td>\n",
       "      <td></td>\n",
       "      <td></td>\n",
       "      <td>bk</td>\n",
       "      <td>020053</td>\n",
       "      <td></td>\n",
       "      <td>beyererjürgenherausgeberedtedthttp://id, kühne...</td>\n",
       "      <td></td>\n",
       "      <td>edited by jürgen beyerer, christian kühnert, o...</td>\n",
       "    </tr>\n",
       "    <tr>\n",
       "      <th>183404</th>\n",
       "      <td>556988949</td>\n",
       "      <td>[(OCoLC)1089721912, (NEBIS)011374010]</td>\n",
       "      <td>[]</td>\n",
       "      <td>{'245': ['Die neolithische Höhensiedlung \"Abri...</td>\n",
       "      <td>{'245': ['Die neolithische Höhensiedlung \"Abri...</td>\n",
       "      <td>{'100': ['AmreinWilhelm1872-1946(DE-588)116302...</td>\n",
       "      <td>{}</td>\n",
       "      <td>1930</td>\n",
       "      <td>1930</td>\n",
       "      <td>1930</td>\n",
       "      <td>1930uuuu</td>\n",
       "      <td>...</td>\n",
       "      <td></td>\n",
       "      <td></td>\n",
       "      <td></td>\n",
       "      <td></td>\n",
       "      <td></td>\n",
       "      <td>bk</td>\n",
       "      <td>010000</td>\n",
       "      <td>amreinwilhelm1872-1946(de-588)116302429verfass...</td>\n",
       "      <td></td>\n",
       "      <td></td>\n",
       "      <td></td>\n",
       "    </tr>\n",
       "    <tr>\n",
       "      <th>183405</th>\n",
       "      <td>556988965</td>\n",
       "      <td>[(OCoLC)883819333, (NEBIS)008354642]</td>\n",
       "      <td>[3-931793-24-9]</td>\n",
       "      <td>{'245': ['Igel Total']}</td>\n",
       "      <td>{'245': ['Igel Total']}</td>\n",
       "      <td>{'100': ['BachMeike'], '245c': ['Idee &amp; Ill. M...</td>\n",
       "      <td>{}</td>\n",
       "      <td>2000</td>\n",
       "      <td>2000</td>\n",
       "      <td>2000</td>\n",
       "      <td>2000uuuu</td>\n",
       "      <td>...</td>\n",
       "      <td></td>\n",
       "      <td></td>\n",
       "      <td></td>\n",
       "      <td></td>\n",
       "      <td></td>\n",
       "      <td>bk</td>\n",
       "      <td>020000</td>\n",
       "      <td>bachmeike</td>\n",
       "      <td></td>\n",
       "      <td></td>\n",
       "      <td>idee &amp; ill. meike bach</td>\n",
       "    </tr>\n",
       "    <tr>\n",
       "      <th>183406</th>\n",
       "      <td>556988973</td>\n",
       "      <td>[(OCoLC)1083948806, (NEBIS)011374205]</td>\n",
       "      <td>[978-3-319-97553-5]</td>\n",
       "      <td>{'245': ['Proceeding of the 2nd International ...</td>\n",
       "      <td>{'245': ['Proceeding of the 2nd International ...</td>\n",
       "      <td>{'100': [], '700': ['SukartikoAnggoro CahyoHer...</td>\n",
       "      <td>{}</td>\n",
       "      <td>2018</td>\n",
       "      <td>2018</td>\n",
       "      <td>2018</td>\n",
       "      <td>2018uuuu</td>\n",
       "      <td>...</td>\n",
       "      <td></td>\n",
       "      <td></td>\n",
       "      <td></td>\n",
       "      <td></td>\n",
       "      <td></td>\n",
       "      <td>bk</td>\n",
       "      <td>020053</td>\n",
       "      <td></td>\n",
       "      <td>sukartikoanggoro cahyoherausgeberedtedthttp://...</td>\n",
       "      <td></td>\n",
       "      <td>edited by anggoro cahyo sukartiko, tri rini nu...</td>\n",
       "    </tr>\n",
       "  </tbody>\n",
       "</table>\n",
       "<p>148968 rows × 34 columns</p>\n",
       "</div>"
      ],
      "text/plain": [
       "            docid                               035liste                 isbn  \\\n",
       "0       554061449  [(OCoLC)1085491204, (IDSBB)006899773]                   []   \n",
       "1       554061481  [(OCoLC)1085491341, (IDSBB)006899983]                   []   \n",
       "2       554061503  [(OCoLC)1085491299, (IDSBB)006899959]                   []   \n",
       "3       554061511  [(OCoLC)1085491268, (IDSBB)006896614]                   []   \n",
       "4       55406152X  [(OCoLC)1085491079, (IDSBB)006896866]                   []   \n",
       "...           ...                                    ...                  ...   \n",
       "183402  556988922  [(OCoLC)1083973002, (NEBIS)011374206]  [978-3-319-99217-4]   \n",
       "183403  556988930  [(OCoLC)1081363098, (NEBIS)011374477]  [978-3-662-58485-9]   \n",
       "183404  556988949  [(OCoLC)1089721912, (NEBIS)011374010]                   []   \n",
       "183405  556988965   [(OCoLC)883819333, (NEBIS)008354642]      [3-931793-24-9]   \n",
       "183406  556988973  [(OCoLC)1083948806, (NEBIS)011374205]  [978-3-319-97553-5]   \n",
       "\n",
       "                                                  ttlfull  \\\n",
       "0       {'245': ['Die Feist von Kienberg', 'eine Wasen...   \n",
       "1                                 {'245': ['Reimereien']}   \n",
       "2       {'245': ['Efficax antidotum ad matrimonia mixt...   \n",
       "3       {'245': ['Probleme der Inflationsbekämpfung', ...   \n",
       "4                                    {'245': ['[Poems]']}   \n",
       "...                                                   ...   \n",
       "183402  {'245': ['Great Moments in the History of Life']}   \n",
       "183403  {'245': ['Machine Learning for Cyber Physical ...   \n",
       "183404  {'245': ['Die neolithische Höhensiedlung \"Abri...   \n",
       "183405                            {'245': ['Igel Total']}   \n",
       "183406  {'245': ['Proceeding of the 2nd International ...   \n",
       "\n",
       "                                                  ttlpart  \\\n",
       "0       {'245': ['Die Feist von Kienberg', 'eine Wasen...   \n",
       "1                                 {'245': ['Reimereien']}   \n",
       "2       {'245': ['Efficax antidotum ad matrimonia mixt...   \n",
       "3       {'245': ['Probleme der Inflationsbekämpfung', ...   \n",
       "4                                    {'245': ['[Poems]']}   \n",
       "...                                                   ...   \n",
       "183402  {'245': ['Great Moments in the History of Life']}   \n",
       "183403  {'245': ['Machine Learning for Cyber Physical ...   \n",
       "183404  {'245': ['Die neolithische Höhensiedlung \"Abri...   \n",
       "183405                            {'245': ['Igel Total']}   \n",
       "183406  {'245': ['Proceeding of the 2nd International ...   \n",
       "\n",
       "                                                   person corporate   pubyear  \\\n",
       "0       {'100': ['SchluchterAndré'], '245c': ['André S...        {}  1992       \n",
       "1       {'100': ['NaegeliWerner'], '245c': ['von Werne...        {}  1986       \n",
       "2       {'100': ['KellyM.V.'], '700': ['GeniesseJ.B.']...        {}  1923       \n",
       "3                {'100': ['WegelinWalter'], '245c': ['']}        {}  1947       \n",
       "4       {'100': ['OberlinUrs'], '245c': ['Urs Oberlin ...        {}  1991       \n",
       "...                                                   ...       ...       ...   \n",
       "183402  {'100': ['ShawGeorge H.Verfasserautauthttp://i...        {}  2018       \n",
       "183403  {'100': [], '700': ['BeyererJürgenHerausgebere...        {}  2019       \n",
       "183404  {'100': ['AmreinWilhelm1872-1946(DE-588)116302...        {}  1930       \n",
       "183405  {'100': ['BachMeike'], '245c': ['Idee & Ill. M...        {}  2000       \n",
       "183406  {'100': [], '700': ['SukartikoAnggoro CahyoHer...        {}  2018       \n",
       "\n",
       "       decade century exactDate  ... coordinate_E coordinate_N corporate_110  \\\n",
       "0        1992    1992  1992uuuu  ...                                           \n",
       "1        1986    1986  1986uuuu  ...                                           \n",
       "2        1923    1923  1923uuuu  ...                                           \n",
       "3        1947    1947  1947uuuu  ...                                           \n",
       "4        1991    1991  1991uuuu  ...                                           \n",
       "...       ...     ...       ...  ...          ...          ...           ...   \n",
       "183402   2018    2018  2018uuuu  ...                                           \n",
       "183403   2019    2019  2019uuuu  ...                                           \n",
       "183404   1930    1930  1930uuuu  ...                                           \n",
       "183405   2000    2000  2000uuuu  ...                                           \n",
       "183406   2018    2018  2018uuuu  ...                                           \n",
       "\n",
       "       corporate_710 corporate_810 format_prefix format_postfix  \\\n",
       "0                                             bk         020000   \n",
       "1                                             bk         020000   \n",
       "2                                             bk         020000   \n",
       "3                                             bk         020000   \n",
       "4                                             bk         020000   \n",
       "...              ...           ...           ...            ...   \n",
       "183402                                        bk         020053   \n",
       "183403                                        bk         020053   \n",
       "183404                                        bk         010000   \n",
       "183405                                        bk         020000   \n",
       "183406                                        bk         020053   \n",
       "\n",
       "                                               person_100  \\\n",
       "0                                         schluchterandré   \n",
       "1                                           naegeliwerner   \n",
       "2                                               kellym.v.   \n",
       "3                                           wegelinwalter   \n",
       "4                                              oberlinurs   \n",
       "...                                                   ...   \n",
       "183402              shawgeorge h.verfasserautauthttp://id   \n",
       "183403                                                      \n",
       "183404  amreinwilhelm1872-1946(de-588)116302429verfass...   \n",
       "183405                                          bachmeike   \n",
       "183406                                                      \n",
       "\n",
       "                                               person_700 person_800  \\\n",
       "0                                                                      \n",
       "1                                                                      \n",
       "2                                            geniessej.b.              \n",
       "3                                                                      \n",
       "4                                                                      \n",
       "...                                                   ...        ...   \n",
       "183402                                                                 \n",
       "183403  beyererjürgenherausgeberedtedthttp://id, kühne...              \n",
       "183404                                                                 \n",
       "183405                                                                 \n",
       "183406  sukartikoanggoro cahyoherausgeberedtedthttp://...              \n",
       "\n",
       "                                              person_245c  \n",
       "0                                        andré schluchter  \n",
       "1                                      von werner naegeli  \n",
       "2                             m.v. kelly et j.b. geniesse  \n",
       "3                                                          \n",
       "4       urs oberlin ; translated from the german by ru...  \n",
       "...                                                   ...  \n",
       "183402                                  by george h. shaw  \n",
       "183403  edited by jürgen beyerer, christian kühnert, o...  \n",
       "183404                                                     \n",
       "183405                             idee & ill. meike bach  \n",
       "183406  edited by anggoro cahyo sukartiko, tri rini nu...  \n",
       "\n",
       "[148968 rows x 34 columns]"
      ]
     },
     "execution_count": 133,
     "metadata": {},
     "output_type": "execute_result"
    }
   ],
   "source": [
    "df[df.exactDate != df.pubyear]"
   ]
  },
  {
   "cell_type": "markdown",
   "metadata": {},
   "source": [
    "All 8 digits of $\\texttt{pubyear}$ hold identical data compared to field $\\texttt{exactDate}$. This observation corresponds to the expectation from the MARC 21 description of the attribute. The purpose of the attribute is to identify the year of publication of a bibliographic unit and store it for comparison in Swissbib's conventional deduplication implementation [[WiCo2001](./A_References.ipynb#wico2001)]. Chapter [Feature Matrix Generation](./3_FeatureMatrixGeneration.ipynb) will apply a similarity metric for $\\texttt{exactDate}$ that takes the full date of publication into specific consideration. Attribute $\\texttt{pubyear}$ will be dropped as redundant."
   ]
  },
  {
   "cell_type": "markdown",
   "metadata": {},
   "source": [
    "### scale"
   ]
  },
  {
   "cell_type": "code",
   "execution_count": 134,
   "metadata": {},
   "outputs": [],
   "source": [
    "columns_metadata_dict['strings_columns'].append('scale')"
   ]
  },
  {
   "cell_type": "code",
   "execution_count": 135,
   "metadata": {},
   "outputs": [
    {
     "name": "stdout",
     "output_type": "stream",
     "text": [
      "Number of records with filled scale 793, with missing scale 182614 => 0.4%\n"
     ]
    }
   ],
   "source": [
    "_, _ = daf.find_empty_in_column(df, columns_metadata_dict, 'scale')"
   ]
  },
  {
   "cell_type": "code",
   "execution_count": 136,
   "metadata": {},
   "outputs": [
    {
     "data": {
      "text/plain": [
       "array(['400000', '3000000', '50000', '75000', '300000', '800000', '10000',\n",
       "       '5650', '1:400,000', '700000', '100000', '25000', '275000',\n",
       "       '500000500000', '301000', '15000', '16667', 'Echelle : 1:50 000',\n",
       "       '1000000', '250000', '150000', 'Verschiedene Massstäbe',\n",
       "       'Echelle [ca. 1:440 000]', '5000050000',\n",
       "       '[Echelle non déterminée]', '200000', '118000', '1000010000',\n",
       "       '12500', 'Echelle 1:50.000', '5000', '500', 'Echelles diverses',\n",
       "       'Echelle 1:50 000', '1400000', '1600000', '550000', '1:50 000',\n",
       "       '1:60 000', '9117', '2000000', '20000100000', '1156015625', '8100',\n",
       "       '15700', '17400', '810011600', '16666', '500000', '70000',\n",
       "       'Echelle: 1:25.000', '1:25 000', '125000', '46000',\n",
       "       'Echelle 1:25.000 ; projection conforme cylindrique à axe oblique',\n",
       "       'Echelle 1:25.000', '300000700000', '850000', '2750', '1250000',\n",
       "       '1700000', '750000', '11000000', '17500', '250000250000',\n",
       "       '24000000', '3500000', '2500000', '240000', '60000', '650000',\n",
       "       '600000', '16000', '27000', '28000', '200000200000', '172000',\n",
       "       '24000', '2500065000', '56000', '40000', '35000', '1:18000',\n",
       "       '260000', '22500', '17000', '2600032000', '36000', '45000',\n",
       "       '2500040000', '20000', '30000', '275000275000', '15000000',\n",
       "       '2500033000', '490000', '1: 5 000 000', '120000', '37005000',\n",
       "       '56600', '16130', '1110023250', '126720', '2200000', '33000',\n",
       "       '7500', '6000060000', '11000', '10560', '13000', '160000', '18700',\n",
       "       '11450', '27600', '15500', '100', '10500', '1:35 000', '18500',\n",
       "       '2770000', '4000000', '150', '2000', '50000012500002000000200000',\n",
       "       '1100020000', '12000', 'Echelle : 1:100.000', '14000', '320000',\n",
       "       '9500000', '1:200 000', '5700000', '175000', '2700000', '3700000',\n",
       "       '4500000', '8000', '7700',\n",
       "       '850025 00010000 $d E0073010 $e E0073635 $f N0464638 $g N0464333',\n",
       "       '160009000', '5000000', '1875000', '2800000', '4000',\n",
       "       '1:8 000 000', '1:3 000 000', '38000', '1750049000',\n",
       "       '500000250000', '2670000', '2400000', '1960000', '2500025000',\n",
       "       '8500', '100000100000', '380000', '250002500025000', '13500',\n",
       "       '5500', '4500', '90000', 'Echelle 1:250 000'], dtype=object)"
      ]
     },
     "execution_count": 136,
     "metadata": {},
     "output_type": "execute_result"
    }
   ],
   "source": [
    "df.scale[df.scale.apply(lambda x : len(x)>0)].unique()"
   ]
  },
  {
   "cell_type": "markdown",
   "metadata": {},
   "source": [
    "Attribute $\\texttt{scale}$ holds scaling information on maps units. The degree of filling in attribute $\\texttt{coordinate}$ is correlted with the degree of filling in attribute $\\texttt{scale}$."
   ]
  },
  {
   "cell_type": "code",
   "execution_count": 137,
   "metadata": {},
   "outputs": [
    {
     "name": "stdout",
     "output_type": "stream",
     "text": [
      "Number of records with either 'coordinate' or 'scale' not filled : 141\n"
     ]
    }
   ],
   "source": [
    "print('Number of records with either \\'coordinate\\' or \\'scale\\' not filled :', len(\n",
    "    df[['coordinate', 'scale']][\n",
    "        (df.scale.apply(lambda x : len(x)>0) & df.coordinate.apply(lambda x : len(x)==0)) |\n",
    "        (df.scale.apply(lambda x : len(x)==0) & df.coordinate.apply(lambda x : len(x)>0))\n",
    "    ]))"
   ]
  },
  {
   "cell_type": "markdown",
   "metadata": {},
   "source": [
    "The attribute will be taken over to further processing as is."
   ]
  },
  {
   "cell_type": "code",
   "execution_count": 138,
   "metadata": {},
   "outputs": [],
   "source": [
    "columns_metadata_dict['data_analysis_columns'].append('scale')"
   ]
  },
  {
   "cell_type": "markdown",
   "metadata": {},
   "source": [
    "### ttlfull"
   ]
  },
  {
   "cell_type": "code",
   "execution_count": 139,
   "metadata": {},
   "outputs": [],
   "source": [
    "columns_metadata_dict['strings_columns'].append('ttlfull')"
   ]
  },
  {
   "cell_type": "markdown",
   "metadata": {},
   "source": [
    "Attribute $\\texttt{ttlfull}$ holds the full title of the bibliographical unit, see [[FeatWiki](./A_References.ipynb/#feature_deduplication_wiki)]. Some examples are shown below."
   ]
  },
  {
   "cell_type": "code",
   "execution_count": 140,
   "metadata": {},
   "outputs": [
    {
     "data": {
      "text/plain": [
       "141690    {'245': ['Sketch of the German Constitution an...\n",
       "76087     {'245': ['Appel des députés au Grand Conseil é...\n",
       "96264     {'245': ['Die Gemeindekrankenpflege am Beispie...\n",
       "122079    {'245': ['Lead-acid starter batteries - Part 6...\n",
       "151312                 {'245': ['Skiing history magazine']}\n",
       "106987    {'245': ['Historical Law-Tracts'], '246': ['Hi...\n",
       "30341                        {'245': ['Le masque de mort']}\n",
       "144499                           {'245': ['Avec le temps']}\n",
       "158206             {'245': ['My Olympic life', 'a memoir']}\n",
       "128205    {'245': ['Tire tread and tire track evidence',...\n",
       "81593     {'245': ['Die schwierige Situation der Baumwol...\n",
       "108496    {'245': ['Law Clerk Handbook: A Handbook for L...\n",
       "51096     {'245': ['The census of China during the perio...\n",
       "16353     {'245': ['Würfelzucker & Wildschweinbraten', '...\n",
       "50320                         {'245': ['Melnitz', 'Roman']}\n",
       "278              {'245': ['Schweizerischer Caritasführer']}\n",
       "4639      {'245': ['Die geheime Kraft aus der Erde', 'wi...\n",
       "71229     {'245': ['Les sports de montagne. L'alpinisme....\n",
       "70646     {'245': ['Wilfried Moser', 'Genève, Galerie Ka...\n",
       "45569     {'245': ['Kantonale Diskriminierung von Asylbe...\n",
       "Name: ttlfull, dtype: object"
      ]
     },
     "execution_count": 140,
     "metadata": {},
     "output_type": "execute_result"
    }
   ],
   "source": [
    "df.ttlfull.sample(n=20)"
   ]
  },
  {
   "cell_type": "markdown",
   "metadata": {},
   "source": [
    "The attribute is a dictionary column in the DataFrame. There are two key value pairs possible in this attribute. For their processing, two new attributes will be added to the DataFrame, one for each key value pair. The values come along as lists. The implemented function $\\texttt{.transform}\\_\\texttt{list}\\_\\texttt{to}\\_\\texttt{string()}$ will be used to process the list elements into one single string of the column."
   ]
  },
  {
   "cell_type": "code",
   "execution_count": 141,
   "metadata": {},
   "outputs": [
    {
     "name": "stdout",
     "output_type": "stream",
     "text": [
      "Number of records with filled ttlfull_245 183407, with missing ttlfull_245 0 => 100.0%\n",
      "Number of records with filled ttlfull_246 15897, with missing ttlfull_246 167510 => 8.7%\n"
     ]
    }
   ],
   "source": [
    "for ending in ['245', '246']:\n",
    "    df = dpf.transform_dictionary_to_list(df, 'ttlfull', ending)\n",
    "    df = dpf.transform_list_to_string(df, 'ttlfull_'+ending)\n",
    "\n",
    "    columns_metadata_dict['strings_columns'].append('ttlfull_'+ending)\n",
    "    _, _ = daf.find_empty_in_column(df, columns_metadata_dict, 'ttlfull_'+ending)"
   ]
  },
  {
   "cell_type": "markdown",
   "metadata": {},
   "source": [
    "The title statement, attribute $\\texttt{ttlfull_245}$, is filled for every record in the data set. This makes the attribute a central attribute for records pair comparison. Attribute $\\texttt{ttlfull_246}$ on the other hand is sparsely filled. Some samples are shown below."
   ]
  },
  {
   "cell_type": "code",
   "execution_count": 142,
   "metadata": {},
   "outputs": [
    {
     "data": {
      "text/plain": [
       "77314                 advances in environmental engineering\n",
       "72506     heterogeneity of cancer-associated fibroblasts...\n",
       "17764                           kunterbunt von kopf bis fuß\n",
       "133121                                         gesellschaft\n",
       "176322    training distance runners, [the art and scienc...\n",
       "149775    derniers détails avant votre départ pour les j...\n",
       "180725    die meinungs- und pressefreiheit des art. 10 e...\n",
       "45998                         grundlagen der digitaltechnik\n",
       "148667    en couleurs en en lumière, dans le sillage de ...\n",
       "165222    the menstrual cycle and physical activity, pro...\n",
       "136887    jahrbuch der schweizerischen gesellschaft für ...\n",
       "105818    das weltbild der relativitätstheorie, allgemei...\n",
       "26901                                  airs d'opéras slaves\n",
       "173141    le droit du sport, actes du colloque du 20 avr...\n",
       "124566    the quality of the media: schweiz - suisse - s...\n",
       "66050                                  les années de gaïeté\n",
       "111804    abwehrender und anlagentechnischer brandschutz...\n",
       "54393                                              briciole\n",
       "85869                 wiler nachrichten : die wochenzeitung\n",
       "78110     zeitschrift der savigny-stiftung für rechtsges...\n",
       "Name: ttlfull_245, dtype: object"
      ]
     },
     "execution_count": 142,
     "metadata": {},
     "output_type": "execute_result"
    }
   ],
   "source": [
    "df.ttlfull_245.sample(20)"
   ]
  },
  {
   "cell_type": "code",
   "execution_count": 143,
   "metadata": {},
   "outputs": [
    {
     "data": {
      "text/plain": [
       "63607     resolved upon the question by the lords and co...\n",
       "64304     full and true account of the several skirmishe...\n",
       "108468    modern cases, argued and adjudged in the court...\n",
       "61306                                       drachenerwachen\n",
       "107762                    inside history of the white house\n",
       "12827                                        trick siebzehn\n",
       "179652    valiant hearts, soldats inconnus, the great wa...\n",
       "3000      brezel- und töpferstadt kandern, tausendzweihu...\n",
       "123691                   art & adversity, art and adversity\n",
       "78140     materialien & kopiervorlagen zu robert l. stev...\n",
       "133524    principes pour l'actualisation sn 641 826 - le...\n",
       "36317                                     businessethicsnow\n",
       "21276                      contemporary japanese philosophy\n",
       "108893     law of copyright, in works of literature and art\n",
       "34032              l'endroit du paradis, endroit du paradis\n",
       "84900                                     front. microbiol.\n",
       "12114                           grasshoffs bellman, bellman\n",
       "107164                      caruthers' history of a lawsuit\n",
       "148682    etudes et recherches de biologie, trudy i issl...\n",
       "33281                             gã©ographies, géographies\n",
       "Name: ttlfull_246, dtype: object"
      ]
     },
     "execution_count": 143,
     "metadata": {},
     "output_type": "execute_result"
    }
   ],
   "source": [
    "df.ttlfull_246[df.ttlfull_246.apply(lambda x : len(x)>0)].sample(20)"
   ]
  },
  {
   "cell_type": "code",
   "execution_count": 144,
   "metadata": {},
   "outputs": [
    {
     "data": {
      "text/html": [
       "<div>\n",
       "<style scoped>\n",
       "    .dataframe tbody tr th:only-of-type {\n",
       "        vertical-align: middle;\n",
       "    }\n",
       "\n",
       "    .dataframe tbody tr th {\n",
       "        vertical-align: top;\n",
       "    }\n",
       "\n",
       "    .dataframe thead th {\n",
       "        text-align: right;\n",
       "    }\n",
       "</style>\n",
       "<table border=\"1\" class=\"dataframe\">\n",
       "  <thead>\n",
       "    <tr style=\"text-align: right;\">\n",
       "      <th></th>\n",
       "      <th>ttlfull_245</th>\n",
       "      <th>ttlfull_246</th>\n",
       "    </tr>\n",
       "  </thead>\n",
       "  <tbody>\n",
       "    <tr>\n",
       "      <th>106789</th>\n",
       "      <td>principles of the english law of contract and ...</td>\n",
       "      <td>principles of the english law of contract and ...</td>\n",
       "    </tr>\n",
       "    <tr>\n",
       "      <th>147883</th>\n",
       "      <td>smallfoot, ein eisigartiges abenteuer</td>\n",
       "      <td>small foot</td>\n",
       "    </tr>\n",
       "    <tr>\n",
       "      <th>177020</th>\n",
       "      <td>dsm-5 pocket guide for elder mental health</td>\n",
       "      <td>elder mental health</td>\n",
       "    </tr>\n",
       "  </tbody>\n",
       "</table>\n",
       "</div>"
      ],
      "text/plain": [
       "                                              ttlfull_245  \\\n",
       "106789  principles of the english law of contract and ...   \n",
       "147883              smallfoot, ein eisigartiges abenteuer   \n",
       "177020         dsm-5 pocket guide for elder mental health   \n",
       "\n",
       "                                              ttlfull_246  \n",
       "106789  principles of the english law of contract and ...  \n",
       "147883                                         small foot  \n",
       "177020                                elder mental health  "
      ]
     },
     "execution_count": 144,
     "metadata": {},
     "output_type": "execute_result"
    }
   ],
   "source": [
    "df[['ttlfull_245', 'ttlfull_246']].loc[[106789, 147883, 177020]]"
   ]
  },
  {
   "cell_type": "markdown",
   "metadata": {},
   "source": [
    "The two new columns will be used as a basis for the data of the feature matrix."
   ]
  },
  {
   "cell_type": "code",
   "execution_count": 145,
   "metadata": {},
   "outputs": [],
   "source": [
    "columns_metadata_dict['data_analysis_columns'].append('ttlfull_245')\n",
    "columns_metadata_dict['data_analysis_columns'].append('ttlfull_246')"
   ]
  },
  {
   "cell_type": "markdown",
   "metadata": {},
   "source": [
    "### ttlpart"
   ]
  },
  {
   "cell_type": "code",
   "execution_count": 146,
   "metadata": {},
   "outputs": [],
   "source": [
    "columns_metadata_dict['strings_columns'].append('ttlpart')"
   ]
  },
  {
   "cell_type": "code",
   "execution_count": 147,
   "metadata": {},
   "outputs": [
    {
     "name": "stdout",
     "output_type": "stream",
     "text": [
      "Number of records with filled ttlpart 183407, with missing ttlpart 0 => 100.0%\n"
     ]
    }
   ],
   "source": [
    "_, _ = daf.find_empty_in_column(df, columns_metadata_dict, 'ttlpart')"
   ]
  },
  {
   "cell_type": "code",
   "execution_count": 148,
   "metadata": {},
   "outputs": [
    {
     "data": {
      "text/plain": [
       "57338     {'245': ['Wer bezahlt Trumps Handelskrieg mit ...\n",
       "180590    {'245': ['L'italiano istituzionale per la comu...\n",
       "38082     {'245': ['The complexities of care', 'nursing ...\n",
       "136908    {'245': ['Madagascar and Adjacent Islands', 'A...\n",
       "94127     {'245': ['National interest organizations in t...\n",
       "154800    {'245': ['Athletics', 'Games of the XXIVth Oly...\n",
       "73306     {'245': ['Atlas linguistique et ethnographique...\n",
       "179692    {'245': ['République démocratique du Congo', '...\n",
       "134576    {'245': ['Implementation of non-native chemist...\n",
       "49227     {'245': ['Innenraum Fotostudio Rietmann, Rorsc...\n",
       "108908    {'245': ['Leading Constitutional Decisions (12...\n",
       "152449    {'245': ['Jeux de la XXIe olympiade Montréal 1...\n",
       "151768    {'245': ['Deutscher Seglerverband', 'Jahrbuch ...\n",
       "36110     {'245': ['Lissan', 'journal of African languag...\n",
       "72268     {'245': ['Pragmática e ideología en las inform...\n",
       "55315     {'245': ['Interruption de grossesse', 'à votre...\n",
       "3282                       {'245': ['Eastern moon rising']}\n",
       "34752                        {'245': ['Mistress Branican']}\n",
       "40572     {'245': ['Islands in a Far Sea', 'The Fate of ...\n",
       "125015    {'245': ['Mind and mental illness', 'Issues in...\n",
       "Name: ttlpart, dtype: object"
      ]
     },
     "execution_count": 148,
     "metadata": {},
     "output_type": "execute_result"
    }
   ],
   "source": [
    "df.ttlpart.sample(n=20)"
   ]
  },
  {
   "cell_type": "markdown",
   "metadata": {},
   "source": [
    "The attribute is described to be the same like $\\texttt{ttlfull_245}$, [[FeatWiki](./A_References.ipynb/#feature_deduplication_wiki)]. The comparison of the two attributes after the basic transformation of $\\texttt{ttlpart}$ shows that this expectation is valid for all records."
   ]
  },
  {
   "cell_type": "code",
   "execution_count": 149,
   "metadata": {},
   "outputs": [],
   "source": [
    "df = dpf.transform_dictionary_to_list(df, 'ttlpart', '245')\n",
    "df = dpf.transform_list_to_string(df, 'ttlpart_245')"
   ]
  },
  {
   "cell_type": "code",
   "execution_count": 150,
   "metadata": {},
   "outputs": [
    {
     "data": {
      "text/html": [
       "<div>\n",
       "<style scoped>\n",
       "    .dataframe tbody tr th:only-of-type {\n",
       "        vertical-align: middle;\n",
       "    }\n",
       "\n",
       "    .dataframe tbody tr th {\n",
       "        vertical-align: top;\n",
       "    }\n",
       "\n",
       "    .dataframe thead th {\n",
       "        text-align: right;\n",
       "    }\n",
       "</style>\n",
       "<table border=\"1\" class=\"dataframe\">\n",
       "  <thead>\n",
       "    <tr style=\"text-align: right;\">\n",
       "      <th></th>\n",
       "      <th>docid</th>\n",
       "      <th>035liste</th>\n",
       "      <th>isbn</th>\n",
       "      <th>ttlfull</th>\n",
       "      <th>ttlpart</th>\n",
       "      <th>person</th>\n",
       "      <th>corporate</th>\n",
       "      <th>pubyear</th>\n",
       "      <th>decade</th>\n",
       "      <th>century</th>\n",
       "      <th>exactDate</th>\n",
       "      <th>...</th>\n",
       "      <th>corporate_710</th>\n",
       "      <th>corporate_810</th>\n",
       "      <th>format_prefix</th>\n",
       "      <th>format_postfix</th>\n",
       "      <th>person_100</th>\n",
       "      <th>person_700</th>\n",
       "      <th>person_800</th>\n",
       "      <th>person_245c</th>\n",
       "      <th>ttlfull_245</th>\n",
       "      <th>ttlfull_246</th>\n",
       "      <th>ttlpart_245</th>\n",
       "    </tr>\n",
       "  </thead>\n",
       "  <tbody>\n",
       "  </tbody>\n",
       "</table>\n",
       "<p>0 rows × 37 columns</p>\n",
       "</div>"
      ],
      "text/plain": [
       "Empty DataFrame\n",
       "Columns: [docid, 035liste, isbn, ttlfull, ttlpart, person, corporate, pubyear, decade, century, exactDate, edition, part, pages, volumes, pubinit, pubword, scale, coordinate, doi, ismn, musicid, format, coordinate_E, coordinate_N, corporate_110, corporate_710, corporate_810, format_prefix, format_postfix, person_100, person_700, person_800, person_245c, ttlfull_245, ttlfull_246, ttlpart_245]\n",
       "Index: []\n",
       "\n",
       "[0 rows x 37 columns]"
      ]
     },
     "execution_count": 150,
     "metadata": {},
     "output_type": "execute_result"
    }
   ],
   "source": [
    "df[df.ttlpart_245!=df.ttlfull_245]"
   ]
  },
  {
   "cell_type": "markdown",
   "metadata": {},
   "source": [
    "Due to its redandancy, the attribute will be dropped and will not be processed further in the model."
   ]
  },
  {
   "cell_type": "markdown",
   "metadata": {},
   "source": [
    "### volumes"
   ]
  },
  {
   "cell_type": "code",
   "execution_count": 151,
   "metadata": {},
   "outputs": [],
   "source": [
    "columns_metadata_dict['list_columns'].append('volumes')"
   ]
  },
  {
   "cell_type": "code",
   "execution_count": 152,
   "metadata": {},
   "outputs": [
    {
     "name": "stdout",
     "output_type": "stream",
     "text": [
      "Number of records with filled volumes 161471, with missing volumes 21936 => 88.0%\n"
     ]
    }
   ],
   "source": [
    "_, _ = daf.find_empty_in_column(df, columns_metadata_dict, 'volumes')"
   ]
  },
  {
   "cell_type": "markdown",
   "metadata": {},
   "source": [
    "This attribute holds information on the number of physical pages, volumes, total playing time etc. of the bibliographic unit [[FeatWiki](./A_References.ipynb/#feature_deduplication_wiki)] depending on its format. Some examples are shown below."
   ]
  },
  {
   "cell_type": "code",
   "execution_count": 153,
   "metadata": {},
   "outputs": [
    {
     "data": {
      "text/plain": [
       "70212                            [768 p.]\n",
       "166664                       [1 classeur]\n",
       "5615                         [XV, 762 S.]\n",
       "140280                            [   v.]\n",
       "43215     [1 online resource (245 pages)]\n",
       "32128                    [XI, 382 Seiten]\n",
       "26248                            [130 p.]\n",
       "142069    [1 online resource (v, 298 p.)]\n",
       "107820                                 []\n",
       "123957                 [xvii, 332 Seiten]\n",
       "136197                [1 online resource]\n",
       "141073                [1 online resource]\n",
       "104137                            [82 S.]\n",
       "57213                        [575 Seiten]\n",
       "105183                      [6 DVD-Video]\n",
       "Name: volumes, dtype: object"
      ]
     },
     "execution_count": 153,
     "metadata": {},
     "output_type": "execute_result"
    }
   ],
   "source": [
    "df['volumes'].sample(n=15)"
   ]
  },
  {
   "cell_type": "markdown",
   "metadata": {},
   "source": [
    "The attribute comes along as a list of one string element. A function for data preparation has been written to extract the element out of the list and store it as a single string of lowercase characters. This function will be used for preparing the data of the goldstandard in chapter [Goldstandard and Data Preparation](./2_GoldstandardDataPreparation.ipynb)."
   ]
  },
  {
   "cell_type": "code",
   "execution_count": 154,
   "metadata": {},
   "outputs": [],
   "source": [
    "df = dpf.transform_list_to_string(df, 'volumes')"
   ]
  },
  {
   "cell_type": "code",
   "execution_count": 155,
   "metadata": {},
   "outputs": [
    {
     "data": {
      "text/plain": [
       "37869     1 online resource (vii, 104 p.)\n",
       "64166        1 online-ressource ([92] p.)\n",
       "17297                           40 seiten\n",
       "35960                               45 s.\n",
       "180299                             308 p.\n",
       "16363                          126 seiten\n",
       "22978                            [10] bl.\n",
       "177854                              266 p\n",
       "45814                           59 seiten\n",
       "99273                                1 cd\n",
       "102162                             229 p.\n",
       "112793                          379 pages\n",
       "33624                                    \n",
       "146037                               1 cd\n",
       "54302               1 partitur (8 seiten)\n",
       "Name: volumes, dtype: object"
      ]
     },
     "execution_count": 155,
     "metadata": {},
     "output_type": "execute_result"
    }
   ],
   "source": [
    "df['volumes'].sample(n=15)"
   ]
  },
  {
   "cell_type": "code",
   "execution_count": 156,
   "metadata": {},
   "outputs": [
    {
     "name": "stdout",
     "output_type": "stream",
     "text": [
      "Array of unique attribute values\n",
      " ['s. 102-114' '43 s.' '75 p.' ... '232 s., 2 bl. taf.'\n",
      " '26 seiten, 7 ungezählte blätter bildtafeln' 'xli, 282 seiten']\n",
      "\n",
      "Total number of unique values 36,466\n"
     ]
    }
   ],
   "source": [
    "print('Array of unique attribute values\\n', df.volumes.unique())\n",
    "print('\\nTotal number of unique values {:,d}'.format(len(df.volumes.unique())))"
   ]
  },
  {
   "cell_type": "code",
   "execution_count": 157,
   "metadata": {},
   "outputs": [],
   "source": [
    "columns_metadata_dict['data_analysis_columns'].append('volumes')"
   ]
  },
  {
   "cell_type": "markdown",
   "metadata": {},
   "source": [
    "## Metadata Handover"
   ]
  },
  {
   "cell_type": "markdown",
   "metadata": {},
   "source": [
    "Dictionary $\\texttt{columns}\\_\\texttt{metadata}\\_\\texttt{dict}$ plays the role of a metadata global variable to be handed over to subsequent chapters of this capstone project. Only the values of key $\\texttt{data}\\_\\texttt{analysis}\\_\\texttt{columns}$ will be needed as metadata in the next chapter. The values of keys $\\texttt{list}\\_\\texttt{columns}$ and $\\texttt{string}\\_\\texttt{columns}$ can be dropped."
   ]
  },
  {
   "cell_type": "code",
   "execution_count": 158,
   "metadata": {},
   "outputs": [],
   "source": [
    "del columns_metadata_dict['list_columns']\n",
    "del columns_metadata_dict['strings_columns']"
   ]
  },
  {
   "cell_type": "markdown",
   "metadata": {},
   "source": [
    "To hand over the attributes dictionary of this chapter in their role of metadata, the dictionary is saved into a pickle file that will be read in the next chapter [Goldstandard and Data Preparation](./2_GoldstandardDataPreparation.ipynb) as input file. "
   ]
  },
  {
   "cell_type": "code",
   "execution_count": 159,
   "metadata": {},
   "outputs": [],
   "source": [
    "import pickle as pk\n",
    "\n",
    "# Binary intermediary metadata file\n",
    "with open(os.path.join(path_goldstandard,\n",
    "                       'columns_metadata.pkl'), 'wb') as df_output_file:\n",
    "    pk.dump(columns_metadata_dict, df_output_file)"
   ]
  },
  {
   "cell_type": "markdown",
   "metadata": {},
   "source": [
    "## Summary"
   ]
  },
  {
   "cell_type": "markdown",
   "metadata": {},
   "source": [
    "The result of this chapter is an analysis of the attributes of the raw data [[FeatWiki](./A_References.ipynb/#feature_deduplication_wiki)] for the capstone project. During the analysis and discussion of the attributes, some functions have been written, that will be used in the upcoming chapters for data preprocessing. As the next step, Swissbib's training and testing data will be analysed and processed in chapter [Goldstandard and Data Preparation](./2_GoldstandardDataPreparation.ipynb)."
   ]
  },
  {
   "cell_type": "code",
   "execution_count": null,
   "metadata": {},
   "outputs": [],
   "source": []
  }
 ],
 "metadata": {
  "kernelspec": {
   "display_name": "Python 3",
   "language": "python",
   "name": "python3"
  },
  "language_info": {
   "codemirror_mode": {
    "name": "ipython",
    "version": 3
   },
   "file_extension": ".py",
   "mimetype": "text/x-python",
   "name": "python",
   "nbconvert_exporter": "python",
   "pygments_lexer": "ipython3",
   "version": "3.7.1"
  }
 },
 "nbformat": 4,
 "nbformat_minor": 2
}
