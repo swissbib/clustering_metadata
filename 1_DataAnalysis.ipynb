{
 "cells": [
  {
   "cell_type": "markdown",
   "metadata": {},
   "source": [
    "# Data Analysis"
   ]
  },
  {
   "cell_type": "markdown",
   "metadata": {},
   "source": [
    "## Load Data"
   ]
  },
  {
   "cell_type": "code",
   "execution_count": 1,
   "metadata": {},
   "outputs": [],
   "source": [
    "import os\n",
    "import json\n",
    "import pandas as pd"
   ]
  },
  {
   "cell_type": "code",
   "execution_count": 2,
   "metadata": {},
   "outputs": [
    {
     "data": {
      "text/plain": [
       "183407"
      ]
     },
     "execution_count": 2,
     "metadata": {},
     "output_type": "execute_result"
    }
   ],
   "source": [
    "records = []\n",
    "\n",
    "for line in open(os.path.join('./data', 'job7r4A1.json'), 'r'):\n",
    "    records.append(json.loads(line))\n",
    "\n",
    "len(records)"
   ]
  },
  {
   "cell_type": "code",
   "execution_count": 3,
   "metadata": {},
   "outputs": [
    {
     "data": {
      "text/html": [
       "<div>\n",
       "<style scoped>\n",
       "    .dataframe tbody tr th:only-of-type {\n",
       "        vertical-align: middle;\n",
       "    }\n",
       "\n",
       "    .dataframe tbody tr th {\n",
       "        vertical-align: top;\n",
       "    }\n",
       "\n",
       "    .dataframe thead th {\n",
       "        text-align: right;\n",
       "    }\n",
       "</style>\n",
       "<table border=\"1\" class=\"dataframe\">\n",
       "  <thead>\n",
       "    <tr style=\"text-align: right;\">\n",
       "      <th></th>\n",
       "      <th>035liste</th>\n",
       "      <th>century</th>\n",
       "      <th>coordinate</th>\n",
       "      <th>corporate</th>\n",
       "      <th>decade</th>\n",
       "      <th>docid</th>\n",
       "      <th>doi</th>\n",
       "      <th>edition</th>\n",
       "      <th>exactDate</th>\n",
       "      <th>format</th>\n",
       "      <th>isbn</th>\n",
       "      <th>ismn</th>\n",
       "      <th>musicid</th>\n",
       "      <th>pages</th>\n",
       "      <th>part</th>\n",
       "      <th>person</th>\n",
       "      <th>pubinit</th>\n",
       "      <th>pubword</th>\n",
       "      <th>pubyear</th>\n",
       "      <th>scale</th>\n",
       "      <th>ttlfull</th>\n",
       "      <th>ttlpart</th>\n",
       "      <th>volumes</th>\n",
       "    </tr>\n",
       "  </thead>\n",
       "  <tbody>\n",
       "    <tr>\n",
       "      <th>0</th>\n",
       "      <td>[(OCoLC)1085491204, (IDSBB)006899773]</td>\n",
       "      <td>1992</td>\n",
       "      <td>[]</td>\n",
       "      <td>{}</td>\n",
       "      <td>1992</td>\n",
       "      <td>554061449</td>\n",
       "      <td>[]</td>\n",
       "      <td></td>\n",
       "      <td>1992</td>\n",
       "      <td>[BK020000]</td>\n",
       "      <td>[]</td>\n",
       "      <td>[]</td>\n",
       "      <td></td>\n",
       "      <td>[S. 102-114]</td>\n",
       "      <td>[]</td>\n",
       "      <td>{'100': ['SchluchterAndré'], '245c': ['André S...</td>\n",
       "      <td>[]</td>\n",
       "      <td>[]</td>\n",
       "      <td>1992</td>\n",
       "      <td></td>\n",
       "      <td>{'245': ['Die Feist von Kienberg', 'eine Wasen...</td>\n",
       "      <td>{'245': ['Die Feist von Kienberg', 'eine Wasen...</td>\n",
       "      <td>[S. 102-114]</td>\n",
       "    </tr>\n",
       "    <tr>\n",
       "      <th>1</th>\n",
       "      <td>[(OCoLC)1085491341, (IDSBB)006899983]</td>\n",
       "      <td>1986</td>\n",
       "      <td>[]</td>\n",
       "      <td>{}</td>\n",
       "      <td>1986</td>\n",
       "      <td>554061481</td>\n",
       "      <td>[]</td>\n",
       "      <td></td>\n",
       "      <td>1986</td>\n",
       "      <td>[BK020000]</td>\n",
       "      <td>[]</td>\n",
       "      <td>[]</td>\n",
       "      <td></td>\n",
       "      <td>[43 S.]</td>\n",
       "      <td>[]</td>\n",
       "      <td>{'100': ['NaegeliWerner'], '245c': ['von Werne...</td>\n",
       "      <td>[]</td>\n",
       "      <td>[]</td>\n",
       "      <td>1986</td>\n",
       "      <td></td>\n",
       "      <td>{'245': ['Reimereien']}</td>\n",
       "      <td>{'245': ['Reimereien']}</td>\n",
       "      <td>[43 S.]</td>\n",
       "    </tr>\n",
       "    <tr>\n",
       "      <th>2</th>\n",
       "      <td>[(OCoLC)1085491299, (IDSBB)006899959]</td>\n",
       "      <td>1923</td>\n",
       "      <td>[]</td>\n",
       "      <td>{}</td>\n",
       "      <td>1923</td>\n",
       "      <td>554061503</td>\n",
       "      <td>[]</td>\n",
       "      <td></td>\n",
       "      <td>1923</td>\n",
       "      <td>[BK020000]</td>\n",
       "      <td>[]</td>\n",
       "      <td>[]</td>\n",
       "      <td></td>\n",
       "      <td>[75 p.]</td>\n",
       "      <td>[]</td>\n",
       "      <td>{'100': ['KellyM.V.'], '700': ['GeniesseJ.B.']...</td>\n",
       "      <td>[]</td>\n",
       "      <td>[]</td>\n",
       "      <td>1923</td>\n",
       "      <td></td>\n",
       "      <td>{'245': ['Efficax antidotum ad matrimonia mixt...</td>\n",
       "      <td>{'245': ['Efficax antidotum ad matrimonia mixt...</td>\n",
       "      <td>[75 p.]</td>\n",
       "    </tr>\n",
       "    <tr>\n",
       "      <th>3</th>\n",
       "      <td>[(OCoLC)1085491268, (IDSBB)006896614]</td>\n",
       "      <td>1947</td>\n",
       "      <td>[]</td>\n",
       "      <td>{}</td>\n",
       "      <td>1947</td>\n",
       "      <td>554061511</td>\n",
       "      <td>[]</td>\n",
       "      <td></td>\n",
       "      <td>1947</td>\n",
       "      <td>[BK020000]</td>\n",
       "      <td>[]</td>\n",
       "      <td>[]</td>\n",
       "      <td></td>\n",
       "      <td>[24 S.]</td>\n",
       "      <td>[]</td>\n",
       "      <td>{'100': ['WegelinWalter'], '245c': ['']}</td>\n",
       "      <td>[]</td>\n",
       "      <td>[]</td>\n",
       "      <td>1947</td>\n",
       "      <td></td>\n",
       "      <td>{'245': ['Probleme der Inflationsbekämpfung', ...</td>\n",
       "      <td>{'245': ['Probleme der Inflationsbekämpfung', ...</td>\n",
       "      <td>[24 S.]</td>\n",
       "    </tr>\n",
       "    <tr>\n",
       "      <th>4</th>\n",
       "      <td>[(OCoLC)1085491079, (IDSBB)006896866]</td>\n",
       "      <td>1991</td>\n",
       "      <td>[]</td>\n",
       "      <td>{}</td>\n",
       "      <td>1991</td>\n",
       "      <td>55406152X</td>\n",
       "      <td>[]</td>\n",
       "      <td></td>\n",
       "      <td>1991</td>\n",
       "      <td>[BK020000]</td>\n",
       "      <td>[]</td>\n",
       "      <td>[]</td>\n",
       "      <td></td>\n",
       "      <td>[p. 14-15]</td>\n",
       "      <td>[]</td>\n",
       "      <td>{'100': ['OberlinUrs'], '245c': ['Urs Oberlin ...</td>\n",
       "      <td>[]</td>\n",
       "      <td>[]</td>\n",
       "      <td>1991</td>\n",
       "      <td></td>\n",
       "      <td>{'245': ['[Poems]']}</td>\n",
       "      <td>{'245': ['[Poems]']}</td>\n",
       "      <td>[p. 14-15]</td>\n",
       "    </tr>\n",
       "  </tbody>\n",
       "</table>\n",
       "</div>"
      ],
      "text/plain": [
       "                                035liste century coordinate corporate decade  \\\n",
       "0  [(OCoLC)1085491204, (IDSBB)006899773]    1992         []        {}   1992   \n",
       "1  [(OCoLC)1085491341, (IDSBB)006899983]    1986         []        {}   1986   \n",
       "2  [(OCoLC)1085491299, (IDSBB)006899959]    1923         []        {}   1923   \n",
       "3  [(OCoLC)1085491268, (IDSBB)006896614]    1947         []        {}   1947   \n",
       "4  [(OCoLC)1085491079, (IDSBB)006896866]    1991         []        {}   1991   \n",
       "\n",
       "       docid doi edition exactDate      format isbn ismn musicid  \\\n",
       "0  554061449  []          1992      [BK020000]   []   []           \n",
       "1  554061481  []          1986      [BK020000]   []   []           \n",
       "2  554061503  []          1923      [BK020000]   []   []           \n",
       "3  554061511  []          1947      [BK020000]   []   []           \n",
       "4  55406152X  []          1991      [BK020000]   []   []           \n",
       "\n",
       "          pages part                                             person  \\\n",
       "0  [S. 102-114]   []  {'100': ['SchluchterAndré'], '245c': ['André S...   \n",
       "1       [43 S.]   []  {'100': ['NaegeliWerner'], '245c': ['von Werne...   \n",
       "2       [75 p.]   []  {'100': ['KellyM.V.'], '700': ['GeniesseJ.B.']...   \n",
       "3       [24 S.]   []           {'100': ['WegelinWalter'], '245c': ['']}   \n",
       "4    [p. 14-15]   []  {'100': ['OberlinUrs'], '245c': ['Urs Oberlin ...   \n",
       "\n",
       "  pubinit pubword   pubyear scale  \\\n",
       "0      []      []  1992             \n",
       "1      []      []  1986             \n",
       "2      []      []  1923             \n",
       "3      []      []  1947             \n",
       "4      []      []  1991             \n",
       "\n",
       "                                             ttlfull  \\\n",
       "0  {'245': ['Die Feist von Kienberg', 'eine Wasen...   \n",
       "1                            {'245': ['Reimereien']}   \n",
       "2  {'245': ['Efficax antidotum ad matrimonia mixt...   \n",
       "3  {'245': ['Probleme der Inflationsbekämpfung', ...   \n",
       "4                               {'245': ['[Poems]']}   \n",
       "\n",
       "                                             ttlpart       volumes  \n",
       "0  {'245': ['Die Feist von Kienberg', 'eine Wasen...  [S. 102-114]  \n",
       "1                            {'245': ['Reimereien']}       [43 S.]  \n",
       "2  {'245': ['Efficax antidotum ad matrimonia mixt...       [75 p.]  \n",
       "3  {'245': ['Probleme der Inflationsbekämpfung', ...       [24 S.]  \n",
       "4                               {'245': ['[Poems]']}    [p. 14-15]  "
      ]
     },
     "execution_count": 3,
     "metadata": {},
     "output_type": "execute_result"
    }
   ],
   "source": [
    "df = pd.DataFrame(records)\n",
    "\n",
    "# Extend display to number of columns of DataFrame\n",
    "pd.options.display.max_columns = len(df.columns)\n",
    "\n",
    "df.head()"
   ]
  },
  {
   "cell_type": "code",
   "execution_count": 4,
   "metadata": {},
   "outputs": [
    {
     "name": "stdout",
     "output_type": "stream",
     "text": [
      "Number of records 183407, number of attributes per record 23.\n"
     ]
    },
    {
     "data": {
      "text/plain": [
       "Index(['035liste', 'century', 'coordinate', 'corporate', 'decade', 'docid',\n",
       "       'doi', 'edition', 'exactDate', 'format', 'isbn', 'ismn', 'musicid',\n",
       "       'pages', 'part', 'person', 'pubinit', 'pubword', 'pubyear', 'scale',\n",
       "       'ttlfull', 'ttlpart', 'volumes'],\n",
       "      dtype='object')"
      ]
     },
     "execution_count": 4,
     "metadata": {},
     "output_type": "execute_result"
    }
   ],
   "source": [
    "print('Number of records {:d}, number of attributes per record {:d}.'.format(len(df), len(df.columns)))\n",
    "\n",
    "df.columns"
   ]
  },
  {
   "cell_type": "code",
   "execution_count": 5,
   "metadata": {},
   "outputs": [
    {
     "name": "stdout",
     "output_type": "stream",
     "text": [
      "<class 'pandas.core.frame.DataFrame'>\n",
      "RangeIndex: 183407 entries, 0 to 183406\n",
      "Data columns (total 23 columns):\n",
      "035liste      183407 non-null object\n",
      "century       183407 non-null object\n",
      "coordinate    183407 non-null object\n",
      "corporate     183407 non-null object\n",
      "decade        183407 non-null object\n",
      "docid         183407 non-null object\n",
      "doi           183407 non-null object\n",
      "edition       183407 non-null object\n",
      "exactDate     183407 non-null object\n",
      "format        183407 non-null object\n",
      "isbn          183407 non-null object\n",
      "ismn          183407 non-null object\n",
      "musicid       183407 non-null object\n",
      "pages         183407 non-null object\n",
      "part          183407 non-null object\n",
      "person        183407 non-null object\n",
      "pubinit       183407 non-null object\n",
      "pubword       183407 non-null object\n",
      "pubyear       183407 non-null object\n",
      "scale         183407 non-null object\n",
      "ttlfull       183407 non-null object\n",
      "ttlpart       183407 non-null object\n",
      "volumes       183407 non-null object\n",
      "dtypes: object(23)\n",
      "memory usage: 32.2+ MB\n"
     ]
    }
   ],
   "source": [
    "df.info()"
   ]
  },
  {
   "cell_type": "markdown",
   "metadata": {},
   "source": [
    "## Attribute Analysis"
   ]
  },
  {
   "cell_type": "markdown",
   "metadata": {},
   "source": [
    "This section assesses the attributes provided by the Swissbib data extracts. The extracted data is used as a basis for the machine learning models in the capstone project. The attributes are based on the [MARC 21 Format for Bibliographic Data](https://www.loc.gov/marc/bibliographic/) and are documented on a [Swissbib Wiki page](http://www.swissbib.org/wiki/index.php?title=Features_Deduplication)."
   ]
  },
  {
   "cell_type": "markdown",
   "metadata": {},
   "source": [
    "### Table of Contents\n",
    "\n",
    "- [General Functions](#general_functions)\n",
    "- [035liste](#035liste)\n",
    "- [century](#century)\n",
    "- coordinate\n",
    "- corporate\n",
    "- [decade](#decade)\n",
    "- [docid](#docid)\n",
    "- doi\n",
    "- edition\n",
    "- [exactDate](#exactDate)\n",
    "- format\n",
    "- isbn\n",
    "- ismn\n",
    "- musicid\n",
    "- pages\n",
    "- part\n",
    "- person\n",
    "- pubinit\n",
    "- pubword\n",
    "- pubyear\n",
    "- scale\n",
    "- ttlfull\n",
    "- ttlpart\n",
    "- [volumes](#volumes)"
   ]
  },
  {
   "cell_type": "markdown",
   "metadata": {},
   "source": [
    "### General Functions<a id='general_functions'/>"
   ]
  },
  {
   "cell_type": "code",
   "execution_count": 6,
   "metadata": {},
   "outputs": [],
   "source": [
    "column_types_dict = {\n",
    "    'strings_columns' : ['century', 'decade', 'docid', 'exactDate'],\n",
    "    'list_columns' : ['volumes', '035liste'],\n",
    "    'array_of_strings_columns' : []\n",
    "}\n",
    "# The dictionary of compare logic\n",
    "strings_columns = ['doi', 'edition', 'format', 'isbn',\n",
    "                   'ismn', 'musicid', 'pubinit', 'pubyear', 'scale', 'volumes']\n",
    "list_columns = ['coordinate', 'corporate', 'pages', 'part', 'pubword',\n",
    "                'ttlfull', 'ttlpart']\n",
    "array_of_strings_columns = ['person']"
   ]
  },
  {
   "cell_type": "code",
   "execution_count": 7,
   "metadata": {},
   "outputs": [],
   "source": [
    "def information_filled (d, column_name, filled, empty):\n",
    "    \"\"\"Print-output of information\"\"\"\n",
    "\n",
    "    print('Number of records with filled {:s} {:d}, with missing {:s} {:d} => {:.1f}%'.format(\n",
    "        column_name, len(filled), column_name, len(empty),\n",
    "        100*len(filled)/(len(empty)+len(filled))\n",
    "    ))\n",
    "    \n",
    "    return\n",
    "\n",
    "def two_examples (d, filled, empty):\n",
    "    \"\"\"Print-output of first sample data with empty attribute\n",
    "        and of first sample data with filled attribute\"\"\"\n",
    "\n",
    "    if len(empty) > 0:\n",
    "        print('\\nEMPTY - index', empty[0], '\\n')\n",
    "        print(d.loc[empty[0]])\n",
    "    else:\n",
    "        print('\\nEMPTY - None')\n",
    "    print('\\nFILLED - index', filled[0], '\\n')\n",
    "    print(d.loc[filled[0]])\n",
    "\n",
    "    return"
   ]
  },
  {
   "cell_type": "code",
   "execution_count": 8,
   "metadata": {},
   "outputs": [],
   "source": [
    "def comparison_logic (column_name):\n",
    "    \"\"\"Generates comparison logic for specific column object\"\"\"\n",
    "    if column_name in (column_types_dict['list_columns']):\n",
    "        # Lists\n",
    "        compare = lambda col: col!=[]\n",
    "        anti_compare = lambda col: col==[]\n",
    "    elif column_name in (column_types_dict['strings_columns']):\n",
    "        # Strings\n",
    "        compare = lambda col: col!=''\n",
    "        anti_compare = lambda col: col==''\n",
    "    elif column_name in (column_types_dict['array_of_strings_columns']):\n",
    "        # Array of Strings\n",
    "        compare = lambda col: col!=['']\n",
    "        anti_compare = lambda col: col==['']\n",
    "\n",
    "    return compare, anti_compare"
   ]
  },
  {
   "cell_type": "code",
   "execution_count": 9,
   "metadata": {},
   "outputs": [],
   "source": [
    "def find_empty_in_column (dataFrame, column_name):\n",
    "    \"\"\"Find degree of filling of an attribute and print\n",
    "        information as output.\"\"\"\n",
    "\n",
    "    compare, anti_compare = comparison_logic(column_name)\n",
    "\n",
    "    idx_filled = dataFrame[dataFrame[column_name].apply(compare)].index\n",
    "    idx_empty = dataFrame[dataFrame[column_name].apply(anti_compare)].index\n",
    "\n",
    "    information_filled(dataFrame, column_name, idx_filled, idx_empty)\n",
    "\n",
    "    return idx_filled, idx_empty"
   ]
  },
  {
   "cell_type": "code",
   "execution_count": 10,
   "metadata": {},
   "outputs": [],
   "source": [
    "import general_transformations as gt"
   ]
  },
  {
   "cell_type": "markdown",
   "metadata": {},
   "source": [
    "### 035liste<a id='035liste'/>"
   ]
  },
  {
   "cell_type": "markdown",
   "metadata": {},
   "source": [
    "Attribute $\\texttt{035liste}$ holds a list of identifiers of a bibliographic unit, see [Features Deduplication](http://www.swissbib.org/wiki/index.php?title=Features_Deduplication). Each record in Swissbib data holds at least one identifier and may have several ones. Some examples are shown below."
   ]
  },
  {
   "cell_type": "code",
   "execution_count": 11,
   "metadata": {},
   "outputs": [
    {
     "name": "stdout",
     "output_type": "stream",
     "text": [
      "Number of records with filled 035liste 183407, with missing 035liste 0 => 100.0%\n"
     ]
    }
   ],
   "source": [
    "idx_035liste_filled, idx_035liste_empty = find_empty_in_column(df, '035liste')"
   ]
  },
  {
   "cell_type": "code",
   "execution_count": 12,
   "metadata": {},
   "outputs": [
    {
     "data": {
      "text/plain": [
       "124359    23\n",
       "139191    23\n",
       "139972    22\n",
       "49974     22\n",
       "14755     21\n",
       "61603     21\n",
       "136608    21\n",
       "30793     21\n",
       "54084     21\n",
       "144185    20\n",
       "Name: 035liste, dtype: int64"
      ]
     },
     "execution_count": 12,
     "metadata": {},
     "output_type": "execute_result"
    }
   ],
   "source": [
    "df['035liste'].apply(lambda x : len(x)).sort_values(ascending=False).head(10)"
   ]
  },
  {
   "cell_type": "code",
   "execution_count": 13,
   "metadata": {},
   "outputs": [
    {
     "data": {
      "text/plain": [
       "150666    1\n",
       "150667    1\n",
       "150668    1\n",
       "150669    1\n",
       "83463     1\n",
       "Name: 035liste, dtype: int64"
      ]
     },
     "execution_count": 13,
     "metadata": {},
     "output_type": "execute_result"
    }
   ],
   "source": [
    "df['035liste'].apply(lambda x : len(x)).sort_values(ascending=False).tail()"
   ]
  },
  {
   "cell_type": "code",
   "execution_count": 14,
   "metadata": {},
   "outputs": [
    {
     "data": {
      "text/plain": [
       "148277    [(VAUD)991021214783902852, (RERO)R008892586, (...\n",
       "91546     [(OCoLC)1015880172, (IDSSG)001032924, (MiAaPQ)...\n",
       "22368                 [(OCoLC)1085516624, (NEBIS)011343917]\n",
       "77822     [(IDSBB)007057934, (RERO)R008882702, (OCoLC)10...\n",
       "141762    [(SERSOL)ssib029759312, (VAUD)9910211262795028...\n",
       "129302    [(VAUD)991021120046602852, (SERSOL)ssib0050973...\n",
       "15196                      [(KBTG)258509, (IDSBB)006945046]\n",
       "39584        [(SERSOL)ssj0002067923, (WaSeSS)ssj0002067923]\n",
       "71017                 [(OCoLC)1085572786, (IDSBB)004866736]\n",
       "116340    [(OCoLC)1050280040, (NEBIS)011366604, (DE-599)...\n",
       "Name: 035liste, dtype: object"
      ]
     },
     "execution_count": 14,
     "metadata": {},
     "output_type": "execute_result"
    }
   ],
   "source": [
    "df['035liste'].iloc[ df['035liste'].sample(n=10).index ]"
   ]
  },
  {
   "cell_type": "markdown",
   "metadata": {},
   "source": [
    "Attribute $\\texttt{035liste}$ is needed for the goldstandard data. It helps to identify the associated master record for a given slave in file $\\texttt{slave.json}$. The process implemented in chapter [Data Preparation](http://localhost:8888/notebooks/conda/capstone-proposal-ads-ml-c5-s1-1365-585/2_DataPreparation.ipynb) parses the list of identifiers in attriubte $\\texttt{035liste}$ of each record in file $\\texttt{slave.json}$ and searches the value of the identifier in the attribute $\\texttt{035liste}$ of all records of file $\\texttt{master.json}$. When the identifier is found in file $\\texttt{master.json}$, the master record's attribute $\\texttt{docid}$ is stored as a new attribute in the slave record, see figure [Slave/master relationship](#slave_master_relationship). The new attribute in the slave record has the meaning of a foreigh key to the related master record. This process is repeated for each list element of one slave record and for each record in the data file slave.json.\n",
    "\n",
    "As will be shown in chapter [Data Preparation](http://localhost:8888/notebooks/conda/capstone-proposal-ads-ml-c5-s1-1365-585/2_DataPreparation.ipynb), the relationship of a slave record to its master record is unique. Even if there is more than one entry in the list of attribute $\\texttt{035liste}$ of a slave record it will be shown that all distinct entries of a $\\texttt{035liste}$ attribute list of one slave record point to one and the same master record."
   ]
  },
  {
   "cell_type": "markdown",
   "metadata": {},
   "source": [
    "<center>\n",
    "    <b>Figure</b><a id='slave_master_relationship'></a> Slave/master relationship.\n",
    "    <img src=\"./documentation/training_data.png\" style=\"width: 600px;\"/></p>\n",
    "</center>"
   ]
  },
  {
   "cell_type": "markdown",
   "metadata": {},
   "source": [
    "The attribute itself will not be used in the training nore in the perfomance testing of the model. The attribute will be removed before the model training."
   ]
  },
  {
   "cell_type": "code",
   "execution_count": null,
   "metadata": {},
   "outputs": [],
   "source": []
  },
  {
   "cell_type": "code",
   "execution_count": null,
   "metadata": {},
   "outputs": [],
   "source": []
  },
  {
   "cell_type": "code",
   "execution_count": null,
   "metadata": {},
   "outputs": [],
   "source": []
  },
  {
   "cell_type": "code",
   "execution_count": null,
   "metadata": {},
   "outputs": [],
   "source": []
  },
  {
   "cell_type": "code",
   "execution_count": null,
   "metadata": {},
   "outputs": [],
   "source": []
  },
  {
   "cell_type": "code",
   "execution_count": null,
   "metadata": {},
   "outputs": [],
   "source": []
  },
  {
   "cell_type": "markdown",
   "metadata": {},
   "source": [
    "### century<a id='century'/>"
   ]
  },
  {
   "cell_type": "code",
   "execution_count": 15,
   "metadata": {},
   "outputs": [
    {
     "name": "stdout",
     "output_type": "stream",
     "text": [
      "Number of records with filled century 183407, with missing century 0 => 100.0%\n",
      "\n",
      "EMPTY - None\n",
      "\n",
      "FILLED - index 0 \n",
      "\n",
      "035liste                  [(OCoLC)1085491204, (IDSBB)006899773]\n",
      "century                                                    1992\n",
      "coordinate                                                   []\n",
      "corporate                                                    {}\n",
      "decade                                                     1992\n",
      "docid                                                 554061449\n",
      "doi                                                          []\n",
      "edition                                                        \n",
      "exactDate                                              1992    \n",
      "format                                               [BK020000]\n",
      "isbn                                                         []\n",
      "ismn                                                         []\n",
      "musicid                                                        \n",
      "pages                                              [S. 102-114]\n",
      "part                                                         []\n",
      "person        {'100': ['SchluchterAndré'], '245c': ['André S...\n",
      "pubinit                                                      []\n",
      "pubword                                                      []\n",
      "pubyear                                                1992    \n",
      "scale                                                          \n",
      "ttlfull       {'245': ['Die Feist von Kienberg', 'eine Wasen...\n",
      "ttlpart       {'245': ['Die Feist von Kienberg', 'eine Wasen...\n",
      "volumes                                            [S. 102-114]\n",
      "Name: 0, dtype: object\n"
     ]
    }
   ],
   "source": [
    "idx_century_filled, idx_century_empty = find_empty_in_column(df, 'century')\n",
    "\n",
    "two_examples(df, idx_century_filled, idx_century_empty)"
   ]
  },
  {
   "cell_type": "code",
   "execution_count": 16,
   "metadata": {},
   "outputs": [
    {
     "data": {
      "text/plain": [
       "2018    0.208389\n",
       "2019    0.086785\n",
       "2017    0.046350\n",
       "uuuu    0.036236\n",
       "2016    0.025223\n",
       "Name: century, dtype: float64"
      ]
     },
     "execution_count": 16,
     "metadata": {},
     "output_type": "execute_result"
    }
   ],
   "source": [
    "df.century.value_counts(normalize=True).head()"
   ]
  },
  {
   "cell_type": "code",
   "execution_count": null,
   "metadata": {},
   "outputs": [],
   "source": []
  },
  {
   "cell_type": "code",
   "execution_count": null,
   "metadata": {},
   "outputs": [],
   "source": []
  },
  {
   "cell_type": "code",
   "execution_count": null,
   "metadata": {},
   "outputs": [],
   "source": []
  },
  {
   "cell_type": "code",
   "execution_count": null,
   "metadata": {},
   "outputs": [],
   "source": []
  },
  {
   "cell_type": "markdown",
   "metadata": {},
   "source": [
    "### decade<a id='decade'/>"
   ]
  },
  {
   "cell_type": "code",
   "execution_count": 17,
   "metadata": {},
   "outputs": [
    {
     "name": "stdout",
     "output_type": "stream",
     "text": [
      "Number of records with filled decade 183407, with missing decade 0 => 100.0%\n"
     ]
    }
   ],
   "source": [
    "idx_decade_filled, idx_decade_empty = find_empty_in_column(df, 'decade')"
   ]
  },
  {
   "cell_type": "code",
   "execution_count": 18,
   "metadata": {},
   "outputs": [
    {
     "data": {
      "text/html": [
       "<div>\n",
       "<style scoped>\n",
       "    .dataframe tbody tr th:only-of-type {\n",
       "        vertical-align: middle;\n",
       "    }\n",
       "\n",
       "    .dataframe tbody tr th {\n",
       "        vertical-align: top;\n",
       "    }\n",
       "\n",
       "    .dataframe thead th {\n",
       "        text-align: right;\n",
       "    }\n",
       "</style>\n",
       "<table border=\"1\" class=\"dataframe\">\n",
       "  <thead>\n",
       "    <tr style=\"text-align: right;\">\n",
       "      <th></th>\n",
       "      <th>035liste</th>\n",
       "      <th>century</th>\n",
       "      <th>coordinate</th>\n",
       "      <th>corporate</th>\n",
       "      <th>decade</th>\n",
       "      <th>docid</th>\n",
       "      <th>doi</th>\n",
       "      <th>edition</th>\n",
       "      <th>exactDate</th>\n",
       "      <th>format</th>\n",
       "      <th>isbn</th>\n",
       "      <th>ismn</th>\n",
       "      <th>musicid</th>\n",
       "      <th>pages</th>\n",
       "      <th>part</th>\n",
       "      <th>person</th>\n",
       "      <th>pubinit</th>\n",
       "      <th>pubword</th>\n",
       "      <th>pubyear</th>\n",
       "      <th>scale</th>\n",
       "      <th>ttlfull</th>\n",
       "      <th>ttlpart</th>\n",
       "      <th>volumes</th>\n",
       "    </tr>\n",
       "  </thead>\n",
       "  <tbody>\n",
       "  </tbody>\n",
       "</table>\n",
       "</div>"
      ],
      "text/plain": [
       "Empty DataFrame\n",
       "Columns: [035liste, century, coordinate, corporate, decade, docid, doi, edition, exactDate, format, isbn, ismn, musicid, pages, part, person, pubinit, pubword, pubyear, scale, ttlfull, ttlpart, volumes]\n",
       "Index: []"
      ]
     },
     "execution_count": 18,
     "metadata": {},
     "output_type": "execute_result"
    }
   ],
   "source": [
    "df[df.decade != df.century]"
   ]
  },
  {
   "cell_type": "markdown",
   "metadata": {},
   "source": [
    "The attribute holds identical data to field [century](#century). Its MARC definition is the same, too."
   ]
  },
  {
   "cell_type": "code",
   "execution_count": null,
   "metadata": {},
   "outputs": [],
   "source": []
  },
  {
   "cell_type": "markdown",
   "metadata": {},
   "source": [
    "### docid<a id='docid'/>"
   ]
  },
  {
   "cell_type": "code",
   "execution_count": 19,
   "metadata": {},
   "outputs": [
    {
     "name": "stdout",
     "output_type": "stream",
     "text": [
      "Number of records with filled docid 183407, with missing docid 0 => 100.0%\n"
     ]
    }
   ],
   "source": [
    "idx_docid_filled, idx_docid_empty = find_empty_in_column(df, 'docid')"
   ]
  },
  {
   "cell_type": "code",
   "execution_count": 20,
   "metadata": {},
   "outputs": [
    {
     "data": {
      "text/plain": [
       "'554061449'"
      ]
     },
     "execution_count": 20,
     "metadata": {},
     "output_type": "execute_result"
    }
   ],
   "source": [
    "df.docid[0]"
   ]
  },
  {
   "cell_type": "code",
   "execution_count": null,
   "metadata": {},
   "outputs": [],
   "source": []
  },
  {
   "cell_type": "code",
   "execution_count": null,
   "metadata": {},
   "outputs": [],
   "source": []
  },
  {
   "cell_type": "code",
   "execution_count": null,
   "metadata": {},
   "outputs": [],
   "source": []
  },
  {
   "cell_type": "code",
   "execution_count": null,
   "metadata": {},
   "outputs": [],
   "source": []
  },
  {
   "cell_type": "markdown",
   "metadata": {},
   "source": [
    "### exactDate<a id='exactDate'/>"
   ]
  },
  {
   "cell_type": "code",
   "execution_count": 21,
   "metadata": {},
   "outputs": [
    {
     "name": "stdout",
     "output_type": "stream",
     "text": [
      "Number of records with filled exactDate 183407, with missing exactDate 0 => 100.0%\n"
     ]
    }
   ],
   "source": [
    "idx_century_filled, idx_century_empty = find_empty_in_column(df, 'exactDate')"
   ]
  },
  {
   "cell_type": "code",
   "execution_count": 22,
   "metadata": {},
   "outputs": [
    {
     "data": {
      "text/html": [
       "<div>\n",
       "<style scoped>\n",
       "    .dataframe tbody tr th:only-of-type {\n",
       "        vertical-align: middle;\n",
       "    }\n",
       "\n",
       "    .dataframe tbody tr th {\n",
       "        vertical-align: top;\n",
       "    }\n",
       "\n",
       "    .dataframe thead th {\n",
       "        text-align: right;\n",
       "    }\n",
       "</style>\n",
       "<table border=\"1\" class=\"dataframe\">\n",
       "  <thead>\n",
       "    <tr style=\"text-align: right;\">\n",
       "      <th></th>\n",
       "      <th>035liste</th>\n",
       "      <th>century</th>\n",
       "      <th>coordinate</th>\n",
       "      <th>corporate</th>\n",
       "      <th>decade</th>\n",
       "      <th>docid</th>\n",
       "      <th>doi</th>\n",
       "      <th>edition</th>\n",
       "      <th>exactDate</th>\n",
       "      <th>format</th>\n",
       "      <th>isbn</th>\n",
       "      <th>ismn</th>\n",
       "      <th>musicid</th>\n",
       "      <th>pages</th>\n",
       "      <th>part</th>\n",
       "      <th>person</th>\n",
       "      <th>pubinit</th>\n",
       "      <th>pubword</th>\n",
       "      <th>pubyear</th>\n",
       "      <th>scale</th>\n",
       "      <th>ttlfull</th>\n",
       "      <th>ttlpart</th>\n",
       "      <th>volumes</th>\n",
       "    </tr>\n",
       "  </thead>\n",
       "  <tbody>\n",
       "  </tbody>\n",
       "</table>\n",
       "</div>"
      ],
      "text/plain": [
       "Empty DataFrame\n",
       "Columns: [035liste, century, coordinate, corporate, decade, docid, doi, edition, exactDate, format, isbn, ismn, musicid, pages, part, person, pubinit, pubword, pubyear, scale, ttlfull, ttlpart, volumes]\n",
       "Index: []"
      ]
     },
     "execution_count": 22,
     "metadata": {},
     "output_type": "execute_result"
    }
   ],
   "source": [
    "df[df.exactDate.str[0:4] != df.century]"
   ]
  },
  {
   "cell_type": "markdown",
   "metadata": {},
   "source": [
    "Conforming the MARC description, the first 4 digits of exactDate hold identical data to field [century](#century)."
   ]
  },
  {
   "cell_type": "code",
   "execution_count": 23,
   "metadata": {
    "scrolled": true
   },
   "outputs": [
    {
     "name": "stdout",
     "output_type": "stream",
     "text": [
      "Degree of non-blank filling of last 4 digits 19.4%\n",
      "Degree of numerical filling of last 4 digits 13.3%\n"
     ]
    }
   ],
   "source": [
    "print('Degree of non-blank filling of last 4 digits {:.1f}%'.format(\n",
    "    df.exactDate[df.exactDate.str[4:] != '    '].count()/len(df)*100))\n",
    "print('Degree of numerical filling of last 4 digits {:.1f}%'.format(\n",
    "    df.exactDate[~df.exactDate.str[4:].isin(['    ', 'uuuu'])].count()/len(df)*100))"
   ]
  },
  {
   "cell_type": "code",
   "execution_count": 24,
   "metadata": {},
   "outputs": [
    {
     "data": {
      "text/plain": [
       "12     uuuuuuuu\n",
       "61     uuuuuuuu\n",
       "62     uuuuuuuu\n",
       "117    19241925\n",
       "257    uuuuuuuu\n",
       "Name: exactDate, dtype: object"
      ]
     },
     "execution_count": 24,
     "metadata": {},
     "output_type": "execute_result"
    }
   ],
   "source": [
    "df.exactDate[df.exactDate.str[4:] != '    '].head()"
   ]
  },
  {
   "cell_type": "code",
   "execution_count": 25,
   "metadata": {},
   "outputs": [
    {
     "data": {
      "text/plain": [
       "035liste                     [(ZORA)oai:www.zora.uzh.ch:169340]\n",
       "century                                                    2019\n",
       "coordinate                                                   []\n",
       "corporate                                                    {}\n",
       "decade                                                     2019\n",
       "docid                                                 556987284\n",
       "doi                                  [10.1093/eurheartj/ehz068]\n",
       "edition                                                        \n",
       "exactDate                                              20190414\n",
       "format                                               [BK010053]\n",
       "isbn                                                         []\n",
       "ismn                                 [10.1093/eurheartj/ehz068]\n",
       "musicid                                                        \n",
       "pages                                                        []\n",
       "part                                         [40(15):1183-1187]\n",
       "person        {'100': [], '700': ['TemplinChristianjoint aut...\n",
       "pubinit                                                      []\n",
       "pubword                                                      []\n",
       "pubyear                                                20190414\n",
       "scale                                                          \n",
       "ttlfull       {'245': ['Altered limbic and autonomic process...\n",
       "ttlpart       {'245': ['Altered limbic and autonomic process...\n",
       "volumes                                                      []\n",
       "Name: 183319, dtype: object"
      ]
     },
     "execution_count": 25,
     "metadata": {},
     "output_type": "execute_result"
    }
   ],
   "source": [
    "df.loc[183319]"
   ]
  },
  {
   "cell_type": "code",
   "execution_count": null,
   "metadata": {},
   "outputs": [],
   "source": []
  },
  {
   "cell_type": "code",
   "execution_count": null,
   "metadata": {},
   "outputs": [],
   "source": []
  },
  {
   "cell_type": "markdown",
   "metadata": {},
   "source": [
    "### volumes<a id='volumes'/>"
   ]
  },
  {
   "cell_type": "code",
   "execution_count": 26,
   "metadata": {},
   "outputs": [
    {
     "name": "stdout",
     "output_type": "stream",
     "text": [
      "Number of records with filled volumes 161471, with missing volumes 21936 => 88.0%\n"
     ]
    }
   ],
   "source": [
    "idx_volumes_filled, idx_volumes_empty = find_empty_in_column(df, 'volumes')"
   ]
  },
  {
   "cell_type": "code",
   "execution_count": 27,
   "metadata": {},
   "outputs": [
    {
     "data": {
      "text/plain": [
       "1810                                                    []\n",
       "0                                             [S. 102-114]\n",
       "73897                          [XI, 213 S., Portr., 23 cm]\n",
       "80258    [1 Partitur (5 Seiten), 32 Stimmen, Wiedlisbac...\n",
       "Name: volumes, dtype: object"
      ]
     },
     "execution_count": 27,
     "metadata": {},
     "output_type": "execute_result"
    }
   ],
   "source": [
    "df.volumes.loc[[1810, 0, 73897, 80258]]"
   ]
  },
  {
   "cell_type": "code",
   "execution_count": 28,
   "metadata": {},
   "outputs": [],
   "source": [
    "df = gt.transform_list_to_string(df, 'volumes')"
   ]
  },
  {
   "cell_type": "code",
   "execution_count": 29,
   "metadata": {},
   "outputs": [
    {
     "data": {
      "text/plain": [
       "1810                                                      \n",
       "0                                               S. 102-114\n",
       "73897                            XI, 213 S., Portr., 23 cm\n",
       "80258    1 Partitur (5 Seiten), 32 Stimmen, Wiedlisbach...\n",
       "Name: volumes, dtype: object"
      ]
     },
     "execution_count": 29,
     "metadata": {},
     "output_type": "execute_result"
    }
   ],
   "source": [
    "df.volumes.loc[[1810, 0, 73897, 80258]]"
   ]
  },
  {
   "cell_type": "code",
   "execution_count": null,
   "metadata": {},
   "outputs": [],
   "source": []
  }
 ],
 "metadata": {
  "kernelspec": {
   "display_name": "Python 3",
   "language": "python",
   "name": "python3"
  },
  "language_info": {
   "codemirror_mode": {
    "name": "ipython",
    "version": 3
   },
   "file_extension": ".py",
   "mimetype": "text/x-python",
   "name": "python",
   "nbconvert_exporter": "python",
   "pygments_lexer": "ipython3",
   "version": "3.7.1"
  }
 },
 "nbformat": 4,
 "nbformat_minor": 2
}
