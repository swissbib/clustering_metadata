{
 "cells": [
  {
   "cell_type": "code",
   "execution_count": 1,
   "metadata": {},
   "outputs": [],
   "source": [
    "None"
   ]
  },
  {
   "cell_type": "markdown",
   "metadata": {},
   "source": [
    "# Data Analysis"
   ]
  },
  {
   "cell_type": "markdown",
   "metadata": {},
   "source": [
    "For understanding the bibliographic catalogue data of the Swissbib platform, the project team has generated a sample .json file with a big amount of representative records. This chapter shows the analysis of this data delivery."
   ]
  },
  {
   "cell_type": "markdown",
   "metadata": {},
   "source": [
    "## Table of Contents\n",
    "\n",
    "- [Sample Records Analysis](#Sample-Records-Analysis)\n",
    "    - [Book](#Book)\n",
    "    - [Music](#Music)\n",
    "    - [Video Material](#Video-Material)\n",
    "    - [Map](#Map)\n",
    "    - [Periodical](#Periodical)\n",
    "    - [Collection](#Collection)\n",
    "    - [Computer File](#Computer-File)\n",
    "- [Attribute Analysis](#Attribute-Analysis)\n",
    "    - [Table of Contents of Attribute Analysis](#Table-of-Contents-of-Attribute-Analysis)\n",
    "- [Summary](#Summary)\n",
    "    - [Metadata Handover](#Metadata-Handover)"
   ]
  },
  {
   "cell_type": "markdown",
   "metadata": {},
   "source": [
    "## Sample Records Analysis"
   ]
  },
  {
   "cell_type": "markdown",
   "metadata": {},
   "source": [
    "Swissbib has provided a data file with some records [[SwRe](./A_References.ipynb#swre)]. In this section, the data file will be loaded and some sample data records will be shown."
   ]
  },
  {
   "cell_type": "code",
   "execution_count": 2,
   "metadata": {},
   "outputs": [
    {
     "name": "stdout",
     "output_type": "stream",
     "text": [
      "Archive:  ./data/datafile.zip\n",
      "  inflating: ./data/job7r4A1.json    \n"
     ]
    }
   ],
   "source": [
    "import os\n",
    "\n",
    "path_data = './data'\n",
    "\n",
    "# If Swissbib's data file happens to be present, the unzip command would halt the process.\n",
    "if os.path.exists(os.path.join(path_data, 'job7r4A1.json')):\n",
    "    # => Delete data file if present.\n",
    "    os.remove(os.path.join(path_data, 'job7r4A1.json'))\n",
    "\n",
    "! unzip $path_data/datafile.zip -d $path_data/"
   ]
  },
  {
   "cell_type": "markdown",
   "metadata": {},
   "source": [
    "The provided file has a size of more than 100MB. Due to its size, it cannot be checked in into a github repository. In order to check in the file nonetheless, it has been compressed with a standard zip format. The code cell above extracts the file and stores it in the same directory as the original zip file."
   ]
  },
  {
   "cell_type": "code",
   "execution_count": 3,
   "metadata": {},
   "outputs": [
    {
     "name": "stdout",
     "output_type": "stream",
     "text": [
      "Number of data records loaded 183,407\n"
     ]
    }
   ],
   "source": [
    "import json\n",
    "\n",
    "records = []\n",
    "path_goldstandard = './daten_goldstandard'\n",
    "\n",
    "for line in open(os.path.join(path_data, 'job7r4A1.json'), 'r'):\n",
    "    records.append(json.loads(line))\n",
    "\n",
    "print('Number of data records loaded {:,d}'.format(len(records)))"
   ]
  },
  {
   "cell_type": "markdown",
   "metadata": {},
   "source": [
    "The data has been read into a list of records. Let's have a look at the loaded data."
   ]
  },
  {
   "cell_type": "code",
   "execution_count": 4,
   "metadata": {},
   "outputs": [
    {
     "data": {
      "text/html": [
       "<div>\n",
       "<style scoped>\n",
       "    .dataframe tbody tr th:only-of-type {\n",
       "        vertical-align: middle;\n",
       "    }\n",
       "\n",
       "    .dataframe tbody tr th {\n",
       "        vertical-align: top;\n",
       "    }\n",
       "\n",
       "    .dataframe thead th {\n",
       "        text-align: right;\n",
       "    }\n",
       "</style>\n",
       "<table border=\"1\" class=\"dataframe\">\n",
       "  <thead>\n",
       "    <tr style=\"text-align: right;\">\n",
       "      <th></th>\n",
       "      <th>docid</th>\n",
       "      <th>035liste</th>\n",
       "      <th>isbn</th>\n",
       "      <th>ttlfull</th>\n",
       "      <th>ttlpart</th>\n",
       "      <th>person</th>\n",
       "      <th>corporate</th>\n",
       "      <th>pubyear</th>\n",
       "      <th>decade</th>\n",
       "      <th>century</th>\n",
       "      <th>exactDate</th>\n",
       "      <th>edition</th>\n",
       "      <th>part</th>\n",
       "      <th>pages</th>\n",
       "      <th>volumes</th>\n",
       "      <th>pubinit</th>\n",
       "      <th>pubword</th>\n",
       "      <th>scale</th>\n",
       "      <th>coordinate</th>\n",
       "      <th>doi</th>\n",
       "      <th>ismn</th>\n",
       "      <th>musicid</th>\n",
       "      <th>format</th>\n",
       "    </tr>\n",
       "  </thead>\n",
       "  <tbody>\n",
       "    <tr>\n",
       "      <th>0</th>\n",
       "      <td>554061449</td>\n",
       "      <td>[(OCoLC)1085491204, (IDSBB)006899773]</td>\n",
       "      <td>[]</td>\n",
       "      <td>{'245': ['Die Feist von Kienberg', 'eine Wasen...</td>\n",
       "      <td>{'245': ['Die Feist von Kienberg', 'eine Wasen...</td>\n",
       "      <td>{'100': ['SchluchterAndré'], '700': [], '800':...</td>\n",
       "      <td>{'110': [], '710': [], '810': []}</td>\n",
       "      <td>1992</td>\n",
       "      <td>1992</td>\n",
       "      <td>1992</td>\n",
       "      <td>1992</td>\n",
       "      <td></td>\n",
       "      <td>[]</td>\n",
       "      <td>[S. 102-114]</td>\n",
       "      <td>[S. 102-114]</td>\n",
       "      <td>[]</td>\n",
       "      <td>[]</td>\n",
       "      <td></td>\n",
       "      <td>[]</td>\n",
       "      <td>[]</td>\n",
       "      <td>[]</td>\n",
       "      <td></td>\n",
       "      <td>[BK020000]</td>\n",
       "    </tr>\n",
       "    <tr>\n",
       "      <th>1</th>\n",
       "      <td>554061481</td>\n",
       "      <td>[(OCoLC)1085491341, (IDSBB)006899983]</td>\n",
       "      <td>[]</td>\n",
       "      <td>{'245': ['Reimereien']}</td>\n",
       "      <td>{'245': ['Reimereien']}</td>\n",
       "      <td>{'100': ['NaegeliWerner'], '700': [], '800': [...</td>\n",
       "      <td>{'110': [], '710': [], '810': []}</td>\n",
       "      <td>1986</td>\n",
       "      <td>1986</td>\n",
       "      <td>1986</td>\n",
       "      <td>1986</td>\n",
       "      <td></td>\n",
       "      <td>[]</td>\n",
       "      <td>[43 S.]</td>\n",
       "      <td>[43 S.]</td>\n",
       "      <td>[]</td>\n",
       "      <td>[]</td>\n",
       "      <td></td>\n",
       "      <td>[]</td>\n",
       "      <td>[]</td>\n",
       "      <td>[]</td>\n",
       "      <td></td>\n",
       "      <td>[BK020000]</td>\n",
       "    </tr>\n",
       "    <tr>\n",
       "      <th>2</th>\n",
       "      <td>554061503</td>\n",
       "      <td>[(OCoLC)1085491299, (IDSBB)006899959]</td>\n",
       "      <td>[]</td>\n",
       "      <td>{'245': ['Efficax antidotum ad matrimonia mixt...</td>\n",
       "      <td>{'245': ['Efficax antidotum ad matrimonia mixt...</td>\n",
       "      <td>{'100': ['KellyM.V.'], '700': ['GeniesseJ.B.']...</td>\n",
       "      <td>{'110': [], '710': [], '810': []}</td>\n",
       "      <td>1923</td>\n",
       "      <td>1923</td>\n",
       "      <td>1923</td>\n",
       "      <td>1923</td>\n",
       "      <td></td>\n",
       "      <td>[]</td>\n",
       "      <td>[75 p.]</td>\n",
       "      <td>[75 p.]</td>\n",
       "      <td>[]</td>\n",
       "      <td>[]</td>\n",
       "      <td></td>\n",
       "      <td>[]</td>\n",
       "      <td>[]</td>\n",
       "      <td>[]</td>\n",
       "      <td></td>\n",
       "      <td>[BK020000]</td>\n",
       "    </tr>\n",
       "    <tr>\n",
       "      <th>3</th>\n",
       "      <td>554061511</td>\n",
       "      <td>[(OCoLC)1085491268, (IDSBB)006896614]</td>\n",
       "      <td>[]</td>\n",
       "      <td>{'245': ['Probleme der Inflationsbekämpfung', ...</td>\n",
       "      <td>{'245': ['Probleme der Inflationsbekämpfung', ...</td>\n",
       "      <td>{'100': ['WegelinWalter'], '700': [], '800': [...</td>\n",
       "      <td>{'110': [], '710': [], '810': []}</td>\n",
       "      <td>1947</td>\n",
       "      <td>1947</td>\n",
       "      <td>1947</td>\n",
       "      <td>1947</td>\n",
       "      <td></td>\n",
       "      <td>[]</td>\n",
       "      <td>[24 S.]</td>\n",
       "      <td>[24 S.]</td>\n",
       "      <td>[]</td>\n",
       "      <td>[]</td>\n",
       "      <td></td>\n",
       "      <td>[]</td>\n",
       "      <td>[]</td>\n",
       "      <td>[]</td>\n",
       "      <td></td>\n",
       "      <td>[BK020000]</td>\n",
       "    </tr>\n",
       "    <tr>\n",
       "      <th>4</th>\n",
       "      <td>55406152X</td>\n",
       "      <td>[(OCoLC)1085491079, (IDSBB)006896866]</td>\n",
       "      <td>[]</td>\n",
       "      <td>{'245': ['[Poems]']}</td>\n",
       "      <td>{'245': ['[Poems]']}</td>\n",
       "      <td>{'100': ['OberlinUrs'], '700': [], '800': [], ...</td>\n",
       "      <td>{'110': [], '710': [], '810': []}</td>\n",
       "      <td>1991</td>\n",
       "      <td>1991</td>\n",
       "      <td>1991</td>\n",
       "      <td>1991</td>\n",
       "      <td></td>\n",
       "      <td>[]</td>\n",
       "      <td>[p. 14-15]</td>\n",
       "      <td>[p. 14-15]</td>\n",
       "      <td>[]</td>\n",
       "      <td>[]</td>\n",
       "      <td></td>\n",
       "      <td>[]</td>\n",
       "      <td>[]</td>\n",
       "      <td>[]</td>\n",
       "      <td></td>\n",
       "      <td>[BK020000]</td>\n",
       "    </tr>\n",
       "  </tbody>\n",
       "</table>\n",
       "</div>"
      ],
      "text/plain": [
       "       docid                               035liste isbn  \\\n",
       "0  554061449  [(OCoLC)1085491204, (IDSBB)006899773]   []   \n",
       "1  554061481  [(OCoLC)1085491341, (IDSBB)006899983]   []   \n",
       "2  554061503  [(OCoLC)1085491299, (IDSBB)006899959]   []   \n",
       "3  554061511  [(OCoLC)1085491268, (IDSBB)006896614]   []   \n",
       "4  55406152X  [(OCoLC)1085491079, (IDSBB)006896866]   []   \n",
       "\n",
       "                                             ttlfull  \\\n",
       "0  {'245': ['Die Feist von Kienberg', 'eine Wasen...   \n",
       "1                            {'245': ['Reimereien']}   \n",
       "2  {'245': ['Efficax antidotum ad matrimonia mixt...   \n",
       "3  {'245': ['Probleme der Inflationsbekämpfung', ...   \n",
       "4                               {'245': ['[Poems]']}   \n",
       "\n",
       "                                             ttlpart  \\\n",
       "0  {'245': ['Die Feist von Kienberg', 'eine Wasen...   \n",
       "1                            {'245': ['Reimereien']}   \n",
       "2  {'245': ['Efficax antidotum ad matrimonia mixt...   \n",
       "3  {'245': ['Probleme der Inflationsbekämpfung', ...   \n",
       "4                               {'245': ['[Poems]']}   \n",
       "\n",
       "                                              person  \\\n",
       "0  {'100': ['SchluchterAndré'], '700': [], '800':...   \n",
       "1  {'100': ['NaegeliWerner'], '700': [], '800': [...   \n",
       "2  {'100': ['KellyM.V.'], '700': ['GeniesseJ.B.']...   \n",
       "3  {'100': ['WegelinWalter'], '700': [], '800': [...   \n",
       "4  {'100': ['OberlinUrs'], '700': [], '800': [], ...   \n",
       "\n",
       "                           corporate   pubyear decade century exactDate  \\\n",
       "0  {'110': [], '710': [], '810': []}  1992       1992    1992  1992       \n",
       "1  {'110': [], '710': [], '810': []}  1986       1986    1986  1986       \n",
       "2  {'110': [], '710': [], '810': []}  1923       1923    1923  1923       \n",
       "3  {'110': [], '710': [], '810': []}  1947       1947    1947  1947       \n",
       "4  {'110': [], '710': [], '810': []}  1991       1991    1991  1991       \n",
       "\n",
       "  edition part         pages       volumes pubinit pubword scale coordinate  \\\n",
       "0           []  [S. 102-114]  [S. 102-114]      []      []               []   \n",
       "1           []       [43 S.]       [43 S.]      []      []               []   \n",
       "2           []       [75 p.]       [75 p.]      []      []               []   \n",
       "3           []       [24 S.]       [24 S.]      []      []               []   \n",
       "4           []    [p. 14-15]    [p. 14-15]      []      []               []   \n",
       "\n",
       "  doi ismn musicid      format  \n",
       "0  []   []          [BK020000]  \n",
       "1  []   []          [BK020000]  \n",
       "2  []   []          [BK020000]  \n",
       "3  []   []          [BK020000]  \n",
       "4  []   []          [BK020000]  "
      ]
     },
     "execution_count": 4,
     "metadata": {},
     "output_type": "execute_result"
    }
   ],
   "source": [
    "import pandas as pd\n",
    "\n",
    "# Generate Pandas DataFrame object out of the raw data\n",
    "df = pd.DataFrame(records)\n",
    "\n",
    "# Extend display to number of columns of DataFrame\n",
    "pd.options.display.max_columns = len(df.columns)\n",
    "\n",
    "df.head()"
   ]
  },
  {
   "cell_type": "markdown",
   "metadata": {},
   "source": [
    "As can be observed in the sample records displayed above, the attributes of the records are stored in basic Python datatypes like strings, lists (of strings), and dictionaries. A look into the raw data file confirms this observation."
   ]
  },
  {
   "cell_type": "code",
   "execution_count": 5,
   "metadata": {},
   "outputs": [
    {
     "name": "stdout",
     "output_type": "stream",
     "text": [
      "{\"docid\":\"554061449\",\"035liste\":[\"(OCoLC)1085491204\",\"(IDSBB)006899773\"],\"isbn\":[],\"ttlfull\":{\"245\":[\"Die Feist von Kienberg\",\"eine Wasenmeisterfamilie im Ancien Régime zwischen Ehrbarkeit und Delinquenz\"]},\"ttlpart\":{\"245\":[\"Die Feist von Kienberg\",\"eine Wasenmeisterfamilie im Ancien Régime zwischen Ehrbarkeit und Delinquenz\"]},\"person\":{\"100\":[\"SchluchterAndré\"],\"700\":[],\"800\":[],\"245c\":[\"André Schluchter\"]},\"corporate\":{\"110\":[],\"710\":[],\"810\":[]},\"pubyear\":\"1992    \",\"decade\":\"1992\",\"century\":\"1992\",\"exactDate\":\"1992    \",\"edition\":\"\",\"part\":[],\"pages\":[\"S. 102-114\"],\"volumes\":[\"S. 102-114\"],\"pubinit\":[],\"pubword\":[],\"scale\":\"\",\"coordinate\":[],\"doi\":[],\"ismn\":[],\"musicid\":\"\",\"format\":[\"BK020000\"]}\r\n",
      "{\"docid\":\"554061481\",\"035liste\":[\"(OCoLC)1085491341\",\"(IDSBB)006899983\"],\"isbn\":[],\"ttlfull\":{\"245\":[\"Reimereien\"]},\"ttlpart\":{\"245\":[\"Reimereien\"]},\"person\":{\"100\":[\"NaegeliWerner\"],\"700\":[],\"800\":[],\"245c\":[\"von Werner Naegeli\"]},\"corporate\":{\"110\":[],\"710\":[],\"810\":[]},\"pubyear\":\"1986    \",\"decade\":\"1986\",\"century\":\"1986\",\"exactDate\":\"1986    \",\"edition\":\"\",\"part\":[],\"pages\":[\"43 S.\"],\"volumes\":[\"43 S.\"],\"pubinit\":[],\"pubword\":[],\"scale\":\"\",\"coordinate\":[],\"doi\":[],\"ismn\":[],\"musicid\":\"\",\"format\":[\"BK020000\"]}\r\n"
     ]
    }
   ],
   "source": [
    "! head -n 2 ./data/job7r4A1.json"
   ]
  },
  {
   "cell_type": "markdown",
   "metadata": {},
   "source": [
    "Now, the extracted data file is not needed anymore and can be removed with the goal to keep the original zip file, only."
   ]
  },
  {
   "cell_type": "code",
   "execution_count": 6,
   "metadata": {},
   "outputs": [
    {
     "name": "stdout",
     "output_type": "stream",
     "text": [
      "Number of records 183,407, number of attributes per record 23.\n",
      "\n",
      "<class 'pandas.core.frame.DataFrame'>\n",
      "RangeIndex: 183407 entries, 0 to 183406\n",
      "Data columns (total 23 columns):\n",
      "docid         183407 non-null object\n",
      "035liste      183407 non-null object\n",
      "isbn          183407 non-null object\n",
      "ttlfull       183407 non-null object\n",
      "ttlpart       183407 non-null object\n",
      "person        183407 non-null object\n",
      "corporate     183407 non-null object\n",
      "pubyear       183407 non-null object\n",
      "decade        183407 non-null object\n",
      "century       183407 non-null object\n",
      "exactDate     183407 non-null object\n",
      "edition       183407 non-null object\n",
      "part          183407 non-null object\n",
      "pages         183407 non-null object\n",
      "volumes       183407 non-null object\n",
      "pubinit       183407 non-null object\n",
      "pubword       183407 non-null object\n",
      "scale         183407 non-null object\n",
      "coordinate    183407 non-null object\n",
      "doi           183407 non-null object\n",
      "ismn          183407 non-null object\n",
      "musicid       183407 non-null object\n",
      "format        183407 non-null object\n",
      "dtypes: object(23)\n",
      "memory usage: 32.2+ MB\n"
     ]
    }
   ],
   "source": [
    "# Swissbib's data file is not needed in unzipped form anymore\n",
    "if os.path.exists(os.path.join(path_data, 'job7r4A1.json')):\n",
    "    # Delete data file\n",
    "    os.remove(os.path.join(path_data, 'job7r4A1.json'))\n",
    "\n",
    "print('Number of records {:,d}, number of attributes per record {:d}.\\n'.format(\n",
    "    len(df), len(df.columns)))\n",
    "\n",
    "df.info()"
   ]
  },
  {
   "cell_type": "markdown",
   "metadata": {},
   "source": [
    "Swissbib's data describes different kinds of bibliographic units, see [format](#format). The following subsections show some sample data for such units. The format is interpreted roughly in these subsections, compare Swissbib's [format codes](http://www.swissbib.org/wiki/index.php?title=Filtering#format_codes) [[FeatWiki](./A_References.ipynb#feature_deduplication_wiki)]."
   ]
  },
  {
   "cell_type": "code",
   "execution_count": 7,
   "metadata": {},
   "outputs": [
    {
     "data": {
      "text/plain": [
       "array(['BK', 'MU', 'VM', 'MP', 'CR', 'CL', 'CF', nan], dtype=object)"
      ]
     },
     "execution_count": 7,
     "metadata": {},
     "output_type": "execute_result"
    }
   ],
   "source": [
    "df.format.str[0].str[:2].unique()"
   ]
  },
  {
   "cell_type": "markdown",
   "metadata": {},
   "source": [
    "### Book"
   ]
  },
  {
   "cell_type": "markdown",
   "metadata": {},
   "source": [
    "A format code starting with $\\texttt{BK}$ stands for a bibliographic unit of a book or an article. A sample record is shown below."
   ]
  },
  {
   "cell_type": "code",
   "execution_count": 8,
   "metadata": {},
   "outputs": [
    {
     "data": {
      "text/plain": [
       "docid                                                 554061449\n",
       "035liste                  [(OCoLC)1085491204, (IDSBB)006899773]\n",
       "isbn                                                         []\n",
       "ttlfull       {'245': ['Die Feist von Kienberg', 'eine Wasen...\n",
       "ttlpart       {'245': ['Die Feist von Kienberg', 'eine Wasen...\n",
       "person        {'100': ['SchluchterAndré'], '700': [], '800':...\n",
       "corporate                     {'110': [], '710': [], '810': []}\n",
       "pubyear                                                1992    \n",
       "decade                                                     1992\n",
       "century                                                    1992\n",
       "exactDate                                              1992    \n",
       "edition                                                        \n",
       "part                                                         []\n",
       "pages                                              [S. 102-114]\n",
       "volumes                                            [S. 102-114]\n",
       "pubinit                                                      []\n",
       "pubword                                                      []\n",
       "scale                                                          \n",
       "coordinate                                                   []\n",
       "doi                                                          []\n",
       "ismn                                                         []\n",
       "musicid                                                        \n",
       "format                                               [BK020000]\n",
       "Name: 0, dtype: object"
      ]
     },
     "execution_count": 8,
     "metadata": {},
     "output_type": "execute_result"
    }
   ],
   "source": [
    "df.loc[df[df.format.str[0].str[:2]=='BK'].index[0]]"
   ]
  },
  {
   "cell_type": "markdown",
   "metadata": {},
   "source": [
    "### Music"
   ]
  },
  {
   "cell_type": "markdown",
   "metadata": {},
   "source": [
    "A format code starting with $\\texttt{MU}$ stands for a bibliographic unit that is related to music. A sample record is shown below."
   ]
  },
  {
   "cell_type": "code",
   "execution_count": 9,
   "metadata": {},
   "outputs": [
    {
     "data": {
      "text/plain": [
       "docid                                                 554098806\n",
       "035liste                  [(OCoLC)1085495414, (IDSBB)007052696]\n",
       "isbn                                                         []\n",
       "ttlfull                             {'245': ['Violin sonatas']}\n",
       "ttlpart                             {'245': ['Violin sonatas']}\n",
       "person        {'100': ['BrahmsJohannes'], '700': ['SchayeghL...\n",
       "corporate                     {'110': [], '710': [], '810': []}\n",
       "pubyear                                                20182018\n",
       "decade                                                     2018\n",
       "century                                                    2018\n",
       "exactDate                                              20182018\n",
       "edition                                                        \n",
       "part                                                         []\n",
       "pages                                            [1 CD (69:42)]\n",
       "volumes                                          [1 CD (69:42)]\n",
       "pubinit                                                      []\n",
       "pubword                                                      []\n",
       "scale                                                          \n",
       "coordinate                                                   []\n",
       "doi                                                          []\n",
       "ismn                                                         []\n",
       "musicid                                              GCD 924201\n",
       "format                                               [MU040100]\n",
       "Name: 1788, dtype: object"
      ]
     },
     "execution_count": 9,
     "metadata": {},
     "output_type": "execute_result"
    }
   ],
   "source": [
    "df.loc[df[df.format.str[0].str[:2]=='MU'].index[0]]"
   ]
  },
  {
   "cell_type": "markdown",
   "metadata": {},
   "source": [
    "### Video Material"
   ]
  },
  {
   "cell_type": "markdown",
   "metadata": {},
   "source": [
    "A format code starting with $\\texttt{VM}$ represents some film material. A sample record is shown below."
   ]
  },
  {
   "cell_type": "code",
   "execution_count": 10,
   "metadata": {},
   "outputs": [
    {
     "data": {
      "text/plain": [
       "docid                                                 554098911\n",
       "035liste      [(OCoLC)1065768412, (IDSBB)007052702, (OCoLC)1...\n",
       "isbn                         [978-3-946274-20-9, 3-946274-20-X]\n",
       "ttlfull       {'245': ['Kunst und Gemüse, A. Hipler', 'Art a...\n",
       "ttlpart       {'245': ['Kunst und Gemüse, A. Hipler', 'Art a...\n",
       "person        {'100': [], '700': ['SchlingensiefChristoph', ...\n",
       "corporate                     {'110': [], '710': [], '810': []}\n",
       "pubyear                                                20182008\n",
       "decade                                                     2018\n",
       "century                                                    2018\n",
       "exactDate                                              20182008\n",
       "edition                                                        \n",
       "part                                                     [2004]\n",
       "pages                                  [2 DVD-Videos (283 min)]\n",
       "volumes                                [2 DVD-Videos (283 min)]\n",
       "pubinit                                                      []\n",
       "pubword                                                      []\n",
       "scale                                                          \n",
       "coordinate                                                   []\n",
       "doi                                                          []\n",
       "ismn                                                         []\n",
       "musicid                                                        \n",
       "format                                               [VM010000]\n",
       "Name: 1795, dtype: object"
      ]
     },
     "execution_count": 10,
     "metadata": {},
     "output_type": "execute_result"
    }
   ],
   "source": [
    "df.loc[df[df.format.str[0].str[:2]=='VM'].index[0]]"
   ]
  },
  {
   "cell_type": "markdown",
   "metadata": {},
   "source": [
    "### Map"
   ]
  },
  {
   "cell_type": "markdown",
   "metadata": {},
   "source": [
    "A format code starting with $\\texttt{MP}$ is a map. A sample record is shown below."
   ]
  },
  {
   "cell_type": "code",
   "execution_count": 11,
   "metadata": {},
   "outputs": [
    {
     "data": {
      "text/plain": [
       "docid                                                 554099039\n",
       "035liste                  [(OCoLC)1085495396, (IDSBB)007052708]\n",
       "isbn                                                         []\n",
       "ttlfull       {'245': ['Nova descriptio Comitatus Hollandiæ'...\n",
       "ttlpart       {'245': ['Nova descriptio Comitatus Hollandiæ'...\n",
       "person        {'100': ['BlaeuWillem Janszoon'], '700': [], '...\n",
       "corporate                     {'110': [], '710': [], '810': []}\n",
       "pubyear                                                19931604\n",
       "decade                                                     1993\n",
       "century                                                    1993\n",
       "exactDate                                              19931604\n",
       "edition                                               Facsimile\n",
       "part                                                         []\n",
       "pages                                                 [1 Karte]\n",
       "volumes                                               [1 Karte]\n",
       "pubinit                                                      []\n",
       "pubword                                                      []\n",
       "scale                                                    400000\n",
       "coordinate                                 [E0035400, N0532700]\n",
       "doi                                                          []\n",
       "ismn                                                         []\n",
       "musicid                                                        \n",
       "format                                               [MP010300]\n",
       "Name: 1801, dtype: object"
      ]
     },
     "execution_count": 11,
     "metadata": {},
     "output_type": "execute_result"
    }
   ],
   "source": [
    "df.loc[df[df.format.str[0].str[:2]=='MP'].index[0]]"
   ]
  },
  {
   "cell_type": "markdown",
   "metadata": {},
   "source": [
    "### Periodical"
   ]
  },
  {
   "cell_type": "markdown",
   "metadata": {},
   "source": [
    "A format code starting with $\\texttt{CR}$ is a bibliographic unit of a periodical. A sample record is shown below."
   ]
  },
  {
   "cell_type": "code",
   "execution_count": 12,
   "metadata": {},
   "outputs": [
    {
     "data": {
      "text/plain": [
       "docid                                                 55409939X\n",
       "035liste                   [(OCoLC)699516877, (IDSBB)007052728]\n",
       "isbn                                                [1533-4406]\n",
       "ttlfull       {'245': ['The new England journal of medicine ...\n",
       "ttlpart       {'245': ['The new England journal of medicine ...\n",
       "person          {'100': [], '700': [], '800': [], '245c': ['']}\n",
       "corporate                     {'110': [], '710': [], '810': []}\n",
       "pubyear                                                18121826\n",
       "decade                                                     1812\n",
       "century                                                    1812\n",
       "exactDate                                              18121826\n",
       "edition                                                        \n",
       "part                                                         []\n",
       "pages                                        [Online-Ressource]\n",
       "volumes                                      [Online-Ressource]\n",
       "pubinit                                                      []\n",
       "pubword                                                      []\n",
       "scale                                                          \n",
       "coordinate                                                   []\n",
       "doi                                                          []\n",
       "ismn                                                         []\n",
       "musicid                                                        \n",
       "format                                               [CR030653]\n",
       "Name: 1825, dtype: object"
      ]
     },
     "execution_count": 12,
     "metadata": {},
     "output_type": "execute_result"
    }
   ],
   "source": [
    "df.loc[df[df.format.str[0].str[:2]=='CR'].index[0]]"
   ]
  },
  {
   "cell_type": "markdown",
   "metadata": {},
   "source": [
    "### Collection"
   ]
  },
  {
   "cell_type": "markdown",
   "metadata": {},
   "source": [
    "A format code starting with $\\texttt{CL}$ is a collection. A sample record is shown below."
   ]
  },
  {
   "cell_type": "code",
   "execution_count": 13,
   "metadata": {},
   "outputs": [
    {
     "data": {
      "text/plain": [
       "docid                                                 554101610\n",
       "035liste                  [(OCoLC)1085510940, (IDSBB)007052979]\n",
       "isbn                                                         []\n",
       "ttlfull       {'245': ['[St. Gallischer Hilfsverein - Sankt ...\n",
       "ttlpart       {'245': ['[St. Gallischer Hilfsverein - Sankt ...\n",
       "person          {'100': [], '700': [], '800': [], '245c': ['']}\n",
       "corporate     {'110': ['St. Gallischer Hilfsverein'], '710':...\n",
       "pubyear                                                20179999\n",
       "decade                                                     2017\n",
       "century                                                    2017\n",
       "exactDate                                              20179999\n",
       "edition                                                        \n",
       "part                                                         []\n",
       "pages                                                 [1 Mappe]\n",
       "volumes                                               [1 Mappe]\n",
       "pubinit                                                      []\n",
       "pubword                                                      []\n",
       "scale                                                          \n",
       "coordinate                                                   []\n",
       "doi                                                          []\n",
       "ismn                                                         []\n",
       "musicid                                                        \n",
       "format                                               [CL010000]\n",
       "Name: 1955, dtype: object"
      ]
     },
     "execution_count": 13,
     "metadata": {},
     "output_type": "execute_result"
    }
   ],
   "source": [
    "df.loc[df[df.format.str[0].str[:2]=='CL'].index[0]]"
   ]
  },
  {
   "cell_type": "markdown",
   "metadata": {},
   "source": [
    "### Computer File"
   ]
  },
  {
   "cell_type": "markdown",
   "metadata": {},
   "source": [
    "A format code starting with $\\texttt{CF}$ is a placeholder for a computer file on any kind of storage. A sample record is shown below."
   ]
  },
  {
   "cell_type": "code",
   "execution_count": 14,
   "metadata": {},
   "outputs": [
    {
     "data": {
      "text/plain": [
       "docid                                                 554144301\n",
       "035liste                   [(IDSBB)007008154, (RERO)R007245313]\n",
       "isbn                                                         []\n",
       "ttlfull       {'245': ['Ice Age 4', 'voll verschoben : die a...\n",
       "ttlpart       {'245': ['Ice Age 4', 'voll verschoben : die a...\n",
       "person          {'100': [], '700': [], '800': [], '245c': ['']}\n",
       "corporate                     {'110': [], '710': [], '810': []}\n",
       "pubyear                                                2012    \n",
       "decade                                                     2012\n",
       "century                                                    2012\n",
       "exactDate                                              2012    \n",
       "edition                                                        \n",
       "part                                                         []\n",
       "pages                                         [1 Speicherkarte]\n",
       "volumes                                       [1 Speicherkarte]\n",
       "pubinit                                                      []\n",
       "pubword                                                      []\n",
       "scale                                                          \n",
       "coordinate                                                   []\n",
       "doi                                                          []\n",
       "ismn                                                         []\n",
       "musicid                                                        \n",
       "format                                               [CF010000]\n",
       "Name: 5947, dtype: object"
      ]
     },
     "execution_count": 14,
     "metadata": {},
     "output_type": "execute_result"
    }
   ],
   "source": [
    "df.loc[df[df.format.str[0].str[:2]=='CF'].index[0]]"
   ]
  },
  {
   "cell_type": "markdown",
   "metadata": {},
   "source": [
    "An analysis on each attribute, its meaning and contents will be done as a next step. For the upcoming analysis, each attribute of the data records is assigned to a specific group type. This is done with the help of a global dictionary variable $\\texttt{columns}\\_\\texttt{metadata}\\_\\texttt{dict}$."
   ]
  },
  {
   "cell_type": "code",
   "execution_count": 15,
   "metadata": {},
   "outputs": [],
   "source": [
    "# Initialize the global dictionary\n",
    "columns_metadata_dict = {}"
   ]
  },
  {
   "cell_type": "markdown",
   "metadata": {},
   "source": [
    "## Attribute Analysis"
   ]
  },
  {
   "cell_type": "markdown",
   "metadata": {},
   "source": [
    "This section analyses the attributes provided by the Swissbib data extracts. The extracted data is used as a basis for the machine learning models in the capstone project. The attributes are based on the MARC 21 Format for Bibliographic Data [[MARC](./A_References.ipynb#marc21)] and are documented on a Swissbib wikipedia page [[FeatWiki](./A_References.ipynb#feature_deduplication_wiki)]."
   ]
  },
  {
   "cell_type": "code",
   "execution_count": 16,
   "metadata": {},
   "outputs": [
    {
     "data": {
      "text/plain": [
       "Index(['docid', '035liste', 'isbn', 'ttlfull', 'ttlpart', 'person',\n",
       "       'corporate', 'pubyear', 'decade', 'century', 'exactDate', 'edition',\n",
       "       'part', 'pages', 'volumes', 'pubinit', 'pubword', 'scale', 'coordinate',\n",
       "       'doi', 'ismn', 'musicid', 'format'],\n",
       "      dtype='object')"
      ]
     },
     "execution_count": 16,
     "metadata": {},
     "output_type": "execute_result"
    }
   ],
   "source": [
    "df.columns"
   ]
  },
  {
   "cell_type": "markdown",
   "metadata": {},
   "source": [
    "This section provides and uses some functions that have been written for supporting the analysis of the attributes as well as for data preprocessing in the next chapters. These functions have been defined in separate code files.\n",
    "\n",
    "- [data_analysis_funcs.py](./data_analysis_funcs.py)\n",
    "- [data_preparation_funcs.py](./data_preparation_funcs.py)"
   ]
  },
  {
   "cell_type": "code",
   "execution_count": 17,
   "metadata": {},
   "outputs": [],
   "source": [
    "import data_analysis_funcs as daf\n",
    "import data_preparation_funcs as dpf"
   ]
  },
  {
   "cell_type": "markdown",
   "metadata": {},
   "source": [
    "### Table of Contents of Attribute Analysis\n",
    "\n",
    "- [035liste](#035liste)\n",
    "- [century](#century)\n",
    "- [coordinate](#coordinate)\n",
    "- [corporate](#corporate)\n",
    "- [decade](#decade)\n",
    "- [docid](#docid)\n",
    "- [doi](#doi)\n",
    "- [edition](#edition)\n",
    "- [exactDate](#exactDate)\n",
    "- [format](#format)\n",
    "- [isbn](#isbn)\n",
    "- [ismn](#ismn)\n",
    "- [musicid](#musicid)\n",
    "- [pages](#pages)\n",
    "- [part](#part)\n",
    "- [person](#person)\n",
    "- [pubinit](#pubinit)\n",
    "- [pubword](#pubword)\n",
    "- [pubyear](#pubyear)\n",
    "- [scale](#scale)\n",
    "- [ttlfull](#ttlfull)\n",
    "- [ttlpart](#ttlpart)\n",
    "- [volumes](#volumes)"
   ]
  },
  {
   "cell_type": "code",
   "execution_count": 18,
   "metadata": {},
   "outputs": [],
   "source": [
    "# Initialize list of dictionary item\n",
    "columns_metadata_dict['data_analysis_columns'] = []"
   ]
  },
  {
   "cell_type": "markdown",
   "metadata": {},
   "source": [
    "### 035liste"
   ]
  },
  {
   "cell_type": "code",
   "execution_count": 19,
   "metadata": {},
   "outputs": [],
   "source": [
    "columns_metadata_dict['list_columns'] = ['035liste']"
   ]
  },
  {
   "cell_type": "markdown",
   "metadata": {},
   "source": [
    "Attribute $\\texttt{035liste}$ holds a list of identifiers from the originating library of a bibliographic unit, see [[FeatWiki](./A_References.ipynb/#feature_deduplication_wiki)]. Each record of the Swissbib data holds at least one identifier. Some examples are shown below."
   ]
  },
  {
   "cell_type": "code",
   "execution_count": 20,
   "metadata": {},
   "outputs": [
    {
     "name": "stdout",
     "output_type": "stream",
     "text": [
      "Number of records with filled 035liste 183407, with missing 035liste 0 => 100.0%\n"
     ]
    }
   ],
   "source": [
    "daf.find_empty_in_column(df, columns_metadata_dict, '035liste')"
   ]
  },
  {
   "cell_type": "code",
   "execution_count": 21,
   "metadata": {},
   "outputs": [
    {
     "data": {
      "text/plain": [
       "83463     1\n",
       "150669    1\n",
       "150668    1\n",
       "150667    1\n",
       "150666    1\n",
       "Name: 035liste, dtype: int64"
      ]
     },
     "execution_count": 21,
     "metadata": {},
     "output_type": "execute_result"
    }
   ],
   "source": [
    "df['035liste'].apply(lambda x : len(x)).sort_values().head(5)"
   ]
  },
  {
   "cell_type": "code",
   "execution_count": 22,
   "metadata": {},
   "outputs": [
    {
     "data": {
      "text/plain": [
       "144185    20\n",
       "54084     21\n",
       "30793     21\n",
       "136608    21\n",
       "61603     21\n",
       "14755     21\n",
       "49974     22\n",
       "139972    22\n",
       "139191    23\n",
       "124359    23\n",
       "Name: 035liste, dtype: int64"
      ]
     },
     "execution_count": 22,
     "metadata": {},
     "output_type": "execute_result"
    }
   ],
   "source": [
    "df['035liste'].apply(lambda x : len(x)).sort_values().tail(10)"
   ]
  },
  {
   "cell_type": "code",
   "execution_count": 23,
   "metadata": {},
   "outputs": [
    {
     "name": "stdout",
     "output_type": "stream",
     "text": [
      "Some sample identifiers:\n"
     ]
    },
    {
     "data": {
      "text/plain": [
       "23665     [(OCoLC)1033660856, (NEBIS)011195038, (OCoLC)1...\n",
       "67624     [(OCoLC)604105924, (IDSBB)004812904, (RERO)vtl...\n",
       "29077                 [(OCoLC)1085876191, (NEBIS)011330818]\n",
       "82522     [(VAUD)991021198567602852, (EXLNZ-41BCULAUSA_N...\n",
       "35803     [(OCoLC)947279849, (NEBIS)011289279, (OCoLC)94...\n",
       "57676                                    [(RERO)R008891214]\n",
       "73853                  [(NEBIS)006223490, (IDSBB)004871102]\n",
       "112929                                   [(RERO)R008899857]\n",
       "135254    [(SERSOL)ssib007433362, (VAUD)9910211204318028...\n",
       "179898    [(VAUD)991021077526502852, (OCoLC)40809772, (C...\n",
       "Name: 035liste, dtype: object"
      ]
     },
     "execution_count": 23,
     "metadata": {},
     "output_type": "execute_result"
    }
   ],
   "source": [
    "print('Some sample identifiers:')\n",
    "df['035liste'].sample(n=10)"
   ]
  },
  {
   "cell_type": "markdown",
   "metadata": {},
   "source": [
    "Attribute $\\texttt{035liste}$ is the central attribute for finding duplicates in the training data of the Swissbib's goldstandard. This process will be explained and implemented in chapter [Goldstandard and Data Preparation](./2_GoldstandardDataPreparation.ipynb)."
   ]
  },
  {
   "cell_type": "markdown",
   "metadata": {},
   "source": [
    "### century"
   ]
  },
  {
   "cell_type": "code",
   "execution_count": 24,
   "metadata": {},
   "outputs": [],
   "source": [
    "columns_metadata_dict['strings_columns'] = ['century']"
   ]
  },
  {
   "cell_type": "markdown",
   "metadata": {},
   "source": [
    "With its data extract [[SwRe](./A_References.ipynb#swre)], Swissbib forwards the year of publication of a bibliographic unit in attribute $\\texttt{century}$ [[FeatWiki](./A_References.ipynb/#feature_deduplication_wiki)], if the bibliographic unit has been published in a specific year as may be the case for a regular book. If the bibliographic unit has been published during a time period, like for example a periodical, the first year of publication is stored [[WiCo2001](./A_References.ipynb#wico2001)]."
   ]
  },
  {
   "cell_type": "code",
   "execution_count": 25,
   "metadata": {},
   "outputs": [
    {
     "name": "stdout",
     "output_type": "stream",
     "text": [
      "Number of records with filled century 183407, with missing century 0 => 100.0%\n"
     ]
    }
   ],
   "source": [
    "daf.find_empty_in_column(df, columns_metadata_dict, 'century')"
   ]
  },
  {
   "cell_type": "markdown",
   "metadata": {},
   "source": [
    "Attribute $\\texttt{century}$ holds strings of length 4 that can predominantly be interpreted as year-dates [[FeatWiki](./A_References.ipynb/#feature_deduplication_wiki)]. Some examples and the top-most quantity distribution are shown below."
   ]
  },
  {
   "cell_type": "code",
   "execution_count": 26,
   "metadata": {},
   "outputs": [
    {
     "data": {
      "text/plain": [
       "19900     2011\n",
       "122025    2018\n",
       "25862     2019\n",
       "181016    2019\n",
       "135958    1952\n",
       "26048     2018\n",
       "120614    2019\n",
       "152534    2003\n",
       "35239     2018\n",
       "174502    1992\n",
       "126032    2001\n",
       "126087    2008\n",
       "51216     2017\n",
       "88175     1716\n",
       "101382    1872\n",
       "Name: century, dtype: object"
      ]
     },
     "execution_count": 26,
     "metadata": {},
     "output_type": "execute_result"
    }
   ],
   "source": [
    "df['century'].sample(n=15)"
   ]
  },
  {
   "cell_type": "code",
   "execution_count": 27,
   "metadata": {},
   "outputs": [
    {
     "data": {
      "text/plain": [
       "2018    0.208389\n",
       "2019    0.086785\n",
       "2017    0.046350\n",
       "uuuu    0.036236\n",
       "2016    0.025223\n",
       "1999    0.020201\n",
       "2015    0.019879\n",
       "2014    0.018156\n",
       "2012    0.016286\n",
       "2013    0.015616\n",
       "Name: century, dtype: float64"
      ]
     },
     "execution_count": 27,
     "metadata": {},
     "output_type": "execute_result"
    }
   ],
   "source": [
    "df.century.value_counts(normalize=True).head(10)"
   ]
  },
  {
   "cell_type": "markdown",
   "metadata": {},
   "source": [
    "If the year-date is unclear to some extent or no year-date of the unit is registered, letter 'u' is used as a placeholder of the unknown digit."
   ]
  },
  {
   "cell_type": "code",
   "execution_count": 28,
   "metadata": {},
   "outputs": [
    {
     "data": {
      "text/plain": [
       "array(['uuuu', 'u826', '193u', '197u', '192u', '19uu', '200u', '198u',\n",
       "       '189u', '188u', '18uu', '201u', '20uu', 'u829', '195u', '218u',\n",
       "       '196u', '17uu', '1uuu', '199u', 'u611', '191u', '190u', 'u713',\n",
       "       'u999', '194u', 'u693', '186u', '184u', '15uu', 'uuu1'],\n",
       "      dtype=object)"
      ]
     },
     "execution_count": 28,
     "metadata": {},
     "output_type": "execute_result"
    }
   ],
   "source": [
    "df.century[df.century.str.contains('u')].unique()"
   ]
  },
  {
   "cell_type": "markdown",
   "metadata": {},
   "source": [
    "The above statement results in the same array like the following regular expression."
   ]
  },
  {
   "cell_type": "code",
   "execution_count": 29,
   "metadata": {},
   "outputs": [
    {
     "data": {
      "text/plain": [
       "array(['uuuu', 'u826', '193u', '197u', '192u', '19uu', '200u', '198u',\n",
       "       '189u', '188u', '18uu', '201u', '20uu', 'u829', '195u', '218u',\n",
       "       '196u', '17uu', '1uuu', '199u', 'u611', '191u', '190u', 'u713',\n",
       "       'u999', '194u', 'u693', '186u', '184u', '15uu', 'uuu1'],\n",
       "      dtype=object)"
      ]
     },
     "execution_count": 29,
     "metadata": {},
     "output_type": "execute_result"
    }
   ],
   "source": [
    "df.century[df.century.str.contains('[^0-9]')].unique()"
   ]
  },
  {
   "cell_type": "markdown",
   "metadata": {},
   "source": [
    "The list of year-dates without any unknown value is shown below."
   ]
  },
  {
   "cell_type": "code",
   "execution_count": 30,
   "metadata": {},
   "outputs": [
    {
     "data": {
      "text/plain": [
       "array(['1992', '1986', '1923', '1947', '1991', '1967', '1950', '1985',\n",
       "       '1983', '1942', '1883', '1990', '1984', '1989', '1993', '1961',\n",
       "       '1940', '1981', '1988', '1858', '1978', '1977', '1880', '1945',\n",
       "       '1963', '1912', '1884', '1937', '1956', '1943', '1916', '1960',\n",
       "       '1980', '1936', '1906', '1987', '1955', '1944', '1953', '1930',\n",
       "       '1903', '1913', '1938', '1895', '1905', '1920', '1918', '1857',\n",
       "       '1928', '1881', '1932', '1900', '1924', '1915', '1931', '1927',\n",
       "       '1919', '1896', '1922', '1871', '1926', '1939', '1907', '1776',\n",
       "       '1873', '1893', '1968', '1975', '1946', '1833', '1855', '1949',\n",
       "       '1962', '1971', '1959', '1966', '1862', '1898', '1901', '1904',\n",
       "       '1902', '1951', '1909', '1929', '1921', '1882', '1964', '1911',\n",
       "       '1957', '1897', '1910', '1867', '1914', '1908', '1958', '1934',\n",
       "       '1933', '1872', '1845', '1979', '1954', '1885', '1810', '1891',\n",
       "       '1869', '1876', '1889', '1836', '1952', '1935', '1948', '1917',\n",
       "       '1879', '1887', '1865', '1899', '1892', '1861', '1870', '1894',\n",
       "       '1941', '1925', '1837', '1864', '1846', '1848', '1691', '1657',\n",
       "       '1623', '1590', '1538', '1686', '1544', '1596', '1631', '1580',\n",
       "       '1628', '1793', '1823', '1802', '1831', '1816', '1838', '1825',\n",
       "       '1826', '1839', '1852', '1890', '1820', '1863', '1856', '1683',\n",
       "       '1877', '1835', '1827', '1850', '1841', '1822', '1847', '1834',\n",
       "       '1824', '1840', '1875', '1756', '1752', '1650', '1573', '1528',\n",
       "       '1554', '1552', '1751', '1653', '1798', '1791', '1645', '1814',\n",
       "       '1763', '1695', '1512', '1807', '1698', '1589', '1796', '1712',\n",
       "       '1818', '1773', '1803', '1828', '1806', '1853', '1785', '1744',\n",
       "       '1525', '1779', '1809', '1811', '1714', '1705', '1787', '1874',\n",
       "       '1781', '1888', '1859', '1772', '1771', '1602', '1851', '1784',\n",
       "       '1886', '1774', '1620', '1804', '1582', '1732', '1829', '1800',\n",
       "       '1789', '1842', '1764', '1797', '1805', '1795', '1868', '1758',\n",
       "       '1713', '1741', '1830', '1821', '1670', '1777', '1770', '1711',\n",
       "       '1762', '1768', '1813', '1761', '1819', '1769', '1801', '1832',\n",
       "       '1555', '1532', '1767', '1815', '1812', '1700', '1757', '1799',\n",
       "       '1710', '1843', '1722', '1760', '1701', '1574', '1651', '1733',\n",
       "       '1786', '1665', '1790', '1723', '1860', '1659', '1737', '1750',\n",
       "       '1716', '1739', '1759', '1808', '1728', '1748', '1577', '1706',\n",
       "       '1724', '1604', '1745', '1753', '1766', '1780', '1878', '1788',\n",
       "       '1673', '1735', '1778', '1715', '1782', '1671', '1702', '1731',\n",
       "       '1639', '1982', '1743', '1866', '1676', '1694', '1584', '1854',\n",
       "       '1969', '1690', '1708', '1688', '1565', '1754', '1638', '1755',\n",
       "       '1624', '1674', '1550', '1629', '1747', '1727', '1749', '1562',\n",
       "       '1641', '1617', '1794', '1844', '1783', '1817', '1849', '1792',\n",
       "       '1730', '1687', '1649', '1541', '1696', '1707', '2018', '2013',\n",
       "       '2009', '2011', '2006', '2014', '2019', '2015', '1997', '2020',\n",
       "       '1746', '2017', '2000', '1996', '1999', '2016', '1765', '1995',\n",
       "       '1972', '1974', '1738', '1965', '2001', '2004', '2010', '2002',\n",
       "       '2008', '2003', '1661', '1664', '1970', '1998', '2012', '1973',\n",
       "       '1994', '2005', '1729', '1634', '2007', '1976', '1658', '1775',\n",
       "       '1537', '1594', '1607', '1682', '1692', '1685', '1526', '1720',\n",
       "       '1564', '1561', '1734', '1543', '1679', '1697', '1591', '1655',\n",
       "       '1643', '1660', '1563', '1569', '1576', '1619', '1668', '1556',\n",
       "       '1736', '1675', '1600', '1542', '1557', '1539', '1540', '1699',\n",
       "       '1721', '1566', '1717', '1535', '1616', '1626', '1507', '1637',\n",
       "       '1548', '1640', '1681', '1672', '1559', '1689', '1644', '1703',\n",
       "       '1588', '1680', '1578', '1618', '1611', '1553', '1551', '1627',\n",
       "       '1630', '1606', '1608', '1560', '1572', '1579', '1593', '1718',\n",
       "       '1740', '1575', '1570', '1587', '1666', '1669', '1704', '1663',\n",
       "       '1595', '1515', '1615', '1585', '1527', '1601', '1523', '1633',\n",
       "       '1678', '1635', '1667', '1598', '1622', '1656', '1684', '1719',\n",
       "       '1648', '1652', '1499', '1530', '1489', '1480', '1642', '1547',\n",
       "       '1592', '1546', '1545', '1583', '1599', '1549', '1610', '1614',\n",
       "       '1508', '1531', '1497', '1613', '1693', '1498', '1742', '1603',\n",
       "       '1514', '1625', '1654', '1534', '1621', '1558', '1636', '1522',\n",
       "       '1521', '1482', '1725', '2021', '1472', '1605', '1597', '1567',\n",
       "       '1568', '1709', '1509', '1662', '1609', '1612', '1010', '1100',\n",
       "       '1455', '1400', '1647', '1490', '1300', '1401', '1430', '1301',\n",
       "       '1201', '1101', '1425', '1001', '1000', '1200', '1501', '1500',\n",
       "       '1504', '1581', '1465', '1503', '1474', '1444', '1418', '1478',\n",
       "       '1632', '1510', '1363', '1250', '1325', '1350', '1502', '1327',\n",
       "       '1450', '1520', '1150', '1389', '1518', '1185', '1677', '1571',\n",
       "       '1646', '1726', '1586', '1495'], dtype=object)"
      ]
     },
     "execution_count": 30,
     "metadata": {},
     "output_type": "execute_result"
    }
   ],
   "source": [
    "df.century[~df.century.str.contains('[u]')].unique()"
   ]
  },
  {
   "cell_type": "markdown",
   "metadata": {},
   "source": [
    "Expecting the data extract provided is a statistically random sample, the following graph shows the publishing activity of Western European literature. Be aware that the displayed data is only an extract of the full Swissbib data, though."
   ]
  },
  {
   "cell_type": "code",
   "execution_count": 31,
   "metadata": {},
   "outputs": [
    {
     "data": {
      "image/png": "[encoded data removed]",
      "text/plain": [
       "<Figure size 864x288 with 1 Axes>"
      ]
     },
     "metadata": {
      "needs_background": "light"
     },
     "output_type": "display_data"
    }
   ],
   "source": [
    "%matplotlib inline\n",
    "import matplotlib.pyplot as plt\n",
    "import numpy as np\n",
    "\n",
    "fig, ax = plt.subplots(nrows=1, ncols=1, figsize=(12, 4))\n",
    "\n",
    "plt.hist(df.century[~df.century.str.contains('[u]')].astype(int), bins=60, log=True)\n",
    "plt.xticks(rotation='vertical')\n",
    "plt.title('Stock of bibliographic units per pubication year')\n",
    "plt.xlabel('year of publication')\n",
    "plt.ylabel('log(amount of bibliographical units)')\n",
    "plt.show()"
   ]
  },
  {
   "cell_type": "markdown",
   "metadata": {},
   "source": [
    "Care has to be taken with this attribute considering Swissbib's deduplication implementation. There, the attribute holds the century of publication instead of its full year [[WiCo2001](./A_References.ipynb#wico2001)]. The data extract offers with $\\texttt{decade}$, see below, an additional attribute holding the same data as $\\texttt{century}$. Even more, attributes $\\texttt{exactDate}$ and $\\texttt{pubyear}$ offer an extended version of attribute $\\texttt{century}$. Due to these redundancies, the attribute will be dropped for the feature matrix and one of the extended attributes with the same data will be taken into account."
   ]
  },
  {
   "cell_type": "code",
   "execution_count": 32,
   "metadata": {},
   "outputs": [],
   "source": [
    "#columns_metadata_dict['data_analysis_columns'] = ['century']"
   ]
  },
  {
   "cell_type": "markdown",
   "metadata": {},
   "source": [
    "### coordinate"
   ]
  },
  {
   "cell_type": "code",
   "execution_count": 33,
   "metadata": {},
   "outputs": [],
   "source": [
    "columns_metadata_dict['list_columns'] = ['coordinate']"
   ]
  },
  {
   "cell_type": "markdown",
   "metadata": {},
   "source": [
    "Attribute $\\texttt{coordinate}$ holds geographical coordinate information on the related bibliographic unit of format map."
   ]
  },
  {
   "cell_type": "code",
   "execution_count": 34,
   "metadata": {},
   "outputs": [
    {
     "name": "stdout",
     "output_type": "stream",
     "text": [
      "Number of records with filled coordinate 730, with missing coordinate 182677 => 0.4%\n"
     ]
    }
   ],
   "source": [
    "daf.find_empty_in_column(df, columns_metadata_dict, 'coordinate')"
   ]
  },
  {
   "cell_type": "code",
   "execution_count": 35,
   "metadata": {},
   "outputs": [
    {
     "name": "stdout",
     "output_type": "stream",
     "text": [
      "Number of records with filled coordinate 729, with missing coordinate 183 => 79.9%\n"
     ]
    }
   ],
   "source": [
    "daf.find_empty_in_column(df[df.format.str[0].str[:2]=='MP'], columns_metadata_dict, 'coordinate')"
   ]
  },
  {
   "cell_type": "code",
   "execution_count": 36,
   "metadata": {},
   "outputs": [
    {
     "data": {
      "text/plain": [
       "114798                        [E0064004, N0465343]\n",
       "61409     [E0055427, E0055432, N0474810, N0474813]\n",
       "1846                          [E0071440, N0460829]\n",
       "114722                        [E0093317, N0472148]\n",
       "51142                                           []\n",
       "113753                        [E0085122, N0470934]\n",
       "71382                                           []\n",
       "114703                        [E0091844, N0470552]\n",
       "27785                         [E0092502, N0465328]\n",
       "113696                        [E0083728, N0470939]\n",
       "Name: coordinate, dtype: object"
      ]
     },
     "execution_count": 36,
     "metadata": {},
     "output_type": "execute_result"
    }
   ],
   "source": [
    "df['coordinate'][df.format.str[0].str[:2]=='MP'].sample(n=10)"
   ]
  },
  {
   "cell_type": "markdown",
   "metadata": {},
   "source": [
    "The attribute stores its values in the form of a list. The list may hold more than two specific coordinate values. A specific coordinate value is mostly of length 8 characters."
   ]
  },
  {
   "cell_type": "code",
   "execution_count": 37,
   "metadata": {},
   "outputs": [
    {
     "data": {
      "text/plain": [
       "20644     [E0054415, E0054415, N0480000, N0480005]\n",
       "53969     [E0080312, E0080322, N0475934, N0475924]\n",
       "20694     [E0073306, E0073408, N0471208, N0471158]\n",
       "145721    [E0053832, E0053842, N0465129, N0465123]\n",
       "57054     [E0203500, E0201900, N0383100, N0383100]\n",
       "122281    [E0050137, E0071337, N0474905, N0475341]\n",
       "133537    [E0070205, E0070202, N0463814, N0463809]\n",
       "137329    [E0082310, E0082314, N0464707, N0464711]\n",
       "83161     [E0073547, E0073544, N0465345, N0465341]\n",
       "138344    [E0053613, E0053623, N0475929, N0475919]\n",
       "Name: coordinate, dtype: object"
      ]
     },
     "execution_count": 37,
     "metadata": {},
     "output_type": "execute_result"
    }
   ],
   "source": [
    "df_maps = df.loc[df.coordinate.apply(lambda x : len(x))[df.format.str[0].str[:2]=='MP'].index]\n",
    "df_maps.coordinate[df_maps.coordinate.apply(lambda x : len(x)) > 2].sample(n=10)"
   ]
  },
  {
   "cell_type": "code",
   "execution_count": 38,
   "metadata": {},
   "outputs": [
    {
     "data": {
      "text/plain": [
       "'E012.500000 transforms to E0125000'"
      ]
     },
     "execution_count": 38,
     "metadata": {},
     "output_type": "execute_result"
    }
   ],
   "source": [
    "df.coordinate.loc[15139][0] + ' transforms to ' + df.coordinate.loc[15139][0].replace('.', '')[:8].upper()"
   ]
  },
  {
   "cell_type": "code",
   "execution_count": 39,
   "metadata": {},
   "outputs": [
    {
     "data": {
      "text/plain": [
       "'E0125000'"
      ]
     },
     "execution_count": 39,
     "metadata": {},
     "output_type": "execute_result"
    }
   ],
   "source": [
    "df.coordinate.loc[15139][0].replace('.', '')[:8].upper()"
   ]
  },
  {
   "cell_type": "markdown",
   "metadata": {},
   "source": [
    "Attribute $\\texttt{coordinate}$ is a relevant identifying attribute for duplicates of maps. The attribute will be used for pair comparison in the feature matrix. The format of its filled list is slightly complicated, though. The contents of the field will be transformed according to Swissbib's project team suggestion [[WiCo2001](./A_References.ipynb#wico2001)] with the help of a function $\\texttt{.split}\\_\\texttt{coordinate}()$."
   ]
  },
  {
   "cell_type": "code",
   "execution_count": 40,
   "metadata": {},
   "outputs": [],
   "source": [
    "df = dpf.split_coordinate(df)"
   ]
  },
  {
   "cell_type": "markdown",
   "metadata": {},
   "source": [
    "The function extracts the first element of the list starting with letter 'E' for East or 'W' for West. It then normalizes the string to a string of length 8, removing all '.' and ' ' characters beforehand. The resulting string element is stored in a new attribute $\\texttt{coordinate}\\_\\texttt{E}$."
   ]
  },
  {
   "cell_type": "code",
   "execution_count": 41,
   "metadata": {},
   "outputs": [
    {
     "data": {
      "text/plain": [
       "59346     e0200700\n",
       "114421    e0091857\n",
       "131853    e0094625\n",
       "103679    e0092100\n",
       "113700    e0084423\n",
       "116023    e0021500\n",
       "59528     e0233400\n",
       "126873    e0065350\n",
       "23588     e0065226\n",
       "148575    w0012141\n",
       "36020     e0055120\n",
       "54315     e0130500\n",
       "15758     e0063627\n",
       "62365     e0055700\n",
       "11950     w1800000\n",
       "132936    e0055230\n",
       "142887    e0073400\n",
       "126766    e0064015\n",
       "104571    e0065253\n",
       "113698    e0084423\n",
       "Name: coordinate_E, dtype: object"
      ]
     },
     "execution_count": 41,
     "metadata": {},
     "output_type": "execute_result"
    }
   ],
   "source": [
    "df.coordinate_E[df.coordinate_E.apply(lambda x : x!='')].sample(n=20)"
   ]
  },
  {
   "cell_type": "markdown",
   "metadata": {},
   "source": [
    "As a next step, the same procedure is done with the first list element starting with letter 'N' for North or 'S' for South. The resulting string element is stored in a new attribute $\\texttt{coordinate}\\_\\texttt{N}$."
   ]
  },
  {
   "cell_type": "code",
   "execution_count": 42,
   "metadata": {},
   "outputs": [
    {
     "data": {
      "text/plain": [
       "126754    n0464040\n",
       "111179    n0582400\n",
       "146886    n0433700\n",
       "31077     n0472156\n",
       "114722    n0472148\n",
       "76582     n0493500\n",
       "126878    n0465348\n",
       "28414     n0493600\n",
       "56835     n0464811\n",
       "114820    n0464709\n",
       "114793    n0465340\n",
       "106141    n0325300\n",
       "114790    n0465337\n",
       "87372     n0491600\n",
       "54208     n0470702\n",
       "126582    n0475200\n",
       "87935     n0555000\n",
       "114291    n0471558\n",
       "146672    n0465956\n",
       "35950     n0462000\n",
       "Name: coordinate_N, dtype: object"
      ]
     },
     "execution_count": 42,
     "metadata": {},
     "output_type": "execute_result"
    }
   ],
   "source": [
    "df.coordinate_N[df.coordinate_N.apply(lambda x : x!='')].sample(n=20)"
   ]
  },
  {
   "cell_type": "code",
   "execution_count": 43,
   "metadata": {},
   "outputs": [
    {
     "name": "stdout",
     "output_type": "stream",
     "text": [
      "East / west coordinates?  [nan 'e' 'w']\n",
      "North / south coordinates?  [nan 'n' 's']\n"
     ]
    }
   ],
   "source": [
    "print('East / west coordinates? ', df.coordinate_E.str[0].unique())\n",
    "print('North / south coordinates? ', df.coordinate_N.str[0].unique())"
   ]
  },
  {
   "cell_type": "markdown",
   "metadata": {},
   "source": [
    "Both new attributes are used for further processing, while the original attribute $\\texttt{coordinate}$ is dropped."
   ]
  },
  {
   "cell_type": "code",
   "execution_count": 44,
   "metadata": {},
   "outputs": [],
   "source": [
    "columns_metadata_dict['data_analysis_columns'].append('coordinate_E')\n",
    "columns_metadata_dict['data_analysis_columns'].append('coordinate_N')"
   ]
  },
  {
   "cell_type": "markdown",
   "metadata": {},
   "source": [
    "### corporate"
   ]
  },
  {
   "cell_type": "code",
   "execution_count": 45,
   "metadata": {},
   "outputs": [],
   "source": [
    "columns_metadata_dict['strings_columns'].append('corporate')"
   ]
  },
  {
   "cell_type": "markdown",
   "metadata": {},
   "source": [
    "Attribute $\\texttt{corporate}$ is a collection of corporate names of the bibliographic unit, see [[FeatWiki](./A_References.ipynb/#feature_deduplication_wiki)]. The attribute out of the raw data comes along as a dictionary column in the DataFrame with three different key value pairs. For the analysis in this subsection, attribute $\\texttt{corporate}$ will be split into a separate attribute for each key of the dictionary using a special function $\\texttt{.transform}\\_\\texttt{dictionary}\\_\\texttt{to}\\_\\texttt{list}()$. The values then come along as lists and the implemented function $\\texttt{.transform}\\_\\texttt{list}\\_\\texttt{to}\\_\\texttt{string}()$ will be used to process its elements into one single string of the new column."
   ]
  },
  {
   "cell_type": "code",
   "execution_count": 46,
   "metadata": {},
   "outputs": [
    {
     "data": {
      "text/plain": [
       "24267                     {'110': [], '710': [], '810': []}\n",
       "149953    {'110': [], '710': ['Croatian Olympic Committe...\n",
       "104431                    {'110': [], '710': [], '810': []}\n",
       "1504                      {'110': [], '710': [], '810': []}\n",
       "33216                     {'110': [], '710': [], '810': []}\n",
       "66299                     {'110': [], '710': [], '810': []}\n",
       "181184                    {'110': [], '710': [], '810': []}\n",
       "177215       {'110': [], '710': ['Essl Museum'], '810': []}\n",
       "54740                     {'110': [], '710': [], '810': []}\n",
       "136969                    {'110': [], '710': [], '810': []}\n",
       "40709                     {'110': [], '710': [], '810': []}\n",
       "55272                     {'110': [], '710': [], '810': []}\n",
       "87346                     {'110': [], '710': [], '810': []}\n",
       "105724                    {'110': [], '710': [], '810': []}\n",
       "80988                     {'110': [], '710': [], '810': []}\n",
       "106998                    {'110': [], '710': [], '810': []}\n",
       "151439    {'110': ['International Olympic Committee'], '...\n",
       "130462                    {'110': [], '710': [], '810': []}\n",
       "155957    {'110': ['Olympic Winter Games. Organizing Com...\n",
       "112671                    {'110': [], '710': [], '810': []}\n",
       "Name: corporate, dtype: object"
      ]
     },
     "execution_count": 46,
     "metadata": {},
     "output_type": "execute_result"
    }
   ],
   "source": [
    "df.corporate.sample(n=20)"
   ]
  },
  {
   "cell_type": "code",
   "execution_count": 47,
   "metadata": {},
   "outputs": [
    {
     "name": "stdout",
     "output_type": "stream",
     "text": [
      "Number of records with filled corporate_110 11370, with missing corporate_110 172037 => 6.2%\n",
      "Number of records with filled corporate_710 23123, with missing corporate_710 160284 => 12.6%\n",
      "Number of records with filled corporate_810 57, with missing corporate_810 183350 => 0.0%\n"
     ]
    }
   ],
   "source": [
    "for ending in ['110', '710', '810']:\n",
    "    df = dpf.transform_dictionary_to_list(df, 'corporate', ending)\n",
    "    df = dpf.transform_list_to_string(df, 'corporate_'+ending)\n",
    "\n",
    "    columns_metadata_dict['strings_columns'].append('corporate_'+ending)\n",
    "    daf.find_empty_in_column(df, columns_metadata_dict, 'corporate_'+ending)"
   ]
  },
  {
   "cell_type": "markdown",
   "metadata": {},
   "source": [
    "The attribute is sparsely filled. This is due to the fact that most of Swissbib's bibliographic units are units produced by persons, not corporates."
   ]
  },
  {
   "cell_type": "code",
   "execution_count": 48,
   "metadata": {},
   "outputs": [
    {
     "data": {
      "text/plain": [
       "corporate_110    11349\n",
       "corporate_710    11349\n",
       "dtype: int64"
      ]
     },
     "execution_count": 48,
     "metadata": {},
     "output_type": "execute_result"
    }
   ],
   "source": [
    "df[['corporate_110', 'corporate_710']][\n",
    "    (df.corporate_110!=df.corporate_710) &\n",
    "    (df.corporate_110.apply(lambda x : len(x))!=0)].count()"
   ]
  },
  {
   "cell_type": "code",
   "execution_count": 49,
   "metadata": {},
   "outputs": [
    {
     "data": {
      "text/plain": [
       "corporate_110    21\n",
       "corporate_710    21\n",
       "dtype: int64"
      ]
     },
     "execution_count": 49,
     "metadata": {},
     "output_type": "execute_result"
    }
   ],
   "source": [
    "df[['corporate_110', 'corporate_710']][\n",
    "    (df.corporate_110==df.corporate_710) &\n",
    "    (df.corporate_110.apply(lambda x : len(x))!=0)].count()"
   ]
  },
  {
   "cell_type": "code",
   "execution_count": 50,
   "metadata": {},
   "outputs": [
    {
     "data": {
      "text/html": [
       "<div>\n",
       "<style scoped>\n",
       "    .dataframe tbody tr th:only-of-type {\n",
       "        vertical-align: middle;\n",
       "    }\n",
       "\n",
       "    .dataframe tbody tr th {\n",
       "        vertical-align: top;\n",
       "    }\n",
       "\n",
       "    .dataframe thead th {\n",
       "        text-align: right;\n",
       "    }\n",
       "</style>\n",
       "<table border=\"1\" class=\"dataframe\">\n",
       "  <thead>\n",
       "    <tr style=\"text-align: right;\">\n",
       "      <th></th>\n",
       "      <th>corporate_110</th>\n",
       "      <th>corporate_710</th>\n",
       "    </tr>\n",
       "  </thead>\n",
       "  <tbody>\n",
       "    <tr>\n",
       "      <th>10383</th>\n",
       "      <td>verein deutscher bibliothekareregionalverband ...</td>\n",
       "      <td>verein deutscher bibliothekareregionalverband ...</td>\n",
       "    </tr>\n",
       "    <tr>\n",
       "      <th>14064</th>\n",
       "      <td>slavs and tatars</td>\n",
       "      <td>kunsthalle im lipsiusbau, kunstverein hannover</td>\n",
       "    </tr>\n",
       "    <tr>\n",
       "      <th>14918</th>\n",
       "      <td>heilsarmeenationales hauptquartier bern</td>\n",
       "      <td>salvation armynationales hauptquartier</td>\n",
       "    </tr>\n",
       "    <tr>\n",
       "      <th>15687</th>\n",
       "      <td>berner alpenbahn-gesellschaft bern-lötschberg-...</td>\n",
       "      <td>lötschbergbahn</td>\n",
       "    </tr>\n",
       "    <tr>\n",
       "      <th>16185</th>\n",
       "      <td>jordan schnitzer family foundation</td>\n",
       "      <td>hallie ford museum of art</td>\n",
       "    </tr>\n",
       "  </tbody>\n",
       "</table>\n",
       "</div>"
      ],
      "text/plain": [
       "                                           corporate_110  \\\n",
       "10383  verein deutscher bibliothekareregionalverband ...   \n",
       "14064                                   slavs and tatars   \n",
       "14918            heilsarmeenationales hauptquartier bern   \n",
       "15687  berner alpenbahn-gesellschaft bern-lötschberg-...   \n",
       "16185                 jordan schnitzer family foundation   \n",
       "\n",
       "                                           corporate_710  \n",
       "10383  verein deutscher bibliothekareregionalverband ...  \n",
       "14064     kunsthalle im lipsiusbau, kunstverein hannover  \n",
       "14918             salvation armynationales hauptquartier  \n",
       "15687                                     lötschbergbahn  \n",
       "16185                          hallie ford museum of art  "
      ]
     },
     "execution_count": 50,
     "metadata": {},
     "output_type": "execute_result"
    }
   ],
   "source": [
    "df[['corporate_110', 'corporate_710']][\n",
    "    (df.corporate_110!=df.corporate_710) &\n",
    "    (df.corporate_110.apply(lambda x : len(x))!=0) &\n",
    "    (df.corporate_710.apply(lambda x : len(x))!=0)\n",
    "].head()"
   ]
  },
  {
   "cell_type": "markdown",
   "metadata": {},
   "source": [
    "The attribute holds different data in its dictionary key 110 compared to its dictionary key 710. Both key values of $\\texttt{corporate}$ seem to be relevant for the model. Some examples are shown below."
   ]
  },
  {
   "cell_type": "code",
   "execution_count": 51,
   "metadata": {},
   "outputs": [
    {
     "data": {
      "text/plain": [
       "149929    summer olympic games. organizing committee. 27...\n",
       "122020                          centre de santé la corbière\n",
       "158998    national olympic committee of the republic of ...\n",
       "149452    jeux asiatiques en salle. comité d'organisatio...\n",
       "164909    international olympic committee. coordination ...\n",
       "165701          olympic invitation committee of minneapolis\n",
       "160036             société de la candidature vancouver 2010\n",
       "18821                                   medartis holding ag\n",
       "167920    olympic winter games. organizing committee. 23...\n",
       "161372    olympic winter games. organizing committee. 18...\n",
       "168424    olympic winter games. organizing committee. 3,...\n",
       "156609    olympic winter games. organizing committee. 15...\n",
       "82406                                                fevers\n",
       "164916    summer olympic games. organizing committee. 26...\n",
       "155811                     association olympique canadienne\n",
       "151213         international olympic games. 2, athēna, 1906\n",
       "162822    olympic winter games. organizing committee. 15...\n",
       "155008    olympic winter games. organizing committee. 19...\n",
       "149909                      international olympic committee\n",
       "150503    olympic winter games. organizing committee. 13...\n",
       "Name: corporate_110, dtype: object"
      ]
     },
     "execution_count": 51,
     "metadata": {},
     "output_type": "execute_result"
    }
   ],
   "source": [
    "df.corporate_110[df.corporate_110.apply(lambda x : len(x))!=0].sample(n=20)"
   ]
  },
  {
   "cell_type": "code",
   "execution_count": 52,
   "metadata": {},
   "outputs": [
    {
     "data": {
      "text/plain": [
       "125469    manoir de la ville de martigny, galerie zur sc...\n",
       "150281                              norges olympiske komité\n",
       "116739    luganoinscena (lugano), lac lugano arte e cult...\n",
       "75009     schweizerischer centralverein vom roten kreuzz...\n",
       "130272                               université de lausanne\n",
       "135903      gesellschaft für schweizerische kunstgeschichte\n",
       "9523                                  hespèrion xxi (basel)\n",
       "20242                                          kirschgarten\n",
       "153215             youth development through football (ydf)\n",
       "130848    friche la belle de mai (marseille, france), gu...\n",
       "75947                         bananafish gallery (shanghai)\n",
       "53083     national science foundationconference board of...\n",
       "82421            katholischer kirchenbauverein (st. gallen)\n",
       "92638                                    panochovo kvarteto\n",
       "42078                                          ebrary, inc.\n",
       "103744                           altonaer museum in hamburg\n",
       "150500    conférence des ministres européens responsable...\n",
       "129386                                           light work\n",
       "142464                                     the hanover band\n",
       "3075                                 windsbacher knabenchor\n",
       "Name: corporate_710, dtype: object"
      ]
     },
     "execution_count": 52,
     "metadata": {},
     "output_type": "execute_result"
    }
   ],
   "source": [
    "df.corporate_710[df.corporate_710.apply(lambda x : len(x))!=0].sample(n=20)"
   ]
  },
  {
   "cell_type": "code",
   "execution_count": 53,
   "metadata": {},
   "outputs": [
    {
     "data": {
      "text/plain": [
       "106179                              hallwag kümmerly + frey\n",
       "25374                 schweizbundesamt für landestopografie\n",
       "94673                                             hécatombe\n",
       "94679                                             hécatombe\n",
       "133706    carnegie endowment for international peace.div...\n",
       "72548                                         werbung kiser\n",
       "72556                                         werbung kiser\n",
       "138344                schweizbundesamt für landestopografie\n",
       "110597                              hallwag kümmerly + frey\n",
       "25428                 schweizbundesamt für landestopografie\n",
       "106150                              hallwag kümmerly + frey\n",
       "106184                              hallwag kümmerly + frey\n",
       "106199                              hallwag kümmerly + frey\n",
       "30888                 schweizbundesamt für landestopografie\n",
       "61902                               hallwag kümmerly + frey\n",
       "72562                                         werbung kiser\n",
       "110572                              hallwag kümmerly + frey\n",
       "15102                 schweizbundesamt für landestopografie\n",
       "106189                              hallwag kümmerly + frey\n",
       "110589                              hallwag kümmerly + frey\n",
       "Name: corporate_810, dtype: object"
      ]
     },
     "execution_count": 53,
     "metadata": {},
     "output_type": "execute_result"
    }
   ],
   "source": [
    "df.corporate_810[df.corporate_810.apply(lambda x : len(x))!=0].sample(n=20)"
   ]
  },
  {
   "cell_type": "code",
   "execution_count": 54,
   "metadata": {},
   "outputs": [
    {
     "data": {
      "text/plain": [
       "45080     {'110': [], '710': [], '810': ['Wirtschaftsuni...\n",
       "47145     {'110': ['Biochemical Society (Great Britain)S...\n",
       "52134     {'110': [], '710': ['Kunsthandlung Helmut H. R...\n",
       "94673     {'110': [], '710': ['Ensemble Batida', 'Hécato...\n",
       "94674     {'110': [], '710': ['Ensemble Batida', 'Hécato...\n",
       "94678     {'110': [], '710': ['Ensemble Batida', 'Hécato...\n",
       "94679     {'110': [], '710': ['Ensemble Batida', 'Hécato...\n",
       "94680     {'110': [], '710': ['Ensemble Batida', 'Hécato...\n",
       "113869    {'110': [], '710': [], '810': ['Peter-Ochs-Ges...\n",
       "113870    {'110': [], '710': [], '810': ['Peter-Ochs-Ges...\n",
       "133706    {'110': ['Carnegie Endowment for International...\n",
       "133739    {'110': [], '710': [], '810': ['DeutschlandVer...\n",
       "143892    {'110': ['Judge Advocate General's School (Uni...\n",
       "Name: corporate, dtype: object"
      ]
     },
     "execution_count": 54,
     "metadata": {},
     "output_type": "execute_result"
    }
   ],
   "source": [
    "df.corporate[(df.corporate_110 != df.corporate_810) &\n",
    "             (df.corporate_810.apply(lambda x : len(x))!=0)]"
   ]
  },
  {
   "cell_type": "markdown",
   "metadata": {},
   "source": [
    "Only a few records hold data in attribute $\\texttt{corporate}$ with key 810. Furthermore, attribute $\\texttt{corporate}$ at key 810 stores strongly redundant data to $\\texttt{corporate}$ at key value 110. Therefore, attribute $\\texttt{corporate}$ with key 810 will be dropped [[WiCo2001](./A_References.ipynb#wico2001)]."
   ]
  },
  {
   "cell_type": "markdown",
   "metadata": {},
   "source": [
    "The contents of attribute $\\texttt{corporate}$ results from varying interpretation and filling. Some institutions have used key 110 and others 710 as their leading corporate data field. Swissbib's recommendation is to concatenate the two remaining $\\texttt{corporate}$ fields into one single $\\texttt{corporate}$ field [[WiCo2001](./A_References.ipynb#wico2001)]. The two remaining attributes will be taken into one and will be processed to the feature matrix as one single attribute. This will be implemented in a separate function $\\texttt{.concatenate}\\_\\texttt{corporate}\\_\\texttt{keys}()$, the result of which is shown below for some sample cases."
   ]
  },
  {
   "cell_type": "code",
   "execution_count": 55,
   "metadata": {},
   "outputs": [
    {
     "data": {
      "text/html": [
       "<div>\n",
       "<style scoped>\n",
       "    .dataframe tbody tr th:only-of-type {\n",
       "        vertical-align: middle;\n",
       "    }\n",
       "\n",
       "    .dataframe tbody tr th {\n",
       "        vertical-align: top;\n",
       "    }\n",
       "\n",
       "    .dataframe thead th {\n",
       "        text-align: right;\n",
       "    }\n",
       "</style>\n",
       "<table border=\"1\" class=\"dataframe\">\n",
       "  <thead>\n",
       "    <tr style=\"text-align: right;\">\n",
       "      <th></th>\n",
       "      <th>corporate_full</th>\n",
       "      <th>corporate_110</th>\n",
       "      <th>corporate_710</th>\n",
       "    </tr>\n",
       "  </thead>\n",
       "  <tbody>\n",
       "    <tr>\n",
       "      <th>0</th>\n",
       "      <td></td>\n",
       "      <td></td>\n",
       "      <td></td>\n",
       "    </tr>\n",
       "    <tr>\n",
       "      <th>6</th>\n",
       "      <td>christkatholische kirchgemeinde (bern)</td>\n",
       "      <td></td>\n",
       "      <td>christkatholische kirchgemeinde (bern)</td>\n",
       "    </tr>\n",
       "    <tr>\n",
       "      <th>1852</th>\n",
       "      <td>the keywords project</td>\n",
       "      <td>the keywords project</td>\n",
       "      <td></td>\n",
       "    </tr>\n",
       "    <tr>\n",
       "      <th>14405</th>\n",
       "      <td>zéphyr combo</td>\n",
       "      <td>zéphyr combo</td>\n",
       "      <td>zéphyr combo</td>\n",
       "    </tr>\n",
       "    <tr>\n",
       "      <th>183000</th>\n",
       "      <td>fbm communications (zürich) theater 11 (zürich)</td>\n",
       "      <td>fbm communications (zürich)</td>\n",
       "      <td>theater 11 (zürich)</td>\n",
       "    </tr>\n",
       "    <tr>\n",
       "      <th>183009</th>\n",
       "      <td>spinas civil voices (zürich) fairmed (bern)</td>\n",
       "      <td>spinas civil voices (zürich)</td>\n",
       "      <td>fairmed (bern)</td>\n",
       "    </tr>\n",
       "  </tbody>\n",
       "</table>\n",
       "</div>"
      ],
      "text/plain": [
       "                                         corporate_full  \\\n",
       "0                                                         \n",
       "6                christkatholische kirchgemeinde (bern)   \n",
       "1852                               the keywords project   \n",
       "14405                                      zéphyr combo   \n",
       "183000  fbm communications (zürich) theater 11 (zürich)   \n",
       "183009      spinas civil voices (zürich) fairmed (bern)   \n",
       "\n",
       "                       corporate_110                           corporate_710  \n",
       "0                                                                             \n",
       "6                                     christkatholische kirchgemeinde (bern)  \n",
       "1852            the keywords project                                          \n",
       "14405                   zéphyr combo                            zéphyr combo  \n",
       "183000   fbm communications (zürich)                     theater 11 (zürich)  \n",
       "183009  spinas civil voices (zürich)                          fairmed (bern)  "
      ]
     },
     "execution_count": 55,
     "metadata": {},
     "output_type": "execute_result"
    }
   ],
   "source": [
    "df = dpf.concatenate_corporate_keys(df)\n",
    "df[['corporate_full', 'corporate_110', 'corporate_710']].loc[[0, 6, 1852, 14405, 183000, 183009]]"
   ]
  },
  {
   "cell_type": "code",
   "execution_count": 56,
   "metadata": {},
   "outputs": [
    {
     "data": {
      "text/plain": [
       "0"
      ]
     },
     "execution_count": 56,
     "metadata": {},
     "output_type": "execute_result"
    }
   ],
   "source": [
    "len(df['corporate_full'].loc[0])"
   ]
  },
  {
   "cell_type": "code",
   "execution_count": 57,
   "metadata": {},
   "outputs": [
    {
     "data": {
      "text/plain": [
       "156704                      international olympic committee\n",
       "29626     basel-stadtgrosser ratumwelt-, verkehrs- und e...\n",
       "51316     england and walessovereign (1660-1685 : charle...\n",
       "166620             fédération internationale de volley-ball\n",
       "56848       olg murten freiburger orientierungslauf-verband\n",
       "160634    comité pour la candidature de pékin aux jeux o...\n",
       "156598    summer olympic games. organizing committee. 22...\n",
       "168821                      international olympic committee\n",
       "155604    panamerican sportive games. organizing committ...\n",
       "169758                          ceského olympijského výboru\n",
       "154475    summer olympic games. organizing committee. 30...\n",
       "152993         comité international des jeux méditerranéens\n",
       "150952    comité pour la candidature de pékin aux jeux o...\n",
       "51506     england and walessovereign (1660-1685 : charle...\n",
       "168359    olympic winter games. organizing committee . 2...\n",
       "32492                                     pro infirmis bern\n",
       "154902    olympic winter games. organizing committee . 2...\n",
       "160519    summer olympic games. organizing committee. 29...\n",
       "150503    olympic winter games. organizing committee. 13...\n",
       "167029    olympic winter games. organizing committee. 20...\n",
       "Name: corporate_full, dtype: object"
      ]
     },
     "metadata": {},
     "output_type": "display_data"
    },
    {
     "data": {
      "text/plain": [
       "153161    international olympic committee ims/studio 6 t...\n",
       "90132            osgoode society for canadian legal history\n",
       "129336                                           australien\n",
       "139444                  fellowship of postgraduate medicine\n",
       "139339               ecal/école cantonale d'art de lausanne\n",
       "170801    mediterranean games. organizing committee. 11,...\n",
       "78029                                                  oecd\n",
       "122476    geneva centre for the democratic control of ar...\n",
       "162011                                       omega (bienne)\n",
       "41273                                           mayo clinic\n",
       "44047                         union of concerned scientists\n",
       "22238                          berkeley linguistics society\n",
       "157161    clearing house (bruxelles) conseil de l'europe...\n",
       "161624    fédération internationale de médecine sportive...\n",
       "3893             english baroque soloists, monteverdi choir\n",
       "30688            daniel jenny & co., weberei und konfektion\n",
       "78896             bundesverband feuchte und altbausanierung\n",
       "13494                                           beatlefield\n",
       "114626                                                doors\n",
       "180123    national institute of mental health (u.s.)nati...\n",
       "Name: corporate_full, dtype: object"
      ]
     },
     "metadata": {},
     "output_type": "display_data"
    }
   ],
   "source": [
    "display(df.corporate_full[df.corporate_110.apply(lambda x : len(x))!=0].sample(n=20))\n",
    "display(df.corporate_full[df.corporate_710.apply(lambda x : len(x))!=0].sample(n=20))"
   ]
  },
  {
   "cell_type": "code",
   "execution_count": 58,
   "metadata": {},
   "outputs": [],
   "source": [
    "columns_metadata_dict['data_analysis_columns'].append('corporate_full')"
   ]
  },
  {
   "cell_type": "markdown",
   "metadata": {},
   "source": [
    "### decade"
   ]
  },
  {
   "cell_type": "code",
   "execution_count": 59,
   "metadata": {},
   "outputs": [],
   "source": [
    "columns_metadata_dict['strings_columns'].append('decade')"
   ]
  },
  {
   "cell_type": "markdown",
   "metadata": {},
   "source": [
    "Attribute $\\texttt{decade}$ holds identical data to attribute $\\texttt{century}$, out of Swissbib's data extract [[SwRe](./A_References.ipynb#swre)], see code cell below and its identical MARC 21 definition [[FeatWiki](./A_References.ipynb#feature_deduplication_wiki)]. The purpose of the field in Swissbib's conventional deduplication implementation is to hold the decade of the year of origin of a bibliographic unit and store it for comparison [[WiCo2001](./A_References.ipynb#wico2001)]."
   ]
  },
  {
   "cell_type": "code",
   "execution_count": 60,
   "metadata": {},
   "outputs": [
    {
     "data": {
      "text/html": [
       "<div>\n",
       "<style scoped>\n",
       "    .dataframe tbody tr th:only-of-type {\n",
       "        vertical-align: middle;\n",
       "    }\n",
       "\n",
       "    .dataframe tbody tr th {\n",
       "        vertical-align: top;\n",
       "    }\n",
       "\n",
       "    .dataframe thead th {\n",
       "        text-align: right;\n",
       "    }\n",
       "</style>\n",
       "<table border=\"1\" class=\"dataframe\">\n",
       "  <thead>\n",
       "    <tr style=\"text-align: right;\">\n",
       "      <th></th>\n",
       "      <th>docid</th>\n",
       "      <th>035liste</th>\n",
       "      <th>isbn</th>\n",
       "      <th>ttlfull</th>\n",
       "      <th>ttlpart</th>\n",
       "      <th>person</th>\n",
       "      <th>corporate</th>\n",
       "      <th>pubyear</th>\n",
       "      <th>decade</th>\n",
       "      <th>century</th>\n",
       "      <th>exactDate</th>\n",
       "      <th>...</th>\n",
       "      <th>coordinate</th>\n",
       "      <th>doi</th>\n",
       "      <th>ismn</th>\n",
       "      <th>musicid</th>\n",
       "      <th>format</th>\n",
       "      <th>coordinate_E</th>\n",
       "      <th>coordinate_N</th>\n",
       "      <th>corporate_110</th>\n",
       "      <th>corporate_710</th>\n",
       "      <th>corporate_810</th>\n",
       "      <th>corporate_full</th>\n",
       "    </tr>\n",
       "  </thead>\n",
       "  <tbody>\n",
       "  </tbody>\n",
       "</table>\n",
       "<p>0 rows × 29 columns</p>\n",
       "</div>"
      ],
      "text/plain": [
       "Empty DataFrame\n",
       "Columns: [docid, 035liste, isbn, ttlfull, ttlpart, person, corporate, pubyear, decade, century, exactDate, edition, part, pages, volumes, pubinit, pubword, scale, coordinate, doi, ismn, musicid, format, coordinate_E, coordinate_N, corporate_110, corporate_710, corporate_810, corporate_full]\n",
       "Index: []\n",
       "\n",
       "[0 rows x 29 columns]"
      ]
     },
     "execution_count": 60,
     "metadata": {},
     "output_type": "execute_result"
    }
   ],
   "source": [
    "df[df.decade != df.century]"
   ]
  },
  {
   "cell_type": "markdown",
   "metadata": {},
   "source": [
    "Chapter [Feature Matrix Generation](./4_FeatureMatrixGeneration.ipynb) will apply a similarity metric for $\\texttt{exactDate}$ with an extension of the data of this attribute. Therefore, attribute $\\texttt{decade}$ will be dropped for further processing."
   ]
  },
  {
   "cell_type": "markdown",
   "metadata": {},
   "source": [
    "### docid"
   ]
  },
  {
   "cell_type": "code",
   "execution_count": 61,
   "metadata": {},
   "outputs": [],
   "source": [
    "columns_metadata_dict['strings_columns'].append('docid')"
   ]
  },
  {
   "cell_type": "code",
   "execution_count": 62,
   "metadata": {},
   "outputs": [
    {
     "name": "stdout",
     "output_type": "stream",
     "text": [
      "Number of records with filled docid 183407, with missing docid 0 => 100.0%\n"
     ]
    }
   ],
   "source": [
    "daf.find_empty_in_column(df, columns_metadata_dict, 'docid')"
   ]
  },
  {
   "cell_type": "code",
   "execution_count": 63,
   "metadata": {},
   "outputs": [
    {
     "data": {
      "text/plain": [
       "'554061449'"
      ]
     },
     "execution_count": 63,
     "metadata": {},
     "output_type": "execute_result"
    }
   ],
   "source": [
    "df.docid[0]"
   ]
  },
  {
   "cell_type": "markdown",
   "metadata": {},
   "source": [
    "The $\\texttt{docid}$ is a unique identifier for a record of the data set. The attribute will become important for identifying master records for their associated slave records, see chapter [Goldstandard and Data Preparation](./2_GoldstandardDataPreparation.ipynb). It will not be used directly for the training of the model."
   ]
  },
  {
   "cell_type": "markdown",
   "metadata": {},
   "source": [
    "### doi"
   ]
  },
  {
   "cell_type": "code",
   "execution_count": 64,
   "metadata": {},
   "outputs": [],
   "source": [
    "columns_metadata_dict['list_columns'].append('doi')"
   ]
  },
  {
   "cell_type": "code",
   "execution_count": 65,
   "metadata": {},
   "outputs": [
    {
     "name": "stdout",
     "output_type": "stream",
     "text": [
      "Number of records with filled doi 9553, with missing doi 173854 => 5.2%\n"
     ]
    }
   ],
   "source": [
    "daf.find_empty_in_column(df, columns_metadata_dict, 'doi')"
   ]
  },
  {
   "cell_type": "markdown",
   "metadata": {},
   "source": [
    "Attribute $\\texttt{doi}$ is a digital object identifier. As specified in [[MARC](./A_References.ipynb#marc21)], the field holds several standard numbers [[FeatWiki](./A_References.ipynb#feature_deduplication_wiki)]. The attribute holds a list of string elements. Some samples are shown below."
   ]
  },
  {
   "cell_type": "code",
   "execution_count": 66,
   "metadata": {},
   "outputs": [
    {
     "data": {
      "text/plain": [
       "1899         [10.5451/unibas-007052902]\n",
       "1937         [10.5451/unibas-007052953]\n",
       "4710           [10.14361/9783839445334]\n",
       "10480        [10.5451/unibas-007052913]\n",
       "11917       [10.1007/978-1-4939-6572-4]\n",
       "15775    [10.5771/1439-880X-2018-3-362]\n",
       "16124            [10.3931/e-rara-74297]\n",
       "16194           [10.4324/9781138604391]\n",
       "16212            [10.3931/e-rara-74297]\n",
       "16219            [10.3931/e-rara-74297]\n",
       "16222            [10.3931/e-rara-74297]\n",
       "16244            [10.3931/e-rara-74297]\n",
       "16245            [10.3931/e-rara-74297]\n",
       "16256            [10.3931/e-rara-74297]\n",
       "16265           [10.4324/9781315562193]\n",
       "16301           [10.4324/9781315692845]\n",
       "16354            [10.3931/e-rara-74439]\n",
       "16356                  [10.3726/b14897]\n",
       "16447           [10.4324/9781315150918]\n",
       "16637          [10.1186/1478-4505-8-31]\n",
       "Name: doi, dtype: object"
      ]
     },
     "execution_count": 66,
     "metadata": {},
     "output_type": "execute_result"
    }
   ],
   "source": [
    "df.doi[df.doi.apply(lambda x : len(x))>0].head(20)"
   ]
  },
  {
   "cell_type": "code",
   "execution_count": 67,
   "metadata": {},
   "outputs": [
    {
     "data": {
      "text/plain": [
       "103029    [10.5167/uzh-168756, 10.1038/s41559-019-0817-2]\n",
       "96791                              [10.5169/seals-789837]\n",
       "61230                                [10.5167/uzh-165825]\n",
       "46076                         [10.1007/978-3-319-93127-2]\n",
       "34326                                [10.5167/uzh-129850]\n",
       "58360            [10.5167/uzh-161334, 10.3390/rs10101593]\n",
       "44632                         [10.1007/978-3-319-99238-9]\n",
       "97383                              [10.5169/seals-790713]\n",
       "96813                              [10.5169/seals-789859]\n",
       "96745                              [10.5169/seals-789969]\n",
       "17481                [10.1016/b978-0-323-48420-6.00082-x]\n",
       "53533                                [10.5167/uzh-165421]\n",
       "93028                              [10.3931/e-rara-75592]\n",
       "97803                      [10.1016/j.cortex.2018.10.020]\n",
       "19494                              [10.3931/e-rara-75955]\n",
       "74168         [10.1093/acprof:oso/9780190277154.003.0016]\n",
       "88605                             [10.7591/9781501718649]\n",
       "148686                        [10.1007/978-1-4614-1296-0]\n",
       "92912                              [10.3931/e-rara-75350]\n",
       "125902                    [10.1016/j.jpubeco.2016.09.008]\n",
       "Name: doi, dtype: object"
      ]
     },
     "execution_count": 67,
     "metadata": {},
     "output_type": "execute_result"
    }
   ],
   "source": [
    "df.doi[df.doi.apply(lambda x : len(x))>0].sample(n=20)"
   ]
  },
  {
   "cell_type": "code",
   "execution_count": 68,
   "metadata": {},
   "outputs": [
    {
     "data": {
      "text/plain": [
       "docid                                                     554871254\n",
       "035liste          [(VAUD)991021210193902852, (CKB)41000000059582...\n",
       "isbn                                                [3-319-93133-4]\n",
       "ttlfull           {'245': ['IAEG/AEG Annual Meeting Proceedings,...\n",
       "ttlpart           {'245': ['IAEG/AEG Annual Meeting Proceedings,...\n",
       "person            {'100': [], '700': ['ShakoorAbdul', 'CatoKerry...\n",
       "corporate                         {'110': [], '710': [], '810': []}\n",
       "pubyear                                                    2019    \n",
       "decade                                                         2019\n",
       "century                                                        2019\n",
       "exactDate                                                  2019    \n",
       "edition                                               1st ed. 2019.\n",
       "part                                                             []\n",
       "pages                               [1 online resource (122 pages)]\n",
       "volumes                             [1 online resource (122 pages)]\n",
       "pubinit                                                          []\n",
       "pubword                                                          []\n",
       "scale                                                              \n",
       "coordinate                                                       []\n",
       "doi                                     [10.1007/978-3-319-93133-3]\n",
       "ismn                                                             []\n",
       "musicid                                                            \n",
       "format                                                   [BK020053]\n",
       "coordinate_E                                                       \n",
       "coordinate_N                                                       \n",
       "corporate_110                                                      \n",
       "corporate_710                                                      \n",
       "corporate_810                                                      \n",
       "corporate_full                                                     \n",
       "Name: 51889, dtype: object"
      ]
     },
     "execution_count": 68,
     "metadata": {},
     "output_type": "execute_result"
    }
   ],
   "source": [
    "df.loc[51889]"
   ]
  },
  {
   "cell_type": "code",
   "execution_count": 69,
   "metadata": {},
   "outputs": [
    {
     "name": "stdout",
     "output_type": "stream",
     "text": [
      "9,553 records hold 1 list element(s).\n",
      "2,232 records hold 2 list element(s).\n",
      "=> Maximum number of list elements 2\n"
     ]
    }
   ],
   "source": [
    "i = 0\n",
    "while len(df.doi[df.doi.apply(lambda x : len(x))>i]) > 0 :\n",
    "    i = i+1\n",
    "    print('{:,d} records hold {:d} list element(s).'.format(len(df.doi[df.doi.apply(lambda x : len(x))>=i]), i))\n",
    "        \n",
    "print('=> Maximum number of list elements', max(df.doi.apply(lambda x : len(x))))"
   ]
  },
  {
   "cell_type": "markdown",
   "metadata": {},
   "source": [
    "Swissbib's deduplication implementation compares only real doi identifiers [[WiCo2001](./A_References.ipynb#wico2001)]. Real doi identifiers can be found with the help of a subfield that is missing in Swissbib's data extract [[SwRe](./A_References.ipynb#swre)]. Alternatively, a doi can be identified as a string starting with '10.'. Furthermore, each row in the data has a maximum of 1 real doi identifier [[WiCo2001](./A_References.ipynb#wico2001)]. This logic will be used to isolate the real doi from all non-doi identifiers in a row. A function $\\texttt{.reduce}\\_\\texttt{to}\\_\\texttt{doi}\\_\\texttt{element}()$ has been implemented that takes care of this isolation and stores only real doi identifiers in attribute $\\texttt{doi}$."
   ]
  },
  {
   "cell_type": "code",
   "execution_count": 70,
   "metadata": {},
   "outputs": [
    {
     "data": {
      "text/plain": [
       "46803          10.1524/9783486593525\n",
       "97518           10.5169/seals-790931\n",
       "104727            10.5167/uzh-162911\n",
       "90523        10.1021/acs.est.5b00742\n",
       "96407           10.5169/seals-790203\n",
       "30402             10.5167/uzh-162058\n",
       "84899       10.3929/ethz-b-000322318\n",
       "58549          10.4337/9781788111324\n",
       "97193           10.5169/seals-790617\n",
       "35143       10.3929/ethz-b-000318803\n",
       "98206             10.5167/uzh-168647\n",
       "97146           10.5169/seals-790870\n",
       "102956            10.5167/uzh-160138\n",
       "172631            10.5167/uzh-168344\n",
       "16644     10.1038/s41598-018-28999-2\n",
       "96917           10.5169/seals-789936\n",
       "97072           10.5169/seals-790554\n",
       "53142           10.5169/seals-789612\n",
       "49851             10.5167/uzh-162768\n",
       "89442          10.7591/9781501724015\n",
       "Name: doi, dtype: object"
      ]
     },
     "execution_count": 70,
     "metadata": {},
     "output_type": "execute_result"
    }
   ],
   "source": [
    "df = dpf.reduce_to_attrib_element(df, 'doi')\n",
    "\n",
    "df.doi[df.doi.apply(lambda x : len(x)>0)].sample(n=20)"
   ]
  },
  {
   "cell_type": "code",
   "execution_count": 71,
   "metadata": {},
   "outputs": [],
   "source": [
    "columns_metadata_dict['data_analysis_columns'].append('doi')"
   ]
  },
  {
   "cell_type": "markdown",
   "metadata": {},
   "source": [
    "### edition"
   ]
  },
  {
   "cell_type": "code",
   "execution_count": 72,
   "metadata": {},
   "outputs": [],
   "source": [
    "columns_metadata_dict['strings_columns'].append('edition')"
   ]
  },
  {
   "cell_type": "code",
   "execution_count": 73,
   "metadata": {},
   "outputs": [
    {
     "name": "stdout",
     "output_type": "stream",
     "text": [
      "Number of records with filled edition 25352, with missing edition 158055 => 13.8%\n"
     ]
    }
   ],
   "source": [
    "daf.find_empty_in_column(df, columns_metadata_dict, 'edition')"
   ]
  },
  {
   "cell_type": "markdown",
   "metadata": {},
   "source": [
    "Attribute $\\texttt{edition}$ holds the edition statement [[FeatWiki](./A_References.ipynb/#feature_deduplication_wiki)]. The data type of the attribute is a string value."
   ]
  },
  {
   "cell_type": "code",
   "execution_count": 74,
   "metadata": {},
   "outputs": [
    {
     "data": {
      "text/plain": [
       "16951                         2. Auflage\n",
       "57599                          [Réimpr.]\n",
       "66967                             4e éd.\n",
       "32275      2a ed. accresciuta e corretta\n",
       "128157     Ausgabe Ebnat-Kappel, Nesslau\n",
       "132175                        1. Auflage\n",
       "59919                         5. Auflage\n",
       "138699         4., aktualisierte Auflage\n",
       "16554                         1. Auflage\n",
       "15313                        Bearb. Fass\n",
       "31683                           Di 1 ban\n",
       "113780                        2. Auflage\n",
       "57895      Zweiter unveränderter Abdruck\n",
       "45390                            1a. ed.\n",
       "109702                            1st ed\n",
       "121425                            1st ed\n",
       "16389                        Privatdruck\n",
       "54698     First trade paperback printing\n",
       "130455     Ninth edition, global edition\n",
       "75247                           Di 1 ban\n",
       "Name: edition, dtype: object"
      ]
     },
     "execution_count": 74,
     "metadata": {},
     "output_type": "execute_result"
    }
   ],
   "source": [
    "edition_sample_index = df.edition[df.edition.apply(lambda x : len(x)>0)].sample(n=20).index\n",
    "df.edition.loc[edition_sample_index]"
   ]
  },
  {
   "cell_type": "markdown",
   "metadata": {},
   "source": [
    "Swissbib's deduplication logic normalizes this attribute strongly [[WiCo2001](./A_References.ipynb#wico2001)]. Goal of their normalization process is to treat different variants of the edition statements in the same way. The normalization comprises mainly extracting and isolating number digits out of the original string of the attribute. But also, they convert words expressing numbers to number digits. The first part of their normalization process, extracting number digits, will be done as well in this capstone project. For this purpose, a special function $\\texttt{.isolate}\\_\\texttt{number}\\_\\texttt{from}\\_\\texttt{string}()$ has been implemented for attribute $\\texttt{edition}$."
   ]
  },
  {
   "cell_type": "code",
   "execution_count": 75,
   "metadata": {},
   "outputs": [
    {
     "data": {
      "text/plain": [
       "16951     2\n",
       "57599      \n",
       "66967     4\n",
       "32275     2\n",
       "128157     \n",
       "132175    1\n",
       "59919     5\n",
       "138699    4\n",
       "16554     1\n",
       "15313      \n",
       "31683     1\n",
       "113780    2\n",
       "57895      \n",
       "45390     1\n",
       "109702    1\n",
       "121425    1\n",
       "16389      \n",
       "54698      \n",
       "130455     \n",
       "75247     1\n",
       "Name: edition, dtype: object"
      ]
     },
     "execution_count": 75,
     "metadata": {},
     "output_type": "execute_result"
    }
   ],
   "source": [
    "df = dpf.isolate_number_from_string(df, 'edition')\n",
    "df.edition.loc[edition_sample_index]"
   ]
  },
  {
   "cell_type": "code",
   "execution_count": 76,
   "metadata": {},
   "outputs": [
    {
     "name": "stdout",
     "output_type": "stream",
     "text": [
      "Number of records with filled edition 16390, with missing edition 167017 => 8.9%\n"
     ]
    }
   ],
   "source": [
    "daf.find_empty_in_column(df, columns_metadata_dict, 'edition')"
   ]
  },
  {
   "cell_type": "markdown",
   "metadata": {},
   "source": [
    "As a result of this processing of attribute $\\texttt{edition}$, the numer of filled rows has been reduced further."
   ]
  },
  {
   "cell_type": "code",
   "execution_count": 77,
   "metadata": {},
   "outputs": [],
   "source": [
    "columns_metadata_dict['data_analysis_columns'].append('edition')"
   ]
  },
  {
   "cell_type": "markdown",
   "metadata": {},
   "source": [
    "### exactDate"
   ]
  },
  {
   "cell_type": "code",
   "execution_count": 78,
   "metadata": {},
   "outputs": [],
   "source": [
    "columns_metadata_dict['strings_columns'].append('exactDate')"
   ]
  },
  {
   "cell_type": "markdown",
   "metadata": {},
   "source": [
    "Attribute $\\texttt{exactDate}$ holds the same values like attribute $\\texttt{pubyear}$, see below. In comparison with $\\texttt{century}$ and $\\texttt{decade}$, the full years of publication of a bibliographic unit are stored in the first four digits of the attribute [[FeatWiki](./A_References.ipynb#feature_deduplication_wiki)]. For bibliographic units that appear over a time period, the second four digits correspond to the last year of publication. In case of units that appear within one year, the second four digits may hold the copyright date or the original year of publication of a reprint may be stored, instead. For some bibliographic units, it is possible that the attribute holds month and day indication instead of a year in the last four digits [[WiCo2001](./A_References.ipynb#wico2001)]."
   ]
  },
  {
   "cell_type": "code",
   "execution_count": 79,
   "metadata": {},
   "outputs": [
    {
     "name": "stdout",
     "output_type": "stream",
     "text": [
      "Number of records with filled exactDate 183407, with missing exactDate 0 => 100.0%\n"
     ]
    }
   ],
   "source": [
    "daf.find_empty_in_column(df, columns_metadata_dict, 'exactDate')"
   ]
  },
  {
   "cell_type": "code",
   "execution_count": 80,
   "metadata": {},
   "outputs": [
    {
     "data": {
      "text/html": [
       "<div>\n",
       "<style scoped>\n",
       "    .dataframe tbody tr th:only-of-type {\n",
       "        vertical-align: middle;\n",
       "    }\n",
       "\n",
       "    .dataframe tbody tr th {\n",
       "        vertical-align: top;\n",
       "    }\n",
       "\n",
       "    .dataframe thead th {\n",
       "        text-align: right;\n",
       "    }\n",
       "</style>\n",
       "<table border=\"1\" class=\"dataframe\">\n",
       "  <thead>\n",
       "    <tr style=\"text-align: right;\">\n",
       "      <th></th>\n",
       "      <th>docid</th>\n",
       "      <th>035liste</th>\n",
       "      <th>isbn</th>\n",
       "      <th>ttlfull</th>\n",
       "      <th>ttlpart</th>\n",
       "      <th>person</th>\n",
       "      <th>corporate</th>\n",
       "      <th>pubyear</th>\n",
       "      <th>decade</th>\n",
       "      <th>century</th>\n",
       "      <th>exactDate</th>\n",
       "      <th>...</th>\n",
       "      <th>coordinate</th>\n",
       "      <th>doi</th>\n",
       "      <th>ismn</th>\n",
       "      <th>musicid</th>\n",
       "      <th>format</th>\n",
       "      <th>coordinate_E</th>\n",
       "      <th>coordinate_N</th>\n",
       "      <th>corporate_110</th>\n",
       "      <th>corporate_710</th>\n",
       "      <th>corporate_810</th>\n",
       "      <th>corporate_full</th>\n",
       "    </tr>\n",
       "  </thead>\n",
       "  <tbody>\n",
       "  </tbody>\n",
       "</table>\n",
       "<p>0 rows × 29 columns</p>\n",
       "</div>"
      ],
      "text/plain": [
       "Empty DataFrame\n",
       "Columns: [docid, 035liste, isbn, ttlfull, ttlpart, person, corporate, pubyear, decade, century, exactDate, edition, part, pages, volumes, pubinit, pubword, scale, coordinate, doi, ismn, musicid, format, coordinate_E, coordinate_N, corporate_110, corporate_710, corporate_810, corporate_full]\n",
       "Index: []\n",
       "\n",
       "[0 rows x 29 columns]"
      ]
     },
     "execution_count": 80,
     "metadata": {},
     "output_type": "execute_result"
    }
   ],
   "source": [
    "df[df.exactDate.str[0:4] != df.century]"
   ]
  },
  {
   "cell_type": "markdown",
   "metadata": {},
   "source": [
    "Conforming the MARC 21 description, see [[MARC](./A_References.ipynb#marc21)], the first 4 digits of $\\texttt{exactDate}$ hold identical data as field $\\texttt{century}$. The last 4 digits hold additional information on the exact date of origin of the bibliographical unit [[FeatWiki](./A_References.ipynb#feature_deduplication_wiki)]."
   ]
  },
  {
   "cell_type": "code",
   "execution_count": 81,
   "metadata": {
    "scrolled": false
   },
   "outputs": [
    {
     "data": {
      "text/plain": [
       "array(['1992    ', '1986    ', '1923    ', ..., '1966-196', 'uuu1    ',\n",
       "       '201007  '], dtype=object)"
      ]
     },
     "execution_count": 81,
     "metadata": {},
     "output_type": "execute_result"
    }
   ],
   "source": [
    "df.exactDate[df.exactDate.str[4:].str.contains('\\D')].unique()"
   ]
  },
  {
   "cell_type": "markdown",
   "metadata": {},
   "source": [
    "Missing information is not only added with the help of character 'u', but with ' ' (space character) and even '-' characters, unfortunately. For data cleaning resons, any character that is not a number digit will be replaced by 'u'."
   ]
  },
  {
   "cell_type": "code",
   "execution_count": 82,
   "metadata": {},
   "outputs": [
    {
     "name": "stdout",
     "output_type": "stream",
     "text": [
      "Non-digit characters are {' ', 'u', '-'}\n"
     ]
    }
   ],
   "source": [
    "def determine_uniques_non_numbers(exact_date):\n",
    "    unique_non_numbers = set()\n",
    "\n",
    "    for i in range(4, 8):\n",
    "        unique_non_numbers = unique_non_numbers.union(set(exact_date.str[i:i+1][\n",
    "            exact_date.str[i:i+1].str.contains('\\D')].unique()))\n",
    "\n",
    "    print('Non-digit characters are', unique_non_numbers)\n",
    "\n",
    "    return\n",
    "\n",
    "determine_uniques_non_numbers(df.exactDate)"
   ]
  },
  {
   "cell_type": "code",
   "execution_count": 83,
   "metadata": {
    "scrolled": true
   },
   "outputs": [
    {
     "name": "stdout",
     "output_type": "stream",
     "text": [
      "Degree of non-number filling of last 4 digits 87.4%\n",
      "Degree of full and exclusively number filling of last 4 digits 12.6%\n"
     ]
    }
   ],
   "source": [
    "def print_degree_of_filling(exact_date):\n",
    "    print('Degree of non-number filling of last 4 digits {:.1f}%'.format(\n",
    "        exact_date[exact_date.str[4:].str.contains('\\D')].count()/len(df)*100))\n",
    "    print('Degree of full and exclusively number filling of last 4 digits {:.1f}%'.format(\n",
    "        exact_date[exact_date.str[4:].str.contains('[0-9]{4}')].count()/len(df)*100))\n",
    "    return\n",
    "\n",
    "print_degree_of_filling(df.exactDate)"
   ]
  },
  {
   "cell_type": "code",
   "execution_count": 84,
   "metadata": {},
   "outputs": [
    {
     "name": "stdout",
     "output_type": "stream",
     "text": [
      "Degree of non-number filling of last 4 digits 87.4%\n",
      "Degree of full and exclusively number filling of last 4 digits 12.6%\n",
      "Non-digit characters are {'u'}\n"
     ]
    }
   ],
   "source": [
    "df = dpf.clean_exactDate_string(df)\n",
    "\n",
    "print_degree_of_filling(df.exactDate)\n",
    "determine_uniques_non_numbers(df.exactDate)"
   ]
  },
  {
   "cell_type": "code",
   "execution_count": 85,
   "metadata": {},
   "outputs": [
    {
     "data": {
      "text/plain": [
       "docid                                                     556987284\n",
       "035liste                         [(ZORA)oai:www.zora.uzh.ch:169340]\n",
       "isbn                                                             []\n",
       "ttlfull           {'245': ['Altered limbic and autonomic process...\n",
       "ttlpart           {'245': ['Altered limbic and autonomic process...\n",
       "person            {'100': [], '700': ['TemplinChristian', 'Hängg...\n",
       "corporate                         {'110': [], '710': [], '810': []}\n",
       "pubyear                                                    20190414\n",
       "decade                                                         2019\n",
       "century                                                        2019\n",
       "exactDate                                                  20190414\n",
       "edition                                                            \n",
       "part                                             [40(15):1183-1187]\n",
       "pages                                                            []\n",
       "volumes                                                          []\n",
       "pubinit                                                          []\n",
       "pubword                                                          []\n",
       "scale                                                              \n",
       "coordinate                                                       []\n",
       "doi                                        10.1093/eurheartj/ehz068\n",
       "ismn                                                             []\n",
       "musicid                                                            \n",
       "format                                                   [BK010053]\n",
       "coordinate_E                                                       \n",
       "coordinate_N                                                       \n",
       "corporate_110                                                      \n",
       "corporate_710                                                      \n",
       "corporate_810                                                      \n",
       "corporate_full                                                     \n",
       "Name: 183319, dtype: object"
      ]
     },
     "execution_count": 85,
     "metadata": {},
     "output_type": "execute_result"
    }
   ],
   "source": [
    "df.loc[183319]"
   ]
  },
  {
   "cell_type": "markdown",
   "metadata": {},
   "source": [
    "The MARC data declares explicitly the kind of value, the second four digits are about. This specification is missing in Swissbib's data extract [[SwRe](./A_References.ipynb#swre)]. Swissbib treats such differences in a varying way in its deduplication implementation, depending on the specific kind of value. Due to its full information supply, attribute $\\texttt{exactDate}$ is taken as is to the feature matrix. The attribute will be taken as full placeholder for the three attributes $\\texttt{century}$, $\\texttt{decade}$, and $\\texttt{pubyear}$."
   ]
  },
  {
   "cell_type": "code",
   "execution_count": 86,
   "metadata": {},
   "outputs": [],
   "source": [
    "columns_metadata_dict['data_analysis_columns'].append('exactDate')"
   ]
  },
  {
   "cell_type": "markdown",
   "metadata": {},
   "source": [
    "### format"
   ]
  },
  {
   "cell_type": "code",
   "execution_count": 87,
   "metadata": {},
   "outputs": [],
   "source": [
    "columns_metadata_dict['list_columns'].append('format')"
   ]
  },
  {
   "cell_type": "markdown",
   "metadata": {},
   "source": [
    "Attribute $\\texttt{format}$ describes the format of a bibliographic unit, see examples under section [Sample Records Analysis](#Sample-Records-Analysis). Swissbib's deduplication implementation splits this attribute for its comparison logic and uses only parts of it [[WiCo2001](./A_References.ipynb#wico2001)].\n",
    "- The full code is used for values starting with VM01, VM02, MU03, MU04, and CF01.\n",
    "- The first four and last two digits are used for all other values of the attribute."
   ]
  },
  {
   "cell_type": "code",
   "execution_count": 88,
   "metadata": {},
   "outputs": [
    {
     "name": "stdout",
     "output_type": "stream",
     "text": [
      "Number of records with filled format 179688, with missing format 3719 => 98.0%\n"
     ]
    }
   ],
   "source": [
    "daf.find_empty_in_column(df, columns_metadata_dict, 'format')"
   ]
  },
  {
   "cell_type": "code",
   "execution_count": 89,
   "metadata": {},
   "outputs": [
    {
     "data": {
      "text/plain": [
       "165260    bk020000\n",
       "177787    bk020300\n",
       "25395     bk020000\n",
       "127725    bk020000\n",
       "154644    bk020000\n",
       "47643     bk010000\n",
       "128078    bk020000\n",
       "142596    bk020000\n",
       "58809     bk020800\n",
       "33192     bk020053\n",
       "Name: format, dtype: object"
      ]
     },
     "execution_count": 89,
     "metadata": {},
     "output_type": "execute_result"
    }
   ],
   "source": [
    "df = dpf.transform_list_to_string(df, 'format')\n",
    "\n",
    "df['format'][df.format.apply(lambda x : len(x))==8].sample(n=10)"
   ]
  },
  {
   "cell_type": "code",
   "execution_count": 90,
   "metadata": {},
   "outputs": [
    {
     "name": "stdout",
     "output_type": "stream",
     "text": [
      "96.4% of the records hold one single format.\n",
      "1.6% of the records hold more than one format.\n"
     ]
    }
   ],
   "source": [
    "print('{:.1f}% of the records hold one single format.'.format(\n",
    "    df['format'][df.format.apply(lambda x : len(x))==8].count()/len(df)*100))\n",
    "print('{:.1f}% of the records hold more than one format.'.format(\n",
    "    df['format'][df.format.apply(lambda x : len(x))>8].count()/len(df)*100))"
   ]
  },
  {
   "cell_type": "code",
   "execution_count": 91,
   "metadata": {},
   "outputs": [
    {
     "data": {
      "text/plain": [
       "156306    \n",
       "168261    \n",
       "169564    \n",
       "167603    \n",
       "151920    \n",
       "152926    \n",
       "159265    \n",
       "154979    \n",
       "164187    \n",
       "155759    \n",
       "Name: format, dtype: object"
      ]
     },
     "execution_count": 91,
     "metadata": {},
     "output_type": "execute_result"
    }
   ],
   "source": [
    "df['format'][df.format.apply(lambda x : len(x))<8].sample(n=10)"
   ]
  },
  {
   "cell_type": "code",
   "execution_count": 92,
   "metadata": {},
   "outputs": [
    {
     "data": {
      "text/plain": [
       "1981    mu010100, mu010000\n",
       "2000    mu010000, mu010100\n",
       "2001    mu010100, mu010000\n",
       "2003    mu010100, mu010000\n",
       "2004    mu010200, mu010000\n",
       "Name: format, dtype: object"
      ]
     },
     "execution_count": 92,
     "metadata": {},
     "output_type": "execute_result"
    }
   ],
   "source": [
    "df['format'][df.format.apply(lambda x : len(x))>8].head()"
   ]
  },
  {
   "cell_type": "code",
   "execution_count": 93,
   "metadata": {},
   "outputs": [
    {
     "data": {
      "text/plain": [
       "17607     bk020300, bk020000, bk020500\n",
       "83055     bk020300, bk020800, bk020000\n",
       "181090    cr030700, cr030600, cr030300\n",
       "181376    bk020800, bk020400, bk020000\n",
       "Name: format, dtype: object"
      ]
     },
     "execution_count": 93,
     "metadata": {},
     "output_type": "execute_result"
    }
   ],
   "source": [
    "df['format'][df.format.apply(lambda x : len(x))>18].head()"
   ]
  },
  {
   "cell_type": "markdown",
   "metadata": {},
   "source": [
    "The attribute seems to be very relevant for a basic identification of a bibliographical unit. Mainly the first two digits seem to be a reliable rough classification indicator. The remaining digits may have an inferior importance and an inferior reliability due to freedom of interpretation. For this capstone project, a different processing of the attribute compared to the Swissbib implementation is tested. The attribute is divided into two new attributes.\n",
    "\n",
    "- New attribute $\\texttt{format_prefix}$ will hold the first two digits of the first $\\texttt{format}$ element.\n",
    "- New attribute $\\texttt{format_number}$ will hold the six subsequent digits of the first $\\texttt{format}$ element.\n",
    "\n",
    "The $\\texttt{format}$ attribute will be dropped after this preprocessing step."
   ]
  },
  {
   "cell_type": "code",
   "execution_count": 94,
   "metadata": {},
   "outputs": [
    {
     "data": {
      "text/html": [
       "<div>\n",
       "<style scoped>\n",
       "    .dataframe tbody tr th:only-of-type {\n",
       "        vertical-align: middle;\n",
       "    }\n",
       "\n",
       "    .dataframe tbody tr th {\n",
       "        vertical-align: top;\n",
       "    }\n",
       "\n",
       "    .dataframe thead th {\n",
       "        text-align: right;\n",
       "    }\n",
       "</style>\n",
       "<table border=\"1\" class=\"dataframe\">\n",
       "  <thead>\n",
       "    <tr style=\"text-align: right;\">\n",
       "      <th></th>\n",
       "      <th>format</th>\n",
       "      <th>format_prefix</th>\n",
       "      <th>format_postfix</th>\n",
       "    </tr>\n",
       "  </thead>\n",
       "  <tbody>\n",
       "    <tr>\n",
       "      <th>29803</th>\n",
       "      <td>bk020000</td>\n",
       "      <td>bk</td>\n",
       "      <td>020000</td>\n",
       "    </tr>\n",
       "    <tr>\n",
       "      <th>66364</th>\n",
       "      <td>bk020000</td>\n",
       "      <td>bk</td>\n",
       "      <td>020000</td>\n",
       "    </tr>\n",
       "    <tr>\n",
       "      <th>50291</th>\n",
       "      <td>bk020000</td>\n",
       "      <td>bk</td>\n",
       "      <td>020000</td>\n",
       "    </tr>\n",
       "    <tr>\n",
       "      <th>101324</th>\n",
       "      <td>bk020053</td>\n",
       "      <td>bk</td>\n",
       "      <td>020053</td>\n",
       "    </tr>\n",
       "    <tr>\n",
       "      <th>25415</th>\n",
       "      <td>bk020000</td>\n",
       "      <td>bk</td>\n",
       "      <td>020000</td>\n",
       "    </tr>\n",
       "    <tr>\n",
       "      <th>43238</th>\n",
       "      <td>bk020053</td>\n",
       "      <td>bk</td>\n",
       "      <td>020053</td>\n",
       "    </tr>\n",
       "    <tr>\n",
       "      <th>48355</th>\n",
       "      <td>bk020000</td>\n",
       "      <td>bk</td>\n",
       "      <td>020000</td>\n",
       "    </tr>\n",
       "    <tr>\n",
       "      <th>94355</th>\n",
       "      <td>bk020000</td>\n",
       "      <td>bk</td>\n",
       "      <td>020000</td>\n",
       "    </tr>\n",
       "    <tr>\n",
       "      <th>97672</th>\n",
       "      <td>bk010053</td>\n",
       "      <td>bk</td>\n",
       "      <td>010053</td>\n",
       "    </tr>\n",
       "    <tr>\n",
       "      <th>32436</th>\n",
       "      <td>cr030600</td>\n",
       "      <td>cr</td>\n",
       "      <td>030600</td>\n",
       "    </tr>\n",
       "    <tr>\n",
       "      <th>126897</th>\n",
       "      <td>bk020000</td>\n",
       "      <td>bk</td>\n",
       "      <td>020000</td>\n",
       "    </tr>\n",
       "    <tr>\n",
       "      <th>176472</th>\n",
       "      <td>bk020000</td>\n",
       "      <td>bk</td>\n",
       "      <td>020000</td>\n",
       "    </tr>\n",
       "    <tr>\n",
       "      <th>134803</th>\n",
       "      <td>bk020000</td>\n",
       "      <td>bk</td>\n",
       "      <td>020000</td>\n",
       "    </tr>\n",
       "    <tr>\n",
       "      <th>140717</th>\n",
       "      <td>bk020053</td>\n",
       "      <td>bk</td>\n",
       "      <td>020053</td>\n",
       "    </tr>\n",
       "    <tr>\n",
       "      <th>159582</th>\n",
       "      <td>bk020000</td>\n",
       "      <td>bk</td>\n",
       "      <td>020000</td>\n",
       "    </tr>\n",
       "  </tbody>\n",
       "</table>\n",
       "</div>"
      ],
      "text/plain": [
       "          format format_prefix format_postfix\n",
       "29803   bk020000            bk         020000\n",
       "66364   bk020000            bk         020000\n",
       "50291   bk020000            bk         020000\n",
       "101324  bk020053            bk         020053\n",
       "25415   bk020000            bk         020000\n",
       "43238   bk020053            bk         020053\n",
       "48355   bk020000            bk         020000\n",
       "94355   bk020000            bk         020000\n",
       "97672   bk010053            bk         010053\n",
       "32436   cr030600            cr         030600\n",
       "126897  bk020000            bk         020000\n",
       "176472  bk020000            bk         020000\n",
       "134803  bk020000            bk         020000\n",
       "140717  bk020053            bk         020053\n",
       "159582  bk020000            bk         020000"
      ]
     },
     "execution_count": 94,
     "metadata": {},
     "output_type": "execute_result"
    }
   ],
   "source": [
    "df['format_prefix'] = df.format.str[:2]\n",
    "df.format_prefix[df['format_prefix']==''] = '  '\n",
    "df['format_postfix'] = df.format.str[2:8]\n",
    "df.format_postfix[df['format_postfix']==''] = '      '\n",
    "df[['format', 'format_prefix', 'format_postfix']].sample(n=15)"
   ]
  },
  {
   "cell_type": "markdown",
   "metadata": {},
   "source": [
    "This preprocessing step has been implemented in a separate function $\\texttt{.split}\\_\\texttt{format}()$ which can be found in code file [data_preparation_funcs.py](./data_preparation_funcs.py)."
   ]
  },
  {
   "cell_type": "code",
   "execution_count": 95,
   "metadata": {},
   "outputs": [],
   "source": [
    "columns_metadata_dict['data_analysis_columns'].append('format_prefix')\n",
    "columns_metadata_dict['data_analysis_columns'].append('format_postfix')"
   ]
  },
  {
   "cell_type": "markdown",
   "metadata": {},
   "source": [
    "### isbn"
   ]
  },
  {
   "cell_type": "code",
   "execution_count": 96,
   "metadata": {},
   "outputs": [],
   "source": [
    "columns_metadata_dict['list_columns'].append('isbn')"
   ]
  },
  {
   "cell_type": "code",
   "execution_count": 97,
   "metadata": {},
   "outputs": [
    {
     "name": "stdout",
     "output_type": "stream",
     "text": [
      "Number of records with filled isbn 80688, with missing isbn 102719 => 44.0%\n"
     ]
    }
   ],
   "source": [
    "daf.find_empty_in_column(df, columns_metadata_dict, 'isbn')"
   ]
  },
  {
   "cell_type": "markdown",
   "metadata": {},
   "source": [
    "Attribute $\\texttt{isbn}$ holds two different kinds of information, either the ISBN or the ISSN of a bibliographic unit. The ISBN is the identifier for monographs, while the ISSN identifies periodicals. An ISBN is either of length 10 or of length 13, an ISSN is of length 8. Due to this length attribution, it is not relevant whether the field holds an ISBN or an ISSN."
   ]
  },
  {
   "cell_type": "code",
   "execution_count": 98,
   "metadata": {},
   "outputs": [
    {
     "data": {
      "text/plain": [
       "19654            [978-3-03736-075-0]\n",
       "164328           [978-1-137-55925-8]\n",
       "62546            [978-2-36762-826-4]\n",
       "88389            [978-1-4875-8942-4]\n",
       "161439               [1-876718-42-0]\n",
       "138947               [2-940153-26-4]\n",
       "144356           [978-3-7780-6580-8]\n",
       "137177           [978-0-19-069148-6]\n",
       "174780    [978-1-4614-6089-3 (ebk.)]\n",
       "7669             [978-3-86728-112-6]\n",
       "176458               [2-7234-1754-9]\n",
       "158414           [978-85-7680-131-3]\n",
       "100781           [978-1-108-37787-4]\n",
       "178161               [0-87011-391-7]\n",
       "101165           [978-1-108-34103-5]\n",
       "148355           [978-0-393-06262-5]\n",
       "126067               [3-446-21776-2]\n",
       "101348           [978-1-108-56164-8]\n",
       "64852                [2-85704-214-0]\n",
       "39462            [978-1-4008-8189-5]\n",
       "Name: isbn, dtype: object"
      ]
     },
     "execution_count": 98,
     "metadata": {},
     "output_type": "execute_result"
    }
   ],
   "source": [
    "df.isbn[df.isbn.apply(lambda x : len(x)==1 )].sample(n=20)"
   ]
  },
  {
   "cell_type": "markdown",
   "metadata": {},
   "source": [
    "The attribute is a list of string elements. Some samples with exactly one string element are shown above, some samples with more than one string element are shown below."
   ]
  },
  {
   "cell_type": "code",
   "execution_count": 99,
   "metadata": {},
   "outputs": [
    {
     "data": {
      "text/plain": [
       "37289     [978-3-486-74910-6 (pbk.), 3-486-74910-2 (pbk....\n",
       "126177                   [978-3-589-16174-4, 3-589-16174-4]\n",
       "46047                    [978-3-525-30190-6, 3-525-30190-1]\n",
       "125598                   [978-3-7618-2213-5, 3-7618-2213-8]\n",
       "172990    [978-2-35433-205-1 (Musée d'Orsay), 978-2-07-0...\n",
       "74299                    [84-7584-343-3, 978-84-7584-343-8]\n",
       "120396                   [978-3-658-21762-4, 3-658-21762-6]\n",
       "130699               [978-1-118-99864-9, 978-1-118-99863-2]\n",
       "142751                   [978-1-4331-3375-6, 1-4331-3375-X]\n",
       "124356                       [1-4696-0175-3, 0-8078-6999-6]\n",
       "20342                [978-3-7618-2075-9, 978-3-476-04677-2]\n",
       "135633                   [978-3-497-02816-0, 3-497-02816-9]\n",
       "31683                    [978-7-5203-1029-1, 7-5203-1029-9]\n",
       "179505                   [3-540-30855-5, 978-3-540-30855-3]\n",
       "14814                    [978-3-8354-1544-7, 3-8354-1544-1]\n",
       "182659                   [978-0-9954564-2-6, 0-9954564-2-9]\n",
       "104163                   [978-3-12-352425-7, 3-12-352425-6]\n",
       "21226                    [978-0-414-06002-9, 0-414-06002-4]\n",
       "53019                    [978-90-04-36928-3, 90-04-36928-7]\n",
       "121641                   [978-3-631-75330-9, 3-631-75330-6]\n",
       "Name: isbn, dtype: object"
      ]
     },
     "execution_count": 99,
     "metadata": {},
     "output_type": "execute_result"
    }
   ],
   "source": [
    "df.isbn[df.isbn.apply(lambda x : len(x)>1 )].sample(n=20)"
   ]
  },
  {
   "cell_type": "code",
   "execution_count": 100,
   "metadata": {},
   "outputs": [
    {
     "name": "stdout",
     "output_type": "stream",
     "text": [
      "80,688 records hold 1 list element(s).\n",
      "29,073 records hold 2 list element(s).\n",
      "3,762 records hold 3 list element(s).\n",
      "2,331 records hold 4 list element(s).\n",
      "519 records hold 5 list element(s).\n",
      "398 records hold 6 list element(s).\n",
      "173 records hold 7 list element(s).\n",
      "156 records hold 8 list element(s).\n",
      "84 records hold 9 list element(s).\n",
      "76 records hold 10 list element(s).\n",
      "51 records hold 11 list element(s).\n",
      "43 records hold 12 list element(s).\n",
      "29 records hold 13 list element(s).\n",
      "26 records hold 14 list element(s).\n",
      "19 records hold 15 list element(s).\n",
      "18 records hold 16 list element(s).\n",
      "10 records hold 17 list element(s).\n",
      "9 records hold 18 list element(s).\n",
      "8 records hold 19 list element(s).\n",
      "7 records hold 20 list element(s).\n",
      "7 records hold 21 list element(s).\n",
      "7 records hold 22 list element(s).\n",
      "7 records hold 23 list element(s).\n",
      "7 records hold 24 list element(s).\n",
      "5 records hold 25 list element(s).\n",
      "4 records hold 26 list element(s).\n",
      "3 records hold 27 list element(s).\n",
      "3 records hold 28 list element(s).\n",
      "3 records hold 29 list element(s).\n",
      "3 records hold 30 list element(s).\n",
      "1 records hold 31 list element(s).\n",
      "1 records hold 32 list element(s).\n",
      "1 records hold 33 list element(s).\n",
      "1 records hold 34 list element(s).\n",
      "1 records hold 35 list element(s).\n",
      "1 records hold 36 list element(s).\n",
      "1 records hold 37 list element(s).\n",
      "1 records hold 38 list element(s).\n",
      "1 records hold 39 list element(s).\n",
      "1 records hold 40 list element(s).\n",
      "1 records hold 41 list element(s).\n",
      "1 records hold 42 list element(s).\n",
      "=> Maximum number of list elements 42\n"
     ]
    }
   ],
   "source": [
    "i = 0\n",
    "while len(df.isbn[df.isbn.apply(lambda x : len(x))>i]) > 0 :\n",
    "    i = i+1\n",
    "    print('{:,d} records hold {:d} list element(s).'.format(\n",
    "        len(df.isbn[df.isbn.apply(lambda x : len(x))>=i]), i))\n",
    "        \n",
    "print('=> Maximum number of list elements', max(df.isbn.apply(lambda x : len(x))))"
   ]
  },
  {
   "cell_type": "code",
   "execution_count": 101,
   "metadata": {},
   "outputs": [
    {
     "data": {
      "text/plain": [
       "42"
      ]
     },
     "execution_count": 101,
     "metadata": {},
     "output_type": "execute_result"
    }
   ],
   "source": [
    "max(df.isbn.apply(lambda x : len(x)))"
   ]
  },
  {
   "cell_type": "code",
   "execution_count": 102,
   "metadata": {},
   "outputs": [
    {
     "data": {
      "text/plain": [
       "171599    [0-8247-6093-X, 0-8247-6135-9, 0-8247-6137-5, ...\n",
       "127001    [978-1-315-76651-5, 1-315-76651-5, 1-317-66066...\n",
       "91242     [978-3-12-607106-2, 3-12-607106-6, 978-3-12-60...\n",
       "45991     [978-3-11-020418-6 (v. 1 : acidfree paper), 3-...\n",
       "133692    [0-444-82588-6 (set vols. 1A1B), 0-444-50728-0...\n",
       "62153     [978-7-5406-6653-8 (set), 7-5406-6653-6 (set),...\n",
       "20851     [4-89434-420-3, 4-89434-421-1, 4-89434-435-1, ...\n",
       "113064    [978-4-469-22249-4, 4-469-22249-6, 978-4-469-2...\n",
       "172802    [0-08-043748-6, 0-08-044323-0, 0-08-044324-9, ...\n",
       "78410     [978-2-35241-063-8, 978-2-911565-89-2, 978-2-3...\n",
       "Name: isbn, dtype: object"
      ]
     },
     "execution_count": 102,
     "metadata": {},
     "output_type": "execute_result"
    }
   ],
   "source": [
    "df.isbn[df.isbn.apply(lambda x : len(x))>10].sample(n=10)"
   ]
  },
  {
   "cell_type": "markdown",
   "metadata": {},
   "source": [
    "Attribute $\\texttt{isbn}$ is taken to further processing as the list of string elements with their values as they are."
   ]
  },
  {
   "cell_type": "code",
   "execution_count": 103,
   "metadata": {},
   "outputs": [],
   "source": [
    "columns_metadata_dict['data_analysis_columns'].append('isbn')"
   ]
  },
  {
   "cell_type": "markdown",
   "metadata": {},
   "source": [
    "### ismn"
   ]
  },
  {
   "cell_type": "code",
   "execution_count": 104,
   "metadata": {},
   "outputs": [],
   "source": [
    "columns_metadata_dict['list_columns'].append('ismn')"
   ]
  },
  {
   "cell_type": "code",
   "execution_count": 105,
   "metadata": {},
   "outputs": [
    {
     "name": "stdout",
     "output_type": "stream",
     "text": [
      "Number of records with filled ismn 931, with missing ismn 182476 => 0.5%\n"
     ]
    }
   ],
   "source": [
    "daf.find_empty_in_column(df, columns_metadata_dict, 'ismn')"
   ]
  },
  {
   "cell_type": "markdown",
   "metadata": {},
   "source": [
    "Attribute $\\texttt{ismn}$ originally held the same data like attribute $\\texttt{doi}$ [[FeatWiki](./A_References.ipynb#feature_deduplication_wiki)]. This has been adjusted in Swissbib's data extract [[SwRe](./A_References.ipynb#swre)], though. Analogous to attribute $\\texttt{doi}$, Swissbib's deduplication implementation compares only real ismn identifiers [[WiCo2001](./A_References.ipynb#wico2001)]. Real ismn numbers can be identified by a subfield that is missing in Swissbib's data extract [[SwRe](./A_References.ipynb#swre)]. Alternatively, a real ismn number can be identified as a number starting with a letter 'm' (or 'M') or with the three number digits '979'. Each row in the data has a maximum of 1 real ismn identifyer [[WiCo2001](./A_References.ipynb#wico2001)]."
   ]
  },
  {
   "cell_type": "code",
   "execution_count": 106,
   "metadata": {
    "scrolled": false
   },
   "outputs": [
    {
     "name": "stdout",
     "output_type": "stream",
     "text": [
      "931 records hold 1 list element(s).\n",
      "123 records hold 2 list element(s).\n",
      "30 records hold 3 list element(s).\n",
      "9 records hold 4 list element(s).\n",
      "4 records hold 5 list element(s).\n",
      "4 records hold 6 list element(s).\n",
      "2 records hold 7 list element(s).\n",
      "1 records hold 8 list element(s).\n",
      "1 records hold 9 list element(s).\n",
      "1 records hold 10 list element(s).\n",
      "1 records hold 11 list element(s).\n",
      "1 records hold 12 list element(s).\n",
      "1 records hold 13 list element(s).\n",
      "1 records hold 14 list element(s).\n",
      "1 records hold 15 list element(s).\n",
      "1 records hold 16 list element(s).\n",
      "1 records hold 17 list element(s).\n",
      "1 records hold 18 list element(s).\n",
      "1 records hold 19 list element(s).\n",
      "1 records hold 20 list element(s).\n",
      "1 records hold 21 list element(s).\n",
      "1 records hold 22 list element(s).\n",
      "1 records hold 23 list element(s).\n",
      "1 records hold 24 list element(s).\n",
      "1 records hold 25 list element(s).\n",
      "1 records hold 26 list element(s).\n",
      "=> Maximum number of list elements 26\n"
     ]
    }
   ],
   "source": [
    "i = 0\n",
    "while len(df.ismn[df.ismn.apply(lambda x : len(x))>i]) > 0 :\n",
    "    i = i+1\n",
    "    print('{:,d} records hold {:d} list element(s).'.format(\n",
    "        len(df.ismn[df.ismn.apply(lambda x : len(x))>=i]), i))\n",
    "        \n",
    "print('=> Maximum number of list elements', max(df.ismn.apply(lambda x : len(x))))"
   ]
  },
  {
   "cell_type": "code",
   "execution_count": 107,
   "metadata": {},
   "outputs": [
    {
     "data": {
      "text/plain": [
       "18787           [9790013230075, 9790013230075, M013230075]\n",
       "21159           [9790013230068, M013230068, 9790013230068]\n",
       "27903    [9790206300349, 9790206300448, 9790206300370, ...\n",
       "36355        [9790261242936, 9790261242943, 9790261243407]\n",
       "46239    [9790674521482, 9790674521499, 9790674521482, ...\n",
       "Name: ismn, dtype: object"
      ]
     },
     "execution_count": 107,
     "metadata": {},
     "output_type": "execute_result"
    }
   ],
   "source": [
    "df.ismn[df.ismn.apply(lambda x : len(x))>2].head()"
   ]
  },
  {
   "cell_type": "code",
   "execution_count": 108,
   "metadata": {},
   "outputs": [
    {
     "data": {
      "text/plain": [
       "1792                     m500173793\n",
       "2004      m007093402, 9790007093402\n",
       "2017                     m700185008\n",
       "2029                     m001052481\n",
       "2035      m007096410, 9790007096410\n",
       "                    ...            \n",
       "182638                   m501351428\n",
       "182652                   m501357284\n",
       "182674                   m501357925\n",
       "182679                   m501351534\n",
       "182890                   m008025112\n",
       "Name: ismn, Length: 421, dtype: object"
      ]
     },
     "execution_count": 108,
     "metadata": {},
     "output_type": "execute_result"
    }
   ],
   "source": [
    "df_temp = dpf.transform_list_to_string(df.copy(), 'ismn')\n",
    "df_temp.ismn[df_temp.ismn.str.contains('m[0-9]{8}', na=False, regex=True)]"
   ]
  },
  {
   "cell_type": "markdown",
   "metadata": {},
   "source": [
    "Analogous to attribute $\\texttt{doi}$, a function $\\texttt{.reduce}\\_\\texttt{to}\\_\\texttt{ismn}\\_\\texttt{element}()$ has been implemented that takes care of the isolation of the ismn identifier and stores only real ismn identifiers in attribute $\\texttt{ismn}$."
   ]
  },
  {
   "cell_type": "code",
   "execution_count": 109,
   "metadata": {
    "scrolled": false
   },
   "outputs": [
    {
     "data": {
      "text/plain": [
       "1791      9790201326702\n",
       "1792         m500173793\n",
       "2004         m007093402\n",
       "2017         m700185008\n",
       "2028      9790008010156\n",
       "              ...      \n",
       "182638       m501351428\n",
       "182652       m501357284\n",
       "182674       m501357925\n",
       "182679       m501351534\n",
       "182890       m008025112\n",
       "Name: ismn, Length: 931, dtype: object"
      ]
     },
     "execution_count": 109,
     "metadata": {},
     "output_type": "execute_result"
    }
   ],
   "source": [
    "df = dpf.reduce_to_attrib_element(df, 'ismn')\n",
    "df.ismn[df.ismn.apply(lambda x : len(x))>0]"
   ]
  },
  {
   "cell_type": "markdown",
   "metadata": {},
   "source": [
    "Unfortunately, the number of rows with a real ismn identifyer is vanishingly small. Attribute $\\texttt{ismn}$ will be handed over for further processing in its preprocessed manner but the occurrence will have to be observed in chapter [Goldstandard and Data Preparation](./2_GoldstandardDataPreparation.ipynb)."
   ]
  },
  {
   "cell_type": "code",
   "execution_count": 110,
   "metadata": {},
   "outputs": [],
   "source": [
    "columns_metadata_dict['data_analysis_columns'].append('ismn')"
   ]
  },
  {
   "cell_type": "markdown",
   "metadata": {},
   "source": [
    "### musicid"
   ]
  },
  {
   "cell_type": "code",
   "execution_count": 111,
   "metadata": {},
   "outputs": [],
   "source": [
    "columns_metadata_dict['strings_columns'].append('musicid')"
   ]
  },
  {
   "cell_type": "code",
   "execution_count": 112,
   "metadata": {},
   "outputs": [
    {
     "name": "stdout",
     "output_type": "stream",
     "text": [
      "Number of records with filled musicid 13502, with missing musicid 169905 => 7.4%\n"
     ]
    }
   ],
   "source": [
    "daf.find_empty_in_column(df, columns_metadata_dict, 'musicid')"
   ]
  },
  {
   "cell_type": "markdown",
   "metadata": {},
   "source": [
    "Attribute $\\texttt{musicid}$ is a publisher's number identifying sound carriers, books with music notes, and movies of a music record [[WiCo2001](./A_References.ipynb#wico2001)]. Some sample records are shown below."
   ]
  },
  {
   "cell_type": "code",
   "execution_count": 113,
   "metadata": {},
   "outputs": [
    {
     "name": "stdout",
     "output_type": "stream",
     "text": [
      "Number of records with ...\n",
      "... format 'mu' and with musicid : 10742\n",
      "... format 'mu' and without musicid : 3905\n",
      "... format unequal 'mu' and with musicid : 2760\n",
      "... format unequal 'mu' and without musicid : 166000\n"
     ]
    }
   ],
   "source": [
    "print('Number of records with ...')\n",
    "\n",
    "print('... format \\'mu\\' and with musicid :', \n",
    "len(df.musicid[df.format_prefix == 'mu'][\n",
    "    df.musicid[df.format_prefix == 'mu'].apply(lambda x : len(x)>0) ])\n",
    ")\n",
    "print('... format \\'mu\\' and without musicid :', \n",
    "len(df.musicid[df.format_prefix == 'mu'][\n",
    "    df.musicid[df.format_prefix == 'mu'].apply(lambda x : len(x)==0) ])\n",
    ")\n",
    "print('... format unequal \\'mu\\' and with musicid :', \n",
    "len(df.musicid[df.format_prefix != 'mu'][\n",
    "    df.musicid[df.format_prefix != 'mu'].apply(lambda x : len(x)>0) ])\n",
    ")\n",
    "print('... format unequal \\'mu\\' and without musicid :', \n",
    "len(df.musicid[df.format_prefix != 'mu'][\n",
    "    df.musicid[df.format_prefix != 'mu'].apply(lambda x : len(x)==0) ])\n",
    ")"
   ]
  },
  {
   "cell_type": "code",
   "execution_count": 114,
   "metadata": {},
   "outputs": [
    {
     "data": {
      "text/plain": [
       "vm    1432\n",
       "bk    1287\n",
       "cf      39\n",
       "mp       1\n",
       "cr       1\n",
       "Name: format_prefix, dtype: int64"
      ]
     },
     "execution_count": 114,
     "metadata": {},
     "output_type": "execute_result"
    }
   ],
   "source": [
    "df.format_prefix[df.format_prefix != 'mu'][\n",
    "    df.musicid[df.format_prefix != 'mu'].apply(lambda x : len(x)>0) ].value_counts()"
   ]
  },
  {
   "cell_type": "code",
   "execution_count": 115,
   "metadata": {},
   "outputs": [
    {
     "data": {
      "text/plain": [
       "144454                        No d'éd. EMB 633\n",
       "6850             EMI Classics 7243 5 56415 2 6\n",
       "26085                                  Z.13378\n",
       "9073      Pelham power productions 3P 489869 6\n",
       "93586                                 UE 16773\n",
       "11606                                 UTR 4769\n",
       "14781                                831 596-2\n",
       "11227             Voodoo rhythm records VRCD58\n",
       "12201                               ACT 9257-2\n",
       "4235                               CCD-14059-2\n",
       "12253            Deutsche Grammophon 410 862-2\n",
       "112698                                KTC 1473\n",
       "7339                                      3324\n",
       "2359              Deutsche Grammophon 477 8083\n",
       "116659                 Bestellnummer: 86245720\n",
       "56613                               JBO1002002\n",
       "132675                    Bestellnummer: 20252\n",
       "9135                                  QFTF/016\n",
       "3396                      Dreamworks DRD 50052\n",
       "86404                                A.C. 3341\n",
       "Name: musicid, dtype: object"
      ]
     },
     "execution_count": 115,
     "metadata": {},
     "output_type": "execute_result"
    }
   ],
   "source": [
    "musicid_sample_index = df.musicid[df.musicid.apply(lambda x : len(x)>0)].sample(n=20).index\n",
    "df.musicid.loc[musicid_sample_index]"
   ]
  },
  {
   "cell_type": "code",
   "execution_count": 116,
   "metadata": {},
   "outputs": [
    {
     "data": {
      "text/plain": [
       "144454         633\n",
       "6850          7243\n",
       "26085        13378\n",
       "9073             3\n",
       "93586        16773\n",
       "11606         4769\n",
       "14781          831\n",
       "11227           58\n",
       "12201         9257\n",
       "4235         14059\n",
       "12253          410\n",
       "112698        1473\n",
       "7339          3324\n",
       "2359           477\n",
       "116659    86245720\n",
       "56613      1002002\n",
       "132675       20252\n",
       "9135           016\n",
       "3396         50052\n",
       "86404         3341\n",
       "Name: musicid, dtype: object"
      ]
     },
     "execution_count": 116,
     "metadata": {},
     "output_type": "execute_result"
    }
   ],
   "source": [
    "df = dpf.isolate_number_from_string(df, 'musicid')\n",
    "df['musicid'].loc[musicid_sample_index]"
   ]
  },
  {
   "cell_type": "markdown",
   "metadata": {},
   "source": [
    "Swissbib's deduplication logic isolates and extracts number digits out of the original string for this attribute [[WiCo2001](./A_References.ipynb#wico2001)]. This extraction of number digits will be done as well in this capstone project. For this purpose function $\\texttt{.isolate}\\_\\texttt{number}\\_\\texttt{from}\\_\\texttt{string}()$ will be used for attribute $\\texttt{musicid}$. The attribute is taken to further processing steps."
   ]
  },
  {
   "cell_type": "code",
   "execution_count": 117,
   "metadata": {},
   "outputs": [],
   "source": [
    "columns_metadata_dict['data_analysis_columns'].append('musicid')"
   ]
  },
  {
   "cell_type": "markdown",
   "metadata": {},
   "source": [
    "### pages"
   ]
  },
  {
   "cell_type": "code",
   "execution_count": 118,
   "metadata": {},
   "outputs": [],
   "source": [
    "columns_metadata_dict['list_columns'].append('pages')"
   ]
  },
  {
   "cell_type": "code",
   "execution_count": 119,
   "metadata": {},
   "outputs": [
    {
     "name": "stdout",
     "output_type": "stream",
     "text": [
      "Number of records with filled pages 161471, with missing pages 21936 => 88.0%\n"
     ]
    }
   ],
   "source": [
    "daf.find_empty_in_column(df, columns_metadata_dict, 'pages')"
   ]
  },
  {
   "cell_type": "markdown",
   "metadata": {},
   "source": [
    "Attribute $\\texttt{pages}$ has the same MARC 21 basis as attribute $\\texttt{volumes}$ [[FeatWiki](./A_References.ipynb/#feature_deduplication_wiki)]. In Swissbib's processing, it is used for extracting pages information out of the MARC 21 data. This extraction logic is described to be very sophisticated [[WiCo2001](./A_References.ipynb#wico2001)] and will not be reimplemented for this capstone project. The pages information is part of the information in attribute $\\texttt{volumes}$ and will therefore be dropped due to redundancy."
   ]
  },
  {
   "cell_type": "markdown",
   "metadata": {},
   "source": [
    "### part"
   ]
  },
  {
   "cell_type": "code",
   "execution_count": 120,
   "metadata": {},
   "outputs": [],
   "source": [
    "columns_metadata_dict['list_columns'] = ['part']"
   ]
  },
  {
   "cell_type": "code",
   "execution_count": 121,
   "metadata": {},
   "outputs": [
    {
     "name": "stdout",
     "output_type": "stream",
     "text": [
      "Number of records with filled part 43116, with missing part 140291 => 23.5%\n"
     ]
    }
   ],
   "source": [
    "daf.find_empty_in_column(df, columns_metadata_dict, 'part')"
   ]
  },
  {
   "cell_type": "markdown",
   "metadata": {},
   "source": [
    "Attribute $\\texttt{part}$ is a list of collected part descriptions of the MARC 21 data. In the Swissbib implementation, the attribute is normalised strongly with the goal to identify the information of a part of a bibliographical unit as a unique number."
   ]
  },
  {
   "cell_type": "code",
   "execution_count": 122,
   "metadata": {},
   "outputs": [
    {
     "data": {
      "text/plain": [
       "54080                                               [3]\n",
       "133116                                    [Band 79, 79]\n",
       "92196                                        [vol. 185]\n",
       "111541                                            [263]\n",
       "117111                                         [Vol. 3]\n",
       "133040                                          [Bd. 3]\n",
       "91341                                         [Band 21]\n",
       "109435                           [1937, S. 217-222, 39]\n",
       "22422                       [1998, S. 107-124, Band 35]\n",
       "72409                                    [No 14 (2002)]\n",
       "134301                                   [A 1788, 1788]\n",
       "1855      [37. Jahrgang, Heft 1+2 (2019), Seiten 70-75]\n",
       "110250                                   [Dritter Band]\n",
       "126807                            [Blatt 313, Ed. 1910]\n",
       "74010                                        [Bd. 3, 3]\n",
       "102674                                 [91415018784703]\n",
       "21714                                            [6, 6]\n",
       "97328                                       [-/2(2002)]\n",
       "126227                           [Band 204, 2. Auflage]\n",
       "41796                                          [21, 21]\n",
       "Name: part, dtype: object"
      ]
     },
     "execution_count": 122,
     "metadata": {},
     "output_type": "execute_result"
    }
   ],
   "source": [
    "df.part[df.part.apply(lambda x : len(x)>0)].sample(n=20)"
   ]
  },
  {
   "cell_type": "code",
   "execution_count": 123,
   "metadata": {},
   "outputs": [
    {
     "data": {
      "text/plain": [
       "part                 [volume 7]\n",
       "volumes    [1 Online-Ressource]\n",
       "Name: 85733, dtype: object"
      ]
     },
     "execution_count": 123,
     "metadata": {},
     "output_type": "execute_result"
    }
   ],
   "source": [
    "df[['part', 'volumes']].loc[85733]"
   ]
  },
  {
   "cell_type": "code",
   "execution_count": 124,
   "metadata": {},
   "outputs": [
    {
     "data": {
      "text/plain": [
       "['2000', 'S. 261-281', 'Band 37']"
      ]
     },
     "execution_count": 124,
     "metadata": {},
     "output_type": "execute_result"
    }
   ],
   "source": [
    "df.part.loc[81304]"
   ]
  },
  {
   "cell_type": "code",
   "execution_count": 125,
   "metadata": {},
   "outputs": [],
   "source": [
    "df = dpf.transform_list_to_string(df, 'part')"
   ]
  },
  {
   "cell_type": "markdown",
   "metadata": {},
   "source": [
    "The list of strings will be transformed to a singular string with the help of function $\\texttt{.transform}\\_\\texttt{list}\\_\\texttt{to}\\_\\texttt{string}()$."
   ]
  },
  {
   "cell_type": "code",
   "execution_count": 126,
   "metadata": {},
   "outputs": [
    {
     "data": {
      "text/plain": [
       "138400                      tome 57, 57\n",
       "59314                             bd. 1\n",
       "15211                            55, 55\n",
       "57082                                 4\n",
       "17168                    seiten 369-388\n",
       "67492                                 3\n",
       "85612          2000, vol. 2, s. 321-327\n",
       "16219                   bd. 10, part ii\n",
       "73349                               163\n",
       "22367                  1999, s. 222-231\n",
       "27347                  1997, s. 374-385\n",
       "96626                   -/62(1998-1999)\n",
       "103322                         134, 134\n",
       "99450                             11-12\n",
       "101785              no 860/861, 860/861\n",
       "93075                           band 46\n",
       "65331                                47\n",
       "126075                          band 14\n",
       "132821                       bd. 78, 78\n",
       "95699     vol. 7 (1956), seiten 295-296\n",
       "98488                               165\n",
       "68840                     63(4):422-423\n",
       "115244           33/4(2019-04), 295-302\n",
       "30489                           2018/67\n",
       "46196                         2018/3/36\n",
       "Name: part, dtype: object"
      ]
     },
     "execution_count": 126,
     "metadata": {},
     "output_type": "execute_result"
    }
   ],
   "source": [
    "df['part'][df['part'].apply(lambda x : len(x)>0)].sample(n=25)"
   ]
  },
  {
   "cell_type": "markdown",
   "metadata": {},
   "source": [
    "The model calculations will show a strong dependency on the number values of the attribute which will be hard to reveal in the full string. Therefore, a function has been written that extracts the number digits from the entire string. The output of this function results in the following string of listed number values. Some sample values are shown."
   ]
  },
  {
   "cell_type": "code",
   "execution_count": 127,
   "metadata": {},
   "outputs": [
    {
     "name": "stdout",
     "output_type": "stream",
     "text": [
      "102359              no 250 (2019), annexe, no 95\n",
      "168248    ahead of print, 10 may 2018, pp. 1-18.\n",
      "126195                        vol. 8,2, vol. 8,2\n",
      "177342                                    23, 23\n",
      "178901                                  2019/228\n",
      "172234                            26(2017), 7-20\n",
      "180513                                      1345\n",
      "Name: part, dtype: object\n",
      "102359     250 2019 95\n",
      "168248    10 2018 1 18\n",
      "126195         8 2 8 2\n",
      "177342           23 23\n",
      "178901        2019 228\n",
      "172234    26 2017 7 20\n",
      "180513            1345\n",
      "Name: part, dtype: object\n"
     ]
    }
   ],
   "source": [
    "samples_part = [102359, 168248, 126195, 177342, 178901, 172234, 180513]\n",
    "\n",
    "print(df.part.iloc[samples_part])\n",
    "df = dpf.extract_number_digits_from_string(df, 'part')\n",
    "print(df.part.iloc[samples_part])"
   ]
  },
  {
   "cell_type": "code",
   "execution_count": 128,
   "metadata": {},
   "outputs": [
    {
     "name": "stdout",
     "output_type": "stream",
     "text": [
      "Array of unique attribute values\n",
      " ['' '1' '3' ... '867' '2009 201 223' '1962 92 106']\n",
      "\n",
      "Total number of unique values 21,302\n"
     ]
    }
   ],
   "source": [
    "print('Array of unique attribute values\\n', df.part.unique())\n",
    "print('\\nTotal number of unique values {:,d}'.format(len(df.part.unique())))"
   ]
  },
  {
   "cell_type": "markdown",
   "metadata": {},
   "source": [
    "Attribute $\\texttt{part}$ will be further processed in this way in the next chapters."
   ]
  },
  {
   "cell_type": "code",
   "execution_count": 129,
   "metadata": {},
   "outputs": [],
   "source": [
    "columns_metadata_dict['data_analysis_columns'].append('part')"
   ]
  },
  {
   "cell_type": "markdown",
   "metadata": {},
   "source": [
    "### person"
   ]
  },
  {
   "cell_type": "code",
   "execution_count": 130,
   "metadata": {},
   "outputs": [],
   "source": [
    "columns_metadata_dict['strings_columns'].append('person')"
   ]
  },
  {
   "cell_type": "markdown",
   "metadata": {},
   "source": [
    "Attribute $\\texttt{person}$ is a collection of personal name statements of the bibliographic unit, see [[FeatWiki](./A_References.ipynb/#feature_deduplication_wiki)]. The attribute out of the raw data is a dictionary column in the DataFrame with four possible key value pairs. Attribute $\\texttt{person}$ is split for processing reasons into a singular attribute for each key of the dictionary. The values come along as lists and the implemented function $\\texttt{.transform}\\_\\texttt{list}\\_\\texttt{to}\\_\\texttt{string}()$ will be used to process its elements into one single string of the new column."
   ]
  },
  {
   "cell_type": "code",
   "execution_count": 131,
   "metadata": {},
   "outputs": [
    {
     "data": {
      "text/plain": [
       "63615     {'100': [], '700': ['Charles', 'RoystonRichard...\n",
       "55838     {'100': ['BongrainMarcelle'], '700': [], '800'...\n",
       "155320    {'100': [], '700': [], '800': [], '245c': ['De...\n",
       "3636      {'100': ['BallardJ. G.'], '700': ['KörberJoach...\n",
       "152840      {'100': [], '700': [], '800': [], '245c': ['']}\n",
       "171456      {'100': [], '700': [], '800': [], '245c': ['']}\n",
       "155030    {'100': ['DysonBrian G.'], '700': [], '800': [...\n",
       "107378      {'100': [], '700': [], '800': [], '245c': ['']}\n",
       "58867     {'100': ['FrankMarkus'], '700': [], '800': [],...\n",
       "3025      {'100': ['SaintongeFrançois'], '700': [], '800...\n",
       "89362       {'100': [], '700': [], '800': [], '245c': ['']}\n",
       "124660    {'100': ['SellsPeter'], '700': ['WasowThomas']...\n",
       "30326     {'100': [], '700': ['MadelénatArnaud'], '800':...\n",
       "122549    {'100': ['ConejoEmilia'], '700': ['TonnelierBi...\n",
       "146625    {'100': ['ThülemeyerHeinrich Günther von'], '7...\n",
       "688       {'100': ['TorrachiniPietro'], '700': [], '800'...\n",
       "71449     {'100': ['ZaccheoLuigi'], '700': ['PasqualiFla...\n",
       "37036     {'100': ['TentenWilfried'], '700': [], '800': ...\n",
       "6782      {'100': ['OwensKelly Lee'], '700': [], '800': ...\n",
       "7123      {'100': ['StuartHerbert Arthur'], '700': ['Sau...\n",
       "Name: person, dtype: object"
      ]
     },
     "execution_count": 131,
     "metadata": {},
     "output_type": "execute_result"
    }
   ],
   "source": [
    "df.person.sample(n=20)"
   ]
  },
  {
   "cell_type": "code",
   "execution_count": 132,
   "metadata": {},
   "outputs": [
    {
     "name": "stdout",
     "output_type": "stream",
     "text": [
      "Number of records with filled person_100 115396, with missing person_100 68011 => 62.9%\n",
      "Number of records with filled person_700 73254, with missing person_700 110153 => 39.9%\n",
      "Number of records with filled person_800 1137, with missing person_800 182270 => 0.6%\n",
      "Number of records with filled person_245c 158011, with missing person_245c 25396 => 86.2%\n"
     ]
    }
   ],
   "source": [
    "for ending in ['100', '700', '800', '245c']:\n",
    "    df = dpf.transform_dictionary_to_list(df, 'person', ending)\n",
    "    df = dpf.transform_list_to_string(df, 'person_'+ending)\n",
    "\n",
    "    columns_metadata_dict['strings_columns'].append('person_'+ending)\n",
    "    daf.find_empty_in_column(df, columns_metadata_dict, 'person_'+ending)"
   ]
  },
  {
   "cell_type": "code",
   "execution_count": 133,
   "metadata": {},
   "outputs": [
    {
     "data": {
      "text/plain": [
       "9672                    erich schmidt-eenboom, ulrich stoll\n",
       "121013                    marieke verschuuren ... [et. al.]\n",
       "31401                            [leo ou micheline hilber?]\n",
       "112017                                     peter kürsteiner\n",
       "71505                                       luis pietracqua\n",
       "86339                                    ulrich kollbrunner\n",
       "15904                                        bonnie mccurry\n",
       "127751    [r. triana-del río, e. van den burg, r. stoop,...\n",
       "140917                                       carla manfredi\n",
       "43705                     von bruno assmann und peter selke\n",
       "117537                                       niessen, james\n",
       "80396                                      christine payeux\n",
       "100719                                      richard l. abel\n",
       "43535                                       güterbock, carl\n",
       "161087                  ed. by niels h. secher ... [et al.]\n",
       "136415                                                moore\n",
       "52719                                mishra, kameshwar nath\n",
       "112332                                  sriramachandrudu, p\n",
       "58060                                         paolo ceccoli\n",
       "154065                              texto: josep ma. cadena\n",
       "Name: person_245c, dtype: object"
      ]
     },
     "execution_count": 133,
     "metadata": {},
     "output_type": "execute_result"
    }
   ],
   "source": [
    "df.person_245c[df.person_245c.apply(lambda x : len(x)>0)].sample(n=20)"
   ]
  },
  {
   "cell_type": "code",
   "execution_count": 134,
   "metadata": {},
   "outputs": [
    {
     "data": {
      "text/plain": [
       "49684                     dumasalexandre\n",
       "70847                  reissnerelisabeth\n",
       "66345                           jacobmax\n",
       "46879     dzi͡a︡dykvladislav kirillovich\n",
       "65526                      barthesroland\n",
       "89902                    alexandergerard\n",
       "60248                  hoffmeisterjohann\n",
       "87636                   zesenphilipp von\n",
       "14180                          aslanreza\n",
       "134594                       kwadealicja\n",
       "57426                        maussmarcel\n",
       "60172                       claveldamian\n",
       "67797                        prousuzanne\n",
       "153338                    casellageorges\n",
       "29360                        reevephilip\n",
       "114943                      tekinalpünal\n",
       "114002                        pezéwarren\n",
       "100142                  brönnimannroland\n",
       "59774                     helmerbenjamin\n",
       "125364                         waltertim\n",
       "Name: person_100, dtype: object"
      ]
     },
     "execution_count": 134,
     "metadata": {},
     "output_type": "execute_result"
    }
   ],
   "source": [
    "df.person_100[df.person_100.apply(lambda x : len(x)>0)].sample(n=20)"
   ]
  },
  {
   "cell_type": "code",
   "execution_count": 135,
   "metadata": {},
   "outputs": [
    {
     "data": {
      "text/plain": [
       "178958                   volpepetra, schärlireto, hobilukas\n",
       "50059                          mention-schaarmarie-castille\n",
       "22507     holbeinm., béchirm., ludwigs., sommerfeldj., c...\n",
       "57483                               paloméramarie-france de\n",
       "92561                            desmarchelierjean-françois\n",
       "109964                                     gallandfrançoise\n",
       "43702                                            selkepeter\n",
       "122730                                        mautecornelia\n",
       "177819                                         labourierose\n",
       "123427    klugchristian, pohlealexander, kielsteffen, kr...\n",
       "94368                       robertsdavid, di natalestefania\n",
       "137412                                   vom berghans georg\n",
       "44626     albans., dingermannt., habsm., hagenmeyerm., s...\n",
       "21155                                            cuiyonghua\n",
       "181407    draperrichard, drapersamuel, edesbenjamin, fle...\n",
       "28383                                 reddickallen hilliard\n",
       "100477                                     holensteinthomas\n",
       "155817                                     anastasescuarety\n",
       "81555                        narainabodh k., kashyapjagdish\n",
       "62881            charterisrobert, university of st. andrews\n",
       "Name: person_700, dtype: object"
      ]
     },
     "execution_count": 135,
     "metadata": {},
     "output_type": "execute_result"
    }
   ],
   "source": [
    "df.person_700[df.person_700.apply(lambda x : len(x)>0)].sample(n=20)"
   ]
  },
  {
   "cell_type": "code",
   "execution_count": 136,
   "metadata": {},
   "outputs": [
    {
     "data": {
      "text/plain": [
       "23383               bendis\n",
       "62793              taymans\n",
       "133748              cowell\n",
       "90413             toriyama\n",
       "50379     goscinny, uderzo\n",
       "56064             dugomier\n",
       "8734               rodgers\n",
       "132816           watterson\n",
       "55628               blanck\n",
       "174453            giordani\n",
       "72677               clancy\n",
       "112113             eichler\n",
       "121880               ratte\n",
       "172537             osborne\n",
       "30590             rousseau\n",
       "35053            muszynski\n",
       "98320           mullenheim\n",
       "30301           baccalario\n",
       "15932             charlier\n",
       "21827          shimabukuro\n",
       "Name: person_800, dtype: object"
      ]
     },
     "execution_count": 136,
     "metadata": {},
     "output_type": "execute_result"
    }
   ],
   "source": [
    "df.person_800[df.person_800.apply(lambda x : len(x)>0)].sample(n=20)"
   ]
  },
  {
   "cell_type": "markdown",
   "metadata": {},
   "source": [
    "According to [[WiCo2001](./A_References.ipynb#wico2001)], attributes $\\texttt{person}\\_\\texttt{100}$ and $\\texttt{person}\\_\\texttt{700}$ hold standardized author information. Swissbib uses $\\texttt{person}\\_\\texttt{245c}$ as a fallback only, in case of missing $\\texttt{person}\\_\\texttt{100}$ and $\\texttt{person}\\_\\texttt{700}$."
   ]
  },
  {
   "cell_type": "code",
   "execution_count": 137,
   "metadata": {},
   "outputs": [
    {
     "data": {
      "text/html": [
       "<div>\n",
       "<style scoped>\n",
       "    .dataframe tbody tr th:only-of-type {\n",
       "        vertical-align: middle;\n",
       "    }\n",
       "\n",
       "    .dataframe tbody tr th {\n",
       "        vertical-align: top;\n",
       "    }\n",
       "\n",
       "    .dataframe thead th {\n",
       "        text-align: right;\n",
       "    }\n",
       "</style>\n",
       "<table border=\"1\" class=\"dataframe\">\n",
       "  <thead>\n",
       "    <tr style=\"text-align: right;\">\n",
       "      <th></th>\n",
       "      <th>person_245c</th>\n",
       "      <th>person_100</th>\n",
       "      <th>person_700</th>\n",
       "      <th>person_800</th>\n",
       "    </tr>\n",
       "  </thead>\n",
       "  <tbody>\n",
       "    <tr>\n",
       "      <th>145865</th>\n",
       "      <td>n.k. jemisin</td>\n",
       "      <td>jemisinn. k.</td>\n",
       "      <td></td>\n",
       "      <td>jemisin</td>\n",
       "    </tr>\n",
       "    <tr>\n",
       "      <th>46825</th>\n",
       "      <td>jean-marie agier, philippe graf</td>\n",
       "      <td>agierjean-marie</td>\n",
       "      <td>grafphilippe</td>\n",
       "      <td></td>\n",
       "    </tr>\n",
       "  </tbody>\n",
       "</table>\n",
       "</div>"
      ],
      "text/plain": [
       "                            person_245c       person_100    person_700  \\\n",
       "145865                     n.k. jemisin     jemisinn. k.                 \n",
       "46825   jean-marie agier, philippe graf  agierjean-marie  grafphilippe   \n",
       "\n",
       "       person_800  \n",
       "145865    jemisin  \n",
       "46825              "
      ]
     },
     "execution_count": 137,
     "metadata": {},
     "output_type": "execute_result"
    }
   ],
   "source": [
    "df[['person_245c', 'person_100', 'person_700', 'person_800']].loc[[145865, 46825]]"
   ]
  },
  {
   "cell_type": "markdown",
   "metadata": {},
   "source": [
    "Column $\\texttt{person}\\_\\texttt{245c}$ is identified as the most complete and usefull author indication attribute and will be used as a basis for the data of the feature matrix. Attributes $\\texttt{person}\\_\\texttt{100}$ and $\\texttt{person}\\_\\texttt{700}$ will also be added to the feature matrix."
   ]
  },
  {
   "cell_type": "code",
   "execution_count": 138,
   "metadata": {},
   "outputs": [],
   "source": [
    "columns_metadata_dict['data_analysis_columns'].append('person_100')\n",
    "columns_metadata_dict['data_analysis_columns'].append('person_700')\n",
    "#columns_metadata_dict['data_analysis_columns'].append('person_800')\n",
    "columns_metadata_dict['data_analysis_columns'].append('person_245c')"
   ]
  },
  {
   "cell_type": "code",
   "execution_count": 139,
   "metadata": {},
   "outputs": [
    {
     "name": "stdout",
     "output_type": "stream",
     "text": [
      "Ratio of records with missing person and corporate information 7.9%\n"
     ]
    }
   ],
   "source": [
    "df_no_person_no_corporate = df[['person', 'corporate', 'format_prefix']][\n",
    "    df.person_100.apply(lambda x : len(x)==0) &\n",
    "    df.person_700.apply(lambda x : len(x)==0) &\n",
    "    df.person_800.apply(lambda x : len(x)==0) &\n",
    "    df.person_245c.apply(lambda x : len(x)==0) &\n",
    "    df.corporate_110.apply(lambda x : len(x)==0) &\n",
    "    df.corporate_710.apply(lambda x : len(x)==0)\n",
    "]\n",
    "\n",
    "print('Ratio of records with missing person and corporate information {:.1f}%'.format(\n",
    "    len(df_no_person_no_corporate)/len(df)*100))"
   ]
  },
  {
   "cell_type": "code",
   "execution_count": 140,
   "metadata": {},
   "outputs": [
    {
     "data": {
      "text/plain": [
       "bk    11352\n",
       "cr     1571\n",
       "vm      863\n",
       "mu      254\n",
       "        154\n",
       "mp       98\n",
       "cf       78\n",
       "cl       76\n",
       "Name: format_prefix, dtype: int64"
      ]
     },
     "execution_count": 140,
     "metadata": {},
     "output_type": "execute_result"
    }
   ],
   "source": [
    "df_no_person_no_corporate.format_prefix.value_counts()"
   ]
  },
  {
   "cell_type": "markdown",
   "metadata": {},
   "source": [
    "A comparison between $\\texttt{person}$ and $\\texttt{corporate}$ shows that about 8% of the records have no information in neither of the two attributes. These records are distributed over all formats of the bibliographical unit."
   ]
  },
  {
   "cell_type": "markdown",
   "metadata": {},
   "source": [
    "### pubinit"
   ]
  },
  {
   "cell_type": "code",
   "execution_count": 141,
   "metadata": {},
   "outputs": [],
   "source": [
    "columns_metadata_dict['list_columns'] = ['pubinit']"
   ]
  },
  {
   "cell_type": "code",
   "execution_count": 142,
   "metadata": {},
   "outputs": [
    {
     "name": "stdout",
     "output_type": "stream",
     "text": [
      "Number of records with filled pubinit 61462, with missing pubinit 121945 => 33.5%\n"
     ]
    }
   ],
   "source": [
    "daf.find_empty_in_column(df, columns_metadata_dict, 'pubinit')"
   ]
  },
  {
   "cell_type": "markdown",
   "metadata": {},
   "source": [
    "The attribute holds the information on the publisher of the bibliographical unit. Some sample data is shown below."
   ]
  },
  {
   "cell_type": "code",
   "execution_count": 143,
   "metadata": {},
   "outputs": [
    {
     "data": {
      "text/plain": [
       "163592                                          [Doubleday]\n",
       "76664                                          [OPEN HOUSE]\n",
       "151138                                          [Routledge]\n",
       "169759    [Rio 2016 Organising Committee for the Olympic...\n",
       "163495                                             [[s.n.]]\n",
       "61083                                              [[s.n.]]\n",
       "7552                                             [Oetinger]\n",
       "42381                    [Lincoln Institute of Land Policy]\n",
       "129153                             [Albany: Matthew Bender]\n",
       "33464                           [Politique Revue de Débats]\n",
       "153851                               [Région SNCF Chambéry]\n",
       "161418                         [Japanese Olympic Committee]\n",
       "151812                                            [COJO 72]\n",
       "156527                             [Université de Bordeaux]\n",
       "175298                                               [LOOC]\n",
       "157668                  [[East Asian Organizing Committee]]\n",
       "141583                                             [[s.n.]]\n",
       "167734    [The PyeongChang Organising Committee for the ...\n",
       "179011                                             [[s.n.]]\n",
       "167047                                              [LOCOG]\n",
       "Name: pubinit, dtype: object"
      ]
     },
     "execution_count": 143,
     "metadata": {},
     "output_type": "execute_result"
    }
   ],
   "source": [
    "df.pubinit[df.pubinit.apply(lambda x : len(x)>0)].sample(n=20)"
   ]
  },
  {
   "cell_type": "markdown",
   "metadata": {},
   "source": [
    "Two kinds of entries stand out as special in the sample data."
   ]
  },
  {
   "cell_type": "code",
   "execution_count": 144,
   "metadata": {},
   "outputs": [
    {
     "data": {
      "text/plain": [
       "117866    [publisher not identified]\n",
       "3185                        [[s.n.]]\n",
       "Name: pubinit, dtype: object"
      ]
     },
     "execution_count": 144,
     "metadata": {},
     "output_type": "execute_result"
    }
   ],
   "source": [
    "df.pubinit.loc[[117866, 3185]]"
   ]
  },
  {
   "cell_type": "code",
   "execution_count": 145,
   "metadata": {},
   "outputs": [
    {
     "name": "stdout",
     "output_type": "stream",
     "text": [
      "Number of records with pubinit = 'publisher not identified' : 2795    \n",
      "Number of records with pubinit = '[s.n.]' : 4259\n"
     ]
    }
   ],
   "source": [
    "cnt_pni, cnt_sn = 0, 0\n",
    "\n",
    "for i in range(len(df)):\n",
    "    if len(df.pubinit.loc[i]) > 0:\n",
    "        if df.pubinit.loc[i][0] == 'publisher not identified':\n",
    "            cnt_pni = cnt_pni+1\n",
    "        if df.pubinit.loc[i][0] == '[s.n.]':\n",
    "            cnt_sn = cnt_sn+1\n",
    "\n",
    "print('Number of records with pubinit = \\'publisher not identified\\' : {:d}\\\n",
    "    \\nNumber of records with pubinit = \\'[s.n.]\\' : {:d}'.format(cnt_pni, cnt_sn))"
   ]
  },
  {
   "cell_type": "markdown",
   "metadata": {},
   "source": [
    "According to [[WiCo2001](./A_References.ipynb#wico2001)], this attribute holds the initial characters that do not correspond to anyone of word strings like ...\n",
    "- Verl., Verlag, Verlagsgesellschaft,\n",
    "- publ., publisher,\n",
    "- ed., editor, edition,\n",
    "- ...\n",
    "\n",
    "Swissbib's deduplication logic uses the such abbreviated values of this attribute. For the capstone project, the attribute is taken to further processing as one single concatenated string. The special entries shown above will also be handled as regular publisher's description."
   ]
  },
  {
   "cell_type": "code",
   "execution_count": 146,
   "metadata": {},
   "outputs": [],
   "source": [
    "columns_metadata_dict['data_analysis_columns'].append('pubinit')"
   ]
  },
  {
   "cell_type": "markdown",
   "metadata": {},
   "source": [
    "### pubword"
   ]
  },
  {
   "cell_type": "code",
   "execution_count": 147,
   "metadata": {},
   "outputs": [],
   "source": [
    "columns_metadata_dict['list_columns'] = ['pubword']"
   ]
  },
  {
   "cell_type": "code",
   "execution_count": 148,
   "metadata": {},
   "outputs": [
    {
     "name": "stdout",
     "output_type": "stream",
     "text": [
      "Number of records with filled pubword 61462, with missing pubword 121945 => 33.5%\n"
     ]
    }
   ],
   "source": [
    "daf.find_empty_in_column(df, columns_metadata_dict, 'pubword')"
   ]
  },
  {
   "cell_type": "markdown",
   "metadata": {},
   "source": [
    "Attribute $\\texttt{pubword}$ has the same MARC 21 basis as $\\texttt{pubinit}$. The attribute will be dropped due to redundancy."
   ]
  },
  {
   "cell_type": "markdown",
   "metadata": {},
   "source": [
    "### pubyear"
   ]
  },
  {
   "cell_type": "code",
   "execution_count": 149,
   "metadata": {},
   "outputs": [],
   "source": [
    "columns_metadata_dict['strings_columns'].append('pubyear')"
   ]
  },
  {
   "cell_type": "code",
   "execution_count": 150,
   "metadata": {},
   "outputs": [
    {
     "name": "stdout",
     "output_type": "stream",
     "text": [
      "Number of records with filled pubyear 183407, with missing pubyear 0 => 100.0%\n"
     ]
    }
   ],
   "source": [
    "daf.find_empty_in_column(df, columns_metadata_dict, 'pubyear')"
   ]
  },
  {
   "cell_type": "code",
   "execution_count": 151,
   "metadata": {},
   "outputs": [
    {
     "data": {
      "text/html": [
       "<div>\n",
       "<style scoped>\n",
       "    .dataframe tbody tr th:only-of-type {\n",
       "        vertical-align: middle;\n",
       "    }\n",
       "\n",
       "    .dataframe tbody tr th {\n",
       "        vertical-align: top;\n",
       "    }\n",
       "\n",
       "    .dataframe thead th {\n",
       "        text-align: right;\n",
       "    }\n",
       "</style>\n",
       "<table border=\"1\" class=\"dataframe\">\n",
       "  <thead>\n",
       "    <tr style=\"text-align: right;\">\n",
       "      <th></th>\n",
       "      <th>exactDate</th>\n",
       "      <th>pubyear</th>\n",
       "    </tr>\n",
       "  </thead>\n",
       "  <tbody>\n",
       "    <tr>\n",
       "      <th>0</th>\n",
       "      <td>1992uuuu</td>\n",
       "      <td>1992</td>\n",
       "    </tr>\n",
       "    <tr>\n",
       "      <th>1</th>\n",
       "      <td>1986uuuu</td>\n",
       "      <td>1986</td>\n",
       "    </tr>\n",
       "    <tr>\n",
       "      <th>2</th>\n",
       "      <td>1923uuuu</td>\n",
       "      <td>1923</td>\n",
       "    </tr>\n",
       "    <tr>\n",
       "      <th>3</th>\n",
       "      <td>1947uuuu</td>\n",
       "      <td>1947</td>\n",
       "    </tr>\n",
       "    <tr>\n",
       "      <th>4</th>\n",
       "      <td>1991uuuu</td>\n",
       "      <td>1991</td>\n",
       "    </tr>\n",
       "    <tr>\n",
       "      <th>...</th>\n",
       "      <td>...</td>\n",
       "      <td>...</td>\n",
       "    </tr>\n",
       "    <tr>\n",
       "      <th>183402</th>\n",
       "      <td>2018uuuu</td>\n",
       "      <td>2018</td>\n",
       "    </tr>\n",
       "    <tr>\n",
       "      <th>183403</th>\n",
       "      <td>2019uuuu</td>\n",
       "      <td>2019</td>\n",
       "    </tr>\n",
       "    <tr>\n",
       "      <th>183404</th>\n",
       "      <td>1930uuuu</td>\n",
       "      <td>1930</td>\n",
       "    </tr>\n",
       "    <tr>\n",
       "      <th>183405</th>\n",
       "      <td>2000uuuu</td>\n",
       "      <td>2000</td>\n",
       "    </tr>\n",
       "    <tr>\n",
       "      <th>183406</th>\n",
       "      <td>2018uuuu</td>\n",
       "      <td>2018</td>\n",
       "    </tr>\n",
       "  </tbody>\n",
       "</table>\n",
       "<p>183407 rows × 2 columns</p>\n",
       "</div>"
      ],
      "text/plain": [
       "       exactDate   pubyear\n",
       "0       1992uuuu  1992    \n",
       "1       1986uuuu  1986    \n",
       "2       1923uuuu  1923    \n",
       "3       1947uuuu  1947    \n",
       "4       1991uuuu  1991    \n",
       "...          ...       ...\n",
       "183402  2018uuuu  2018    \n",
       "183403  2019uuuu  2019    \n",
       "183404  1930uuuu  1930    \n",
       "183405  2000uuuu  2000    \n",
       "183406  2018uuuu  2018    \n",
       "\n",
       "[183407 rows x 2 columns]"
      ]
     },
     "execution_count": 151,
     "metadata": {},
     "output_type": "execute_result"
    }
   ],
   "source": [
    "df[['exactDate', 'pubyear']]"
   ]
  },
  {
   "cell_type": "code",
   "execution_count": 152,
   "metadata": {},
   "outputs": [
    {
     "data": {
      "text/html": [
       "<div>\n",
       "<style scoped>\n",
       "    .dataframe tbody tr th:only-of-type {\n",
       "        vertical-align: middle;\n",
       "    }\n",
       "\n",
       "    .dataframe tbody tr th {\n",
       "        vertical-align: top;\n",
       "    }\n",
       "\n",
       "    .dataframe thead th {\n",
       "        text-align: right;\n",
       "    }\n",
       "</style>\n",
       "<table border=\"1\" class=\"dataframe\">\n",
       "  <thead>\n",
       "    <tr style=\"text-align: right;\">\n",
       "      <th></th>\n",
       "      <th>docid</th>\n",
       "      <th>035liste</th>\n",
       "      <th>isbn</th>\n",
       "      <th>ttlfull</th>\n",
       "      <th>ttlpart</th>\n",
       "      <th>person</th>\n",
       "      <th>corporate</th>\n",
       "      <th>pubyear</th>\n",
       "      <th>decade</th>\n",
       "      <th>century</th>\n",
       "      <th>exactDate</th>\n",
       "      <th>...</th>\n",
       "      <th>coordinate_N</th>\n",
       "      <th>corporate_110</th>\n",
       "      <th>corporate_710</th>\n",
       "      <th>corporate_810</th>\n",
       "      <th>corporate_full</th>\n",
       "      <th>format_prefix</th>\n",
       "      <th>format_postfix</th>\n",
       "      <th>person_100</th>\n",
       "      <th>person_700</th>\n",
       "      <th>person_800</th>\n",
       "      <th>person_245c</th>\n",
       "    </tr>\n",
       "  </thead>\n",
       "  <tbody>\n",
       "  </tbody>\n",
       "</table>\n",
       "<p>0 rows × 35 columns</p>\n",
       "</div>"
      ],
      "text/plain": [
       "Empty DataFrame\n",
       "Columns: [docid, 035liste, isbn, ttlfull, ttlpart, person, corporate, pubyear, decade, century, exactDate, edition, part, pages, volumes, pubinit, pubword, scale, coordinate, doi, ismn, musicid, format, coordinate_E, coordinate_N, corporate_110, corporate_710, corporate_810, corporate_full, format_prefix, format_postfix, person_100, person_700, person_800, person_245c]\n",
       "Index: []\n",
       "\n",
       "[0 rows x 35 columns]"
      ]
     },
     "execution_count": 152,
     "metadata": {},
     "output_type": "execute_result"
    }
   ],
   "source": [
    "df[df.exactDate.str[:4] != df.pubyear.str[:4]]"
   ]
  },
  {
   "cell_type": "markdown",
   "metadata": {},
   "source": [
    "The four digits of $\\texttt{pubyear}$ hold identical data like the first four digits of field $\\texttt{exactDate}$. This observation corresponds to the expectation from the MARC 21 description of the attribute. The purpose of the attribute is to identify the year of publication of a bibliographic unit and store it for comparison in Swissbib's conventional deduplication implementation [[WiCo2001](./A_References.ipynb#wico2001)]."
   ]
  },
  {
   "cell_type": "markdown",
   "metadata": {},
   "source": [
    "Chapter [Feature Matrix Generation](./4_FeatureMatrixGeneration.ipynb) will apply a similarity metric for $\\texttt{exactDate}$ that takes the full date of publication into specific consideration. Attribute $\\texttt{pubyear}$ will be dropped as redundant."
   ]
  },
  {
   "cell_type": "markdown",
   "metadata": {},
   "source": [
    "### scale"
   ]
  },
  {
   "cell_type": "code",
   "execution_count": 153,
   "metadata": {},
   "outputs": [],
   "source": [
    "columns_metadata_dict['strings_columns'].append('scale')"
   ]
  },
  {
   "cell_type": "code",
   "execution_count": 154,
   "metadata": {},
   "outputs": [
    {
     "name": "stdout",
     "output_type": "stream",
     "text": [
      "Number of records with filled scale 793, with missing scale 182614 => 0.4%\n"
     ]
    }
   ],
   "source": [
    "daf.find_empty_in_column(df, columns_metadata_dict, 'scale')"
   ]
  },
  {
   "cell_type": "code",
   "execution_count": 155,
   "metadata": {},
   "outputs": [
    {
     "data": {
      "text/plain": [
       "array(['400000', '3000000', '50000', '75000', '300000', '800000', '10000',\n",
       "       '5650', '1:400,000', '700000', '100000', '25000', '275000',\n",
       "       '500000500000', '301000', '15000', '16667', 'Echelle : 1:50 000',\n",
       "       '1000000', '250000', '150000', 'Verschiedene Massstäbe',\n",
       "       'Echelle [ca. 1:440 000]', '5000050000',\n",
       "       '[Echelle non déterminée]', '200000', '118000', '1000010000',\n",
       "       '12500', 'Echelle 1:50.000', '5000', '500', 'Echelles diverses',\n",
       "       'Echelle 1:50 000', '1400000', '1600000', '550000', '1:50 000',\n",
       "       '1:60 000', '9117', '2000000', '20000100000', '1156015625', '8100',\n",
       "       '15700', '17400', '810011600', '16666', '500000', '70000',\n",
       "       'Echelle: 1:25.000', '1:25 000', '125000', '46000',\n",
       "       'Echelle 1:25.000 ; projection conforme cylindrique à axe oblique',\n",
       "       'Echelle 1:25.000', '300000700000', '850000', '2750', '1250000',\n",
       "       '1700000', '750000', '11000000', '17500', '250000250000',\n",
       "       '24000000', '3500000', '2500000', '240000', '60000', '650000',\n",
       "       '600000', '16000', '27000', '28000', '200000200000', '172000',\n",
       "       '24000', '2500065000', '56000', '40000', '35000', '1:18000',\n",
       "       '260000', '22500', '17000', '2600032000', '36000', '45000',\n",
       "       '2500040000', '20000', '30000', '275000275000', '15000000',\n",
       "       '2500033000', '490000', '1: 5 000 000', '120000', '37005000',\n",
       "       '56600', '16130', '1110023250', '126720', '2200000', '33000',\n",
       "       '7500', '6000060000', '11000', '10560', '13000', '160000', '18700',\n",
       "       '11450', '27600', '15500', '100', '10500', '1:35 000', '18500',\n",
       "       '2770000', '4000000', '150', '2000', '50000012500002000000200000',\n",
       "       '1100020000', '12000', 'Echelle : 1:100.000', '14000', '320000',\n",
       "       '9500000', '1:200 000', '5700000', '175000', '2700000', '3700000',\n",
       "       '4500000', '8000', '7700',\n",
       "       '850025 00010000 $d E0073010 $e E0073635 $f N0464638 $g N0464333',\n",
       "       '160009000', '5000000', '1875000', '2800000', '4000',\n",
       "       '1:8 000 000', '1:3 000 000', '38000', '1750049000',\n",
       "       '500000250000', '2670000', '2400000', '1960000', '2500025000',\n",
       "       '8500', '100000100000', '380000', '250002500025000', '13500',\n",
       "       '5500', '4500', '90000', 'Echelle 1:250 000'], dtype=object)"
      ]
     },
     "execution_count": 155,
     "metadata": {},
     "output_type": "execute_result"
    }
   ],
   "source": [
    "df.scale[df.scale.apply(lambda x : len(x)>0)].unique()"
   ]
  },
  {
   "cell_type": "markdown",
   "metadata": {},
   "source": [
    "Attribute $\\texttt{scale}$ holds scaling information on map units. The degree of filling in attribute $\\texttt{coordinate}$ is correlated with the degree of filling in attribute $\\texttt{scale}$."
   ]
  },
  {
   "cell_type": "code",
   "execution_count": 156,
   "metadata": {},
   "outputs": [
    {
     "name": "stdout",
     "output_type": "stream",
     "text": [
      "Number of records with either 'coordinate' or 'scale' not filled : 141\n"
     ]
    }
   ],
   "source": [
    "print('Number of records with either \\'coordinate\\' or \\'scale\\' not filled :', len(\n",
    "    df[['coordinate', 'scale']][\n",
    "        (df.scale.apply(lambda x : len(x)>0) & df.coordinate.apply(lambda x : len(x)==0)) |\n",
    "        (df.scale.apply(lambda x : len(x)==0) & df.coordinate.apply(lambda x : len(x)>0))\n",
    "    ]))"
   ]
  },
  {
   "cell_type": "markdown",
   "metadata": {},
   "source": [
    "Like for attribute $\\texttt{part}$, this attribute may hold a mixture of number digits and text strings. Even more, the scaling information may have preceeding '1:'."
   ]
  },
  {
   "cell_type": "code",
   "execution_count": 157,
   "metadata": {},
   "outputs": [
    {
     "data": {
      "text/plain": [
       "18353     [Echelle non déterminée]\n",
       "81281                      2200000\n",
       "94320                        25000\n",
       "56864                        15000\n",
       "87999                      2500000\n",
       "104538                      160000\n",
       "61315                       200000\n",
       "27783                        17400\n",
       "74028                       200000\n",
       "35994                        25000\n",
       "132936                      100000\n",
       "144918                       20000\n",
       "114280                       50000\n",
       "114425                       25000\n",
       "25064                      1600000\n",
       "126870                       25000\n",
       "134743                      100000\n",
       "113767                       25000\n",
       "14527                        75000\n",
       "126751                       25000\n",
       "53969                 200000200000\n",
       "55151                        25000\n",
       "110585                      275000\n",
       "5031                        300000\n",
       "106184                       35000\n",
       "Name: scale, dtype: object"
      ]
     },
     "execution_count": 157,
     "metadata": {},
     "output_type": "execute_result"
    }
   ],
   "source": [
    "df['scale'][df['scale'].apply(lambda x : len(x)>0)].sample(n=25)"
   ]
  },
  {
   "cell_type": "markdown",
   "metadata": {},
   "source": [
    "To unify the possible values of this attribute to scaling numbers, two transformations have been implemented. The first transformation will extract only the number digits from the $\\texttt{scale}$ string. The output will be a string with space separated numbers. This string will be the input for the second function, which removes explicitly strings '1 '. The effect of both functions applied one after the other is shown for some examples, below."
   ]
  },
  {
   "cell_type": "code",
   "execution_count": 158,
   "metadata": {},
   "outputs": [
    {
     "name": "stdout",
     "output_type": "stream",
     "text": [
      "178473    [Echelle non déterminée]\n",
      "122281                500000250000\n",
      "27755                         8100\n",
      "23380             Echelle 1:50 000\n",
      "31391                     1:25 000\n",
      "35950                      1700000\n",
      "Name: scale, dtype: object\n",
      "178473                \n",
      "122281    500000250000\n",
      "27755             8100\n",
      "23380           50 000\n",
      "31391           25 000\n",
      "35950          1700000\n",
      "Name: scale, dtype: object\n"
     ]
    }
   ],
   "source": [
    "samples_scale = [178473, 122281, 27755, 23380, 31391, 35950]\n",
    "\n",
    "print(df.scale.iloc[samples_scale])\n",
    "df = dpf.extract_number_digits_from_string(df, 'scale')\n",
    "df = dpf.extract_scaling_from_scale(df)\n",
    "print(df.scale.iloc[samples_scale])"
   ]
  },
  {
   "cell_type": "markdown",
   "metadata": {},
   "source": [
    "The modified attribute will be taken over to further processing [[WiCo2001](./A_References.ipynb#wico2001)]."
   ]
  },
  {
   "cell_type": "code",
   "execution_count": 159,
   "metadata": {},
   "outputs": [],
   "source": [
    "columns_metadata_dict['data_analysis_columns'].append('scale')"
   ]
  },
  {
   "cell_type": "markdown",
   "metadata": {},
   "source": [
    "### ttlfull"
   ]
  },
  {
   "cell_type": "code",
   "execution_count": 160,
   "metadata": {},
   "outputs": [],
   "source": [
    "columns_metadata_dict['strings_columns'].append('ttlfull')"
   ]
  },
  {
   "cell_type": "markdown",
   "metadata": {},
   "source": [
    "Attribute $\\texttt{ttlfull}$ holds the full title of the bibliographic unit, see [[FeatWiki](./A_References.ipynb/#feature_deduplication_wiki)]. Some examples are shown below."
   ]
  },
  {
   "cell_type": "code",
   "execution_count": 161,
   "metadata": {},
   "outputs": [
    {
     "data": {
      "text/plain": [
       "31723                  {'245': ['Qingdai de Shiji yanjiu']}\n",
       "134247    {'245': ['American Nation', 'A History: Analyt...\n",
       "96035                          {'245': ['Le super saïyen']}\n",
       "66796                       {'245': ['Léontine Beaugrand']}\n",
       "119144    {'245': ['Reinhold Niebuhr to William Scarlett...\n",
       "167973    {'245': ['The international year of volunteers']}\n",
       "101854                       {'245': ['L'enfant du canal']}\n",
       "61702     {'245': ['Das Schulweggeheimnis', 'mit Fragen ...\n",
       "20078     {'245': ['The rise and fall of Nikephoros II P...\n",
       "119139    {'245': ['Reinhold Niebuhr to William Scarlett...\n",
       "79257     {'245': ['Sei ciò che dai', 'conversazioni con...\n",
       "149884    {'245': ['The XIth Olympic Games Berlin, 1936'...\n",
       "66103     {'245': ['Georges Bataille', 'Emmanuel Tibloux...\n",
       "17268     {'245': ['[Tätigkeitsberichte, Schweizerischer...\n",
       "4445      {'245': ['Halleluja!', 'ein Weihnachtsalbum : ...\n",
       "94295     {'245': ['Weihnachtsausstellung Bernischer Kün...\n",
       "164216                   {'245': ['La légende des cycles']}\n",
       "748       {'245': ['Il ministro degl' infermi per ajuto ...\n",
       "111568    {'245': ['Kleine Schlagzeugschule', 'für sämtl...\n",
       "165749    {'245': ['XXIII Olympic Winter Games', '2018 w...\n",
       "Name: ttlfull, dtype: object"
      ]
     },
     "execution_count": 161,
     "metadata": {},
     "output_type": "execute_result"
    }
   ],
   "source": [
    "df.ttlfull.sample(n=20)"
   ]
  },
  {
   "cell_type": "markdown",
   "metadata": {},
   "source": [
    "The attribute is a dictionary column in the DataFrame. There are two key value pairs possible in this attribute. For their processing, two new attributes will be added to the DataFrame, one for each key value pair. The values come along as lists. The implemented function $\\texttt{.transform}\\_\\texttt{list}\\_\\texttt{to}\\_\\texttt{string}()$ will be used to process the list elements into one single string of the column."
   ]
  },
  {
   "cell_type": "code",
   "execution_count": 162,
   "metadata": {},
   "outputs": [
    {
     "name": "stdout",
     "output_type": "stream",
     "text": [
      "Number of records with filled ttlfull_245 183407, with missing ttlfull_245 0 => 100.0%\n",
      "Number of records with filled ttlfull_246 15897, with missing ttlfull_246 167510 => 8.7%\n"
     ]
    }
   ],
   "source": [
    "for ending in ['245', '246']:\n",
    "    df = dpf.transform_dictionary_to_list(df, 'ttlfull', ending)\n",
    "    df = dpf.transform_list_to_string(df, 'ttlfull_'+ending)\n",
    "\n",
    "    columns_metadata_dict['strings_columns'].append('ttlfull_'+ending)\n",
    "    daf.find_empty_in_column(df, columns_metadata_dict, 'ttlfull_'+ending)"
   ]
  },
  {
   "cell_type": "markdown",
   "metadata": {},
   "source": [
    "The title statement, attribute $\\texttt{ttlfull}\\_\\texttt{245}$, is filled for every record in the data set. This makes the attribute a central attribute for record pair comparisons. Attribute $\\texttt{ttlfull}\\_\\texttt{246}$ on the other hand is sparsely filled. Some samples are shown below."
   ]
  },
  {
   "cell_type": "code",
   "execution_count": 163,
   "metadata": {},
   "outputs": [
    {
     "data": {
      "text/plain": [
       "92733     cross-species hybridization and the origin of ...\n",
       "161228                         seigneurs et forçats du vélo\n",
       "114291    bern, abschnittsgrenzen \"centro\" = limites des...\n",
       "138511    stefan altenburger, objekte, installationen, f...\n",
       "165013                  the first book of the olympic games\n",
       "2389                                consolers of the lonely\n",
       "107660    legislative history of the alaska power admini...\n",
       "44243                               versicherungsmathematik\n",
       "169186    economic aspects and the summer olympics, a re...\n",
       "42274     polymeric surfactants, dispersion stability an...\n",
       "19656                  fdp. die liberalen kanton st. gallen\n",
       "84213     verdauung - die beste medizin aus zwei welten,...\n",
       "9478                                               aranjuez\n",
       "7226      latium oder das alte rom in seinen sprüchwörte...\n",
       "115860           half a million images online and counting!\n",
       "137325    mehr für morgen, das vorsorge-magazin für alle...\n",
       "54393                                              briciole\n",
       "55201       gespensterponychaos!, spuk im stall und überall\n",
       "171067                press accommodation guide, april 2003\n",
       "8422                                             miami vice\n",
       "Name: ttlfull_245, dtype: object"
      ]
     },
     "execution_count": 163,
     "metadata": {},
     "output_type": "execute_result"
    }
   ],
   "source": [
    "df.ttlfull_245.sample(20)"
   ]
  },
  {
   "cell_type": "code",
   "execution_count": 164,
   "metadata": {},
   "outputs": [
    {
     "data": {
      "text/plain": [
       "129602                      court and the chronic inebriate\n",
       "29304                                                apollo\n",
       "177974    association du très-saint et immaculé coeur de...\n",
       "51733                pre-malthusian doctrines of population\n",
       "126890    gottfried arnolds unparteiische kirchen- und k...\n",
       "33346                                      devenir écrivain\n",
       "30178     série de publications unia - regard sur notre ...\n",
       "63509     the great and weighty considerations relating ...\n",
       "103421    tag als ... informatikerin, ingenieurin, pfleg...\n",
       "108079    implications of treaty on final german settlem...\n",
       "72316                                        lettres à théo\n",
       "106498     laws of business for all the states of the union\n",
       "108182    a treatise on the law of carriers of goods and...\n",
       "101848    assurances sociales internationales: avant le ...\n",
       "76112                                                 tttop\n",
       "14016                                mulher do fim do mundo\n",
       "133701                                         human rights\n",
       "131584       law of wills and the administration of estates\n",
       "116498     works for solo violin, solo viola and solo cello\n",
       "128421    xi jinping de qinian zhiqing suiyue, xi jinpin...\n",
       "Name: ttlfull_246, dtype: object"
      ]
     },
     "execution_count": 164,
     "metadata": {},
     "output_type": "execute_result"
    }
   ],
   "source": [
    "df.ttlfull_246[df.ttlfull_246.apply(lambda x : len(x)>0)].sample(20)"
   ]
  },
  {
   "cell_type": "code",
   "execution_count": 165,
   "metadata": {},
   "outputs": [
    {
     "data": {
      "text/html": [
       "<div>\n",
       "<style scoped>\n",
       "    .dataframe tbody tr th:only-of-type {\n",
       "        vertical-align: middle;\n",
       "    }\n",
       "\n",
       "    .dataframe tbody tr th {\n",
       "        vertical-align: top;\n",
       "    }\n",
       "\n",
       "    .dataframe thead th {\n",
       "        text-align: right;\n",
       "    }\n",
       "</style>\n",
       "<table border=\"1\" class=\"dataframe\">\n",
       "  <thead>\n",
       "    <tr style=\"text-align: right;\">\n",
       "      <th></th>\n",
       "      <th>ttlfull_245</th>\n",
       "      <th>ttlfull_246</th>\n",
       "    </tr>\n",
       "  </thead>\n",
       "  <tbody>\n",
       "    <tr>\n",
       "      <th>106789</th>\n",
       "      <td>principles of the english law of contract and ...</td>\n",
       "      <td>principles of the english law of contract and ...</td>\n",
       "    </tr>\n",
       "    <tr>\n",
       "      <th>147883</th>\n",
       "      <td>smallfoot, ein eisigartiges abenteuer</td>\n",
       "      <td>small foot</td>\n",
       "    </tr>\n",
       "    <tr>\n",
       "      <th>177020</th>\n",
       "      <td>dsm-5 pocket guide for elder mental health</td>\n",
       "      <td>elder mental health</td>\n",
       "    </tr>\n",
       "  </tbody>\n",
       "</table>\n",
       "</div>"
      ],
      "text/plain": [
       "                                              ttlfull_245  \\\n",
       "106789  principles of the english law of contract and ...   \n",
       "147883              smallfoot, ein eisigartiges abenteuer   \n",
       "177020         dsm-5 pocket guide for elder mental health   \n",
       "\n",
       "                                              ttlfull_246  \n",
       "106789  principles of the english law of contract and ...  \n",
       "147883                                         small foot  \n",
       "177020                                elder mental health  "
      ]
     },
     "execution_count": 165,
     "metadata": {},
     "output_type": "execute_result"
    }
   ],
   "source": [
    "df[['ttlfull_245', 'ttlfull_246']].loc[[106789, 147883, 177020]]"
   ]
  },
  {
   "cell_type": "markdown",
   "metadata": {},
   "source": [
    "According to [[WiCo2001](./A_References.ipynb#wico2001)], attribute $\\texttt{ttlfull}\\_\\texttt{245}$ holds the title of a bibliographic unit as it is appears on its publication. Attribute $\\texttt{ttlfull}\\_\\texttt{246}$ holds variations of the title that appear on the back of a unit or on the cover. Alternative diction and even some very special ideas of the people that have entered the data can be stored in this field."
   ]
  },
  {
   "cell_type": "markdown",
   "metadata": {},
   "source": [
    "As $\\texttt{ttlfull}\\_\\texttt{245}$ can vary from $\\texttt{ttlfull}\\_\\texttt{246}$, the two new columns will be used as a basis for the data for the feature matrix."
   ]
  },
  {
   "cell_type": "code",
   "execution_count": 166,
   "metadata": {},
   "outputs": [],
   "source": [
    "columns_metadata_dict['data_analysis_columns'].append('ttlfull_245')\n",
    "columns_metadata_dict['data_analysis_columns'].append('ttlfull_246')"
   ]
  },
  {
   "cell_type": "markdown",
   "metadata": {},
   "source": [
    "### ttlpart"
   ]
  },
  {
   "cell_type": "code",
   "execution_count": 167,
   "metadata": {},
   "outputs": [],
   "source": [
    "columns_metadata_dict['strings_columns'].append('ttlpart')"
   ]
  },
  {
   "cell_type": "code",
   "execution_count": 168,
   "metadata": {},
   "outputs": [
    {
     "name": "stdout",
     "output_type": "stream",
     "text": [
      "Number of records with filled ttlpart 183407, with missing ttlpart 0 => 100.0%\n"
     ]
    }
   ],
   "source": [
    "daf.find_empty_in_column(df, columns_metadata_dict, 'ttlpart')"
   ]
  },
  {
   "cell_type": "code",
   "execution_count": 169,
   "metadata": {},
   "outputs": [
    {
     "data": {
      "text/plain": [
       "44099     {'245': ['Under What Conditions Are Value Chai...\n",
       "7180      {'245': ['Le Landskron', 'une balade à travers...\n",
       "163666                      {'245': ['The high jump book']}\n",
       "32402     {'245': ['Die Aeschbacher-Diät', '50 Lektionen...\n",
       "6850                         {'245': ['Kiri sings Berlin']}\n",
       "49376     {'245': ['La double contrainte', 'L'influence ...\n",
       "38278     {'245': ['Creating and protecting Zambia's wea...\n",
       "79261                                   {'245': ['Encore']}\n",
       "110772    {'245': ['Circulating blood cells and extracel...\n",
       "75466                   {'245': ['La perfection du crime']}\n",
       "50909     {'245': ['Cristal and Azurite: new tools for i...\n",
       "93878                     {'245': ['Rilke und Frankreich']}\n",
       "31460                         {'245': ['Schmidt-Rottluff']}\n",
       "124497    {'245': ['Diane di Prima', 'visionary poetics ...\n",
       "168988    {'245': ['A global game', 'sport, culture, dev...\n",
       "81610     {'245': ['First steps towards an institution o...\n",
       "139563    {'245': ['Politics of Oil', 'A Study of Privat...\n",
       "7838                             {'245': ['Lyrical Sitar']}\n",
       "109422    {'245': ['Imja sobstvennoe: problemy referenci...\n",
       "139796    {'245': ['Prévention communautaire et réseaux ...\n",
       "Name: ttlpart, dtype: object"
      ]
     },
     "execution_count": 169,
     "metadata": {},
     "output_type": "execute_result"
    }
   ],
   "source": [
    "df.ttlpart.sample(n=20)"
   ]
  },
  {
   "cell_type": "markdown",
   "metadata": {},
   "source": [
    "The attribute is described to be the same like $\\texttt{ttlfull_245}$, [[FeatWiki](./A_References.ipynb/#feature_deduplication_wiki)]. The comparison of the two attributes after the basic transformation of $\\texttt{ttlpart}$ shows that this expectation is valid for all records."
   ]
  },
  {
   "cell_type": "code",
   "execution_count": 170,
   "metadata": {},
   "outputs": [],
   "source": [
    "df = dpf.transform_dictionary_to_list(df, 'ttlpart', '245')\n",
    "df = dpf.transform_list_to_string(df, 'ttlpart_245')"
   ]
  },
  {
   "cell_type": "code",
   "execution_count": 171,
   "metadata": {},
   "outputs": [
    {
     "data": {
      "text/html": [
       "<div>\n",
       "<style scoped>\n",
       "    .dataframe tbody tr th:only-of-type {\n",
       "        vertical-align: middle;\n",
       "    }\n",
       "\n",
       "    .dataframe tbody tr th {\n",
       "        vertical-align: top;\n",
       "    }\n",
       "\n",
       "    .dataframe thead th {\n",
       "        text-align: right;\n",
       "    }\n",
       "</style>\n",
       "<table border=\"1\" class=\"dataframe\">\n",
       "  <thead>\n",
       "    <tr style=\"text-align: right;\">\n",
       "      <th></th>\n",
       "      <th>docid</th>\n",
       "      <th>035liste</th>\n",
       "      <th>isbn</th>\n",
       "      <th>ttlfull</th>\n",
       "      <th>ttlpart</th>\n",
       "      <th>person</th>\n",
       "      <th>corporate</th>\n",
       "      <th>pubyear</th>\n",
       "      <th>decade</th>\n",
       "      <th>century</th>\n",
       "      <th>exactDate</th>\n",
       "      <th>...</th>\n",
       "      <th>corporate_810</th>\n",
       "      <th>corporate_full</th>\n",
       "      <th>format_prefix</th>\n",
       "      <th>format_postfix</th>\n",
       "      <th>person_100</th>\n",
       "      <th>person_700</th>\n",
       "      <th>person_800</th>\n",
       "      <th>person_245c</th>\n",
       "      <th>ttlfull_245</th>\n",
       "      <th>ttlfull_246</th>\n",
       "      <th>ttlpart_245</th>\n",
       "    </tr>\n",
       "  </thead>\n",
       "  <tbody>\n",
       "  </tbody>\n",
       "</table>\n",
       "<p>0 rows × 38 columns</p>\n",
       "</div>"
      ],
      "text/plain": [
       "Empty DataFrame\n",
       "Columns: [docid, 035liste, isbn, ttlfull, ttlpart, person, corporate, pubyear, decade, century, exactDate, edition, part, pages, volumes, pubinit, pubword, scale, coordinate, doi, ismn, musicid, format, coordinate_E, coordinate_N, corporate_110, corporate_710, corporate_810, corporate_full, format_prefix, format_postfix, person_100, person_700, person_800, person_245c, ttlfull_245, ttlfull_246, ttlpart_245]\n",
       "Index: []\n",
       "\n",
       "[0 rows x 38 columns]"
      ]
     },
     "execution_count": 171,
     "metadata": {},
     "output_type": "execute_result"
    }
   ],
   "source": [
    "df[df.ttlpart_245!=df.ttlfull_245]"
   ]
  },
  {
   "cell_type": "markdown",
   "metadata": {},
   "source": [
    "Due to its redandancy, the attribute will be dropped and will not be processed further in the model."
   ]
  },
  {
   "cell_type": "markdown",
   "metadata": {},
   "source": [
    "### volumes"
   ]
  },
  {
   "cell_type": "code",
   "execution_count": 172,
   "metadata": {},
   "outputs": [],
   "source": [
    "columns_metadata_dict['list_columns'].append('volumes')"
   ]
  },
  {
   "cell_type": "code",
   "execution_count": 173,
   "metadata": {},
   "outputs": [
    {
     "name": "stdout",
     "output_type": "stream",
     "text": [
      "Number of records with filled volumes 161471, with missing volumes 21936 => 88.0%\n"
     ]
    }
   ],
   "source": [
    "daf.find_empty_in_column(df, columns_metadata_dict, 'volumes')"
   ]
  },
  {
   "cell_type": "markdown",
   "metadata": {},
   "source": [
    "This attribute holds information on the number of physical pages (see attribute $\\texttt{pages}$ above), volumes, total playing time etc. of the bibliographic unit [[FeatWiki](./A_References.ipynb/#feature_deduplication_wiki)] depending on its format. Swissbib extracts available information on the volume indication of a bibliographical unit out of its MARC data. This data normalization step is very sophisticated [[WiCo2001](./A_References.ipynb#wico2001)]. Some examples of the attribute's filling are shown below."
   ]
  },
  {
   "cell_type": "code",
   "execution_count": 174,
   "metadata": {},
   "outputs": [
    {
     "data": {
      "text/plain": [
       "14550                                      [1 Compact Disc]\n",
       "145128                                         [230 Seiten]\n",
       "125253                                         [153 Seiten]\n",
       "108635                                                   []\n",
       "27589                                 [[1] pl., 36, 425 S.]\n",
       "28087                                           [72 Seiten]\n",
       "94047     [2, 1, 12, 165 Seiten, 1 unnumbered leaf of pl...\n",
       "151292                                [1 vol. (non paginé)]\n",
       "14862                            [1 Compact-Disc (48 Min.)]\n",
       "80862                                                    []\n",
       "71947                                              [180 p.]\n",
       "103385                                     [1 photographie]\n",
       "19859                                              [691 p.]\n",
       "136187                                  [1 online resource]\n",
       "28356                                          [172 Seiten]\n",
       "Name: volumes, dtype: object"
      ]
     },
     "execution_count": 174,
     "metadata": {},
     "output_type": "execute_result"
    }
   ],
   "source": [
    "df['volumes'].sample(n=15)"
   ]
  },
  {
   "cell_type": "code",
   "execution_count": 175,
   "metadata": {},
   "outputs": [
    {
     "name": "stdout",
     "output_type": "stream",
     "text": [
      "=> Maximum number of list elements 3\n"
     ]
    }
   ],
   "source": [
    "print('=> Maximum number of list elements', max(df.volumes.apply(lambda x : len(x))))"
   ]
  },
  {
   "cell_type": "code",
   "execution_count": 176,
   "metadata": {},
   "outputs": [
    {
     "data": {
      "text/plain": [
       "117116                                  [1 online resource]\n",
       "173792                                             [244 p.]\n",
       "182361                                 [1 Online-Ressource]\n",
       "146831                                             [472 p.]\n",
       "122442                                 [1 Online-Ressource]\n",
       "151911                                              [42 p.]\n",
       "15583                                      [1 Schallplatte]\n",
       "24766                                              [312 p.]\n",
       "179099                  [1 ressource en ligne (55 minutes)]\n",
       "55833     [1 online resource (1 online resource (378 p.) )]\n",
       "163644                                             [205 p.]\n",
       "88170                                              [417 p.]\n",
       "31462                                    [viii, 280 Seiten]\n",
       "120283                                  [1 online resource]\n",
       "176107                                             [143 p.]\n",
       "Name: volumes, dtype: object"
      ]
     },
     "execution_count": 176,
     "metadata": {},
     "output_type": "execute_result"
    }
   ],
   "source": [
    "df.volumes[df.volumes.apply(lambda x : len(x)==1)].sample(n=15)"
   ]
  },
  {
   "cell_type": "code",
   "execution_count": 177,
   "metadata": {},
   "outputs": [
    {
     "data": {
      "text/plain": [
       "33689              [1 online resource., 1 online resource.]\n",
       "33968              [1 online resource., 1 online resource.]\n",
       "39815     [1 online resource (Online-Ressource), 1 onlin...\n",
       "60700                     [222 pages, 1 DVD-vidéo (90 min)]\n",
       "60555                   [1 Partitur (7 Seiten), 32 Stimmen]\n",
       "63320     [1 Online-Ressource ([3], 2 leaves, 3-4 p., 5-...\n",
       "32902              [1 online resource., 1 online resource.]\n",
       "72520     [58 verschieden gezählte Blätter, 1 DVD-ROM ; ...\n",
       "60697                  [1 Partitur (11 Seiten), 67 Stimmen]\n",
       "60556                  [1 Partitur (13 Seiten), 33 Stimmen]\n",
       "146694                [1 Band (nicht paginiert), 32 Seiten]\n",
       "83336                            [Score ( 20 p.), 22 parts]\n",
       "38737     [1 online resource (Online-Ressource), 1 onlin...\n",
       "85373                              [Score (24 p.), 5 Parts]\n",
       "94710                            [92 Seiten, 42 Tierkarten]\n",
       "Name: volumes, dtype: object"
      ]
     },
     "execution_count": 177,
     "metadata": {},
     "output_type": "execute_result"
    }
   ],
   "source": [
    "df.volumes[df.volumes.apply(lambda x : len(x)==2)].sample(n=15)"
   ]
  },
  {
   "cell_type": "code",
   "execution_count": 178,
   "metadata": {
    "scrolled": true
   },
   "outputs": [
    {
     "data": {
      "text/plain": [
       "73897                          [XI, 213 S., Portr., 23 cm]\n",
       "80258    [1 Partitur (5 Seiten), 32 Stimmen, Wiedlisbac...\n",
       "Name: volumes, dtype: object"
      ]
     },
     "execution_count": 178,
     "metadata": {},
     "output_type": "execute_result"
    }
   ],
   "source": [
    "df.volumes[df.volumes.apply(lambda x : len(x)==3)].head()"
   ]
  },
  {
   "cell_type": "code",
   "execution_count": 179,
   "metadata": {},
   "outputs": [
    {
     "data": {
      "text/plain": [
       "['XXII, 205 Seiten, XIX Blätter Tafeln']"
      ]
     },
     "execution_count": 179,
     "metadata": {},
     "output_type": "execute_result"
    }
   ],
   "source": [
    "df.volumes.loc[126736]"
   ]
  },
  {
   "cell_type": "code",
   "execution_count": 180,
   "metadata": {},
   "outputs": [
    {
     "data": {
      "text/plain": [
       "['1 flexi disque', '1 volume (sans pagination)']"
      ]
     },
     "execution_count": 180,
     "metadata": {},
     "output_type": "execute_result"
    }
   ],
   "source": [
    "df.volumes.loc[94679]"
   ]
  },
  {
   "cell_type": "markdown",
   "metadata": {},
   "source": [
    "Attribute $\\texttt{volumes}$ comes along as a list of string elements. A function for data preparation has been written to extract all elements out of the list and store them as a single string of lowercase characters. This function will be used for preparing the data of the goldstandard in chapter [Goldstandard and Data Preparation](./2_GoldstandardDataPreparation.ipynb)."
   ]
  },
  {
   "cell_type": "code",
   "execution_count": 181,
   "metadata": {},
   "outputs": [],
   "source": [
    "df = dpf.transform_list_to_string(df, 'volumes')"
   ]
  },
  {
   "cell_type": "code",
   "execution_count": 182,
   "metadata": {},
   "outputs": [
    {
     "data": {
      "text/plain": [
       "170283            1 vol. (non paginé)\n",
       "9186      2 dvd-videos (ca. 102 min.)\n",
       "101622             1 online-ressource\n",
       "84862                           20 p.\n",
       "117495              1 online resource\n",
       "137273                     198 seiten\n",
       "75427           8, 342 s., 4 photogr.\n",
       "94881                                \n",
       "21402                      351 seiten\n",
       "31923                 xxv, 176 seiten\n",
       "138610              1 online resource\n",
       "134150                  ix, 495 pages\n",
       "173241                         127 p.\n",
       "59298                      404 seiten\n",
       "34764                      214 seiten\n",
       "119119              1 online resource\n",
       "169278                          11 p.\n",
       "104014                  x, 175 seiten\n",
       "173700                    85 s. 1977.\n",
       "92443              1 online-ressource\n",
       "29201                    x, 158 pages\n",
       "25450                      294 seiten\n",
       "34122       1 online resource (41 p.)\n",
       "62832                                \n",
       "163872            1 vol. (non paginé)\n",
       "Name: volumes, dtype: object"
      ]
     },
     "execution_count": 182,
     "metadata": {},
     "output_type": "execute_result"
    }
   ],
   "source": [
    "df['volumes'].sample(n=25)"
   ]
  },
  {
   "cell_type": "markdown",
   "metadata": {},
   "source": [
    "Analogous to attribute $\\texttt{part}$, the model calculations will show a strong dependency on the number values of attribute $\\texttt{volumes}$ which will be hard to reveal in the full string. Therefore, a function has been written that extracts the number digits from the entire string. The output of this function results in the following string of listed number values. Some sample values are shown below."
   ]
  },
  {
   "cell_type": "code",
   "execution_count": 183,
   "metadata": {},
   "outputs": [
    {
     "name": "stdout",
     "output_type": "stream",
     "text": [
      "14608                                      1 disque compact\n",
      "32325                                                303 p.\n",
      "50711                                        xx, 488 seiten\n",
      "27489                                   [1] pl., 36, 425 s.\n",
      "65788                                            iv, 215 p.\n",
      "142225    1 online resource (xix, 254 s. 133 abb., 128 a...\n",
      "Name: volumes, dtype: object\n",
      "14608                 1\n",
      "32325               303\n",
      "50711               488\n",
      "27489          1 36 425\n",
      "65788               215\n",
      "142225    1 254 133 128\n",
      "Name: volumes, dtype: object\n"
     ]
    }
   ],
   "source": [
    "sample_volumes = [14608, 32325, 50711, 27489, 65788, 142225]\n",
    "\n",
    "print(df.volumes.iloc[sample_volumes])\n",
    "df = dpf.extract_number_digits_from_string(df, 'volumes')\n",
    "print(df.volumes.iloc[sample_volumes])"
   ]
  },
  {
   "cell_type": "code",
   "execution_count": 184,
   "metadata": {},
   "outputs": [
    {
     "name": "stdout",
     "output_type": "stream",
     "text": [
      "Array of unique attribute values\n",
      " ['102 114' '43' '75' ... '394 40' '2 327' '26 7']\n",
      "\n",
      "Total number of unique values 11,150\n"
     ]
    }
   ],
   "source": [
    "print('Array of unique attribute values\\n', df.volumes.unique())\n",
    "print('\\nTotal number of unique values {:,d}'.format(len(df.volumes.unique())))"
   ]
  },
  {
   "cell_type": "markdown",
   "metadata": {},
   "source": [
    "The attribute will be further processed in this way in the chapters to come."
   ]
  },
  {
   "cell_type": "code",
   "execution_count": 185,
   "metadata": {},
   "outputs": [],
   "source": [
    "columns_metadata_dict['data_analysis_columns'].append('volumes')"
   ]
  },
  {
   "cell_type": "markdown",
   "metadata": {},
   "source": [
    "## Summary"
   ]
  },
  {
   "cell_type": "markdown",
   "metadata": {},
   "source": [
    "The result of this chapter is an analysis of the attributes of the raw data [[FeatWiki](./A_References.ipynb/#feature_deduplication_wiki)] for the capstone project. Out of this analysis, the attributes have been identified that are considered to be relevant for comparison. The list of these attributes is shown below."
   ]
  },
  {
   "cell_type": "code",
   "execution_count": 186,
   "metadata": {},
   "outputs": [
    {
     "data": {
      "text/plain": [
       "['coordinate_E',\n",
       " 'coordinate_N',\n",
       " 'corporate_full',\n",
       " 'doi',\n",
       " 'edition',\n",
       " 'exactDate',\n",
       " 'format_prefix',\n",
       " 'format_postfix',\n",
       " 'isbn',\n",
       " 'ismn',\n",
       " 'musicid',\n",
       " 'part',\n",
       " 'person_100',\n",
       " 'person_700',\n",
       " 'person_245c',\n",
       " 'pubinit',\n",
       " 'scale',\n",
       " 'ttlfull_245',\n",
       " 'ttlfull_246',\n",
       " 'volumes']"
      ]
     },
     "execution_count": 186,
     "metadata": {},
     "output_type": "execute_result"
    }
   ],
   "source": [
    "columns_metadata_dict['data_analysis_columns']"
   ]
  },
  {
   "cell_type": "markdown",
   "metadata": {},
   "source": [
    "During the analysis and discussion of the attributes, some functions have been written, that will be used in the upcoming chapters for data preprocessing. As the next step, Swissbib's training and testing data will be analysed and processed in chapter [Goldstandard and Data Preparation](./2_GoldstandardDataPreparation.ipynb)."
   ]
  },
  {
   "cell_type": "markdown",
   "metadata": {},
   "source": [
    "### Metadata Handover"
   ]
  },
  {
   "cell_type": "markdown",
   "metadata": {},
   "source": [
    "Dictionary $\\texttt{columns}\\_\\texttt{metadata}\\_\\texttt{dict}$ plays the role of a metadata global variable to be handed over to subsequent chapters of this capstone project. Only the values of key $\\texttt{data}\\_\\texttt{analysis}\\_\\texttt{columns}$ will be needed as metadata in the next chapter. The values of keys $\\texttt{list}\\_\\texttt{columns}$ and $\\texttt{string}\\_\\texttt{columns}$ can be dropped."
   ]
  },
  {
   "cell_type": "code",
   "execution_count": 187,
   "metadata": {},
   "outputs": [],
   "source": [
    "del columns_metadata_dict['list_columns']\n",
    "del columns_metadata_dict['strings_columns']"
   ]
  },
  {
   "cell_type": "markdown",
   "metadata": {},
   "source": [
    "To hand over the attributes dictionary of this chapter in its role of metadata, the dictionary is saved into a pickle file that will be read in the next chapter as input. "
   ]
  },
  {
   "cell_type": "code",
   "execution_count": 188,
   "metadata": {},
   "outputs": [],
   "source": [
    "import pickle as pk\n",
    "\n",
    "# Binary intermediary metadata file\n",
    "with open(os.path.join(path_goldstandard,\n",
    "                       'columns_metadata.pkl'), 'wb') as df_output_file:\n",
    "    pk.dump(columns_metadata_dict, df_output_file)"
   ]
  },
  {
   "cell_type": "code",
   "execution_count": null,
   "metadata": {},
   "outputs": [],
   "source": []
  }
 ],
 "metadata": {
  "kernelspec": {
   "display_name": "Python 3",
   "language": "python",
   "name": "python3"
  },
  "language_info": {
   "codemirror_mode": {
    "name": "ipython",
    "version": 3
   },
   "file_extension": ".py",
   "mimetype": "text/x-python",
   "name": "python",
   "nbconvert_exporter": "python",
   "pygments_lexer": "ipython3",
   "version": "3.7.1"
  }
 },
 "nbformat": 4,
 "nbformat_minor": 2
}
