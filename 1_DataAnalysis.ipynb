{
 "cells": [
  {
   "cell_type": "markdown",
   "metadata": {},
   "source": [
    "# Data Analysis"
   ]
  },
  {
   "cell_type": "markdown",
   "metadata": {},
   "source": [
    "For understanding the bibliographic catalogue data of the Swissbib platform, the project team has generated a sample .json file with a big amount of representative records. This chapter shows the analysis of this data delivery."
   ]
  },
  {
   "cell_type": "markdown",
   "metadata": {},
   "source": [
    "## Table of Contents\n",
    "\n",
    "- [Sample Records Analysis](#sample_records_analysis)\n",
    "    - [Book](#book)\n",
    "    - [Music](#music)\n",
    "    - [Video Material](#video_material)\n",
    "    - [Map](#map)\n",
    "    - [Periodical](#periodical)\n",
    "    - [Collection](#collection)\n",
    "    - [Computer File](#computer_file)\n",
    "- [General Observation](#general_observation)\n",
    "- [Attribute Analysis](#attribute_analysis)"
   ]
  },
  {
   "cell_type": "markdown",
   "metadata": {},
   "source": [
    "## Sample Records Analysis<a id='sample_records_analysis'/>"
   ]
  },
  {
   "cell_type": "markdown",
   "metadata": {},
   "source": [
    "In this section, the data file is loaded and some sample data records are shown."
   ]
  },
  {
   "cell_type": "code",
   "execution_count": 1,
   "metadata": {},
   "outputs": [
    {
     "name": "stdout",
     "output_type": "stream",
     "text": [
      "Number of data records loaded 183407\n"
     ]
    }
   ],
   "source": [
    "import os\n",
    "import json\n",
    "\n",
    "records = []\n",
    "path_data = './data'\n",
    "\n",
    "for line in open(os.path.join(path_data, 'job7r4A1.json'), 'r'):\n",
    "    records.append(json.loads(line))\n",
    "\n",
    "print('Number of data records loaded', len(records))"
   ]
  },
  {
   "cell_type": "code",
   "execution_count": 2,
   "metadata": {},
   "outputs": [
    {
     "data": {
      "text/html": [
       "<div>\n",
       "<style scoped>\n",
       "    .dataframe tbody tr th:only-of-type {\n",
       "        vertical-align: middle;\n",
       "    }\n",
       "\n",
       "    .dataframe tbody tr th {\n",
       "        vertical-align: top;\n",
       "    }\n",
       "\n",
       "    .dataframe thead th {\n",
       "        text-align: right;\n",
       "    }\n",
       "</style>\n",
       "<table border=\"1\" class=\"dataframe\">\n",
       "  <thead>\n",
       "    <tr style=\"text-align: right;\">\n",
       "      <th></th>\n",
       "      <th>035liste</th>\n",
       "      <th>century</th>\n",
       "      <th>coordinate</th>\n",
       "      <th>corporate</th>\n",
       "      <th>decade</th>\n",
       "      <th>docid</th>\n",
       "      <th>doi</th>\n",
       "      <th>edition</th>\n",
       "      <th>exactDate</th>\n",
       "      <th>format</th>\n",
       "      <th>isbn</th>\n",
       "      <th>ismn</th>\n",
       "      <th>musicid</th>\n",
       "      <th>pages</th>\n",
       "      <th>part</th>\n",
       "      <th>person</th>\n",
       "      <th>pubinit</th>\n",
       "      <th>pubword</th>\n",
       "      <th>pubyear</th>\n",
       "      <th>scale</th>\n",
       "      <th>ttlfull</th>\n",
       "      <th>ttlpart</th>\n",
       "      <th>volumes</th>\n",
       "    </tr>\n",
       "  </thead>\n",
       "  <tbody>\n",
       "    <tr>\n",
       "      <th>0</th>\n",
       "      <td>[(OCoLC)1085491204, (IDSBB)006899773]</td>\n",
       "      <td>1992</td>\n",
       "      <td>[]</td>\n",
       "      <td>{}</td>\n",
       "      <td>1992</td>\n",
       "      <td>554061449</td>\n",
       "      <td>[]</td>\n",
       "      <td></td>\n",
       "      <td>1992</td>\n",
       "      <td>[BK020000]</td>\n",
       "      <td>[]</td>\n",
       "      <td>[]</td>\n",
       "      <td></td>\n",
       "      <td>[S. 102-114]</td>\n",
       "      <td>[]</td>\n",
       "      <td>{'100': ['SchluchterAndré'], '245c': ['André S...</td>\n",
       "      <td>[]</td>\n",
       "      <td>[]</td>\n",
       "      <td>1992</td>\n",
       "      <td></td>\n",
       "      <td>{'245': ['Die Feist von Kienberg', 'eine Wasen...</td>\n",
       "      <td>{'245': ['Die Feist von Kienberg', 'eine Wasen...</td>\n",
       "      <td>[S. 102-114]</td>\n",
       "    </tr>\n",
       "    <tr>\n",
       "      <th>1</th>\n",
       "      <td>[(OCoLC)1085491341, (IDSBB)006899983]</td>\n",
       "      <td>1986</td>\n",
       "      <td>[]</td>\n",
       "      <td>{}</td>\n",
       "      <td>1986</td>\n",
       "      <td>554061481</td>\n",
       "      <td>[]</td>\n",
       "      <td></td>\n",
       "      <td>1986</td>\n",
       "      <td>[BK020000]</td>\n",
       "      <td>[]</td>\n",
       "      <td>[]</td>\n",
       "      <td></td>\n",
       "      <td>[43 S.]</td>\n",
       "      <td>[]</td>\n",
       "      <td>{'100': ['NaegeliWerner'], '245c': ['von Werne...</td>\n",
       "      <td>[]</td>\n",
       "      <td>[]</td>\n",
       "      <td>1986</td>\n",
       "      <td></td>\n",
       "      <td>{'245': ['Reimereien']}</td>\n",
       "      <td>{'245': ['Reimereien']}</td>\n",
       "      <td>[43 S.]</td>\n",
       "    </tr>\n",
       "    <tr>\n",
       "      <th>2</th>\n",
       "      <td>[(OCoLC)1085491299, (IDSBB)006899959]</td>\n",
       "      <td>1923</td>\n",
       "      <td>[]</td>\n",
       "      <td>{}</td>\n",
       "      <td>1923</td>\n",
       "      <td>554061503</td>\n",
       "      <td>[]</td>\n",
       "      <td></td>\n",
       "      <td>1923</td>\n",
       "      <td>[BK020000]</td>\n",
       "      <td>[]</td>\n",
       "      <td>[]</td>\n",
       "      <td></td>\n",
       "      <td>[75 p.]</td>\n",
       "      <td>[]</td>\n",
       "      <td>{'100': ['KellyM.V.'], '700': ['GeniesseJ.B.']...</td>\n",
       "      <td>[]</td>\n",
       "      <td>[]</td>\n",
       "      <td>1923</td>\n",
       "      <td></td>\n",
       "      <td>{'245': ['Efficax antidotum ad matrimonia mixt...</td>\n",
       "      <td>{'245': ['Efficax antidotum ad matrimonia mixt...</td>\n",
       "      <td>[75 p.]</td>\n",
       "    </tr>\n",
       "    <tr>\n",
       "      <th>3</th>\n",
       "      <td>[(OCoLC)1085491268, (IDSBB)006896614]</td>\n",
       "      <td>1947</td>\n",
       "      <td>[]</td>\n",
       "      <td>{}</td>\n",
       "      <td>1947</td>\n",
       "      <td>554061511</td>\n",
       "      <td>[]</td>\n",
       "      <td></td>\n",
       "      <td>1947</td>\n",
       "      <td>[BK020000]</td>\n",
       "      <td>[]</td>\n",
       "      <td>[]</td>\n",
       "      <td></td>\n",
       "      <td>[24 S.]</td>\n",
       "      <td>[]</td>\n",
       "      <td>{'100': ['WegelinWalter'], '245c': ['']}</td>\n",
       "      <td>[]</td>\n",
       "      <td>[]</td>\n",
       "      <td>1947</td>\n",
       "      <td></td>\n",
       "      <td>{'245': ['Probleme der Inflationsbekämpfung', ...</td>\n",
       "      <td>{'245': ['Probleme der Inflationsbekämpfung', ...</td>\n",
       "      <td>[24 S.]</td>\n",
       "    </tr>\n",
       "    <tr>\n",
       "      <th>4</th>\n",
       "      <td>[(OCoLC)1085491079, (IDSBB)006896866]</td>\n",
       "      <td>1991</td>\n",
       "      <td>[]</td>\n",
       "      <td>{}</td>\n",
       "      <td>1991</td>\n",
       "      <td>55406152X</td>\n",
       "      <td>[]</td>\n",
       "      <td></td>\n",
       "      <td>1991</td>\n",
       "      <td>[BK020000]</td>\n",
       "      <td>[]</td>\n",
       "      <td>[]</td>\n",
       "      <td></td>\n",
       "      <td>[p. 14-15]</td>\n",
       "      <td>[]</td>\n",
       "      <td>{'100': ['OberlinUrs'], '245c': ['Urs Oberlin ...</td>\n",
       "      <td>[]</td>\n",
       "      <td>[]</td>\n",
       "      <td>1991</td>\n",
       "      <td></td>\n",
       "      <td>{'245': ['[Poems]']}</td>\n",
       "      <td>{'245': ['[Poems]']}</td>\n",
       "      <td>[p. 14-15]</td>\n",
       "    </tr>\n",
       "  </tbody>\n",
       "</table>\n",
       "</div>"
      ],
      "text/plain": [
       "                                035liste century coordinate corporate decade  \\\n",
       "0  [(OCoLC)1085491204, (IDSBB)006899773]    1992         []        {}   1992   \n",
       "1  [(OCoLC)1085491341, (IDSBB)006899983]    1986         []        {}   1986   \n",
       "2  [(OCoLC)1085491299, (IDSBB)006899959]    1923         []        {}   1923   \n",
       "3  [(OCoLC)1085491268, (IDSBB)006896614]    1947         []        {}   1947   \n",
       "4  [(OCoLC)1085491079, (IDSBB)006896866]    1991         []        {}   1991   \n",
       "\n",
       "       docid doi edition exactDate      format isbn ismn musicid  \\\n",
       "0  554061449  []          1992      [BK020000]   []   []           \n",
       "1  554061481  []          1986      [BK020000]   []   []           \n",
       "2  554061503  []          1923      [BK020000]   []   []           \n",
       "3  554061511  []          1947      [BK020000]   []   []           \n",
       "4  55406152X  []          1991      [BK020000]   []   []           \n",
       "\n",
       "          pages part                                             person  \\\n",
       "0  [S. 102-114]   []  {'100': ['SchluchterAndré'], '245c': ['André S...   \n",
       "1       [43 S.]   []  {'100': ['NaegeliWerner'], '245c': ['von Werne...   \n",
       "2       [75 p.]   []  {'100': ['KellyM.V.'], '700': ['GeniesseJ.B.']...   \n",
       "3       [24 S.]   []           {'100': ['WegelinWalter'], '245c': ['']}   \n",
       "4    [p. 14-15]   []  {'100': ['OberlinUrs'], '245c': ['Urs Oberlin ...   \n",
       "\n",
       "  pubinit pubword   pubyear scale  \\\n",
       "0      []      []  1992             \n",
       "1      []      []  1986             \n",
       "2      []      []  1923             \n",
       "3      []      []  1947             \n",
       "4      []      []  1991             \n",
       "\n",
       "                                             ttlfull  \\\n",
       "0  {'245': ['Die Feist von Kienberg', 'eine Wasen...   \n",
       "1                            {'245': ['Reimereien']}   \n",
       "2  {'245': ['Efficax antidotum ad matrimonia mixt...   \n",
       "3  {'245': ['Probleme der Inflationsbekämpfung', ...   \n",
       "4                               {'245': ['[Poems]']}   \n",
       "\n",
       "                                             ttlpart       volumes  \n",
       "0  {'245': ['Die Feist von Kienberg', 'eine Wasen...  [S. 102-114]  \n",
       "1                            {'245': ['Reimereien']}       [43 S.]  \n",
       "2  {'245': ['Efficax antidotum ad matrimonia mixt...       [75 p.]  \n",
       "3  {'245': ['Probleme der Inflationsbekämpfung', ...       [24 S.]  \n",
       "4                               {'245': ['[Poems]']}    [p. 14-15]  "
      ]
     },
     "execution_count": 2,
     "metadata": {},
     "output_type": "execute_result"
    }
   ],
   "source": [
    "import pandas as pd\n",
    "\n",
    "# Generate Pandas DataFrame object out of the raw data\n",
    "df = pd.DataFrame(records)\n",
    "\n",
    "# Extend display to number of columns of DataFrame\n",
    "pd.options.display.max_columns = len(df.columns)\n",
    "\n",
    "df.head()"
   ]
  },
  {
   "cell_type": "code",
   "execution_count": 3,
   "metadata": {},
   "outputs": [
    {
     "name": "stdout",
     "output_type": "stream",
     "text": [
      "Number of records 183407, number of attributes per record 23.\n",
      "\n",
      "<class 'pandas.core.frame.DataFrame'>\n",
      "RangeIndex: 183407 entries, 0 to 183406\n",
      "Data columns (total 23 columns):\n",
      "035liste      183407 non-null object\n",
      "century       183407 non-null object\n",
      "coordinate    183407 non-null object\n",
      "corporate     183407 non-null object\n",
      "decade        183407 non-null object\n",
      "docid         183407 non-null object\n",
      "doi           183407 non-null object\n",
      "edition       183407 non-null object\n",
      "exactDate     183407 non-null object\n",
      "format        183407 non-null object\n",
      "isbn          183407 non-null object\n",
      "ismn          183407 non-null object\n",
      "musicid       183407 non-null object\n",
      "pages         183407 non-null object\n",
      "part          183407 non-null object\n",
      "person        183407 non-null object\n",
      "pubinit       183407 non-null object\n",
      "pubword       183407 non-null object\n",
      "pubyear       183407 non-null object\n",
      "scale         183407 non-null object\n",
      "ttlfull       183407 non-null object\n",
      "ttlpart       183407 non-null object\n",
      "volumes       183407 non-null object\n",
      "dtypes: object(23)\n",
      "memory usage: 32.2+ MB\n"
     ]
    }
   ],
   "source": [
    "print('Number of records {:d}, number of attributes per record {:d}.\\n'.format(\n",
    "    len(df), len(df.columns)))\n",
    "\n",
    "df.info()"
   ]
  },
  {
   "cell_type": "markdown",
   "metadata": {},
   "source": [
    "Swissbib data describes different kinds of bibliographic units, see [format](#format). The following subsections show some sample data for such units. The format is interpreted roughly in these subsections, compare Swissbib's [format codes](http://www.swissbib.org/wiki/index.php?title=Filtering#format_codes)."
   ]
  },
  {
   "cell_type": "code",
   "execution_count": 4,
   "metadata": {},
   "outputs": [
    {
     "data": {
      "text/plain": [
       "array(['BK', 'MU', 'VM', 'MP', 'CR', 'CL', 'CF', nan], dtype=object)"
      ]
     },
     "execution_count": 4,
     "metadata": {},
     "output_type": "execute_result"
    }
   ],
   "source": [
    "df.format.str[0].str[:2].unique()"
   ]
  },
  {
   "cell_type": "markdown",
   "metadata": {},
   "source": [
    "### Book<a id='book'/>"
   ]
  },
  {
   "cell_type": "markdown",
   "metadata": {},
   "source": [
    "A format code starting with $\\texttt{BK}$ stands for a bibliographic unit of a book or an article. A sample record is shown below."
   ]
  },
  {
   "cell_type": "code",
   "execution_count": 5,
   "metadata": {},
   "outputs": [
    {
     "data": {
      "text/plain": [
       "035liste                  [(OCoLC)1085491204, (IDSBB)006899773]\n",
       "century                                                    1992\n",
       "coordinate                                                   []\n",
       "corporate                                                    {}\n",
       "decade                                                     1992\n",
       "docid                                                 554061449\n",
       "doi                                                          []\n",
       "edition                                                        \n",
       "exactDate                                              1992    \n",
       "format                                               [BK020000]\n",
       "isbn                                                         []\n",
       "ismn                                                         []\n",
       "musicid                                                        \n",
       "pages                                              [S. 102-114]\n",
       "part                                                         []\n",
       "person        {'100': ['SchluchterAndré'], '245c': ['André S...\n",
       "pubinit                                                      []\n",
       "pubword                                                      []\n",
       "pubyear                                                1992    \n",
       "scale                                                          \n",
       "ttlfull       {'245': ['Die Feist von Kienberg', 'eine Wasen...\n",
       "ttlpart       {'245': ['Die Feist von Kienberg', 'eine Wasen...\n",
       "volumes                                            [S. 102-114]\n",
       "Name: 0, dtype: object"
      ]
     },
     "execution_count": 5,
     "metadata": {},
     "output_type": "execute_result"
    }
   ],
   "source": [
    "df.loc[df[df.format.str[0].str[:2]=='BK'].index[0]]"
   ]
  },
  {
   "cell_type": "markdown",
   "metadata": {},
   "source": [
    "### Music<a id='music'/>"
   ]
  },
  {
   "cell_type": "markdown",
   "metadata": {},
   "source": [
    "A format code starting with $\\texttt{MU}$ stands for a bibliographic unit that is related to music. A sample record is shown below."
   ]
  },
  {
   "cell_type": "code",
   "execution_count": 6,
   "metadata": {},
   "outputs": [
    {
     "data": {
      "text/plain": [
       "035liste                  [(OCoLC)1085495414, (IDSBB)007052696]\n",
       "century                                                    2018\n",
       "coordinate                                                   []\n",
       "corporate                                                    {}\n",
       "decade                                                     2018\n",
       "docid                                                 554098806\n",
       "doi                                                          []\n",
       "edition                                                        \n",
       "exactDate                                              20182018\n",
       "format                                               [MU040100]\n",
       "isbn                                                         []\n",
       "ismn                                                         []\n",
       "musicid                                              GCD 924201\n",
       "pages                                            [1 CD (69:42)]\n",
       "part                                                         []\n",
       "person        {'100': ['BrahmsJohannes1833-1897(DE-588)11851...\n",
       "pubinit                                                      []\n",
       "pubword                                                      []\n",
       "pubyear                                                20182018\n",
       "scale                                                          \n",
       "ttlfull                             {'245': ['Violin sonatas']}\n",
       "ttlpart                             {'245': ['Violin sonatas']}\n",
       "volumes                                          [1 CD (69:42)]\n",
       "Name: 1788, dtype: object"
      ]
     },
     "execution_count": 6,
     "metadata": {},
     "output_type": "execute_result"
    }
   ],
   "source": [
    "df.loc[df[df.format.str[0].str[:2]=='MU'].index[0]]"
   ]
  },
  {
   "cell_type": "markdown",
   "metadata": {},
   "source": [
    "### Video Material<a id='video_material'/>"
   ]
  },
  {
   "cell_type": "markdown",
   "metadata": {},
   "source": [
    "A format code starting with $\\texttt{VM}$ represents some film material. A sample record is shown below."
   ]
  },
  {
   "cell_type": "code",
   "execution_count": 7,
   "metadata": {},
   "outputs": [
    {
     "data": {
      "text/plain": [
       "035liste      [(OCoLC)1065768412, (IDSBB)007052702, (OCoLC)1...\n",
       "century                                                    2018\n",
       "coordinate                                                   []\n",
       "corporate                                                    {}\n",
       "decade                                                     2018\n",
       "docid                                                 554098911\n",
       "doi                                                          []\n",
       "edition                                                        \n",
       "exactDate                                              20182008\n",
       "format                                               [VM010000]\n",
       "isbn                         [978-3-946274-20-9, 3-946274-20-X]\n",
       "ismn                                                         []\n",
       "musicid                                                        \n",
       "pages                                  [2 DVD-Videos (283 min)]\n",
       "part                                                     [2004]\n",
       "person        {'100': [], '700': ['SchlingensiefChristoph196...\n",
       "pubinit                                                      []\n",
       "pubword                                                      []\n",
       "pubyear                                                20182008\n",
       "scale                                                          \n",
       "ttlfull       {'245': ['Kunst und Gemüse, A. Hipler', 'Art a...\n",
       "ttlpart       {'245': ['Kunst und Gemüse, A. Hipler', 'Art a...\n",
       "volumes                                [2 DVD-Videos (283 min)]\n",
       "Name: 1795, dtype: object"
      ]
     },
     "execution_count": 7,
     "metadata": {},
     "output_type": "execute_result"
    }
   ],
   "source": [
    "df.loc[df[df.format.str[0].str[:2]=='VM'].index[0]]"
   ]
  },
  {
   "cell_type": "markdown",
   "metadata": {},
   "source": [
    "### Map<a id='map'/>"
   ]
  },
  {
   "cell_type": "markdown",
   "metadata": {},
   "source": [
    "A format code starting with $\\texttt{MP}$ is a map. A sample record is shown below."
   ]
  },
  {
   "cell_type": "code",
   "execution_count": 8,
   "metadata": {},
   "outputs": [
    {
     "data": {
      "text/plain": [
       "035liste                  [(OCoLC)1085495396, (IDSBB)007052708]\n",
       "century                                                    1993\n",
       "coordinate                                 [E0035400, N0532700]\n",
       "corporate                                                    {}\n",
       "decade                                                     1993\n",
       "docid                                                 554099039\n",
       "doi                                                          []\n",
       "edition                                               Facsimile\n",
       "exactDate                                              19931604\n",
       "format                                               [MP010300]\n",
       "isbn                                                         []\n",
       "ismn                                                         []\n",
       "musicid                                                        \n",
       "pages                                                 [1 Karte]\n",
       "part                                                         []\n",
       "person        {'100': ['BlaeuWillem Janszoon1571-1638(DE-588...\n",
       "pubinit                                                      []\n",
       "pubword                                                      []\n",
       "pubyear                                                19931604\n",
       "scale                                                    400000\n",
       "ttlfull       {'245': ['Nova descriptio Comitatus Hollandiæ'...\n",
       "ttlpart       {'245': ['Nova descriptio Comitatus Hollandiæ'...\n",
       "volumes                                               [1 Karte]\n",
       "Name: 1801, dtype: object"
      ]
     },
     "execution_count": 8,
     "metadata": {},
     "output_type": "execute_result"
    }
   ],
   "source": [
    "df.loc[df[df.format.str[0].str[:2]=='MP'].index[0]]"
   ]
  },
  {
   "cell_type": "markdown",
   "metadata": {},
   "source": [
    "### Periodical<a id='periodical'/>"
   ]
  },
  {
   "cell_type": "markdown",
   "metadata": {},
   "source": [
    "A format code starting with $\\texttt{CR}$ is a bibliographic unit of a periodical. A sample record is shown below."
   ]
  },
  {
   "cell_type": "code",
   "execution_count": 9,
   "metadata": {},
   "outputs": [
    {
     "data": {
      "text/plain": [
       "035liste                   [(OCoLC)699516877, (IDSBB)007052728]\n",
       "century                                                    1812\n",
       "coordinate                                                   []\n",
       "corporate                                                    {}\n",
       "decade                                                     1812\n",
       "docid                                                 55409939X\n",
       "doi                                                          []\n",
       "edition                                                        \n",
       "exactDate                                              18121826\n",
       "format                                               [CR030653]\n",
       "isbn                                                [1533-4406]\n",
       "ismn                                                         []\n",
       "musicid                                                        \n",
       "pages                                        [Online-Ressource]\n",
       "part                                                         []\n",
       "person                                {'100': [], '245c': ['']}\n",
       "pubinit                                                      []\n",
       "pubword                                                      []\n",
       "pubyear                                                18121826\n",
       "scale                                                          \n",
       "ttlfull       {'245': ['The new England journal of medicine ...\n",
       "ttlpart       {'245': ['The new England journal of medicine ...\n",
       "volumes                                      [Online-Ressource]\n",
       "Name: 1825, dtype: object"
      ]
     },
     "execution_count": 9,
     "metadata": {},
     "output_type": "execute_result"
    }
   ],
   "source": [
    "df.loc[df[df.format.str[0].str[:2]=='CR'].index[0]]"
   ]
  },
  {
   "cell_type": "markdown",
   "metadata": {},
   "source": [
    "### Collection<a id='collection'/>"
   ]
  },
  {
   "cell_type": "markdown",
   "metadata": {},
   "source": [
    "A format code starting with $\\texttt{CL}$ is a collection. A sample record is shown below."
   ]
  },
  {
   "cell_type": "code",
   "execution_count": 10,
   "metadata": {},
   "outputs": [
    {
     "data": {
      "text/plain": [
       "035liste                  [(OCoLC)1085510940, (IDSBB)007052979]\n",
       "century                                                    2017\n",
       "coordinate                                                   []\n",
       "corporate               {'110': ['St. Gallischer Hilfsverein']}\n",
       "decade                                                     2017\n",
       "docid                                                 554101610\n",
       "doi                                                          []\n",
       "edition                                                        \n",
       "exactDate                                              20179999\n",
       "format                                               [CL010000]\n",
       "isbn                                                         []\n",
       "ismn                                                         []\n",
       "musicid                                                        \n",
       "pages                                                 [1 Mappe]\n",
       "part                                                         []\n",
       "person                                {'100': [], '245c': ['']}\n",
       "pubinit                                                      []\n",
       "pubword                                                      []\n",
       "pubyear                                                20179999\n",
       "scale                                                          \n",
       "ttlfull       {'245': ['[St. Gallischer Hilfsverein - Sankt ...\n",
       "ttlpart       {'245': ['[St. Gallischer Hilfsverein - Sankt ...\n",
       "volumes                                               [1 Mappe]\n",
       "Name: 1955, dtype: object"
      ]
     },
     "execution_count": 10,
     "metadata": {},
     "output_type": "execute_result"
    }
   ],
   "source": [
    "df.loc[df[df.format.str[0].str[:2]=='CL'].index[0]]"
   ]
  },
  {
   "cell_type": "markdown",
   "metadata": {},
   "source": [
    "### Computer File<a id='computer_file'/>"
   ]
  },
  {
   "cell_type": "markdown",
   "metadata": {},
   "source": [
    "A format code starting with $\\texttt{CF}$ is a placeholder for a computer file on any kind of storage. A sample record is shown below."
   ]
  },
  {
   "cell_type": "code",
   "execution_count": 11,
   "metadata": {},
   "outputs": [
    {
     "data": {
      "text/plain": [
       "035liste                   [(IDSBB)007008154, (RERO)R007245313]\n",
       "century                                                    2012\n",
       "coordinate                                                   []\n",
       "corporate                                                    {}\n",
       "decade                                                     2012\n",
       "docid                                                 554144301\n",
       "doi                                                          []\n",
       "edition                                                        \n",
       "exactDate                                              2012    \n",
       "format                                               [CF010000]\n",
       "isbn                                                         []\n",
       "ismn                                                         []\n",
       "musicid                                                        \n",
       "pages                                         [1 Speicherkarte]\n",
       "part                                                         []\n",
       "person                                {'100': [], '245c': ['']}\n",
       "pubinit                                                      []\n",
       "pubword                                                      []\n",
       "pubyear                                                2012    \n",
       "scale                                                          \n",
       "ttlfull       {'245': ['Ice Age 4', 'voll verschoben : die a...\n",
       "ttlpart       {'245': ['Ice Age 4', 'voll verschoben : die a...\n",
       "volumes                                       [1 Speicherkarte]\n",
       "Name: 5947, dtype: object"
      ]
     },
     "execution_count": 11,
     "metadata": {},
     "output_type": "execute_result"
    }
   ],
   "source": [
    "df.loc[df[df.format.str[0].str[:2]=='CF'].index[0]]"
   ]
  },
  {
   "cell_type": "markdown",
   "metadata": {},
   "source": [
    "## General Observation<a id='general_observation'/>"
   ]
  },
  {
   "cell_type": "markdown",
   "metadata": {},
   "source": [
    "As can be observed in the sample records displayed above, the attributes of the records are stored in basic Python datatypes like strings, lists (of strings), and dictionaries. A look into the raw data file confirms this observation."
   ]
  },
  {
   "cell_type": "code",
   "execution_count": 12,
   "metadata": {},
   "outputs": [
    {
     "name": "stdout",
     "output_type": "stream",
     "text": [
      "{\"docid\":\"554061449\",\"035liste\":[\"(OCoLC)1085491204\",\"(IDSBB)006899773\"],\"isbn\":[],\"ttlfull\":{\"245\":[\"Die Feist von Kienberg\",\"eine Wasenmeisterfamilie im Ancien Régime zwischen Ehrbarkeit und Delinquenz\"]},\"ttlpart\":{\"245\":[\"Die Feist von Kienberg\",\"eine Wasenmeisterfamilie im Ancien Régime zwischen Ehrbarkeit und Delinquenz\"]},\"person\":{\"100\":[\"SchluchterAndré\"],\"245c\":[\"André Schluchter\"]},\"corporate\":{},\"pubyear\":\"1992    \",\"decade\":\"1992\",\"century\":\"1992\",\"exactDate\":\"1992    \",\"edition\":\"\",\"part\":[],\"pages\":[\"S. 102-114\"],\"volumes\":[\"S. 102-114\"],\"pubinit\":[],\"pubword\":[],\"scale\":\"\",\"coordinate\":[],\"doi\":[],\"ismn\":[],\"musicid\":\"\",\"format\":[\"BK020000\"]}\r\n",
      "{\"docid\":\"554061481\",\"035liste\":[\"(OCoLC)1085491341\",\"(IDSBB)006899983\"],\"isbn\":[],\"ttlfull\":{\"245\":[\"Reimereien\"]},\"ttlpart\":{\"245\":[\"Reimereien\"]},\"person\":{\"100\":[\"NaegeliWerner\"],\"245c\":[\"von Werner Naegeli\"]},\"corporate\":{},\"pubyear\":\"1986    \",\"decade\":\"1986\",\"century\":\"1986\",\"exactDate\":\"1986    \",\"edition\":\"\",\"part\":[],\"pages\":[\"43 S.\"],\"volumes\":[\"43 S.\"],\"pubinit\":[],\"pubword\":[],\"scale\":\"\",\"coordinate\":[],\"doi\":[],\"ismn\":[],\"musicid\":\"\",\"format\":[\"BK020000\"]}\r\n"
     ]
    }
   ],
   "source": [
    "! head -n 2 ./data/job7r4A1.json"
   ]
  },
  {
   "cell_type": "markdown",
   "metadata": {},
   "source": [
    "A specific analysis on each attribute, its meaning and contents will be done as a next step. For the upcoming analysis, each attribute of the data records is assigned to its specific group type. This is done with the following dictionary."
   ]
  },
  {
   "cell_type": "code",
   "execution_count": 13,
   "metadata": {},
   "outputs": [],
   "source": [
    "column_types_dict = {\n",
    "    'strings_columns' : ['century', 'decade', 'docid', 'exactDate'],\n",
    "    'list_columns' : ['volumes', '035liste'],\n",
    "    'array_of_strings_columns' : []\n",
    "}\n",
    "# The dictionary of compare logic\n",
    "strings_columns = ['doi', 'edition', 'format', 'isbn',\n",
    "                   'ismn', 'musicid', 'pubinit', 'pubyear', 'scale', 'volumes']\n",
    "list_columns = ['coordinate', 'corporate', 'pages', 'part', 'pubword',\n",
    "                'ttlfull', 'ttlpart']\n",
    "array_of_strings_columns = ['person']"
   ]
  },
  {
   "cell_type": "markdown",
   "metadata": {},
   "source": [
    "## Attribute Analysis<a id='attribute_analysis'/>"
   ]
  },
  {
   "cell_type": "markdown",
   "metadata": {},
   "source": [
    "This section analyses the attributes provided by the Swissbib data extracts. The extracted data is used as a basis for the machine learning models in the capstone project. The attributes are based on the [MARC 21 Format for Bibliographic Data](https://www.loc.gov/marc/bibliographic/) and are documented on a [Swissbib Wiki page](http://www.swissbib.org/wiki/index.php?title=Features_Deduplication)."
   ]
  },
  {
   "cell_type": "code",
   "execution_count": 14,
   "metadata": {},
   "outputs": [
    {
     "data": {
      "text/plain": [
       "Index(['035liste', 'century', 'coordinate', 'corporate', 'decade', 'docid',\n",
       "       'doi', 'edition', 'exactDate', 'format', 'isbn', 'ismn', 'musicid',\n",
       "       'pages', 'part', 'person', 'pubinit', 'pubword', 'pubyear', 'scale',\n",
       "       'ttlfull', 'ttlpart', 'volumes'],\n",
       "      dtype='object')"
      ]
     },
     "execution_count": 14,
     "metadata": {},
     "output_type": "execute_result"
    }
   ],
   "source": [
    "df.columns"
   ]
  },
  {
   "cell_type": "markdown",
   "metadata": {},
   "source": [
    "This section uses some functions that have been written for supporting the analysis of the attributes. These functions have been defined in a separate code file [data_analysis_funcs](./data_analysis_funcs.py)."
   ]
  },
  {
   "cell_type": "code",
   "execution_count": 15,
   "metadata": {},
   "outputs": [],
   "source": [
    "import data_analysis_funcs as daf"
   ]
  },
  {
   "cell_type": "markdown",
   "metadata": {},
   "source": [
    "### Table of Contents of Attribute Analysis\n",
    "\n",
    "- [035liste](#035liste)\n",
    "- [century](#century)\n",
    "- coordinate\n",
    "- corporate\n",
    "- [decade](#decade)\n",
    "- [docid](#docid)\n",
    "- doi\n",
    "- edition\n",
    "- [exactDate](#exactDate)\n",
    "- format\n",
    "- isbn\n",
    "- ismn\n",
    "- musicid\n",
    "- pages\n",
    "- part\n",
    "- person\n",
    "- pubinit\n",
    "- pubword\n",
    "- pubyear\n",
    "- scale\n",
    "- ttlfull\n",
    "- ttlpart\n",
    "- [volumes](#volumes)"
   ]
  },
  {
   "cell_type": "markdown",
   "metadata": {},
   "source": [
    "### 035liste<a id='035liste'/>"
   ]
  },
  {
   "cell_type": "markdown",
   "metadata": {},
   "source": [
    "Attribute $\\texttt{035liste}$ holds a list of identifiers from the originating library of a bibliographic unit, see [Features Deduplication](http://www.swissbib.org/wiki/index.php?title=Features_Deduplication). Each record of the Swissbib data holds at least one identifier. Some examples are shown below."
   ]
  },
  {
   "cell_type": "code",
   "execution_count": 16,
   "metadata": {},
   "outputs": [
    {
     "name": "stdout",
     "output_type": "stream",
     "text": [
      "Number of records with filled 035liste 183407, with missing 035liste 0 => 100.0%\n"
     ]
    }
   ],
   "source": [
    "_, _ = daf.find_empty_in_column(df, column_types_dict, '035liste')"
   ]
  },
  {
   "cell_type": "code",
   "execution_count": 17,
   "metadata": {},
   "outputs": [
    {
     "data": {
      "text/plain": [
       "83463     1\n",
       "150669    1\n",
       "150668    1\n",
       "150667    1\n",
       "150666    1\n",
       "Name: 035liste, dtype: int64"
      ]
     },
     "execution_count": 17,
     "metadata": {},
     "output_type": "execute_result"
    }
   ],
   "source": [
    "df['035liste'].apply(lambda x : len(x)).sort_values().head(5)"
   ]
  },
  {
   "cell_type": "code",
   "execution_count": 18,
   "metadata": {},
   "outputs": [
    {
     "data": {
      "text/plain": [
       "144185    20\n",
       "54084     21\n",
       "30793     21\n",
       "136608    21\n",
       "61603     21\n",
       "14755     21\n",
       "49974     22\n",
       "139972    22\n",
       "139191    23\n",
       "124359    23\n",
       "Name: 035liste, dtype: int64"
      ]
     },
     "execution_count": 18,
     "metadata": {},
     "output_type": "execute_result"
    }
   ],
   "source": [
    "df['035liste'].apply(lambda x : len(x)).sort_values().tail(10)"
   ]
  },
  {
   "cell_type": "code",
   "execution_count": 19,
   "metadata": {},
   "outputs": [
    {
     "name": "stdout",
     "output_type": "stream",
     "text": [
      "Some sample identifiers:\n"
     ]
    },
    {
     "data": {
      "text/plain": [
       "133780    [(SERSOL)ssib030276503, (VAUD)9910211464862028...\n",
       "46157     [(SERSOL)ssj0002088210, (NEBIS)011317504, (WaS...\n",
       "85676                 [(OCoLC)1085874533, (NEBIS)011355398]\n",
       "181834                [(OCoLC)1089704728, (NEBIS)011372106]\n",
       "34825     [(NEBIS)011278797, (SGBN)001453809, (RERO)R008...\n",
       "173281    [(RERO)R008340978, (VAUD)991021221895402852, R...\n",
       "93294     [(OCoLC)1029742615, (ABN)000846532, (OCoLC)102...\n",
       "156161                                         [(CEO)39992]\n",
       "41845        [(SERSOL)ssj0000608226, (WaSeSS)ssj0000608226]\n",
       "78253                 [(OCoLC)1085682628, (NEBIS)001410191]\n",
       "Name: 035liste, dtype: object"
      ]
     },
     "execution_count": 19,
     "metadata": {},
     "output_type": "execute_result"
    }
   ],
   "source": [
    "print('Some sample identifiers:')\n",
    "df['035liste'].iloc[ df['035liste'].sample(n=10).index ]"
   ]
  },
  {
   "cell_type": "markdown",
   "metadata": {},
   "source": [
    "Attribute $\\texttt{035liste}$ is the central attribute for finding duplicates in the training data of the Swissbib's goldstandard. This process will be explained and implemented in chapter [Goldstandard and Data Preparation](./2_GoldstandardDataPreparation.ipynb)."
   ]
  },
  {
   "cell_type": "markdown",
   "metadata": {},
   "source": [
    "### century<a id='century'/>"
   ]
  },
  {
   "cell_type": "code",
   "execution_count": 20,
   "metadata": {},
   "outputs": [
    {
     "name": "stdout",
     "output_type": "stream",
     "text": [
      "Number of records with filled century 183407, with missing century 0 => 100.0%\n",
      "\n",
      "EMPTY - None\n",
      "\n",
      "FILLED - index 0 \n",
      "\n",
      "035liste                  [(OCoLC)1085491204, (IDSBB)006899773]\n",
      "century                                                    1992\n",
      "coordinate                                                   []\n",
      "corporate                                                    {}\n",
      "decade                                                     1992\n",
      "docid                                                 554061449\n",
      "doi                                                          []\n",
      "edition                                                        \n",
      "exactDate                                              1992    \n",
      "format                                               [BK020000]\n",
      "isbn                                                         []\n",
      "ismn                                                         []\n",
      "musicid                                                        \n",
      "pages                                              [S. 102-114]\n",
      "part                                                         []\n",
      "person        {'100': ['SchluchterAndré'], '245c': ['André S...\n",
      "pubinit                                                      []\n",
      "pubword                                                      []\n",
      "pubyear                                                1992    \n",
      "scale                                                          \n",
      "ttlfull       {'245': ['Die Feist von Kienberg', 'eine Wasen...\n",
      "ttlpart       {'245': ['Die Feist von Kienberg', 'eine Wasen...\n",
      "volumes                                            [S. 102-114]\n",
      "Name: 0, dtype: object\n"
     ]
    }
   ],
   "source": [
    "idx_century_filled, idx_century_empty = daf.find_empty_in_column(df, column_types_dict, 'century')\n",
    "\n",
    "daf.two_examples(df, idx_century_filled, idx_century_empty)"
   ]
  },
  {
   "cell_type": "code",
   "execution_count": 21,
   "metadata": {},
   "outputs": [
    {
     "data": {
      "text/plain": [
       "2018    0.208389\n",
       "2019    0.086785\n",
       "2017    0.046350\n",
       "uuuu    0.036236\n",
       "2016    0.025223\n",
       "Name: century, dtype: float64"
      ]
     },
     "execution_count": 21,
     "metadata": {},
     "output_type": "execute_result"
    }
   ],
   "source": [
    "df.century.value_counts(normalize=True).head()"
   ]
  },
  {
   "cell_type": "code",
   "execution_count": null,
   "metadata": {},
   "outputs": [],
   "source": []
  },
  {
   "cell_type": "code",
   "execution_count": null,
   "metadata": {},
   "outputs": [],
   "source": []
  },
  {
   "cell_type": "code",
   "execution_count": null,
   "metadata": {},
   "outputs": [],
   "source": []
  },
  {
   "cell_type": "code",
   "execution_count": null,
   "metadata": {},
   "outputs": [],
   "source": []
  },
  {
   "cell_type": "markdown",
   "metadata": {},
   "source": [
    "### decade<a id='decade'/>"
   ]
  },
  {
   "cell_type": "code",
   "execution_count": 22,
   "metadata": {},
   "outputs": [
    {
     "name": "stdout",
     "output_type": "stream",
     "text": [
      "Number of records with filled decade 183407, with missing decade 0 => 100.0%\n"
     ]
    }
   ],
   "source": [
    "idx_decade_filled, idx_decade_empty = daf.find_empty_in_column(df, column_types_dict, 'decade')"
   ]
  },
  {
   "cell_type": "code",
   "execution_count": 23,
   "metadata": {},
   "outputs": [
    {
     "data": {
      "text/html": [
       "<div>\n",
       "<style scoped>\n",
       "    .dataframe tbody tr th:only-of-type {\n",
       "        vertical-align: middle;\n",
       "    }\n",
       "\n",
       "    .dataframe tbody tr th {\n",
       "        vertical-align: top;\n",
       "    }\n",
       "\n",
       "    .dataframe thead th {\n",
       "        text-align: right;\n",
       "    }\n",
       "</style>\n",
       "<table border=\"1\" class=\"dataframe\">\n",
       "  <thead>\n",
       "    <tr style=\"text-align: right;\">\n",
       "      <th></th>\n",
       "      <th>035liste</th>\n",
       "      <th>century</th>\n",
       "      <th>coordinate</th>\n",
       "      <th>corporate</th>\n",
       "      <th>decade</th>\n",
       "      <th>docid</th>\n",
       "      <th>doi</th>\n",
       "      <th>edition</th>\n",
       "      <th>exactDate</th>\n",
       "      <th>format</th>\n",
       "      <th>isbn</th>\n",
       "      <th>ismn</th>\n",
       "      <th>musicid</th>\n",
       "      <th>pages</th>\n",
       "      <th>part</th>\n",
       "      <th>person</th>\n",
       "      <th>pubinit</th>\n",
       "      <th>pubword</th>\n",
       "      <th>pubyear</th>\n",
       "      <th>scale</th>\n",
       "      <th>ttlfull</th>\n",
       "      <th>ttlpart</th>\n",
       "      <th>volumes</th>\n",
       "    </tr>\n",
       "  </thead>\n",
       "  <tbody>\n",
       "  </tbody>\n",
       "</table>\n",
       "</div>"
      ],
      "text/plain": [
       "Empty DataFrame\n",
       "Columns: [035liste, century, coordinate, corporate, decade, docid, doi, edition, exactDate, format, isbn, ismn, musicid, pages, part, person, pubinit, pubword, pubyear, scale, ttlfull, ttlpart, volumes]\n",
       "Index: []"
      ]
     },
     "execution_count": 23,
     "metadata": {},
     "output_type": "execute_result"
    }
   ],
   "source": [
    "df[df.decade != df.century]"
   ]
  },
  {
   "cell_type": "markdown",
   "metadata": {},
   "source": [
    "The attribute holds identical data to field [century](#century). Its MARC definition is the same, too."
   ]
  },
  {
   "cell_type": "code",
   "execution_count": null,
   "metadata": {},
   "outputs": [],
   "source": []
  },
  {
   "cell_type": "markdown",
   "metadata": {},
   "source": [
    "### docid<a id='docid'/>"
   ]
  },
  {
   "cell_type": "code",
   "execution_count": 24,
   "metadata": {},
   "outputs": [
    {
     "name": "stdout",
     "output_type": "stream",
     "text": [
      "Number of records with filled docid 183407, with missing docid 0 => 100.0%\n"
     ]
    }
   ],
   "source": [
    "idx_docid_filled, idx_docid_empty = daf.find_empty_in_column(df, column_types_dict, 'docid')"
   ]
  },
  {
   "cell_type": "code",
   "execution_count": 25,
   "metadata": {},
   "outputs": [
    {
     "data": {
      "text/plain": [
       "'554061449'"
      ]
     },
     "execution_count": 25,
     "metadata": {},
     "output_type": "execute_result"
    }
   ],
   "source": [
    "df.docid[0]"
   ]
  },
  {
   "cell_type": "code",
   "execution_count": null,
   "metadata": {},
   "outputs": [],
   "source": []
  },
  {
   "cell_type": "code",
   "execution_count": null,
   "metadata": {},
   "outputs": [],
   "source": []
  },
  {
   "cell_type": "code",
   "execution_count": null,
   "metadata": {},
   "outputs": [],
   "source": []
  },
  {
   "cell_type": "code",
   "execution_count": null,
   "metadata": {},
   "outputs": [],
   "source": []
  },
  {
   "cell_type": "markdown",
   "metadata": {},
   "source": [
    "### exactDate<a id='exactDate'/>"
   ]
  },
  {
   "cell_type": "code",
   "execution_count": 26,
   "metadata": {},
   "outputs": [
    {
     "name": "stdout",
     "output_type": "stream",
     "text": [
      "Number of records with filled exactDate 183407, with missing exactDate 0 => 100.0%\n"
     ]
    }
   ],
   "source": [
    "idx_century_filled, idx_century_empty = daf.find_empty_in_column(df, column_types_dict, 'exactDate')"
   ]
  },
  {
   "cell_type": "code",
   "execution_count": 27,
   "metadata": {},
   "outputs": [
    {
     "data": {
      "text/html": [
       "<div>\n",
       "<style scoped>\n",
       "    .dataframe tbody tr th:only-of-type {\n",
       "        vertical-align: middle;\n",
       "    }\n",
       "\n",
       "    .dataframe tbody tr th {\n",
       "        vertical-align: top;\n",
       "    }\n",
       "\n",
       "    .dataframe thead th {\n",
       "        text-align: right;\n",
       "    }\n",
       "</style>\n",
       "<table border=\"1\" class=\"dataframe\">\n",
       "  <thead>\n",
       "    <tr style=\"text-align: right;\">\n",
       "      <th></th>\n",
       "      <th>035liste</th>\n",
       "      <th>century</th>\n",
       "      <th>coordinate</th>\n",
       "      <th>corporate</th>\n",
       "      <th>decade</th>\n",
       "      <th>docid</th>\n",
       "      <th>doi</th>\n",
       "      <th>edition</th>\n",
       "      <th>exactDate</th>\n",
       "      <th>format</th>\n",
       "      <th>isbn</th>\n",
       "      <th>ismn</th>\n",
       "      <th>musicid</th>\n",
       "      <th>pages</th>\n",
       "      <th>part</th>\n",
       "      <th>person</th>\n",
       "      <th>pubinit</th>\n",
       "      <th>pubword</th>\n",
       "      <th>pubyear</th>\n",
       "      <th>scale</th>\n",
       "      <th>ttlfull</th>\n",
       "      <th>ttlpart</th>\n",
       "      <th>volumes</th>\n",
       "    </tr>\n",
       "  </thead>\n",
       "  <tbody>\n",
       "  </tbody>\n",
       "</table>\n",
       "</div>"
      ],
      "text/plain": [
       "Empty DataFrame\n",
       "Columns: [035liste, century, coordinate, corporate, decade, docid, doi, edition, exactDate, format, isbn, ismn, musicid, pages, part, person, pubinit, pubword, pubyear, scale, ttlfull, ttlpart, volumes]\n",
       "Index: []"
      ]
     },
     "execution_count": 27,
     "metadata": {},
     "output_type": "execute_result"
    }
   ],
   "source": [
    "df[df.exactDate.str[0:4] != df.century]"
   ]
  },
  {
   "cell_type": "markdown",
   "metadata": {},
   "source": [
    "Conforming the MARC description, the first 4 digits of exactDate hold identical data to field [century](#century)."
   ]
  },
  {
   "cell_type": "code",
   "execution_count": 28,
   "metadata": {
    "scrolled": true
   },
   "outputs": [
    {
     "name": "stdout",
     "output_type": "stream",
     "text": [
      "Degree of non-blank filling of last 4 digits 19.4%\n",
      "Degree of numerical filling of last 4 digits 13.3%\n"
     ]
    }
   ],
   "source": [
    "print('Degree of non-blank filling of last 4 digits {:.1f}%'.format(\n",
    "    df.exactDate[df.exactDate.str[4:] != '    '].count()/len(df)*100))\n",
    "print('Degree of numerical filling of last 4 digits {:.1f}%'.format(\n",
    "    df.exactDate[~df.exactDate.str[4:].isin(['    ', 'uuuu'])].count()/len(df)*100))"
   ]
  },
  {
   "cell_type": "code",
   "execution_count": 29,
   "metadata": {},
   "outputs": [
    {
     "data": {
      "text/plain": [
       "12     uuuuuuuu\n",
       "61     uuuuuuuu\n",
       "62     uuuuuuuu\n",
       "117    19241925\n",
       "257    uuuuuuuu\n",
       "Name: exactDate, dtype: object"
      ]
     },
     "execution_count": 29,
     "metadata": {},
     "output_type": "execute_result"
    }
   ],
   "source": [
    "df.exactDate[df.exactDate.str[4:] != '    '].head()"
   ]
  },
  {
   "cell_type": "code",
   "execution_count": 30,
   "metadata": {},
   "outputs": [
    {
     "data": {
      "text/plain": [
       "035liste                     [(ZORA)oai:www.zora.uzh.ch:169340]\n",
       "century                                                    2019\n",
       "coordinate                                                   []\n",
       "corporate                                                    {}\n",
       "decade                                                     2019\n",
       "docid                                                 556987284\n",
       "doi                                  [10.1093/eurheartj/ehz068]\n",
       "edition                                                        \n",
       "exactDate                                              20190414\n",
       "format                                               [BK010053]\n",
       "isbn                                                         []\n",
       "ismn                                 [10.1093/eurheartj/ehz068]\n",
       "musicid                                                        \n",
       "pages                                                        []\n",
       "part                                         [40(15):1183-1187]\n",
       "person        {'100': [], '700': ['TemplinChristianjoint aut...\n",
       "pubinit                                                      []\n",
       "pubword                                                      []\n",
       "pubyear                                                20190414\n",
       "scale                                                          \n",
       "ttlfull       {'245': ['Altered limbic and autonomic process...\n",
       "ttlpart       {'245': ['Altered limbic and autonomic process...\n",
       "volumes                                                      []\n",
       "Name: 183319, dtype: object"
      ]
     },
     "execution_count": 30,
     "metadata": {},
     "output_type": "execute_result"
    }
   ],
   "source": [
    "df.loc[183319]"
   ]
  },
  {
   "cell_type": "code",
   "execution_count": null,
   "metadata": {},
   "outputs": [],
   "source": []
  },
  {
   "cell_type": "code",
   "execution_count": null,
   "metadata": {},
   "outputs": [],
   "source": []
  },
  {
   "cell_type": "markdown",
   "metadata": {},
   "source": [
    "### volumes<a id='volumes'/>"
   ]
  },
  {
   "cell_type": "code",
   "execution_count": 31,
   "metadata": {},
   "outputs": [
    {
     "name": "stdout",
     "output_type": "stream",
     "text": [
      "Number of records with filled volumes 161471, with missing volumes 21936 => 88.0%\n"
     ]
    }
   ],
   "source": [
    "idx_volumes_filled, idx_volumes_empty = daf.find_empty_in_column(df, column_types_dict, 'volumes')"
   ]
  },
  {
   "cell_type": "code",
   "execution_count": 32,
   "metadata": {},
   "outputs": [
    {
     "data": {
      "text/plain": [
       "1810                                                    []\n",
       "0                                             [S. 102-114]\n",
       "73897                          [XI, 213 S., Portr., 23 cm]\n",
       "80258    [1 Partitur (5 Seiten), 32 Stimmen, Wiedlisbac...\n",
       "Name: volumes, dtype: object"
      ]
     },
     "execution_count": 32,
     "metadata": {},
     "output_type": "execute_result"
    }
   ],
   "source": [
    "df.volumes.loc[[1810, 0, 73897, 80258]]"
   ]
  },
  {
   "cell_type": "code",
   "execution_count": 35,
   "metadata": {},
   "outputs": [],
   "source": [
    "import data_preparation_funcs as dpf\n",
    "\n",
    "df = dpf.transform_list_to_string(df, 'volumes')"
   ]
  },
  {
   "cell_type": "code",
   "execution_count": 36,
   "metadata": {},
   "outputs": [
    {
     "data": {
      "text/plain": [
       "1810                                                      \n",
       "0                                               S. 102-114\n",
       "73897                            XI, 213 S., Portr., 23 cm\n",
       "80258    1 Partitur (5 Seiten), 32 Stimmen, Wiedlisbach...\n",
       "Name: volumes, dtype: object"
      ]
     },
     "execution_count": 36,
     "metadata": {},
     "output_type": "execute_result"
    }
   ],
   "source": [
    "df.volumes.loc[[1810, 0, 73897, 80258]]"
   ]
  },
  {
   "cell_type": "code",
   "execution_count": null,
   "metadata": {},
   "outputs": [],
   "source": []
  }
 ],
 "metadata": {
  "kernelspec": {
   "display_name": "Python 3",
   "language": "python",
   "name": "python3"
  },
  "language_info": {
   "codemirror_mode": {
    "name": "ipython",
    "version": 3
   },
   "file_extension": ".py",
   "mimetype": "text/x-python",
   "name": "python",
   "nbconvert_exporter": "python",
   "pygments_lexer": "ipython3",
   "version": "3.7.1"
  }
 },
 "nbformat": 4,
 "nbformat_minor": 2
}
