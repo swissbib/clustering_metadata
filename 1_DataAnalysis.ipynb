{
 "cells": [
  {
   "cell_type": "markdown",
   "metadata": {},
   "source": [
    "# Data Analysis"
   ]
  },
  {
   "cell_type": "markdown",
   "metadata": {},
   "source": [
    "For understanding the bibliographic catalogue data of the Swissbib platform, the project team has generated a sample .json file with a big amount of representative records. This chapter shows the analysis of this data delivery."
   ]
  },
  {
   "cell_type": "markdown",
   "metadata": {},
   "source": [
    "## Table of Contents\n",
    "\n",
    "- [Sample Records Analysis](#Sample-Records-Analysis)\n",
    "    - [Book](#Book)\n",
    "    - [Music](#Music)\n",
    "    - [Video Material](#Video-Material)\n",
    "    - [Map](#Map)\n",
    "    - [Periodical](#Periodical)\n",
    "    - [Collection](#Collection)\n",
    "    - [Computer File](#Computer-File)\n",
    "- [General Observation](#General-Observation)\n",
    "- [Attribute Analysis](#Attribute-Analysis)\n",
    "- [Metadata Handover](#Metadata-Handover)\n",
    "- [Summary](#Summary)"
   ]
  },
  {
   "cell_type": "markdown",
   "metadata": {},
   "source": [
    "## Sample Records Analysis"
   ]
  },
  {
   "cell_type": "markdown",
   "metadata": {},
   "source": [
    "In this section, the data file is loaded and some sample data records are shown."
   ]
  },
  {
   "cell_type": "code",
   "execution_count": 1,
   "metadata": {},
   "outputs": [
    {
     "name": "stdout",
     "output_type": "stream",
     "text": [
      "Number of data records loaded 183407\n"
     ]
    }
   ],
   "source": [
    "import os\n",
    "import json\n",
    "\n",
    "records = []\n",
    "path_data = './data'\n",
    "path_goldstandard = './daten_goldstandard'\n",
    "\n",
    "for line in open(os.path.join(path_data, 'job7r4A1.json'), 'r'):\n",
    "    records.append(json.loads(line))\n",
    "\n",
    "print('Number of data records loaded', len(records))"
   ]
  },
  {
   "cell_type": "code",
   "execution_count": 2,
   "metadata": {},
   "outputs": [
    {
     "data": {
      "text/html": [
       "<div>\n",
       "<style scoped>\n",
       "    .dataframe tbody tr th:only-of-type {\n",
       "        vertical-align: middle;\n",
       "    }\n",
       "\n",
       "    .dataframe tbody tr th {\n",
       "        vertical-align: top;\n",
       "    }\n",
       "\n",
       "    .dataframe thead th {\n",
       "        text-align: right;\n",
       "    }\n",
       "</style>\n",
       "<table border=\"1\" class=\"dataframe\">\n",
       "  <thead>\n",
       "    <tr style=\"text-align: right;\">\n",
       "      <th></th>\n",
       "      <th>docid</th>\n",
       "      <th>035liste</th>\n",
       "      <th>isbn</th>\n",
       "      <th>ttlfull</th>\n",
       "      <th>ttlpart</th>\n",
       "      <th>person</th>\n",
       "      <th>corporate</th>\n",
       "      <th>pubyear</th>\n",
       "      <th>decade</th>\n",
       "      <th>century</th>\n",
       "      <th>exactDate</th>\n",
       "      <th>edition</th>\n",
       "      <th>part</th>\n",
       "      <th>pages</th>\n",
       "      <th>volumes</th>\n",
       "      <th>pubinit</th>\n",
       "      <th>pubword</th>\n",
       "      <th>scale</th>\n",
       "      <th>coordinate</th>\n",
       "      <th>doi</th>\n",
       "      <th>ismn</th>\n",
       "      <th>musicid</th>\n",
       "      <th>format</th>\n",
       "    </tr>\n",
       "  </thead>\n",
       "  <tbody>\n",
       "    <tr>\n",
       "      <th>0</th>\n",
       "      <td>554061449</td>\n",
       "      <td>[(OCoLC)1085491204, (IDSBB)006899773]</td>\n",
       "      <td>[]</td>\n",
       "      <td>{'245': ['Die Feist von Kienberg', 'eine Wasen...</td>\n",
       "      <td>{'245': ['Die Feist von Kienberg', 'eine Wasen...</td>\n",
       "      <td>{'100': ['SchluchterAndré'], '245c': ['André S...</td>\n",
       "      <td>{}</td>\n",
       "      <td>1992</td>\n",
       "      <td>1992</td>\n",
       "      <td>1992</td>\n",
       "      <td>1992</td>\n",
       "      <td></td>\n",
       "      <td>[]</td>\n",
       "      <td>[S. 102-114]</td>\n",
       "      <td>[S. 102-114]</td>\n",
       "      <td>[]</td>\n",
       "      <td>[]</td>\n",
       "      <td></td>\n",
       "      <td>[]</td>\n",
       "      <td>[]</td>\n",
       "      <td>[]</td>\n",
       "      <td></td>\n",
       "      <td>[BK020000]</td>\n",
       "    </tr>\n",
       "    <tr>\n",
       "      <th>1</th>\n",
       "      <td>554061481</td>\n",
       "      <td>[(OCoLC)1085491341, (IDSBB)006899983]</td>\n",
       "      <td>[]</td>\n",
       "      <td>{'245': ['Reimereien']}</td>\n",
       "      <td>{'245': ['Reimereien']}</td>\n",
       "      <td>{'100': ['NaegeliWerner'], '245c': ['von Werne...</td>\n",
       "      <td>{}</td>\n",
       "      <td>1986</td>\n",
       "      <td>1986</td>\n",
       "      <td>1986</td>\n",
       "      <td>1986</td>\n",
       "      <td></td>\n",
       "      <td>[]</td>\n",
       "      <td>[43 S.]</td>\n",
       "      <td>[43 S.]</td>\n",
       "      <td>[]</td>\n",
       "      <td>[]</td>\n",
       "      <td></td>\n",
       "      <td>[]</td>\n",
       "      <td>[]</td>\n",
       "      <td>[]</td>\n",
       "      <td></td>\n",
       "      <td>[BK020000]</td>\n",
       "    </tr>\n",
       "    <tr>\n",
       "      <th>2</th>\n",
       "      <td>554061503</td>\n",
       "      <td>[(OCoLC)1085491299, (IDSBB)006899959]</td>\n",
       "      <td>[]</td>\n",
       "      <td>{'245': ['Efficax antidotum ad matrimonia mixt...</td>\n",
       "      <td>{'245': ['Efficax antidotum ad matrimonia mixt...</td>\n",
       "      <td>{'100': ['KellyM.V.'], '700': ['GeniesseJ.B.']...</td>\n",
       "      <td>{}</td>\n",
       "      <td>1923</td>\n",
       "      <td>1923</td>\n",
       "      <td>1923</td>\n",
       "      <td>1923</td>\n",
       "      <td></td>\n",
       "      <td>[]</td>\n",
       "      <td>[75 p.]</td>\n",
       "      <td>[75 p.]</td>\n",
       "      <td>[]</td>\n",
       "      <td>[]</td>\n",
       "      <td></td>\n",
       "      <td>[]</td>\n",
       "      <td>[]</td>\n",
       "      <td>[]</td>\n",
       "      <td></td>\n",
       "      <td>[BK020000]</td>\n",
       "    </tr>\n",
       "    <tr>\n",
       "      <th>3</th>\n",
       "      <td>554061511</td>\n",
       "      <td>[(OCoLC)1085491268, (IDSBB)006896614]</td>\n",
       "      <td>[]</td>\n",
       "      <td>{'245': ['Probleme der Inflationsbekämpfung', ...</td>\n",
       "      <td>{'245': ['Probleme der Inflationsbekämpfung', ...</td>\n",
       "      <td>{'100': ['WegelinWalter'], '245c': ['']}</td>\n",
       "      <td>{}</td>\n",
       "      <td>1947</td>\n",
       "      <td>1947</td>\n",
       "      <td>1947</td>\n",
       "      <td>1947</td>\n",
       "      <td></td>\n",
       "      <td>[]</td>\n",
       "      <td>[24 S.]</td>\n",
       "      <td>[24 S.]</td>\n",
       "      <td>[]</td>\n",
       "      <td>[]</td>\n",
       "      <td></td>\n",
       "      <td>[]</td>\n",
       "      <td>[]</td>\n",
       "      <td>[]</td>\n",
       "      <td></td>\n",
       "      <td>[BK020000]</td>\n",
       "    </tr>\n",
       "    <tr>\n",
       "      <th>4</th>\n",
       "      <td>55406152X</td>\n",
       "      <td>[(OCoLC)1085491079, (IDSBB)006896866]</td>\n",
       "      <td>[]</td>\n",
       "      <td>{'245': ['[Poems]']}</td>\n",
       "      <td>{'245': ['[Poems]']}</td>\n",
       "      <td>{'100': ['OberlinUrs'], '245c': ['Urs Oberlin ...</td>\n",
       "      <td>{}</td>\n",
       "      <td>1991</td>\n",
       "      <td>1991</td>\n",
       "      <td>1991</td>\n",
       "      <td>1991</td>\n",
       "      <td></td>\n",
       "      <td>[]</td>\n",
       "      <td>[p. 14-15]</td>\n",
       "      <td>[p. 14-15]</td>\n",
       "      <td>[]</td>\n",
       "      <td>[]</td>\n",
       "      <td></td>\n",
       "      <td>[]</td>\n",
       "      <td>[]</td>\n",
       "      <td>[]</td>\n",
       "      <td></td>\n",
       "      <td>[BK020000]</td>\n",
       "    </tr>\n",
       "  </tbody>\n",
       "</table>\n",
       "</div>"
      ],
      "text/plain": [
       "       docid                               035liste isbn  \\\n",
       "0  554061449  [(OCoLC)1085491204, (IDSBB)006899773]   []   \n",
       "1  554061481  [(OCoLC)1085491341, (IDSBB)006899983]   []   \n",
       "2  554061503  [(OCoLC)1085491299, (IDSBB)006899959]   []   \n",
       "3  554061511  [(OCoLC)1085491268, (IDSBB)006896614]   []   \n",
       "4  55406152X  [(OCoLC)1085491079, (IDSBB)006896866]   []   \n",
       "\n",
       "                                             ttlfull  \\\n",
       "0  {'245': ['Die Feist von Kienberg', 'eine Wasen...   \n",
       "1                            {'245': ['Reimereien']}   \n",
       "2  {'245': ['Efficax antidotum ad matrimonia mixt...   \n",
       "3  {'245': ['Probleme der Inflationsbekämpfung', ...   \n",
       "4                               {'245': ['[Poems]']}   \n",
       "\n",
       "                                             ttlpart  \\\n",
       "0  {'245': ['Die Feist von Kienberg', 'eine Wasen...   \n",
       "1                            {'245': ['Reimereien']}   \n",
       "2  {'245': ['Efficax antidotum ad matrimonia mixt...   \n",
       "3  {'245': ['Probleme der Inflationsbekämpfung', ...   \n",
       "4                               {'245': ['[Poems]']}   \n",
       "\n",
       "                                              person corporate   pubyear  \\\n",
       "0  {'100': ['SchluchterAndré'], '245c': ['André S...        {}  1992       \n",
       "1  {'100': ['NaegeliWerner'], '245c': ['von Werne...        {}  1986       \n",
       "2  {'100': ['KellyM.V.'], '700': ['GeniesseJ.B.']...        {}  1923       \n",
       "3           {'100': ['WegelinWalter'], '245c': ['']}        {}  1947       \n",
       "4  {'100': ['OberlinUrs'], '245c': ['Urs Oberlin ...        {}  1991       \n",
       "\n",
       "  decade century exactDate edition part         pages       volumes pubinit  \\\n",
       "0   1992    1992  1992               []  [S. 102-114]  [S. 102-114]      []   \n",
       "1   1986    1986  1986               []       [43 S.]       [43 S.]      []   \n",
       "2   1923    1923  1923               []       [75 p.]       [75 p.]      []   \n",
       "3   1947    1947  1947               []       [24 S.]       [24 S.]      []   \n",
       "4   1991    1991  1991               []    [p. 14-15]    [p. 14-15]      []   \n",
       "\n",
       "  pubword scale coordinate doi ismn musicid      format  \n",
       "0      []               []  []   []          [BK020000]  \n",
       "1      []               []  []   []          [BK020000]  \n",
       "2      []               []  []   []          [BK020000]  \n",
       "3      []               []  []   []          [BK020000]  \n",
       "4      []               []  []   []          [BK020000]  "
      ]
     },
     "execution_count": 2,
     "metadata": {},
     "output_type": "execute_result"
    }
   ],
   "source": [
    "import pandas as pd\n",
    "\n",
    "# Generate Pandas DataFrame object out of the raw data\n",
    "df = pd.DataFrame(records)\n",
    "\n",
    "# Extend display to number of columns of DataFrame\n",
    "pd.options.display.max_columns = len(df.columns)\n",
    "\n",
    "df.head()"
   ]
  },
  {
   "cell_type": "code",
   "execution_count": 3,
   "metadata": {},
   "outputs": [
    {
     "name": "stdout",
     "output_type": "stream",
     "text": [
      "Number of records 183407, number of attributes per record 23.\n",
      "\n",
      "<class 'pandas.core.frame.DataFrame'>\n",
      "RangeIndex: 183407 entries, 0 to 183406\n",
      "Data columns (total 23 columns):\n",
      "docid         183407 non-null object\n",
      "035liste      183407 non-null object\n",
      "isbn          183407 non-null object\n",
      "ttlfull       183407 non-null object\n",
      "ttlpart       183407 non-null object\n",
      "person        183407 non-null object\n",
      "corporate     183407 non-null object\n",
      "pubyear       183407 non-null object\n",
      "decade        183407 non-null object\n",
      "century       183407 non-null object\n",
      "exactDate     183407 non-null object\n",
      "edition       183407 non-null object\n",
      "part          183407 non-null object\n",
      "pages         183407 non-null object\n",
      "volumes       183407 non-null object\n",
      "pubinit       183407 non-null object\n",
      "pubword       183407 non-null object\n",
      "scale         183407 non-null object\n",
      "coordinate    183407 non-null object\n",
      "doi           183407 non-null object\n",
      "ismn          183407 non-null object\n",
      "musicid       183407 non-null object\n",
      "format        183407 non-null object\n",
      "dtypes: object(23)\n",
      "memory usage: 32.2+ MB\n"
     ]
    }
   ],
   "source": [
    "print('Number of records {:d}, number of attributes per record {:d}.\\n'.format(\n",
    "    len(df), len(df.columns)))\n",
    "\n",
    "df.info()"
   ]
  },
  {
   "cell_type": "markdown",
   "metadata": {},
   "source": [
    "Swissbib data describes different kinds of bibliographic units, see [format](#format). The following subsections show some sample data for such units. The format is interpreted roughly in these subsections, compare Swissbib's [format codes](http://www.swissbib.org/wiki/index.php?title=Filtering#format_codes) [[FeatWiki](./A_References.ipynb#feature_deduplication_wiki)]."
   ]
  },
  {
   "cell_type": "code",
   "execution_count": 4,
   "metadata": {},
   "outputs": [
    {
     "data": {
      "text/plain": [
       "array(['BK', 'MU', 'VM', 'MP', 'CR', 'CL', 'CF', nan], dtype=object)"
      ]
     },
     "execution_count": 4,
     "metadata": {},
     "output_type": "execute_result"
    }
   ],
   "source": [
    "df.format.str[0].str[:2].unique()"
   ]
  },
  {
   "cell_type": "markdown",
   "metadata": {},
   "source": [
    "### Book"
   ]
  },
  {
   "cell_type": "markdown",
   "metadata": {},
   "source": [
    "A format code starting with $\\texttt{BK}$ stands for a bibliographic unit of a book or an article. A sample record is shown below."
   ]
  },
  {
   "cell_type": "code",
   "execution_count": 5,
   "metadata": {},
   "outputs": [
    {
     "data": {
      "text/plain": [
       "docid                                                 554061449\n",
       "035liste                  [(OCoLC)1085491204, (IDSBB)006899773]\n",
       "isbn                                                         []\n",
       "ttlfull       {'245': ['Die Feist von Kienberg', 'eine Wasen...\n",
       "ttlpart       {'245': ['Die Feist von Kienberg', 'eine Wasen...\n",
       "person        {'100': ['SchluchterAndré'], '245c': ['André S...\n",
       "corporate                                                    {}\n",
       "pubyear                                                1992    \n",
       "decade                                                     1992\n",
       "century                                                    1992\n",
       "exactDate                                              1992    \n",
       "edition                                                        \n",
       "part                                                         []\n",
       "pages                                              [S. 102-114]\n",
       "volumes                                            [S. 102-114]\n",
       "pubinit                                                      []\n",
       "pubword                                                      []\n",
       "scale                                                          \n",
       "coordinate                                                   []\n",
       "doi                                                          []\n",
       "ismn                                                         []\n",
       "musicid                                                        \n",
       "format                                               [BK020000]\n",
       "Name: 0, dtype: object"
      ]
     },
     "execution_count": 5,
     "metadata": {},
     "output_type": "execute_result"
    }
   ],
   "source": [
    "df.loc[df[df.format.str[0].str[:2]=='BK'].index[0]]"
   ]
  },
  {
   "cell_type": "markdown",
   "metadata": {},
   "source": [
    "### Music"
   ]
  },
  {
   "cell_type": "markdown",
   "metadata": {},
   "source": [
    "A format code starting with $\\texttt{MU}$ stands for a bibliographic unit that is related to music. A sample record is shown below."
   ]
  },
  {
   "cell_type": "code",
   "execution_count": 6,
   "metadata": {},
   "outputs": [
    {
     "data": {
      "text/plain": [
       "docid                                                 554098806\n",
       "035liste                  [(OCoLC)1085495414, (IDSBB)007052696]\n",
       "isbn                                                         []\n",
       "ttlfull                             {'245': ['Violin sonatas']}\n",
       "ttlpart                             {'245': ['Violin sonatas']}\n",
       "person        {'100': ['BrahmsJohannes1833-1897(DE-588)11851...\n",
       "corporate                                                    {}\n",
       "pubyear                                                20182018\n",
       "decade                                                     2018\n",
       "century                                                    2018\n",
       "exactDate                                              20182018\n",
       "edition                                                        \n",
       "part                                                         []\n",
       "pages                                            [1 CD (69:42)]\n",
       "volumes                                          [1 CD (69:42)]\n",
       "pubinit                                                      []\n",
       "pubword                                                      []\n",
       "scale                                                          \n",
       "coordinate                                                   []\n",
       "doi                                                          []\n",
       "ismn                                                         []\n",
       "musicid                                              GCD 924201\n",
       "format                                               [MU040100]\n",
       "Name: 1788, dtype: object"
      ]
     },
     "execution_count": 6,
     "metadata": {},
     "output_type": "execute_result"
    }
   ],
   "source": [
    "df.loc[df[df.format.str[0].str[:2]=='MU'].index[0]]"
   ]
  },
  {
   "cell_type": "markdown",
   "metadata": {},
   "source": [
    "### Video Material"
   ]
  },
  {
   "cell_type": "markdown",
   "metadata": {},
   "source": [
    "A format code starting with $\\texttt{VM}$ represents some film material. A sample record is shown below."
   ]
  },
  {
   "cell_type": "code",
   "execution_count": 7,
   "metadata": {},
   "outputs": [
    {
     "data": {
      "text/plain": [
       "docid                                                 554098911\n",
       "035liste      [(OCoLC)1065768412, (IDSBB)007052702, (OCoLC)1...\n",
       "isbn                         [978-3-946274-20-9, 3-946274-20-X]\n",
       "ttlfull       {'245': ['Kunst und Gemüse, A. Hipler', 'Art a...\n",
       "ttlpart       {'245': ['Kunst und Gemüse, A. Hipler', 'Art a...\n",
       "person        {'100': [], '700': ['SchlingensiefChristoph196...\n",
       "corporate                                                    {}\n",
       "pubyear                                                20182008\n",
       "decade                                                     2018\n",
       "century                                                    2018\n",
       "exactDate                                              20182008\n",
       "edition                                                        \n",
       "part                                                     [2004]\n",
       "pages                                  [2 DVD-Videos (283 min)]\n",
       "volumes                                [2 DVD-Videos (283 min)]\n",
       "pubinit                                                      []\n",
       "pubword                                                      []\n",
       "scale                                                          \n",
       "coordinate                                                   []\n",
       "doi                                                          []\n",
       "ismn                                                         []\n",
       "musicid                                                        \n",
       "format                                               [VM010000]\n",
       "Name: 1795, dtype: object"
      ]
     },
     "execution_count": 7,
     "metadata": {},
     "output_type": "execute_result"
    }
   ],
   "source": [
    "df.loc[df[df.format.str[0].str[:2]=='VM'].index[0]]"
   ]
  },
  {
   "cell_type": "markdown",
   "metadata": {},
   "source": [
    "### Map"
   ]
  },
  {
   "cell_type": "markdown",
   "metadata": {},
   "source": [
    "A format code starting with $\\texttt{MP}$ is a map. A sample record is shown below."
   ]
  },
  {
   "cell_type": "code",
   "execution_count": 8,
   "metadata": {},
   "outputs": [
    {
     "data": {
      "text/plain": [
       "docid                                                 554099039\n",
       "035liste                  [(OCoLC)1085495396, (IDSBB)007052708]\n",
       "isbn                                                         []\n",
       "ttlfull       {'245': ['Nova descriptio Comitatus Hollandiæ'...\n",
       "ttlpart       {'245': ['Nova descriptio Comitatus Hollandiæ'...\n",
       "person        {'100': ['BlaeuWillem Janszoon1571-1638(DE-588...\n",
       "corporate                                                    {}\n",
       "pubyear                                                19931604\n",
       "decade                                                     1993\n",
       "century                                                    1993\n",
       "exactDate                                              19931604\n",
       "edition                                               Facsimile\n",
       "part                                                         []\n",
       "pages                                                 [1 Karte]\n",
       "volumes                                               [1 Karte]\n",
       "pubinit                                                      []\n",
       "pubword                                                      []\n",
       "scale                                                    400000\n",
       "coordinate                                 [E0035400, N0532700]\n",
       "doi                                                          []\n",
       "ismn                                                         []\n",
       "musicid                                                        \n",
       "format                                               [MP010300]\n",
       "Name: 1801, dtype: object"
      ]
     },
     "execution_count": 8,
     "metadata": {},
     "output_type": "execute_result"
    }
   ],
   "source": [
    "df.loc[df[df.format.str[0].str[:2]=='MP'].index[0]]"
   ]
  },
  {
   "cell_type": "markdown",
   "metadata": {},
   "source": [
    "### Periodical"
   ]
  },
  {
   "cell_type": "markdown",
   "metadata": {},
   "source": [
    "A format code starting with $\\texttt{CR}$ is a bibliographic unit of a periodical. A sample record is shown below."
   ]
  },
  {
   "cell_type": "code",
   "execution_count": 9,
   "metadata": {},
   "outputs": [
    {
     "data": {
      "text/plain": [
       "docid                                                 55409939X\n",
       "035liste                   [(OCoLC)699516877, (IDSBB)007052728]\n",
       "isbn                                                [1533-4406]\n",
       "ttlfull       {'245': ['The new England journal of medicine ...\n",
       "ttlpart       {'245': ['The new England journal of medicine ...\n",
       "person                                {'100': [], '245c': ['']}\n",
       "corporate                                                    {}\n",
       "pubyear                                                18121826\n",
       "decade                                                     1812\n",
       "century                                                    1812\n",
       "exactDate                                              18121826\n",
       "edition                                                        \n",
       "part                                                         []\n",
       "pages                                        [Online-Ressource]\n",
       "volumes                                      [Online-Ressource]\n",
       "pubinit                                                      []\n",
       "pubword                                                      []\n",
       "scale                                                          \n",
       "coordinate                                                   []\n",
       "doi                                                          []\n",
       "ismn                                                         []\n",
       "musicid                                                        \n",
       "format                                               [CR030653]\n",
       "Name: 1825, dtype: object"
      ]
     },
     "execution_count": 9,
     "metadata": {},
     "output_type": "execute_result"
    }
   ],
   "source": [
    "df.loc[df[df.format.str[0].str[:2]=='CR'].index[0]]"
   ]
  },
  {
   "cell_type": "markdown",
   "metadata": {},
   "source": [
    "### Collection"
   ]
  },
  {
   "cell_type": "markdown",
   "metadata": {},
   "source": [
    "A format code starting with $\\texttt{CL}$ is a collection. A sample record is shown below."
   ]
  },
  {
   "cell_type": "code",
   "execution_count": 10,
   "metadata": {},
   "outputs": [
    {
     "data": {
      "text/plain": [
       "docid                                                 554101610\n",
       "035liste                  [(OCoLC)1085510940, (IDSBB)007052979]\n",
       "isbn                                                         []\n",
       "ttlfull       {'245': ['[St. Gallischer Hilfsverein - Sankt ...\n",
       "ttlpart       {'245': ['[St. Gallischer Hilfsverein - Sankt ...\n",
       "person                                {'100': [], '245c': ['']}\n",
       "corporate               {'110': ['St. Gallischer Hilfsverein']}\n",
       "pubyear                                                20179999\n",
       "decade                                                     2017\n",
       "century                                                    2017\n",
       "exactDate                                              20179999\n",
       "edition                                                        \n",
       "part                                                         []\n",
       "pages                                                 [1 Mappe]\n",
       "volumes                                               [1 Mappe]\n",
       "pubinit                                                      []\n",
       "pubword                                                      []\n",
       "scale                                                          \n",
       "coordinate                                                   []\n",
       "doi                                                          []\n",
       "ismn                                                         []\n",
       "musicid                                                        \n",
       "format                                               [CL010000]\n",
       "Name: 1955, dtype: object"
      ]
     },
     "execution_count": 10,
     "metadata": {},
     "output_type": "execute_result"
    }
   ],
   "source": [
    "df.loc[df[df.format.str[0].str[:2]=='CL'].index[0]]"
   ]
  },
  {
   "cell_type": "markdown",
   "metadata": {},
   "source": [
    "### Computer File"
   ]
  },
  {
   "cell_type": "markdown",
   "metadata": {},
   "source": [
    "A format code starting with $\\texttt{CF}$ is a placeholder for a computer file on any kind of storage. A sample record is shown below."
   ]
  },
  {
   "cell_type": "code",
   "execution_count": 11,
   "metadata": {},
   "outputs": [
    {
     "data": {
      "text/plain": [
       "docid                                                 554144301\n",
       "035liste                   [(IDSBB)007008154, (RERO)R007245313]\n",
       "isbn                                                         []\n",
       "ttlfull       {'245': ['Ice Age 4', 'voll verschoben : die a...\n",
       "ttlpart       {'245': ['Ice Age 4', 'voll verschoben : die a...\n",
       "person                                {'100': [], '245c': ['']}\n",
       "corporate                                                    {}\n",
       "pubyear                                                2012    \n",
       "decade                                                     2012\n",
       "century                                                    2012\n",
       "exactDate                                              2012    \n",
       "edition                                                        \n",
       "part                                                         []\n",
       "pages                                         [1 Speicherkarte]\n",
       "volumes                                       [1 Speicherkarte]\n",
       "pubinit                                                      []\n",
       "pubword                                                      []\n",
       "scale                                                          \n",
       "coordinate                                                   []\n",
       "doi                                                          []\n",
       "ismn                                                         []\n",
       "musicid                                                        \n",
       "format                                               [CF010000]\n",
       "Name: 5947, dtype: object"
      ]
     },
     "execution_count": 11,
     "metadata": {},
     "output_type": "execute_result"
    }
   ],
   "source": [
    "df.loc[df[df.format.str[0].str[:2]=='CF'].index[0]]"
   ]
  },
  {
   "cell_type": "markdown",
   "metadata": {},
   "source": [
    "## General Observation"
   ]
  },
  {
   "cell_type": "markdown",
   "metadata": {},
   "source": [
    "As can be observed in the sample records displayed above, the attributes of the records are stored in basic Python datatypes like strings, lists (of strings), and dictionaries. A look into the raw data file confirms this observation."
   ]
  },
  {
   "cell_type": "code",
   "execution_count": 12,
   "metadata": {},
   "outputs": [
    {
     "name": "stdout",
     "output_type": "stream",
     "text": [
      "{\"docid\":\"554061449\",\"035liste\":[\"(OCoLC)1085491204\",\"(IDSBB)006899773\"],\"isbn\":[],\"ttlfull\":{\"245\":[\"Die Feist von Kienberg\",\"eine Wasenmeisterfamilie im Ancien Régime zwischen Ehrbarkeit und Delinquenz\"]},\"ttlpart\":{\"245\":[\"Die Feist von Kienberg\",\"eine Wasenmeisterfamilie im Ancien Régime zwischen Ehrbarkeit und Delinquenz\"]},\"person\":{\"100\":[\"SchluchterAndré\"],\"245c\":[\"André Schluchter\"]},\"corporate\":{},\"pubyear\":\"1992    \",\"decade\":\"1992\",\"century\":\"1992\",\"exactDate\":\"1992    \",\"edition\":\"\",\"part\":[],\"pages\":[\"S. 102-114\"],\"volumes\":[\"S. 102-114\"],\"pubinit\":[],\"pubword\":[],\"scale\":\"\",\"coordinate\":[],\"doi\":[],\"ismn\":[],\"musicid\":\"\",\"format\":[\"BK020000\"]}\r\n",
      "{\"docid\":\"554061481\",\"035liste\":[\"(OCoLC)1085491341\",\"(IDSBB)006899983\"],\"isbn\":[],\"ttlfull\":{\"245\":[\"Reimereien\"]},\"ttlpart\":{\"245\":[\"Reimereien\"]},\"person\":{\"100\":[\"NaegeliWerner\"],\"245c\":[\"von Werner Naegeli\"]},\"corporate\":{},\"pubyear\":\"1986    \",\"decade\":\"1986\",\"century\":\"1986\",\"exactDate\":\"1986    \",\"edition\":\"\",\"part\":[],\"pages\":[\"43 S.\"],\"volumes\":[\"43 S.\"],\"pubinit\":[],\"pubword\":[],\"scale\":\"\",\"coordinate\":[],\"doi\":[],\"ismn\":[],\"musicid\":\"\",\"format\":[\"BK020000\"]}\r\n"
     ]
    }
   ],
   "source": [
    "! head -n 2 ./data/job7r4A1.json"
   ]
  },
  {
   "cell_type": "markdown",
   "metadata": {},
   "source": [
    "A specific analysis on each attribute, its meaning and contents will be done as a next step. For the upcoming analysis, each attribute of the data records is assigned to its specific group type. This is done with the help of a global dictionary variable $\\texttt{columns}\\_\\texttt{metadata}\\_\\texttt{dict}$."
   ]
  },
  {
   "cell_type": "code",
   "execution_count": 13,
   "metadata": {},
   "outputs": [],
   "source": [
    "columns_metadata_dict = {}"
   ]
  },
  {
   "cell_type": "markdown",
   "metadata": {},
   "source": [
    "## Attribute Analysis"
   ]
  },
  {
   "cell_type": "markdown",
   "metadata": {},
   "source": [
    "This section analyses the attributes provided by the Swissbib data extracts. The extracted data is used as a basis for the machine learning models in the capstone project. The attributes are based on the MARC 21 Format for Bibliographic Data [[MARC](./A_References.ipynb#marc21)] and are documented on a Swissbib wikipedia page [[FeatWiki](./A_References.ipynb#feature_deduplication_wiki)]."
   ]
  },
  {
   "cell_type": "code",
   "execution_count": 14,
   "metadata": {},
   "outputs": [
    {
     "data": {
      "text/plain": [
       "Index(['docid', '035liste', 'isbn', 'ttlfull', 'ttlpart', 'person',\n",
       "       'corporate', 'pubyear', 'decade', 'century', 'exactDate', 'edition',\n",
       "       'part', 'pages', 'volumes', 'pubinit', 'pubword', 'scale', 'coordinate',\n",
       "       'doi', 'ismn', 'musicid', 'format'],\n",
       "      dtype='object')"
      ]
     },
     "execution_count": 14,
     "metadata": {},
     "output_type": "execute_result"
    }
   ],
   "source": [
    "df.columns"
   ]
  },
  {
   "cell_type": "markdown",
   "metadata": {},
   "source": [
    "This section provides and uses some functions that have been written for supporting the analysis of the attributes as well as for data preprocessing in the upcoming chapters. These functions have been defined in separate code files.\n",
    "\n",
    "- [data_analysis_funcs.py](./data_analysis_funcs.py)\n",
    "- [data_preparation_funcs.py](./data_preparation_funcs.py)"
   ]
  },
  {
   "cell_type": "code",
   "execution_count": 15,
   "metadata": {},
   "outputs": [],
   "source": [
    "import data_analysis_funcs as daf\n",
    "import data_preparation_funcs as dpf"
   ]
  },
  {
   "cell_type": "markdown",
   "metadata": {},
   "source": [
    "### Table of Contents of Attribute Analysis\n",
    "\n",
    "- [035liste](#035liste)\n",
    "- [century](#century)\n",
    "- [coordinate](#coordinate)\n",
    "- [corporate](#corporate)\n",
    "- [decade](#decade)\n",
    "- [docid](#docid)\n",
    "- [doi](#doi)\n",
    "- [edition](#edition)\n",
    "- [exactDate](#exactDate)\n",
    "- [format](#format)\n",
    "- [isbn](#isbn)\n",
    "- [ismn](#ismn)\n",
    "- musicid\n",
    "- [pages](#pages)\n",
    "- part\n",
    "- [person](#person)\n",
    "- pubinit\n",
    "- pubword\n",
    "- [pubyear](#pubyear)\n",
    "- scale\n",
    "- [ttlfull](#ttlfull)\n",
    "- ttlpart\n",
    "- [volumes](#volumes)"
   ]
  },
  {
   "cell_type": "markdown",
   "metadata": {},
   "source": [
    "### 035liste"
   ]
  },
  {
   "cell_type": "code",
   "execution_count": 16,
   "metadata": {},
   "outputs": [],
   "source": [
    "columns_metadata_dict['list_columns'] = ['035liste']"
   ]
  },
  {
   "cell_type": "markdown",
   "metadata": {},
   "source": [
    "Attribute $\\texttt{035liste}$ holds a list of identifiers from the originating library of a bibliographic unit, see [[FeatWiki](./A_References.ipynb/#feature_deduplication_wiki)]. Each record of the Swissbib data holds at least one identifier. Some examples are shown below."
   ]
  },
  {
   "cell_type": "code",
   "execution_count": 17,
   "metadata": {},
   "outputs": [
    {
     "name": "stdout",
     "output_type": "stream",
     "text": [
      "Number of records with filled 035liste 183407, with missing 035liste 0 => 100.0%\n"
     ]
    }
   ],
   "source": [
    "_, _ = daf.find_empty_in_column(df, columns_metadata_dict, '035liste')"
   ]
  },
  {
   "cell_type": "code",
   "execution_count": 18,
   "metadata": {},
   "outputs": [
    {
     "data": {
      "text/plain": [
       "83463     1\n",
       "150669    1\n",
       "150668    1\n",
       "150667    1\n",
       "150666    1\n",
       "Name: 035liste, dtype: int64"
      ]
     },
     "execution_count": 18,
     "metadata": {},
     "output_type": "execute_result"
    }
   ],
   "source": [
    "df['035liste'].apply(lambda x : len(x)).sort_values().head(5)"
   ]
  },
  {
   "cell_type": "code",
   "execution_count": 19,
   "metadata": {},
   "outputs": [
    {
     "data": {
      "text/plain": [
       "144185    20\n",
       "54084     21\n",
       "30793     21\n",
       "136608    21\n",
       "61603     21\n",
       "14755     21\n",
       "49974     22\n",
       "139972    22\n",
       "139191    23\n",
       "124359    23\n",
       "Name: 035liste, dtype: int64"
      ]
     },
     "execution_count": 19,
     "metadata": {},
     "output_type": "execute_result"
    }
   ],
   "source": [
    "df['035liste'].apply(lambda x : len(x)).sort_values().tail(10)"
   ]
  },
  {
   "cell_type": "code",
   "execution_count": 20,
   "metadata": {},
   "outputs": [
    {
     "name": "stdout",
     "output_type": "stream",
     "text": [
      "Some sample identifiers:\n"
     ]
    },
    {
     "data": {
      "text/plain": [
       "84558                 [(OCoLC)1089817658, (NEBIS)011355004]\n",
       "66562                  [(OCoLC)603968833, (IDSBB)004805916]\n",
       "40534        [(SERSOL)ssib032078411, (WaSeSS)ssib032078411]\n",
       "158108                                        [(CEO)171589]\n",
       "36878        [(SERSOL)ssib033971934, (WaSeSS)ssib033971934]\n",
       "107127    [(VAUD)991021119808402852, (CKB)33900000000293...\n",
       "54969                 [(OCoLC)1085551573, (IDSBB)007057360]\n",
       "81478     [(ETHRESEARCH)oai:www.research-collection.ethz...\n",
       "49335     [(VAUD)991021046565902852, (CKB)31700000000528...\n",
       "2463                   [(IDSBB)006334166, (NEBIS)010259369]\n",
       "Name: 035liste, dtype: object"
      ]
     },
     "execution_count": 20,
     "metadata": {},
     "output_type": "execute_result"
    }
   ],
   "source": [
    "print('Some sample identifiers:')\n",
    "df['035liste'].sample(n=10)"
   ]
  },
  {
   "cell_type": "markdown",
   "metadata": {},
   "source": [
    "Attribute $\\texttt{035liste}$ is the central attribute for finding duplicates in the training data of the Swissbib's goldstandard. This process will be explained and implemented in chapter [Goldstandard and Data Preparation](./2_GoldstandardDataPreparation.ipynb)."
   ]
  },
  {
   "cell_type": "markdown",
   "metadata": {},
   "source": [
    "### century"
   ]
  },
  {
   "cell_type": "code",
   "execution_count": 21,
   "metadata": {},
   "outputs": [],
   "source": [
    "columns_metadata_dict['strings_columns'] = ['century']"
   ]
  },
  {
   "cell_type": "code",
   "execution_count": 22,
   "metadata": {},
   "outputs": [
    {
     "name": "stdout",
     "output_type": "stream",
     "text": [
      "Number of records with filled century 183407, with missing century 0 => 100.0%\n",
      "\n",
      "EMPTY - None\n",
      "\n",
      "FILLED - index 0 \n",
      "\n",
      "docid                                                 554061449\n",
      "035liste                  [(OCoLC)1085491204, (IDSBB)006899773]\n",
      "isbn                                                         []\n",
      "ttlfull       {'245': ['Die Feist von Kienberg', 'eine Wasen...\n",
      "ttlpart       {'245': ['Die Feist von Kienberg', 'eine Wasen...\n",
      "person        {'100': ['SchluchterAndré'], '245c': ['André S...\n",
      "corporate                                                    {}\n",
      "pubyear                                                1992    \n",
      "decade                                                     1992\n",
      "century                                                    1992\n",
      "exactDate                                              1992    \n",
      "edition                                                        \n",
      "part                                                         []\n",
      "pages                                              [S. 102-114]\n",
      "volumes                                            [S. 102-114]\n",
      "pubinit                                                      []\n",
      "pubword                                                      []\n",
      "scale                                                          \n",
      "coordinate                                                   []\n",
      "doi                                                          []\n",
      "ismn                                                         []\n",
      "musicid                                                        \n",
      "format                                               [BK020000]\n",
      "Name: 0, dtype: object\n"
     ]
    }
   ],
   "source": [
    "idx_century_filled, idx_century_empty = daf.find_empty_in_column(df, columns_metadata_dict, 'century')\n",
    "\n",
    "daf.two_examples(df, idx_century_filled, idx_century_empty)"
   ]
  },
  {
   "cell_type": "markdown",
   "metadata": {},
   "source": [
    "Attribute $\\texttt{century}$ holds information on the year of origin of the bibliographic unit [[FeatWiki](./A_References.ipynb/#feature_deduplication_wiki)]. The attribute holds strings of length 4 that can predominantly be interpreted as year-dates. Some examples and the top-most quantity distribution are shown below."
   ]
  },
  {
   "cell_type": "code",
   "execution_count": 23,
   "metadata": {},
   "outputs": [
    {
     "data": {
      "text/plain": [
       "161345    1995\n",
       "70128     2018\n",
       "61270     2016\n",
       "117497    uuuu\n",
       "87924     2019\n",
       "93139     1879\n",
       "133275    1992\n",
       "103926    2018\n",
       "81191     2019\n",
       "174719    1973\n",
       "57374     2018\n",
       "24265     2018\n",
       "138649    2018\n",
       "73973     1978\n",
       "27586     2017\n",
       "Name: century, dtype: object"
      ]
     },
     "execution_count": 23,
     "metadata": {},
     "output_type": "execute_result"
    }
   ],
   "source": [
    "df['century'].sample(n=15)"
   ]
  },
  {
   "cell_type": "code",
   "execution_count": 24,
   "metadata": {},
   "outputs": [
    {
     "data": {
      "text/plain": [
       "2018    0.208389\n",
       "2019    0.086785\n",
       "2017    0.046350\n",
       "uuuu    0.036236\n",
       "2016    0.025223\n",
       "1999    0.020201\n",
       "2015    0.019879\n",
       "2014    0.018156\n",
       "2012    0.016286\n",
       "2013    0.015616\n",
       "Name: century, dtype: float64"
      ]
     },
     "execution_count": 24,
     "metadata": {},
     "output_type": "execute_result"
    }
   ],
   "source": [
    "df.century.value_counts(normalize=True).head(10)"
   ]
  },
  {
   "cell_type": "markdown",
   "metadata": {},
   "source": [
    "If the year-date is unclear to some extent or no year-date of the unit is registered, letter 'u' is used as a placeholder of the unknown digit."
   ]
  },
  {
   "cell_type": "code",
   "execution_count": 25,
   "metadata": {},
   "outputs": [
    {
     "data": {
      "text/plain": [
       "array(['uuuu', 'u826', '193u', '197u', '192u', '19uu', '200u', '198u',\n",
       "       '189u', '188u', '18uu', '201u', '20uu', 'u829', '195u', '218u',\n",
       "       '196u', '17uu', '1uuu', '199u', 'u611', '191u', '190u', 'u713',\n",
       "       'u999', '194u', 'u693', '186u', '184u', '15uu', 'uuu1'],\n",
       "      dtype=object)"
      ]
     },
     "execution_count": 25,
     "metadata": {},
     "output_type": "execute_result"
    }
   ],
   "source": [
    "df.century[df.century.str.contains('u')].unique()"
   ]
  },
  {
   "cell_type": "markdown",
   "metadata": {},
   "source": [
    "The above statement results in the same array like the following regular expression."
   ]
  },
  {
   "cell_type": "code",
   "execution_count": 26,
   "metadata": {},
   "outputs": [
    {
     "data": {
      "text/plain": [
       "array(['uuuu', 'u826', '193u', '197u', '192u', '19uu', '200u', '198u',\n",
       "       '189u', '188u', '18uu', '201u', '20uu', 'u829', '195u', '218u',\n",
       "       '196u', '17uu', '1uuu', '199u', 'u611', '191u', '190u', 'u713',\n",
       "       'u999', '194u', 'u693', '186u', '184u', '15uu', 'uuu1'],\n",
       "      dtype=object)"
      ]
     },
     "execution_count": 26,
     "metadata": {},
     "output_type": "execute_result"
    }
   ],
   "source": [
    "df.century[df.century.str.contains('[^0-9]')].unique()"
   ]
  },
  {
   "cell_type": "code",
   "execution_count": 27,
   "metadata": {},
   "outputs": [
    {
     "data": {
      "text/plain": [
       "array(['1992', '1986', '1923', '1947', '1991', '1967', '1950', '1985',\n",
       "       '1983', '1942', '1883', '1990', '1984', '1989', '1993', '1961',\n",
       "       '1940', '1981', '1988', '1858', '1978', '1977', '1880', '1945',\n",
       "       '1963', '1912', '1884', '1937', '1956', '1943', '1916', '1960',\n",
       "       '1980', '1936', '1906', '1987', '1955', '1944', '1953', '1930',\n",
       "       '1903', '1913', '1938', '1895', '1905', '1920', '1918', '1857',\n",
       "       '1928', '1881', '1932', '1900', '1924', '1915', '1931', '1927',\n",
       "       '1919', '1896', '1922', '1871', '1926', '1939', '1907', '1776',\n",
       "       '1873', '1893', '1968', '1975', '1946', '1833', '1855', '1949',\n",
       "       '1962', '1971', '1959', '1966', '1862', '1898', '1901', '1904',\n",
       "       '1902', '1951', '1909', '1929', '1921', '1882', '1964', '1911',\n",
       "       '1957', '1897', '1910', '1867', '1914', '1908', '1958', '1934',\n",
       "       '1933', '1872', '1845', '1979', '1954', '1885', '1810', '1891',\n",
       "       '1869', '1876', '1889', '1836', '1952', '1935', '1948', '1917',\n",
       "       '1879', '1887', '1865', '1899', '1892', '1861', '1870', '1894',\n",
       "       '1941', '1925', '1837', '1864', '1846', '1848', '1691', '1657',\n",
       "       '1623', '1590', '1538', '1686', '1544', '1596', '1631', '1580',\n",
       "       '1628', '1793', '1823', '1802', '1831', '1816', '1838', '1825',\n",
       "       '1826', '1839', '1852', '1890', '1820', '1863', '1856', '1683',\n",
       "       '1877', '1835', '1827', '1850', '1841', '1822', '1847', '1834',\n",
       "       '1824', '1840', '1875', '1756', '1752', '1650', '1573', '1528',\n",
       "       '1554', '1552', '1751', '1653', '1798', '1791', '1645', '1814',\n",
       "       '1763', '1695', '1512', '1807', '1698', '1589', '1796', '1712',\n",
       "       '1818', '1773', '1803', '1828', '1806', '1853', '1785', '1744',\n",
       "       '1525', '1779', '1809', '1811', '1714', '1705', '1787', '1874',\n",
       "       '1781', '1888', '1859', '1772', '1771', '1602', '1851', '1784',\n",
       "       '1886', '1774', '1620', '1804', '1582', '1732', '1829', '1800',\n",
       "       '1789', '1842', '1764', '1797', '1805', '1795', '1868', '1758',\n",
       "       '1713', '1741', '1830', '1821', '1670', '1777', '1770', '1711',\n",
       "       '1762', '1768', '1813', '1761', '1819', '1769', '1801', '1832',\n",
       "       '1555', '1532', '1767', '1815', '1812', '1700', '1757', '1799',\n",
       "       '1710', '1843', '1722', '1760', '1701', '1574', '1651', '1733',\n",
       "       '1786', '1665', '1790', '1723', '1860', '1659', '1737', '1750',\n",
       "       '1716', '1739', '1759', '1808', '1728', '1748', '1577', '1706',\n",
       "       '1724', '1604', '1745', '1753', '1766', '1780', '1878', '1788',\n",
       "       '1673', '1735', '1778', '1715', '1782', '1671', '1702', '1731',\n",
       "       '1639', '1982', '1743', '1866', '1676', '1694', '1584', '1854',\n",
       "       '1969', '1690', '1708', '1688', '1565', '1754', '1638', '1755',\n",
       "       '1624', '1674', '1550', '1629', '1747', '1727', '1749', '1562',\n",
       "       '1641', '1617', '1794', '1844', '1783', '1817', '1849', '1792',\n",
       "       '1730', '1687', '1649', '1541', '1696', '1707', '2018', '2013',\n",
       "       '2009', '2011', '2006', '2014', '2019', '2015', '1997', '2020',\n",
       "       '1746', '2017', '2000', '1996', '1999', '2016', '1765', '1995',\n",
       "       '1972', '1974', '1738', '1965', '2001', '2004', '2010', '2002',\n",
       "       '2008', '2003', '1661', '1664', '1970', '1998', '2012', '1973',\n",
       "       '1994', '2005', '1729', '1634', '2007', '1976', '1658', '1775',\n",
       "       '1537', '1594', '1607', '1682', '1692', '1685', '1526', '1720',\n",
       "       '1564', '1561', '1734', '1543', '1679', '1697', '1591', '1655',\n",
       "       '1643', '1660', '1563', '1569', '1576', '1619', '1668', '1556',\n",
       "       '1736', '1675', '1600', '1542', '1557', '1539', '1540', '1699',\n",
       "       '1721', '1566', '1717', '1535', '1616', '1626', '1507', '1637',\n",
       "       '1548', '1640', '1681', '1672', '1559', '1689', '1644', '1703',\n",
       "       '1588', '1680', '1578', '1618', '1611', '1553', '1551', '1627',\n",
       "       '1630', '1606', '1608', '1560', '1572', '1579', '1593', '1718',\n",
       "       '1740', '1575', '1570', '1587', '1666', '1669', '1704', '1663',\n",
       "       '1595', '1515', '1615', '1585', '1527', '1601', '1523', '1633',\n",
       "       '1678', '1635', '1667', '1598', '1622', '1656', '1684', '1719',\n",
       "       '1648', '1652', '1499', '1530', '1489', '1480', '1642', '1547',\n",
       "       '1592', '1546', '1545', '1583', '1599', '1549', '1610', '1614',\n",
       "       '1508', '1531', '1497', '1613', '1693', '1498', '1742', '1603',\n",
       "       '1514', '1625', '1654', '1534', '1621', '1558', '1636', '1522',\n",
       "       '1521', '1482', '1725', '2021', '1472', '1605', '1597', '1567',\n",
       "       '1568', '1709', '1509', '1662', '1609', '1612', '1010', '1100',\n",
       "       '1455', '1400', '1647', '1490', '1300', '1401', '1430', '1301',\n",
       "       '1201', '1101', '1425', '1001', '1000', '1200', '1501', '1500',\n",
       "       '1504', '1581', '1465', '1503', '1474', '1444', '1418', '1478',\n",
       "       '1632', '1510', '1363', '1250', '1325', '1350', '1502', '1327',\n",
       "       '1450', '1520', '1150', '1389', '1518', '1185', '1677', '1571',\n",
       "       '1646', '1726', '1586', '1495'], dtype=object)"
      ]
     },
     "execution_count": 27,
     "metadata": {},
     "output_type": "execute_result"
    }
   ],
   "source": [
    "df.century[~df.century.str.contains('[u]')].unique()"
   ]
  },
  {
   "cell_type": "markdown",
   "metadata": {},
   "source": [
    "The following graph shows the publishing activity of Western European literature."
   ]
  },
  {
   "cell_type": "code",
   "execution_count": 28,
   "metadata": {},
   "outputs": [
    {
     "data": {
      "image/png": "[encoded data removed]",
      "text/plain": [
       "<Figure size 864x288 with 1 Axes>"
      ]
     },
     "metadata": {
      "needs_background": "light"
     },
     "output_type": "display_data"
    }
   ],
   "source": [
    "%matplotlib inline\n",
    "import matplotlib.pyplot as plt\n",
    "import numpy as np\n",
    "\n",
    "fig, ax = plt.subplots(nrows=1, ncols=1, figsize=(12, 4))\n",
    "\n",
    "plt.hist(df.century[~df.century.str.contains('[u]')].astype(int), bins=60, log=True)\n",
    "plt.xticks(rotation='vertical')\n",
    "plt.title('Stock of bibliographic units per pubication year')\n",
    "plt.xlabel('year of publication')\n",
    "plt.ylabel('log(amount of bibliographical units)')\n",
    "plt.show()"
   ]
  },
  {
   "cell_type": "markdown",
   "metadata": {},
   "source": [
    "The attribute is taken over to the feature matrix without an extra processing in [Goldstandard and Data Preparation](./2_GoldstandardDataPreparation.ipynb)."
   ]
  },
  {
   "cell_type": "code",
   "execution_count": 29,
   "metadata": {},
   "outputs": [],
   "source": [
    "columns_metadata_dict['data_analysis_columns'] = ['century']"
   ]
  },
  {
   "cell_type": "markdown",
   "metadata": {},
   "source": [
    "### coordinate"
   ]
  },
  {
   "cell_type": "code",
   "execution_count": 30,
   "metadata": {},
   "outputs": [],
   "source": [
    "columns_metadata_dict['list_columns'] = ['coordinate']"
   ]
  },
  {
   "cell_type": "markdown",
   "metadata": {},
   "source": [
    "Attribute $\\texttt{coordinate}$ holds geographical coordinate information on the related bibliographical unit of format map."
   ]
  },
  {
   "cell_type": "code",
   "execution_count": 31,
   "metadata": {},
   "outputs": [
    {
     "name": "stdout",
     "output_type": "stream",
     "text": [
      "Number of records with filled coordinate 730, with missing coordinate 182677 => 0.4%\n"
     ]
    }
   ],
   "source": [
    "_, _ = daf.find_empty_in_column(df, columns_metadata_dict, 'coordinate')"
   ]
  },
  {
   "cell_type": "code",
   "execution_count": 32,
   "metadata": {},
   "outputs": [
    {
     "name": "stdout",
     "output_type": "stream",
     "text": [
      "Number of records with filled coordinate 729, with missing coordinate 183 => 79.9%\n"
     ]
    }
   ],
   "source": [
    "_, _ = daf.find_empty_in_column(df[df.format.str[0].str[:2]=='MP'], columns_metadata_dict, 'coordinate')"
   ]
  },
  {
   "cell_type": "code",
   "execution_count": 33,
   "metadata": {},
   "outputs": [
    {
     "data": {
      "text/plain": [
       "145721    [E0053832, E0053842, N0465129, N0465123]\n",
       "182727                        [E0070045, N0465034]\n",
       "31300                                           []\n",
       "20641                         [E0082000, N0474200]\n",
       "172523                        [E0075029, N0461914]\n",
       "78594                         [E0042400, N0554400]\n",
       "114691                        [E0090500, N0470609]\n",
       "18391                                           []\n",
       "133225                        [E0085041, N0464654]\n",
       "113746                        [E0085812, N0470924]\n",
       "Name: coordinate, dtype: object"
      ]
     },
     "execution_count": 33,
     "metadata": {},
     "output_type": "execute_result"
    }
   ],
   "source": [
    "df['coordinate'][df.format.str[0].str[:2]=='MP'].sample(n=10)"
   ]
  },
  {
   "cell_type": "markdown",
   "metadata": {},
   "source": [
    "The attribute stores its values in the form of a list. The list may hold more than two specific coordinate values. A specific coordinate value is mostly of length 8 characters."
   ]
  },
  {
   "cell_type": "code",
   "execution_count": 34,
   "metadata": {},
   "outputs": [
    {
     "data": {
      "text/plain": [
       "15139     [E012.500000, E0123000, N046.750000, N0464500]\n",
       "83161           [E0073547, E0073544, N0465345, N0465341]\n",
       "135681          [E0083706, E0083706, N0470000, N0470001]\n",
       "137329          [E0082310, E0082314, N0464707, N0464711]\n",
       "20644           [E0054415, E0054415, N0480000, N0480005]\n",
       "143472          [E0064728, E0064725, N0461460, N0461455]\n",
       "138344          [E0053613, E0053623, N0475929, N0475919]\n",
       "141177          [E0092606, E0092611, N0471527, N0471532]\n",
       "145722          [E0071437, E0071441, N0462126, N0462130]\n",
       "61409           [E0055427, E0055432, N0474810, N0474813]\n",
       "Name: coordinate, dtype: object"
      ]
     },
     "execution_count": 34,
     "metadata": {},
     "output_type": "execute_result"
    }
   ],
   "source": [
    "df_maps = df.loc[df.coordinate.apply(lambda x : len(x))[df.format.str[0].str[:2]=='MP'].index]\n",
    "df_maps.coordinate[df_maps.coordinate.apply(lambda x : len(x)) > 2].sample(n=10)"
   ]
  },
  {
   "cell_type": "code",
   "execution_count": 35,
   "metadata": {},
   "outputs": [
    {
     "data": {
      "text/plain": [
       "'E012.500000 transforms to E0125000'"
      ]
     },
     "execution_count": 35,
     "metadata": {},
     "output_type": "execute_result"
    }
   ],
   "source": [
    "df.coordinate.loc[15139][0] + ' transforms to ' + df.coordinate.loc[15139][0].replace('.', '')[:8].upper()"
   ]
  },
  {
   "cell_type": "code",
   "execution_count": 36,
   "metadata": {},
   "outputs": [
    {
     "data": {
      "text/plain": [
       "'E0125000'"
      ]
     },
     "execution_count": 36,
     "metadata": {},
     "output_type": "execute_result"
    }
   ],
   "source": [
    "df.coordinate.loc[15139][0].replace('.', '')[:8].upper()"
   ]
  },
  {
   "cell_type": "code",
   "execution_count": null,
   "metadata": {},
   "outputs": [],
   "source": []
  },
  {
   "cell_type": "markdown",
   "metadata": {},
   "source": [
    "Attribute $\\texttt{coordinate}$ is a relevant identifying attribute for duplicates of maps. The attribute will be used for pair comparison in the feature matrix."
   ]
  },
  {
   "cell_type": "code",
   "execution_count": 37,
   "metadata": {},
   "outputs": [],
   "source": [
    "columns_metadata_dict['data_analysis_columns'].append('coordinate')"
   ]
  },
  {
   "cell_type": "markdown",
   "metadata": {},
   "source": [
    "### corporate"
   ]
  },
  {
   "cell_type": "code",
   "execution_count": 38,
   "metadata": {},
   "outputs": [],
   "source": [
    "columns_metadata_dict['strings_columns'].append('corporate')"
   ]
  },
  {
   "cell_type": "markdown",
   "metadata": {},
   "source": [
    "Attribute $\\texttt{corporate}$ is a collection of corporate names of the bibliographical unit, see [[FeatWiki](./A_References.ipynb/#feature_deduplication_wiki)]. The attribute out of the raw data comes along as a dictionary column in the DataFrame with three possible key value pairs. For reasons of easier processing, attribute $\\texttt{corporate}$ will be split into a separate attribute for each key of the dictionary. The values come along as lists and the implemented function $\\texttt{.transform}\\_\\texttt{list}\\_\\texttt{to}\\_\\texttt{string()}$ will be used to process its elements into one single string of the new column."
   ]
  },
  {
   "cell_type": "code",
   "execution_count": 39,
   "metadata": {},
   "outputs": [
    {
     "data": {
      "text/plain": [
       "53813                                                    {}\n",
       "56843                                                    {}\n",
       "77964                                                    {}\n",
       "63812                                                    {}\n",
       "15463                                                    {}\n",
       "57370                                                    {}\n",
       "97616                                                    {}\n",
       "89209                                                    {}\n",
       "48481                                                    {}\n",
       "81037                                                    {}\n",
       "43533                                                    {}\n",
       "9690                                                     {}\n",
       "144013                                                   {}\n",
       "39638                                                    {}\n",
       "56799                                                    {}\n",
       "146623                                                   {}\n",
       "17095                                                    {}\n",
       "166433    {'710': ['Association nationale d'éducation ph...\n",
       "19561                                                    {}\n",
       "169421         {'110': ['International Olympic Committee']}\n",
       "Name: corporate, dtype: object"
      ]
     },
     "execution_count": 39,
     "metadata": {},
     "output_type": "execute_result"
    }
   ],
   "source": [
    "df.corporate.sample(n=20)"
   ]
  },
  {
   "cell_type": "code",
   "execution_count": 40,
   "metadata": {},
   "outputs": [
    {
     "name": "stdout",
     "output_type": "stream",
     "text": [
      "Number of records with filled corporate_110 11370, with missing corporate_110 172037 => 6.2%\n",
      "Number of records with filled corporate_710 23123, with missing corporate_710 160284 => 12.6%\n",
      "Number of records with filled corporate_810 57, with missing corporate_810 183350 => 0.0%\n"
     ]
    }
   ],
   "source": [
    "for ending in ['110', '710', '810']:\n",
    "    df = dpf.transform_dictionary_to_list(df, 'corporate', ending)\n",
    "    df = dpf.transform_list_to_string(df, 'corporate_'+ending)\n",
    "\n",
    "    columns_metadata_dict['strings_columns'].append('corporate_'+ending)\n",
    "    _, _ = daf.find_empty_in_column(df, columns_metadata_dict, 'corporate_'+ending)"
   ]
  },
  {
   "cell_type": "markdown",
   "metadata": {},
   "source": [
    "The attribute is sparsely filled. This is due to the fact that most of Swissbib's bibliographical units are units produced by persons, not corporates."
   ]
  },
  {
   "cell_type": "code",
   "execution_count": 41,
   "metadata": {},
   "outputs": [
    {
     "data": {
      "text/plain": [
       "corporate_110    11349\n",
       "corporate_710    11349\n",
       "dtype: int64"
      ]
     },
     "execution_count": 41,
     "metadata": {},
     "output_type": "execute_result"
    }
   ],
   "source": [
    "df[['corporate_110', 'corporate_710']][\n",
    "    (df.corporate_110!=df.corporate_710) &\n",
    "    (df.corporate_110.apply(lambda x : len(x))!=0)].count()"
   ]
  },
  {
   "cell_type": "code",
   "execution_count": 42,
   "metadata": {},
   "outputs": [
    {
     "data": {
      "text/plain": [
       "corporate_110    21\n",
       "corporate_710    21\n",
       "dtype: int64"
      ]
     },
     "execution_count": 42,
     "metadata": {},
     "output_type": "execute_result"
    }
   ],
   "source": [
    "df[['corporate_110', 'corporate_710']][\n",
    "    (df.corporate_110==df.corporate_710) &\n",
    "    (df.corporate_110.apply(lambda x : len(x))!=0)].count()"
   ]
  },
  {
   "cell_type": "code",
   "execution_count": 43,
   "metadata": {},
   "outputs": [
    {
     "data": {
      "text/html": [
       "<div>\n",
       "<style scoped>\n",
       "    .dataframe tbody tr th:only-of-type {\n",
       "        vertical-align: middle;\n",
       "    }\n",
       "\n",
       "    .dataframe tbody tr th {\n",
       "        vertical-align: top;\n",
       "    }\n",
       "\n",
       "    .dataframe thead th {\n",
       "        text-align: right;\n",
       "    }\n",
       "</style>\n",
       "<table border=\"1\" class=\"dataframe\">\n",
       "  <thead>\n",
       "    <tr style=\"text-align: right;\">\n",
       "      <th></th>\n",
       "      <th>corporate_110</th>\n",
       "      <th>corporate_710</th>\n",
       "    </tr>\n",
       "  </thead>\n",
       "  <tbody>\n",
       "    <tr>\n",
       "      <th>10383</th>\n",
       "      <td>verein deutscher bibliothekare, regionalverban...</td>\n",
       "      <td>verein deutscher bibliothekare, zentral- und l...</td>\n",
       "    </tr>\n",
       "    <tr>\n",
       "      <th>14064</th>\n",
       "      <td>slavs and tatars</td>\n",
       "      <td>kunsthalle im lipsiusbau, kunstverein hannover</td>\n",
       "    </tr>\n",
       "    <tr>\n",
       "      <th>14918</th>\n",
       "      <td>heilsarmee, nationales hauptquartier bern</td>\n",
       "      <td>salvation army, nationales hauptquartier</td>\n",
       "    </tr>\n",
       "    <tr>\n",
       "      <th>15687</th>\n",
       "      <td>berner alpenbahn-gesellschaft bern-lötschberg-...</td>\n",
       "      <td>lötschbergbahn</td>\n",
       "    </tr>\n",
       "    <tr>\n",
       "      <th>16185</th>\n",
       "      <td>jordan schnitzer family foundation</td>\n",
       "      <td>hallie ford museum of art</td>\n",
       "    </tr>\n",
       "  </tbody>\n",
       "</table>\n",
       "</div>"
      ],
      "text/plain": [
       "                                           corporate_110  \\\n",
       "10383  verein deutscher bibliothekare, regionalverban...   \n",
       "14064                                   slavs and tatars   \n",
       "14918          heilsarmee, nationales hauptquartier bern   \n",
       "15687  berner alpenbahn-gesellschaft bern-lötschberg-...   \n",
       "16185                 jordan schnitzer family foundation   \n",
       "\n",
       "                                           corporate_710  \n",
       "10383  verein deutscher bibliothekare, zentral- und l...  \n",
       "14064     kunsthalle im lipsiusbau, kunstverein hannover  \n",
       "14918           salvation army, nationales hauptquartier  \n",
       "15687                                     lötschbergbahn  \n",
       "16185                          hallie ford museum of art  "
      ]
     },
     "execution_count": 43,
     "metadata": {},
     "output_type": "execute_result"
    }
   ],
   "source": [
    "df[['corporate_110', 'corporate_710']][\n",
    "    (df.corporate_110!=df.corporate_710) &\n",
    "    (df.corporate_110.apply(lambda x : len(x))!=0) &\n",
    "    (df.corporate_710.apply(lambda x : len(x))!=0)\n",
    "].head()"
   ]
  },
  {
   "cell_type": "markdown",
   "metadata": {},
   "source": [
    "The attribute holds different data in its dictionary key 110 compared to its dictionary key 710. Both key values of $\\texttt{corporate}$ seem to be relevant for the model. Some examples are shown below."
   ]
  },
  {
   "cell_type": "code",
   "execution_count": 44,
   "metadata": {},
   "outputs": [
    {
     "data": {
      "text/plain": [
       "157093                            bahrain olympic committee\n",
       "152552    general association of international sports fe...\n",
       "152808                 comitato olimpico nazionale italiano\n",
       "153636                           japanese olympic committee\n",
       "28888                       zürcherische pestalozzistiftung\n",
       "169739                      international tennis federation\n",
       "102771                            galerie priska meier zell\n",
       "166384                                olympia-büro (berlin)\n",
       "164636             united states figure skating association\n",
       "154591        comité national olympique et sportif français\n",
       "151548                              comité olympique suisse\n",
       "171172                      international olympic committee\n",
       "150663    summer youth olympic games. organizing committ...\n",
       "152711        kuopio 2012 youth olympic games bid committee\n",
       "162821                             slovak olympic committee\n",
       "168510                      international olympic committee\n",
       "156983    summer youth olympic games. organizing committ...\n",
       "171182    international olympic committee. olympic solid...\n",
       "163566                                  conseil de l'europe\n",
       "168967                      international olympic committee\n",
       "Name: corporate_110, dtype: object"
      ]
     },
     "execution_count": 44,
     "metadata": {},
     "output_type": "execute_result"
    }
   ],
   "source": [
    "df.corporate_110[df.corporate_110.apply(lambda x : len(x))!=0].sample(n=20)"
   ]
  },
  {
   "cell_type": "code",
   "execution_count": 45,
   "metadata": {},
   "outputs": [
    {
     "data": {
      "text/plain": [
       "131258                         medienprojekt wuppertal e.v.\n",
       "22145                                     diogenes quartett\n",
       "160265                           musée olympique (lausanne)\n",
       "42402                         springerlink (online service)\n",
       "79060                                                  spie\n",
       "80270                                            un-habitat\n",
       "32272                                       ray bryant trio\n",
       "2160                                              marillion\n",
       "19791                                    universität zürich\n",
       "123754                           deutsches reich, patentamt\n",
       "10436                              berliner barock solisten\n",
       "19152                        repubblica elvetica, 1798-1803\n",
       "153048                          british olympic association\n",
       "27379                                 pavillon de l'arsenal\n",
       "139864    conference on private and unregulated transpor...\n",
       "130116             bundesinstitut für bevölkerungsforschung\n",
       "19839                              ggg basel, ggg migration\n",
       "60448     bäcker- und konditorenmeister-verband des kant...\n",
       "77416                   fondation reinhardt von graffenried\n",
       "5042                                      quintette nielsen\n",
       "Name: corporate_710, dtype: object"
      ]
     },
     "execution_count": 45,
     "metadata": {},
     "output_type": "execute_result"
    }
   ],
   "source": [
    "df.corporate_710[df.corporate_710.apply(lambda x : len(x))!=0].sample(n=20)"
   ]
  },
  {
   "cell_type": "code",
   "execution_count": 46,
   "metadata": {},
   "outputs": [
    {
     "data": {
      "text/plain": [
       "72562                                         werbung kiser\n",
       "15102               schweiz, bundesamt für landestopografie\n",
       "110582                              hallwag kümmerly + frey\n",
       "138344              schweiz, bundesamt für landestopografie\n",
       "72548                                         werbung kiser\n",
       "52134                       kunsthandlung helmut h. rumbler\n",
       "45080                           wirtschaftsuniversität wien\n",
       "106184                              hallwag kümmerly + frey\n",
       "115817                deutschland, verteidigungsministerium\n",
       "133706    carnegie endowment for international peace., d...\n",
       "110598                              hallwag kümmerly + frey\n",
       "25428               schweiz, bundesamt für landestopografie\n",
       "110597                              hallwag kümmerly + frey\n",
       "94678                                             hécatombe\n",
       "25374               schweiz, bundesamt für landestopografie\n",
       "110568                                            hema maps\n",
       "94674                                             hécatombe\n",
       "94680                                             hécatombe\n",
       "113870                              peter-ochs-gesellschaft\n",
       "106189                              hallwag kümmerly + frey\n",
       "Name: corporate_810, dtype: object"
      ]
     },
     "execution_count": 46,
     "metadata": {},
     "output_type": "execute_result"
    }
   ],
   "source": [
    "df.corporate_810[df.corporate_810.apply(lambda x : len(x))!=0].sample(n=20)"
   ]
  },
  {
   "cell_type": "code",
   "execution_count": 47,
   "metadata": {},
   "outputs": [
    {
     "data": {
      "text/plain": [
       "45080              {'810': ['Wirtschaftsuniversität Wien']}\n",
       "47145     {'110': ['Biochemical Society (Great Britain)'...\n",
       "52134     {'710': ['Kunsthandlung Helmut H. Rumbler'], '...\n",
       "94673     {'710': ['Ensemble Batida', 'Hécatombe'], '810...\n",
       "94674     {'710': ['Ensemble Batida', 'Hécatombe'], '810...\n",
       "94678     {'710': ['Ensemble Batida', 'Hécatombe'], '810...\n",
       "94679     {'710': ['Ensemble Batida', 'Hécatombe'], '810...\n",
       "94680     {'710': ['Ensemble Batida', 'Hécatombe'], '810...\n",
       "113869                 {'810': ['Peter-Ochs-Gesellschaft']}\n",
       "113870                 {'810': ['Peter-Ochs-Gesellschaft']}\n",
       "133706    {'110': ['Carnegie Endowment for International...\n",
       "133739    {'810': ['Deutschland', 'Verteidigungsminister...\n",
       "143892    {'110': ['Judge Advocate General's School (Uni...\n",
       "Name: corporate, dtype: object"
      ]
     },
     "execution_count": 47,
     "metadata": {},
     "output_type": "execute_result"
    }
   ],
   "source": [
    "df.corporate[(df.corporate_110 != df.corporate_810) &\n",
    "             (df.corporate_810.apply(lambda x : len(x))!=0)]"
   ]
  },
  {
   "cell_type": "markdown",
   "metadata": {},
   "source": [
    "Only a few records hold data in attribute $\\texttt{corporate}$ with key value 810. Furthermore, attribute $\\texttt{corporate}$ at key 810 stores strongly redundant data to $\\texttt{corporate}$ at key value 110. Therefore, attribute $\\texttt{corporate}$ with key 810 will be dropped [[WiCo2001](./A_References.ipynb#wico2001)]."
   ]
  },
  {
   "cell_type": "code",
   "execution_count": 48,
   "metadata": {},
   "outputs": [],
   "source": [
    "columns_metadata_dict['data_analysis_columns'].append('corporate_110')\n",
    "columns_metadata_dict['data_analysis_columns'].append('corporate_710')"
   ]
  },
  {
   "cell_type": "markdown",
   "metadata": {},
   "source": [
    "### decade"
   ]
  },
  {
   "cell_type": "code",
   "execution_count": 49,
   "metadata": {},
   "outputs": [],
   "source": [
    "columns_metadata_dict['strings_columns'].append('decade')"
   ]
  },
  {
   "cell_type": "code",
   "execution_count": 50,
   "metadata": {},
   "outputs": [
    {
     "data": {
      "text/html": [
       "<div>\n",
       "<style scoped>\n",
       "    .dataframe tbody tr th:only-of-type {\n",
       "        vertical-align: middle;\n",
       "    }\n",
       "\n",
       "    .dataframe tbody tr th {\n",
       "        vertical-align: top;\n",
       "    }\n",
       "\n",
       "    .dataframe thead th {\n",
       "        text-align: right;\n",
       "    }\n",
       "</style>\n",
       "<table border=\"1\" class=\"dataframe\">\n",
       "  <thead>\n",
       "    <tr style=\"text-align: right;\">\n",
       "      <th></th>\n",
       "      <th>docid</th>\n",
       "      <th>035liste</th>\n",
       "      <th>isbn</th>\n",
       "      <th>ttlfull</th>\n",
       "      <th>ttlpart</th>\n",
       "      <th>person</th>\n",
       "      <th>corporate</th>\n",
       "      <th>pubyear</th>\n",
       "      <th>decade</th>\n",
       "      <th>century</th>\n",
       "      <th>exactDate</th>\n",
       "      <th>...</th>\n",
       "      <th>pubinit</th>\n",
       "      <th>pubword</th>\n",
       "      <th>scale</th>\n",
       "      <th>coordinate</th>\n",
       "      <th>doi</th>\n",
       "      <th>ismn</th>\n",
       "      <th>musicid</th>\n",
       "      <th>format</th>\n",
       "      <th>corporate_110</th>\n",
       "      <th>corporate_710</th>\n",
       "      <th>corporate_810</th>\n",
       "    </tr>\n",
       "  </thead>\n",
       "  <tbody>\n",
       "  </tbody>\n",
       "</table>\n",
       "<p>0 rows × 26 columns</p>\n",
       "</div>"
      ],
      "text/plain": [
       "Empty DataFrame\n",
       "Columns: [docid, 035liste, isbn, ttlfull, ttlpart, person, corporate, pubyear, decade, century, exactDate, edition, part, pages, volumes, pubinit, pubword, scale, coordinate, doi, ismn, musicid, format, corporate_110, corporate_710, corporate_810]\n",
       "Index: []\n",
       "\n",
       "[0 rows x 26 columns]"
      ]
     },
     "execution_count": 50,
     "metadata": {},
     "output_type": "execute_result"
    }
   ],
   "source": [
    "df[df.decade != df.century]"
   ]
  },
  {
   "cell_type": "markdown",
   "metadata": {},
   "source": [
    "The attribute holds identical data to attribute $\\texttt{century}$. Its MARC 21 definition is the same, too. The purpose of the field is to derive the decade of the year of origin of a bibliographic unit and store it for comparison. This is done in Swissbib's conventional deduplication implementation [[WiCo2001](./A_References.ipynb#wico2001)]. Chapter [Feature Matrix Generation](./3_FeatureMatrixGeneration.ipynb) will apply a similarity metric for $\\texttt{century}$ that takes the decade into specific consideration for attribute $\\texttt{century}$. Therefore, attribute $\\texttt{decade}$ will be dropped."
   ]
  },
  {
   "cell_type": "markdown",
   "metadata": {},
   "source": [
    "### docid"
   ]
  },
  {
   "cell_type": "code",
   "execution_count": 51,
   "metadata": {},
   "outputs": [],
   "source": [
    "columns_metadata_dict['strings_columns'].append('docid')"
   ]
  },
  {
   "cell_type": "code",
   "execution_count": 52,
   "metadata": {},
   "outputs": [
    {
     "name": "stdout",
     "output_type": "stream",
     "text": [
      "Number of records with filled docid 183407, with missing docid 0 => 100.0%\n"
     ]
    }
   ],
   "source": [
    "idx_docid_filled, idx_docid_empty = daf.find_empty_in_column(df, columns_metadata_dict, 'docid')"
   ]
  },
  {
   "cell_type": "code",
   "execution_count": 53,
   "metadata": {},
   "outputs": [
    {
     "data": {
      "text/plain": [
       "'554061449'"
      ]
     },
     "execution_count": 53,
     "metadata": {},
     "output_type": "execute_result"
    }
   ],
   "source": [
    "df.docid[0]"
   ]
  },
  {
   "cell_type": "markdown",
   "metadata": {},
   "source": [
    "The $\\texttt{docid}$ is a unique identifier for a record of the data set. The attribute will become important for identifying master records for their associated slave records, see chapter [Goldstandard and Data Preparation](./2_GoldstandardDataPreparation.ipynb). It will not be used directly for the training of the model."
   ]
  },
  {
   "cell_type": "markdown",
   "metadata": {},
   "source": [
    "### doi"
   ]
  },
  {
   "cell_type": "code",
   "execution_count": 54,
   "metadata": {},
   "outputs": [],
   "source": [
    "columns_metadata_dict['list_columns'].append('doi')"
   ]
  },
  {
   "cell_type": "code",
   "execution_count": 55,
   "metadata": {},
   "outputs": [
    {
     "name": "stdout",
     "output_type": "stream",
     "text": [
      "Number of records with filled doi 10114, with missing doi 173293 => 5.5%\n"
     ]
    }
   ],
   "source": [
    "idx_doi_filled, idx_doi_empty = daf.find_empty_in_column(df, columns_metadata_dict, 'doi')"
   ]
  },
  {
   "cell_type": "code",
   "execution_count": 56,
   "metadata": {},
   "outputs": [
    {
     "data": {
      "text/plain": [
       "1854                                     [00028947575214]\n",
       "1899    [10.5451/unibas-007052902, urn:nbn:ch:bel-bau-...\n",
       "1937    [10.5451/unibas-007052953, urn:nbn:ch:bel-bau-...\n",
       "2046                                     [04600317120499]\n",
       "2063                                     [00602567484134]\n",
       "2207                                     [00039841539226]\n",
       "2245                                     [00096802280399]\n",
       "2286                                     [00761195120422]\n",
       "2494                                     [04250095800740]\n",
       "2779                                     [00888837038720]\n",
       "2996                     [urn:nbn:de:101:1-2016111912809]\n",
       "3087                                     [00605633131628]\n",
       "3385                     [urn:nbn:de:101:1-2017040728657]\n",
       "4094                                     [00602547324375]\n",
       "4504                                     [00656605612812]\n",
       "4710                             [10.14361/9783839445334]\n",
       "6579                                     [00887254706021]\n",
       "7624                                     [00075597959413]\n",
       "8125                                     [03770001901282]\n",
       "9663                      [urn:nbn:de:101:1-201706101980]\n",
       "Name: doi, dtype: object"
      ]
     },
     "execution_count": 56,
     "metadata": {},
     "output_type": "execute_result"
    }
   ],
   "source": [
    "df.doi[df.doi.apply(lambda x : len(x))>0].head(20)"
   ]
  },
  {
   "cell_type": "code",
   "execution_count": 57,
   "metadata": {},
   "outputs": [
    {
     "data": {
      "text/plain": [
       "docid                                                    554099918\n",
       "035liste         [(OCoLC)71126385, (IDSBB)007052820, (OCoLC)711...\n",
       "isbn                                                            []\n",
       "ttlfull          {'245': ['Symphony no. 8'], '246': ['Symphony ...\n",
       "ttlpart                                {'245': ['Symphony no. 8']}\n",
       "person           {'100': ['MahlerGustav1860-1911(DE-588)1185762...\n",
       "corporate        {'710': ['Konzertvereinigung Wiener Staatsoper...\n",
       "pubyear                                                   20062006\n",
       "decade                                                        2006\n",
       "century                                                       2006\n",
       "exactDate                                                 20062006\n",
       "edition                                                           \n",
       "part                                                            []\n",
       "pages                                               [1 Cd (79:48)]\n",
       "volumes                                             [1 Cd (79:48)]\n",
       "pubinit                                                         []\n",
       "pubword                                                         []\n",
       "scale                                                             \n",
       "coordinate                                                      []\n",
       "doi                                               [00028947575214]\n",
       "ismn                                              [00028947575214]\n",
       "musicid                                                   475 7521\n",
       "format                                                  [MU040100]\n",
       "corporate_110                                                     \n",
       "corporate_710    konzertvereinigung wiener staatsopernchor, ges...\n",
       "corporate_810                                                     \n",
       "Name: 1854, dtype: object"
      ]
     },
     "execution_count": 57,
     "metadata": {},
     "output_type": "execute_result"
    }
   ],
   "source": [
    "df.loc[1854]"
   ]
  },
  {
   "cell_type": "code",
   "execution_count": 58,
   "metadata": {},
   "outputs": [
    {
     "name": "stdout",
     "output_type": "stream",
     "text": [
      "2,312 records hold 1 list element(s).\n",
      "13 records hold 2 list element(s).\n",
      "11 records hold 3 list element(s).\n",
      "1 records hold 4 list element(s).\n",
      "0 records hold 5 list element(s).\n",
      "=> Maximum number of list elements 4\n"
     ]
    }
   ],
   "source": [
    "i = 0\n",
    "while len(df.doi[df.doi.apply(lambda x : len(x))>i]) > 0 :\n",
    "    i = i+1\n",
    "    print('{:,d} records hold {:d} list element(s).'.format(len(df.doi[df.doi.apply(lambda x : len(x))>i]), i))\n",
    "        \n",
    "print('=> Maximum number of list elements', i-1)"
   ]
  },
  {
   "cell_type": "markdown",
   "metadata": {},
   "source": [
    "Attribute $\\texttt{doi}$ is a digital object identifier. It will be taken to the feature matrix without modification."
   ]
  },
  {
   "cell_type": "code",
   "execution_count": 59,
   "metadata": {},
   "outputs": [],
   "source": [
    "#columns_metadata_dict['data_analysis_columns'].append('doi')"
   ]
  },
  {
   "cell_type": "markdown",
   "metadata": {},
   "source": [
    "### edition"
   ]
  },
  {
   "cell_type": "code",
   "execution_count": 60,
   "metadata": {},
   "outputs": [],
   "source": [
    "columns_metadata_dict['strings_columns'].append('edition')"
   ]
  },
  {
   "cell_type": "code",
   "execution_count": 61,
   "metadata": {},
   "outputs": [
    {
     "name": "stdout",
     "output_type": "stream",
     "text": [
      "Number of records with filled edition 25352, with missing edition 158055 => 13.8%\n"
     ]
    }
   ],
   "source": [
    "_, _ = daf.find_empty_in_column(df, columns_metadata_dict, 'edition')"
   ]
  },
  {
   "cell_type": "markdown",
   "metadata": {},
   "source": [
    "Attribute $\\texttt{edition}$ holds the edition statement [[FeatWiki](./A_References.ipynb/#feature_deduplication_wiki)]. The data type of the attribute is a string value."
   ]
  },
  {
   "cell_type": "code",
   "execution_count": 62,
   "metadata": {},
   "outputs": [
    {
     "data": {
      "text/plain": [
       "59569                     2. Auflage\n",
       "108785               Second edition.\n",
       "1772                        13.Aufl.\n",
       "98306                     1. Auflage\n",
       "4072               Deutsche Erstausg\n",
       "48563     [11. Aufl. der Ausg. 1979]\n",
       "14522                        7. Aufl\n",
       "171869                    4. Auflage\n",
       "77828      1. korrigierter Nachdruck\n",
       "7921                         2. Aufl\n",
       "Name: edition, dtype: object"
      ]
     },
     "execution_count": 62,
     "metadata": {},
     "output_type": "execute_result"
    }
   ],
   "source": [
    "df.edition[df.edition.apply(lambda x : len(x)>0)].sample(n=10)"
   ]
  },
  {
   "cell_type": "markdown",
   "metadata": {},
   "source": [
    "The attribute is taken to the feature matrix without an extra processing in [Goldstandard and Data Preparation](./2_GoldstandardDataPreparation.ipynb)."
   ]
  },
  {
   "cell_type": "code",
   "execution_count": 63,
   "metadata": {},
   "outputs": [],
   "source": [
    "columns_metadata_dict['data_analysis_columns'].append('edition')"
   ]
  },
  {
   "cell_type": "markdown",
   "metadata": {},
   "source": [
    "### exactDate"
   ]
  },
  {
   "cell_type": "code",
   "execution_count": 64,
   "metadata": {},
   "outputs": [],
   "source": [
    "columns_metadata_dict['strings_columns'].append('exactDate')"
   ]
  },
  {
   "cell_type": "code",
   "execution_count": 65,
   "metadata": {},
   "outputs": [
    {
     "name": "stdout",
     "output_type": "stream",
     "text": [
      "Number of records with filled exactDate 183407, with missing exactDate 0 => 100.0%\n"
     ]
    }
   ],
   "source": [
    "_, _ = daf.find_empty_in_column(df, columns_metadata_dict, 'exactDate')"
   ]
  },
  {
   "cell_type": "code",
   "execution_count": 66,
   "metadata": {},
   "outputs": [
    {
     "data": {
      "text/html": [
       "<div>\n",
       "<style scoped>\n",
       "    .dataframe tbody tr th:only-of-type {\n",
       "        vertical-align: middle;\n",
       "    }\n",
       "\n",
       "    .dataframe tbody tr th {\n",
       "        vertical-align: top;\n",
       "    }\n",
       "\n",
       "    .dataframe thead th {\n",
       "        text-align: right;\n",
       "    }\n",
       "</style>\n",
       "<table border=\"1\" class=\"dataframe\">\n",
       "  <thead>\n",
       "    <tr style=\"text-align: right;\">\n",
       "      <th></th>\n",
       "      <th>docid</th>\n",
       "      <th>035liste</th>\n",
       "      <th>isbn</th>\n",
       "      <th>ttlfull</th>\n",
       "      <th>ttlpart</th>\n",
       "      <th>person</th>\n",
       "      <th>corporate</th>\n",
       "      <th>pubyear</th>\n",
       "      <th>decade</th>\n",
       "      <th>century</th>\n",
       "      <th>exactDate</th>\n",
       "      <th>...</th>\n",
       "      <th>pubinit</th>\n",
       "      <th>pubword</th>\n",
       "      <th>scale</th>\n",
       "      <th>coordinate</th>\n",
       "      <th>doi</th>\n",
       "      <th>ismn</th>\n",
       "      <th>musicid</th>\n",
       "      <th>format</th>\n",
       "      <th>corporate_110</th>\n",
       "      <th>corporate_710</th>\n",
       "      <th>corporate_810</th>\n",
       "    </tr>\n",
       "  </thead>\n",
       "  <tbody>\n",
       "  </tbody>\n",
       "</table>\n",
       "<p>0 rows × 26 columns</p>\n",
       "</div>"
      ],
      "text/plain": [
       "Empty DataFrame\n",
       "Columns: [docid, 035liste, isbn, ttlfull, ttlpart, person, corporate, pubyear, decade, century, exactDate, edition, part, pages, volumes, pubinit, pubword, scale, coordinate, doi, ismn, musicid, format, corporate_110, corporate_710, corporate_810]\n",
       "Index: []\n",
       "\n",
       "[0 rows x 26 columns]"
      ]
     },
     "execution_count": 66,
     "metadata": {},
     "output_type": "execute_result"
    }
   ],
   "source": [
    "df[df.exactDate.str[0:4] != df.century]"
   ]
  },
  {
   "cell_type": "markdown",
   "metadata": {},
   "source": [
    "Conforming the MARC 21 description, see [[MARC](./A_References.ipynb#marc21)], the first 4 digits of $\\texttt{exactDate}$ hold identical data as field $\\texttt{century}$. The last 4 digits hold additional information on the exact date of origin of the bibliographical unit."
   ]
  },
  {
   "cell_type": "code",
   "execution_count": 67,
   "metadata": {
    "scrolled": true
   },
   "outputs": [
    {
     "name": "stdout",
     "output_type": "stream",
     "text": [
      "Degree of non-blank filling of last 4 digits 19.4%\n",
      "Degree of numerical filling of last 4 digits 13.3%\n"
     ]
    }
   ],
   "source": [
    "print('Degree of non-blank filling of last 4 digits {:.1f}%'.format(\n",
    "    df.exactDate[df.exactDate.str[4:] != '    '].count()/len(df)*100))\n",
    "print('Degree of numerical filling of last 4 digits {:.1f}%'.format(\n",
    "    df.exactDate[~df.exactDate.str[4:].isin(['    ', 'uuuu'])].count()/len(df)*100))"
   ]
  },
  {
   "cell_type": "code",
   "execution_count": 68,
   "metadata": {},
   "outputs": [
    {
     "data": {
      "text/plain": [
       "12     uuuuuuuu\n",
       "61     uuuuuuuu\n",
       "62     uuuuuuuu\n",
       "117    19241925\n",
       "257    uuuuuuuu\n",
       "Name: exactDate, dtype: object"
      ]
     },
     "execution_count": 68,
     "metadata": {},
     "output_type": "execute_result"
    }
   ],
   "source": [
    "df.exactDate[df.exactDate.str[4:] != '    '].head()"
   ]
  },
  {
   "cell_type": "code",
   "execution_count": 69,
   "metadata": {},
   "outputs": [
    {
     "data": {
      "text/plain": [
       "docid                                                    556987284\n",
       "035liste                        [(ZORA)oai:www.zora.uzh.ch:169340]\n",
       "isbn                                                            []\n",
       "ttlfull          {'245': ['Altered limbic and autonomic process...\n",
       "ttlpart          {'245': ['Altered limbic and autonomic process...\n",
       "person           {'100': [], '700': ['TemplinChristianjoint aut...\n",
       "corporate                                                       {}\n",
       "pubyear                                                   20190414\n",
       "decade                                                        2019\n",
       "century                                                       2019\n",
       "exactDate                                                 20190414\n",
       "edition                                                           \n",
       "part                                            [40(15):1183-1187]\n",
       "pages                                                           []\n",
       "volumes                                                         []\n",
       "pubinit                                                         []\n",
       "pubword                                                         []\n",
       "scale                                                             \n",
       "coordinate                                                      []\n",
       "doi                                     [10.1093/eurheartj/ehz068]\n",
       "ismn                                    [10.1093/eurheartj/ehz068]\n",
       "musicid                                                           \n",
       "format                                                  [BK010053]\n",
       "corporate_110                                                     \n",
       "corporate_710                                                     \n",
       "corporate_810                                                     \n",
       "Name: 183319, dtype: object"
      ]
     },
     "execution_count": 69,
     "metadata": {},
     "output_type": "execute_result"
    }
   ],
   "source": [
    "df.loc[183319]"
   ]
  },
  {
   "cell_type": "markdown",
   "metadata": {},
   "source": [
    "Due to its added information supply to attribute $\\texttt{century}$, the attribute is taken to the feature matrix."
   ]
  },
  {
   "cell_type": "code",
   "execution_count": 70,
   "metadata": {},
   "outputs": [],
   "source": [
    "columns_metadata_dict['data_analysis_columns'].append('exactDate')"
   ]
  },
  {
   "cell_type": "markdown",
   "metadata": {},
   "source": [
    "### format"
   ]
  },
  {
   "cell_type": "code",
   "execution_count": 71,
   "metadata": {},
   "outputs": [],
   "source": [
    "columns_metadata_dict['list_columns'].append('format')"
   ]
  },
  {
   "cell_type": "markdown",
   "metadata": {},
   "source": [
    "Attribute $\\texttt{format}$ describes the format of a bibliographic unit, see examples under section [Sample Records Analysis](#Sample-Records-Analysis)."
   ]
  },
  {
   "cell_type": "code",
   "execution_count": 72,
   "metadata": {},
   "outputs": [
    {
     "name": "stdout",
     "output_type": "stream",
     "text": [
      "Number of records with filled format 179688, with missing format 3719 => 98.0%\n"
     ]
    }
   ],
   "source": [
    "_, _ = daf.find_empty_in_column(df, columns_metadata_dict, 'format')"
   ]
  },
  {
   "cell_type": "code",
   "execution_count": 73,
   "metadata": {},
   "outputs": [
    {
     "data": {
      "text/plain": [
       "34048     bk020053\n",
       "79969     bk020000\n",
       "42707     bk020053\n",
       "142294    mu010100\n",
       "96421     bk010053\n",
       "137853    bk020000\n",
       "130400    bk020000\n",
       "139161    bk020000\n",
       "116599    bk020000\n",
       "32181     bk020000\n",
       "Name: format, dtype: object"
      ]
     },
     "execution_count": 73,
     "metadata": {},
     "output_type": "execute_result"
    }
   ],
   "source": [
    "df = dpf.transform_list_to_string(df, 'format')\n",
    "\n",
    "df['format'][df.format.apply(lambda x : len(x))==8].sample(n=10)"
   ]
  },
  {
   "cell_type": "code",
   "execution_count": 74,
   "metadata": {},
   "outputs": [
    {
     "name": "stdout",
     "output_type": "stream",
     "text": [
      "96.4% of the records hold one single format.\n",
      "1.6% of the records hold more than one format.\n"
     ]
    }
   ],
   "source": [
    "print('{:.1f}% of the records hold one single format.'.format(\n",
    "    df['format'][df.format.apply(lambda x : len(x))==8].count()/len(df)*100))\n",
    "print('{:.1f}% of the records hold more than one format.'.format(\n",
    "    df['format'][df.format.apply(lambda x : len(x))>8].count()/len(df)*100))"
   ]
  },
  {
   "cell_type": "code",
   "execution_count": 75,
   "metadata": {},
   "outputs": [
    {
     "data": {
      "text/plain": [
       "150255    \n",
       "167021    \n",
       "165050    \n",
       "151276    \n",
       "167594    \n",
       "171176    \n",
       "164984    \n",
       "158927    \n",
       "169102    \n",
       "165866    \n",
       "Name: format, dtype: object"
      ]
     },
     "execution_count": 75,
     "metadata": {},
     "output_type": "execute_result"
    }
   ],
   "source": [
    "df['format'][df.format.apply(lambda x : len(x))<8].sample(n=10)"
   ]
  },
  {
   "cell_type": "code",
   "execution_count": 76,
   "metadata": {},
   "outputs": [
    {
     "data": {
      "text/plain": [
       "1981    mu010100, mu010000\n",
       "2000    mu010000, mu010100\n",
       "2001    mu010100, mu010000\n",
       "2003    mu010100, mu010000\n",
       "2004    mu010200, mu010000\n",
       "Name: format, dtype: object"
      ]
     },
     "execution_count": 76,
     "metadata": {},
     "output_type": "execute_result"
    }
   ],
   "source": [
    "df['format'][df.format.apply(lambda x : len(x))>8].head()"
   ]
  },
  {
   "cell_type": "code",
   "execution_count": 77,
   "metadata": {},
   "outputs": [
    {
     "data": {
      "text/plain": [
       "17607     bk020300, bk020000, bk020500\n",
       "83055     bk020300, bk020800, bk020000\n",
       "181090    cr030700, cr030600, cr030300\n",
       "181376    bk020800, bk020400, bk020000\n",
       "Name: format, dtype: object"
      ]
     },
     "execution_count": 77,
     "metadata": {},
     "output_type": "execute_result"
    }
   ],
   "source": [
    "df['format'][df.format.apply(lambda x : len(x))>18].head()"
   ]
  },
  {
   "cell_type": "markdown",
   "metadata": {},
   "source": [
    "The attribute seems to be very relevant for a basic identification of the bibliographical unit. Mainly the first two digits seem to be a reliable rough classification indicator. The remaining digits may have an inferior importance and and an inferior reliability due to freedom of interpretation. For this reason, the attribute is divided into 2 new attributes.\n",
    "\n",
    "- New attribute $\\texttt{format_prefix}$ will hold the first two digits of the first $\\texttt{format}$ element.\n",
    "- New attribute $\\texttt{format_number}$ will hold the 6 subsequent digits of the first $\\texttt{format}$ element.\n",
    "\n",
    "The $\\texttt{format}$ attribute will be dropped after this preprocessing step."
   ]
  },
  {
   "cell_type": "code",
   "execution_count": 78,
   "metadata": {},
   "outputs": [
    {
     "data": {
      "text/html": [
       "<div>\n",
       "<style scoped>\n",
       "    .dataframe tbody tr th:only-of-type {\n",
       "        vertical-align: middle;\n",
       "    }\n",
       "\n",
       "    .dataframe tbody tr th {\n",
       "        vertical-align: top;\n",
       "    }\n",
       "\n",
       "    .dataframe thead th {\n",
       "        text-align: right;\n",
       "    }\n",
       "</style>\n",
       "<table border=\"1\" class=\"dataframe\">\n",
       "  <thead>\n",
       "    <tr style=\"text-align: right;\">\n",
       "      <th></th>\n",
       "      <th>format</th>\n",
       "      <th>format_prefix</th>\n",
       "      <th>format_postfix</th>\n",
       "    </tr>\n",
       "  </thead>\n",
       "  <tbody>\n",
       "    <tr>\n",
       "      <th>118240</th>\n",
       "      <td>bk020053</td>\n",
       "      <td>bk</td>\n",
       "      <td>020053</td>\n",
       "    </tr>\n",
       "    <tr>\n",
       "      <th>146871</th>\n",
       "      <td>bk020000</td>\n",
       "      <td>bk</td>\n",
       "      <td>020000</td>\n",
       "    </tr>\n",
       "    <tr>\n",
       "      <th>33992</th>\n",
       "      <td>bk020053</td>\n",
       "      <td>bk</td>\n",
       "      <td>020053</td>\n",
       "    </tr>\n",
       "    <tr>\n",
       "      <th>87094</th>\n",
       "      <td>bk020000</td>\n",
       "      <td>bk</td>\n",
       "      <td>020000</td>\n",
       "    </tr>\n",
       "    <tr>\n",
       "      <th>84800</th>\n",
       "      <td>bk010000</td>\n",
       "      <td>bk</td>\n",
       "      <td>010000</td>\n",
       "    </tr>\n",
       "    <tr>\n",
       "      <th>129857</th>\n",
       "      <td>bk020053</td>\n",
       "      <td>bk</td>\n",
       "      <td>020053</td>\n",
       "    </tr>\n",
       "    <tr>\n",
       "      <th>179399</th>\n",
       "      <td>bk020053</td>\n",
       "      <td>bk</td>\n",
       "      <td>020053</td>\n",
       "    </tr>\n",
       "    <tr>\n",
       "      <th>44438</th>\n",
       "      <td>bk020053</td>\n",
       "      <td>bk</td>\n",
       "      <td>020053</td>\n",
       "    </tr>\n",
       "    <tr>\n",
       "      <th>146550</th>\n",
       "      <td>bk020000</td>\n",
       "      <td>bk</td>\n",
       "      <td>020000</td>\n",
       "    </tr>\n",
       "    <tr>\n",
       "      <th>177644</th>\n",
       "      <td>vm010200</td>\n",
       "      <td>vm</td>\n",
       "      <td>010200</td>\n",
       "    </tr>\n",
       "    <tr>\n",
       "      <th>95306</th>\n",
       "      <td>bk020000</td>\n",
       "      <td>bk</td>\n",
       "      <td>020000</td>\n",
       "    </tr>\n",
       "    <tr>\n",
       "      <th>126576</th>\n",
       "      <td>bk010053</td>\n",
       "      <td>bk</td>\n",
       "      <td>010053</td>\n",
       "    </tr>\n",
       "    <tr>\n",
       "      <th>18849</th>\n",
       "      <td>mu010100</td>\n",
       "      <td>mu</td>\n",
       "      <td>010100</td>\n",
       "    </tr>\n",
       "    <tr>\n",
       "      <th>10145</th>\n",
       "      <td>mu040100</td>\n",
       "      <td>mu</td>\n",
       "      <td>040100</td>\n",
       "    </tr>\n",
       "    <tr>\n",
       "      <th>65670</th>\n",
       "      <td>bk020000</td>\n",
       "      <td>bk</td>\n",
       "      <td>020000</td>\n",
       "    </tr>\n",
       "  </tbody>\n",
       "</table>\n",
       "</div>"
      ],
      "text/plain": [
       "          format format_prefix format_postfix\n",
       "118240  bk020053            bk         020053\n",
       "146871  bk020000            bk         020000\n",
       "33992   bk020053            bk         020053\n",
       "87094   bk020000            bk         020000\n",
       "84800   bk010000            bk         010000\n",
       "129857  bk020053            bk         020053\n",
       "179399  bk020053            bk         020053\n",
       "44438   bk020053            bk         020053\n",
       "146550  bk020000            bk         020000\n",
       "177644  vm010200            vm         010200\n",
       "95306   bk020000            bk         020000\n",
       "126576  bk010053            bk         010053\n",
       "18849   mu010100            mu         010100\n",
       "10145   mu040100            mu         040100\n",
       "65670   bk020000            bk         020000"
      ]
     },
     "execution_count": 78,
     "metadata": {},
     "output_type": "execute_result"
    }
   ],
   "source": [
    "df['format_prefix'] = df.format.str[:2]\n",
    "df.format_prefix[df['format_prefix']==''] = '  '\n",
    "df['format_postfix'] = df.format.str[2:8]\n",
    "df.format_postfix[df['format_postfix']==''] = '      '\n",
    "df[['format', 'format_prefix', 'format_postfix']].sample(n=15)"
   ]
  },
  {
   "cell_type": "markdown",
   "metadata": {},
   "source": [
    "This preprocessing step has been implemented in a separate function $\\texttt{.split}\\_\\texttt{format()}$ which can be found in code file [data_preparation_funcs.py](./data_preparation_funcs.py)"
   ]
  },
  {
   "cell_type": "code",
   "execution_count": 79,
   "metadata": {},
   "outputs": [],
   "source": [
    "columns_metadata_dict['data_analysis_columns'].append('format_prefix')\n",
    "columns_metadata_dict['data_analysis_columns'].append('format_postfix')"
   ]
  },
  {
   "cell_type": "markdown",
   "metadata": {},
   "source": [
    "### isbn"
   ]
  },
  {
   "cell_type": "code",
   "execution_count": 80,
   "metadata": {},
   "outputs": [],
   "source": [
    "columns_metadata_dict['list_columns'].append('isbn')"
   ]
  },
  {
   "cell_type": "code",
   "execution_count": 81,
   "metadata": {},
   "outputs": [
    {
     "name": "stdout",
     "output_type": "stream",
     "text": [
      "Number of records with filled isbn 80688, with missing isbn 102719 => 44.0%\n"
     ]
    }
   ],
   "source": [
    "_, _ = daf.find_empty_in_column(df, columns_metadata_dict, 'isbn')"
   ]
  },
  {
   "cell_type": "code",
   "execution_count": 82,
   "metadata": {},
   "outputs": [
    {
     "data": {
      "text/plain": [
       "94153                    [978-3-7799-3769-2, 3-7799-3769-7]\n",
       "37021     [978-0-231-13942-7 (cloth : alk. paper), 0-231...\n",
       "61108                                   [978-88-8192-044-0]\n",
       "17173                    [978-3-86740-816-5, 3-86740-816-5]\n",
       "110076                                                   []\n",
       "79845                                   [978-2-226-07024-1]\n",
       "72962                                                    []\n",
       "144589                                      [84-393-3169-X]\n",
       "76143                                                    []\n",
       "70976                                                    []\n",
       "9614                                                     []\n",
       "62821                                   [978-3-8288-4163-5]\n",
       "5319         [978-3-8321-9605-9 (cl.), 3-8321-9605-6 (cl.)]\n",
       "177712                                                   []\n",
       "72814                                                    []\n",
       "59247                                   [978-3-8283-0810-7]\n",
       "122477                                  [978-0-8061-6185-3]\n",
       "171591                                                   []\n",
       "151606                                                   []\n",
       "135753                                                   []\n",
       "Name: isbn, dtype: object"
      ]
     },
     "execution_count": 82,
     "metadata": {},
     "output_type": "execute_result"
    }
   ],
   "source": [
    "df.isbn.sample(n=20)"
   ]
  },
  {
   "cell_type": "code",
   "execution_count": 83,
   "metadata": {},
   "outputs": [
    {
     "name": "stdout",
     "output_type": "stream",
     "text": [
      "29,073 records hold 1 list element(s).\n",
      "3,762 records hold 2 list element(s).\n",
      "2,331 records hold 3 list element(s).\n",
      "519 records hold 4 list element(s).\n",
      "398 records hold 5 list element(s).\n",
      "173 records hold 6 list element(s).\n",
      "156 records hold 7 list element(s).\n",
      "84 records hold 8 list element(s).\n",
      "76 records hold 9 list element(s).\n",
      "51 records hold 10 list element(s).\n",
      "43 records hold 11 list element(s).\n",
      "29 records hold 12 list element(s).\n",
      "26 records hold 13 list element(s).\n",
      "19 records hold 14 list element(s).\n",
      "18 records hold 15 list element(s).\n",
      "10 records hold 16 list element(s).\n",
      "9 records hold 17 list element(s).\n",
      "8 records hold 18 list element(s).\n",
      "7 records hold 19 list element(s).\n",
      "7 records hold 20 list element(s).\n",
      "7 records hold 21 list element(s).\n",
      "7 records hold 22 list element(s).\n",
      "7 records hold 23 list element(s).\n",
      "5 records hold 24 list element(s).\n",
      "4 records hold 25 list element(s).\n",
      "3 records hold 26 list element(s).\n",
      "3 records hold 27 list element(s).\n",
      "3 records hold 28 list element(s).\n",
      "3 records hold 29 list element(s).\n",
      "1 records hold 30 list element(s).\n",
      "1 records hold 31 list element(s).\n",
      "1 records hold 32 list element(s).\n",
      "1 records hold 33 list element(s).\n",
      "1 records hold 34 list element(s).\n",
      "1 records hold 35 list element(s).\n",
      "1 records hold 36 list element(s).\n",
      "1 records hold 37 list element(s).\n",
      "1 records hold 38 list element(s).\n",
      "1 records hold 39 list element(s).\n",
      "1 records hold 40 list element(s).\n",
      "1 records hold 41 list element(s).\n",
      "0 records hold 42 list element(s).\n",
      "=> Maximum number of list elements 41\n"
     ]
    }
   ],
   "source": [
    "i = 0\n",
    "while len(df.isbn[df.isbn.apply(lambda x : len(x))>i]) > 0 :\n",
    "    i = i+1\n",
    "    print('{:,d} records hold {:d} list element(s).'.format(\n",
    "        len(df.isbn[df.isbn.apply(lambda x : len(x))>i]), i))\n",
    "        \n",
    "print('=> Maximum number of list elements', i-1)"
   ]
  },
  {
   "cell_type": "markdown",
   "metadata": {},
   "source": [
    "This attribute holds two different kinds of information, namely the ISBN and the ISSN of a bibliographic unit. Attribute $\\texttt{isbn}$ is a list of string elements. Some samples with more than one string element are shown below."
   ]
  },
  {
   "cell_type": "code",
   "execution_count": 84,
   "metadata": {},
   "outputs": [
    {
     "data": {
      "text/plain": [
       "34853     [978-1-108-39959-3, 1-108-39959-2, 978-1-108-4...\n",
       "28221     [978-3-7910-2601-5, 978-3-7910-2602-2, 978-3-7...\n",
       "20851     [4-89434-420-3, 4-89434-421-1, 4-89434-435-1, ...\n",
       "34159     [978-2-7560-2233-8, 978-2-7560-2234-5, 978-2-7...\n",
       "171599    [0-8247-6093-X, 0-8247-6135-9, 0-8247-6137-5, ...\n",
       "16380     [978-4-06-509002-2, 4-06-509002-4, 978-4-06-50...\n",
       "127001    [978-1-315-76651-5, 1-315-76651-5, 1-317-66066...\n",
       "57183     [978-4-7629-3591-6, 4-7629-3591-3, 978-4-7629-...\n",
       "78433     [978-2-917045-15-2, 978-2-917045-16-9, 978-2-9...\n",
       "84105     [978-3-12-607026-3, 3-12-607026-4, 978-3-12-60...\n",
       "Name: isbn, dtype: object"
      ]
     },
     "execution_count": 84,
     "metadata": {},
     "output_type": "execute_result"
    }
   ],
   "source": [
    "df.isbn[df.isbn.apply(lambda x : len(x))>10].sample(n=10)"
   ]
  },
  {
   "cell_type": "code",
   "execution_count": null,
   "metadata": {},
   "outputs": [],
   "source": []
  },
  {
   "cell_type": "markdown",
   "metadata": {},
   "source": [
    "### ismn"
   ]
  },
  {
   "cell_type": "code",
   "execution_count": 85,
   "metadata": {},
   "outputs": [],
   "source": [
    "columns_metadata_dict['list_columns'].append('ismn')"
   ]
  },
  {
   "cell_type": "code",
   "execution_count": 86,
   "metadata": {},
   "outputs": [
    {
     "name": "stdout",
     "output_type": "stream",
     "text": [
      "Number of records with filled ismn 10114, with missing ismn 173293 => 5.5%\n"
     ]
    }
   ],
   "source": [
    "_, _ = daf.find_empty_in_column(df, columns_metadata_dict, 'ismn')"
   ]
  },
  {
   "cell_type": "code",
   "execution_count": 87,
   "metadata": {},
   "outputs": [
    {
     "name": "stdout",
     "output_type": "stream",
     "text": [
      "2,312 records hold 1 list element(s).\n",
      "13 records hold 2 list element(s).\n",
      "11 records hold 3 list element(s).\n",
      "1 records hold 4 list element(s).\n",
      "0 records hold 5 list element(s).\n",
      "=> Maximum number of list elements 4\n"
     ]
    }
   ],
   "source": [
    "i = 0\n",
    "while len(df.isbn[df.ismn.apply(lambda x : len(x))>i]) > 0 :\n",
    "    i = i+1\n",
    "    print('{:,d} records hold {:d} list element(s).'.format(\n",
    "        len(df.ismn[df.ismn.apply(lambda x : len(x))>i]), i))\n",
    "        \n",
    "print('=> Maximum number of list elements', i-1)"
   ]
  },
  {
   "cell_type": "code",
   "execution_count": 88,
   "metadata": {},
   "outputs": [
    {
     "data": {
      "text/plain": [
       "24866    [oai:serval.unil.ch:BIB_48517DE762D2, urn:nbn:...\n",
       "34755    [10.5451/unibas-006838498, urn:nbn:ch:bel-bau-...\n",
       "34758    [10.5451/unibas-006836804, urn:nbn:ch:bel-bau-...\n",
       "34814    [10.5451/unibas-006837535, urn:nbn:ch:bel-bau-...\n",
       "34833    [10.5451/unibas-006844191, urn:nbn:ch:bel-bau-...\n",
       "Name: ismn, dtype: object"
      ]
     },
     "execution_count": 88,
     "metadata": {},
     "output_type": "execute_result"
    }
   ],
   "source": [
    "df.ismn[df.ismn.apply(lambda x : len(x))>2].head()"
   ]
  },
  {
   "cell_type": "code",
   "execution_count": null,
   "metadata": {},
   "outputs": [],
   "source": []
  },
  {
   "cell_type": "code",
   "execution_count": null,
   "metadata": {},
   "outputs": [],
   "source": []
  },
  {
   "cell_type": "code",
   "execution_count": null,
   "metadata": {},
   "outputs": [],
   "source": []
  },
  {
   "cell_type": "markdown",
   "metadata": {},
   "source": [
    "### pages"
   ]
  },
  {
   "cell_type": "code",
   "execution_count": 89,
   "metadata": {},
   "outputs": [],
   "source": [
    "columns_metadata_dict['list_columns'].append('pages')"
   ]
  },
  {
   "cell_type": "code",
   "execution_count": 90,
   "metadata": {},
   "outputs": [
    {
     "name": "stdout",
     "output_type": "stream",
     "text": [
      "Number of records with filled pages 161471, with missing pages 21936 => 88.0%\n"
     ]
    }
   ],
   "source": [
    "idx_pages_filled, idx_pages_empty = daf.find_empty_in_column(df, columns_metadata_dict, 'pages')"
   ]
  },
  {
   "cell_type": "code",
   "execution_count": 91,
   "metadata": {},
   "outputs": [],
   "source": [
    "# Identical to volumes\n",
    "#columns_metadata_dict['data_analysis_columns'].append('pages')"
   ]
  },
  {
   "cell_type": "markdown",
   "metadata": {},
   "source": [
    "### person"
   ]
  },
  {
   "cell_type": "code",
   "execution_count": 92,
   "metadata": {},
   "outputs": [],
   "source": [
    "columns_metadata_dict['strings_columns'].append('person')"
   ]
  },
  {
   "cell_type": "markdown",
   "metadata": {},
   "source": [
    "Attribute $\\texttt{person}$ is a collection of personal names statements of the bibliographic unit, see [[FeatWiki](./A_References.ipynb/#feature_deduplication_wiki)]. The attribute out of the raw data is a dictionary column in the DataFrame with four possible key value pairs. Attribute $\\texttt{person}$ is split for processing reasons into a singular attribute for each key of the dictionary. The values come along as lists and the implemented function $\\texttt{.transform}\\_\\texttt{list}\\_\\texttt{to}\\_\\texttt{string()}$ will be used to process its elements into one single string of the new column."
   ]
  },
  {
   "cell_type": "code",
   "execution_count": 93,
   "metadata": {},
   "outputs": [
    {
     "data": {
      "text/plain": [
       "178570    {'100': ['MohamedJimmyaut'], '245c': ['Jimmy M...\n",
       "98402     {'100': ['CauteAdelinecre'], '245c': ['Adeline...\n",
       "167865    {'100': ['KikouOlga'], '245c': ['par Olga Kiko...\n",
       "129604     {'100': [], '700': ['Smith'], '245c': ['Smith']}\n",
       "133846    {'100': ['JohnSt'], '700': ['JOHNSAINT', 'Buck...\n",
       "159545    {'100': [], '245c': ['[Cyprus Olympic Committe...\n",
       "46274     {'100': ['DannenfeldtKarl H.Verfasseraut'], '2...\n",
       "145187    {'100': ['WengenStefan à.1964-(DE-588)14138762...\n",
       "43331     {'100': ['MugicaMiguel Zulaica Y.author'], '24...\n",
       "6829      {'100': [], '700': ['EttlingerMax', 'SimonPaul...\n",
       "19095     {'100': ['ThürlimannChristinaVerfasseraut'], '...\n",
       "92122     {'100': [], '700': ['ThelesklafDaniel'], '245c...\n",
       "170620                            {'100': [], '245c': ['']}\n",
       "93491     {'100': ['RoyJean-René(RERO)A003767338cre'], '...\n",
       "99405     {'100': ['SteinkellnerErnst1937-(DE-588)133888...\n",
       "17651     {'100': ['BottlingerAndrea1985-(DE-588)1034036...\n",
       "13226     {'100': ['Hegglin-BartholetBrigitte'], '245c':...\n",
       "95483     {'100': ['MajumadāraUjjvalakumāra1936-(DE-588)...\n",
       "102498    {'100': ['NoltingAlbrechtVerfasseraut'], '700'...\n",
       "144404    {'100': ['LarssonEmma(RERO)A023584775cre'], '2...\n",
       "Name: person, dtype: object"
      ]
     },
     "execution_count": 93,
     "metadata": {},
     "output_type": "execute_result"
    }
   ],
   "source": [
    "df.person.sample(20)"
   ]
  },
  {
   "cell_type": "code",
   "execution_count": 94,
   "metadata": {},
   "outputs": [
    {
     "name": "stdout",
     "output_type": "stream",
     "text": [
      "Number of records with filled person_100 115396, with missing person_100 68011 => 62.9%\n",
      "Number of records with filled person_700 73254, with missing person_700 110153 => 39.9%\n",
      "Number of records with filled person_800 1137, with missing person_800 182270 => 0.6%\n",
      "Number of records with filled person_245c 158011, with missing person_245c 25396 => 86.2%\n"
     ]
    }
   ],
   "source": [
    "for ending in ['100', '700', '800', '245c']:\n",
    "    df = dpf.transform_dictionary_to_list(df, 'person', ending)\n",
    "    df = dpf.transform_list_to_string(df, 'person_'+ending)\n",
    "\n",
    "    columns_metadata_dict['strings_columns'].append('person_'+ending)\n",
    "    _, _ = daf.find_empty_in_column(df, columns_metadata_dict, 'person_'+ending)"
   ]
  },
  {
   "cell_type": "code",
   "execution_count": 95,
   "metadata": {},
   "outputs": [
    {
     "data": {
      "text/plain": [
       "122873                                                   \n",
       "157560                                      keithlarry f.\n",
       "15837                                                    \n",
       "118848                                    niebuhrreinhold\n",
       "179942                                                   \n",
       "310                                                      \n",
       "141025           brun-cosmenadine1960-(rero)a003050324aut\n",
       "126511                                        gardnerlisa\n",
       "159489                                                   \n",
       "34536                                                    \n",
       "139730    beesemelanie1981-(de-588)104843575xverfasseraut\n",
       "149501                                      hendersonfran\n",
       "9055                                        guns n' roses\n",
       "122143                                                   \n",
       "73047            melillomichele1915-2004(de-588)119049627\n",
       "27832                                                    \n",
       "26960                          strallamichaelverfasseraut\n",
       "94695                                                    \n",
       "10435                laforêtmarie1939-(rero)a005672951cre\n",
       "32645                                                    \n",
       "Name: person_100, dtype: object"
      ]
     },
     "execution_count": 95,
     "metadata": {},
     "output_type": "execute_result"
    }
   ],
   "source": [
    "df.person_100.sample(20)"
   ]
  },
  {
   "cell_type": "code",
   "execution_count": 96,
   "metadata": {},
   "outputs": [
    {
     "data": {
      "text/plain": [
       "50419     iben hollensbergannaverfasseraut, gylling mort...\n",
       "154942                                                     \n",
       "13048                                                      \n",
       "104743    wederwalterjoint author, kaiserl.ctb, jamieson...\n",
       "180602                    besençonmélina(rero)a024994966aut\n",
       "31197           kostopulos-coopermanceleste(rero)a027771141\n",
       "159286                                                     \n",
       "47427                                                      \n",
       "93831     dakovićnevena(de-588)1190920875herausgeberedt,...\n",
       "141059                                                     \n",
       "165623                                                     \n",
       "39942                                             feinrashi\n",
       "157841                                                     \n",
       "7966                                                       \n",
       "84308                                                      \n",
       "132545    schützheinrich1585-1672italienische madrigale(...\n",
       "155650                                                     \n",
       "139673                                                     \n",
       "36293                                                      \n",
       "102577                                                     \n",
       "Name: person_700, dtype: object"
      ]
     },
     "execution_count": 96,
     "metadata": {},
     "output_type": "execute_result"
    }
   ],
   "source": [
    "df.person_700.sample(20)"
   ]
  },
  {
   "cell_type": "code",
   "execution_count": 97,
   "metadata": {},
   "outputs": [
    {
     "data": {
      "text/plain": [
       "119601    \n",
       "175069    \n",
       "29740     \n",
       "120664    \n",
       "166620    \n",
       "72941     \n",
       "77472     \n",
       "109760    \n",
       "31260     \n",
       "45868     \n",
       "106303    \n",
       "97607     \n",
       "140516    \n",
       "115701    \n",
       "102976    \n",
       "41454     \n",
       "182149    \n",
       "144122    \n",
       "406       \n",
       "108038    \n",
       "Name: person_800, dtype: object"
      ]
     },
     "execution_count": 97,
     "metadata": {},
     "output_type": "execute_result"
    }
   ],
   "source": [
    "df.person_800.sample(20)"
   ]
  },
  {
   "cell_type": "code",
   "execution_count": 98,
   "metadata": {},
   "outputs": [
    {
     "data": {
      "text/plain": [
       "115935                                         lin lougheed\n",
       "69688                                      georges bernanos\n",
       "163807     comp. by the republic of china olympic committee\n",
       "178581                                      alberto campana\n",
       "116917                                     reinhold niebuhr\n",
       "1949                                        osvaldo coisson\n",
       "141232                              martin maria reinkowski\n",
       "79518                                 von nagaraja chappidi\n",
       "177059    anu stohner, henrike wilson ; gelesen von sigr...\n",
       "157782                                     madalina diaconu\n",
       "107053                                                     \n",
       "65248                                            h. bonnard\n",
       "27849     curaverunt josé eduardo lópez pereira ... [et ...\n",
       "152732    [hrsg. vom organisationskomitee für die spiele...\n",
       "21178                         natalia królikowska-jedlińska\n",
       "72927                                         debbie harter\n",
       "44058                                      zhongxiang zhang\n",
       "116264                                     colin mcnaughton\n",
       "81120                                   anna kathrin reiter\n",
       "46544                               von nina moreva schärer\n",
       "Name: person_245c, dtype: object"
      ]
     },
     "execution_count": 98,
     "metadata": {},
     "output_type": "execute_result"
    }
   ],
   "source": [
    "df.person_245c.sample(20)"
   ]
  },
  {
   "cell_type": "markdown",
   "metadata": {},
   "source": [
    "Column $\\texttt{person_245c}$ is identified as the most complete and usefull personal name attribute and will be used as a basis for the data of the feature matrix."
   ]
  },
  {
   "cell_type": "code",
   "execution_count": 99,
   "metadata": {},
   "outputs": [],
   "source": [
    "#columns_metadata_dict['data_analysis_columns'].append('person_100')\n",
    "#columns_metadata_dict['data_analysis_columns'].append('person_700')\n",
    "#columns_metadata_dict['data_analysis_columns'].append('person_800')\n",
    "columns_metadata_dict['data_analysis_columns'].append('person_245c')"
   ]
  },
  {
   "cell_type": "markdown",
   "metadata": {},
   "source": [
    "### pubyear"
   ]
  },
  {
   "cell_type": "code",
   "execution_count": 100,
   "metadata": {},
   "outputs": [],
   "source": [
    "columns_metadata_dict['strings_columns'].append('pubyear')"
   ]
  },
  {
   "cell_type": "code",
   "execution_count": 101,
   "metadata": {},
   "outputs": [
    {
     "name": "stdout",
     "output_type": "stream",
     "text": [
      "Number of records with filled pubyear 183407, with missing pubyear 0 => 100.0%\n"
     ]
    }
   ],
   "source": [
    "_, _ = daf.find_empty_in_column(df, columns_metadata_dict, 'pubyear')"
   ]
  },
  {
   "cell_type": "code",
   "execution_count": 102,
   "metadata": {},
   "outputs": [
    {
     "data": {
      "text/html": [
       "<div>\n",
       "<style scoped>\n",
       "    .dataframe tbody tr th:only-of-type {\n",
       "        vertical-align: middle;\n",
       "    }\n",
       "\n",
       "    .dataframe tbody tr th {\n",
       "        vertical-align: top;\n",
       "    }\n",
       "\n",
       "    .dataframe thead th {\n",
       "        text-align: right;\n",
       "    }\n",
       "</style>\n",
       "<table border=\"1\" class=\"dataframe\">\n",
       "  <thead>\n",
       "    <tr style=\"text-align: right;\">\n",
       "      <th></th>\n",
       "      <th>docid</th>\n",
       "      <th>035liste</th>\n",
       "      <th>isbn</th>\n",
       "      <th>ttlfull</th>\n",
       "      <th>ttlpart</th>\n",
       "      <th>person</th>\n",
       "      <th>corporate</th>\n",
       "      <th>pubyear</th>\n",
       "      <th>decade</th>\n",
       "      <th>century</th>\n",
       "      <th>exactDate</th>\n",
       "      <th>...</th>\n",
       "      <th>musicid</th>\n",
       "      <th>format</th>\n",
       "      <th>corporate_110</th>\n",
       "      <th>corporate_710</th>\n",
       "      <th>corporate_810</th>\n",
       "      <th>format_prefix</th>\n",
       "      <th>format_postfix</th>\n",
       "      <th>person_100</th>\n",
       "      <th>person_700</th>\n",
       "      <th>person_800</th>\n",
       "      <th>person_245c</th>\n",
       "    </tr>\n",
       "  </thead>\n",
       "  <tbody>\n",
       "  </tbody>\n",
       "</table>\n",
       "<p>0 rows × 32 columns</p>\n",
       "</div>"
      ],
      "text/plain": [
       "Empty DataFrame\n",
       "Columns: [docid, 035liste, isbn, ttlfull, ttlpart, person, corporate, pubyear, decade, century, exactDate, edition, part, pages, volumes, pubinit, pubword, scale, coordinate, doi, ismn, musicid, format, corporate_110, corporate_710, corporate_810, format_prefix, format_postfix, person_100, person_700, person_800, person_245c]\n",
       "Index: []\n",
       "\n",
       "[0 rows x 32 columns]"
      ]
     },
     "execution_count": 102,
     "metadata": {},
     "output_type": "execute_result"
    }
   ],
   "source": [
    "df[df.exactDate != df.pubyear]"
   ]
  },
  {
   "cell_type": "markdown",
   "metadata": {},
   "source": [
    "All 8 digits of $\\texttt{pubyear}$ hold identical data compared to field $\\texttt{exactDate}$. This observation corresponds to the expectation from the MARC 21 description of the attribute. The purpose of the attribute is to identify the year of publication of a bibliographic unit and store it for comparison in Swissbib's conventional deduplication implementation [[WiCo2001](./A_References.ipynb#wico2001)]. Chapter [Feature Matrix Generation](./3_FeatureMatrixGeneration.ipynb) will apply a similarity metric for $\\texttt{exactDate}$ that takes the full date of publication into specific consideration. Attribute $\\texttt{pubyear}$ will be dropped as redundant."
   ]
  },
  {
   "cell_type": "markdown",
   "metadata": {},
   "source": [
    "### ttlfull"
   ]
  },
  {
   "cell_type": "code",
   "execution_count": 103,
   "metadata": {},
   "outputs": [],
   "source": [
    "columns_metadata_dict['strings_columns'].append('ttlfull')"
   ]
  },
  {
   "cell_type": "markdown",
   "metadata": {},
   "source": [
    "Attribute $\\texttt{ttlfull}$ holds the full title of the bibliographical unit, see [[FeatWiki](./A_References.ipynb/#feature_deduplication_wiki)]. Some examples are shown below."
   ]
  },
  {
   "cell_type": "code",
   "execution_count": 104,
   "metadata": {},
   "outputs": [
    {
     "data": {
      "text/plain": [
       "40272     {'245': ['Income-Based Property Tax Relief', '...\n",
       "148947    {'245': ['Symphony no. 4 (1992)', 'Les espaces...\n",
       "164143    {'245': ['The Lithuanian National Team at the ...\n",
       "129461    {'245': ['Doctrina numorum veterum'], '246': [...\n",
       "40662                     {'245': ['The kingdom of fungi']}\n",
       "21327     {'245': ['Die Bilder des letzten Abendmahles i...\n",
       "157094    {'245': ['Competitors and officials guide to d...\n",
       "48620          {'245': ['Leben des Galilei', 'Schauspiel']}\n",
       "75664     {'245': ['The Northern Neotropics', 'Panama, C...\n",
       "47693     {'245': ['Haus Viktoria Fiesch', 'von Josef Ig...\n",
       "180733    {'245': ['Memoria sopra il metodo di estrarre ...\n",
       "169630    {'245': ['Die zweite Chance, oder Mein Leben m...\n",
       "166370     {'245': ['The Olympic Games', 'a bibliography']}\n",
       "95296     {'245': ['Architecture d'un marcheur', 'entret...\n",
       "15353                      {'245': ['Bulletproof picasso']}\n",
       "113637    {'245': ['Bailey & Love's essential clinical a...\n",
       "101831            {'245': ['Agrippa d'Aubigné, 1551-1630']}\n",
       "153224    {'245': ['The XVIII Olympic Winter Games, Naga...\n",
       "175601    {'245': ['Natation, sport complet', 'de la bai...\n",
       "56277     {'245': ['The extreme gone mainstream', 'comme...\n",
       "Name: ttlfull, dtype: object"
      ]
     },
     "execution_count": 104,
     "metadata": {},
     "output_type": "execute_result"
    }
   ],
   "source": [
    "df.ttlfull.sample(20)"
   ]
  },
  {
   "cell_type": "markdown",
   "metadata": {},
   "source": [
    "The attribute is a dictionary column in the DataFrame. There are two key value pairs possible in this attribute. For their processing, two new attributes will be added to the DataFrame, one for each key value pair. The values come along as lists. The implemented function $\\texttt{.transform}\\_\\texttt{list}\\_\\texttt{to}\\_\\texttt{string()}$ will be used to process the list elements into one single string of the column."
   ]
  },
  {
   "cell_type": "code",
   "execution_count": 105,
   "metadata": {},
   "outputs": [
    {
     "name": "stdout",
     "output_type": "stream",
     "text": [
      "Number of records with filled ttlfull_245 183407, with missing ttlfull_245 0 => 100.0%\n",
      "Number of records with filled ttlfull_246 15897, with missing ttlfull_246 167510 => 8.7%\n"
     ]
    }
   ],
   "source": [
    "for ending in ['245', '246']:\n",
    "    df = dpf.transform_dictionary_to_list(df, 'ttlfull', ending)\n",
    "    df = dpf.transform_list_to_string(df, 'ttlfull_'+ending)\n",
    "\n",
    "    columns_metadata_dict['strings_columns'].append('ttlfull_'+ending)\n",
    "    _, _ = daf.find_empty_in_column(df, columns_metadata_dict, 'ttlfull_'+ending)"
   ]
  },
  {
   "cell_type": "code",
   "execution_count": 106,
   "metadata": {},
   "outputs": [
    {
     "data": {
      "text/plain": [
       "151496    australia, nine contemporary artists : los ang...\n",
       "13448     vom osten strahlt ein stern herein, geschichte...\n",
       "143295    the unexpected scalia, a conservative justice'...\n",
       "36207          indo-roman trading centres in andhra pradesh\n",
       "19808     insights from marchantia polymorpha into the e...\n",
       "119793    the disclosure of the sovereign will of god ov...\n",
       "41624     nanomaterials in plants, algae and microorganisms\n",
       "111167    petite biographie de louis veillard, curé du c...\n",
       "62295     stamnos des euphronios, festgabe zur winckelma...\n",
       "82334                us destroyers 1934-35, pre-war classes\n",
       "71400     technologisches wörterbuch in französischer, d...\n",
       "91378               alexander calder - performing sculpture\n",
       "56236             du vent, du sable et des étoiles, oeuvres\n",
       "20952                 drei kaiserdome, mainz, worms, speyer\n",
       "71981     ludovic grootaers en gesinus gerhardus kloeke'...\n",
       "141058     rub-aktuell, zeitung der ruhr-universität bochum\n",
       "135716         klerikale politik im neunzehnten jahrhundert\n",
       "111273            furoshiki, l'art d'emballer avec du tissu\n",
       "25323     leistungsfaktor radsport, #erfolgreich auf zwe...\n",
       "168141    emblem and wordmark manual, singapore 2010 you...\n",
       "Name: ttlfull_245, dtype: object"
      ]
     },
     "execution_count": 106,
     "metadata": {},
     "output_type": "execute_result"
    }
   ],
   "source": [
    "df.ttlfull_245.sample(20)"
   ]
  },
  {
   "cell_type": "code",
   "execution_count": 107,
   "metadata": {},
   "outputs": [
    {
     "data": {
      "text/plain": [
       "24664                       \n",
       "48934                       \n",
       "143368                      \n",
       "17727                       \n",
       "140307                      \n",
       "172576                      \n",
       "41568                       \n",
       "148466                      \n",
       "58754                       \n",
       "30666                       \n",
       "64788                       \n",
       "24040                       \n",
       "118718                      \n",
       "40887                       \n",
       "61423                       \n",
       "73915                       \n",
       "127682                      \n",
       "158178                      \n",
       "161786                      \n",
       "181321    report to congress\n",
       "Name: ttlfull_246, dtype: object"
      ]
     },
     "execution_count": 107,
     "metadata": {},
     "output_type": "execute_result"
    }
   ],
   "source": [
    "df.ttlfull_246.sample(20)"
   ]
  },
  {
   "cell_type": "markdown",
   "metadata": {},
   "source": [
    "The two new columns will be used as a basis for the data of the feature matrix."
   ]
  },
  {
   "cell_type": "code",
   "execution_count": 108,
   "metadata": {},
   "outputs": [],
   "source": [
    "columns_metadata_dict['data_analysis_columns'].append('ttlfull_245')\n",
    "columns_metadata_dict['data_analysis_columns'].append('ttlfull_246')"
   ]
  },
  {
   "cell_type": "markdown",
   "metadata": {},
   "source": [
    "### volumes"
   ]
  },
  {
   "cell_type": "code",
   "execution_count": 109,
   "metadata": {},
   "outputs": [],
   "source": [
    "columns_metadata_dict['list_columns'].append('volumes')"
   ]
  },
  {
   "cell_type": "code",
   "execution_count": 110,
   "metadata": {},
   "outputs": [
    {
     "name": "stdout",
     "output_type": "stream",
     "text": [
      "Number of records with filled volumes 161471, with missing volumes 21936 => 88.0%\n"
     ]
    }
   ],
   "source": [
    "_, _ = daf.find_empty_in_column(df, columns_metadata_dict, 'volumes')"
   ]
  },
  {
   "cell_type": "markdown",
   "metadata": {},
   "source": [
    "This attribute holds information on the number of physical pages, volumes, total playing time etc. of the bibliographic unit [[FeatWiki](./A_References.ipynb/#feature_deduplication_wiki)] depending on its format. Some examples are shown below."
   ]
  },
  {
   "cell_type": "code",
   "execution_count": 111,
   "metadata": {},
   "outputs": [
    {
     "data": {
      "text/plain": [
       "48366                            [384 S.]\n",
       "74328             [8, 342 S., 4 photogr.]\n",
       "172787                           [428 S.]\n",
       "134789                [1 online resource]\n",
       "89013     [1 online resource (289 pages)]\n",
       "62399                        [325 Seiten]\n",
       "155784                           [141 p.]\n",
       "148274                           [461 S.]\n",
       "181562                                 []\n",
       "14089                   [2 Compact Discs]\n",
       "140433                [1 online resource]\n",
       "38539                 [1 online resource]\n",
       "85521              [320 Seiten in 1 Teil]\n",
       "107760                                 []\n",
       "136077                [1 online resource]\n",
       "Name: volumes, dtype: object"
      ]
     },
     "execution_count": 111,
     "metadata": {},
     "output_type": "execute_result"
    }
   ],
   "source": [
    "df['volumes'].sample(n=15)"
   ]
  },
  {
   "cell_type": "markdown",
   "metadata": {},
   "source": [
    "The attribute comes along as a list of one string element. A function for data preparation has been written to extract the element out of the list and store it as a single string of lowercase characters. This function will be used for preparing the data of the goldstandard in chapter [Goldstandard and Data Preparation](./2_GoldstandardDataPreparation.ipynb)."
   ]
  },
  {
   "cell_type": "code",
   "execution_count": 112,
   "metadata": {},
   "outputs": [],
   "source": [
    "df = dpf.transform_list_to_string(df, 'volumes')"
   ]
  },
  {
   "cell_type": "code",
   "execution_count": 113,
   "metadata": {},
   "outputs": [
    {
     "data": {
      "text/plain": [
       "58277                               370 p.\n",
       "32824                                     \n",
       "171818                                    \n",
       "148814                                  v.\n",
       "176234                              210 s.\n",
       "84103                                     \n",
       "178465    [52], 947, [1 bl., 30, 2 bl.] p.\n",
       "154040                                8 p.\n",
       "72554                 48 ungezählte seiten\n",
       "176016                                    \n",
       "132345                          177 seiten\n",
       "80421                                     \n",
       "83625                                81 s.\n",
       "13920                     1 disque compact\n",
       "175632                              146 p.\n",
       "Name: volumes, dtype: object"
      ]
     },
     "execution_count": 113,
     "metadata": {},
     "output_type": "execute_result"
    }
   ],
   "source": [
    "df['volumes'].sample(n=15)"
   ]
  },
  {
   "cell_type": "code",
   "execution_count": 114,
   "metadata": {},
   "outputs": [
    {
     "name": "stdout",
     "output_type": "stream",
     "text": [
      "Array of unique attribute values\n",
      " ['s. 102-114' '43 s.' '75 p.' ... '232 s., 2 bl. taf.'\n",
      " '26 seiten, 7 ungezählte blätter bildtafeln' 'xli, 282 seiten']\n",
      "\n",
      "Total number of unique values 36,466\n"
     ]
    }
   ],
   "source": [
    "print('Array of unique attribute values\\n', df.volumes.unique())\n",
    "print('\\nTotal number of unique values {:,d}'.format(len(df.volumes.unique())))"
   ]
  },
  {
   "cell_type": "code",
   "execution_count": 115,
   "metadata": {},
   "outputs": [],
   "source": [
    "columns_metadata_dict['data_analysis_columns'].append('volumes')"
   ]
  },
  {
   "cell_type": "markdown",
   "metadata": {},
   "source": [
    "## Metadata Handover"
   ]
  },
  {
   "cell_type": "markdown",
   "metadata": {},
   "source": [
    "To hand over the attributes dictionary of this chapter as metadata, the dictionary is saved into a pickle file that will be read in the next chapter [Goldstandard and Data Preparation](./2_GoldstandardDataPreparation.ipynb) as input file."
   ]
  },
  {
   "cell_type": "code",
   "execution_count": 117,
   "metadata": {},
   "outputs": [],
   "source": [
    "import pickle as pk\n",
    "\n",
    "# Binary intermediary metadata file\n",
    "with open(os.path.join(path_goldstandard,\n",
    "                       'columns_metadata.pkl'), 'wb') as df_output_file:\n",
    "    pk.dump(columns_metadata_dict, df_output_file)"
   ]
  },
  {
   "cell_type": "markdown",
   "metadata": {},
   "source": [
    "## Summary"
   ]
  },
  {
   "cell_type": "markdown",
   "metadata": {},
   "source": [
    "The result of this chapter is an analysis of the attributes of the raw data [[FeatWiki](./A_References.ipynb/#feature_deduplication_wiki)] for the capstone project. During the analysis and discussion of the attributes, some functions have been written, that will be used in the upcoming chapters for data preprocessing. As the next step, Swissbib's training and testing data will be analysed and processed in chapter [Goldstandard and Data Preparation](./2_GoldstandardDataPreparation.ipynb)."
   ]
  },
  {
   "cell_type": "code",
   "execution_count": null,
   "metadata": {},
   "outputs": [],
   "source": []
  }
 ],
 "metadata": {
  "kernelspec": {
   "display_name": "Python 3",
   "language": "python",
   "name": "python3"
  },
  "language_info": {
   "codemirror_mode": {
    "name": "ipython",
    "version": 3
   },
   "file_extension": ".py",
   "mimetype": "text/x-python",
   "name": "python",
   "nbconvert_exporter": "python",
   "pygments_lexer": "ipython3",
   "version": "3.7.1"
  }
 },
 "nbformat": 4,
 "nbformat_minor": 2
}
