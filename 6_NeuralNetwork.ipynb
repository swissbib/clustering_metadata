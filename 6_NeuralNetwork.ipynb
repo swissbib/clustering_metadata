{
 "cells": [
  {
   "cell_type": "markdown",
   "metadata": {},
   "source": [
    "# Neural Network Model"
   ]
  },
  {
   "cell_type": "markdown",
   "metadata": {},
   "source": []
  },
  {
   "cell_type": "markdown",
   "metadata": {},
   "source": [
    "## Table of Contents\n",
    "\n",
    "- [Data Takeover](#Data-Takeover)\n",
    "    - [Train/Test Split](#Train/Test-Split)\n",
    "- [Neural Network Implementation](#Neural-Network-Implementation)\n",
    "    - [Performance Measurement](#Performance-Measurement)"
   ]
  },
  {
   "cell_type": "markdown",
   "metadata": {},
   "source": [
    "## Data Takeover"
   ]
  },
  {
   "cell_type": "markdown",
   "metadata": {},
   "source": [
    "Read in DataFrame from chapter [Feature Matrix Generation](./3_FeatureMatrixGeneration.ipynb) as input for processing in this chapter."
   ]
  },
  {
   "cell_type": "code",
   "execution_count": 1,
   "metadata": {},
   "outputs": [
    {
     "data": {
      "text/html": [
       "<div>\n",
       "<style scoped>\n",
       "    .dataframe tbody tr th:only-of-type {\n",
       "        vertical-align: middle;\n",
       "    }\n",
       "\n",
       "    .dataframe tbody tr th {\n",
       "        vertical-align: top;\n",
       "    }\n",
       "\n",
       "    .dataframe thead th {\n",
       "        text-align: right;\n",
       "    }\n",
       "</style>\n",
       "<table border=\"1\" class=\"dataframe\">\n",
       "  <thead>\n",
       "    <tr style=\"text-align: right;\">\n",
       "      <th></th>\n",
       "      <th>duplicates</th>\n",
       "      <th>century_delta</th>\n",
       "      <th>edition_delta</th>\n",
       "      <th>format_prefix_delta</th>\n",
       "      <th>format_postfix_delta</th>\n",
       "      <th>person_245c_delta</th>\n",
       "      <th>ttlfull_245_delta</th>\n",
       "      <th>ttlfull_246_delta</th>\n",
       "      <th>volumes_delta</th>\n",
       "    </tr>\n",
       "  </thead>\n",
       "  <tbody>\n",
       "    <tr>\n",
       "      <th>0</th>\n",
       "      <td>1</td>\n",
       "      <td>1.0</td>\n",
       "      <td>1.0</td>\n",
       "      <td>1.0</td>\n",
       "      <td>1.0</td>\n",
       "      <td>1.000000</td>\n",
       "      <td>1.000000</td>\n",
       "      <td>1.0</td>\n",
       "      <td>1.0</td>\n",
       "    </tr>\n",
       "    <tr>\n",
       "      <th>1</th>\n",
       "      <td>1</td>\n",
       "      <td>1.0</td>\n",
       "      <td>1.0</td>\n",
       "      <td>1.0</td>\n",
       "      <td>1.0</td>\n",
       "      <td>0.818905</td>\n",
       "      <td>0.363636</td>\n",
       "      <td>1.0</td>\n",
       "      <td>1.0</td>\n",
       "    </tr>\n",
       "    <tr>\n",
       "      <th>2</th>\n",
       "      <td>1</td>\n",
       "      <td>1.0</td>\n",
       "      <td>1.0</td>\n",
       "      <td>1.0</td>\n",
       "      <td>1.0</td>\n",
       "      <td>0.697740</td>\n",
       "      <td>1.000000</td>\n",
       "      <td>1.0</td>\n",
       "      <td>1.0</td>\n",
       "    </tr>\n",
       "    <tr>\n",
       "      <th>3</th>\n",
       "      <td>1</td>\n",
       "      <td>1.0</td>\n",
       "      <td>1.0</td>\n",
       "      <td>1.0</td>\n",
       "      <td>1.0</td>\n",
       "      <td>0.818905</td>\n",
       "      <td>0.363636</td>\n",
       "      <td>1.0</td>\n",
       "      <td>1.0</td>\n",
       "    </tr>\n",
       "    <tr>\n",
       "      <th>4</th>\n",
       "      <td>1</td>\n",
       "      <td>1.0</td>\n",
       "      <td>1.0</td>\n",
       "      <td>1.0</td>\n",
       "      <td>1.0</td>\n",
       "      <td>1.000000</td>\n",
       "      <td>1.000000</td>\n",
       "      <td>1.0</td>\n",
       "      <td>1.0</td>\n",
       "    </tr>\n",
       "  </tbody>\n",
       "</table>\n",
       "</div>"
      ],
      "text/plain": [
       "   duplicates  century_delta  edition_delta  format_prefix_delta  \\\n",
       "0           1            1.0            1.0                  1.0   \n",
       "1           1            1.0            1.0                  1.0   \n",
       "2           1            1.0            1.0                  1.0   \n",
       "3           1            1.0            1.0                  1.0   \n",
       "4           1            1.0            1.0                  1.0   \n",
       "\n",
       "   format_postfix_delta  person_245c_delta  ttlfull_245_delta  \\\n",
       "0                   1.0           1.000000           1.000000   \n",
       "1                   1.0           0.818905           0.363636   \n",
       "2                   1.0           0.697740           1.000000   \n",
       "3                   1.0           0.818905           0.363636   \n",
       "4                   1.0           1.000000           1.000000   \n",
       "\n",
       "   ttlfull_246_delta  volumes_delta  \n",
       "0                1.0            1.0  \n",
       "1                1.0            1.0  \n",
       "2                1.0            1.0  \n",
       "3                1.0            1.0  \n",
       "4                1.0            1.0  "
      ]
     },
     "execution_count": 1,
     "metadata": {},
     "output_type": "execute_result"
    }
   ],
   "source": [
    "import os\n",
    "import pandas as pd\n",
    "\n",
    "path_goldstandard = './daten_goldstandard'\n",
    "\n",
    "# Restore results so far\n",
    "df_labelled_feature_matrix = pd.read_pickle(os.path.join(path_goldstandard,\n",
    "                                                         'labelled_feature_matrix.pkl'),\n",
    "                                 compression=None)\n",
    "\n",
    "df_labelled_feature_matrix.head()"
   ]
  },
  {
   "cell_type": "code",
   "execution_count": 2,
   "metadata": {},
   "outputs": [],
   "source": [
    "df_labelled_feature_matrix = pd.concat(\n",
    "    [df_labelled_feature_matrix[df_labelled_feature_matrix.duplicates==0].sample(n=1473),\n",
    "     df_labelled_feature_matrix[df_labelled_feature_matrix.duplicates==1]])"
   ]
  },
  {
   "cell_type": "code",
   "execution_count": 3,
   "metadata": {},
   "outputs": [
    {
     "name": "stdout",
     "output_type": "stream",
     "text": [
      "Part of duplicates (1) on uniques (2) in units of [%]\n",
      "1    50.0\n",
      "0    50.0\n",
      "Name: duplicates, dtype: float64\n"
     ]
    }
   ],
   "source": [
    "print('Part of duplicates (1) on uniques (2) in units of [%]')\n",
    "print(df_labelled_feature_matrix.duplicates.value_counts(normalize=True)*100)"
   ]
  },
  {
   "cell_type": "code",
   "execution_count": null,
   "metadata": {},
   "outputs": [],
   "source": []
  },
  {
   "cell_type": "code",
   "execution_count": null,
   "metadata": {},
   "outputs": [],
   "source": []
  },
  {
   "cell_type": "markdown",
   "metadata": {},
   "source": [
    "### Train/Test Split"
   ]
  },
  {
   "cell_type": "markdown",
   "metadata": {},
   "source": [
    "The train/test split will be implemented here as a general function to be called in the models chapters."
   ]
  },
  {
   "cell_type": "code",
   "execution_count": 4,
   "metadata": {},
   "outputs": [],
   "source": [
    "X = df_labelled_feature_matrix.drop(columns=['duplicates']).values\n",
    "y = df_labelled_feature_matrix.duplicates.values"
   ]
  },
  {
   "cell_type": "code",
   "execution_count": 5,
   "metadata": {},
   "outputs": [],
   "source": [
    "from sklearn.model_selection import train_test_split\n",
    "\n",
    "X_tr, X_te, y_tr, y_te = train_test_split(X, y, stratify=y, test_size=0.2, random_state=0)"
   ]
  },
  {
   "cell_type": "code",
   "execution_count": 6,
   "metadata": {},
   "outputs": [
    {
     "data": {
      "text/plain": [
       "(2356, 8)"
      ]
     },
     "execution_count": 6,
     "metadata": {},
     "output_type": "execute_result"
    }
   ],
   "source": [
    "X_tr.shape"
   ]
  },
  {
   "cell_type": "code",
   "execution_count": null,
   "metadata": {},
   "outputs": [],
   "source": []
  },
  {
   "cell_type": "markdown",
   "metadata": {},
   "source": [
    "## Neural Network Implementation"
   ]
  },
  {
   "cell_type": "code",
   "execution_count": 34,
   "metadata": {},
   "outputs": [
    {
     "data": {
      "text/plain": [
       "{'name': 'sequential_5',\n",
       " 'layers': [{'class_name': 'Dense',\n",
       "   'config': {'name': 'dense_9',\n",
       "    'trainable': True,\n",
       "    'batch_input_shape': (None, 8),\n",
       "    'dtype': 'float32',\n",
       "    'units': 12,\n",
       "    'activation': 'relu',\n",
       "    'use_bias': True,\n",
       "    'kernel_initializer': {'class_name': 'VarianceScaling',\n",
       "     'config': {'scale': 2.0,\n",
       "      'mode': 'fan_in',\n",
       "      'distribution': 'normal',\n",
       "      'seed': 1}},\n",
       "    'bias_initializer': {'class_name': 'Zeros', 'config': {}},\n",
       "    'kernel_regularizer': {'class_name': 'L1L2',\n",
       "     'config': {'l1': 0.0, 'l2': 0.10000000149011612}},\n",
       "    'bias_regularizer': None,\n",
       "    'activity_regularizer': None,\n",
       "    'kernel_constraint': None,\n",
       "    'bias_constraint': None}},\n",
       "  {'class_name': 'Dropout',\n",
       "   'config': {'name': 'dropout_5',\n",
       "    'trainable': True,\n",
       "    'dtype': 'float32',\n",
       "    'rate': 0.25,\n",
       "    'noise_shape': None,\n",
       "    'seed': 0}},\n",
       "  {'class_name': 'Dense',\n",
       "   'config': {'name': 'dense_10',\n",
       "    'trainable': True,\n",
       "    'dtype': 'float32',\n",
       "    'units': 2,\n",
       "    'activation': 'sigmoid',\n",
       "    'use_bias': True,\n",
       "    'kernel_initializer': {'class_name': 'VarianceScaling',\n",
       "     'config': {'scale': 1,\n",
       "      'mode': 'fan_in',\n",
       "      'distribution': 'normal',\n",
       "      'seed': 1}},\n",
       "    'bias_initializer': {'class_name': 'Zeros', 'config': {}},\n",
       "    'kernel_regularizer': {'class_name': 'L1L2',\n",
       "     'config': {'l1': 0.0, 'l2': 0.10000000149011612}},\n",
       "    'bias_regularizer': None,\n",
       "    'activity_regularizer': None,\n",
       "    'kernel_constraint': None,\n",
       "    'bias_constraint': None}}]}"
      ]
     },
     "execution_count": 34,
     "metadata": {},
     "output_type": "execute_result"
    }
   ],
   "source": [
    "from keras.models import Sequential\n",
    "from keras.layers import Dense, Dropout\n",
    "from keras.initializers import VarianceScaling\n",
    "from keras.regularizers import l2\n",
    "from keras.optimizers import SGD\n",
    "\n",
    "l2_alpha = 0.1\n",
    "sgd_learnrate = 0.005\n",
    "\n",
    "# Input layer\n",
    "hidden = Dense(\n",
    "    12, # Number of units for hidden layer\n",
    "    input_shape=(X_tr.shape[1],),\n",
    "    activation='relu',\n",
    "    kernel_initializer=VarianceScaling(scale=2.0, seed=0),\n",
    "    kernel_regularizer=l2(l2_alpha),\n",
    "    bias_initializer='zeros'\n",
    ")\n",
    "\n",
    "# With dropout layer\n",
    "dropout = Dropout(\n",
    "    rate=0.25,\n",
    "    seed=0\n",
    ")\n",
    "\n",
    "# Output layer\n",
    "output = Dense(\n",
    "    2,\n",
    "    activation='sigmoid', # Bring out 0 or 1 values\n",
    "    kernel_initializer=VarianceScaling(scale=1, seed=0),\n",
    "    kernel_regularizer=l2(l2_alpha),\n",
    "    bias_initializer='zeros'\n",
    ")\n",
    "\n",
    "# Create model with sequential API\n",
    "model = Sequential()\n",
    "model.add( hidden ) # Hidden layer\n",
    "model.add( dropout ) # Dropout\n",
    "model.add( output ) # Output layer\n",
    "\n",
    "# The optimizer is to be SGD\n",
    "sgd = SGD(lr=sgd_learnrate)\n",
    "\n",
    "# Compile model\n",
    "model.compile(\n",
    "    loss='categorical_crossentropy',\n",
    "    optimizer=sgd,\n",
    "    metrics=['accuracy']\n",
    "#    metrics=['categorical_accuracy']\n",
    ")\n",
    "\n",
    "# Check Model configuration\n",
    "model.get_config()"
   ]
  },
  {
   "cell_type": "code",
   "execution_count": 35,
   "metadata": {
    "scrolled": true
   },
   "outputs": [
    {
     "name": "stdout",
     "output_type": "stream",
     "text": [
      "Train on 2356 samples, validate on 590 samples\n",
      "Epoch 1/100\n",
      "2356/2356 [==============================] - 1s 359us/step - loss: 3.9343 - accuracy: 0.5314 - val_loss: 3.7447 - val_accuracy: 0.5288\n",
      "Epoch 2/100\n",
      "2356/2356 [==============================] - 0s 58us/step - loss: 3.6181 - accuracy: 0.5480 - val_loss: 3.4554 - val_accuracy: 0.5475\n",
      "Epoch 3/100\n",
      "2356/2356 [==============================] - 0s 59us/step - loss: 3.3435 - accuracy: 0.5581 - val_loss: 3.1960 - val_accuracy: 0.5593\n",
      "Epoch 4/100\n",
      "2356/2356 [==============================] - 0s 52us/step - loss: 3.0935 - accuracy: 0.5700 - val_loss: 2.9615 - val_accuracy: 0.5763\n",
      "Epoch 5/100\n",
      "2356/2356 [==============================] - 0s 60us/step - loss: 2.8712 - accuracy: 0.5908 - val_loss: 2.7483 - val_accuracy: 0.5847\n",
      "Epoch 6/100\n",
      "2356/2356 [==============================] - 0s 89us/step - loss: 2.6633 - accuracy: 0.5938 - val_loss: 2.5550 - val_accuracy: 0.5949\n",
      "Epoch 7/100\n",
      "2356/2356 [==============================] - 0s 48us/step - loss: 2.4811 - accuracy: 0.5980 - val_loss: 2.3795 - val_accuracy: 0.5983\n",
      "Epoch 8/100\n",
      "2356/2356 [==============================] - 0s 55us/step - loss: 2.3097 - accuracy: 0.6227 - val_loss: 2.2206 - val_accuracy: 0.6237\n",
      "Epoch 9/100\n",
      "2356/2356 [==============================] - 0s 49us/step - loss: 2.1639 - accuracy: 0.6218 - val_loss: 2.0766 - val_accuracy: 0.6593\n",
      "Epoch 10/100\n",
      "2356/2356 [==============================] - 0s 48us/step - loss: 2.0216 - accuracy: 0.6409 - val_loss: 1.9456 - val_accuracy: 0.6695\n",
      "Epoch 11/100\n",
      "2356/2356 [==============================] - 0s 48us/step - loss: 1.8938 - accuracy: 0.6672 - val_loss: 1.8265 - val_accuracy: 0.6847\n",
      "Epoch 12/100\n",
      "2356/2356 [==============================] - 0s 47us/step - loss: 1.7843 - accuracy: 0.6566 - val_loss: 1.7188 - val_accuracy: 0.6983\n",
      "Epoch 13/100\n",
      "2356/2356 [==============================] - 0s 49us/step - loss: 1.6815 - accuracy: 0.6689 - val_loss: 1.6212 - val_accuracy: 0.7169\n",
      "Epoch 14/100\n",
      "2356/2356 [==============================] - 0s 51us/step - loss: 1.5889 - accuracy: 0.6889 - val_loss: 1.5327 - val_accuracy: 0.7237\n",
      "Epoch 15/100\n",
      "2356/2356 [==============================] - 0s 50us/step - loss: 1.5019 - accuracy: 0.6995 - val_loss: 1.4523 - val_accuracy: 0.7407\n",
      "Epoch 16/100\n",
      "2356/2356 [==============================] - 0s 50us/step - loss: 1.4274 - accuracy: 0.7156 - val_loss: 1.3794 - val_accuracy: 0.7559\n",
      "Epoch 17/100\n",
      "2356/2356 [==============================] - 0s 57us/step - loss: 1.3586 - accuracy: 0.7084 - val_loss: 1.3133 - val_accuracy: 0.7610\n",
      "Epoch 18/100\n",
      "2356/2356 [==============================] - 0s 54us/step - loss: 1.2904 - accuracy: 0.7313 - val_loss: 1.2532 - val_accuracy: 0.7678\n",
      "Epoch 19/100\n",
      "2356/2356 [==============================] - 0s 52us/step - loss: 1.2341 - accuracy: 0.7288 - val_loss: 1.1986 - val_accuracy: 0.7831\n",
      "Epoch 20/100\n",
      "2356/2356 [==============================] - 0s 66us/step - loss: 1.1806 - accuracy: 0.7623 - val_loss: 1.1491 - val_accuracy: 0.7881\n",
      "Epoch 21/100\n",
      "2356/2356 [==============================] - 0s 52us/step - loss: 1.1338 - accuracy: 0.7496 - val_loss: 1.1040 - val_accuracy: 0.7983\n",
      "Epoch 22/100\n",
      "2356/2356 [==============================] - 0s 48us/step - loss: 1.0914 - accuracy: 0.7547 - val_loss: 1.0632 - val_accuracy: 0.8017\n",
      "Epoch 23/100\n",
      "2356/2356 [==============================] - 0s 51us/step - loss: 1.0531 - accuracy: 0.7649 - val_loss: 1.0260 - val_accuracy: 0.8169\n",
      "Epoch 24/100\n",
      "2356/2356 [==============================] - 0s 49us/step - loss: 1.0187 - accuracy: 0.7623 - val_loss: 0.9923 - val_accuracy: 0.8186\n",
      "Epoch 25/100\n",
      "2356/2356 [==============================] - 0s 47us/step - loss: 0.9858 - accuracy: 0.7755 - val_loss: 0.9616 - val_accuracy: 0.8220\n",
      "Epoch 26/100\n",
      "2356/2356 [==============================] - 0s 48us/step - loss: 0.9559 - accuracy: 0.7759 - val_loss: 0.9336 - val_accuracy: 0.8356\n",
      "Epoch 27/100\n",
      "2356/2356 [==============================] - 0s 52us/step - loss: 0.9272 - accuracy: 0.7848 - val_loss: 0.9082 - val_accuracy: 0.8458\n",
      "Epoch 28/100\n",
      "2356/2356 [==============================] - 0s 51us/step - loss: 0.9050 - accuracy: 0.7840 - val_loss: 0.8850 - val_accuracy: 0.8525\n",
      "Epoch 29/100\n",
      "2356/2356 [==============================] - 0s 49us/step - loss: 0.8814 - accuracy: 0.8026 - val_loss: 0.8639 - val_accuracy: 0.8559\n",
      "Epoch 30/100\n",
      "2356/2356 [==============================] - 0s 49us/step - loss: 0.8620 - accuracy: 0.7971 - val_loss: 0.8449 - val_accuracy: 0.8610\n",
      "Epoch 31/100\n",
      "2356/2356 [==============================] - 0s 51us/step - loss: 0.8456 - accuracy: 0.7992 - val_loss: 0.8277 - val_accuracy: 0.8729\n",
      "Epoch 32/100\n",
      "2356/2356 [==============================] - 0s 52us/step - loss: 0.8258 - accuracy: 0.8145 - val_loss: 0.8120 - val_accuracy: 0.8763\n",
      "Epoch 33/100\n",
      "2356/2356 [==============================] - 0s 64us/step - loss: 0.8127 - accuracy: 0.8124 - val_loss: 0.7980 - val_accuracy: 0.8814\n",
      "Epoch 34/100\n",
      "2356/2356 [==============================] - 0s 54us/step - loss: 0.7994 - accuracy: 0.8222 - val_loss: 0.7858 - val_accuracy: 0.8881\n",
      "Epoch 35/100\n",
      "2356/2356 [==============================] - 0s 47us/step - loss: 0.7869 - accuracy: 0.8213 - val_loss: 0.7747 - val_accuracy: 0.8966\n",
      "Epoch 36/100\n",
      "2356/2356 [==============================] - 0s 49us/step - loss: 0.7774 - accuracy: 0.8188 - val_loss: 0.7646 - val_accuracy: 0.9017\n",
      "Epoch 37/100\n",
      "2356/2356 [==============================] - 0s 71us/step - loss: 0.7649 - accuracy: 0.8370 - val_loss: 0.7553 - val_accuracy: 0.9068\n",
      "Epoch 38/100\n",
      "2356/2356 [==============================] - 0s 88us/step - loss: 0.7580 - accuracy: 0.8264 - val_loss: 0.7469 - val_accuracy: 0.9085\n",
      "Epoch 39/100\n",
      "2356/2356 [==============================] - 0s 49us/step - loss: 0.7496 - accuracy: 0.8374 - val_loss: 0.7391 - val_accuracy: 0.9034\n",
      "Epoch 40/100\n",
      "2356/2356 [==============================] - 0s 48us/step - loss: 0.7453 - accuracy: 0.8247 - val_loss: 0.7321 - val_accuracy: 0.9119\n",
      "Epoch 41/100\n",
      "2356/2356 [==============================] - 0s 49us/step - loss: 0.7352 - accuracy: 0.8383 - val_loss: 0.7256 - val_accuracy: 0.9068\n",
      "Epoch 42/100\n",
      "2356/2356 [==============================] - 0s 46us/step - loss: 0.7288 - accuracy: 0.8264 - val_loss: 0.7197 - val_accuracy: 0.9169\n",
      "Epoch 43/100\n",
      "2356/2356 [==============================] - 0s 48us/step - loss: 0.7237 - accuracy: 0.8349 - val_loss: 0.7143 - val_accuracy: 0.9153\n",
      "Epoch 44/100\n",
      "2356/2356 [==============================] - 0s 46us/step - loss: 0.7159 - accuracy: 0.8442 - val_loss: 0.7093 - val_accuracy: 0.9136\n",
      "Epoch 45/100\n",
      "2356/2356 [==============================] - 0s 46us/step - loss: 0.7121 - accuracy: 0.8315 - val_loss: 0.7047 - val_accuracy: 0.9136\n",
      "Epoch 46/100\n",
      "2356/2356 [==============================] - 0s 45us/step - loss: 0.7083 - accuracy: 0.8374 - val_loss: 0.7005 - val_accuracy: 0.9102\n",
      "Epoch 47/100\n",
      "2356/2356 [==============================] - 0s 46us/step - loss: 0.7121 - accuracy: 0.8247 - val_loss: 0.6969 - val_accuracy: 0.9169\n",
      "Epoch 48/100\n",
      "2356/2356 [==============================] - 0s 49us/step - loss: 0.7028 - accuracy: 0.8298 - val_loss: 0.6934 - val_accuracy: 0.9186\n",
      "Epoch 49/100\n",
      "2356/2356 [==============================] - 0s 46us/step - loss: 0.7005 - accuracy: 0.8421 - val_loss: 0.6902 - val_accuracy: 0.9186\n",
      "Epoch 50/100\n",
      "2356/2356 [==============================] - 0s 47us/step - loss: 0.6950 - accuracy: 0.8430 - val_loss: 0.6872 - val_accuracy: 0.9203\n",
      "Epoch 51/100\n",
      "2356/2356 [==============================] - 0s 52us/step - loss: 0.6961 - accuracy: 0.8374 - val_loss: 0.6846 - val_accuracy: 0.9254\n",
      "Epoch 52/100\n",
      "2356/2356 [==============================] - 0s 48us/step - loss: 0.6938 - accuracy: 0.8366 - val_loss: 0.6821 - val_accuracy: 0.9271\n",
      "Epoch 53/100\n",
      "2356/2356 [==============================] - 0s 50us/step - loss: 0.6906 - accuracy: 0.8349 - val_loss: 0.6799 - val_accuracy: 0.9322\n",
      "Epoch 54/100\n",
      "2356/2356 [==============================] - 0s 48us/step - loss: 0.6876 - accuracy: 0.8391 - val_loss: 0.6777 - val_accuracy: 0.9305\n",
      "Epoch 55/100\n",
      "2356/2356 [==============================] - 0s 52us/step - loss: 0.6816 - accuracy: 0.8544 - val_loss: 0.6757 - val_accuracy: 0.9305\n",
      "Epoch 56/100\n"
     ]
    },
    {
     "name": "stdout",
     "output_type": "stream",
     "text": [
      "2356/2356 [==============================] - 0s 49us/step - loss: 0.6832 - accuracy: 0.8531 - val_loss: 0.6738 - val_accuracy: 0.9356\n",
      "Epoch 57/100\n",
      "2356/2356 [==============================] - 0s 45us/step - loss: 0.6817 - accuracy: 0.8455 - val_loss: 0.6721 - val_accuracy: 0.9390\n",
      "Epoch 58/100\n",
      "2356/2356 [==============================] - 0s 48us/step - loss: 0.6782 - accuracy: 0.8485 - val_loss: 0.6704 - val_accuracy: 0.9373\n",
      "Epoch 59/100\n",
      "2356/2356 [==============================] - 0s 46us/step - loss: 0.6782 - accuracy: 0.8561 - val_loss: 0.6689 - val_accuracy: 0.9390\n",
      "Epoch 60/100\n",
      "2356/2356 [==============================] - 0s 48us/step - loss: 0.6752 - accuracy: 0.8561 - val_loss: 0.6674 - val_accuracy: 0.9390\n",
      "Epoch 61/100\n",
      "2356/2356 [==============================] - 0s 47us/step - loss: 0.6763 - accuracy: 0.8455 - val_loss: 0.6662 - val_accuracy: 0.9424\n",
      "Epoch 62/100\n",
      "2356/2356 [==============================] - 0s 48us/step - loss: 0.6757 - accuracy: 0.8497 - val_loss: 0.6649 - val_accuracy: 0.9424\n",
      "Epoch 63/100\n",
      "2356/2356 [==============================] - 0s 53us/step - loss: 0.6728 - accuracy: 0.8536 - val_loss: 0.6637 - val_accuracy: 0.9424\n",
      "Epoch 64/100\n",
      "2356/2356 [==============================] - 0s 55us/step - loss: 0.6696 - accuracy: 0.8506 - val_loss: 0.6626 - val_accuracy: 0.9424\n",
      "Epoch 65/100\n",
      "2356/2356 [==============================] - 0s 47us/step - loss: 0.6695 - accuracy: 0.8523 - val_loss: 0.6615 - val_accuracy: 0.9407\n",
      "Epoch 66/100\n",
      "2356/2356 [==============================] - 0s 45us/step - loss: 0.6689 - accuracy: 0.8587 - val_loss: 0.6604 - val_accuracy: 0.9407\n",
      "Epoch 67/100\n",
      "2356/2356 [==============================] - 0s 50us/step - loss: 0.6693 - accuracy: 0.8519 - val_loss: 0.6595 - val_accuracy: 0.9407\n",
      "Epoch 68/100\n",
      "2356/2356 [==============================] - 0s 56us/step - loss: 0.6652 - accuracy: 0.8599 - val_loss: 0.6585 - val_accuracy: 0.9407\n",
      "Epoch 69/100\n",
      "2356/2356 [==============================] - 0s 48us/step - loss: 0.6642 - accuracy: 0.8625 - val_loss: 0.6576 - val_accuracy: 0.9407\n",
      "Epoch 70/100\n",
      "2356/2356 [==============================] - 0s 50us/step - loss: 0.6655 - accuracy: 0.8536 - val_loss: 0.6568 - val_accuracy: 0.9475\n",
      "Epoch 71/100\n",
      "2356/2356 [==============================] - 0s 45us/step - loss: 0.6658 - accuracy: 0.8523 - val_loss: 0.6560 - val_accuracy: 0.9475\n",
      "Epoch 72/100\n",
      "2356/2356 [==============================] - 0s 53us/step - loss: 0.6628 - accuracy: 0.8570 - val_loss: 0.6551 - val_accuracy: 0.9475\n",
      "Epoch 73/100\n",
      "2356/2356 [==============================] - 0s 52us/step - loss: 0.6632 - accuracy: 0.8591 - val_loss: 0.6545 - val_accuracy: 0.9508\n",
      "Epoch 74/100\n",
      "2356/2356 [==============================] - 0s 55us/step - loss: 0.6666 - accuracy: 0.8514 - val_loss: 0.6539 - val_accuracy: 0.9525\n",
      "Epoch 75/100\n",
      "2356/2356 [==============================] - 0s 47us/step - loss: 0.6649 - accuracy: 0.8523 - val_loss: 0.6531 - val_accuracy: 0.9525\n",
      "Epoch 76/100\n",
      "2356/2356 [==============================] - 0s 45us/step - loss: 0.6626 - accuracy: 0.8536 - val_loss: 0.6525 - val_accuracy: 0.9542\n",
      "Epoch 77/100\n",
      "2356/2356 [==============================] - 0s 48us/step - loss: 0.6598 - accuracy: 0.8676 - val_loss: 0.6518 - val_accuracy: 0.9542\n",
      "Epoch 78/100\n",
      "2356/2356 [==============================] - 0s 59us/step - loss: 0.6580 - accuracy: 0.8731 - val_loss: 0.6512 - val_accuracy: 0.9525\n",
      "Epoch 79/100\n",
      "2356/2356 [==============================] - 0s 47us/step - loss: 0.6632 - accuracy: 0.8608 - val_loss: 0.6505 - val_accuracy: 0.9525\n",
      "Epoch 80/100\n",
      "2356/2356 [==============================] - 0s 47us/step - loss: 0.6615 - accuracy: 0.8621 - val_loss: 0.6500 - val_accuracy: 0.9525\n",
      "Epoch 81/100\n",
      "2356/2356 [==============================] - 0s 50us/step - loss: 0.6599 - accuracy: 0.8650 - val_loss: 0.6493 - val_accuracy: 0.9525\n",
      "Epoch 82/100\n",
      "2356/2356 [==============================] - 0s 46us/step - loss: 0.6592 - accuracy: 0.8667 - val_loss: 0.6488 - val_accuracy: 0.9525\n",
      "Epoch 83/100\n",
      "2356/2356 [==============================] - 0s 45us/step - loss: 0.6560 - accuracy: 0.8765 - val_loss: 0.6481 - val_accuracy: 0.9525\n",
      "Epoch 84/100\n",
      "2356/2356 [==============================] - 0s 55us/step - loss: 0.6567 - accuracy: 0.8701 - val_loss: 0.6474 - val_accuracy: 0.9525\n",
      "Epoch 85/100\n",
      "2356/2356 [==============================] - 0s 48us/step - loss: 0.6633 - accuracy: 0.8591 - val_loss: 0.6469 - val_accuracy: 0.9525\n",
      "Epoch 86/100\n",
      "2356/2356 [==============================] - 0s 46us/step - loss: 0.6553 - accuracy: 0.8718 - val_loss: 0.6464 - val_accuracy: 0.9525\n",
      "Epoch 87/100\n",
      "2356/2356 [==============================] - 0s 47us/step - loss: 0.6553 - accuracy: 0.8739 - val_loss: 0.6458 - val_accuracy: 0.9525\n",
      "Epoch 88/100\n",
      "2356/2356 [==============================] - 0s 47us/step - loss: 0.6574 - accuracy: 0.8612 - val_loss: 0.6452 - val_accuracy: 0.9525\n",
      "Epoch 89/100\n",
      "2356/2356 [==============================] - 0s 45us/step - loss: 0.6588 - accuracy: 0.8621 - val_loss: 0.6448 - val_accuracy: 0.9525\n",
      "Epoch 90/100\n",
      "2356/2356 [==============================] - 0s 48us/step - loss: 0.6528 - accuracy: 0.8761 - val_loss: 0.6442 - val_accuracy: 0.9525\n",
      "Epoch 91/100\n",
      "2356/2356 [==============================] - 0s 47us/step - loss: 0.6590 - accuracy: 0.8625 - val_loss: 0.6437 - val_accuracy: 0.9525\n",
      "Epoch 92/100\n",
      "2356/2356 [==============================] - 0s 48us/step - loss: 0.6574 - accuracy: 0.8654 - val_loss: 0.6433 - val_accuracy: 0.9525\n",
      "Epoch 93/100\n",
      "2356/2356 [==============================] - 0s 46us/step - loss: 0.6570 - accuracy: 0.8629 - val_loss: 0.6428 - val_accuracy: 0.9525\n",
      "Epoch 94/100\n",
      "2356/2356 [==============================] - 0s 43us/step - loss: 0.6562 - accuracy: 0.8705 - val_loss: 0.6424 - val_accuracy: 0.9542\n",
      "Epoch 95/100\n",
      "2356/2356 [==============================] - 0s 55us/step - loss: 0.6490 - accuracy: 0.8705 - val_loss: 0.6419 - val_accuracy: 0.9576\n",
      "Epoch 96/100\n",
      "2356/2356 [==============================] - 0s 52us/step - loss: 0.6466 - accuracy: 0.8739 - val_loss: 0.6413 - val_accuracy: 0.9559\n",
      "Epoch 97/100\n",
      "2356/2356 [==============================] - 0s 59us/step - loss: 0.6541 - accuracy: 0.8744 - val_loss: 0.6408 - val_accuracy: 0.9576\n",
      "Epoch 98/100\n",
      "2356/2356 [==============================] - 0s 46us/step - loss: 0.6481 - accuracy: 0.8807 - val_loss: 0.6401 - val_accuracy: 0.9542\n",
      "Epoch 99/100\n",
      "2356/2356 [==============================] - 0s 48us/step - loss: 0.6514 - accuracy: 0.8714 - val_loss: 0.6394 - val_accuracy: 0.9525\n",
      "Epoch 100/100\n",
      "2356/2356 [==============================] - 0s 46us/step - loss: 0.6516 - accuracy: 0.8739 - val_loss: 0.6390 - val_accuracy: 0.9542\n"
     ]
    }
   ],
   "source": [
    "from keras.utils import to_categorical\n",
    "\n",
    "# Parameters for fitting with batches and epochs\n",
    "epochs = 100\n",
    "batch_size = 50\n",
    "# Stay with the four logits and do not reduce to one categorical integer\n",
    "y_tr_2 = to_categorical(y_tr)\n",
    "y_val_2 = to_categorical(y_te)\n",
    "\n",
    "# Fit the model\n",
    "history = model.fit(\n",
    "    x=X_tr, y=y_tr_2,\n",
    "    batch_size=batch_size, epochs=epochs,\n",
    "    validation_data=(X_te, y_val_2)\n",
    ")"
   ]
  },
  {
   "cell_type": "code",
   "execution_count": 36,
   "metadata": {},
   "outputs": [
    {
     "data": {
      "text/plain": [
       "(array([[0., 1.],\n",
       "        [1., 0.],\n",
       "        [0., 1.],\n",
       "        ...,\n",
       "        [1., 0.],\n",
       "        [0., 1.],\n",
       "        [0., 1.]], dtype=float32), array([[0., 1.],\n",
       "        [0., 1.],\n",
       "        [0., 1.],\n",
       "        ...,\n",
       "        [0., 1.],\n",
       "        [0., 1.],\n",
       "        [0., 1.]], dtype=float32))"
      ]
     },
     "execution_count": 36,
     "metadata": {},
     "output_type": "execute_result"
    }
   ],
   "source": [
    "y_tr_2, y_val_2"
   ]
  },
  {
   "cell_type": "code",
   "execution_count": 37,
   "metadata": {},
   "outputs": [],
   "source": [
    "#from keras.utils import plot_model\n",
    "\n",
    "#plot_model(model, show_shapes=True, dpi=72)"
   ]
  },
  {
   "cell_type": "code",
   "execution_count": 38,
   "metadata": {},
   "outputs": [
    {
     "data": {
      "image/png": "[encoded data removed]",
      "text/plain": [
       "<Figure size 432x288 with 1 Axes>"
      ]
     },
     "metadata": {
      "needs_background": "light"
     },
     "output_type": "display_data"
    }
   ],
   "source": [
    "import matplotlib.pyplot as plt\n",
    "\n",
    "plt.plot(history.history['accuracy'], label='training accuracy')\n",
    "plt.plot(history.history['val_accuracy'], label='validation accuracy')\n",
    "plt.legend()\n",
    "plt.title(r'Bilayer neural network with lr = {} and $\\alpha=${}'.format(\n",
    "    sgd_learnrate, l2_alpha)\n",
    ")\n",
    "plt.xlabel('epoch')\n",
    "plt.ylabel('accuracy')\n",
    "plt.show()"
   ]
  },
  {
   "cell_type": "code",
   "execution_count": 39,
   "metadata": {},
   "outputs": [
    {
     "name": "stdout",
     "output_type": "stream",
     "text": [
      "Mean last 5 validation accuracy : 0.955\n",
      "Neural network accuracy (test set): 0.954\n"
     ]
    }
   ],
   "source": [
    "import numpy as np\n",
    "\n",
    "no_last = 5 # I take the last 5 due to the upwards shape of the curve at its end\n",
    "print('Mean last {:d} validation accuracy : {:.3f}'.format(\n",
    "    no_last, np.mean(history.history['val_accuracy'][-no_last:])\n",
    "))\n",
    "\n",
    "print('Neural network accuracy (test set): {:.3f}'.format(\n",
    "    model.evaluate(X_te, to_categorical(y_te),\n",
    "                   verbose=0)[1] # Loss is at index=0, accuracy at index=1\n",
    "))"
   ]
  },
  {
   "cell_type": "code",
   "execution_count": 40,
   "metadata": {},
   "outputs": [
    {
     "data": {
      "text/plain": [
       "0"
      ]
     },
     "execution_count": 40,
     "metadata": {},
     "output_type": "execute_result"
    }
   ],
   "source": [
    "y_pred = model.predict_classes(X_te)\n",
    "\n",
    "min(y_pred)"
   ]
  },
  {
   "cell_type": "markdown",
   "metadata": {},
   "source": [
    "### Performance Measurement"
   ]
  },
  {
   "cell_type": "code",
   "execution_count": 41,
   "metadata": {},
   "outputs": [
    {
     "data": {
      "text/plain": [
       "array([[276,  19],\n",
       "       [  8, 287]])"
      ]
     },
     "execution_count": 41,
     "metadata": {},
     "output_type": "execute_result"
    }
   ],
   "source": [
    "from sklearn.metrics import confusion_matrix\n",
    "\n",
    "confusion_matrix(y_te, y_pred)"
   ]
  },
  {
   "cell_type": "code",
   "execution_count": 42,
   "metadata": {},
   "outputs": [
    {
     "name": "stdout",
     "output_type": "stream",
     "text": [
      "Area under the curve 95.4% - accuracy 95.4% - precision 93.8% - recall 97.3%\n"
     ]
    }
   ],
   "source": [
    "from sklearn.metrics import roc_auc_score, accuracy_score, precision_score, recall_score\n",
    "from keras.metrics import accuracy\n",
    "\n",
    "#print('Score {:.1f}%'.format(100*accuracy_score(X_te, y_te)))\n",
    "print('Area under the curve {:.1f}% - accuracy {:.1f}% - precision {:.1f}% - recall {:.1f}%'.format(100*roc_auc_score(y_te, y_pred),\n",
    "                100*accuracy_score(y_te, y_pred),\n",
    "                100*precision_score(y_te, y_pred),\n",
    "                100*recall_score(y_te, y_pred)\n",
    "               ))"
   ]
  },
  {
   "cell_type": "code",
   "execution_count": null,
   "metadata": {},
   "outputs": [],
   "source": []
  },
  {
   "cell_type": "markdown",
   "metadata": {},
   "source": [
    "## Results Handover"
   ]
  },
  {
   "cell_type": "code",
   "execution_count": 43,
   "metadata": {},
   "outputs": [],
   "source": [
    "# Restore results so far\n",
    "df_result = pd.read_pickle(os.path.join(path_goldstandard,\n",
    "                                        'results.pkl'), compression=None)\n"
   ]
  },
  {
   "cell_type": "code",
   "execution_count": 44,
   "metadata": {},
   "outputs": [],
   "source": [
    "# Add result of this section\n",
    "df_result = df_result.append(pd.DataFrame.from_dict({\n",
    "    'model': ['Neural Network'],\n",
    "    'test_score' : [0.0],\n",
    "    'auc' : [100*roc_auc_score(y_te, y_pred)],\n",
    "    'accuracy' : [100*accuracy_score(y_te, y_pred)],\n",
    "    'precision' : [100*precision_score(y_te, y_pred)],\n",
    "    'recall' : [100*recall_score(y_te, y_pred)]\n",
    "}))\n",
    "\n",
    "# Save full DataFrame into pickle file\n",
    "df_result.to_pickle(os.path.join(path_goldstandard,\n",
    "                                 'results.pkl'), compression=None)"
   ]
  },
  {
   "cell_type": "code",
   "execution_count": null,
   "metadata": {},
   "outputs": [],
   "source": []
  }
 ],
 "metadata": {
  "kernelspec": {
   "display_name": "Python 3",
   "language": "python",
   "name": "python3"
  },
  "language_info": {
   "codemirror_mode": {
    "name": "ipython",
    "version": 3
   },
   "file_extension": ".py",
   "mimetype": "text/x-python",
   "name": "python",
   "nbconvert_exporter": "python",
   "pygments_lexer": "ipython3",
   "version": "3.7.1"
  }
 },
 "nbformat": 4,
 "nbformat_minor": 2
}
