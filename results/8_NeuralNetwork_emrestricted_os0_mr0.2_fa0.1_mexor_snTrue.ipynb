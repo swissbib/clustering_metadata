{
 "cells": [
  {
   "cell_type": "code",
   "execution_count": null,
   "metadata": {},
   "outputs": [],
   "source": []
  },
  {
   "cell_type": "code",
   "execution_count": null,
   "metadata": {},
   "outputs": [],
   "source": []
  },
  {
   "cell_type": "code",
   "execution_count": 1,
   "metadata": {},
   "outputs": [],
   "source": [
    "execution_mode = 'restricted'"
   ]
  },
  {
   "cell_type": "markdown",
   "metadata": {},
   "source": [
    "# Neural Network Model"
   ]
  },
  {
   "cell_type": "markdown",
   "metadata": {},
   "source": [
    "As a third and last model, this chapter describes the implementation of a Neural Network as a classifier. The implementation will be done with the Python Deep Learning library Keras. The structure of the chapter will be the same as for the last two chapters."
   ]
  },
  {
   "cell_type": "markdown",
   "metadata": {},
   "source": [
    "## Table of Contents\n",
    "\n",
    "- [Data Takeover](#Data-Takeover)\n",
    "- [Neural Network Implementation](#Neural-Network-Implementation)\n",
    "    - [Train/Test Split](#Train/Test-Split)\n",
    "    - [Model Training](#Model-Training)\n",
    "    - [General Observations](#General-Observations)\n",
    "    - [Performance Measurement](#Performance-Measurement)\n",
    "- [Summary](#Summary)\n",
    "    - [Results Handover](#Results-Handover)"
   ]
  },
  {
   "cell_type": "markdown",
   "metadata": {},
   "source": [
    "## Data Takeover"
   ]
  },
  {
   "cell_type": "markdown",
   "metadata": {},
   "source": [
    "As the first step, the data from the preceding data preparation chapters have to be read as input for processing in this chapter."
   ]
  },
  {
   "cell_type": "code",
   "execution_count": 2,
   "metadata": {},
   "outputs": [
    {
     "data": {
      "text/html": [
       "<div>\n",
       "<style scoped>\n",
       "    .dataframe tbody tr th:only-of-type {\n",
       "        vertical-align: middle;\n",
       "    }\n",
       "\n",
       "    .dataframe tbody tr th {\n",
       "        vertical-align: top;\n",
       "    }\n",
       "\n",
       "    .dataframe thead th {\n",
       "        text-align: right;\n",
       "    }\n",
       "</style>\n",
       "<table border=\"1\" class=\"dataframe\">\n",
       "  <thead>\n",
       "    <tr style=\"text-align: right;\">\n",
       "      <th></th>\n",
       "      <th>coordinate_E_delta</th>\n",
       "      <th>coordinate_N_delta</th>\n",
       "      <th>corporate_full_delta</th>\n",
       "      <th>doi_delta</th>\n",
       "      <th>edition_delta</th>\n",
       "      <th>exactDate_delta</th>\n",
       "      <th>format_prefix_delta</th>\n",
       "      <th>format_postfix_delta</th>\n",
       "      <th>isbn_delta</th>\n",
       "      <th>ismn_delta</th>\n",
       "      <th>...</th>\n",
       "      <th>part_delta</th>\n",
       "      <th>person_100_delta</th>\n",
       "      <th>person_700_delta</th>\n",
       "      <th>person_245c_delta</th>\n",
       "      <th>pubinit_delta</th>\n",
       "      <th>scale_delta</th>\n",
       "      <th>ttlfull_245_delta</th>\n",
       "      <th>ttlfull_246_delta</th>\n",
       "      <th>volumes_delta</th>\n",
       "      <th>duplicates</th>\n",
       "    </tr>\n",
       "  </thead>\n",
       "  <tbody>\n",
       "    <tr>\n",
       "      <th>count</th>\n",
       "      <td>259428.000000</td>\n",
       "      <td>259428.000000</td>\n",
       "      <td>259428.000000</td>\n",
       "      <td>259428.000000</td>\n",
       "      <td>259428.000000</td>\n",
       "      <td>259428.000000</td>\n",
       "      <td>259428.000000</td>\n",
       "      <td>259428.000000</td>\n",
       "      <td>259428.000000</td>\n",
       "      <td>259428.000000</td>\n",
       "      <td>...</td>\n",
       "      <td>259428.000000</td>\n",
       "      <td>259428.000000</td>\n",
       "      <td>259428.000000</td>\n",
       "      <td>259428.000000</td>\n",
       "      <td>259428.000000</td>\n",
       "      <td>259428.000000</td>\n",
       "      <td>259428.000000</td>\n",
       "      <td>259428.000000</td>\n",
       "      <td>259428.000000</td>\n",
       "      <td>259428.000000</td>\n",
       "    </tr>\n",
       "    <tr>\n",
       "      <th>mean</th>\n",
       "      <td>-0.093981</td>\n",
       "      <td>-0.093706</td>\n",
       "      <td>-0.073730</td>\n",
       "      <td>-0.094367</td>\n",
       "      <td>-0.083342</td>\n",
       "      <td>0.408119</td>\n",
       "      <td>0.419858</td>\n",
       "      <td>0.430594</td>\n",
       "      <td>0.377985</td>\n",
       "      <td>-0.097881</td>\n",
       "      <td>...</td>\n",
       "      <td>-0.010449</td>\n",
       "      <td>0.202922</td>\n",
       "      <td>0.175669</td>\n",
       "      <td>0.433444</td>\n",
       "      <td>0.189530</td>\n",
       "      <td>-0.093731</td>\n",
       "      <td>0.562611</td>\n",
       "      <td>-0.083263</td>\n",
       "      <td>0.207151</td>\n",
       "      <td>0.005678</td>\n",
       "    </tr>\n",
       "    <tr>\n",
       "      <th>std</th>\n",
       "      <td>0.034629</td>\n",
       "      <td>0.039458</td>\n",
       "      <td>0.068515</td>\n",
       "      <td>0.020354</td>\n",
       "      <td>0.059362</td>\n",
       "      <td>0.151027</td>\n",
       "      <td>0.493536</td>\n",
       "      <td>0.331195</td>\n",
       "      <td>0.484879</td>\n",
       "      <td>0.014649</td>\n",
       "      <td>...</td>\n",
       "      <td>0.189004</td>\n",
       "      <td>0.362126</td>\n",
       "      <td>0.310734</td>\n",
       "      <td>0.253005</td>\n",
       "      <td>0.293183</td>\n",
       "      <td>0.039375</td>\n",
       "      <td>0.109953</td>\n",
       "      <td>0.070059</td>\n",
       "      <td>0.342940</td>\n",
       "      <td>0.075138</td>\n",
       "    </tr>\n",
       "    <tr>\n",
       "      <th>min</th>\n",
       "      <td>-0.100000</td>\n",
       "      <td>-0.100000</td>\n",
       "      <td>-0.100000</td>\n",
       "      <td>-0.100000</td>\n",
       "      <td>-0.100000</td>\n",
       "      <td>0.000000</td>\n",
       "      <td>0.000000</td>\n",
       "      <td>0.000000</td>\n",
       "      <td>0.000000</td>\n",
       "      <td>-0.100000</td>\n",
       "      <td>...</td>\n",
       "      <td>-0.100000</td>\n",
       "      <td>-0.100000</td>\n",
       "      <td>-0.100000</td>\n",
       "      <td>-0.100000</td>\n",
       "      <td>-0.100000</td>\n",
       "      <td>-0.100000</td>\n",
       "      <td>0.000000</td>\n",
       "      <td>-0.100000</td>\n",
       "      <td>-0.100000</td>\n",
       "      <td>0.000000</td>\n",
       "    </tr>\n",
       "    <tr>\n",
       "      <th>25%</th>\n",
       "      <td>-0.100000</td>\n",
       "      <td>-0.100000</td>\n",
       "      <td>-0.100000</td>\n",
       "      <td>-0.100000</td>\n",
       "      <td>-0.100000</td>\n",
       "      <td>0.250000</td>\n",
       "      <td>0.000000</td>\n",
       "      <td>0.111111</td>\n",
       "      <td>0.000000</td>\n",
       "      <td>-0.100000</td>\n",
       "      <td>...</td>\n",
       "      <td>-0.100000</td>\n",
       "      <td>-0.050000</td>\n",
       "      <td>-0.050000</td>\n",
       "      <td>0.437759</td>\n",
       "      <td>-0.050000</td>\n",
       "      <td>-0.100000</td>\n",
       "      <td>0.505900</td>\n",
       "      <td>-0.100000</td>\n",
       "      <td>-0.050000</td>\n",
       "      <td>0.000000</td>\n",
       "    </tr>\n",
       "    <tr>\n",
       "      <th>50%</th>\n",
       "      <td>-0.100000</td>\n",
       "      <td>-0.100000</td>\n",
       "      <td>-0.100000</td>\n",
       "      <td>-0.100000</td>\n",
       "      <td>-0.100000</td>\n",
       "      <td>0.375000</td>\n",
       "      <td>0.000000</td>\n",
       "      <td>0.428571</td>\n",
       "      <td>0.000000</td>\n",
       "      <td>-0.100000</td>\n",
       "      <td>...</td>\n",
       "      <td>-0.050000</td>\n",
       "      <td>-0.050000</td>\n",
       "      <td>-0.050000</td>\n",
       "      <td>0.523232</td>\n",
       "      <td>-0.050000</td>\n",
       "      <td>-0.100000</td>\n",
       "      <td>0.544834</td>\n",
       "      <td>-0.100000</td>\n",
       "      <td>0.000000</td>\n",
       "      <td>0.000000</td>\n",
       "    </tr>\n",
       "    <tr>\n",
       "      <th>75%</th>\n",
       "      <td>-0.100000</td>\n",
       "      <td>-0.100000</td>\n",
       "      <td>-0.050000</td>\n",
       "      <td>-0.100000</td>\n",
       "      <td>-0.050000</td>\n",
       "      <td>0.500000</td>\n",
       "      <td>1.000000</td>\n",
       "      <td>0.428571</td>\n",
       "      <td>1.000000</td>\n",
       "      <td>-0.100000</td>\n",
       "      <td>...</td>\n",
       "      <td>-0.050000</td>\n",
       "      <td>0.535227</td>\n",
       "      <td>0.529091</td>\n",
       "      <td>0.580293</td>\n",
       "      <td>0.492063</td>\n",
       "      <td>-0.100000</td>\n",
       "      <td>0.599763</td>\n",
       "      <td>-0.100000</td>\n",
       "      <td>0.555556</td>\n",
       "      <td>0.000000</td>\n",
       "    </tr>\n",
       "    <tr>\n",
       "      <th>max</th>\n",
       "      <td>1.000000</td>\n",
       "      <td>1.000000</td>\n",
       "      <td>1.000000</td>\n",
       "      <td>1.000000</td>\n",
       "      <td>1.000000</td>\n",
       "      <td>1.000000</td>\n",
       "      <td>1.000000</td>\n",
       "      <td>1.000000</td>\n",
       "      <td>1.000000</td>\n",
       "      <td>1.000000</td>\n",
       "      <td>...</td>\n",
       "      <td>1.000000</td>\n",
       "      <td>1.000000</td>\n",
       "      <td>1.000000</td>\n",
       "      <td>1.000000</td>\n",
       "      <td>1.000000</td>\n",
       "      <td>1.000000</td>\n",
       "      <td>1.000000</td>\n",
       "      <td>1.000000</td>\n",
       "      <td>1.000000</td>\n",
       "      <td>1.000000</td>\n",
       "    </tr>\n",
       "  </tbody>\n",
       "</table>\n",
       "<p>8 rows × 21 columns</p>\n",
       "</div>"
      ],
      "text/plain": [
       "       coordinate_E_delta  coordinate_N_delta  corporate_full_delta  \\\n",
       "count       259428.000000       259428.000000         259428.000000   \n",
       "mean            -0.093981           -0.093706             -0.073730   \n",
       "std              0.034629            0.039458              0.068515   \n",
       "min             -0.100000           -0.100000             -0.100000   \n",
       "25%             -0.100000           -0.100000             -0.100000   \n",
       "50%             -0.100000           -0.100000             -0.100000   \n",
       "75%             -0.100000           -0.100000             -0.050000   \n",
       "max              1.000000            1.000000              1.000000   \n",
       "\n",
       "           doi_delta  edition_delta  exactDate_delta  format_prefix_delta  \\\n",
       "count  259428.000000  259428.000000    259428.000000        259428.000000   \n",
       "mean       -0.094367      -0.083342         0.408119             0.419858   \n",
       "std         0.020354       0.059362         0.151027             0.493536   \n",
       "min        -0.100000      -0.100000         0.000000             0.000000   \n",
       "25%        -0.100000      -0.100000         0.250000             0.000000   \n",
       "50%        -0.100000      -0.100000         0.375000             0.000000   \n",
       "75%        -0.100000      -0.050000         0.500000             1.000000   \n",
       "max         1.000000       1.000000         1.000000             1.000000   \n",
       "\n",
       "       format_postfix_delta     isbn_delta     ismn_delta  ...     part_delta  \\\n",
       "count         259428.000000  259428.000000  259428.000000  ...  259428.000000   \n",
       "mean               0.430594       0.377985      -0.097881  ...      -0.010449   \n",
       "std                0.331195       0.484879       0.014649  ...       0.189004   \n",
       "min                0.000000       0.000000      -0.100000  ...      -0.100000   \n",
       "25%                0.111111       0.000000      -0.100000  ...      -0.100000   \n",
       "50%                0.428571       0.000000      -0.100000  ...      -0.050000   \n",
       "75%                0.428571       1.000000      -0.100000  ...      -0.050000   \n",
       "max                1.000000       1.000000       1.000000  ...       1.000000   \n",
       "\n",
       "       person_100_delta  person_700_delta  person_245c_delta  pubinit_delta  \\\n",
       "count     259428.000000     259428.000000      259428.000000  259428.000000   \n",
       "mean           0.202922          0.175669           0.433444       0.189530   \n",
       "std            0.362126          0.310734           0.253005       0.293183   \n",
       "min           -0.100000         -0.100000          -0.100000      -0.100000   \n",
       "25%           -0.050000         -0.050000           0.437759      -0.050000   \n",
       "50%           -0.050000         -0.050000           0.523232      -0.050000   \n",
       "75%            0.535227          0.529091           0.580293       0.492063   \n",
       "max            1.000000          1.000000           1.000000       1.000000   \n",
       "\n",
       "         scale_delta  ttlfull_245_delta  ttlfull_246_delta  volumes_delta  \\\n",
       "count  259428.000000      259428.000000      259428.000000  259428.000000   \n",
       "mean       -0.093731           0.562611          -0.083263       0.207151   \n",
       "std         0.039375           0.109953           0.070059       0.342940   \n",
       "min        -0.100000           0.000000          -0.100000      -0.100000   \n",
       "25%        -0.100000           0.505900          -0.100000      -0.050000   \n",
       "50%        -0.100000           0.544834          -0.100000       0.000000   \n",
       "75%        -0.100000           0.599763          -0.100000       0.555556   \n",
       "max         1.000000           1.000000           1.000000       1.000000   \n",
       "\n",
       "          duplicates  \n",
       "count  259428.000000  \n",
       "mean        0.005678  \n",
       "std         0.075138  \n",
       "min         0.000000  \n",
       "25%         0.000000  \n",
       "50%         0.000000  \n",
       "75%         0.000000  \n",
       "max         1.000000  \n",
       "\n",
       "[8 rows x 21 columns]"
      ]
     },
     "execution_count": 2,
     "metadata": {},
     "output_type": "execute_result"
    }
   ],
   "source": [
    "import os\n",
    "import pandas as pd\n",
    "import bz2\n",
    "import _pickle as cPickle\n",
    "\n",
    "path_goldstandard = './daten_goldstandard'\n",
    "\n",
    "# Restore results so far\n",
    "df_labelled_feature_matrix = pd.read_pickle(os.path.join(path_goldstandard,\n",
    "                                                         'labelled_feature_matrix.pkl'),\n",
    "                                 compression=None)\n",
    "\n",
    "# Restore DataFrame with features from compressed pickle file\n",
    "with bz2.BZ2File((os.path.join(\n",
    "    path_goldstandard, 'labelled_feature_matrix_full.pkl')), 'rb') as file:\n",
    "    df_attribute_with_sim_feature = cPickle.load(file)\n",
    "\n",
    "df_labelled_feature_matrix.describe()"
   ]
  },
  {
   "cell_type": "code",
   "execution_count": 3,
   "metadata": {},
   "outputs": [
    {
     "name": "stdout",
     "output_type": "stream",
     "text": [
      "Part of duplicates (1) on uniques (0) in units of [%]\n",
      "0    99.43\n",
      "1     0.57\n",
      "Name: duplicates, dtype: float64\n"
     ]
    }
   ],
   "source": [
    "print('Part of duplicates (1) on uniques (0) in units of [%]')\n",
    "print(round(df_labelled_feature_matrix.duplicates.value_counts(normalize=True)*100, 2))"
   ]
  },
  {
   "cell_type": "markdown",
   "metadata": {},
   "source": [
    "## Neural Network Implementation"
   ]
  },
  {
   "cell_type": "markdown",
   "metadata": {},
   "source": [
    "The Neural Network implementation to be used will consist of two different architectures. The first architecture will implement a network with one and the second architecture will implement a network with two hidden layers. The accuracy scores of the two architectures will be compared and the best model will be taken to the summary chapter for comparison with the results of the models so far."
   ]
  },
  {
   "cell_type": "markdown",
   "metadata": {},
   "source": [
    "### Train/Test Split"
   ]
  },
  {
   "cell_type": "markdown",
   "metadata": {},
   "source": [
    "The loaded data has to be split into two data subsets, one for training and a smaller one for testing data. The implementation below will use cross-validation. Therefore, a validation data subset will be done by the implementation and is not needed explicitly."
   ]
  },
  {
   "cell_type": "code",
   "execution_count": 4,
   "metadata": {},
   "outputs": [
    {
     "data": {
      "text/plain": [
       "(array([[-0.1       , -0.1       , -0.05      , -0.1       , -0.1       ,\n",
       "          0.25      ,  0.        ,  0.42857143,  0.        , -0.1       ,\n",
       "          0.16666667, -0.1       , -0.05      , -0.05      ,  0.53888889,\n",
       "          0.47991021, -0.1       ,  0.59978811, -0.1       ,  0.78333333],\n",
       "        [-0.1       , -0.1       , -0.1       , -0.1       , -0.1       ,\n",
       "          0.4375    ,  0.        ,  0.11111111,  1.        , -0.1       ,\n",
       "         -0.05      , -0.1       ,  1.        ,  0.57605284,  0.59184563,\n",
       "          0.41919192, -0.1       ,  0.7332472 , -0.1       ,  0.        ],\n",
       "        [-0.1       , -0.1       ,  0.05      , -0.1       , -0.1       ,\n",
       "          0.25      ,  1.        ,  1.        ,  1.        , -0.1       ,\n",
       "         -0.1       , -0.1       , -0.05      ,  0.52608873,  0.61453149,\n",
       "          0.41568627, -0.1       ,  0.51855227, -0.1       ,  0.        ],\n",
       "        [-0.1       , -0.1       , -0.1       , -0.1       , -0.1       ,\n",
       "          0.5       ,  1.        ,  0.42857143,  0.        , -0.1       ,\n",
       "         -0.1       ,  0.61111111,  0.55357143, -0.05      ,  0.49804219,\n",
       "         -0.05      , -0.1       ,  0.64228804, -0.1       ,  0.51111111],\n",
       "        [-0.1       , -0.1       , -0.1       , -0.1       , -0.1       ,\n",
       "          0.25      ,  1.        ,  0.42857143,  0.        , -0.1       ,\n",
       "         -0.1       ,  0.        , -0.1       , -0.05      ,  0.50943557,\n",
       "          0.45171958, -0.1       ,  0.6121175 , -0.1       ,  0.        ]]),\n",
       " array([0, 0, 0, 0, 0]),\n",
       " array([  7686, 251455, 121736,  30480, 184004]))"
      ]
     },
     "execution_count": 4,
     "metadata": {},
     "output_type": "execute_result"
    }
   ],
   "source": [
    "import classifier_fitting_funcs as cff\n",
    "\n",
    "X_tr, _, X_te, y_tr, _, y_te, idx_tr, _, idx_te = cff.split_feature_target(\n",
    "    df_labelled_feature_matrix, 'train_test')\n",
    "\n",
    "X_tr[:5], y_tr[:5], idx_tr[:5]"
   ]
  },
  {
   "cell_type": "code",
   "execution_count": 5,
   "metadata": {},
   "outputs": [
    {
     "name": "stdout",
     "output_type": "stream",
     "text": [
      "(207542, 20) (207542,) (51886, 20) (51886,)\n"
     ]
    }
   ],
   "source": [
    "print(X_tr.shape, y_tr.shape, X_te.shape, y_te.shape)"
   ]
  },
  {
   "cell_type": "markdown",
   "metadata": {},
   "source": [
    "### Model Training"
   ]
  },
  {
   "cell_type": "markdown",
   "metadata": {},
   "source": [
    "For more flexibility in the implementation, a special function has been written that takes the parameter dictionary of the grid space as argument and builds up the layers of the network according to the input. The network architecture can be chosen with a first hidden layer with dropout, an optional second hidden and an output layer. The code of the following function does the construction job and returns the required model to the calling code."
   ]
  },
  {
   "cell_type": "code",
   "execution_count": 6,
   "metadata": {},
   "outputs": [
    {
     "name": "stderr",
     "output_type": "stream",
     "text": [
      "Using TensorFlow backend.\n"
     ]
    }
   ],
   "source": [
    "from keras.models import Sequential\n",
    "from keras.layers import Dense, Dropout\n",
    "from keras.initializers import VarianceScaling\n",
    "from keras.regularizers import l2\n",
    "from keras.optimizers import SGD, Adam\n",
    "\n",
    "def build_and_compile_nn(params):\n",
    "    # Input layer\n",
    "    hidden1 = Dense(\n",
    "#        12, # Number of units for hidden layer\n",
    "        params['number_of_hidden1_layers'], # Number of units for hidden layer\n",
    "        input_shape=(X_tr.shape[1],),\n",
    "        activation='relu',\n",
    "        kernel_initializer=VarianceScaling(scale=2.0, seed=0),\n",
    "        kernel_regularizer=l2(params['l2_alpha']),\n",
    "        bias_initializer='zeros'\n",
    "    )\n",
    "\n",
    "    # With dropout layer\n",
    "    dropout = Dropout(\n",
    "        rate=params['dropout_rate'],\n",
    "        seed=0\n",
    "    )\n",
    "\n",
    "    if params['number_of_hidden2_layers'] > 0 :\n",
    "        hidden2 = Dense(\n",
    "    #        12, # Number of units for hidden layer\n",
    "            params['number_of_hidden2_layers'], # Number of units for hidden layer\n",
    "            input_shape=(params['number_of_hidden1_layers'],),\n",
    "            activation='relu',\n",
    "            kernel_initializer=VarianceScaling(scale=2.0, seed=0),\n",
    "            kernel_regularizer=l2(params['l2_alpha']),\n",
    "            bias_initializer='zeros'\n",
    "        )\n",
    "\n",
    "    # Output layer\n",
    "    output = Dense(\n",
    "        2,\n",
    "    #    activation='sigmoid', # Bring out 0 or 1 values\n",
    "        activation='softmax', # Bring out 0 or 1 values\n",
    "        kernel_initializer=VarianceScaling(scale=1, seed=0),\n",
    "        kernel_regularizer=l2(params['l2_alpha']),\n",
    "        bias_initializer='zeros'\n",
    "    )\n",
    "\n",
    "    # Create model with sequential API\n",
    "    model = Sequential()\n",
    "    model.add( hidden1 ) # Hidden layer 1\n",
    "    model.add( dropout ) # Dropout\n",
    "    if params['number_of_hidden2_layers'] > 0 :\n",
    "        model.add( hidden2 ) # Hidden layer 2\n",
    "    model.add( output ) # Output layer\n",
    "\n",
    "    # The optimizer is to be SGD\n",
    "    #sgd = SGD(lr=params['sgd_learnrate'])\n",
    "    model_optimizer = Adam(lr=params['sgd_learnrate'])\n",
    "\n",
    "    # Compile model\n",
    "    model.compile(\n",
    "        loss='categorical_crossentropy',\n",
    "        optimizer=model_optimizer,\n",
    "        metrics=['accuracy']\n",
    "    #    metrics=['categorical_accuracy']\n",
    "    )\n",
    "\n",
    "    return model"
   ]
  },
  {
   "cell_type": "markdown",
   "metadata": {},
   "source": [
    "The accuracy score will be plotted for each model to be calculated. The repeatedly used plotting function has been implemented in the separate function below."
   ]
  },
  {
   "cell_type": "code",
   "execution_count": 7,
   "metadata": {},
   "outputs": [],
   "source": [
    "import matplotlib.pyplot as plt\n",
    "\n",
    "def plot_result(history, params):\n",
    "    plt.plot(history.history['accuracy'], label='training accuracy')\n",
    "    plt.plot(history.history['val_accuracy'], label='validation accuracy')\n",
    "    plt.legend()\n",
    "    plt.title(r'Bilayer neural network with lr = {} and $\\alpha=${}'.format(\n",
    "        params['sgd_learnrate'], params['l2_alpha'])\n",
    "    )\n",
    "    plt.xlabel('epoch')\n",
    "    plt.ylim(0.99, 1.0) # Fix scale on y-axis for comparability\n",
    "    plt.ylabel('accuracy')\n",
    "    plt.show()\n",
    "    \n",
    "    return"
   ]
  },
  {
   "cell_type": "markdown",
   "metadata": {},
   "source": [
    "After the two function implementations, the parameter grid can be set up. The parameter grid space is controlled by the global parameter $\\texttt{execution}\\_\\texttt{mode}$ that can be set by an outside caller of the notebook. The speciality of the parameter grid below is that it holds a parameter for controlling the network architecture. If $\\texttt{number}\\_\\texttt{of}\\_\\texttt{hidden2}\\_\\texttt{layers}=0$, the Neural Network will consist of one single hidden layer. On the other hand, in case of a parameter value $\\texttt{number}\\_\\texttt{of}\\_\\texttt{hidden2}\\_\\texttt{layers}>0$, the Neural Network will be built with a second hidden layer where the specific parameter value controls the number of nodes of this second layer."
   ]
  },
  {
   "cell_type": "code",
   "execution_count": 8,
   "metadata": {},
   "outputs": [
    {
     "name": "stdout",
     "output_type": "stream",
     "text": [
      "The grid parameters are ...\n",
      "l2_alpha [0.0]\n",
      "sgd_learnrate [0.002]\n",
      "dropout_rate [0.1]\n",
      "class_weight [None, array([ 0.50285418, 88.09083192])]\n",
      "number_of_hidden1_layers [40, 60]\n",
      "number_of_hidden2_layers [0, 70]\n",
      " => Number of combinations : 8\n"
     ]
    }
   ],
   "source": [
    "from sklearn.utils import class_weight\n",
    "import numpy as np\n",
    "\n",
    "# If class_weight = 'balanced' is needed, this is the value it is set to.\n",
    "class_weights = class_weight.compute_class_weight('balanced', np.unique(y_tr), y_tr)\n",
    "\n",
    "if execution_mode == 'full' :\n",
    "    parameter_dictionary = {\n",
    "        'l2_alpha' : [0.0#, 0.01, 0.05, 0.1, 0.5\n",
    "                     ],\n",
    "        # As soon as a l2_alpha > 0 comes in, the network does not converge anymore.\n",
    "        #  => Go on with l2_alpha = 0, only.\n",
    "        'sgd_learnrate' : [0.001, 0.002, 0.003],\n",
    "        # A learning rate of 0.001 and slightly slower gives good results.\n",
    "        'dropout_rate' : [#0.0, \n",
    "            0.1#, 0.2\n",
    "        ],\n",
    "        'class_weight' : [#None, \n",
    "            class_weights],\n",
    "        'number_of_hidden1_layers' : [#2, 8, 15, 20, 25, 40, 45, 50, 55, 60, 65, 70, 75\n",
    "            10, 20, 40, 80],\n",
    "        # A number of hidden layers of 2 is too small. The bigger the number of hidden layers,\n",
    "        #  the slower the learning rate. There are 20 features.\n",
    "        'number_of_hidden2_layers' : [#0, 45, 50, 55, 60\n",
    "            0, 10, 20, 40, 80]\n",
    "    }\n",
    "elif execution_mode == 'restricted' :\n",
    "    parameter_dictionary = {\n",
    "        'l2_alpha' : [0.0],\n",
    "        'sgd_learnrate' : [0.002],\n",
    "        'dropout_rate' : [0.1],\n",
    "        'class_weight' : [None, class_weights],\n",
    "        'number_of_hidden1_layers' : [40, 60],\n",
    "        'number_of_hidden2_layers' : [0, 70]\n",
    "    }\n",
    "\n",
    "# Grid of values for nn with 1 hidden layer\n",
    "grid = cff.generate_parameter_grid(parameter_dictionary)"
   ]
  },
  {
   "cell_type": "markdown",
   "metadata": {},
   "source": [
    "At this point, all the code needed for building and training the network is ready. The following code cell makes use of the code and trains the networks according to their parameters of the grid dictionary. The result is shown below."
   ]
  },
  {
   "cell_type": "code",
   "execution_count": 9,
   "metadata": {
    "scrolled": false
   },
   "outputs": [
    {
     "name": "stdout",
     "output_type": "stream",
     "text": [
      "WARNING:tensorflow:From /Users/andreas/anaconda3/lib/python3.7/site-packages/tensorflow_core/python/ops/resource_variable_ops.py:1630: calling BaseResourceVariable.__init__ (from tensorflow.python.ops.resource_variable_ops) with constraint is deprecated and will be removed in a future version.\n",
      "Instructions for updating:\n",
      "If using Keras pass *_constraint arguments to layers.\n"
     ]
    },
    {
     "name": "stdout",
     "output_type": "stream",
     "text": [
      "Fitting with parameters {'class_weight': None, 'dropout_rate': 0.1, 'l2_alpha': 0.0, 'number_of_hidden1_layers': 40, 'number_of_hidden2_layers': 0, 'sgd_learnrate': 0.002}\n"
     ]
    },
    {
     "name": "stdout",
     "output_type": "stream",
     "text": [
      "WARNING:tensorflow:From /Users/andreas/anaconda3/lib/python3.7/site-packages/keras/backend/tensorflow_backend.py:422: The name tf.global_variables is deprecated. Please use tf.compat.v1.global_variables instead.\n",
      "\n"
     ]
    },
    {
     "name": "stdout",
     "output_type": "stream",
     "text": [
      " => validation score 99.885%\n"
     ]
    },
    {
     "data": {
      "image/png": "[encoded data removed]",
      "text/plain": [
       "<Figure size 432x288 with 1 Axes>"
      ]
     },
     "metadata": {
      "needs_background": "light"
     },
     "output_type": "display_data"
    },
    {
     "name": "stdout",
     "output_type": "stream",
     "text": [
      "--- 217.21147108078003 seconds ---\n",
      "Fitting with parameters {'class_weight': None, 'dropout_rate': 0.1, 'l2_alpha': 0.0, 'number_of_hidden1_layers': 40, 'number_of_hidden2_layers': 70, 'sgd_learnrate': 0.002}\n"
     ]
    },
    {
     "name": "stdout",
     "output_type": "stream",
     "text": [
      " => validation score 99.901%\n"
     ]
    },
    {
     "data": {
      "image/png": "[encoded data removed]",
      "text/plain": [
       "<Figure size 432x288 with 1 Axes>"
      ]
     },
     "metadata": {
      "needs_background": "light"
     },
     "output_type": "display_data"
    },
    {
     "name": "stdout",
     "output_type": "stream",
     "text": [
      "--- 484.5146789550781 seconds ---\n"
     ]
    },
    {
     "name": "stdout",
     "output_type": "stream",
     "text": [
      "Fitting with parameters {'class_weight': None, 'dropout_rate': 0.1, 'l2_alpha': 0.0, 'number_of_hidden1_layers': 60, 'number_of_hidden2_layers': 0, 'sgd_learnrate': 0.002}\n"
     ]
    },
    {
     "name": "stdout",
     "output_type": "stream",
     "text": [
      " => validation score 99.892%\n"
     ]
    },
    {
     "data": {
      "image/png": "[encoded data removed]",
      "text/plain": [
       "<Figure size 432x288 with 1 Axes>"
      ]
     },
     "metadata": {
      "needs_background": "light"
     },
     "output_type": "display_data"
    },
    {
     "name": "stdout",
     "output_type": "stream",
     "text": [
      "--- 720.7218730449677 seconds ---\n"
     ]
    },
    {
     "name": "stdout",
     "output_type": "stream",
     "text": [
      "Fitting with parameters {'class_weight': None, 'dropout_rate': 0.1, 'l2_alpha': 0.0, 'number_of_hidden1_layers': 60, 'number_of_hidden2_layers': 70, 'sgd_learnrate': 0.002}\n"
     ]
    },
    {
     "name": "stdout",
     "output_type": "stream",
     "text": [
      " => validation score 99.899%\n"
     ]
    },
    {
     "data": {
      "image/png": "[encoded data removed]",
      "text/plain": [
       "<Figure size 432x288 with 1 Axes>"
      ]
     },
     "metadata": {
      "needs_background": "light"
     },
     "output_type": "display_data"
    },
    {
     "name": "stdout",
     "output_type": "stream",
     "text": [
      "--- 1006.7997081279755 seconds ---\n"
     ]
    },
    {
     "name": "stdout",
     "output_type": "stream",
     "text": [
      "Fitting with parameters {'class_weight': array([ 0.50285418, 88.09083192]), 'dropout_rate': 0.1, 'l2_alpha': 0.0, 'number_of_hidden1_layers': 40, 'number_of_hidden2_layers': 0, 'sgd_learnrate': 0.002}\n"
     ]
    },
    {
     "name": "stdout",
     "output_type": "stream",
     "text": [
      " => validation score 99.888%\n"
     ]
    },
    {
     "data": {
      "image/png": "[encoded data removed]",
      "text/plain": [
       "<Figure size 432x288 with 1 Axes>"
      ]
     },
     "metadata": {
      "needs_background": "light"
     },
     "output_type": "display_data"
    },
    {
     "name": "stdout",
     "output_type": "stream",
     "text": [
      "--- 1228.6436071395874 seconds ---\n"
     ]
    },
    {
     "name": "stdout",
     "output_type": "stream",
     "text": [
      "Fitting with parameters {'class_weight': array([ 0.50285418, 88.09083192]), 'dropout_rate': 0.1, 'l2_alpha': 0.0, 'number_of_hidden1_layers': 40, 'number_of_hidden2_layers': 70, 'sgd_learnrate': 0.002}\n"
     ]
    },
    {
     "name": "stdout",
     "output_type": "stream",
     "text": [
      " => validation score 99.904%\n"
     ]
    },
    {
     "data": {
      "image/png": "[encoded data removed]",
      "text/plain": [
       "<Figure size 432x288 with 1 Axes>"
      ]
     },
     "metadata": {
      "needs_background": "light"
     },
     "output_type": "display_data"
    },
    {
     "name": "stdout",
     "output_type": "stream",
     "text": [
      "--- 1508.4283320903778 seconds ---\n"
     ]
    },
    {
     "name": "stdout",
     "output_type": "stream",
     "text": [
      "Fitting with parameters {'class_weight': array([ 0.50285418, 88.09083192]), 'dropout_rate': 0.1, 'l2_alpha': 0.0, 'number_of_hidden1_layers': 60, 'number_of_hidden2_layers': 0, 'sgd_learnrate': 0.002}\n"
     ]
    },
    {
     "name": "stdout",
     "output_type": "stream",
     "text": [
      " => validation score 99.892%\n"
     ]
    },
    {
     "data": {
      "image/png": "[encoded data removed]",
      "text/plain": [
       "<Figure size 432x288 with 1 Axes>"
      ]
     },
     "metadata": {
      "needs_background": "light"
     },
     "output_type": "display_data"
    },
    {
     "name": "stdout",
     "output_type": "stream",
     "text": [
      "--- 1749.5534131526947 seconds ---\n"
     ]
    },
    {
     "name": "stdout",
     "output_type": "stream",
     "text": [
      "Fitting with parameters {'class_weight': array([ 0.50285418, 88.09083192]), 'dropout_rate': 0.1, 'l2_alpha': 0.0, 'number_of_hidden1_layers': 60, 'number_of_hidden2_layers': 70, 'sgd_learnrate': 0.002}\n"
     ]
    },
    {
     "name": "stdout",
     "output_type": "stream",
     "text": [
      " => validation score 99.902%\n"
     ]
    },
    {
     "data": {
      "image/png": "[encoded data removed]",
      "text/plain": [
       "<Figure size 432x288 with 1 Axes>"
      ]
     },
     "metadata": {
      "needs_background": "light"
     },
     "output_type": "display_data"
    },
    {
     "name": "stdout",
     "output_type": "stream",
     "text": [
      "--- 2052.7530941963196 seconds ---\n"
     ]
    }
   ],
   "source": [
    "from keras.utils import to_categorical\n",
    "import numpy as np\n",
    "\n",
    "import time\n",
    "start_time = time.time()\n",
    "\n",
    "# Save accuracy on test set\n",
    "no_last = 5 # Take the last 5 due to the upwards shape of the curve at its end\n",
    "test_scores = []\n",
    "\n",
    "# Parameters for fitting with batches and epochs\n",
    "epochs = 100\n",
    "batch_size = 320 # Default batch_size = 32\n",
    "# Playing around with batch sizes of [3, 30, None=32, 320, 3200] shows the effect\n",
    "#  that the bigger the size, the faster the calculation performance,\n",
    "#  ... the worse the convergence. => Batch size has effect of learning rate.\n",
    "# 320 seems to be the perfect value.\n",
    "\n",
    "for params_dict in grid :\n",
    "\n",
    "    model = build_and_compile_nn(params_dict)\n",
    "    \n",
    "    print('Fitting with parameters', params_dict)\n",
    "    # Fit the model\n",
    "    history = model.fit(\n",
    "        x=X_tr, y=to_categorical(y_tr),\n",
    "        batch_size=batch_size, \n",
    "        epochs=epochs,\n",
    "        validation_data=(X_te, to_categorical(y_te)),\n",
    "        class_weight=params_dict['class_weight']\n",
    "        , verbose=0\n",
    "    )\n",
    "\n",
    "    # Save accuracy on train set and validation set\n",
    "    params_dict['accuracy_tr'] = np.mean(history.history['accuracy'][-no_last:])\n",
    "    params_dict['accuracy_val'] = np.mean(history.history['val_accuracy'][-no_last:])\n",
    "    params_dict['log_accuracy_tr'] = -np.log(1-np.mean(history.history['accuracy'][-no_last:]))\n",
    "    params_dict['log_accuracy_val'] = -np.log(1-np.mean(history.history['val_accuracy'][-no_last:]))\n",
    "\n",
    "    print(' => validation score {:.3f}%'.format(100*params_dict['accuracy_val']))\n",
    "    # Save result\n",
    "    test_scores.append(params_dict)\n",
    "    \n",
    "    plot_result(history, params_dict)\n",
    "    print(\"--- %s seconds ---\" % (time.time() - start_time))\n",
    "    \n",
    "# Save measured accuracies\n",
    "df_test_scores_nn = pd.DataFrame(test_scores).sort_values('accuracy_val', ascending=False)"
   ]
  },
  {
   "cell_type": "code",
   "execution_count": 10,
   "metadata": {
    "scrolled": true
   },
   "outputs": [
    {
     "data": {
      "text/html": [
       "<div>\n",
       "<style scoped>\n",
       "    .dataframe tbody tr th:only-of-type {\n",
       "        vertical-align: middle;\n",
       "    }\n",
       "\n",
       "    .dataframe tbody tr th {\n",
       "        vertical-align: top;\n",
       "    }\n",
       "\n",
       "    .dataframe thead th {\n",
       "        text-align: right;\n",
       "    }\n",
       "</style>\n",
       "<table border=\"1\" class=\"dataframe\">\n",
       "  <thead>\n",
       "    <tr style=\"text-align: right;\">\n",
       "      <th></th>\n",
       "      <th>class_weight</th>\n",
       "      <th>dropout_rate</th>\n",
       "      <th>l2_alpha</th>\n",
       "      <th>number_of_hidden1_layers</th>\n",
       "      <th>number_of_hidden2_layers</th>\n",
       "      <th>sgd_learnrate</th>\n",
       "      <th>accuracy_tr</th>\n",
       "      <th>accuracy_val</th>\n",
       "      <th>log_accuracy_tr</th>\n",
       "      <th>log_accuracy_val</th>\n",
       "    </tr>\n",
       "  </thead>\n",
       "  <tbody>\n",
       "    <tr>\n",
       "      <th>5</th>\n",
       "      <td>[0.5028541799926344, 88.09083191850594]</td>\n",
       "      <td>0.1</td>\n",
       "      <td>0.0</td>\n",
       "      <td>40</td>\n",
       "      <td>70</td>\n",
       "      <td>0.002</td>\n",
       "      <td>0.999237</td>\n",
       "      <td>0.999044</td>\n",
       "      <td>7.177941</td>\n",
       "      <td>6.952816</td>\n",
       "    </tr>\n",
       "    <tr>\n",
       "      <th>7</th>\n",
       "      <td>[0.5028541799926344, 88.09083191850594]</td>\n",
       "      <td>0.1</td>\n",
       "      <td>0.0</td>\n",
       "      <td>60</td>\n",
       "      <td>70</td>\n",
       "      <td>0.002</td>\n",
       "      <td>0.999290</td>\n",
       "      <td>0.999021</td>\n",
       "      <td>7.249979</td>\n",
       "      <td>6.928912</td>\n",
       "    </tr>\n",
       "    <tr>\n",
       "      <th>1</th>\n",
       "      <td>None</td>\n",
       "      <td>0.1</td>\n",
       "      <td>0.0</td>\n",
       "      <td>40</td>\n",
       "      <td>70</td>\n",
       "      <td>0.002</td>\n",
       "      <td>0.999225</td>\n",
       "      <td>0.999009</td>\n",
       "      <td>7.162982</td>\n",
       "      <td>6.917182</td>\n",
       "    </tr>\n",
       "    <tr>\n",
       "      <th>3</th>\n",
       "      <td>None</td>\n",
       "      <td>0.1</td>\n",
       "      <td>0.0</td>\n",
       "      <td>60</td>\n",
       "      <td>70</td>\n",
       "      <td>0.002</td>\n",
       "      <td>0.999263</td>\n",
       "      <td>0.998990</td>\n",
       "      <td>7.212665</td>\n",
       "      <td>6.897910</td>\n",
       "    </tr>\n",
       "    <tr>\n",
       "      <th>6</th>\n",
       "      <td>[0.5028541799926344, 88.09083191850594]</td>\n",
       "      <td>0.1</td>\n",
       "      <td>0.0</td>\n",
       "      <td>60</td>\n",
       "      <td>0</td>\n",
       "      <td>0.002</td>\n",
       "      <td>0.999078</td>\n",
       "      <td>0.998925</td>\n",
       "      <td>6.988745</td>\n",
       "      <td>6.835030</td>\n",
       "    </tr>\n",
       "    <tr>\n",
       "      <th>2</th>\n",
       "      <td>None</td>\n",
       "      <td>0.1</td>\n",
       "      <td>0.0</td>\n",
       "      <td>60</td>\n",
       "      <td>0</td>\n",
       "      <td>0.002</td>\n",
       "      <td>0.999070</td>\n",
       "      <td>0.998917</td>\n",
       "      <td>6.980378</td>\n",
       "      <td>6.827884</td>\n",
       "    </tr>\n",
       "    <tr>\n",
       "      <th>4</th>\n",
       "      <td>[0.5028541799926344, 88.09083191850594]</td>\n",
       "      <td>0.1</td>\n",
       "      <td>0.0</td>\n",
       "      <td>40</td>\n",
       "      <td>0</td>\n",
       "      <td>0.002</td>\n",
       "      <td>0.999036</td>\n",
       "      <td>0.998878</td>\n",
       "      <td>6.944743</td>\n",
       "      <td>6.792910</td>\n",
       "    </tr>\n",
       "    <tr>\n",
       "      <th>0</th>\n",
       "      <td>None</td>\n",
       "      <td>0.1</td>\n",
       "      <td>0.0</td>\n",
       "      <td>40</td>\n",
       "      <td>0</td>\n",
       "      <td>0.002</td>\n",
       "      <td>0.998996</td>\n",
       "      <td>0.998851</td>\n",
       "      <td>6.903664</td>\n",
       "      <td>6.769145</td>\n",
       "    </tr>\n",
       "  </tbody>\n",
       "</table>\n",
       "</div>"
      ],
      "text/plain": [
       "                              class_weight  dropout_rate  l2_alpha  \\\n",
       "5  [0.5028541799926344, 88.09083191850594]           0.1       0.0   \n",
       "7  [0.5028541799926344, 88.09083191850594]           0.1       0.0   \n",
       "1                                     None           0.1       0.0   \n",
       "3                                     None           0.1       0.0   \n",
       "6  [0.5028541799926344, 88.09083191850594]           0.1       0.0   \n",
       "2                                     None           0.1       0.0   \n",
       "4  [0.5028541799926344, 88.09083191850594]           0.1       0.0   \n",
       "0                                     None           0.1       0.0   \n",
       "\n",
       "   number_of_hidden1_layers  number_of_hidden2_layers  sgd_learnrate  \\\n",
       "5                        40                        70          0.002   \n",
       "7                        60                        70          0.002   \n",
       "1                        40                        70          0.002   \n",
       "3                        60                        70          0.002   \n",
       "6                        60                         0          0.002   \n",
       "2                        60                         0          0.002   \n",
       "4                        40                         0          0.002   \n",
       "0                        40                         0          0.002   \n",
       "\n",
       "   accuracy_tr  accuracy_val  log_accuracy_tr  log_accuracy_val  \n",
       "5     0.999237      0.999044         7.177941          6.952816  \n",
       "7     0.999290      0.999021         7.249979          6.928912  \n",
       "1     0.999225      0.999009         7.162982          6.917182  \n",
       "3     0.999263      0.998990         7.212665          6.897910  \n",
       "6     0.999078      0.998925         6.988745          6.835030  \n",
       "2     0.999070      0.998917         6.980378          6.827884  \n",
       "4     0.999036      0.998878         6.944743          6.792910  \n",
       "0     0.998996      0.998851         6.903664          6.769145  "
      ]
     },
     "execution_count": 10,
     "metadata": {},
     "output_type": "execute_result"
    }
   ],
   "source": [
    "pd.set_option(\"display.max_rows\", len(grid))\n",
    "\n",
    "pd.DataFrame(test_scores).sort_values('accuracy_val', ascending=False)"
   ]
  },
  {
   "cell_type": "markdown",
   "metadata": {},
   "source": [
    "With the DataFrame of the scoring results, the best Neural Network can be assessed. The parameters for the best classifier can be seen below and a new training process with a high number of epochs will be started."
   ]
  },
  {
   "cell_type": "code",
   "execution_count": 11,
   "metadata": {},
   "outputs": [
    {
     "name": "stdout",
     "output_type": "stream",
     "text": [
      "The parameters for the best model are ...\n",
      "l2_alpha = 0.0\n",
      "sgd_learnrate = 0.002\n",
      "dropout_rate = 0.1\n",
      "class_weight = [ 0.50285418 88.09083192]\n",
      "number_of_hidden1_layers = 40\n",
      "number_of_hidden2_layers = 70\n"
     ]
    },
    {
     "data": {
      "image/png": "[encoded data removed]",
      "text/plain": [
       "<Figure size 432x288 with 1 Axes>"
      ]
     },
     "metadata": {
      "needs_background": "light"
     },
     "output_type": "display_data"
    }
   ],
   "source": [
    "best_params = cff.get_best_parameters(test_scores, parameter_dictionary)\n",
    "\n",
    "model_best = build_and_compile_nn(best_params)\n",
    "\n",
    "# Check Model configuration\n",
    "model_best.get_config()\n",
    "\n",
    "# Parameters for fitting with batches and epochs\n",
    "epochs = 300\n",
    "batch_size = 320\n",
    "\n",
    "# Fit the model\n",
    "history_best = model_best.fit(\n",
    "    x=X_tr, y=to_categorical(y_tr),\n",
    "    batch_size=batch_size, epochs=epochs,\n",
    "    validation_data=(X_te, to_categorical(y_te))\n",
    "    , verbose=0\n",
    ")\n",
    "\n",
    "plot_result(history_best, best_params)"
   ]
  },
  {
   "cell_type": "markdown",
   "metadata": {},
   "source": [
    "The accuracy scores of the last $\\texttt{no}\\_\\texttt{last}$ validation measurements shall be printed for the best long run trained Neural Network."
   ]
  },
  {
   "cell_type": "code",
   "execution_count": 12,
   "metadata": {},
   "outputs": [
    {
     "name": "stdout",
     "output_type": "stream",
     "text": [
      "Mean last 5 validation accuracy : 99.918%\n"
     ]
    },
    {
     "name": "stdout",
     "output_type": "stream",
     "text": [
      "Neural network accuracy (test set): 99.913%\n"
     ]
    }
   ],
   "source": [
    "no_last = 5 # I take the last 5 due to the upwards shape of the curve at its end\n",
    "\n",
    "print('Mean last {:d} validation accuracy : {:.3f}%'.format(\n",
    "    no_last, 100*np.mean(history_best.history['val_accuracy'][-no_last:])\n",
    "))\n",
    "\n",
    "print('Neural network accuracy (test set): {:.3f}%'.format(\n",
    "    100*model.evaluate(X_te, to_categorical(y_te),\n",
    "                   verbose=0)[1] # Loss is at index=0, accuracy at index=1\n",
    "))"
   ]
  },
  {
   "cell_type": "markdown",
   "metadata": {},
   "source": [
    "The architecture of the best model is shown in the following output cell."
   ]
  },
  {
   "cell_type": "code",
   "execution_count": 13,
   "metadata": {},
   "outputs": [
    {
     "data": {
      "image/png": "[encoded data removed]",
      "text/plain": [
       "<IPython.core.display.Image object>"
      ]
     },
     "execution_count": 13,
     "metadata": {},
     "output_type": "execute_result"
    }
   ],
   "source": [
    "from keras.utils import plot_model\n",
    "\n",
    "path_model_graphics = './documentation'\n",
    "model_png = os.path.join(path_model_graphics,'model.png')\n",
    "\n",
    "plot_model(model_best, show_shapes=True, dpi=72, to_file=model_png)"
   ]
  },
  {
   "cell_type": "markdown",
   "metadata": {},
   "source": [
    "### General Observations"
   ]
  },
  {
   "cell_type": "markdown",
   "metadata": {},
   "source": [
    "For the models trained above, some general observations can be expressed.\n",
    "- The validation curves in the plots above lay below the training curves. This is an indicator of a valid model behaviour.\n",
    "- The curves of the validation accuracy above show the behaviour of approaching their constant maximum value only very slowly. A very high number of epochs is needed to reach the maximum value of the validation accuracy. Some simulation have been done in the course of the project with a number of epochs of 500. Even with this high number of epochs, there could still be seen a slight slope in the validation accurace, indicating that the model was still learning and improving. The validation accuracy has never surpassed a value of 99.93%, though. The latter observation led to the conviction that the accuracy of the model would not be increased significantly, increasing the number of epochs even to a value higher than 500.\n",
    "- Although the best estimator model has an architecture with a second hidden layer, one hidden layer is sufficient. Adding a second hidden layer to the Neural Network does not raise the quality of the model essentially."
   ]
  },
  {
   "cell_type": "markdown",
   "metadata": {},
   "source": [
    "### Performance Measurement"
   ]
  },
  {
   "cell_type": "markdown",
   "metadata": {},
   "source": [
    "The performance measurement of the best model has been described in chapter [Decision Tree Model](./6_DecisionTreeModel.ipynb) and is shown without any further comment."
   ]
  },
  {
   "cell_type": "code",
   "execution_count": 14,
   "metadata": {},
   "outputs": [
    {
     "data": {
      "text/plain": [
       "array([[51565,    26],\n",
       "       [   16,   279]])"
      ]
     },
     "execution_count": 14,
     "metadata": {},
     "output_type": "execute_result"
    }
   ],
   "source": [
    "from sklearn.metrics import confusion_matrix\n",
    "\n",
    "y_pred = model_best.predict_classes(X_te)\n",
    "\n",
    "confusion_matrix(y_te, y_pred)"
   ]
  },
  {
   "cell_type": "code",
   "execution_count": 15,
   "metadata": {},
   "outputs": [
    {
     "name": "stdout",
     "output_type": "stream",
     "text": [
      "\r",
      "   32/51886 [..............................] - ETA: 3s"
     ]
    },
    {
     "name": "stdout",
     "output_type": "stream",
     "text": [
      "\b\b\b\b\b\b\b\b\b\b\b\b\b\b\b\b\b\b\b\b\b\b\b\b\b\b\b\b\b\b\b\b\b\b\b\b\b\b\b\b\b\b\b\b\b\b\b\b\b\b\b\b\b\b\r",
      " 1888/51886 [>.............................] - ETA: 1s"
     ]
    },
    {
     "name": "stdout",
     "output_type": "stream",
     "text": [
      "\b\b\b\b\b\b\b\b\b\b\b\b\b\b\b\b\b\b\b\b\b\b\b\b\b\b\b\b\b\b\b\b\b\b\b\b\b\b\b\b\b\b\b\b\b\b\b\b\b\b\b\b\b\b\r",
      " 3776/51886 [=>............................] - ETA: 1s"
     ]
    },
    {
     "name": "stdout",
     "output_type": "stream",
     "text": [
      "\b\b\b\b\b\b\b\b\b\b\b\b\b\b\b\b\b\b\b\b\b\b\b\b\b\b\b\b\b\b\b\b\b\b\b\b\b\b\b\b\b\b\b\b\b\b\b\b\b\b\b\b\b\b\r",
      " 5632/51886 [==>...........................] - ETA: 1s"
     ]
    },
    {
     "name": "stdout",
     "output_type": "stream",
     "text": [
      "\b\b\b\b\b\b\b\b\b\b\b\b\b\b\b\b\b\b\b\b\b\b\b\b\b\b\b\b\b\b\b\b\b\b\b\b\b\b\b\b\b\b\b\b\b\b\b\b\b\b\b\b\b\b\r",
      " 7392/51886 [===>..........................] - ETA: 1s"
     ]
    },
    {
     "name": "stdout",
     "output_type": "stream",
     "text": [
      "\b\b\b\b\b\b\b\b\b\b\b\b\b\b\b\b\b\b\b\b\b\b\b\b\b\b\b\b\b\b\b\b\b\b\b\b\b\b\b\b\b\b\b\b\b\b\b\b\b\b\b\b\b\b\r",
      " 9312/51886 [====>.........................] - ETA: 1s"
     ]
    },
    {
     "name": "stdout",
     "output_type": "stream",
     "text": [
      "\b\b\b\b\b\b\b\b\b\b\b\b\b\b\b\b\b\b\b\b\b\b\b\b\b\b\b\b\b\b\b\b\b\b\b\b\b\b\b\b\b\b\b\b\b\b\b\b\b\b\b\b\b\b\r",
      "11072/51886 [=====>........................] - ETA: 1s"
     ]
    },
    {
     "name": "stdout",
     "output_type": "stream",
     "text": [
      "\b\b\b\b\b\b\b\b\b\b\b\b\b\b\b\b\b\b\b\b\b\b\b\b\b\b\b\b\b\b\b\b\b\b\b\b\b\b\b\b\b\b\b\b\b\b\b\b\b\b\b\b\b\b\r",
      "12736/51886 [======>.......................] - ETA: 1s"
     ]
    },
    {
     "name": "stdout",
     "output_type": "stream",
     "text": [
      "\b\b\b\b\b\b\b\b\b\b\b\b\b\b\b\b\b\b\b\b\b\b\b\b\b\b\b\b\b\b\b\b\b\b\b\b\b\b\b\b\b\b\b\b\b\b\b\b\b\b\b\b\b\b\r",
      "14240/51886 [=======>......................] - ETA: 1s"
     ]
    },
    {
     "name": "stdout",
     "output_type": "stream",
     "text": [
      "\b\b\b\b\b\b\b\b\b\b\b\b\b\b\b\b\b\b\b\b\b\b\b\b\b\b\b\b\b\b\b\b\b\b\b\b\b\b\b\b\b\b\b\b\b\b\b\b\b\b\b\b\b\b\r",
      "15936/51886 [========>.....................] - ETA: 1s"
     ]
    },
    {
     "name": "stdout",
     "output_type": "stream",
     "text": [
      "\b\b\b\b\b\b\b\b\b\b\b\b\b\b\b\b\b\b\b\b\b\b\b\b\b\b\b\b\b\b\b\b\b\b\b\b\b\b\b\b\b\b\b\b\b\b\b\b\b\b\b\b\b\b\r",
      "17184/51886 [========>.....................] - ETA: 1s"
     ]
    },
    {
     "name": "stdout",
     "output_type": "stream",
     "text": [
      "\b\b\b\b\b\b\b\b\b\b\b\b\b\b\b\b\b\b\b\b\b\b\b\b\b\b\b\b\b\b\b\b\b\b\b\b\b\b\b\b\b\b\b\b\b\b\b\b\b\b\b\b\b\b\r",
      "18848/51886 [=========>....................] - ETA: 0s"
     ]
    },
    {
     "name": "stdout",
     "output_type": "stream",
     "text": [
      "\b\b\b\b\b\b\b\b\b\b\b\b\b\b\b\b\b\b\b\b\b\b\b\b\b\b\b\b\b\b\b\b\b\b\b\b\b\b\b\b\b\b\b\b\b\b\b\b\b\b\b\b\b\b\r",
      "20608/51886 [==========>...................] - ETA: 0s"
     ]
    },
    {
     "name": "stdout",
     "output_type": "stream",
     "text": [
      "\b\b\b\b\b\b\b\b\b\b\b\b\b\b\b\b\b\b\b\b\b\b\b\b\b\b\b\b\b\b\b\b\b\b\b\b\b\b\b\b\b\b\b\b\b\b\b\b\b\b\b\b\b\b\r",
      "22368/51886 [===========>..................] - ETA: 0s"
     ]
    },
    {
     "name": "stdout",
     "output_type": "stream",
     "text": [
      "\b\b\b\b\b\b\b\b\b\b\b\b\b\b\b\b\b\b\b\b\b\b\b\b\b\b\b\b\b\b\b\b\b\b\b\b\b\b\b\b\b\b\b\b\b\b\b\b\b\b\b\b\b\b\r",
      "24192/51886 [============>.................] - ETA: 0s"
     ]
    },
    {
     "name": "stdout",
     "output_type": "stream",
     "text": [
      "\b\b\b\b\b\b\b\b\b\b\b\b\b\b\b\b\b\b\b\b\b\b\b\b\b\b\b\b\b\b\b\b\b\b\b\b\b\b\b\b\b\b\b\b\b\b\b\b\b\b\b\b\b\b\r",
      "26144/51886 [==============>...............] - ETA: 0s"
     ]
    },
    {
     "name": "stdout",
     "output_type": "stream",
     "text": [
      "\b\b\b\b\b\b\b\b\b\b\b\b\b\b\b\b\b\b\b\b\b\b\b\b\b\b\b\b\b\b\b\b\b\b\b\b\b\b\b\b\b\b\b\b\b\b\b\b\b\b\b\b\b\b\r",
      "28064/51886 [===============>..............] - ETA: 0s"
     ]
    },
    {
     "name": "stdout",
     "output_type": "stream",
     "text": [
      "\b\b\b\b\b\b\b\b\b\b\b\b\b\b\b\b\b\b\b\b\b\b\b\b\b\b\b\b\b\b\b\b\b\b\b\b\b\b\b\b\b\b\b\b\b\b\b\b\b\b\b\b\b\b\r",
      "30016/51886 [================>.............] - ETA: 0s"
     ]
    },
    {
     "name": "stdout",
     "output_type": "stream",
     "text": [
      "\b\b\b\b\b\b\b\b\b\b\b\b\b\b\b\b\b\b\b\b\b\b\b\b\b\b\b\b\b\b\b\b\b\b\b\b\b\b\b\b\b\b\b\b\b\b\b\b\b\b\b\b\b\b\r",
      "31616/51886 [=================>............] - ETA: 0s"
     ]
    },
    {
     "name": "stdout",
     "output_type": "stream",
     "text": [
      "\b\b\b\b\b\b\b\b\b\b\b\b\b\b\b\b\b\b\b\b\b\b\b\b\b\b\b\b\b\b\b\b\b\b\b\b\b\b\b\b\b\b\b\b\b\b\b\b\b\b\b\b\b\b\r",
      "33632/51886 [==================>...........] - ETA: 0s"
     ]
    },
    {
     "name": "stdout",
     "output_type": "stream",
     "text": [
      "\b\b\b\b\b\b\b\b\b\b\b\b\b\b\b\b\b\b\b\b\b\b\b\b\b\b\b\b\b\b\b\b\b\b\b\b\b\b\b\b\b\b\b\b\b\b\b\b\b\b\b\b\b\b\r",
      "35520/51886 [===================>..........] - ETA: 0s"
     ]
    },
    {
     "name": "stdout",
     "output_type": "stream",
     "text": [
      "\b\b\b\b\b\b\b\b\b\b\b\b\b\b\b\b\b\b\b\b\b\b\b\b\b\b\b\b\b\b\b\b\b\b\b\b\b\b\b\b\b\b\b\b\b\b\b\b\b\b\b\b\b\b\r",
      "37568/51886 [====================>.........] - ETA: 0s"
     ]
    },
    {
     "name": "stdout",
     "output_type": "stream",
     "text": [
      "\b\b\b\b\b\b\b\b\b\b\b\b\b\b\b\b\b\b\b\b\b\b\b\b\b\b\b\b\b\b\b\b\b\b\b\b\b\b\b\b\b\b\b\b\b\b\b\b\b\b\b\b\b\b\r",
      "39136/51886 [=====================>........] - ETA: 0s"
     ]
    },
    {
     "name": "stdout",
     "output_type": "stream",
     "text": [
      "\b\b\b\b\b\b\b\b\b\b\b\b\b\b\b\b\b\b\b\b\b\b\b\b\b\b\b\b\b\b\b\b\b\b\b\b\b\b\b\b\b\b\b\b\b\b\b\b\b\b\b\b\b\b\r",
      "40992/51886 [======================>.......] - ETA: 0s"
     ]
    },
    {
     "name": "stdout",
     "output_type": "stream",
     "text": [
      "\b\b\b\b\b\b\b\b\b\b\b\b\b\b\b\b\b\b\b\b\b\b\b\b\b\b\b\b\b\b\b\b\b\b\b\b\b\b\b\b\b\b\b\b\b\b\b\b\b\b\b\b\b\b\r",
      "42848/51886 [=======================>......] - ETA: 0s"
     ]
    },
    {
     "name": "stdout",
     "output_type": "stream",
     "text": [
      "\b\b\b\b\b\b\b\b\b\b\b\b\b\b\b\b\b\b\b\b\b\b\b\b\b\b\b\b\b\b\b\b\b\b\b\b\b\b\b\b\b\b\b\b\b\b\b\b\b\b\b\b\b\b\r",
      "44672/51886 [========================>.....] - ETA: 0s"
     ]
    },
    {
     "name": "stdout",
     "output_type": "stream",
     "text": [
      "\b\b\b\b\b\b\b\b\b\b\b\b\b\b\b\b\b\b\b\b\b\b\b\b\b\b\b\b\b\b\b\b\b\b\b\b\b\b\b\b\b\b\b\b\b\b\b\b\b\b\b\b\b\b\r",
      "46496/51886 [=========================>....] - ETA: 0s"
     ]
    },
    {
     "name": "stdout",
     "output_type": "stream",
     "text": [
      "\b\b\b\b\b\b\b\b\b\b\b\b\b\b\b\b\b\b\b\b\b\b\b\b\b\b\b\b\b\b\b\b\b\b\b\b\b\b\b\b\b\b\b\b\b\b\b\b\b\b\b\b\b\b\r",
      "48512/51886 [===========================>..] - ETA: 0s"
     ]
    },
    {
     "name": "stdout",
     "output_type": "stream",
     "text": [
      "\b\b\b\b\b\b\b\b\b\b\b\b\b\b\b\b\b\b\b\b\b\b\b\b\b\b\b\b\b\b\b\b\b\b\b\b\b\b\b\b\b\b\b\b\b\b\b\b\b\b\b\b\b\b\r",
      "50432/51886 [============================>.] - ETA: 0s"
     ]
    },
    {
     "name": "stdout",
     "output_type": "stream",
     "text": [
      "\b\b\b\b\b\b\b\b\b\b\b\b\b\b\b\b\b\b\b\b\b\b\b\b\b\b\b\b\b\b\b\b\b\b\b\b\b\b\b\b\b\b\b\b\b\b\b\b\b\b\b\b\b\b\r",
      "51886/51886 [==============================] - 1s 28us/step\n"
     ]
    },
    {
     "name": "stdout",
     "output_type": "stream",
     "text": [
      "Score 99.919%\n"
     ]
    },
    {
     "name": "stdout",
     "output_type": "stream",
     "text": [
      "Area under the curve 97.263% - accuracy 99.919% - precision 91.475% - recall 94.576%\n"
     ]
    }
   ],
   "source": [
    "from sklearn.metrics import roc_auc_score, accuracy_score, precision_score, recall_score\n",
    "from keras.metrics import accuracy\n",
    "\n",
    "# .score() function of sklearn models results in the same value as .accuracy_score() function of sklearn.metrics.\n",
    "#  Keras library does not offer any .score() function but only .evaluate().\n",
    "#  Is second metric of .evaluate(X_te, y_te) == .accuracy_score(y_te, y_pred)? <= See the output.\n",
    "print('Score {:.3f}%'.format(100*model_best.evaluate(x=X_te, y=to_categorical(y_te))[1]))\n",
    "print('Area under the curve {:.3f}% - accuracy {:.3f}% - precision {:.3f}% - recall {:.3f}%'.format(100*roc_auc_score(y_te, y_pred),\n",
    "                100*accuracy_score(y_te, y_pred),\n",
    "                100*precision_score(y_te, y_pred),\n",
    "                100*recall_score(y_te, y_pred)\n",
    "               ))"
   ]
  },
  {
   "cell_type": "markdown",
   "metadata": {},
   "source": [
    "The wrongly classified records still have to be stored for model comparison in the summary chapter."
   ]
  },
  {
   "cell_type": "code",
   "execution_count": 16,
   "metadata": {
    "scrolled": false
   },
   "outputs": [],
   "source": [
    "import results_analysis_funcs as raf\n",
    "import results_saving_funcs as rsf\n",
    "\n",
    "idx = {}\n",
    "idx['true_predicted_uniques'], idx['true_predicted_duplicates'], idx['false_predicted_uniques'], idx['false_predicted_duplicates'] = raf.get_confusion_matrix_indices(y_te, y_pred)\n",
    "\n",
    "wrong_prediction_groups = ['false_predicted_uniques', 'false_predicted_duplicates']\n",
    "\n",
    "for i in wrong_prediction_groups :\n",
    "    rsf.add_wrong_predictions(path_goldstandard, \n",
    "                              model_best, i, df_attribute_with_sim_feature.iloc[idx_te].iloc[idx[i]])"
   ]
  },
  {
   "cell_type": "markdown",
   "metadata": {},
   "source": [
    "## Summary"
   ]
  },
  {
   "cell_type": "markdown",
   "metadata": {},
   "source": [
    "The code of this chapter searches the best Neural Network model for Swissbib's training data. As the resulting score of an estimator with one single hidden layer has remained below the score of the models of the precedent chapters, estimators with more interaction, forced by a second hidden layer has been tryed. The result improvement with this second layer has not been essential, thowgh."
   ]
  },
  {
   "cell_type": "markdown",
   "metadata": {},
   "source": [
    "## Results Handover"
   ]
  },
  {
   "cell_type": "markdown",
   "metadata": {},
   "source": [
    "This chapter contributes with the result of one model to the model assessment ranking of chapter [Overview and Summary](./0_OverviewSummary.ipynb)."
   ]
  },
  {
   "cell_type": "code",
   "execution_count": 17,
   "metadata": {},
   "outputs": [],
   "source": [
    "path_results = './results'\n",
    "\n",
    "rsf.add_result_to_results(path_results, df_test_scores_nn, model_best, X_te, y_te, y_pred)"
   ]
  },
  {
   "cell_type": "code",
   "execution_count": null,
   "metadata": {},
   "outputs": [],
   "source": []
  }
 ],
 "metadata": {
  "kernelspec": {
   "display_name": "Python 3",
   "language": "python",
   "name": "python3"
  },
  "language_info": {
   "codemirror_mode": {
    "name": "ipython",
    "version": 3
   },
   "file_extension": ".py",
   "mimetype": "text/x-python",
   "name": "python",
   "nbconvert_exporter": "python",
   "pygments_lexer": "ipython3",
   "version": "3.7.1"
  }
 },
 "nbformat": 4,
 "nbformat_minor": 2
}
