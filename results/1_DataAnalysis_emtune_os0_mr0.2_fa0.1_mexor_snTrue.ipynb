{
 "cells": [
  {
   "cell_type": "markdown",
   "metadata": {},
   "source": [
    "# Data Analysis"
   ]
  },
  {
   "cell_type": "code",
   "execution_count": 1,
   "metadata": {},
   "outputs": [],
   "source": [
    "execution_mode = 'tune'"
   ]
  },
  {
   "cell_type": "markdown",
   "metadata": {},
   "source": [
    "For understanding the bibliographic catalogue data of the Swissbib platform, the project team has generated a sample .json file with a big amount of representative records. This chapter shows the analysis of this data delivery."
   ]
  },
  {
   "cell_type": "markdown",
   "metadata": {},
   "source": [
    "## Table of Contents\n",
    "\n",
    "- [Sample Records Analysis](#Sample-Records-Analysis)\n",
    "    - [Book](#Book)\n",
    "    - [Music](#Music)\n",
    "    - [Video Material](#Video-Material)\n",
    "    - [Map](#Map)\n",
    "    - [Periodical](#Periodical)\n",
    "    - [Collection](#Collection)\n",
    "    - [Computer File](#Computer-File)\n",
    "- [General Observation](#General-Observation)\n",
    "- [Attribute Analysis](#Attribute-Analysis)\n",
    "    - [Table of Contents of Attribute Analysis](#Table-of-Contents-of-Attribute-Analysis)\n",
    "- [Summary](#Summary)\n",
    "    - [Metadata Handover](#Metadata-Handover)"
   ]
  },
  {
   "cell_type": "markdown",
   "metadata": {},
   "source": [
    "## Sample Records Analysis"
   ]
  },
  {
   "cell_type": "markdown",
   "metadata": {},
   "source": [
    "In this section, the data file will be loaded and some sample data records will be shown."
   ]
  },
  {
   "cell_type": "code",
   "execution_count": 2,
   "metadata": {},
   "outputs": [
    {
     "name": "stdout",
     "output_type": "stream",
     "text": [
      "Archive:  ./data/datafile.zip\r\n",
      "  inflating: ./data/job7r4A1.json    "
     ]
    },
    {
     "name": "stdout",
     "output_type": "stream",
     "text": [
      "\r\n"
     ]
    }
   ],
   "source": [
    "path_data = './data'\n",
    "\n",
    "! unzip $path_data/datafile.zip -d $path_data/"
   ]
  },
  {
   "cell_type": "markdown",
   "metadata": {},
   "source": [
    "Swissbib has provided a data file with a big amount of sample records. This file has a size of more than 100MB. Due to its size, it cannot be checked in into a github repository. To check in the file nonetheless, it has been compressed with a standard zip format. The code cell above extracts the file and stores it in the same directory as its original zip file."
   ]
  },
  {
   "cell_type": "code",
   "execution_count": 3,
   "metadata": {},
   "outputs": [
    {
     "name": "stdout",
     "output_type": "stream",
     "text": [
      "Number of data records loaded 183407\n"
     ]
    }
   ],
   "source": [
    "import os\n",
    "import json\n",
    "\n",
    "records = []\n",
    "path_goldstandard = './daten_goldstandard'\n",
    "\n",
    "for line in open(os.path.join(path_data, 'job7r4A1.json'), 'r'):\n",
    "    records.append(json.loads(line))\n",
    "\n",
    "print('Number of data records loaded', len(records))"
   ]
  },
  {
   "cell_type": "code",
   "execution_count": 4,
   "metadata": {},
   "outputs": [],
   "source": [
    "#! zip datafile.zip $path_data/job7r4A1.json\n",
    "\n",
    "# Swissbib's data file is not needed in unzipped form anymore\n",
    "if os.path.exists(os.path.join(path_data, 'job7r4A1.json')):\n",
    "    # Delete data file\n",
    "    os.remove(os.path.join(path_data, 'job7r4A1.json'))"
   ]
  },
  {
   "cell_type": "markdown",
   "metadata": {},
   "source": [
    "The data has been read into a list of records. Now, the extracted data file is not needed anymore and can be removed with the goal to keep the original zip file, only.\n",
    "\n",
    "Let's have a look at the loaded data."
   ]
  },
  {
   "cell_type": "code",
   "execution_count": 5,
   "metadata": {},
   "outputs": [
    {
     "data": {
      "text/html": [
       "<div>\n",
       "<style scoped>\n",
       "    .dataframe tbody tr th:only-of-type {\n",
       "        vertical-align: middle;\n",
       "    }\n",
       "\n",
       "    .dataframe tbody tr th {\n",
       "        vertical-align: top;\n",
       "    }\n",
       "\n",
       "    .dataframe thead th {\n",
       "        text-align: right;\n",
       "    }\n",
       "</style>\n",
       "<table border=\"1\" class=\"dataframe\">\n",
       "  <thead>\n",
       "    <tr style=\"text-align: right;\">\n",
       "      <th></th>\n",
       "      <th>docid</th>\n",
       "      <th>035liste</th>\n",
       "      <th>isbn</th>\n",
       "      <th>ttlfull</th>\n",
       "      <th>ttlpart</th>\n",
       "      <th>person</th>\n",
       "      <th>corporate</th>\n",
       "      <th>pubyear</th>\n",
       "      <th>decade</th>\n",
       "      <th>century</th>\n",
       "      <th>exactDate</th>\n",
       "      <th>edition</th>\n",
       "      <th>part</th>\n",
       "      <th>pages</th>\n",
       "      <th>volumes</th>\n",
       "      <th>pubinit</th>\n",
       "      <th>pubword</th>\n",
       "      <th>scale</th>\n",
       "      <th>coordinate</th>\n",
       "      <th>doi</th>\n",
       "      <th>ismn</th>\n",
       "      <th>musicid</th>\n",
       "      <th>format</th>\n",
       "    </tr>\n",
       "  </thead>\n",
       "  <tbody>\n",
       "    <tr>\n",
       "      <th>0</th>\n",
       "      <td>554061449</td>\n",
       "      <td>[(OCoLC)1085491204, (IDSBB)006899773]</td>\n",
       "      <td>[]</td>\n",
       "      <td>{'245': ['Die Feist von Kienberg', 'eine Wasen...</td>\n",
       "      <td>{'245': ['Die Feist von Kienberg', 'eine Wasen...</td>\n",
       "      <td>{'100': ['SchluchterAndré'], '700': [], '800':...</td>\n",
       "      <td>{'110': [], '710': [], '810': []}</td>\n",
       "      <td>1992</td>\n",
       "      <td>1992</td>\n",
       "      <td>1992</td>\n",
       "      <td>1992</td>\n",
       "      <td></td>\n",
       "      <td>[]</td>\n",
       "      <td>[S. 102-114]</td>\n",
       "      <td>[S. 102-114]</td>\n",
       "      <td>[]</td>\n",
       "      <td>[]</td>\n",
       "      <td></td>\n",
       "      <td>[]</td>\n",
       "      <td>[]</td>\n",
       "      <td>[]</td>\n",
       "      <td></td>\n",
       "      <td>[BK020000]</td>\n",
       "    </tr>\n",
       "    <tr>\n",
       "      <th>1</th>\n",
       "      <td>554061481</td>\n",
       "      <td>[(OCoLC)1085491341, (IDSBB)006899983]</td>\n",
       "      <td>[]</td>\n",
       "      <td>{'245': ['Reimereien']}</td>\n",
       "      <td>{'245': ['Reimereien']}</td>\n",
       "      <td>{'100': ['NaegeliWerner'], '700': [], '800': [...</td>\n",
       "      <td>{'110': [], '710': [], '810': []}</td>\n",
       "      <td>1986</td>\n",
       "      <td>1986</td>\n",
       "      <td>1986</td>\n",
       "      <td>1986</td>\n",
       "      <td></td>\n",
       "      <td>[]</td>\n",
       "      <td>[43 S.]</td>\n",
       "      <td>[43 S.]</td>\n",
       "      <td>[]</td>\n",
       "      <td>[]</td>\n",
       "      <td></td>\n",
       "      <td>[]</td>\n",
       "      <td>[]</td>\n",
       "      <td>[]</td>\n",
       "      <td></td>\n",
       "      <td>[BK020000]</td>\n",
       "    </tr>\n",
       "    <tr>\n",
       "      <th>2</th>\n",
       "      <td>554061503</td>\n",
       "      <td>[(OCoLC)1085491299, (IDSBB)006899959]</td>\n",
       "      <td>[]</td>\n",
       "      <td>{'245': ['Efficax antidotum ad matrimonia mixt...</td>\n",
       "      <td>{'245': ['Efficax antidotum ad matrimonia mixt...</td>\n",
       "      <td>{'100': ['KellyM.V.'], '700': ['GeniesseJ.B.']...</td>\n",
       "      <td>{'110': [], '710': [], '810': []}</td>\n",
       "      <td>1923</td>\n",
       "      <td>1923</td>\n",
       "      <td>1923</td>\n",
       "      <td>1923</td>\n",
       "      <td></td>\n",
       "      <td>[]</td>\n",
       "      <td>[75 p.]</td>\n",
       "      <td>[75 p.]</td>\n",
       "      <td>[]</td>\n",
       "      <td>[]</td>\n",
       "      <td></td>\n",
       "      <td>[]</td>\n",
       "      <td>[]</td>\n",
       "      <td>[]</td>\n",
       "      <td></td>\n",
       "      <td>[BK020000]</td>\n",
       "    </tr>\n",
       "    <tr>\n",
       "      <th>3</th>\n",
       "      <td>554061511</td>\n",
       "      <td>[(OCoLC)1085491268, (IDSBB)006896614]</td>\n",
       "      <td>[]</td>\n",
       "      <td>{'245': ['Probleme der Inflationsbekämpfung', ...</td>\n",
       "      <td>{'245': ['Probleme der Inflationsbekämpfung', ...</td>\n",
       "      <td>{'100': ['WegelinWalter'], '700': [], '800': [...</td>\n",
       "      <td>{'110': [], '710': [], '810': []}</td>\n",
       "      <td>1947</td>\n",
       "      <td>1947</td>\n",
       "      <td>1947</td>\n",
       "      <td>1947</td>\n",
       "      <td></td>\n",
       "      <td>[]</td>\n",
       "      <td>[24 S.]</td>\n",
       "      <td>[24 S.]</td>\n",
       "      <td>[]</td>\n",
       "      <td>[]</td>\n",
       "      <td></td>\n",
       "      <td>[]</td>\n",
       "      <td>[]</td>\n",
       "      <td>[]</td>\n",
       "      <td></td>\n",
       "      <td>[BK020000]</td>\n",
       "    </tr>\n",
       "    <tr>\n",
       "      <th>4</th>\n",
       "      <td>55406152X</td>\n",
       "      <td>[(OCoLC)1085491079, (IDSBB)006896866]</td>\n",
       "      <td>[]</td>\n",
       "      <td>{'245': ['[Poems]']}</td>\n",
       "      <td>{'245': ['[Poems]']}</td>\n",
       "      <td>{'100': ['OberlinUrs'], '700': [], '800': [], ...</td>\n",
       "      <td>{'110': [], '710': [], '810': []}</td>\n",
       "      <td>1991</td>\n",
       "      <td>1991</td>\n",
       "      <td>1991</td>\n",
       "      <td>1991</td>\n",
       "      <td></td>\n",
       "      <td>[]</td>\n",
       "      <td>[p. 14-15]</td>\n",
       "      <td>[p. 14-15]</td>\n",
       "      <td>[]</td>\n",
       "      <td>[]</td>\n",
       "      <td></td>\n",
       "      <td>[]</td>\n",
       "      <td>[]</td>\n",
       "      <td>[]</td>\n",
       "      <td></td>\n",
       "      <td>[BK020000]</td>\n",
       "    </tr>\n",
       "  </tbody>\n",
       "</table>\n",
       "</div>"
      ],
      "text/plain": [
       "       docid                               035liste isbn  \\\n",
       "0  554061449  [(OCoLC)1085491204, (IDSBB)006899773]   []   \n",
       "1  554061481  [(OCoLC)1085491341, (IDSBB)006899983]   []   \n",
       "2  554061503  [(OCoLC)1085491299, (IDSBB)006899959]   []   \n",
       "3  554061511  [(OCoLC)1085491268, (IDSBB)006896614]   []   \n",
       "4  55406152X  [(OCoLC)1085491079, (IDSBB)006896866]   []   \n",
       "\n",
       "                                             ttlfull  \\\n",
       "0  {'245': ['Die Feist von Kienberg', 'eine Wasen...   \n",
       "1                            {'245': ['Reimereien']}   \n",
       "2  {'245': ['Efficax antidotum ad matrimonia mixt...   \n",
       "3  {'245': ['Probleme der Inflationsbekämpfung', ...   \n",
       "4                               {'245': ['[Poems]']}   \n",
       "\n",
       "                                             ttlpart  \\\n",
       "0  {'245': ['Die Feist von Kienberg', 'eine Wasen...   \n",
       "1                            {'245': ['Reimereien']}   \n",
       "2  {'245': ['Efficax antidotum ad matrimonia mixt...   \n",
       "3  {'245': ['Probleme der Inflationsbekämpfung', ...   \n",
       "4                               {'245': ['[Poems]']}   \n",
       "\n",
       "                                              person  \\\n",
       "0  {'100': ['SchluchterAndré'], '700': [], '800':...   \n",
       "1  {'100': ['NaegeliWerner'], '700': [], '800': [...   \n",
       "2  {'100': ['KellyM.V.'], '700': ['GeniesseJ.B.']...   \n",
       "3  {'100': ['WegelinWalter'], '700': [], '800': [...   \n",
       "4  {'100': ['OberlinUrs'], '700': [], '800': [], ...   \n",
       "\n",
       "                           corporate   pubyear decade century exactDate  \\\n",
       "0  {'110': [], '710': [], '810': []}  1992       1992    1992  1992       \n",
       "1  {'110': [], '710': [], '810': []}  1986       1986    1986  1986       \n",
       "2  {'110': [], '710': [], '810': []}  1923       1923    1923  1923       \n",
       "3  {'110': [], '710': [], '810': []}  1947       1947    1947  1947       \n",
       "4  {'110': [], '710': [], '810': []}  1991       1991    1991  1991       \n",
       "\n",
       "  edition part         pages       volumes pubinit pubword scale coordinate  \\\n",
       "0           []  [S. 102-114]  [S. 102-114]      []      []               []   \n",
       "1           []       [43 S.]       [43 S.]      []      []               []   \n",
       "2           []       [75 p.]       [75 p.]      []      []               []   \n",
       "3           []       [24 S.]       [24 S.]      []      []               []   \n",
       "4           []    [p. 14-15]    [p. 14-15]      []      []               []   \n",
       "\n",
       "  doi ismn musicid      format  \n",
       "0  []   []          [BK020000]  \n",
       "1  []   []          [BK020000]  \n",
       "2  []   []          [BK020000]  \n",
       "3  []   []          [BK020000]  \n",
       "4  []   []          [BK020000]  "
      ]
     },
     "execution_count": 5,
     "metadata": {},
     "output_type": "execute_result"
    }
   ],
   "source": [
    "import pandas as pd\n",
    "\n",
    "# Generate Pandas DataFrame object out of the raw data\n",
    "df = pd.DataFrame(records)\n",
    "\n",
    "# Extend display to number of columns of DataFrame\n",
    "pd.options.display.max_columns = len(df.columns)\n",
    "\n",
    "df.head()"
   ]
  },
  {
   "cell_type": "code",
   "execution_count": 6,
   "metadata": {},
   "outputs": [
    {
     "name": "stdout",
     "output_type": "stream",
     "text": [
      "Number of records 183407, number of attributes per record 23.\n",
      "\n",
      "<class 'pandas.core.frame.DataFrame'>\n",
      "RangeIndex: 183407 entries, 0 to 183406\n",
      "Data columns (total 23 columns):\n",
      "docid         183407 non-null object\n",
      "035liste      183407 non-null object\n",
      "isbn          183407 non-null object\n",
      "ttlfull       183407 non-null object\n",
      "ttlpart       183407 non-null object\n",
      "person        183407 non-null object\n",
      "corporate     183407 non-null object\n",
      "pubyear       183407 non-null object\n",
      "decade        183407 non-null object\n",
      "century       183407 non-null object\n",
      "exactDate     183407 non-null object\n",
      "edition       183407 non-null object\n",
      "part          183407 non-null object\n",
      "pages         183407 non-null object\n",
      "volumes       183407 non-null object\n",
      "pubinit       183407 non-null object\n",
      "pubword       183407 non-null object\n",
      "scale         183407 non-null object\n",
      "coordinate    183407 non-null object\n",
      "doi           183407 non-null object\n",
      "ismn          183407 non-null object\n",
      "musicid       183407 non-null object\n",
      "format        183407 non-null object\n",
      "dtypes: object(23)\n",
      "memory usage: 32.2+ MB\n"
     ]
    }
   ],
   "source": [
    "print('Number of records {:d}, number of attributes per record {:d}.\\n'.format(\n",
    "    len(df), len(df.columns)))\n",
    "\n",
    "df.info()"
   ]
  },
  {
   "cell_type": "markdown",
   "metadata": {},
   "source": [
    "Swissbib data describes different kinds of bibliographic units, see [format](#format). The following subsections show some sample data for such units. The format is interpreted roughly in these subsections, compare Swissbib's [format codes](http://www.swissbib.org/wiki/index.php?title=Filtering#format_codes) [[FeatWiki](./A_References.ipynb#feature_deduplication_wiki)]."
   ]
  },
  {
   "cell_type": "code",
   "execution_count": 7,
   "metadata": {},
   "outputs": [
    {
     "data": {
      "text/plain": [
       "array(['BK', 'MU', 'VM', 'MP', 'CR', 'CL', 'CF', nan], dtype=object)"
      ]
     },
     "execution_count": 7,
     "metadata": {},
     "output_type": "execute_result"
    }
   ],
   "source": [
    "df.format.str[0].str[:2].unique()"
   ]
  },
  {
   "cell_type": "markdown",
   "metadata": {},
   "source": [
    "### Book"
   ]
  },
  {
   "cell_type": "markdown",
   "metadata": {},
   "source": [
    "A format code starting with $\\texttt{BK}$ stands for a bibliographic unit of a book or an article. A sample record is shown below."
   ]
  },
  {
   "cell_type": "code",
   "execution_count": 8,
   "metadata": {},
   "outputs": [
    {
     "data": {
      "text/plain": [
       "docid                                                 554061449\n",
       "035liste                  [(OCoLC)1085491204, (IDSBB)006899773]\n",
       "isbn                                                         []\n",
       "ttlfull       {'245': ['Die Feist von Kienberg', 'eine Wasen...\n",
       "ttlpart       {'245': ['Die Feist von Kienberg', 'eine Wasen...\n",
       "person        {'100': ['SchluchterAndré'], '700': [], '800':...\n",
       "corporate                     {'110': [], '710': [], '810': []}\n",
       "pubyear                                                1992    \n",
       "decade                                                     1992\n",
       "century                                                    1992\n",
       "exactDate                                              1992    \n",
       "edition                                                        \n",
       "part                                                         []\n",
       "pages                                              [S. 102-114]\n",
       "volumes                                            [S. 102-114]\n",
       "pubinit                                                      []\n",
       "pubword                                                      []\n",
       "scale                                                          \n",
       "coordinate                                                   []\n",
       "doi                                                          []\n",
       "ismn                                                         []\n",
       "musicid                                                        \n",
       "format                                               [BK020000]\n",
       "Name: 0, dtype: object"
      ]
     },
     "execution_count": 8,
     "metadata": {},
     "output_type": "execute_result"
    }
   ],
   "source": [
    "df.loc[df[df.format.str[0].str[:2]=='BK'].index[0]]"
   ]
  },
  {
   "cell_type": "markdown",
   "metadata": {},
   "source": [
    "### Music"
   ]
  },
  {
   "cell_type": "markdown",
   "metadata": {},
   "source": [
    "A format code starting with $\\texttt{MU}$ stands for a bibliographic unit that is related to music. A sample record is shown below."
   ]
  },
  {
   "cell_type": "code",
   "execution_count": 9,
   "metadata": {},
   "outputs": [
    {
     "data": {
      "text/plain": [
       "docid                                                 554098806\n",
       "035liste                  [(OCoLC)1085495414, (IDSBB)007052696]\n",
       "isbn                                                         []\n",
       "ttlfull                             {'245': ['Violin sonatas']}\n",
       "ttlpart                             {'245': ['Violin sonatas']}\n",
       "person        {'100': ['BrahmsJohannes'], '700': ['SchayeghL...\n",
       "corporate                     {'110': [], '710': [], '810': []}\n",
       "pubyear                                                20182018\n",
       "decade                                                     2018\n",
       "century                                                    2018\n",
       "exactDate                                              20182018\n",
       "edition                                                        \n",
       "part                                                         []\n",
       "pages                                            [1 CD (69:42)]\n",
       "volumes                                          [1 CD (69:42)]\n",
       "pubinit                                                      []\n",
       "pubword                                                      []\n",
       "scale                                                          \n",
       "coordinate                                                   []\n",
       "doi                                                          []\n",
       "ismn                                                         []\n",
       "musicid                                              GCD 924201\n",
       "format                                               [MU040100]\n",
       "Name: 1788, dtype: object"
      ]
     },
     "execution_count": 9,
     "metadata": {},
     "output_type": "execute_result"
    }
   ],
   "source": [
    "df.loc[df[df.format.str[0].str[:2]=='MU'].index[0]]"
   ]
  },
  {
   "cell_type": "markdown",
   "metadata": {},
   "source": [
    "### Video Material"
   ]
  },
  {
   "cell_type": "markdown",
   "metadata": {},
   "source": [
    "A format code starting with $\\texttt{VM}$ represents some film material. A sample record is shown below."
   ]
  },
  {
   "cell_type": "code",
   "execution_count": 10,
   "metadata": {},
   "outputs": [
    {
     "data": {
      "text/plain": [
       "docid                                                 554098911\n",
       "035liste      [(OCoLC)1065768412, (IDSBB)007052702, (OCoLC)1...\n",
       "isbn                         [978-3-946274-20-9, 3-946274-20-X]\n",
       "ttlfull       {'245': ['Kunst und Gemüse, A. Hipler', 'Art a...\n",
       "ttlpart       {'245': ['Kunst und Gemüse, A. Hipler', 'Art a...\n",
       "person        {'100': [], '700': ['SchlingensiefChristoph', ...\n",
       "corporate                     {'110': [], '710': [], '810': []}\n",
       "pubyear                                                20182008\n",
       "decade                                                     2018\n",
       "century                                                    2018\n",
       "exactDate                                              20182008\n",
       "edition                                                        \n",
       "part                                                     [2004]\n",
       "pages                                  [2 DVD-Videos (283 min)]\n",
       "volumes                                [2 DVD-Videos (283 min)]\n",
       "pubinit                                                      []\n",
       "pubword                                                      []\n",
       "scale                                                          \n",
       "coordinate                                                   []\n",
       "doi                                                          []\n",
       "ismn                                                         []\n",
       "musicid                                                        \n",
       "format                                               [VM010000]\n",
       "Name: 1795, dtype: object"
      ]
     },
     "execution_count": 10,
     "metadata": {},
     "output_type": "execute_result"
    }
   ],
   "source": [
    "df.loc[df[df.format.str[0].str[:2]=='VM'].index[0]]"
   ]
  },
  {
   "cell_type": "markdown",
   "metadata": {},
   "source": [
    "### Map"
   ]
  },
  {
   "cell_type": "markdown",
   "metadata": {},
   "source": [
    "A format code starting with $\\texttt{MP}$ is a map. A sample record is shown below."
   ]
  },
  {
   "cell_type": "code",
   "execution_count": 11,
   "metadata": {},
   "outputs": [
    {
     "data": {
      "text/plain": [
       "docid                                                 554099039\n",
       "035liste                  [(OCoLC)1085495396, (IDSBB)007052708]\n",
       "isbn                                                         []\n",
       "ttlfull       {'245': ['Nova descriptio Comitatus Hollandiæ'...\n",
       "ttlpart       {'245': ['Nova descriptio Comitatus Hollandiæ'...\n",
       "person        {'100': ['BlaeuWillem Janszoon'], '700': [], '...\n",
       "corporate                     {'110': [], '710': [], '810': []}\n",
       "pubyear                                                19931604\n",
       "decade                                                     1993\n",
       "century                                                    1993\n",
       "exactDate                                              19931604\n",
       "edition                                               Facsimile\n",
       "part                                                         []\n",
       "pages                                                 [1 Karte]\n",
       "volumes                                               [1 Karte]\n",
       "pubinit                                                      []\n",
       "pubword                                                      []\n",
       "scale                                                    400000\n",
       "coordinate                                 [E0035400, N0532700]\n",
       "doi                                                          []\n",
       "ismn                                                         []\n",
       "musicid                                                        \n",
       "format                                               [MP010300]\n",
       "Name: 1801, dtype: object"
      ]
     },
     "execution_count": 11,
     "metadata": {},
     "output_type": "execute_result"
    }
   ],
   "source": [
    "df.loc[df[df.format.str[0].str[:2]=='MP'].index[0]]"
   ]
  },
  {
   "cell_type": "markdown",
   "metadata": {},
   "source": [
    "### Periodical"
   ]
  },
  {
   "cell_type": "markdown",
   "metadata": {},
   "source": [
    "A format code starting with $\\texttt{CR}$ is a bibliographic unit of a periodical. A sample record is shown below."
   ]
  },
  {
   "cell_type": "code",
   "execution_count": 12,
   "metadata": {},
   "outputs": [
    {
     "data": {
      "text/plain": [
       "docid                                                 55409939X\n",
       "035liste                   [(OCoLC)699516877, (IDSBB)007052728]\n",
       "isbn                                                [1533-4406]\n",
       "ttlfull       {'245': ['The new England journal of medicine ...\n",
       "ttlpart       {'245': ['The new England journal of medicine ...\n",
       "person          {'100': [], '700': [], '800': [], '245c': ['']}\n",
       "corporate                     {'110': [], '710': [], '810': []}\n",
       "pubyear                                                18121826\n",
       "decade                                                     1812\n",
       "century                                                    1812\n",
       "exactDate                                              18121826\n",
       "edition                                                        \n",
       "part                                                         []\n",
       "pages                                        [Online-Ressource]\n",
       "volumes                                      [Online-Ressource]\n",
       "pubinit                                                      []\n",
       "pubword                                                      []\n",
       "scale                                                          \n",
       "coordinate                                                   []\n",
       "doi                                                          []\n",
       "ismn                                                         []\n",
       "musicid                                                        \n",
       "format                                               [CR030653]\n",
       "Name: 1825, dtype: object"
      ]
     },
     "execution_count": 12,
     "metadata": {},
     "output_type": "execute_result"
    }
   ],
   "source": [
    "df.loc[df[df.format.str[0].str[:2]=='CR'].index[0]]"
   ]
  },
  {
   "cell_type": "markdown",
   "metadata": {},
   "source": [
    "### Collection"
   ]
  },
  {
   "cell_type": "markdown",
   "metadata": {},
   "source": [
    "A format code starting with $\\texttt{CL}$ is a collection. A sample record is shown below."
   ]
  },
  {
   "cell_type": "code",
   "execution_count": 13,
   "metadata": {},
   "outputs": [
    {
     "data": {
      "text/plain": [
       "docid                                                 554101610\n",
       "035liste                  [(OCoLC)1085510940, (IDSBB)007052979]\n",
       "isbn                                                         []\n",
       "ttlfull       {'245': ['[St. Gallischer Hilfsverein - Sankt ...\n",
       "ttlpart       {'245': ['[St. Gallischer Hilfsverein - Sankt ...\n",
       "person          {'100': [], '700': [], '800': [], '245c': ['']}\n",
       "corporate     {'110': ['St. Gallischer Hilfsverein'], '710':...\n",
       "pubyear                                                20179999\n",
       "decade                                                     2017\n",
       "century                                                    2017\n",
       "exactDate                                              20179999\n",
       "edition                                                        \n",
       "part                                                         []\n",
       "pages                                                 [1 Mappe]\n",
       "volumes                                               [1 Mappe]\n",
       "pubinit                                                      []\n",
       "pubword                                                      []\n",
       "scale                                                          \n",
       "coordinate                                                   []\n",
       "doi                                                          []\n",
       "ismn                                                         []\n",
       "musicid                                                        \n",
       "format                                               [CL010000]\n",
       "Name: 1955, dtype: object"
      ]
     },
     "execution_count": 13,
     "metadata": {},
     "output_type": "execute_result"
    }
   ],
   "source": [
    "df.loc[df[df.format.str[0].str[:2]=='CL'].index[0]]"
   ]
  },
  {
   "cell_type": "markdown",
   "metadata": {},
   "source": [
    "### Computer File"
   ]
  },
  {
   "cell_type": "markdown",
   "metadata": {},
   "source": [
    "A format code starting with $\\texttt{CF}$ is a placeholder for a computer file on any kind of storage. A sample record is shown below."
   ]
  },
  {
   "cell_type": "code",
   "execution_count": 14,
   "metadata": {},
   "outputs": [
    {
     "data": {
      "text/plain": [
       "docid                                                 554144301\n",
       "035liste                   [(IDSBB)007008154, (RERO)R007245313]\n",
       "isbn                                                         []\n",
       "ttlfull       {'245': ['Ice Age 4', 'voll verschoben : die a...\n",
       "ttlpart       {'245': ['Ice Age 4', 'voll verschoben : die a...\n",
       "person          {'100': [], '700': [], '800': [], '245c': ['']}\n",
       "corporate                     {'110': [], '710': [], '810': []}\n",
       "pubyear                                                2012    \n",
       "decade                                                     2012\n",
       "century                                                    2012\n",
       "exactDate                                              2012    \n",
       "edition                                                        \n",
       "part                                                         []\n",
       "pages                                         [1 Speicherkarte]\n",
       "volumes                                       [1 Speicherkarte]\n",
       "pubinit                                                      []\n",
       "pubword                                                      []\n",
       "scale                                                          \n",
       "coordinate                                                   []\n",
       "doi                                                          []\n",
       "ismn                                                         []\n",
       "musicid                                                        \n",
       "format                                               [CF010000]\n",
       "Name: 5947, dtype: object"
      ]
     },
     "execution_count": 14,
     "metadata": {},
     "output_type": "execute_result"
    }
   ],
   "source": [
    "df.loc[df[df.format.str[0].str[:2]=='CF'].index[0]]"
   ]
  },
  {
   "cell_type": "markdown",
   "metadata": {},
   "source": [
    "## General Observation"
   ]
  },
  {
   "cell_type": "markdown",
   "metadata": {},
   "source": [
    "As can be observed in the sample records displayed above, the attributes of the records are stored in basic Python datatypes like strings, lists (of strings), and dictionaries. A look into the raw data file confirms this observation."
   ]
  },
  {
   "cell_type": "code",
   "execution_count": 15,
   "metadata": {},
   "outputs": [
    {
     "name": "stdout",
     "output_type": "stream",
     "text": [
      "head: ./data/job7r4A1.json: No such file or directory\r\n"
     ]
    }
   ],
   "source": [
    "! head -n 2 ./data/job7r4A1.json"
   ]
  },
  {
   "cell_type": "markdown",
   "metadata": {},
   "source": [
    "A specific analysis on each attribute, its meaning and contents will be done as a next step. For the upcoming analysis, each attribute of the data records is assigned to its specific group type. This is done with the help of a global dictionary variable $\\texttt{columns}\\_\\texttt{metadata}\\_\\texttt{dict}$."
   ]
  },
  {
   "cell_type": "code",
   "execution_count": 16,
   "metadata": {},
   "outputs": [],
   "source": [
    "columns_metadata_dict = {}"
   ]
  },
  {
   "cell_type": "markdown",
   "metadata": {},
   "source": [
    "## Attribute Analysis"
   ]
  },
  {
   "cell_type": "markdown",
   "metadata": {},
   "source": [
    "This section analyses the attributes provided by the Swissbib data extracts. The extracted data is used as a basis for the machine learning models in the capstone project. The attributes are based on the MARC 21 Format for Bibliographic Data [[MARC](./A_References.ipynb#marc21)] and are documented on a Swissbib wikipedia page [[FeatWiki](./A_References.ipynb#feature_deduplication_wiki)]."
   ]
  },
  {
   "cell_type": "code",
   "execution_count": 17,
   "metadata": {},
   "outputs": [
    {
     "data": {
      "text/plain": [
       "Index(['docid', '035liste', 'isbn', 'ttlfull', 'ttlpart', 'person',\n",
       "       'corporate', 'pubyear', 'decade', 'century', 'exactDate', 'edition',\n",
       "       'part', 'pages', 'volumes', 'pubinit', 'pubword', 'scale', 'coordinate',\n",
       "       'doi', 'ismn', 'musicid', 'format'],\n",
       "      dtype='object')"
      ]
     },
     "execution_count": 17,
     "metadata": {},
     "output_type": "execute_result"
    }
   ],
   "source": [
    "df.columns"
   ]
  },
  {
   "cell_type": "markdown",
   "metadata": {},
   "source": [
    "This section provides and uses some functions that have been written for supporting the analysis of the attributes as well as for data preprocessing in the upcoming chapters. These functions have been defined in separate code files.\n",
    "\n",
    "- [data_analysis_funcs.py](./data_analysis_funcs.py)\n",
    "- [data_preparation_funcs.py](./data_preparation_funcs.py)"
   ]
  },
  {
   "cell_type": "code",
   "execution_count": 18,
   "metadata": {},
   "outputs": [],
   "source": [
    "import data_analysis_funcs as daf\n",
    "import data_preparation_funcs as dpf"
   ]
  },
  {
   "cell_type": "markdown",
   "metadata": {},
   "source": [
    "### Table of Contents of Attribute Analysis\n",
    "\n",
    "- [035liste](#035liste)\n",
    "- [century](#century)\n",
    "- [coordinate](#coordinate)\n",
    "- [corporate](#corporate)\n",
    "- [decade](#decade)\n",
    "- [docid](#docid)\n",
    "- [doi](#doi)\n",
    "- [edition](#edition)\n",
    "- [exactDate](#exactDate)\n",
    "- [format](#format)\n",
    "- [isbn](#isbn)\n",
    "- [ismn](#ismn)\n",
    "- [musicid](#musicid)\n",
    "- [pages](#pages)\n",
    "- [part](#part)\n",
    "- [person](#person)\n",
    "- [pubinit](#pubinit)\n",
    "- [pubword](#pubword)\n",
    "- [pubyear](#pubyear)\n",
    "- [scale](#scale)\n",
    "- [ttlfull](#ttlfull)\n",
    "- [ttlpart](#ttlpart)\n",
    "- [volumes](#volumes)"
   ]
  },
  {
   "cell_type": "code",
   "execution_count": 19,
   "metadata": {},
   "outputs": [],
   "source": [
    "columns_metadata_dict['data_analysis_columns'] = []"
   ]
  },
  {
   "cell_type": "markdown",
   "metadata": {},
   "source": [
    "### 035liste"
   ]
  },
  {
   "cell_type": "code",
   "execution_count": 20,
   "metadata": {},
   "outputs": [],
   "source": [
    "columns_metadata_dict['list_columns'] = ['035liste']"
   ]
  },
  {
   "cell_type": "markdown",
   "metadata": {},
   "source": [
    "Attribute $\\texttt{035liste}$ holds a list of identifiers from the originating library of a bibliographic unit, see [[FeatWiki](./A_References.ipynb/#feature_deduplication_wiki)]. Each record of the Swissbib data holds at least one identifier. Some examples are shown below."
   ]
  },
  {
   "cell_type": "code",
   "execution_count": 21,
   "metadata": {},
   "outputs": [
    {
     "name": "stdout",
     "output_type": "stream",
     "text": [
      "Number of records with filled 035liste 183407, with missing 035liste 0 => 100.0%\n"
     ]
    }
   ],
   "source": [
    "daf.find_empty_in_column(df, columns_metadata_dict, '035liste')"
   ]
  },
  {
   "cell_type": "code",
   "execution_count": 22,
   "metadata": {},
   "outputs": [
    {
     "data": {
      "text/plain": [
       "83463     1\n",
       "150669    1\n",
       "150668    1\n",
       "150667    1\n",
       "150666    1\n",
       "Name: 035liste, dtype: int64"
      ]
     },
     "execution_count": 22,
     "metadata": {},
     "output_type": "execute_result"
    }
   ],
   "source": [
    "df['035liste'].apply(lambda x : len(x)).sort_values().head(5)"
   ]
  },
  {
   "cell_type": "code",
   "execution_count": 23,
   "metadata": {},
   "outputs": [
    {
     "data": {
      "text/plain": [
       "144185    20\n",
       "54084     21\n",
       "30793     21\n",
       "136608    21\n",
       "61603     21\n",
       "14755     21\n",
       "49974     22\n",
       "139972    22\n",
       "139191    23\n",
       "124359    23\n",
       "Name: 035liste, dtype: int64"
      ]
     },
     "execution_count": 23,
     "metadata": {},
     "output_type": "execute_result"
    }
   ],
   "source": [
    "df['035liste'].apply(lambda x : len(x)).sort_values().tail(10)"
   ]
  },
  {
   "cell_type": "code",
   "execution_count": 24,
   "metadata": {},
   "outputs": [
    {
     "name": "stdout",
     "output_type": "stream",
     "text": [
      "Some sample identifiers:\n"
     ]
    },
    {
     "data": {
      "text/plain": [
       "61051     [(VAUD)991021205698302852, (EXLNZ-41BCULAUSA_N...\n",
       "123302    [(VAUD)991021219027002852, (EXLNZ-41BCULAUSA_N...\n",
       "20839                                    [(RERO)R008840219]\n",
       "147023                [(OCoLC)1089442002, (NEBIS)011369389]\n",
       "10403                    [(IDSBB)007025827, (SBT)000770663]\n",
       "114593                                   [(RERO)R008900306]\n",
       "76539                  [(OCoLC)903383522, (NEBIS)011352514]\n",
       "147865                 [(OCoLC)1089442773, (SGBN)001450149]\n",
       "170220                                         [(CEO)25034]\n",
       "27703                  [(OCoLC)1085536673, (SGBN)001446009]\n",
       "Name: 035liste, dtype: object"
      ]
     },
     "execution_count": 24,
     "metadata": {},
     "output_type": "execute_result"
    }
   ],
   "source": [
    "print('Some sample identifiers:')\n",
    "df['035liste'].sample(n=10)"
   ]
  },
  {
   "cell_type": "markdown",
   "metadata": {},
   "source": [
    "Attribute $\\texttt{035liste}$ is the central attribute for finding duplicates in the training data of the Swissbib's goldstandard. This process will be explained and implemented in chapter [Goldstandard and Data Preparation](./2_GoldstandardDataPreparation.ipynb)."
   ]
  },
  {
   "cell_type": "markdown",
   "metadata": {},
   "source": [
    "### century"
   ]
  },
  {
   "cell_type": "code",
   "execution_count": 25,
   "metadata": {},
   "outputs": [],
   "source": [
    "columns_metadata_dict['strings_columns'] = ['century']"
   ]
  },
  {
   "cell_type": "code",
   "execution_count": 26,
   "metadata": {},
   "outputs": [
    {
     "name": "stdout",
     "output_type": "stream",
     "text": [
      "Number of records with filled century 183407, with missing century 0 => 100.0%\n"
     ]
    }
   ],
   "source": [
    "daf.find_empty_in_column(df, columns_metadata_dict, 'century')"
   ]
  },
  {
   "cell_type": "markdown",
   "metadata": {},
   "source": [
    "Attribute $\\texttt{century}$ holds strings of length 4 that can predominantly be interpreted as year-dates [[FeatWiki](./A_References.ipynb/#feature_deduplication_wiki)]. Some examples and the top-most quantity distribution are shown below."
   ]
  },
  {
   "cell_type": "code",
   "execution_count": 27,
   "metadata": {},
   "outputs": [
    {
     "data": {
      "text/plain": [
       "47360     2010\n",
       "63697     1999\n",
       "149972    1964\n",
       "169449    2008\n",
       "41649     2011\n",
       "29384     2011\n",
       "170267    2014\n",
       "114484    1787\n",
       "120130    uuuu\n",
       "160214    1985\n",
       "25195     2018\n",
       "130682    1995\n",
       "53318     uuuu\n",
       "108479    uuuu\n",
       "173031    2013\n",
       "Name: century, dtype: object"
      ]
     },
     "execution_count": 27,
     "metadata": {},
     "output_type": "execute_result"
    }
   ],
   "source": [
    "df['century'].sample(n=15)"
   ]
  },
  {
   "cell_type": "code",
   "execution_count": 28,
   "metadata": {},
   "outputs": [
    {
     "data": {
      "text/plain": [
       "2018    0.208389\n",
       "2019    0.086785\n",
       "2017    0.046350\n",
       "uuuu    0.036236\n",
       "2016    0.025223\n",
       "1999    0.020201\n",
       "2015    0.019879\n",
       "2014    0.018156\n",
       "2012    0.016286\n",
       "2013    0.015616\n",
       "Name: century, dtype: float64"
      ]
     },
     "execution_count": 28,
     "metadata": {},
     "output_type": "execute_result"
    }
   ],
   "source": [
    "df.century.value_counts(normalize=True).head(10)"
   ]
  },
  {
   "cell_type": "markdown",
   "metadata": {},
   "source": [
    "If the year-date is unclear to some extent or no year-date of the unit is registered, letter 'u' is used as a placeholder of the unknown digit."
   ]
  },
  {
   "cell_type": "code",
   "execution_count": 29,
   "metadata": {},
   "outputs": [
    {
     "data": {
      "text/plain": [
       "array(['uuuu', 'u826', '193u', '197u', '192u', '19uu', '200u', '198u',\n",
       "       '189u', '188u', '18uu', '201u', '20uu', 'u829', '195u', '218u',\n",
       "       '196u', '17uu', '1uuu', '199u', 'u611', '191u', '190u', 'u713',\n",
       "       'u999', '194u', 'u693', '186u', '184u', '15uu', 'uuu1'],\n",
       "      dtype=object)"
      ]
     },
     "execution_count": 29,
     "metadata": {},
     "output_type": "execute_result"
    }
   ],
   "source": [
    "df.century[df.century.str.contains('u')].unique()"
   ]
  },
  {
   "cell_type": "markdown",
   "metadata": {},
   "source": [
    "The above statement results in the same array like the following regular expression."
   ]
  },
  {
   "cell_type": "code",
   "execution_count": 30,
   "metadata": {},
   "outputs": [
    {
     "data": {
      "text/plain": [
       "array(['uuuu', 'u826', '193u', '197u', '192u', '19uu', '200u', '198u',\n",
       "       '189u', '188u', '18uu', '201u', '20uu', 'u829', '195u', '218u',\n",
       "       '196u', '17uu', '1uuu', '199u', 'u611', '191u', '190u', 'u713',\n",
       "       'u999', '194u', 'u693', '186u', '184u', '15uu', 'uuu1'],\n",
       "      dtype=object)"
      ]
     },
     "execution_count": 30,
     "metadata": {},
     "output_type": "execute_result"
    }
   ],
   "source": [
    "df.century[df.century.str.contains('[^0-9]')].unique()"
   ]
  },
  {
   "cell_type": "code",
   "execution_count": 31,
   "metadata": {},
   "outputs": [
    {
     "data": {
      "text/plain": [
       "array(['1992', '1986', '1923', '1947', '1991', '1967', '1950', '1985',\n",
       "       '1983', '1942', '1883', '1990', '1984', '1989', '1993', '1961',\n",
       "       '1940', '1981', '1988', '1858', '1978', '1977', '1880', '1945',\n",
       "       '1963', '1912', '1884', '1937', '1956', '1943', '1916', '1960',\n",
       "       '1980', '1936', '1906', '1987', '1955', '1944', '1953', '1930',\n",
       "       '1903', '1913', '1938', '1895', '1905', '1920', '1918', '1857',\n",
       "       '1928', '1881', '1932', '1900', '1924', '1915', '1931', '1927',\n",
       "       '1919', '1896', '1922', '1871', '1926', '1939', '1907', '1776',\n",
       "       '1873', '1893', '1968', '1975', '1946', '1833', '1855', '1949',\n",
       "       '1962', '1971', '1959', '1966', '1862', '1898', '1901', '1904',\n",
       "       '1902', '1951', '1909', '1929', '1921', '1882', '1964', '1911',\n",
       "       '1957', '1897', '1910', '1867', '1914', '1908', '1958', '1934',\n",
       "       '1933', '1872', '1845', '1979', '1954', '1885', '1810', '1891',\n",
       "       '1869', '1876', '1889', '1836', '1952', '1935', '1948', '1917',\n",
       "       '1879', '1887', '1865', '1899', '1892', '1861', '1870', '1894',\n",
       "       '1941', '1925', '1837', '1864', '1846', '1848', '1691', '1657',\n",
       "       '1623', '1590', '1538', '1686', '1544', '1596', '1631', '1580',\n",
       "       '1628', '1793', '1823', '1802', '1831', '1816', '1838', '1825',\n",
       "       '1826', '1839', '1852', '1890', '1820', '1863', '1856', '1683',\n",
       "       '1877', '1835', '1827', '1850', '1841', '1822', '1847', '1834',\n",
       "       '1824', '1840', '1875', '1756', '1752', '1650', '1573', '1528',\n",
       "       '1554', '1552', '1751', '1653', '1798', '1791', '1645', '1814',\n",
       "       '1763', '1695', '1512', '1807', '1698', '1589', '1796', '1712',\n",
       "       '1818', '1773', '1803', '1828', '1806', '1853', '1785', '1744',\n",
       "       '1525', '1779', '1809', '1811', '1714', '1705', '1787', '1874',\n",
       "       '1781', '1888', '1859', '1772', '1771', '1602', '1851', '1784',\n",
       "       '1886', '1774', '1620', '1804', '1582', '1732', '1829', '1800',\n",
       "       '1789', '1842', '1764', '1797', '1805', '1795', '1868', '1758',\n",
       "       '1713', '1741', '1830', '1821', '1670', '1777', '1770', '1711',\n",
       "       '1762', '1768', '1813', '1761', '1819', '1769', '1801', '1832',\n",
       "       '1555', '1532', '1767', '1815', '1812', '1700', '1757', '1799',\n",
       "       '1710', '1843', '1722', '1760', '1701', '1574', '1651', '1733',\n",
       "       '1786', '1665', '1790', '1723', '1860', '1659', '1737', '1750',\n",
       "       '1716', '1739', '1759', '1808', '1728', '1748', '1577', '1706',\n",
       "       '1724', '1604', '1745', '1753', '1766', '1780', '1878', '1788',\n",
       "       '1673', '1735', '1778', '1715', '1782', '1671', '1702', '1731',\n",
       "       '1639', '1982', '1743', '1866', '1676', '1694', '1584', '1854',\n",
       "       '1969', '1690', '1708', '1688', '1565', '1754', '1638', '1755',\n",
       "       '1624', '1674', '1550', '1629', '1747', '1727', '1749', '1562',\n",
       "       '1641', '1617', '1794', '1844', '1783', '1817', '1849', '1792',\n",
       "       '1730', '1687', '1649', '1541', '1696', '1707', '2018', '2013',\n",
       "       '2009', '2011', '2006', '2014', '2019', '2015', '1997', '2020',\n",
       "       '1746', '2017', '2000', '1996', '1999', '2016', '1765', '1995',\n",
       "       '1972', '1974', '1738', '1965', '2001', '2004', '2010', '2002',\n",
       "       '2008', '2003', '1661', '1664', '1970', '1998', '2012', '1973',\n",
       "       '1994', '2005', '1729', '1634', '2007', '1976', '1658', '1775',\n",
       "       '1537', '1594', '1607', '1682', '1692', '1685', '1526', '1720',\n",
       "       '1564', '1561', '1734', '1543', '1679', '1697', '1591', '1655',\n",
       "       '1643', '1660', '1563', '1569', '1576', '1619', '1668', '1556',\n",
       "       '1736', '1675', '1600', '1542', '1557', '1539', '1540', '1699',\n",
       "       '1721', '1566', '1717', '1535', '1616', '1626', '1507', '1637',\n",
       "       '1548', '1640', '1681', '1672', '1559', '1689', '1644', '1703',\n",
       "       '1588', '1680', '1578', '1618', '1611', '1553', '1551', '1627',\n",
       "       '1630', '1606', '1608', '1560', '1572', '1579', '1593', '1718',\n",
       "       '1740', '1575', '1570', '1587', '1666', '1669', '1704', '1663',\n",
       "       '1595', '1515', '1615', '1585', '1527', '1601', '1523', '1633',\n",
       "       '1678', '1635', '1667', '1598', '1622', '1656', '1684', '1719',\n",
       "       '1648', '1652', '1499', '1530', '1489', '1480', '1642', '1547',\n",
       "       '1592', '1546', '1545', '1583', '1599', '1549', '1610', '1614',\n",
       "       '1508', '1531', '1497', '1613', '1693', '1498', '1742', '1603',\n",
       "       '1514', '1625', '1654', '1534', '1621', '1558', '1636', '1522',\n",
       "       '1521', '1482', '1725', '2021', '1472', '1605', '1597', '1567',\n",
       "       '1568', '1709', '1509', '1662', '1609', '1612', '1010', '1100',\n",
       "       '1455', '1400', '1647', '1490', '1300', '1401', '1430', '1301',\n",
       "       '1201', '1101', '1425', '1001', '1000', '1200', '1501', '1500',\n",
       "       '1504', '1581', '1465', '1503', '1474', '1444', '1418', '1478',\n",
       "       '1632', '1510', '1363', '1250', '1325', '1350', '1502', '1327',\n",
       "       '1450', '1520', '1150', '1389', '1518', '1185', '1677', '1571',\n",
       "       '1646', '1726', '1586', '1495'], dtype=object)"
      ]
     },
     "execution_count": 31,
     "metadata": {},
     "output_type": "execute_result"
    }
   ],
   "source": [
    "df.century[~df.century.str.contains('[u]')].unique()"
   ]
  },
  {
   "cell_type": "markdown",
   "metadata": {},
   "source": [
    "The following graph shows the publishing activity of Western European literature. Be aware that the displayed data is only an extract of the full Swissbib data, though."
   ]
  },
  {
   "cell_type": "code",
   "execution_count": 32,
   "metadata": {},
   "outputs": [
    {
     "data": {
      "image/png": "[encoded data removed]",
      "text/plain": [
       "<Figure size 864x288 with 1 Axes>"
      ]
     },
     "metadata": {
      "needs_background": "light"
     },
     "output_type": "display_data"
    }
   ],
   "source": [
    "%matplotlib inline\n",
    "import matplotlib.pyplot as plt\n",
    "import numpy as np\n",
    "\n",
    "fig, ax = plt.subplots(nrows=1, ncols=1, figsize=(12, 4))\n",
    "\n",
    "plt.hist(df.century[~df.century.str.contains('[u]')].astype(int), bins=60, log=True)\n",
    "plt.xticks(rotation='vertical')\n",
    "plt.title('Stock of bibliographic units per pubication year')\n",
    "plt.xlabel('year of publication')\n",
    "plt.ylabel('log(amount of bibliographical units)')\n",
    "plt.show()"
   ]
  },
  {
   "cell_type": "markdown",
   "metadata": {},
   "source": [
    "With its data extract [[SwRe](./A_References.ipynb#swre)], Swissbib forwards the year of publication of a bibliographic unit in attribute $\\texttt{century}$ [[FeatWiki](./A_References.ipynb/#feature_deduplication_wiki)], if the bibliographic unit has been published in a specific year as may be the case for a regular book. If the bibliographic unit has been published during a time period, like for example a periodical, the first year of publication is stored [[WiCo2001](./A_References.ipynb#wico2001)]."
   ]
  },
  {
   "cell_type": "markdown",
   "metadata": {},
   "source": [
    "In Swissbib's deduplication implementation, the attribute has a different meaning, though, holding the century of publication instead of its full year [[WiCo2001](./A_References.ipynb#wico2001)]. The data extract offers with $\\texttt{decade}$ an additional attribute holding the same data as $\\texttt{century}$. Even more, attributes $\\texttt{exactDate}$ and $\\texttt{pubyear}$ offer an extended version of attribute $\\texttt{century}$. Due to these redundancies, the attribute will be dropped for the feature matrix and one of the extended attributes with the same data will be taken into account, see below."
   ]
  },
  {
   "cell_type": "code",
   "execution_count": 33,
   "metadata": {},
   "outputs": [],
   "source": [
    "#columns_metadata_dict['data_analysis_columns'] = ['century']"
   ]
  },
  {
   "cell_type": "markdown",
   "metadata": {},
   "source": [
    "### coordinate"
   ]
  },
  {
   "cell_type": "code",
   "execution_count": 34,
   "metadata": {},
   "outputs": [],
   "source": [
    "columns_metadata_dict['list_columns'] = ['coordinate']"
   ]
  },
  {
   "cell_type": "markdown",
   "metadata": {},
   "source": [
    "Attribute $\\texttt{coordinate}$ holds geographical coordinate information on the related bibliographical unit of format map."
   ]
  },
  {
   "cell_type": "code",
   "execution_count": 35,
   "metadata": {},
   "outputs": [
    {
     "name": "stdout",
     "output_type": "stream",
     "text": [
      "Number of records with filled coordinate 730, with missing coordinate 182677 => 0.4%\n"
     ]
    }
   ],
   "source": [
    "daf.find_empty_in_column(df, columns_metadata_dict, 'coordinate')"
   ]
  },
  {
   "cell_type": "code",
   "execution_count": 36,
   "metadata": {},
   "outputs": [
    {
     "name": "stdout",
     "output_type": "stream",
     "text": [
      "Number of records with filled coordinate 729, with missing coordinate 183 => 79.9%\n"
     ]
    }
   ],
   "source": [
    "daf.find_empty_in_column(df[df.format.str[0].str[:2]=='MP'], columns_metadata_dict, 'coordinate')"
   ]
  },
  {
   "cell_type": "code",
   "execution_count": 37,
   "metadata": {},
   "outputs": [
    {
     "data": {
      "text/plain": [
       "19551     [E0081100, N0474200]\n",
       "29684     [W0003700, N0522600]\n",
       "113741    [E0085818, N0471239]\n",
       "76809     [E0185900, N0605200]\n",
       "31078     [E0091556, N0471108]\n",
       "111655    [E0080952, N0471312]\n",
       "111777    [E0095853, N0464538]\n",
       "126812    [E0070042, N0465703]\n",
       "76442     [E0232100, N0354700]\n",
       "114796    [E0063310, N0465340]\n",
       "Name: coordinate, dtype: object"
      ]
     },
     "execution_count": 37,
     "metadata": {},
     "output_type": "execute_result"
    }
   ],
   "source": [
    "df['coordinate'][df.format.str[0].str[:2]=='MP'].sample(n=10)"
   ]
  },
  {
   "cell_type": "markdown",
   "metadata": {},
   "source": [
    "The attribute stores its values in the form of a list. The list may hold more than two specific coordinate values. A specific coordinate value is mostly of length 8 characters."
   ]
  },
  {
   "cell_type": "code",
   "execution_count": 38,
   "metadata": {},
   "outputs": [
    {
     "data": {
      "text/plain": [
       "53969           [E0080312, E0080322, N0475934, N0475924]\n",
       "15139     [E012.500000, E0123000, N046.750000, N0464500]\n",
       "59044           [E0083032, E0083000, N0472444, N0472400]\n",
       "132971          [E0073924, E0073928, N0465238, N0465239]\n",
       "20644           [E0054415, E0054415, N0480000, N0480005]\n",
       "143472          [E0064728, E0064725, N0461460, N0461455]\n",
       "131800          [E0072815, E0072819, N0460829, N0460834]\n",
       "137875          [E0074200, E0074200, N0463427, N0463400]\n",
       "138344          [E0053613, E0053623, N0475929, N0475919]\n",
       "144673          [E0071030, E0071454, N0472004, N0471948]\n",
       "Name: coordinate, dtype: object"
      ]
     },
     "execution_count": 38,
     "metadata": {},
     "output_type": "execute_result"
    }
   ],
   "source": [
    "df_maps = df.loc[df.coordinate.apply(lambda x : len(x))[df.format.str[0].str[:2]=='MP'].index]\n",
    "df_maps.coordinate[df_maps.coordinate.apply(lambda x : len(x)) > 2].sample(n=10)"
   ]
  },
  {
   "cell_type": "code",
   "execution_count": 39,
   "metadata": {},
   "outputs": [
    {
     "data": {
      "text/plain": [
       "'E012.500000 transforms to E0125000'"
      ]
     },
     "execution_count": 39,
     "metadata": {},
     "output_type": "execute_result"
    }
   ],
   "source": [
    "df.coordinate.loc[15139][0] + ' transforms to ' + df.coordinate.loc[15139][0].replace('.', '')[:8].upper()"
   ]
  },
  {
   "cell_type": "code",
   "execution_count": 40,
   "metadata": {},
   "outputs": [
    {
     "data": {
      "text/plain": [
       "'E0125000'"
      ]
     },
     "execution_count": 40,
     "metadata": {},
     "output_type": "execute_result"
    }
   ],
   "source": [
    "df.coordinate.loc[15139][0].replace('.', '')[:8].upper()"
   ]
  },
  {
   "cell_type": "markdown",
   "metadata": {},
   "source": [
    "Attribute $\\texttt{coordinate}$ is a relevant identifying attribute for duplicates of maps. The attribute will be used for pair comparison in the feature matrix. The format of its filled list is slightly complicated, though. The contents of the field will be transformed with the help of a function $\\texttt{.split}\\_\\texttt{coordinate()}$, [[WiCo2001](./A_References.ipynb#wico2001)]."
   ]
  },
  {
   "cell_type": "code",
   "execution_count": 41,
   "metadata": {},
   "outputs": [],
   "source": [
    "df = dpf.split_coordinate(df)"
   ]
  },
  {
   "cell_type": "markdown",
   "metadata": {},
   "source": [
    "The function extracts the first element of the list starting with letter 'E' for East or 'W' for West. It then normalizes the string to a string of length 8, removing all '.' and ' ' characters beforehand. The resulting string element is stored in a new attribute $\\texttt{coordinate}\\_\\texttt{E}$."
   ]
  },
  {
   "cell_type": "code",
   "execution_count": 42,
   "metadata": {},
   "outputs": [
    {
     "data": {
      "text/plain": [
       "15752     e0074122\n",
       "104201    w1244400\n",
       "24578     e0071432\n",
       "105255    e0085200\n",
       "13521     e0072400\n",
       "104821    e0073215\n",
       "126871    e0064700\n",
       "95429     w0001200\n",
       "61315     e0081034\n",
       "123527    e0071428\n",
       "36138     e0690100\n",
       "126874    e0065350\n",
       "106184    e0105500\n",
       "27273     e0130037\n",
       "113751    w0022600\n",
       "126872    e0065352\n",
       "126798    e0064654\n",
       "70860     e0074100\n",
       "114771    e0063958\n",
       "133210    e0160900\n",
       "Name: coordinate_E, dtype: object"
      ]
     },
     "execution_count": 42,
     "metadata": {},
     "output_type": "execute_result"
    }
   ],
   "source": [
    "df.coordinate_E[df.coordinate_E.apply(lambda x : x!='')].sample(n=20)"
   ]
  },
  {
   "cell_type": "markdown",
   "metadata": {},
   "source": [
    "As a next step, the same procedure is done with the first list element starting with letter 'N' for North or 'S' for South. The resulting string element is stored in a new attribute $\\texttt{coordinate}\\_\\texttt{N}$."
   ]
  },
  {
   "cell_type": "code",
   "execution_count": 43,
   "metadata": {},
   "outputs": [
    {
     "data": {
      "text/plain": [
       "146676    n0470015\n",
       "25056     s0221000\n",
       "146880    n0464931\n",
       "105576    n0000000\n",
       "106191    n0481500\n",
       "31077     n0472156\n",
       "138603    n0473900\n",
       "35991     n0460520\n",
       "126754    n0464040\n",
       "126868    n0465345\n",
       "59416     n0491500\n",
       "147071    n0484500\n",
       "113772    n0471220\n",
       "182740    n0465035\n",
       "111774    n0463315\n",
       "114429    n0470625\n",
       "36018     n0470936\n",
       "126815    n0465703\n",
       "106165    n0461114\n",
       "114705    n0470552\n",
       "Name: coordinate_N, dtype: object"
      ]
     },
     "execution_count": 43,
     "metadata": {},
     "output_type": "execute_result"
    }
   ],
   "source": [
    "df.coordinate_N[df.coordinate_N.apply(lambda x : x!='')].sample(n=20)"
   ]
  },
  {
   "cell_type": "code",
   "execution_count": 44,
   "metadata": {},
   "outputs": [
    {
     "name": "stdout",
     "output_type": "stream",
     "text": [
      "East / west coordinates?  [nan 'e' 'w']\n",
      "North / south coordinates?  [nan 'n' 's']\n"
     ]
    }
   ],
   "source": [
    "print('East / west coordinates? ', df.coordinate_E.str[0].unique())\n",
    "print('North / south coordinates? ', df.coordinate_N.str[0].unique())"
   ]
  },
  {
   "cell_type": "markdown",
   "metadata": {},
   "source": [
    "Both new attributes are used for further processing, while the original attribute $\\texttt{coordinate}$ is dropped."
   ]
  },
  {
   "cell_type": "code",
   "execution_count": 45,
   "metadata": {},
   "outputs": [],
   "source": [
    "columns_metadata_dict['data_analysis_columns'].append('coordinate_E')\n",
    "columns_metadata_dict['data_analysis_columns'].append('coordinate_N')"
   ]
  },
  {
   "cell_type": "markdown",
   "metadata": {},
   "source": [
    "### corporate"
   ]
  },
  {
   "cell_type": "code",
   "execution_count": 46,
   "metadata": {},
   "outputs": [],
   "source": [
    "columns_metadata_dict['strings_columns'].append('corporate')"
   ]
  },
  {
   "cell_type": "markdown",
   "metadata": {},
   "source": [
    "Attribute $\\texttt{corporate}$ is a collection of corporate names of the bibliographical unit, see [[FeatWiki](./A_References.ipynb/#feature_deduplication_wiki)]. The attribute out of the raw data comes along as a dictionary column in the DataFrame with three different key value pairs. For a first analysis in this subsection, attribute $\\texttt{corporate}$ will be split into a separate attribute for each key of the dictionary using a special function $\\texttt{.transform}\\_\\texttt{dictionary}\\_\\texttt{to}\\_\\texttt{list()}$. The values then come along as lists and the implemented function $\\texttt{.transform}\\_\\texttt{list}\\_\\texttt{to}\\_\\texttt{string()}$ will be used to process its elements into one single string of the new column."
   ]
  },
  {
   "cell_type": "code",
   "execution_count": 47,
   "metadata": {},
   "outputs": [
    {
     "data": {
      "text/plain": [
       "156160    {'110': ['Universiade. Comité d'organisation. ...\n",
       "58060                     {'110': [], '710': [], '810': []}\n",
       "158299    {'110': ['Summer Olympic Games. Organizing Com...\n",
       "59023                     {'110': [], '710': [], '810': []}\n",
       "86770                     {'110': [], '710': [], '810': []}\n",
       "159923    {'110': ['Salzburg 2014 Bid Committee'], '710'...\n",
       "68360                     {'110': [], '710': [], '810': []}\n",
       "3179                      {'110': [], '710': [], '810': []}\n",
       "19469                     {'110': [], '710': [], '810': []}\n",
       "18515                     {'110': [], '710': [], '810': []}\n",
       "173781                    {'110': [], '710': [], '810': []}\n",
       "168417                    {'110': [], '710': [], '810': []}\n",
       "59621                     {'110': [], '710': [], '810': []}\n",
       "156632    {'110': ['International Olympic Committee'], '...\n",
       "77638                     {'110': [], '710': [], '810': []}\n",
       "138072                    {'110': [], '710': [], '810': []}\n",
       "112414                    {'110': [], '710': [], '810': []}\n",
       "169217    {'110': ['Ecclesia catholica. Arbeitskreis \"Ki...\n",
       "120092                    {'110': [], '710': [], '810': []}\n",
       "175340                    {'110': [], '710': [], '810': []}\n",
       "Name: corporate, dtype: object"
      ]
     },
     "execution_count": 47,
     "metadata": {},
     "output_type": "execute_result"
    }
   ],
   "source": [
    "df.corporate.sample(n=20)"
   ]
  },
  {
   "cell_type": "code",
   "execution_count": 48,
   "metadata": {},
   "outputs": [
    {
     "name": "stdout",
     "output_type": "stream",
     "text": [
      "Number of records with filled corporate_110 11370, with missing corporate_110 172037 => 6.2%\n"
     ]
    },
    {
     "name": "stdout",
     "output_type": "stream",
     "text": [
      "Number of records with filled corporate_710 23123, with missing corporate_710 160284 => 12.6%\n"
     ]
    },
    {
     "name": "stdout",
     "output_type": "stream",
     "text": [
      "Number of records with filled corporate_810 57, with missing corporate_810 183350 => 0.0%\n"
     ]
    }
   ],
   "source": [
    "for ending in ['110', '710', '810']:\n",
    "    df = dpf.transform_dictionary_to_list(df, 'corporate', ending)\n",
    "    df = dpf.transform_list_to_string(df, 'corporate_'+ending)\n",
    "\n",
    "    columns_metadata_dict['strings_columns'].append('corporate_'+ending)\n",
    "    daf.find_empty_in_column(df, columns_metadata_dict, 'corporate_'+ending)"
   ]
  },
  {
   "cell_type": "markdown",
   "metadata": {},
   "source": [
    "The attribute is sparsely filled. This is due to the fact that most of Swissbib's bibliographical units are units produced by persons, not corporates."
   ]
  },
  {
   "cell_type": "code",
   "execution_count": 49,
   "metadata": {},
   "outputs": [
    {
     "data": {
      "text/plain": [
       "corporate_110    11349\n",
       "corporate_710    11349\n",
       "dtype: int64"
      ]
     },
     "execution_count": 49,
     "metadata": {},
     "output_type": "execute_result"
    }
   ],
   "source": [
    "df[['corporate_110', 'corporate_710']][\n",
    "    (df.corporate_110!=df.corporate_710) &\n",
    "    (df.corporate_110.apply(lambda x : len(x))!=0)].count()"
   ]
  },
  {
   "cell_type": "code",
   "execution_count": 50,
   "metadata": {},
   "outputs": [
    {
     "data": {
      "text/plain": [
       "corporate_110    21\n",
       "corporate_710    21\n",
       "dtype: int64"
      ]
     },
     "execution_count": 50,
     "metadata": {},
     "output_type": "execute_result"
    }
   ],
   "source": [
    "df[['corporate_110', 'corporate_710']][\n",
    "    (df.corporate_110==df.corporate_710) &\n",
    "    (df.corporate_110.apply(lambda x : len(x))!=0)].count()"
   ]
  },
  {
   "cell_type": "code",
   "execution_count": 51,
   "metadata": {},
   "outputs": [
    {
     "data": {
      "text/html": [
       "<div>\n",
       "<style scoped>\n",
       "    .dataframe tbody tr th:only-of-type {\n",
       "        vertical-align: middle;\n",
       "    }\n",
       "\n",
       "    .dataframe tbody tr th {\n",
       "        vertical-align: top;\n",
       "    }\n",
       "\n",
       "    .dataframe thead th {\n",
       "        text-align: right;\n",
       "    }\n",
       "</style>\n",
       "<table border=\"1\" class=\"dataframe\">\n",
       "  <thead>\n",
       "    <tr style=\"text-align: right;\">\n",
       "      <th></th>\n",
       "      <th>corporate_110</th>\n",
       "      <th>corporate_710</th>\n",
       "    </tr>\n",
       "  </thead>\n",
       "  <tbody>\n",
       "    <tr>\n",
       "      <th>10383</th>\n",
       "      <td>verein deutscher bibliothekareregionalverband ...</td>\n",
       "      <td>verein deutscher bibliothekareregionalverband ...</td>\n",
       "    </tr>\n",
       "    <tr>\n",
       "      <th>14064</th>\n",
       "      <td>slavs and tatars</td>\n",
       "      <td>kunsthalle im lipsiusbau, kunstverein hannover</td>\n",
       "    </tr>\n",
       "    <tr>\n",
       "      <th>14918</th>\n",
       "      <td>heilsarmeenationales hauptquartier bern</td>\n",
       "      <td>salvation armynationales hauptquartier</td>\n",
       "    </tr>\n",
       "    <tr>\n",
       "      <th>15687</th>\n",
       "      <td>berner alpenbahn-gesellschaft bern-lötschberg-...</td>\n",
       "      <td>lötschbergbahn</td>\n",
       "    </tr>\n",
       "    <tr>\n",
       "      <th>16185</th>\n",
       "      <td>jordan schnitzer family foundation</td>\n",
       "      <td>hallie ford museum of art</td>\n",
       "    </tr>\n",
       "  </tbody>\n",
       "</table>\n",
       "</div>"
      ],
      "text/plain": [
       "                                           corporate_110  \\\n",
       "10383  verein deutscher bibliothekareregionalverband ...   \n",
       "14064                                   slavs and tatars   \n",
       "14918            heilsarmeenationales hauptquartier bern   \n",
       "15687  berner alpenbahn-gesellschaft bern-lötschberg-...   \n",
       "16185                 jordan schnitzer family foundation   \n",
       "\n",
       "                                           corporate_710  \n",
       "10383  verein deutscher bibliothekareregionalverband ...  \n",
       "14064     kunsthalle im lipsiusbau, kunstverein hannover  \n",
       "14918             salvation armynationales hauptquartier  \n",
       "15687                                     lötschbergbahn  \n",
       "16185                          hallie ford museum of art  "
      ]
     },
     "execution_count": 51,
     "metadata": {},
     "output_type": "execute_result"
    }
   ],
   "source": [
    "df[['corporate_110', 'corporate_710']][\n",
    "    (df.corporate_110!=df.corporate_710) &\n",
    "    (df.corporate_110.apply(lambda x : len(x))!=0) &\n",
    "    (df.corporate_710.apply(lambda x : len(x))!=0)\n",
    "].head()"
   ]
  },
  {
   "cell_type": "markdown",
   "metadata": {},
   "source": [
    "The attribute holds different data in its dictionary key 110 compared to its dictionary key 710. Both key values of $\\texttt{corporate}$ seem to be relevant for the model. Some examples are shown below."
   ]
  },
  {
   "cell_type": "code",
   "execution_count": 52,
   "metadata": {},
   "outputs": [
    {
     "data": {
      "text/plain": [
       "150166    panamerican sportive games. organizing committ...\n",
       "167899    summer youth olympic games. organizing committ...\n",
       "149289    international olympic committee. evaluation co...\n",
       "159980    summer olympic games. organizing committee. 9,...\n",
       "114039                                orchesterverein brugg\n",
       "32537                                     pro infirmis bern\n",
       "51344                           england and walesparliament\n",
       "151157    summer olympic games. organizing committee. 29...\n",
       "158898                          british olympic association\n",
       "166235    summer olympic games. organizing committee. 27...\n",
       "30148        amies de la jeune fille du canton de neuchâtel\n",
       "151107    summer olympic games. organizing committee. 25...\n",
       "159128    olympic winter games. organizing committee. 23...\n",
       "92482                                      montres rolex sa\n",
       "160798         centre international pour la trêve olympique\n",
       "126727    basel-stadtgrosser ratumwelt-, verkehrs- und e...\n",
       "170772             nagano winter olympics bidding committee\n",
       "150814                      international olympic committee\n",
       "163271    jeux de la péninsule du sud-est asiatique. com...\n",
       "167739    olympic winter games. organizing committee. 23...\n",
       "Name: corporate_110, dtype: object"
      ]
     },
     "execution_count": 52,
     "metadata": {},
     "output_type": "execute_result"
    }
   ],
   "source": [
    "df.corporate_110[df.corporate_110.apply(lambda x : len(x))!=0].sample(n=20)"
   ]
  },
  {
   "cell_type": "code",
   "execution_count": 53,
   "metadata": {},
   "outputs": [
    {
     "data": {
      "text/plain": [
       "145966                                   kamernij chor kyïv\n",
       "84613       suisseservice suisse d'enquête de sécurité sese\n",
       "175788            musée suisse de gymnastique et des sports\n",
       "106182    kanton st.gallenberufs- und laufbahnberatung, ...\n",
       "25801                  crait + müller, hôtel drouot (paris)\n",
       "101987                                    aciera (le locle)\n",
       "75338                                  the bichel committee\n",
       "25594     chambre de commerce et d'industrie du canton d...\n",
       "10953                                               killers\n",
       "14947                                         black sabbath\n",
       "14433                                            fondamento\n",
       "174824    american chemical societydivision of air, wate...\n",
       "93813                               schweizfinanzdelegation\n",
       "4853                                        backstreet boys\n",
       "155954    france. ministère de la jeunesse et des sports...\n",
       "137549    unione del commercio, del turismo e dei serviz...\n",
       "17230     schweizerischer evangelischer verband frauenhi...\n",
       "121340                                         ebrary, inc.\n",
       "101948                                     bonhams (london)\n",
       "61298           monacensia - literaturarchiv und bibliothek\n",
       "Name: corporate_710, dtype: object"
      ]
     },
     "execution_count": 53,
     "metadata": {},
     "output_type": "execute_result"
    }
   ],
   "source": [
    "df.corporate_710[df.corporate_710.apply(lambda x : len(x))!=0].sample(n=20)"
   ]
  },
  {
   "cell_type": "code",
   "execution_count": 54,
   "metadata": {},
   "outputs": [
    {
     "data": {
      "text/plain": [
       "72562                             werbung kiser\n",
       "110574                                hema maps\n",
       "110586                  hallwag kümmerly + frey\n",
       "72556                             werbung kiser\n",
       "106150                  hallwag kümmerly + frey\n",
       "86065                   hallwag kümmerly + frey\n",
       "61902                   hallwag kümmerly + frey\n",
       "133739      deutschlandverteidigungsministerium\n",
       "106184                  hallwag kümmerly + frey\n",
       "113869                  peter-ochs-gesellschaft\n",
       "110576                                hema maps\n",
       "106156                  hallwag kümmerly + frey\n",
       "110597                  hallwag kümmerly + frey\n",
       "72532                             werbung kiser\n",
       "52134           kunsthandlung helmut h. rumbler\n",
       "133537    schweizbundesamt für landestopografie\n",
       "94678                                 hécatombe\n",
       "25406     schweizbundesamt für landestopografie\n",
       "110598                  hallwag kümmerly + frey\n",
       "72548                             werbung kiser\n",
       "Name: corporate_810, dtype: object"
      ]
     },
     "execution_count": 54,
     "metadata": {},
     "output_type": "execute_result"
    }
   ],
   "source": [
    "df.corporate_810[df.corporate_810.apply(lambda x : len(x))!=0].sample(n=20)"
   ]
  },
  {
   "cell_type": "code",
   "execution_count": 55,
   "metadata": {},
   "outputs": [
    {
     "data": {
      "text/plain": [
       "45080     {'110': [], '710': [], '810': ['Wirtschaftsuni...\n",
       "47145     {'110': ['Biochemical Society (Great Britain)S...\n",
       "52134     {'110': [], '710': ['Kunsthandlung Helmut H. R...\n",
       "94673     {'110': [], '710': ['Ensemble Batida', 'Hécato...\n",
       "94674     {'110': [], '710': ['Ensemble Batida', 'Hécato...\n",
       "94678     {'110': [], '710': ['Ensemble Batida', 'Hécato...\n",
       "94679     {'110': [], '710': ['Ensemble Batida', 'Hécato...\n",
       "94680     {'110': [], '710': ['Ensemble Batida', 'Hécato...\n",
       "113869    {'110': [], '710': [], '810': ['Peter-Ochs-Ges...\n",
       "113870    {'110': [], '710': [], '810': ['Peter-Ochs-Ges...\n",
       "133706    {'110': ['Carnegie Endowment for International...\n",
       "133739    {'110': [], '710': [], '810': ['DeutschlandVer...\n",
       "143892    {'110': ['Judge Advocate General's School (Uni...\n",
       "Name: corporate, dtype: object"
      ]
     },
     "execution_count": 55,
     "metadata": {},
     "output_type": "execute_result"
    }
   ],
   "source": [
    "df.corporate[(df.corporate_110 != df.corporate_810) &\n",
    "             (df.corporate_810.apply(lambda x : len(x))!=0)]"
   ]
  },
  {
   "cell_type": "markdown",
   "metadata": {},
   "source": [
    "Only a few records hold data in attribute $\\texttt{corporate}$ with key 810. Furthermore, attribute $\\texttt{corporate}$ at key 810 stores strongly redundant data to $\\texttt{corporate}$ at key value 110. Therefore, attribute $\\texttt{corporate}$ with key 810 will be dropped [[WiCo2001](./A_References.ipynb#wico2001)]."
   ]
  },
  {
   "cell_type": "markdown",
   "metadata": {},
   "source": [
    "The contents of attribute $\\texttt{corporate}$ results from varying interpretation and filling. Some institutions have used key 110 and others 710 as their leading corporate data field. Swissbib's recommendation therefore is to concatenate the two remaining $\\texttt{corporate}$ fields into one single $\\texttt{corporate}$ field [[WiCo2001](./A_References.ipynb#wico2001)]. The two remaining attributes will be taken into one and will be processed as one singe attribute in the feature matrix generation. This will be implemented in a separate function $\\texttt{.concatenate}\\_\\texttt{corporate}\\_\\texttt{keys()}$, the result of which is shown below for some sample cases."
   ]
  },
  {
   "cell_type": "code",
   "execution_count": 56,
   "metadata": {},
   "outputs": [
    {
     "data": {
      "text/html": [
       "<div>\n",
       "<style scoped>\n",
       "    .dataframe tbody tr th:only-of-type {\n",
       "        vertical-align: middle;\n",
       "    }\n",
       "\n",
       "    .dataframe tbody tr th {\n",
       "        vertical-align: top;\n",
       "    }\n",
       "\n",
       "    .dataframe thead th {\n",
       "        text-align: right;\n",
       "    }\n",
       "</style>\n",
       "<table border=\"1\" class=\"dataframe\">\n",
       "  <thead>\n",
       "    <tr style=\"text-align: right;\">\n",
       "      <th></th>\n",
       "      <th>corporate_full</th>\n",
       "      <th>corporate_110</th>\n",
       "      <th>corporate_710</th>\n",
       "    </tr>\n",
       "  </thead>\n",
       "  <tbody>\n",
       "    <tr>\n",
       "      <th>0</th>\n",
       "      <td></td>\n",
       "      <td></td>\n",
       "      <td></td>\n",
       "    </tr>\n",
       "    <tr>\n",
       "      <th>6</th>\n",
       "      <td>christkatholische kirchgemeinde (bern)</td>\n",
       "      <td></td>\n",
       "      <td>christkatholische kirchgemeinde (bern)</td>\n",
       "    </tr>\n",
       "    <tr>\n",
       "      <th>1852</th>\n",
       "      <td>the keywords project</td>\n",
       "      <td>the keywords project</td>\n",
       "      <td></td>\n",
       "    </tr>\n",
       "    <tr>\n",
       "      <th>14405</th>\n",
       "      <td>zéphyr combo</td>\n",
       "      <td>zéphyr combo</td>\n",
       "      <td>zéphyr combo</td>\n",
       "    </tr>\n",
       "    <tr>\n",
       "      <th>183000</th>\n",
       "      <td>fbm communications (zürich) theater 11 (zürich)</td>\n",
       "      <td>fbm communications (zürich)</td>\n",
       "      <td>theater 11 (zürich)</td>\n",
       "    </tr>\n",
       "    <tr>\n",
       "      <th>183009</th>\n",
       "      <td>spinas civil voices (zürich) fairmed (bern)</td>\n",
       "      <td>spinas civil voices (zürich)</td>\n",
       "      <td>fairmed (bern)</td>\n",
       "    </tr>\n",
       "  </tbody>\n",
       "</table>\n",
       "</div>"
      ],
      "text/plain": [
       "                                         corporate_full  \\\n",
       "0                                                         \n",
       "6                christkatholische kirchgemeinde (bern)   \n",
       "1852                               the keywords project   \n",
       "14405                                      zéphyr combo   \n",
       "183000  fbm communications (zürich) theater 11 (zürich)   \n",
       "183009      spinas civil voices (zürich) fairmed (bern)   \n",
       "\n",
       "                       corporate_110                           corporate_710  \n",
       "0                                                                             \n",
       "6                                     christkatholische kirchgemeinde (bern)  \n",
       "1852            the keywords project                                          \n",
       "14405                   zéphyr combo                            zéphyr combo  \n",
       "183000   fbm communications (zürich)                     theater 11 (zürich)  \n",
       "183009  spinas civil voices (zürich)                          fairmed (bern)  "
      ]
     },
     "execution_count": 56,
     "metadata": {},
     "output_type": "execute_result"
    }
   ],
   "source": [
    "df = dpf.concatenate_corporate_keys(df)\n",
    "df[['corporate_full', 'corporate_110', 'corporate_710']].loc[[0, 6, 1852, 14405, 183000, 183009]]"
   ]
  },
  {
   "cell_type": "code",
   "execution_count": 57,
   "metadata": {},
   "outputs": [
    {
     "data": {
      "text/plain": [
       "0"
      ]
     },
     "execution_count": 57,
     "metadata": {},
     "output_type": "execute_result"
    }
   ],
   "source": [
    "len(df['corporate_full'].loc[0])"
   ]
  },
  {
   "cell_type": "code",
   "execution_count": 58,
   "metadata": {},
   "outputs": [
    {
     "data": {
      "text/plain": [
       "171145    gobierno de la ciudad de buenos aires summer y...\n",
       "164387           union internationale de pentathlon moderne\n",
       "159966    panamerican sportive games. organizing committ...\n",
       "51844     england and walessovereign (1660-1685 : charle...\n",
       "162230                     pan american sports organization\n",
       "151934       nationales olympisches komitee für deutschland\n",
       "149503    olympic winter games. organizing committee. 16...\n",
       "152351    summer olympic games. organizing committee. 20...\n",
       "150388         melbourne olympic candidature 1996 committee\n",
       "99716                                      caritas freiburg\n",
       "153550    olympic winter games. organizing committee. 14...\n",
       "158331          burson-marsteller tse consulting (lausanne)\n",
       "158735    summer olympic games. organizing committee. 27...\n",
       "154607    olympic winter games. organizing committee. 16...\n",
       "169911                            detroit olympic committee\n",
       "167757                      international olympic committee\n",
       "153683    pyeongchang 2014 olympic winter games bid comm...\n",
       "149197    summer olympic games. organizing committee. 22...\n",
       "150399                    norwegian telecom olympic project\n",
       "169214                           japanese olympic committee\n",
       "Name: corporate_full, dtype: object"
      ]
     },
     "metadata": {},
     "output_type": "display_data"
    },
    {
     "data": {
      "text/plain": [
       "4334                                                  dawes\n",
       "68506     deutsche gesellschaft für erziehungswissenscha...\n",
       "49160          chiesa cattolica, pezzana, niccolò (venezia)\n",
       "22229                          berkeley linguistics society\n",
       "6383                                         bouts ensemble\n",
       "148130                        springerlink (online service)\n",
       "54323     institut für rohrleitungsbau an der fachhochsc...\n",
       "153902                    azienda generale italiana petroli\n",
       "144532    securitas ag, schweizerische bewachungsgesells...\n",
       "174064                         medienprojekt wuppertal e.v.\n",
       "56946         american society for metalshandbook committee\n",
       "11799                             phace, ensemble recherche\n",
       "112574     deutscher genossenschafts- und raiffeisenverband\n",
       "115315                               museum voor naaldkunst\n",
       "162104                        fédération française de voile\n",
       "144957     schweizbundesamt für umwelt, wald und landschaft\n",
       "14070                      bibelheim böblingen, bibelschule\n",
       "46820                         springerlink (online service)\n",
       "175924    suissedirection du développement et de la coop...\n",
       "140963    centro di studi sulla civiltà del tardo medioe...\n",
       "Name: corporate_full, dtype: object"
      ]
     },
     "metadata": {},
     "output_type": "display_data"
    }
   ],
   "source": [
    "display(df.corporate_full[df.corporate_110.apply(lambda x : len(x))!=0].sample(n=20))\n",
    "display(df.corporate_full[df.corporate_710.apply(lambda x : len(x))!=0].sample(n=20))"
   ]
  },
  {
   "cell_type": "code",
   "execution_count": 59,
   "metadata": {},
   "outputs": [],
   "source": [
    "columns_metadata_dict['data_analysis_columns'].append('corporate_full')"
   ]
  },
  {
   "cell_type": "markdown",
   "metadata": {},
   "source": [
    "### decade"
   ]
  },
  {
   "cell_type": "code",
   "execution_count": 60,
   "metadata": {},
   "outputs": [],
   "source": [
    "columns_metadata_dict['strings_columns'].append('decade')"
   ]
  },
  {
   "cell_type": "code",
   "execution_count": 61,
   "metadata": {},
   "outputs": [
    {
     "data": {
      "text/html": [
       "<div>\n",
       "<style scoped>\n",
       "    .dataframe tbody tr th:only-of-type {\n",
       "        vertical-align: middle;\n",
       "    }\n",
       "\n",
       "    .dataframe tbody tr th {\n",
       "        vertical-align: top;\n",
       "    }\n",
       "\n",
       "    .dataframe thead th {\n",
       "        text-align: right;\n",
       "    }\n",
       "</style>\n",
       "<table border=\"1\" class=\"dataframe\">\n",
       "  <thead>\n",
       "    <tr style=\"text-align: right;\">\n",
       "      <th></th>\n",
       "      <th>docid</th>\n",
       "      <th>035liste</th>\n",
       "      <th>isbn</th>\n",
       "      <th>ttlfull</th>\n",
       "      <th>ttlpart</th>\n",
       "      <th>person</th>\n",
       "      <th>corporate</th>\n",
       "      <th>pubyear</th>\n",
       "      <th>decade</th>\n",
       "      <th>century</th>\n",
       "      <th>exactDate</th>\n",
       "      <th>...</th>\n",
       "      <th>coordinate</th>\n",
       "      <th>doi</th>\n",
       "      <th>ismn</th>\n",
       "      <th>musicid</th>\n",
       "      <th>format</th>\n",
       "      <th>coordinate_E</th>\n",
       "      <th>coordinate_N</th>\n",
       "      <th>corporate_110</th>\n",
       "      <th>corporate_710</th>\n",
       "      <th>corporate_810</th>\n",
       "      <th>corporate_full</th>\n",
       "    </tr>\n",
       "  </thead>\n",
       "  <tbody>\n",
       "  </tbody>\n",
       "</table>\n",
       "<p>0 rows × 29 columns</p>\n",
       "</div>"
      ],
      "text/plain": [
       "Empty DataFrame\n",
       "Columns: [docid, 035liste, isbn, ttlfull, ttlpart, person, corporate, pubyear, decade, century, exactDate, edition, part, pages, volumes, pubinit, pubword, scale, coordinate, doi, ismn, musicid, format, coordinate_E, coordinate_N, corporate_110, corporate_710, corporate_810, corporate_full]\n",
       "Index: []\n",
       "\n",
       "[0 rows x 29 columns]"
      ]
     },
     "execution_count": 61,
     "metadata": {},
     "output_type": "execute_result"
    }
   ],
   "source": [
    "df[df.decade != df.century]"
   ]
  },
  {
   "cell_type": "markdown",
   "metadata": {},
   "source": [
    "Attribute $\\texttt{decade}$ holds identical data to attribute $\\texttt{century}$, out of Swissbib's data extract [[SwRe](./A_References.ipynb#swre)], see above and its identical MARC 21 definition [[FeatWiki](./A_References.ipynb#feature_deduplication_wiki)]. The purpose of the field in Swissbib's conventional deduplication implementation is to hold the decade of the year of origin of a bibliographic unit and store it for comparison [[WiCo2001](./A_References.ipynb#wico2001)]."
   ]
  },
  {
   "cell_type": "markdown",
   "metadata": {},
   "source": [
    "Chapter [Feature Matrix Generation](./3_FeatureMatrixGeneration.ipynb) will apply a similarity metric for $\\texttt{exactDate}$ with an extension of the data of this attribute. Therefore, attribute $\\texttt{decade}$ will be dropped for further processing."
   ]
  },
  {
   "cell_type": "markdown",
   "metadata": {},
   "source": [
    "### docid"
   ]
  },
  {
   "cell_type": "code",
   "execution_count": 62,
   "metadata": {},
   "outputs": [],
   "source": [
    "columns_metadata_dict['strings_columns'].append('docid')"
   ]
  },
  {
   "cell_type": "code",
   "execution_count": 63,
   "metadata": {},
   "outputs": [
    {
     "name": "stdout",
     "output_type": "stream",
     "text": [
      "Number of records with filled docid 183407, with missing docid 0 => 100.0%\n"
     ]
    }
   ],
   "source": [
    "daf.find_empty_in_column(df, columns_metadata_dict, 'docid')"
   ]
  },
  {
   "cell_type": "code",
   "execution_count": 64,
   "metadata": {},
   "outputs": [
    {
     "data": {
      "text/plain": [
       "'554061449'"
      ]
     },
     "execution_count": 64,
     "metadata": {},
     "output_type": "execute_result"
    }
   ],
   "source": [
    "df.docid[0]"
   ]
  },
  {
   "cell_type": "markdown",
   "metadata": {},
   "source": [
    "The $\\texttt{docid}$ is a unique identifier for a record of the data set. The attribute will become important for identifying master records for their associated slave records, see chapter [Goldstandard and Data Preparation](./2_GoldstandardDataPreparation.ipynb). It will not be used directly for the training of the model."
   ]
  },
  {
   "cell_type": "markdown",
   "metadata": {},
   "source": [
    "### doi"
   ]
  },
  {
   "cell_type": "code",
   "execution_count": 65,
   "metadata": {},
   "outputs": [],
   "source": [
    "columns_metadata_dict['list_columns'].append('doi')"
   ]
  },
  {
   "cell_type": "code",
   "execution_count": 66,
   "metadata": {},
   "outputs": [
    {
     "name": "stdout",
     "output_type": "stream",
     "text": [
      "Number of records with filled doi 9553, with missing doi 173854 => 5.2%\n"
     ]
    }
   ],
   "source": [
    "daf.find_empty_in_column(df, columns_metadata_dict, 'doi')"
   ]
  },
  {
   "cell_type": "markdown",
   "metadata": {},
   "source": [
    "Attribute $\\texttt{doi}$ is a digital object identifier. As specified in [[MARC](./A_References.ipynb#marc21)], the field holds several standard numbers [[FeatWiki](./A_References.ipynb#feature_deduplication_wiki)]. The attribute holds a list of string elements. Some samples are shown below."
   ]
  },
  {
   "cell_type": "code",
   "execution_count": 67,
   "metadata": {},
   "outputs": [
    {
     "data": {
      "text/plain": [
       "1899         [10.5451/unibas-007052902]\n",
       "1937         [10.5451/unibas-007052953]\n",
       "4710           [10.14361/9783839445334]\n",
       "10480        [10.5451/unibas-007052913]\n",
       "11917       [10.1007/978-1-4939-6572-4]\n",
       "15775    [10.5771/1439-880X-2018-3-362]\n",
       "16124            [10.3931/e-rara-74297]\n",
       "16194           [10.4324/9781138604391]\n",
       "16212            [10.3931/e-rara-74297]\n",
       "16219            [10.3931/e-rara-74297]\n",
       "16222            [10.3931/e-rara-74297]\n",
       "16244            [10.3931/e-rara-74297]\n",
       "16245            [10.3931/e-rara-74297]\n",
       "16256            [10.3931/e-rara-74297]\n",
       "16265           [10.4324/9781315562193]\n",
       "16301           [10.4324/9781315692845]\n",
       "16354            [10.3931/e-rara-74439]\n",
       "16356                  [10.3726/b14897]\n",
       "16447           [10.4324/9781315150918]\n",
       "16637          [10.1186/1478-4505-8-31]\n",
       "Name: doi, dtype: object"
      ]
     },
     "execution_count": 67,
     "metadata": {},
     "output_type": "execute_result"
    }
   ],
   "source": [
    "df.doi[df.doi.apply(lambda x : len(x))>0].head(20)"
   ]
  },
  {
   "cell_type": "code",
   "execution_count": 68,
   "metadata": {},
   "outputs": [
    {
     "data": {
      "text/plain": [
       "39462                               [10.1515/9781400881895]\n",
       "53526     [10.5167/uzh-165264, 10.1158/1078-0432.ccr-17-...\n",
       "46637                               [10.1515/9783110211313]\n",
       "46519                       [10.4159/harvard.9780674432888]\n",
       "110738         [10.5167/uzh-162618, 10.1055/s-0038-1660503]\n",
       "53528                                  [10.5167/uzh-165356]\n",
       "43704                               [10.1524/9783486595123]\n",
       "97799                   [10.1016/j.chemosphere.2018.11.187]\n",
       "46697                       [10.4159/harvard.9780674432734]\n",
       "126665    [10.3929/ethz-b-000328593, 10.1109/ICRA.2019.8...\n",
       "93139                                [10.3931/e-rara-74806]\n",
       "22278                            [10.5075/epfl-thesis-8729]\n",
       "20789                            [10.3929/ethz-b-000309556]\n",
       "30010                       [10.1080/17430437.2016.1273612]\n",
       "49907                                  [10.5167/uzh-165046]\n",
       "123375    [10.5167/uzh-162642, 10.11909/j.issn.1671-5411...\n",
       "97056                                [10.5169/seals-790601]\n",
       "86257                                  [10.5167/uzh-167783]\n",
       "62530                            [10.3929/ethz-b-000104334]\n",
       "124553                                 [10.5167/uzh-168426]\n",
       "Name: doi, dtype: object"
      ]
     },
     "execution_count": 68,
     "metadata": {},
     "output_type": "execute_result"
    }
   ],
   "source": [
    "df.doi[df.doi.apply(lambda x : len(x))>0].sample(n=20)"
   ]
  },
  {
   "cell_type": "code",
   "execution_count": 69,
   "metadata": {},
   "outputs": [
    {
     "data": {
      "text/plain": [
       "docid                                                     554871254\n",
       "035liste          [(VAUD)991021210193902852, (CKB)41000000059582...\n",
       "isbn                                                [3-319-93133-4]\n",
       "ttlfull           {'245': ['IAEG/AEG Annual Meeting Proceedings,...\n",
       "ttlpart           {'245': ['IAEG/AEG Annual Meeting Proceedings,...\n",
       "person            {'100': [], '700': ['ShakoorAbdul', 'CatoKerry...\n",
       "corporate                         {'110': [], '710': [], '810': []}\n",
       "pubyear                                                    2019    \n",
       "decade                                                         2019\n",
       "century                                                        2019\n",
       "exactDate                                                  2019    \n",
       "edition                                               1st ed. 2019.\n",
       "part                                                             []\n",
       "pages                               [1 online resource (122 pages)]\n",
       "volumes                             [1 online resource (122 pages)]\n",
       "pubinit                                                          []\n",
       "pubword                                                          []\n",
       "scale                                                              \n",
       "coordinate                                                       []\n",
       "doi                                     [10.1007/978-3-319-93133-3]\n",
       "ismn                                                             []\n",
       "musicid                                                            \n",
       "format                                                   [BK020053]\n",
       "coordinate_E                                                       \n",
       "coordinate_N                                                       \n",
       "corporate_110                                                      \n",
       "corporate_710                                                      \n",
       "corporate_810                                                      \n",
       "corporate_full                                                     \n",
       "Name: 51889, dtype: object"
      ]
     },
     "execution_count": 69,
     "metadata": {},
     "output_type": "execute_result"
    }
   ],
   "source": [
    "df.loc[51889]"
   ]
  },
  {
   "cell_type": "code",
   "execution_count": 70,
   "metadata": {},
   "outputs": [
    {
     "name": "stdout",
     "output_type": "stream",
     "text": [
      "9,553 records hold 1 list element(s).\n",
      "2,232 records hold 2 list element(s).\n"
     ]
    },
    {
     "name": "stdout",
     "output_type": "stream",
     "text": [
      "=> Maximum number of list elements 2\n"
     ]
    }
   ],
   "source": [
    "i = 0\n",
    "while len(df.doi[df.doi.apply(lambda x : len(x))>i]) > 0 :\n",
    "    i = i+1\n",
    "    print('{:,d} records hold {:d} list element(s).'.format(len(df.doi[df.doi.apply(lambda x : len(x))>=i]), i))\n",
    "        \n",
    "print('=> Maximum number of list elements', max(df.doi.apply(lambda x : len(x))))"
   ]
  },
  {
   "cell_type": "markdown",
   "metadata": {},
   "source": [
    "Swissbib's deduplication implementation compares only real doi identifiers [[WiCo2001](./A_References.ipynb#wico2001)]. Real doi identifiers can be found with the help of a subfield that is missing in Swissbib's data extract [[SwRe](./A_References.ipynb#swre)]. Alternatively, a doi can be identified as a string starting with '10.'. Furthermore, each row in the data has a maximum of 1 real doi identifier [[WiCo2001](./A_References.ipynb#wico2001)]. This logic will be used to isolate the real doi from all non-doi identifiers in a row. A function $\\texttt{.reduce}\\_\\texttt{to}\\_\\texttt{doi}\\_\\texttt{element()}$ has been implemented that takes care of this isolation and stores only real doi identifiers in attribute $\\texttt{doi}$."
   ]
  },
  {
   "cell_type": "code",
   "execution_count": 71,
   "metadata": {},
   "outputs": [],
   "source": [
    "df = dpf.reduce_to_attrib_element(df, 'doi')"
   ]
  },
  {
   "cell_type": "code",
   "execution_count": 72,
   "metadata": {},
   "outputs": [
    {
     "data": {
      "text/plain": [
       "24412                10.5167/uzh-161899\n",
       "34335                10.5167/uzh-134915\n",
       "58422                10.5167/uzh-165342\n",
       "97020              10.5169/seals-790528\n",
       "134610         10.1017/cbo9781107358409\n",
       "123817         10.3929/ethz-b-000321160\n",
       "113524         10.3929/ethz-b-000315340\n",
       "45783             10.1515/9783110224597\n",
       "180286        10.1007/978-3-319-09057-3\n",
       "92715                10.5167/uzh-161898\n",
       "46443         10.1007/978-3-319-77875-4\n",
       "147115             10.3931/e-rara-75439\n",
       "110733               10.5167/uzh-162590\n",
       "171969             10.3931/e-rara-76192\n",
       "20782          10.3389/fendo.2018.00776\n",
       "30025              10.1200/jco.18.01668\n",
       "24144     10.1016/j.metabol.2018.06.005\n",
       "84728                10.5167/uzh-162254\n",
       "97061              10.5169/seals-790606\n",
       "86191                10.5167/uzh-162026\n",
       "Name: doi, dtype: object"
      ]
     },
     "execution_count": 72,
     "metadata": {},
     "output_type": "execute_result"
    }
   ],
   "source": [
    "df.doi[df.doi.apply(lambda x : len(x)>0)].sample(n=20)"
   ]
  },
  {
   "cell_type": "code",
   "execution_count": 73,
   "metadata": {},
   "outputs": [],
   "source": [
    "columns_metadata_dict['data_analysis_columns'].append('doi')"
   ]
  },
  {
   "cell_type": "markdown",
   "metadata": {},
   "source": [
    "### edition"
   ]
  },
  {
   "cell_type": "code",
   "execution_count": 74,
   "metadata": {},
   "outputs": [],
   "source": [
    "columns_metadata_dict['strings_columns'].append('edition')"
   ]
  },
  {
   "cell_type": "code",
   "execution_count": 75,
   "metadata": {},
   "outputs": [
    {
     "name": "stdout",
     "output_type": "stream",
     "text": [
      "Number of records with filled edition 25352, with missing edition 158055 => 13.8%\n"
     ]
    }
   ],
   "source": [
    "daf.find_empty_in_column(df, columns_metadata_dict, 'edition')"
   ]
  },
  {
   "cell_type": "markdown",
   "metadata": {},
   "source": [
    "Attribute $\\texttt{edition}$ holds the edition statement [[FeatWiki](./A_References.ipynb/#feature_deduplication_wiki)]. The data type of the attribute is a string value."
   ]
  },
  {
   "cell_type": "code",
   "execution_count": 76,
   "metadata": {},
   "outputs": [
    {
     "data": {
      "text/plain": [
       "121135                                     1st ed.\n",
       "27946                                      2. Aufl\n",
       "64878                                     6. impr.\n",
       "120495                                      1st ed\n",
       "22321                               Spring edition\n",
       "60483     Von neuem mit allem Fleiss ausgefertiget\n",
       "41395                                      2. Aufl\n",
       "66388                                    [Réimpr.]\n",
       "148121                                2nd ed. 2014\n",
       "126597                                  1. Auflage\n",
       "121239                                     1st ed.\n",
       "67532                                    [11e éd.]\n",
       "14173                                  Erfolgsausg\n",
       "54738                                   1. Auflage\n",
       "35887                           8. aktual. Auflage\n",
       "74300                                   1. Auflage\n",
       "79377                                Third edition\n",
       "6858                                  Rev. Fassung\n",
       "121369                                      1st ed\n",
       "121917                                1. [Auflage]\n",
       "Name: edition, dtype: object"
      ]
     },
     "execution_count": 76,
     "metadata": {},
     "output_type": "execute_result"
    }
   ],
   "source": [
    "edition_sample_index = df.edition[df.edition.apply(lambda x : len(x)>0)].sample(n=20).index\n",
    "df.edition.loc[edition_sample_index]"
   ]
  },
  {
   "cell_type": "markdown",
   "metadata": {},
   "source": [
    "Swissbib's deduplication logic normalizes this attribute strongly [[WiCo2001](./A_References.ipynb#wico2001)]. Goal of their normalization process is to treat different variants of the edition statements in the same way. The normalization comprises mainly extracting and isolating number digits out of the original string of the attribute. But also, they convert words expressing numbers to number digits. The first part of their normalization process, extracting number digits, will be done as well in this capstone project. For this purpose, a special function $\\texttt{.isolate}\\_\\texttt{number}\\_\\texttt{from}\\_\\texttt{string()}$ has been implemented for attribute $\\texttt{edition}$."
   ]
  },
  {
   "cell_type": "code",
   "execution_count": 77,
   "metadata": {},
   "outputs": [
    {
     "data": {
      "text/plain": [
       "121135     1\n",
       "27946      2\n",
       "64878      6\n",
       "120495     1\n",
       "22321       \n",
       "60483       \n",
       "41395      2\n",
       "66388       \n",
       "148121     2\n",
       "126597     1\n",
       "121239     1\n",
       "67532     11\n",
       "14173       \n",
       "54738      1\n",
       "35887      8\n",
       "74300      1\n",
       "79377       \n",
       "6858        \n",
       "121369     1\n",
       "121917     1\n",
       "Name: edition, dtype: object"
      ]
     },
     "execution_count": 77,
     "metadata": {},
     "output_type": "execute_result"
    }
   ],
   "source": [
    "df = dpf.isolate_number_from_string(df, 'edition')\n",
    "df.edition.loc[edition_sample_index]"
   ]
  },
  {
   "cell_type": "code",
   "execution_count": 78,
   "metadata": {},
   "outputs": [
    {
     "name": "stdout",
     "output_type": "stream",
     "text": [
      "Number of records with filled edition 16390, with missing edition 167017 => 8.9%\n"
     ]
    }
   ],
   "source": [
    "daf.find_empty_in_column(df, columns_metadata_dict, 'edition')"
   ]
  },
  {
   "cell_type": "markdown",
   "metadata": {},
   "source": [
    "As a result of this processing of attribute $\\texttt{edition}$, the numer of filles rows is still reduced."
   ]
  },
  {
   "cell_type": "code",
   "execution_count": 79,
   "metadata": {},
   "outputs": [],
   "source": [
    "columns_metadata_dict['data_analysis_columns'].append('edition')"
   ]
  },
  {
   "cell_type": "markdown",
   "metadata": {},
   "source": [
    "### exactDate"
   ]
  },
  {
   "cell_type": "code",
   "execution_count": 80,
   "metadata": {},
   "outputs": [],
   "source": [
    "columns_metadata_dict['strings_columns'].append('exactDate')"
   ]
  },
  {
   "cell_type": "code",
   "execution_count": 81,
   "metadata": {},
   "outputs": [
    {
     "name": "stdout",
     "output_type": "stream",
     "text": [
      "Number of records with filled exactDate 183407, with missing exactDate 0 => 100.0%\n"
     ]
    }
   ],
   "source": [
    "daf.find_empty_in_column(df, columns_metadata_dict, 'exactDate')"
   ]
  },
  {
   "cell_type": "code",
   "execution_count": 82,
   "metadata": {},
   "outputs": [
    {
     "data": {
      "text/html": [
       "<div>\n",
       "<style scoped>\n",
       "    .dataframe tbody tr th:only-of-type {\n",
       "        vertical-align: middle;\n",
       "    }\n",
       "\n",
       "    .dataframe tbody tr th {\n",
       "        vertical-align: top;\n",
       "    }\n",
       "\n",
       "    .dataframe thead th {\n",
       "        text-align: right;\n",
       "    }\n",
       "</style>\n",
       "<table border=\"1\" class=\"dataframe\">\n",
       "  <thead>\n",
       "    <tr style=\"text-align: right;\">\n",
       "      <th></th>\n",
       "      <th>docid</th>\n",
       "      <th>035liste</th>\n",
       "      <th>isbn</th>\n",
       "      <th>ttlfull</th>\n",
       "      <th>ttlpart</th>\n",
       "      <th>person</th>\n",
       "      <th>corporate</th>\n",
       "      <th>pubyear</th>\n",
       "      <th>decade</th>\n",
       "      <th>century</th>\n",
       "      <th>exactDate</th>\n",
       "      <th>...</th>\n",
       "      <th>coordinate</th>\n",
       "      <th>doi</th>\n",
       "      <th>ismn</th>\n",
       "      <th>musicid</th>\n",
       "      <th>format</th>\n",
       "      <th>coordinate_E</th>\n",
       "      <th>coordinate_N</th>\n",
       "      <th>corporate_110</th>\n",
       "      <th>corporate_710</th>\n",
       "      <th>corporate_810</th>\n",
       "      <th>corporate_full</th>\n",
       "    </tr>\n",
       "  </thead>\n",
       "  <tbody>\n",
       "  </tbody>\n",
       "</table>\n",
       "<p>0 rows × 29 columns</p>\n",
       "</div>"
      ],
      "text/plain": [
       "Empty DataFrame\n",
       "Columns: [docid, 035liste, isbn, ttlfull, ttlpart, person, corporate, pubyear, decade, century, exactDate, edition, part, pages, volumes, pubinit, pubword, scale, coordinate, doi, ismn, musicid, format, coordinate_E, coordinate_N, corporate_110, corporate_710, corporate_810, corporate_full]\n",
       "Index: []\n",
       "\n",
       "[0 rows x 29 columns]"
      ]
     },
     "execution_count": 82,
     "metadata": {},
     "output_type": "execute_result"
    }
   ],
   "source": [
    "df[df.exactDate.str[0:4] != df.century]"
   ]
  },
  {
   "cell_type": "markdown",
   "metadata": {},
   "source": [
    "Conforming the MARC 21 description, see [[MARC](./A_References.ipynb#marc21)], the first 4 digits of $\\texttt{exactDate}$ hold identical data as field $\\texttt{century}$. The last 4 digits hold additional information on the exact date of origin of the bibliographical unit [[FeatWiki](./A_References.ipynb#feature_deduplication_wiki)]."
   ]
  },
  {
   "cell_type": "code",
   "execution_count": 83,
   "metadata": {
    "scrolled": false
   },
   "outputs": [
    {
     "data": {
      "text/plain": [
       "array(['1992    ', '1986    ', '1923    ', ..., '1966-196', 'uuu1    ',\n",
       "       '201007  '], dtype=object)"
      ]
     },
     "execution_count": 83,
     "metadata": {},
     "output_type": "execute_result"
    }
   ],
   "source": [
    "df.exactDate[df.exactDate.str[4:].str.contains('\\D')].unique()"
   ]
  },
  {
   "cell_type": "markdown",
   "metadata": {},
   "source": [
    "Missing information is not only added with the help of character 'u', but with ' ' (space character) and even '-' characters, unfortunately. For data cleaning resons, any character that is not a number digit will be replaced by 'u'."
   ]
  },
  {
   "cell_type": "code",
   "execution_count": 84,
   "metadata": {},
   "outputs": [
    {
     "name": "stdout",
     "output_type": "stream",
     "text": [
      "Non-digit characters are {'u', ' ', '-'}\n"
     ]
    }
   ],
   "source": [
    "def determine_uniques_non_numbers(exact_date):\n",
    "    unique_non_numbers = set()\n",
    "\n",
    "    for i in range(4, 8):\n",
    "        unique_non_numbers = unique_non_numbers.union(set(exact_date.str[i:i+1][\n",
    "            exact_date.str[i:i+1].str.contains('\\D')].unique()))\n",
    "\n",
    "    print('Non-digit characters are', unique_non_numbers)\n",
    "\n",
    "    return\n",
    "\n",
    "determine_uniques_non_numbers(df.exactDate)"
   ]
  },
  {
   "cell_type": "code",
   "execution_count": 85,
   "metadata": {
    "scrolled": true
   },
   "outputs": [
    {
     "name": "stdout",
     "output_type": "stream",
     "text": [
      "Degree of non-number filling of last 4 digits 87.4%\n"
     ]
    },
    {
     "name": "stdout",
     "output_type": "stream",
     "text": [
      "Degree of full and exclusively number filling of last 4 digits 12.6%\n"
     ]
    }
   ],
   "source": [
    "def print_degree_of_filling(exact_date):\n",
    "    print('Degree of non-number filling of last 4 digits {:.1f}%'.format(\n",
    "        exact_date[exact_date.str[4:].str.contains('\\D')].count()/len(df)*100))\n",
    "    print('Degree of full and exclusively number filling of last 4 digits {:.1f}%'.format(\n",
    "        exact_date[exact_date.str[4:].str.contains('[0-9]{4}')].count()/len(df)*100))\n",
    "    return\n",
    "\n",
    "print_degree_of_filling(df.exactDate)"
   ]
  },
  {
   "cell_type": "code",
   "execution_count": 86,
   "metadata": {},
   "outputs": [
    {
     "name": "stdout",
     "output_type": "stream",
     "text": [
      "Degree of non-number filling of last 4 digits 87.4%\n",
      "Degree of full and exclusively number filling of last 4 digits 12.6%\n"
     ]
    },
    {
     "name": "stdout",
     "output_type": "stream",
     "text": [
      "Non-digit characters are {'u'}\n"
     ]
    }
   ],
   "source": [
    "df = dpf.clean_exactDate_string(df)\n",
    "\n",
    "print_degree_of_filling(df.exactDate)\n",
    "determine_uniques_non_numbers(df.exactDate)"
   ]
  },
  {
   "cell_type": "code",
   "execution_count": 87,
   "metadata": {},
   "outputs": [
    {
     "data": {
      "text/plain": [
       "docid                                                     556987284\n",
       "035liste                         [(ZORA)oai:www.zora.uzh.ch:169340]\n",
       "isbn                                                             []\n",
       "ttlfull           {'245': ['Altered limbic and autonomic process...\n",
       "ttlpart           {'245': ['Altered limbic and autonomic process...\n",
       "person            {'100': [], '700': ['TemplinChristian', 'Hängg...\n",
       "corporate                         {'110': [], '710': [], '810': []}\n",
       "pubyear                                                    20190414\n",
       "decade                                                         2019\n",
       "century                                                        2019\n",
       "exactDate                                                  20190414\n",
       "edition                                                            \n",
       "part                                             [40(15):1183-1187]\n",
       "pages                                                            []\n",
       "volumes                                                          []\n",
       "pubinit                                                          []\n",
       "pubword                                                          []\n",
       "scale                                                              \n",
       "coordinate                                                       []\n",
       "doi                                        10.1093/eurheartj/ehz068\n",
       "ismn                                                             []\n",
       "musicid                                                            \n",
       "format                                                   [BK010053]\n",
       "coordinate_E                                                       \n",
       "coordinate_N                                                       \n",
       "corporate_110                                                      \n",
       "corporate_710                                                      \n",
       "corporate_810                                                      \n",
       "corporate_full                                                     \n",
       "Name: 183319, dtype: object"
      ]
     },
     "execution_count": 87,
     "metadata": {},
     "output_type": "execute_result"
    }
   ],
   "source": [
    "df.loc[183319]"
   ]
  },
  {
   "cell_type": "markdown",
   "metadata": {},
   "source": [
    "Attribute $\\texttt{exactDate}$ holds the same values like attribute $\\texttt{pubyear}$, see below. In comparison with $\\texttt{century}$ and $\\texttt{decade}$, the full years of publication of a bibliographic unit are stored in the first four digits of the attribute [[FeatWiki](./A_References.ipynb#feature_deduplication_wiki)]. For bibliographical units that appear over a time period, the second four digits correspond to the last year of publication. In case of units that appear within one year, the second four digits may hold the copyright date or the original year of publication of a reprint may be stored, instead. For some bibliographical units, it is possible that the attribute holds month and day indication instead of a year in the last four digits [[WiCo2001](./A_References.ipynb#wico2001)]."
   ]
  },
  {
   "cell_type": "markdown",
   "metadata": {},
   "source": [
    "The MARC data declares explicitly the kind of value, the second four digits are about. This specification is missing in Swissbib's data extract [[SwRe](./A_References.ipynb#swre)]. Swissbib treats such differences in a varying way in its deduplication implementation, depending on the specific kind of value. Due to its full information supply, attribute $\\texttt{exactDate}$ is taken as is to the feature matrix. The attribute will be taken as full placeholder for the three attributes $\\texttt{century}$, $\\texttt{decade}$, and $\\texttt{pubyear}$."
   ]
  },
  {
   "cell_type": "code",
   "execution_count": 88,
   "metadata": {},
   "outputs": [],
   "source": [
    "columns_metadata_dict['data_analysis_columns'].append('exactDate')"
   ]
  },
  {
   "cell_type": "markdown",
   "metadata": {},
   "source": [
    "### format"
   ]
  },
  {
   "cell_type": "code",
   "execution_count": 89,
   "metadata": {},
   "outputs": [],
   "source": [
    "columns_metadata_dict['list_columns'].append('format')"
   ]
  },
  {
   "cell_type": "markdown",
   "metadata": {},
   "source": [
    "Attribute $\\texttt{format}$ describes the format of a bibliographic unit, see examples under section [Sample Records Analysis](#Sample-Records-Analysis). Swissbib's deduplication implementation splits this attribute for its comparison logic and uses only parts of it [[WiCo2001](./A_References.ipynb#wico2001)].\n",
    "- The full code is used for values starting with VM01, VM02, MU03, MU04, and CF01.\n",
    "- The first four and last two digits are used fo all other values of the attribute."
   ]
  },
  {
   "cell_type": "code",
   "execution_count": 90,
   "metadata": {},
   "outputs": [
    {
     "name": "stdout",
     "output_type": "stream",
     "text": [
      "Number of records with filled format 179688, with missing format 3719 => 98.0%\n"
     ]
    }
   ],
   "source": [
    "daf.find_empty_in_column(df, columns_metadata_dict, 'format')"
   ]
  },
  {
   "cell_type": "code",
   "execution_count": 91,
   "metadata": {},
   "outputs": [
    {
     "data": {
      "text/plain": [
       "137799    vm010300\n",
       "115531    bk020000\n",
       "147620    vm020353\n",
       "95644     bk020053\n",
       "150056    bk020000\n",
       "79705     mu040100\n",
       "81615     bk010053\n",
       "69011     bk020000\n",
       "66868     bk020000\n",
       "3326      bk020000\n",
       "Name: format, dtype: object"
      ]
     },
     "execution_count": 91,
     "metadata": {},
     "output_type": "execute_result"
    }
   ],
   "source": [
    "df = dpf.transform_list_to_string(df, 'format')\n",
    "\n",
    "df['format'][df.format.apply(lambda x : len(x))==8].sample(n=10)"
   ]
  },
  {
   "cell_type": "code",
   "execution_count": 92,
   "metadata": {},
   "outputs": [
    {
     "name": "stdout",
     "output_type": "stream",
     "text": [
      "96.4% of the records hold one single format.\n",
      "1.6% of the records hold more than one format.\n"
     ]
    }
   ],
   "source": [
    "print('{:.1f}% of the records hold one single format.'.format(\n",
    "    df['format'][df.format.apply(lambda x : len(x))==8].count()/len(df)*100))\n",
    "print('{:.1f}% of the records hold more than one format.'.format(\n",
    "    df['format'][df.format.apply(lambda x : len(x))>8].count()/len(df)*100))"
   ]
  },
  {
   "cell_type": "code",
   "execution_count": 93,
   "metadata": {},
   "outputs": [
    {
     "data": {
      "text/plain": [
       "159429    \n",
       "164786    \n",
       "168624    \n",
       "149300    \n",
       "160136    \n",
       "164750    \n",
       "166600    \n",
       "150315    \n",
       "164979    \n",
       "163375    \n",
       "Name: format, dtype: object"
      ]
     },
     "execution_count": 93,
     "metadata": {},
     "output_type": "execute_result"
    }
   ],
   "source": [
    "df['format'][df.format.apply(lambda x : len(x))<8].sample(n=10)"
   ]
  },
  {
   "cell_type": "code",
   "execution_count": 94,
   "metadata": {},
   "outputs": [
    {
     "data": {
      "text/plain": [
       "1981    mu010100, mu010000\n",
       "2000    mu010000, mu010100\n",
       "2001    mu010100, mu010000\n",
       "2003    mu010100, mu010000\n",
       "2004    mu010200, mu010000\n",
       "Name: format, dtype: object"
      ]
     },
     "execution_count": 94,
     "metadata": {},
     "output_type": "execute_result"
    }
   ],
   "source": [
    "df['format'][df.format.apply(lambda x : len(x))>8].head()"
   ]
  },
  {
   "cell_type": "code",
   "execution_count": 95,
   "metadata": {},
   "outputs": [
    {
     "data": {
      "text/plain": [
       "17607     bk020300, bk020000, bk020500\n",
       "83055     bk020300, bk020800, bk020000\n",
       "181090    cr030700, cr030600, cr030300\n",
       "181376    bk020800, bk020400, bk020000\n",
       "Name: format, dtype: object"
      ]
     },
     "execution_count": 95,
     "metadata": {},
     "output_type": "execute_result"
    }
   ],
   "source": [
    "df['format'][df.format.apply(lambda x : len(x))>18].head()"
   ]
  },
  {
   "cell_type": "markdown",
   "metadata": {},
   "source": [
    "The attribute seems to be very relevant for a basic identification of a bibliographical unit. Mainly the first two digits seem to be a reliable rough classification indicator. The remaining digits may have an inferior importance and and an inferior reliability due to freedom of interpretation. For this capstone project, a different processing of the attribute compared to the Swissbib implementation is tested. The attribute is divided into two new attributes.\n",
    "\n",
    "- New attribute $\\texttt{format_prefix}$ will hold the first two digits of the first $\\texttt{format}$ element.\n",
    "- New attribute $\\texttt{format_number}$ will hold the 6 subsequent digits of the first $\\texttt{format}$ element.\n",
    "\n",
    "The $\\texttt{format}$ attribute will be dropped after this preprocessing step."
   ]
  },
  {
   "cell_type": "code",
   "execution_count": 96,
   "metadata": {},
   "outputs": [
    {
     "data": {
      "text/html": [
       "<div>\n",
       "<style scoped>\n",
       "    .dataframe tbody tr th:only-of-type {\n",
       "        vertical-align: middle;\n",
       "    }\n",
       "\n",
       "    .dataframe tbody tr th {\n",
       "        vertical-align: top;\n",
       "    }\n",
       "\n",
       "    .dataframe thead th {\n",
       "        text-align: right;\n",
       "    }\n",
       "</style>\n",
       "<table border=\"1\" class=\"dataframe\">\n",
       "  <thead>\n",
       "    <tr style=\"text-align: right;\">\n",
       "      <th></th>\n",
       "      <th>format</th>\n",
       "      <th>format_prefix</th>\n",
       "      <th>format_postfix</th>\n",
       "    </tr>\n",
       "  </thead>\n",
       "  <tbody>\n",
       "    <tr>\n",
       "      <th>54798</th>\n",
       "      <td>bk020000</td>\n",
       "      <td>bk</td>\n",
       "      <td>020000</td>\n",
       "    </tr>\n",
       "    <tr>\n",
       "      <th>135855</th>\n",
       "      <td>bk020000</td>\n",
       "      <td>bk</td>\n",
       "      <td>020000</td>\n",
       "    </tr>\n",
       "    <tr>\n",
       "      <th>111140</th>\n",
       "      <td>bk020000</td>\n",
       "      <td>bk</td>\n",
       "      <td>020000</td>\n",
       "    </tr>\n",
       "    <tr>\n",
       "      <th>111636</th>\n",
       "      <td>bk010000</td>\n",
       "      <td>bk</td>\n",
       "      <td>010000</td>\n",
       "    </tr>\n",
       "    <tr>\n",
       "      <th>52024</th>\n",
       "      <td>cr030653</td>\n",
       "      <td>cr</td>\n",
       "      <td>030653</td>\n",
       "    </tr>\n",
       "    <tr>\n",
       "      <th>25072</th>\n",
       "      <td>mp010300</td>\n",
       "      <td>mp</td>\n",
       "      <td>010300</td>\n",
       "    </tr>\n",
       "    <tr>\n",
       "      <th>54169</th>\n",
       "      <td>bk020000</td>\n",
       "      <td>bk</td>\n",
       "      <td>020000</td>\n",
       "    </tr>\n",
       "    <tr>\n",
       "      <th>26630</th>\n",
       "      <td>bk020000</td>\n",
       "      <td>bk</td>\n",
       "      <td>020000</td>\n",
       "    </tr>\n",
       "    <tr>\n",
       "      <th>1979</th>\n",
       "      <td>vm010300</td>\n",
       "      <td>vm</td>\n",
       "      <td>010300</td>\n",
       "    </tr>\n",
       "    <tr>\n",
       "      <th>79785</th>\n",
       "      <td>bk020000</td>\n",
       "      <td>bk</td>\n",
       "      <td>020000</td>\n",
       "    </tr>\n",
       "    <tr>\n",
       "      <th>109324</th>\n",
       "      <td>bk020800</td>\n",
       "      <td>bk</td>\n",
       "      <td>020800</td>\n",
       "    </tr>\n",
       "    <tr>\n",
       "      <th>150994</th>\n",
       "      <td>bk020000</td>\n",
       "      <td>bk</td>\n",
       "      <td>020000</td>\n",
       "    </tr>\n",
       "    <tr>\n",
       "      <th>141514</th>\n",
       "      <td>mu040100</td>\n",
       "      <td>mu</td>\n",
       "      <td>040100</td>\n",
       "    </tr>\n",
       "    <tr>\n",
       "      <th>87249</th>\n",
       "      <td>bk020000</td>\n",
       "      <td>bk</td>\n",
       "      <td>020000</td>\n",
       "    </tr>\n",
       "    <tr>\n",
       "      <th>83231</th>\n",
       "      <td>bk020000</td>\n",
       "      <td>bk</td>\n",
       "      <td>020000</td>\n",
       "    </tr>\n",
       "  </tbody>\n",
       "</table>\n",
       "</div>"
      ],
      "text/plain": [
       "          format format_prefix format_postfix\n",
       "54798   bk020000            bk         020000\n",
       "135855  bk020000            bk         020000\n",
       "111140  bk020000            bk         020000\n",
       "111636  bk010000            bk         010000\n",
       "52024   cr030653            cr         030653\n",
       "25072   mp010300            mp         010300\n",
       "54169   bk020000            bk         020000\n",
       "26630   bk020000            bk         020000\n",
       "1979    vm010300            vm         010300\n",
       "79785   bk020000            bk         020000\n",
       "109324  bk020800            bk         020800\n",
       "150994  bk020000            bk         020000\n",
       "141514  mu040100            mu         040100\n",
       "87249   bk020000            bk         020000\n",
       "83231   bk020000            bk         020000"
      ]
     },
     "execution_count": 96,
     "metadata": {},
     "output_type": "execute_result"
    }
   ],
   "source": [
    "df['format_prefix'] = df.format.str[:2]\n",
    "df.format_prefix[df['format_prefix']==''] = '  '\n",
    "df['format_postfix'] = df.format.str[2:8]\n",
    "df.format_postfix[df['format_postfix']==''] = '      '\n",
    "df[['format', 'format_prefix', 'format_postfix']].sample(n=15)"
   ]
  },
  {
   "cell_type": "markdown",
   "metadata": {},
   "source": [
    "This preprocessing step has been implemented in a separate function $\\texttt{.split}\\_\\texttt{format()}$ which can be found in code file [data_preparation_funcs.py](./data_preparation_funcs.py)"
   ]
  },
  {
   "cell_type": "code",
   "execution_count": 97,
   "metadata": {},
   "outputs": [],
   "source": [
    "columns_metadata_dict['data_analysis_columns'].append('format_prefix')\n",
    "columns_metadata_dict['data_analysis_columns'].append('format_postfix')"
   ]
  },
  {
   "cell_type": "markdown",
   "metadata": {},
   "source": [
    "### isbn"
   ]
  },
  {
   "cell_type": "code",
   "execution_count": 98,
   "metadata": {},
   "outputs": [],
   "source": [
    "columns_metadata_dict['list_columns'].append('isbn')"
   ]
  },
  {
   "cell_type": "code",
   "execution_count": 99,
   "metadata": {},
   "outputs": [
    {
     "name": "stdout",
     "output_type": "stream",
     "text": [
      "Number of records with filled isbn 80688, with missing isbn 102719 => 44.0%\n"
     ]
    }
   ],
   "source": [
    "daf.find_empty_in_column(df, columns_metadata_dict, 'isbn')"
   ]
  },
  {
   "cell_type": "markdown",
   "metadata": {},
   "source": [
    "Attribute $\\texttt{isbn}$ holds two different kinds of information, the ISBN or the ISSN of a bibliographic unit. The ISBN is the identifier for monographs, while the ISSN identifies periodicals. An ISBN is either of length 10 or of length 13, an ISSN is of length 8. Due to this length attribution, it is not relevant whether the field holds an ISBN or an ISSN."
   ]
  },
  {
   "cell_type": "code",
   "execution_count": 100,
   "metadata": {},
   "outputs": [
    {
     "data": {
      "text/plain": [
       "103599    [978-3-11-044837-5]\n",
       "24521     [978-88-06-18862-7]\n",
       "11233     [978-3-7941-6193-5]\n",
       "151721        [0-9648473-0-2]\n",
       "116353    [978-5-87902-391-6]\n",
       "24921     [978-3-643-12438-8]\n",
       "94445     [978-3-7024-7603-8]\n",
       "24491     [978-3-906947-13-6]\n",
       "164264    [978-0-615-30797-8]\n",
       "47362     [978-3-662-56607-7]\n",
       "155336    [978-0-273-64663-1]\n",
       "78835     [978-3-12-939027-6]\n",
       "128643    [978-1-316-42212-0]\n",
       "34469     [978-3-8422-4513-6]\n",
       "9459      [978-3-458-17513-1]\n",
       "157653        [5-87447-019-0]\n",
       "105991    [978-88-335-7043-3]\n",
       "67010         [2-07-032258-0]\n",
       "109432        [0-691-03337-4]\n",
       "102903    [978-2-298-14518-2]\n",
       "Name: isbn, dtype: object"
      ]
     },
     "execution_count": 100,
     "metadata": {},
     "output_type": "execute_result"
    }
   ],
   "source": [
    "df.isbn[df.isbn.apply(lambda x : len(x)==1 )].sample(n=20)"
   ]
  },
  {
   "cell_type": "markdown",
   "metadata": {},
   "source": [
    "The attribute is a list of string elements. Some samples with exactly one string element are shown above, some samples with more than one string element are shown below."
   ]
  },
  {
   "cell_type": "code",
   "execution_count": 101,
   "metadata": {},
   "outputs": [
    {
     "data": {
      "text/plain": [
       "75890                    [978-1-5275-0664-0, 1-5275-0664-9]\n",
       "44925                    [978-0-12-814334-6, 0-12-814334-7]\n",
       "129104               [978-0-8153-8186-0, 978-0-8153-8380-2]\n",
       "29123                    [978-1-352-00313-0, 1-352-00313-9]\n",
       "145211    [978-2-35142-692-0 (vol. 1), 978-2-35142-693-7...\n",
       "47771                    [978-7-5506-2672-0, 7-5506-2672-3]\n",
       "82006                [83-240-0026-7 (1), 83-7006-904-5 (2)]\n",
       "115932                   [978-981-13-2235-8, 981-13-2235-X]\n",
       "143694    [978-0-691-60357-5, 978-0-691-06179-5, 978-1-4...\n",
       "47213                    [978-3-7425-0291-9, 3-7425-0291-3]\n",
       "52869                    [978-3-258-08114-4, 3-258-08114-X]\n",
       "109313                   [978-987-693-759-7, 987-693-759-6]\n",
       "102474                   [3-452-29042-5, 978-3-452-29042-7]\n",
       "27885     [978-1-4798-9969-2, 1-4798-9969-0, 978-1-4798-...\n",
       "105211                   [1-350-11632-7, 978-1-350-11632-0]\n",
       "42405        [978-3-11-000845-6 (print), 978-3-11-083662-2]\n",
       "74545                    [978-94-6261-222-8, 94-6261-222-6]\n",
       "42118                    [978-3-11-015911-0, 3-11-015911-2]\n",
       "48896                    [978-3-11-054039-0, 3-11-054039-8]\n",
       "138958                   [3-319-90130-3, 978-3-319-90130-5]\n",
       "Name: isbn, dtype: object"
      ]
     },
     "execution_count": 101,
     "metadata": {},
     "output_type": "execute_result"
    }
   ],
   "source": [
    "df.isbn[df.isbn.apply(lambda x : len(x)>1 )].sample(n=20)"
   ]
  },
  {
   "cell_type": "code",
   "execution_count": 102,
   "metadata": {},
   "outputs": [
    {
     "name": "stdout",
     "output_type": "stream",
     "text": [
      "80,688 records hold 1 list element(s).\n",
      "29,073 records hold 2 list element(s).\n"
     ]
    },
    {
     "name": "stdout",
     "output_type": "stream",
     "text": [
      "3,762 records hold 3 list element(s).\n",
      "2,331 records hold 4 list element(s).\n"
     ]
    },
    {
     "name": "stdout",
     "output_type": "stream",
     "text": [
      "519 records hold 5 list element(s).\n",
      "398 records hold 6 list element(s).\n"
     ]
    },
    {
     "name": "stdout",
     "output_type": "stream",
     "text": [
      "173 records hold 7 list element(s).\n",
      "156 records hold 8 list element(s).\n"
     ]
    },
    {
     "name": "stdout",
     "output_type": "stream",
     "text": [
      "84 records hold 9 list element(s).\n",
      "76 records hold 10 list element(s).\n"
     ]
    },
    {
     "name": "stdout",
     "output_type": "stream",
     "text": [
      "51 records hold 11 list element(s).\n",
      "43 records hold 12 list element(s).\n"
     ]
    },
    {
     "name": "stdout",
     "output_type": "stream",
     "text": [
      "29 records hold 13 list element(s).\n",
      "26 records hold 14 list element(s).\n"
     ]
    },
    {
     "name": "stdout",
     "output_type": "stream",
     "text": [
      "19 records hold 15 list element(s).\n",
      "18 records hold 16 list element(s).\n"
     ]
    },
    {
     "name": "stdout",
     "output_type": "stream",
     "text": [
      "10 records hold 17 list element(s).\n",
      "9 records hold 18 list element(s).\n"
     ]
    },
    {
     "name": "stdout",
     "output_type": "stream",
     "text": [
      "8 records hold 19 list element(s).\n",
      "7 records hold 20 list element(s).\n"
     ]
    },
    {
     "name": "stdout",
     "output_type": "stream",
     "text": [
      "7 records hold 21 list element(s).\n",
      "7 records hold 22 list element(s).\n"
     ]
    },
    {
     "name": "stdout",
     "output_type": "stream",
     "text": [
      "7 records hold 23 list element(s).\n",
      "7 records hold 24 list element(s).\n"
     ]
    },
    {
     "name": "stdout",
     "output_type": "stream",
     "text": [
      "5 records hold 25 list element(s).\n",
      "4 records hold 26 list element(s).\n"
     ]
    },
    {
     "name": "stdout",
     "output_type": "stream",
     "text": [
      "3 records hold 27 list element(s).\n",
      "3 records hold 28 list element(s).\n"
     ]
    },
    {
     "name": "stdout",
     "output_type": "stream",
     "text": [
      "3 records hold 29 list element(s).\n",
      "3 records hold 30 list element(s).\n"
     ]
    },
    {
     "name": "stdout",
     "output_type": "stream",
     "text": [
      "1 records hold 31 list element(s).\n",
      "1 records hold 32 list element(s).\n"
     ]
    },
    {
     "name": "stdout",
     "output_type": "stream",
     "text": [
      "1 records hold 33 list element(s).\n",
      "1 records hold 34 list element(s).\n"
     ]
    },
    {
     "name": "stdout",
     "output_type": "stream",
     "text": [
      "1 records hold 35 list element(s).\n",
      "1 records hold 36 list element(s).\n"
     ]
    },
    {
     "name": "stdout",
     "output_type": "stream",
     "text": [
      "1 records hold 37 list element(s).\n",
      "1 records hold 38 list element(s).\n"
     ]
    },
    {
     "name": "stdout",
     "output_type": "stream",
     "text": [
      "1 records hold 39 list element(s).\n",
      "1 records hold 40 list element(s).\n"
     ]
    },
    {
     "name": "stdout",
     "output_type": "stream",
     "text": [
      "1 records hold 41 list element(s).\n",
      "1 records hold 42 list element(s).\n"
     ]
    },
    {
     "name": "stdout",
     "output_type": "stream",
     "text": [
      "=> Maximum number of list elements 42\n"
     ]
    }
   ],
   "source": [
    "i = 0\n",
    "while len(df.isbn[df.isbn.apply(lambda x : len(x))>i]) > 0 :\n",
    "    i = i+1\n",
    "    print('{:,d} records hold {:d} list element(s).'.format(\n",
    "        len(df.isbn[df.isbn.apply(lambda x : len(x))>=i]), i))\n",
    "        \n",
    "print('=> Maximum number of list elements', max(df.isbn.apply(lambda x : len(x))))"
   ]
  },
  {
   "cell_type": "code",
   "execution_count": 103,
   "metadata": {},
   "outputs": [
    {
     "data": {
      "text/plain": [
       "42"
      ]
     },
     "execution_count": 103,
     "metadata": {},
     "output_type": "execute_result"
    }
   ],
   "source": [
    "max(df.isbn.apply(lambda x : len(x)))"
   ]
  },
  {
   "cell_type": "code",
   "execution_count": 104,
   "metadata": {},
   "outputs": [
    {
     "data": {
      "text/plain": [
       "39158     [978-3-11-044748-4, 3-11-044748-7, 978-3-11-04...\n",
       "130360    [1-118-07651-6 (print), 978-1-118-07651-4 (clo...\n",
       "15817     [978-3-03787-961-0, 978-3-03787-150-8, 3-03787...\n",
       "113064    [978-4-469-22249-4, 4-469-22249-6, 978-4-469-2...\n",
       "130247    [978-3-907820-00-1, 3-7720-0952-2, 3-7720-1265...\n",
       "78097     [978-3-487-13286-0, 3-487-13286-9, 978-3-615-0...\n",
       "45991     [978-3-11-020418-6 (v. 1 : acidfree paper), 3-...\n",
       "86795     [84-00-08854-9, 84-00-08855-7, 84-00-08856-5, ...\n",
       "19427     [978-0-85785-338-7, 978-1-350-07783-6, 978-1-3...\n",
       "133692    [0-444-82588-6 (set vols. 1A1B), 0-444-50728-0...\n",
       "Name: isbn, dtype: object"
      ]
     },
     "execution_count": 104,
     "metadata": {},
     "output_type": "execute_result"
    }
   ],
   "source": [
    "df.isbn[df.isbn.apply(lambda x : len(x))>10].sample(n=10)"
   ]
  },
  {
   "cell_type": "markdown",
   "metadata": {},
   "source": [
    "Attribute $\\texttt{isbn}$ is taken to further processing as the list of string elements with their values as they are."
   ]
  },
  {
   "cell_type": "code",
   "execution_count": 105,
   "metadata": {},
   "outputs": [],
   "source": [
    "columns_metadata_dict['data_analysis_columns'].append('isbn')"
   ]
  },
  {
   "cell_type": "markdown",
   "metadata": {},
   "source": [
    "### ismn"
   ]
  },
  {
   "cell_type": "code",
   "execution_count": 106,
   "metadata": {},
   "outputs": [],
   "source": [
    "columns_metadata_dict['list_columns'].append('ismn')"
   ]
  },
  {
   "cell_type": "code",
   "execution_count": 107,
   "metadata": {},
   "outputs": [
    {
     "name": "stdout",
     "output_type": "stream",
     "text": [
      "Number of records with filled ismn 931, with missing ismn 182476 => 0.5%\n"
     ]
    }
   ],
   "source": [
    "daf.find_empty_in_column(df, columns_metadata_dict, 'ismn')"
   ]
  },
  {
   "cell_type": "markdown",
   "metadata": {},
   "source": [
    "Attribute $\\texttt{ismn}$ holds the same data like attribute $\\texttt{doi}$ [[FeatWiki](./A_References.ipynb#feature_deduplication_wiki)]."
   ]
  },
  {
   "cell_type": "code",
   "execution_count": 108,
   "metadata": {
    "scrolled": true
   },
   "outputs": [
    {
     "name": "stdout",
     "output_type": "stream",
     "text": [
      "931 records hold 1 list element(s).\n"
     ]
    },
    {
     "name": "stdout",
     "output_type": "stream",
     "text": [
      "123 records hold 2 list element(s).\n"
     ]
    },
    {
     "name": "stdout",
     "output_type": "stream",
     "text": [
      "30 records hold 3 list element(s).\n"
     ]
    },
    {
     "name": "stdout",
     "output_type": "stream",
     "text": [
      "9 records hold 4 list element(s).\n"
     ]
    },
    {
     "name": "stdout",
     "output_type": "stream",
     "text": [
      "4 records hold 5 list element(s).\n"
     ]
    },
    {
     "name": "stdout",
     "output_type": "stream",
     "text": [
      "4 records hold 6 list element(s).\n"
     ]
    },
    {
     "name": "stdout",
     "output_type": "stream",
     "text": [
      "2 records hold 7 list element(s).\n"
     ]
    },
    {
     "name": "stdout",
     "output_type": "stream",
     "text": [
      "1 records hold 8 list element(s).\n"
     ]
    },
    {
     "name": "stdout",
     "output_type": "stream",
     "text": [
      "1 records hold 9 list element(s).\n"
     ]
    },
    {
     "name": "stdout",
     "output_type": "stream",
     "text": [
      "1 records hold 10 list element(s).\n"
     ]
    },
    {
     "name": "stdout",
     "output_type": "stream",
     "text": [
      "1 records hold 11 list element(s).\n"
     ]
    },
    {
     "name": "stdout",
     "output_type": "stream",
     "text": [
      "1 records hold 12 list element(s).\n"
     ]
    },
    {
     "name": "stdout",
     "output_type": "stream",
     "text": [
      "1 records hold 13 list element(s).\n"
     ]
    },
    {
     "name": "stdout",
     "output_type": "stream",
     "text": [
      "1 records hold 14 list element(s).\n"
     ]
    },
    {
     "name": "stdout",
     "output_type": "stream",
     "text": [
      "1 records hold 15 list element(s).\n"
     ]
    },
    {
     "name": "stdout",
     "output_type": "stream",
     "text": [
      "1 records hold 16 list element(s).\n"
     ]
    },
    {
     "name": "stdout",
     "output_type": "stream",
     "text": [
      "1 records hold 17 list element(s).\n"
     ]
    },
    {
     "name": "stdout",
     "output_type": "stream",
     "text": [
      "1 records hold 18 list element(s).\n"
     ]
    },
    {
     "name": "stdout",
     "output_type": "stream",
     "text": [
      "1 records hold 19 list element(s).\n"
     ]
    },
    {
     "name": "stdout",
     "output_type": "stream",
     "text": [
      "1 records hold 20 list element(s).\n"
     ]
    },
    {
     "name": "stdout",
     "output_type": "stream",
     "text": [
      "1 records hold 21 list element(s).\n"
     ]
    },
    {
     "name": "stdout",
     "output_type": "stream",
     "text": [
      "1 records hold 22 list element(s).\n"
     ]
    },
    {
     "name": "stdout",
     "output_type": "stream",
     "text": [
      "1 records hold 23 list element(s).\n"
     ]
    },
    {
     "name": "stdout",
     "output_type": "stream",
     "text": [
      "1 records hold 24 list element(s).\n"
     ]
    },
    {
     "name": "stdout",
     "output_type": "stream",
     "text": [
      "1 records hold 25 list element(s).\n"
     ]
    },
    {
     "name": "stdout",
     "output_type": "stream",
     "text": [
      "1 records hold 26 list element(s).\n"
     ]
    },
    {
     "name": "stdout",
     "output_type": "stream",
     "text": [
      "=> Maximum number of list elements 26\n"
     ]
    }
   ],
   "source": [
    "i = 0\n",
    "while len(df.ismn[df.ismn.apply(lambda x : len(x))>i]) > 0 :\n",
    "    i = i+1\n",
    "    print('{:,d} records hold {:d} list element(s).'.format(\n",
    "        len(df.ismn[df.ismn.apply(lambda x : len(x))>=i]), i))\n",
    "        \n",
    "print('=> Maximum number of list elements', max(df.ismn.apply(lambda x : len(x))))"
   ]
  },
  {
   "cell_type": "code",
   "execution_count": 109,
   "metadata": {},
   "outputs": [
    {
     "data": {
      "text/plain": [
       "18787           [9790013230075, 9790013230075, M013230075]\n",
       "21159           [9790013230068, M013230068, 9790013230068]\n",
       "27903    [9790206300349, 9790206300448, 9790206300370, ...\n",
       "36355        [9790261242936, 9790261242943, 9790261243407]\n",
       "46239    [9790674521482, 9790674521499, 9790674521482, ...\n",
       "Name: ismn, dtype: object"
      ]
     },
     "execution_count": 109,
     "metadata": {},
     "output_type": "execute_result"
    }
   ],
   "source": [
    "df.ismn[df.ismn.apply(lambda x : len(x))>2].head()"
   ]
  },
  {
   "cell_type": "markdown",
   "metadata": {},
   "source": [
    "Analogous to attribute $\\texttt{doi}$, Swissbib's deduplication implementation compares only real ismn identifiers [[WiCo2001](./A_References.ipynb#wico2001)]. Real ismn numbers can be identified by a subfield that is missing in Swissbib's data extract [[SwRe](./A_References.ipynb#swre)]. Alternatively, a real ismn number can be identified as a number starting with a letter 'm' (or 'M') or with the three number digits '979'. Each row in the data has a maximum of 1 real ismn identifyer [[WiCo2001](./A_References.ipynb#wico2001)]."
   ]
  },
  {
   "cell_type": "code",
   "execution_count": 110,
   "metadata": {},
   "outputs": [
    {
     "data": {
      "text/plain": [
       "1792                     m500173793\n",
       "2004      m007093402, 9790007093402\n",
       "2017                     m700185008\n",
       "2029                     m001052481\n",
       "2035      m007096410, 9790007096410\n",
       "                    ...            \n",
       "182638                   m501351428\n",
       "182652                   m501357284\n",
       "182674                   m501357925\n",
       "182679                   m501351534\n",
       "182890                   m008025112\n",
       "Name: ismn, Length: 421, dtype: object"
      ]
     },
     "execution_count": 110,
     "metadata": {},
     "output_type": "execute_result"
    }
   ],
   "source": [
    "df_temp = dpf.transform_list_to_string(df.copy(), 'ismn')\n",
    "df_temp.ismn[df_temp.ismn.str.contains('m[0-9]{8}', na=False, regex=True)]"
   ]
  },
  {
   "cell_type": "markdown",
   "metadata": {},
   "source": [
    "Analogous to attribute $\\texttt{doi}$, a function $\\texttt{.reduce}\\_\\texttt{to}\\_\\texttt{ismn}\\_\\texttt{element()}$ has been implemented that takes care of the isolation of the ismn identifier and stores only real ismn identifiers in attribute $\\texttt{ismn}$."
   ]
  },
  {
   "cell_type": "code",
   "execution_count": 111,
   "metadata": {
    "scrolled": false
   },
   "outputs": [
    {
     "data": {
      "text/plain": [
       "1791      9790201326702\n",
       "1792         m500173793\n",
       "2004         m007093402\n",
       "2017         m700185008\n",
       "2028      9790008010156\n",
       "              ...      \n",
       "182638       m501351428\n",
       "182652       m501357284\n",
       "182674       m501357925\n",
       "182679       m501351534\n",
       "182890       m008025112\n",
       "Name: ismn, Length: 931, dtype: object"
      ]
     },
     "execution_count": 111,
     "metadata": {},
     "output_type": "execute_result"
    }
   ],
   "source": [
    "df = dpf.reduce_to_attrib_element(df, 'ismn')\n",
    "df.ismn[df.ismn.apply(lambda x : len(x))>0]"
   ]
  },
  {
   "cell_type": "markdown",
   "metadata": {},
   "source": [
    "Unfortunately, the number of rows with a real ismn identifyer is vanishingly small. Attribute $\\texttt{ismn}$ will be handed over further processing in its preprocessed manner but the occurrence will have to be observed in chapter [Goldstandard and Data Preparation](./2_GoldstandardDataPreparation.ipynb)."
   ]
  },
  {
   "cell_type": "code",
   "execution_count": 112,
   "metadata": {},
   "outputs": [],
   "source": [
    "columns_metadata_dict['data_analysis_columns'].append('ismn')"
   ]
  },
  {
   "cell_type": "markdown",
   "metadata": {},
   "source": [
    "### musicid"
   ]
  },
  {
   "cell_type": "code",
   "execution_count": 113,
   "metadata": {},
   "outputs": [],
   "source": [
    "columns_metadata_dict['strings_columns'].append('musicid')"
   ]
  },
  {
   "cell_type": "code",
   "execution_count": 114,
   "metadata": {},
   "outputs": [
    {
     "name": "stdout",
     "output_type": "stream",
     "text": [
      "Number of records with filled musicid 13502, with missing musicid 169905 => 7.4%\n"
     ]
    }
   ],
   "source": [
    "daf.find_empty_in_column(df, columns_metadata_dict, 'musicid')"
   ]
  },
  {
   "cell_type": "markdown",
   "metadata": {},
   "source": [
    "Attribute $\\texttt{musicid}$ is a publisher's number identifying sound carriers, books with music notes, and movies of a music record [[WiCo2001](./A_References.ipynb#wico2001)]. Some sample records are shown below."
   ]
  },
  {
   "cell_type": "code",
   "execution_count": 115,
   "metadata": {},
   "outputs": [
    {
     "name": "stdout",
     "output_type": "stream",
     "text": [
      "Number of records with ...\n",
      "... format 'mu' and with musicid : 10742\n",
      "... format 'mu' and without musicid : 3905\n",
      "... format unequal 'mu' and with musicid : 2760\n",
      "... format unequal 'mu' and without musicid : 166000\n"
     ]
    }
   ],
   "source": [
    "print('Number of records with ...')\n",
    "\n",
    "print('... format \\'mu\\' and with musicid :', \n",
    "len(df.musicid[df.format_prefix == 'mu'][\n",
    "    df.musicid[df.format_prefix == 'mu'].apply(lambda x : len(x)>0) ])\n",
    ")\n",
    "print('... format \\'mu\\' and without musicid :', \n",
    "len(df.musicid[df.format_prefix == 'mu'][\n",
    "    df.musicid[df.format_prefix == 'mu'].apply(lambda x : len(x)==0) ])\n",
    ")\n",
    "print('... format unequal \\'mu\\' and with musicid :', \n",
    "len(df.musicid[df.format_prefix != 'mu'][\n",
    "    df.musicid[df.format_prefix != 'mu'].apply(lambda x : len(x)>0) ])\n",
    ")\n",
    "print('... format unequal \\'mu\\' and without musicid :', \n",
    "len(df.musicid[df.format_prefix != 'mu'][\n",
    "    df.musicid[df.format_prefix != 'mu'].apply(lambda x : len(x)==0) ])\n",
    ")"
   ]
  },
  {
   "cell_type": "code",
   "execution_count": 116,
   "metadata": {},
   "outputs": [
    {
     "data": {
      "text/plain": [
       "vm    1432\n",
       "bk    1287\n",
       "cf      39\n",
       "mp       1\n",
       "cr       1\n",
       "Name: format_prefix, dtype: int64"
      ]
     },
     "execution_count": 116,
     "metadata": {},
     "output_type": "execute_result"
    }
   ],
   "source": [
    "df.format_prefix[df.format_prefix != 'mu'][\n",
    "    df.musicid[df.format_prefix != 'mu'].apply(lambda x : len(x)>0) ].value_counts()"
   ]
  },
  {
   "cell_type": "code",
   "execution_count": 117,
   "metadata": {},
   "outputs": [
    {
     "data": {
      "text/plain": [
       "106126                  ACL 11-1216\n",
       "13349                   DG 477 7470\n",
       "3894               Fiction 827687-2\n",
       "8400               E.E. 3878aEE 956\n",
       "123244      Piano Classics PCL10146\n",
       "58966                         13109\n",
       "138368        315391ST 113255 08070\n",
       "11759                  886971772227\n",
       "9478                       481 0652\n",
       "31000                      PVH 1736\n",
       "141066                        033-9\n",
       "10810              Philips 522839 2\n",
       "54518                        BAC159\n",
       "24655          Motéma Music MTM0288\n",
       "5412                  cpo 777 471-2\n",
       "12018                      MYNCD040\n",
       "62182                    M073AM089A\n",
       "2349      Edition Eulenburg No. 725\n",
       "145658      L'oiseau-Lyre 414 473-2\n",
       "11380               EMI CDP 7466442\n",
       "Name: musicid, dtype: object"
      ]
     },
     "execution_count": 117,
     "metadata": {},
     "output_type": "execute_result"
    }
   ],
   "source": [
    "musicid_sample_index = df.musicid[df.musicid.apply(lambda x : len(x)>0)].sample(n=20).index\n",
    "df.musicid.loc[musicid_sample_index]"
   ]
  },
  {
   "cell_type": "code",
   "execution_count": 118,
   "metadata": {},
   "outputs": [
    {
     "data": {
      "text/plain": [
       "106126              11\n",
       "13349              477\n",
       "3894            827687\n",
       "8400              3878\n",
       "123244           10146\n",
       "58966            13109\n",
       "138368          315391\n",
       "11759     886971772227\n",
       "9478               481\n",
       "31000             1736\n",
       "141066             033\n",
       "10810           522839\n",
       "54518              159\n",
       "24655             0288\n",
       "5412               777\n",
       "12018              040\n",
       "62182              073\n",
       "2349               725\n",
       "145658             414\n",
       "11380          7466442\n",
       "Name: musicid, dtype: object"
      ]
     },
     "execution_count": 118,
     "metadata": {},
     "output_type": "execute_result"
    }
   ],
   "source": [
    "df = dpf.isolate_number_from_string(df, 'musicid')\n",
    "df['musicid'].loc[musicid_sample_index]"
   ]
  },
  {
   "cell_type": "markdown",
   "metadata": {},
   "source": [
    "Swissbib's deduplication logic isolates and extracts number digits out of the original string for this attribute [[WiCo2001](./A_References.ipynb#wico2001)]. This extraction of number digits will be done as well in this capstone project. For this purpose function $\\texttt{.isolate}\\_\\texttt{number}\\_\\texttt{from}\\_\\texttt{string()}$ will be used for attribute $\\texttt{musicid}$. The attribute is taken to further processing steps as is."
   ]
  },
  {
   "cell_type": "code",
   "execution_count": 119,
   "metadata": {},
   "outputs": [],
   "source": [
    "columns_metadata_dict['data_analysis_columns'].append('musicid')"
   ]
  },
  {
   "cell_type": "markdown",
   "metadata": {},
   "source": [
    "### pages"
   ]
  },
  {
   "cell_type": "code",
   "execution_count": 120,
   "metadata": {},
   "outputs": [],
   "source": [
    "columns_metadata_dict['list_columns'].append('pages')"
   ]
  },
  {
   "cell_type": "code",
   "execution_count": 121,
   "metadata": {},
   "outputs": [
    {
     "name": "stdout",
     "output_type": "stream",
     "text": [
      "Number of records with filled pages 161471, with missing pages 21936 => 88.0%\n"
     ]
    }
   ],
   "source": [
    "daf.find_empty_in_column(df, columns_metadata_dict, 'pages')"
   ]
  },
  {
   "cell_type": "markdown",
   "metadata": {},
   "source": [
    "Attribute $\\texttt{pages}$ has the same MARC 21 basis as attribute $\\texttt{volumes}$ [[FeatWiki](./A_References.ipynb/#feature_deduplication_wiki)]. In Swissbib's processing, it is used for extracting pages information out of the MARC 21 data. This extraction logic is described to be very sophisticated [[WiCo2001](./A_References.ipynb#wico2001)] and will not be reimplemented for this capstone project. The pages information is part of the information in attribute $\\texttt{volumes}$ and will therefore be dropped due to redundancy."
   ]
  },
  {
   "cell_type": "markdown",
   "metadata": {},
   "source": [
    "### part"
   ]
  },
  {
   "cell_type": "code",
   "execution_count": 122,
   "metadata": {},
   "outputs": [],
   "source": [
    "columns_metadata_dict['list_columns'] = ['part']"
   ]
  },
  {
   "cell_type": "code",
   "execution_count": 123,
   "metadata": {},
   "outputs": [
    {
     "name": "stdout",
     "output_type": "stream",
     "text": [
      "Number of records with filled part 43116, with missing part 140291 => 23.5%\n"
     ]
    }
   ],
   "source": [
    "daf.find_empty_in_column(df, columns_metadata_dict, 'part')"
   ]
  },
  {
   "cell_type": "markdown",
   "metadata": {},
   "source": [
    "Attribute $\\texttt{part}$ is a list of collected part descriptions of the MARC 21 data. In the Swissbib implementation, the attribute is normalised strongly with the goal to identify the information of a part of a bibliographical unit as a unique number."
   ]
  },
  {
   "cell_type": "code",
   "execution_count": 124,
   "metadata": {},
   "outputs": [
    {
     "data": {
      "text/plain": [
       "103027                                      [32(2):715-722]\n",
       "85964                                        [volume 10653]\n",
       "52605                                      [1999, S. 59-63]\n",
       "65564                                                [1064]\n",
       "104325                                         [0627, 0627]\n",
       "148022                                     [120(12):121801]\n",
       "54762                                                [0543]\n",
       "81593                     [Jg. 35 (2005), Nr. 12, S. 12-15]\n",
       "134468                                        [vol. 41, 41]\n",
       "53801                                                [5, 5]\n",
       "127140                                                  [7]\n",
       "168071    [No XXVII-41 (Octobre-Novembre 2001), pp. 43-46.]\n",
       "137891                                         [Nr. 54, 54]\n",
       "182202                                                  [2]\n",
       "149049                               [41 (2018), Seite 4-9]\n",
       "97098                                           [-/2(1987)]\n",
       "30182                                         [nº 129, 129]\n",
       "3281                                               [Band 2]\n",
       "54959                                  [Band 1, 7. Auflage]\n",
       "146642                                             [Band 3]\n",
       "Name: part, dtype: object"
      ]
     },
     "execution_count": 124,
     "metadata": {},
     "output_type": "execute_result"
    }
   ],
   "source": [
    "df.part[df.part.apply(lambda x : len(x)>0)].sample(n=20)"
   ]
  },
  {
   "cell_type": "code",
   "execution_count": 125,
   "metadata": {},
   "outputs": [
    {
     "data": {
      "text/plain": [
       "part                 [volume 7]\n",
       "volumes    [1 Online-Ressource]\n",
       "Name: 85733, dtype: object"
      ]
     },
     "execution_count": 125,
     "metadata": {},
     "output_type": "execute_result"
    }
   ],
   "source": [
    "df[['part', 'volumes']].loc[85733]"
   ]
  },
  {
   "cell_type": "code",
   "execution_count": 126,
   "metadata": {},
   "outputs": [
    {
     "data": {
      "text/plain": [
       "['2000', 'S. 261-281', 'Band 37']"
      ]
     },
     "execution_count": 126,
     "metadata": {},
     "output_type": "execute_result"
    }
   ],
   "source": [
    "df.part.loc[81304]"
   ]
  },
  {
   "cell_type": "code",
   "execution_count": 127,
   "metadata": {},
   "outputs": [],
   "source": [
    "df = dpf.transform_list_to_string(df, 'part')"
   ]
  },
  {
   "cell_type": "markdown",
   "metadata": {},
   "source": [
    "The list of strings will be transformed to a singular string with the help of function $\\texttt{.transform}\\_\\texttt{list}\\_\\texttt{to}\\_\\texttt{string}()$."
   ]
  },
  {
   "cell_type": "code",
   "execution_count": 128,
   "metadata": {},
   "outputs": [
    {
     "data": {
      "text/plain": [
       "80265                                           76, 19\n",
       "136606                                          70, 70\n",
       "65792                                                2\n",
       "86145                     nummer 2 (1992), seiten 9-11\n",
       "82350                                               11\n",
       "31193                                         band 332\n",
       "101783                                      26/2, 26/2\n",
       "94992                               27(3), pp. 270-280\n",
       "174913                                             2,1\n",
       "90406                                          99., 99\n",
       "56583                                      band 69, 69\n",
       "50844                                                3\n",
       "71498                                                4\n",
       "98839              volume 38, number 4 (december 2018)\n",
       "99734                                 2003, s. 501-506\n",
       "115897                                1989, s. 355-373\n",
       "76125                                         2018/667\n",
       "147633             1899, nummer 43 (28.10.), seite 5-7\n",
       "61565                                       148:w14648\n",
       "112156                                         no. 767\n",
       "116015                                               2\n",
       "47182     104. stück (1941), 104 = nr. 163 (1941), 104\n",
       "148867                                            4, 4\n",
       "167587                   ahead of print, 28 nov. 2017.\n",
       "68076                               série 17, cahier 2\n",
       "Name: part, dtype: object"
      ]
     },
     "execution_count": 128,
     "metadata": {},
     "output_type": "execute_result"
    }
   ],
   "source": [
    "df['part'][df['part'].apply(lambda x : len(x)>0)].sample(n=25)"
   ]
  },
  {
   "cell_type": "markdown",
   "metadata": {},
   "source": [
    "The model calculations will show a strong dependency on the number values of the attribute which will be hard to reveal in the full string. Therefore, a function has been written that extracts the number digits from the entire string. The output of this function results in the following string of listed number values. Some sample values are shown below."
   ]
  },
  {
   "cell_type": "code",
   "execution_count": 129,
   "metadata": {},
   "outputs": [
    {
     "name": "stdout",
     "output_type": "stream",
     "text": [
      "102359              no 250 (2019), annexe, no 95\n",
      "168248    ahead of print, 10 may 2018, pp. 1-18.\n",
      "126195                        vol. 8,2, vol. 8,2\n",
      "177342                                    23, 23\n",
      "178901                                  2019/228\n",
      "172234                            26(2017), 7-20\n",
      "180513                                      1345\n",
      "Name: part, dtype: object\n"
     ]
    },
    {
     "name": "stdout",
     "output_type": "stream",
     "text": [
      "102359     250 2019 95\n",
      "168248    10 2018 1 18\n",
      "126195         8 2 8 2\n",
      "177342           23 23\n",
      "178901        2019 228\n",
      "172234    26 2017 7 20\n",
      "180513            1345\n",
      "Name: part, dtype: object\n"
     ]
    }
   ],
   "source": [
    "samples_part = [102359, 168248, 126195, 177342, 178901, 172234, 180513]\n",
    "\n",
    "print(df.part.iloc[samples_part])\n",
    "df = dpf.extract_number_digits_from_string(df, 'part')\n",
    "print(df.part.iloc[samples_part])"
   ]
  },
  {
   "cell_type": "code",
   "execution_count": 130,
   "metadata": {},
   "outputs": [
    {
     "name": "stdout",
     "output_type": "stream",
     "text": [
      "Array of unique attribute values\n",
      " ['' '1' '3' ... '867' '2009 201 223' '1962 92 106']\n",
      "\n",
      "Total number of unique values 21,302\n"
     ]
    }
   ],
   "source": [
    "print('Array of unique attribute values\\n', df.part.unique())\n",
    "print('\\nTotal number of unique values {:,d}'.format(len(df.part.unique())))"
   ]
  },
  {
   "cell_type": "markdown",
   "metadata": {},
   "source": [
    "Attribute $\\texttt{part}$ will be further processed in this way in the upcoming chapters."
   ]
  },
  {
   "cell_type": "code",
   "execution_count": 131,
   "metadata": {},
   "outputs": [],
   "source": [
    "columns_metadata_dict['data_analysis_columns'].append('part')"
   ]
  },
  {
   "cell_type": "markdown",
   "metadata": {},
   "source": [
    "### person"
   ]
  },
  {
   "cell_type": "code",
   "execution_count": 132,
   "metadata": {},
   "outputs": [],
   "source": [
    "columns_metadata_dict['strings_columns'].append('person')"
   ]
  },
  {
   "cell_type": "markdown",
   "metadata": {},
   "source": [
    "Attribute $\\texttt{person}$ is a collection of personal names statements of the bibliographic unit, see [[FeatWiki](./A_References.ipynb/#feature_deduplication_wiki)]. The attribute out of the raw data is a dictionary column in the DataFrame with four possible key value pairs. Attribute $\\texttt{person}$ is split for processing reasons into a singular attribute for each key of the dictionary. The values come along as lists and the implemented function $\\texttt{.transform}\\_\\texttt{list}\\_\\texttt{to}\\_\\texttt{string()}$ will be used to process its elements into one single string of the new column."
   ]
  },
  {
   "cell_type": "code",
   "execution_count": 133,
   "metadata": {},
   "outputs": [
    {
     "data": {
      "text/plain": [
       "118104    {'100': ['NiebuhrReinhold'], '700': [], '800':...\n",
       "28184     {'100': ['MarrRyan J.'], '700': [], '800': [],...\n",
       "37189     {'100': [], '700': ['GossDavid', 'HayesDavidDa...\n",
       "75961     {'100': ['HergerMario'], '700': [], '800': [],...\n",
       "29896     {'100': ['KaiserMirjam'], '700': [], '800': []...\n",
       "59611     {'100': [], '700': ['BoebelChaja', 'Heidenreic...\n",
       "111776    {'100': [], '700': ['EggenbergerVital', 'Couli...\n",
       "177206    {'100': ['GeorgeElizabeth'], '700': ['Wattwill...\n",
       "143399      {'100': [], '700': [], '800': [], '245c': ['']}\n",
       "168240    {'100': ['ChappeletJean-Loup'], '700': ['Van L...\n",
       "112691    {'100': ['DesjardinsChristopher David'], '700'...\n",
       "29100     {'100': ['DingesJohn'], '700': [], '800': [], ...\n",
       "109787    {'100': ['RayJean'], '700': [], '800': [], '24...\n",
       "69655     {'100': ['DiderotDenis'], '700': [], '800': []...\n",
       "153507    {'100': ['JensenJonathan A.'], '700': [], '800...\n",
       "134429    {'100': ['TardiJacques'], '700': ['SchulerChri...\n",
       "123485    {'100': [], '700': ['GrafNicole', 'id_orcid 00...\n",
       "51967     {'100': [], '700': ['AsanteMolefi Kete', 'Maza...\n",
       "117454    {'100': ['BarthKarl'], '700': [], '800': [], '...\n",
       "36066     {'100': ['BöhmerRoland'], '700': [], '800': []...\n",
       "Name: person, dtype: object"
      ]
     },
     "execution_count": 133,
     "metadata": {},
     "output_type": "execute_result"
    }
   ],
   "source": [
    "df.person.sample(n=20)"
   ]
  },
  {
   "cell_type": "code",
   "execution_count": 134,
   "metadata": {},
   "outputs": [
    {
     "name": "stdout",
     "output_type": "stream",
     "text": [
      "Number of records with filled person_100 115396, with missing person_100 68011 => 62.9%\n"
     ]
    },
    {
     "name": "stdout",
     "output_type": "stream",
     "text": [
      "Number of records with filled person_700 73254, with missing person_700 110153 => 39.9%\n"
     ]
    },
    {
     "name": "stdout",
     "output_type": "stream",
     "text": [
      "Number of records with filled person_800 1137, with missing person_800 182270 => 0.6%\n"
     ]
    },
    {
     "name": "stdout",
     "output_type": "stream",
     "text": [
      "Number of records with filled person_245c 158011, with missing person_245c 25396 => 86.2%\n"
     ]
    }
   ],
   "source": [
    "for ending in ['100', '700', '800', '245c']:\n",
    "    df = dpf.transform_dictionary_to_list(df, 'person', ending)\n",
    "    df = dpf.transform_list_to_string(df, 'person_'+ending)\n",
    "\n",
    "    columns_metadata_dict['strings_columns'].append('person_'+ending)\n",
    "    daf.find_empty_in_column(df, columns_metadata_dict, 'person_'+ending)"
   ]
  },
  {
   "cell_type": "code",
   "execution_count": 135,
   "metadata": {},
   "outputs": [
    {
     "data": {
      "text/plain": [
       "100168    alan hovhaness ; javier calderón, guitar ; roy...\n",
       "160604                                      [por pepe díaz]\n",
       "89667                                         l. gattermann\n",
       "21358                            priredio staniša tutnjević\n",
       "114112                                     julia pozas loyo\n",
       "36200                                      dieter wiedemann\n",
       "75362                                           mike lupica\n",
       "168919                                          jean duriau\n",
       "182671                             edited by andrew canessa\n",
       "77961                  introd. de c[laudius-pierre] terrier\n",
       "39529                                      dietrich eckardt\n",
       "134153                                             comstock\n",
       "86537       edited by barbara burlingame and sandro dernini\n",
       "37613                                         shawn johnson\n",
       "99837                                       patricia p. chu\n",
       "7305            rimsky-korsakov ; libretto: vladimir belsky\n",
       "139175                                              manning\n",
       "178096     antonio colombo del. et sc ; ap. g.f. bianchetti\n",
       "102479                                          stefan roth\n",
       "25365     de pascal ; publ. dans leur texte authentique ...\n",
       "Name: person_245c, dtype: object"
      ]
     },
     "execution_count": 135,
     "metadata": {},
     "output_type": "execute_result"
    }
   ],
   "source": [
    "df.person_245c[df.person_245c.apply(lambda x : len(x)>0)].sample(n=20)"
   ]
  },
  {
   "cell_type": "code",
   "execution_count": 136,
   "metadata": {},
   "outputs": [
    {
     "data": {
      "text/plain": [
       "82972         battinimichele\n",
       "69918             vernejules\n",
       "46308        multererdominic\n",
       "90620     gámiz gordoantonio\n",
       "9306         weissbergdaniel\n",
       "148312         hächlerroland\n",
       "101413          auzerogilles\n",
       "72700             abdounelsa\n",
       "47251              ahmednaim\n",
       "84545           dovejonathan\n",
       "83771     sciarrinosalvatore\n",
       "22443             waymanalex\n",
       "150523         griciuspierre\n",
       "135301       gafniyeshaʿyahu\n",
       "56420        campagnanorbert\n",
       "176095      enhagencarl-olof\n",
       "143741      holzgreveandreas\n",
       "79132        wunderlinthomas\n",
       "175705      alfenpeter g van\n",
       "24005         millerbanks p.\n",
       "Name: person_100, dtype: object"
      ]
     },
     "execution_count": 136,
     "metadata": {},
     "output_type": "execute_result"
    }
   ],
   "source": [
    "df.person_100[df.person_100.apply(lambda x : len(x)>0)].sample(n=20)"
   ]
  },
  {
   "cell_type": "code",
   "execution_count": 137,
   "metadata": {},
   "outputs": [
    {
     "data": {
      "text/plain": [
       "151258                                       gaughranrobert\n",
       "23232                            kohernest, twomeychristina\n",
       "115910                                      nicholscharlene\n",
       "86366                       hallkenneth r., karashimanoboru\n",
       "164964                       boycenatalie pope, murdoccasal\n",
       "120582                              adeagbooluwafemi, otten\n",
       "174862                     rawsoneric s., volpestella lucia\n",
       "111881                                            schönnina\n",
       "68437                             hergé, soncini frattaanna\n",
       "132305                                          ungerertomi\n",
       "29781                          gagneuxsébastien, riederhans\n",
       "36147     bhatesaroja, palsulegajanan balkrishna, gurjar...\n",
       "176288                                    loveseystephen w.\n",
       "126493            hawkingstephen william, fraissefrédérique\n",
       "94043                                 odgersjohn, pagetjohn\n",
       "74061            kammerlandernadine, zellwegerthomas markus\n",
       "92768     soponpongjakapun, dolsophonkulvadee, thongpanc...\n",
       "130539    burströmnanouschka myrberg, ingvardsongitte ta...\n",
       "23812                                        boshouwersstan\n",
       "100008    kušejmartin, harterosanja, kaufmannjonas, fisc...\n",
       "Name: person_700, dtype: object"
      ]
     },
     "execution_count": 137,
     "metadata": {},
     "output_type": "execute_result"
    }
   ],
   "source": [
    "df.person_700[df.person_700.apply(lambda x : len(x)>0)].sample(n=20)"
   ]
  },
  {
   "cell_type": "code",
   "execution_count": 138,
   "metadata": {},
   "outputs": [
    {
     "data": {
      "text/plain": [
       "128639                                    davoz\n",
       "15932                                  charlier\n",
       "134508                                   cowell\n",
       "85271                                      ohba\n",
       "22491                                  arleston\n",
       "60192                                      peyo\n",
       "175542                                   zidrou\n",
       "53969     schweizbundesamt für landestopografie\n",
       "10759                               rheinberger\n",
       "76009                                  scottsir\n",
       "138973                                  pommaux\n",
       "19098                                    hennen\n",
       "79586                                plutarchus\n",
       "85163                                  larminat\n",
       "105953                                   lupano\n",
       "112824                                sapkowski\n",
       "180215                              shakespeare\n",
       "141144                                   wagner\n",
       "90352                                      bihr\n",
       "47272                               rutishauser\n",
       "Name: person_800, dtype: object"
      ]
     },
     "execution_count": 138,
     "metadata": {},
     "output_type": "execute_result"
    }
   ],
   "source": [
    "df.person_800[df.person_800.apply(lambda x : len(x)>0)].sample(n=20)"
   ]
  },
  {
   "cell_type": "markdown",
   "metadata": {},
   "source": [
    "According to [[WiCo2001](./A_References.ipynb#wico2001)], attributes $\\texttt{person}\\_\\texttt{100}$ and $\\texttt{person}\\_\\texttt{700}$ hold standardized author information. Swissbib uses $\\texttt{person}\\_\\texttt{245c}$ as a fallback only, in case of missing $\\texttt{person}\\_\\texttt{100}$ and $\\texttt{person}\\_\\texttt{700}$."
   ]
  },
  {
   "cell_type": "code",
   "execution_count": 139,
   "metadata": {},
   "outputs": [
    {
     "data": {
      "text/html": [
       "<div>\n",
       "<style scoped>\n",
       "    .dataframe tbody tr th:only-of-type {\n",
       "        vertical-align: middle;\n",
       "    }\n",
       "\n",
       "    .dataframe tbody tr th {\n",
       "        vertical-align: top;\n",
       "    }\n",
       "\n",
       "    .dataframe thead th {\n",
       "        text-align: right;\n",
       "    }\n",
       "</style>\n",
       "<table border=\"1\" class=\"dataframe\">\n",
       "  <thead>\n",
       "    <tr style=\"text-align: right;\">\n",
       "      <th></th>\n",
       "      <th>person_245c</th>\n",
       "      <th>person_100</th>\n",
       "      <th>person_700</th>\n",
       "      <th>person_800</th>\n",
       "    </tr>\n",
       "  </thead>\n",
       "  <tbody>\n",
       "    <tr>\n",
       "      <th>145865</th>\n",
       "      <td>n.k. jemisin</td>\n",
       "      <td>jemisinn. k.</td>\n",
       "      <td></td>\n",
       "      <td>jemisin</td>\n",
       "    </tr>\n",
       "    <tr>\n",
       "      <th>46825</th>\n",
       "      <td>jean-marie agier, philippe graf</td>\n",
       "      <td>agierjean-marie</td>\n",
       "      <td>grafphilippe</td>\n",
       "      <td></td>\n",
       "    </tr>\n",
       "  </tbody>\n",
       "</table>\n",
       "</div>"
      ],
      "text/plain": [
       "                            person_245c       person_100    person_700  \\\n",
       "145865                     n.k. jemisin     jemisinn. k.                 \n",
       "46825   jean-marie agier, philippe graf  agierjean-marie  grafphilippe   \n",
       "\n",
       "       person_800  \n",
       "145865    jemisin  \n",
       "46825              "
      ]
     },
     "execution_count": 139,
     "metadata": {},
     "output_type": "execute_result"
    }
   ],
   "source": [
    "df[['person_245c', 'person_100', 'person_700', 'person_800']].loc[[145865, 46825]]"
   ]
  },
  {
   "cell_type": "markdown",
   "metadata": {},
   "source": [
    "Column $\\texttt{person}\\_\\texttt{245c}$ is identified as the most complete and usefull author indication attribute and will be used as a basis for the data of the feature matrix. Attributes $\\texttt{person}\\_\\texttt{100}$ and $\\texttt{person}\\_\\texttt{700}$ will also be added to the feature matrix, though."
   ]
  },
  {
   "cell_type": "code",
   "execution_count": 140,
   "metadata": {},
   "outputs": [],
   "source": [
    "columns_metadata_dict['data_analysis_columns'].append('person_100')\n",
    "columns_metadata_dict['data_analysis_columns'].append('person_700')\n",
    "#columns_metadata_dict['data_analysis_columns'].append('person_800')\n",
    "columns_metadata_dict['data_analysis_columns'].append('person_245c')"
   ]
  },
  {
   "cell_type": "code",
   "execution_count": 141,
   "metadata": {},
   "outputs": [
    {
     "name": "stdout",
     "output_type": "stream",
     "text": [
      "Ratio of records with missing person and corporate information 7.9%\n"
     ]
    }
   ],
   "source": [
    "df_no_person_no_corporate = df[['person', 'corporate', 'format_prefix']][\n",
    "    df.person_100.apply(lambda x : len(x)==0) &\n",
    "    df.person_700.apply(lambda x : len(x)==0) &\n",
    "    df.person_800.apply(lambda x : len(x)==0) &\n",
    "    df.person_245c.apply(lambda x : len(x)==0) &\n",
    "    df.corporate_110.apply(lambda x : len(x)==0) &\n",
    "    df.corporate_710.apply(lambda x : len(x)==0)\n",
    "]\n",
    "\n",
    "print('Ratio of records with missing person and corporate information {:.1f}%'.format(\n",
    "    len(df_no_person_no_corporate)/len(df)*100))"
   ]
  },
  {
   "cell_type": "code",
   "execution_count": 142,
   "metadata": {},
   "outputs": [
    {
     "data": {
      "text/plain": [
       "bk    11352\n",
       "cr     1571\n",
       "vm      863\n",
       "mu      254\n",
       "        154\n",
       "mp       98\n",
       "cf       78\n",
       "cl       76\n",
       "Name: format_prefix, dtype: int64"
      ]
     },
     "execution_count": 142,
     "metadata": {},
     "output_type": "execute_result"
    }
   ],
   "source": [
    "df_no_person_no_corporate.format_prefix.value_counts()"
   ]
  },
  {
   "cell_type": "markdown",
   "metadata": {},
   "source": [
    "A comparison between $\\texttt{person}$ and $\\texttt{corporate}$ shows that about 8% of the records have no information in neither of the two attributes. These records are distributed over all formats of the bibliographical unit."
   ]
  },
  {
   "cell_type": "markdown",
   "metadata": {},
   "source": [
    "### pubinit"
   ]
  },
  {
   "cell_type": "code",
   "execution_count": 143,
   "metadata": {},
   "outputs": [],
   "source": [
    "columns_metadata_dict['list_columns'] = ['pubinit']"
   ]
  },
  {
   "cell_type": "code",
   "execution_count": 144,
   "metadata": {},
   "outputs": [
    {
     "name": "stdout",
     "output_type": "stream",
     "text": [
      "Number of records with filled pubinit 61462, with missing pubinit 121945 => 33.5%\n"
     ]
    }
   ],
   "source": [
    "daf.find_empty_in_column(df, columns_metadata_dict, 'pubinit')"
   ]
  },
  {
   "cell_type": "markdown",
   "metadata": {},
   "source": [
    "The attribute holds the information on the publisher of the bibliographical unit. Some sample data is shown below."
   ]
  },
  {
   "cell_type": "code",
   "execution_count": 145,
   "metadata": {},
   "outputs": [
    {
     "data": {
      "text/plain": [
       "61714                                                 [PUF]\n",
       "10689                                  [G.P. Putnam's Sons]\n",
       "9991                                      [Hörbuch Hamburg]\n",
       "5240                                          [H. Kaufmann]\n",
       "113535          [London Internation Piano Symposium (LIPS)]\n",
       "155096                                    [Sportpropaganda]\n",
       "129238                                             [[s.n.]]\n",
       "151560                     [Women Living Under Muslim Laws]\n",
       "183032                                  [Galerie Zabriskie]\n",
       "135312    [Published by the Foundation for the Journal o...\n",
       "45215                                   [Editions Karthala]\n",
       "134582              [Buffalo, N.Y.: Wm. S. Hein & Co., Inc]\n",
       "151836                                             [[s.n.]]\n",
       "146829                      [Televisione Svizzera Italiana]\n",
       "70732                                                [Olms]\n",
       "166911    [Organisationskomitee für die XI. Olympiade Be...\n",
       "155738                                              [VANOC]\n",
       "3504                                              [Südwest]\n",
       "165179                   [Presses universitaires de France]\n",
       "148895                               [Columbia Masterworks]\n",
       "Name: pubinit, dtype: object"
      ]
     },
     "execution_count": 145,
     "metadata": {},
     "output_type": "execute_result"
    }
   ],
   "source": [
    "df.pubinit[df.pubinit.apply(lambda x : len(x)>0)].sample(n=20)"
   ]
  },
  {
   "cell_type": "markdown",
   "metadata": {},
   "source": [
    "Two kinds of entries stand out as special in the sample data."
   ]
  },
  {
   "cell_type": "code",
   "execution_count": 146,
   "metadata": {},
   "outputs": [
    {
     "data": {
      "text/plain": [
       "117866    [publisher not identified]\n",
       "3185                        [[s.n.]]\n",
       "Name: pubinit, dtype: object"
      ]
     },
     "execution_count": 146,
     "metadata": {},
     "output_type": "execute_result"
    }
   ],
   "source": [
    "df.pubinit.loc[[117866, 3185]]"
   ]
  },
  {
   "cell_type": "code",
   "execution_count": 147,
   "metadata": {},
   "outputs": [
    {
     "name": "stdout",
     "output_type": "stream",
     "text": [
      "Number of records with pubinit = 'publisher not identified' : 2795    \n",
      "Number of records with pubinit = '[s.n.]' : 4259\n"
     ]
    }
   ],
   "source": [
    "cnt_pni, cnt_sn = 0, 0\n",
    "\n",
    "for i in range(len(df)):\n",
    "    if len(df.pubinit.loc[i]) > 0:\n",
    "        if df.pubinit.loc[i][0] == 'publisher not identified':\n",
    "            cnt_pni = cnt_pni+1\n",
    "        if df.pubinit.loc[i][0] == '[s.n.]':\n",
    "            cnt_sn = cnt_sn+1\n",
    "\n",
    "print('Number of records with pubinit = \\'publisher not identified\\' : {:d}\\\n",
    "    \\nNumber of records with pubinit = \\'[s.n.]\\' : {:d}'.format(cnt_pni, cnt_sn))"
   ]
  },
  {
   "cell_type": "markdown",
   "metadata": {},
   "source": [
    "According to [[WiCo2001](./A_References.ipynb#wico2001)], this attribute holds the initial characters that do not correspond to anyone of word strings like ...\n",
    "- Verl., Verlag, Verlagsgesellschaft,\n",
    "- publ., publisher,\n",
    "- ed., editor, edition,\n",
    "- ...\n",
    "\n",
    "Swissbib's deduplication logic uses the such abbreviated values of this attribute. For the capstone project, the attribute is taken to further processing as one single concatenated string. The special entries shown above will be handled as regular publisher's description, too."
   ]
  },
  {
   "cell_type": "code",
   "execution_count": 148,
   "metadata": {},
   "outputs": [],
   "source": [
    "columns_metadata_dict['data_analysis_columns'].append('pubinit')"
   ]
  },
  {
   "cell_type": "markdown",
   "metadata": {},
   "source": [
    "### pubword"
   ]
  },
  {
   "cell_type": "code",
   "execution_count": 149,
   "metadata": {},
   "outputs": [],
   "source": [
    "columns_metadata_dict['list_columns'] = ['pubword']"
   ]
  },
  {
   "cell_type": "code",
   "execution_count": 150,
   "metadata": {},
   "outputs": [
    {
     "name": "stdout",
     "output_type": "stream",
     "text": [
      "Number of records with filled pubword 61462, with missing pubword 121945 => 33.5%\n"
     ]
    }
   ],
   "source": [
    "daf.find_empty_in_column(df, columns_metadata_dict, 'pubword')"
   ]
  },
  {
   "cell_type": "markdown",
   "metadata": {},
   "source": [
    "Attribute $\\texttt{pubword}$ has the same MARC 21 basis as $\\texttt{pubinit}$. The attribute will be dropped due to redundancy."
   ]
  },
  {
   "cell_type": "markdown",
   "metadata": {},
   "source": [
    "### pubyear"
   ]
  },
  {
   "cell_type": "code",
   "execution_count": 151,
   "metadata": {},
   "outputs": [],
   "source": [
    "columns_metadata_dict['strings_columns'].append('pubyear')"
   ]
  },
  {
   "cell_type": "code",
   "execution_count": 152,
   "metadata": {},
   "outputs": [
    {
     "name": "stdout",
     "output_type": "stream",
     "text": [
      "Number of records with filled pubyear 183407, with missing pubyear 0 => 100.0%\n"
     ]
    }
   ],
   "source": [
    "daf.find_empty_in_column(df, columns_metadata_dict, 'pubyear')"
   ]
  },
  {
   "cell_type": "code",
   "execution_count": 153,
   "metadata": {},
   "outputs": [
    {
     "data": {
      "text/html": [
       "<div>\n",
       "<style scoped>\n",
       "    .dataframe tbody tr th:only-of-type {\n",
       "        vertical-align: middle;\n",
       "    }\n",
       "\n",
       "    .dataframe tbody tr th {\n",
       "        vertical-align: top;\n",
       "    }\n",
       "\n",
       "    .dataframe thead th {\n",
       "        text-align: right;\n",
       "    }\n",
       "</style>\n",
       "<table border=\"1\" class=\"dataframe\">\n",
       "  <thead>\n",
       "    <tr style=\"text-align: right;\">\n",
       "      <th></th>\n",
       "      <th>docid</th>\n",
       "      <th>035liste</th>\n",
       "      <th>isbn</th>\n",
       "      <th>ttlfull</th>\n",
       "      <th>ttlpart</th>\n",
       "      <th>person</th>\n",
       "      <th>corporate</th>\n",
       "      <th>pubyear</th>\n",
       "      <th>decade</th>\n",
       "      <th>century</th>\n",
       "      <th>exactDate</th>\n",
       "      <th>...</th>\n",
       "      <th>coordinate_N</th>\n",
       "      <th>corporate_110</th>\n",
       "      <th>corporate_710</th>\n",
       "      <th>corporate_810</th>\n",
       "      <th>corporate_full</th>\n",
       "      <th>format_prefix</th>\n",
       "      <th>format_postfix</th>\n",
       "      <th>person_100</th>\n",
       "      <th>person_700</th>\n",
       "      <th>person_800</th>\n",
       "      <th>person_245c</th>\n",
       "    </tr>\n",
       "  </thead>\n",
       "  <tbody>\n",
       "    <tr>\n",
       "      <th>0</th>\n",
       "      <td>554061449</td>\n",
       "      <td>[(OCoLC)1085491204, (IDSBB)006899773]</td>\n",
       "      <td>[]</td>\n",
       "      <td>{'245': ['Die Feist von Kienberg', 'eine Wasen...</td>\n",
       "      <td>{'245': ['Die Feist von Kienberg', 'eine Wasen...</td>\n",
       "      <td>{'100': ['SchluchterAndré'], '700': [], '800':...</td>\n",
       "      <td>{'110': [], '710': [], '810': []}</td>\n",
       "      <td>1992</td>\n",
       "      <td>1992</td>\n",
       "      <td>1992</td>\n",
       "      <td>1992uuuu</td>\n",
       "      <td>...</td>\n",
       "      <td></td>\n",
       "      <td></td>\n",
       "      <td></td>\n",
       "      <td></td>\n",
       "      <td></td>\n",
       "      <td>bk</td>\n",
       "      <td>020000</td>\n",
       "      <td>schluchterandré</td>\n",
       "      <td></td>\n",
       "      <td></td>\n",
       "      <td>andré schluchter</td>\n",
       "    </tr>\n",
       "    <tr>\n",
       "      <th>1</th>\n",
       "      <td>554061481</td>\n",
       "      <td>[(OCoLC)1085491341, (IDSBB)006899983]</td>\n",
       "      <td>[]</td>\n",
       "      <td>{'245': ['Reimereien']}</td>\n",
       "      <td>{'245': ['Reimereien']}</td>\n",
       "      <td>{'100': ['NaegeliWerner'], '700': [], '800': [...</td>\n",
       "      <td>{'110': [], '710': [], '810': []}</td>\n",
       "      <td>1986</td>\n",
       "      <td>1986</td>\n",
       "      <td>1986</td>\n",
       "      <td>1986uuuu</td>\n",
       "      <td>...</td>\n",
       "      <td></td>\n",
       "      <td></td>\n",
       "      <td></td>\n",
       "      <td></td>\n",
       "      <td></td>\n",
       "      <td>bk</td>\n",
       "      <td>020000</td>\n",
       "      <td>naegeliwerner</td>\n",
       "      <td></td>\n",
       "      <td></td>\n",
       "      <td>von werner naegeli</td>\n",
       "    </tr>\n",
       "    <tr>\n",
       "      <th>2</th>\n",
       "      <td>554061503</td>\n",
       "      <td>[(OCoLC)1085491299, (IDSBB)006899959]</td>\n",
       "      <td>[]</td>\n",
       "      <td>{'245': ['Efficax antidotum ad matrimonia mixt...</td>\n",
       "      <td>{'245': ['Efficax antidotum ad matrimonia mixt...</td>\n",
       "      <td>{'100': ['KellyM.V.'], '700': ['GeniesseJ.B.']...</td>\n",
       "      <td>{'110': [], '710': [], '810': []}</td>\n",
       "      <td>1923</td>\n",
       "      <td>1923</td>\n",
       "      <td>1923</td>\n",
       "      <td>1923uuuu</td>\n",
       "      <td>...</td>\n",
       "      <td></td>\n",
       "      <td></td>\n",
       "      <td></td>\n",
       "      <td></td>\n",
       "      <td></td>\n",
       "      <td>bk</td>\n",
       "      <td>020000</td>\n",
       "      <td>kellym.v.</td>\n",
       "      <td>geniessej.b.</td>\n",
       "      <td></td>\n",
       "      <td>m.v. kelly et j.b. geniesse</td>\n",
       "    </tr>\n",
       "    <tr>\n",
       "      <th>3</th>\n",
       "      <td>554061511</td>\n",
       "      <td>[(OCoLC)1085491268, (IDSBB)006896614]</td>\n",
       "      <td>[]</td>\n",
       "      <td>{'245': ['Probleme der Inflationsbekämpfung', ...</td>\n",
       "      <td>{'245': ['Probleme der Inflationsbekämpfung', ...</td>\n",
       "      <td>{'100': ['WegelinWalter'], '700': [], '800': [...</td>\n",
       "      <td>{'110': [], '710': [], '810': []}</td>\n",
       "      <td>1947</td>\n",
       "      <td>1947</td>\n",
       "      <td>1947</td>\n",
       "      <td>1947uuuu</td>\n",
       "      <td>...</td>\n",
       "      <td></td>\n",
       "      <td></td>\n",
       "      <td></td>\n",
       "      <td></td>\n",
       "      <td></td>\n",
       "      <td>bk</td>\n",
       "      <td>020000</td>\n",
       "      <td>wegelinwalter</td>\n",
       "      <td></td>\n",
       "      <td></td>\n",
       "      <td></td>\n",
       "    </tr>\n",
       "    <tr>\n",
       "      <th>4</th>\n",
       "      <td>55406152X</td>\n",
       "      <td>[(OCoLC)1085491079, (IDSBB)006896866]</td>\n",
       "      <td>[]</td>\n",
       "      <td>{'245': ['[Poems]']}</td>\n",
       "      <td>{'245': ['[Poems]']}</td>\n",
       "      <td>{'100': ['OberlinUrs'], '700': [], '800': [], ...</td>\n",
       "      <td>{'110': [], '710': [], '810': []}</td>\n",
       "      <td>1991</td>\n",
       "      <td>1991</td>\n",
       "      <td>1991</td>\n",
       "      <td>1991uuuu</td>\n",
       "      <td>...</td>\n",
       "      <td></td>\n",
       "      <td></td>\n",
       "      <td></td>\n",
       "      <td></td>\n",
       "      <td></td>\n",
       "      <td>bk</td>\n",
       "      <td>020000</td>\n",
       "      <td>oberlinurs</td>\n",
       "      <td></td>\n",
       "      <td></td>\n",
       "      <td>urs oberlin ; translated from the german by ru...</td>\n",
       "    </tr>\n",
       "    <tr>\n",
       "      <th>...</th>\n",
       "      <td>...</td>\n",
       "      <td>...</td>\n",
       "      <td>...</td>\n",
       "      <td>...</td>\n",
       "      <td>...</td>\n",
       "      <td>...</td>\n",
       "      <td>...</td>\n",
       "      <td>...</td>\n",
       "      <td>...</td>\n",
       "      <td>...</td>\n",
       "      <td>...</td>\n",
       "      <td>...</td>\n",
       "      <td>...</td>\n",
       "      <td>...</td>\n",
       "      <td>...</td>\n",
       "      <td>...</td>\n",
       "      <td>...</td>\n",
       "      <td>...</td>\n",
       "      <td>...</td>\n",
       "      <td>...</td>\n",
       "      <td>...</td>\n",
       "      <td>...</td>\n",
       "      <td>...</td>\n",
       "    </tr>\n",
       "    <tr>\n",
       "      <th>183402</th>\n",
       "      <td>556988922</td>\n",
       "      <td>[(OCoLC)1083973002, (NEBIS)011374206]</td>\n",
       "      <td>[978-3-319-99217-4]</td>\n",
       "      <td>{'245': ['Great Moments in the History of Life']}</td>\n",
       "      <td>{'245': ['Great Moments in the History of Life']}</td>\n",
       "      <td>{'100': ['ShawGeorge H.'], '700': [], '800': [...</td>\n",
       "      <td>{'110': [], '710': [], '810': []}</td>\n",
       "      <td>2018</td>\n",
       "      <td>2018</td>\n",
       "      <td>2018</td>\n",
       "      <td>2018uuuu</td>\n",
       "      <td>...</td>\n",
       "      <td></td>\n",
       "      <td></td>\n",
       "      <td></td>\n",
       "      <td></td>\n",
       "      <td></td>\n",
       "      <td>bk</td>\n",
       "      <td>020053</td>\n",
       "      <td>shawgeorge h.</td>\n",
       "      <td></td>\n",
       "      <td></td>\n",
       "      <td>by george h. shaw</td>\n",
       "    </tr>\n",
       "    <tr>\n",
       "      <th>183403</th>\n",
       "      <td>556988930</td>\n",
       "      <td>[(OCoLC)1081363098, (NEBIS)011374477]</td>\n",
       "      <td>[978-3-662-58485-9]</td>\n",
       "      <td>{'245': ['Machine Learning for Cyber Physical ...</td>\n",
       "      <td>{'245': ['Machine Learning for Cyber Physical ...</td>\n",
       "      <td>{'100': [], '700': ['BeyererJürgen', 'KühnertC...</td>\n",
       "      <td>{'110': [], '710': [], '810': []}</td>\n",
       "      <td>2019</td>\n",
       "      <td>2019</td>\n",
       "      <td>2019</td>\n",
       "      <td>2019uuuu</td>\n",
       "      <td>...</td>\n",
       "      <td></td>\n",
       "      <td></td>\n",
       "      <td></td>\n",
       "      <td></td>\n",
       "      <td></td>\n",
       "      <td>bk</td>\n",
       "      <td>020053</td>\n",
       "      <td></td>\n",
       "      <td>beyererjürgen, kühnertchristian, niggemannoliver</td>\n",
       "      <td></td>\n",
       "      <td>edited by jürgen beyerer, christian kühnert, o...</td>\n",
       "    </tr>\n",
       "    <tr>\n",
       "      <th>183404</th>\n",
       "      <td>556988949</td>\n",
       "      <td>[(OCoLC)1089721912, (NEBIS)011374010]</td>\n",
       "      <td>[]</td>\n",
       "      <td>{'245': ['Die neolithische Höhensiedlung \"Abri...</td>\n",
       "      <td>{'245': ['Die neolithische Höhensiedlung \"Abri...</td>\n",
       "      <td>{'100': ['AmreinWilhelm'], '700': [], '800': [...</td>\n",
       "      <td>{'110': [], '710': [], '810': []}</td>\n",
       "      <td>1930</td>\n",
       "      <td>1930</td>\n",
       "      <td>1930</td>\n",
       "      <td>1930uuuu</td>\n",
       "      <td>...</td>\n",
       "      <td></td>\n",
       "      <td></td>\n",
       "      <td></td>\n",
       "      <td></td>\n",
       "      <td></td>\n",
       "      <td>bk</td>\n",
       "      <td>010000</td>\n",
       "      <td>amreinwilhelm</td>\n",
       "      <td></td>\n",
       "      <td></td>\n",
       "      <td></td>\n",
       "    </tr>\n",
       "    <tr>\n",
       "      <th>183405</th>\n",
       "      <td>556988965</td>\n",
       "      <td>[(OCoLC)883819333, (NEBIS)008354642]</td>\n",
       "      <td>[3-931793-24-9]</td>\n",
       "      <td>{'245': ['Igel Total']}</td>\n",
       "      <td>{'245': ['Igel Total']}</td>\n",
       "      <td>{'100': ['BachMeike'], '700': [], '800': [], '...</td>\n",
       "      <td>{'110': [], '710': [], '810': []}</td>\n",
       "      <td>2000</td>\n",
       "      <td>2000</td>\n",
       "      <td>2000</td>\n",
       "      <td>2000uuuu</td>\n",
       "      <td>...</td>\n",
       "      <td></td>\n",
       "      <td></td>\n",
       "      <td></td>\n",
       "      <td></td>\n",
       "      <td></td>\n",
       "      <td>bk</td>\n",
       "      <td>020000</td>\n",
       "      <td>bachmeike</td>\n",
       "      <td></td>\n",
       "      <td></td>\n",
       "      <td>idee &amp; ill. meike bach</td>\n",
       "    </tr>\n",
       "    <tr>\n",
       "      <th>183406</th>\n",
       "      <td>556988973</td>\n",
       "      <td>[(OCoLC)1083948806, (NEBIS)011374205]</td>\n",
       "      <td>[978-3-319-97553-5]</td>\n",
       "      <td>{'245': ['Proceeding of the 2nd International ...</td>\n",
       "      <td>{'245': ['Proceeding of the 2nd International ...</td>\n",
       "      <td>{'100': [], '700': ['SukartikoAnggoro Cahyo', ...</td>\n",
       "      <td>{'110': [], '710': [], '810': []}</td>\n",
       "      <td>2018</td>\n",
       "      <td>2018</td>\n",
       "      <td>2018</td>\n",
       "      <td>2018uuuu</td>\n",
       "      <td>...</td>\n",
       "      <td></td>\n",
       "      <td></td>\n",
       "      <td></td>\n",
       "      <td></td>\n",
       "      <td></td>\n",
       "      <td>bk</td>\n",
       "      <td>020053</td>\n",
       "      <td></td>\n",
       "      <td>sukartikoanggoro cahyo, nuringtyastri rini, ma...</td>\n",
       "      <td></td>\n",
       "      <td>edited by anggoro cahyo sukartiko, tri rini nu...</td>\n",
       "    </tr>\n",
       "  </tbody>\n",
       "</table>\n",
       "<p>148968 rows × 35 columns</p>\n",
       "</div>"
      ],
      "text/plain": [
       "            docid                               035liste                 isbn  \\\n",
       "0       554061449  [(OCoLC)1085491204, (IDSBB)006899773]                   []   \n",
       "1       554061481  [(OCoLC)1085491341, (IDSBB)006899983]                   []   \n",
       "2       554061503  [(OCoLC)1085491299, (IDSBB)006899959]                   []   \n",
       "3       554061511  [(OCoLC)1085491268, (IDSBB)006896614]                   []   \n",
       "4       55406152X  [(OCoLC)1085491079, (IDSBB)006896866]                   []   \n",
       "...           ...                                    ...                  ...   \n",
       "183402  556988922  [(OCoLC)1083973002, (NEBIS)011374206]  [978-3-319-99217-4]   \n",
       "183403  556988930  [(OCoLC)1081363098, (NEBIS)011374477]  [978-3-662-58485-9]   \n",
       "183404  556988949  [(OCoLC)1089721912, (NEBIS)011374010]                   []   \n",
       "183405  556988965   [(OCoLC)883819333, (NEBIS)008354642]      [3-931793-24-9]   \n",
       "183406  556988973  [(OCoLC)1083948806, (NEBIS)011374205]  [978-3-319-97553-5]   \n",
       "\n",
       "                                                  ttlfull  \\\n",
       "0       {'245': ['Die Feist von Kienberg', 'eine Wasen...   \n",
       "1                                 {'245': ['Reimereien']}   \n",
       "2       {'245': ['Efficax antidotum ad matrimonia mixt...   \n",
       "3       {'245': ['Probleme der Inflationsbekämpfung', ...   \n",
       "4                                    {'245': ['[Poems]']}   \n",
       "...                                                   ...   \n",
       "183402  {'245': ['Great Moments in the History of Life']}   \n",
       "183403  {'245': ['Machine Learning for Cyber Physical ...   \n",
       "183404  {'245': ['Die neolithische Höhensiedlung \"Abri...   \n",
       "183405                            {'245': ['Igel Total']}   \n",
       "183406  {'245': ['Proceeding of the 2nd International ...   \n",
       "\n",
       "                                                  ttlpart  \\\n",
       "0       {'245': ['Die Feist von Kienberg', 'eine Wasen...   \n",
       "1                                 {'245': ['Reimereien']}   \n",
       "2       {'245': ['Efficax antidotum ad matrimonia mixt...   \n",
       "3       {'245': ['Probleme der Inflationsbekämpfung', ...   \n",
       "4                                    {'245': ['[Poems]']}   \n",
       "...                                                   ...   \n",
       "183402  {'245': ['Great Moments in the History of Life']}   \n",
       "183403  {'245': ['Machine Learning for Cyber Physical ...   \n",
       "183404  {'245': ['Die neolithische Höhensiedlung \"Abri...   \n",
       "183405                            {'245': ['Igel Total']}   \n",
       "183406  {'245': ['Proceeding of the 2nd International ...   \n",
       "\n",
       "                                                   person  \\\n",
       "0       {'100': ['SchluchterAndré'], '700': [], '800':...   \n",
       "1       {'100': ['NaegeliWerner'], '700': [], '800': [...   \n",
       "2       {'100': ['KellyM.V.'], '700': ['GeniesseJ.B.']...   \n",
       "3       {'100': ['WegelinWalter'], '700': [], '800': [...   \n",
       "4       {'100': ['OberlinUrs'], '700': [], '800': [], ...   \n",
       "...                                                   ...   \n",
       "183402  {'100': ['ShawGeorge H.'], '700': [], '800': [...   \n",
       "183403  {'100': [], '700': ['BeyererJürgen', 'KühnertC...   \n",
       "183404  {'100': ['AmreinWilhelm'], '700': [], '800': [...   \n",
       "183405  {'100': ['BachMeike'], '700': [], '800': [], '...   \n",
       "183406  {'100': [], '700': ['SukartikoAnggoro Cahyo', ...   \n",
       "\n",
       "                                corporate   pubyear decade century exactDate  \\\n",
       "0       {'110': [], '710': [], '810': []}  1992       1992    1992  1992uuuu   \n",
       "1       {'110': [], '710': [], '810': []}  1986       1986    1986  1986uuuu   \n",
       "2       {'110': [], '710': [], '810': []}  1923       1923    1923  1923uuuu   \n",
       "3       {'110': [], '710': [], '810': []}  1947       1947    1947  1947uuuu   \n",
       "4       {'110': [], '710': [], '810': []}  1991       1991    1991  1991uuuu   \n",
       "...                                   ...       ...    ...     ...       ...   \n",
       "183402  {'110': [], '710': [], '810': []}  2018       2018    2018  2018uuuu   \n",
       "183403  {'110': [], '710': [], '810': []}  2019       2019    2019  2019uuuu   \n",
       "183404  {'110': [], '710': [], '810': []}  1930       1930    1930  1930uuuu   \n",
       "183405  {'110': [], '710': [], '810': []}  2000       2000    2000  2000uuuu   \n",
       "183406  {'110': [], '710': [], '810': []}  2018       2018    2018  2018uuuu   \n",
       "\n",
       "        ... coordinate_N corporate_110 corporate_710 corporate_810  \\\n",
       "0       ...                                                          \n",
       "1       ...                                                          \n",
       "2       ...                                                          \n",
       "3       ...                                                          \n",
       "4       ...                                                          \n",
       "...     ...          ...           ...           ...           ...   \n",
       "183402  ...                                                          \n",
       "183403  ...                                                          \n",
       "183404  ...                                                          \n",
       "183405  ...                                                          \n",
       "183406  ...                                                          \n",
       "\n",
       "       corporate_full format_prefix format_postfix       person_100  \\\n",
       "0                                bk         020000  schluchterandré   \n",
       "1                                bk         020000    naegeliwerner   \n",
       "2                                bk         020000        kellym.v.   \n",
       "3                                bk         020000    wegelinwalter   \n",
       "4                                bk         020000       oberlinurs   \n",
       "...               ...           ...            ...              ...   \n",
       "183402                           bk         020053    shawgeorge h.   \n",
       "183403                           bk         020053                    \n",
       "183404                           bk         010000    amreinwilhelm   \n",
       "183405                           bk         020000        bachmeike   \n",
       "183406                           bk         020053                    \n",
       "\n",
       "                                               person_700 person_800  \\\n",
       "0                                                                      \n",
       "1                                                                      \n",
       "2                                            geniessej.b.              \n",
       "3                                                                      \n",
       "4                                                                      \n",
       "...                                                   ...        ...   \n",
       "183402                                                                 \n",
       "183403   beyererjürgen, kühnertchristian, niggemannoliver              \n",
       "183404                                                                 \n",
       "183405                                                                 \n",
       "183406  sukartikoanggoro cahyo, nuringtyastri rini, ma...              \n",
       "\n",
       "                                              person_245c  \n",
       "0                                        andré schluchter  \n",
       "1                                      von werner naegeli  \n",
       "2                             m.v. kelly et j.b. geniesse  \n",
       "3                                                          \n",
       "4       urs oberlin ; translated from the german by ru...  \n",
       "...                                                   ...  \n",
       "183402                                  by george h. shaw  \n",
       "183403  edited by jürgen beyerer, christian kühnert, o...  \n",
       "183404                                                     \n",
       "183405                             idee & ill. meike bach  \n",
       "183406  edited by anggoro cahyo sukartiko, tri rini nu...  \n",
       "\n",
       "[148968 rows x 35 columns]"
      ]
     },
     "execution_count": 153,
     "metadata": {},
     "output_type": "execute_result"
    }
   ],
   "source": [
    "df[df.exactDate != df.pubyear]"
   ]
  },
  {
   "cell_type": "markdown",
   "metadata": {},
   "source": [
    "All 8 digits of $\\texttt{pubyear}$ hold identical data compared to field $\\texttt{exactDate}$. This observation corresponds to the expectation from the MARC 21 description of the attribute. The purpose of the attribute is to identify the year of publication of a bibliographic unit and store it for comparison in Swissbib's conventional deduplication implementation [[WiCo2001](./A_References.ipynb#wico2001)]."
   ]
  },
  {
   "cell_type": "markdown",
   "metadata": {},
   "source": [
    "Chapter [Feature Matrix Generation](./3_FeatureMatrixGeneration.ipynb) will apply a similarity metric for $\\texttt{exactDate}$ that takes the full date of publication into specific consideration. Attribute $\\texttt{pubyear}$ will be dropped as redundant."
   ]
  },
  {
   "cell_type": "markdown",
   "metadata": {},
   "source": [
    "### scale"
   ]
  },
  {
   "cell_type": "code",
   "execution_count": 154,
   "metadata": {},
   "outputs": [],
   "source": [
    "columns_metadata_dict['strings_columns'].append('scale')"
   ]
  },
  {
   "cell_type": "code",
   "execution_count": 155,
   "metadata": {},
   "outputs": [
    {
     "name": "stdout",
     "output_type": "stream",
     "text": [
      "Number of records with filled scale 793, with missing scale 182614 => 0.4%\n"
     ]
    }
   ],
   "source": [
    "daf.find_empty_in_column(df, columns_metadata_dict, 'scale')"
   ]
  },
  {
   "cell_type": "code",
   "execution_count": 156,
   "metadata": {},
   "outputs": [
    {
     "data": {
      "text/plain": [
       "array(['400000', '3000000', '50000', '75000', '300000', '800000', '10000',\n",
       "       '5650', '1:400,000', '700000', '100000', '25000', '275000',\n",
       "       '500000500000', '301000', '15000', '16667', 'Echelle : 1:50 000',\n",
       "       '1000000', '250000', '150000', 'Verschiedene Massstäbe',\n",
       "       'Echelle [ca. 1:440 000]', '5000050000',\n",
       "       '[Echelle non déterminée]', '200000', '118000', '1000010000',\n",
       "       '12500', 'Echelle 1:50.000', '5000', '500', 'Echelles diverses',\n",
       "       'Echelle 1:50 000', '1400000', '1600000', '550000', '1:50 000',\n",
       "       '1:60 000', '9117', '2000000', '20000100000', '1156015625', '8100',\n",
       "       '15700', '17400', '810011600', '16666', '500000', '70000',\n",
       "       'Echelle: 1:25.000', '1:25 000', '125000', '46000',\n",
       "       'Echelle 1:25.000 ; projection conforme cylindrique à axe oblique',\n",
       "       'Echelle 1:25.000', '300000700000', '850000', '2750', '1250000',\n",
       "       '1700000', '750000', '11000000', '17500', '250000250000',\n",
       "       '24000000', '3500000', '2500000', '240000', '60000', '650000',\n",
       "       '600000', '16000', '27000', '28000', '200000200000', '172000',\n",
       "       '24000', '2500065000', '56000', '40000', '35000', '1:18000',\n",
       "       '260000', '22500', '17000', '2600032000', '36000', '45000',\n",
       "       '2500040000', '20000', '30000', '275000275000', '15000000',\n",
       "       '2500033000', '490000', '1: 5 000 000', '120000', '37005000',\n",
       "       '56600', '16130', '1110023250', '126720', '2200000', '33000',\n",
       "       '7500', '6000060000', '11000', '10560', '13000', '160000', '18700',\n",
       "       '11450', '27600', '15500', '100', '10500', '1:35 000', '18500',\n",
       "       '2770000', '4000000', '150', '2000', '50000012500002000000200000',\n",
       "       '1100020000', '12000', 'Echelle : 1:100.000', '14000', '320000',\n",
       "       '9500000', '1:200 000', '5700000', '175000', '2700000', '3700000',\n",
       "       '4500000', '8000', '7700',\n",
       "       '850025 00010000 $d E0073010 $e E0073635 $f N0464638 $g N0464333',\n",
       "       '160009000', '5000000', '1875000', '2800000', '4000',\n",
       "       '1:8 000 000', '1:3 000 000', '38000', '1750049000',\n",
       "       '500000250000', '2670000', '2400000', '1960000', '2500025000',\n",
       "       '8500', '100000100000', '380000', '250002500025000', '13500',\n",
       "       '5500', '4500', '90000', 'Echelle 1:250 000'], dtype=object)"
      ]
     },
     "execution_count": 156,
     "metadata": {},
     "output_type": "execute_result"
    }
   ],
   "source": [
    "df.scale[df.scale.apply(lambda x : len(x)>0)].unique()"
   ]
  },
  {
   "cell_type": "markdown",
   "metadata": {},
   "source": [
    "Attribute $\\texttt{scale}$ holds scaling information on map units. The degree of filling in attribute $\\texttt{coordinate}$ is correlated with the degree of filling in attribute $\\texttt{scale}$."
   ]
  },
  {
   "cell_type": "code",
   "execution_count": 157,
   "metadata": {},
   "outputs": [
    {
     "name": "stdout",
     "output_type": "stream",
     "text": [
      "Number of records with either 'coordinate' or 'scale' not filled : 141\n"
     ]
    }
   ],
   "source": [
    "print('Number of records with either \\'coordinate\\' or \\'scale\\' not filled :', len(\n",
    "    df[['coordinate', 'scale']][\n",
    "        (df.scale.apply(lambda x : len(x)>0) & df.coordinate.apply(lambda x : len(x)==0)) |\n",
    "        (df.scale.apply(lambda x : len(x)==0) & df.coordinate.apply(lambda x : len(x)>0))\n",
    "    ]))"
   ]
  },
  {
   "cell_type": "markdown",
   "metadata": {},
   "source": [
    "Like for attribute $\\texttt{part}$, this attribute may hold a mixture of number digits and text strings. Even more, the scaling information may have preceeding '1:'."
   ]
  },
  {
   "cell_type": "code",
   "execution_count": 158,
   "metadata": {},
   "outputs": [
    {
     "data": {
      "text/plain": [
       "126881                       25000\n",
       "114799                       25000\n",
       "122770                     3000000\n",
       "16081           Echelle : 1:50 000\n",
       "18397     [Echelle non déterminée]\n",
       "114789                       25000\n",
       "86691                        50000\n",
       "53969                 200000200000\n",
       "110158                     4500000\n",
       "28342                        10000\n",
       "18769                       200000\n",
       "78675                      1000000\n",
       "144936                       11000\n",
       "48353                        60000\n",
       "111773                       50000\n",
       "59267                         2750\n",
       "116053                  1750049000\n",
       "81394                        33000\n",
       "113751                     2000000\n",
       "126808                       25000\n",
       "106167                      175000\n",
       "126754                       25000\n",
       "114848                       25000\n",
       "95151             Echelle 1:50 000\n",
       "126798                       25000\n",
       "Name: scale, dtype: object"
      ]
     },
     "execution_count": 158,
     "metadata": {},
     "output_type": "execute_result"
    }
   ],
   "source": [
    "df['scale'][df['scale'].apply(lambda x : len(x)>0)].sample(n=25)"
   ]
  },
  {
   "cell_type": "markdown",
   "metadata": {},
   "source": [
    "To unify the possible values of this attribute to scaling numbers, two transformations have been implemented. The first transformation will extract only the number digits from the $\\texttt{scale}$ string. The output will be a string with space separated numbers. This string will be the input for the second function, which removes explicitly stings '1 '. The effect of both functions applyed one after the other is shown for some examples, below."
   ]
  },
  {
   "cell_type": "code",
   "execution_count": 159,
   "metadata": {},
   "outputs": [
    {
     "name": "stdout",
     "output_type": "stream",
     "text": [
      "178473    [Echelle non déterminée]\n",
      "122281                500000250000\n",
      "27755                         8100\n",
      "23380             Echelle 1:50 000\n",
      "31391                     1:25 000\n",
      "35950                      1700000\n",
      "Name: scale, dtype: object\n"
     ]
    },
    {
     "name": "stdout",
     "output_type": "stream",
     "text": [
      "178473                \n",
      "122281    500000250000\n",
      "27755             8100\n",
      "23380           50 000\n",
      "31391           25 000\n",
      "35950          1700000\n",
      "Name: scale, dtype: object\n"
     ]
    }
   ],
   "source": [
    "samples_scale = [178473, 122281, 27755, 23380, 31391, 35950]\n",
    "\n",
    "print(df.scale.iloc[samples_scale])\n",
    "df = dpf.extract_number_digits_from_string(df, 'scale')\n",
    "df = dpf.extract_scaling_from_scale(df)\n",
    "print(df.scale.iloc[samples_scale])"
   ]
  },
  {
   "cell_type": "markdown",
   "metadata": {},
   "source": [
    "The attribute will be taken over to further processing as is [[WiCo2001](./A_References.ipynb#wico2001)]."
   ]
  },
  {
   "cell_type": "code",
   "execution_count": 160,
   "metadata": {},
   "outputs": [],
   "source": [
    "columns_metadata_dict['data_analysis_columns'].append('scale')"
   ]
  },
  {
   "cell_type": "markdown",
   "metadata": {},
   "source": [
    "### ttlfull"
   ]
  },
  {
   "cell_type": "code",
   "execution_count": 161,
   "metadata": {},
   "outputs": [],
   "source": [
    "columns_metadata_dict['strings_columns'].append('ttlfull')"
   ]
  },
  {
   "cell_type": "markdown",
   "metadata": {},
   "source": [
    "Attribute $\\texttt{ttlfull}$ holds the full title of the bibliographical unit, see [[FeatWiki](./A_References.ipynb/#feature_deduplication_wiki)]. Some examples are shown below."
   ]
  },
  {
   "cell_type": "code",
   "execution_count": 162,
   "metadata": {},
   "outputs": [
    {
     "data": {
      "text/plain": [
       "146088    {'245': ['Chinesisches Wirtschaftsrecht', 'int...\n",
       "92085     {'245': ['Schloss Vaduz, Fürstentum Liechtenst...\n",
       "128298               {'245': ['Ovide moralisé', 'livre 1']}\n",
       "98729     {'245': ['Leistungsmotiviertes Verhalten in Ma...\n",
       "24501     {'245': ['Delights of Harmony', 'James Gillray...\n",
       "13263     {'245': ['Ausgeführte Katechesen über die kath...\n",
       "149406    {'245': ['The British Olympic Association team...\n",
       "128496    {'245': ['Search for new phenomena in final st...\n",
       "18350                          {'245': ['Les Iris rouges']}\n",
       "160069    {'245': ['Les sites olympiques', 'vus du ciel ...\n",
       "12786     {'245': ['Trauerfeier am 1. Oktober 1966 im Kr...\n",
       "17830     {'245': ['Murs de papier', 'l'atelier du papie...\n",
       "133769    {'245': ['Handicaps, institutions et psychanal...\n",
       "23606     {'245': ['Gemeinsam gegen kriminelle Machensch...\n",
       "141841                           {'245': ['SOS à Téhéran']}\n",
       "94106     {'245': ['The Jñāneśvarī as a commentary on th...\n",
       "26442                                {'245': ['Brasilien']}\n",
       "29548     {'245': ['How to hack a human', 'cybersecurity...\n",
       "155490    {'245': ['1a Bienal nacional del deporte en el...\n",
       "50716               {'245': ['Verbrannt', 'Kriminalroman']}\n",
       "Name: ttlfull, dtype: object"
      ]
     },
     "execution_count": 162,
     "metadata": {},
     "output_type": "execute_result"
    }
   ],
   "source": [
    "df.ttlfull.sample(n=20)"
   ]
  },
  {
   "cell_type": "markdown",
   "metadata": {},
   "source": [
    "The attribute is a dictionary column in the DataFrame. There are two key value pairs possible in this attribute. For their processing, two new attributes will be added to the DataFrame, one for each key value pair. The values come along as lists. The implemented function $\\texttt{.transform}\\_\\texttt{list}\\_\\texttt{to}\\_\\texttt{string()}$ will be used to process the list elements into one single string of the column."
   ]
  },
  {
   "cell_type": "code",
   "execution_count": 163,
   "metadata": {},
   "outputs": [
    {
     "name": "stdout",
     "output_type": "stream",
     "text": [
      "Number of records with filled ttlfull_245 183407, with missing ttlfull_245 0 => 100.0%\n"
     ]
    },
    {
     "name": "stdout",
     "output_type": "stream",
     "text": [
      "Number of records with filled ttlfull_246 15897, with missing ttlfull_246 167510 => 8.7%\n"
     ]
    }
   ],
   "source": [
    "for ending in ['245', '246']:\n",
    "    df = dpf.transform_dictionary_to_list(df, 'ttlfull', ending)\n",
    "    df = dpf.transform_list_to_string(df, 'ttlfull_'+ending)\n",
    "\n",
    "    columns_metadata_dict['strings_columns'].append('ttlfull_'+ending)\n",
    "    daf.find_empty_in_column(df, columns_metadata_dict, 'ttlfull_'+ending)"
   ]
  },
  {
   "cell_type": "markdown",
   "metadata": {},
   "source": [
    "The title statement, attribute $\\texttt{ttlfull}\\_\\texttt{245}$, is filled for every record in the data set. This makes the attribute a central attribute for record pair comparisons. Attribute $\\texttt{ttlfull}\\_\\texttt{246}$ on the other hand is sparsely filled. Some samples are shown below."
   ]
  },
  {
   "cell_type": "code",
   "execution_count": 164,
   "metadata": {},
   "outputs": [
    {
     "data": {
      "text/plain": [
       "36797     accès aux terres agricoles à la va-vite en afr...\n",
       "147356    100 warm-ups für trainings und seminare, aktiv...\n",
       "59124                            le chant noir des baleines\n",
       "73131     dictionnaire gascon-français (dialecte du dép....\n",
       "123348    jacobi mapping approach for a precise cosmolog...\n",
       "6773      kein pfad führt zurück, aufbruch in ein neues ...\n",
       "133281                                               goethe\n",
       "125643                       luzern, hochwasser : juni 1910\n",
       "48177                                         robert walser\n",
       "26120           l'alchimie au moyen âge, (xiie-xve siècles)\n",
       "96168     nove variazioni in re maggiore su un minuetto ...\n",
       "54444     smart blockchain, first international conferen...\n",
       "58283                        la légende des flocons de noël\n",
       "108191                  legal anatomy and surgery (2nd ed.)\n",
       "173763    la gouvernance au coeur des politiques des org...\n",
       "139517                                    poldark, saison 3\n",
       "102562    sondermarken \"botschaften\", motiv: eine wichti...\n",
       "15441                              die kanonen von navarone\n",
       "38675                        economics of biodiversity loss\n",
       "18748                  anna zwingli-reinhart, hulda zumsteg\n",
       "Name: ttlfull_245, dtype: object"
      ]
     },
     "execution_count": 164,
     "metadata": {},
     "output_type": "execute_result"
    }
   ],
   "source": [
    "df.ttlfull_245.sample(20)"
   ]
  },
  {
   "cell_type": "code",
   "execution_count": 165,
   "metadata": {},
   "outputs": [
    {
     "data": {
      "text/plain": [
       "174742             motivos amorosos del teatro renacentista\n",
       "174938                         l'émetteur olympique mondial\n",
       "63850                            bvlla plenarie indvlgentie\n",
       "29383                                              mermaids\n",
       "144549                                  75 years of freedom\n",
       "42319                        maritime boundary delimitation\n",
       "6221                                    ams / maa textbooks\n",
       "62971     prosodia henrici smetii, rvb.f.a leda, alostan...\n",
       "46023                                 handbook on the kurds\n",
       "73448     klavierkonzert kv 491, klavierkonzert c-moll, ...\n",
       "143501                   various constitutional instruments\n",
       "95327                      devoirs de l'homme et du citoyen\n",
       "172949                                      sports medicine\n",
       "33175                                              numéro 4\n",
       "33961                                         vasco da gama\n",
       "64321                                                  eaės\n",
       "132137                         feminism and popular culture\n",
       "124867    design and construction of sanders building, e...\n",
       "49985          drei sonaten für 2 flöten und basso continuo\n",
       "112273                          illustrated human pathology\n",
       "Name: ttlfull_246, dtype: object"
      ]
     },
     "execution_count": 165,
     "metadata": {},
     "output_type": "execute_result"
    }
   ],
   "source": [
    "df.ttlfull_246[df.ttlfull_246.apply(lambda x : len(x)>0)].sample(20)"
   ]
  },
  {
   "cell_type": "code",
   "execution_count": 166,
   "metadata": {},
   "outputs": [
    {
     "data": {
      "text/html": [
       "<div>\n",
       "<style scoped>\n",
       "    .dataframe tbody tr th:only-of-type {\n",
       "        vertical-align: middle;\n",
       "    }\n",
       "\n",
       "    .dataframe tbody tr th {\n",
       "        vertical-align: top;\n",
       "    }\n",
       "\n",
       "    .dataframe thead th {\n",
       "        text-align: right;\n",
       "    }\n",
       "</style>\n",
       "<table border=\"1\" class=\"dataframe\">\n",
       "  <thead>\n",
       "    <tr style=\"text-align: right;\">\n",
       "      <th></th>\n",
       "      <th>ttlfull_245</th>\n",
       "      <th>ttlfull_246</th>\n",
       "    </tr>\n",
       "  </thead>\n",
       "  <tbody>\n",
       "    <tr>\n",
       "      <th>106789</th>\n",
       "      <td>principles of the english law of contract and ...</td>\n",
       "      <td>principles of the english law of contract and ...</td>\n",
       "    </tr>\n",
       "    <tr>\n",
       "      <th>147883</th>\n",
       "      <td>smallfoot, ein eisigartiges abenteuer</td>\n",
       "      <td>small foot</td>\n",
       "    </tr>\n",
       "    <tr>\n",
       "      <th>177020</th>\n",
       "      <td>dsm-5 pocket guide for elder mental health</td>\n",
       "      <td>elder mental health</td>\n",
       "    </tr>\n",
       "  </tbody>\n",
       "</table>\n",
       "</div>"
      ],
      "text/plain": [
       "                                              ttlfull_245  \\\n",
       "106789  principles of the english law of contract and ...   \n",
       "147883              smallfoot, ein eisigartiges abenteuer   \n",
       "177020         dsm-5 pocket guide for elder mental health   \n",
       "\n",
       "                                              ttlfull_246  \n",
       "106789  principles of the english law of contract and ...  \n",
       "147883                                         small foot  \n",
       "177020                                elder mental health  "
      ]
     },
     "execution_count": 166,
     "metadata": {},
     "output_type": "execute_result"
    }
   ],
   "source": [
    "df[['ttlfull_245', 'ttlfull_246']].loc[[106789, 147883, 177020]]"
   ]
  },
  {
   "cell_type": "markdown",
   "metadata": {},
   "source": [
    "According to [[WiCo2001](./A_References.ipynb#wico2001)], attribute $\\texttt{ttlfull}\\_\\texttt{245}$ holds the title of a bibliographic unit as it is appears on its publication. Attribute $\\texttt{ttlfull}\\_\\texttt{246}$ holds variations of the title that appear on the back of a unit or on the cover. Alternative diction and even some very special ideas of the people that enter the data can be stored in this field, too."
   ]
  },
  {
   "cell_type": "markdown",
   "metadata": {},
   "source": [
    "As $\\texttt{ttlfull}\\_\\texttt{245}$ can vary from $\\texttt{ttlfull}\\_\\texttt{246}$, the two new columns will be used as a basis for the data of the feature matrix."
   ]
  },
  {
   "cell_type": "code",
   "execution_count": 167,
   "metadata": {},
   "outputs": [],
   "source": [
    "columns_metadata_dict['data_analysis_columns'].append('ttlfull_245')\n",
    "columns_metadata_dict['data_analysis_columns'].append('ttlfull_246')"
   ]
  },
  {
   "cell_type": "markdown",
   "metadata": {},
   "source": [
    "### ttlpart"
   ]
  },
  {
   "cell_type": "code",
   "execution_count": 168,
   "metadata": {},
   "outputs": [],
   "source": [
    "columns_metadata_dict['strings_columns'].append('ttlpart')"
   ]
  },
  {
   "cell_type": "code",
   "execution_count": 169,
   "metadata": {},
   "outputs": [
    {
     "name": "stdout",
     "output_type": "stream",
     "text": [
      "Number of records with filled ttlpart 183407, with missing ttlpart 0 => 100.0%\n"
     ]
    }
   ],
   "source": [
    "daf.find_empty_in_column(df, columns_metadata_dict, 'ttlpart')"
   ]
  },
  {
   "cell_type": "code",
   "execution_count": 170,
   "metadata": {},
   "outputs": [
    {
     "data": {
      "text/plain": [
       "71765                             {'245': ['Il Ventaglio']}\n",
       "30902     {'245': ['La società europea', 'fonti comunita...\n",
       "57714     {'245': ['Panegyrici Sacri V.en P. Pauli Segne...\n",
       "43262     {'245': ['Smallholder finance in the palm oil ...\n",
       "167756    {'245': ['Slogan design guidelines', 'the Olym...\n",
       "53267     {'245': ['Zur Statistik schweizerischer Kunstd...\n",
       "111598    {'245': ['Geheime Leben', 'wie ich in Budapest...\n",
       "160863    {'245': ['Política de resposta a emêrgencia am...\n",
       "129433              {'245': ['Les contrats informatiques']}\n",
       "98365     {'245': ['Faire mémoire pour croire', 'une exé...\n",
       "100713    {'245': ['Sveriges Riksbank and the history of...\n",
       "65807     {'245': ['Contes', 'Miroir ou la Métamorphose ...\n",
       "117376    {'245': ['Federation. Tuesday League. Evening ...\n",
       "82968     {'245': ['Nacht und Licht', 'Schweizer Soldate...\n",
       "71193     {'245': ['Mélanges de dialectologie d'oïl', 'à...\n",
       "122122         {'245': ['Tika et Tao', 'un jour de pluie']}\n",
       "138618    {'245': ['Oil wealth in Central Africa', 'poli...\n",
       "66735          {'245': ['Deux mille ans de vie française']}\n",
       "171422            {'245': ['Bahar', 'turkish psychedelia']}\n",
       "137592    {'245': ['Minecraft - Handbuch für PVP-Mini-Ga...\n",
       "Name: ttlpart, dtype: object"
      ]
     },
     "execution_count": 170,
     "metadata": {},
     "output_type": "execute_result"
    }
   ],
   "source": [
    "df.ttlpart.sample(n=20)"
   ]
  },
  {
   "cell_type": "markdown",
   "metadata": {},
   "source": [
    "The attribute is described to be the same like $\\texttt{ttlfull_245}$, [[FeatWiki](./A_References.ipynb/#feature_deduplication_wiki)]. The comparison of the two attributes after the basic transformation of $\\texttt{ttlpart}$ shows that this expectation is valid for all records."
   ]
  },
  {
   "cell_type": "code",
   "execution_count": 171,
   "metadata": {},
   "outputs": [],
   "source": [
    "df = dpf.transform_dictionary_to_list(df, 'ttlpart', '245')\n",
    "df = dpf.transform_list_to_string(df, 'ttlpart_245')"
   ]
  },
  {
   "cell_type": "code",
   "execution_count": 172,
   "metadata": {},
   "outputs": [
    {
     "data": {
      "text/html": [
       "<div>\n",
       "<style scoped>\n",
       "    .dataframe tbody tr th:only-of-type {\n",
       "        vertical-align: middle;\n",
       "    }\n",
       "\n",
       "    .dataframe tbody tr th {\n",
       "        vertical-align: top;\n",
       "    }\n",
       "\n",
       "    .dataframe thead th {\n",
       "        text-align: right;\n",
       "    }\n",
       "</style>\n",
       "<table border=\"1\" class=\"dataframe\">\n",
       "  <thead>\n",
       "    <tr style=\"text-align: right;\">\n",
       "      <th></th>\n",
       "      <th>docid</th>\n",
       "      <th>035liste</th>\n",
       "      <th>isbn</th>\n",
       "      <th>ttlfull</th>\n",
       "      <th>ttlpart</th>\n",
       "      <th>person</th>\n",
       "      <th>corporate</th>\n",
       "      <th>pubyear</th>\n",
       "      <th>decade</th>\n",
       "      <th>century</th>\n",
       "      <th>exactDate</th>\n",
       "      <th>...</th>\n",
       "      <th>corporate_810</th>\n",
       "      <th>corporate_full</th>\n",
       "      <th>format_prefix</th>\n",
       "      <th>format_postfix</th>\n",
       "      <th>person_100</th>\n",
       "      <th>person_700</th>\n",
       "      <th>person_800</th>\n",
       "      <th>person_245c</th>\n",
       "      <th>ttlfull_245</th>\n",
       "      <th>ttlfull_246</th>\n",
       "      <th>ttlpart_245</th>\n",
       "    </tr>\n",
       "  </thead>\n",
       "  <tbody>\n",
       "  </tbody>\n",
       "</table>\n",
       "<p>0 rows × 38 columns</p>\n",
       "</div>"
      ],
      "text/plain": [
       "Empty DataFrame\n",
       "Columns: [docid, 035liste, isbn, ttlfull, ttlpart, person, corporate, pubyear, decade, century, exactDate, edition, part, pages, volumes, pubinit, pubword, scale, coordinate, doi, ismn, musicid, format, coordinate_E, coordinate_N, corporate_110, corporate_710, corporate_810, corporate_full, format_prefix, format_postfix, person_100, person_700, person_800, person_245c, ttlfull_245, ttlfull_246, ttlpart_245]\n",
       "Index: []\n",
       "\n",
       "[0 rows x 38 columns]"
      ]
     },
     "execution_count": 172,
     "metadata": {},
     "output_type": "execute_result"
    }
   ],
   "source": [
    "df[df.ttlpart_245!=df.ttlfull_245]"
   ]
  },
  {
   "cell_type": "markdown",
   "metadata": {},
   "source": [
    "Due to its redandancy, the attribute will be dropped and will not be processed further in the model."
   ]
  },
  {
   "cell_type": "markdown",
   "metadata": {},
   "source": [
    "### volumes"
   ]
  },
  {
   "cell_type": "code",
   "execution_count": 173,
   "metadata": {},
   "outputs": [],
   "source": [
    "columns_metadata_dict['list_columns'].append('volumes')"
   ]
  },
  {
   "cell_type": "code",
   "execution_count": 174,
   "metadata": {},
   "outputs": [
    {
     "name": "stdout",
     "output_type": "stream",
     "text": [
      "Number of records with filled volumes 161471, with missing volumes 21936 => 88.0%\n"
     ]
    }
   ],
   "source": [
    "daf.find_empty_in_column(df, columns_metadata_dict, 'volumes')"
   ]
  },
  {
   "cell_type": "markdown",
   "metadata": {},
   "source": [
    "This attribute holds information on the number of physical pages (see attribute $\\texttt{pages}$ above), volumes, total playing time etc. of the bibliographic unit [[FeatWiki](./A_References.ipynb/#feature_deduplication_wiki)] depending on its format. Swissbib extracts available information on the volume indication of a bibliographical unit out of its MARC data. This data normalization step is very sophisticated, though [[WiCo2001](./A_References.ipynb#wico2001)]. Some examples of the attribute's filling are shown below."
   ]
  },
  {
   "cell_type": "code",
   "execution_count": 175,
   "metadata": {},
   "outputs": [
    {
     "data": {
      "text/plain": [
       "115005      [1 Online-Ressource (172 Seiten)]\n",
       "77185                                [148 p.]\n",
       "38578                     [1 online resource]\n",
       "158463                               [216 p.]\n",
       "55411                                      []\n",
       "41039                     [1 online resource]\n",
       "82932                       [xxi, 295 Seiten]\n",
       "141535    [Partituren (2 Bde.; XLII, 418 S.)]\n",
       "79635                               [[25] p.]\n",
       "153124                               [336 p.]\n",
       "168060                                [52 p.]\n",
       "153427                               [141 p.]\n",
       "21929                                [122 p.]\n",
       "160550                [1 DVD-vidéo (93 min.)]\n",
       "99260                            [233 Seiten]\n",
       "Name: volumes, dtype: object"
      ]
     },
     "execution_count": 175,
     "metadata": {},
     "output_type": "execute_result"
    }
   ],
   "source": [
    "df['volumes'].sample(n=15)"
   ]
  },
  {
   "cell_type": "code",
   "execution_count": 176,
   "metadata": {},
   "outputs": [
    {
     "name": "stdout",
     "output_type": "stream",
     "text": [
      "=> Maximum number of list elements 3\n"
     ]
    }
   ],
   "source": [
    "print('=> Maximum number of list elements', max(df.volumes.apply(lambda x : len(x))))"
   ]
  },
  {
   "cell_type": "code",
   "execution_count": 177,
   "metadata": {},
   "outputs": [
    {
     "data": {
      "text/plain": [
       "138601      [1 online resource]\n",
       "56258                  [685 S.]\n",
       "71384                [V, 44 S.]\n",
       "15018          [1 Compact Disc]\n",
       "171810    [1 Ordner 147 Seiten]\n",
       "178297                 [112 p.]\n",
       "177511              [40 Seiten]\n",
       "98895          [1 Schallplatte]\n",
       "37048       [1 online resource]\n",
       "99144        [2 Bände (891 S.)]\n",
       "43493       [1 online resource]\n",
       "161931                 [133 p.]\n",
       "83349                  [200 p.]\n",
       "48613                  [139 S.]\n",
       "90154       [1 online resource]\n",
       "Name: volumes, dtype: object"
      ]
     },
     "execution_count": 177,
     "metadata": {},
     "output_type": "execute_result"
    }
   ],
   "source": [
    "df.volumes[df.volumes.apply(lambda x : len(x)==1)].sample(n=15)"
   ]
  },
  {
   "cell_type": "code",
   "execution_count": 178,
   "metadata": {},
   "outputs": [
    {
     "data": {
      "text/plain": [
       "72520     [58 verschieden gezählte Blätter, 1 DVD-ROM ; ...\n",
       "60555                   [1 Partitur (7 Seiten), 32 Stimmen]\n",
       "85373                              [Score (24 p.), 5 Parts]\n",
       "94674          [1 flexi disque, 1 volume (sans pagination)]\n",
       "94680          [1 flexi disque, 1 volume (sans pagination)]\n",
       "90450     [1 livre (non paginé [48] p.), 1 disque compac...\n",
       "33732              [1 online resource., 1 online resource.]\n",
       "60556                  [1 Partitur (13 Seiten), 33 Stimmen]\n",
       "94679          [1 flexi disque, 1 volume (sans pagination)]\n",
       "44356     [1 online resource (Online-Ressource), 1 onlin...\n",
       "33938              [1 online resource., 1 online resource.]\n",
       "33968              [1 online resource., 1 online resource.]\n",
       "101985              [1 ressource en ligne (179 p.), 179 p.]\n",
       "61158                             [27 p., 1 disque compact]\n",
       "176424                                       [198 S., Ill.]\n",
       "Name: volumes, dtype: object"
      ]
     },
     "execution_count": 178,
     "metadata": {},
     "output_type": "execute_result"
    }
   ],
   "source": [
    "df.volumes[df.volumes.apply(lambda x : len(x)==2)].sample(n=15)"
   ]
  },
  {
   "cell_type": "code",
   "execution_count": 179,
   "metadata": {
    "scrolled": true
   },
   "outputs": [
    {
     "data": {
      "text/plain": [
       "73897                          [XI, 213 S., Portr., 23 cm]\n",
       "80258    [1 Partitur (5 Seiten), 32 Stimmen, Wiedlisbac...\n",
       "Name: volumes, dtype: object"
      ]
     },
     "execution_count": 179,
     "metadata": {},
     "output_type": "execute_result"
    }
   ],
   "source": [
    "df.volumes[df.volumes.apply(lambda x : len(x)==3)].head()"
   ]
  },
  {
   "cell_type": "code",
   "execution_count": 180,
   "metadata": {},
   "outputs": [
    {
     "data": {
      "text/plain": [
       "['XXII, 205 Seiten, XIX Blätter Tafeln']"
      ]
     },
     "execution_count": 180,
     "metadata": {},
     "output_type": "execute_result"
    }
   ],
   "source": [
    "df.volumes.loc[126736]"
   ]
  },
  {
   "cell_type": "code",
   "execution_count": 181,
   "metadata": {},
   "outputs": [
    {
     "data": {
      "text/plain": [
       "['1 flexi disque', '1 volume (sans pagination)']"
      ]
     },
     "execution_count": 181,
     "metadata": {},
     "output_type": "execute_result"
    }
   ],
   "source": [
    "df.volumes.loc[94679]"
   ]
  },
  {
   "cell_type": "markdown",
   "metadata": {},
   "source": [
    "The sophisticated algorithm to identify and extract either pages of volumes information will not be reimplemented for this capstone project but the data extract offered [[SwRe](./A_References.ipynb#swre)] will be used. Attribute $\\texttt{volumes}$ comes along as a list of string elements. A function for data preparation has been written to extract all elements out of the list and store them as a single string of lowercase characters. This function will be used for preparing the data of the goldstandard in chapter [Goldstandard and Data Preparation](./2_GoldstandardDataPreparation.ipynb)."
   ]
  },
  {
   "cell_type": "code",
   "execution_count": 182,
   "metadata": {},
   "outputs": [],
   "source": [
    "df = dpf.transform_list_to_string(df, 'volumes')"
   ]
  },
  {
   "cell_type": "code",
   "execution_count": 183,
   "metadata": {},
   "outputs": [
    {
     "data": {
      "text/plain": [
       "145101                1 online resource\n",
       "81052                                  \n",
       "25147                                  \n",
       "41755     1 online resource (346 pages)\n",
       "79507                                v.\n",
       "128084                                 \n",
       "66489                            269 p.\n",
       "147882       1 dvd-video (circa 95 min)\n",
       "182971                                 \n",
       "127620                       17 blätter\n",
       "175465                                 \n",
       "145515                1 online resource\n",
       "154800                                 \n",
       "54124                   xxviii, 2036 s.\n",
       "116498                     1 cd (78:30)\n",
       "30847                     xi, 234 pages\n",
       "37595     1 online resource (224 pages)\n",
       "167527                            81 p.\n",
       "159768             1 fasc. (non paginé)\n",
       "95420                   xxi, 562 seiten\n",
       "35334                            264 p.\n",
       "9462           1 compact disc (61 min.)\n",
       "126902                        71 seiten\n",
       "150293                           102 p.\n",
       "174896                           103 s.\n",
       "Name: volumes, dtype: object"
      ]
     },
     "execution_count": 183,
     "metadata": {},
     "output_type": "execute_result"
    }
   ],
   "source": [
    "df['volumes'].sample(n=25)"
   ]
  },
  {
   "cell_type": "markdown",
   "metadata": {},
   "source": [
    "Analogous to attribute $\\texttt{part}$, the model calculations will show a strong dependency on the number values of attribute $\\texttt{volumes}$ which will be hard to reveal in the full string. Therefore, a function has been written that extracts the number digits from the entire string. The output of this function results in the following string of listed number values. Some sample values are shown below."
   ]
  },
  {
   "cell_type": "code",
   "execution_count": 184,
   "metadata": {},
   "outputs": [
    {
     "name": "stdout",
     "output_type": "stream",
     "text": [
      "14608                                      1 disque compact\n",
      "32325                                                303 p.\n",
      "50711                                        xx, 488 seiten\n",
      "27489                                   [1] pl., 36, 425 s.\n",
      "65788                                            iv, 215 p.\n",
      "142225    1 online resource (xix, 254 s. 133 abb., 128 a...\n",
      "Name: volumes, dtype: object\n"
     ]
    },
    {
     "name": "stdout",
     "output_type": "stream",
     "text": [
      "14608                 1\n",
      "32325               303\n",
      "50711               488\n",
      "27489          1 36 425\n",
      "65788               215\n",
      "142225    1 254 133 128\n",
      "Name: volumes, dtype: object\n"
     ]
    }
   ],
   "source": [
    "sample_volumes = [14608, 32325, 50711, 27489, 65788, 142225]\n",
    "\n",
    "print(df.volumes.iloc[sample_volumes])\n",
    "df = dpf.extract_number_digits_from_string(df, 'volumes')\n",
    "print(df.volumes.iloc[sample_volumes])"
   ]
  },
  {
   "cell_type": "code",
   "execution_count": 185,
   "metadata": {},
   "outputs": [
    {
     "name": "stdout",
     "output_type": "stream",
     "text": [
      "Array of unique attribute values\n",
      " ['102 114' '43' '75' ... '394 40' '2 327' '26 7']\n",
      "\n",
      "Total number of unique values 11,150\n"
     ]
    }
   ],
   "source": [
    "print('Array of unique attribute values\\n', df.volumes.unique())\n",
    "print('\\nTotal number of unique values {:,d}'.format(len(df.volumes.unique())))"
   ]
  },
  {
   "cell_type": "markdown",
   "metadata": {},
   "source": [
    "The attribute will be further processed in this way in the chapters to come."
   ]
  },
  {
   "cell_type": "code",
   "execution_count": 186,
   "metadata": {},
   "outputs": [],
   "source": [
    "columns_metadata_dict['data_analysis_columns'].append('volumes')"
   ]
  },
  {
   "cell_type": "markdown",
   "metadata": {},
   "source": [
    "## Summary"
   ]
  },
  {
   "cell_type": "markdown",
   "metadata": {},
   "source": [
    "The result of this chapter is an analysis of the attributes of the raw data [[FeatWiki](./A_References.ipynb/#feature_deduplication_wiki)] for the capstone project. Out of this analysis, the attributes have been identifyed that are considered to be relevant for comparison. The list of these attributes is shown below."
   ]
  },
  {
   "cell_type": "code",
   "execution_count": 187,
   "metadata": {},
   "outputs": [
    {
     "data": {
      "text/plain": [
       "['coordinate_E',\n",
       " 'coordinate_N',\n",
       " 'corporate_full',\n",
       " 'doi',\n",
       " 'edition',\n",
       " 'exactDate',\n",
       " 'format_prefix',\n",
       " 'format_postfix',\n",
       " 'isbn',\n",
       " 'ismn',\n",
       " 'musicid',\n",
       " 'part',\n",
       " 'person_100',\n",
       " 'person_700',\n",
       " 'person_245c',\n",
       " 'pubinit',\n",
       " 'scale',\n",
       " 'ttlfull_245',\n",
       " 'ttlfull_246',\n",
       " 'volumes']"
      ]
     },
     "execution_count": 187,
     "metadata": {},
     "output_type": "execute_result"
    }
   ],
   "source": [
    "columns_metadata_dict['data_analysis_columns']"
   ]
  },
  {
   "cell_type": "markdown",
   "metadata": {},
   "source": [
    "During the analysis and discussion of the attributes, some functions have been written, that will be used in the upcoming chapters for data preprocessing. As the next step, Swissbib's training and testing data will be analysed and processed in chapter [Goldstandard and Data Preparation](./2_GoldstandardDataPreparation.ipynb)."
   ]
  },
  {
   "cell_type": "markdown",
   "metadata": {},
   "source": [
    "### Metadata Handover"
   ]
  },
  {
   "cell_type": "markdown",
   "metadata": {},
   "source": [
    "Dictionary $\\texttt{columns}\\_\\texttt{metadata}\\_\\texttt{dict}$ plays the role of a metadata global variable to be handed over to subsequent chapters of this capstone project. Only the values of key $\\texttt{data}\\_\\texttt{analysis}\\_\\texttt{columns}$ will be needed as metadata in the next chapter. The values of keys $\\texttt{list}\\_\\texttt{columns}$ and $\\texttt{string}\\_\\texttt{columns}$ can be dropped."
   ]
  },
  {
   "cell_type": "code",
   "execution_count": 188,
   "metadata": {},
   "outputs": [],
   "source": [
    "del columns_metadata_dict['list_columns']\n",
    "del columns_metadata_dict['strings_columns']"
   ]
  },
  {
   "cell_type": "markdown",
   "metadata": {},
   "source": [
    "To hand over the attributes dictionary of this chapter in their role of metadata, the dictionary is saved into a pickle file that will be read in the next chapter [Goldstandard and Data Preparation](./2_GoldstandardDataPreparation.ipynb) as input file. "
   ]
  },
  {
   "cell_type": "code",
   "execution_count": 189,
   "metadata": {},
   "outputs": [],
   "source": [
    "import pickle as pk\n",
    "\n",
    "# Binary intermediary metadata file\n",
    "with open(os.path.join(path_goldstandard,\n",
    "                       'columns_metadata.pkl'), 'wb') as df_output_file:\n",
    "    pk.dump(columns_metadata_dict, df_output_file)"
   ]
  },
  {
   "cell_type": "code",
   "execution_count": null,
   "metadata": {},
   "outputs": [],
   "source": []
  }
 ],
 "metadata": {
  "kernelspec": {
   "display_name": "Python 3",
   "language": "python",
   "name": "python3"
  },
  "language_info": {
   "codemirror_mode": {
    "name": "ipython",
    "version": 3
   },
   "file_extension": ".py",
   "mimetype": "text/x-python",
   "name": "python",
   "nbconvert_exporter": "python",
   "pygments_lexer": "ipython3",
   "version": "3.7.1"
  }
 },
 "nbformat": 4,
 "nbformat_minor": 2
}
