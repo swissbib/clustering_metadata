{
 "cells": [
  {
   "cell_type": "markdown",
   "metadata": {},
   "source": [
    "# Neural Network Model"
   ]
  },
  {
   "cell_type": "markdown",
   "metadata": {},
   "source": []
  },
  {
   "cell_type": "markdown",
   "metadata": {},
   "source": [
    "## Table of Contents\n",
    "\n",
    "- [Data Takeover](#Data-Takeover)\n",
    "    - [Train/Test Split](#Train/Test-Split)\n",
    "- [Neural Network Implementation](#Neural-Network-Implementation)\n",
    "    - [Performance Measurement](#Performance-Measurement)"
   ]
  },
  {
   "cell_type": "markdown",
   "metadata": {},
   "source": [
    "## Data Takeover"
   ]
  },
  {
   "cell_type": "markdown",
   "metadata": {},
   "source": [
    "Read in DataFrame from chapter [Feature Matrix Generation](./3_FeatureMatrixGeneration.ipynb) as input for processing in this chapter."
   ]
  },
  {
   "cell_type": "code",
   "execution_count": 1,
   "metadata": {},
   "outputs": [
    {
     "data": {
      "text/html": [
       "<div>\n",
       "<style scoped>\n",
       "    .dataframe tbody tr th:only-of-type {\n",
       "        vertical-align: middle;\n",
       "    }\n",
       "\n",
       "    .dataframe tbody tr th {\n",
       "        vertical-align: top;\n",
       "    }\n",
       "\n",
       "    .dataframe thead th {\n",
       "        text-align: right;\n",
       "    }\n",
       "</style>\n",
       "<table border=\"1\" class=\"dataframe\">\n",
       "  <thead>\n",
       "    <tr style=\"text-align: right;\">\n",
       "      <th></th>\n",
       "      <th>duplicates</th>\n",
       "      <th>century_delta</th>\n",
       "      <th>corporate_110_delta</th>\n",
       "      <th>corporate_710_delta</th>\n",
       "      <th>edition_delta</th>\n",
       "      <th>format_prefix_delta</th>\n",
       "      <th>format_postfix_delta</th>\n",
       "      <th>person_245c_delta</th>\n",
       "      <th>ttlfull_245_delta</th>\n",
       "      <th>ttlfull_246_delta</th>\n",
       "      <th>volumes_delta</th>\n",
       "    </tr>\n",
       "  </thead>\n",
       "  <tbody>\n",
       "    <tr>\n",
       "      <th>count</th>\n",
       "      <td>260733.000000</td>\n",
       "      <td>260733.000000</td>\n",
       "      <td>260733.000000</td>\n",
       "      <td>260733.000000</td>\n",
       "      <td>260733.000000</td>\n",
       "      <td>260733.000000</td>\n",
       "      <td>260733.000000</td>\n",
       "      <td>260733.000000</td>\n",
       "      <td>260733.000000</td>\n",
       "      <td>260733.000000</td>\n",
       "      <td>260733.000000</td>\n",
       "    </tr>\n",
       "    <tr>\n",
       "      <th>mean</th>\n",
       "      <td>0.005649</td>\n",
       "      <td>0.319322</td>\n",
       "      <td>0.997706</td>\n",
       "      <td>0.659638</td>\n",
       "      <td>0.597257</td>\n",
       "      <td>0.420806</td>\n",
       "      <td>0.430583</td>\n",
       "      <td>0.454716</td>\n",
       "      <td>0.284536</td>\n",
       "      <td>0.800974</td>\n",
       "      <td>0.187769</td>\n",
       "    </tr>\n",
       "    <tr>\n",
       "      <th>std</th>\n",
       "      <td>0.074950</td>\n",
       "      <td>0.295652</td>\n",
       "      <td>0.047836</td>\n",
       "      <td>0.463646</td>\n",
       "      <td>0.482772</td>\n",
       "      <td>0.493689</td>\n",
       "      <td>0.330969</td>\n",
       "      <td>0.235288</td>\n",
       "      <td>0.181349</td>\n",
       "      <td>0.397705</td>\n",
       "      <td>0.177806</td>\n",
       "    </tr>\n",
       "    <tr>\n",
       "      <th>min</th>\n",
       "      <td>0.000000</td>\n",
       "      <td>0.000000</td>\n",
       "      <td>0.000000</td>\n",
       "      <td>0.000000</td>\n",
       "      <td>0.000000</td>\n",
       "      <td>0.000000</td>\n",
       "      <td>0.000000</td>\n",
       "      <td>0.000000</td>\n",
       "      <td>0.000000</td>\n",
       "      <td>0.000000</td>\n",
       "      <td>0.000000</td>\n",
       "    </tr>\n",
       "    <tr>\n",
       "      <th>25%</th>\n",
       "      <td>0.000000</td>\n",
       "      <td>0.000000</td>\n",
       "      <td>1.000000</td>\n",
       "      <td>0.000000</td>\n",
       "      <td>0.000000</td>\n",
       "      <td>0.000000</td>\n",
       "      <td>0.111111</td>\n",
       "      <td>0.446929</td>\n",
       "      <td>0.148148</td>\n",
       "      <td>1.000000</td>\n",
       "      <td>0.080000</td>\n",
       "    </tr>\n",
       "    <tr>\n",
       "      <th>50%</th>\n",
       "      <td>0.000000</td>\n",
       "      <td>0.250000</td>\n",
       "      <td>1.000000</td>\n",
       "      <td>1.000000</td>\n",
       "      <td>1.000000</td>\n",
       "      <td>0.000000</td>\n",
       "      <td>0.428571</td>\n",
       "      <td>0.524438</td>\n",
       "      <td>0.265306</td>\n",
       "      <td>1.000000</td>\n",
       "      <td>0.142857</td>\n",
       "    </tr>\n",
       "    <tr>\n",
       "      <th>75%</th>\n",
       "      <td>0.000000</td>\n",
       "      <td>0.500000</td>\n",
       "      <td>1.000000</td>\n",
       "      <td>1.000000</td>\n",
       "      <td>1.000000</td>\n",
       "      <td>1.000000</td>\n",
       "      <td>0.428571</td>\n",
       "      <td>0.583683</td>\n",
       "      <td>0.393617</td>\n",
       "      <td>1.000000</td>\n",
       "      <td>0.250000</td>\n",
       "    </tr>\n",
       "    <tr>\n",
       "      <th>max</th>\n",
       "      <td>1.000000</td>\n",
       "      <td>1.000000</td>\n",
       "      <td>1.000000</td>\n",
       "      <td>1.000000</td>\n",
       "      <td>1.000000</td>\n",
       "      <td>1.000000</td>\n",
       "      <td>1.000000</td>\n",
       "      <td>1.000000</td>\n",
       "      <td>1.000000</td>\n",
       "      <td>1.000000</td>\n",
       "      <td>1.000000</td>\n",
       "    </tr>\n",
       "  </tbody>\n",
       "</table>\n",
       "</div>"
      ],
      "text/plain": [
       "          duplicates  century_delta  corporate_110_delta  corporate_710_delta  \\\n",
       "count  260733.000000  260733.000000        260733.000000        260733.000000   \n",
       "mean        0.005649       0.319322             0.997706             0.659638   \n",
       "std         0.074950       0.295652             0.047836             0.463646   \n",
       "min         0.000000       0.000000             0.000000             0.000000   \n",
       "25%         0.000000       0.000000             1.000000             0.000000   \n",
       "50%         0.000000       0.250000             1.000000             1.000000   \n",
       "75%         0.000000       0.500000             1.000000             1.000000   \n",
       "max         1.000000       1.000000             1.000000             1.000000   \n",
       "\n",
       "       edition_delta  format_prefix_delta  format_postfix_delta  \\\n",
       "count  260733.000000        260733.000000         260733.000000   \n",
       "mean        0.597257             0.420806              0.430583   \n",
       "std         0.482772             0.493689              0.330969   \n",
       "min         0.000000             0.000000              0.000000   \n",
       "25%         0.000000             0.000000              0.111111   \n",
       "50%         1.000000             0.000000              0.428571   \n",
       "75%         1.000000             1.000000              0.428571   \n",
       "max         1.000000             1.000000              1.000000   \n",
       "\n",
       "       person_245c_delta  ttlfull_245_delta  ttlfull_246_delta  volumes_delta  \n",
       "count      260733.000000      260733.000000      260733.000000  260733.000000  \n",
       "mean            0.454716           0.284536           0.800974       0.187769  \n",
       "std             0.235288           0.181349           0.397705       0.177806  \n",
       "min             0.000000           0.000000           0.000000       0.000000  \n",
       "25%             0.446929           0.148148           1.000000       0.080000  \n",
       "50%             0.524438           0.265306           1.000000       0.142857  \n",
       "75%             0.583683           0.393617           1.000000       0.250000  \n",
       "max             1.000000           1.000000           1.000000       1.000000  "
      ]
     },
     "execution_count": 1,
     "metadata": {},
     "output_type": "execute_result"
    }
   ],
   "source": [
    "import os\n",
    "import pandas as pd\n",
    "\n",
    "path_goldstandard = './daten_goldstandard'\n",
    "\n",
    "# Restore results so far\n",
    "df_labelled_feature_matrix = pd.read_pickle(os.path.join(path_goldstandard,\n",
    "                                                         'labelled_feature_matrix.pkl'),\n",
    "                                 compression=None)\n",
    "\n",
    "df_labelled_feature_matrix.describe()"
   ]
  },
  {
   "cell_type": "code",
   "execution_count": 2,
   "metadata": {},
   "outputs": [],
   "source": [
    "df_labelled_feature_matrix = pd.concat(\n",
    "    [df_labelled_feature_matrix[df_labelled_feature_matrix.duplicates==0].sample(n=1473),\n",
    "     df_labelled_feature_matrix[df_labelled_feature_matrix.duplicates==1]])"
   ]
  },
  {
   "cell_type": "code",
   "execution_count": 3,
   "metadata": {},
   "outputs": [
    {
     "name": "stdout",
     "output_type": "stream",
     "text": [
      "Part of duplicates (1) on uniques (2) in units of [%]\n",
      "1    50.0\n",
      "0    50.0\n",
      "Name: duplicates, dtype: float64\n"
     ]
    }
   ],
   "source": [
    "print('Part of duplicates (1) on uniques (2) in units of [%]')\n",
    "print(df_labelled_feature_matrix.duplicates.value_counts(normalize=True)*100)"
   ]
  },
  {
   "cell_type": "code",
   "execution_count": null,
   "metadata": {},
   "outputs": [],
   "source": []
  },
  {
   "cell_type": "code",
   "execution_count": null,
   "metadata": {},
   "outputs": [],
   "source": []
  },
  {
   "cell_type": "markdown",
   "metadata": {},
   "source": [
    "### Train/Test Split"
   ]
  },
  {
   "cell_type": "markdown",
   "metadata": {},
   "source": [
    "The train/test split will be implemented here as a general function to be called in the models chapters."
   ]
  },
  {
   "cell_type": "code",
   "execution_count": 4,
   "metadata": {},
   "outputs": [],
   "source": [
    "X = df_labelled_feature_matrix.drop(columns=['duplicates']).values\n",
    "y = df_labelled_feature_matrix.duplicates.values"
   ]
  },
  {
   "cell_type": "code",
   "execution_count": 5,
   "metadata": {},
   "outputs": [],
   "source": [
    "from sklearn.model_selection import train_test_split\n",
    "\n",
    "X_tr, X_te, y_tr, y_te = train_test_split(X, y, stratify=y, test_size=0.2, random_state=0)"
   ]
  },
  {
   "cell_type": "code",
   "execution_count": 6,
   "metadata": {},
   "outputs": [
    {
     "data": {
      "text/plain": [
       "(2356, 10)"
      ]
     },
     "execution_count": 6,
     "metadata": {},
     "output_type": "execute_result"
    }
   ],
   "source": [
    "X_tr.shape"
   ]
  },
  {
   "cell_type": "code",
   "execution_count": null,
   "metadata": {},
   "outputs": [],
   "source": []
  },
  {
   "cell_type": "markdown",
   "metadata": {},
   "source": [
    "## Neural Network Implementation"
   ]
  },
  {
   "cell_type": "code",
   "execution_count": 7,
   "metadata": {},
   "outputs": [
    {
     "name": "stderr",
     "output_type": "stream",
     "text": [
      "Using TensorFlow backend.\n"
     ]
    },
    {
     "name": "stdout",
     "output_type": "stream",
     "text": [
      "WARNING:tensorflow:From /Users/andreas/anaconda3/lib/python3.7/site-packages/tensorflow_core/python/ops/resource_variable_ops.py:1630: calling BaseResourceVariable.__init__ (from tensorflow.python.ops.resource_variable_ops) with constraint is deprecated and will be removed in a future version.\n",
      "Instructions for updating:\n",
      "If using Keras pass *_constraint arguments to layers.\n"
     ]
    },
    {
     "data": {
      "text/plain": [
       "{'name': 'sequential_1',\n",
       " 'layers': [{'class_name': 'Dense',\n",
       "   'config': {'name': 'dense_1',\n",
       "    'trainable': True,\n",
       "    'batch_input_shape': (None, 10),\n",
       "    'dtype': 'float32',\n",
       "    'units': 12,\n",
       "    'activation': 'relu',\n",
       "    'use_bias': True,\n",
       "    'kernel_initializer': {'class_name': 'VarianceScaling',\n",
       "     'config': {'scale': 2.0,\n",
       "      'mode': 'fan_in',\n",
       "      'distribution': 'normal',\n",
       "      'seed': 1}},\n",
       "    'bias_initializer': {'class_name': 'Zeros', 'config': {}},\n",
       "    'kernel_regularizer': {'class_name': 'L1L2',\n",
       "     'config': {'l1': 0.0, 'l2': 0.10000000149011612}},\n",
       "    'bias_regularizer': None,\n",
       "    'activity_regularizer': None,\n",
       "    'kernel_constraint': None,\n",
       "    'bias_constraint': None}},\n",
       "  {'class_name': 'Dropout',\n",
       "   'config': {'name': 'dropout_1',\n",
       "    'trainable': True,\n",
       "    'dtype': 'float32',\n",
       "    'rate': 0.25,\n",
       "    'noise_shape': None,\n",
       "    'seed': 0}},\n",
       "  {'class_name': 'Dense',\n",
       "   'config': {'name': 'dense_2',\n",
       "    'trainable': True,\n",
       "    'dtype': 'float32',\n",
       "    'units': 2,\n",
       "    'activation': 'softmax',\n",
       "    'use_bias': True,\n",
       "    'kernel_initializer': {'class_name': 'VarianceScaling',\n",
       "     'config': {'scale': 1,\n",
       "      'mode': 'fan_in',\n",
       "      'distribution': 'normal',\n",
       "      'seed': 1}},\n",
       "    'bias_initializer': {'class_name': 'Zeros', 'config': {}},\n",
       "    'kernel_regularizer': {'class_name': 'L1L2',\n",
       "     'config': {'l1': 0.0, 'l2': 0.10000000149011612}},\n",
       "    'bias_regularizer': None,\n",
       "    'activity_regularizer': None,\n",
       "    'kernel_constraint': None,\n",
       "    'bias_constraint': None}}]}"
      ]
     },
     "execution_count": 7,
     "metadata": {},
     "output_type": "execute_result"
    }
   ],
   "source": [
    "from keras.models import Sequential\n",
    "from keras.layers import Dense, Dropout\n",
    "from keras.initializers import VarianceScaling\n",
    "from keras.regularizers import l2\n",
    "from keras.optimizers import SGD, Adam\n",
    "\n",
    "l2_alpha = 0.1\n",
    "sgd_learnrate = 0.05\n",
    "\n",
    "# Input layer\n",
    "hidden = Dense(\n",
    "    12, # Number of units for hidden layer\n",
    "    input_shape=(X_tr.shape[1],),\n",
    "    activation='relu',\n",
    "    kernel_initializer=VarianceScaling(scale=2.0, seed=0),\n",
    "    kernel_regularizer=l2(l2_alpha),\n",
    "    bias_initializer='zeros'\n",
    ")\n",
    "\n",
    "# With dropout layer\n",
    "dropout = Dropout(\n",
    "    rate=0.25,\n",
    "    seed=0\n",
    ")\n",
    "\n",
    "# Output layer\n",
    "output = Dense(\n",
    "    2,\n",
    "#    activation='sigmoid', # Bring out 0 or 1 values\n",
    "    activation='softmax', # Bring out 0 or 1 values\n",
    "    kernel_initializer=VarianceScaling(scale=1, seed=0),\n",
    "    kernel_regularizer=l2(l2_alpha),\n",
    "    bias_initializer='zeros'\n",
    ")\n",
    "\n",
    "# Create model with sequential API\n",
    "model = Sequential()\n",
    "model.add( hidden ) # Hidden layer\n",
    "model.add( dropout ) # Dropout\n",
    "model.add( output ) # Output layer\n",
    "\n",
    "# The optimizer is to be SGD\n",
    "#sgd = SGD(lr=sgd_learnrate)\n",
    "model_optimizer = Adam(lr=sgd_learnrate)\n",
    "\n",
    "# Compile model\n",
    "model.compile(\n",
    "    loss='categorical_crossentropy',\n",
    "    optimizer=model_optimizer,\n",
    "    metrics=['accuracy']\n",
    "#    metrics=['categorical_accuracy']\n",
    ")\n",
    "\n",
    "# Check Model configuration\n",
    "model.get_config()"
   ]
  },
  {
   "cell_type": "code",
   "execution_count": 8,
   "metadata": {
    "scrolled": true
   },
   "outputs": [
    {
     "name": "stdout",
     "output_type": "stream",
     "text": [
      "WARNING:tensorflow:From /Users/andreas/anaconda3/lib/python3.7/site-packages/keras/backend/tensorflow_backend.py:422: The name tf.global_variables is deprecated. Please use tf.compat.v1.global_variables instead.\n",
      "\n",
      "Train on 2356 samples, validate on 590 samples\n",
      "Epoch 1/100\n",
      "2356/2356 [==============================] - 1s 330us/step - loss: 1.0194 - accuracy: 0.8896 - val_loss: 0.5873 - val_accuracy: 0.8915\n",
      "Epoch 2/100\n",
      "2356/2356 [==============================] - 0s 56us/step - loss: 0.5521 - accuracy: 0.9295 - val_loss: 0.5739 - val_accuracy: 0.8763\n",
      "Epoch 3/100\n",
      "2356/2356 [==============================] - 0s 48us/step - loss: 0.5493 - accuracy: 0.9393 - val_loss: 0.6274 - val_accuracy: 0.8390\n",
      "Epoch 4/100\n",
      "2356/2356 [==============================] - 0s 51us/step - loss: 0.5932 - accuracy: 0.8778 - val_loss: 0.5632 - val_accuracy: 0.9492\n",
      "Epoch 5/100\n",
      "2356/2356 [==============================] - 0s 48us/step - loss: 0.5505 - accuracy: 0.9368 - val_loss: 0.5611 - val_accuracy: 0.9390\n",
      "Epoch 6/100\n",
      "2356/2356 [==============================] - 0s 55us/step - loss: 0.5443 - accuracy: 0.9380 - val_loss: 0.5298 - val_accuracy: 0.9644\n",
      "Epoch 7/100\n",
      "2356/2356 [==============================] - 0s 41us/step - loss: 0.5494 - accuracy: 0.9351 - val_loss: 0.5310 - val_accuracy: 0.9746\n",
      "Epoch 8/100\n",
      "2356/2356 [==============================] - 0s 42us/step - loss: 0.5428 - accuracy: 0.9406 - val_loss: 0.5395 - val_accuracy: 0.9576\n",
      "Epoch 9/100\n",
      "2356/2356 [==============================] - 0s 48us/step - loss: 0.5542 - accuracy: 0.9312 - val_loss: 0.5327 - val_accuracy: 0.9661\n",
      "Epoch 10/100\n",
      "2356/2356 [==============================] - 0s 45us/step - loss: 0.5472 - accuracy: 0.9397 - val_loss: 0.5441 - val_accuracy: 0.9542\n",
      "Epoch 11/100\n",
      "2356/2356 [==============================] - 0s 44us/step - loss: 0.5477 - accuracy: 0.9346 - val_loss: 0.5650 - val_accuracy: 0.9322\n",
      "Epoch 12/100\n",
      "2356/2356 [==============================] - 0s 43us/step - loss: 0.5497 - accuracy: 0.9368 - val_loss: 0.5573 - val_accuracy: 0.9085\n",
      "Epoch 13/100\n",
      "2356/2356 [==============================] - 0s 45us/step - loss: 0.5487 - accuracy: 0.9342 - val_loss: 0.5714 - val_accuracy: 0.8983\n",
      "Epoch 14/100\n",
      "2356/2356 [==============================] - 0s 45us/step - loss: 0.5523 - accuracy: 0.9338 - val_loss: 0.5443 - val_accuracy: 0.9576\n",
      "Epoch 15/100\n",
      "2356/2356 [==============================] - 0s 43us/step - loss: 0.5469 - accuracy: 0.9393 - val_loss: 0.5640 - val_accuracy: 0.9339\n",
      "Epoch 16/100\n",
      "2356/2356 [==============================] - 0s 42us/step - loss: 0.5393 - accuracy: 0.9465 - val_loss: 0.5337 - val_accuracy: 0.9492\n",
      "Epoch 17/100\n",
      "2356/2356 [==============================] - 0s 42us/step - loss: 0.5442 - accuracy: 0.9419 - val_loss: 0.5412 - val_accuracy: 0.9627\n",
      "Epoch 18/100\n",
      "2356/2356 [==============================] - 0s 45us/step - loss: 0.5535 - accuracy: 0.9355 - val_loss: 0.5419 - val_accuracy: 0.9644\n",
      "Epoch 19/100\n",
      "2356/2356 [==============================] - 0s 42us/step - loss: 0.5477 - accuracy: 0.9427 - val_loss: 0.5347 - val_accuracy: 0.9542\n",
      "Epoch 20/100\n",
      "2356/2356 [==============================] - 0s 43us/step - loss: 0.5503 - accuracy: 0.9414 - val_loss: 0.5659 - val_accuracy: 0.9051\n",
      "Epoch 21/100\n",
      "2356/2356 [==============================] - 0s 41us/step - loss: 0.5555 - accuracy: 0.9385 - val_loss: 0.5731 - val_accuracy: 0.8915\n",
      "Epoch 22/100\n",
      "2356/2356 [==============================] - 0s 42us/step - loss: 0.5649 - accuracy: 0.9181 - val_loss: 0.5339 - val_accuracy: 0.9712\n",
      "Epoch 23/100\n",
      "2356/2356 [==============================] - 0s 41us/step - loss: 0.5536 - accuracy: 0.9308 - val_loss: 0.5359 - val_accuracy: 0.9661\n",
      "Epoch 24/100\n",
      "2356/2356 [==============================] - 0s 42us/step - loss: 0.5489 - accuracy: 0.9304 - val_loss: 0.5562 - val_accuracy: 0.9390\n",
      "Epoch 25/100\n",
      "2356/2356 [==============================] - 0s 41us/step - loss: 0.5521 - accuracy: 0.9355 - val_loss: 0.5471 - val_accuracy: 0.9339\n",
      "Epoch 26/100\n",
      "2356/2356 [==============================] - 0s 40us/step - loss: 0.5453 - accuracy: 0.9461 - val_loss: 0.5564 - val_accuracy: 0.9051\n",
      "Epoch 27/100\n",
      "2356/2356 [==============================] - 0s 42us/step - loss: 0.5534 - accuracy: 0.9308 - val_loss: 0.5408 - val_accuracy: 0.9424\n",
      "Epoch 28/100\n",
      "2356/2356 [==============================] - 0s 40us/step - loss: 0.5495 - accuracy: 0.9244 - val_loss: 0.6348 - val_accuracy: 0.8305\n",
      "Epoch 29/100\n",
      "2356/2356 [==============================] - 0s 40us/step - loss: 0.5400 - accuracy: 0.9444 - val_loss: 0.5266 - val_accuracy: 0.9644\n",
      "Epoch 30/100\n",
      "2356/2356 [==============================] - 0s 39us/step - loss: 0.5439 - accuracy: 0.9372 - val_loss: 0.5293 - val_accuracy: 0.9695\n",
      "Epoch 31/100\n",
      "2356/2356 [==============================] - 0s 41us/step - loss: 0.5592 - accuracy: 0.9274 - val_loss: 0.5341 - val_accuracy: 0.9542\n",
      "Epoch 32/100\n",
      "2356/2356 [==============================] - 0s 44us/step - loss: 0.5451 - accuracy: 0.9457 - val_loss: 0.5406 - val_accuracy: 0.9559\n",
      "Epoch 33/100\n",
      "2356/2356 [==============================] - 0s 42us/step - loss: 0.5579 - accuracy: 0.9278 - val_loss: 0.5928 - val_accuracy: 0.8864\n",
      "Epoch 34/100\n",
      "2356/2356 [==============================] - 0s 42us/step - loss: 0.5531 - accuracy: 0.9274 - val_loss: 0.5332 - val_accuracy: 0.9661\n",
      "Epoch 35/100\n",
      "2356/2356 [==============================] - 0s 41us/step - loss: 0.5492 - accuracy: 0.9363 - val_loss: 0.5346 - val_accuracy: 0.9593\n",
      "Epoch 36/100\n",
      "2356/2356 [==============================] - 0s 43us/step - loss: 0.5507 - accuracy: 0.9295 - val_loss: 0.6062 - val_accuracy: 0.8322\n",
      "Epoch 37/100\n",
      "2356/2356 [==============================] - 0s 43us/step - loss: 0.5519 - accuracy: 0.9355 - val_loss: 0.5311 - val_accuracy: 0.9644\n",
      "Epoch 38/100\n",
      "2356/2356 [==============================] - 0s 43us/step - loss: 0.5445 - accuracy: 0.9427 - val_loss: 0.5360 - val_accuracy: 0.9559\n",
      "Epoch 39/100\n",
      "2356/2356 [==============================] - 0s 42us/step - loss: 0.5432 - accuracy: 0.9427 - val_loss: 0.5313 - val_accuracy: 0.9644\n",
      "Epoch 40/100\n",
      "2356/2356 [==============================] - 0s 44us/step - loss: 0.5435 - accuracy: 0.9406 - val_loss: 0.5475 - val_accuracy: 0.9542\n",
      "Epoch 41/100\n",
      "2356/2356 [==============================] - 0s 42us/step - loss: 0.5445 - accuracy: 0.9368 - val_loss: 0.5349 - val_accuracy: 0.9678\n",
      "Epoch 42/100\n",
      "2356/2356 [==============================] - 0s 46us/step - loss: 0.5627 - accuracy: 0.9172 - val_loss: 0.6228 - val_accuracy: 0.8186\n",
      "Epoch 43/100\n",
      "2356/2356 [==============================] - 0s 43us/step - loss: 0.5587 - accuracy: 0.9189 - val_loss: 0.5364 - val_accuracy: 0.9525\n",
      "Epoch 44/100\n",
      "2356/2356 [==============================] - 0s 43us/step - loss: 0.5423 - accuracy: 0.9402 - val_loss: 0.5378 - val_accuracy: 0.9475\n",
      "Epoch 45/100\n",
      "2356/2356 [==============================] - 0s 43us/step - loss: 0.5607 - accuracy: 0.9219 - val_loss: 0.6743 - val_accuracy: 0.7898\n",
      "Epoch 46/100\n",
      "2356/2356 [==============================] - 0s 44us/step - loss: 0.5717 - accuracy: 0.8990 - val_loss: 0.5339 - val_accuracy: 0.9661\n",
      "Epoch 47/100\n",
      "2356/2356 [==============================] - 0s 44us/step - loss: 0.5540 - accuracy: 0.9295 - val_loss: 0.5291 - val_accuracy: 0.9661\n",
      "Epoch 48/100\n",
      "2356/2356 [==============================] - 0s 40us/step - loss: 0.5515 - accuracy: 0.9351 - val_loss: 0.5709 - val_accuracy: 0.8881\n",
      "Epoch 49/100\n",
      "2356/2356 [==============================] - 0s 40us/step - loss: 0.5401 - accuracy: 0.9410 - val_loss: 0.5318 - val_accuracy: 0.9712\n",
      "Epoch 50/100\n",
      "2356/2356 [==============================] - 0s 43us/step - loss: 0.5383 - accuracy: 0.9486 - val_loss: 0.5468 - val_accuracy: 0.9186\n",
      "Epoch 51/100\n",
      "2356/2356 [==============================] - 0s 45us/step - loss: 0.5488 - accuracy: 0.9414 - val_loss: 0.5330 - val_accuracy: 0.9678\n",
      "Epoch 52/100\n",
      "2356/2356 [==============================] - 0s 42us/step - loss: 0.5448 - accuracy: 0.9457 - val_loss: 0.5548 - val_accuracy: 0.9153\n",
      "Epoch 53/100\n",
      "2356/2356 [==============================] - 0s 42us/step - loss: 0.5635 - accuracy: 0.9160 - val_loss: 0.5760 - val_accuracy: 0.8949\n",
      "Epoch 54/100\n",
      "2356/2356 [==============================] - 0s 42us/step - loss: 0.5459 - accuracy: 0.9402 - val_loss: 0.5416 - val_accuracy: 0.9593\n",
      "Epoch 55/100\n"
     ]
    },
    {
     "name": "stdout",
     "output_type": "stream",
     "text": [
      "2356/2356 [==============================] - 0s 41us/step - loss: 0.5455 - accuracy: 0.9363 - val_loss: 0.5780 - val_accuracy: 0.8763\n",
      "Epoch 56/100\n",
      "2356/2356 [==============================] - 0s 39us/step - loss: 0.5449 - accuracy: 0.9355 - val_loss: 0.5548 - val_accuracy: 0.9203\n",
      "Epoch 57/100\n",
      "2356/2356 [==============================] - 0s 38us/step - loss: 0.5414 - accuracy: 0.9461 - val_loss: 0.5468 - val_accuracy: 0.9508\n",
      "Epoch 58/100\n",
      "2356/2356 [==============================] - 0s 39us/step - loss: 0.5484 - accuracy: 0.9317 - val_loss: 0.5573 - val_accuracy: 0.9085\n",
      "Epoch 59/100\n",
      "2356/2356 [==============================] - 0s 39us/step - loss: 0.5617 - accuracy: 0.9134 - val_loss: 0.5395 - val_accuracy: 0.9492\n",
      "Epoch 60/100\n",
      "2356/2356 [==============================] - 0s 40us/step - loss: 0.5451 - accuracy: 0.9389 - val_loss: 0.5348 - val_accuracy: 0.9475\n",
      "Epoch 61/100\n",
      "2356/2356 [==============================] - 0s 40us/step - loss: 0.5500 - accuracy: 0.9351 - val_loss: 0.5335 - val_accuracy: 0.9661\n",
      "Epoch 62/100\n",
      "2356/2356 [==============================] - 0s 39us/step - loss: 0.5530 - accuracy: 0.9295 - val_loss: 0.5461 - val_accuracy: 0.9356\n",
      "Epoch 63/100\n",
      "2356/2356 [==============================] - 0s 39us/step - loss: 0.5551 - accuracy: 0.9287 - val_loss: 0.5298 - val_accuracy: 0.9695\n",
      "Epoch 64/100\n",
      "2356/2356 [==============================] - 0s 41us/step - loss: 0.5443 - accuracy: 0.9414 - val_loss: 0.5322 - val_accuracy: 0.9661\n",
      "Epoch 65/100\n",
      "2356/2356 [==============================] - 0s 41us/step - loss: 0.5464 - accuracy: 0.9406 - val_loss: 0.5527 - val_accuracy: 0.9153\n",
      "Epoch 66/100\n",
      "2356/2356 [==============================] - 0s 41us/step - loss: 0.5424 - accuracy: 0.9385 - val_loss: 0.5365 - val_accuracy: 0.9644\n",
      "Epoch 67/100\n",
      "2356/2356 [==============================] - 0s 41us/step - loss: 0.5606 - accuracy: 0.9202 - val_loss: 0.5303 - val_accuracy: 0.9644\n",
      "Epoch 68/100\n",
      "2356/2356 [==============================] - 0s 40us/step - loss: 0.5473 - accuracy: 0.9355 - val_loss: 0.5277 - val_accuracy: 0.9678\n",
      "Epoch 69/100\n",
      "2356/2356 [==============================] - 0s 39us/step - loss: 0.5398 - accuracy: 0.9410 - val_loss: 0.5461 - val_accuracy: 0.9559\n",
      "Epoch 70/100\n",
      "2356/2356 [==============================] - 0s 40us/step - loss: 0.5497 - accuracy: 0.9389 - val_loss: 0.5355 - val_accuracy: 0.9627\n",
      "Epoch 71/100\n",
      "2356/2356 [==============================] - 0s 39us/step - loss: 0.5439 - accuracy: 0.9461 - val_loss: 0.5299 - val_accuracy: 0.9729\n",
      "Epoch 72/100\n",
      "2356/2356 [==============================] - 0s 40us/step - loss: 0.5680 - accuracy: 0.9121 - val_loss: 0.5569 - val_accuracy: 0.9169\n",
      "Epoch 73/100\n",
      "2356/2356 [==============================] - 0s 39us/step - loss: 0.5444 - accuracy: 0.9321 - val_loss: 0.5366 - val_accuracy: 0.9407\n",
      "Epoch 74/100\n",
      "2356/2356 [==============================] - 0s 41us/step - loss: 0.5396 - accuracy: 0.9537 - val_loss: 0.5305 - val_accuracy: 0.9644\n",
      "Epoch 75/100\n",
      "2356/2356 [==============================] - 0s 40us/step - loss: 0.5618 - accuracy: 0.9270 - val_loss: 0.5303 - val_accuracy: 0.9678\n",
      "Epoch 76/100\n",
      "2356/2356 [==============================] - 0s 42us/step - loss: 0.5387 - accuracy: 0.9478 - val_loss: 0.5481 - val_accuracy: 0.9508\n",
      "Epoch 77/100\n",
      "2356/2356 [==============================] - 0s 42us/step - loss: 0.5615 - accuracy: 0.9155 - val_loss: 0.5390 - val_accuracy: 0.9678\n",
      "Epoch 78/100\n",
      "2356/2356 [==============================] - 0s 42us/step - loss: 0.5459 - accuracy: 0.9414 - val_loss: 0.5314 - val_accuracy: 0.9610\n",
      "Epoch 79/100\n",
      "2356/2356 [==============================] - 0s 41us/step - loss: 0.5478 - accuracy: 0.9295 - val_loss: 0.5463 - val_accuracy: 0.9407\n",
      "Epoch 80/100\n",
      "2356/2356 [==============================] - 0s 41us/step - loss: 0.5423 - accuracy: 0.9406 - val_loss: 0.5375 - val_accuracy: 0.9559\n",
      "Epoch 81/100\n",
      "2356/2356 [==============================] - 0s 39us/step - loss: 0.5423 - accuracy: 0.9491 - val_loss: 0.5298 - val_accuracy: 0.9695\n",
      "Epoch 82/100\n",
      "2356/2356 [==============================] - 0s 39us/step - loss: 0.5558 - accuracy: 0.9304 - val_loss: 0.5345 - val_accuracy: 0.9644\n",
      "Epoch 83/100\n",
      "2356/2356 [==============================] - 0s 43us/step - loss: 0.5520 - accuracy: 0.9372 - val_loss: 0.5320 - val_accuracy: 0.9644\n",
      "Epoch 84/100\n",
      "2356/2356 [==============================] - 0s 40us/step - loss: 0.5482 - accuracy: 0.9351 - val_loss: 0.6508 - val_accuracy: 0.8271\n",
      "Epoch 85/100\n",
      "2356/2356 [==============================] - 0s 41us/step - loss: 0.5572 - accuracy: 0.9134 - val_loss: 0.5608 - val_accuracy: 0.8983\n",
      "Epoch 86/100\n",
      "2356/2356 [==============================] - 0s 42us/step - loss: 0.5561 - accuracy: 0.9351 - val_loss: 0.5434 - val_accuracy: 0.9339\n",
      "Epoch 87/100\n",
      "2356/2356 [==============================] - 0s 42us/step - loss: 0.5426 - accuracy: 0.9474 - val_loss: 0.5311 - val_accuracy: 0.9542\n",
      "Epoch 88/100\n",
      "2356/2356 [==============================] - 0s 43us/step - loss: 0.5471 - accuracy: 0.9397 - val_loss: 0.5478 - val_accuracy: 0.9508\n",
      "Epoch 89/100\n",
      "2356/2356 [==============================] - 0s 41us/step - loss: 0.5500 - accuracy: 0.9325 - val_loss: 0.7202 - val_accuracy: 0.7678\n",
      "Epoch 90/100\n",
      "2356/2356 [==============================] - 0s 43us/step - loss: 0.5652 - accuracy: 0.9134 - val_loss: 0.5398 - val_accuracy: 0.9356\n",
      "Epoch 91/100\n",
      "2356/2356 [==============================] - 0s 42us/step - loss: 0.5474 - accuracy: 0.9334 - val_loss: 0.5483 - val_accuracy: 0.9254\n",
      "Epoch 92/100\n",
      "2356/2356 [==============================] - 0s 40us/step - loss: 0.5522 - accuracy: 0.9355 - val_loss: 0.5324 - val_accuracy: 0.9644\n",
      "Epoch 93/100\n",
      "2356/2356 [==============================] - 0s 42us/step - loss: 0.5426 - accuracy: 0.9452 - val_loss: 0.5271 - val_accuracy: 0.9678\n",
      "Epoch 94/100\n",
      "2356/2356 [==============================] - 0s 43us/step - loss: 0.5363 - accuracy: 0.9486 - val_loss: 0.5465 - val_accuracy: 0.9458\n",
      "Epoch 95/100\n",
      "2356/2356 [==============================] - 0s 42us/step - loss: 0.5616 - accuracy: 0.9223 - val_loss: 0.5336 - val_accuracy: 0.9678\n",
      "Epoch 96/100\n",
      "2356/2356 [==============================] - 0s 41us/step - loss: 0.5445 - accuracy: 0.9402 - val_loss: 0.5340 - val_accuracy: 0.9576\n",
      "Epoch 97/100\n",
      "2356/2356 [==============================] - 0s 42us/step - loss: 0.5441 - accuracy: 0.9461 - val_loss: 0.5739 - val_accuracy: 0.8831\n",
      "Epoch 98/100\n",
      "2356/2356 [==============================] - 0s 41us/step - loss: 0.5505 - accuracy: 0.9376 - val_loss: 0.5303 - val_accuracy: 0.9661\n",
      "Epoch 99/100\n",
      "2356/2356 [==============================] - 0s 41us/step - loss: 0.5406 - accuracy: 0.9465 - val_loss: 0.5432 - val_accuracy: 0.9542\n",
      "Epoch 100/100\n",
      "2356/2356 [==============================] - 0s 41us/step - loss: 0.5485 - accuracy: 0.9363 - val_loss: 0.5447 - val_accuracy: 0.9305\n"
     ]
    }
   ],
   "source": [
    "from keras.utils import to_categorical\n",
    "\n",
    "# Parameters for fitting with batches and epochs\n",
    "epochs = 100\n",
    "batch_size = 50\n",
    "# Stay with the four logits and do not reduce to one categorical integer\n",
    "y_tr_2 = to_categorical(y_tr)\n",
    "y_val_2 = to_categorical(y_te)\n",
    "\n",
    "# Fit the model\n",
    "history = model.fit(\n",
    "    x=X_tr, y=y_tr_2,\n",
    "    batch_size=batch_size, epochs=epochs,\n",
    "    validation_data=(X_te, y_val_2)\n",
    ")"
   ]
  },
  {
   "cell_type": "code",
   "execution_count": 9,
   "metadata": {},
   "outputs": [
    {
     "data": {
      "text/plain": [
       "(array([[0., 1.],\n",
       "        [1., 0.],\n",
       "        [0., 1.],\n",
       "        ...,\n",
       "        [1., 0.],\n",
       "        [0., 1.],\n",
       "        [0., 1.]], dtype=float32), array([[0., 1.],\n",
       "        [0., 1.],\n",
       "        [0., 1.],\n",
       "        ...,\n",
       "        [0., 1.],\n",
       "        [0., 1.],\n",
       "        [0., 1.]], dtype=float32))"
      ]
     },
     "execution_count": 9,
     "metadata": {},
     "output_type": "execute_result"
    }
   ],
   "source": [
    "y_tr_2, y_val_2"
   ]
  },
  {
   "cell_type": "code",
   "execution_count": 10,
   "metadata": {},
   "outputs": [],
   "source": [
    "#from keras.utils import plot_model\n",
    "\n",
    "#plot_model(model, show_shapes=True, dpi=72)"
   ]
  },
  {
   "cell_type": "code",
   "execution_count": 11,
   "metadata": {},
   "outputs": [
    {
     "data": {
      "image/png": "[encoded data removed]",
      "text/plain": [
       "<Figure size 432x288 with 1 Axes>"
      ]
     },
     "metadata": {
      "needs_background": "light"
     },
     "output_type": "display_data"
    }
   ],
   "source": [
    "import matplotlib.pyplot as plt\n",
    "\n",
    "plt.plot(history.history['accuracy'], label='training accuracy')\n",
    "plt.plot(history.history['val_accuracy'], label='validation accuracy')\n",
    "plt.legend()\n",
    "plt.title(r'Bilayer neural network with lr = {} and $\\alpha=${}'.format(\n",
    "    sgd_learnrate, l2_alpha)\n",
    ")\n",
    "plt.xlabel('epoch')\n",
    "plt.ylabel('accuracy')\n",
    "plt.show()"
   ]
  },
  {
   "cell_type": "code",
   "execution_count": 12,
   "metadata": {},
   "outputs": [
    {
     "name": "stdout",
     "output_type": "stream",
     "text": [
      "Mean last 5 validation accuracy : 0.938\n",
      "Neural network accuracy (test set): 0.931\n"
     ]
    }
   ],
   "source": [
    "import numpy as np\n",
    "\n",
    "no_last = 5 # I take the last 5 due to the upwards shape of the curve at its end\n",
    "print('Mean last {:d} validation accuracy : {:.3f}'.format(\n",
    "    no_last, np.mean(history.history['val_accuracy'][-no_last:])\n",
    "))\n",
    "\n",
    "print('Neural network accuracy (test set): {:.3f}'.format(\n",
    "    model.evaluate(X_te, to_categorical(y_te),\n",
    "                   verbose=0)[1] # Loss is at index=0, accuracy at index=1\n",
    "))"
   ]
  },
  {
   "cell_type": "code",
   "execution_count": 13,
   "metadata": {},
   "outputs": [
    {
     "data": {
      "text/plain": [
       "0"
      ]
     },
     "execution_count": 13,
     "metadata": {},
     "output_type": "execute_result"
    }
   ],
   "source": [
    "y_pred = model.predict_classes(X_te)\n",
    "\n",
    "min(y_pred)"
   ]
  },
  {
   "cell_type": "markdown",
   "metadata": {},
   "source": [
    "### Performance Measurement"
   ]
  },
  {
   "cell_type": "code",
   "execution_count": 14,
   "metadata": {},
   "outputs": [
    {
     "data": {
      "text/plain": [
       "array([[258,  37],\n",
       "       [  4, 291]])"
      ]
     },
     "execution_count": 14,
     "metadata": {},
     "output_type": "execute_result"
    }
   ],
   "source": [
    "from sklearn.metrics import confusion_matrix\n",
    "\n",
    "confusion_matrix(y_te, y_pred)"
   ]
  },
  {
   "cell_type": "code",
   "execution_count": 15,
   "metadata": {},
   "outputs": [
    {
     "name": "stdout",
     "output_type": "stream",
     "text": [
      "Area under the curve 93.1% - accuracy 93.1% - precision 88.7% - recall 98.6%\n"
     ]
    }
   ],
   "source": [
    "from sklearn.metrics import roc_auc_score, accuracy_score, precision_score, recall_score\n",
    "from keras.metrics import accuracy\n",
    "\n",
    "#print('Score {:.1f}%'.format(100*accuracy_score(X_te, y_te)))\n",
    "print('Area under the curve {:.1f}% - accuracy {:.1f}% - precision {:.1f}% - recall {:.1f}%'.format(100*roc_auc_score(y_te, y_pred),\n",
    "                100*accuracy_score(y_te, y_pred),\n",
    "                100*precision_score(y_te, y_pred),\n",
    "                100*recall_score(y_te, y_pred)\n",
    "               ))"
   ]
  },
  {
   "cell_type": "code",
   "execution_count": null,
   "metadata": {},
   "outputs": [],
   "source": []
  },
  {
   "cell_type": "markdown",
   "metadata": {},
   "source": [
    "## Results Handover"
   ]
  },
  {
   "cell_type": "code",
   "execution_count": 17,
   "metadata": {},
   "outputs": [
    {
     "name": "stderr",
     "output_type": "stream",
     "text": [
      "/Users/andreas/anaconda3/lib/python3.7/site-packages/pandas/core/frame.py:7138: FutureWarning: Sorting because non-concatenation axis is not aligned. A future version\n",
      "of pandas will change to not sort by default.\n",
      "\n",
      "To accept the future behavior, pass 'sort=False'.\n",
      "\n",
      "To retain the current behavior and silence the warning, pass 'sort=True'.\n",
      "\n",
      "  sort=sort,\n"
     ]
    }
   ],
   "source": [
    "import results_saving_funcs as rsf\n",
    "\n",
    "rsf.add_result_to_results(path_goldstandard, model, X_te, y_te, y_pred)"
   ]
  },
  {
   "cell_type": "code",
   "execution_count": null,
   "metadata": {},
   "outputs": [],
   "source": []
  }
 ],
 "metadata": {
  "kernelspec": {
   "display_name": "Python 3",
   "language": "python",
   "name": "python3"
  },
  "language_info": {
   "codemirror_mode": {
    "name": "ipython",
    "version": 3
   },
   "file_extension": ".py",
   "mimetype": "text/x-python",
   "name": "python",
   "nbconvert_exporter": "python",
   "pygments_lexer": "ipython3",
   "version": "3.7.1"
  }
 },
 "nbformat": 4,
 "nbformat_minor": 2
}
