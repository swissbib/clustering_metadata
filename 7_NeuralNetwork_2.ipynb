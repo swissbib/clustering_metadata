{
 "cells": [
  {
   "cell_type": "markdown",
   "metadata": {},
   "source": [
    "# Neural Network Model"
   ]
  },
  {
   "cell_type": "markdown",
   "metadata": {},
   "source": []
  },
  {
   "cell_type": "markdown",
   "metadata": {},
   "source": [
    "## Table of Contents\n",
    "\n",
    "- [Data Takeover](#Data-Takeover)\n",
    "    - [Train/Test Split](#Train/Test-Split)\n",
    "- [Neural Network Implementation](#Neural-Network-Implementation)\n",
    "    - [Performance Measurement](#Performance-Measurement)"
   ]
  },
  {
   "cell_type": "markdown",
   "metadata": {},
   "source": [
    "## Data Takeover"
   ]
  },
  {
   "cell_type": "markdown",
   "metadata": {},
   "source": [
    "Read in DataFrame from chapter [Feature Matrix Generation](./3_FeatureMatrixGeneration.ipynb) as input for processing in this chapter."
   ]
  },
  {
   "cell_type": "code",
   "execution_count": 1,
   "metadata": {},
   "outputs": [
    {
     "data": {
      "text/html": [
       "<div>\n",
       "<style scoped>\n",
       "    .dataframe tbody tr th:only-of-type {\n",
       "        vertical-align: middle;\n",
       "    }\n",
       "\n",
       "    .dataframe tbody tr th {\n",
       "        vertical-align: top;\n",
       "    }\n",
       "\n",
       "    .dataframe thead th {\n",
       "        text-align: right;\n",
       "    }\n",
       "</style>\n",
       "<table border=\"1\" class=\"dataframe\">\n",
       "  <thead>\n",
       "    <tr style=\"text-align: right;\">\n",
       "      <th></th>\n",
       "      <th>duplicates</th>\n",
       "      <th>century_delta</th>\n",
       "      <th>corporate_110_delta</th>\n",
       "      <th>corporate_710_delta</th>\n",
       "      <th>edition_delta</th>\n",
       "      <th>format_prefix_delta</th>\n",
       "      <th>format_postfix_delta</th>\n",
       "      <th>person_245c_delta</th>\n",
       "      <th>ttlfull_245_delta</th>\n",
       "      <th>ttlfull_246_delta</th>\n",
       "      <th>volumes_delta</th>\n",
       "    </tr>\n",
       "  </thead>\n",
       "  <tbody>\n",
       "    <tr>\n",
       "      <th>0</th>\n",
       "      <td>1</td>\n",
       "      <td>1.0</td>\n",
       "      <td>1.0</td>\n",
       "      <td>1.0</td>\n",
       "      <td>1.0</td>\n",
       "      <td>1.0</td>\n",
       "      <td>1.0</td>\n",
       "      <td>1.000000</td>\n",
       "      <td>1.000000</td>\n",
       "      <td>1.0</td>\n",
       "      <td>1.0</td>\n",
       "    </tr>\n",
       "    <tr>\n",
       "      <th>1</th>\n",
       "      <td>1</td>\n",
       "      <td>1.0</td>\n",
       "      <td>1.0</td>\n",
       "      <td>1.0</td>\n",
       "      <td>1.0</td>\n",
       "      <td>1.0</td>\n",
       "      <td>1.0</td>\n",
       "      <td>0.818905</td>\n",
       "      <td>0.363636</td>\n",
       "      <td>1.0</td>\n",
       "      <td>1.0</td>\n",
       "    </tr>\n",
       "    <tr>\n",
       "      <th>2</th>\n",
       "      <td>1</td>\n",
       "      <td>1.0</td>\n",
       "      <td>1.0</td>\n",
       "      <td>1.0</td>\n",
       "      <td>1.0</td>\n",
       "      <td>1.0</td>\n",
       "      <td>1.0</td>\n",
       "      <td>0.697740</td>\n",
       "      <td>1.000000</td>\n",
       "      <td>1.0</td>\n",
       "      <td>1.0</td>\n",
       "    </tr>\n",
       "    <tr>\n",
       "      <th>3</th>\n",
       "      <td>1</td>\n",
       "      <td>1.0</td>\n",
       "      <td>1.0</td>\n",
       "      <td>1.0</td>\n",
       "      <td>1.0</td>\n",
       "      <td>1.0</td>\n",
       "      <td>1.0</td>\n",
       "      <td>0.818905</td>\n",
       "      <td>0.363636</td>\n",
       "      <td>1.0</td>\n",
       "      <td>1.0</td>\n",
       "    </tr>\n",
       "    <tr>\n",
       "      <th>4</th>\n",
       "      <td>1</td>\n",
       "      <td>1.0</td>\n",
       "      <td>1.0</td>\n",
       "      <td>1.0</td>\n",
       "      <td>1.0</td>\n",
       "      <td>1.0</td>\n",
       "      <td>1.0</td>\n",
       "      <td>1.000000</td>\n",
       "      <td>1.000000</td>\n",
       "      <td>1.0</td>\n",
       "      <td>1.0</td>\n",
       "    </tr>\n",
       "  </tbody>\n",
       "</table>\n",
       "</div>"
      ],
      "text/plain": [
       "   duplicates  century_delta  corporate_110_delta  corporate_710_delta  \\\n",
       "0           1            1.0                  1.0                  1.0   \n",
       "1           1            1.0                  1.0                  1.0   \n",
       "2           1            1.0                  1.0                  1.0   \n",
       "3           1            1.0                  1.0                  1.0   \n",
       "4           1            1.0                  1.0                  1.0   \n",
       "\n",
       "   edition_delta  format_prefix_delta  format_postfix_delta  \\\n",
       "0            1.0                  1.0                   1.0   \n",
       "1            1.0                  1.0                   1.0   \n",
       "2            1.0                  1.0                   1.0   \n",
       "3            1.0                  1.0                   1.0   \n",
       "4            1.0                  1.0                   1.0   \n",
       "\n",
       "   person_245c_delta  ttlfull_245_delta  ttlfull_246_delta  volumes_delta  \n",
       "0           1.000000           1.000000                1.0            1.0  \n",
       "1           0.818905           0.363636                1.0            1.0  \n",
       "2           0.697740           1.000000                1.0            1.0  \n",
       "3           0.818905           0.363636                1.0            1.0  \n",
       "4           1.000000           1.000000                1.0            1.0  "
      ]
     },
     "execution_count": 1,
     "metadata": {},
     "output_type": "execute_result"
    }
   ],
   "source": [
    "import os\n",
    "import pandas as pd\n",
    "\n",
    "path_goldstandard = './daten_goldstandard'\n",
    "\n",
    "# Restore results so far\n",
    "df_labelled_feature_matrix = pd.read_pickle(os.path.join(path_goldstandard,\n",
    "                                                         'labelled_feature_matrix.pkl'),\n",
    "                                 compression=None)\n",
    "\n",
    "df_labelled_feature_matrix.head()"
   ]
  },
  {
   "cell_type": "code",
   "execution_count": 2,
   "metadata": {},
   "outputs": [],
   "source": [
    "df_labelled_feature_matrix = pd.concat(\n",
    "    [df_labelled_feature_matrix[df_labelled_feature_matrix.duplicates==0].sample(\n",
    "        n=len(df_labelled_feature_matrix[df_labelled_feature_matrix.duplicates==0])//90\n",
    "    ),\n",
    "     df_labelled_feature_matrix[df_labelled_feature_matrix.duplicates==1]])"
   ]
  },
  {
   "cell_type": "code",
   "execution_count": 3,
   "metadata": {},
   "outputs": [
    {
     "name": "stdout",
     "output_type": "stream",
     "text": [
      "Part of duplicates (1) on uniques (2) in units of [%]\n",
      "0    66.161268\n",
      "1    33.838732\n",
      "Name: duplicates, dtype: float64\n"
     ]
    }
   ],
   "source": [
    "print('Part of duplicates (1) on uniques (2) in units of [%]')\n",
    "print(df_labelled_feature_matrix.duplicates.value_counts(normalize=True)*100)"
   ]
  },
  {
   "cell_type": "code",
   "execution_count": null,
   "metadata": {},
   "outputs": [],
   "source": []
  },
  {
   "cell_type": "code",
   "execution_count": null,
   "metadata": {},
   "outputs": [],
   "source": []
  },
  {
   "cell_type": "markdown",
   "metadata": {},
   "source": [
    "### Train/Test Split"
   ]
  },
  {
   "cell_type": "markdown",
   "metadata": {},
   "source": [
    "The train/test split will be implemented here as a general function to be called in the models chapters."
   ]
  },
  {
   "cell_type": "code",
   "execution_count": 4,
   "metadata": {},
   "outputs": [],
   "source": [
    "X = df_labelled_feature_matrix.drop(columns=['duplicates']).values\n",
    "y = df_labelled_feature_matrix.duplicates.values"
   ]
  },
  {
   "cell_type": "code",
   "execution_count": 5,
   "metadata": {},
   "outputs": [],
   "source": [
    "from sklearn.model_selection import train_test_split\n",
    "\n",
    "X_tr, X_te, y_tr, y_te = train_test_split(X, y, stratify=y, test_size=0.2, random_state=0)"
   ]
  },
  {
   "cell_type": "code",
   "execution_count": 6,
   "metadata": {},
   "outputs": [
    {
     "data": {
      "text/plain": [
       "(3482, 10)"
      ]
     },
     "execution_count": 6,
     "metadata": {},
     "output_type": "execute_result"
    }
   ],
   "source": [
    "X_tr.shape"
   ]
  },
  {
   "cell_type": "code",
   "execution_count": null,
   "metadata": {},
   "outputs": [],
   "source": []
  },
  {
   "cell_type": "markdown",
   "metadata": {},
   "source": [
    "## Neural Network Implementation"
   ]
  },
  {
   "cell_type": "code",
   "execution_count": 7,
   "metadata": {},
   "outputs": [
    {
     "name": "stderr",
     "output_type": "stream",
     "text": [
      "Using TensorFlow backend.\n"
     ]
    },
    {
     "name": "stdout",
     "output_type": "stream",
     "text": [
      "WARNING:tensorflow:From /Users/andreas/anaconda3/lib/python3.7/site-packages/tensorflow_core/python/ops/resource_variable_ops.py:1630: calling BaseResourceVariable.__init__ (from tensorflow.python.ops.resource_variable_ops) with constraint is deprecated and will be removed in a future version.\n",
      "Instructions for updating:\n",
      "If using Keras pass *_constraint arguments to layers.\n"
     ]
    },
    {
     "data": {
      "text/plain": [
       "{'name': 'sequential_1',\n",
       " 'layers': [{'class_name': 'Dense',\n",
       "   'config': {'name': 'dense_1',\n",
       "    'trainable': True,\n",
       "    'batch_input_shape': (None, 10),\n",
       "    'dtype': 'float32',\n",
       "    'units': 12,\n",
       "    'activation': 'relu',\n",
       "    'use_bias': True,\n",
       "    'kernel_initializer': {'class_name': 'VarianceScaling',\n",
       "     'config': {'scale': 2.0,\n",
       "      'mode': 'fan_in',\n",
       "      'distribution': 'normal',\n",
       "      'seed': 1}},\n",
       "    'bias_initializer': {'class_name': 'Zeros', 'config': {}},\n",
       "    'kernel_regularizer': {'class_name': 'L1L2',\n",
       "     'config': {'l1': 0.0, 'l2': 0.10000000149011612}},\n",
       "    'bias_regularizer': None,\n",
       "    'activity_regularizer': None,\n",
       "    'kernel_constraint': None,\n",
       "    'bias_constraint': None}},\n",
       "  {'class_name': 'Dropout',\n",
       "   'config': {'name': 'dropout_1',\n",
       "    'trainable': True,\n",
       "    'dtype': 'float32',\n",
       "    'rate': 0.25,\n",
       "    'noise_shape': None,\n",
       "    'seed': 0}},\n",
       "  {'class_name': 'Dense',\n",
       "   'config': {'name': 'dense_2',\n",
       "    'trainable': True,\n",
       "    'dtype': 'float32',\n",
       "    'units': 2,\n",
       "    'activation': 'softmax',\n",
       "    'use_bias': True,\n",
       "    'kernel_initializer': {'class_name': 'VarianceScaling',\n",
       "     'config': {'scale': 1,\n",
       "      'mode': 'fan_in',\n",
       "      'distribution': 'normal',\n",
       "      'seed': 1}},\n",
       "    'bias_initializer': {'class_name': 'Zeros', 'config': {}},\n",
       "    'kernel_regularizer': {'class_name': 'L1L2',\n",
       "     'config': {'l1': 0.0, 'l2': 0.10000000149011612}},\n",
       "    'bias_regularizer': None,\n",
       "    'activity_regularizer': None,\n",
       "    'kernel_constraint': None,\n",
       "    'bias_constraint': None}}]}"
      ]
     },
     "execution_count": 7,
     "metadata": {},
     "output_type": "execute_result"
    }
   ],
   "source": [
    "from keras.models import Sequential\n",
    "from keras.layers import Dense, Dropout\n",
    "from keras.initializers import VarianceScaling\n",
    "from keras.regularizers import l2\n",
    "from keras.optimizers import SGD, Adam\n",
    "\n",
    "l2_alpha = 0.1\n",
    "sgd_learnrate = 0.05\n",
    "\n",
    "# Input layer\n",
    "hidden = Dense(\n",
    "    12, # Number of units for hidden layer\n",
    "    input_shape=(X_tr.shape[1],),\n",
    "    activation='relu',\n",
    "    kernel_initializer=VarianceScaling(scale=2.0, seed=0),\n",
    "    kernel_regularizer=l2(l2_alpha),\n",
    "    bias_initializer='zeros'\n",
    ")\n",
    "\n",
    "# With dropout layer\n",
    "dropout = Dropout(\n",
    "    rate=0.25,\n",
    "    seed=0\n",
    ")\n",
    "\n",
    "# Output layer\n",
    "output = Dense(\n",
    "    2,\n",
    "#    activation='sigmoid', # Bring out 0 or 1 values\n",
    "    activation='softmax', # Bring out 0 or 1 values\n",
    "    kernel_initializer=VarianceScaling(scale=1, seed=0),\n",
    "    kernel_regularizer=l2(l2_alpha),\n",
    "    bias_initializer='zeros'\n",
    ")\n",
    "\n",
    "# Create model with sequential API\n",
    "model = Sequential()\n",
    "model.add( hidden ) # Hidden layer\n",
    "model.add( dropout ) # Dropout\n",
    "model.add( output ) # Output layer\n",
    "\n",
    "# The optimizer is to be SGD\n",
    "#sgd = SGD(lr=sgd_learnrate)\n",
    "model_optimizer = Adam(lr=sgd_learnrate)\n",
    "\n",
    "# Compile model\n",
    "model.compile(\n",
    "    loss='categorical_crossentropy',\n",
    "    optimizer=model_optimizer,\n",
    "    metrics=['accuracy']\n",
    "#    metrics=['categorical_accuracy']\n",
    ")\n",
    "\n",
    "# Check Model configuration\n",
    "model.get_config()"
   ]
  },
  {
   "cell_type": "code",
   "execution_count": 8,
   "metadata": {
    "scrolled": true
   },
   "outputs": [
    {
     "name": "stdout",
     "output_type": "stream",
     "text": [
      "WARNING:tensorflow:From /Users/andreas/anaconda3/lib/python3.7/site-packages/keras/backend/tensorflow_backend.py:422: The name tf.global_variables is deprecated. Please use tf.compat.v1.global_variables instead.\n",
      "\n",
      "Train on 3482 samples, validate on 871 samples\n",
      "Epoch 1/100\n",
      "3482/3482 [==============================] - 1s 236us/step - loss: 0.8842 - accuracy: 0.8619 - val_loss: 0.5103 - val_accuracy: 0.9357\n",
      "Epoch 2/100\n",
      "3482/3482 [==============================] - 0s 45us/step - loss: 0.5370 - accuracy: 0.8897 - val_loss: 0.5041 - val_accuracy: 0.9782\n",
      "Epoch 3/100\n",
      "3482/3482 [==============================] - 0s 47us/step - loss: 0.5385 - accuracy: 0.8978 - val_loss: 0.5055 - val_accuracy: 0.9460\n",
      "Epoch 4/100\n",
      "3482/3482 [==============================] - 0s 46us/step - loss: 0.5366 - accuracy: 0.9032 - val_loss: 0.5398 - val_accuracy: 0.9656\n",
      "Epoch 5/100\n",
      "3482/3482 [==============================] - 0s 46us/step - loss: 0.5552 - accuracy: 0.8823 - val_loss: 0.5215 - val_accuracy: 0.9150\n",
      "Epoch 6/100\n",
      "3482/3482 [==============================] - 0s 48us/step - loss: 0.5393 - accuracy: 0.8926 - val_loss: 0.5052 - val_accuracy: 0.9449\n",
      "Epoch 7/100\n",
      "3482/3482 [==============================] - 0s 38us/step - loss: 0.5351 - accuracy: 0.9044 - val_loss: 0.5020 - val_accuracy: 0.9736\n",
      "Epoch 8/100\n",
      "3482/3482 [==============================] - 0s 42us/step - loss: 0.5370 - accuracy: 0.9064 - val_loss: 0.5945 - val_accuracy: 0.8886\n",
      "Epoch 9/100\n",
      "3482/3482 [==============================] - 0s 39us/step - loss: 0.5437 - accuracy: 0.8868 - val_loss: 0.5015 - val_accuracy: 0.9437\n",
      "Epoch 10/100\n",
      "3482/3482 [==============================] - 0s 43us/step - loss: 0.5375 - accuracy: 0.9021 - val_loss: 0.5150 - val_accuracy: 0.9150\n",
      "Epoch 11/100\n",
      "3482/3482 [==============================] - 0s 43us/step - loss: 0.5426 - accuracy: 0.8900 - val_loss: 0.5000 - val_accuracy: 0.9610\n",
      "Epoch 12/100\n",
      "3482/3482 [==============================] - 0s 39us/step - loss: 0.5287 - accuracy: 0.9107 - val_loss: 0.5173 - val_accuracy: 0.8932\n",
      "Epoch 13/100\n",
      "3482/3482 [==============================] - 0s 40us/step - loss: 0.5365 - accuracy: 0.8972 - val_loss: 0.5030 - val_accuracy: 0.9529\n",
      "Epoch 14/100\n",
      "3482/3482 [==============================] - 0s 38us/step - loss: 0.5318 - accuracy: 0.9072 - val_loss: 0.4977 - val_accuracy: 0.9667\n",
      "Epoch 15/100\n",
      "3482/3482 [==============================] - 0s 37us/step - loss: 0.5347 - accuracy: 0.9029 - val_loss: 0.5027 - val_accuracy: 0.9460\n",
      "Epoch 16/100\n",
      "3482/3482 [==============================] - 0s 39us/step - loss: 0.5392 - accuracy: 0.8857 - val_loss: 0.5448 - val_accuracy: 0.9529\n",
      "Epoch 17/100\n",
      "3482/3482 [==============================] - 0s 37us/step - loss: 0.5345 - accuracy: 0.8986 - val_loss: 0.5045 - val_accuracy: 0.9747\n",
      "Epoch 18/100\n",
      "3482/3482 [==============================] - 0s 38us/step - loss: 0.5376 - accuracy: 0.8926 - val_loss: 0.5025 - val_accuracy: 0.9747\n",
      "Epoch 19/100\n",
      "3482/3482 [==============================] - 0s 40us/step - loss: 0.5455 - accuracy: 0.8857 - val_loss: 0.5191 - val_accuracy: 0.9690\n",
      "Epoch 20/100\n",
      "3482/3482 [==============================] - 0s 38us/step - loss: 0.5312 - accuracy: 0.9107 - val_loss: 0.5001 - val_accuracy: 0.9736\n",
      "Epoch 21/100\n",
      "3482/3482 [==============================] - 0s 39us/step - loss: 0.5385 - accuracy: 0.8980 - val_loss: 0.5134 - val_accuracy: 0.9816\n",
      "Epoch 22/100\n",
      "3482/3482 [==============================] - 0s 41us/step - loss: 0.5409 - accuracy: 0.8914 - val_loss: 0.4990 - val_accuracy: 0.9667\n",
      "Epoch 23/100\n",
      "3482/3482 [==============================] - 0s 39us/step - loss: 0.5484 - accuracy: 0.8785 - val_loss: 0.5083 - val_accuracy: 0.9541\n",
      "Epoch 24/100\n",
      "3482/3482 [==============================] - 0s 42us/step - loss: 0.5527 - accuracy: 0.8774 - val_loss: 0.5196 - val_accuracy: 0.8829\n",
      "Epoch 25/100\n",
      "3482/3482 [==============================] - 0s 40us/step - loss: 0.5320 - accuracy: 0.9032 - val_loss: 0.5297 - val_accuracy: 0.9564\n",
      "Epoch 26/100\n",
      "3482/3482 [==============================] - 0s 40us/step - loss: 0.5299 - accuracy: 0.9090 - val_loss: 0.5014 - val_accuracy: 0.9598\n",
      "Epoch 27/100\n",
      "3482/3482 [==============================] - 0s 51us/step - loss: 0.5375 - accuracy: 0.8992 - val_loss: 0.5161 - val_accuracy: 0.8886\n",
      "Epoch 28/100\n",
      "3482/3482 [==============================] - 0s 45us/step - loss: 0.5357 - accuracy: 0.8894 - val_loss: 0.5209 - val_accuracy: 0.9770\n",
      "Epoch 29/100\n",
      "3482/3482 [==============================] - 0s 38us/step - loss: 0.5537 - accuracy: 0.8768 - val_loss: 0.5096 - val_accuracy: 0.9621\n",
      "Epoch 30/100\n",
      "3482/3482 [==============================] - 0s 41us/step - loss: 0.5408 - accuracy: 0.8946 - val_loss: 0.4969 - val_accuracy: 0.9701\n",
      "Epoch 31/100\n",
      "3482/3482 [==============================] - 0s 39us/step - loss: 0.5286 - accuracy: 0.9098 - val_loss: 0.5029 - val_accuracy: 0.9518\n",
      "Epoch 32/100\n",
      "3482/3482 [==============================] - 0s 40us/step - loss: 0.5421 - accuracy: 0.8943 - val_loss: 0.5195 - val_accuracy: 0.9793\n",
      "Epoch 33/100\n",
      "3482/3482 [==============================] - 0s 37us/step - loss: 0.5384 - accuracy: 0.8897 - val_loss: 0.5020 - val_accuracy: 0.9656\n",
      "Epoch 34/100\n",
      "3482/3482 [==============================] - 0s 41us/step - loss: 0.5394 - accuracy: 0.8943 - val_loss: 0.5292 - val_accuracy: 0.8691\n",
      "Epoch 35/100\n",
      "3482/3482 [==============================] - 0s 39us/step - loss: 0.5423 - accuracy: 0.8831 - val_loss: 0.5738 - val_accuracy: 0.6613\n",
      "Epoch 36/100\n",
      "3482/3482 [==============================] - 0s 39us/step - loss: 0.5373 - accuracy: 0.8995 - val_loss: 0.5126 - val_accuracy: 0.9805\n",
      "Epoch 37/100\n",
      "3482/3482 [==============================] - 0s 37us/step - loss: 0.5401 - accuracy: 0.8955 - val_loss: 0.5018 - val_accuracy: 0.9713\n",
      "Epoch 38/100\n",
      "3482/3482 [==============================] - 0s 37us/step - loss: 0.5330 - accuracy: 0.8992 - val_loss: 0.4975 - val_accuracy: 0.9633\n",
      "Epoch 39/100\n",
      "3482/3482 [==============================] - 0s 38us/step - loss: 0.5400 - accuracy: 0.8871 - val_loss: 0.5004 - val_accuracy: 0.9701\n",
      "Epoch 40/100\n",
      "3482/3482 [==============================] - 0s 36us/step - loss: 0.5367 - accuracy: 0.8929 - val_loss: 0.5107 - val_accuracy: 0.9770\n",
      "Epoch 41/100\n",
      "3482/3482 [==============================] - 0s 42us/step - loss: 0.5370 - accuracy: 0.9055 - val_loss: 0.5121 - val_accuracy: 0.9759\n",
      "Epoch 42/100\n",
      "3482/3482 [==============================] - 0s 41us/step - loss: 0.5301 - accuracy: 0.9095 - val_loss: 0.5238 - val_accuracy: 0.8863\n",
      "Epoch 43/100\n",
      "3482/3482 [==============================] - 0s 42us/step - loss: 0.5313 - accuracy: 0.9070 - val_loss: 0.5035 - val_accuracy: 0.9770\n",
      "Epoch 44/100\n",
      "3482/3482 [==============================] - 0s 39us/step - loss: 0.5435 - accuracy: 0.8909 - val_loss: 0.5703 - val_accuracy: 0.9196\n",
      "Epoch 45/100\n",
      "3482/3482 [==============================] - 0s 40us/step - loss: 0.5477 - accuracy: 0.8906 - val_loss: 0.5034 - val_accuracy: 0.9587\n",
      "Epoch 46/100\n",
      "3482/3482 [==============================] - 0s 41us/step - loss: 0.5433 - accuracy: 0.8886 - val_loss: 0.5078 - val_accuracy: 0.9782\n",
      "Epoch 47/100\n",
      "3482/3482 [==============================] - 0s 38us/step - loss: 0.5375 - accuracy: 0.8972 - val_loss: 0.5119 - val_accuracy: 0.9828\n",
      "Epoch 48/100\n",
      "3482/3482 [==============================] - 0s 40us/step - loss: 0.5419 - accuracy: 0.8886 - val_loss: 0.5031 - val_accuracy: 0.9610\n",
      "Epoch 49/100\n",
      "3482/3482 [==============================] - 0s 39us/step - loss: 0.5303 - accuracy: 0.9041 - val_loss: 0.5053 - val_accuracy: 0.9782\n",
      "Epoch 50/100\n",
      "3482/3482 [==============================] - 0s 42us/step - loss: 0.5355 - accuracy: 0.9024 - val_loss: 0.5042 - val_accuracy: 0.9770\n",
      "Epoch 51/100\n",
      "3482/3482 [==============================] - 0s 43us/step - loss: 0.5383 - accuracy: 0.8949 - val_loss: 0.5007 - val_accuracy: 0.9747\n",
      "Epoch 52/100\n",
      "3482/3482 [==============================] - 0s 38us/step - loss: 0.5418 - accuracy: 0.8897 - val_loss: 0.5038 - val_accuracy: 0.9793\n",
      "Epoch 53/100\n",
      "3482/3482 [==============================] - 0s 41us/step - loss: 0.5379 - accuracy: 0.8995 - val_loss: 0.5130 - val_accuracy: 0.9150\n",
      "Epoch 54/100\n",
      "3482/3482 [==============================] - 0s 43us/step - loss: 0.5377 - accuracy: 0.8912 - val_loss: 0.5232 - val_accuracy: 0.8794\n",
      "Epoch 55/100\n"
     ]
    },
    {
     "name": "stdout",
     "output_type": "stream",
     "text": [
      "3482/3482 [==============================] - 0s 45us/step - loss: 0.5339 - accuracy: 0.8992 - val_loss: 0.5654 - val_accuracy: 0.6613\n",
      "Epoch 56/100\n",
      "3482/3482 [==============================] - 0s 43us/step - loss: 0.5363 - accuracy: 0.8935 - val_loss: 0.5138 - val_accuracy: 0.9724\n",
      "Epoch 57/100\n",
      "3482/3482 [==============================] - 0s 48us/step - loss: 0.5354 - accuracy: 0.9009 - val_loss: 0.4996 - val_accuracy: 0.9736\n",
      "Epoch 58/100\n",
      "3482/3482 [==============================] - 0s 59us/step - loss: 0.5347 - accuracy: 0.8983 - val_loss: 0.4962 - val_accuracy: 0.9747\n",
      "Epoch 59/100\n",
      "3482/3482 [==============================] - 0s 45us/step - loss: 0.5383 - accuracy: 0.8983 - val_loss: 0.5073 - val_accuracy: 0.9610\n",
      "Epoch 60/100\n",
      "3482/3482 [==============================] - 0s 41us/step - loss: 0.5256 - accuracy: 0.9130 - val_loss: 0.4995 - val_accuracy: 0.9759\n",
      "Epoch 61/100\n",
      "3482/3482 [==============================] - 0s 39us/step - loss: 0.5376 - accuracy: 0.8917 - val_loss: 0.5009 - val_accuracy: 0.9747\n",
      "Epoch 62/100\n",
      "3482/3482 [==============================] - 0s 38us/step - loss: 0.5327 - accuracy: 0.9061 - val_loss: 0.4980 - val_accuracy: 0.9759\n",
      "Epoch 63/100\n",
      "3482/3482 [==============================] - 0s 36us/step - loss: 0.5313 - accuracy: 0.9115 - val_loss: 0.5010 - val_accuracy: 0.9575\n",
      "Epoch 64/100\n",
      "3482/3482 [==============================] - 0s 36us/step - loss: 0.5375 - accuracy: 0.8957 - val_loss: 0.5114 - val_accuracy: 0.9127\n",
      "Epoch 65/100\n",
      "3482/3482 [==============================] - 0s 40us/step - loss: 0.5278 - accuracy: 0.9061 - val_loss: 0.5361 - val_accuracy: 0.8312\n",
      "Epoch 66/100\n",
      "3482/3482 [==============================] - 0s 36us/step - loss: 0.5433 - accuracy: 0.8843 - val_loss: 0.5025 - val_accuracy: 0.9713\n",
      "Epoch 67/100\n",
      "3482/3482 [==============================] - 0s 35us/step - loss: 0.5364 - accuracy: 0.8952 - val_loss: 0.5004 - val_accuracy: 0.9713\n",
      "Epoch 68/100\n",
      "3482/3482 [==============================] - 0s 36us/step - loss: 0.5371 - accuracy: 0.8940 - val_loss: 0.5133 - val_accuracy: 0.9162\n",
      "Epoch 69/100\n",
      "3482/3482 [==============================] - 0s 35us/step - loss: 0.5454 - accuracy: 0.8825 - val_loss: 0.5167 - val_accuracy: 0.8978\n",
      "Epoch 70/100\n",
      "3482/3482 [==============================] - 0s 35us/step - loss: 0.5382 - accuracy: 0.8917 - val_loss: 0.4992 - val_accuracy: 0.9667\n",
      "Epoch 71/100\n",
      "3482/3482 [==============================] - 0s 37us/step - loss: 0.5407 - accuracy: 0.8946 - val_loss: 0.5491 - val_accuracy: 0.9426\n",
      "Epoch 72/100\n",
      "3482/3482 [==============================] - 0s 35us/step - loss: 0.5481 - accuracy: 0.8906 - val_loss: 0.5098 - val_accuracy: 0.9782\n",
      "Epoch 73/100\n",
      "3482/3482 [==============================] - 0s 36us/step - loss: 0.5304 - accuracy: 0.9078 - val_loss: 0.5098 - val_accuracy: 0.9208\n",
      "Epoch 74/100\n",
      "3482/3482 [==============================] - 0s 37us/step - loss: 0.5338 - accuracy: 0.9044 - val_loss: 0.5080 - val_accuracy: 0.9380\n",
      "Epoch 75/100\n",
      "3482/3482 [==============================] - 0s 34us/step - loss: 0.5380 - accuracy: 0.9009 - val_loss: 0.5086 - val_accuracy: 0.9793\n",
      "Epoch 76/100\n",
      "3482/3482 [==============================] - 0s 34us/step - loss: 0.5375 - accuracy: 0.8989 - val_loss: 0.5295 - val_accuracy: 0.9575\n",
      "Epoch 77/100\n",
      "3482/3482 [==============================] - 0s 39us/step - loss: 0.5417 - accuracy: 0.8960 - val_loss: 0.4987 - val_accuracy: 0.9713\n",
      "Epoch 78/100\n",
      "3482/3482 [==============================] - 0s 34us/step - loss: 0.5566 - accuracy: 0.8702 - val_loss: 0.5397 - val_accuracy: 0.8714\n",
      "Epoch 79/100\n",
      "3482/3482 [==============================] - 0s 35us/step - loss: 0.5330 - accuracy: 0.9035 - val_loss: 0.4989 - val_accuracy: 0.9667\n",
      "Epoch 80/100\n",
      "3482/3482 [==============================] - 0s 39us/step - loss: 0.5309 - accuracy: 0.9064 - val_loss: 0.4994 - val_accuracy: 0.9633\n",
      "Epoch 81/100\n",
      "3482/3482 [==============================] - 0s 41us/step - loss: 0.5353 - accuracy: 0.9021 - val_loss: 0.4990 - val_accuracy: 0.9736\n",
      "Epoch 82/100\n",
      "3482/3482 [==============================] - 0s 34us/step - loss: 0.5387 - accuracy: 0.9047 - val_loss: 0.4975 - val_accuracy: 0.9690\n",
      "Epoch 83/100\n",
      "3482/3482 [==============================] - 0s 34us/step - loss: 0.5409 - accuracy: 0.8897 - val_loss: 0.5234 - val_accuracy: 0.9782\n",
      "Epoch 84/100\n",
      "3482/3482 [==============================] - 0s 34us/step - loss: 0.5355 - accuracy: 0.9061 - val_loss: 0.5043 - val_accuracy: 0.9449\n",
      "Epoch 85/100\n",
      "3482/3482 [==============================] - 0s 36us/step - loss: 0.5380 - accuracy: 0.8949 - val_loss: 0.5052 - val_accuracy: 0.9679\n",
      "Epoch 86/100\n",
      "3482/3482 [==============================] - 0s 39us/step - loss: 0.5348 - accuracy: 0.9038 - val_loss: 0.5025 - val_accuracy: 0.9759\n",
      "Epoch 87/100\n",
      "3482/3482 [==============================] - 0s 40us/step - loss: 0.5338 - accuracy: 0.9006 - val_loss: 0.5089 - val_accuracy: 0.9805\n",
      "Epoch 88/100\n",
      "3482/3482 [==============================] - 0s 36us/step - loss: 0.5443 - accuracy: 0.8886 - val_loss: 0.5074 - val_accuracy: 0.9782\n",
      "Epoch 89/100\n",
      "3482/3482 [==============================] - 0s 35us/step - loss: 0.5594 - accuracy: 0.8722 - val_loss: 0.5057 - val_accuracy: 0.9839\n",
      "Epoch 90/100\n",
      "3482/3482 [==============================] - 0s 37us/step - loss: 0.5249 - accuracy: 0.9130 - val_loss: 0.5457 - val_accuracy: 0.6625\n",
      "Epoch 91/100\n",
      "3482/3482 [==============================] - 0s 37us/step - loss: 0.5351 - accuracy: 0.9061 - val_loss: 0.5193 - val_accuracy: 0.8955\n",
      "Epoch 92/100\n",
      "3482/3482 [==============================] - 0s 37us/step - loss: 0.5341 - accuracy: 0.9052 - val_loss: 0.5128 - val_accuracy: 0.9437\n",
      "Epoch 93/100\n",
      "3482/3482 [==============================] - 0s 41us/step - loss: 0.5417 - accuracy: 0.8877 - val_loss: 0.5091 - val_accuracy: 0.9242\n",
      "Epoch 94/100\n",
      "3482/3482 [==============================] - 0s 39us/step - loss: 0.5319 - accuracy: 0.9038 - val_loss: 0.5026 - val_accuracy: 0.9713\n",
      "Epoch 95/100\n",
      "3482/3482 [==============================] - 0s 37us/step - loss: 0.5348 - accuracy: 0.8963 - val_loss: 0.5418 - val_accuracy: 0.8289\n",
      "Epoch 96/100\n",
      "3482/3482 [==============================] - 0s 36us/step - loss: 0.5379 - accuracy: 0.9058 - val_loss: 0.5019 - val_accuracy: 0.9759\n",
      "Epoch 97/100\n",
      "3482/3482 [==============================] - 0s 37us/step - loss: 0.5313 - accuracy: 0.9104 - val_loss: 0.5041 - val_accuracy: 0.9770\n",
      "Epoch 98/100\n",
      "3482/3482 [==============================] - 0s 36us/step - loss: 0.5328 - accuracy: 0.9133 - val_loss: 0.5031 - val_accuracy: 0.9759\n",
      "Epoch 99/100\n",
      "3482/3482 [==============================] - 0s 35us/step - loss: 0.5415 - accuracy: 0.8920 - val_loss: 0.5089 - val_accuracy: 0.9529\n",
      "Epoch 100/100\n",
      "3482/3482 [==============================] - 0s 36us/step - loss: 0.5384 - accuracy: 0.8946 - val_loss: 0.5038 - val_accuracy: 0.9667\n"
     ]
    }
   ],
   "source": [
    "from keras.utils import to_categorical\n",
    "\n",
    "# Parameters for fitting with batches and epochs\n",
    "epochs = 100\n",
    "batch_size = 50\n",
    "# Stay with the four logits and do not reduce to one categorical integer\n",
    "y_tr_2 = to_categorical(y_tr)\n",
    "y_val_2 = to_categorical(y_te)\n",
    "\n",
    "# Fit the model\n",
    "history = model.fit(\n",
    "    x=X_tr, y=y_tr_2,\n",
    "    batch_size=batch_size, epochs=epochs,\n",
    "    validation_data=(X_te, y_val_2)\n",
    ")"
   ]
  },
  {
   "cell_type": "code",
   "execution_count": 9,
   "metadata": {},
   "outputs": [
    {
     "data": {
      "text/plain": [
       "(array([[0., 1.],\n",
       "        [1., 0.],\n",
       "        [1., 0.],\n",
       "        ...,\n",
       "        [0., 1.],\n",
       "        [1., 0.],\n",
       "        [1., 0.]], dtype=float32), array([[0., 1.],\n",
       "        [1., 0.],\n",
       "        [1., 0.],\n",
       "        ...,\n",
       "        [0., 1.],\n",
       "        [1., 0.],\n",
       "        [1., 0.]], dtype=float32))"
      ]
     },
     "execution_count": 9,
     "metadata": {},
     "output_type": "execute_result"
    }
   ],
   "source": [
    "y_tr_2, y_val_2"
   ]
  },
  {
   "cell_type": "code",
   "execution_count": 10,
   "metadata": {},
   "outputs": [],
   "source": [
    "#from keras.utils import plot_model\n",
    "\n",
    "#plot_model(model, show_shapes=True, dpi=72)"
   ]
  },
  {
   "cell_type": "code",
   "execution_count": 11,
   "metadata": {},
   "outputs": [
    {
     "data": {
      "image/png": "[encoded data removed]",
      "text/plain": [
       "<Figure size 432x288 with 1 Axes>"
      ]
     },
     "metadata": {
      "needs_background": "light"
     },
     "output_type": "display_data"
    }
   ],
   "source": [
    "import matplotlib.pyplot as plt\n",
    "\n",
    "plt.plot(history.history['accuracy'], label='training accuracy')\n",
    "plt.plot(history.history['val_accuracy'], label='validation accuracy')\n",
    "plt.legend()\n",
    "plt.title(r'Bilayer neural network with lr = {} and $\\alpha=${}'.format(\n",
    "    sgd_learnrate, l2_alpha)\n",
    ")\n",
    "plt.xlabel('epoch')\n",
    "plt.ylabel('accuracy')\n",
    "plt.show()"
   ]
  },
  {
   "cell_type": "code",
   "execution_count": 12,
   "metadata": {},
   "outputs": [
    {
     "name": "stdout",
     "output_type": "stream",
     "text": [
      "Mean last 5 validation accuracy : 0.970\n",
      "Neural network accuracy (test set): 0.967\n"
     ]
    }
   ],
   "source": [
    "import numpy as np\n",
    "\n",
    "no_last = 5 # I take the last 5 due to the upwards shape of the curve at its end\n",
    "print('Mean last {:d} validation accuracy : {:.3f}'.format(\n",
    "    no_last, np.mean(history.history['val_accuracy'][-no_last:])\n",
    "))\n",
    "\n",
    "print('Neural network accuracy (test set): {:.3f}'.format(\n",
    "    model.evaluate(X_te, to_categorical(y_te),\n",
    "                   verbose=0)[1] # Loss is at index=0, accuracy at index=1\n",
    "))"
   ]
  },
  {
   "cell_type": "code",
   "execution_count": 13,
   "metadata": {},
   "outputs": [
    {
     "data": {
      "text/plain": [
       "0"
      ]
     },
     "execution_count": 13,
     "metadata": {},
     "output_type": "execute_result"
    }
   ],
   "source": [
    "y_pred = model.predict_classes(X_te)\n",
    "\n",
    "min(y_pred)"
   ]
  },
  {
   "cell_type": "markdown",
   "metadata": {},
   "source": [
    "### Performance Measurement"
   ]
  },
  {
   "cell_type": "code",
   "execution_count": 14,
   "metadata": {},
   "outputs": [
    {
     "data": {
      "text/plain": [
       "array([[575,   1],\n",
       "       [ 28, 267]])"
      ]
     },
     "execution_count": 14,
     "metadata": {},
     "output_type": "execute_result"
    }
   ],
   "source": [
    "from sklearn.metrics import confusion_matrix\n",
    "\n",
    "confusion_matrix(y_te, y_pred)"
   ]
  },
  {
   "cell_type": "code",
   "execution_count": 15,
   "metadata": {},
   "outputs": [
    {
     "name": "stdout",
     "output_type": "stream",
     "text": [
      "Area under the curve 95.2% - accuracy 96.7% - precision 99.6% - recall 90.5%\n"
     ]
    }
   ],
   "source": [
    "from sklearn.metrics import roc_auc_score, accuracy_score, precision_score, recall_score\n",
    "from keras.metrics import accuracy\n",
    "\n",
    "#print('Score {:.1f}%'.format(100*accuracy_score(X_te, y_te)))\n",
    "print('Area under the curve {:.1f}% - accuracy {:.1f}% - precision {:.1f}% - recall {:.1f}%'.format(100*roc_auc_score(y_te, y_pred),\n",
    "                100*accuracy_score(y_te, y_pred),\n",
    "                100*precision_score(y_te, y_pred),\n",
    "                100*recall_score(y_te, y_pred)\n",
    "               ))"
   ]
  },
  {
   "cell_type": "code",
   "execution_count": null,
   "metadata": {},
   "outputs": [],
   "source": []
  },
  {
   "cell_type": "markdown",
   "metadata": {},
   "source": [
    "## Results Handover"
   ]
  },
  {
   "cell_type": "code",
   "execution_count": 17,
   "metadata": {},
   "outputs": [],
   "source": [
    "import results_saving_funcs as rsf\n",
    "\n",
    "rsf.add_result_to_results(path_goldstandard, model, X_te, y_te, y_pred)"
   ]
  },
  {
   "cell_type": "code",
   "execution_count": null,
   "metadata": {},
   "outputs": [],
   "source": []
  }
 ],
 "metadata": {
  "kernelspec": {
   "display_name": "Python 3",
   "language": "python",
   "name": "python3"
  },
  "language_info": {
   "codemirror_mode": {
    "name": "ipython",
    "version": 3
   },
   "file_extension": ".py",
   "mimetype": "text/x-python",
   "name": "python",
   "nbconvert_exporter": "python",
   "pygments_lexer": "ipython3",
   "version": "3.7.1"
  }
 },
 "nbformat": 4,
 "nbformat_minor": 2
}
