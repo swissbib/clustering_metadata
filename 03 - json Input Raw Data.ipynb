{
 "cells": [
  {
   "cell_type": "markdown",
   "metadata": {},
   "source": [
    "# Daten einlesen"
   ]
  },
  {
   "cell_type": "code",
   "execution_count": 1,
   "metadata": {},
   "outputs": [],
   "source": [
    "import pandas as pd\n",
    "\n",
    "df = pd.read_json('./data/defaultdb.json')"
   ]
  },
  {
   "cell_type": "code",
   "execution_count": 2,
   "metadata": {},
   "outputs": [
    {
     "data": {
      "text/html": [
       "<div>\n",
       "<style scoped>\n",
       "    .dataframe tbody tr th:only-of-type {\n",
       "        vertical-align: middle;\n",
       "    }\n",
       "\n",
       "    .dataframe tbody tr th {\n",
       "        vertical-align: top;\n",
       "    }\n",
       "\n",
       "    .dataframe thead th {\n",
       "        text-align: right;\n",
       "    }\n",
       "</style>\n",
       "<table border=\"1\" class=\"dataframe\">\n",
       "  <thead>\n",
       "    <tr style=\"text-align: right;\">\n",
       "      <th></th>\n",
       "      <th>numberOfRecords</th>\n",
       "      <th>startRecord</th>\n",
       "      <th>collection</th>\n",
       "    </tr>\n",
       "  </thead>\n",
       "  <tbody>\n",
       "    <tr>\n",
       "      <th>0</th>\n",
       "      <td>31440510</td>\n",
       "      <td>0</td>\n",
       "      <td>{'leader': '00000caa a22000002  4500', 'fields...</td>\n",
       "    </tr>\n",
       "    <tr>\n",
       "      <th>1</th>\n",
       "      <td>31440510</td>\n",
       "      <td>0</td>\n",
       "      <td>{'leader': '00000cam a2200000u  4500', 'fields...</td>\n",
       "    </tr>\n",
       "    <tr>\n",
       "      <th>2</th>\n",
       "      <td>31440510</td>\n",
       "      <td>0</td>\n",
       "      <td>{'leader': '00000cam a22000004  4500', 'fields...</td>\n",
       "    </tr>\n",
       "    <tr>\n",
       "      <th>3</th>\n",
       "      <td>31440510</td>\n",
       "      <td>0</td>\n",
       "      <td>{'leader': '00000cam a22000002  4500', 'fields...</td>\n",
       "    </tr>\n",
       "    <tr>\n",
       "      <th>4</th>\n",
       "      <td>31440510</td>\n",
       "      <td>0</td>\n",
       "      <td>{'leader': '00000cam a22000002  4500', 'fields...</td>\n",
       "    </tr>\n",
       "  </tbody>\n",
       "</table>\n",
       "</div>"
      ],
      "text/plain": [
       "   numberOfRecords  startRecord  \\\n",
       "0         31440510            0   \n",
       "1         31440510            0   \n",
       "2         31440510            0   \n",
       "3         31440510            0   \n",
       "4         31440510            0   \n",
       "\n",
       "                                          collection  \n",
       "0  {'leader': '00000caa a22000002  4500', 'fields...  \n",
       "1  {'leader': '00000cam a2200000u  4500', 'fields...  \n",
       "2  {'leader': '00000cam a22000004  4500', 'fields...  \n",
       "3  {'leader': '00000cam a22000002  4500', 'fields...  \n",
       "4  {'leader': '00000cam a22000002  4500', 'fields...  "
      ]
     },
     "execution_count": 2,
     "metadata": {},
     "output_type": "execute_result"
    }
   ],
   "source": [
    "df.head()"
   ]
  },
  {
   "cell_type": "code",
   "execution_count": 3,
   "metadata": {},
   "outputs": [
    {
     "data": {
      "text/plain": [
       "0    31440510\n",
       "1    31440510\n",
       "2    31440510\n",
       "3    31440510\n",
       "4    31440510\n",
       "5    31440510\n",
       "6    31440510\n",
       "7    31440510\n",
       "8    31440510\n",
       "9    31440510\n",
       "Name: numberOfRecords, dtype: int64"
      ]
     },
     "execution_count": 3,
     "metadata": {},
     "output_type": "execute_result"
    }
   ],
   "source": [
    "df['numberOfRecords']"
   ]
  },
  {
   "cell_type": "markdown",
   "metadata": {},
   "source": [
    "# Analyse Collection"
   ]
  },
  {
   "cell_type": "code",
   "execution_count": 4,
   "metadata": {},
   "outputs": [
    {
     "data": {
      "text/plain": [
       "{'leader': '00000caa a22000002  4500',\n",
       " 'fields': [{'001': '030382556'},\n",
       "  {'003': 'CHVBK'},\n",
       "  {'005': '20190221065026.0'},\n",
       "  {'008': '100922s1965    gw            00    ger  '},\n",
       "  {'035': {'ind2': ' ',\n",
       "    'ind1': ' ',\n",
       "    'subfields': [{'a': '(OCoLC)886703169'}]}},\n",
       "  {'035': {'ind2': ' ',\n",
       "    'ind1': ' ',\n",
       "    'subfields': [{'a': '(IDSLU)000926061'}]}},\n",
       "  {'040': {'ind2': ' ',\n",
       "    'ind1': ' ',\n",
       "    'subfields': [{'a': 'SzZuIDS LU LUZHB'}, {'e': 'kids'}]}},\n",
       "  {'100': {'ind2': ' ',\n",
       "    'ind1': '0',\n",
       "    'subfields': [{'a': 'Adamus'},\n",
       "     {'c': 'Bremensis'},\n",
       "     {'d': '-1081'},\n",
       "     {'0': '(DE-588)11850052X'}]}},\n",
       "  {'245': {'ind2': '4',\n",
       "    'ind1': '1',\n",
       "    'subfields': [{'a': 'Das Leben des hl. Unni'}]}},\n",
       "  {'336': {'ind2': ' ',\n",
       "    'ind1': ' ',\n",
       "    'subfields': [{'a': 'Text'}, {'b': 'txt'}, {'2': 'rdacontent/ger'}]}},\n",
       "  {'337': {'ind2': ' ',\n",
       "    'ind1': ' ',\n",
       "    'subfields': [{'a': 'ohne Hilfsmittel zu benutzen'},\n",
       "     {'b': 'n'},\n",
       "     {'2': 'rdamedia/ger'}]}},\n",
       "  {'338': {'ind2': ' ',\n",
       "    'ind1': ' ',\n",
       "    'subfields': [{'a': 'Band'}, {'b': 'nc'}, {'2': 'rdacarrier/ger'}]}},\n",
       "  {'773': {'ind2': 'A',\n",
       "    'ind1': '0',\n",
       "    'subfields': [{'t': 'Das Leben des heiligen Ansgar von seinem Nachfolger Rimbert'},\n",
       "     {'g': 'S. 147 ff.'},\n",
       "     {'j': '147'},\n",
       "     {'w': '(IDSLU)000524736'},\n",
       "     {'9': '030382475'}]}},\n",
       "  {'909': {'ind2': '7',\n",
       "    'ind1': ' ',\n",
       "    'subfields': [{'f': 'medea KBW 0010177'}, {'2': 'idslu LA'}]}},\n",
       "  {'909': {'ind2': '7',\n",
       "    'ind1': ' ',\n",
       "    'subfields': [{'a': 'lurom'}, {'2': 'idslu L'}]}},\n",
       "  {'950': {'ind2': ' ',\n",
       "    'ind1': ' ',\n",
       "    'subfields': [{'B': 'IDSLU'},\n",
       "     {'P': '100'},\n",
       "     {'E': '0-'},\n",
       "     {'a': 'Adamus'},\n",
       "     {'c': 'Bremensis'},\n",
       "     {'d': '-1081'},\n",
       "     {'0': '(DE-588)11850052X'}]}},\n",
       "  {'950': {'ind2': ' ',\n",
       "    'ind1': ' ',\n",
       "    'subfields': [{'B': 'IDSLU'},\n",
       "     {'P': '773'},\n",
       "     {'E': '0A'},\n",
       "     {'t': 'Das Leben des heiligen Ansgar von seinem Nachfolger Rimbert'},\n",
       "     {'g': 'S. 147 ff'},\n",
       "     {'j': '147'},\n",
       "     {'w': '(IDSLU)000524736'},\n",
       "     {'9': '030382475'}]}},\n",
       "  {'898': {'ind2': ' ',\n",
       "    'ind1': ' ',\n",
       "    'subfields': [{'a': 'BK010000'}, {'b': 'XK010000'}, {'c': 'XK010000'}]}},\n",
       "  {'949': {'ind2': ' ',\n",
       "    'ind1': ' ',\n",
       "    'subfields': [{'B': 'IDSLU'},\n",
       "     {'F': 'LUKBS'},\n",
       "     {'b': 'LUKBS'},\n",
       "     {'c': 'KSBIB'},\n",
       "     {'j': 'L 28/12'}]}},\n",
       "  {'949': {'ind2': ' ',\n",
       "    'ind1': ' ',\n",
       "    'subfields': [{'B': 'IDSLU'},\n",
       "     {'F': 'LUKBW'},\n",
       "     {'b': 'LUKBW'},\n",
       "     {'c': 'KBWVB'},\n",
       "     {'j': 'L 23/21'}]}},\n",
       "  {'949': {'ind2': ' ',\n",
       "    'ind1': ' ',\n",
       "    'subfields': [{'B': 'IDSLU'},\n",
       "     {'F': 'LUZHB'},\n",
       "     {'b': 'LUSBI'},\n",
       "     {'c': 'SBIZB'},\n",
       "     {'j': 'G.a 1143:10'}]}},\n",
       "  {'949': {'ind2': ' ',\n",
       "    'ind1': ' ',\n",
       "    'subfields': [{'B': 'IDSLU'},\n",
       "     {'F': 'LUZHB'},\n",
       "     {'b': 'LUSBI'},\n",
       "     {'c': 'SBIZB'},\n",
       "     {'j': 'Romero Ng 820'}]}}]}"
      ]
     },
     "execution_count": 4,
     "metadata": {},
     "output_type": "execute_result"
    }
   ],
   "source": [
    "df.collection[0]"
   ]
  },
  {
   "cell_type": "code",
   "execution_count": 5,
   "metadata": {},
   "outputs": [
    {
     "data": {
      "text/plain": [
       "'00000caa a22000002  4500'"
      ]
     },
     "execution_count": 5,
     "metadata": {},
     "output_type": "execute_result"
    }
   ],
   "source": [
    "df.collection[0]['leader']"
   ]
  },
  {
   "cell_type": "code",
   "execution_count": 6,
   "metadata": {},
   "outputs": [
    {
     "name": "stdout",
     "output_type": "stream",
     "text": [
      "{'leader': '00000caa a22000002  4500', 'fields': [{'001': '030382556'}, {'003': 'CHVBK'}, {'005': '20190221065026.0'}, {'008': '100922s1965    gw            00    ger  '}, {'035': {'ind2': ' ', 'ind1': ' ', 'subfields': [{'a': '(OCoLC)886703169'}]}}, {'035': {'ind2': ' ', 'ind1': ' ', 'subfields': [{'a': '(IDSLU)000926061'}]}}, {'040': {'ind2': ' ', 'ind1': ' ', 'subfields': [{'a': 'SzZuIDS LU LUZHB'}, {'e': 'kids'}]}}, {'100': {'ind2': ' ', 'ind1': '0', 'subfields': [{'a': 'Adamus'}, {'c': 'Bremensis'}, {'d': '-1081'}, {'0': '(DE-588)11850052X'}]}}, {'245': {'ind2': '4', 'ind1': '1', 'subfields': [{'a': 'Das Leben des hl. Unni'}]}}, {'336': {'ind2': ' ', 'ind1': ' ', 'subfields': [{'a': 'Text'}, {'b': 'txt'}, {'2': 'rdacontent/ger'}]}}, {'337': {'ind2': ' ', 'ind1': ' ', 'subfields': [{'a': 'ohne Hilfsmittel zu benutzen'}, {'b': 'n'}, {'2': 'rdamedia/ger'}]}}, {'338': {'ind2': ' ', 'ind1': ' ', 'subfields': [{'a': 'Band'}, {'b': 'nc'}, {'2': 'rdacarrier/ger'}]}}, {'773': {'ind2': 'A', 'ind1': '0', 'subfields': [{'t': 'Das Leben des heiligen Ansgar von seinem Nachfolger Rimbert'}, {'g': 'S. 147 ff.'}, {'j': '147'}, {'w': '(IDSLU)000524736'}, {'9': '030382475'}]}}, {'909': {'ind2': '7', 'ind1': ' ', 'subfields': [{'f': 'medea KBW 0010177'}, {'2': 'idslu LA'}]}}, {'909': {'ind2': '7', 'ind1': ' ', 'subfields': [{'a': 'lurom'}, {'2': 'idslu L'}]}}, {'950': {'ind2': ' ', 'ind1': ' ', 'subfields': [{'B': 'IDSLU'}, {'P': '100'}, {'E': '0-'}, {'a': 'Adamus'}, {'c': 'Bremensis'}, {'d': '-1081'}, {'0': '(DE-588)11850052X'}]}}, {'950': {'ind2': ' ', 'ind1': ' ', 'subfields': [{'B': 'IDSLU'}, {'P': '773'}, {'E': '0A'}, {'t': 'Das Leben des heiligen Ansgar von seinem Nachfolger Rimbert'}, {'g': 'S. 147 ff'}, {'j': '147'}, {'w': '(IDSLU)000524736'}, {'9': '030382475'}]}}, {'898': {'ind2': ' ', 'ind1': ' ', 'subfields': [{'a': 'BK010000'}, {'b': 'XK010000'}, {'c': 'XK010000'}]}}, {'949': {'ind2': ' ', 'ind1': ' ', 'subfields': [{'B': 'IDSLU'}, {'F': 'LUKBS'}, {'b': 'LUKBS'}, {'c': 'KSBIB'}, {'j': 'L 28/12'}]}}, {'949': {'ind2': ' ', 'ind1': ' ', 'subfields': [{'B': 'IDSLU'}, {'F': 'LUKBW'}, {'b': 'LUKBW'}, {'c': 'KBWVB'}, {'j': 'L 23/21'}]}}, {'949': {'ind2': ' ', 'ind1': ' ', 'subfields': [{'B': 'IDSLU'}, {'F': 'LUZHB'}, {'b': 'LUSBI'}, {'c': 'SBIZB'}, {'j': 'G.a 1143:10'}]}}, {'949': {'ind2': ' ', 'ind1': ' ', 'subfields': [{'B': 'IDSLU'}, {'F': 'LUZHB'}, {'b': 'LUSBI'}, {'c': 'SBIZB'}, {'j': 'Romero Ng 820'}]}}]}\n",
      "{'leader': '00000cam a2200000u  4500', 'fields': [{'001': '03038303X'}, {'003': 'CHVBK'}, {'005': '20160912041206.0'}, {'008': '702114s1962    sz            00    ger d'}, {'035': {'ind2': ' ', 'ind1': ' ', 'subfields': [{'a': '(OCoLC)611006304'}]}}, {'035': {'ind2': ' ', 'ind1': ' ', 'subfields': [{'a': '(IDSLU)000112559'}]}}, {'040': {'ind2': ' ', 'ind1': ' ', 'subfields': [{'a': 'SzZuIDS LU LUZHB'}, {'e': 'kids'}]}}, {'100': {'ind2': ' ', 'ind1': '1', 'subfields': [{'a': 'Hophan'}, {'D': 'Otto'}]}}, {'245': {'ind2': '0', 'ind1': '1', 'subfields': [{'a': 'Siehe da deine Mutter'}, {'b': '31 Lesungen über das Leben der seligsten Jungfrau Maria'}, {'c': 'Otto Hophan'}]}}, {'264': {'ind2': '1', 'ind1': ' ', 'subfields': [{'a': 'Luzern'}, {'a': 'Stuttgart'}, {'b': 'Räber'}, {'c': '[1962]'}]}}, {'264': {'ind2': '4', 'ind1': ' ', 'subfields': [{'c': '© 1962'}]}}, {'300': {'ind2': ' ', 'ind1': ' ', 'subfields': [{'a': '130 S.'}, {'c': '19 cm'}]}}, {'336': {'ind2': ' ', 'ind1': ' ', 'subfields': [{'a': 'Text'}, {'b': 'txt'}, {'2': 'rdacontent/ger'}]}}, {'337': {'ind2': ' ', 'ind1': ' ', 'subfields': [{'a': 'ohne Hilfsmittel zu benutzen'}, {'b': 'n'}, {'2': 'rdamedia/ger'}]}}, {'338': {'ind2': ' ', 'ind1': ' ', 'subfields': [{'a': 'Band'}, {'b': 'nc'}, {'2': 'rdacarrier/ger'}]}}, {'590': {'ind2': ' ', 'ind1': ' ', 'subfields': [{'a': 'Signatur Archiv Räber: Ba 394'}]}}, {'690': {'ind2': '7', 'ind1': ' ', 'subfields': [{'B': 'u'}, {'a': 'Maria, heilige Gottesmutter, B: Mai-Lesungen'}, {'2': 'idslu L1'}]}}, {'690': {'ind2': '7', 'ind1': ' ', 'subfields': [{'B': 'u'}, {'a': 'Betrachtungen, B: Maria, heilige Gottesmutter'}, {'2': 'idslu L1'}]}}, {'690': {'ind2': '7', 'ind1': ' ', 'subfields': [{'B': 'u'}, {'a': 'Mailesungen'}, {'2': 'idslu LK'}]}}, {'690': {'ind2': '7', 'ind1': ' ', 'subfields': [{'B': 'u'}, {'a': 'Maria, Leben Lesungen'}, {'2': 'idslu LK'}]}}, {'909': {'ind2': '7', 'ind1': ' ', 'subfields': [{'a': 'rae'}, {'2': 'idslu L'}]}}, {'909': {'ind2': '7', 'ind1': ' ', 'subfields': [{'f': 'medea KBW 0200399'}, {'2': 'idslu LA'}]}}, {'909': {'ind2': '7', 'ind1': ' ', 'subfields': [{'f': 'medea KBS 130267'}, {'2': 'idslu LA'}]}}, {'912': {'ind2': '7', 'ind1': ' ', 'subfields': [{'a': '740'}, {'2': 'IDS LU'}]}}, {'950': {'ind2': ' ', 'ind1': ' ', 'subfields': [{'B': 'IDSLU'}, {'P': '100'}, {'E': '1-'}, {'a': 'Hophan'}, {'D': 'Otto'}]}}, {'986': {'ind2': ' ', 'ind1': ' ', 'subfields': [{'a': 'SWISSBIB'}, {'b': '022332707'}]}}, {'898': {'ind2': ' ', 'ind1': ' ', 'subfields': [{'a': 'BK020000'}, {'b': 'XK020000'}, {'c': 'XK020000'}]}}, {'949': {'ind2': ' ', 'ind1': ' ', 'subfields': [{'B': 'IDSLU'}, {'F': 'LUKBS'}, {'b': 'LUKBS'}, {'c': 'KSBIB'}, {'j': 'F 43/33'}]}}, {'949': {'ind2': ' ', 'ind1': ' ', 'subfields': [{'B': 'IDSLU'}, {'F': 'LUKBW'}, {'b': 'LUKBW'}, {'c': 'KBWVB'}, {'j': 'F 24/6'}]}}, {'949': {'ind2': ' ', 'ind1': ' ', 'subfields': [{'B': 'IDSLU'}, {'F': 'LUZHB'}, {'b': 'LUSBI'}, {'c': 'SBIZB'}, {'j': 'L.e 1332'}]}}, {'949': {'ind2': ' ', 'ind1': ' ', 'subfields': [{'B': 'IDSLU'}, {'F': 'LUZHB'}, {'b': 'LUSBI'}, {'c': 'SBIZB'}, {'j': 'R.a 4704'}]}}]}\n",
      "{'leader': '00000cam a22000004  4500', 'fields': [{'001': '030383137'}, {'003': 'CHVBK'}, {'005': '20190109052515.0'}, {'008': '120125s2014    enk           00    eng|d'}, {'020': {'ind2': ' ', 'ind1': ' ', 'subfields': [{'a': '978-0-415-68565-8'}, {'q': 'hbk.'}]}}, {'035': {'ind2': ' ', 'ind1': ' ', 'subfields': [{'a': '(OCoLC)869854128'}]}}, {'035': {'ind2': ' ', 'ind1': ' ', 'subfields': [{'a': '(IDSLU)001096870'}]}}, {'040': {'ind2': ' ', 'ind1': ' ', 'subfields': [{'a': 'StDuBDS'}, {'d': 'SzZuIDS LU LUZHB'}, {'e': 'kids'}]}}, {'082': {'ind2': ' ', 'ind1': '0', 'subfields': [{'a': '323.6'}, {'2': '23'}]}}, {'245': {'ind2': '4', 'ind1': '0', 'subfields': [{'a': 'The margins of citizenship'}, {'c': 'ed. by Philip Cook and Jonathan Seglow'}]}}, {'264': {'ind2': '1', 'ind1': ' ', 'subfields': [{'a': 'London'}, {'b': 'Routledge'}, {'c': '2014'}]}}, {'300': {'ind2': ' ', 'ind1': ' ', 'subfields': [{'a': '159 S.'}, {'c': '24 cm'}]}}, {'336': {'ind2': ' ', 'ind1': ' ', 'subfields': [{'a': 'Text'}, {'b': 'txt'}, {'2': 'rdacontent/ger'}]}}, {'337': {'ind2': ' ', 'ind1': ' ', 'subfields': [{'a': 'ohne Hilfsmittel zu benutzen'}, {'b': 'n'}, {'2': 'rdamedia/ger'}]}}, {'338': {'ind2': ' ', 'ind1': ' ', 'subfields': [{'a': 'Band'}, {'b': 'nc'}, {'2': 'rdacarrier/ger'}]}}, {'500': {'ind2': ' ', 'ind1': ' ', 'subfields': [{'a': 'Auch erschienen als Sonderausg. im \"Critical Review of International Social and Political Philosophy\"'}]}}, {'650': {'ind2': '0', 'ind1': ' ', 'subfields': [{'a': 'Citizenship'}]}}, {'650': {'ind2': '0', 'ind1': ' ', 'subfields': [{'a': 'Citizenship'}, {'x': 'Social aspects'}]}}, {'650': {'ind2': '0', 'ind1': ' ', 'subfields': [{'a': 'Citizenship'}, {'x': 'Philosophy'}]}}, {'650': {'ind2': '7', 'ind1': ' ', 'subfields': [{'a': 'Staatsbürger'}, {'0': '(DE-588)4182642-5'}, {'2': 'gnd'}]}}, {'650': {'ind2': '7', 'ind1': ' ', 'subfields': [{'a': 'Bürgerrecht'}, {'0': '(DE-588)4146877-6'}, {'2': 'gnd'}]}}, {'650': {'ind2': '7', 'ind1': ' ', 'subfields': [{'a': 'Ausschluss'}, {'0': '(DE-588)4200579-6'}, {'2': 'gnd'}]}}, {'655': {'ind2': '7', 'ind1': ' ', 'subfields': [{'a': 'Aufsatzsammlung'}, {'2': 'gnd-content'}]}}, {'691': {'ind2': '7', 'ind1': ' ', 'subfields': [{'B': 'u'}, {'u': 'MD 4600'}, {'2': 'idslu LR'}]}}, {'691': {'ind2': '7', 'ind1': ' ', 'subfields': [{'B': 'u'}, {'u': 'CC 7800'}, {'2': 'idslu LR'}]}}, {'700': {'ind2': ' ', 'ind1': '1', 'subfields': [{'a': 'Cook'}, {'D': 'Philip'}]}}, {'912': {'ind2': '7', 'ind1': ' ', 'subfields': [{'a': '160'}, {'2': 'IDS LU'}]}}, {'912': {'ind2': '7', 'ind1': ' ', 'subfields': [{'a': '100'}, {'2': 'IDS LU'}]}}, {'950': {'ind2': ' ', 'ind1': ' ', 'subfields': [{'B': 'IDSLU'}, {'P': '700'}, {'E': '1-'}, {'a': 'Cook'}, {'D': 'Philip'}]}}, {'898': {'ind2': ' ', 'ind1': ' ', 'subfields': [{'a': 'BK020000'}, {'b': 'XK020000'}, {'c': 'XK020000'}]}}, {'949': {'ind2': ' ', 'ind1': ' ', 'subfields': [{'B': 'IDSLU'}, {'F': 'LUUHL'}, {'b': 'LUUHL'}, {'c': 'UHFRE'}, {'j': 'MD 4600 2014'}]}}, {'956': {'ind2': ' ', 'ind1': '4', 'subfields': [{'B': 'IDSLU'}, {'C': 'ILU50'}, {'D': 'ILU01'}, {'a': 'LUZHB'}, {'u': 'http://www.ub.unibas.ch/tox/IDSLUZ/001096870/PDF'}, {'q': 'pdf'}, {'x': 'VIEW'}, {'y': 'Inhaltsverzeichnis'}]}}]}\n",
      "{'leader': '00000cam a22000002  4500', 'fields': [{'001': '030383811'}, {'003': 'CHVBK'}, {'005': '20160921033327.0'}, {'008': '100112s1951    gw            00    ger  '}, {'035': {'ind2': ' ', 'ind1': ' ', 'subfields': [{'a': '(OCoLC)886704058'}]}}, {'035': {'ind2': ' ', 'ind1': ' ', 'subfields': [{'a': '(IDSLU)000745375'}]}}, {'040': {'ind2': ' ', 'ind1': ' ', 'subfields': [{'a': 'SzZuIDS LU LUZHB'}, {'e': 'kids'}]}}, {'100': {'ind2': ' ', 'ind1': '1', 'subfields': [{'a': 'Grabinski'}, {'D': 'Bruno'}]}}, {'245': {'ind2': '0', 'ind1': '1', 'subfields': [{'a': 'Heroldsbach im Lichte des neuesten Dekrets des Hl. Officiums'}, {'b': 'wie sind die dortigen Vorgänge nun zu erklären?'}]}}, {'264': {'ind2': '1', 'ind1': ' ', 'subfields': [{'a': 'Wiesbaden'}, {'b': 'Schacke'}, {'c': '1951'}]}}, {'300': {'ind2': ' ', 'ind1': ' ', 'subfields': [{'a': '116 S.'}, {'c': \"8'\"}]}}, {'336': {'ind2': ' ', 'ind1': ' ', 'subfields': [{'a': 'Text'}, {'b': 'txt'}, {'2': 'rdacontent/ger'}]}}, {'337': {'ind2': ' ', 'ind1': ' ', 'subfields': [{'a': 'ohne Hilfsmittel zu benutzen'}, {'b': 'n'}, {'2': 'rdamedia/ger'}]}}, {'338': {'ind2': ' ', 'ind1': ' ', 'subfields': [{'a': 'Band'}, {'b': 'nc'}, {'2': 'rdacarrier/ger'}]}}, {'690': {'ind2': '7', 'ind1': ' ', 'subfields': [{'B': 'u'}, {'a': 'Heroldsbach. A'}, {'2': 'idslu L1'}]}}, {'909': {'ind2': '7', 'ind1': ' ', 'subfields': [{'f': 'medea 238100'}, {'2': 'idslu LA'}]}}, {'950': {'ind2': ' ', 'ind1': ' ', 'subfields': [{'B': 'IDSLU'}, {'P': '100'}, {'E': '1-'}, {'a': 'Grabinski'}, {'D': 'Bruno'}]}}, {'898': {'ind2': ' ', 'ind1': ' ', 'subfields': [{'a': 'BK020000'}, {'b': 'XK020000'}, {'c': 'XK020000'}]}}, {'949': {'ind2': ' ', 'ind1': ' ', 'subfields': [{'B': 'IDSLU'}, {'F': 'LUZHB'}, {'b': 'LUSBI'}, {'c': 'SBIZB'}, {'j': 'R.a 808'}]}}]}\n",
      "{'leader': '00000cam a22000002  4500', 'fields': [{'001': '030383935'}, {'003': 'CHVBK'}, {'005': '20190405031538.0'}, {'008': '891204s1913    fr            00    fre| '}, {'035': {'ind2': ' ', 'ind1': ' ', 'subfields': [{'a': '(OCoLC)886704248'}]}}, {'035': {'ind2': ' ', 'ind1': ' ', 'subfields': [{'a': '(IDSLU)000844792'}]}}, {'040': {'ind2': ' ', 'ind1': ' ', 'subfields': [{'a': 'DLC'}, {'d': 'SzZuIDS LU LUZHB'}, {'e': 'kids'}]}}, {'100': {'ind2': ' ', 'ind1': '1', 'subfields': [{'a': 'Vergnet'}, {'D': 'Paul'}]}}, {'245': {'ind2': '3', 'ind1': '1', 'subfields': [{'a': 'La France en danger'}, {'b': \"l'oeuvre des pangermanistes : ce qu'ils sont, ce qu'ils peuvent, ce qu'ils veulent\"}]}}, {'264': {'ind2': '1', 'ind1': ' ', 'subfields': [{'a': 'Paris'}, {'b': 'Mignot'}, {'c': '[1913]'}]}}, {'300': {'ind2': ' ', 'ind1': ' ', 'subfields': [{'a': '270 S.'}, {'c': '19 cm'}]}}, {'336': {'ind2': ' ', 'ind1': ' ', 'subfields': [{'a': 'Text'}, {'b': 'txt'}, {'2': 'rdacontent/ger'}]}}, {'337': {'ind2': ' ', 'ind1': ' ', 'subfields': [{'a': 'ohne Hilfsmittel zu benutzen'}, {'b': 'n'}, {'2': 'rdamedia/ger'}]}}, {'338': {'ind2': ' ', 'ind1': ' ', 'subfields': [{'a': 'Band'}, {'b': 'nc'}, {'2': 'rdacarrier/ger'}]}}, {'650': {'ind2': '0', 'ind1': ' ', 'subfields': [{'a': 'Pangermanism'}]}}, {'651': {'ind2': '0', 'ind1': ' ', 'subfields': [{'a': 'France'}, {'x': 'Foreign relations'}, {'z': 'Germany'}]}}, {'651': {'ind2': '0', 'ind1': ' ', 'subfields': [{'a': 'Germany'}, {'x': 'Foreign relations'}, {'z': 'France'}]}}, {'690': {'ind2': '7', 'ind1': ' ', 'subfields': [{'B': 'u'}, {'a': 'Pangermanismus. A'}, {'2': 'idslu L1'}]}}, {'690': {'ind2': '7', 'ind1': ' ', 'subfields': [{'B': 'u'}, {'a': 'Politik. Deutschland. N.Z. 20. Jh., B: Pangermanismus'}, {'2': 'idslu L1'}]}}, {'690': {'ind2': '7', 'ind1': ' ', 'subfields': [{'B': 'u'}, {'a': 'Politik. Frankreich. N.Z. 20. Jh., B: Pangermanismus'}, {'2': 'idslu L1'}]}}, {'909': {'ind2': '7', 'ind1': ' ', 'subfields': [{'f': 'medea 401874'}, {'2': 'idslu LA'}]}}, {'950': {'ind2': ' ', 'ind1': ' ', 'subfields': [{'B': 'IDSLU'}, {'P': '100'}, {'E': '1-'}, {'a': 'Vergnet'}, {'D': 'Paul'}]}}, {'898': {'ind2': ' ', 'ind1': ' ', 'subfields': [{'a': 'BK020000'}, {'b': 'XK020000'}, {'c': 'XK020000'}]}}, {'949': {'ind2': ' ', 'ind1': ' ', 'subfields': [{'B': 'IDSLU'}, {'F': 'LUZHB'}, {'b': 'LUSBI'}, {'c': 'SBIZB'}, {'j': 'J.1576'}]}}]}\n",
      "{'leader': '00000cam a22000004  4500', 'fields': [{'001': '030384206'}, {'003': 'CHVBK'}, {'005': '20190121051011.0'}, {'008': '060613s2006    gw            00    ger  '}, {'020': {'ind2': ' ', 'ind1': ' ', 'subfields': [{'a': '3-8340-0099-X'}, {'c': 'CHF 18.30'}]}}, {'035': {'ind2': ' ', 'ind1': ' ', 'subfields': [{'a': '(OCoLC)179982148'}]}}, {'035': {'ind2': ' ', 'ind1': ' ', 'subfields': [{'a': '(IDSLU)000478302'}]}}, {'040': {'ind2': ' ', 'ind1': ' ', 'subfields': [{'a': 'SzZuIDS LU LUPHL'}, {'e': 'kids'}]}}, {'245': {'ind2': '0', 'ind1': '0', 'subfields': [{'a': 'Perspektiven für den Wissenstransfer in Schulen und Schulsystemen'}, {'b': 'Lehren aus dem institutionalisierten Wissens- und Technologietransfer'}, {'c': 'von Bernd Kriegesmann ... [et al.]'}]}}, {'264': {'ind2': '1', 'ind1': ' ', 'subfields': [{'a': 'Baltmannsweiler'}, {'b': 'Schneider Hohengehren'}, {'c': '2006'}]}}, {'300': {'ind2': ' ', 'ind1': ' ', 'subfields': [{'a': '81 S.'}, {'b': 'Ill.'}, {'c': '24 cm'}]}}, {'336': {'ind2': ' ', 'ind1': ' ', 'subfields': [{'a': 'Text'}, {'b': 'txt'}, {'2': 'rdacontent/ger'}]}}, {'337': {'ind2': ' ', 'ind1': ' ', 'subfields': [{'a': 'ohne Hilfsmittel zu benutzen'}, {'b': 'n'}, {'2': 'rdamedia/ger'}]}}, {'338': {'ind2': ' ', 'ind1': ' ', 'subfields': [{'a': 'Band'}, {'b': 'nc'}, {'2': 'rdacarrier/ger'}]}}, {'650': {'ind2': '7', 'ind1': ' ', 'subfields': [{'a': 'Wissenschaftstransfer'}, {'0': '(DE-588)4207539-7'}, {'2': 'gnd'}]}}, {'650': {'ind2': '7', 'ind1': ' ', 'subfields': [{'a': 'Schule'}, {'0': '(DE-588)4053474-1'}, {'2': 'gnd'}]}}, {'691': {'ind2': '7', 'ind1': ' ', 'subfields': [{'B': 'u'}, {'u': 'DK 1020'}, {'2': 'idslu LR'}]}}, {'700': {'ind2': ' ', 'ind1': '1', 'subfields': [{'a': 'Kriegesmann'}, {'D': 'Bernd'}]}}, {'909': {'ind2': '7', 'ind1': ' ', 'subfields': [{'a': 'BSW Bildungs & Sozialwissenschaften'}, {'2': 'idslu L6'}]}}, {'950': {'ind2': ' ', 'ind1': ' ', 'subfields': [{'B': 'IDSLU'}, {'P': '700'}, {'E': '1-'}, {'a': 'Kriegesmann'}, {'D': 'Bernd'}]}}, {'898': {'ind2': ' ', 'ind1': ' ', 'subfields': [{'a': 'BK020000'}, {'b': 'XK020000'}, {'c': 'XK020000'}]}}, {'949': {'ind2': ' ', 'ind1': ' ', 'subfields': [{'B': 'IDSLU'}, {'F': 'LUUHL'}, {'b': 'LUPHL'}, {'c': 'PLFRE'}, {'j': 'DK 1020 2006'}]}}, {'956': {'ind2': ' ', 'ind1': '4', 'subfields': [{'B': 'IDSLU'}, {'C': 'ILU50'}, {'D': 'ILU01'}, {'a': 'LUZHB'}, {'u': 'http://www.ub.unibas.ch/tox/HBZ/HT014776293/PDF'}, {'q': 'pdf'}, {'x': 'VIEW'}, {'y': 'Inhaltsverzeichnis'}]}}]}\n",
      "{'leader': '00000cam a22000004  4500', 'fields': [{'001': '030384338'}, {'003': 'CHVBK'}, {'005': '20190731120955.0'}, {'008': '031201s2007    xxu           00    eng|d'}, {'015': {'ind2': ' ', 'ind1': ' ', 'subfields': [{'a': 'GBA8-03506'}, {'2': 'bnb'}]}}, {'020': {'ind2': ' ', 'ind1': ' ', 'subfields': [{'a': '978-0-324-36104-9'}, {'q': 'pbk.'}]}}, {'020': {'ind2': ' ', 'ind1': ' ', 'subfields': [{'a': '0-324-36104-1'}, {'q': 'pbk.'}]}}, {'020': {'ind2': ' ', 'ind1': ' ', 'subfields': [{'a': '0-324-31685-2'}, {'q': 'pbk.'}]}}, {'035': {'ind2': ' ', 'ind1': ' ', 'subfields': [{'a': '(OCoLC)75615089'}]}}, {'035': {'ind2': ' ', 'ind1': ' ', 'subfields': [{'a': '(IDSLU)000596935'}]}}, {'035': {'ind2': ' ', 'ind1': ' ', 'subfields': [{'a': '(OCoLC)75615089'}]}}, {'040': {'ind2': ' ', 'ind1': ' ', 'subfields': [{'a': 'EQO'}, {'d': 'SzZuIDS LU LUHSW'}, {'e': 'kids'}]}}, {'082': {'ind2': ' ', 'ind1': '0', 'subfields': [{'a': '658.804'}, {'2': '22'}]}}, {'100': {'ind2': ' ', 'ind1': '1', 'subfields': [{'a': 'Hutt'}, {'D': 'Michael D.'}]}}, {'245': {'ind2': '0', 'ind1': '1', 'subfields': [{'a': 'Business marketing management'}, {'b': 'B2B'}, {'c': 'Michael D. Hutt, Thomas W. Speh'}]}}, {'250': {'ind2': ' ', 'ind1': ' ', 'subfields': [{'a': '9th ed., international student ed.'}]}}, {'264': {'ind2': '1', 'ind1': ' ', 'subfields': [{'a': 'Mason, OH'}, {'b': 'Thomson South-Western'}, {'c': '2007'}]}}, {'300': {'ind2': ' ', 'ind1': ' ', 'subfields': [{'a': 'XXX, 658 S.'}, {'b': 'Ill.'}, {'c': '26 cm'}]}}, {'336': {'ind2': ' ', 'ind1': ' ', 'subfields': [{'a': 'Text'}, {'b': 'txt'}, {'2': 'rdacontent/ger'}]}}, {'337': {'ind2': ' ', 'ind1': ' ', 'subfields': [{'a': 'ohne Hilfsmittel zu benutzen'}, {'b': 'n'}, {'2': 'rdamedia/ger'}]}}, {'338': {'ind2': ' ', 'ind1': ' ', 'subfields': [{'a': 'Band'}, {'b': 'nc'}, {'2': 'rdacarrier/ger'}]}}, {'650': {'ind2': '7', 'ind1': ' ', 'subfields': [{'a': 'Marketing'}, {'0': '(DE-588)4037589-4'}, {'2': 'gnd'}]}}, {'650': {'ind2': '7', 'ind1': ' ', 'subfields': [{'a': 'Industriebetrieb'}, {'0': '(DE-588)4026813-5'}, {'2': 'gnd'}]}}, {'650': {'ind2': '7', 'ind1': ' ', 'subfields': [{'a': 'Business-to-Business-Marketing'}, {'0': '(DE-588)4631075-7'}, {'2': 'gnd'}]}}, {'691': {'ind2': '7', 'ind1': ' ', 'subfields': [{'B': 'u'}, {'u': 'QP 600'}, {'2': 'idslu LR'}]}}, {'700': {'ind2': ' ', 'ind1': '1', 'subfields': [{'a': 'Speh'}, {'D': 'Thomas W.'}]}}, {'912': {'ind2': '7', 'ind1': ' ', 'subfields': [{'a': '171'}, {'2': 'IDS LU'}]}}, {'950': {'ind2': ' ', 'ind1': ' ', 'subfields': [{'B': 'IDSLU'}, {'P': '100'}, {'E': '1-'}, {'a': 'Hutt'}, {'D': 'Michael D.'}]}}, {'950': {'ind2': ' ', 'ind1': ' ', 'subfields': [{'B': 'IDSLU'}, {'P': '700'}, {'E': '1-'}, {'a': 'Speh'}, {'D': 'Thomas W.'}]}}, {'986': {'ind2': ' ', 'ind1': ' ', 'subfields': [{'a': 'SWISSBIB'}, {'b': '030384338'}]}}, {'898': {'ind2': ' ', 'ind1': ' ', 'subfields': [{'a': 'BK020000'}, {'b': 'XK020000'}, {'c': 'XK020000'}]}}, {'949': {'ind2': ' ', 'ind1': ' ', 'subfields': [{'B': 'IDSLU'}, {'F': 'LUHSW'}, {'b': 'LUHSW'}, {'c': 'HWFR0'}, {'j': 'QP 600 2007'}]}}, {'956': {'ind2': ' ', 'ind1': '4', 'subfields': [{'B': 'IDSLU'}, {'C': 'ILU50'}, {'D': 'ILU01'}, {'a': 'LUZHB'}, {'u': 'http://www.ub.unibas.ch/tox/HBZ/HT014874312/PDF'}, {'q': 'pdf'}, {'x': 'VIEW'}, {'y': 'Inhaltsverzeichnis'}]}}]}\n",
      "{'leader': '00000cas a22000002  4500', 'fields': [{'001': '030384346'}, {'003': 'CHVBK'}, {'005': '20190429031619.0'}, {'008': '970701d19421956sz  | m       0    |ger|d'}, {'035': {'ind2': ' ', 'ind1': ' ', 'subfields': [{'a': '(OCoLC)886704528'}]}}, {'035': {'ind2': ' ', 'ind1': ' ', 'subfields': [{'a': '(IDSLU)000690743'}]}}, {'040': {'ind2': ' ', 'ind1': ' ', 'subfields': [{'a': 'BDF'}, {'d': 'SzZuIDS LU LUZHB'}, {'e': 'kids'}]}}, {'245': {'ind2': '0', 'ind1': '0', 'subfields': [{'a': 'Menschen der Kirche in Zeugnis und Urkunde'}]}}, {'250': {'ind2': ' ', 'ind1': ' ', 'subfields': [{'a': '[Verschiedene Auflagen]'}]}}, {'264': {'ind2': '1', 'ind1': ' ', 'subfields': [{'a': 'Einsiedeln'}, {'b': 'Benziger'}]}}, {'336': {'ind2': ' ', 'ind1': ' ', 'subfields': [{'a': 'Text'}, {'b': 'txt'}, {'2': 'rdacontent/ger'}]}}, {'337': {'ind2': ' ', 'ind1': ' ', 'subfields': [{'a': 'ohne Hilfsmittel zu benutzen'}, {'b': 'n'}, {'2': 'rdamedia/ger'}]}}, {'338': {'ind2': ' ', 'ind1': ' ', 'subfields': [{'a': 'Band'}, {'b': 'nc'}, {'2': 'rdacarrier/ger'}]}}, {'655': {'ind2': '7', 'ind1': ' ', 'subfields': [{'a': 'Monografische Reihe'}, {'2': 'gnd-content'}]}}, {'690': {'ind2': '7', 'ind1': ' ', 'subfields': [{'B': 'u'}, {'a': 'Kirche. A'}, {'2': 'idslu L1'}]}}, {'785': {'ind2': '0', 'ind1': ' ', 'subfields': [{'t': 'Menschen der Kirche in Zeugnis und Urkunde. Neue Folge'}]}}, {'909': {'ind2': '7', 'ind1': ' ', 'subfields': [{'f': 'medea 156755'}, {'2': 'idslu LA'}]}}, {'909': {'ind2': '7', 'ind1': ' ', 'subfields': [{'f': 'medea 308237'}, {'2': 'idslu LA'}]}}, {'909': {'ind2': '7', 'ind1': ' ', 'subfields': [{'f': 'medea KBW 0030201'}, {'2': 'idslu LA'}]}}, {'909': {'ind2': '7', 'ind1': ' ', 'subfields': [{'f': 'medea KBS 140146'}, {'2': 'idslu LA'}]}}, {'909': {'ind2': '7', 'ind1': ' ', 'subfields': [{'f': 'medea KBS 150125'}, {'2': 'idslu LA'}]}}, {'909': {'ind2': '7', 'ind1': ' ', 'subfields': [{'f': 'medea KBS 150126'}, {'2': 'idslu LA'}]}}, {'909': {'ind2': '7', 'ind1': ' ', 'subfields': [{'f': 'medea KBS 170169'}, {'2': 'idslu LA'}]}}, {'909': {'ind2': '7', 'ind1': ' ', 'subfields': [{'f': 'medea KBS 020053'}, {'2': 'idslu LA'}]}}, {'909': {'ind2': '7', 'ind1': ' ', 'subfields': [{'f': 'medea KBS 210202'}, {'2': 'idslu LA'}]}}, {'909': {'ind2': '7', 'ind1': ' ', 'subfields': [{'f': 'medea KBS 280390'}, {'2': 'idslu LA'}]}}, {'950': {'ind2': ' ', 'ind1': ' ', 'subfields': [{'B': 'IDSLU'}, {'P': '785'}, {'E': '-0'}, {'t': 'Menschen der Kirche in Zeugnis und Urkunde. Neue Folge'}]}}, {'986': {'ind2': ' ', 'ind1': ' ', 'subfields': [{'a': 'SWISSBIB'}, {'b': '030384346'}]}}, {'898': {'ind2': ' ', 'ind1': ' ', 'subfields': [{'a': 'CR030300'}, {'b': 'XR030000'}, {'c': 'XR030000'}]}}, {'897': {'ind2': ' ', 'ind1': ' ', 'subfields': [{'a': 'b'}, {'b': '11'}]}}, {'897': {'ind2': ' ', 'ind1': ' ', 'subfields': [{'a': 'h'}, {'b': '1'}]}}, {'852': {'ind2': ' ', 'ind1': '4', 'subfields': [{'B': 'IDSLU'}, {'F': 'LUZHB'}, {'b': 'LUSBI'}, {'c': 'SBIZB'}, {'j': 'G4.25.b.gr.4'}, {'a': 'Bd. 1-10'}]}}, {'852': {'ind2': ' ', 'ind1': '4', 'subfields': [{'B': 'IDSLU'}, {'F': 'LUKBW'}, {'b': 'LUKBW'}, {'c': 'KBWVB'}, {'j': 'K 25/1-9'}, {'a': 'Bd. 1-10'}]}}, {'852': {'ind2': ' ', 'ind1': '4', 'subfields': [{'B': 'IDSLU'}, {'F': 'LUKBS'}, {'b': 'LUKBS'}, {'c': 'KSBIB'}, {'j': 'K 15'}, {'a': 'Bd. 1, 2, 5-7, 9-10'}]}}]}\n",
      "{'leader': '00000cam a22000004  4500', 'fields': [{'001': '030384435'}, {'003': 'CHVBK'}, {'005': '20190107083713.0'}, {'008': '090901s2009    xxu           00    eng  '}, {'020': {'ind2': ' ', 'ind1': ' ', 'subfields': [{'a': '978-1-58423-311-4'}]}}, {'035': {'ind2': ' ', 'ind1': ' ', 'subfields': [{'a': '(OCoLC)759048241'}]}}, {'035': {'ind2': ' ', 'ind1': ' ', 'subfields': [{'a': '(IDSLU)000651872'}]}}, {'040': {'ind2': ' ', 'ind1': ' ', 'subfields': [{'a': 'SzZuIDS LU LUHGK'}, {'e': 'kids'}]}}, {'245': {'ind2': '0', 'ind1': '0', 'subfields': [{'a': 'Stuffz'}, {'b': 'design on Material'}, {'c': '[ed.: Susuasli]'}]}}, {'264': {'ind2': '1', 'ind1': ' ', 'subfields': [{'a': 'Corte Madera'}, {'b': 'Gingko Press'}, {'c': '2009'}]}}, {'300': {'ind2': ' ', 'ind1': ' ', 'subfields': [{'a': '369 S.'}, {'b': 'Ill.'}, {'c': '29 cm'}]}}, {'336': {'ind2': ' ', 'ind1': ' ', 'subfields': [{'a': 'Text'}, {'b': 'txt'}, {'2': 'rdacontent/ger'}]}}, {'337': {'ind2': ' ', 'ind1': ' ', 'subfields': [{'a': 'ohne Hilfsmittel zu benutzen'}, {'b': 'n'}, {'2': 'rdamedia/ger'}]}}, {'338': {'ind2': ' ', 'ind1': ' ', 'subfields': [{'a': 'Band'}, {'b': 'nc'}, {'2': 'rdacarrier/ger'}]}}, {'648': {'ind2': '7', 'ind1': ' ', 'subfields': [{'a': 'Geschichte 2000-2007'}, {'2': 'gnd'}]}}, {'650': {'ind2': '7', 'ind1': ' ', 'subfields': [{'a': 'Gebrauchsgrafik'}, {'0': '(DE-588)4019558-2'}, {'2': 'gnd'}]}}, {'655': {'ind2': '7', 'ind1': ' ', 'subfields': [{'a': 'Bildband'}, {'2': 'gnd-content'}]}}, {'691': {'ind2': '7', 'ind1': ' ', 'subfields': [{'B': 'u'}, {'u': '52G'}, {'a': 'Materialdesign'}, {'2': 'idslu LE'}]}}, {'700': {'ind2': ' ', 'ind1': '0', 'subfields': [{'a': 'Susuasli'}]}}, {'950': {'ind2': ' ', 'ind1': ' ', 'subfields': [{'B': 'IDSLU'}, {'P': '700'}, {'E': '0-'}, {'a': 'Susuasli'}]}}, {'986': {'ind2': ' ', 'ind1': ' ', 'subfields': [{'a': 'SWISSBIB'}, {'b': '030384435'}]}}, {'898': {'ind2': ' ', 'ind1': ' ', 'subfields': [{'a': 'BK020000'}, {'b': 'XK020000'}, {'c': 'XK020000'}]}}, {'949': {'ind2': ' ', 'ind1': ' ', 'subfields': [{'B': 'IDSLU'}, {'F': 'LUHGK'}, {'b': 'LUHGK'}, {'c': 'HGFRE'}, {'j': '52F/81'}]}}]}\n",
      "{'leader': '00000cam a22000004  4500', 'fields': [{'001': '030384508'}, {'003': 'CHVBK'}, {'005': '20160920032317.0'}, {'008': '091020s1871    sz            00    ger  '}, {'035': {'ind2': ' ', 'ind1': ' ', 'subfields': [{'a': '(OCoLC)844723616'}]}}, {'035': {'ind2': ' ', 'ind1': ' ', 'subfields': [{'a': '(IDSLU)000677054'}]}}, {'040': {'ind2': ' ', 'ind1': ' ', 'subfields': [{'a': 'SzZuIDS LU LUZHB'}, {'e': 'kids'}]}}, {'245': {'ind2': '0', 'ind1': '0', 'subfields': [{'a': 'Chroniken, historische Dichter & Geschichtsschreiber aus den fünf Orten Luzern, Uri, Schwyz, Unterwalden und Zug'}, {'b': '(ein Verzeichniss, das nicht Ansprüche auf durchgängige Vollständigkeit macht ...)'}]}}, {'264': {'ind2': '1', 'ind1': ' ', 'subfields': [{'a': '[Erscheinungsort nicht ermittelbar]'}, {'b': '[Verlag nicht ermittelbar]'}, {'c': '[nach 1871]'}]}}, {'300': {'ind2': ' ', 'ind1': ' ', 'subfields': [{'a': '22 Bl.'}, {'c': '46 cm'}]}}, {'336': {'ind2': ' ', 'ind1': ' ', 'subfields': [{'a': 'Text'}, {'b': 'txt'}, {'2': 'rdacontent/ger'}]}}, {'337': {'ind2': ' ', 'ind1': ' ', 'subfields': [{'a': 'ohne Hilfsmittel zu benutzen'}, {'b': 'n'}, {'2': 'rdamedia/ger'}]}}, {'338': {'ind2': ' ', 'ind1': ' ', 'subfields': [{'a': 'Band'}, {'b': 'nc'}, {'2': 'rdacarrier/ger'}]}}, {'898': {'ind2': ' ', 'ind1': ' ', 'subfields': [{'a': 'BK020000'}, {'b': 'XK020000'}, {'c': 'XK020000'}]}}, {'949': {'ind2': ' ', 'ind1': ' ', 'subfields': [{'B': 'IDSLU'}, {'F': 'LUZHB'}, {'b': 'LUSBI'}, {'c': 'SBIZB'}, {'j': 'Bro.835.fol'}]}}]}\n"
     ]
    }
   ],
   "source": [
    "for i in range(len(df.collection)):\n",
    "    print(df.collection[i])"
   ]
  },
  {
   "cell_type": "code",
   "execution_count": 7,
   "metadata": {},
   "outputs": [
    {
     "name": "stdout",
     "output_type": "stream",
     "text": [
      "0 : 00000caa a22000002  4500\n",
      "1 : 00000cam a2200000u  4500\n",
      "2 : 00000cam a22000004  4500\n",
      "3 : 00000cam a22000002  4500\n",
      "4 : 00000cam a22000002  4500\n",
      "5 : 00000cam a22000004  4500\n",
      "6 : 00000cam a22000004  4500\n",
      "7 : 00000cas a22000002  4500\n",
      "8 : 00000cam a22000004  4500\n",
      "9 : 00000cam a22000004  4500\n"
     ]
    }
   ],
   "source": [
    "for i in range(len(df.collection)):\n",
    "    print(i, ':', df.collection[i]['leader'])"
   ]
  },
  {
   "cell_type": "code",
   "execution_count": 8,
   "metadata": {
    "scrolled": false
   },
   "outputs": [
    {
     "ename": "NameError",
     "evalue": "name 'df_dict' is not defined",
     "output_type": "error",
     "traceback": [
      "\u001b[0;31m---------------------------------------------------------------------------\u001b[0m",
      "\u001b[0;31mNameError\u001b[0m                                 Traceback (most recent call last)",
      "\u001b[0;32m<ipython-input-8-b5996b36b0f9>\u001b[0m in \u001b[0;36m<module>\u001b[0;34m\u001b[0m\n\u001b[1;32m      1\u001b[0m \u001b[0;32mfor\u001b[0m \u001b[0mi\u001b[0m \u001b[0;32min\u001b[0m \u001b[0mrange\u001b[0m\u001b[0;34m(\u001b[0m\u001b[0mlen\u001b[0m\u001b[0;34m(\u001b[0m\u001b[0mdf\u001b[0m\u001b[0;34m.\u001b[0m\u001b[0mcollection\u001b[0m\u001b[0;34m)\u001b[0m\u001b[0;34m)\u001b[0m\u001b[0;34m:\u001b[0m\u001b[0;34m\u001b[0m\u001b[0;34m\u001b[0m\u001b[0m\n\u001b[1;32m      2\u001b[0m     \u001b[0mdata_dict\u001b[0m \u001b[0;34m=\u001b[0m \u001b[0mdf\u001b[0m\u001b[0;34m.\u001b[0m\u001b[0mcollection\u001b[0m\u001b[0;34m[\u001b[0m\u001b[0mi\u001b[0m\u001b[0;34m]\u001b[0m\u001b[0;34m\u001b[0m\u001b[0;34m\u001b[0m\u001b[0m\n\u001b[0;32m----> 3\u001b[0;31m     \u001b[0;32mfor\u001b[0m \u001b[0mj\u001b[0m \u001b[0;32min\u001b[0m \u001b[0mdf_dict\u001b[0m\u001b[0;34m.\u001b[0m\u001b[0mkeys\u001b[0m\u001b[0;34m(\u001b[0m\u001b[0;34m)\u001b[0m\u001b[0;34m:\u001b[0m\u001b[0;34m\u001b[0m\u001b[0;34m\u001b[0m\u001b[0m\n\u001b[0m\u001b[1;32m      4\u001b[0m \u001b[0;31m#        print(i, j, df.collection[i][j])\u001b[0m\u001b[0;34m\u001b[0m\u001b[0;34m\u001b[0m\u001b[0;34m\u001b[0m\u001b[0m\n\u001b[1;32m      5\u001b[0m         \u001b[0;32mif\u001b[0m \u001b[0mj\u001b[0m \u001b[0;34m==\u001b[0m \u001b[0;34m'fields'\u001b[0m\u001b[0;34m:\u001b[0m\u001b[0;34m\u001b[0m\u001b[0;34m\u001b[0m\u001b[0m\n",
      "\u001b[0;31mNameError\u001b[0m: name 'df_dict' is not defined"
     ]
    }
   ],
   "source": [
    "for i in range(len(df.collection)):\n",
    "    data_dict = df.collection[i]\n",
    "    for j in df_dict.keys():\n",
    "#        print(i, j, df.collection[i][j])\n",
    "        if j == 'fields':\n",
    "            data_list = df.collection[i][j]\n",
    "            for k in range(len(data_list)):\n",
    "                print(data_list[k])"
   ]
  },
  {
   "cell_type": "markdown",
   "metadata": {},
   "source": [
    "## Einzelne Knotenpunkte abfragen"
   ]
  },
  {
   "cell_type": "code",
   "execution_count": null,
   "metadata": {
    "scrolled": true
   },
   "outputs": [],
   "source": [
    "col1 = []\n",
    "col2 = []\n",
    "\n",
    "for i in range(len(df_1.fields)):\n",
    "    df_2 = df_1.fields[i]\n",
    "    for j in range(len(df_2)):\n",
    "        if '100' in df_2[j]:\n",
    "            col1_res = df_2[j]['100'].values()\n",
    "            break\n",
    "        else:\n",
    "            col1_res = None\n",
    "    col1.append(col1_res)\n",
    "    for j in range(len(df_2)):\n",
    "        if '245' in df_2[j]:\n",
    "            col2_res = df_2[j]['245'].values()\n",
    "            break\n",
    "        else:\n",
    "            col2_res = None\n",
    "    col2.append(col2_res)\n",
    "\n",
    "print(len(col1), len(col2))"
   ]
  },
  {
   "cell_type": "code",
   "execution_count": null,
   "metadata": {
    "scrolled": false
   },
   "outputs": [],
   "source": [
    "print('col = 100')\n",
    "for i in range(len(col1)):\n",
    "    print(col1[i])\n",
    "\n",
    "print('\\ncol = 245')\n",
    "for i in range(len(col2)):\n",
    "    print(col2[i])"
   ]
  },
  {
   "cell_type": "markdown",
   "metadata": {},
   "source": [
    "Auf diese Art und Weise liesse sich ein DataFrame mit den relevanten Daten bauen.\n",
    "\n",
    "_Hinweis_ Es geht sicher noch einfacher."
   ]
  },
  {
   "cell_type": "code",
   "execution_count": null,
   "metadata": {},
   "outputs": [],
   "source": []
  }
 ],
 "metadata": {
  "kernelspec": {
   "display_name": "Python 3",
   "language": "python",
   "name": "python3"
  },
  "language_info": {
   "codemirror_mode": {
    "name": "ipython",
    "version": 3
   },
   "file_extension": ".py",
   "mimetype": "text/x-python",
   "name": "python",
   "nbconvert_exporter": "python",
   "pygments_lexer": "ipython3",
   "version": "3.7.1"
  }
 },
 "nbformat": 4,
 "nbformat_minor": 2
}
