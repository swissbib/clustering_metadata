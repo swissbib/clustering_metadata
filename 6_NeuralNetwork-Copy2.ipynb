{
 "cells": [
  {
   "cell_type": "markdown",
   "metadata": {},
   "source": [
    "# Neural Network Model"
   ]
  },
  {
   "cell_type": "markdown",
   "metadata": {},
   "source": []
  },
  {
   "cell_type": "markdown",
   "metadata": {},
   "source": [
    "## Table of Contents\n",
    "\n",
    "- [Data Takeover](#Data-Takeover)\n",
    "    - [Train/Test Split](#Train/Test-Split)\n",
    "- [Neural Network Implementation](#Neural-Network-Implementation)\n",
    "    - [Performance Measurement](#Performance-Measurement)"
   ]
  },
  {
   "cell_type": "markdown",
   "metadata": {},
   "source": [
    "## Data Takeover"
   ]
  },
  {
   "cell_type": "markdown",
   "metadata": {},
   "source": [
    "Read in DataFrame from chapter [Feature Matrix Generation](./3_FeatureMatrixGeneration.ipynb) as input for processing in this chapter."
   ]
  },
  {
   "cell_type": "code",
   "execution_count": 1,
   "metadata": {},
   "outputs": [
    {
     "data": {
      "text/html": [
       "<div>\n",
       "<style scoped>\n",
       "    .dataframe tbody tr th:only-of-type {\n",
       "        vertical-align: middle;\n",
       "    }\n",
       "\n",
       "    .dataframe tbody tr th {\n",
       "        vertical-align: top;\n",
       "    }\n",
       "\n",
       "    .dataframe thead th {\n",
       "        text-align: right;\n",
       "    }\n",
       "</style>\n",
       "<table border=\"1\" class=\"dataframe\">\n",
       "  <thead>\n",
       "    <tr style=\"text-align: right;\">\n",
       "      <th></th>\n",
       "      <th>duplicates</th>\n",
       "      <th>century_delta</th>\n",
       "      <th>edition_delta</th>\n",
       "      <th>format_prefix_delta</th>\n",
       "      <th>format_postfix_delta</th>\n",
       "      <th>person_245c_delta</th>\n",
       "      <th>ttlfull_245_delta</th>\n",
       "      <th>ttlfull_246_delta</th>\n",
       "      <th>volumes_delta</th>\n",
       "    </tr>\n",
       "  </thead>\n",
       "  <tbody>\n",
       "    <tr>\n",
       "      <th>0</th>\n",
       "      <td>1</td>\n",
       "      <td>1.0</td>\n",
       "      <td>1.0</td>\n",
       "      <td>1.0</td>\n",
       "      <td>1.0</td>\n",
       "      <td>1.000000</td>\n",
       "      <td>1.000000</td>\n",
       "      <td>1.0</td>\n",
       "      <td>1.0</td>\n",
       "    </tr>\n",
       "    <tr>\n",
       "      <th>1</th>\n",
       "      <td>1</td>\n",
       "      <td>1.0</td>\n",
       "      <td>1.0</td>\n",
       "      <td>1.0</td>\n",
       "      <td>1.0</td>\n",
       "      <td>0.818905</td>\n",
       "      <td>0.363636</td>\n",
       "      <td>1.0</td>\n",
       "      <td>1.0</td>\n",
       "    </tr>\n",
       "    <tr>\n",
       "      <th>2</th>\n",
       "      <td>1</td>\n",
       "      <td>1.0</td>\n",
       "      <td>1.0</td>\n",
       "      <td>1.0</td>\n",
       "      <td>1.0</td>\n",
       "      <td>0.697740</td>\n",
       "      <td>1.000000</td>\n",
       "      <td>1.0</td>\n",
       "      <td>1.0</td>\n",
       "    </tr>\n",
       "    <tr>\n",
       "      <th>3</th>\n",
       "      <td>1</td>\n",
       "      <td>1.0</td>\n",
       "      <td>1.0</td>\n",
       "      <td>1.0</td>\n",
       "      <td>1.0</td>\n",
       "      <td>0.818905</td>\n",
       "      <td>0.363636</td>\n",
       "      <td>1.0</td>\n",
       "      <td>1.0</td>\n",
       "    </tr>\n",
       "    <tr>\n",
       "      <th>4</th>\n",
       "      <td>1</td>\n",
       "      <td>1.0</td>\n",
       "      <td>1.0</td>\n",
       "      <td>1.0</td>\n",
       "      <td>1.0</td>\n",
       "      <td>1.000000</td>\n",
       "      <td>1.000000</td>\n",
       "      <td>1.0</td>\n",
       "      <td>1.0</td>\n",
       "    </tr>\n",
       "  </tbody>\n",
       "</table>\n",
       "</div>"
      ],
      "text/plain": [
       "   duplicates  century_delta  edition_delta  format_prefix_delta  \\\n",
       "0           1            1.0            1.0                  1.0   \n",
       "1           1            1.0            1.0                  1.0   \n",
       "2           1            1.0            1.0                  1.0   \n",
       "3           1            1.0            1.0                  1.0   \n",
       "4           1            1.0            1.0                  1.0   \n",
       "\n",
       "   format_postfix_delta  person_245c_delta  ttlfull_245_delta  \\\n",
       "0                   1.0           1.000000           1.000000   \n",
       "1                   1.0           0.818905           0.363636   \n",
       "2                   1.0           0.697740           1.000000   \n",
       "3                   1.0           0.818905           0.363636   \n",
       "4                   1.0           1.000000           1.000000   \n",
       "\n",
       "   ttlfull_246_delta  volumes_delta  \n",
       "0                1.0            1.0  \n",
       "1                1.0            1.0  \n",
       "2                1.0            1.0  \n",
       "3                1.0            1.0  \n",
       "4                1.0            1.0  "
      ]
     },
     "execution_count": 1,
     "metadata": {},
     "output_type": "execute_result"
    }
   ],
   "source": [
    "import os\n",
    "import pandas as pd\n",
    "\n",
    "path_goldstandard = './daten_goldstandard'\n",
    "\n",
    "# Restore results so far\n",
    "df_labelled_feature_matrix = pd.read_pickle(os.path.join(path_goldstandard,\n",
    "                                                         'labelled_feature_matrix.pkl'),\n",
    "                                 compression=None)\n",
    "\n",
    "df_labelled_feature_matrix.head()"
   ]
  },
  {
   "cell_type": "code",
   "execution_count": 2,
   "metadata": {},
   "outputs": [],
   "source": [
    "df_labelled_feature_matrix = pd.concat(\n",
    "    [df_labelled_feature_matrix[df_labelled_feature_matrix.duplicates==0].sample(\n",
    "        n=len(df_labelled_feature_matrix[df_labelled_feature_matrix.duplicates==0])//90\n",
    "    ),\n",
    "     df_labelled_feature_matrix[df_labelled_feature_matrix.duplicates==1]])"
   ]
  },
  {
   "cell_type": "code",
   "execution_count": 3,
   "metadata": {},
   "outputs": [
    {
     "name": "stdout",
     "output_type": "stream",
     "text": [
      "Part of duplicates (1) on uniques (2) in units of [%]\n",
      "0    66.161268\n",
      "1    33.838732\n",
      "Name: duplicates, dtype: float64\n"
     ]
    }
   ],
   "source": [
    "print('Part of duplicates (1) on uniques (2) in units of [%]')\n",
    "print(df_labelled_feature_matrix.duplicates.value_counts(normalize=True)*100)"
   ]
  },
  {
   "cell_type": "code",
   "execution_count": null,
   "metadata": {},
   "outputs": [],
   "source": []
  },
  {
   "cell_type": "code",
   "execution_count": null,
   "metadata": {},
   "outputs": [],
   "source": []
  },
  {
   "cell_type": "markdown",
   "metadata": {},
   "source": [
    "### Train/Test Split"
   ]
  },
  {
   "cell_type": "markdown",
   "metadata": {},
   "source": [
    "The train/test split will be implemented here as a general function to be called in the models chapters."
   ]
  },
  {
   "cell_type": "code",
   "execution_count": 4,
   "metadata": {},
   "outputs": [],
   "source": [
    "X = df_labelled_feature_matrix.drop(columns=['duplicates']).values\n",
    "y = df_labelled_feature_matrix.duplicates.values"
   ]
  },
  {
   "cell_type": "code",
   "execution_count": 5,
   "metadata": {},
   "outputs": [],
   "source": [
    "from sklearn.model_selection import train_test_split\n",
    "\n",
    "X_tr, X_te, y_tr, y_te = train_test_split(X, y, stratify=y, test_size=0.2, random_state=0)"
   ]
  },
  {
   "cell_type": "code",
   "execution_count": 6,
   "metadata": {},
   "outputs": [
    {
     "data": {
      "text/plain": [
       "(3482, 8)"
      ]
     },
     "execution_count": 6,
     "metadata": {},
     "output_type": "execute_result"
    }
   ],
   "source": [
    "X_tr.shape"
   ]
  },
  {
   "cell_type": "code",
   "execution_count": null,
   "metadata": {},
   "outputs": [],
   "source": []
  },
  {
   "cell_type": "markdown",
   "metadata": {},
   "source": [
    "## Neural Network Implementation"
   ]
  },
  {
   "cell_type": "code",
   "execution_count": 7,
   "metadata": {},
   "outputs": [
    {
     "name": "stderr",
     "output_type": "stream",
     "text": [
      "Using TensorFlow backend.\n"
     ]
    },
    {
     "name": "stdout",
     "output_type": "stream",
     "text": [
      "WARNING:tensorflow:From /Users/andreas/anaconda3/lib/python3.7/site-packages/tensorflow_core/python/ops/resource_variable_ops.py:1630: calling BaseResourceVariable.__init__ (from tensorflow.python.ops.resource_variable_ops) with constraint is deprecated and will be removed in a future version.\n",
      "Instructions for updating:\n",
      "If using Keras pass *_constraint arguments to layers.\n"
     ]
    },
    {
     "data": {
      "text/plain": [
       "{'name': 'sequential_1',\n",
       " 'layers': [{'class_name': 'Dense',\n",
       "   'config': {'name': 'dense_1',\n",
       "    'trainable': True,\n",
       "    'batch_input_shape': (None, 8),\n",
       "    'dtype': 'float32',\n",
       "    'units': 12,\n",
       "    'activation': 'relu',\n",
       "    'use_bias': True,\n",
       "    'kernel_initializer': {'class_name': 'VarianceScaling',\n",
       "     'config': {'scale': 2.0,\n",
       "      'mode': 'fan_in',\n",
       "      'distribution': 'normal',\n",
       "      'seed': 1}},\n",
       "    'bias_initializer': {'class_name': 'Zeros', 'config': {}},\n",
       "    'kernel_regularizer': {'class_name': 'L1L2',\n",
       "     'config': {'l1': 0.0, 'l2': 0.10000000149011612}},\n",
       "    'bias_regularizer': None,\n",
       "    'activity_regularizer': None,\n",
       "    'kernel_constraint': None,\n",
       "    'bias_constraint': None}},\n",
       "  {'class_name': 'Dropout',\n",
       "   'config': {'name': 'dropout_1',\n",
       "    'trainable': True,\n",
       "    'dtype': 'float32',\n",
       "    'rate': 0.25,\n",
       "    'noise_shape': None,\n",
       "    'seed': 0}},\n",
       "  {'class_name': 'Dense',\n",
       "   'config': {'name': 'dense_2',\n",
       "    'trainable': True,\n",
       "    'dtype': 'float32',\n",
       "    'units': 2,\n",
       "    'activation': 'sigmoid',\n",
       "    'use_bias': True,\n",
       "    'kernel_initializer': {'class_name': 'VarianceScaling',\n",
       "     'config': {'scale': 1,\n",
       "      'mode': 'fan_in',\n",
       "      'distribution': 'normal',\n",
       "      'seed': 1}},\n",
       "    'bias_initializer': {'class_name': 'Zeros', 'config': {}},\n",
       "    'kernel_regularizer': {'class_name': 'L1L2',\n",
       "     'config': {'l1': 0.0, 'l2': 0.10000000149011612}},\n",
       "    'bias_regularizer': None,\n",
       "    'activity_regularizer': None,\n",
       "    'kernel_constraint': None,\n",
       "    'bias_constraint': None}}]}"
      ]
     },
     "execution_count": 7,
     "metadata": {},
     "output_type": "execute_result"
    }
   ],
   "source": [
    "from keras.models import Sequential\n",
    "from keras.layers import Dense, Dropout\n",
    "from keras.initializers import VarianceScaling\n",
    "from keras.regularizers import l2\n",
    "from keras.optimizers import SGD\n",
    "\n",
    "l2_alpha = 0.1\n",
    "sgd_learnrate = 0.05\n",
    "\n",
    "# Input layer\n",
    "hidden = Dense(\n",
    "    12, # Number of units for hidden layer\n",
    "    input_shape=(X_tr.shape[1],),\n",
    "    activation='relu',\n",
    "    kernel_initializer=VarianceScaling(scale=2.0, seed=0),\n",
    "    kernel_regularizer=l2(l2_alpha),\n",
    "    bias_initializer='zeros'\n",
    ")\n",
    "\n",
    "# With dropout layer\n",
    "dropout = Dropout(\n",
    "    rate=0.25,\n",
    "    seed=0\n",
    ")\n",
    "\n",
    "# Output layer\n",
    "output = Dense(\n",
    "    2,\n",
    "    activation='sigmoid', # Bring out 0 or 1 values\n",
    "    kernel_initializer=VarianceScaling(scale=1, seed=0),\n",
    "    kernel_regularizer=l2(l2_alpha),\n",
    "    bias_initializer='zeros'\n",
    ")\n",
    "\n",
    "# Create model with sequential API\n",
    "model = Sequential()\n",
    "model.add( hidden ) # Hidden layer\n",
    "model.add( dropout ) # Dropout\n",
    "model.add( output ) # Output layer\n",
    "\n",
    "# The optimizer is to be SGD\n",
    "sgd = SGD(lr=sgd_learnrate)\n",
    "\n",
    "# Compile model\n",
    "model.compile(\n",
    "    loss='categorical_crossentropy',\n",
    "    optimizer=sgd,\n",
    "    metrics=['accuracy']\n",
    "#    metrics=['categorical_accuracy']\n",
    ")\n",
    "\n",
    "# Check Model configuration\n",
    "model.get_config()"
   ]
  },
  {
   "cell_type": "code",
   "execution_count": 8,
   "metadata": {
    "scrolled": false
   },
   "outputs": [
    {
     "name": "stdout",
     "output_type": "stream",
     "text": [
      "WARNING:tensorflow:From /Users/andreas/anaconda3/lib/python3.7/site-packages/tensorflow_core/python/ops/math_grad.py:1424: where (from tensorflow.python.ops.array_ops) is deprecated and will be removed in a future version.\n",
      "Instructions for updating:\n",
      "Use tf.where in 2.0, which has the same broadcast rule as np.where\n",
      "WARNING:tensorflow:From /Users/andreas/anaconda3/lib/python3.7/site-packages/keras/backend/tensorflow_backend.py:422: The name tf.global_variables is deprecated. Please use tf.compat.v1.global_variables instead.\n",
      "\n",
      "Train on 3482 samples, validate on 871 samples\n",
      "Epoch 1/100\n",
      "3482/3482 [==============================] - 1s 221us/step - loss: 2.5277 - accuracy: 0.7392 - val_loss: 1.4871 - val_accuracy: 0.9208\n",
      "Epoch 2/100\n",
      "3482/3482 [==============================] - 0s 55us/step - loss: 1.0974 - accuracy: 0.8099 - val_loss: 0.8404 - val_accuracy: 0.6613\n",
      "Epoch 3/100\n",
      "3482/3482 [==============================] - 0s 55us/step - loss: 0.7483 - accuracy: 0.6617 - val_loss: 0.6861 - val_accuracy: 0.6613\n",
      "Epoch 4/100\n",
      "3482/3482 [==============================] - 0s 47us/step - loss: 0.6618 - accuracy: 0.6617 - val_loss: 0.6447 - val_accuracy: 0.6613\n",
      "Epoch 5/100\n",
      "3482/3482 [==============================] - 0s 47us/step - loss: 0.6390 - accuracy: 0.6617 - val_loss: 0.6321 - val_accuracy: 0.6613\n",
      "Epoch 6/100\n",
      "3482/3482 [==============================] - 0s 48us/step - loss: 0.6301 - accuracy: 0.6617 - val_loss: 0.6265 - val_accuracy: 0.6613\n",
      "Epoch 7/100\n",
      "3482/3482 [==============================] - 0s 47us/step - loss: 0.6248 - accuracy: 0.6617 - val_loss: 0.6222 - val_accuracy: 0.6613\n",
      "Epoch 8/100\n",
      "3482/3482 [==============================] - 0s 44us/step - loss: 0.6230 - accuracy: 0.6617 - val_loss: 0.6184 - val_accuracy: 0.6613\n",
      "Epoch 9/100\n",
      "3482/3482 [==============================] - 0s 48us/step - loss: 0.6180 - accuracy: 0.6643 - val_loss: 0.6143 - val_accuracy: 0.6613\n",
      "Epoch 10/100\n",
      "3482/3482 [==============================] - 0s 47us/step - loss: 0.6139 - accuracy: 0.7076 - val_loss: 0.6090 - val_accuracy: 0.6613\n",
      "Epoch 11/100\n",
      "3482/3482 [==============================] - 0s 46us/step - loss: 0.6125 - accuracy: 0.7863 - val_loss: 0.6048 - val_accuracy: 0.6613\n",
      "Epoch 12/100\n",
      "3482/3482 [==============================] - 0s 47us/step - loss: 0.6067 - accuracy: 0.7955 - val_loss: 0.5992 - val_accuracy: 0.6613\n",
      "Epoch 13/100\n",
      "3482/3482 [==============================] - 0s 50us/step - loss: 0.6015 - accuracy: 0.8211 - val_loss: 0.5944 - val_accuracy: 0.6613\n",
      "Epoch 14/100\n",
      "3482/3482 [==============================] - 0s 47us/step - loss: 0.6007 - accuracy: 0.8199 - val_loss: 0.5892 - val_accuracy: 0.8370\n",
      "Epoch 15/100\n",
      "3482/3482 [==============================] - 0s 48us/step - loss: 0.5958 - accuracy: 0.8343 - val_loss: 0.5846 - val_accuracy: 0.8622\n",
      "Epoch 16/100\n",
      "3482/3482 [==============================] - 0s 48us/step - loss: 0.5894 - accuracy: 0.8443 - val_loss: 0.5788 - val_accuracy: 0.9070\n",
      "Epoch 17/100\n",
      "3482/3482 [==============================] - 0s 48us/step - loss: 0.5842 - accuracy: 0.8578 - val_loss: 0.5743 - val_accuracy: 0.9127\n",
      "Epoch 18/100\n",
      "3482/3482 [==============================] - 0s 47us/step - loss: 0.5866 - accuracy: 0.8509 - val_loss: 0.5705 - val_accuracy: 0.9426\n",
      "Epoch 19/100\n",
      "3482/3482 [==============================] - 0s 50us/step - loss: 0.5786 - accuracy: 0.8596 - val_loss: 0.5671 - val_accuracy: 0.9231\n",
      "Epoch 20/100\n",
      "3482/3482 [==============================] - 0s 48us/step - loss: 0.5769 - accuracy: 0.8624 - val_loss: 0.5635 - val_accuracy: 0.9311\n",
      "Epoch 21/100\n",
      "3482/3482 [==============================] - 0s 49us/step - loss: 0.5740 - accuracy: 0.8610 - val_loss: 0.5602 - val_accuracy: 0.9495\n",
      "Epoch 22/100\n",
      "3482/3482 [==============================] - 0s 56us/step - loss: 0.5698 - accuracy: 0.8762 - val_loss: 0.5574 - val_accuracy: 0.9426\n",
      "Epoch 23/100\n",
      "3482/3482 [==============================] - 0s 48us/step - loss: 0.5661 - accuracy: 0.8854 - val_loss: 0.5541 - val_accuracy: 0.9518\n",
      "Epoch 24/100\n",
      "3482/3482 [==============================] - 0s 53us/step - loss: 0.5669 - accuracy: 0.8848 - val_loss: 0.5521 - val_accuracy: 0.9506\n",
      "Epoch 25/100\n",
      "3482/3482 [==============================] - 0s 49us/step - loss: 0.5658 - accuracy: 0.8880 - val_loss: 0.5521 - val_accuracy: 0.9219\n",
      "Epoch 26/100\n",
      "3482/3482 [==============================] - 0s 48us/step - loss: 0.5622 - accuracy: 0.8886 - val_loss: 0.5486 - val_accuracy: 0.9437\n",
      "Epoch 27/100\n",
      "3482/3482 [==============================] - 0s 53us/step - loss: 0.5611 - accuracy: 0.8923 - val_loss: 0.5458 - val_accuracy: 0.9529\n",
      "Epoch 28/100\n",
      "3482/3482 [==============================] - 0s 46us/step - loss: 0.5576 - accuracy: 0.8983 - val_loss: 0.5436 - val_accuracy: 0.9633\n",
      "Epoch 29/100\n",
      "3482/3482 [==============================] - 0s 48us/step - loss: 0.5547 - accuracy: 0.8998 - val_loss: 0.5440 - val_accuracy: 0.9414\n",
      "Epoch 30/100\n",
      "3482/3482 [==============================] - 0s 45us/step - loss: 0.5566 - accuracy: 0.8969 - val_loss: 0.5416 - val_accuracy: 0.9529\n",
      "Epoch 31/100\n",
      "3482/3482 [==============================] - 0s 51us/step - loss: 0.5536 - accuracy: 0.8992 - val_loss: 0.5393 - val_accuracy: 0.9633\n",
      "Epoch 32/100\n",
      "3482/3482 [==============================] - 0s 49us/step - loss: 0.5501 - accuracy: 0.9001 - val_loss: 0.5383 - val_accuracy: 0.9541\n",
      "Epoch 33/100\n",
      "3482/3482 [==============================] - 0s 52us/step - loss: 0.5523 - accuracy: 0.8923 - val_loss: 0.5365 - val_accuracy: 0.9667\n",
      "Epoch 34/100\n",
      "3482/3482 [==============================] - 0s 49us/step - loss: 0.5511 - accuracy: 0.8992 - val_loss: 0.5353 - val_accuracy: 0.9667\n",
      "Epoch 35/100\n",
      "3482/3482 [==============================] - 0s 48us/step - loss: 0.5450 - accuracy: 0.9047 - val_loss: 0.5344 - val_accuracy: 0.9575\n",
      "Epoch 36/100\n",
      "3482/3482 [==============================] - 0s 47us/step - loss: 0.5525 - accuracy: 0.8889 - val_loss: 0.5337 - val_accuracy: 0.9552\n",
      "Epoch 37/100\n",
      "3482/3482 [==============================] - 0s 47us/step - loss: 0.5460 - accuracy: 0.8966 - val_loss: 0.5323 - val_accuracy: 0.9690\n",
      "Epoch 38/100\n",
      "3482/3482 [==============================] - 0s 48us/step - loss: 0.5473 - accuracy: 0.8952 - val_loss: 0.5315 - val_accuracy: 0.9633\n",
      "Epoch 39/100\n",
      "3482/3482 [==============================] - 0s 50us/step - loss: 0.5453 - accuracy: 0.8935 - val_loss: 0.5310 - val_accuracy: 0.9575\n",
      "Epoch 40/100\n",
      "3482/3482 [==============================] - 0s 50us/step - loss: 0.5437 - accuracy: 0.8926 - val_loss: 0.5298 - val_accuracy: 0.9633\n",
      "Epoch 41/100\n",
      "3482/3482 [==============================] - 0s 47us/step - loss: 0.5436 - accuracy: 0.8975 - val_loss: 0.5295 - val_accuracy: 0.9667\n",
      "Epoch 42/100\n",
      "3482/3482 [==============================] - 0s 53us/step - loss: 0.5483 - accuracy: 0.8866 - val_loss: 0.5286 - val_accuracy: 0.9667\n",
      "Epoch 43/100\n",
      "3482/3482 [==============================] - 0s 49us/step - loss: 0.5439 - accuracy: 0.8937 - val_loss: 0.5278 - val_accuracy: 0.9690\n",
      "Epoch 44/100\n",
      "3482/3482 [==============================] - 0s 58us/step - loss: 0.5468 - accuracy: 0.8914 - val_loss: 0.5272 - val_accuracy: 0.9667\n",
      "Epoch 45/100\n",
      "3482/3482 [==============================] - 0s 52us/step - loss: 0.5472 - accuracy: 0.8966 - val_loss: 0.5269 - val_accuracy: 0.9644\n",
      "Epoch 46/100\n",
      "3482/3482 [==============================] - 0s 50us/step - loss: 0.5407 - accuracy: 0.9021 - val_loss: 0.5263 - val_accuracy: 0.9633\n",
      "Epoch 47/100\n",
      "3482/3482 [==============================] - 0s 49us/step - loss: 0.5385 - accuracy: 0.9035 - val_loss: 0.5255 - val_accuracy: 0.9633\n",
      "Epoch 48/100\n",
      "3482/3482 [==============================] - 0s 49us/step - loss: 0.5397 - accuracy: 0.9018 - val_loss: 0.5261 - val_accuracy: 0.9541\n",
      "Epoch 49/100\n",
      "3482/3482 [==============================] - 0s 58us/step - loss: 0.5434 - accuracy: 0.8926 - val_loss: 0.5245 - val_accuracy: 0.9644\n",
      "Epoch 50/100\n",
      "3482/3482 [==============================] - 0s 61us/step - loss: 0.5394 - accuracy: 0.8926 - val_loss: 0.5245 - val_accuracy: 0.9690\n",
      "Epoch 51/100\n",
      "3482/3482 [==============================] - 0s 54us/step - loss: 0.5387 - accuracy: 0.8963 - val_loss: 0.5234 - val_accuracy: 0.9667\n",
      "Epoch 52/100\n",
      "3482/3482 [==============================] - 0s 49us/step - loss: 0.5392 - accuracy: 0.8940 - val_loss: 0.5238 - val_accuracy: 0.9552\n"
     ]
    },
    {
     "name": "stdout",
     "output_type": "stream",
     "text": [
      "Epoch 53/100\n",
      "3482/3482 [==============================] - 0s 55us/step - loss: 0.5373 - accuracy: 0.9018 - val_loss: 0.5229 - val_accuracy: 0.9633\n",
      "Epoch 54/100\n",
      "3482/3482 [==============================] - 0s 46us/step - loss: 0.5400 - accuracy: 0.8940 - val_loss: 0.5221 - val_accuracy: 0.9667\n",
      "Epoch 55/100\n",
      "3482/3482 [==============================] - 0s 54us/step - loss: 0.5312 - accuracy: 0.9075 - val_loss: 0.5216 - val_accuracy: 0.9724\n",
      "Epoch 56/100\n",
      "3482/3482 [==============================] - 0s 51us/step - loss: 0.5377 - accuracy: 0.9084 - val_loss: 0.5229 - val_accuracy: 0.9541\n",
      "Epoch 57/100\n",
      "3482/3482 [==============================] - 0s 51us/step - loss: 0.5338 - accuracy: 0.9075 - val_loss: 0.5213 - val_accuracy: 0.9633\n",
      "Epoch 58/100\n",
      "3482/3482 [==============================] - 0s 54us/step - loss: 0.5396 - accuracy: 0.8952 - val_loss: 0.5205 - val_accuracy: 0.9667\n",
      "Epoch 59/100\n",
      "3482/3482 [==============================] - 0s 57us/step - loss: 0.5364 - accuracy: 0.9038 - val_loss: 0.5203 - val_accuracy: 0.9667\n",
      "Epoch 60/100\n",
      "3482/3482 [==============================] - 0s 45us/step - loss: 0.5329 - accuracy: 0.9078 - val_loss: 0.5199 - val_accuracy: 0.9690\n",
      "Epoch 61/100\n",
      "3482/3482 [==============================] - 0s 51us/step - loss: 0.5385 - accuracy: 0.9015 - val_loss: 0.5206 - val_accuracy: 0.9633\n",
      "Epoch 62/100\n",
      "3482/3482 [==============================] - 0s 52us/step - loss: 0.5362 - accuracy: 0.9024 - val_loss: 0.5195 - val_accuracy: 0.9667\n",
      "Epoch 63/100\n",
      "3482/3482 [==============================] - 0s 51us/step - loss: 0.5386 - accuracy: 0.9024 - val_loss: 0.5205 - val_accuracy: 0.9564\n",
      "Epoch 64/100\n",
      "3482/3482 [==============================] - 0s 55us/step - loss: 0.5356 - accuracy: 0.9070 - val_loss: 0.5204 - val_accuracy: 0.9541\n",
      "Epoch 65/100\n",
      "3482/3482 [==============================] - 0s 49us/step - loss: 0.5340 - accuracy: 0.9104 - val_loss: 0.5190 - val_accuracy: 0.9644\n",
      "Epoch 66/100\n",
      "3482/3482 [==============================] - 0s 60us/step - loss: 0.5298 - accuracy: 0.9095 - val_loss: 0.5186 - val_accuracy: 0.9701\n",
      "Epoch 67/100\n",
      "3482/3482 [==============================] - 0s 48us/step - loss: 0.5317 - accuracy: 0.9170 - val_loss: 0.5188 - val_accuracy: 0.9610\n",
      "Epoch 68/100\n",
      "3482/3482 [==============================] - 0s 50us/step - loss: 0.5306 - accuracy: 0.9124 - val_loss: 0.5177 - val_accuracy: 0.9724\n",
      "Epoch 69/100\n",
      "3482/3482 [==============================] - 0s 50us/step - loss: 0.5336 - accuracy: 0.9193 - val_loss: 0.5175 - val_accuracy: 0.9667\n",
      "Epoch 70/100\n",
      "3482/3482 [==============================] - 0s 56us/step - loss: 0.5312 - accuracy: 0.9144 - val_loss: 0.5172 - val_accuracy: 0.9690\n",
      "Epoch 71/100\n",
      "3482/3482 [==============================] - 0s 57us/step - loss: 0.5295 - accuracy: 0.9176 - val_loss: 0.5168 - val_accuracy: 0.9667\n",
      "Epoch 72/100\n",
      "3482/3482 [==============================] - 0s 48us/step - loss: 0.5322 - accuracy: 0.9207 - val_loss: 0.5167 - val_accuracy: 0.9667\n",
      "Epoch 73/100\n",
      "3482/3482 [==============================] - 0s 51us/step - loss: 0.5327 - accuracy: 0.9199 - val_loss: 0.5174 - val_accuracy: 0.9575\n",
      "Epoch 74/100\n",
      "3482/3482 [==============================] - 0s 51us/step - loss: 0.5333 - accuracy: 0.9101 - val_loss: 0.5162 - val_accuracy: 0.9667\n",
      "Epoch 75/100\n",
      "3482/3482 [==============================] - 0s 52us/step - loss: 0.5301 - accuracy: 0.9236 - val_loss: 0.5163 - val_accuracy: 0.9667\n",
      "Epoch 76/100\n",
      "3482/3482 [==============================] - 0s 51us/step - loss: 0.5314 - accuracy: 0.9219 - val_loss: 0.5156 - val_accuracy: 0.9667\n",
      "Epoch 77/100\n",
      "3482/3482 [==============================] - 0s 48us/step - loss: 0.5325 - accuracy: 0.9184 - val_loss: 0.5162 - val_accuracy: 0.9701\n",
      "Epoch 78/100\n",
      "3482/3482 [==============================] - 0s 52us/step - loss: 0.5290 - accuracy: 0.9225 - val_loss: 0.5159 - val_accuracy: 0.9690\n",
      "Epoch 79/100\n",
      "3482/3482 [==============================] - 0s 52us/step - loss: 0.5272 - accuracy: 0.9207 - val_loss: 0.5151 - val_accuracy: 0.9667\n",
      "Epoch 80/100\n",
      "3482/3482 [==============================] - 0s 52us/step - loss: 0.5275 - accuracy: 0.9207 - val_loss: 0.5155 - val_accuracy: 0.9633\n",
      "Epoch 81/100\n",
      "3482/3482 [==============================] - 0s 53us/step - loss: 0.5263 - accuracy: 0.9227 - val_loss: 0.5144 - val_accuracy: 0.9690\n",
      "Epoch 82/100\n",
      "3482/3482 [==============================] - 0s 58us/step - loss: 0.5285 - accuracy: 0.9271 - val_loss: 0.5152 - val_accuracy: 0.9633\n",
      "Epoch 83/100\n",
      "3482/3482 [==============================] - 0s 51us/step - loss: 0.5239 - accuracy: 0.9276 - val_loss: 0.5149 - val_accuracy: 0.9690\n",
      "Epoch 84/100\n",
      "3482/3482 [==============================] - 0s 51us/step - loss: 0.5280 - accuracy: 0.9213 - val_loss: 0.5139 - val_accuracy: 0.9667\n",
      "Epoch 85/100\n",
      "3482/3482 [==============================] - 0s 51us/step - loss: 0.5267 - accuracy: 0.9311 - val_loss: 0.5138 - val_accuracy: 0.9690\n",
      "Epoch 86/100\n",
      "3482/3482 [==============================] - 0s 52us/step - loss: 0.5251 - accuracy: 0.9236 - val_loss: 0.5136 - val_accuracy: 0.9690\n",
      "Epoch 87/100\n",
      "3482/3482 [==============================] - 0s 52us/step - loss: 0.5297 - accuracy: 0.9239 - val_loss: 0.5146 - val_accuracy: 0.9724\n",
      "Epoch 88/100\n",
      "3482/3482 [==============================] - 0s 54us/step - loss: 0.5275 - accuracy: 0.9173 - val_loss: 0.5141 - val_accuracy: 0.9644\n",
      "Epoch 89/100\n",
      "3482/3482 [==============================] - 0s 53us/step - loss: 0.5285 - accuracy: 0.9245 - val_loss: 0.5138 - val_accuracy: 0.9701\n",
      "Epoch 90/100\n",
      "3482/3482 [==============================] - 0s 50us/step - loss: 0.5240 - accuracy: 0.9308 - val_loss: 0.5139 - val_accuracy: 0.9633\n",
      "Epoch 91/100\n",
      "3482/3482 [==============================] - 0s 52us/step - loss: 0.5266 - accuracy: 0.9262 - val_loss: 0.5136 - val_accuracy: 0.9667\n",
      "Epoch 92/100\n",
      "3482/3482 [==============================] - 0s 53us/step - loss: 0.5208 - accuracy: 0.9296 - val_loss: 0.5128 - val_accuracy: 0.9690\n",
      "Epoch 93/100\n",
      "3482/3482 [==============================] - 0s 55us/step - loss: 0.5277 - accuracy: 0.9233 - val_loss: 0.5130 - val_accuracy: 0.9644\n",
      "Epoch 94/100\n",
      "3482/3482 [==============================] - 0s 49us/step - loss: 0.5267 - accuracy: 0.9296 - val_loss: 0.5134 - val_accuracy: 0.9633\n",
      "Epoch 95/100\n",
      "3482/3482 [==============================] - 0s 52us/step - loss: 0.5236 - accuracy: 0.9271 - val_loss: 0.5128 - val_accuracy: 0.9644\n",
      "Epoch 96/100\n",
      "3482/3482 [==============================] - 0s 51us/step - loss: 0.5271 - accuracy: 0.9236 - val_loss: 0.5123 - val_accuracy: 0.9701\n",
      "Epoch 97/100\n",
      "3482/3482 [==============================] - 0s 55us/step - loss: 0.5245 - accuracy: 0.9328 - val_loss: 0.5121 - val_accuracy: 0.9690\n",
      "Epoch 98/100\n",
      "3482/3482 [==============================] - 0s 48us/step - loss: 0.5268 - accuracy: 0.9276 - val_loss: 0.5128 - val_accuracy: 0.9724\n",
      "Epoch 99/100\n",
      "3482/3482 [==============================] - 0s 49us/step - loss: 0.5242 - accuracy: 0.9316 - val_loss: 0.5140 - val_accuracy: 0.9529\n",
      "Epoch 100/100\n",
      "3482/3482 [==============================] - 0s 49us/step - loss: 0.5238 - accuracy: 0.9291 - val_loss: 0.5118 - val_accuracy: 0.9667\n"
     ]
    }
   ],
   "source": [
    "from keras.utils import to_categorical\n",
    "\n",
    "# Parameters for fitting with batches and epochs\n",
    "epochs = 100\n",
    "batch_size = 50\n",
    "# Stay with the four logits and do not reduce to one categorical integer\n",
    "y_tr_2 = to_categorical(y_tr)\n",
    "y_val_2 = to_categorical(y_te)\n",
    "\n",
    "# Fit the model\n",
    "history = model.fit(\n",
    "    x=X_tr, y=y_tr_2,\n",
    "    batch_size=batch_size, epochs=epochs,\n",
    "    validation_data=(X_te, y_val_2)\n",
    ")"
   ]
  },
  {
   "cell_type": "code",
   "execution_count": 9,
   "metadata": {},
   "outputs": [
    {
     "data": {
      "text/plain": [
       "(array([[0., 1.],\n",
       "        [1., 0.],\n",
       "        [1., 0.],\n",
       "        ...,\n",
       "        [0., 1.],\n",
       "        [1., 0.],\n",
       "        [1., 0.]], dtype=float32), array([[0., 1.],\n",
       "        [1., 0.],\n",
       "        [1., 0.],\n",
       "        ...,\n",
       "        [0., 1.],\n",
       "        [1., 0.],\n",
       "        [1., 0.]], dtype=float32))"
      ]
     },
     "execution_count": 9,
     "metadata": {},
     "output_type": "execute_result"
    }
   ],
   "source": [
    "y_tr_2, y_val_2"
   ]
  },
  {
   "cell_type": "code",
   "execution_count": 10,
   "metadata": {},
   "outputs": [],
   "source": [
    "#from keras.utils import plot_model\n",
    "\n",
    "#plot_model(model, show_shapes=True, dpi=72)"
   ]
  },
  {
   "cell_type": "code",
   "execution_count": 11,
   "metadata": {},
   "outputs": [
    {
     "data": {
      "image/png": "[encoded data removed]",
      "text/plain": [
       "<Figure size 432x288 with 1 Axes>"
      ]
     },
     "metadata": {
      "needs_background": "light"
     },
     "output_type": "display_data"
    }
   ],
   "source": [
    "import matplotlib.pyplot as plt\n",
    "\n",
    "plt.plot(history.history['accuracy'], label='training accuracy')\n",
    "plt.plot(history.history['val_accuracy'], label='validation accuracy')\n",
    "plt.legend()\n",
    "plt.title(r'Bilayer neural network with lr = {} and $\\alpha=${}'.format(\n",
    "    sgd_learnrate, l2_alpha)\n",
    ")\n",
    "plt.xlabel('epoch')\n",
    "plt.ylabel('accuracy')\n",
    "plt.show()"
   ]
  },
  {
   "cell_type": "code",
   "execution_count": 12,
   "metadata": {},
   "outputs": [
    {
     "name": "stdout",
     "output_type": "stream",
     "text": [
      "Mean last 5 validation accuracy : 0.966\n",
      "Neural network accuracy (test set): 0.967\n"
     ]
    }
   ],
   "source": [
    "import numpy as np\n",
    "\n",
    "no_last = 5 # I take the last 5 due to the upwards shape of the curve at its end\n",
    "print('Mean last {:d} validation accuracy : {:.3f}'.format(\n",
    "    no_last, np.mean(history.history['val_accuracy'][-no_last:])\n",
    "))\n",
    "\n",
    "print('Neural network accuracy (test set): {:.3f}'.format(\n",
    "    model.evaluate(X_te, to_categorical(y_te),\n",
    "                   verbose=0)[1] # Loss is at index=0, accuracy at index=1\n",
    "))"
   ]
  },
  {
   "cell_type": "code",
   "execution_count": 13,
   "metadata": {},
   "outputs": [
    {
     "data": {
      "text/plain": [
       "0"
      ]
     },
     "execution_count": 13,
     "metadata": {},
     "output_type": "execute_result"
    }
   ],
   "source": [
    "y_pred = model.predict_classes(X_te)\n",
    "\n",
    "min(y_pred)"
   ]
  },
  {
   "cell_type": "markdown",
   "metadata": {},
   "source": [
    "### Performance Measurement"
   ]
  },
  {
   "cell_type": "code",
   "execution_count": 14,
   "metadata": {},
   "outputs": [
    {
     "data": {
      "text/plain": [
       "array([[573,   3],\n",
       "       [ 26, 269]])"
      ]
     },
     "execution_count": 14,
     "metadata": {},
     "output_type": "execute_result"
    }
   ],
   "source": [
    "from sklearn.metrics import confusion_matrix\n",
    "\n",
    "confusion_matrix(y_te, y_pred)"
   ]
  },
  {
   "cell_type": "code",
   "execution_count": 15,
   "metadata": {},
   "outputs": [
    {
     "name": "stdout",
     "output_type": "stream",
     "text": [
      "Area under the curve 95.3% - accuracy 96.7% - precision 98.9% - recall 91.2%\n"
     ]
    }
   ],
   "source": [
    "from sklearn.metrics import roc_auc_score, accuracy_score, precision_score, recall_score\n",
    "from keras.metrics import accuracy\n",
    "\n",
    "#print('Score {:.1f}%'.format(100*accuracy_score(X_te, y_te)))\n",
    "print('Area under the curve {:.1f}% - accuracy {:.1f}% - precision {:.1f}% - recall {:.1f}%'.format(100*roc_auc_score(y_te, y_pred),\n",
    "                100*accuracy_score(y_te, y_pred),\n",
    "                100*precision_score(y_te, y_pred),\n",
    "                100*recall_score(y_te, y_pred)\n",
    "               ))"
   ]
  },
  {
   "cell_type": "code",
   "execution_count": null,
   "metadata": {},
   "outputs": [],
   "source": []
  },
  {
   "cell_type": "markdown",
   "metadata": {},
   "source": [
    "## Results Handover"
   ]
  },
  {
   "cell_type": "code",
   "execution_count": 16,
   "metadata": {},
   "outputs": [],
   "source": [
    "# Restore results so far\n",
    "df_result = pd.read_pickle(os.path.join(path_goldstandard,\n",
    "                                        'results.pkl'), compression=None)\n"
   ]
  },
  {
   "cell_type": "code",
   "execution_count": 17,
   "metadata": {},
   "outputs": [],
   "source": [
    "# Add result of this section\n",
    "df_result = df_result.append(pd.DataFrame.from_dict({\n",
    "    'model': ['Neural Network'],\n",
    "    'test_score' : [0.0],\n",
    "    'auc' : [100*roc_auc_score(y_te, y_pred)],\n",
    "    'accuracy' : [100*accuracy_score(y_te, y_pred)],\n",
    "    'precision' : [100*precision_score(y_te, y_pred)],\n",
    "    'recall' : [100*recall_score(y_te, y_pred)]\n",
    "}))\n",
    "\n",
    "# Save full DataFrame into pickle file\n",
    "df_result.to_pickle(os.path.join(path_goldstandard,\n",
    "                                 'results.pkl'), compression=None)"
   ]
  },
  {
   "cell_type": "code",
   "execution_count": null,
   "metadata": {},
   "outputs": [],
   "source": []
  }
 ],
 "metadata": {
  "kernelspec": {
   "display_name": "Python 3",
   "language": "python",
   "name": "python3"
  },
  "language_info": {
   "codemirror_mode": {
    "name": "ipython",
    "version": 3
   },
   "file_extension": ".py",
   "mimetype": "text/x-python",
   "name": "python",
   "nbconvert_exporter": "python",
   "pygments_lexer": "ipython3",
   "version": "3.7.1"
  }
 },
 "nbformat": 4,
 "nbformat_minor": 2
}
