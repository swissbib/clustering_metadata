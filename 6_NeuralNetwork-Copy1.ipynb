{
 "cells": [
  {
   "cell_type": "markdown",
   "metadata": {},
   "source": [
    "# Neural Network Model"
   ]
  },
  {
   "cell_type": "markdown",
   "metadata": {},
   "source": []
  },
  {
   "cell_type": "markdown",
   "metadata": {},
   "source": [
    "## Table of Contents\n",
    "\n",
    "- [Data Takeover](#Data-Takeover)\n",
    "    - [Train/Test Split](#Train/Test-Split)\n",
    "- [Neural Network Implementation](#Neural-Network-Implementation)\n",
    "    - [Performance Measurement](#Performance-Measurement)"
   ]
  },
  {
   "cell_type": "markdown",
   "metadata": {},
   "source": [
    "## Data Takeover"
   ]
  },
  {
   "cell_type": "markdown",
   "metadata": {},
   "source": [
    "Read in DataFrame from chapter [Feature Matrix Generation](./3_FeatureMatrixGeneration.ipynb) as input for processing in this chapter."
   ]
  },
  {
   "cell_type": "code",
   "execution_count": 1,
   "metadata": {},
   "outputs": [
    {
     "data": {
      "text/html": [
       "<div>\n",
       "<style scoped>\n",
       "    .dataframe tbody tr th:only-of-type {\n",
       "        vertical-align: middle;\n",
       "    }\n",
       "\n",
       "    .dataframe tbody tr th {\n",
       "        vertical-align: top;\n",
       "    }\n",
       "\n",
       "    .dataframe thead th {\n",
       "        text-align: right;\n",
       "    }\n",
       "</style>\n",
       "<table border=\"1\" class=\"dataframe\">\n",
       "  <thead>\n",
       "    <tr style=\"text-align: right;\">\n",
       "      <th></th>\n",
       "      <th>duplicates</th>\n",
       "      <th>century_delta</th>\n",
       "      <th>edition_delta</th>\n",
       "      <th>format_prefix_delta</th>\n",
       "      <th>format_postfix_delta</th>\n",
       "      <th>person_245c_delta</th>\n",
       "      <th>ttlfull_245_delta</th>\n",
       "      <th>ttlfull_246_delta</th>\n",
       "      <th>volumes_delta</th>\n",
       "    </tr>\n",
       "  </thead>\n",
       "  <tbody>\n",
       "    <tr>\n",
       "      <th>0</th>\n",
       "      <td>1</td>\n",
       "      <td>1.0</td>\n",
       "      <td>1.0</td>\n",
       "      <td>1.0</td>\n",
       "      <td>1.0</td>\n",
       "      <td>1.000000</td>\n",
       "      <td>1.000000</td>\n",
       "      <td>1.0</td>\n",
       "      <td>1.0</td>\n",
       "    </tr>\n",
       "    <tr>\n",
       "      <th>1</th>\n",
       "      <td>1</td>\n",
       "      <td>1.0</td>\n",
       "      <td>1.0</td>\n",
       "      <td>1.0</td>\n",
       "      <td>1.0</td>\n",
       "      <td>0.818905</td>\n",
       "      <td>0.363636</td>\n",
       "      <td>1.0</td>\n",
       "      <td>1.0</td>\n",
       "    </tr>\n",
       "    <tr>\n",
       "      <th>2</th>\n",
       "      <td>1</td>\n",
       "      <td>1.0</td>\n",
       "      <td>1.0</td>\n",
       "      <td>1.0</td>\n",
       "      <td>1.0</td>\n",
       "      <td>0.697740</td>\n",
       "      <td>1.000000</td>\n",
       "      <td>1.0</td>\n",
       "      <td>1.0</td>\n",
       "    </tr>\n",
       "    <tr>\n",
       "      <th>3</th>\n",
       "      <td>1</td>\n",
       "      <td>1.0</td>\n",
       "      <td>1.0</td>\n",
       "      <td>1.0</td>\n",
       "      <td>1.0</td>\n",
       "      <td>0.818905</td>\n",
       "      <td>0.363636</td>\n",
       "      <td>1.0</td>\n",
       "      <td>1.0</td>\n",
       "    </tr>\n",
       "    <tr>\n",
       "      <th>4</th>\n",
       "      <td>1</td>\n",
       "      <td>1.0</td>\n",
       "      <td>1.0</td>\n",
       "      <td>1.0</td>\n",
       "      <td>1.0</td>\n",
       "      <td>1.000000</td>\n",
       "      <td>1.000000</td>\n",
       "      <td>1.0</td>\n",
       "      <td>1.0</td>\n",
       "    </tr>\n",
       "  </tbody>\n",
       "</table>\n",
       "</div>"
      ],
      "text/plain": [
       "   duplicates  century_delta  edition_delta  format_prefix_delta  \\\n",
       "0           1            1.0            1.0                  1.0   \n",
       "1           1            1.0            1.0                  1.0   \n",
       "2           1            1.0            1.0                  1.0   \n",
       "3           1            1.0            1.0                  1.0   \n",
       "4           1            1.0            1.0                  1.0   \n",
       "\n",
       "   format_postfix_delta  person_245c_delta  ttlfull_245_delta  \\\n",
       "0                   1.0           1.000000           1.000000   \n",
       "1                   1.0           0.818905           0.363636   \n",
       "2                   1.0           0.697740           1.000000   \n",
       "3                   1.0           0.818905           0.363636   \n",
       "4                   1.0           1.000000           1.000000   \n",
       "\n",
       "   ttlfull_246_delta  volumes_delta  \n",
       "0                1.0            1.0  \n",
       "1                1.0            1.0  \n",
       "2                1.0            1.0  \n",
       "3                1.0            1.0  \n",
       "4                1.0            1.0  "
      ]
     },
     "execution_count": 1,
     "metadata": {},
     "output_type": "execute_result"
    }
   ],
   "source": [
    "import os\n",
    "import pandas as pd\n",
    "\n",
    "path_goldstandard = './daten_goldstandard'\n",
    "\n",
    "# Restore results so far\n",
    "df_labelled_feature_matrix = pd.read_pickle(os.path.join(path_goldstandard,\n",
    "                                                         'labelled_feature_matrix.pkl'),\n",
    "                                 compression=None)\n",
    "\n",
    "df_labelled_feature_matrix.head()"
   ]
  },
  {
   "cell_type": "code",
   "execution_count": 2,
   "metadata": {},
   "outputs": [],
   "source": [
    "df_labelled_feature_matrix = pd.concat(\n",
    "    [df_labelled_feature_matrix[df_labelled_feature_matrix.duplicates==0].sample(n=1473),\n",
    "     df_labelled_feature_matrix[df_labelled_feature_matrix.duplicates==1]])"
   ]
  },
  {
   "cell_type": "code",
   "execution_count": 3,
   "metadata": {},
   "outputs": [
    {
     "name": "stdout",
     "output_type": "stream",
     "text": [
      "Part of duplicates (1) on uniques (2) in units of [%]\n",
      "1    50.0\n",
      "0    50.0\n",
      "Name: duplicates, dtype: float64\n"
     ]
    }
   ],
   "source": [
    "print('Part of duplicates (1) on uniques (2) in units of [%]')\n",
    "print(df_labelled_feature_matrix.duplicates.value_counts(normalize=True)*100)"
   ]
  },
  {
   "cell_type": "code",
   "execution_count": null,
   "metadata": {},
   "outputs": [],
   "source": []
  },
  {
   "cell_type": "code",
   "execution_count": null,
   "metadata": {},
   "outputs": [],
   "source": []
  },
  {
   "cell_type": "markdown",
   "metadata": {},
   "source": [
    "### Train/Test Split"
   ]
  },
  {
   "cell_type": "markdown",
   "metadata": {},
   "source": [
    "The train/test split will be implemented here as a general function to be called in the models chapters."
   ]
  },
  {
   "cell_type": "code",
   "execution_count": 4,
   "metadata": {},
   "outputs": [],
   "source": [
    "X = df_labelled_feature_matrix.drop(columns=['duplicates']).values\n",
    "y = df_labelled_feature_matrix.duplicates.values"
   ]
  },
  {
   "cell_type": "code",
   "execution_count": 5,
   "metadata": {},
   "outputs": [],
   "source": [
    "from sklearn.model_selection import train_test_split\n",
    "\n",
    "X_tr, X_te, y_tr, y_te = train_test_split(X, y, stratify=y, test_size=0.2, random_state=0)"
   ]
  },
  {
   "cell_type": "code",
   "execution_count": 6,
   "metadata": {},
   "outputs": [
    {
     "data": {
      "text/plain": [
       "(2356, 8)"
      ]
     },
     "execution_count": 6,
     "metadata": {},
     "output_type": "execute_result"
    }
   ],
   "source": [
    "X_tr.shape"
   ]
  },
  {
   "cell_type": "code",
   "execution_count": null,
   "metadata": {},
   "outputs": [],
   "source": []
  },
  {
   "cell_type": "markdown",
   "metadata": {},
   "source": [
    "## Neural Network Implementation"
   ]
  },
  {
   "cell_type": "code",
   "execution_count": 7,
   "metadata": {},
   "outputs": [
    {
     "name": "stderr",
     "output_type": "stream",
     "text": [
      "Using TensorFlow backend.\n"
     ]
    },
    {
     "name": "stdout",
     "output_type": "stream",
     "text": [
      "WARNING:tensorflow:From /Users/andreas/anaconda3/lib/python3.7/site-packages/tensorflow_core/python/ops/resource_variable_ops.py:1630: calling BaseResourceVariable.__init__ (from tensorflow.python.ops.resource_variable_ops) with constraint is deprecated and will be removed in a future version.\n",
      "Instructions for updating:\n",
      "If using Keras pass *_constraint arguments to layers.\n"
     ]
    },
    {
     "data": {
      "text/plain": [
       "{'name': 'sequential_1',\n",
       " 'layers': [{'class_name': 'Dense',\n",
       "   'config': {'name': 'dense_1',\n",
       "    'trainable': True,\n",
       "    'batch_input_shape': (None, 8),\n",
       "    'dtype': 'float32',\n",
       "    'units': 12,\n",
       "    'activation': 'relu',\n",
       "    'use_bias': True,\n",
       "    'kernel_initializer': {'class_name': 'VarianceScaling',\n",
       "     'config': {'scale': 2.0,\n",
       "      'mode': 'fan_in',\n",
       "      'distribution': 'normal',\n",
       "      'seed': 1}},\n",
       "    'bias_initializer': {'class_name': 'Zeros', 'config': {}},\n",
       "    'kernel_regularizer': {'class_name': 'L1L2',\n",
       "     'config': {'l1': 0.0, 'l2': 0.10000000149011612}},\n",
       "    'bias_regularizer': None,\n",
       "    'activity_regularizer': None,\n",
       "    'kernel_constraint': None,\n",
       "    'bias_constraint': None}},\n",
       "  {'class_name': 'Dropout',\n",
       "   'config': {'name': 'dropout_1',\n",
       "    'trainable': True,\n",
       "    'dtype': 'float32',\n",
       "    'rate': 0.25,\n",
       "    'noise_shape': None,\n",
       "    'seed': 0}},\n",
       "  {'class_name': 'Dense',\n",
       "   'config': {'name': 'dense_2',\n",
       "    'trainable': True,\n",
       "    'dtype': 'float32',\n",
       "    'units': 2,\n",
       "    'activation': 'sigmoid',\n",
       "    'use_bias': True,\n",
       "    'kernel_initializer': {'class_name': 'VarianceScaling',\n",
       "     'config': {'scale': 1,\n",
       "      'mode': 'fan_in',\n",
       "      'distribution': 'normal',\n",
       "      'seed': 1}},\n",
       "    'bias_initializer': {'class_name': 'Zeros', 'config': {}},\n",
       "    'kernel_regularizer': {'class_name': 'L1L2',\n",
       "     'config': {'l1': 0.0, 'l2': 0.10000000149011612}},\n",
       "    'bias_regularizer': None,\n",
       "    'activity_regularizer': None,\n",
       "    'kernel_constraint': None,\n",
       "    'bias_constraint': None}}]}"
      ]
     },
     "execution_count": 7,
     "metadata": {},
     "output_type": "execute_result"
    }
   ],
   "source": [
    "from keras.models import Sequential\n",
    "from keras.layers import Dense, Dropout\n",
    "from keras.initializers import VarianceScaling\n",
    "from keras.regularizers import l2\n",
    "from keras.optimizers import SGD\n",
    "\n",
    "l2_alpha = 0.1\n",
    "sgd_learnrate = 0.05\n",
    "\n",
    "# Input layer\n",
    "hidden = Dense(\n",
    "    12, # Number of units for hidden layer\n",
    "    input_shape=(X_tr.shape[1],),\n",
    "    activation='relu',\n",
    "    kernel_initializer=VarianceScaling(scale=2.0, seed=0),\n",
    "    kernel_regularizer=l2(l2_alpha),\n",
    "    bias_initializer='zeros'\n",
    ")\n",
    "\n",
    "# With dropout layer\n",
    "dropout = Dropout(\n",
    "    rate=0.25,\n",
    "    seed=0\n",
    ")\n",
    "\n",
    "# Output layer\n",
    "output = Dense(\n",
    "    2,\n",
    "    activation='sigmoid', # Bring out 0 or 1 values\n",
    "    kernel_initializer=VarianceScaling(scale=1, seed=0),\n",
    "    kernel_regularizer=l2(l2_alpha),\n",
    "    bias_initializer='zeros'\n",
    ")\n",
    "\n",
    "# Create model with sequential API\n",
    "model = Sequential()\n",
    "model.add( hidden ) # Hidden layer\n",
    "model.add( dropout ) # Dropout\n",
    "model.add( output ) # Output layer\n",
    "\n",
    "# The optimizer is to be SGD\n",
    "sgd = SGD(lr=sgd_learnrate)\n",
    "\n",
    "# Compile model\n",
    "model.compile(\n",
    "    loss='categorical_crossentropy',\n",
    "    optimizer=sgd,\n",
    "    metrics=['accuracy']\n",
    "#    metrics=['categorical_accuracy']\n",
    ")\n",
    "\n",
    "# Check Model configuration\n",
    "model.get_config()"
   ]
  },
  {
   "cell_type": "code",
   "execution_count": 8,
   "metadata": {
    "scrolled": true
   },
   "outputs": [
    {
     "name": "stdout",
     "output_type": "stream",
     "text": [
      "WARNING:tensorflow:From /Users/andreas/anaconda3/lib/python3.7/site-packages/tensorflow_core/python/ops/math_grad.py:1424: where (from tensorflow.python.ops.array_ops) is deprecated and will be removed in a future version.\n",
      "Instructions for updating:\n",
      "Use tf.where in 2.0, which has the same broadcast rule as np.where\n",
      "WARNING:tensorflow:From /Users/andreas/anaconda3/lib/python3.7/site-packages/keras/backend/tensorflow_backend.py:422: The name tf.global_variables is deprecated. Please use tf.compat.v1.global_variables instead.\n",
      "\n",
      "Train on 2356 samples, validate on 590 samples\n",
      "Epoch 1/100\n",
      "2356/2356 [==============================] - 1s 408us/step - loss: 2.8783 - accuracy: 0.5883 - val_loss: 1.9442 - val_accuracy: 0.6085\n",
      "Epoch 2/100\n",
      "2356/2356 [==============================] - 0s 55us/step - loss: 1.5009 - accuracy: 0.7042 - val_loss: 1.1484 - val_accuracy: 0.7729\n",
      "Epoch 3/100\n",
      "2356/2356 [==============================] - 0s 47us/step - loss: 0.9823 - accuracy: 0.7814 - val_loss: 0.8465 - val_accuracy: 0.8288\n",
      "Epoch 4/100\n",
      "2356/2356 [==============================] - 0s 51us/step - loss: 0.7864 - accuracy: 0.8115 - val_loss: 0.7346 - val_accuracy: 0.8898\n",
      "Epoch 5/100\n",
      "2356/2356 [==============================] - 0s 53us/step - loss: 0.7169 - accuracy: 0.8459 - val_loss: 0.6905 - val_accuracy: 0.8847\n",
      "Epoch 6/100\n",
      "2356/2356 [==============================] - 0s 44us/step - loss: 0.6839 - accuracy: 0.8430 - val_loss: 0.6714 - val_accuracy: 0.9339\n",
      "Epoch 7/100\n",
      "2356/2356 [==============================] - 0s 46us/step - loss: 0.6698 - accuracy: 0.8612 - val_loss: 0.6607 - val_accuracy: 0.9339\n",
      "Epoch 8/100\n",
      "2356/2356 [==============================] - 0s 48us/step - loss: 0.6635 - accuracy: 0.8625 - val_loss: 0.6535 - val_accuracy: 0.9271\n",
      "Epoch 9/100\n",
      "2356/2356 [==============================] - 0s 47us/step - loss: 0.6548 - accuracy: 0.8663 - val_loss: 0.6489 - val_accuracy: 0.9627\n",
      "Epoch 10/100\n",
      "2356/2356 [==============================] - 0s 47us/step - loss: 0.6506 - accuracy: 0.8735 - val_loss: 0.6438 - val_accuracy: 0.9627\n",
      "Epoch 11/100\n",
      "2356/2356 [==============================] - 0s 43us/step - loss: 0.6492 - accuracy: 0.8756 - val_loss: 0.6388 - val_accuracy: 0.9644\n",
      "Epoch 12/100\n",
      "2356/2356 [==============================] - 0s 46us/step - loss: 0.6430 - accuracy: 0.8782 - val_loss: 0.6325 - val_accuracy: 0.9610\n",
      "Epoch 13/100\n",
      "2356/2356 [==============================] - 0s 45us/step - loss: 0.6406 - accuracy: 0.8829 - val_loss: 0.6291 - val_accuracy: 0.9661\n",
      "Epoch 14/100\n",
      "2356/2356 [==============================] - 0s 44us/step - loss: 0.6390 - accuracy: 0.8748 - val_loss: 0.6254 - val_accuracy: 0.9695\n",
      "Epoch 15/100\n",
      "2356/2356 [==============================] - 0s 47us/step - loss: 0.6325 - accuracy: 0.8892 - val_loss: 0.6191 - val_accuracy: 0.9492\n",
      "Epoch 16/100\n",
      "2356/2356 [==============================] - 0s 44us/step - loss: 0.6307 - accuracy: 0.8841 - val_loss: 0.6151 - val_accuracy: 0.9644\n",
      "Epoch 17/100\n",
      "2356/2356 [==============================] - 0s 44us/step - loss: 0.6229 - accuracy: 0.8909 - val_loss: 0.6108 - val_accuracy: 0.9627\n",
      "Epoch 18/100\n",
      "2356/2356 [==============================] - 0s 44us/step - loss: 0.6251 - accuracy: 0.8841 - val_loss: 0.6071 - val_accuracy: 0.9661\n",
      "Epoch 19/100\n",
      "2356/2356 [==============================] - 0s 44us/step - loss: 0.6139 - accuracy: 0.9024 - val_loss: 0.6035 - val_accuracy: 0.9610\n",
      "Epoch 20/100\n",
      "2356/2356 [==============================] - 0s 45us/step - loss: 0.6237 - accuracy: 0.8981 - val_loss: 0.6003 - val_accuracy: 0.9593\n",
      "Epoch 21/100\n",
      "2356/2356 [==============================] - 0s 43us/step - loss: 0.6196 - accuracy: 0.8994 - val_loss: 0.5974 - val_accuracy: 0.9644\n",
      "Epoch 22/100\n",
      "2356/2356 [==============================] - 0s 44us/step - loss: 0.6115 - accuracy: 0.9066 - val_loss: 0.5947 - val_accuracy: 0.9661\n",
      "Epoch 23/100\n",
      "2356/2356 [==============================] - 0s 44us/step - loss: 0.6157 - accuracy: 0.9058 - val_loss: 0.5929 - val_accuracy: 0.9661\n",
      "Epoch 24/100\n",
      "2356/2356 [==============================] - 0s 45us/step - loss: 0.6062 - accuracy: 0.9202 - val_loss: 0.5906 - val_accuracy: 0.9627\n",
      "Epoch 25/100\n",
      "2356/2356 [==============================] - 0s 46us/step - loss: 0.6064 - accuracy: 0.9185 - val_loss: 0.5871 - val_accuracy: 0.9644\n",
      "Epoch 26/100\n",
      "2356/2356 [==============================] - 0s 48us/step - loss: 0.6027 - accuracy: 0.9151 - val_loss: 0.5849 - val_accuracy: 0.9661\n",
      "Epoch 27/100\n",
      "2356/2356 [==============================] - 0s 45us/step - loss: 0.6004 - accuracy: 0.9172 - val_loss: 0.5839 - val_accuracy: 0.9593\n",
      "Epoch 28/100\n",
      "2356/2356 [==============================] - 0s 46us/step - loss: 0.5977 - accuracy: 0.9155 - val_loss: 0.5808 - val_accuracy: 0.9627\n",
      "Epoch 29/100\n",
      "2356/2356 [==============================] - 0s 43us/step - loss: 0.5951 - accuracy: 0.9253 - val_loss: 0.5775 - val_accuracy: 0.9644\n",
      "Epoch 30/100\n",
      "2356/2356 [==============================] - 0s 45us/step - loss: 0.5923 - accuracy: 0.9177 - val_loss: 0.5756 - val_accuracy: 0.9661\n",
      "Epoch 31/100\n",
      "2356/2356 [==============================] - 0s 44us/step - loss: 0.5920 - accuracy: 0.9223 - val_loss: 0.5751 - val_accuracy: 0.9627\n",
      "Epoch 32/100\n",
      "2356/2356 [==============================] - 0s 43us/step - loss: 0.5841 - accuracy: 0.9278 - val_loss: 0.5728 - val_accuracy: 0.9661\n",
      "Epoch 33/100\n",
      "2356/2356 [==============================] - 0s 43us/step - loss: 0.5875 - accuracy: 0.9194 - val_loss: 0.5705 - val_accuracy: 0.9661\n",
      "Epoch 34/100\n",
      "2356/2356 [==============================] - 0s 46us/step - loss: 0.5893 - accuracy: 0.9160 - val_loss: 0.5694 - val_accuracy: 0.9644\n",
      "Epoch 35/100\n",
      "2356/2356 [==============================] - 0s 44us/step - loss: 0.5922 - accuracy: 0.9126 - val_loss: 0.5715 - val_accuracy: 0.9627\n",
      "Epoch 36/100\n",
      "2356/2356 [==============================] - 0s 46us/step - loss: 0.5858 - accuracy: 0.9232 - val_loss: 0.5695 - val_accuracy: 0.9627\n",
      "Epoch 37/100\n",
      "2356/2356 [==============================] - 0s 54us/step - loss: 0.5857 - accuracy: 0.9240 - val_loss: 0.5654 - val_accuracy: 0.9661\n",
      "Epoch 38/100\n",
      "2356/2356 [==============================] - 0s 48us/step - loss: 0.5831 - accuracy: 0.9236 - val_loss: 0.5662 - val_accuracy: 0.9610\n",
      "Epoch 39/100\n",
      "2356/2356 [==============================] - 0s 47us/step - loss: 0.5829 - accuracy: 0.9266 - val_loss: 0.5636 - val_accuracy: 0.9661\n",
      "Epoch 40/100\n",
      "2356/2356 [==============================] - 0s 46us/step - loss: 0.5889 - accuracy: 0.9113 - val_loss: 0.5623 - val_accuracy: 0.9661\n",
      "Epoch 41/100\n",
      "2356/2356 [==============================] - 0s 48us/step - loss: 0.5839 - accuracy: 0.9168 - val_loss: 0.5646 - val_accuracy: 0.9627\n",
      "Epoch 42/100\n",
      "2356/2356 [==============================] - 0s 47us/step - loss: 0.5792 - accuracy: 0.9211 - val_loss: 0.5608 - val_accuracy: 0.9678\n",
      "Epoch 43/100\n",
      "2356/2356 [==============================] - 0s 45us/step - loss: 0.5850 - accuracy: 0.9257 - val_loss: 0.5610 - val_accuracy: 0.9661\n",
      "Epoch 44/100\n",
      "2356/2356 [==============================] - 0s 48us/step - loss: 0.5778 - accuracy: 0.9304 - val_loss: 0.5602 - val_accuracy: 0.9661\n",
      "Epoch 45/100\n",
      "2356/2356 [==============================] - 0s 47us/step - loss: 0.5735 - accuracy: 0.9317 - val_loss: 0.5598 - val_accuracy: 0.9593\n",
      "Epoch 46/100\n",
      "2356/2356 [==============================] - 0s 48us/step - loss: 0.5788 - accuracy: 0.9253 - val_loss: 0.5578 - val_accuracy: 0.9661\n",
      "Epoch 47/100\n",
      "2356/2356 [==============================] - 0s 49us/step - loss: 0.5836 - accuracy: 0.9160 - val_loss: 0.5590 - val_accuracy: 0.9610\n",
      "Epoch 48/100\n",
      "2356/2356 [==============================] - 0s 47us/step - loss: 0.5756 - accuracy: 0.9232 - val_loss: 0.5572 - val_accuracy: 0.9661\n",
      "Epoch 49/100\n",
      "2356/2356 [==============================] - 0s 45us/step - loss: 0.5749 - accuracy: 0.9261 - val_loss: 0.5565 - val_accuracy: 0.9644\n",
      "Epoch 50/100\n",
      "2356/2356 [==============================] - 0s 46us/step - loss: 0.5821 - accuracy: 0.9232 - val_loss: 0.5562 - val_accuracy: 0.9661\n",
      "Epoch 51/100\n",
      "2356/2356 [==============================] - 0s 45us/step - loss: 0.5755 - accuracy: 0.9232 - val_loss: 0.5547 - val_accuracy: 0.9678\n",
      "Epoch 52/100\n",
      "2356/2356 [==============================] - 0s 48us/step - loss: 0.5742 - accuracy: 0.9249 - val_loss: 0.5544 - val_accuracy: 0.9627\n"
     ]
    },
    {
     "name": "stdout",
     "output_type": "stream",
     "text": [
      "Epoch 53/100\n",
      "2356/2356 [==============================] - 0s 45us/step - loss: 0.5670 - accuracy: 0.9304 - val_loss: 0.5540 - val_accuracy: 0.9661\n",
      "Epoch 54/100\n",
      "2356/2356 [==============================] - 0s 46us/step - loss: 0.5692 - accuracy: 0.9274 - val_loss: 0.5527 - val_accuracy: 0.9661\n",
      "Epoch 55/100\n",
      "2356/2356 [==============================] - 0s 45us/step - loss: 0.5648 - accuracy: 0.9321 - val_loss: 0.5543 - val_accuracy: 0.9627\n",
      "Epoch 56/100\n",
      "2356/2356 [==============================] - 0s 44us/step - loss: 0.5703 - accuracy: 0.9202 - val_loss: 0.5515 - val_accuracy: 0.9661\n",
      "Epoch 57/100\n",
      "2356/2356 [==============================] - 0s 44us/step - loss: 0.5676 - accuracy: 0.9295 - val_loss: 0.5531 - val_accuracy: 0.9627\n",
      "Epoch 58/100\n",
      "2356/2356 [==============================] - 0s 47us/step - loss: 0.5744 - accuracy: 0.9232 - val_loss: 0.5528 - val_accuracy: 0.9627\n",
      "Epoch 59/100\n",
      "2356/2356 [==============================] - 0s 44us/step - loss: 0.5691 - accuracy: 0.9291 - val_loss: 0.5533 - val_accuracy: 0.9627\n",
      "Epoch 60/100\n",
      "2356/2356 [==============================] - 0s 44us/step - loss: 0.5708 - accuracy: 0.9228 - val_loss: 0.5524 - val_accuracy: 0.9627\n",
      "Epoch 61/100\n",
      "2356/2356 [==============================] - 0s 43us/step - loss: 0.5694 - accuracy: 0.9300 - val_loss: 0.5492 - val_accuracy: 0.9661\n",
      "Epoch 62/100\n",
      "2356/2356 [==============================] - 0s 43us/step - loss: 0.5754 - accuracy: 0.9206 - val_loss: 0.5516 - val_accuracy: 0.9627\n",
      "Epoch 63/100\n",
      "2356/2356 [==============================] - 0s 42us/step - loss: 0.5610 - accuracy: 0.9359 - val_loss: 0.5477 - val_accuracy: 0.9661\n",
      "Epoch 64/100\n",
      "2356/2356 [==============================] - 0s 42us/step - loss: 0.5654 - accuracy: 0.9261 - val_loss: 0.5483 - val_accuracy: 0.9678\n",
      "Epoch 65/100\n",
      "2356/2356 [==============================] - 0s 43us/step - loss: 0.5676 - accuracy: 0.9266 - val_loss: 0.5474 - val_accuracy: 0.9661\n",
      "Epoch 66/100\n",
      "2356/2356 [==============================] - 0s 43us/step - loss: 0.5651 - accuracy: 0.9261 - val_loss: 0.5467 - val_accuracy: 0.9661\n",
      "Epoch 67/100\n",
      "2356/2356 [==============================] - 0s 45us/step - loss: 0.5596 - accuracy: 0.9266 - val_loss: 0.5465 - val_accuracy: 0.9644\n",
      "Epoch 68/100\n",
      "2356/2356 [==============================] - 0s 44us/step - loss: 0.5635 - accuracy: 0.9244 - val_loss: 0.5462 - val_accuracy: 0.9661\n",
      "Epoch 69/100\n",
      "2356/2356 [==============================] - 0s 42us/step - loss: 0.5618 - accuracy: 0.9304 - val_loss: 0.5470 - val_accuracy: 0.9593\n",
      "Epoch 70/100\n",
      "2356/2356 [==============================] - 0s 43us/step - loss: 0.5619 - accuracy: 0.9334 - val_loss: 0.5469 - val_accuracy: 0.9610\n",
      "Epoch 71/100\n",
      "2356/2356 [==============================] - 0s 43us/step - loss: 0.5627 - accuracy: 0.9329 - val_loss: 0.5466 - val_accuracy: 0.9661\n",
      "Epoch 72/100\n",
      "2356/2356 [==============================] - 0s 43us/step - loss: 0.5652 - accuracy: 0.9261 - val_loss: 0.5462 - val_accuracy: 0.9593\n",
      "Epoch 73/100\n",
      "2356/2356 [==============================] - 0s 43us/step - loss: 0.5603 - accuracy: 0.9278 - val_loss: 0.5445 - val_accuracy: 0.9661\n",
      "Epoch 74/100\n",
      "2356/2356 [==============================] - 0s 43us/step - loss: 0.5666 - accuracy: 0.9211 - val_loss: 0.5467 - val_accuracy: 0.9627\n",
      "Epoch 75/100\n",
      "2356/2356 [==============================] - 0s 42us/step - loss: 0.5680 - accuracy: 0.9253 - val_loss: 0.5457 - val_accuracy: 0.9610\n",
      "Epoch 76/100\n",
      "2356/2356 [==============================] - 0s 42us/step - loss: 0.5609 - accuracy: 0.9287 - val_loss: 0.5461 - val_accuracy: 0.9627\n",
      "Epoch 77/100\n",
      "2356/2356 [==============================] - 0s 43us/step - loss: 0.5611 - accuracy: 0.9291 - val_loss: 0.5471 - val_accuracy: 0.9644\n",
      "Epoch 78/100\n",
      "2356/2356 [==============================] - 0s 43us/step - loss: 0.5595 - accuracy: 0.9261 - val_loss: 0.5490 - val_accuracy: 0.9661\n",
      "Epoch 79/100\n",
      "2356/2356 [==============================] - 0s 43us/step - loss: 0.5600 - accuracy: 0.9376 - val_loss: 0.5455 - val_accuracy: 0.9627\n",
      "Epoch 80/100\n",
      "2356/2356 [==============================] - 0s 44us/step - loss: 0.5628 - accuracy: 0.9244 - val_loss: 0.5441 - val_accuracy: 0.9610\n",
      "Epoch 81/100\n",
      "2356/2356 [==============================] - 0s 45us/step - loss: 0.5655 - accuracy: 0.9219 - val_loss: 0.5423 - val_accuracy: 0.9661\n",
      "Epoch 82/100\n",
      "2356/2356 [==============================] - 0s 48us/step - loss: 0.5578 - accuracy: 0.9240 - val_loss: 0.5440 - val_accuracy: 0.9627\n",
      "Epoch 83/100\n",
      "2356/2356 [==============================] - 0s 43us/step - loss: 0.5619 - accuracy: 0.9244 - val_loss: 0.5443 - val_accuracy: 0.9627\n",
      "Epoch 84/100\n",
      "2356/2356 [==============================] - 0s 47us/step - loss: 0.5549 - accuracy: 0.9253 - val_loss: 0.5425 - val_accuracy: 0.9627\n",
      "Epoch 85/100\n",
      "2356/2356 [==============================] - 0s 43us/step - loss: 0.5651 - accuracy: 0.9206 - val_loss: 0.5467 - val_accuracy: 0.9644\n",
      "Epoch 86/100\n",
      "2356/2356 [==============================] - 0s 44us/step - loss: 0.5554 - accuracy: 0.9329 - val_loss: 0.5429 - val_accuracy: 0.9610\n",
      "Epoch 87/100\n",
      "2356/2356 [==============================] - 0s 43us/step - loss: 0.5553 - accuracy: 0.9308 - val_loss: 0.5414 - val_accuracy: 0.9661\n",
      "Epoch 88/100\n",
      "2356/2356 [==============================] - 0s 42us/step - loss: 0.5568 - accuracy: 0.9334 - val_loss: 0.5403 - val_accuracy: 0.9678\n",
      "Epoch 89/100\n",
      "2356/2356 [==============================] - 0s 45us/step - loss: 0.5600 - accuracy: 0.9219 - val_loss: 0.5424 - val_accuracy: 0.9627\n",
      "Epoch 90/100\n",
      "2356/2356 [==============================] - 0s 45us/step - loss: 0.5599 - accuracy: 0.9202 - val_loss: 0.5408 - val_accuracy: 0.9627\n",
      "Epoch 91/100\n",
      "2356/2356 [==============================] - 0s 42us/step - loss: 0.5609 - accuracy: 0.9257 - val_loss: 0.5428 - val_accuracy: 0.9661\n",
      "Epoch 92/100\n",
      "2356/2356 [==============================] - 0s 45us/step - loss: 0.5559 - accuracy: 0.9321 - val_loss: 0.5402 - val_accuracy: 0.9627\n",
      "Epoch 93/100\n",
      "2356/2356 [==============================] - 0s 44us/step - loss: 0.5572 - accuracy: 0.9359 - val_loss: 0.5411 - val_accuracy: 0.9661\n",
      "Epoch 94/100\n",
      "2356/2356 [==============================] - 0s 46us/step - loss: 0.5571 - accuracy: 0.9295 - val_loss: 0.5431 - val_accuracy: 0.9627\n",
      "Epoch 95/100\n",
      "2356/2356 [==============================] - 0s 44us/step - loss: 0.5516 - accuracy: 0.9397 - val_loss: 0.5431 - val_accuracy: 0.9644\n",
      "Epoch 96/100\n",
      "2356/2356 [==============================] - 0s 48us/step - loss: 0.5519 - accuracy: 0.9355 - val_loss: 0.5398 - val_accuracy: 0.9627\n",
      "Epoch 97/100\n",
      "2356/2356 [==============================] - 0s 45us/step - loss: 0.5591 - accuracy: 0.9300 - val_loss: 0.5385 - val_accuracy: 0.9678\n",
      "Epoch 98/100\n",
      "2356/2356 [==============================] - 0s 46us/step - loss: 0.5563 - accuracy: 0.9321 - val_loss: 0.5405 - val_accuracy: 0.9627\n",
      "Epoch 99/100\n",
      "2356/2356 [==============================] - 0s 46us/step - loss: 0.5573 - accuracy: 0.9257 - val_loss: 0.5385 - val_accuracy: 0.9661\n",
      "Epoch 100/100\n",
      "2356/2356 [==============================] - 0s 47us/step - loss: 0.5525 - accuracy: 0.9414 - val_loss: 0.5378 - val_accuracy: 0.9661\n"
     ]
    }
   ],
   "source": [
    "from keras.utils import to_categorical\n",
    "\n",
    "# Parameters for fitting with batches and epochs\n",
    "epochs = 100\n",
    "batch_size = 50\n",
    "# Stay with the four logits and do not reduce to one categorical integer\n",
    "y_tr_2 = to_categorical(y_tr)\n",
    "y_val_2 = to_categorical(y_te)\n",
    "\n",
    "# Fit the model\n",
    "history = model.fit(\n",
    "    x=X_tr, y=y_tr_2,\n",
    "    batch_size=batch_size, epochs=epochs,\n",
    "    validation_data=(X_te, y_val_2)\n",
    ")"
   ]
  },
  {
   "cell_type": "code",
   "execution_count": 9,
   "metadata": {},
   "outputs": [
    {
     "data": {
      "text/plain": [
       "(array([[0., 1.],\n",
       "        [1., 0.],\n",
       "        [0., 1.],\n",
       "        ...,\n",
       "        [1., 0.],\n",
       "        [0., 1.],\n",
       "        [0., 1.]], dtype=float32), array([[0., 1.],\n",
       "        [0., 1.],\n",
       "        [0., 1.],\n",
       "        ...,\n",
       "        [0., 1.],\n",
       "        [0., 1.],\n",
       "        [0., 1.]], dtype=float32))"
      ]
     },
     "execution_count": 9,
     "metadata": {},
     "output_type": "execute_result"
    }
   ],
   "source": [
    "y_tr_2, y_val_2"
   ]
  },
  {
   "cell_type": "code",
   "execution_count": 10,
   "metadata": {},
   "outputs": [],
   "source": [
    "#from keras.utils import plot_model\n",
    "\n",
    "#plot_model(model, show_shapes=True, dpi=72)"
   ]
  },
  {
   "cell_type": "code",
   "execution_count": 11,
   "metadata": {},
   "outputs": [
    {
     "data": {
      "image/png": "[encoded data removed]",
      "text/plain": [
       "<Figure size 432x288 with 1 Axes>"
      ]
     },
     "metadata": {
      "needs_background": "light"
     },
     "output_type": "display_data"
    }
   ],
   "source": [
    "import matplotlib.pyplot as plt\n",
    "\n",
    "plt.plot(history.history['accuracy'], label='training accuracy')\n",
    "plt.plot(history.history['val_accuracy'], label='validation accuracy')\n",
    "plt.legend()\n",
    "plt.title(r'Bilayer neural network with lr = {} and $\\alpha=${}'.format(\n",
    "    sgd_learnrate, l2_alpha)\n",
    ")\n",
    "plt.xlabel('epoch')\n",
    "plt.ylabel('accuracy')\n",
    "plt.show()"
   ]
  },
  {
   "cell_type": "code",
   "execution_count": 12,
   "metadata": {},
   "outputs": [
    {
     "name": "stdout",
     "output_type": "stream",
     "text": [
      "Mean last 5 validation accuracy : 0.965\n",
      "Neural network accuracy (test set): 0.966\n"
     ]
    }
   ],
   "source": [
    "import numpy as np\n",
    "\n",
    "no_last = 5 # I take the last 5 due to the upwards shape of the curve at its end\n",
    "print('Mean last {:d} validation accuracy : {:.3f}'.format(\n",
    "    no_last, np.mean(history.history['val_accuracy'][-no_last:])\n",
    "))\n",
    "\n",
    "print('Neural network accuracy (test set): {:.3f}'.format(\n",
    "    model.evaluate(X_te, to_categorical(y_te),\n",
    "                   verbose=0)[1] # Loss is at index=0, accuracy at index=1\n",
    "))"
   ]
  },
  {
   "cell_type": "code",
   "execution_count": 13,
   "metadata": {},
   "outputs": [
    {
     "data": {
      "text/plain": [
       "0"
      ]
     },
     "execution_count": 13,
     "metadata": {},
     "output_type": "execute_result"
    }
   ],
   "source": [
    "y_pred = model.predict_classes(X_te)\n",
    "\n",
    "min(y_pred)"
   ]
  },
  {
   "cell_type": "markdown",
   "metadata": {},
   "source": [
    "### Performance Measurement"
   ]
  },
  {
   "cell_type": "code",
   "execution_count": 14,
   "metadata": {},
   "outputs": [
    {
     "data": {
      "text/plain": [
       "array([[286,   9],\n",
       "       [ 11, 284]])"
      ]
     },
     "execution_count": 14,
     "metadata": {},
     "output_type": "execute_result"
    }
   ],
   "source": [
    "from sklearn.metrics import confusion_matrix\n",
    "\n",
    "confusion_matrix(y_te, y_pred)"
   ]
  },
  {
   "cell_type": "code",
   "execution_count": 15,
   "metadata": {},
   "outputs": [
    {
     "name": "stdout",
     "output_type": "stream",
     "text": [
      "Area under the curve 96.6% - accuracy 96.6% - precision 96.9% - recall 96.3%\n"
     ]
    }
   ],
   "source": [
    "from sklearn.metrics import roc_auc_score, accuracy_score, precision_score, recall_score\n",
    "from keras.metrics import accuracy\n",
    "\n",
    "#print('Score {:.1f}%'.format(100*accuracy_score(X_te, y_te)))\n",
    "print('Area under the curve {:.1f}% - accuracy {:.1f}% - precision {:.1f}% - recall {:.1f}%'.format(100*roc_auc_score(y_te, y_pred),\n",
    "                100*accuracy_score(y_te, y_pred),\n",
    "                100*precision_score(y_te, y_pred),\n",
    "                100*recall_score(y_te, y_pred)\n",
    "               ))"
   ]
  },
  {
   "cell_type": "code",
   "execution_count": null,
   "metadata": {},
   "outputs": [],
   "source": []
  },
  {
   "cell_type": "markdown",
   "metadata": {},
   "source": [
    "## Results Handover"
   ]
  },
  {
   "cell_type": "code",
   "execution_count": 16,
   "metadata": {},
   "outputs": [],
   "source": [
    "# Restore results so far\n",
    "df_result = pd.read_pickle(os.path.join(path_goldstandard,\n",
    "                                        'results.pkl'), compression=None)\n"
   ]
  },
  {
   "cell_type": "code",
   "execution_count": 17,
   "metadata": {},
   "outputs": [],
   "source": [
    "# Add result of this section\n",
    "df_result = df_result.append(pd.DataFrame.from_dict({\n",
    "    'model': ['Neural Network'],\n",
    "    'test_score' : [0.0],\n",
    "    'auc' : [100*roc_auc_score(y_te, y_pred)],\n",
    "    'accuracy' : [100*accuracy_score(y_te, y_pred)],\n",
    "    'precision' : [100*precision_score(y_te, y_pred)],\n",
    "    'recall' : [100*recall_score(y_te, y_pred)]\n",
    "}))\n",
    "\n",
    "# Save full DataFrame into pickle file\n",
    "df_result.to_pickle(os.path.join(path_goldstandard,\n",
    "                                 'results.pkl'), compression=None)"
   ]
  },
  {
   "cell_type": "code",
   "execution_count": null,
   "metadata": {},
   "outputs": [],
   "source": []
  }
 ],
 "metadata": {
  "kernelspec": {
   "display_name": "Python 3",
   "language": "python",
   "name": "python3"
  },
  "language_info": {
   "codemirror_mode": {
    "name": "ipython",
    "version": 3
   },
   "file_extension": ".py",
   "mimetype": "text/x-python",
   "name": "python",
   "nbconvert_exporter": "python",
   "pygments_lexer": "ipython3",
   "version": "3.7.1"
  }
 },
 "nbformat": 4,
 "nbformat_minor": 2
}
