{
 "cells": [
  {
   "cell_type": "markdown",
   "metadata": {},
   "source": [
    "# Capstone proposal by Andreas Jud\n",
    "\n",
    "# Deduplication of Swissbib raw data"
   ]
  },
  {
   "cell_type": "markdown",
   "metadata": {},
   "source": [
    "**Author** Andreas Jud</p>\n",
    "**Date** 14-MAR-2020"
   ]
  },
  {
   "cell_type": "markdown",
   "metadata": {},
   "source": [
    "**Task** The details are outlined in the **[Proposal](./01_Proposal.pdf)** unit on the platform - you should address all points from those instructions with as many markdown/code cells as needed. This should include code, observations, discussions and the planned steps."
   ]
  },
  {
   "cell_type": "markdown",
   "metadata": {},
   "source": [
    "## Introduction"
   ]
  },
  {
   "cell_type": "markdown",
   "metadata": {},
   "source": [
    "[Swissbib](https://www.swissbib.ch/) is the online catalogue of all Swiss university libraries, the Swiss National Library, numerous cantonal libraries, and further institutions. It provides a fast, simple, and extensive access to scientific publications in Switzerland [[1](#swissbib)]."
   ]
  },
  {
   "cell_type": "markdown",
   "metadata": {},
   "source": [
    "## 1) The problem"
   ]
  },
  {
   "cell_type": "markdown",
   "metadata": {},
   "source": [
    "Swissbib receives electronic catalogue data of Swiss library network databases with more than 800 institutions behind. The data is processed with dayly delta loads. The Swissbib platform merges the received data records from all sources with the data records received with earlier loads. After that, the platform processes all records into its search engine, where users can search for bibliographic entities. The key step in this merging process is to identify duplicate physical entities out of the original raw data with the goal of combining their records, generating a set of unique records as the basis for indexing in the search engine. This deduplication process has to handle records with minor differences referring to copies of the same physical entities in two different libraries."
   ]
  },
  {
   "cell_type": "markdown",
   "metadata": {},
   "source": [
    "Swissbib's data processing platform CBS transforms data from its sources into a data format called [pica](https://format.gbv.de/pica), see Data Preprocessing in [figure 1](#f_basic_data_flow), and deduplicates these indexed records with an engine written in programming language C and configured with pica, see Clustering in [figure 1](#f_basic_data_flow). The identification of duplicate records in the data records is done with the help of a set of predefined attributes. The records to be deduplicated are compared in these attributes with a sophisticated logic. Goal of the capstone project is to replace Swissbib's established deduplication logic with the help of Machine Learning."
   ]
  },
  {
   "cell_type": "markdown",
   "metadata": {},
   "source": [
    "## 2) The data\n",
    "\n",
    "### (a) Clear overview of your data"
   ]
  },
  {
   "cell_type": "markdown",
   "metadata": {},
   "source": [
    "The Swissbib platform loads raw data out of its sources in dayly delta loads and stores all records in a [Sybase](https://en.wikipedia.org/wiki/Sybase) database, see [figure 1](#f_basic_data_flow). After having preprocessed all data records from its sources, a module of the CBS platform indexes the raw data into a [b-tree file system](https://en.wikipedia.org/wiki/Btrfs). This indexed data is then forwarded by a clustering process to an index of the search engine. This data is in a deduplicated state and is available online [[1](#swissbib)] for end users to search for catalogue records and its physical entities behind."
   ]
  },
  {
   "cell_type": "markdown",
   "metadata": {},
   "source": [
    "<center>\n",
    "    <b>Figure 1</b><a id='f_basic_data_flow'></a> Basic data flow for processing Swissbib's raw data into its search engine.\n",
    "    <img src=\"./documentation/dataflow_basic.png\" style=\"width: 600px;\"/></p>\n",
    "</center>"
   ]
  },
  {
   "cell_type": "markdown",
   "metadata": {},
   "source": [
    "The Swissbib platform holds records of a total number of more than 31 million distinct entities out of 28 source databases [[2](#meeting_20191015)]. The raw data of the sources is deduplicated in a clustering module of the CBS platform, see [figure 1](#f_basic_data_flow), in order to identify the set of records describing distinct physical entities. The data extract below [[2](#meeting_20191015)] illustrates the amount of data being held and processed by the platform. In the data extract shown, a maximum threshold of 17 records per cluster is considered to be a reliable amount [[2](#meeting_20191015)]."
   ]
  },
  {
   "cell_type": "code",
   "execution_count": 1,
   "metadata": {},
   "outputs": [
    {
     "data": {
      "text/html": [
       "<div>\n",
       "<style scoped>\n",
       "    .dataframe tbody tr th:only-of-type {\n",
       "        vertical-align: middle;\n",
       "    }\n",
       "\n",
       "    .dataframe tbody tr th {\n",
       "        vertical-align: top;\n",
       "    }\n",
       "\n",
       "    .dataframe thead th {\n",
       "        text-align: right;\n",
       "    }\n",
       "</style>\n",
       "<table border=\"1\" class=\"dataframe\">\n",
       "  <thead>\n",
       "    <tr style=\"text-align: right;\">\n",
       "      <th></th>\n",
       "      <th>number_of_clusters</th>\n",
       "      <th>records_in_cluster</th>\n",
       "    </tr>\n",
       "  </thead>\n",
       "  <tbody>\n",
       "    <tr>\n",
       "      <th>0</th>\n",
       "      <td>3369004</td>\n",
       "      <td>2</td>\n",
       "    </tr>\n",
       "    <tr>\n",
       "      <th>1</th>\n",
       "      <td>1212276</td>\n",
       "      <td>3</td>\n",
       "    </tr>\n",
       "    <tr>\n",
       "      <th>2</th>\n",
       "      <td>545500</td>\n",
       "      <td>4</td>\n",
       "    </tr>\n",
       "    <tr>\n",
       "      <th>3</th>\n",
       "      <td>241145</td>\n",
       "      <td>5</td>\n",
       "    </tr>\n",
       "    <tr>\n",
       "      <th>4</th>\n",
       "      <td>112948</td>\n",
       "      <td>6</td>\n",
       "    </tr>\n",
       "    <tr>\n",
       "      <th>5</th>\n",
       "      <td>60816</td>\n",
       "      <td>7</td>\n",
       "    </tr>\n",
       "    <tr>\n",
       "      <th>6</th>\n",
       "      <td>35637</td>\n",
       "      <td>8</td>\n",
       "    </tr>\n",
       "    <tr>\n",
       "      <th>7</th>\n",
       "      <td>21578</td>\n",
       "      <td>9</td>\n",
       "    </tr>\n",
       "    <tr>\n",
       "      <th>8</th>\n",
       "      <td>13336</td>\n",
       "      <td>10</td>\n",
       "    </tr>\n",
       "    <tr>\n",
       "      <th>9</th>\n",
       "      <td>7932</td>\n",
       "      <td>11</td>\n",
       "    </tr>\n",
       "    <tr>\n",
       "      <th>10</th>\n",
       "      <td>4662</td>\n",
       "      <td>12</td>\n",
       "    </tr>\n",
       "    <tr>\n",
       "      <th>11</th>\n",
       "      <td>2728</td>\n",
       "      <td>13</td>\n",
       "    </tr>\n",
       "    <tr>\n",
       "      <th>12</th>\n",
       "      <td>1453</td>\n",
       "      <td>14</td>\n",
       "    </tr>\n",
       "    <tr>\n",
       "      <th>13</th>\n",
       "      <td>641</td>\n",
       "      <td>15</td>\n",
       "    </tr>\n",
       "    <tr>\n",
       "      <th>14</th>\n",
       "      <td>281</td>\n",
       "      <td>16</td>\n",
       "    </tr>\n",
       "    <tr>\n",
       "      <th>15</th>\n",
       "      <td>105</td>\n",
       "      <td>17</td>\n",
       "    </tr>\n",
       "  </tbody>\n",
       "</table>\n",
       "</div>"
      ],
      "text/plain": [
       "    number_of_clusters  records_in_cluster\n",
       "0              3369004                   2\n",
       "1              1212276                   3\n",
       "2               545500                   4\n",
       "3               241145                   5\n",
       "4               112948                   6\n",
       "5                60816                   7\n",
       "6                35637                   8\n",
       "7                21578                   9\n",
       "8                13336                  10\n",
       "9                 7932                  11\n",
       "10                4662                  12\n",
       "11                2728                  13\n",
       "12                1453                  14\n",
       "13                 641                  15\n",
       "14                 281                  16\n",
       "15                 105                  17"
      ]
     },
     "execution_count": 1,
     "metadata": {},
     "output_type": "execute_result"
    }
   ],
   "source": [
    "import pandas as pd\n",
    "\n",
    "df = pd.read_csv('./data/cluster_sizes.csv', sep='\\s+',\n",
    "                 header=None, names=['number_of_clusters', 'records_in_cluster'])\n",
    "\n",
    "cluster_size_threshold = 17\n",
    "df.where(df.records_in_cluster <= cluster_size_threshold).dropna().astype(int)"
   ]
  },
  {
   "cell_type": "code",
   "execution_count": 2,
   "metadata": {},
   "outputs": [
    {
     "data": {
      "image/png": "[encoded data removed]",
      "text/plain": [
       "<Figure size 1080x288 with 2 Axes>"
      ]
     },
     "metadata": {
      "needs_background": "light"
     },
     "output_type": "display_data"
    }
   ],
   "source": [
    "%matplotlib inline\n",
    "import matplotlib.pyplot as plt\n",
    "import numpy as np\n",
    "\n",
    "fig, axs = plt.subplots(1, 2, figsize=(15, 4))\n",
    "axs[0].bar(df['records_in_cluster'].where(df.records_in_cluster <= cluster_size_threshold).dropna().astype(int),\n",
    "            df['number_of_clusters'].where(df.records_in_cluster <= cluster_size_threshold).dropna().astype(int)\n",
    "        ,\n",
    "        color='green')\n",
    "axs[0].axvline(x=cluster_size_threshold, color='red') # Threshold\n",
    "axs[0].set_xlabel('cluster size')\n",
    "axs[0].set_ylabel('number of records')\n",
    "axs[1].bar(df['records_in_cluster'].where(df.records_in_cluster <= cluster_size_threshold).dropna().astype(int),\n",
    "        np.log(\n",
    "            df['number_of_clusters'].where(df.records_in_cluster <= cluster_size_threshold).dropna().astype(int)\n",
    "        )\n",
    "        ,\n",
    "        color='green')\n",
    "axs[1].axvline(x=cluster_size_threshold, color='red') # Threshold\n",
    "axs[1].set_xlabel('cluster size')\n",
    "axs[1].set_ylabel('log(number of records)')\n",
    "fig.suptitle('Count of Duplicate Records as a Function of Cluster Size')\n",
    "plt.show()"
   ]
  },
  {
   "cell_type": "markdown",
   "metadata": {},
   "source": [
    "The amount of processed records of the Swissbib platform as of date of [[2](#meeting_20191015)] sums up to the structure below."
   ]
  },
  {
   "cell_type": "code",
   "execution_count": 3,
   "metadata": {},
   "outputs": [
    {
     "name": "stdout",
     "output_type": "stream",
     "text": [
      "Count of records ...\n",
      "- original\t46,816,243 (100%)\n",
      "... and thereof ...\n",
      "- duplicates\t15,706,550 (33.5%)\n",
      "- uniques\t25,479,651 (54.4%)\n",
      "- clusters\t5,630,042 (12.0%)\n",
      "\n",
      "- fully deduplicated\t31,109,693 (66.5%)\n",
      "\t\t\t==========\n"
     ]
    }
   ],
   "source": [
    "number_of_uniques = 25479651\n",
    "number_of_masters = df.number_of_clusters.where(df.records_in_cluster <= cluster_size_threshold).sum().astype(int)\n",
    "number_of_slaves = (df.number_of_clusters\n",
    "#                    .where(df.records_in_cluster <= cluster_size_threshold)\n",
    "                    *(df.records_in_cluster\n",
    "#                      .where(df.records_in_cluster <= cluster_size_threshold)-1\n",
    "                     )).sum().astype(int)\n",
    "\n",
    "print('Count of records ...')\n",
    "print('- original\\t{:,} (100%)'.format(number_of_uniques+number_of_masters+number_of_slaves))\n",
    "print('... and thereof ...')\n",
    "print('- duplicates\\t{:,} ({:.1f}%)'.format(number_of_slaves,\n",
    "                                        100*number_of_slaves/(number_of_uniques+number_of_masters+number_of_slaves)))\n",
    "print('- uniques\\t{:,} ({:.1f}%)'.format(number_of_uniques,\n",
    "                             100*number_of_uniques/(number_of_uniques+number_of_masters+number_of_slaves)))\n",
    "print('- clusters\\t{:,} ({:.1f}%)'.format(number_of_masters,\n",
    "                             100*number_of_masters/(number_of_uniques+number_of_masters+number_of_slaves)))\n",
    "print('\\n- fully deduplicated\\t{:,} ({:.1f}%)'.format(number_of_uniques+number_of_masters,\n",
    "                                     100*(number_of_uniques+number_of_masters)/(number_of_uniques+number_of_masters+number_of_slaves)))\n",
    "print('\\t\\t\\t==========')"
   ]
  },
  {
   "cell_type": "markdown",
   "metadata": {},
   "source": [
    "With the [sru interface](https://en.wikipedia.org/wiki/Search/Retrieve_via_URL) [[3](#swissbib_sru)], the Swissbib project offers a protocol to acces its processed and indexed data via URL. The search engine can be queried via this interface to deliver masses of records in an [xml](https://www.w3.org/XML/) or a [json](https://www.json.org/json-en.html) format responding to the sent request. The data via [[3](#swissbib_sru)] partially underlies open acces according to the [Creative Commons license](https://en.wikipedia.org/wiki/Creative_Commons_license) of CC0 [[4](#cc0)].\n",
    "\n",
    "Some parts of the data of [[3](#swissbib_sru)] is under protection, though, e.g. records enriched with data from [worldcat](https://www.worldcat.org/). These parts of the data will be filtered out of the data to be processed during the capstone project. This will be guaranteed by a specific preprocessing of the data for the capstone project, compare orange coloured data path of [figure 1](#f_basic_data_flow) and description below. The search engine [[5](#swissbib_cc0)] offers access to the fully open data, exclusively."
   ]
  },
  {
   "cell_type": "markdown",
   "metadata": {},
   "source": [
    "A data record provided by Swissbib consists of a set of data elements filled with their values. The structure and contents of the data records are based on [MARC 21 Format for Bibliographic Data](https://en.wikipedia.org/wiki/MARC_standards), [[6](#marc21)]. Within the scope of the capstone project, the data records will be narrowed down to a reduced set of the available attributes of the MARC 21 standard. The reduction focusses on the attributes that are used for deduplication with the already implemented logic. This reduction is done in a separate data export with a scala implementation, developped by a Swissbib project member specifically for the capstone project [[7](#scala_repo)], see orange coloured part of [figure 1](#f_basic_data_flow). The resulting output of the data preprocessing by Swissbib will be one (or more) file(s) in a json format. This file will be read into Python for exploratory data analysis (EDA) and manipulation in the scope of the capstone project."
   ]
  },
  {
   "cell_type": "markdown",
   "metadata": {},
   "source": [
    "The list of attributes that will be used as a starting point for the capstone project is documented in [[8](#feature_deduplication_wiki)]. Some additional attributes out of the MARC 21 attribute definition may be identified and added optionally during the project. This option can be taken if additional attributes help to enhance the deduplication process."
   ]
  },
  {
   "cell_type": "markdown",
   "metadata": {},
   "source": [
    "The existing conventional deduplication implementation searches for duplicate records in the raw data. This is done with a sophisticated comparison logic of the above mentioned attributes. If two or more records are found to describe the same bibliographical entity, one of the records is identified as the lead record. Afterwards, all of the identified duplicate records are united in a single record. This record is called _master_. The original records become _slaves_ of the master record. Eventually missing or differing data fields are consolidated into the master record. This process is sketched in [figure 2](#f_master_slaves)."
   ]
  },
  {
   "cell_type": "markdown",
   "metadata": {},
   "source": [
    "<center>\n",
    "    <b>Figure 2</b><a id='f_master_slaves'></a> Master generation out of a series of slaves.\n",
    "    <img src=\"./documentation/master_slaves.png\" style=\"width: 600px;\"/></p>\n",
    "</center>"
   ]
  },
  {
   "cell_type": "markdown",
   "metadata": {},
   "source": [
    "The Swissbib project team holds a set of pre-defined records they use for testing purposes of their deduplication implementation. This set of records is called the _goldstandard_ and will be used as the data set for training and performance testing during the machine learning process."
   ]
  },
  {
   "cell_type": "markdown",
   "metadata": {},
   "source": [
    "Swissbib's goldstandard data comes along in three json files. Files $\\texttt{slave.json}$ and $\\texttt{unique.json}$ hold records in their original form. While each record in file $\\texttt{unique.json}$ represents a unique bibliographical entity, the records in file $\\texttt{slave.json}$ represent a varying number of duplicate bibliographical entities. One of the three generated files is called $\\texttt{master.json}$. It holds all master records of the records of file $\\texttt{slave.json}$ and each record is the unique representation of duplicate bibliographical units. The counts of the records in each file are calculated below."
   ]
  },
  {
   "cell_type": "code",
   "execution_count": 4,
   "metadata": {},
   "outputs": [
    {
     "name": "stdout",
     "output_type": "stream",
     "text": [
      "Count of records in file ...\n",
      "- slave\t 435\n",
      "- master 159\n",
      "- unique 596\n"
     ]
    }
   ],
   "source": [
    "import json as js\n",
    "\n",
    "records_masters, records_slaves, records_uniques = [], [], []\n",
    "\n",
    "for line in open('./daten_goldstandard/master.json', 'r'):\n",
    "    records_masters.append(js.loads(line))\n",
    "for line in open('./daten_goldstandard/slave.json', 'r'):\n",
    "    records_slaves.append(js.loads(line))\n",
    "for line in open('./daten_goldstandard/unique.json', 'r'):\n",
    "    records_uniques.append(js.loads(line))\n",
    "\n",
    "print('Count of records in file ...')\n",
    "print('- slave\\t', len(records_slaves))\n",
    "print('- master', len(records_masters))\n",
    "print('- unique', len(records_uniques))"
   ]
  },
  {
   "cell_type": "markdown",
   "metadata": {},
   "source": [
    "For the machine training and testing process, pairs of records will be generated, see below. Each pair of the goldstandard will be marked whether it is a pair of duplicates or a pair of uniques.\n",
    "\n",
    "The amount of available records for training and performance testing out of the goldstandard depends on the explicit number of duplicate records in file $\\texttt{slave.json}$ and cannot be calculated in advance. A rough estimate can be calculated with the formula $\\frac{1}{2}N\\left(N-1\\right)$ where $N$ is the total number of masters and uniques of the goldstandard data set."
   ]
  },
  {
   "cell_type": "code",
   "execution_count": 5,
   "metadata": {},
   "outputs": [
    {
     "name": "stdout",
     "output_type": "stream",
     "text": [
      "284,635\n"
     ]
    }
   ],
   "source": [
    "uniques_masters_sum = len(records_masters)+len(records_uniques)\n",
    "\n",
    "print('{:,}'.format(int(uniques_masters_sum*(uniques_masters_sum-1)/2)))"
   ]
  },
  {
   "cell_type": "markdown",
   "metadata": {},
   "source": [
    "### (b) Plan to manage and process the data"
   ]
  },
  {
   "cell_type": "markdown",
   "metadata": {},
   "source": [
    "The capstone project will start with the analysis of exported data by the orange data extract of [figure 1](#f_basic_data_flow). Goal will be to understand the data and the relationships in its attributes. The data comes along with substantial information in form of strings, e.g. in title and person, see below. Besides string manipulations, the exploratory data analysis will address handling of missing values and decide on actions to be taken for data cleaning."
   ]
  },
  {
   "cell_type": "markdown",
   "metadata": {},
   "source": [
    "A general data matching process is described in [[9](#data_matching)], see [figure 3](#f_data_matching_process). Swissbib's CBS platform has implemented this process."
   ]
  },
  {
   "cell_type": "markdown",
   "metadata": {},
   "source": [
    "<center>\n",
    "    <b>Figure 3</b><a id='f_data_matching_process'></a> General data matching process [9].\n",
    "    <img src=\"./documentation/datamatching_process.png\" style=\"width: 400px;\"/></p>\n",
    "</center>"
   ]
  },
  {
   "cell_type": "markdown",
   "metadata": {},
   "source": [
    "A data preprocessing step will be implemented in the beginning of the capstone project. The data will be manipulated in this step with the goal of generating a set of feature attributes for the machine learning process of deduplication. The features will drive the machine learning and will enable the final deduplication process."
   ]
  },
  {
   "cell_type": "markdown",
   "metadata": {},
   "source": [
    "After the data preprocessing step in the general data matching process shown in [figure 3](#f_data_matching_process), the indexing of the data is a central step in preparing the data for record pair comparison [[9](#data_matching)]. During indexing, the full data set is split into blocks that hold records of similar entities. This splitting is called blocking [[9](#data_matching)] and the resulting blocks are called preclusters. Preclusters are the starting point for explicit record comparison in the deduplication process, see [figure 4](#f_clustering). The indexing step is crucial in that a minimal size of the preclusters reduces the processing time of the record pair comparison."
   ]
  },
  {
   "cell_type": "markdown",
   "metadata": {},
   "source": [
    "<center>\n",
    "    <b>Figure 4</b><a id='f_clustering'></a> Blocking and clustering of full data.\n",
    "    <img src=\"./documentation/clustering.png\" style=\"width: 500px;\"/></p>\n",
    "</center>"
   ]
  },
  {
   "cell_type": "markdown",
   "metadata": {},
   "source": [
    "The indexing and preclustering is done today by the CBS platform, see [figure 1](#f_basic_data_flow). The Swissbib project team plans to replace this indexing step with a new platform, see section 4c) below. The preclustering is outside of the scope of the capstone project."
   ]
  },
  {
   "cell_type": "markdown",
   "metadata": {},
   "source": [
    "After indexing, the record comparison is done pairwise for all records in each precluster, see [figure 3](#f_data_matching_process). In the record pair comparison step, the predefined attributes of two records are compared and a distance between them is derived. This step is the starting point of the central part of machine learning of the capstone project as the set of features to be used for model training will be specifically defined, see below. The data processing of the capstone project ends with the identification of the specific features for the machine lerning process and the definition of the distance metrics for each attribute, see below."
   ]
  },
  {
   "cell_type": "markdown",
   "metadata": {},
   "source": [
    "## 3) Exploratory data analysis (EDA)"
   ]
  },
  {
   "cell_type": "markdown",
   "metadata": {},
   "source": [
    "Below, a sample data set of Swissbib's data extract is shown."
   ]
  },
  {
   "cell_type": "code",
   "execution_count": 6,
   "metadata": {},
   "outputs": [
    {
     "data": {
      "text/html": [
       "<div>\n",
       "<style scoped>\n",
       "    .dataframe tbody tr th:only-of-type {\n",
       "        vertical-align: middle;\n",
       "    }\n",
       "\n",
       "    .dataframe tbody tr th {\n",
       "        vertical-align: top;\n",
       "    }\n",
       "\n",
       "    .dataframe thead th {\n",
       "        text-align: right;\n",
       "    }\n",
       "</style>\n",
       "<table border=\"1\" class=\"dataframe\">\n",
       "  <thead>\n",
       "    <tr style=\"text-align: right;\">\n",
       "      <th></th>\n",
       "      <th>docid</th>\n",
       "      <th>035liste</th>\n",
       "      <th>isbn</th>\n",
       "      <th>ttlfull</th>\n",
       "      <th>ttlpart</th>\n",
       "      <th>person</th>\n",
       "      <th>corporate</th>\n",
       "      <th>pubyear</th>\n",
       "      <th>decade</th>\n",
       "      <th>century</th>\n",
       "      <th>exactDate</th>\n",
       "      <th>edition</th>\n",
       "      <th>part</th>\n",
       "      <th>pages</th>\n",
       "      <th>volumes</th>\n",
       "      <th>pubinit</th>\n",
       "      <th>pubword</th>\n",
       "      <th>scale</th>\n",
       "      <th>coordinate</th>\n",
       "      <th>doi</th>\n",
       "      <th>ismn</th>\n",
       "      <th>musicid</th>\n",
       "      <th>format</th>\n",
       "    </tr>\n",
       "  </thead>\n",
       "  <tbody>\n",
       "    <tr>\n",
       "      <th>0</th>\n",
       "      <td>000311049</td>\n",
       "      <td>[(OCoLC)731635279, (ABN)000539983]</td>\n",
       "      <td>[978-3-15-020008-7]</td>\n",
       "      <td>{'245': ['Emma', 'Roman']}</td>\n",
       "      <td>{'245': ['Emma', 'Roman']}</td>\n",
       "      <td>{'100': ['AustenJane'], '700': ['GraweChristia...</td>\n",
       "      <td>{'110': [], '710': [], '810': []}</td>\n",
       "      <td>2009</td>\n",
       "      <td>2009</td>\n",
       "      <td>2009</td>\n",
       "      <td>2009</td>\n",
       "      <td></td>\n",
       "      <td>[20008]</td>\n",
       "      <td>[600 S.]</td>\n",
       "      <td>[600 S.]</td>\n",
       "      <td>[Reclam jun.]</td>\n",
       "      <td>[Reclam jun.]</td>\n",
       "      <td></td>\n",
       "      <td>[]</td>\n",
       "      <td>[]</td>\n",
       "      <td>[]</td>\n",
       "      <td></td>\n",
       "      <td>[BK020000]</td>\n",
       "    </tr>\n",
       "    <tr>\n",
       "      <th>1</th>\n",
       "      <td>00130724X</td>\n",
       "      <td>[(OCoLC)808324878, (ABN)000155059]</td>\n",
       "      <td>[]</td>\n",
       "      <td>{'245': ['Die Zauberflöte', 'Oper in zwei Aufz...</td>\n",
       "      <td>{'245': ['Die Zauberflöte', 'Oper in zwei Aufz...</td>\n",
       "      <td>{'100': ['LevineJamesDir.'], '700': ['MozartWo...</td>\n",
       "      <td>{'110': [], '710': ['Metropolitan Opera Orches...</td>\n",
       "      <td>2000</td>\n",
       "      <td>2000</td>\n",
       "      <td>2000</td>\n",
       "      <td>2000</td>\n",
       "      <td></td>\n",
       "      <td>[]</td>\n",
       "      <td>[1 DVD-Video, DVD Region 0, 169 Min., farb.]</td>\n",
       "      <td>[1 DVD-Video, DVD Region 0, 169 Min., farb.]</td>\n",
       "      <td>[Deutsche Grammophon]</td>\n",
       "      <td>[Deutsche Grammophon]</td>\n",
       "      <td></td>\n",
       "      <td>[]</td>\n",
       "      <td>[]</td>\n",
       "      <td>[]</td>\n",
       "      <td></td>\n",
       "      <td>[VM010300]</td>\n",
       "    </tr>\n",
       "    <tr>\n",
       "      <th>2</th>\n",
       "      <td>001817272</td>\n",
       "      <td>[(OCoLC)231772550, (ABN)000096920]</td>\n",
       "      <td>[3-495-47879-5]</td>\n",
       "      <td>{'245': ['Der moralische Status der Tiere', 'H...</td>\n",
       "      <td>{'245': ['Der moralische Status der Tiere', 'H...</td>\n",
       "      <td>{'100': ['FluryAndreas'], '700': [], '800': []...</td>\n",
       "      <td>{'110': [], '710': [], '810': []}</td>\n",
       "      <td>1999</td>\n",
       "      <td>1999</td>\n",
       "      <td>1999</td>\n",
       "      <td>1999</td>\n",
       "      <td></td>\n",
       "      <td>[]</td>\n",
       "      <td>[316 S.]</td>\n",
       "      <td>[316 S.]</td>\n",
       "      <td>[Alber]</td>\n",
       "      <td>[Alber]</td>\n",
       "      <td></td>\n",
       "      <td>[]</td>\n",
       "      <td>[]</td>\n",
       "      <td>[]</td>\n",
       "      <td></td>\n",
       "      <td>[BK020000]</td>\n",
       "    </tr>\n",
       "    <tr>\n",
       "      <th>3</th>\n",
       "      <td>00236865X</td>\n",
       "      <td>[(OCoLC)887157168, (ABN)000223912]</td>\n",
       "      <td>[]</td>\n",
       "      <td>{'245': ['Die Zauberflöte']}</td>\n",
       "      <td>{'245': ['Die Zauberflöte']}</td>\n",
       "      <td>{'100': ['MozartWolfgang Amadeus'], '700': [],...</td>\n",
       "      <td>{'110': [], '710': [], '810': []}</td>\n",
       "      <td>uuuuuuuu</td>\n",
       "      <td>uuuu</td>\n",
       "      <td>uuuu</td>\n",
       "      <td>uuuuuuuu</td>\n",
       "      <td></td>\n",
       "      <td>[]</td>\n",
       "      <td>[412 S.]</td>\n",
       "      <td>[412 S.]</td>\n",
       "      <td>[Ernst Eulenburg]</td>\n",
       "      <td>[Ernst Eulenburg]</td>\n",
       "      <td></td>\n",
       "      <td>[]</td>\n",
       "      <td>[]</td>\n",
       "      <td>[]</td>\n",
       "      <td></td>\n",
       "      <td>[BK020000]</td>\n",
       "    </tr>\n",
       "    <tr>\n",
       "      <th>4</th>\n",
       "      <td>00351031X</td>\n",
       "      <td>[(OCoLC)887324690, (ABN)000548154]</td>\n",
       "      <td>[978-1-4058-8214-9]</td>\n",
       "      <td>{'245': ['Emma']}</td>\n",
       "      <td>{'245': ['Emma']}</td>\n",
       "      <td>{'100': ['AustenJane'], '700': ['StrangeJoanna...</td>\n",
       "      <td>{'110': [], '710': [], '810': []}</td>\n",
       "      <td>2008</td>\n",
       "      <td>2008</td>\n",
       "      <td>2008</td>\n",
       "      <td>2008</td>\n",
       "      <td></td>\n",
       "      <td>[]</td>\n",
       "      <td>[64 S.]</td>\n",
       "      <td>[64 S.]</td>\n",
       "      <td>[Pearson Education]</td>\n",
       "      <td>[Pearson Education]</td>\n",
       "      <td></td>\n",
       "      <td>[]</td>\n",
       "      <td>[]</td>\n",
       "      <td>[]</td>\n",
       "      <td></td>\n",
       "      <td>[BK020000]</td>\n",
       "    </tr>\n",
       "    <tr>\n",
       "      <th>5</th>\n",
       "      <td>003517837</td>\n",
       "      <td>[(OCoLC)180154028, (ABN)000308006]</td>\n",
       "      <td>[978-3-7815-1531-4, 3-7815-1531-1]</td>\n",
       "      <td>{'245': ['Lernprozesse dokumentieren, reflekti...</td>\n",
       "      <td>{'245': ['Lernprozesse dokumentieren, reflekti...</td>\n",
       "      <td>{'100': [], '700': ['Gläser-ZikudaMichaela'], ...</td>\n",
       "      <td>{'110': [], '710': [], '810': []}</td>\n",
       "      <td>2007</td>\n",
       "      <td>2007</td>\n",
       "      <td>2007</td>\n",
       "      <td>2007</td>\n",
       "      <td>1. Aufl</td>\n",
       "      <td>[]</td>\n",
       "      <td>[304 S.]</td>\n",
       "      <td>[304 S.]</td>\n",
       "      <td>[Klinkhardt]</td>\n",
       "      <td>[Klinkhardt]</td>\n",
       "      <td></td>\n",
       "      <td>[]</td>\n",
       "      <td>[]</td>\n",
       "      <td>[]</td>\n",
       "      <td></td>\n",
       "      <td>[BK020000]</td>\n",
       "    </tr>\n",
       "    <tr>\n",
       "      <th>6</th>\n",
       "      <td>003555208</td>\n",
       "      <td>[(OCoLC)605622457, (ABN)000234417]</td>\n",
       "      <td>[]</td>\n",
       "      <td>{'245': ['Die Zauberflöte']}</td>\n",
       "      <td>{'245': ['Die Zauberflöte']}</td>\n",
       "      <td>{'100': ['MozartWolfgang Amadeus'], '700': ['H...</td>\n",
       "      <td>{'110': [], '710': [], '810': []}</td>\n",
       "      <td>1988</td>\n",
       "      <td>1988</td>\n",
       "      <td>1988</td>\n",
       "      <td>1988</td>\n",
       "      <td></td>\n",
       "      <td>[]</td>\n",
       "      <td>[2 Compact Discs in Box]</td>\n",
       "      <td>[2 Compact Discs in Box]</td>\n",
       "      <td>[Teldec]</td>\n",
       "      <td>[Teldec]</td>\n",
       "      <td></td>\n",
       "      <td>[]</td>\n",
       "      <td>[]</td>\n",
       "      <td>[]</td>\n",
       "      <td>Teldec</td>\n",
       "      <td>[MU040100]</td>\n",
       "    </tr>\n",
       "    <tr>\n",
       "      <th>7</th>\n",
       "      <td>003959953</td>\n",
       "      <td>[(OCoLC)887393628, (ABN)000218626]</td>\n",
       "      <td>[]</td>\n",
       "      <td>{'245': ['Die Zauberflöte']}</td>\n",
       "      <td>{'245': ['Die Zauberflöte']}</td>\n",
       "      <td>{'100': ['MozartWolfgang Amadeus'], '700': [],...</td>\n",
       "      <td>{'110': [], '710': ['Opernhaus Orchester Züric...</td>\n",
       "      <td>2002</td>\n",
       "      <td>2002</td>\n",
       "      <td>2002</td>\n",
       "      <td>2002</td>\n",
       "      <td></td>\n",
       "      <td>[]</td>\n",
       "      <td>[2 DVD]</td>\n",
       "      <td>[2 DVD]</td>\n",
       "      <td>[TDK Recording Media Europe]</td>\n",
       "      <td>[TDK Recording Media Europe]</td>\n",
       "      <td></td>\n",
       "      <td>[]</td>\n",
       "      <td>[]</td>\n",
       "      <td>[]</td>\n",
       "      <td></td>\n",
       "      <td>[VM010300]</td>\n",
       "    </tr>\n",
       "    <tr>\n",
       "      <th>8</th>\n",
       "      <td>005047420</td>\n",
       "      <td>[(OCoLC)778329562, (ABN)000048149]</td>\n",
       "      <td>[0252-9955]</td>\n",
       "      <td>{'245': ['Bildungsforschung und Bildungspraxis']}</td>\n",
       "      <td>{'245': ['Bildungsforschung und Bildungspraxis']}</td>\n",
       "      <td>{'100': [], '700': [], '800': [], '245c': ['hr...</td>\n",
       "      <td>{'110': [], '710': ['Schweizerische Gesellscha...</td>\n",
       "      <td>19791999</td>\n",
       "      <td>1979</td>\n",
       "      <td>1979</td>\n",
       "      <td>19791999</td>\n",
       "      <td></td>\n",
       "      <td>[]</td>\n",
       "      <td>[]</td>\n",
       "      <td>[]</td>\n",
       "      <td>[Universitätsverlag]</td>\n",
       "      <td>[Universitätsverlag]</td>\n",
       "      <td></td>\n",
       "      <td>[]</td>\n",
       "      <td>[]</td>\n",
       "      <td>[]</td>\n",
       "      <td></td>\n",
       "      <td>[CR030600]</td>\n",
       "    </tr>\n",
       "    <tr>\n",
       "      <th>9</th>\n",
       "      <td>005396816</td>\n",
       "      <td>[(OCoLC)780137741, (ABN)000669941]</td>\n",
       "      <td>[978-3-7255-6535-1]</td>\n",
       "      <td>{'245': ['Sozialleistungsbetrug - Sozialversic...</td>\n",
       "      <td>{'245': ['Sozialleistungsbetrug - Sozialversic...</td>\n",
       "      <td>{'100': ['KäserBeatrice'], '700': [], '800': [...</td>\n",
       "      <td>{'110': [], '710': [], '810': []}</td>\n",
       "      <td>2012</td>\n",
       "      <td>2012</td>\n",
       "      <td>2012</td>\n",
       "      <td>2012</td>\n",
       "      <td></td>\n",
       "      <td>[Bd. 63]</td>\n",
       "      <td>[244 S.]</td>\n",
       "      <td>[244 S.]</td>\n",
       "      <td>[Schulthess]</td>\n",
       "      <td>[Schulthess]</td>\n",
       "      <td></td>\n",
       "      <td>[]</td>\n",
       "      <td>[]</td>\n",
       "      <td>[]</td>\n",
       "      <td></td>\n",
       "      <td>[BK020300]</td>\n",
       "    </tr>\n",
       "  </tbody>\n",
       "</table>\n",
       "</div>"
      ],
      "text/plain": [
       "       docid                            035liste  \\\n",
       "0  000311049  [(OCoLC)731635279, (ABN)000539983]   \n",
       "1  00130724X  [(OCoLC)808324878, (ABN)000155059]   \n",
       "2  001817272  [(OCoLC)231772550, (ABN)000096920]   \n",
       "3  00236865X  [(OCoLC)887157168, (ABN)000223912]   \n",
       "4  00351031X  [(OCoLC)887324690, (ABN)000548154]   \n",
       "5  003517837  [(OCoLC)180154028, (ABN)000308006]   \n",
       "6  003555208  [(OCoLC)605622457, (ABN)000234417]   \n",
       "7  003959953  [(OCoLC)887393628, (ABN)000218626]   \n",
       "8  005047420  [(OCoLC)778329562, (ABN)000048149]   \n",
       "9  005396816  [(OCoLC)780137741, (ABN)000669941]   \n",
       "\n",
       "                                 isbn  \\\n",
       "0                 [978-3-15-020008-7]   \n",
       "1                                  []   \n",
       "2                     [3-495-47879-5]   \n",
       "3                                  []   \n",
       "4                 [978-1-4058-8214-9]   \n",
       "5  [978-3-7815-1531-4, 3-7815-1531-1]   \n",
       "6                                  []   \n",
       "7                                  []   \n",
       "8                         [0252-9955]   \n",
       "9                 [978-3-7255-6535-1]   \n",
       "\n",
       "                                             ttlfull  \\\n",
       "0                         {'245': ['Emma', 'Roman']}   \n",
       "1  {'245': ['Die Zauberflöte', 'Oper in zwei Aufz...   \n",
       "2  {'245': ['Der moralische Status der Tiere', 'H...   \n",
       "3                       {'245': ['Die Zauberflöte']}   \n",
       "4                                  {'245': ['Emma']}   \n",
       "5  {'245': ['Lernprozesse dokumentieren, reflekti...   \n",
       "6                       {'245': ['Die Zauberflöte']}   \n",
       "7                       {'245': ['Die Zauberflöte']}   \n",
       "8  {'245': ['Bildungsforschung und Bildungspraxis']}   \n",
       "9  {'245': ['Sozialleistungsbetrug - Sozialversic...   \n",
       "\n",
       "                                             ttlpart  \\\n",
       "0                         {'245': ['Emma', 'Roman']}   \n",
       "1  {'245': ['Die Zauberflöte', 'Oper in zwei Aufz...   \n",
       "2  {'245': ['Der moralische Status der Tiere', 'H...   \n",
       "3                       {'245': ['Die Zauberflöte']}   \n",
       "4                                  {'245': ['Emma']}   \n",
       "5  {'245': ['Lernprozesse dokumentieren, reflekti...   \n",
       "6                       {'245': ['Die Zauberflöte']}   \n",
       "7                       {'245': ['Die Zauberflöte']}   \n",
       "8  {'245': ['Bildungsforschung und Bildungspraxis']}   \n",
       "9  {'245': ['Sozialleistungsbetrug - Sozialversic...   \n",
       "\n",
       "                                              person  \\\n",
       "0  {'100': ['AustenJane'], '700': ['GraweChristia...   \n",
       "1  {'100': ['LevineJamesDir.'], '700': ['MozartWo...   \n",
       "2  {'100': ['FluryAndreas'], '700': [], '800': []...   \n",
       "3  {'100': ['MozartWolfgang Amadeus'], '700': [],...   \n",
       "4  {'100': ['AustenJane'], '700': ['StrangeJoanna...   \n",
       "5  {'100': [], '700': ['Gläser-ZikudaMichaela'], ...   \n",
       "6  {'100': ['MozartWolfgang Amadeus'], '700': ['H...   \n",
       "7  {'100': ['MozartWolfgang Amadeus'], '700': [],...   \n",
       "8  {'100': [], '700': [], '800': [], '245c': ['hr...   \n",
       "9  {'100': ['KäserBeatrice'], '700': [], '800': [...   \n",
       "\n",
       "                                           corporate   pubyear decade century  \\\n",
       "0                  {'110': [], '710': [], '810': []}  2009       2009    2009   \n",
       "1  {'110': [], '710': ['Metropolitan Opera Orches...  2000       2000    2000   \n",
       "2                  {'110': [], '710': [], '810': []}  1999       1999    1999   \n",
       "3                  {'110': [], '710': [], '810': []}  uuuuuuuu   uuuu    uuuu   \n",
       "4                  {'110': [], '710': [], '810': []}  2008       2008    2008   \n",
       "5                  {'110': [], '710': [], '810': []}  2007       2007    2007   \n",
       "6                  {'110': [], '710': [], '810': []}  1988       1988    1988   \n",
       "7  {'110': [], '710': ['Opernhaus Orchester Züric...  2002       2002    2002   \n",
       "8  {'110': [], '710': ['Schweizerische Gesellscha...  19791999   1979    1979   \n",
       "9                  {'110': [], '710': [], '810': []}  2012       2012    2012   \n",
       "\n",
       "  exactDate  edition      part                                         pages  \\\n",
       "0  2009                [20008]                                      [600 S.]   \n",
       "1  2000                     []  [1 DVD-Video, DVD Region 0, 169 Min., farb.]   \n",
       "2  1999                     []                                      [316 S.]   \n",
       "3  uuuuuuuu                 []                                      [412 S.]   \n",
       "4  2008                     []                                       [64 S.]   \n",
       "5  2007      1. Aufl        []                                      [304 S.]   \n",
       "6  1988                     []                      [2 Compact Discs in Box]   \n",
       "7  2002                     []                                       [2 DVD]   \n",
       "8  19791999                 []                                            []   \n",
       "9  2012               [Bd. 63]                                      [244 S.]   \n",
       "\n",
       "                                        volumes                       pubinit  \\\n",
       "0                                      [600 S.]                 [Reclam jun.]   \n",
       "1  [1 DVD-Video, DVD Region 0, 169 Min., farb.]         [Deutsche Grammophon]   \n",
       "2                                      [316 S.]                       [Alber]   \n",
       "3                                      [412 S.]             [Ernst Eulenburg]   \n",
       "4                                       [64 S.]           [Pearson Education]   \n",
       "5                                      [304 S.]                  [Klinkhardt]   \n",
       "6                      [2 Compact Discs in Box]                      [Teldec]   \n",
       "7                                       [2 DVD]  [TDK Recording Media Europe]   \n",
       "8                                            []          [Universitätsverlag]   \n",
       "9                                      [244 S.]                  [Schulthess]   \n",
       "\n",
       "                        pubword scale coordinate doi ismn musicid      format  \n",
       "0                 [Reclam jun.]               []  []   []          [BK020000]  \n",
       "1         [Deutsche Grammophon]               []  []   []          [VM010300]  \n",
       "2                       [Alber]               []  []   []          [BK020000]  \n",
       "3             [Ernst Eulenburg]               []  []   []          [BK020000]  \n",
       "4           [Pearson Education]               []  []   []          [BK020000]  \n",
       "5                  [Klinkhardt]               []  []   []          [BK020000]  \n",
       "6                      [Teldec]               []  []   []  Teldec  [MU040100]  \n",
       "7  [TDK Recording Media Europe]               []  []   []          [VM010300]  \n",
       "8          [Universitätsverlag]               []  []   []          [CR030600]  \n",
       "9                  [Schulthess]               []  []   []          [BK020300]  "
      ]
     },
     "execution_count": 6,
     "metadata": {},
     "output_type": "execute_result"
    }
   ],
   "source": [
    "df_s = pd.DataFrame(records_slaves)\n",
    "\n",
    "# Extend display to number of columns of DataFrame\n",
    "pd.options.display.max_columns = len(df_s.columns)\n",
    "\n",
    "df_s.head(10)"
   ]
  },
  {
   "cell_type": "markdown",
   "metadata": {},
   "source": [
    "### (a) Preliminary EDA"
   ]
  },
  {
   "cell_type": "markdown",
   "metadata": {},
   "source": [
    "A first sample data delivery by Swissbib's project team in the form of a json file with a number of 183'407 records dating from 10.11.2019 has revealed information of the attributes that is summarized in a table of Swissbib's Wiki pages [[8](#feature_deduplication_wiki)]. These attributes cover a wide range of data types like strings of text, codes, and numbers in the form of lists. On the other hand, the data shows missing values in most of the attributes."
   ]
  },
  {
   "cell_type": "markdown",
   "metadata": {},
   "source": [
    "In a first step, the quality of the data extract for the capstone project, see orange coloured data path of [figure 1](#f_basic_data_flow), has to be verified and improved to a useful level [[7](#scala_repo)]. This will be done by the following activities.\n",
    "- Verifying random sample data to the results of a data search on Swissbib's web site [[1](#swissbib)].\n",
    "- Investigating missing values and the degree of filling of the attributes.\n",
    "- Refining the structure of the data, see below.\n",
    "- Checking for plausibilities with the help of relationships between features.\n",
    "- Checking for outliers."
   ]
  },
  {
   "cell_type": "markdown",
   "metadata": {},
   "source": [
    "In a first basic analysis, done with a very early data extract, the attributes $\\texttt{ttlfull}$ and $\\texttt{person}$ were found as a list of comma-separated strings originating in combinations of several parts of the MARC 21 data strucutre, see [[8](#feature_deduplication_wiki)]. This superstructuring has been questioned and reengineered afterwards in a detailed form, shown in the data extract of the goldstandard above. This kind of data analysis and structure refinement will be elaborated in the beginning of the capstone project."
   ]
  },
  {
   "cell_type": "markdown",
   "metadata": {},
   "source": [
    "### (b) How does the EDA inform your project plan?"
   ]
  },
  {
   "cell_type": "markdown",
   "metadata": {},
   "source": [
    "The important step of the deduplication process is record pair comparison in [figure 3](#f_data_matching_process). The challenge of this step is to find the attribute set with the best effect on duplicate prediction together with some distance metrics for a clear identification of pairs of duplicate records. This challenge will be taken by testing several similarity metrics, like e.g.\n",
    "- Levenshtein edit similarity\n",
    "- some q-gram based similarity\n",
    "- Jaccard similarity\n",
    "- etc.\n",
    "\n",
    "[[9](#data_matching)], and assessing their effect on the prediction quality of the model. The best distance metric(s) found will be applied on the defined set of attributes of each pair of records to be compared, resulting in a set of new, derived attributes for comparison. These new attributes of a record pair will be the features of the machine learning model."
   ]
  },
  {
   "cell_type": "markdown",
   "metadata": {},
   "source": [
    "### (c) What further EDA do you plan for project?"
   ]
  },
  {
   "cell_type": "markdown",
   "metadata": {},
   "source": [
    "Swissbib data contains more attributes than the list for deduplication [[8](#feature_deduplication_wiki)]. The degree of filling and the quality of these potential attributes is unknown, at the moment. One task might be to identify additional promising attributes to enhance the performance of the trained model. This will be done with the help of the MARC 21 documentation [[6](#marc21)]. If such promising additional attributes can be identified, the Swissbib project team will be asked to add them to their data extract."
   ]
  },
  {
   "cell_type": "markdown",
   "metadata": {},
   "source": [
    "## 4) Machine learning "
   ]
  },
  {
   "cell_type": "markdown",
   "metadata": {},
   "source": [
    "The last step of a general data matching process is classification, see [figure 3](#f_data_matching_process). In this step of the capstone project, machine learning comes into play. It will be used for calculating the thresholds between matching, potentially matching, and non-matching record pairs. The records will be classified with the help of different methods, see below. Swissbib's test data of the goldstandard will allow training of the model during this step."
   ]
  },
  {
   "cell_type": "markdown",
   "metadata": {},
   "source": [
    "The performance of the model will be measured either with a fraction of the training data or with additional deduplicated data of the Swissbib platform. If a fraction of the training data will be used, this fraction will be excluded from the training of the model. The key indicators out of the [confusion matrix](https://en.wikipedia.org/wiki/Confusion_matrix) will be used for assessing the performance of each model analysed."
   ]
  },
  {
   "cell_type": "markdown",
   "metadata": {},
   "source": [
    "### (a) Phrase your project goal as a clear machine learning question"
   ]
  },
  {
   "cell_type": "markdown",
   "metadata": {},
   "source": [
    "The goal of the capstone project is to implement and train an artificial neural network for deduplication [[10](#padmanaban2012)] of library catalogue data in MARC 21 format. The neural network will be trained with Swissbib's goldstandard data for deduplication. The performance of the resulting model will be analysed with some key indicators derived from the confusion matrix."
   ]
  },
  {
   "cell_type": "markdown",
   "metadata": {},
   "source": [
    "### (b) What models are you planning to use and why?"
   ]
  },
  {
   "cell_type": "markdown",
   "metadata": {},
   "source": [
    "The following machine learning models will be used in the scope of the capstone project.\n",
    "- [[9](#data_matching)] suggests deduplication with the help of decision trees. The capstone project will analyse the outcomes of a decision tree model.\n",
    "- [[9](#data_matching)] suggests deduplication with a support vector machine (svm). The results of an svm model with the model above will be compared.\n",
    "- [[10](#padmanaban2012)] describes a deduplication method based on an artificial neural network. The approach of this reference will be tried to reproduce for the given data."
   ]
  },
  {
   "cell_type": "markdown",
   "metadata": {},
   "source": [
    "### (c) Please tell us your detailed machine learning strategy "
   ]
  },
  {
   "cell_type": "markdown",
   "metadata": {},
   "source": [
    "If the accuracy of the prediction of duplicates is comparable with the implemented conventional deduplication logic then the implemented deduplication will be replaced with the new model in the context of an [Apache Flink](https://flink.apache.org/) or an [Apache Spark](https://spark.apache.org/) implementation."
   ]
  },
  {
   "cell_type": "markdown",
   "metadata": {},
   "source": [
    "## 5) Additional information"
   ]
  },
  {
   "cell_type": "markdown",
   "metadata": {},
   "source": [
    "### References"
   ]
  },
  {
   "cell_type": "markdown",
   "metadata": {},
   "source": [
    "[1<a id='swissbib'></a>] - https://www.swissbib.ch/, Access web site of Swissbib's online catalogue.<br>\n",
    "[2<a id='meeting_20191015'></a>] - Communication by Silvia Witzig, Universität Basel, Universitätsbibliothek, Projekt swissbib, 15.10.2019.<br>\n",
    "[3<a id='swissbib_sru'></a>] - http://sru.swissbib.ch/, Interface to Swissbib's online catalogue as [Search/Retrieve via URL](https://en.wikipedia.org/wiki/Search/Retrieve_via_URL).<br>\n",
    "[4<a id='cc0'></a>] - https://creativecommons.org/share-your-work/public-domain/cc0/, Creative Commons CC0 license documentation.<br>\n",
    "[5<a id='swissbib_cc0'></a>] - https://data.swissbib.ch/, Documentation of Swissbib's CC0 open data.<br>\n",
    "[6<a id='marc21'></a>] - https://www.loc.gov/marc/bibliographic/, MARC 21 format description for bibliographic data, <a href='https://www.loc.gov/librarians/standards'>Library of Congress</a><br>\n",
    "[7<a id='scala_repo'></a>] - https://github.com/guenterh/andreas_cluster_features, Repository to scala code for data extraction.<br>\n",
    "[8<a id='feature_deduplication_wiki'></a>] - http://www.swissbib.org/wiki/index.php?title=Features_Deduplication, Wikipedia site created for documentation of features for deduplication.<br>\n",
    "[9<a id='data_matching'></a>] - _Data Matching - Concepts and Techniques for Record Linkage, Entity Resolution, and Duplicate Detection_, Peter Christen, Springer-Verlag 2012.<br>\n",
    "[10<a id='padmanaban2012'></a>] - _An approach based on artificial neural network for data deduplication_, M. Padmanaban, T. Bhuvaneswari, International Journal of Computer Science and Information Technologies, Vol. 3(4), 2012, 4637-4644.<br>"
   ]
  },
  {
   "cell_type": "code",
   "execution_count": null,
   "metadata": {},
   "outputs": [],
   "source": []
  }
 ],
 "metadata": {
  "kernelspec": {
   "display_name": "Python 3",
   "language": "python",
   "name": "python3"
  },
  "language_info": {
   "codemirror_mode": {
    "name": "ipython",
    "version": 3
   },
   "file_extension": ".py",
   "mimetype": "text/x-python",
   "name": "python",
   "nbconvert_exporter": "python",
   "pygments_lexer": "ipython3",
   "version": "3.8.3"
  }
 },
 "nbformat": 4,
 "nbformat_minor": 2
}
