{
 "cells": [
  {
   "cell_type": "markdown",
   "metadata": {},
   "source": [
    "# Capstone Project - Deduplication of Swissbib Raw Data"
   ]
  },
  {
   "cell_type": "markdown",
   "metadata": {},
   "source": [
    "**Program** Applied Data Science : Machine Learning<br>\n",
    "**Institution** EPFL Extension School<br>\n",
    "**Course** \\#5, Capstone Project<br><br>\n",
    "**Title** Deduplication of Swissbib Raw Data<br>\n",
    "**Author** Andreas Jud<br>\n",
    "**Date** dd-mmm-2020"
   ]
  },
  {
   "cell_type": "markdown",
   "metadata": {},
   "source": [
    "## Table of Contents\n",
    "\n",
    "- [Introduction](#Introduction)\n",
    "- [Overview](#overview)\n",
    "- [Summary](#summary)"
   ]
  },
  {
   "cell_type": "markdown",
   "metadata": {},
   "source": [
    "## Introduction<a id='introduction'/>"
   ]
  },
  {
   "cell_type": "markdown",
   "metadata": {},
   "source": [
    "[Proposal](./project-proposal-andreas-jud.ipynb)"
   ]
  },
  {
   "cell_type": "markdown",
   "metadata": {},
   "source": [
    "## Overview<a id='overview'/>"
   ]
  },
  {
   "cell_type": "markdown",
   "metadata": {},
   "source": [
    "The notebook of the capstone project consists of the following chapters."
   ]
  },
  {
   "cell_type": "markdown",
   "metadata": {},
   "source": [
    "1. [Data Analysis](./1_DataAnalysis.ipynb)\n",
    "- [Goldstandard and Data Preparation](./2_GoldstandardDataPreparation.ipynb)\n",
    "- [Feature Matrix Generation](./3_FeatureMatrixGeneration.ipynb)\n",
    "- [Decision Tree Model](/4_DecisionTreeModel.ipynb)\n",
    "\n",
    "Appendix\n",
    "\n",
    "A. [References](./A_References.ipynb)"
   ]
  },
  {
   "cell_type": "code",
   "execution_count": null,
   "metadata": {},
   "outputs": [],
   "source": []
  },
  {
   "cell_type": "markdown",
   "metadata": {},
   "source": [
    "## Summary<a id='summary'/>"
   ]
  },
  {
   "cell_type": "code",
   "execution_count": 1,
   "metadata": {},
   "outputs": [
    {
     "name": "stdout",
     "output_type": "stream",
     "text": [
      "Executing notebook 1_DataAnalysis.ipynb\n",
      "Executing notebook 2_GoldstandardDataPreparation.ipynb\n",
      "Executing notebook 3_FeatureMatrixGeneration.ipynb\n",
      "Executing notebook 4_FeatureDiscussionDummyBaseline.ipynb\n",
      "Executing notebook 5_DecisionTreeModel.ipynb\n",
      "Executing notebook 6_SVCModel.ipynb\n",
      "Executing notebook 7_NeuralNetwork-Copy1.ipynb\n",
      "Executing notebook 7_NeuralNetwork-Copy2.ipynb\n",
      "Executing notebook 7_NeuralNetwork.ipynb\n",
      "Done with all notebooks.\n"
     ]
    }
   ],
   "source": [
    "import nbformat\n",
    "from nbconvert.preprocessors import ExecutePreprocessor\n",
    "\n",
    "# Determine all relenvant notebooks, ommit Overview Summary and Appendixes\n",
    "a = ! ls [1-9]_* | grep .ipynb\n",
    "\n",
    "for i in range(len(a)):\n",
    "    print('Executing notebook', a[i])\n",
    "    with open(a[i]) as notebook:\n",
    "        nb = nbformat.read(notebook, as_version=4)\n",
    "        ep = ExecutePreprocessor(timeout=None)\n",
    "        ep.preprocess(nb, {\"metadata\": {\"path\": './'}})\n",
    "\n",
    "print('Done with all notebooks.')"
   ]
  },
  {
   "cell_type": "code",
   "execution_count": 2,
   "metadata": {},
   "outputs": [
    {
     "data": {
      "text/html": [
       "<div>\n",
       "<style scoped>\n",
       "    .dataframe tbody tr th:only-of-type {\n",
       "        vertical-align: middle;\n",
       "    }\n",
       "\n",
       "    .dataframe tbody tr th {\n",
       "        vertical-align: top;\n",
       "    }\n",
       "\n",
       "    .dataframe thead th {\n",
       "        text-align: right;\n",
       "    }\n",
       "</style>\n",
       "<table border=\"1\" class=\"dataframe\">\n",
       "  <thead>\n",
       "    <tr style=\"text-align: right;\">\n",
       "      <th></th>\n",
       "      <th>model</th>\n",
       "      <th>test_score</th>\n",
       "      <th>auc</th>\n",
       "      <th>accuracy</th>\n",
       "      <th>precision</th>\n",
       "      <th>recall</th>\n",
       "      <th>test_score_log</th>\n",
       "      <th>auc_log</th>\n",
       "      <th>accuracy_log</th>\n",
       "      <th>precision_log</th>\n",
       "      <th>recall_log</th>\n",
       "    </tr>\n",
       "  </thead>\n",
       "  <tbody>\n",
       "    <tr>\n",
       "      <th>1</th>\n",
       "      <td>DecisionTreeClassifier</td>\n",
       "      <td>0.999252</td>\n",
       "      <td>97.771539</td>\n",
       "      <td>99.925211</td>\n",
       "      <td>91.558442</td>\n",
       "      <td>95.593220</td>\n",
       "      <td>-7.198260</td>\n",
       "      <td>-3.803859</td>\n",
       "      <td>-7.198260</td>\n",
       "      <td>-2.472003</td>\n",
       "      <td>-3.122026</td>\n",
       "    </tr>\n",
       "    <tr>\n",
       "      <th>2</th>\n",
       "      <td>SVC</td>\n",
       "      <td>0.998102</td>\n",
       "      <td>86.085302</td>\n",
       "      <td>99.810152</td>\n",
       "      <td>92.608696</td>\n",
       "      <td>72.203390</td>\n",
       "      <td>-6.266702</td>\n",
       "      <td>-1.972225</td>\n",
       "      <td>-6.266702</td>\n",
       "      <td>-2.604866</td>\n",
       "      <td>-1.280256</td>\n",
       "    </tr>\n",
       "    <tr>\n",
       "      <th>0</th>\n",
       "      <td>DummyClassifier</td>\n",
       "      <td>0.988973</td>\n",
       "      <td>49.898528</td>\n",
       "      <td>98.897348</td>\n",
       "      <td>0.354610</td>\n",
       "      <td>0.338983</td>\n",
       "      <td>-4.507452</td>\n",
       "      <td>-0.691120</td>\n",
       "      <td>-4.507452</td>\n",
       "      <td>-0.003552</td>\n",
       "      <td>-0.003396</td>\n",
       "    </tr>\n",
       "    <tr>\n",
       "      <th>3</th>\n",
       "      <td>Neural Network</td>\n",
       "      <td>0.000000</td>\n",
       "      <td>96.610169</td>\n",
       "      <td>96.610169</td>\n",
       "      <td>95.379538</td>\n",
       "      <td>97.966102</td>\n",
       "      <td>0.000000</td>\n",
       "      <td>-3.384390</td>\n",
       "      <td>-3.384390</td>\n",
       "      <td>-3.074675</td>\n",
       "      <td>-3.895216</td>\n",
       "    </tr>\n",
       "    <tr>\n",
       "      <th>4</th>\n",
       "      <td>Neural Network</td>\n",
       "      <td>0.000000</td>\n",
       "      <td>97.842220</td>\n",
       "      <td>97.474168</td>\n",
       "      <td>93.890675</td>\n",
       "      <td>98.983051</td>\n",
       "      <td>0.000000</td>\n",
       "      <td>-3.836090</td>\n",
       "      <td>-3.678600</td>\n",
       "      <td>-2.795354</td>\n",
       "      <td>-4.588363</td>\n",
       "    </tr>\n",
       "    <tr>\n",
       "      <th>5</th>\n",
       "      <td>Neural Network</td>\n",
       "      <td>0.000000</td>\n",
       "      <td>96.949153</td>\n",
       "      <td>96.949153</td>\n",
       "      <td>96.949153</td>\n",
       "      <td>96.949153</td>\n",
       "      <td>0.000000</td>\n",
       "      <td>-3.489751</td>\n",
       "      <td>-3.489751</td>\n",
       "      <td>-3.489751</td>\n",
       "      <td>-3.489751</td>\n",
       "    </tr>\n",
       "  </tbody>\n",
       "</table>\n",
       "</div>"
      ],
      "text/plain": [
       "                    model  test_score        auc   accuracy  precision  \\\n",
       "1  DecisionTreeClassifier    0.999252  97.771539  99.925211  91.558442   \n",
       "2                     SVC    0.998102  86.085302  99.810152  92.608696   \n",
       "0         DummyClassifier    0.988973  49.898528  98.897348   0.354610   \n",
       "3          Neural Network    0.000000  96.610169  96.610169  95.379538   \n",
       "4          Neural Network    0.000000  97.842220  97.474168  93.890675   \n",
       "5          Neural Network    0.000000  96.949153  96.949153  96.949153   \n",
       "\n",
       "      recall  test_score_log   auc_log  accuracy_log  precision_log  \\\n",
       "1  95.593220       -7.198260 -3.803859     -7.198260      -2.472003   \n",
       "2  72.203390       -6.266702 -1.972225     -6.266702      -2.604866   \n",
       "0   0.338983       -4.507452 -0.691120     -4.507452      -0.003552   \n",
       "3  97.966102        0.000000 -3.384390     -3.384390      -3.074675   \n",
       "4  98.983051        0.000000 -3.836090     -3.678600      -2.795354   \n",
       "5  96.949153        0.000000 -3.489751     -3.489751      -3.489751   \n",
       "\n",
       "   recall_log  \n",
       "1   -3.122026  \n",
       "2   -1.280256  \n",
       "0   -0.003396  \n",
       "3   -3.895216  \n",
       "4   -4.588363  \n",
       "5   -3.489751  "
      ]
     },
     "execution_count": 2,
     "metadata": {},
     "output_type": "execute_result"
    }
   ],
   "source": [
    "import results_saving_funcs as rsf\n",
    "import pandas as pd\n",
    "\n",
    "path_goldstandard = './daten_goldstandard'\n",
    "\n",
    "df_results = rsf.restore_results(path_goldstandard)\n",
    "df_results.reset_index(drop=True, inplace=True)\n",
    "\n",
    "df_results.sort_values('test_score', ascending=False)"
   ]
  },
  {
   "cell_type": "code",
   "execution_count": null,
   "metadata": {},
   "outputs": [],
   "source": []
  }
 ],
 "metadata": {
  "kernelspec": {
   "display_name": "Python 3",
   "language": "python",
   "name": "python3"
  },
  "language_info": {
   "codemirror_mode": {
    "name": "ipython",
    "version": 3
   },
   "file_extension": ".py",
   "mimetype": "text/x-python",
   "name": "python",
   "nbconvert_exporter": "python",
   "pygments_lexer": "ipython3",
   "version": "3.7.1"
  }
 },
 "nbformat": 4,
 "nbformat_minor": 2
}
