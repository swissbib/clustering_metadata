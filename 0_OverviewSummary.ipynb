{
 "cells": [
  {
   "cell_type": "markdown",
   "metadata": {},
   "source": [
    "# Capstone Project - Deduplication of Swissbib Raw Data"
   ]
  },
  {
   "cell_type": "markdown",
   "metadata": {},
   "source": [
    "**Program** Applied Data Science : Machine Learning<br>\n",
    "**Institution** EPFL Extension School<br>\n",
    "**Course** \\#5, Capstone Project<br><br>\n",
    "**Title** Deduplication of Swissbib Raw Data<br>\n",
    "**Author** Andreas Jud<br>\n",
    "**Date** dd-mmm-2020"
   ]
  },
  {
   "cell_type": "markdown",
   "metadata": {},
   "source": [
    "## Table of Contents\n",
    "\n",
    "- [Introduction](#Introduction)\n",
    "- [Overview](#overview)\n",
    "- [Summary](#summary)"
   ]
  },
  {
   "cell_type": "markdown",
   "metadata": {},
   "source": [
    "## Introduction<a id='introduction'/>"
   ]
  },
  {
   "cell_type": "markdown",
   "metadata": {},
   "source": [
    "[Proposal](./project-proposal-andreas-jud.ipynb)"
   ]
  },
  {
   "cell_type": "markdown",
   "metadata": {},
   "source": [
    "## Overview<a id='overview'/>"
   ]
  },
  {
   "cell_type": "markdown",
   "metadata": {},
   "source": [
    "The notebook of the capstone project consists of the following chapters."
   ]
  },
  {
   "cell_type": "markdown",
   "metadata": {},
   "source": [
    "1. [Data Analysis](./1_DataAnalysis.ipynb)\n",
    "- [Goldstandard and Data Preparation](./2_GoldstandardDataPreparation.ipynb)\n",
    "- [Feature Matrix Generation](./3_FeatureMatrixGeneration.ipynb)\n",
    "- [Decision Tree Model](/4_DecisionTreeModel.ipynb)\n",
    "\n",
    "Appendix\n",
    "\n",
    "A. [References](./A_References.ipynb)"
   ]
  },
  {
   "cell_type": "code",
   "execution_count": null,
   "metadata": {},
   "outputs": [],
   "source": []
  },
  {
   "cell_type": "markdown",
   "metadata": {},
   "source": [
    "## Summary<a id='summary'/>"
   ]
  },
  {
   "cell_type": "code",
   "execution_count": 1,
   "metadata": {},
   "outputs": [
    {
     "name": "stdout",
     "output_type": "stream",
     "text": [
      "Executing notebook 1_DataAnalysis.ipynb\n",
      "Executing notebook 2_GoldstandardDataPreparation.ipynb\n",
      "Executing notebook 3_FeatureMatrixGeneration.ipynb\n",
      "Executing notebook 4_FeatureDiscussionDummyBaseline.ipynb\n",
      "Executing notebook 5_DecisionTreeModel.ipynb\n",
      "Executing notebook 6_SVCModel.ipynb\n",
      "Executing notebook 7_NeuralNetwork-Copy1.ipynb\n",
      "Executing notebook 7_NeuralNetwork-Copy2.ipynb\n",
      "Executing notebook 7_NeuralNetwork.ipynb\n",
      "Done with all notebooks.\n"
     ]
    }
   ],
   "source": [
    "import nbformat\n",
    "from nbconvert.preprocessors import ExecutePreprocessor\n",
    "\n",
    "# Determine all relenvant notebooks, ommit Overview Summary and Appendixes\n",
    "a = ! ls [1-9]_* | grep .ipynb\n",
    "\n",
    "for i in range(len(a)):\n",
    "    print('Executing notebook', a[i])\n",
    "    with open(a[i]) as notebook:\n",
    "        nb = nbformat.read(notebook, as_version=4)\n",
    "        ep = ExecutePreprocessor(timeout=None)\n",
    "        ep.preprocess(nb, {\"metadata\": {\"path\": './'}})\n",
    "\n",
    "print('Done with all notebooks.')"
   ]
  },
  {
   "cell_type": "code",
   "execution_count": 2,
   "metadata": {},
   "outputs": [
    {
     "data": {
      "text/html": [
       "<div>\n",
       "<style scoped>\n",
       "    .dataframe tbody tr th:only-of-type {\n",
       "        vertical-align: middle;\n",
       "    }\n",
       "\n",
       "    .dataframe tbody tr th {\n",
       "        vertical-align: top;\n",
       "    }\n",
       "\n",
       "    .dataframe thead th {\n",
       "        text-align: right;\n",
       "    }\n",
       "</style>\n",
       "<table border=\"1\" class=\"dataframe\">\n",
       "  <thead>\n",
       "    <tr style=\"text-align: right;\">\n",
       "      <th></th>\n",
       "      <th>model</th>\n",
       "      <th>test_score</th>\n",
       "      <th>auc</th>\n",
       "      <th>accuracy</th>\n",
       "      <th>precision</th>\n",
       "      <th>recall</th>\n",
       "      <th>test_score_log</th>\n",
       "      <th>auc_log</th>\n",
       "      <th>accuracy_log</th>\n",
       "      <th>precision_log</th>\n",
       "      <th>recall_log</th>\n",
       "    </tr>\n",
       "  </thead>\n",
       "  <tbody>\n",
       "    <tr>\n",
       "      <th>1</th>\n",
       "      <td>DecisionTreeClassifier</td>\n",
       "      <td>0.999501</td>\n",
       "      <td>98.458183</td>\n",
       "      <td>99.950141</td>\n",
       "      <td>94.389439</td>\n",
       "      <td>96.949153</td>\n",
       "      <td>-7.603725</td>\n",
       "      <td>-4.172209</td>\n",
       "      <td>-7.603725</td>\n",
       "      <td>-2.880519</td>\n",
       "      <td>-3.489751</td>\n",
       "    </tr>\n",
       "    <tr>\n",
       "      <th>2</th>\n",
       "      <td>SVC</td>\n",
       "      <td>0.998408</td>\n",
       "      <td>89.302748</td>\n",
       "      <td>99.840835</td>\n",
       "      <td>92.063492</td>\n",
       "      <td>78.644068</td>\n",
       "      <td>-6.442981</td>\n",
       "      <td>-2.235183</td>\n",
       "      <td>-6.442981</td>\n",
       "      <td>-2.533697</td>\n",
       "      <td>-1.543841</td>\n",
       "    </tr>\n",
       "    <tr>\n",
       "      <th>0</th>\n",
       "      <td>DummyClassifier</td>\n",
       "      <td>0.988973</td>\n",
       "      <td>49.898528</td>\n",
       "      <td>98.897348</td>\n",
       "      <td>0.354610</td>\n",
       "      <td>0.338983</td>\n",
       "      <td>-4.507452</td>\n",
       "      <td>-0.691120</td>\n",
       "      <td>-4.507452</td>\n",
       "      <td>-0.003552</td>\n",
       "      <td>-0.003396</td>\n",
       "    </tr>\n",
       "    <tr>\n",
       "      <th>3</th>\n",
       "      <td>Neural Network</td>\n",
       "      <td>0.000000</td>\n",
       "      <td>89.152542</td>\n",
       "      <td>89.152542</td>\n",
       "      <td>83.870968</td>\n",
       "      <td>96.949153</td>\n",
       "      <td>0.000000</td>\n",
       "      <td>-2.221239</td>\n",
       "      <td>-2.221239</td>\n",
       "      <td>-1.824549</td>\n",
       "      <td>-3.489751</td>\n",
       "    </tr>\n",
       "    <tr>\n",
       "      <th>4</th>\n",
       "      <td>Neural Network</td>\n",
       "      <td>0.000000</td>\n",
       "      <td>93.770304</td>\n",
       "      <td>94.603904</td>\n",
       "      <td>92.758621</td>\n",
       "      <td>91.186441</td>\n",
       "      <td>0.000000</td>\n",
       "      <td>-2.775843</td>\n",
       "      <td>-2.919494</td>\n",
       "      <td>-2.625358</td>\n",
       "      <td>-2.428879</td>\n",
       "    </tr>\n",
       "    <tr>\n",
       "      <th>5</th>\n",
       "      <td>Neural Network</td>\n",
       "      <td>0.000000</td>\n",
       "      <td>92.881356</td>\n",
       "      <td>92.881356</td>\n",
       "      <td>88.685015</td>\n",
       "      <td>98.305085</td>\n",
       "      <td>0.000000</td>\n",
       "      <td>-2.642453</td>\n",
       "      <td>-2.642453</td>\n",
       "      <td>-2.179042</td>\n",
       "      <td>-4.077537</td>\n",
       "    </tr>\n",
       "  </tbody>\n",
       "</table>\n",
       "</div>"
      ],
      "text/plain": [
       "                    model  test_score        auc   accuracy  precision  \\\n",
       "1  DecisionTreeClassifier    0.999501  98.458183  99.950141  94.389439   \n",
       "2                     SVC    0.998408  89.302748  99.840835  92.063492   \n",
       "0         DummyClassifier    0.988973  49.898528  98.897348   0.354610   \n",
       "3          Neural Network    0.000000  89.152542  89.152542  83.870968   \n",
       "4          Neural Network    0.000000  93.770304  94.603904  92.758621   \n",
       "5          Neural Network    0.000000  92.881356  92.881356  88.685015   \n",
       "\n",
       "      recall  test_score_log   auc_log  accuracy_log  precision_log  \\\n",
       "1  96.949153       -7.603725 -4.172209     -7.603725      -2.880519   \n",
       "2  78.644068       -6.442981 -2.235183     -6.442981      -2.533697   \n",
       "0   0.338983       -4.507452 -0.691120     -4.507452      -0.003552   \n",
       "3  96.949153        0.000000 -2.221239     -2.221239      -1.824549   \n",
       "4  91.186441        0.000000 -2.775843     -2.919494      -2.625358   \n",
       "5  98.305085        0.000000 -2.642453     -2.642453      -2.179042   \n",
       "\n",
       "   recall_log  \n",
       "1   -3.489751  \n",
       "2   -1.543841  \n",
       "0   -0.003396  \n",
       "3   -3.489751  \n",
       "4   -2.428879  \n",
       "5   -4.077537  "
      ]
     },
     "execution_count": 2,
     "metadata": {},
     "output_type": "execute_result"
    }
   ],
   "source": [
    "import results_saving_funcs as rsf\n",
    "import pandas as pd\n",
    "\n",
    "path_goldstandard = './daten_goldstandard'\n",
    "\n",
    "df_results = rsf.restore_results(path_goldstandard)\n",
    "df_results.reset_index(drop=True, inplace=True)\n",
    "\n",
    "df_results.sort_values('test_score', ascending=False)"
   ]
  },
  {
   "cell_type": "code",
   "execution_count": null,
   "metadata": {},
   "outputs": [],
   "source": []
  }
 ],
 "metadata": {
  "kernelspec": {
   "display_name": "Python 3",
   "language": "python",
   "name": "python3"
  },
  "language_info": {
   "codemirror_mode": {
    "name": "ipython",
    "version": 3
   },
   "file_extension": ".py",
   "mimetype": "text/x-python",
   "name": "python",
   "nbconvert_exporter": "python",
   "pygments_lexer": "ipython3",
   "version": "3.7.1"
  }
 },
 "nbformat": 4,
 "nbformat_minor": 2
}
