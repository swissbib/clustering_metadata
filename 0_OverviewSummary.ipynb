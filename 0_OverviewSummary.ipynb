{
 "cells": [
  {
   "cell_type": "markdown",
   "metadata": {},
   "source": [
    "# Capstone Project - Deduplication of Swissbib Raw Data"
   ]
  },
  {
   "cell_type": "markdown",
   "metadata": {},
   "source": [
    "**Program** Applied Data Science : Machine Learning<br>\n",
    "**Institution** EPFL Extension School<br>\n",
    "**Course** \\#5, Capstone Project<br><br>\n",
    "**Title** Deduplication of Swissbib Raw Data<br>\n",
    "**Author** Andreas Jud<br>\n",
    "**Date** dd-mmm-2020"
   ]
  },
  {
   "cell_type": "markdown",
   "metadata": {},
   "source": [
    "## Table of Contents\n",
    "\n",
    "- [Introduction](#Introduction)\n",
    "- [Overview](#overview)\n",
    "- [Summary](#summary)"
   ]
  },
  {
   "cell_type": "markdown",
   "metadata": {},
   "source": [
    "## Introduction<a id='introduction'/>"
   ]
  },
  {
   "cell_type": "markdown",
   "metadata": {},
   "source": [
    "[Proposal](./project-proposal-andreas-jud.ipynb)"
   ]
  },
  {
   "cell_type": "markdown",
   "metadata": {},
   "source": [
    "## Overview<a id='overview'/>"
   ]
  },
  {
   "cell_type": "markdown",
   "metadata": {},
   "source": [
    "The notebook of the capstone project consists of the following chapters."
   ]
  },
  {
   "cell_type": "markdown",
   "metadata": {},
   "source": [
    "1. [Data Analysis](./1_DataAnalysis.ipynb)\n",
    "- [Goldstandard and Data Preparation](./2_GoldstandardDataPreparation.ipynb)\n",
    "- [Feature Matrix Generation](./3_FeatureMatrixGeneration.ipynb)\n",
    "- [Decision Tree Model](/4_DecisionTreeModel.ipynb)\n",
    "\n",
    "Appendix\n",
    "\n",
    "A. [References](./A_References.ipynb)"
   ]
  },
  {
   "cell_type": "code",
   "execution_count": null,
   "metadata": {},
   "outputs": [],
   "source": []
  },
  {
   "cell_type": "markdown",
   "metadata": {},
   "source": [
    "## Summary<a id='summary'/>"
   ]
  },
  {
   "cell_type": "code",
   "execution_count": 1,
   "metadata": {},
   "outputs": [
    {
     "name": "stdout",
     "output_type": "stream",
     "text": [
      "Executing notebook 1_DataAnalysis.ipynb\n",
      "Executing notebook 2_GoldstandardDataPreparation.ipynb\n",
      "Executing notebook 3_FeatureMatrixGeneration.ipynb\n",
      "Executing notebook 4_FeatureDiscussionDummyBaseline.ipynb\n",
      "Executing notebook 5_DecisionTreeModel.ipynb\n",
      "Executing notebook 6_SVCModel.ipynb\n",
      "Executing notebook 7_NeuralNetwork-Copy1.ipynb\n",
      "Executing notebook 7_NeuralNetwork-Copy2.ipynb\n",
      "Executing notebook 7_NeuralNetwork.ipynb\n",
      "Done with all notebooks.\n"
     ]
    }
   ],
   "source": [
    "import nbformat\n",
    "from nbconvert.preprocessors import ExecutePreprocessor\n",
    "\n",
    "# Determine all relenvant notebooks, ommit Overview Summary and Appendixes\n",
    "a = ! ls [1-9]_* | grep .ipynb\n",
    "\n",
    "for i in range(len(a)):\n",
    "    print('Executing notebook', a[i])\n",
    "    with open(a[i]) as notebook:\n",
    "        nb = nbformat.read(notebook, as_version=4)\n",
    "        ep = ExecutePreprocessor(timeout=None)\n",
    "        ep.preprocess(nb, {\"metadata\": {\"path\": './'}})\n",
    "\n",
    "print('Done with all notebooks.')"
   ]
  },
  {
   "cell_type": "code",
   "execution_count": 2,
   "metadata": {},
   "outputs": [
    {
     "data": {
      "text/html": [
       "<div>\n",
       "<style scoped>\n",
       "    .dataframe tbody tr th:only-of-type {\n",
       "        vertical-align: middle;\n",
       "    }\n",
       "\n",
       "    .dataframe tbody tr th {\n",
       "        vertical-align: top;\n",
       "    }\n",
       "\n",
       "    .dataframe thead th {\n",
       "        text-align: right;\n",
       "    }\n",
       "</style>\n",
       "<table border=\"1\" class=\"dataframe\">\n",
       "  <thead>\n",
       "    <tr style=\"text-align: right;\">\n",
       "      <th></th>\n",
       "      <th>model</th>\n",
       "      <th>test_score</th>\n",
       "      <th>auc</th>\n",
       "      <th>accuracy</th>\n",
       "      <th>precision</th>\n",
       "      <th>recall</th>\n",
       "      <th>test_score_log</th>\n",
       "      <th>auc_log</th>\n",
       "      <th>accuracy_log</th>\n",
       "      <th>precision_log</th>\n",
       "      <th>recall_log</th>\n",
       "    </tr>\n",
       "  </thead>\n",
       "  <tbody>\n",
       "    <tr>\n",
       "      <th>1</th>\n",
       "      <td>DecisionTreeClassifier</td>\n",
       "      <td>0.999367</td>\n",
       "      <td>97.777325</td>\n",
       "      <td>99.936717</td>\n",
       "      <td>93.377483</td>\n",
       "      <td>95.593220</td>\n",
       "      <td>-7.365314</td>\n",
       "      <td>-3.806459</td>\n",
       "      <td>-7.365314</td>\n",
       "      <td>-2.714695</td>\n",
       "      <td>-3.122026</td>\n",
       "    </tr>\n",
       "    <tr>\n",
       "      <th>2</th>\n",
       "      <td>SVC</td>\n",
       "      <td>0.998332</td>\n",
       "      <td>88.456255</td>\n",
       "      <td>99.833164</td>\n",
       "      <td>92.276423</td>\n",
       "      <td>76.949153</td>\n",
       "      <td>-6.395914</td>\n",
       "      <td>-2.159026</td>\n",
       "      <td>-6.395914</td>\n",
       "      <td>-2.560893</td>\n",
       "      <td>-1.467468</td>\n",
       "    </tr>\n",
       "    <tr>\n",
       "      <th>0</th>\n",
       "      <td>DummyClassifier</td>\n",
       "      <td>0.988973</td>\n",
       "      <td>49.898528</td>\n",
       "      <td>98.897348</td>\n",
       "      <td>0.354610</td>\n",
       "      <td>0.338983</td>\n",
       "      <td>-4.507452</td>\n",
       "      <td>-0.691120</td>\n",
       "      <td>-4.507452</td>\n",
       "      <td>-0.003552</td>\n",
       "      <td>-0.003396</td>\n",
       "    </tr>\n",
       "    <tr>\n",
       "      <th>3</th>\n",
       "      <td>Neural Network</td>\n",
       "      <td>0.000000</td>\n",
       "      <td>58.983051</td>\n",
       "      <td>58.983051</td>\n",
       "      <td>100.000000</td>\n",
       "      <td>17.966102</td>\n",
       "      <td>0.000000</td>\n",
       "      <td>-0.891185</td>\n",
       "      <td>-0.891185</td>\n",
       "      <td>-inf</td>\n",
       "      <td>-0.198038</td>\n",
       "    </tr>\n",
       "    <tr>\n",
       "      <th>4</th>\n",
       "      <td>Neural Network</td>\n",
       "      <td>0.000000</td>\n",
       "      <td>50.847458</td>\n",
       "      <td>66.704937</td>\n",
       "      <td>100.000000</td>\n",
       "      <td>1.694915</td>\n",
       "      <td>0.000000</td>\n",
       "      <td>-0.710242</td>\n",
       "      <td>-1.099761</td>\n",
       "      <td>-inf</td>\n",
       "      <td>-0.017094</td>\n",
       "    </tr>\n",
       "    <tr>\n",
       "      <th>5</th>\n",
       "      <td>Neural Network</td>\n",
       "      <td>0.000000</td>\n",
       "      <td>95.084746</td>\n",
       "      <td>95.084746</td>\n",
       "      <td>93.181818</td>\n",
       "      <td>97.288136</td>\n",
       "      <td>0.000000</td>\n",
       "      <td>-3.012827</td>\n",
       "      <td>-3.012827</td>\n",
       "      <td>-2.685577</td>\n",
       "      <td>-3.607534</td>\n",
       "    </tr>\n",
       "  </tbody>\n",
       "</table>\n",
       "</div>"
      ],
      "text/plain": [
       "                    model  test_score        auc   accuracy   precision  \\\n",
       "1  DecisionTreeClassifier    0.999367  97.777325  99.936717   93.377483   \n",
       "2                     SVC    0.998332  88.456255  99.833164   92.276423   \n",
       "0         DummyClassifier    0.988973  49.898528  98.897348    0.354610   \n",
       "3          Neural Network    0.000000  58.983051  58.983051  100.000000   \n",
       "4          Neural Network    0.000000  50.847458  66.704937  100.000000   \n",
       "5          Neural Network    0.000000  95.084746  95.084746   93.181818   \n",
       "\n",
       "      recall  test_score_log   auc_log  accuracy_log  precision_log  \\\n",
       "1  95.593220       -7.365314 -3.806459     -7.365314      -2.714695   \n",
       "2  76.949153       -6.395914 -2.159026     -6.395914      -2.560893   \n",
       "0   0.338983       -4.507452 -0.691120     -4.507452      -0.003552   \n",
       "3  17.966102        0.000000 -0.891185     -0.891185           -inf   \n",
       "4   1.694915        0.000000 -0.710242     -1.099761           -inf   \n",
       "5  97.288136        0.000000 -3.012827     -3.012827      -2.685577   \n",
       "\n",
       "   recall_log  \n",
       "1   -3.122026  \n",
       "2   -1.467468  \n",
       "0   -0.003396  \n",
       "3   -0.198038  \n",
       "4   -0.017094  \n",
       "5   -3.607534  "
      ]
     },
     "execution_count": 2,
     "metadata": {},
     "output_type": "execute_result"
    }
   ],
   "source": [
    "import results_saving_funcs as rsf\n",
    "import pandas as pd\n",
    "\n",
    "path_goldstandard = './daten_goldstandard'\n",
    "\n",
    "df_results = rsf.restore_results(path_goldstandard)\n",
    "df_results.reset_index(drop=True, inplace=True)\n",
    "\n",
    "df_results.sort_values('test_score', ascending=False)"
   ]
  },
  {
   "cell_type": "code",
   "execution_count": null,
   "metadata": {},
   "outputs": [],
   "source": []
  }
 ],
 "metadata": {
  "kernelspec": {
   "display_name": "Python 3",
   "language": "python",
   "name": "python3"
  },
  "language_info": {
   "codemirror_mode": {
    "name": "ipython",
    "version": 3
   },
   "file_extension": ".py",
   "mimetype": "text/x-python",
   "name": "python",
   "nbconvert_exporter": "python",
   "pygments_lexer": "ipython3",
   "version": "3.7.1"
  }
 },
 "nbformat": 4,
 "nbformat_minor": 2
}
