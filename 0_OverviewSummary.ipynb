{
 "cells": [
  {
   "cell_type": "markdown",
   "metadata": {},
   "source": [
    "# Capstone Project - Deduplication of Swissbib Raw Data"
   ]
  },
  {
   "cell_type": "markdown",
   "metadata": {},
   "source": [
    "**Program** Applied Data Science : Machine Learning<br>\n",
    "**Institution** EPFL Extension School<br>\n",
    "**Course** \\#5, Capstone Project<br><br>\n",
    "**Title** Deduplication of Swissbib Raw Data<br>\n",
    "**Author** Andreas Jud<br>\n",
    "**Date** dd-mmm-2020"
   ]
  },
  {
   "cell_type": "markdown",
   "metadata": {},
   "source": [
    "## Table of Contents\n",
    "\n",
    "- [Introduction](#Introduction)\n",
    "- [Overview](#overview)\n",
    "- [Summary](#summary)"
   ]
  },
  {
   "cell_type": "markdown",
   "metadata": {},
   "source": [
    "## Introduction<a id='introduction'/>"
   ]
  },
  {
   "cell_type": "markdown",
   "metadata": {},
   "source": [
    "[Proposal](./project-proposal-andreas-jud.ipynb)"
   ]
  },
  {
   "cell_type": "markdown",
   "metadata": {},
   "source": [
    "## Overview<a id='overview'/>"
   ]
  },
  {
   "cell_type": "markdown",
   "metadata": {},
   "source": [
    "The notebook of the capstone project consists of the following chapters."
   ]
  },
  {
   "cell_type": "markdown",
   "metadata": {},
   "source": [
    "1. [Data Analysis](./1_DataAnalysis.ipynb)\n",
    "- [Goldstandard and Data Preparation](./2_GoldstandardDataPreparation.ipynb)\n",
    "- [Feature Matrix Generation](./3_FeatureMatrixGeneration.ipynb)\n",
    "- [Decision Tree Model](/4_DecisionTreeModel.ipynb)\n",
    "\n",
    "Appendix\n",
    "\n",
    "A. [References](./A_References.ipynb)"
   ]
  },
  {
   "cell_type": "code",
   "execution_count": null,
   "metadata": {},
   "outputs": [],
   "source": []
  },
  {
   "cell_type": "markdown",
   "metadata": {},
   "source": [
    "## Summary<a id='summary'/>"
   ]
  },
  {
   "cell_type": "code",
   "execution_count": 1,
   "metadata": {},
   "outputs": [
    {
     "name": "stdout",
     "output_type": "stream",
     "text": [
      "Executing notebook 1_DataAnalysis.ipynb\n",
      "Executing notebook 2_GoldstandardDataPreparation.ipynb\n",
      "Executing notebook 3_FeatureMatrixGeneration.ipynb\n",
      "Executing notebook 4_DecisionTreeModel.ipynb\n",
      "Executing notebook 5_SVCModel.ipynb\n",
      "Executing notebook 6_NeuralNetwork-Copy1.ipynb\n",
      "Executing notebook 6_NeuralNetwork-Copy2.ipynb\n",
      "Executing notebook 6_NeuralNetwork.ipynb\n",
      "Done with all notebooks.\n"
     ]
    }
   ],
   "source": [
    "import nbformat\n",
    "from nbconvert.preprocessors import ExecutePreprocessor\n",
    "\n",
    "# Determine all relenvant notebooks\n",
    "a = ! ls ?_* | grep .ipynb\n",
    "a.remove(a[0]) # Ommit Overview Summary\n",
    "a.remove(a[-1]) # Ommit References\n",
    "\n",
    "for i in range(len(a)):\n",
    "    print('Executing notebook', a[i])\n",
    "    with open(a[i]) as notebook:\n",
    "        nb = nbformat.read(notebook, as_version=4)\n",
    "        ep = ExecutePreprocessor(timeout=None)\n",
    "        ep.preprocess(nb, {\"metadata\": {\"path\": './'}})\n",
    "\n",
    "print('Done with all notebooks.')"
   ]
  },
  {
   "cell_type": "code",
   "execution_count": 6,
   "metadata": {},
   "outputs": [
    {
     "data": {
      "text/html": [
       "<div>\n",
       "<style scoped>\n",
       "    .dataframe tbody tr th:only-of-type {\n",
       "        vertical-align: middle;\n",
       "    }\n",
       "\n",
       "    .dataframe tbody tr th {\n",
       "        vertical-align: top;\n",
       "    }\n",
       "\n",
       "    .dataframe thead th {\n",
       "        text-align: right;\n",
       "    }\n",
       "</style>\n",
       "<table border=\"1\" class=\"dataframe\">\n",
       "  <thead>\n",
       "    <tr style=\"text-align: right;\">\n",
       "      <th></th>\n",
       "      <th>model</th>\n",
       "      <th>test_score</th>\n",
       "      <th>auc</th>\n",
       "      <th>accuracy</th>\n",
       "      <th>precision</th>\n",
       "      <th>recall</th>\n",
       "    </tr>\n",
       "  </thead>\n",
       "  <tbody>\n",
       "    <tr>\n",
       "      <th>0</th>\n",
       "      <td>DecisionTree Classifier</td>\n",
       "      <td>0.999367</td>\n",
       "      <td>97.608797</td>\n",
       "      <td>99.936717</td>\n",
       "      <td>93.666667</td>\n",
       "      <td>95.254237</td>\n",
       "    </tr>\n",
       "    <tr>\n",
       "      <th>1</th>\n",
       "      <td>DecisionTree Classifier</td>\n",
       "      <td>0.999367</td>\n",
       "      <td>97.608797</td>\n",
       "      <td>99.936717</td>\n",
       "      <td>93.666667</td>\n",
       "      <td>95.254237</td>\n",
       "    </tr>\n",
       "    <tr>\n",
       "      <th>2</th>\n",
       "      <td>Support Vector Classifier</td>\n",
       "      <td>0.998063</td>\n",
       "      <td>85.409265</td>\n",
       "      <td>99.806317</td>\n",
       "      <td>93.303571</td>\n",
       "      <td>70.847458</td>\n",
       "    </tr>\n",
       "  </tbody>\n",
       "</table>\n",
       "</div>"
      ],
      "text/plain": [
       "                       model  test_score        auc   accuracy  precision  \\\n",
       "0    DecisionTree Classifier    0.999367  97.608797  99.936717  93.666667   \n",
       "1    DecisionTree Classifier    0.999367  97.608797  99.936717  93.666667   \n",
       "2  Support Vector Classifier    0.998063  85.409265  99.806317  93.303571   \n",
       "\n",
       "      recall  \n",
       "0  95.254237  \n",
       "1  95.254237  \n",
       "2  70.847458  "
      ]
     },
     "execution_count": 6,
     "metadata": {},
     "output_type": "execute_result"
    }
   ],
   "source": [
    "import os\n",
    "import pandas as pd\n",
    "\n",
    "path_goldstandard = './daten_goldstandard'\n",
    "\n",
    "df_results = pd.read_pickle(os.path.join(path_goldstandard, 'results.pkl'),\n",
    "                                      compression=None).reset_index(drop=True)\n",
    "df_results.sort_values('test_score', ascending=False)"
   ]
  },
  {
   "cell_type": "code",
   "execution_count": null,
   "metadata": {},
   "outputs": [],
   "source": []
  }
 ],
 "metadata": {
  "kernelspec": {
   "display_name": "Python 3",
   "language": "python",
   "name": "python3"
  },
  "language_info": {
   "codemirror_mode": {
    "name": "ipython",
    "version": 3
   },
   "file_extension": ".py",
   "mimetype": "text/x-python",
   "name": "python",
   "nbconvert_exporter": "python",
   "pygments_lexer": "ipython3",
   "version": "3.7.1"
  }
 },
 "nbformat": 4,
 "nbformat_minor": 2
}
