{
 "cells": [
  {
   "cell_type": "markdown",
   "metadata": {},
   "source": [
    "# References"
   ]
  },
  {
   "cell_type": "markdown",
   "metadata": {},
   "source": [
    "[Chri2012<a id='chri2012'></a>] - _Data Matching - Concepts and Techniques for Record Linkage, Entity Resolution, and Duplicate Detection_, Peter Christen, Springer-Verlag 2012.<br>\n",
    "[FeatWiki<a id='feature_deduplication_wiki'></a>] - http://www.swissbib.org/wiki/index.php?title=Features_Deduplication, Wikipedia site created for documentation of features for deduplication.<br>\n",
    "[MARC<a id='marc21'></a>] - https://www.loc.gov/marc/bibliographic/, MARC 21 format description for bibliographic data, <a href='https://www.loc.gov/librarians/standards'>Library of Congress</a><br>\n",
    "[ScalRepo<a id='scala_repo'></a>] - https://github.com/guenterh/andreas_cluster_features, Repository to scala code for data extraction, Günter Hipler.<br>\n",
    "[SmWa<a id='smwa'></a>] - https://gist.github.com/nornagon/6326a643fc30339ece3021013ed9b48c, Smith-Waterman Python implementation in github.<br>\n",
    "[StSi<a id='stsi'></a>] - https://github.com/luozhouyang/python-string-similarity, String Similarity – A library implementing different string similarity and distance measures.<br>\n",
    "[Swis<a id='swissbib'></a>] - https://www.swissbib.ch/, Access web site of Swissbib's online catalogue.<br>\n",
    "[TeDi<a id='tedi'></a>] - https://pypi.org/project/textdistance/, TextDistance – python library for comparing distance between two or more sequences by many algorithms.<br>\n",
    "<br>\n",
    "[2<a id='meeting_20191015'></a>] - Communication by Silvia Witzig, Universität Basel, Universitätsbibliothek, Projekt swissbib, 15.10.2019.<br>\n",
    "[3<a id='swissbib_sru'></a>] - http://sru.swissbib.ch/, Interface to Swissbib's online catalogue as [Search/Retrieve via URL](https://en.wikipedia.org/wiki/Search/Retrieve_via_URL).<br>\n",
    "[4<a id='cc0'></a>] - https://creativecommons.org/share-your-work/public-domain/cc0/, Creative Commons CC0 license documentation.<br>\n",
    "[5<a id='swissbib_cc0'></a>] - https://data.swissbib.ch/, Documentation of Swissbib's CC0 open data.<br>\n",
    "[7<a id='scala_repo'></a>] - https://github.com/guenterh/andreas_cluster_features, Repository to scala code for data extraction.<br>\n",
    "[10<a id='data_preparation'></a>] - [01_First_Data_Analysis](./01_First_Data_Analysis.html), First data analysis by Andreas Jud.<br>\n",
    "[11<a id='padmanaban2012'></a>] - _An approach based on artificial neural network for data deduplication_, M. Padmanaban, T. Bhuvaneswari, International Journal of Computer Science and Information Technologies, Vol. 3(4), 2012, 4637-4644.<br>\n",
    "[12<a id='python_dedupe'></a>] - https://docs.dedupe.io/en/latest/, Dedupe library that uses machine learning to perform de-duplication and entity resolution on structured data.<br>"
   ]
  },
  {
   "cell_type": "code",
   "execution_count": null,
   "metadata": {},
   "outputs": [],
   "source": []
  }
 ],
 "metadata": {
  "kernelspec": {
   "display_name": "Python 3",
   "language": "python",
   "name": "python3"
  },
  "language_info": {
   "codemirror_mode": {
    "name": "ipython",
    "version": 3
   },
   "file_extension": ".py",
   "mimetype": "text/x-python",
   "name": "python",
   "nbconvert_exporter": "python",
   "pygments_lexer": "ipython3",
   "version": "3.7.1"
  }
 },
 "nbformat": 4,
 "nbformat_minor": 2
}
