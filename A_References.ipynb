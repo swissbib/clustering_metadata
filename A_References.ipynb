{
 "cells": [
  {
   "cell_type": "markdown",
   "metadata": {},
   "source": [
    "# References"
   ]
  },
  {
   "cell_type": "markdown",
   "metadata": {},
   "source": [
    "[Chri2012<a id='chri2012'></a>] - *Data Matching - Concepts and Techniques for Record Linkage, Entity Resolution, and Duplicate Detection*, Peter Christen, Springer-Verlag 2012.<br>\n",
    "[ConfMatr<a id='confmatr'></a>] - https://en.wikipedia.org/wiki/Confusion_matrix, *Confusion Matrix*, Wikipedia, the free encyclopedia.<br>\n",
    "[FeatWiki<a id='feature_deduplication_wiki'></a>] - http://www.swissbib.org/wiki/index.php?title=Features_Deduplication, Wikipedia site created for documentation of features for deduplication.<br>\n",
    "[PropRepo<a id='proposal_repo'></a>] - https://github.com/epfl-extension-school/capstone-proposal-ads-ml-c5-s1-1365-585, github repository to the capstone project's proposal, Andreas Jud.<br>\n",
    "[ProjRepo<a id='project_repo'></a>] - https://github.com/epfl-extension-school/capstone-project-ads-ml-c5-s2-1365-585of, github repository to the capstone project's implementation, Andreas Jud.<br>\n",
    "[HanK2012<a id='hank2012'></a>] - *Data Mining - Concepts and Techniques*, Jiawei Han, Micheline Kamber, Jian Pei, 3rd Edition, Morgan Kaufmann Publishers 2012.<br>\n",
    "[JudACaps<a id='judacaps'></a>] - *Deduplication of Swissbib raw data - Capstone proposal by Andreas Jud*, 15.03.2020.<br>\n",
    "[KeraRand<a id='kerarand'></a>] - https://keras.io/getting-started/faq/#how-can-i-obtain-reproducible-results-using-keras-during-development, *How can I obtain reproducible results using Keras during development?*, Keras Documentation.<br>\n",
    "[MARC<a id='marc21'></a>] - https://www.loc.gov/marc/bibliographic/, MARC 21 format description for bibliographic data, <a href='https://www.loc.gov/librarians/standards'>Library of Congress.</a><br>\n",
    "[matp<a id='matp'></a>] - https://matplotlib.org/3.1.1/api/_as_gen/matplotlib.pyplot.hist.html, *matplotlib.pyplot.hist*, matplotlib.<br>\n",
    "[Padm2012<a id='padm2012'></a>] - *An approach based on artificial neural network for data deduplication*, M. Padmanaban, T. Bhuvaneswari, International Journal of Computer Science and Information Technologies, Vol. 3(4), 2012, 4637-4644.<br>\n",
    "[PCAWiki<a id='pcawiki'></a>] - https://en.wikipedia.org/wiki/Principal_component_analysis, *Principal component analysis*, Wikipedia, the free encyclopedia.<br>\n",
    "[rocauc<a id='rocauc'></a>] - https://scikit-learn.org/stable/modules/model_evaluation.html#roc-metrics, *Receiver operating characteristic (ROC)*, scikit learn.<br>\n",
    "[ScalRepo<a id='scala_repo'></a>] - https://github.com/guenterh/andreas_cluster_features, Repository to scala code for data extraction, Günter Hipler.<br>\n",
    "[SmWa<a id='smwa'></a>] - https://gist.github.com/nornagon/6326a643fc30339ece3021013ed9b48c, *Smith-Waterman Python implementation* in github.<br>\n",
    "[StSi<a id='stsi'></a>] - https://github.com/luozhouyang/python-string-similarity, *python-string-similarity* – A library implementing different string similarity and distance measures.<br>\n",
    "[svc<a id='svc'></a>] - https://scikit-learn.org/stable/modules/generated/sklearn.svm.SVC.html, *sklearn.svm.SVC*, scikit learn.<br>\n",
    "[Swis<a id='swissbib'></a>] - https://www.swissbib.ch/, Access web site of Swissbib's online catalogue.<br>\n",
    "[SwRe<a id='swre'></a>] - https://github.com/guenterh/andreas_cluster_features, Repository to scala code for data extraction.<br>\n",
    "[tSNE<a id='tsne'></a>] - https://en.wikipedia.org/wiki/T-distributed_stochastic_neighbor_embedding, *t-distributed stochastic neighbor embedding*, Wikipedia, the free encyclopedia.<br>\n",
    "[TeDi<a id='tedi'></a>] - https://pypi.org/project/textdistance/, *TextDistance* – Python library for comparing distance between two or more sequences by many algorithms.<br>\n",
    "[WiCo2001<a id='wico2001'></a>] - [Communication by Silvia Witzig](./documentation/antworten_sWitzig_20200124.md), Universität Basel, Universitätsbibliothek, Projekt swissbib, 24.01.2020.<br>"
   ]
  },
  {
   "cell_type": "code",
   "execution_count": null,
   "metadata": {},
   "outputs": [],
   "source": []
  }
 ],
 "metadata": {
  "kernelspec": {
   "display_name": "Python 3",
   "language": "python",
   "name": "python3"
  },
  "language_info": {
   "codemirror_mode": {
    "name": "ipython",
    "version": 3
   },
   "file_extension": ".py",
   "mimetype": "text/x-python",
   "name": "python",
   "nbconvert_exporter": "python",
   "pygments_lexer": "ipython3",
   "version": "3.7.1"
  }
 },
 "nbformat": 4,
 "nbformat_minor": 2
}
