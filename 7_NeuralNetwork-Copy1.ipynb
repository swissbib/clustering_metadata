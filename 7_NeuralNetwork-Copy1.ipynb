{
 "cells": [
  {
   "cell_type": "markdown",
   "metadata": {},
   "source": [
    "# Neural Network Model"
   ]
  },
  {
   "cell_type": "markdown",
   "metadata": {},
   "source": []
  },
  {
   "cell_type": "markdown",
   "metadata": {},
   "source": [
    "## Table of Contents\n",
    "\n",
    "- [Data Takeover](#Data-Takeover)\n",
    "    - [Train/Test Split](#Train/Test-Split)\n",
    "- [Neural Network Implementation](#Neural-Network-Implementation)\n",
    "    - [Performance Measurement](#Performance-Measurement)"
   ]
  },
  {
   "cell_type": "markdown",
   "metadata": {},
   "source": [
    "## Data Takeover"
   ]
  },
  {
   "cell_type": "markdown",
   "metadata": {},
   "source": [
    "Read in DataFrame from chapter [Feature Matrix Generation](./3_FeatureMatrixGeneration.ipynb) as input for processing in this chapter."
   ]
  },
  {
   "cell_type": "code",
   "execution_count": 1,
   "metadata": {},
   "outputs": [
    {
     "data": {
      "text/html": [
       "<div>\n",
       "<style scoped>\n",
       "    .dataframe tbody tr th:only-of-type {\n",
       "        vertical-align: middle;\n",
       "    }\n",
       "\n",
       "    .dataframe tbody tr th {\n",
       "        vertical-align: top;\n",
       "    }\n",
       "\n",
       "    .dataframe thead th {\n",
       "        text-align: right;\n",
       "    }\n",
       "</style>\n",
       "<table border=\"1\" class=\"dataframe\">\n",
       "  <thead>\n",
       "    <tr style=\"text-align: right;\">\n",
       "      <th></th>\n",
       "      <th>duplicates</th>\n",
       "      <th>century_delta</th>\n",
       "      <th>corporate_110_delta</th>\n",
       "      <th>corporate_710_delta</th>\n",
       "      <th>edition_delta</th>\n",
       "      <th>format_prefix_delta</th>\n",
       "      <th>format_postfix_delta</th>\n",
       "      <th>person_245c_delta</th>\n",
       "      <th>ttlfull_245_delta</th>\n",
       "      <th>ttlfull_246_delta</th>\n",
       "      <th>volumes_delta</th>\n",
       "    </tr>\n",
       "  </thead>\n",
       "  <tbody>\n",
       "    <tr>\n",
       "      <th>count</th>\n",
       "      <td>260733.000000</td>\n",
       "      <td>260733.000000</td>\n",
       "      <td>260733.000000</td>\n",
       "      <td>260733.000000</td>\n",
       "      <td>260733.000000</td>\n",
       "      <td>260733.000000</td>\n",
       "      <td>260733.000000</td>\n",
       "      <td>260733.000000</td>\n",
       "      <td>260733.000000</td>\n",
       "      <td>260733.000000</td>\n",
       "      <td>260733.000000</td>\n",
       "    </tr>\n",
       "    <tr>\n",
       "      <th>mean</th>\n",
       "      <td>0.005649</td>\n",
       "      <td>0.272145</td>\n",
       "      <td>0.997706</td>\n",
       "      <td>0.659638</td>\n",
       "      <td>0.597257</td>\n",
       "      <td>0.420806</td>\n",
       "      <td>0.430583</td>\n",
       "      <td>0.454716</td>\n",
       "      <td>0.284536</td>\n",
       "      <td>0.800974</td>\n",
       "      <td>0.187769</td>\n",
       "    </tr>\n",
       "    <tr>\n",
       "      <th>std</th>\n",
       "      <td>0.074950</td>\n",
       "      <td>0.302925</td>\n",
       "      <td>0.047836</td>\n",
       "      <td>0.463646</td>\n",
       "      <td>0.482772</td>\n",
       "      <td>0.493689</td>\n",
       "      <td>0.330969</td>\n",
       "      <td>0.235288</td>\n",
       "      <td>0.181349</td>\n",
       "      <td>0.397705</td>\n",
       "      <td>0.177806</td>\n",
       "    </tr>\n",
       "    <tr>\n",
       "      <th>min</th>\n",
       "      <td>0.000000</td>\n",
       "      <td>0.000000</td>\n",
       "      <td>0.000000</td>\n",
       "      <td>0.000000</td>\n",
       "      <td>0.000000</td>\n",
       "      <td>0.000000</td>\n",
       "      <td>0.000000</td>\n",
       "      <td>0.000000</td>\n",
       "      <td>0.000000</td>\n",
       "      <td>0.000000</td>\n",
       "      <td>0.000000</td>\n",
       "    </tr>\n",
       "    <tr>\n",
       "      <th>25%</th>\n",
       "      <td>0.000000</td>\n",
       "      <td>0.000000</td>\n",
       "      <td>1.000000</td>\n",
       "      <td>0.000000</td>\n",
       "      <td>0.000000</td>\n",
       "      <td>0.000000</td>\n",
       "      <td>0.111111</td>\n",
       "      <td>0.446929</td>\n",
       "      <td>0.148148</td>\n",
       "      <td>1.000000</td>\n",
       "      <td>0.080000</td>\n",
       "    </tr>\n",
       "    <tr>\n",
       "      <th>50%</th>\n",
       "      <td>0.000000</td>\n",
       "      <td>0.250000</td>\n",
       "      <td>1.000000</td>\n",
       "      <td>1.000000</td>\n",
       "      <td>1.000000</td>\n",
       "      <td>0.000000</td>\n",
       "      <td>0.428571</td>\n",
       "      <td>0.524438</td>\n",
       "      <td>0.265306</td>\n",
       "      <td>1.000000</td>\n",
       "      <td>0.142857</td>\n",
       "    </tr>\n",
       "    <tr>\n",
       "      <th>75%</th>\n",
       "      <td>0.000000</td>\n",
       "      <td>0.500000</td>\n",
       "      <td>1.000000</td>\n",
       "      <td>1.000000</td>\n",
       "      <td>1.000000</td>\n",
       "      <td>1.000000</td>\n",
       "      <td>0.428571</td>\n",
       "      <td>0.583683</td>\n",
       "      <td>0.393617</td>\n",
       "      <td>1.000000</td>\n",
       "      <td>0.250000</td>\n",
       "    </tr>\n",
       "    <tr>\n",
       "      <th>max</th>\n",
       "      <td>1.000000</td>\n",
       "      <td>1.000000</td>\n",
       "      <td>1.000000</td>\n",
       "      <td>1.000000</td>\n",
       "      <td>1.000000</td>\n",
       "      <td>1.000000</td>\n",
       "      <td>1.000000</td>\n",
       "      <td>1.000000</td>\n",
       "      <td>1.000000</td>\n",
       "      <td>1.000000</td>\n",
       "      <td>1.000000</td>\n",
       "    </tr>\n",
       "  </tbody>\n",
       "</table>\n",
       "</div>"
      ],
      "text/plain": [
       "          duplicates  century_delta  corporate_110_delta  corporate_710_delta  \\\n",
       "count  260733.000000  260733.000000        260733.000000        260733.000000   \n",
       "mean        0.005649       0.272145             0.997706             0.659638   \n",
       "std         0.074950       0.302925             0.047836             0.463646   \n",
       "min         0.000000       0.000000             0.000000             0.000000   \n",
       "25%         0.000000       0.000000             1.000000             0.000000   \n",
       "50%         0.000000       0.250000             1.000000             1.000000   \n",
       "75%         0.000000       0.500000             1.000000             1.000000   \n",
       "max         1.000000       1.000000             1.000000             1.000000   \n",
       "\n",
       "       edition_delta  format_prefix_delta  format_postfix_delta  \\\n",
       "count  260733.000000        260733.000000         260733.000000   \n",
       "mean        0.597257             0.420806              0.430583   \n",
       "std         0.482772             0.493689              0.330969   \n",
       "min         0.000000             0.000000              0.000000   \n",
       "25%         0.000000             0.000000              0.111111   \n",
       "50%         1.000000             0.000000              0.428571   \n",
       "75%         1.000000             1.000000              0.428571   \n",
       "max         1.000000             1.000000              1.000000   \n",
       "\n",
       "       person_245c_delta  ttlfull_245_delta  ttlfull_246_delta  volumes_delta  \n",
       "count      260733.000000      260733.000000      260733.000000  260733.000000  \n",
       "mean            0.454716           0.284536           0.800974       0.187769  \n",
       "std             0.235288           0.181349           0.397705       0.177806  \n",
       "min             0.000000           0.000000           0.000000       0.000000  \n",
       "25%             0.446929           0.148148           1.000000       0.080000  \n",
       "50%             0.524438           0.265306           1.000000       0.142857  \n",
       "75%             0.583683           0.393617           1.000000       0.250000  \n",
       "max             1.000000           1.000000           1.000000       1.000000  "
      ]
     },
     "execution_count": 1,
     "metadata": {},
     "output_type": "execute_result"
    }
   ],
   "source": [
    "import os\n",
    "import pandas as pd\n",
    "\n",
    "path_goldstandard = './daten_goldstandard'\n",
    "\n",
    "# Restore results so far\n",
    "df_labelled_feature_matrix = pd.read_pickle(os.path.join(path_goldstandard,\n",
    "                                                         'labelled_feature_matrix.pkl'),\n",
    "                                 compression=None)\n",
    "\n",
    "df_labelled_feature_matrix.describe()"
   ]
  },
  {
   "cell_type": "code",
   "execution_count": 2,
   "metadata": {},
   "outputs": [],
   "source": [
    "df_labelled_feature_matrix = pd.concat(\n",
    "    [df_labelled_feature_matrix[df_labelled_feature_matrix.duplicates==0].sample(n=1473),\n",
    "     df_labelled_feature_matrix[df_labelled_feature_matrix.duplicates==1]])"
   ]
  },
  {
   "cell_type": "code",
   "execution_count": 3,
   "metadata": {},
   "outputs": [
    {
     "name": "stdout",
     "output_type": "stream",
     "text": [
      "Part of duplicates (1) on uniques (2) in units of [%]\n",
      "1    50.0\n",
      "0    50.0\n",
      "Name: duplicates, dtype: float64\n"
     ]
    }
   ],
   "source": [
    "print('Part of duplicates (1) on uniques (2) in units of [%]')\n",
    "print(df_labelled_feature_matrix.duplicates.value_counts(normalize=True)*100)"
   ]
  },
  {
   "cell_type": "code",
   "execution_count": null,
   "metadata": {},
   "outputs": [],
   "source": []
  },
  {
   "cell_type": "code",
   "execution_count": null,
   "metadata": {},
   "outputs": [],
   "source": []
  },
  {
   "cell_type": "markdown",
   "metadata": {},
   "source": [
    "### Train/Test Split"
   ]
  },
  {
   "cell_type": "markdown",
   "metadata": {},
   "source": [
    "The train/test split will be implemented here as a general function to be called in the models chapters."
   ]
  },
  {
   "cell_type": "code",
   "execution_count": 4,
   "metadata": {},
   "outputs": [],
   "source": [
    "X = df_labelled_feature_matrix.drop(columns=['duplicates']).values\n",
    "y = df_labelled_feature_matrix.duplicates.values"
   ]
  },
  {
   "cell_type": "code",
   "execution_count": 5,
   "metadata": {},
   "outputs": [],
   "source": [
    "from sklearn.model_selection import train_test_split\n",
    "\n",
    "X_tr, X_te, y_tr, y_te = train_test_split(X, y, stratify=y, test_size=0.2, random_state=0)"
   ]
  },
  {
   "cell_type": "code",
   "execution_count": 6,
   "metadata": {},
   "outputs": [
    {
     "data": {
      "text/plain": [
       "(2356, 10)"
      ]
     },
     "execution_count": 6,
     "metadata": {},
     "output_type": "execute_result"
    }
   ],
   "source": [
    "X_tr.shape"
   ]
  },
  {
   "cell_type": "code",
   "execution_count": null,
   "metadata": {},
   "outputs": [],
   "source": []
  },
  {
   "cell_type": "markdown",
   "metadata": {},
   "source": [
    "## Neural Network Implementation"
   ]
  },
  {
   "cell_type": "code",
   "execution_count": 7,
   "metadata": {},
   "outputs": [
    {
     "name": "stderr",
     "output_type": "stream",
     "text": [
      "Using TensorFlow backend.\n"
     ]
    },
    {
     "name": "stdout",
     "output_type": "stream",
     "text": [
      "WARNING:tensorflow:From /Users/andreas/anaconda3/lib/python3.7/site-packages/tensorflow_core/python/ops/resource_variable_ops.py:1630: calling BaseResourceVariable.__init__ (from tensorflow.python.ops.resource_variable_ops) with constraint is deprecated and will be removed in a future version.\n",
      "Instructions for updating:\n",
      "If using Keras pass *_constraint arguments to layers.\n"
     ]
    },
    {
     "data": {
      "text/plain": [
       "{'name': 'sequential_1',\n",
       " 'layers': [{'class_name': 'Dense',\n",
       "   'config': {'name': 'dense_1',\n",
       "    'trainable': True,\n",
       "    'batch_input_shape': (None, 10),\n",
       "    'dtype': 'float32',\n",
       "    'units': 12,\n",
       "    'activation': 'relu',\n",
       "    'use_bias': True,\n",
       "    'kernel_initializer': {'class_name': 'VarianceScaling',\n",
       "     'config': {'scale': 2.0,\n",
       "      'mode': 'fan_in',\n",
       "      'distribution': 'normal',\n",
       "      'seed': 1}},\n",
       "    'bias_initializer': {'class_name': 'Zeros', 'config': {}},\n",
       "    'kernel_regularizer': {'class_name': 'L1L2',\n",
       "     'config': {'l1': 0.0, 'l2': 0.10000000149011612}},\n",
       "    'bias_regularizer': None,\n",
       "    'activity_regularizer': None,\n",
       "    'kernel_constraint': None,\n",
       "    'bias_constraint': None}},\n",
       "  {'class_name': 'Dropout',\n",
       "   'config': {'name': 'dropout_1',\n",
       "    'trainable': True,\n",
       "    'dtype': 'float32',\n",
       "    'rate': 0.25,\n",
       "    'noise_shape': None,\n",
       "    'seed': 0}},\n",
       "  {'class_name': 'Dense',\n",
       "   'config': {'name': 'dense_2',\n",
       "    'trainable': True,\n",
       "    'dtype': 'float32',\n",
       "    'units': 2,\n",
       "    'activation': 'softmax',\n",
       "    'use_bias': True,\n",
       "    'kernel_initializer': {'class_name': 'VarianceScaling',\n",
       "     'config': {'scale': 1,\n",
       "      'mode': 'fan_in',\n",
       "      'distribution': 'normal',\n",
       "      'seed': 1}},\n",
       "    'bias_initializer': {'class_name': 'Zeros', 'config': {}},\n",
       "    'kernel_regularizer': {'class_name': 'L1L2',\n",
       "     'config': {'l1': 0.0, 'l2': 0.10000000149011612}},\n",
       "    'bias_regularizer': None,\n",
       "    'activity_regularizer': None,\n",
       "    'kernel_constraint': None,\n",
       "    'bias_constraint': None}}]}"
      ]
     },
     "execution_count": 7,
     "metadata": {},
     "output_type": "execute_result"
    }
   ],
   "source": [
    "from keras.models import Sequential\n",
    "from keras.layers import Dense, Dropout\n",
    "from keras.initializers import VarianceScaling\n",
    "from keras.regularizers import l2\n",
    "from keras.optimizers import SGD, Adam\n",
    "\n",
    "l2_alpha = 0.1\n",
    "sgd_learnrate = 0.05\n",
    "\n",
    "# Input layer\n",
    "hidden = Dense(\n",
    "    12, # Number of units for hidden layer\n",
    "    input_shape=(X_tr.shape[1],),\n",
    "    activation='relu',\n",
    "    kernel_initializer=VarianceScaling(scale=2.0, seed=0),\n",
    "    kernel_regularizer=l2(l2_alpha),\n",
    "    bias_initializer='zeros'\n",
    ")\n",
    "\n",
    "# With dropout layer\n",
    "dropout = Dropout(\n",
    "    rate=0.25,\n",
    "    seed=0\n",
    ")\n",
    "\n",
    "# Output layer\n",
    "output = Dense(\n",
    "    2,\n",
    "#    activation='sigmoid', # Bring out 0 or 1 values\n",
    "    activation='softmax', # Bring out 0 or 1 values\n",
    "    kernel_initializer=VarianceScaling(scale=1, seed=0),\n",
    "    kernel_regularizer=l2(l2_alpha),\n",
    "    bias_initializer='zeros'\n",
    ")\n",
    "\n",
    "# Create model with sequential API\n",
    "model = Sequential()\n",
    "model.add( hidden ) # Hidden layer\n",
    "model.add( dropout ) # Dropout\n",
    "model.add( output ) # Output layer\n",
    "\n",
    "# The optimizer is to be SGD\n",
    "#sgd = SGD(lr=sgd_learnrate)\n",
    "model_optimizer = Adam(lr=sgd_learnrate)\n",
    "\n",
    "# Compile model\n",
    "model.compile(\n",
    "    loss='categorical_crossentropy',\n",
    "    optimizer=model_optimizer,\n",
    "    metrics=['accuracy']\n",
    "#    metrics=['categorical_accuracy']\n",
    ")\n",
    "\n",
    "# Check Model configuration\n",
    "model.get_config()"
   ]
  },
  {
   "cell_type": "code",
   "execution_count": 8,
   "metadata": {
    "scrolled": true
   },
   "outputs": [
    {
     "name": "stdout",
     "output_type": "stream",
     "text": [
      "WARNING:tensorflow:From /Users/andreas/anaconda3/lib/python3.7/site-packages/keras/backend/tensorflow_backend.py:422: The name tf.global_variables is deprecated. Please use tf.compat.v1.global_variables instead.\n",
      "\n",
      "Train on 2356 samples, validate on 590 samples\n",
      "Epoch 1/100\n",
      "2356/2356 [==============================] - 1s 429us/step - loss: 1.0278 - accuracy: 0.8756 - val_loss: 0.5500 - val_accuracy: 0.9508\n",
      "Epoch 2/100\n",
      "2356/2356 [==============================] - 0s 60us/step - loss: 0.5476 - accuracy: 0.9376 - val_loss: 0.5318 - val_accuracy: 0.9610\n",
      "Epoch 3/100\n",
      "2356/2356 [==============================] - 0s 59us/step - loss: 0.5817 - accuracy: 0.8790 - val_loss: 0.5511 - val_accuracy: 0.9203\n",
      "Epoch 4/100\n",
      "2356/2356 [==============================] - 0s 53us/step - loss: 0.5541 - accuracy: 0.9244 - val_loss: 0.5213 - val_accuracy: 0.9695\n",
      "Epoch 5/100\n",
      "2356/2356 [==============================] - 0s 58us/step - loss: 0.5469 - accuracy: 0.9351 - val_loss: 0.5239 - val_accuracy: 0.9661\n",
      "Epoch 6/100\n",
      "2356/2356 [==============================] - 0s 55us/step - loss: 0.5448 - accuracy: 0.9410 - val_loss: 0.5209 - val_accuracy: 0.9678\n",
      "Epoch 7/100\n",
      "2356/2356 [==============================] - 0s 67us/step - loss: 0.5498 - accuracy: 0.9266 - val_loss: 0.5714 - val_accuracy: 0.8814\n",
      "Epoch 8/100\n",
      "2356/2356 [==============================] - 0s 52us/step - loss: 0.5512 - accuracy: 0.9317 - val_loss: 0.5531 - val_accuracy: 0.9254\n",
      "Epoch 9/100\n",
      "2356/2356 [==============================] - 0s 49us/step - loss: 0.5560 - accuracy: 0.9219 - val_loss: 0.5895 - val_accuracy: 0.8864\n",
      "Epoch 10/100\n",
      "2356/2356 [==============================] - 0s 47us/step - loss: 0.5520 - accuracy: 0.9249 - val_loss: 0.5722 - val_accuracy: 0.9153\n",
      "Epoch 11/100\n",
      "2356/2356 [==============================] - 0s 64us/step - loss: 0.5818 - accuracy: 0.8846 - val_loss: 0.5482 - val_accuracy: 0.9475\n",
      "Epoch 12/100\n",
      "2356/2356 [==============================] - 0s 48us/step - loss: 0.5687 - accuracy: 0.9028 - val_loss: 0.5209 - val_accuracy: 0.9729\n",
      "Epoch 13/100\n",
      "2356/2356 [==============================] - 0s 46us/step - loss: 0.5556 - accuracy: 0.9206 - val_loss: 0.5700 - val_accuracy: 0.9153\n",
      "Epoch 14/100\n",
      "2356/2356 [==============================] - 0s 47us/step - loss: 0.5676 - accuracy: 0.9075 - val_loss: 0.5286 - val_accuracy: 0.9644\n",
      "Epoch 15/100\n",
      "2356/2356 [==============================] - 0s 46us/step - loss: 0.5574 - accuracy: 0.9244 - val_loss: 0.5231 - val_accuracy: 0.9661\n",
      "Epoch 16/100\n",
      "2356/2356 [==============================] - 0s 47us/step - loss: 0.5488 - accuracy: 0.9312 - val_loss: 0.5476 - val_accuracy: 0.9339\n",
      "Epoch 17/100\n",
      "2356/2356 [==============================] - 0s 47us/step - loss: 0.5461 - accuracy: 0.9376 - val_loss: 0.5208 - val_accuracy: 0.9678\n",
      "Epoch 18/100\n",
      "2356/2356 [==============================] - 0s 47us/step - loss: 0.5350 - accuracy: 0.9503 - val_loss: 0.5291 - val_accuracy: 0.9492\n",
      "Epoch 19/100\n",
      "2356/2356 [==============================] - 0s 46us/step - loss: 0.5632 - accuracy: 0.9134 - val_loss: 0.5372 - val_accuracy: 0.9576\n",
      "Epoch 20/100\n",
      "2356/2356 [==============================] - 0s 48us/step - loss: 0.5485 - accuracy: 0.9317 - val_loss: 0.5394 - val_accuracy: 0.9424\n",
      "Epoch 21/100\n",
      "2356/2356 [==============================] - 0s 49us/step - loss: 0.5490 - accuracy: 0.9312 - val_loss: 0.5206 - val_accuracy: 0.9729\n",
      "Epoch 22/100\n",
      "2356/2356 [==============================] - 0s 50us/step - loss: 0.5403 - accuracy: 0.9410 - val_loss: 0.5257 - val_accuracy: 0.9525\n",
      "Epoch 23/100\n",
      "2356/2356 [==============================] - 0s 51us/step - loss: 0.5517 - accuracy: 0.9351 - val_loss: 0.5622 - val_accuracy: 0.9085\n",
      "Epoch 24/100\n",
      "2356/2356 [==============================] - 0s 47us/step - loss: 0.5647 - accuracy: 0.9100 - val_loss: 0.5281 - val_accuracy: 0.9644\n",
      "Epoch 25/100\n",
      "2356/2356 [==============================] - 0s 47us/step - loss: 0.5593 - accuracy: 0.9155 - val_loss: 0.5656 - val_accuracy: 0.9339\n",
      "Epoch 26/100\n",
      "2356/2356 [==============================] - 0s 46us/step - loss: 0.5439 - accuracy: 0.9295 - val_loss: 0.5610 - val_accuracy: 0.9288\n",
      "Epoch 27/100\n",
      "2356/2356 [==============================] - 0s 49us/step - loss: 0.5428 - accuracy: 0.9461 - val_loss: 0.5301 - val_accuracy: 0.9661\n",
      "Epoch 28/100\n",
      "2356/2356 [==============================] - 0s 48us/step - loss: 0.5463 - accuracy: 0.9385 - val_loss: 0.5533 - val_accuracy: 0.9169\n",
      "Epoch 29/100\n",
      "2356/2356 [==============================] - 0s 48us/step - loss: 0.5603 - accuracy: 0.9211 - val_loss: 0.5188 - val_accuracy: 0.9729\n",
      "Epoch 30/100\n",
      "2356/2356 [==============================] - 0s 49us/step - loss: 0.5572 - accuracy: 0.9177 - val_loss: 0.5276 - val_accuracy: 0.9678\n",
      "Epoch 31/100\n",
      "2356/2356 [==============================] - 0s 50us/step - loss: 0.5547 - accuracy: 0.9274 - val_loss: 0.5525 - val_accuracy: 0.9373\n",
      "Epoch 32/100\n",
      "2356/2356 [==============================] - 0s 48us/step - loss: 0.5500 - accuracy: 0.9346 - val_loss: 0.5296 - val_accuracy: 0.9508\n",
      "Epoch 33/100\n",
      "2356/2356 [==============================] - 0s 49us/step - loss: 0.5494 - accuracy: 0.9351 - val_loss: 0.5226 - val_accuracy: 0.9678\n",
      "Epoch 34/100\n",
      "2356/2356 [==============================] - 0s 50us/step - loss: 0.5496 - accuracy: 0.9342 - val_loss: 0.6146 - val_accuracy: 0.8508\n",
      "Epoch 35/100\n",
      "2356/2356 [==============================] - 0s 44us/step - loss: 0.5633 - accuracy: 0.9168 - val_loss: 0.5500 - val_accuracy: 0.9373\n",
      "Epoch 36/100\n",
      "2356/2356 [==============================] - 0s 45us/step - loss: 0.5400 - accuracy: 0.9376 - val_loss: 0.5446 - val_accuracy: 0.9475\n",
      "Epoch 37/100\n",
      "2356/2356 [==============================] - 0s 93us/step - loss: 0.5413 - accuracy: 0.9368 - val_loss: 0.5212 - val_accuracy: 0.9661\n",
      "Epoch 38/100\n",
      "2356/2356 [==============================] - 0s 79us/step - loss: 0.5461 - accuracy: 0.9359 - val_loss: 0.5395 - val_accuracy: 0.9492\n",
      "Epoch 39/100\n",
      "2356/2356 [==============================] - 0s 70us/step - loss: 0.5490 - accuracy: 0.9321 - val_loss: 0.5385 - val_accuracy: 0.9305\n",
      "Epoch 40/100\n",
      "2356/2356 [==============================] - 0s 60us/step - loss: 0.5558 - accuracy: 0.9134 - val_loss: 0.7727 - val_accuracy: 0.6881\n",
      "Epoch 41/100\n",
      "2356/2356 [==============================] - 0s 68us/step - loss: 0.5798 - accuracy: 0.8926 - val_loss: 0.5523 - val_accuracy: 0.9339\n",
      "Epoch 42/100\n",
      "2356/2356 [==============================] - 0s 50us/step - loss: 0.5445 - accuracy: 0.9355 - val_loss: 0.5299 - val_accuracy: 0.9576\n",
      "Epoch 43/100\n",
      "2356/2356 [==============================] - 0s 50us/step - loss: 0.5523 - accuracy: 0.9257 - val_loss: 0.5198 - val_accuracy: 0.9712\n",
      "Epoch 44/100\n",
      "2356/2356 [==============================] - 0s 50us/step - loss: 0.5568 - accuracy: 0.9253 - val_loss: 0.5222 - val_accuracy: 0.9712\n",
      "Epoch 45/100\n",
      "2356/2356 [==============================] - 0s 51us/step - loss: 0.5498 - accuracy: 0.9308 - val_loss: 0.5610 - val_accuracy: 0.9000\n",
      "Epoch 46/100\n",
      "2356/2356 [==============================] - 0s 51us/step - loss: 0.5457 - accuracy: 0.9376 - val_loss: 0.5246 - val_accuracy: 0.9627\n",
      "Epoch 47/100\n",
      "2356/2356 [==============================] - 0s 50us/step - loss: 0.5708 - accuracy: 0.9079 - val_loss: 0.5258 - val_accuracy: 0.9712\n",
      "Epoch 48/100\n",
      "2356/2356 [==============================] - 0s 47us/step - loss: 0.5543 - accuracy: 0.9240 - val_loss: 0.5854 - val_accuracy: 0.8932\n",
      "Epoch 49/100\n",
      "2356/2356 [==============================] - 0s 81us/step - loss: 0.5535 - accuracy: 0.9219 - val_loss: 0.5397 - val_accuracy: 0.9492\n",
      "Epoch 50/100\n",
      "2356/2356 [==============================] - 0s 48us/step - loss: 0.5672 - accuracy: 0.9053 - val_loss: 0.5275 - val_accuracy: 0.9644\n",
      "Epoch 51/100\n",
      "2356/2356 [==============================] - 0s 49us/step - loss: 0.5493 - accuracy: 0.9359 - val_loss: 0.5213 - val_accuracy: 0.9695\n",
      "Epoch 52/100\n",
      "2356/2356 [==============================] - 0s 51us/step - loss: 0.5424 - accuracy: 0.9368 - val_loss: 0.5369 - val_accuracy: 0.9576\n",
      "Epoch 53/100\n",
      "2356/2356 [==============================] - 0s 54us/step - loss: 0.5471 - accuracy: 0.9342 - val_loss: 0.5567 - val_accuracy: 0.9000\n",
      "Epoch 54/100\n",
      "2356/2356 [==============================] - 0s 50us/step - loss: 0.5584 - accuracy: 0.9249 - val_loss: 0.5260 - val_accuracy: 0.9576\n",
      "Epoch 55/100\n"
     ]
    },
    {
     "name": "stdout",
     "output_type": "stream",
     "text": [
      "2356/2356 [==============================] - 0s 50us/step - loss: 0.5509 - accuracy: 0.9385 - val_loss: 0.5271 - val_accuracy: 0.9627\n",
      "Epoch 56/100\n",
      "2356/2356 [==============================] - 0s 71us/step - loss: 0.5524 - accuracy: 0.9261 - val_loss: 0.5425 - val_accuracy: 0.9458\n",
      "Epoch 57/100\n",
      "2356/2356 [==============================] - 0s 61us/step - loss: 0.5665 - accuracy: 0.9087 - val_loss: 0.5382 - val_accuracy: 0.9424\n",
      "Epoch 58/100\n",
      "2356/2356 [==============================] - 0s 50us/step - loss: 0.5507 - accuracy: 0.9359 - val_loss: 0.7106 - val_accuracy: 0.5000\n",
      "Epoch 59/100\n",
      "2356/2356 [==============================] - 0s 54us/step - loss: 0.5693 - accuracy: 0.9049 - val_loss: 0.5451 - val_accuracy: 0.9085\n",
      "Epoch 60/100\n",
      "2356/2356 [==============================] - 0s 50us/step - loss: 0.5495 - accuracy: 0.9300 - val_loss: 0.5479 - val_accuracy: 0.9390\n",
      "Epoch 61/100\n",
      "2356/2356 [==============================] - 0s 53us/step - loss: 0.5514 - accuracy: 0.9308 - val_loss: 0.5236 - val_accuracy: 0.9661\n",
      "Epoch 62/100\n",
      "2356/2356 [==============================] - 0s 47us/step - loss: 0.5512 - accuracy: 0.9308 - val_loss: 0.5365 - val_accuracy: 0.9492\n",
      "Epoch 63/100\n",
      "2356/2356 [==============================] - 0s 48us/step - loss: 0.5564 - accuracy: 0.9219 - val_loss: 0.5419 - val_accuracy: 0.9305\n",
      "Epoch 64/100\n",
      "2356/2356 [==============================] - 0s 48us/step - loss: 0.5457 - accuracy: 0.9329 - val_loss: 0.5376 - val_accuracy: 0.9644\n",
      "Epoch 65/100\n",
      "2356/2356 [==============================] - 0s 44us/step - loss: 0.5580 - accuracy: 0.9228 - val_loss: 0.6038 - val_accuracy: 0.8424\n",
      "Epoch 66/100\n",
      "2356/2356 [==============================] - 0s 40us/step - loss: 0.5556 - accuracy: 0.9232 - val_loss: 0.5191 - val_accuracy: 0.9729\n",
      "Epoch 67/100\n",
      "2356/2356 [==============================] - 0s 39us/step - loss: 0.5511 - accuracy: 0.9325 - val_loss: 0.5216 - val_accuracy: 0.9661\n",
      "Epoch 68/100\n",
      "2356/2356 [==============================] - 0s 42us/step - loss: 0.5478 - accuracy: 0.9321 - val_loss: 0.5354 - val_accuracy: 0.9610\n",
      "Epoch 69/100\n",
      "2356/2356 [==============================] - 0s 40us/step - loss: 0.5538 - accuracy: 0.9270 - val_loss: 0.5273 - val_accuracy: 0.9661\n",
      "Epoch 70/100\n",
      "2356/2356 [==============================] - 0s 40us/step - loss: 0.5736 - accuracy: 0.9007 - val_loss: 0.5380 - val_accuracy: 0.9424\n",
      "Epoch 71/100\n",
      "2356/2356 [==============================] - 0s 43us/step - loss: 0.5502 - accuracy: 0.9351 - val_loss: 0.5261 - val_accuracy: 0.9627\n",
      "Epoch 72/100\n",
      "2356/2356 [==============================] - 0s 43us/step - loss: 0.5620 - accuracy: 0.9092 - val_loss: 0.5380 - val_accuracy: 0.9475\n",
      "Epoch 73/100\n",
      "2356/2356 [==============================] - 0s 38us/step - loss: 0.5529 - accuracy: 0.9219 - val_loss: 0.5265 - val_accuracy: 0.9695\n",
      "Epoch 74/100\n",
      "2356/2356 [==============================] - 0s 37us/step - loss: 0.5495 - accuracy: 0.9406 - val_loss: 0.5576 - val_accuracy: 0.9271\n",
      "Epoch 75/100\n",
      "2356/2356 [==============================] - 0s 36us/step - loss: 0.5463 - accuracy: 0.9368 - val_loss: 0.5695 - val_accuracy: 0.9017\n",
      "Epoch 76/100\n",
      "2356/2356 [==============================] - 0s 37us/step - loss: 0.5575 - accuracy: 0.9147 - val_loss: 0.5646 - val_accuracy: 0.9203\n",
      "Epoch 77/100\n",
      "2356/2356 [==============================] - 0s 36us/step - loss: 0.5439 - accuracy: 0.9329 - val_loss: 0.5474 - val_accuracy: 0.9169\n",
      "Epoch 78/100\n",
      "2356/2356 [==============================] - 0s 36us/step - loss: 0.5483 - accuracy: 0.9385 - val_loss: 0.5197 - val_accuracy: 0.9729\n",
      "Epoch 79/100\n",
      "2356/2356 [==============================] - 0s 37us/step - loss: 0.5417 - accuracy: 0.9469 - val_loss: 0.5213 - val_accuracy: 0.9678\n",
      "Epoch 80/100\n",
      "2356/2356 [==============================] - 0s 38us/step - loss: 0.5425 - accuracy: 0.9304 - val_loss: 0.5435 - val_accuracy: 0.9441\n",
      "Epoch 81/100\n",
      "2356/2356 [==============================] - 0s 37us/step - loss: 0.5522 - accuracy: 0.9236 - val_loss: 0.5192 - val_accuracy: 0.9712\n",
      "Epoch 82/100\n",
      "2356/2356 [==============================] - 0s 36us/step - loss: 0.5552 - accuracy: 0.9223 - val_loss: 0.5259 - val_accuracy: 0.9661\n",
      "Epoch 83/100\n",
      "2356/2356 [==============================] - 0s 36us/step - loss: 0.5584 - accuracy: 0.9236 - val_loss: 0.5372 - val_accuracy: 0.9729\n",
      "Epoch 84/100\n",
      "2356/2356 [==============================] - 0s 36us/step - loss: 0.5515 - accuracy: 0.9300 - val_loss: 0.5220 - val_accuracy: 0.9695\n",
      "Epoch 85/100\n",
      "2356/2356 [==============================] - 0s 36us/step - loss: 0.5458 - accuracy: 0.9325 - val_loss: 0.6108 - val_accuracy: 0.8407\n",
      "Epoch 86/100\n",
      "2356/2356 [==============================] - 0s 38us/step - loss: 0.5644 - accuracy: 0.9121 - val_loss: 0.5241 - val_accuracy: 0.9661\n",
      "Epoch 87/100\n",
      "2356/2356 [==============================] - 0s 36us/step - loss: 0.5424 - accuracy: 0.9389 - val_loss: 0.6598 - val_accuracy: 0.5051\n",
      "Epoch 88/100\n",
      "2356/2356 [==============================] - 0s 35us/step - loss: 0.5848 - accuracy: 0.8824 - val_loss: 0.5529 - val_accuracy: 0.9085\n",
      "Epoch 89/100\n",
      "2356/2356 [==============================] - 0s 39us/step - loss: 0.5489 - accuracy: 0.9355 - val_loss: 0.5375 - val_accuracy: 0.9542\n",
      "Epoch 90/100\n",
      "2356/2356 [==============================] - 0s 41us/step - loss: 0.5494 - accuracy: 0.9393 - val_loss: 0.5656 - val_accuracy: 0.9153\n",
      "Epoch 91/100\n",
      "2356/2356 [==============================] - 0s 50us/step - loss: 0.5500 - accuracy: 0.9240 - val_loss: 0.6182 - val_accuracy: 0.8237\n",
      "Epoch 92/100\n",
      "2356/2356 [==============================] - 0s 43us/step - loss: 0.5530 - accuracy: 0.9202 - val_loss: 0.5244 - val_accuracy: 0.9627\n",
      "Epoch 93/100\n",
      "2356/2356 [==============================] - 0s 45us/step - loss: 0.5552 - accuracy: 0.9304 - val_loss: 0.5888 - val_accuracy: 0.8763\n",
      "Epoch 94/100\n",
      "2356/2356 [==============================] - 0s 44us/step - loss: 0.5501 - accuracy: 0.9219 - val_loss: 0.5273 - val_accuracy: 0.9525\n",
      "Epoch 95/100\n",
      "2356/2356 [==============================] - 0s 39us/step - loss: 0.5551 - accuracy: 0.9253 - val_loss: 0.5257 - val_accuracy: 0.9644\n",
      "Epoch 96/100\n",
      "2356/2356 [==============================] - 0s 38us/step - loss: 0.5410 - accuracy: 0.9363 - val_loss: 0.5313 - val_accuracy: 0.9458\n",
      "Epoch 97/100\n",
      "2356/2356 [==============================] - 0s 38us/step - loss: 0.5445 - accuracy: 0.9389 - val_loss: 0.5272 - val_accuracy: 0.9627\n",
      "Epoch 98/100\n",
      "2356/2356 [==============================] - 0s 40us/step - loss: 0.5499 - accuracy: 0.9321 - val_loss: 0.5187 - val_accuracy: 0.9627\n",
      "Epoch 99/100\n",
      "2356/2356 [==============================] - 0s 47us/step - loss: 0.5539 - accuracy: 0.9266 - val_loss: 0.5713 - val_accuracy: 0.9119\n",
      "Epoch 100/100\n",
      "2356/2356 [==============================] - 0s 39us/step - loss: 0.5538 - accuracy: 0.9283 - val_loss: 0.5465 - val_accuracy: 0.9085\n"
     ]
    }
   ],
   "source": [
    "from keras.utils import to_categorical\n",
    "\n",
    "# Parameters for fitting with batches and epochs\n",
    "epochs = 100\n",
    "batch_size = 50\n",
    "# Stay with the four logits and do not reduce to one categorical integer\n",
    "y_tr_2 = to_categorical(y_tr)\n",
    "y_val_2 = to_categorical(y_te)\n",
    "\n",
    "# Fit the model\n",
    "history = model.fit(\n",
    "    x=X_tr, y=y_tr_2,\n",
    "    batch_size=batch_size, epochs=epochs,\n",
    "    validation_data=(X_te, y_val_2)\n",
    ")"
   ]
  },
  {
   "cell_type": "code",
   "execution_count": 9,
   "metadata": {},
   "outputs": [
    {
     "data": {
      "text/plain": [
       "(array([[0., 1.],\n",
       "        [1., 0.],\n",
       "        [0., 1.],\n",
       "        ...,\n",
       "        [1., 0.],\n",
       "        [0., 1.],\n",
       "        [0., 1.]], dtype=float32), array([[0., 1.],\n",
       "        [0., 1.],\n",
       "        [0., 1.],\n",
       "        ...,\n",
       "        [0., 1.],\n",
       "        [0., 1.],\n",
       "        [0., 1.]], dtype=float32))"
      ]
     },
     "execution_count": 9,
     "metadata": {},
     "output_type": "execute_result"
    }
   ],
   "source": [
    "y_tr_2, y_val_2"
   ]
  },
  {
   "cell_type": "code",
   "execution_count": 10,
   "metadata": {},
   "outputs": [],
   "source": [
    "#from keras.utils import plot_model\n",
    "\n",
    "#plot_model(model, show_shapes=True, dpi=72)"
   ]
  },
  {
   "cell_type": "code",
   "execution_count": 11,
   "metadata": {},
   "outputs": [
    {
     "data": {
      "image/png": "[encoded data removed]",
      "text/plain": [
       "<Figure size 432x288 with 1 Axes>"
      ]
     },
     "metadata": {
      "needs_background": "light"
     },
     "output_type": "display_data"
    }
   ],
   "source": [
    "import matplotlib.pyplot as plt\n",
    "\n",
    "plt.plot(history.history['accuracy'], label='training accuracy')\n",
    "plt.plot(history.history['val_accuracy'], label='validation accuracy')\n",
    "plt.legend()\n",
    "plt.title(r'Bilayer neural network with lr = {} and $\\alpha=${}'.format(\n",
    "    sgd_learnrate, l2_alpha)\n",
    ")\n",
    "plt.xlabel('epoch')\n",
    "plt.ylabel('accuracy')\n",
    "plt.show()"
   ]
  },
  {
   "cell_type": "code",
   "execution_count": 12,
   "metadata": {},
   "outputs": [
    {
     "name": "stdout",
     "output_type": "stream",
     "text": [
      "Mean last 5 validation accuracy : 0.938\n",
      "Neural network accuracy (test set): 0.908\n"
     ]
    }
   ],
   "source": [
    "import numpy as np\n",
    "\n",
    "no_last = 5 # I take the last 5 due to the upwards shape of the curve at its end\n",
    "print('Mean last {:d} validation accuracy : {:.3f}'.format(\n",
    "    no_last, np.mean(history.history['val_accuracy'][-no_last:])\n",
    "))\n",
    "\n",
    "print('Neural network accuracy (test set): {:.3f}'.format(\n",
    "    model.evaluate(X_te, to_categorical(y_te),\n",
    "                   verbose=0)[1] # Loss is at index=0, accuracy at index=1\n",
    "))"
   ]
  },
  {
   "cell_type": "code",
   "execution_count": 13,
   "metadata": {},
   "outputs": [
    {
     "data": {
      "text/plain": [
       "0"
      ]
     },
     "execution_count": 13,
     "metadata": {},
     "output_type": "execute_result"
    }
   ],
   "source": [
    "y_pred = model.predict_classes(X_te)\n",
    "\n",
    "min(y_pred)"
   ]
  },
  {
   "cell_type": "markdown",
   "metadata": {},
   "source": [
    "### Performance Measurement"
   ]
  },
  {
   "cell_type": "code",
   "execution_count": 14,
   "metadata": {},
   "outputs": [
    {
     "data": {
      "text/plain": [
       "array([[245,  50],\n",
       "       [  4, 291]])"
      ]
     },
     "execution_count": 14,
     "metadata": {},
     "output_type": "execute_result"
    }
   ],
   "source": [
    "from sklearn.metrics import confusion_matrix\n",
    "\n",
    "confusion_matrix(y_te, y_pred)"
   ]
  },
  {
   "cell_type": "code",
   "execution_count": 15,
   "metadata": {},
   "outputs": [
    {
     "name": "stdout",
     "output_type": "stream",
     "text": [
      "Area under the curve 90.8% - accuracy 90.8% - precision 85.3% - recall 98.6%\n"
     ]
    }
   ],
   "source": [
    "from sklearn.metrics import roc_auc_score, accuracy_score, precision_score, recall_score\n",
    "from keras.metrics import accuracy\n",
    "\n",
    "#print('Score {:.1f}%'.format(100*accuracy_score(X_te, y_te)))\n",
    "print('Area under the curve {:.1f}% - accuracy {:.1f}% - precision {:.1f}% - recall {:.1f}%'.format(100*roc_auc_score(y_te, y_pred),\n",
    "                100*accuracy_score(y_te, y_pred),\n",
    "                100*precision_score(y_te, y_pred),\n",
    "                100*recall_score(y_te, y_pred)\n",
    "               ))"
   ]
  },
  {
   "cell_type": "code",
   "execution_count": null,
   "metadata": {},
   "outputs": [],
   "source": []
  },
  {
   "cell_type": "markdown",
   "metadata": {},
   "source": [
    "## Results Handover"
   ]
  },
  {
   "cell_type": "code",
   "execution_count": 16,
   "metadata": {},
   "outputs": [],
   "source": [
    "# Restore results so far\n",
    "df_result = pd.read_pickle(os.path.join(path_goldstandard,\n",
    "                                        'results.pkl'), compression=None)\n"
   ]
  },
  {
   "cell_type": "code",
   "execution_count": 17,
   "metadata": {},
   "outputs": [],
   "source": [
    "# Add result of this section\n",
    "df_result = df_result.append(pd.DataFrame.from_dict({\n",
    "    'model': ['Neural Network'],\n",
    "    'test_score' : [0.0],\n",
    "    'auc' : [100*roc_auc_score(y_te, y_pred)],\n",
    "    'accuracy' : [100*accuracy_score(y_te, y_pred)],\n",
    "    'precision' : [100*precision_score(y_te, y_pred)],\n",
    "    'recall' : [100*recall_score(y_te, y_pred)]\n",
    "}))\n",
    "\n",
    "# Save full DataFrame into pickle file\n",
    "df_result.to_pickle(os.path.join(path_goldstandard,\n",
    "                                 'results.pkl'), compression=None)"
   ]
  },
  {
   "cell_type": "code",
   "execution_count": null,
   "metadata": {},
   "outputs": [],
   "source": []
  }
 ],
 "metadata": {
  "kernelspec": {
   "display_name": "Python 3",
   "language": "python",
   "name": "python3"
  },
  "language_info": {
   "codemirror_mode": {
    "name": "ipython",
    "version": 3
   },
   "file_extension": ".py",
   "mimetype": "text/x-python",
   "name": "python",
   "nbconvert_exporter": "python",
   "pygments_lexer": "ipython3",
   "version": "3.7.1"
  }
 },
 "nbformat": 4,
 "nbformat_minor": 2
}
