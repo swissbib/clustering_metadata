{
 "cells": [
  {
   "cell_type": "markdown",
   "metadata": {},
   "source": [
    "# Load data"
   ]
  },
  {
   "cell_type": "code",
   "execution_count": 1,
   "metadata": {},
   "outputs": [
    {
     "name": "stdout",
     "output_type": "stream",
     "text": [
      "total 2619144\r\n",
      "drwxr-xr-x  11 andreas  staff         352 10 Nov 09:02 \u001b[34m.\u001b[m\u001b[m\r\n",
      "drwxr-xr-x  14 andreas  staff         448 10 Nov 15:03 \u001b[34m..\u001b[m\u001b[m\r\n",
      "-rw-r--r--@  1 andreas  staff        6148 17 Okt 07:12 .DS_Store\r\n",
      "-rw-r--r--@  1 andreas  staff         707 10 Nov 09:01 245.json\r\n",
      "-rw-r--r--@  1 andreas  staff       23276 19 Okt 12:05 defaultdb.json\r\n",
      "-rw-r--r--@  1 andreas  staff        1632 17 Okt 06:56 groesse-cluster.txt\r\n",
      "-rw-r--r--@  1 andreas  staff  1047684690 17 Okt 21:33 job7r4A067.format.xml\r\n",
      "-rw-r--r--@  1 andreas  staff   107358500 10 Nov 09:01 job7r4A1.json\r\n",
      "-rw-r--r--@  1 andreas  staff   150955196 10 Nov 09:01 job7r4A162.json\r\n",
      "-rw-r--r--   1 andreas  staff       22498 18 Okt 21:11 one.xml\r\n",
      "-rw-r--r--@  1 andreas  staff         683 10 Nov 09:01 simple20.json\r\n"
     ]
    }
   ],
   "source": [
    "! ls -la data"
   ]
  },
  {
   "cell_type": "code",
   "execution_count": 2,
   "metadata": {},
   "outputs": [
    {
     "name": "stdout",
     "output_type": "stream",
     "text": [
      "{\"isbn\":\"\",\"ttlfull\":[\"Retail Financial Advice\",\"das ist ein fake\",\"Does One Size Fit All?\"],\"ttlpart\":[\"Retail Financial Advice\",\"das ist ein fake\",\"Does One Size Fit All?\"],\"person\":[\"Foerster\",\"Stephen\",\"Verfasser\",\"aut\",\"Linnainmaa\",\"Juhani T.\",\"Verfasser\",\"aut\",\"Melzer\",\"Brian T.\",\"Verfasser\",\"aut\",\"Previtero\",\"Alessandro\",\"Verfasser\",\"aut\",\"Stephen Foerster, Juhani T. Linnainmaa, Brian T. Melzer, Alessandro Previtero\"],\"corporate\":[],\"pubyear\":\"\",\"decade\":\"234\",\"century\":\"234\",\"exactDate\":\"\",\"edition\":\"\",\"part\":[\"20712\"],\"pages\":[\"20712\"],\"volumes\":\"1 Online-Ressource\",\"pubinit\":\"\",\"pubword\":[],\"scale\":\"Koordinaten in 034b\",\"coordinate\":[],\"doi\":\"\",\"ismn\":\"\",\"musicid\":\"\",\"format\":\"BK020053\"}\r\n"
     ]
    }
   ],
   "source": [
    "! cat ./data/245.json"
   ]
  },
  {
   "cell_type": "code",
   "execution_count": 3,
   "metadata": {
    "scrolled": true
   },
   "outputs": [],
   "source": [
    "import json\n",
    "import pandas as pd\n",
    "#df = pd.read_json('./data/245.json')"
   ]
  },
  {
   "cell_type": "markdown",
   "metadata": {},
   "source": [
    "Reading the data with pandas library, generates an error."
   ]
  },
  {
   "cell_type": "code",
   "execution_count": 4,
   "metadata": {},
   "outputs": [],
   "source": [
    "with open('./data/245.json', 'r') as myfile:\n",
    "    data=myfile.read()\n",
    "\n",
    "obj_simple = json.loads(data)"
   ]
  },
  {
   "cell_type": "code",
   "execution_count": 5,
   "metadata": {},
   "outputs": [
    {
     "data": {
      "text/plain": [
       "dict_keys(['isbn', 'ttlfull', 'ttlpart', 'person', 'corporate', 'pubyear', 'decade', 'century', 'exactDate', 'edition', 'part', 'pages', 'volumes', 'pubinit', 'pubword', 'scale', 'coordinate', 'doi', 'ismn', 'musicid', 'format'])"
      ]
     },
     "execution_count": 5,
     "metadata": {},
     "output_type": "execute_result"
    }
   ],
   "source": [
    "obj_simple.keys()"
   ]
  },
  {
   "cell_type": "code",
   "execution_count": 6,
   "metadata": {},
   "outputs": [
    {
     "data": {
      "text/plain": [
       "dict_values(['', ['Retail Financial Advice', 'das ist ein fake', 'Does One Size Fit All?'], ['Retail Financial Advice', 'das ist ein fake', 'Does One Size Fit All?'], ['Foerster', 'Stephen', 'Verfasser', 'aut', 'Linnainmaa', 'Juhani T.', 'Verfasser', 'aut', 'Melzer', 'Brian T.', 'Verfasser', 'aut', 'Previtero', 'Alessandro', 'Verfasser', 'aut', 'Stephen Foerster, Juhani T. Linnainmaa, Brian T. Melzer, Alessandro Previtero'], [], '', '234', '234', '', '', ['20712'], ['20712'], '1 Online-Ressource', '', [], 'Koordinaten in 034b', [], '', '', '', 'BK020053'])"
      ]
     },
     "execution_count": 6,
     "metadata": {},
     "output_type": "execute_result"
    }
   ],
   "source": [
    "obj_simple.values()"
   ]
  },
  {
   "cell_type": "code",
   "execution_count": 7,
   "metadata": {},
   "outputs": [
    {
     "data": {
      "text/plain": [
       "dict_items([('isbn', ''), ('ttlfull', ['Retail Financial Advice', 'das ist ein fake', 'Does One Size Fit All?']), ('ttlpart', ['Retail Financial Advice', 'das ist ein fake', 'Does One Size Fit All?']), ('person', ['Foerster', 'Stephen', 'Verfasser', 'aut', 'Linnainmaa', 'Juhani T.', 'Verfasser', 'aut', 'Melzer', 'Brian T.', 'Verfasser', 'aut', 'Previtero', 'Alessandro', 'Verfasser', 'aut', 'Stephen Foerster, Juhani T. Linnainmaa, Brian T. Melzer, Alessandro Previtero']), ('corporate', []), ('pubyear', ''), ('decade', '234'), ('century', '234'), ('exactDate', ''), ('edition', ''), ('part', ['20712']), ('pages', ['20712']), ('volumes', '1 Online-Ressource'), ('pubinit', ''), ('pubword', []), ('scale', 'Koordinaten in 034b'), ('coordinate', []), ('doi', ''), ('ismn', ''), ('musicid', ''), ('format', 'BK020053')])"
      ]
     },
     "execution_count": 7,
     "metadata": {},
     "output_type": "execute_result"
    }
   ],
   "source": [
    "obj_simple.items()"
   ]
  },
  {
   "cell_type": "code",
   "execution_count": 8,
   "metadata": {},
   "outputs": [
    {
     "data": {
      "text/plain": [
       "['Foerster',\n",
       " 'Stephen',\n",
       " 'Verfasser',\n",
       " 'aut',\n",
       " 'Linnainmaa',\n",
       " 'Juhani T.',\n",
       " 'Verfasser',\n",
       " 'aut',\n",
       " 'Melzer',\n",
       " 'Brian T.',\n",
       " 'Verfasser',\n",
       " 'aut',\n",
       " 'Previtero',\n",
       " 'Alessandro',\n",
       " 'Verfasser',\n",
       " 'aut',\n",
       " 'Stephen Foerster, Juhani T. Linnainmaa, Brian T. Melzer, Alessandro Previtero']"
      ]
     },
     "execution_count": 8,
     "metadata": {},
     "output_type": "execute_result"
    }
   ],
   "source": [
    "obj_simple['person']"
   ]
  },
  {
   "cell_type": "markdown",
   "metadata": {},
   "source": [
    "How about a whole bunch of records?"
   ]
  },
  {
   "cell_type": "code",
   "execution_count": 9,
   "metadata": {},
   "outputs": [],
   "source": [
    "#with open('./data/job7r4A1.json', 'r') as myfile:\n",
    "#    data=myfile.read()\n",
    "    \n",
    "#obj_complex = json.loads(data)"
   ]
  },
  {
   "cell_type": "markdown",
   "metadata": {},
   "source": [
    "Generates an error on the 2nd line."
   ]
  },
  {
   "cell_type": "code",
   "execution_count": 10,
   "metadata": {},
   "outputs": [],
   "source": [
    "#with open('./data/job7r4A1.json') as myfile:\n",
    "#    data = json.load(myfile)"
   ]
  },
  {
   "cell_type": "markdown",
   "metadata": {},
   "source": [
    "Same as above : error on second line."
   ]
  },
  {
   "cell_type": "code",
   "execution_count": 11,
   "metadata": {},
   "outputs": [
    {
     "data": {
      "text/plain": [
       "126921"
      ]
     },
     "execution_count": 11,
     "metadata": {},
     "output_type": "execute_result"
    }
   ],
   "source": [
    "records2 = []\n",
    "for line in open('./data/job7r4A162.json', 'r'):\n",
    "    records2.append(json.loads(line))\n",
    "\n",
    "len(records2)"
   ]
  },
  {
   "cell_type": "code",
   "execution_count": 12,
   "metadata": {
    "scrolled": false
   },
   "outputs": [
    {
     "data": {
      "text/plain": [
       "183407"
      ]
     },
     "execution_count": 12,
     "metadata": {},
     "output_type": "execute_result"
    }
   ],
   "source": [
    "records = []\n",
    "for line in open('./data/job7r4A1.json', 'r'):\n",
    "    records.append(json.loads(line))\n",
    "\n",
    "len(records)"
   ]
  },
  {
   "cell_type": "code",
   "execution_count": 13,
   "metadata": {},
   "outputs": [
    {
     "data": {
      "text/plain": [
       "{'century': '12',\n",
       " 'coordinate': [],\n",
       " 'corporate': [],\n",
       " 'decade': '12',\n",
       " 'doi': '',\n",
       " 'edition': '',\n",
       " 'exactDate': '',\n",
       " 'format': 'BK020000',\n",
       " 'isbn': '',\n",
       " 'ismn': '',\n",
       " 'musicid': '',\n",
       " 'pages': [],\n",
       " 'part': [],\n",
       " 'person': ['Schluchter', 'André', 'André Schluchter'],\n",
       " 'pubinit': '',\n",
       " 'pubword': [],\n",
       " 'pubyear': '',\n",
       " 'scale': '',\n",
       " 'ttlfull': ['Die Feist von Kienberg',\n",
       "  'eine Wasenmeisterfamilie im Ancien Régime zwischen Ehrbarkeit und Delinquenz'],\n",
       " 'ttlpart': ['Die Feist von Kienberg',\n",
       "  'eine Wasenmeisterfamilie im Ancien Régime zwischen Ehrbarkeit und Delinquenz'],\n",
       " 'volumes': 'S. 102-114'}"
      ]
     },
     "execution_count": 13,
     "metadata": {},
     "output_type": "execute_result"
    }
   ],
   "source": [
    "records[0]"
   ]
  },
  {
   "cell_type": "code",
   "execution_count": 14,
   "metadata": {},
   "outputs": [
    {
     "data": {
      "text/html": [
       "<div>\n",
       "<style scoped>\n",
       "    .dataframe tbody tr th:only-of-type {\n",
       "        vertical-align: middle;\n",
       "    }\n",
       "\n",
       "    .dataframe tbody tr th {\n",
       "        vertical-align: top;\n",
       "    }\n",
       "\n",
       "    .dataframe thead th {\n",
       "        text-align: right;\n",
       "    }\n",
       "</style>\n",
       "<table border=\"1\" class=\"dataframe\">\n",
       "  <thead>\n",
       "    <tr style=\"text-align: right;\">\n",
       "      <th></th>\n",
       "      <th>century</th>\n",
       "      <th>coordinate</th>\n",
       "      <th>corporate</th>\n",
       "      <th>decade</th>\n",
       "      <th>doi</th>\n",
       "      <th>edition</th>\n",
       "      <th>exactDate</th>\n",
       "      <th>format</th>\n",
       "      <th>isbn</th>\n",
       "      <th>ismn</th>\n",
       "      <th>musicid</th>\n",
       "      <th>pages</th>\n",
       "      <th>part</th>\n",
       "      <th>person</th>\n",
       "      <th>pubinit</th>\n",
       "      <th>pubword</th>\n",
       "      <th>pubyear</th>\n",
       "      <th>scale</th>\n",
       "      <th>ttlfull</th>\n",
       "      <th>ttlpart</th>\n",
       "      <th>volumes</th>\n",
       "    </tr>\n",
       "  </thead>\n",
       "  <tbody>\n",
       "    <tr>\n",
       "      <th>0</th>\n",
       "      <td>12</td>\n",
       "      <td>[]</td>\n",
       "      <td>[]</td>\n",
       "      <td>12</td>\n",
       "      <td></td>\n",
       "      <td></td>\n",
       "      <td></td>\n",
       "      <td>BK020000</td>\n",
       "      <td></td>\n",
       "      <td></td>\n",
       "      <td></td>\n",
       "      <td>[]</td>\n",
       "      <td>[]</td>\n",
       "      <td>[Schluchter, André, André Schluchter]</td>\n",
       "      <td></td>\n",
       "      <td>[]</td>\n",
       "      <td></td>\n",
       "      <td></td>\n",
       "      <td>[Die Feist von Kienberg, eine Wasenmeisterfami...</td>\n",
       "      <td>[Die Feist von Kienberg, eine Wasenmeisterfami...</td>\n",
       "      <td>S. 102-114</td>\n",
       "    </tr>\n",
       "    <tr>\n",
       "      <th>1</th>\n",
       "      <td>123456</td>\n",
       "      <td>[]</td>\n",
       "      <td>[]</td>\n",
       "      <td>123456</td>\n",
       "      <td></td>\n",
       "      <td></td>\n",
       "      <td></td>\n",
       "      <td>BK020000</td>\n",
       "      <td></td>\n",
       "      <td></td>\n",
       "      <td></td>\n",
       "      <td>[]</td>\n",
       "      <td>[]</td>\n",
       "      <td>[Naegeli, Werner, von Werner Naegeli]</td>\n",
       "      <td></td>\n",
       "      <td>[]</td>\n",
       "      <td></td>\n",
       "      <td></td>\n",
       "      <td>[Reimereien]</td>\n",
       "      <td>[Reimereien]</td>\n",
       "      <td>43 S.</td>\n",
       "    </tr>\n",
       "    <tr>\n",
       "      <th>2</th>\n",
       "      <td>123</td>\n",
       "      <td>[]</td>\n",
       "      <td>[]</td>\n",
       "      <td>123</td>\n",
       "      <td></td>\n",
       "      <td></td>\n",
       "      <td></td>\n",
       "      <td>BK020000</td>\n",
       "      <td></td>\n",
       "      <td></td>\n",
       "      <td></td>\n",
       "      <td>[]</td>\n",
       "      <td>[]</td>\n",
       "      <td>[Kelly, M.V., Geniesse, J.B., M.V. Kelly et J....</td>\n",
       "      <td></td>\n",
       "      <td>[]</td>\n",
       "      <td></td>\n",
       "      <td></td>\n",
       "      <td>[Efficax antidotum ad matrimonia mixta praecav...</td>\n",
       "      <td>[Efficax antidotum ad matrimonia mixta praecav...</td>\n",
       "      <td>75 p.</td>\n",
       "    </tr>\n",
       "    <tr>\n",
       "      <th>3</th>\n",
       "      <td>1234567</td>\n",
       "      <td>[]</td>\n",
       "      <td>[]</td>\n",
       "      <td>1234567</td>\n",
       "      <td></td>\n",
       "      <td></td>\n",
       "      <td></td>\n",
       "      <td>BK020000</td>\n",
       "      <td></td>\n",
       "      <td></td>\n",
       "      <td></td>\n",
       "      <td>[]</td>\n",
       "      <td>[]</td>\n",
       "      <td>[Wegelin, Walter, ]</td>\n",
       "      <td></td>\n",
       "      <td>[]</td>\n",
       "      <td></td>\n",
       "      <td></td>\n",
       "      <td>[Probleme der Inflationsbekämpfung, Referat vo...</td>\n",
       "      <td>[Probleme der Inflationsbekämpfung, Referat vo...</td>\n",
       "      <td>24 S.</td>\n",
       "    </tr>\n",
       "    <tr>\n",
       "      <th>4</th>\n",
       "      <td>1</td>\n",
       "      <td>[]</td>\n",
       "      <td>[]</td>\n",
       "      <td>1</td>\n",
       "      <td></td>\n",
       "      <td></td>\n",
       "      <td></td>\n",
       "      <td>BK020000</td>\n",
       "      <td></td>\n",
       "      <td></td>\n",
       "      <td></td>\n",
       "      <td>[]</td>\n",
       "      <td>[]</td>\n",
       "      <td>[Oberlin, Urs, Urs Oberlin ; translated from t...</td>\n",
       "      <td></td>\n",
       "      <td>[]</td>\n",
       "      <td></td>\n",
       "      <td></td>\n",
       "      <td>[[Poems]]</td>\n",
       "      <td>[[Poems]]</td>\n",
       "      <td>p. 14-15</td>\n",
       "    </tr>\n",
       "  </tbody>\n",
       "</table>\n",
       "</div>"
      ],
      "text/plain": [
       "   century coordinate corporate   decade doi edition exactDate    format isbn  \\\n",
       "0       12         []        []       12                        BK020000        \n",
       "1   123456         []        []   123456                        BK020000        \n",
       "2      123         []        []      123                        BK020000        \n",
       "3  1234567         []        []  1234567                        BK020000        \n",
       "4        1         []        []        1                        BK020000        \n",
       "\n",
       "  ismn musicid pages part                                             person  \\\n",
       "0                 []   []              [Schluchter, André, André Schluchter]   \n",
       "1                 []   []              [Naegeli, Werner, von Werner Naegeli]   \n",
       "2                 []   []  [Kelly, M.V., Geniesse, J.B., M.V. Kelly et J....   \n",
       "3                 []   []                                [Wegelin, Walter, ]   \n",
       "4                 []   []  [Oberlin, Urs, Urs Oberlin ; translated from t...   \n",
       "\n",
       "  pubinit pubword pubyear scale  \\\n",
       "0              []                 \n",
       "1              []                 \n",
       "2              []                 \n",
       "3              []                 \n",
       "4              []                 \n",
       "\n",
       "                                             ttlfull  \\\n",
       "0  [Die Feist von Kienberg, eine Wasenmeisterfami...   \n",
       "1                                       [Reimereien]   \n",
       "2  [Efficax antidotum ad matrimonia mixta praecav...   \n",
       "3  [Probleme der Inflationsbekämpfung, Referat vo...   \n",
       "4                                          [[Poems]]   \n",
       "\n",
       "                                             ttlpart     volumes  \n",
       "0  [Die Feist von Kienberg, eine Wasenmeisterfami...  S. 102-114  \n",
       "1                                       [Reimereien]       43 S.  \n",
       "2  [Efficax antidotum ad matrimonia mixta praecav...       75 p.  \n",
       "3  [Probleme der Inflationsbekämpfung, Referat vo...       24 S.  \n",
       "4                                          [[Poems]]    p. 14-15  "
      ]
     },
     "execution_count": 14,
     "metadata": {},
     "output_type": "execute_result"
    }
   ],
   "source": [
    "df = pd.DataFrame(records)\n",
    "\n",
    "# Extend display to number of columns of DataFrame\n",
    "pd.options.display.max_columns = len(df.columns)\n",
    "\n",
    "df.head()"
   ]
  },
  {
   "cell_type": "markdown",
   "metadata": {},
   "source": [
    "## Data analysis"
   ]
  },
  {
   "cell_type": "code",
   "execution_count": 15,
   "metadata": {},
   "outputs": [
    {
     "name": "stdout",
     "output_type": "stream",
     "text": [
      "<class 'pandas.core.frame.DataFrame'>\n",
      "RangeIndex: 183407 entries, 0 to 183406\n",
      "Data columns (total 21 columns):\n",
      "century       183407 non-null object\n",
      "coordinate    183407 non-null object\n",
      "corporate     183407 non-null object\n",
      "decade        183407 non-null object\n",
      "doi           183407 non-null object\n",
      "edition       183407 non-null object\n",
      "exactDate     183407 non-null object\n",
      "format        183407 non-null object\n",
      "isbn          183407 non-null object\n",
      "ismn          183407 non-null object\n",
      "musicid       183407 non-null object\n",
      "pages         183407 non-null object\n",
      "part          183407 non-null object\n",
      "person        183407 non-null object\n",
      "pubinit       183407 non-null object\n",
      "pubword       183407 non-null object\n",
      "pubyear       183407 non-null object\n",
      "scale         183407 non-null object\n",
      "ttlfull       183407 non-null object\n",
      "ttlpart       183407 non-null object\n",
      "volumes       183407 non-null object\n",
      "dtypes: object(21)\n",
      "memory usage: 29.4+ MB\n"
     ]
    }
   ],
   "source": [
    "df.info()"
   ]
  },
  {
   "cell_type": "code",
   "execution_count": 16,
   "metadata": {},
   "outputs": [
    {
     "data": {
      "text/plain": [
       "array(['', '2. Aufl', '2.umgearb.Aufl', ..., '1. - 5. Tausend',\n",
       "       '3rd ed. 2018', 'First Savas Beatie edition'], dtype=object)"
      ]
     },
     "execution_count": 16,
     "metadata": {},
     "output_type": "execute_result"
    }
   ],
   "source": [
    "df.edition.unique()"
   ]
  },
  {
   "cell_type": "markdown",
   "metadata": {},
   "source": [
    "## Author"
   ]
  },
  {
   "cell_type": "code",
   "execution_count": 17,
   "metadata": {},
   "outputs": [
    {
     "data": {
      "text/plain": [
       "0                     [Schluchter, André, André Schluchter]\n",
       "1                     [Naegeli, Werner, von Werner Naegeli]\n",
       "2         [Kelly, M.V., Geniesse, J.B., M.V. Kelly et J....\n",
       "3                                       [Wegelin, Walter, ]\n",
       "4         [Oberlin, Urs, Urs Oberlin ; translated from t...\n",
       "5                         [Amrein, René, Hrg.: René Amrein]\n",
       "6                                                        []\n",
       "7                                   [Schultz, William L., ]\n",
       "8         [Gossen, Carl Theodor, 1915-1983, (DE-588)1721...\n",
       "9                              [Schirmer, Laurenz August, ]\n",
       "10                                [Dätwyler-Gamma, Adolf, ]\n",
       "11                                                       []\n",
       "12                                          [Jöhr, Adolf, ]\n",
       "13        [Moos, Franz, Symington, Rodney, von Franz Moo...\n",
       "14        [Banholzer, Max, 1926-2005, (DE-588)130813206,...\n",
       "15                      [Marsiano, Angelo, Angelo Marsiano]\n",
       "16        [Stocker-Kappeler, Werner, von Werner Stocker-...\n",
       "17                        [Pepi, Salvatore, Salvatore Pepi]\n",
       "18                    [Schluchter, André, André Schluchter]\n",
       "19        [Hartmann, Günther, Günther Hartmann ; [Fotos:...\n",
       "20        [Chagall, Marc, 1887-1985, (DE-588)118519980, ...\n",
       "21        [Weigl, Franz, Zinkl, Johann, Kozics, Ernst, [...\n",
       "22        [Weigl, Franz, Zinkl, Johann, Kozics, Ernst, [...\n",
       "23                            [Hofer, Rudolf, Rudolf Hofer]\n",
       "24                       [Senn, Hermann, Hermann Senn-Heid]\n",
       "25        [Thomas, von Aquin, Heiliger, 1225-1274, (DE-5...\n",
       "26        [Stohler, Franz, gesammelt und verf. von Franz...\n",
       "27        [Müller, Christian Adolf, 1903-1974, (DE-588)1...\n",
       "28        [Moser, Ludwig Gottfried, von Ludwig Gottfried...\n",
       "29        [Innozenz, III, Papst, 1160-1216, (DE-588)1185...\n",
       "                                ...                        \n",
       "183377    [Gad, Ahmed Fawzy, Verfasser, aut, aut, http:/...\n",
       "183378    [Zirker, Angelika, (DE-588)141634219, Verfasse...\n",
       "183379    [Flückiger, Aline, auteur, aut, Varga, Peter, ...\n",
       "183380    [Ramasubramanian, Karthik, Verfasser, aut, aut...\n",
       "183381    [de Girolamo, Giovanni, Herausgeber, edt, edt,...\n",
       "183382    [Castillo, Oscar, Verfasser, aut, aut, http://...\n",
       "183383    [Lacruz, César R., Verfasser, aut, aut, http:/...\n",
       "183384    [Goswami, Ambarish, Herausgeber, edt, edt, htt...\n",
       "183385    [880-05, Huang, Yonghui, Herausgeber, edt, Hua...\n",
       "183386      [Gloor, Selina, Verfasser, aut, [Selina Gloor]]\n",
       "183387          [Blum, Robert, Verfasser, aut, Robert Blum]\n",
       "183388    [Mar Ka, (DE-588)1185826874, Verfasser, aut, p...\n",
       "183389    [Strand, Marcus, Herausgeber, edt, edt, http:/...\n",
       "183390    [Rohmeyer, Paul, Verfasser, aut, aut, http://i...\n",
       "183391    [Staicu, Stefan, Verfasser, aut, aut, http://i...\n",
       "183392    [McDermott, Rachel Fell, 1959-, (DE-588)139814...\n",
       "183393                                                   []\n",
       "183394    [Olguín Díaz, Ernesto, Verfasser, aut, aut, ht...\n",
       "183395    [880-01, Kellermann, Bernhard, 1879-1951, (DE-...\n",
       "183396                                                   []\n",
       "183397                                                   []\n",
       "183398                                                   []\n",
       "183399    [Dijkman, Bea L., Herausgeber, edt, edt, http:...\n",
       "183400    [Rankin, Elizabeth, (DE-588)133409627, Verfass...\n",
       "183401    [Réchauchère, Olivier, Herausgeber, edt, edt, ...\n",
       "183402    [Shaw, George H., Verfasser, aut, aut, http://...\n",
       "183403    [Beyerer, Jürgen, Herausgeber, edt, edt, http:...\n",
       "183404    [Amrein, Wilhelm, 1872-1946, (DE-588)116302429...\n",
       "183405                [Bach, Meike, Idee & Ill. Meike Bach]\n",
       "183406    [Sukartiko, Anggoro Cahyo, Herausgeber, edt, e...\n",
       "Name: person, Length: 183407, dtype: object"
      ]
     },
     "execution_count": 17,
     "metadata": {},
     "output_type": "execute_result"
    }
   ],
   "source": [
    "df.person"
   ]
  },
  {
   "cell_type": "code",
   "execution_count": 18,
   "metadata": {},
   "outputs": [
    {
     "data": {
      "text/plain": [
       "(['Schluchter', 'André', 'André Schluchter'],\n",
       " ['Gossen', 'Carl Theodor', '1915-1983', '(DE-588)172102251', ''])"
      ]
     },
     "execution_count": 18,
     "metadata": {},
     "output_type": "execute_result"
    }
   ],
   "source": [
    "df.person[0], df.person[8]"
   ]
  },
  {
   "cell_type": "markdown",
   "metadata": {},
   "source": [
    "Not too simple ...\n",
    ":-|"
   ]
  },
  {
   "cell_type": "markdown",
   "metadata": {},
   "source": [
    "## Titel"
   ]
  },
  {
   "cell_type": "code",
   "execution_count": 19,
   "metadata": {},
   "outputs": [
    {
     "data": {
      "text/plain": [
       "(['Die Feist von Kienberg',\n",
       "  'eine Wasenmeisterfamilie im Ancien Régime zwischen Ehrbarkeit und Delinquenz'],\n",
       " ['Die Feist von Kienberg',\n",
       "  'eine Wasenmeisterfamilie im Ancien Régime zwischen Ehrbarkeit und Delinquenz'])"
      ]
     },
     "execution_count": 19,
     "metadata": {},
     "output_type": "execute_result"
    }
   ],
   "source": [
    "df.ttlfull[0], df.ttlpart[0]"
   ]
  },
  {
   "cell_type": "code",
   "execution_count": 20,
   "metadata": {},
   "outputs": [
    {
     "data": {
      "text/plain": [
       "(['25 Jahre Micafil',\n",
       "  '1918-1943 : Jubiläumsschrift',\n",
       "  'Fünfundzwanzig Jahre Micafil'],\n",
       " ['25 Jahre Micafil', '1918-1943 : Jubiläumsschrift'])"
      ]
     },
     "execution_count": 20,
     "metadata": {},
     "output_type": "execute_result"
    }
   ],
   "source": [
    "titel_diff_idx = df.ttlfull[df.ttlfull != df.ttlpart].index\n",
    "\n",
    "df.ttlfull[titel_diff_idx[0]], df.ttlpart[titel_diff_idx[0]]"
   ]
  },
  {
   "cell_type": "markdown",
   "metadata": {},
   "source": [
    "A lot of data manipulation and data cleaning is waiting."
   ]
  },
  {
   "cell_type": "code",
   "execution_count": null,
   "metadata": {},
   "outputs": [],
   "source": []
  }
 ],
 "metadata": {
  "kernelspec": {
   "display_name": "Python 3",
   "language": "python",
   "name": "python3"
  },
  "language_info": {
   "codemirror_mode": {
    "name": "ipython",
    "version": 3
   },
   "file_extension": ".py",
   "mimetype": "text/x-python",
   "name": "python",
   "nbconvert_exporter": "python",
   "pygments_lexer": "ipython3",
   "version": "3.6.4"
  }
 },
 "nbformat": 4,
 "nbformat_minor": 2
}
